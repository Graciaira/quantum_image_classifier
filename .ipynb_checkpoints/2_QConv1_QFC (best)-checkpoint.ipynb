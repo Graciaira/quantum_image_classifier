{
 "cells": [
  {
   "cell_type": "code",
   "execution_count": 23,
   "metadata": {
    "colab": {
     "base_uri": "https://localhost:8080/"
    },
    "executionInfo": {
     "elapsed": 18659,
     "status": "ok",
     "timestamp": 1610382574744,
     "user": {
      "displayName": "Eraraya Ricardo Muten",
      "photoUrl": "https://lh3.googleusercontent.com/a-/AOh14Ggpw7xw-lyk6u6l92QjpI7MlI7qjJuuciCpwrUd=s64",
      "userId": "03770692095188133952"
     },
     "user_tz": -420
    },
    "id": "e4abR9zSaWNk",
    "outputId": "0c32d57f-a411-4648-8144-7db8ae862454"
   },
   "outputs": [
    {
     "name": "stdout",
     "output_type": "stream",
     "text": [
      "/content/drive\n",
      "Mounted at /content/drive\n"
     ]
    }
   ],
   "source": [
    "# Mount Google Drive\n",
    "from google.colab import drive # import drive from google colab\n",
    " \n",
    "ROOT = \"/content/drive\"     # default location for the drive\n",
    "print(ROOT)                 # print content of ROOT (Optional)\n",
    " \n",
    "drive.mount(ROOT)           # we mount the google drive at /content/drive"
   ]
  },
  {
   "cell_type": "code",
   "execution_count": 33,
   "metadata": {
    "colab": {
     "base_uri": "https://localhost:8080/"
    },
    "executionInfo": {
     "elapsed": 1573,
     "status": "ok",
     "timestamp": 1610382829592,
     "user": {
      "displayName": "Eraraya Ricardo Muten",
      "photoUrl": "https://lh3.googleusercontent.com/a-/AOh14Ggpw7xw-lyk6u6l92QjpI7MlI7qjJuuciCpwrUd=s64",
      "userId": "03770692095188133952"
     },
     "user_tz": -420
    },
    "id": "rYQ5KUgrSClH",
    "outputId": "a4f91034-cf58-4cbc-bd3b-9a68557f9591"
   },
   "outputs": [
    {
     "name": "stdout",
     "output_type": "stream",
     "text": [
      "/content/drive/My Drive/Projects/quantum_image_classifier/PennyLane/Data Reuploading Classifier\n"
     ]
    }
   ],
   "source": [
    "%cd \"/content/drive/My Drive/Projects/quantum_image_classifier/PennyLane/Data Reuploading Classifier\""
   ]
  },
  {
   "cell_type": "code",
   "execution_count": 1,
   "metadata": {
    "executionInfo": {
     "elapsed": 5512,
     "status": "ok",
     "timestamp": 1610357980284,
     "user": {
      "displayName": "Eraraya Ricardo Muten",
      "photoUrl": "https://lh3.googleusercontent.com/a-/AOh14Ggpw7xw-lyk6u6l92QjpI7MlI7qjJuuciCpwrUd=s64",
      "userId": "03770692095188133952"
     },
     "user_tz": -420
    },
    "id": "gk5AKGKcYGOo"
   },
   "outputs": [],
   "source": [
    "!pip install pennylane\n",
    "from IPython.display import clear_output\n",
    "clear_output()"
   ]
  },
  {
   "cell_type": "code",
   "execution_count": null,
   "metadata": {
    "id": "GigSJusGbx1b"
   },
   "outputs": [],
   "source": [
    "import os\n",
    "\n",
    "def restart_runtime():\n",
    "  os.kill(os.getpid(), 9)\n",
    "restart_runtime()"
   ]
  },
  {
   "cell_type": "code",
   "execution_count": 1,
   "metadata": {
    "executionInfo": {
     "elapsed": 855,
     "status": "ok",
     "timestamp": 1610357982999,
     "user": {
      "displayName": "Eraraya Ricardo Muten",
      "photoUrl": "https://lh3.googleusercontent.com/a-/AOh14Ggpw7xw-lyk6u6l92QjpI7MlI7qjJuuciCpwrUd=s64",
      "userId": "03770692095188133952"
     },
     "user_tz": -420
    },
    "id": "HoLmJLkIX810"
   },
   "outputs": [],
   "source": [
    "# %matplotlib inline\n",
    "import matplotlib.pyplot as plt\n",
    "from mpl_toolkits.axes_grid1 import make_axes_locatable\n",
    "\n",
    "import numpy as np"
   ]
  },
  {
   "cell_type": "markdown",
   "metadata": {
    "id": "vZFNOwFXoY8N"
   },
   "source": [
    "# Loading Raw Data"
   ]
  },
  {
   "cell_type": "code",
   "execution_count": 2,
   "metadata": {
    "colab": {
     "base_uri": "https://localhost:8080/"
    },
    "executionInfo": {
     "elapsed": 3065,
     "status": "ok",
     "timestamp": 1610357986720,
     "user": {
      "displayName": "Eraraya Ricardo Muten",
      "photoUrl": "https://lh3.googleusercontent.com/a-/AOh14Ggpw7xw-lyk6u6l92QjpI7MlI7qjJuuciCpwrUd=s64",
      "userId": "03770692095188133952"
     },
     "user_tz": -420
    },
    "id": "IvdFsGCVof9g",
    "outputId": "57b0c866-93c0-45e7-a833-90119b85cf6c"
   },
   "outputs": [],
   "source": [
    "import tensorflow as tf\n",
    "\n",
    "(x_train, y_train), (x_test, y_test) = tf.keras.datasets.mnist.load_data()\n",
    "\n",
    "x_train = x_train[:, 0:27, 0:27]\n",
    "x_test = x_test[:, 0:27, 0:27]"
   ]
  },
  {
   "cell_type": "code",
   "execution_count": 3,
   "metadata": {
    "executionInfo": {
     "elapsed": 1254,
     "status": "ok",
     "timestamp": 1610357989363,
     "user": {
      "displayName": "Eraraya Ricardo Muten",
      "photoUrl": "https://lh3.googleusercontent.com/a-/AOh14Ggpw7xw-lyk6u6l92QjpI7MlI7qjJuuciCpwrUd=s64",
      "userId": "03770692095188133952"
     },
     "user_tz": -420
    },
    "id": "c6zvGFvIoxAN"
   },
   "outputs": [],
   "source": [
    "x_train_flatten = x_train.reshape(x_train.shape[0], x_train.shape[1]*x_train.shape[2])/255.0\n",
    "x_test_flatten = x_test.reshape(x_test.shape[0], x_test.shape[1]*x_test.shape[2])/255.0"
   ]
  },
  {
   "cell_type": "code",
   "execution_count": 4,
   "metadata": {
    "colab": {
     "base_uri": "https://localhost:8080/"
    },
    "executionInfo": {
     "elapsed": 996,
     "status": "ok",
     "timestamp": 1610357989364,
     "user": {
      "displayName": "Eraraya Ricardo Muten",
      "photoUrl": "https://lh3.googleusercontent.com/a-/AOh14Ggpw7xw-lyk6u6l92QjpI7MlI7qjJuuciCpwrUd=s64",
      "userId": "03770692095188133952"
     },
     "user_tz": -420
    },
    "id": "Rmj1dzaso00h",
    "outputId": "e6c46dd3-4962-4412-8c06-7ccc3a10679a"
   },
   "outputs": [
    {
     "name": "stdout",
     "output_type": "stream",
     "text": [
      "(60000, 729) (60000,)\n",
      "(10000, 729) (10000,)\n"
     ]
    }
   ],
   "source": [
    "print(x_train_flatten.shape, y_train.shape)\n",
    "print(x_test_flatten.shape, y_test.shape)"
   ]
  },
  {
   "cell_type": "code",
   "execution_count": 5,
   "metadata": {
    "colab": {
     "base_uri": "https://localhost:8080/"
    },
    "executionInfo": {
     "elapsed": 932,
     "status": "ok",
     "timestamp": 1610357989714,
     "user": {
      "displayName": "Eraraya Ricardo Muten",
      "photoUrl": "https://lh3.googleusercontent.com/a-/AOh14Ggpw7xw-lyk6u6l92QjpI7MlI7qjJuuciCpwrUd=s64",
      "userId": "03770692095188133952"
     },
     "user_tz": -420
    },
    "id": "d10VoIC6o5_I",
    "outputId": "0732b267-d0a4-47cd-c1b4-28acd63e5bf8"
   },
   "outputs": [
    {
     "name": "stdout",
     "output_type": "stream",
     "text": [
      "(5923, 729)\n",
      "(6742, 729)\n",
      "(5958, 729)\n",
      "(6131, 729)\n",
      "(5842, 729)\n",
      "(5421, 729)\n",
      "(5918, 729)\n",
      "(6265, 729)\n",
      "(5851, 729)\n",
      "(5949, 729)\n"
     ]
    }
   ],
   "source": [
    "x_train_0 = x_train_flatten[y_train == 0]\n",
    "x_train_1 = x_train_flatten[y_train == 1]\n",
    "x_train_2 = x_train_flatten[y_train == 2]\n",
    "x_train_3 = x_train_flatten[y_train == 3]\n",
    "x_train_4 = x_train_flatten[y_train == 4]\n",
    "x_train_5 = x_train_flatten[y_train == 5]\n",
    "x_train_6 = x_train_flatten[y_train == 6]\n",
    "x_train_7 = x_train_flatten[y_train == 7]\n",
    "x_train_8 = x_train_flatten[y_train == 8]\n",
    "x_train_9 = x_train_flatten[y_train == 9]\n",
    "\n",
    "x_train_list = [x_train_0, x_train_1, x_train_2, x_train_3, x_train_4, x_train_5, x_train_6, x_train_7, x_train_8, x_train_9]\n",
    "\n",
    "print(x_train_0.shape)\n",
    "print(x_train_1.shape)\n",
    "print(x_train_2.shape)\n",
    "print(x_train_3.shape)\n",
    "print(x_train_4.shape)\n",
    "print(x_train_5.shape)\n",
    "print(x_train_6.shape)\n",
    "print(x_train_7.shape)\n",
    "print(x_train_8.shape)\n",
    "print(x_train_9.shape)"
   ]
  },
  {
   "cell_type": "code",
   "execution_count": 6,
   "metadata": {
    "colab": {
     "base_uri": "https://localhost:8080/"
    },
    "executionInfo": {
     "elapsed": 932,
     "status": "ok",
     "timestamp": 1610357990859,
     "user": {
      "displayName": "Eraraya Ricardo Muten",
      "photoUrl": "https://lh3.googleusercontent.com/a-/AOh14Ggpw7xw-lyk6u6l92QjpI7MlI7qjJuuciCpwrUd=s64",
      "userId": "03770692095188133952"
     },
     "user_tz": -420
    },
    "id": "snFw4LqepFOl",
    "outputId": "6fa81d41-9174-4053-b2db-c4933edfcab8"
   },
   "outputs": [
    {
     "name": "stdout",
     "output_type": "stream",
     "text": [
      "(980, 729)\n",
      "(1135, 729)\n",
      "(1032, 729)\n",
      "(1010, 729)\n",
      "(982, 729)\n",
      "(892, 729)\n",
      "(958, 729)\n",
      "(1028, 729)\n",
      "(974, 729)\n",
      "(1009, 729)\n"
     ]
    }
   ],
   "source": [
    "x_test_0 = x_test_flatten[y_test == 0]\n",
    "x_test_1 = x_test_flatten[y_test == 1]\n",
    "x_test_2 = x_test_flatten[y_test == 2]\n",
    "x_test_3 = x_test_flatten[y_test == 3]\n",
    "x_test_4 = x_test_flatten[y_test == 4]\n",
    "x_test_5 = x_test_flatten[y_test == 5]\n",
    "x_test_6 = x_test_flatten[y_test == 6]\n",
    "x_test_7 = x_test_flatten[y_test == 7]\n",
    "x_test_8 = x_test_flatten[y_test == 8]\n",
    "x_test_9 = x_test_flatten[y_test == 9]\n",
    "\n",
    "x_test_list = [x_test_0, x_test_1, x_test_2, x_test_3, x_test_4, x_test_5, x_test_6, x_test_7, x_test_8, x_test_9]\n",
    "\n",
    "print(x_test_0.shape)\n",
    "print(x_test_1.shape)\n",
    "print(x_test_2.shape)\n",
    "print(x_test_3.shape)\n",
    "print(x_test_4.shape)\n",
    "print(x_test_5.shape)\n",
    "print(x_test_6.shape)\n",
    "print(x_test_7.shape)\n",
    "print(x_test_8.shape)\n",
    "print(x_test_9.shape)"
   ]
  },
  {
   "cell_type": "markdown",
   "metadata": {
    "id": "SAxUS6Lhp95g"
   },
   "source": [
    "# Selecting the dataset\n",
    "\n",
    "Output: X_train, Y_train, X_test, Y_test"
   ]
  },
  {
   "cell_type": "code",
   "execution_count": 21,
   "metadata": {
    "colab": {
     "base_uri": "https://localhost:8080/"
    },
    "executionInfo": {
     "elapsed": 832,
     "status": "ok",
     "timestamp": 1610357995835,
     "user": {
      "displayName": "Eraraya Ricardo Muten",
      "photoUrl": "https://lh3.googleusercontent.com/a-/AOh14Ggpw7xw-lyk6u6l92QjpI7MlI7qjJuuciCpwrUd=s64",
      "userId": "03770692095188133952"
     },
     "user_tz": -420
    },
    "id": "f--pX5Oto_XB",
    "outputId": "3a0814dc-fa71-4a5b-cc07-701a022af134"
   },
   "outputs": [
    {
     "data": {
      "text/plain": [
       "((400, 729), (400,))"
      ]
     },
     "execution_count": 21,
     "metadata": {},
     "output_type": "execute_result"
    }
   ],
   "source": [
    "X_train = np.concatenate((x_train_list[0][:200, :], x_train_list[1][:200, :]), axis=0)\n",
    "Y_train = np.zeros((X_train.shape[0],), dtype=int)\n",
    "Y_train[200:] += 1\n",
    "\n",
    "X_train.shape, Y_train.shape"
   ]
  },
  {
   "cell_type": "code",
   "execution_count": 22,
   "metadata": {
    "colab": {
     "base_uri": "https://localhost:8080/"
    },
    "executionInfo": {
     "elapsed": 573,
     "status": "ok",
     "timestamp": 1610357996969,
     "user": {
      "displayName": "Eraraya Ricardo Muten",
      "photoUrl": "https://lh3.googleusercontent.com/a-/AOh14Ggpw7xw-lyk6u6l92QjpI7MlI7qjJuuciCpwrUd=s64",
      "userId": "03770692095188133952"
     },
     "user_tz": -420
    },
    "id": "W_SHH9e3rqwG",
    "outputId": "4f626106-a04f-4f44-d1f9-591c0fd1c96c"
   },
   "outputs": [
    {
     "data": {
      "text/plain": [
       "((1000, 729), (1000,))"
      ]
     },
     "execution_count": 22,
     "metadata": {},
     "output_type": "execute_result"
    }
   ],
   "source": [
    "X_test = np.concatenate((x_test_list[0][:500, :], x_test_list[1][:500, :]), axis=0)\n",
    "Y_test = np.zeros((X_test.shape[0],), dtype=int)\n",
    "Y_test[500:] += 1\n",
    "\n",
    "X_test.shape, Y_test.shape"
   ]
  },
  {
   "cell_type": "code",
   "execution_count": 24,
   "metadata": {},
   "outputs": [
    {
     "data": {
      "text/plain": [
       "(tensor(200, requires_grad=True), tensor(500, requires_grad=True))"
      ]
     },
     "execution_count": 24,
     "metadata": {},
     "output_type": "execute_result"
    }
   ],
   "source": [
    "Y_train.sum(), Y_test.sum()"
   ]
  },
  {
   "cell_type": "markdown",
   "metadata": {
    "id": "LrebzTO1z-or"
   },
   "source": [
    "# Dataset Preprocessing"
   ]
  },
  {
   "cell_type": "code",
   "execution_count": 25,
   "metadata": {
    "colab": {
     "base_uri": "https://localhost:8080/"
    },
    "executionInfo": {
     "elapsed": 788,
     "status": "ok",
     "timestamp": 1610358000137,
     "user": {
      "displayName": "Eraraya Ricardo Muten",
      "photoUrl": "https://lh3.googleusercontent.com/a-/AOh14Ggpw7xw-lyk6u6l92QjpI7MlI7qjJuuciCpwrUd=s64",
      "userId": "03770692095188133952"
     },
     "user_tz": -420
    },
    "id": "tpIJBmVAz-os",
    "outputId": "066f3c86-cdcf-48f7-cfe7-b4e203f6a139"
   },
   "outputs": [
    {
     "data": {
      "text/plain": [
       "((400, 27, 27), (1000, 27, 27))"
      ]
     },
     "execution_count": 25,
     "metadata": {},
     "output_type": "execute_result"
    }
   ],
   "source": [
    "X_train = X_train.reshape(X_train.shape[0], 27, 27)\n",
    "X_test = X_test.reshape(X_test.shape[0], 27, 27)\n",
    "\n",
    "X_train.shape, X_test.shape"
   ]
  },
  {
   "cell_type": "markdown",
   "metadata": {
    "id": "ockEle2Ez-os"
   },
   "source": [
    "# Quantum"
   ]
  },
  {
   "cell_type": "code",
   "execution_count": 26,
   "metadata": {
    "executionInfo": {
     "elapsed": 4679,
     "status": "ok",
     "timestamp": 1610358007092,
     "user": {
      "displayName": "Eraraya Ricardo Muten",
      "photoUrl": "https://lh3.googleusercontent.com/a-/AOh14Ggpw7xw-lyk6u6l92QjpI7MlI7qjJuuciCpwrUd=s64",
      "userId": "03770692095188133952"
     },
     "user_tz": -420
    },
    "id": "jP9aoKRGz-os"
   },
   "outputs": [],
   "source": [
    "import pennylane as qml\n",
    "from pennylane import numpy as np\n",
    "from pennylane.optimize import AdamOptimizer, GradientDescentOptimizer\n",
    "\n",
    "qml.enable_tape()\n",
    "\n",
    "from tensorflow.keras.utils import to_categorical\n",
    "\n",
    "# Set a random seed\n",
    "np.random.seed(2020)"
   ]
  },
  {
   "cell_type": "code",
   "execution_count": 27,
   "metadata": {
    "executionInfo": {
     "elapsed": 826,
     "status": "ok",
     "timestamp": 1610358054620,
     "user": {
      "displayName": "Eraraya Ricardo Muten",
      "photoUrl": "https://lh3.googleusercontent.com/a-/AOh14Ggpw7xw-lyk6u6l92QjpI7MlI7qjJuuciCpwrUd=s64",
      "userId": "03770692095188133952"
     },
     "user_tz": -420
    },
    "id": "BFo9kVhAz-ot"
   },
   "outputs": [],
   "source": [
    "# Define output labels as quantum state vectors\n",
    "def density_matrix(state):\n",
    "    \"\"\"Calculates the density matrix representation of a state.\n",
    "\n",
    "    Args:\n",
    "        state (array[complex]): array representing a quantum state vector\n",
    "\n",
    "    Returns:\n",
    "        dm: (array[complex]): array representing the density matrix\n",
    "    \"\"\"\n",
    "    return state * np.conj(state).T\n",
    "\n",
    "\n",
    "label_0 = [[1], [0]]\n",
    "label_1 = [[0], [1]]\n",
    "state_labels = [label_0, label_1]"
   ]
  },
  {
   "cell_type": "code",
   "execution_count": 28,
   "metadata": {
    "executionInfo": {
     "elapsed": 975,
     "status": "ok",
     "timestamp": 1610358057231,
     "user": {
      "displayName": "Eraraya Ricardo Muten",
      "photoUrl": "https://lh3.googleusercontent.com/a-/AOh14Ggpw7xw-lyk6u6l92QjpI7MlI7qjJuuciCpwrUd=s64",
      "userId": "03770692095188133952"
     },
     "user_tz": -420
    },
    "id": "fYmu1Jchz-ot"
   },
   "outputs": [],
   "source": [
    "n_qubits = 2  # number of class\n",
    "dev_fc = qml.device(\"default.qubit\", wires=n_qubits)\n",
    "\n",
    "\n",
    "@qml.qnode(dev_fc)\n",
    "def q_fc(params, inputs):\n",
    "    \"\"\"A variational quantum circuit representing the DRC.\n",
    "\n",
    "    Args:\n",
    "        params (array[float]): array of parameters\n",
    "        inputs = [x, y]\n",
    "        x (array[float]): 1-d input vector\n",
    "        y (array[float]): single output state density matrix\n",
    "\n",
    "    Returns:\n",
    "        float: fidelity between output state and input\n",
    "    \"\"\"\n",
    "    \n",
    "    # layer iteration\n",
    "    for l in range(len(params[0])):\n",
    "        # qubit iteration\n",
    "        for q in range(n_qubits):\n",
    "            # gate iteration\n",
    "            for g in range(int(len(inputs)/3)):\n",
    "                qml.Rot(*(params[0][l][3*g:3*(g+1)] * inputs[3*g:3*(g+1)] + params[1][l][3*g:3*(g+1)]), wires=q)\n",
    "    \n",
    "    return [qml.expval(qml.Hermitian(density_matrix(state_labels[i]), wires=[i])) for i in range(n_qubits)]\n"
   ]
  },
  {
   "cell_type": "code",
   "execution_count": 29,
   "metadata": {
    "executionInfo": {
     "elapsed": 859,
     "status": "ok",
     "timestamp": 1610358059994,
     "user": {
      "displayName": "Eraraya Ricardo Muten",
      "photoUrl": "https://lh3.googleusercontent.com/a-/AOh14Ggpw7xw-lyk6u6l92QjpI7MlI7qjJuuciCpwrUd=s64",
      "userId": "03770692095188133952"
     },
     "user_tz": -420
    },
    "id": "UNYRb5MCz-ot"
   },
   "outputs": [],
   "source": [
    "dev_conv = qml.device(\"default.qubit\", wires=3)\n",
    "\n",
    "\n",
    "@qml.qnode(dev_conv)\n",
    "def q_conv(conv_params, inputs):\n",
    "    \"\"\"A variational quantum circuit representing the Universal classifier + Conv.\n",
    "\n",
    "    Args:\n",
    "        params (array[float]): array of parameters\n",
    "        x (array[float]): 2-d input vector\n",
    "        y (array[float]): single output state density matrix\n",
    "\n",
    "    Returns:\n",
    "        float: fidelity between output state and input\n",
    "    \"\"\"\n",
    "    # layer iteration\n",
    "    for l in range(len(conv_params[0])):\n",
    "        # qubit iteration\n",
    "        for q in range(3):\n",
    "            qml.Rot(*(conv_params[0][l][3*q:3*(q+1)] * inputs[q, 0:3] + conv_params[1][l][3*q:3*(q+1)]), wires=q)\n",
    "\n",
    "    return [qml.expval(qml.PauliZ(j)) for j in range(3)]"
   ]
  },
  {
   "cell_type": "code",
   "execution_count": 30,
   "metadata": {
    "executionInfo": {
     "elapsed": 811,
     "status": "ok",
     "timestamp": 1610358062091,
     "user": {
      "displayName": "Eraraya Ricardo Muten",
      "photoUrl": "https://lh3.googleusercontent.com/a-/AOh14Ggpw7xw-lyk6u6l92QjpI7MlI7qjJuuciCpwrUd=s64",
      "userId": "03770692095188133952"
     },
     "user_tz": -420
    },
    "id": "zzVunJV1z-ou"
   },
   "outputs": [],
   "source": [
    "from keras import backend as K\n",
    "\n",
    "# Addition Custom Layer\n",
    "def add_matrix(x):\n",
    "    return K.sum(x, axis=1, keepdims=True)\n",
    "    \n",
    "addition_layer = tf.keras.layers.Lambda(add_matrix, output_shape=(1,))\n",
    "\n",
    "\n",
    "# Alpha Custom Layer\n",
    "class class_weights(tf.keras.layers.Layer):\n",
    "    def __init__(self):\n",
    "        super(class_weights, self).__init__()\n",
    "        w_init = tf.random_normal_initializer()\n",
    "        self.w = tf.Variable(\n",
    "            initial_value=w_init(shape=(1, 2), dtype=\"float32\"),\n",
    "            trainable=True,\n",
    "        )\n",
    "\n",
    "    def call(self, inputs):\n",
    "        return (inputs * self.w)"
   ]
  },
  {
   "cell_type": "code",
   "execution_count": 31,
   "metadata": {
    "executionInfo": {
     "elapsed": 2804,
     "status": "ok",
     "timestamp": 1610358067284,
     "user": {
      "displayName": "Eraraya Ricardo Muten",
      "photoUrl": "https://lh3.googleusercontent.com/a-/AOh14Ggpw7xw-lyk6u6l92QjpI7MlI7qjJuuciCpwrUd=s64",
      "userId": "03770692095188133952"
     },
     "user_tz": -420
    },
    "id": "6IozHMJhz-ou"
   },
   "outputs": [],
   "source": [
    "# Input image, size = 27 x 27\n",
    "X = tf.keras.Input(shape=(27,27), name='Input_Layer')\n",
    "\n",
    "\n",
    "# Specs for Conv\n",
    "c_filter = 3\n",
    "c_strides = 2\n",
    "\n",
    "\n",
    "# First Quantum Conv Layer, trainable params = 18, output size = 13 x 13\n",
    "num_conv_layer_1 = 1\n",
    "q_conv_layer_1 = qml.qnn.KerasLayer(q_conv, {\"conv_params\": (2, num_conv_layer_1, 9)}, output_dim=(3), name='Quantum_Conv_Layer_1')\n",
    "size_1 = int(1+(X.shape[1]-c_filter)/c_strides)\n",
    "q_conv_layer_1_list = []\n",
    "# height iteration\n",
    "for i in range(size_1):\n",
    "    # width iteration\n",
    "    for j in range(size_1):\n",
    "        temp = q_conv_layer_1(X[:, 2*i:2*(i+1)+1, 2*j:2*(j+1)+1])\n",
    "        temp = addition_layer(temp)\n",
    "        q_conv_layer_1_list += [temp]\n",
    "concat_layer_1 = tf.keras.layers.Concatenate(axis=1)(q_conv_layer_1_list)\n",
    "reshape_layer_1 = tf.keras.layers.Reshape((size_1, size_1))(concat_layer_1)\n",
    "\n",
    "\n",
    "# Second Quantum Conv Layer, trainable params = 18, output size = 6 x 6\n",
    "num_conv_layer_2 = 1\n",
    "q_conv_layer_2 = qml.qnn.KerasLayer(q_conv, {\"conv_params\": (2, num_conv_layer_2, 9)}, output_dim=(3), name='Quantum_Conv_Layer_2')\n",
    "size_2 = int(1+(reshape_layer_1.shape[1]-c_filter)/c_strides)\n",
    "q_conv_layer_2_list = []\n",
    "# height iteration\n",
    "for i in range(size_2):\n",
    "    # width iteration\n",
    "    for j in range(size_2):\n",
    "        temp = q_conv_layer_2(reshape_layer_1[:, 2*i:2*(i+1)+1, 2*j:2*(j+1)+1])\n",
    "        temp = addition_layer(temp)\n",
    "        q_conv_layer_2_list += [temp]\n",
    "concat_layer_2 = tf.keras.layers.Concatenate(axis=1)(q_conv_layer_2_list)\n",
    "reshape_layer_2 = tf.keras.layers.Reshape((size_2, size_2, 1))(concat_layer_2)\n",
    "\n",
    "\n",
    "# Max Pooling Layer, output size = 9\n",
    "max_pool_layer = tf.keras.layers.MaxPooling2D(pool_size=(2, 2), strides=None, name='Max_Pool_Layer')(reshape_layer_2)\n",
    "reshape_layer_3 = tf.keras.layers.Reshape((9,))(max_pool_layer)\n",
    "\n",
    "\n",
    "# Quantum FC Layer, trainable params = 18+2, output size = 2\n",
    "num_fc_layer = 1\n",
    "q_fc_layer = qml.qnn.KerasLayer(q_fc, {\"params\": (2, num_fc_layer, 9)}, output_dim=2, name='Quantum_FC_Layer')(reshape_layer_3)\n",
    "# Alpha Layer, trainable params = 2\n",
    "class_weights_layer = class_weights()(q_fc_layer)\n",
    "\n",
    "\n",
    "model = tf.keras.Model(inputs=X, outputs=class_weights_layer)"
   ]
  },
  {
   "cell_type": "code",
   "execution_count": 32,
   "metadata": {
    "colab": {
     "base_uri": "https://localhost:8080/"
    },
    "executionInfo": {
     "elapsed": 39184,
     "status": "ok",
     "timestamp": 1610358109156,
     "user": {
      "displayName": "Eraraya Ricardo Muten",
      "photoUrl": "https://lh3.googleusercontent.com/a-/AOh14Ggpw7xw-lyk6u6l92QjpI7MlI7qjJuuciCpwrUd=s64",
      "userId": "03770692095188133952"
     },
     "user_tz": -420
    },
    "id": "-kazExRcz-ov",
    "outputId": "11a34545-b4dd-425d-d246-8d0d260c9da8",
    "scrolled": false
   },
   "outputs": [
    {
     "data": {
      "text/plain": [
       "<tf.Tensor: shape=(32, 2), dtype=float32, numpy=\n",
       "array([[-0.02495894,  0.00772201],\n",
       "       [-0.02496074,  0.00771687],\n",
       "       [-0.02495063,  0.00774571],\n",
       "       [-0.02495128,  0.00774388],\n",
       "       [-0.02497139,  0.00768651],\n",
       "       [-0.02500748,  0.00758354],\n",
       "       [-0.02494476,  0.00776248],\n",
       "       [-0.02499535,  0.00761813],\n",
       "       [-0.02500345,  0.00759505],\n",
       "       [-0.02496275,  0.00771115],\n",
       "       [-0.02497703,  0.00767039],\n",
       "       [-0.02504272,  0.00748301],\n",
       "       [-0.02497804,  0.00766752],\n",
       "       [-0.02498917,  0.00763576],\n",
       "       [-0.02496673,  0.00769978],\n",
       "       [-0.02495791,  0.00772496],\n",
       "       [-0.02496563,  0.00770292],\n",
       "       [-0.02502035,  0.00754683],\n",
       "       [-0.02496179,  0.00771387],\n",
       "       [-0.0249725 ,  0.00768332],\n",
       "       [-0.02496719,  0.00769848],\n",
       "       [-0.02496871,  0.00769414],\n",
       "       [-0.02504858,  0.00746628],\n",
       "       [-0.02494742,  0.00775488],\n",
       "       [-0.02499749,  0.00761204],\n",
       "       [-0.02502621,  0.00753012],\n",
       "       [-0.02498966,  0.00763439],\n",
       "       [-0.02496926,  0.00769256],\n",
       "       [-0.02495647,  0.00772906],\n",
       "       [-0.02503398,  0.00750794],\n",
       "       [-0.02494638,  0.00775784],\n",
       "       [-0.0250231 ,  0.00753896]], dtype=float32)>"
      ]
     },
     "execution_count": 32,
     "metadata": {},
     "output_type": "execute_result"
    }
   ],
   "source": [
    "model(X_train[0:32, :, :])"
   ]
  },
  {
   "cell_type": "code",
   "execution_count": 33,
   "metadata": {},
   "outputs": [],
   "source": [
    "import keras.backend as K\n",
    "\n",
    "# def custom_loss(y_true, y_pred):\n",
    "#     return K.sum(((y_true.shape[1]-2)*y_true+1)*K.square(y_true-y_pred))/len(y_true)\n",
    "\n",
    "def custom_loss(y_true, y_pred):\n",
    "    loss = K.square(y_true-y_pred)\n",
    "    #class_weights = y_true*(weight_for_1-weight_for_0) + weight_for_0\n",
    "    #loss = loss * class_weights\n",
    "    \n",
    "    return K.sum(loss)/len(y_true)"
   ]
  },
  {
   "cell_type": "code",
   "execution_count": 34,
   "metadata": {
    "executionInfo": {
     "elapsed": 1168,
     "status": "ok",
     "timestamp": 1610358110335,
     "user": {
      "displayName": "Eraraya Ricardo Muten",
      "photoUrl": "https://lh3.googleusercontent.com/a-/AOh14Ggpw7xw-lyk6u6l92QjpI7MlI7qjJuuciCpwrUd=s64",
      "userId": "03770692095188133952"
     },
     "user_tz": -420
    },
    "id": "wZ2e6t93z-ow"
   },
   "outputs": [],
   "source": [
    "opt = tf.keras.optimizers.Adam(learning_rate=0.1)\n",
    "model.compile(opt, loss='mse', metrics=[\"accuracy\"])"
   ]
  },
  {
   "cell_type": "code",
   "execution_count": 35,
   "metadata": {},
   "outputs": [],
   "source": [
    "cp_val_acc = tf.keras.callbacks.ModelCheckpoint(filepath=\"./Model/2_QConv1_QFC_valacc.hdf5\",\n",
    "                monitor='val_accuracy', verbose=1, save_weights_only=True, save_best_only=True, mode='max')\n",
    "\n",
    "cp_val_loss = tf.keras.callbacks.ModelCheckpoint(filepath=\"./Model/2_QConv1_QFC_valloss.hdf5\",\n",
    "                monitor='val_loss', verbose=1, save_weights_only=True, save_best_only=True, mode='min')"
   ]
  },
  {
   "cell_type": "code",
   "execution_count": 36,
   "metadata": {
    "colab": {
     "base_uri": "https://localhost:8080/"
    },
    "executionInfo": {
     "elapsed": 23954180,
     "status": "ok",
     "timestamp": 1610382086131,
     "user": {
      "displayName": "Eraraya Ricardo Muten",
      "photoUrl": "https://lh3.googleusercontent.com/a-/AOh14Ggpw7xw-lyk6u6l92QjpI7MlI7qjJuuciCpwrUd=s64",
      "userId": "03770692095188133952"
     },
     "user_tz": -420
    },
    "id": "GKW8hv-9z-ow",
    "outputId": "a004b2f4-c3e3-4aa1-cef5-0d28d21a6d57",
    "scrolled": false
   },
   "outputs": [
    {
     "name": "stdout",
     "output_type": "stream",
     "text": [
      "Epoch 1/10\n",
      "13/13 [==============================] - 3236s 255s/step - loss: 0.4019 - accuracy: 0.4372 - val_loss: 0.2666 - val_accuracy: 0.5000\n",
      "\n",
      "Epoch 00001: val_accuracy improved from -inf to 0.50000, saving model to ./Model/2_QConv1_QFC_valacc.hdf5\n",
      "\n",
      "Epoch 00001: val_loss improved from inf to 0.26657, saving model to ./Model/2_QConv1_QFC_valloss.hdf5\n",
      "Epoch 2/10\n",
      "13/13 [==============================] - 3223s 254s/step - loss: 0.3018 - accuracy: 0.4961 - val_loss: 0.3102 - val_accuracy: 0.5000\n",
      "\n",
      "Epoch 00002: val_accuracy did not improve from 0.50000\n",
      "\n",
      "Epoch 00002: val_loss did not improve from 0.26657\n",
      "Epoch 3/10\n",
      "13/13 [==============================] - 3134s 247s/step - loss: 0.2878 - accuracy: 0.4912 - val_loss: 0.2624 - val_accuracy: 0.4950\n",
      "\n",
      "Epoch 00003: val_accuracy did not improve from 0.50000\n",
      "\n",
      "Epoch 00003: val_loss improved from 0.26657 to 0.26243, saving model to ./Model/2_QConv1_QFC_valloss.hdf5\n",
      "Epoch 4/10\n",
      "13/13 [==============================] - 3125s 247s/step - loss: 0.2714 - accuracy: 0.5126 - val_loss: 0.2405 - val_accuracy: 0.7300\n",
      "\n",
      "Epoch 00004: val_accuracy improved from 0.50000 to 0.73000, saving model to ./Model/2_QConv1_QFC_valacc.hdf5\n",
      "\n",
      "Epoch 00004: val_loss improved from 0.26243 to 0.24046, saving model to ./Model/2_QConv1_QFC_valloss.hdf5\n",
      "Epoch 5/10\n",
      "13/13 [==============================] - 3125s 247s/step - loss: 0.2441 - accuracy: 0.6212 - val_loss: 0.1542 - val_accuracy: 0.7670\n",
      "\n",
      "Epoch 00005: val_accuracy improved from 0.73000 to 0.76700, saving model to ./Model/2_QConv1_QFC_valacc.hdf5\n",
      "\n",
      "Epoch 00005: val_loss improved from 0.24046 to 0.15415, saving model to ./Model/2_QConv1_QFC_valloss.hdf5\n",
      "Epoch 6/10\n",
      "13/13 [==============================] - 3124s 247s/step - loss: 0.0962 - accuracy: 0.9101 - val_loss: 0.0691 - val_accuracy: 0.9210\n",
      "\n",
      "Epoch 00006: val_accuracy improved from 0.76700 to 0.92100, saving model to ./Model/2_QConv1_QFC_valacc.hdf5\n",
      "\n",
      "Epoch 00006: val_loss improved from 0.15415 to 0.06915, saving model to ./Model/2_QConv1_QFC_valloss.hdf5\n",
      "Epoch 7/10\n",
      "13/13 [==============================] - 3118s 246s/step - loss: 0.0635 - accuracy: 0.9577 - val_loss: 0.0588 - val_accuracy: 0.9800\n",
      "\n",
      "Epoch 00007: val_accuracy improved from 0.92100 to 0.98000, saving model to ./Model/2_QConv1_QFC_valacc.hdf5\n",
      "\n",
      "Epoch 00007: val_loss improved from 0.06915 to 0.05883, saving model to ./Model/2_QConv1_QFC_valloss.hdf5\n",
      "Epoch 8/10\n",
      "13/13 [==============================] - 3111s 245s/step - loss: 0.0615 - accuracy: 0.9513 - val_loss: 0.0519 - val_accuracy: 0.9600\n",
      "\n",
      "Epoch 00008: val_accuracy did not improve from 0.98000\n",
      "\n",
      "Epoch 00008: val_loss improved from 0.05883 to 0.05191, saving model to ./Model/2_QConv1_QFC_valloss.hdf5\n",
      "Epoch 9/10\n",
      "13/13 [==============================] - 3268s 258s/step - loss: 0.0508 - accuracy: 0.9705 - val_loss: 0.0396 - val_accuracy: 0.9730\n",
      "\n",
      "Epoch 00009: val_accuracy did not improve from 0.98000\n",
      "\n",
      "Epoch 00009: val_loss improved from 0.05191 to 0.03958, saving model to ./Model/2_QConv1_QFC_valloss.hdf5\n",
      "Epoch 10/10\n",
      "13/13 [==============================] - 3202s 253s/step - loss: 0.0353 - accuracy: 0.9720 - val_loss: 0.0299 - val_accuracy: 0.9890\n",
      "\n",
      "Epoch 00010: val_accuracy improved from 0.98000 to 0.98900, saving model to ./Model/2_QConv1_QFC_valacc.hdf5\n",
      "\n",
      "Epoch 00010: val_loss improved from 0.03958 to 0.02987, saving model to ./Model/2_QConv1_QFC_valloss.hdf5\n"
     ]
    }
   ],
   "source": [
    "H = model.fit(X_train, to_categorical(Y_train), epochs=10, batch_size=32, initial_epoch=0,\n",
    "              validation_data=(X_test, to_categorical(Y_test)), verbose=1,\n",
    "              callbacks=[cp_val_acc, cp_val_loss])"
   ]
  },
  {
   "cell_type": "code",
   "execution_count": 37,
   "metadata": {},
   "outputs": [
    {
     "name": "stdout",
     "output_type": "stream",
     "text": [
      "Model: \"model_1\"\n",
      "__________________________________________________________________________________________________\n",
      "Layer (type)                    Output Shape         Param #     Connected to                     \n",
      "==================================================================================================\n",
      "Input_Layer (InputLayer)        [(None, 27, 27)]     0                                            \n",
      "__________________________________________________________________________________________________\n",
      "tf.__operators__.getitem_205 (S (None, 3, 3)         0           Input_Layer[0][0]                \n",
      "__________________________________________________________________________________________________\n",
      "tf.__operators__.getitem_206 (S (None, 3, 3)         0           Input_Layer[0][0]                \n",
      "__________________________________________________________________________________________________\n",
      "tf.__operators__.getitem_207 (S (None, 3, 3)         0           Input_Layer[0][0]                \n",
      "__________________________________________________________________________________________________\n",
      "tf.__operators__.getitem_208 (S (None, 3, 3)         0           Input_Layer[0][0]                \n",
      "__________________________________________________________________________________________________\n",
      "tf.__operators__.getitem_209 (S (None, 3, 3)         0           Input_Layer[0][0]                \n",
      "__________________________________________________________________________________________________\n",
      "tf.__operators__.getitem_210 (S (None, 3, 3)         0           Input_Layer[0][0]                \n",
      "__________________________________________________________________________________________________\n",
      "tf.__operators__.getitem_211 (S (None, 3, 3)         0           Input_Layer[0][0]                \n",
      "__________________________________________________________________________________________________\n",
      "tf.__operators__.getitem_212 (S (None, 3, 3)         0           Input_Layer[0][0]                \n",
      "__________________________________________________________________________________________________\n",
      "tf.__operators__.getitem_213 (S (None, 3, 3)         0           Input_Layer[0][0]                \n",
      "__________________________________________________________________________________________________\n",
      "tf.__operators__.getitem_214 (S (None, 3, 3)         0           Input_Layer[0][0]                \n",
      "__________________________________________________________________________________________________\n",
      "tf.__operators__.getitem_215 (S (None, 3, 3)         0           Input_Layer[0][0]                \n",
      "__________________________________________________________________________________________________\n",
      "tf.__operators__.getitem_216 (S (None, 3, 3)         0           Input_Layer[0][0]                \n",
      "__________________________________________________________________________________________________\n",
      "tf.__operators__.getitem_217 (S (None, 3, 3)         0           Input_Layer[0][0]                \n",
      "__________________________________________________________________________________________________\n",
      "tf.__operators__.getitem_218 (S (None, 3, 3)         0           Input_Layer[0][0]                \n",
      "__________________________________________________________________________________________________\n",
      "tf.__operators__.getitem_219 (S (None, 3, 3)         0           Input_Layer[0][0]                \n",
      "__________________________________________________________________________________________________\n",
      "tf.__operators__.getitem_220 (S (None, 3, 3)         0           Input_Layer[0][0]                \n",
      "__________________________________________________________________________________________________\n",
      "tf.__operators__.getitem_221 (S (None, 3, 3)         0           Input_Layer[0][0]                \n",
      "__________________________________________________________________________________________________\n",
      "tf.__operators__.getitem_222 (S (None, 3, 3)         0           Input_Layer[0][0]                \n",
      "__________________________________________________________________________________________________\n",
      "tf.__operators__.getitem_223 (S (None, 3, 3)         0           Input_Layer[0][0]                \n",
      "__________________________________________________________________________________________________\n",
      "tf.__operators__.getitem_224 (S (None, 3, 3)         0           Input_Layer[0][0]                \n",
      "__________________________________________________________________________________________________\n",
      "tf.__operators__.getitem_225 (S (None, 3, 3)         0           Input_Layer[0][0]                \n",
      "__________________________________________________________________________________________________\n",
      "tf.__operators__.getitem_226 (S (None, 3, 3)         0           Input_Layer[0][0]                \n",
      "__________________________________________________________________________________________________\n",
      "tf.__operators__.getitem_227 (S (None, 3, 3)         0           Input_Layer[0][0]                \n",
      "__________________________________________________________________________________________________\n",
      "tf.__operators__.getitem_228 (S (None, 3, 3)         0           Input_Layer[0][0]                \n",
      "__________________________________________________________________________________________________\n",
      "tf.__operators__.getitem_229 (S (None, 3, 3)         0           Input_Layer[0][0]                \n",
      "__________________________________________________________________________________________________\n",
      "tf.__operators__.getitem_230 (S (None, 3, 3)         0           Input_Layer[0][0]                \n",
      "__________________________________________________________________________________________________\n",
      "tf.__operators__.getitem_231 (S (None, 3, 3)         0           Input_Layer[0][0]                \n",
      "__________________________________________________________________________________________________\n",
      "tf.__operators__.getitem_232 (S (None, 3, 3)         0           Input_Layer[0][0]                \n",
      "__________________________________________________________________________________________________\n",
      "tf.__operators__.getitem_233 (S (None, 3, 3)         0           Input_Layer[0][0]                \n",
      "__________________________________________________________________________________________________\n",
      "tf.__operators__.getitem_234 (S (None, 3, 3)         0           Input_Layer[0][0]                \n",
      "__________________________________________________________________________________________________\n",
      "tf.__operators__.getitem_235 (S (None, 3, 3)         0           Input_Layer[0][0]                \n",
      "__________________________________________________________________________________________________\n",
      "tf.__operators__.getitem_236 (S (None, 3, 3)         0           Input_Layer[0][0]                \n",
      "__________________________________________________________________________________________________\n",
      "tf.__operators__.getitem_237 (S (None, 3, 3)         0           Input_Layer[0][0]                \n",
      "__________________________________________________________________________________________________\n",
      "tf.__operators__.getitem_238 (S (None, 3, 3)         0           Input_Layer[0][0]                \n",
      "__________________________________________________________________________________________________\n",
      "tf.__operators__.getitem_239 (S (None, 3, 3)         0           Input_Layer[0][0]                \n",
      "__________________________________________________________________________________________________\n",
      "tf.__operators__.getitem_240 (S (None, 3, 3)         0           Input_Layer[0][0]                \n",
      "__________________________________________________________________________________________________\n",
      "tf.__operators__.getitem_241 (S (None, 3, 3)         0           Input_Layer[0][0]                \n",
      "__________________________________________________________________________________________________\n",
      "tf.__operators__.getitem_242 (S (None, 3, 3)         0           Input_Layer[0][0]                \n",
      "__________________________________________________________________________________________________\n",
      "tf.__operators__.getitem_243 (S (None, 3, 3)         0           Input_Layer[0][0]                \n",
      "__________________________________________________________________________________________________\n",
      "tf.__operators__.getitem_244 (S (None, 3, 3)         0           Input_Layer[0][0]                \n",
      "__________________________________________________________________________________________________\n",
      "tf.__operators__.getitem_245 (S (None, 3, 3)         0           Input_Layer[0][0]                \n",
      "__________________________________________________________________________________________________\n",
      "tf.__operators__.getitem_246 (S (None, 3, 3)         0           Input_Layer[0][0]                \n",
      "__________________________________________________________________________________________________\n",
      "tf.__operators__.getitem_247 (S (None, 3, 3)         0           Input_Layer[0][0]                \n",
      "__________________________________________________________________________________________________\n",
      "tf.__operators__.getitem_248 (S (None, 3, 3)         0           Input_Layer[0][0]                \n",
      "__________________________________________________________________________________________________\n",
      "tf.__operators__.getitem_249 (S (None, 3, 3)         0           Input_Layer[0][0]                \n",
      "__________________________________________________________________________________________________\n",
      "tf.__operators__.getitem_250 (S (None, 3, 3)         0           Input_Layer[0][0]                \n",
      "__________________________________________________________________________________________________\n",
      "tf.__operators__.getitem_251 (S (None, 3, 3)         0           Input_Layer[0][0]                \n",
      "__________________________________________________________________________________________________\n",
      "tf.__operators__.getitem_252 (S (None, 3, 3)         0           Input_Layer[0][0]                \n",
      "__________________________________________________________________________________________________\n",
      "tf.__operators__.getitem_253 (S (None, 3, 3)         0           Input_Layer[0][0]                \n",
      "__________________________________________________________________________________________________\n",
      "tf.__operators__.getitem_254 (S (None, 3, 3)         0           Input_Layer[0][0]                \n",
      "__________________________________________________________________________________________________\n",
      "tf.__operators__.getitem_255 (S (None, 3, 3)         0           Input_Layer[0][0]                \n",
      "__________________________________________________________________________________________________\n",
      "tf.__operators__.getitem_256 (S (None, 3, 3)         0           Input_Layer[0][0]                \n",
      "__________________________________________________________________________________________________\n",
      "tf.__operators__.getitem_257 (S (None, 3, 3)         0           Input_Layer[0][0]                \n",
      "__________________________________________________________________________________________________\n",
      "tf.__operators__.getitem_258 (S (None, 3, 3)         0           Input_Layer[0][0]                \n",
      "__________________________________________________________________________________________________\n",
      "tf.__operators__.getitem_259 (S (None, 3, 3)         0           Input_Layer[0][0]                \n",
      "__________________________________________________________________________________________________\n",
      "tf.__operators__.getitem_260 (S (None, 3, 3)         0           Input_Layer[0][0]                \n",
      "__________________________________________________________________________________________________\n",
      "tf.__operators__.getitem_261 (S (None, 3, 3)         0           Input_Layer[0][0]                \n",
      "__________________________________________________________________________________________________\n",
      "tf.__operators__.getitem_262 (S (None, 3, 3)         0           Input_Layer[0][0]                \n",
      "__________________________________________________________________________________________________\n",
      "tf.__operators__.getitem_263 (S (None, 3, 3)         0           Input_Layer[0][0]                \n",
      "__________________________________________________________________________________________________\n",
      "tf.__operators__.getitem_264 (S (None, 3, 3)         0           Input_Layer[0][0]                \n",
      "__________________________________________________________________________________________________\n",
      "tf.__operators__.getitem_265 (S (None, 3, 3)         0           Input_Layer[0][0]                \n",
      "__________________________________________________________________________________________________\n",
      "tf.__operators__.getitem_266 (S (None, 3, 3)         0           Input_Layer[0][0]                \n",
      "__________________________________________________________________________________________________\n",
      "tf.__operators__.getitem_267 (S (None, 3, 3)         0           Input_Layer[0][0]                \n",
      "__________________________________________________________________________________________________\n",
      "tf.__operators__.getitem_268 (S (None, 3, 3)         0           Input_Layer[0][0]                \n",
      "__________________________________________________________________________________________________\n",
      "tf.__operators__.getitem_269 (S (None, 3, 3)         0           Input_Layer[0][0]                \n",
      "__________________________________________________________________________________________________\n",
      "tf.__operators__.getitem_270 (S (None, 3, 3)         0           Input_Layer[0][0]                \n",
      "__________________________________________________________________________________________________\n",
      "tf.__operators__.getitem_271 (S (None, 3, 3)         0           Input_Layer[0][0]                \n",
      "__________________________________________________________________________________________________\n",
      "tf.__operators__.getitem_272 (S (None, 3, 3)         0           Input_Layer[0][0]                \n",
      "__________________________________________________________________________________________________\n",
      "tf.__operators__.getitem_273 (S (None, 3, 3)         0           Input_Layer[0][0]                \n",
      "__________________________________________________________________________________________________\n",
      "tf.__operators__.getitem_274 (S (None, 3, 3)         0           Input_Layer[0][0]                \n",
      "__________________________________________________________________________________________________\n",
      "tf.__operators__.getitem_275 (S (None, 3, 3)         0           Input_Layer[0][0]                \n",
      "__________________________________________________________________________________________________\n",
      "tf.__operators__.getitem_276 (S (None, 3, 3)         0           Input_Layer[0][0]                \n",
      "__________________________________________________________________________________________________\n",
      "tf.__operators__.getitem_277 (S (None, 3, 3)         0           Input_Layer[0][0]                \n",
      "__________________________________________________________________________________________________\n",
      "tf.__operators__.getitem_278 (S (None, 3, 3)         0           Input_Layer[0][0]                \n",
      "__________________________________________________________________________________________________\n",
      "tf.__operators__.getitem_279 (S (None, 3, 3)         0           Input_Layer[0][0]                \n",
      "__________________________________________________________________________________________________\n",
      "tf.__operators__.getitem_280 (S (None, 3, 3)         0           Input_Layer[0][0]                \n",
      "__________________________________________________________________________________________________\n",
      "tf.__operators__.getitem_281 (S (None, 3, 3)         0           Input_Layer[0][0]                \n",
      "__________________________________________________________________________________________________\n",
      "tf.__operators__.getitem_282 (S (None, 3, 3)         0           Input_Layer[0][0]                \n",
      "__________________________________________________________________________________________________\n",
      "tf.__operators__.getitem_283 (S (None, 3, 3)         0           Input_Layer[0][0]                \n",
      "__________________________________________________________________________________________________\n",
      "tf.__operators__.getitem_284 (S (None, 3, 3)         0           Input_Layer[0][0]                \n",
      "__________________________________________________________________________________________________\n",
      "tf.__operators__.getitem_285 (S (None, 3, 3)         0           Input_Layer[0][0]                \n",
      "__________________________________________________________________________________________________\n",
      "tf.__operators__.getitem_286 (S (None, 3, 3)         0           Input_Layer[0][0]                \n",
      "__________________________________________________________________________________________________\n",
      "tf.__operators__.getitem_287 (S (None, 3, 3)         0           Input_Layer[0][0]                \n",
      "__________________________________________________________________________________________________\n",
      "tf.__operators__.getitem_288 (S (None, 3, 3)         0           Input_Layer[0][0]                \n",
      "__________________________________________________________________________________________________\n",
      "tf.__operators__.getitem_289 (S (None, 3, 3)         0           Input_Layer[0][0]                \n",
      "__________________________________________________________________________________________________\n",
      "tf.__operators__.getitem_290 (S (None, 3, 3)         0           Input_Layer[0][0]                \n",
      "__________________________________________________________________________________________________\n",
      "tf.__operators__.getitem_291 (S (None, 3, 3)         0           Input_Layer[0][0]                \n",
      "__________________________________________________________________________________________________\n",
      "tf.__operators__.getitem_292 (S (None, 3, 3)         0           Input_Layer[0][0]                \n",
      "__________________________________________________________________________________________________\n",
      "tf.__operators__.getitem_293 (S (None, 3, 3)         0           Input_Layer[0][0]                \n",
      "__________________________________________________________________________________________________\n",
      "tf.__operators__.getitem_294 (S (None, 3, 3)         0           Input_Layer[0][0]                \n",
      "__________________________________________________________________________________________________\n",
      "tf.__operators__.getitem_295 (S (None, 3, 3)         0           Input_Layer[0][0]                \n",
      "__________________________________________________________________________________________________\n",
      "tf.__operators__.getitem_296 (S (None, 3, 3)         0           Input_Layer[0][0]                \n",
      "__________________________________________________________________________________________________\n",
      "tf.__operators__.getitem_297 (S (None, 3, 3)         0           Input_Layer[0][0]                \n",
      "__________________________________________________________________________________________________\n",
      "tf.__operators__.getitem_298 (S (None, 3, 3)         0           Input_Layer[0][0]                \n",
      "__________________________________________________________________________________________________\n",
      "tf.__operators__.getitem_299 (S (None, 3, 3)         0           Input_Layer[0][0]                \n",
      "__________________________________________________________________________________________________\n",
      "tf.__operators__.getitem_300 (S (None, 3, 3)         0           Input_Layer[0][0]                \n",
      "__________________________________________________________________________________________________\n",
      "tf.__operators__.getitem_301 (S (None, 3, 3)         0           Input_Layer[0][0]                \n",
      "__________________________________________________________________________________________________\n",
      "tf.__operators__.getitem_302 (S (None, 3, 3)         0           Input_Layer[0][0]                \n",
      "__________________________________________________________________________________________________\n",
      "tf.__operators__.getitem_303 (S (None, 3, 3)         0           Input_Layer[0][0]                \n",
      "__________________________________________________________________________________________________\n",
      "tf.__operators__.getitem_304 (S (None, 3, 3)         0           Input_Layer[0][0]                \n",
      "__________________________________________________________________________________________________\n",
      "tf.__operators__.getitem_305 (S (None, 3, 3)         0           Input_Layer[0][0]                \n",
      "__________________________________________________________________________________________________\n",
      "tf.__operators__.getitem_306 (S (None, 3, 3)         0           Input_Layer[0][0]                \n",
      "__________________________________________________________________________________________________\n",
      "tf.__operators__.getitem_307 (S (None, 3, 3)         0           Input_Layer[0][0]                \n",
      "__________________________________________________________________________________________________\n",
      "tf.__operators__.getitem_308 (S (None, 3, 3)         0           Input_Layer[0][0]                \n",
      "__________________________________________________________________________________________________\n",
      "tf.__operators__.getitem_309 (S (None, 3, 3)         0           Input_Layer[0][0]                \n",
      "__________________________________________________________________________________________________\n",
      "tf.__operators__.getitem_310 (S (None, 3, 3)         0           Input_Layer[0][0]                \n",
      "__________________________________________________________________________________________________\n",
      "tf.__operators__.getitem_311 (S (None, 3, 3)         0           Input_Layer[0][0]                \n",
      "__________________________________________________________________________________________________\n",
      "tf.__operators__.getitem_312 (S (None, 3, 3)         0           Input_Layer[0][0]                \n",
      "__________________________________________________________________________________________________\n",
      "tf.__operators__.getitem_313 (S (None, 3, 3)         0           Input_Layer[0][0]                \n",
      "__________________________________________________________________________________________________\n",
      "tf.__operators__.getitem_314 (S (None, 3, 3)         0           Input_Layer[0][0]                \n",
      "__________________________________________________________________________________________________\n",
      "tf.__operators__.getitem_315 (S (None, 3, 3)         0           Input_Layer[0][0]                \n",
      "__________________________________________________________________________________________________\n",
      "tf.__operators__.getitem_316 (S (None, 3, 3)         0           Input_Layer[0][0]                \n",
      "__________________________________________________________________________________________________\n",
      "tf.__operators__.getitem_317 (S (None, 3, 3)         0           Input_Layer[0][0]                \n",
      "__________________________________________________________________________________________________\n",
      "tf.__operators__.getitem_318 (S (None, 3, 3)         0           Input_Layer[0][0]                \n",
      "__________________________________________________________________________________________________\n",
      "tf.__operators__.getitem_319 (S (None, 3, 3)         0           Input_Layer[0][0]                \n",
      "__________________________________________________________________________________________________\n",
      "tf.__operators__.getitem_320 (S (None, 3, 3)         0           Input_Layer[0][0]                \n",
      "__________________________________________________________________________________________________\n",
      "tf.__operators__.getitem_321 (S (None, 3, 3)         0           Input_Layer[0][0]                \n",
      "__________________________________________________________________________________________________\n",
      "tf.__operators__.getitem_322 (S (None, 3, 3)         0           Input_Layer[0][0]                \n",
      "__________________________________________________________________________________________________\n",
      "tf.__operators__.getitem_323 (S (None, 3, 3)         0           Input_Layer[0][0]                \n",
      "__________________________________________________________________________________________________\n",
      "tf.__operators__.getitem_324 (S (None, 3, 3)         0           Input_Layer[0][0]                \n",
      "__________________________________________________________________________________________________\n",
      "tf.__operators__.getitem_325 (S (None, 3, 3)         0           Input_Layer[0][0]                \n",
      "__________________________________________________________________________________________________\n",
      "tf.__operators__.getitem_326 (S (None, 3, 3)         0           Input_Layer[0][0]                \n",
      "__________________________________________________________________________________________________\n",
      "tf.__operators__.getitem_327 (S (None, 3, 3)         0           Input_Layer[0][0]                \n",
      "__________________________________________________________________________________________________\n",
      "tf.__operators__.getitem_328 (S (None, 3, 3)         0           Input_Layer[0][0]                \n",
      "__________________________________________________________________________________________________\n",
      "tf.__operators__.getitem_329 (S (None, 3, 3)         0           Input_Layer[0][0]                \n",
      "__________________________________________________________________________________________________\n",
      "tf.__operators__.getitem_330 (S (None, 3, 3)         0           Input_Layer[0][0]                \n",
      "__________________________________________________________________________________________________\n",
      "tf.__operators__.getitem_331 (S (None, 3, 3)         0           Input_Layer[0][0]                \n",
      "__________________________________________________________________________________________________\n",
      "tf.__operators__.getitem_332 (S (None, 3, 3)         0           Input_Layer[0][0]                \n",
      "__________________________________________________________________________________________________\n",
      "tf.__operators__.getitem_333 (S (None, 3, 3)         0           Input_Layer[0][0]                \n",
      "__________________________________________________________________________________________________\n",
      "tf.__operators__.getitem_334 (S (None, 3, 3)         0           Input_Layer[0][0]                \n",
      "__________________________________________________________________________________________________\n",
      "tf.__operators__.getitem_335 (S (None, 3, 3)         0           Input_Layer[0][0]                \n",
      "__________________________________________________________________________________________________\n",
      "tf.__operators__.getitem_336 (S (None, 3, 3)         0           Input_Layer[0][0]                \n",
      "__________________________________________________________________________________________________\n",
      "tf.__operators__.getitem_337 (S (None, 3, 3)         0           Input_Layer[0][0]                \n",
      "__________________________________________________________________________________________________\n",
      "tf.__operators__.getitem_338 (S (None, 3, 3)         0           Input_Layer[0][0]                \n",
      "__________________________________________________________________________________________________\n",
      "tf.__operators__.getitem_339 (S (None, 3, 3)         0           Input_Layer[0][0]                \n",
      "__________________________________________________________________________________________________\n",
      "tf.__operators__.getitem_340 (S (None, 3, 3)         0           Input_Layer[0][0]                \n",
      "__________________________________________________________________________________________________\n",
      "tf.__operators__.getitem_341 (S (None, 3, 3)         0           Input_Layer[0][0]                \n",
      "__________________________________________________________________________________________________\n",
      "tf.__operators__.getitem_342 (S (None, 3, 3)         0           Input_Layer[0][0]                \n",
      "__________________________________________________________________________________________________\n",
      "tf.__operators__.getitem_343 (S (None, 3, 3)         0           Input_Layer[0][0]                \n",
      "__________________________________________________________________________________________________\n",
      "tf.__operators__.getitem_344 (S (None, 3, 3)         0           Input_Layer[0][0]                \n",
      "__________________________________________________________________________________________________\n",
      "tf.__operators__.getitem_345 (S (None, 3, 3)         0           Input_Layer[0][0]                \n",
      "__________________________________________________________________________________________________\n",
      "tf.__operators__.getitem_346 (S (None, 3, 3)         0           Input_Layer[0][0]                \n",
      "__________________________________________________________________________________________________\n",
      "tf.__operators__.getitem_347 (S (None, 3, 3)         0           Input_Layer[0][0]                \n",
      "__________________________________________________________________________________________________\n",
      "tf.__operators__.getitem_348 (S (None, 3, 3)         0           Input_Layer[0][0]                \n",
      "__________________________________________________________________________________________________\n",
      "tf.__operators__.getitem_349 (S (None, 3, 3)         0           Input_Layer[0][0]                \n",
      "__________________________________________________________________________________________________\n",
      "tf.__operators__.getitem_350 (S (None, 3, 3)         0           Input_Layer[0][0]                \n",
      "__________________________________________________________________________________________________\n",
      "tf.__operators__.getitem_351 (S (None, 3, 3)         0           Input_Layer[0][0]                \n",
      "__________________________________________________________________________________________________\n",
      "tf.__operators__.getitem_352 (S (None, 3, 3)         0           Input_Layer[0][0]                \n",
      "__________________________________________________________________________________________________\n",
      "tf.__operators__.getitem_353 (S (None, 3, 3)         0           Input_Layer[0][0]                \n",
      "__________________________________________________________________________________________________\n",
      "tf.__operators__.getitem_354 (S (None, 3, 3)         0           Input_Layer[0][0]                \n",
      "__________________________________________________________________________________________________\n",
      "tf.__operators__.getitem_355 (S (None, 3, 3)         0           Input_Layer[0][0]                \n",
      "__________________________________________________________________________________________________\n",
      "tf.__operators__.getitem_356 (S (None, 3, 3)         0           Input_Layer[0][0]                \n",
      "__________________________________________________________________________________________________\n",
      "tf.__operators__.getitem_357 (S (None, 3, 3)         0           Input_Layer[0][0]                \n",
      "__________________________________________________________________________________________________\n",
      "tf.__operators__.getitem_358 (S (None, 3, 3)         0           Input_Layer[0][0]                \n",
      "__________________________________________________________________________________________________\n",
      "tf.__operators__.getitem_359 (S (None, 3, 3)         0           Input_Layer[0][0]                \n",
      "__________________________________________________________________________________________________\n",
      "tf.__operators__.getitem_360 (S (None, 3, 3)         0           Input_Layer[0][0]                \n",
      "__________________________________________________________________________________________________\n",
      "tf.__operators__.getitem_361 (S (None, 3, 3)         0           Input_Layer[0][0]                \n",
      "__________________________________________________________________________________________________\n",
      "tf.__operators__.getitem_362 (S (None, 3, 3)         0           Input_Layer[0][0]                \n",
      "__________________________________________________________________________________________________\n",
      "tf.__operators__.getitem_363 (S (None, 3, 3)         0           Input_Layer[0][0]                \n",
      "__________________________________________________________________________________________________\n",
      "tf.__operators__.getitem_364 (S (None, 3, 3)         0           Input_Layer[0][0]                \n",
      "__________________________________________________________________________________________________\n",
      "tf.__operators__.getitem_365 (S (None, 3, 3)         0           Input_Layer[0][0]                \n",
      "__________________________________________________________________________________________________\n",
      "tf.__operators__.getitem_366 (S (None, 3, 3)         0           Input_Layer[0][0]                \n",
      "__________________________________________________________________________________________________\n",
      "tf.__operators__.getitem_367 (S (None, 3, 3)         0           Input_Layer[0][0]                \n",
      "__________________________________________________________________________________________________\n",
      "tf.__operators__.getitem_368 (S (None, 3, 3)         0           Input_Layer[0][0]                \n",
      "__________________________________________________________________________________________________\n",
      "tf.__operators__.getitem_369 (S (None, 3, 3)         0           Input_Layer[0][0]                \n",
      "__________________________________________________________________________________________________\n",
      "tf.__operators__.getitem_370 (S (None, 3, 3)         0           Input_Layer[0][0]                \n",
      "__________________________________________________________________________________________________\n",
      "tf.__operators__.getitem_371 (S (None, 3, 3)         0           Input_Layer[0][0]                \n",
      "__________________________________________________________________________________________________\n",
      "tf.__operators__.getitem_372 (S (None, 3, 3)         0           Input_Layer[0][0]                \n",
      "__________________________________________________________________________________________________\n",
      "tf.__operators__.getitem_373 (S (None, 3, 3)         0           Input_Layer[0][0]                \n",
      "__________________________________________________________________________________________________\n",
      "Quantum_Conv_Layer_1 (KerasLaye (None, 3)            18          tf.__operators__.getitem_205[0][0\n",
      "                                                                 tf.__operators__.getitem_206[0][0\n",
      "                                                                 tf.__operators__.getitem_207[0][0\n",
      "                                                                 tf.__operators__.getitem_208[0][0\n",
      "                                                                 tf.__operators__.getitem_209[0][0\n",
      "                                                                 tf.__operators__.getitem_210[0][0\n",
      "                                                                 tf.__operators__.getitem_211[0][0\n",
      "                                                                 tf.__operators__.getitem_212[0][0\n",
      "                                                                 tf.__operators__.getitem_213[0][0\n",
      "                                                                 tf.__operators__.getitem_214[0][0\n",
      "                                                                 tf.__operators__.getitem_215[0][0\n",
      "                                                                 tf.__operators__.getitem_216[0][0\n",
      "                                                                 tf.__operators__.getitem_217[0][0\n",
      "                                                                 tf.__operators__.getitem_218[0][0\n",
      "                                                                 tf.__operators__.getitem_219[0][0\n",
      "                                                                 tf.__operators__.getitem_220[0][0\n",
      "                                                                 tf.__operators__.getitem_221[0][0\n",
      "                                                                 tf.__operators__.getitem_222[0][0\n",
      "                                                                 tf.__operators__.getitem_223[0][0\n",
      "                                                                 tf.__operators__.getitem_224[0][0\n",
      "                                                                 tf.__operators__.getitem_225[0][0\n",
      "                                                                 tf.__operators__.getitem_226[0][0\n",
      "                                                                 tf.__operators__.getitem_227[0][0\n",
      "                                                                 tf.__operators__.getitem_228[0][0\n",
      "                                                                 tf.__operators__.getitem_229[0][0\n",
      "                                                                 tf.__operators__.getitem_230[0][0\n",
      "                                                                 tf.__operators__.getitem_231[0][0\n",
      "                                                                 tf.__operators__.getitem_232[0][0\n",
      "                                                                 tf.__operators__.getitem_233[0][0\n",
      "                                                                 tf.__operators__.getitem_234[0][0\n",
      "                                                                 tf.__operators__.getitem_235[0][0\n",
      "                                                                 tf.__operators__.getitem_236[0][0\n",
      "                                                                 tf.__operators__.getitem_237[0][0\n",
      "                                                                 tf.__operators__.getitem_238[0][0\n",
      "                                                                 tf.__operators__.getitem_239[0][0\n",
      "                                                                 tf.__operators__.getitem_240[0][0\n",
      "                                                                 tf.__operators__.getitem_241[0][0\n",
      "                                                                 tf.__operators__.getitem_242[0][0\n",
      "                                                                 tf.__operators__.getitem_243[0][0\n",
      "                                                                 tf.__operators__.getitem_244[0][0\n",
      "                                                                 tf.__operators__.getitem_245[0][0\n",
      "                                                                 tf.__operators__.getitem_246[0][0\n",
      "                                                                 tf.__operators__.getitem_247[0][0\n",
      "                                                                 tf.__operators__.getitem_248[0][0\n",
      "                                                                 tf.__operators__.getitem_249[0][0\n",
      "                                                                 tf.__operators__.getitem_250[0][0\n",
      "                                                                 tf.__operators__.getitem_251[0][0\n",
      "                                                                 tf.__operators__.getitem_252[0][0\n",
      "                                                                 tf.__operators__.getitem_253[0][0\n",
      "                                                                 tf.__operators__.getitem_254[0][0\n",
      "                                                                 tf.__operators__.getitem_255[0][0\n",
      "                                                                 tf.__operators__.getitem_256[0][0\n",
      "                                                                 tf.__operators__.getitem_257[0][0\n",
      "                                                                 tf.__operators__.getitem_258[0][0\n",
      "                                                                 tf.__operators__.getitem_259[0][0\n",
      "                                                                 tf.__operators__.getitem_260[0][0\n",
      "                                                                 tf.__operators__.getitem_261[0][0\n",
      "                                                                 tf.__operators__.getitem_262[0][0\n",
      "                                                                 tf.__operators__.getitem_263[0][0\n",
      "                                                                 tf.__operators__.getitem_264[0][0\n",
      "                                                                 tf.__operators__.getitem_265[0][0\n",
      "                                                                 tf.__operators__.getitem_266[0][0\n",
      "                                                                 tf.__operators__.getitem_267[0][0\n",
      "                                                                 tf.__operators__.getitem_268[0][0\n",
      "                                                                 tf.__operators__.getitem_269[0][0\n",
      "                                                                 tf.__operators__.getitem_270[0][0\n",
      "                                                                 tf.__operators__.getitem_271[0][0\n",
      "                                                                 tf.__operators__.getitem_272[0][0\n",
      "                                                                 tf.__operators__.getitem_273[0][0\n",
      "                                                                 tf.__operators__.getitem_274[0][0\n",
      "                                                                 tf.__operators__.getitem_275[0][0\n",
      "                                                                 tf.__operators__.getitem_276[0][0\n",
      "                                                                 tf.__operators__.getitem_277[0][0\n",
      "                                                                 tf.__operators__.getitem_278[0][0\n",
      "                                                                 tf.__operators__.getitem_279[0][0\n",
      "                                                                 tf.__operators__.getitem_280[0][0\n",
      "                                                                 tf.__operators__.getitem_281[0][0\n",
      "                                                                 tf.__operators__.getitem_282[0][0\n",
      "                                                                 tf.__operators__.getitem_283[0][0\n",
      "                                                                 tf.__operators__.getitem_284[0][0\n",
      "                                                                 tf.__operators__.getitem_285[0][0\n",
      "                                                                 tf.__operators__.getitem_286[0][0\n",
      "                                                                 tf.__operators__.getitem_287[0][0\n",
      "                                                                 tf.__operators__.getitem_288[0][0\n",
      "                                                                 tf.__operators__.getitem_289[0][0\n",
      "                                                                 tf.__operators__.getitem_290[0][0\n",
      "                                                                 tf.__operators__.getitem_291[0][0\n",
      "                                                                 tf.__operators__.getitem_292[0][0\n",
      "                                                                 tf.__operators__.getitem_293[0][0\n",
      "                                                                 tf.__operators__.getitem_294[0][0\n",
      "                                                                 tf.__operators__.getitem_295[0][0\n",
      "                                                                 tf.__operators__.getitem_296[0][0\n",
      "                                                                 tf.__operators__.getitem_297[0][0\n",
      "                                                                 tf.__operators__.getitem_298[0][0\n",
      "                                                                 tf.__operators__.getitem_299[0][0\n",
      "                                                                 tf.__operators__.getitem_300[0][0\n",
      "                                                                 tf.__operators__.getitem_301[0][0\n",
      "                                                                 tf.__operators__.getitem_302[0][0\n",
      "                                                                 tf.__operators__.getitem_303[0][0\n",
      "                                                                 tf.__operators__.getitem_304[0][0\n",
      "                                                                 tf.__operators__.getitem_305[0][0\n",
      "                                                                 tf.__operators__.getitem_306[0][0\n",
      "                                                                 tf.__operators__.getitem_307[0][0\n",
      "                                                                 tf.__operators__.getitem_308[0][0\n",
      "                                                                 tf.__operators__.getitem_309[0][0\n",
      "                                                                 tf.__operators__.getitem_310[0][0\n",
      "                                                                 tf.__operators__.getitem_311[0][0\n",
      "                                                                 tf.__operators__.getitem_312[0][0\n",
      "                                                                 tf.__operators__.getitem_313[0][0\n",
      "                                                                 tf.__operators__.getitem_314[0][0\n",
      "                                                                 tf.__operators__.getitem_315[0][0\n",
      "                                                                 tf.__operators__.getitem_316[0][0\n",
      "                                                                 tf.__operators__.getitem_317[0][0\n",
      "                                                                 tf.__operators__.getitem_318[0][0\n",
      "                                                                 tf.__operators__.getitem_319[0][0\n",
      "                                                                 tf.__operators__.getitem_320[0][0\n",
      "                                                                 tf.__operators__.getitem_321[0][0\n",
      "                                                                 tf.__operators__.getitem_322[0][0\n",
      "                                                                 tf.__operators__.getitem_323[0][0\n",
      "                                                                 tf.__operators__.getitem_324[0][0\n",
      "                                                                 tf.__operators__.getitem_325[0][0\n",
      "                                                                 tf.__operators__.getitem_326[0][0\n",
      "                                                                 tf.__operators__.getitem_327[0][0\n",
      "                                                                 tf.__operators__.getitem_328[0][0\n",
      "                                                                 tf.__operators__.getitem_329[0][0\n",
      "                                                                 tf.__operators__.getitem_330[0][0\n",
      "                                                                 tf.__operators__.getitem_331[0][0\n",
      "                                                                 tf.__operators__.getitem_332[0][0\n",
      "                                                                 tf.__operators__.getitem_333[0][0\n",
      "                                                                 tf.__operators__.getitem_334[0][0\n",
      "                                                                 tf.__operators__.getitem_335[0][0\n",
      "                                                                 tf.__operators__.getitem_336[0][0\n",
      "                                                                 tf.__operators__.getitem_337[0][0\n",
      "                                                                 tf.__operators__.getitem_338[0][0\n",
      "                                                                 tf.__operators__.getitem_339[0][0\n",
      "                                                                 tf.__operators__.getitem_340[0][0\n",
      "                                                                 tf.__operators__.getitem_341[0][0\n",
      "                                                                 tf.__operators__.getitem_342[0][0\n",
      "                                                                 tf.__operators__.getitem_343[0][0\n",
      "                                                                 tf.__operators__.getitem_344[0][0\n",
      "                                                                 tf.__operators__.getitem_345[0][0\n",
      "                                                                 tf.__operators__.getitem_346[0][0\n",
      "                                                                 tf.__operators__.getitem_347[0][0\n",
      "                                                                 tf.__operators__.getitem_348[0][0\n",
      "                                                                 tf.__operators__.getitem_349[0][0\n",
      "                                                                 tf.__operators__.getitem_350[0][0\n",
      "                                                                 tf.__operators__.getitem_351[0][0\n",
      "                                                                 tf.__operators__.getitem_352[0][0\n",
      "                                                                 tf.__operators__.getitem_353[0][0\n",
      "                                                                 tf.__operators__.getitem_354[0][0\n",
      "                                                                 tf.__operators__.getitem_355[0][0\n",
      "                                                                 tf.__operators__.getitem_356[0][0\n",
      "                                                                 tf.__operators__.getitem_357[0][0\n",
      "                                                                 tf.__operators__.getitem_358[0][0\n",
      "                                                                 tf.__operators__.getitem_359[0][0\n",
      "                                                                 tf.__operators__.getitem_360[0][0\n",
      "                                                                 tf.__operators__.getitem_361[0][0\n",
      "                                                                 tf.__operators__.getitem_362[0][0\n",
      "                                                                 tf.__operators__.getitem_363[0][0\n",
      "                                                                 tf.__operators__.getitem_364[0][0\n",
      "                                                                 tf.__operators__.getitem_365[0][0\n",
      "                                                                 tf.__operators__.getitem_366[0][0\n",
      "                                                                 tf.__operators__.getitem_367[0][0\n",
      "                                                                 tf.__operators__.getitem_368[0][0\n",
      "                                                                 tf.__operators__.getitem_369[0][0\n",
      "                                                                 tf.__operators__.getitem_370[0][0\n",
      "                                                                 tf.__operators__.getitem_371[0][0\n",
      "                                                                 tf.__operators__.getitem_372[0][0\n",
      "                                                                 tf.__operators__.getitem_373[0][0\n",
      "__________________________________________________________________________________________________\n",
      "lambda_1 (Lambda)               (None, 1)            0           Quantum_Conv_Layer_1[0][0]       \n",
      "                                                                 Quantum_Conv_Layer_1[1][0]       \n",
      "                                                                 Quantum_Conv_Layer_1[2][0]       \n",
      "                                                                 Quantum_Conv_Layer_1[3][0]       \n",
      "                                                                 Quantum_Conv_Layer_1[4][0]       \n",
      "                                                                 Quantum_Conv_Layer_1[5][0]       \n",
      "                                                                 Quantum_Conv_Layer_1[6][0]       \n",
      "                                                                 Quantum_Conv_Layer_1[7][0]       \n",
      "                                                                 Quantum_Conv_Layer_1[8][0]       \n",
      "                                                                 Quantum_Conv_Layer_1[9][0]       \n",
      "                                                                 Quantum_Conv_Layer_1[10][0]      \n",
      "                                                                 Quantum_Conv_Layer_1[11][0]      \n",
      "                                                                 Quantum_Conv_Layer_1[12][0]      \n",
      "                                                                 Quantum_Conv_Layer_1[13][0]      \n",
      "                                                                 Quantum_Conv_Layer_1[14][0]      \n",
      "                                                                 Quantum_Conv_Layer_1[15][0]      \n",
      "                                                                 Quantum_Conv_Layer_1[16][0]      \n",
      "                                                                 Quantum_Conv_Layer_1[17][0]      \n",
      "                                                                 Quantum_Conv_Layer_1[18][0]      \n",
      "                                                                 Quantum_Conv_Layer_1[19][0]      \n",
      "                                                                 Quantum_Conv_Layer_1[20][0]      \n",
      "                                                                 Quantum_Conv_Layer_1[21][0]      \n",
      "                                                                 Quantum_Conv_Layer_1[22][0]      \n",
      "                                                                 Quantum_Conv_Layer_1[23][0]      \n",
      "                                                                 Quantum_Conv_Layer_1[24][0]      \n",
      "                                                                 Quantum_Conv_Layer_1[25][0]      \n",
      "                                                                 Quantum_Conv_Layer_1[26][0]      \n",
      "                                                                 Quantum_Conv_Layer_1[27][0]      \n",
      "                                                                 Quantum_Conv_Layer_1[28][0]      \n",
      "                                                                 Quantum_Conv_Layer_1[29][0]      \n",
      "                                                                 Quantum_Conv_Layer_1[30][0]      \n",
      "                                                                 Quantum_Conv_Layer_1[31][0]      \n",
      "                                                                 Quantum_Conv_Layer_1[32][0]      \n",
      "                                                                 Quantum_Conv_Layer_1[33][0]      \n",
      "                                                                 Quantum_Conv_Layer_1[34][0]      \n",
      "                                                                 Quantum_Conv_Layer_1[35][0]      \n",
      "                                                                 Quantum_Conv_Layer_1[36][0]      \n",
      "                                                                 Quantum_Conv_Layer_1[37][0]      \n",
      "                                                                 Quantum_Conv_Layer_1[38][0]      \n",
      "                                                                 Quantum_Conv_Layer_1[39][0]      \n",
      "                                                                 Quantum_Conv_Layer_1[40][0]      \n",
      "                                                                 Quantum_Conv_Layer_1[41][0]      \n",
      "                                                                 Quantum_Conv_Layer_1[42][0]      \n",
      "                                                                 Quantum_Conv_Layer_1[43][0]      \n",
      "                                                                 Quantum_Conv_Layer_1[44][0]      \n",
      "                                                                 Quantum_Conv_Layer_1[45][0]      \n",
      "                                                                 Quantum_Conv_Layer_1[46][0]      \n",
      "                                                                 Quantum_Conv_Layer_1[47][0]      \n",
      "                                                                 Quantum_Conv_Layer_1[48][0]      \n",
      "                                                                 Quantum_Conv_Layer_1[49][0]      \n",
      "                                                                 Quantum_Conv_Layer_1[50][0]      \n",
      "                                                                 Quantum_Conv_Layer_1[51][0]      \n",
      "                                                                 Quantum_Conv_Layer_1[52][0]      \n",
      "                                                                 Quantum_Conv_Layer_1[53][0]      \n",
      "                                                                 Quantum_Conv_Layer_1[54][0]      \n",
      "                                                                 Quantum_Conv_Layer_1[55][0]      \n",
      "                                                                 Quantum_Conv_Layer_1[56][0]      \n",
      "                                                                 Quantum_Conv_Layer_1[57][0]      \n",
      "                                                                 Quantum_Conv_Layer_1[58][0]      \n",
      "                                                                 Quantum_Conv_Layer_1[59][0]      \n",
      "                                                                 Quantum_Conv_Layer_1[60][0]      \n",
      "                                                                 Quantum_Conv_Layer_1[61][0]      \n",
      "                                                                 Quantum_Conv_Layer_1[62][0]      \n",
      "                                                                 Quantum_Conv_Layer_1[63][0]      \n",
      "                                                                 Quantum_Conv_Layer_1[64][0]      \n",
      "                                                                 Quantum_Conv_Layer_1[65][0]      \n",
      "                                                                 Quantum_Conv_Layer_1[66][0]      \n",
      "                                                                 Quantum_Conv_Layer_1[67][0]      \n",
      "                                                                 Quantum_Conv_Layer_1[68][0]      \n",
      "                                                                 Quantum_Conv_Layer_1[69][0]      \n",
      "                                                                 Quantum_Conv_Layer_1[70][0]      \n",
      "                                                                 Quantum_Conv_Layer_1[71][0]      \n",
      "                                                                 Quantum_Conv_Layer_1[72][0]      \n",
      "                                                                 Quantum_Conv_Layer_1[73][0]      \n",
      "                                                                 Quantum_Conv_Layer_1[74][0]      \n",
      "                                                                 Quantum_Conv_Layer_1[75][0]      \n",
      "                                                                 Quantum_Conv_Layer_1[76][0]      \n",
      "                                                                 Quantum_Conv_Layer_1[77][0]      \n",
      "                                                                 Quantum_Conv_Layer_1[78][0]      \n",
      "                                                                 Quantum_Conv_Layer_1[79][0]      \n",
      "                                                                 Quantum_Conv_Layer_1[80][0]      \n",
      "                                                                 Quantum_Conv_Layer_1[81][0]      \n",
      "                                                                 Quantum_Conv_Layer_1[82][0]      \n",
      "                                                                 Quantum_Conv_Layer_1[83][0]      \n",
      "                                                                 Quantum_Conv_Layer_1[84][0]      \n",
      "                                                                 Quantum_Conv_Layer_1[85][0]      \n",
      "                                                                 Quantum_Conv_Layer_1[86][0]      \n",
      "                                                                 Quantum_Conv_Layer_1[87][0]      \n",
      "                                                                 Quantum_Conv_Layer_1[88][0]      \n",
      "                                                                 Quantum_Conv_Layer_1[89][0]      \n",
      "                                                                 Quantum_Conv_Layer_1[90][0]      \n",
      "                                                                 Quantum_Conv_Layer_1[91][0]      \n",
      "                                                                 Quantum_Conv_Layer_1[92][0]      \n",
      "                                                                 Quantum_Conv_Layer_1[93][0]      \n",
      "                                                                 Quantum_Conv_Layer_1[94][0]      \n",
      "                                                                 Quantum_Conv_Layer_1[95][0]      \n",
      "                                                                 Quantum_Conv_Layer_1[96][0]      \n",
      "                                                                 Quantum_Conv_Layer_1[97][0]      \n",
      "                                                                 Quantum_Conv_Layer_1[98][0]      \n",
      "                                                                 Quantum_Conv_Layer_1[99][0]      \n",
      "                                                                 Quantum_Conv_Layer_1[100][0]     \n",
      "                                                                 Quantum_Conv_Layer_1[101][0]     \n",
      "                                                                 Quantum_Conv_Layer_1[102][0]     \n",
      "                                                                 Quantum_Conv_Layer_1[103][0]     \n",
      "                                                                 Quantum_Conv_Layer_1[104][0]     \n",
      "                                                                 Quantum_Conv_Layer_1[105][0]     \n",
      "                                                                 Quantum_Conv_Layer_1[106][0]     \n",
      "                                                                 Quantum_Conv_Layer_1[107][0]     \n",
      "                                                                 Quantum_Conv_Layer_1[108][0]     \n",
      "                                                                 Quantum_Conv_Layer_1[109][0]     \n",
      "                                                                 Quantum_Conv_Layer_1[110][0]     \n",
      "                                                                 Quantum_Conv_Layer_1[111][0]     \n",
      "                                                                 Quantum_Conv_Layer_1[112][0]     \n",
      "                                                                 Quantum_Conv_Layer_1[113][0]     \n",
      "                                                                 Quantum_Conv_Layer_1[114][0]     \n",
      "                                                                 Quantum_Conv_Layer_1[115][0]     \n",
      "                                                                 Quantum_Conv_Layer_1[116][0]     \n",
      "                                                                 Quantum_Conv_Layer_1[117][0]     \n",
      "                                                                 Quantum_Conv_Layer_1[118][0]     \n",
      "                                                                 Quantum_Conv_Layer_1[119][0]     \n",
      "                                                                 Quantum_Conv_Layer_1[120][0]     \n",
      "                                                                 Quantum_Conv_Layer_1[121][0]     \n",
      "                                                                 Quantum_Conv_Layer_1[122][0]     \n",
      "                                                                 Quantum_Conv_Layer_1[123][0]     \n",
      "                                                                 Quantum_Conv_Layer_1[124][0]     \n",
      "                                                                 Quantum_Conv_Layer_1[125][0]     \n",
      "                                                                 Quantum_Conv_Layer_1[126][0]     \n",
      "                                                                 Quantum_Conv_Layer_1[127][0]     \n",
      "                                                                 Quantum_Conv_Layer_1[128][0]     \n",
      "                                                                 Quantum_Conv_Layer_1[129][0]     \n",
      "                                                                 Quantum_Conv_Layer_1[130][0]     \n",
      "                                                                 Quantum_Conv_Layer_1[131][0]     \n",
      "                                                                 Quantum_Conv_Layer_1[132][0]     \n",
      "                                                                 Quantum_Conv_Layer_1[133][0]     \n",
      "                                                                 Quantum_Conv_Layer_1[134][0]     \n",
      "                                                                 Quantum_Conv_Layer_1[135][0]     \n",
      "                                                                 Quantum_Conv_Layer_1[136][0]     \n",
      "                                                                 Quantum_Conv_Layer_1[137][0]     \n",
      "                                                                 Quantum_Conv_Layer_1[138][0]     \n",
      "                                                                 Quantum_Conv_Layer_1[139][0]     \n",
      "                                                                 Quantum_Conv_Layer_1[140][0]     \n",
      "                                                                 Quantum_Conv_Layer_1[141][0]     \n",
      "                                                                 Quantum_Conv_Layer_1[142][0]     \n",
      "                                                                 Quantum_Conv_Layer_1[143][0]     \n",
      "                                                                 Quantum_Conv_Layer_1[144][0]     \n",
      "                                                                 Quantum_Conv_Layer_1[145][0]     \n",
      "                                                                 Quantum_Conv_Layer_1[146][0]     \n",
      "                                                                 Quantum_Conv_Layer_1[147][0]     \n",
      "                                                                 Quantum_Conv_Layer_1[148][0]     \n",
      "                                                                 Quantum_Conv_Layer_1[149][0]     \n",
      "                                                                 Quantum_Conv_Layer_1[150][0]     \n",
      "                                                                 Quantum_Conv_Layer_1[151][0]     \n",
      "                                                                 Quantum_Conv_Layer_1[152][0]     \n",
      "                                                                 Quantum_Conv_Layer_1[153][0]     \n",
      "                                                                 Quantum_Conv_Layer_1[154][0]     \n",
      "                                                                 Quantum_Conv_Layer_1[155][0]     \n",
      "                                                                 Quantum_Conv_Layer_1[156][0]     \n",
      "                                                                 Quantum_Conv_Layer_1[157][0]     \n",
      "                                                                 Quantum_Conv_Layer_1[158][0]     \n",
      "                                                                 Quantum_Conv_Layer_1[159][0]     \n",
      "                                                                 Quantum_Conv_Layer_1[160][0]     \n",
      "                                                                 Quantum_Conv_Layer_1[161][0]     \n",
      "                                                                 Quantum_Conv_Layer_1[162][0]     \n",
      "                                                                 Quantum_Conv_Layer_1[163][0]     \n",
      "                                                                 Quantum_Conv_Layer_1[164][0]     \n",
      "                                                                 Quantum_Conv_Layer_1[165][0]     \n",
      "                                                                 Quantum_Conv_Layer_1[166][0]     \n",
      "                                                                 Quantum_Conv_Layer_1[167][0]     \n",
      "                                                                 Quantum_Conv_Layer_1[168][0]     \n",
      "                                                                 Quantum_Conv_Layer_2[0][0]       \n",
      "                                                                 Quantum_Conv_Layer_2[1][0]       \n",
      "                                                                 Quantum_Conv_Layer_2[2][0]       \n",
      "                                                                 Quantum_Conv_Layer_2[3][0]       \n",
      "                                                                 Quantum_Conv_Layer_2[4][0]       \n",
      "                                                                 Quantum_Conv_Layer_2[5][0]       \n",
      "                                                                 Quantum_Conv_Layer_2[6][0]       \n",
      "                                                                 Quantum_Conv_Layer_2[7][0]       \n",
      "                                                                 Quantum_Conv_Layer_2[8][0]       \n",
      "                                                                 Quantum_Conv_Layer_2[9][0]       \n",
      "                                                                 Quantum_Conv_Layer_2[10][0]      \n",
      "                                                                 Quantum_Conv_Layer_2[11][0]      \n",
      "                                                                 Quantum_Conv_Layer_2[12][0]      \n",
      "                                                                 Quantum_Conv_Layer_2[13][0]      \n",
      "                                                                 Quantum_Conv_Layer_2[14][0]      \n",
      "                                                                 Quantum_Conv_Layer_2[15][0]      \n",
      "                                                                 Quantum_Conv_Layer_2[16][0]      \n",
      "                                                                 Quantum_Conv_Layer_2[17][0]      \n",
      "                                                                 Quantum_Conv_Layer_2[18][0]      \n",
      "                                                                 Quantum_Conv_Layer_2[19][0]      \n",
      "                                                                 Quantum_Conv_Layer_2[20][0]      \n",
      "                                                                 Quantum_Conv_Layer_2[21][0]      \n",
      "                                                                 Quantum_Conv_Layer_2[22][0]      \n",
      "                                                                 Quantum_Conv_Layer_2[23][0]      \n",
      "                                                                 Quantum_Conv_Layer_2[24][0]      \n",
      "                                                                 Quantum_Conv_Layer_2[25][0]      \n",
      "                                                                 Quantum_Conv_Layer_2[26][0]      \n",
      "                                                                 Quantum_Conv_Layer_2[27][0]      \n",
      "                                                                 Quantum_Conv_Layer_2[28][0]      \n",
      "                                                                 Quantum_Conv_Layer_2[29][0]      \n",
      "                                                                 Quantum_Conv_Layer_2[30][0]      \n",
      "                                                                 Quantum_Conv_Layer_2[31][0]      \n",
      "                                                                 Quantum_Conv_Layer_2[32][0]      \n",
      "                                                                 Quantum_Conv_Layer_2[33][0]      \n",
      "                                                                 Quantum_Conv_Layer_2[34][0]      \n",
      "                                                                 Quantum_Conv_Layer_2[35][0]      \n",
      "__________________________________________________________________________________________________\n",
      "concatenate_2 (Concatenate)     (None, 169)          0           lambda_1[0][0]                   \n",
      "                                                                 lambda_1[1][0]                   \n",
      "                                                                 lambda_1[2][0]                   \n",
      "                                                                 lambda_1[3][0]                   \n",
      "                                                                 lambda_1[4][0]                   \n",
      "                                                                 lambda_1[5][0]                   \n",
      "                                                                 lambda_1[6][0]                   \n",
      "                                                                 lambda_1[7][0]                   \n",
      "                                                                 lambda_1[8][0]                   \n",
      "                                                                 lambda_1[9][0]                   \n",
      "                                                                 lambda_1[10][0]                  \n",
      "                                                                 lambda_1[11][0]                  \n",
      "                                                                 lambda_1[12][0]                  \n",
      "                                                                 lambda_1[13][0]                  \n",
      "                                                                 lambda_1[14][0]                  \n",
      "                                                                 lambda_1[15][0]                  \n",
      "                                                                 lambda_1[16][0]                  \n",
      "                                                                 lambda_1[17][0]                  \n",
      "                                                                 lambda_1[18][0]                  \n",
      "                                                                 lambda_1[19][0]                  \n",
      "                                                                 lambda_1[20][0]                  \n",
      "                                                                 lambda_1[21][0]                  \n",
      "                                                                 lambda_1[22][0]                  \n",
      "                                                                 lambda_1[23][0]                  \n",
      "                                                                 lambda_1[24][0]                  \n",
      "                                                                 lambda_1[25][0]                  \n",
      "                                                                 lambda_1[26][0]                  \n",
      "                                                                 lambda_1[27][0]                  \n",
      "                                                                 lambda_1[28][0]                  \n",
      "                                                                 lambda_1[29][0]                  \n",
      "                                                                 lambda_1[30][0]                  \n",
      "                                                                 lambda_1[31][0]                  \n",
      "                                                                 lambda_1[32][0]                  \n",
      "                                                                 lambda_1[33][0]                  \n",
      "                                                                 lambda_1[34][0]                  \n",
      "                                                                 lambda_1[35][0]                  \n",
      "                                                                 lambda_1[36][0]                  \n",
      "                                                                 lambda_1[37][0]                  \n",
      "                                                                 lambda_1[38][0]                  \n",
      "                                                                 lambda_1[39][0]                  \n",
      "                                                                 lambda_1[40][0]                  \n",
      "                                                                 lambda_1[41][0]                  \n",
      "                                                                 lambda_1[42][0]                  \n",
      "                                                                 lambda_1[43][0]                  \n",
      "                                                                 lambda_1[44][0]                  \n",
      "                                                                 lambda_1[45][0]                  \n",
      "                                                                 lambda_1[46][0]                  \n",
      "                                                                 lambda_1[47][0]                  \n",
      "                                                                 lambda_1[48][0]                  \n",
      "                                                                 lambda_1[49][0]                  \n",
      "                                                                 lambda_1[50][0]                  \n",
      "                                                                 lambda_1[51][0]                  \n",
      "                                                                 lambda_1[52][0]                  \n",
      "                                                                 lambda_1[53][0]                  \n",
      "                                                                 lambda_1[54][0]                  \n",
      "                                                                 lambda_1[55][0]                  \n",
      "                                                                 lambda_1[56][0]                  \n",
      "                                                                 lambda_1[57][0]                  \n",
      "                                                                 lambda_1[58][0]                  \n",
      "                                                                 lambda_1[59][0]                  \n",
      "                                                                 lambda_1[60][0]                  \n",
      "                                                                 lambda_1[61][0]                  \n",
      "                                                                 lambda_1[62][0]                  \n",
      "                                                                 lambda_1[63][0]                  \n",
      "                                                                 lambda_1[64][0]                  \n",
      "                                                                 lambda_1[65][0]                  \n",
      "                                                                 lambda_1[66][0]                  \n",
      "                                                                 lambda_1[67][0]                  \n",
      "                                                                 lambda_1[68][0]                  \n",
      "                                                                 lambda_1[69][0]                  \n",
      "                                                                 lambda_1[70][0]                  \n",
      "                                                                 lambda_1[71][0]                  \n",
      "                                                                 lambda_1[72][0]                  \n",
      "                                                                 lambda_1[73][0]                  \n",
      "                                                                 lambda_1[74][0]                  \n",
      "                                                                 lambda_1[75][0]                  \n",
      "                                                                 lambda_1[76][0]                  \n",
      "                                                                 lambda_1[77][0]                  \n",
      "                                                                 lambda_1[78][0]                  \n",
      "                                                                 lambda_1[79][0]                  \n",
      "                                                                 lambda_1[80][0]                  \n",
      "                                                                 lambda_1[81][0]                  \n",
      "                                                                 lambda_1[82][0]                  \n",
      "                                                                 lambda_1[83][0]                  \n",
      "                                                                 lambda_1[84][0]                  \n",
      "                                                                 lambda_1[85][0]                  \n",
      "                                                                 lambda_1[86][0]                  \n",
      "                                                                 lambda_1[87][0]                  \n",
      "                                                                 lambda_1[88][0]                  \n",
      "                                                                 lambda_1[89][0]                  \n",
      "                                                                 lambda_1[90][0]                  \n",
      "                                                                 lambda_1[91][0]                  \n",
      "                                                                 lambda_1[92][0]                  \n",
      "                                                                 lambda_1[93][0]                  \n",
      "                                                                 lambda_1[94][0]                  \n",
      "                                                                 lambda_1[95][0]                  \n",
      "                                                                 lambda_1[96][0]                  \n",
      "                                                                 lambda_1[97][0]                  \n",
      "                                                                 lambda_1[98][0]                  \n",
      "                                                                 lambda_1[99][0]                  \n",
      "                                                                 lambda_1[100][0]                 \n",
      "                                                                 lambda_1[101][0]                 \n",
      "                                                                 lambda_1[102][0]                 \n",
      "                                                                 lambda_1[103][0]                 \n",
      "                                                                 lambda_1[104][0]                 \n",
      "                                                                 lambda_1[105][0]                 \n",
      "                                                                 lambda_1[106][0]                 \n",
      "                                                                 lambda_1[107][0]                 \n",
      "                                                                 lambda_1[108][0]                 \n",
      "                                                                 lambda_1[109][0]                 \n",
      "                                                                 lambda_1[110][0]                 \n",
      "                                                                 lambda_1[111][0]                 \n",
      "                                                                 lambda_1[112][0]                 \n",
      "                                                                 lambda_1[113][0]                 \n",
      "                                                                 lambda_1[114][0]                 \n",
      "                                                                 lambda_1[115][0]                 \n",
      "                                                                 lambda_1[116][0]                 \n",
      "                                                                 lambda_1[117][0]                 \n",
      "                                                                 lambda_1[118][0]                 \n",
      "                                                                 lambda_1[119][0]                 \n",
      "                                                                 lambda_1[120][0]                 \n",
      "                                                                 lambda_1[121][0]                 \n",
      "                                                                 lambda_1[122][0]                 \n",
      "                                                                 lambda_1[123][0]                 \n",
      "                                                                 lambda_1[124][0]                 \n",
      "                                                                 lambda_1[125][0]                 \n",
      "                                                                 lambda_1[126][0]                 \n",
      "                                                                 lambda_1[127][0]                 \n",
      "                                                                 lambda_1[128][0]                 \n",
      "                                                                 lambda_1[129][0]                 \n",
      "                                                                 lambda_1[130][0]                 \n",
      "                                                                 lambda_1[131][0]                 \n",
      "                                                                 lambda_1[132][0]                 \n",
      "                                                                 lambda_1[133][0]                 \n",
      "                                                                 lambda_1[134][0]                 \n",
      "                                                                 lambda_1[135][0]                 \n",
      "                                                                 lambda_1[136][0]                 \n",
      "                                                                 lambda_1[137][0]                 \n",
      "                                                                 lambda_1[138][0]                 \n",
      "                                                                 lambda_1[139][0]                 \n",
      "                                                                 lambda_1[140][0]                 \n",
      "                                                                 lambda_1[141][0]                 \n",
      "                                                                 lambda_1[142][0]                 \n",
      "                                                                 lambda_1[143][0]                 \n",
      "                                                                 lambda_1[144][0]                 \n",
      "                                                                 lambda_1[145][0]                 \n",
      "                                                                 lambda_1[146][0]                 \n",
      "                                                                 lambda_1[147][0]                 \n",
      "                                                                 lambda_1[148][0]                 \n",
      "                                                                 lambda_1[149][0]                 \n",
      "                                                                 lambda_1[150][0]                 \n",
      "                                                                 lambda_1[151][0]                 \n",
      "                                                                 lambda_1[152][0]                 \n",
      "                                                                 lambda_1[153][0]                 \n",
      "                                                                 lambda_1[154][0]                 \n",
      "                                                                 lambda_1[155][0]                 \n",
      "                                                                 lambda_1[156][0]                 \n",
      "                                                                 lambda_1[157][0]                 \n",
      "                                                                 lambda_1[158][0]                 \n",
      "                                                                 lambda_1[159][0]                 \n",
      "                                                                 lambda_1[160][0]                 \n",
      "                                                                 lambda_1[161][0]                 \n",
      "                                                                 lambda_1[162][0]                 \n",
      "                                                                 lambda_1[163][0]                 \n",
      "                                                                 lambda_1[164][0]                 \n",
      "                                                                 lambda_1[165][0]                 \n",
      "                                                                 lambda_1[166][0]                 \n",
      "                                                                 lambda_1[167][0]                 \n",
      "                                                                 lambda_1[168][0]                 \n",
      "__________________________________________________________________________________________________\n",
      "reshape_3 (Reshape)             (None, 13, 13)       0           concatenate_2[0][0]              \n",
      "__________________________________________________________________________________________________\n",
      "tf.__operators__.getitem_374 (S (None, 3, 3)         0           reshape_3[0][0]                  \n",
      "__________________________________________________________________________________________________\n",
      "tf.__operators__.getitem_375 (S (None, 3, 3)         0           reshape_3[0][0]                  \n",
      "__________________________________________________________________________________________________\n",
      "tf.__operators__.getitem_376 (S (None, 3, 3)         0           reshape_3[0][0]                  \n",
      "__________________________________________________________________________________________________\n",
      "tf.__operators__.getitem_377 (S (None, 3, 3)         0           reshape_3[0][0]                  \n",
      "__________________________________________________________________________________________________\n",
      "tf.__operators__.getitem_378 (S (None, 3, 3)         0           reshape_3[0][0]                  \n",
      "__________________________________________________________________________________________________\n",
      "tf.__operators__.getitem_379 (S (None, 3, 3)         0           reshape_3[0][0]                  \n",
      "__________________________________________________________________________________________________\n",
      "tf.__operators__.getitem_380 (S (None, 3, 3)         0           reshape_3[0][0]                  \n",
      "__________________________________________________________________________________________________\n",
      "tf.__operators__.getitem_381 (S (None, 3, 3)         0           reshape_3[0][0]                  \n",
      "__________________________________________________________________________________________________\n",
      "tf.__operators__.getitem_382 (S (None, 3, 3)         0           reshape_3[0][0]                  \n",
      "__________________________________________________________________________________________________\n",
      "tf.__operators__.getitem_383 (S (None, 3, 3)         0           reshape_3[0][0]                  \n",
      "__________________________________________________________________________________________________\n",
      "tf.__operators__.getitem_384 (S (None, 3, 3)         0           reshape_3[0][0]                  \n",
      "__________________________________________________________________________________________________\n",
      "tf.__operators__.getitem_385 (S (None, 3, 3)         0           reshape_3[0][0]                  \n",
      "__________________________________________________________________________________________________\n",
      "tf.__operators__.getitem_386 (S (None, 3, 3)         0           reshape_3[0][0]                  \n",
      "__________________________________________________________________________________________________\n",
      "tf.__operators__.getitem_387 (S (None, 3, 3)         0           reshape_3[0][0]                  \n",
      "__________________________________________________________________________________________________\n",
      "tf.__operators__.getitem_388 (S (None, 3, 3)         0           reshape_3[0][0]                  \n",
      "__________________________________________________________________________________________________\n",
      "tf.__operators__.getitem_389 (S (None, 3, 3)         0           reshape_3[0][0]                  \n",
      "__________________________________________________________________________________________________\n",
      "tf.__operators__.getitem_390 (S (None, 3, 3)         0           reshape_3[0][0]                  \n",
      "__________________________________________________________________________________________________\n",
      "tf.__operators__.getitem_391 (S (None, 3, 3)         0           reshape_3[0][0]                  \n",
      "__________________________________________________________________________________________________\n",
      "tf.__operators__.getitem_392 (S (None, 3, 3)         0           reshape_3[0][0]                  \n",
      "__________________________________________________________________________________________________\n",
      "tf.__operators__.getitem_393 (S (None, 3, 3)         0           reshape_3[0][0]                  \n",
      "__________________________________________________________________________________________________\n",
      "tf.__operators__.getitem_394 (S (None, 3, 3)         0           reshape_3[0][0]                  \n",
      "__________________________________________________________________________________________________\n",
      "tf.__operators__.getitem_395 (S (None, 3, 3)         0           reshape_3[0][0]                  \n",
      "__________________________________________________________________________________________________\n",
      "tf.__operators__.getitem_396 (S (None, 3, 3)         0           reshape_3[0][0]                  \n",
      "__________________________________________________________________________________________________\n",
      "tf.__operators__.getitem_397 (S (None, 3, 3)         0           reshape_3[0][0]                  \n",
      "__________________________________________________________________________________________________\n",
      "tf.__operators__.getitem_398 (S (None, 3, 3)         0           reshape_3[0][0]                  \n",
      "__________________________________________________________________________________________________\n",
      "tf.__operators__.getitem_399 (S (None, 3, 3)         0           reshape_3[0][0]                  \n",
      "__________________________________________________________________________________________________\n",
      "tf.__operators__.getitem_400 (S (None, 3, 3)         0           reshape_3[0][0]                  \n",
      "__________________________________________________________________________________________________\n",
      "tf.__operators__.getitem_401 (S (None, 3, 3)         0           reshape_3[0][0]                  \n",
      "__________________________________________________________________________________________________\n",
      "tf.__operators__.getitem_402 (S (None, 3, 3)         0           reshape_3[0][0]                  \n",
      "__________________________________________________________________________________________________\n",
      "tf.__operators__.getitem_403 (S (None, 3, 3)         0           reshape_3[0][0]                  \n",
      "__________________________________________________________________________________________________\n",
      "tf.__operators__.getitem_404 (S (None, 3, 3)         0           reshape_3[0][0]                  \n",
      "__________________________________________________________________________________________________\n",
      "tf.__operators__.getitem_405 (S (None, 3, 3)         0           reshape_3[0][0]                  \n",
      "__________________________________________________________________________________________________\n",
      "tf.__operators__.getitem_406 (S (None, 3, 3)         0           reshape_3[0][0]                  \n",
      "__________________________________________________________________________________________________\n",
      "tf.__operators__.getitem_407 (S (None, 3, 3)         0           reshape_3[0][0]                  \n",
      "__________________________________________________________________________________________________\n",
      "tf.__operators__.getitem_408 (S (None, 3, 3)         0           reshape_3[0][0]                  \n",
      "__________________________________________________________________________________________________\n",
      "tf.__operators__.getitem_409 (S (None, 3, 3)         0           reshape_3[0][0]                  \n",
      "__________________________________________________________________________________________________\n",
      "Quantum_Conv_Layer_2 (KerasLaye (None, 3)            18          tf.__operators__.getitem_374[0][0\n",
      "                                                                 tf.__operators__.getitem_375[0][0\n",
      "                                                                 tf.__operators__.getitem_376[0][0\n",
      "                                                                 tf.__operators__.getitem_377[0][0\n",
      "                                                                 tf.__operators__.getitem_378[0][0\n",
      "                                                                 tf.__operators__.getitem_379[0][0\n",
      "                                                                 tf.__operators__.getitem_380[0][0\n",
      "                                                                 tf.__operators__.getitem_381[0][0\n",
      "                                                                 tf.__operators__.getitem_382[0][0\n",
      "                                                                 tf.__operators__.getitem_383[0][0\n",
      "                                                                 tf.__operators__.getitem_384[0][0\n",
      "                                                                 tf.__operators__.getitem_385[0][0\n",
      "                                                                 tf.__operators__.getitem_386[0][0\n",
      "                                                                 tf.__operators__.getitem_387[0][0\n",
      "                                                                 tf.__operators__.getitem_388[0][0\n",
      "                                                                 tf.__operators__.getitem_389[0][0\n",
      "                                                                 tf.__operators__.getitem_390[0][0\n",
      "                                                                 tf.__operators__.getitem_391[0][0\n",
      "                                                                 tf.__operators__.getitem_392[0][0\n",
      "                                                                 tf.__operators__.getitem_393[0][0\n",
      "                                                                 tf.__operators__.getitem_394[0][0\n",
      "                                                                 tf.__operators__.getitem_395[0][0\n",
      "                                                                 tf.__operators__.getitem_396[0][0\n",
      "                                                                 tf.__operators__.getitem_397[0][0\n",
      "                                                                 tf.__operators__.getitem_398[0][0\n",
      "                                                                 tf.__operators__.getitem_399[0][0\n",
      "                                                                 tf.__operators__.getitem_400[0][0\n",
      "                                                                 tf.__operators__.getitem_401[0][0\n",
      "                                                                 tf.__operators__.getitem_402[0][0\n",
      "                                                                 tf.__operators__.getitem_403[0][0\n",
      "                                                                 tf.__operators__.getitem_404[0][0\n",
      "                                                                 tf.__operators__.getitem_405[0][0\n",
      "                                                                 tf.__operators__.getitem_406[0][0\n",
      "                                                                 tf.__operators__.getitem_407[0][0\n",
      "                                                                 tf.__operators__.getitem_408[0][0\n",
      "                                                                 tf.__operators__.getitem_409[0][0\n",
      "__________________________________________________________________________________________________\n",
      "concatenate_3 (Concatenate)     (None, 36)           0           lambda_1[169][0]                 \n",
      "                                                                 lambda_1[170][0]                 \n",
      "                                                                 lambda_1[171][0]                 \n",
      "                                                                 lambda_1[172][0]                 \n",
      "                                                                 lambda_1[173][0]                 \n",
      "                                                                 lambda_1[174][0]                 \n",
      "                                                                 lambda_1[175][0]                 \n",
      "                                                                 lambda_1[176][0]                 \n",
      "                                                                 lambda_1[177][0]                 \n",
      "                                                                 lambda_1[178][0]                 \n",
      "                                                                 lambda_1[179][0]                 \n",
      "                                                                 lambda_1[180][0]                 \n",
      "                                                                 lambda_1[181][0]                 \n",
      "                                                                 lambda_1[182][0]                 \n",
      "                                                                 lambda_1[183][0]                 \n",
      "                                                                 lambda_1[184][0]                 \n",
      "                                                                 lambda_1[185][0]                 \n",
      "                                                                 lambda_1[186][0]                 \n",
      "                                                                 lambda_1[187][0]                 \n",
      "                                                                 lambda_1[188][0]                 \n",
      "                                                                 lambda_1[189][0]                 \n",
      "                                                                 lambda_1[190][0]                 \n",
      "                                                                 lambda_1[191][0]                 \n",
      "                                                                 lambda_1[192][0]                 \n",
      "                                                                 lambda_1[193][0]                 \n",
      "                                                                 lambda_1[194][0]                 \n",
      "                                                                 lambda_1[195][0]                 \n",
      "                                                                 lambda_1[196][0]                 \n",
      "                                                                 lambda_1[197][0]                 \n",
      "                                                                 lambda_1[198][0]                 \n",
      "                                                                 lambda_1[199][0]                 \n",
      "                                                                 lambda_1[200][0]                 \n",
      "                                                                 lambda_1[201][0]                 \n",
      "                                                                 lambda_1[202][0]                 \n",
      "                                                                 lambda_1[203][0]                 \n",
      "                                                                 lambda_1[204][0]                 \n",
      "__________________________________________________________________________________________________\n",
      "reshape_4 (Reshape)             (None, 6, 6, 1)      0           concatenate_3[0][0]              \n",
      "__________________________________________________________________________________________________\n",
      "Max_Pool_Layer (MaxPooling2D)   (None, 3, 3, 1)      0           reshape_4[0][0]                  \n",
      "__________________________________________________________________________________________________\n",
      "reshape_5 (Reshape)             (None, 9)            0           Max_Pool_Layer[0][0]             \n",
      "__________________________________________________________________________________________________\n",
      "Quantum_FC_Layer (KerasLayer)   (None, 2)            18          reshape_5[0][0]                  \n",
      "__________________________________________________________________________________________________\n",
      "class_weights_1 (class_weights) (None, 2)            2           Quantum_FC_Layer[0][0]           \n",
      "==================================================================================================\n",
      "Total params: 56\n",
      "Trainable params: 56\n",
      "Non-trainable params: 0\n",
      "__________________________________________________________________________________________________\n"
     ]
    }
   ],
   "source": [
    "model.summary()"
   ]
  },
  {
   "cell_type": "code",
   "execution_count": 38,
   "metadata": {},
   "outputs": [
    {
     "data": {
      "text/plain": [
       "{'loss': [0.34481269121170044,\n",
       "  0.3044092059135437,\n",
       "  0.3026699125766754,\n",
       "  0.27116385102272034,\n",
       "  0.22749872505664825,\n",
       "  0.08582717925310135,\n",
       "  0.06390812993049622,\n",
       "  0.05798038840293884,\n",
       "  0.046649716794490814,\n",
       "  0.030825350433588028],\n",
       " 'accuracy': [0.4650000035762787,\n",
       "  0.49000000953674316,\n",
       "  0.4650000035762787,\n",
       "  0.49000000953674316,\n",
       "  0.6100000143051147,\n",
       "  0.9175000190734863,\n",
       "  0.9549999833106995,\n",
       "  0.9549999833106995,\n",
       "  0.9674999713897705,\n",
       "  0.9825000166893005],\n",
       " 'val_loss': [0.26657232642173767,\n",
       "  0.31021952629089355,\n",
       "  0.2624344825744629,\n",
       "  0.24045850336551666,\n",
       "  0.154154434800148,\n",
       "  0.06914979964494705,\n",
       "  0.05882997438311577,\n",
       "  0.05190657079219818,\n",
       "  0.039575014263391495,\n",
       "  0.02987409383058548],\n",
       " 'val_accuracy': [0.5,\n",
       "  0.5,\n",
       "  0.4950000047683716,\n",
       "  0.7300000190734863,\n",
       "  0.7670000195503235,\n",
       "  0.9210000038146973,\n",
       "  0.9800000190734863,\n",
       "  0.9599999785423279,\n",
       "  0.9729999899864197,\n",
       "  0.9890000224113464]}"
      ]
     },
     "execution_count": 38,
     "metadata": {},
     "output_type": "execute_result"
    }
   ],
   "source": [
    "# fix\n",
    "H.history"
   ]
  },
  {
   "cell_type": "code",
   "execution_count": 39,
   "metadata": {},
   "outputs": [
    {
     "data": {
      "text/plain": [
       "[<tf.Variable 'model_1/Quantum_Conv_Layer_1/conv_params:0' shape=(2, 1, 9) dtype=float32, numpy=\n",
       " array([[[-0.01394647, -0.9180745 ,  0.3520773 , -0.14303234,\n",
       "          -0.9048506 ,  0.37176555, -0.16525775, -3.6136618 ,\n",
       "          -0.41902274]],\n",
       " \n",
       "        [[-0.49606735,  1.2556682 , -0.07769981,  0.5340395 ,\n",
       "           1.7063764 ,  0.3667152 ,  0.2605304 ,  2.4217079 ,\n",
       "           0.3627016 ]]], dtype=float32)>,\n",
       " <tf.Variable 'model_1/Quantum_Conv_Layer_2/conv_params:0' shape=(2, 1, 9) dtype=float32, numpy=\n",
       " array([[[-0.10757411, -0.41194662, -0.06927276, -0.45313615,\n",
       "           0.85239655, -0.2606268 ,  0.0545575 , -0.26086468,\n",
       "          -0.36359942]],\n",
       " \n",
       "        [[ 0.51417446,  0.9190884 ,  0.48893535,  0.22704577,\n",
       "          -1.0236462 , -0.1639955 , -0.3668642 ,  0.4503818 ,\n",
       "           0.33067995]]], dtype=float32)>,\n",
       " <tf.Variable 'model_1/Quantum_FC_Layer/params:0' shape=(2, 1, 9) dtype=float32, numpy=\n",
       " array([[[ 0.0452978 ,  1.3397174 ,  0.04804303,  0.6457273 ,\n",
       "           0.02494428,  0.8689083 ,  0.40845865,  0.4663492 ,\n",
       "           0.26152346]],\n",
       " \n",
       "        [[ 0.01204019,  1.793265  , -0.01356405,  0.9039848 ,\n",
       "           0.6222204 ,  0.08992007,  0.0316943 ,  0.28753623,\n",
       "          -0.11343229]]], dtype=float32)>,\n",
       " <tf.Variable 'Variable:0' shape=(1, 2) dtype=float32, numpy=array([[1.0131811, 1.1272624]], dtype=float32)>]"
      ]
     },
     "execution_count": 39,
     "metadata": {},
     "output_type": "execute_result"
    }
   ],
   "source": [
    "# fix\n",
    "model.weights"
   ]
  },
  {
   "cell_type": "markdown",
   "metadata": {},
   "source": [
    "# Exploring the results"
   ]
  },
  {
   "cell_type": "code",
   "execution_count": 57,
   "metadata": {},
   "outputs": [
    {
     "data": {
      "text/plain": [
       "((40, 729), (40,))"
      ]
     },
     "execution_count": 57,
     "metadata": {},
     "output_type": "execute_result"
    }
   ],
   "source": [
    "X_train = np.concatenate((x_train_list[0][:20, :], x_train_list[1][:20, :]), axis=0)\n",
    "Y_train = np.zeros((X_train.shape[0],), dtype=int)\n",
    "Y_train[20:] += 1\n",
    "\n",
    "X_train.shape, Y_train.shape"
   ]
  },
  {
   "cell_type": "code",
   "execution_count": 58,
   "metadata": {},
   "outputs": [
    {
     "data": {
      "text/plain": [
       "((40, 729), (40,))"
      ]
     },
     "execution_count": 58,
     "metadata": {},
     "output_type": "execute_result"
    }
   ],
   "source": [
    "X_test = np.concatenate((x_test_list[0][:20, :], x_test_list[1][:20, :]), axis=0)\n",
    "Y_test = np.zeros((X_test.shape[0],), dtype=int)\n",
    "Y_test[20:] += 1\n",
    "\n",
    "X_test.shape, Y_test.shape"
   ]
  },
  {
   "cell_type": "code",
   "execution_count": 59,
   "metadata": {},
   "outputs": [
    {
     "data": {
      "text/plain": [
       "((40, 27, 27), (40, 27, 27))"
      ]
     },
     "execution_count": 59,
     "metadata": {},
     "output_type": "execute_result"
    }
   ],
   "source": [
    "X_train = X_train.reshape(X_train.shape[0], 27, 27)\n",
    "X_test = X_test.reshape(X_test.shape[0], 27, 27)\n",
    "\n",
    "X_train.shape, X_test.shape"
   ]
  },
  {
   "cell_type": "markdown",
   "metadata": {},
   "source": [
    "## First Layer"
   ]
  },
  {
   "cell_type": "code",
   "execution_count": 60,
   "metadata": {},
   "outputs": [
    {
     "data": {
      "text/plain": [
       "(2, 1, 9)"
      ]
     },
     "execution_count": 60,
     "metadata": {},
     "output_type": "execute_result"
    }
   ],
   "source": [
    "qconv_1_weights = np.array([[[-0.01394647, -0.9180745 ,  0.3520773 , -0.14303234,\n",
    "          -0.9048506 ,  0.37176555, -0.16525775, -3.6136618 ,\n",
    "          -0.41902274]],\n",
    " \n",
    "        [[-0.49606735,  1.2556682 , -0.07769981,  0.5340395 ,\n",
    "           1.7063764 ,  0.3667152 ,  0.2605304 ,  2.4217079 ,\n",
    "           0.3627016 ]]])\n",
    "\n",
    "qconv_1_weights.shape"
   ]
  },
  {
   "cell_type": "code",
   "execution_count": 61,
   "metadata": {},
   "outputs": [],
   "source": [
    "# Input image, size = 27 x 27\n",
    "X = tf.keras.Input(shape=(27,27), name='Input_Layer')\n",
    "\n",
    "\n",
    "# Specs for Conv\n",
    "c_filter = 3\n",
    "c_strides = 2\n",
    "\n",
    "\n",
    "# First Quantum Conv Layer, trainable params = 18, output size = 13 x 13\n",
    "num_conv_layer_1 = 1\n",
    "q_conv_layer_1 = qml.qnn.KerasLayer(q_conv, {\"conv_params\": (2, num_conv_layer_1, 9)}, output_dim=(3), name='Quantum_Conv_Layer_1')\n",
    "size_1 = int(1+(X.shape[1]-c_filter)/c_strides)\n",
    "q_conv_layer_1_list = []\n",
    "# height iteration\n",
    "for i in range(size_1):\n",
    "    # width iteration\n",
    "    for j in range(size_1):\n",
    "        temp = q_conv_layer_1(X[:, 2*i:2*(i+1)+1, 2*j:2*(j+1)+1])\n",
    "        temp = addition_layer(temp)\n",
    "        q_conv_layer_1_list += [temp]\n",
    "concat_layer_1 = tf.keras.layers.Concatenate(axis=1)(q_conv_layer_1_list)\n",
    "reshape_layer_1 = tf.keras.layers.Reshape((size_1, size_1))(concat_layer_1)\n",
    "\n",
    "qconv1_model = tf.keras.Model(inputs=X, outputs=reshape_layer_1)\n"
   ]
  },
  {
   "cell_type": "code",
   "execution_count": 62,
   "metadata": {},
   "outputs": [],
   "source": [
    "qconv1_model(X_train[0:1])\n",
    "qconv1_model.get_layer('Quantum_Conv_Layer_1').set_weights([qconv_1_weights])"
   ]
  },
  {
   "cell_type": "code",
   "execution_count": 63,
   "metadata": {},
   "outputs": [
    {
     "data": {
      "text/plain": [
       "[<tf.Variable 'model_4/Quantum_Conv_Layer_1/conv_params:0' shape=(2, 1, 9) dtype=float32, numpy=\n",
       " array([[[-0.01394647, -0.9180745 ,  0.3520773 , -0.14303234,\n",
       "          -0.9048506 ,  0.37176555, -0.16525775, -3.6136618 ,\n",
       "          -0.41902274]],\n",
       " \n",
       "        [[-0.49606735,  1.2556682 , -0.07769981,  0.5340395 ,\n",
       "           1.7063764 ,  0.3667152 ,  0.2605304 ,  2.4217079 ,\n",
       "           0.3627016 ]]], dtype=float32)>]"
      ]
     },
     "execution_count": 63,
     "metadata": {},
     "output_type": "execute_result"
    }
   ],
   "source": [
    "qconv1_model.weights"
   ]
  },
  {
   "cell_type": "code",
   "execution_count": 69,
   "metadata": {},
   "outputs": [
    {
     "name": "stdout",
     "output_type": "stream",
     "text": [
      "(40, 169) (40, 169)\n"
     ]
    }
   ],
   "source": [
    "preprocessed_img_train = qconv1_model(X_train)\n",
    "\n",
    "preprocessed_img_test = qconv1_model(X_test)\n",
    "\n",
    "data_train = preprocessed_img_train.numpy().reshape(-1, 13*13)\n",
    "np.savetxt('./2_QConv1_QFC-Filter1_Image_Train.txt', data_train)\n",
    "\n",
    "data_test = preprocessed_img_test.numpy().reshape(-1, 13*13)\n",
    "np.savetxt('./2_QConv1_QFC-Filter1_Image_Test.txt', data_test)\n",
    "\n",
    "print(data_train.shape, data_test.shape)"
   ]
  },
  {
   "cell_type": "markdown",
   "metadata": {},
   "source": [
    "## Second Layer"
   ]
  },
  {
   "cell_type": "code",
   "execution_count": 70,
   "metadata": {},
   "outputs": [
    {
     "data": {
      "text/plain": [
       "(2, 1, 9)"
      ]
     },
     "execution_count": 70,
     "metadata": {},
     "output_type": "execute_result"
    }
   ],
   "source": [
    "qconv_2_weights = np.array([[[-0.10757411, -0.41194662, -0.06927276, -0.45313615,\n",
    "           0.85239655, -0.2606268 ,  0.0545575 , -0.26086468,\n",
    "          -0.36359942]],\n",
    " \n",
    "        [[ 0.51417446,  0.9190884 ,  0.48893535,  0.22704577,\n",
    "          -1.0236462 , -0.1639955 , -0.3668642 ,  0.4503818 ,\n",
    "           0.33067995]]])\n",
    "\n",
    "qconv_2_weights.shape"
   ]
  },
  {
   "cell_type": "code",
   "execution_count": 72,
   "metadata": {},
   "outputs": [],
   "source": [
    "# Input image, size = 27 x 27\n",
    "X = tf.keras.Input(shape=(27,27), name='Input_Layer')\n",
    "\n",
    "\n",
    "# Specs for Conv\n",
    "c_filter = 3\n",
    "c_strides = 2\n",
    "\n",
    "\n",
    "# First Quantum Conv Layer, trainable params = 18, output size = 13 x 13\n",
    "num_conv_layer_1 = 1\n",
    "q_conv_layer_1 = qml.qnn.KerasLayer(q_conv, {\"conv_params\": (2, num_conv_layer_1, 9)}, output_dim=(3), name='Quantum_Conv_Layer_1')\n",
    "size_1 = int(1+(X.shape[1]-c_filter)/c_strides)\n",
    "q_conv_layer_1_list = []\n",
    "# height iteration\n",
    "for i in range(size_1):\n",
    "    # width iteration\n",
    "    for j in range(size_1):\n",
    "        temp = q_conv_layer_1(X[:, 2*i:2*(i+1)+1, 2*j:2*(j+1)+1])\n",
    "        temp = addition_layer(temp)\n",
    "        q_conv_layer_1_list += [temp]\n",
    "concat_layer_1 = tf.keras.layers.Concatenate(axis=1)(q_conv_layer_1_list)\n",
    "reshape_layer_1 = tf.keras.layers.Reshape((size_1, size_1))(concat_layer_1)\n",
    "\n",
    "\n",
    "# Second Quantum Conv Layer, trainable params = 18, output size = 6 x 6\n",
    "num_conv_layer_2 = 1\n",
    "q_conv_layer_2 = qml.qnn.KerasLayer(q_conv, {\"conv_params\": (2, num_conv_layer_2, 9)}, output_dim=(3), name='Quantum_Conv_Layer_2')\n",
    "size_2 = int(1+(reshape_layer_1.shape[1]-c_filter)/c_strides)\n",
    "q_conv_layer_2_list = []\n",
    "# height iteration\n",
    "for i in range(size_2):\n",
    "    # width iteration\n",
    "    for j in range(size_2):\n",
    "        temp = q_conv_layer_2(reshape_layer_1[:, 2*i:2*(i+1)+1, 2*j:2*(j+1)+1])\n",
    "        temp = addition_layer(temp)\n",
    "        q_conv_layer_2_list += [temp]\n",
    "concat_layer_2 = tf.keras.layers.Concatenate(axis=1)(q_conv_layer_2_list)\n",
    "reshape_layer_2 = tf.keras.layers.Reshape((size_2, size_2, 1))(concat_layer_2)\n",
    "\n",
    "qconv2_model = tf.keras.Model(inputs=X, outputs=reshape_layer_2)"
   ]
  },
  {
   "cell_type": "code",
   "execution_count": 73,
   "metadata": {},
   "outputs": [],
   "source": [
    "qconv2_model(X_train[0:1])\n",
    "qconv2_model.get_layer('Quantum_Conv_Layer_1').set_weights([qconv_1_weights])\n",
    "qconv2_model.get_layer('Quantum_Conv_Layer_2').set_weights([qconv_2_weights])"
   ]
  },
  {
   "cell_type": "code",
   "execution_count": 78,
   "metadata": {},
   "outputs": [
    {
     "data": {
      "text/plain": [
       "(1, 36)"
      ]
     },
     "execution_count": 78,
     "metadata": {},
     "output_type": "execute_result"
    }
   ],
   "source": [
    "qconv2_model(X_train[0:1]).numpy().reshape(-1, 6*6).shape"
   ]
  },
  {
   "cell_type": "code",
   "execution_count": 79,
   "metadata": {},
   "outputs": [
    {
     "name": "stdout",
     "output_type": "stream",
     "text": [
      "(40, 36) (40, 36)\n"
     ]
    }
   ],
   "source": [
    "preprocessed_img_train = qconv2_model(X_train)\n",
    "\n",
    "preprocessed_img_test = qconv2_model(X_test)\n",
    "\n",
    "data_train = preprocessed_img_train.numpy().reshape(-1, 6*6)\n",
    "np.savetxt('./2_QConv1_QFC-Filter2_Image_Train.txt', data_train)\n",
    "\n",
    "data_test = preprocessed_img_test.numpy().reshape(-1, 6*6)\n",
    "np.savetxt('./2_QConv1_QFC-Filter2_Image_Test.txt', data_test)\n",
    "\n",
    "print(data_train.shape, data_test.shape)"
   ]
  },
  {
   "cell_type": "markdown",
   "metadata": {},
   "source": [
    "## Quantum States"
   ]
  },
  {
   "cell_type": "code",
   "execution_count": 168,
   "metadata": {},
   "outputs": [],
   "source": [
    "q_fc_weights = np.array([[[ 0.0452978 ,  1.3397174 ,  0.04804303,  0.6457273 ,\n",
    "           0.02494428,  0.8689083 ,  0.40845865,  0.4663492 ,\n",
    "           0.26152346]],\n",
    " \n",
    "        [[ 0.01204019,  1.793265  , -0.01356405,  0.9039848 ,\n",
    "           0.6222204 ,  0.08992007,  0.0316943 ,  0.28753623,\n",
    "          -0.11343229]]])"
   ]
  },
  {
   "cell_type": "code",
   "execution_count": 81,
   "metadata": {},
   "outputs": [],
   "source": [
    "pred_train = model.predict(X_train)\n",
    "pred_test = model.predict(X_test)"
   ]
  },
  {
   "cell_type": "code",
   "execution_count": 86,
   "metadata": {},
   "outputs": [
    {
     "data": {
      "text/plain": [
       "tensor([0, 0, 0, 0, 0, 0, 0, 0, 0, 0, 0, 0, 0, 0, 0, 0, 0, 0, 0, 0, 1, 1,\n",
       "        1, 1, 1, 0, 1, 1, 1, 1, 1, 1, 1, 1, 1, 1, 1, 1, 1, 1], requires_grad=True)"
      ]
     },
     "execution_count": 86,
     "metadata": {},
     "output_type": "execute_result"
    }
   ],
   "source": [
    "np.argmax(pred_train, axis=1)"
   ]
  },
  {
   "cell_type": "code",
   "execution_count": 88,
   "metadata": {},
   "outputs": [
    {
     "data": {
      "text/plain": [
       "tensor([0, 0, 0, 0, 0, 0, 0, 0, 0, 0, 0, 0, 0, 0, 0, 0, 0, 0, 0, 0, 1, 1,\n",
       "        1, 1, 1, 1, 1, 1, 1, 1, 1, 1, 1, 1, 1, 1, 1, 1, 1, 1], requires_grad=True)"
      ]
     },
     "execution_count": 88,
     "metadata": {},
     "output_type": "execute_result"
    }
   ],
   "source": [
    "np.argmax(pred_test, axis=1)"
   ]
  },
  {
   "cell_type": "code",
   "execution_count": 163,
   "metadata": {},
   "outputs": [],
   "source": [
    "X = tf.keras.Input(shape=(27,27), name='Input_Layer')\n",
    "\n",
    "\n",
    "# Specs for Conv\n",
    "c_filter = 3\n",
    "c_strides = 2\n",
    "\n",
    "\n",
    "# First Quantum Conv Layer, trainable params = 18, output size = 13 x 13\n",
    "num_conv_layer_1 = 1\n",
    "q_conv_layer_1 = qml.qnn.KerasLayer(q_conv, {\"conv_params\": (2, num_conv_layer_1, 9)}, output_dim=(3), name='Quantum_Conv_Layer_1')\n",
    "size_1 = int(1+(X.shape[1]-c_filter)/c_strides)\n",
    "q_conv_layer_1_list = []\n",
    "# height iteration\n",
    "for i in range(size_1):\n",
    "    # width iteration\n",
    "    for j in range(size_1):\n",
    "        temp = q_conv_layer_1(X[:, 2*i:2*(i+1)+1, 2*j:2*(j+1)+1])\n",
    "        temp = addition_layer(temp)\n",
    "        q_conv_layer_1_list += [temp]\n",
    "concat_layer_1 = tf.keras.layers.Concatenate(axis=1)(q_conv_layer_1_list)\n",
    "reshape_layer_1 = tf.keras.layers.Reshape((size_1, size_1))(concat_layer_1)\n",
    "\n",
    "\n",
    "# Second Quantum Conv Layer, trainable params = 18, output size = 6 x 6\n",
    "num_conv_layer_2 = 1\n",
    "q_conv_layer_2 = qml.qnn.KerasLayer(q_conv, {\"conv_params\": (2, num_conv_layer_2, 9)}, output_dim=(3), name='Quantum_Conv_Layer_2')\n",
    "size_2 = int(1+(reshape_layer_1.shape[1]-c_filter)/c_strides)\n",
    "q_conv_layer_2_list = []\n",
    "# height iteration\n",
    "for i in range(size_2):\n",
    "    # width iteration\n",
    "    for j in range(size_2):\n",
    "        temp = q_conv_layer_2(reshape_layer_1[:, 2*i:2*(i+1)+1, 2*j:2*(j+1)+1])\n",
    "        temp = addition_layer(temp)\n",
    "        q_conv_layer_2_list += [temp]\n",
    "concat_layer_2 = tf.keras.layers.Concatenate(axis=1)(q_conv_layer_2_list)\n",
    "reshape_layer_2 = tf.keras.layers.Reshape((size_2, size_2, 1))(concat_layer_2)\n",
    "\n",
    "\n",
    "# Max Pooling Layer, output size = 9\n",
    "max_pool_layer = tf.keras.layers.MaxPooling2D(pool_size=(2, 2), strides=None, name='Max_Pool_Layer')(reshape_layer_2)\n",
    "reshape_layer_3 = tf.keras.layers.Reshape((9,))(max_pool_layer)\n",
    "\n",
    "maxpool_model = tf.keras.Model(inputs=X, outputs=reshape_layer_3)"
   ]
  },
  {
   "cell_type": "code",
   "execution_count": 164,
   "metadata": {},
   "outputs": [],
   "source": [
    "maxpool_model(X_train[0:1])\n",
    "maxpool_model.get_layer('Quantum_Conv_Layer_1').set_weights([qconv_1_weights])\n",
    "maxpool_model.get_layer('Quantum_Conv_Layer_2').set_weights([qconv_2_weights])"
   ]
  },
  {
   "cell_type": "code",
   "execution_count": 166,
   "metadata": {},
   "outputs": [
    {
     "data": {
      "text/plain": [
       "(TensorShape([40, 9]), TensorShape([40, 9]))"
      ]
     },
     "execution_count": 166,
     "metadata": {},
     "output_type": "execute_result"
    }
   ],
   "source": [
    "maxpool_train = maxpool_model(X_train)\n",
    "maxpool_test = maxpool_model(X_test)\n",
    "\n",
    "maxpool_train.shape, maxpool_test.shape"
   ]
  },
  {
   "cell_type": "code",
   "execution_count": 208,
   "metadata": {},
   "outputs": [],
   "source": [
    "n_qubits = 1  # number of class\n",
    "dev_state = qml.device(\"default.qubit\", wires=n_qubits)\n",
    "\n",
    "\n",
    "@qml.qnode(dev_state)\n",
    "def q_fc_state(params, inputs):\n",
    "    \n",
    "    # layer iteration\n",
    "    for l in range(len(params[0])):\n",
    "        # qubit iteration\n",
    "        for q in range(n_qubits):\n",
    "            # gate iteration\n",
    "            for g in range(int(len(inputs)/3)):\n",
    "                qml.Rot(*(params[0][l][3*g:3*(g+1)] * inputs[3*g:3*(g+1)] + params[1][l][3*g:3*(g+1)]), wires=q)\n",
    "    \n",
    "    #return [qml.expval(qml.Hermitian(density_matrix(state_labels[i]), wires=[i])) for i in range(n_qubits)]\n",
    "    return qml.expval(qml.Hermitian(density_matrix(state_labels[0]), wires=[0]))"
   ]
  },
  {
   "cell_type": "code",
   "execution_count": 214,
   "metadata": {},
   "outputs": [
    {
     "data": {
      "text/plain": [
       "tensor(1., requires_grad=True)"
      ]
     },
     "execution_count": 214,
     "metadata": {},
     "output_type": "execute_result"
    }
   ],
   "source": [
    "q_fc_state(np.zeros((2,1,9)), maxpool_train[0])"
   ]
  },
  {
   "cell_type": "code",
   "execution_count": 226,
   "metadata": {},
   "outputs": [
    {
     "data": {
      "text/plain": [
       "tensor(0.99582032, requires_grad=True)"
      ]
     },
     "execution_count": 226,
     "metadata": {},
     "output_type": "execute_result"
    }
   ],
   "source": [
    "q_fc_state(q_fc_weights, maxpool_train[0])"
   ]
  },
  {
   "cell_type": "code",
   "execution_count": 229,
   "metadata": {},
   "outputs": [],
   "source": [
    "train_state = np.zeros((len(X_train), 2), dtype=np.complex_)\n",
    "test_state = np.zeros((len(X_test), 2), dtype=np.complex_)\n",
    "\n",
    "for i in range(len(train_state)):\n",
    "    \n",
    "    q_fc_state(q_fc_weights, maxpool_train[i])\n",
    "    temp = np.flip(dev_state._state)\n",
    "    train_state[i, :] = temp\n",
    "    \n",
    "    q_fc_state(q_fc_weights, maxpool_test[i])\n",
    "    temp = np.flip(dev_state._state)\n",
    "    test_state[i, :] = temp"
   ]
  },
  {
   "cell_type": "code",
   "execution_count": 245,
   "metadata": {},
   "outputs": [
    {
     "name": "stdout",
     "output_type": "stream",
     "text": [
      "[ True  True  True  True  True  True  True  True  True  True  True  True\n",
      "  True  True  True  True  True  True  True  True False False False False\n",
      " False  True False False False False False False False False False False\n",
      " False False False False]\n",
      "[ True  True  True  True  True  True  True  True  True  True  True  True\n",
      "  True  True  True  True  True  True  True  True False False False False\n",
      " False False False False False False False False False False False False\n",
      " False False False False]\n"
     ]
    }
   ],
   "source": [
    "# sanity check\n",
    "\n",
    "print(((np.conj(train_state) @ density_matrix(state_labels[0])) * train_state)[:, 0] > 0.5)\n",
    "\n",
    "print(((np.conj(test_state) @ density_matrix(state_labels[0])) * test_state)[:, 0] > 0.5)"
   ]
  },
  {
   "cell_type": "code",
   "execution_count": 246,
   "metadata": {},
   "outputs": [],
   "source": [
    "np.savetxt('./2_QConv1_QFC-State_Train.txt', train_state)\n",
    "np.savetxt('./2_QConv1_QFC-State_Test.txt', test_state)"
   ]
  },
  {
   "cell_type": "markdown",
   "metadata": {},
   "source": [
    "# Finish"
   ]
  },
  {
   "cell_type": "code",
   "execution_count": null,
   "metadata": {},
   "outputs": [],
   "source": []
  },
  {
   "cell_type": "code",
   "execution_count": null,
   "metadata": {},
   "outputs": [],
   "source": []
  },
  {
   "cell_type": "code",
   "execution_count": null,
   "metadata": {},
   "outputs": [],
   "source": []
  },
  {
   "cell_type": "code",
   "execution_count": null,
   "metadata": {},
   "outputs": [],
   "source": []
  },
  {
   "cell_type": "code",
   "execution_count": null,
   "metadata": {},
   "outputs": [],
   "source": []
  },
  {
   "cell_type": "code",
   "execution_count": null,
   "metadata": {},
   "outputs": [],
   "source": []
  },
  {
   "cell_type": "code",
   "execution_count": 76,
   "metadata": {},
   "outputs": [
    {
     "data": {
      "text/plain": [
       "{'loss': [0.7249730825424194,\n",
       "  0.485493928194046,\n",
       "  0.2910504639148712,\n",
       "  0.20750370621681213,\n",
       "  0.1200886219739914,\n",
       "  0.09333930909633636,\n",
       "  0.09352166950702667,\n",
       "  0.09991505742073059,\n",
       "  0.0711403489112854,\n",
       "  0.0675935298204422],\n",
       " 'accuracy': [0.5249999761581421,\n",
       "  0.6225000023841858,\n",
       "  0.7825000286102295,\n",
       "  0.8650000095367432,\n",
       "  0.9449999928474426,\n",
       "  0.9599999785423279,\n",
       "  0.9624999761581421,\n",
       "  0.9524999856948853,\n",
       "  0.9750000238418579,\n",
       "  0.9775000214576721],\n",
       " 'val_loss': [0.6175757646560669,\n",
       "  0.40504130721092224,\n",
       "  0.3411727547645569,\n",
       "  0.19497469067573547,\n",
       "  0.11362368613481522,\n",
       "  0.07933302223682404,\n",
       "  0.1450268030166626,\n",
       "  0.0960061326622963,\n",
       "  0.09231595695018768,\n",
       "  0.053687386214733124],\n",
       " 'val_accuracy': [0.5,\n",
       "  0.7300000190734863,\n",
       "  0.7400000095367432,\n",
       "  0.8700000047683716,\n",
       "  0.9449999928474426,\n",
       "  0.9800000190734863,\n",
       "  0.925000011920929,\n",
       "  0.9649999737739563,\n",
       "  0.9549999833106995,\n",
       "  0.9750000238418579]}"
      ]
     },
     "execution_count": 76,
     "metadata": {},
     "output_type": "execute_result"
    }
   ],
   "source": [
    "first_10_epoch = H.history\n",
    "first_10_epoch"
   ]
  },
  {
   "cell_type": "code",
   "execution_count": 77,
   "metadata": {},
   "outputs": [
    {
     "data": {
      "text/plain": [
       "[array([[[ 0.13920915, -0.7933977 ,  0.4931736 , -0.34984022,\n",
       "           0.41861725, -0.1258272 , -0.3323837 ,  1.4861933 ,\n",
       "           0.14679849]],\n",
       " \n",
       "        [[-0.48547882, -0.6672664 , -0.30831295,  0.31500554,\n",
       "           0.21519628, -0.09552038, -0.33133912,  0.8978053 ,\n",
       "          -0.38653338]]], dtype=float32),\n",
       " array([[[-0.04071528, -0.5614164 , -0.5472108 ,  0.32481748,\n",
       "          -0.1586527 ,  0.06802678, -0.04312551, -1.0716503 ,\n",
       "          -0.09168857]],\n",
       " \n",
       "        [[ 0.2695058 , -1.5634912 ,  0.20198631, -0.20597708,\n",
       "           0.06802317,  0.2522897 , -0.01191515,  0.5282674 ,\n",
       "          -0.3303873 ]]], dtype=float32),\n",
       " array([[[-0.1229878 ,  0.03982117, -0.29502654, -1.2658846 ,\n",
       "          -0.3401566 , -0.93464977,  1.1978221 , -0.24731389,\n",
       "          -0.51143396]],\n",
       " \n",
       "        [[-0.05537069, -1.3277841 , -0.7294856 , -0.740143  ,\n",
       "          -0.83612764,  0.6652604 ,  0.0570471 , -0.4578703 ,\n",
       "          -0.36179888]]], dtype=float32),\n",
       " array([[1.084761 , 1.0133266]], dtype=float32)]"
      ]
     },
     "execution_count": 77,
     "metadata": {},
     "output_type": "execute_result"
    }
   ],
   "source": [
    "# initial 10 epoch\n",
    "model.get_weights()"
   ]
  },
  {
   "cell_type": "code",
   "execution_count": 36,
   "metadata": {
    "colab": {
     "base_uri": "https://localhost:8080/"
    },
    "executionInfo": {
     "elapsed": 890,
     "status": "ok",
     "timestamp": 1610382856489,
     "user": {
      "displayName": "Eraraya Ricardo Muten",
      "photoUrl": "https://lh3.googleusercontent.com/a-/AOh14Ggpw7xw-lyk6u6l92QjpI7MlI7qjJuuciCpwrUd=s64",
      "userId": "03770692095188133952"
     },
     "user_tz": -420
    },
    "id": "tgd4aZ2x0zS8",
    "outputId": "5ef96e02-a18b-4713-e5c7-5d84745b691e"
   },
   "outputs": [
    {
     "data": {
      "text/plain": [
       "[array([[[ 0.5333041 ,  0.7510351 ,  0.43303   , -0.40551516,\n",
       "           1.6285696 ,  0.49228728, -0.15253374,  1.6689872 ,\n",
       "          -0.22357488]],\n",
       " \n",
       "        [[-0.2997148 ,  0.7048321 ,  0.4084043 , -0.18627408,\n",
       "           1.0520505 , -0.00270981, -0.13496283,  1.0413212 ,\n",
       "          -0.02724391]]], dtype=float32),\n",
       " array([[[ 0.3918922 , -0.11520633, -0.03320652,  0.43418598,\n",
       "          -0.5833789 ,  0.39737093, -0.5246267 , -0.9033116 ,\n",
       "           0.48647797]],\n",
       " \n",
       "        [[-0.07068413, -0.3555113 , -0.41528818,  0.4065122 ,\n",
       "          -0.15927339,  0.1401099 ,  0.4446873 , -0.7067284 ,\n",
       "          -0.545056  ]]], dtype=float32),\n",
       " array([[[-3.8316455e-01, -3.1901807e-02, -2.4000183e-01, -1.1872659e+00,\n",
       "          -3.3039081e-01,  1.1499546e+00, -2.4678744e-04, -1.5465643e-01,\n",
       "          -5.3651679e-01]],\n",
       " \n",
       "        [[ 8.0435149e-02, -3.5867035e-01, -8.8504088e-01, -1.8140224e-01,\n",
       "          -9.0008754e-01, -3.3983514e-01,  3.5120124e-01, -6.0242099e-01,\n",
       "           3.3899057e-01]]], dtype=float32),\n",
       " array([[1.0655746, 1.0172011]], dtype=float32)]"
      ]
     },
     "execution_count": 36,
     "metadata": {
      "tags": []
     },
     "output_type": "execute_result"
    }
   ],
   "source": [
    "model.get_weights()"
   ]
  },
  {
   "cell_type": "code",
   "execution_count": 37,
   "metadata": {
    "colab": {
     "base_uri": "https://localhost:8080/"
    },
    "executionInfo": {
     "elapsed": 943,
     "status": "ok",
     "timestamp": 1610382863115,
     "user": {
      "displayName": "Eraraya Ricardo Muten",
      "photoUrl": "https://lh3.googleusercontent.com/a-/AOh14Ggpw7xw-lyk6u6l92QjpI7MlI7qjJuuciCpwrUd=s64",
      "userId": "03770692095188133952"
     },
     "user_tz": -420
    },
    "id": "RLAlWbsJz-ow",
    "outputId": "522adec4-41f7-447d-abfc-82c84c7c2041"
   },
   "outputs": [
    {
     "name": "stdout",
     "output_type": "stream",
     "text": [
      "Saved model to disk\n"
     ]
    }
   ],
   "source": [
    "# serialize model to JSON\n",
    "'''\n",
    "model_json = model.to_json()\n",
    "with open(\"./model_quantum-conv_quantum-fc_binary.json\", \"w\") as json_file:\n",
    "    json_file.write(model_json)\n",
    "'''\n",
    "# serialize weights to HDF5\n",
    "model.save_weights(\"./model_quantum-conv_quantum-fc_binary_2.h5\")\n",
    "print(\"Saved model to disk\")"
   ]
  },
  {
   "cell_type": "code",
   "execution_count": null,
   "metadata": {
    "id": "AhdMvIOez-ow",
    "outputId": "c2ec4c03-c4c5-4f09-f6da-a9c5e8b0a8ab"
   },
   "outputs": [
    {
     "data": {
      "text/plain": [
       "[array([[[ 0.44586676,  1.256093  ,  0.15643543,  0.26589197,\n",
       "           0.8381965 ,  0.06237197,  0.5082177 ,  0.15269381,\n",
       "           0.07892394]],\n",
       " \n",
       "        [[-0.03475028,  1.0941952 , -0.03592378, -0.22752422,\n",
       "           0.8826769 ,  0.13078535,  0.2010324 ,  0.22705875,\n",
       "          -0.0801568 ]]], dtype=float32)]"
      ]
     },
     "execution_count": 257,
     "metadata": {
      "tags": []
     },
     "output_type": "execute_result"
    }
   ],
   "source": [
    "q_conv_layer_1.get_weights()"
   ]
  },
  {
   "cell_type": "code",
   "execution_count": null,
   "metadata": {
    "id": "uTtYUCWIz-ox",
    "outputId": "4e583e12-d75d-481b-a43c-e2ece0810ae5"
   },
   "outputs": [
    {
     "data": {
      "text/plain": [
       "[array([[[ 0.24584407,  0.36597022, -0.07061452, -0.26450574,\n",
       "           0.27333382, -0.1639238 ,  0.20467144,  0.66669524,\n",
       "           0.10908085]],\n",
       " \n",
       "        [[-0.08407965,  0.9870063 ,  0.2311346 , -0.25011623,\n",
       "           0.5391546 ,  0.26538318,  0.32042062,  1.2632005 ,\n",
       "           0.09457898]]], dtype=float32)]"
      ]
     },
     "execution_count": 258,
     "metadata": {
      "tags": []
     },
     "output_type": "execute_result"
    }
   ],
   "source": [
    "q_conv_layer_2.get_weights()"
   ]
  },
  {
   "cell_type": "code",
   "execution_count": null,
   "metadata": {
    "id": "ekUErXldz-ox"
   },
   "outputs": [],
   "source": [
    "model_best_weights = model.get_weights()"
   ]
  },
  {
   "cell_type": "code",
   "execution_count": null,
   "metadata": {
    "id": "lA_hW9Xbz-ox",
    "outputId": "1acd0c77-738f-4fa7-d145-8fb768b8947f"
   },
   "outputs": [
    {
     "data": {
      "text/plain": [
       "[array([[[ 0.44586676,  1.256093  ,  0.15643543,  0.26589197,\n",
       "           0.8381965 ,  0.06237197,  0.5082177 ,  0.15269381,\n",
       "           0.07892394]],\n",
       " \n",
       "        [[-0.03475028,  1.0941952 , -0.03592378, -0.22752422,\n",
       "           0.8826769 ,  0.13078535,  0.2010324 ,  0.22705875,\n",
       "          -0.0801568 ]]], dtype=float32),\n",
       " array([[[ 0.24584407,  0.36597022, -0.07061452, -0.26450574,\n",
       "           0.27333382, -0.1639238 ,  0.20467144,  0.66669524,\n",
       "           0.10908085]],\n",
       " \n",
       "        [[-0.08407965,  0.9870063 ,  0.2311346 , -0.25011623,\n",
       "           0.5391546 ,  0.26538318,  0.32042062,  1.2632005 ,\n",
       "           0.09457898]]], dtype=float32),\n",
       " array([[[-0.2811071 ,  0.5625187 , -0.50280356,  0.44382098,\n",
       "          -0.6297856 ,  1.1031843 ,  0.49210244, -0.14317082,\n",
       "          -0.30502427]],\n",
       " \n",
       "        [[-0.1502397 , -0.86425185, -0.21489263,  0.06380039,\n",
       "          -0.4102494 ,  0.75493497,  0.68173337, -1.0992723 ,\n",
       "          -0.06085886]]], dtype=float32),\n",
       " array([[1.0801506, 0.9991087]], dtype=float32)]"
      ]
     },
     "execution_count": 261,
     "metadata": {
      "tags": []
     },
     "output_type": "execute_result"
    }
   ],
   "source": [
    "model_best_weights"
   ]
  },
  {
   "cell_type": "code",
   "execution_count": null,
   "metadata": {
    "id": "4YkJkYUgz-oy"
   },
   "outputs": [],
   "source": [
    "predict_test = model.predict(X_test)"
   ]
  },
  {
   "cell_type": "code",
   "execution_count": null,
   "metadata": {
    "id": "dym66Lh0z-oy"
   },
   "outputs": [],
   "source": [
    "'''\n",
    "from keras.models import model_from_json\n",
    "\n",
    "# load json and create model\n",
    "json_file = open('model.json', 'r')\n",
    "loaded_model_json = json_file.read()\n",
    "json_file.close()\n",
    "loaded_model = model_from_json(loaded_model_json)\n",
    "# load weights into new model\n",
    "loaded_model.load_weights(\"model.h5\")\n",
    "print(\"Loaded model from disk\")\n",
    "\n",
    "'''"
   ]
  }
 ],
 "metadata": {
  "colab": {
   "collapsed_sections": [],
   "name": "Q Conv + DRC Keras MNIST (best).ipynb",
   "provenance": []
  },
  "kernelspec": {
   "display_name": "Python 3",
   "language": "python",
   "name": "python3"
  },
  "language_info": {
   "codemirror_mode": {
    "name": "ipython",
    "version": 3
   },
   "file_extension": ".py",
   "mimetype": "text/x-python",
   "name": "python",
   "nbconvert_exporter": "python",
   "pygments_lexer": "ipython3",
   "version": "3.8.6"
  }
 },
 "nbformat": 4,
 "nbformat_minor": 1
}
