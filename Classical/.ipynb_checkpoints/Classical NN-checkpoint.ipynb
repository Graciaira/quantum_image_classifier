{
 "cells": [
  {
   "cell_type": "code",
   "execution_count": 1,
   "metadata": {
    "colab": {
     "base_uri": "https://localhost:8080/"
    },
    "executionInfo": {
     "elapsed": 21741,
     "status": "ok",
     "timestamp": 1609942401542,
     "user": {
      "displayName": "Eraraya Ricardo Muten",
      "photoUrl": "https://lh3.googleusercontent.com/a-/AOh14Ggpw7xw-lyk6u6l92QjpI7MlI7qjJuuciCpwrUd=s64",
      "userId": "03770692095188133952"
     },
     "user_tz": -420
    },
    "id": "e4abR9zSaWNk",
    "outputId": "94ee80ef-152f-452f-d852-06919b9942a4"
   },
   "outputs": [
    {
     "name": "stdout",
     "output_type": "stream",
     "text": [
      "/content/drive\n",
      "Mounted at /content/drive\n"
     ]
    }
   ],
   "source": [
    "# Mount Google Drive\n",
    "from google.colab import drive # import drive from google colab\n",
    " \n",
    "ROOT = \"/content/drive\"     # default location for the drive\n",
    "print(ROOT)                 # print content of ROOT (Optional)\n",
    " \n",
    "drive.mount(ROOT)           # we mount the google drive at /content/drive"
   ]
  },
  {
   "cell_type": "code",
   "execution_count": 1,
   "metadata": {
    "executionInfo": {
     "elapsed": 4192,
     "status": "ok",
     "timestamp": 1610025781584,
     "user": {
      "displayName": "Eraraya Ricardo Muten",
      "photoUrl": "https://lh3.googleusercontent.com/a-/AOh14Ggpw7xw-lyk6u6l92QjpI7MlI7qjJuuciCpwrUd=s64",
      "userId": "03770692095188133952"
     },
     "user_tz": -420
    },
    "id": "gk5AKGKcYGOo"
   },
   "outputs": [],
   "source": [
    "!pip install pennylane\n",
    "from IPython.display import clear_output\n",
    "clear_output()"
   ]
  },
  {
   "cell_type": "code",
   "execution_count": null,
   "metadata": {
    "id": "GigSJusGbx1b"
   },
   "outputs": [],
   "source": [
    "import os\n",
    "\n",
    "def restart_runtime():\n",
    "  os.kill(os.getpid(), 9)\n",
    "restart_runtime()"
   ]
  },
  {
   "cell_type": "code",
   "execution_count": 1,
   "metadata": {
    "executionInfo": {
     "elapsed": 857,
     "status": "ok",
     "timestamp": 1610025787385,
     "user": {
      "displayName": "Eraraya Ricardo Muten",
      "photoUrl": "https://lh3.googleusercontent.com/a-/AOh14Ggpw7xw-lyk6u6l92QjpI7MlI7qjJuuciCpwrUd=s64",
      "userId": "03770692095188133952"
     },
     "user_tz": -420
    },
    "id": "HoLmJLkIX810"
   },
   "outputs": [],
   "source": [
    "# %matplotlib inline\n",
    "import matplotlib.pyplot as plt\n",
    "from mpl_toolkits.axes_grid1 import make_axes_locatable\n",
    "\n",
    "import numpy as np\n",
    "\n",
    "import tensorflow as tf\n",
    "from tensorflow.keras.utils import to_categorical"
   ]
  },
  {
   "cell_type": "markdown",
   "metadata": {
    "id": "vZFNOwFXoY8N"
   },
   "source": [
    "# Loading Raw Data"
   ]
  },
  {
   "cell_type": "code",
   "execution_count": 2,
   "metadata": {
    "colab": {
     "base_uri": "https://localhost:8080/"
    },
    "executionInfo": {
     "elapsed": 2726,
     "status": "ok",
     "timestamp": 1610025792089,
     "user": {
      "displayName": "Eraraya Ricardo Muten",
      "photoUrl": "https://lh3.googleusercontent.com/a-/AOh14Ggpw7xw-lyk6u6l92QjpI7MlI7qjJuuciCpwrUd=s64",
      "userId": "03770692095188133952"
     },
     "user_tz": -420
    },
    "id": "IvdFsGCVof9g",
    "outputId": "c1e94fa1-a11f-4bff-c7b7-975b8b1b79fb"
   },
   "outputs": [],
   "source": [
    "(x_train, y_train), (x_test, y_test) = tf.keras.datasets.mnist.load_data()\n",
    "\n",
    "x_train = x_train[:, 0:27, 0:27]\n",
    "x_test = x_test[:, 0:27, 0:27]"
   ]
  },
  {
   "cell_type": "code",
   "execution_count": 3,
   "metadata": {
    "executionInfo": {
     "elapsed": 1251,
     "status": "ok",
     "timestamp": 1610025792677,
     "user": {
      "displayName": "Eraraya Ricardo Muten",
      "photoUrl": "https://lh3.googleusercontent.com/a-/AOh14Ggpw7xw-lyk6u6l92QjpI7MlI7qjJuuciCpwrUd=s64",
      "userId": "03770692095188133952"
     },
     "user_tz": -420
    },
    "id": "c6zvGFvIoxAN"
   },
   "outputs": [],
   "source": [
    "x_train_flatten = x_train.reshape(x_train.shape[0], x_train.shape[1]*x_train.shape[2])/255.0\n",
    "x_test_flatten = x_test.reshape(x_test.shape[0], x_test.shape[1]*x_test.shape[2])/255.0"
   ]
  },
  {
   "cell_type": "code",
   "execution_count": 4,
   "metadata": {
    "colab": {
     "base_uri": "https://localhost:8080/"
    },
    "executionInfo": {
     "elapsed": 948,
     "status": "ok",
     "timestamp": 1610025792678,
     "user": {
      "displayName": "Eraraya Ricardo Muten",
      "photoUrl": "https://lh3.googleusercontent.com/a-/AOh14Ggpw7xw-lyk6u6l92QjpI7MlI7qjJuuciCpwrUd=s64",
      "userId": "03770692095188133952"
     },
     "user_tz": -420
    },
    "id": "Rmj1dzaso00h",
    "outputId": "f59eea77-95bb-4b6a-b0ba-14a7e5760b11"
   },
   "outputs": [
    {
     "name": "stdout",
     "output_type": "stream",
     "text": [
      "(60000, 729) (60000,)\n",
      "(10000, 729) (10000,)\n"
     ]
    }
   ],
   "source": [
    "print(x_train_flatten.shape, y_train.shape)\n",
    "print(x_test_flatten.shape, y_test.shape)"
   ]
  },
  {
   "cell_type": "code",
   "execution_count": 5,
   "metadata": {
    "colab": {
     "base_uri": "https://localhost:8080/"
    },
    "executionInfo": {
     "elapsed": 945,
     "status": "ok",
     "timestamp": 1610025793507,
     "user": {
      "displayName": "Eraraya Ricardo Muten",
      "photoUrl": "https://lh3.googleusercontent.com/a-/AOh14Ggpw7xw-lyk6u6l92QjpI7MlI7qjJuuciCpwrUd=s64",
      "userId": "03770692095188133952"
     },
     "user_tz": -420
    },
    "id": "d10VoIC6o5_I",
    "outputId": "774bafb6-5cbe-42b3-98d0-643e7e943f91"
   },
   "outputs": [
    {
     "name": "stdout",
     "output_type": "stream",
     "text": [
      "(5923, 729)\n",
      "(6742, 729)\n",
      "(5958, 729)\n",
      "(6131, 729)\n",
      "(5842, 729)\n",
      "(5421, 729)\n",
      "(5918, 729)\n",
      "(6265, 729)\n",
      "(5851, 729)\n",
      "(5949, 729)\n"
     ]
    }
   ],
   "source": [
    "x_train_0 = x_train_flatten[y_train == 0]\n",
    "x_train_1 = x_train_flatten[y_train == 1]\n",
    "x_train_2 = x_train_flatten[y_train == 2]\n",
    "x_train_3 = x_train_flatten[y_train == 3]\n",
    "x_train_4 = x_train_flatten[y_train == 4]\n",
    "x_train_5 = x_train_flatten[y_train == 5]\n",
    "x_train_6 = x_train_flatten[y_train == 6]\n",
    "x_train_7 = x_train_flatten[y_train == 7]\n",
    "x_train_8 = x_train_flatten[y_train == 8]\n",
    "x_train_9 = x_train_flatten[y_train == 9]\n",
    "\n",
    "x_train_list = [x_train_0, x_train_1, x_train_2, x_train_3, x_train_4, x_train_5, x_train_6, x_train_7, x_train_8, x_train_9]\n",
    "\n",
    "print(x_train_0.shape)\n",
    "print(x_train_1.shape)\n",
    "print(x_train_2.shape)\n",
    "print(x_train_3.shape)\n",
    "print(x_train_4.shape)\n",
    "print(x_train_5.shape)\n",
    "print(x_train_6.shape)\n",
    "print(x_train_7.shape)\n",
    "print(x_train_8.shape)\n",
    "print(x_train_9.shape)"
   ]
  },
  {
   "cell_type": "code",
   "execution_count": 6,
   "metadata": {
    "colab": {
     "base_uri": "https://localhost:8080/"
    },
    "executionInfo": {
     "elapsed": 901,
     "status": "ok",
     "timestamp": 1610025796926,
     "user": {
      "displayName": "Eraraya Ricardo Muten",
      "photoUrl": "https://lh3.googleusercontent.com/a-/AOh14Ggpw7xw-lyk6u6l92QjpI7MlI7qjJuuciCpwrUd=s64",
      "userId": "03770692095188133952"
     },
     "user_tz": -420
    },
    "id": "snFw4LqepFOl",
    "outputId": "d62bdedd-8ad4-4da9-c7e8-75b8a0a9ba7b"
   },
   "outputs": [
    {
     "name": "stdout",
     "output_type": "stream",
     "text": [
      "(980, 729)\n",
      "(1135, 729)\n",
      "(1032, 729)\n",
      "(1010, 729)\n",
      "(982, 729)\n",
      "(892, 729)\n",
      "(958, 729)\n",
      "(1028, 729)\n",
      "(974, 729)\n",
      "(1009, 729)\n"
     ]
    }
   ],
   "source": [
    "x_test_0 = x_test_flatten[y_test == 0]\n",
    "x_test_1 = x_test_flatten[y_test == 1]\n",
    "x_test_2 = x_test_flatten[y_test == 2]\n",
    "x_test_3 = x_test_flatten[y_test == 3]\n",
    "x_test_4 = x_test_flatten[y_test == 4]\n",
    "x_test_5 = x_test_flatten[y_test == 5]\n",
    "x_test_6 = x_test_flatten[y_test == 6]\n",
    "x_test_7 = x_test_flatten[y_test == 7]\n",
    "x_test_8 = x_test_flatten[y_test == 8]\n",
    "x_test_9 = x_test_flatten[y_test == 9]\n",
    "\n",
    "x_test_list = [x_test_0, x_test_1, x_test_2, x_test_3, x_test_4, x_test_5, x_test_6, x_test_7, x_test_8, x_test_9]\n",
    "\n",
    "print(x_test_0.shape)\n",
    "print(x_test_1.shape)\n",
    "print(x_test_2.shape)\n",
    "print(x_test_3.shape)\n",
    "print(x_test_4.shape)\n",
    "print(x_test_5.shape)\n",
    "print(x_test_6.shape)\n",
    "print(x_test_7.shape)\n",
    "print(x_test_8.shape)\n",
    "print(x_test_9.shape)"
   ]
  },
  {
   "cell_type": "markdown",
   "metadata": {
    "id": "SAxUS6Lhp95g"
   },
   "source": [
    "# Selecting the dataset\n",
    "\n",
    "Output: X_train, Y_train, X_test, Y_test"
   ]
  },
  {
   "cell_type": "code",
   "execution_count": 170,
   "metadata": {
    "colab": {
     "base_uri": "https://localhost:8080/"
    },
    "executionInfo": {
     "elapsed": 810,
     "status": "ok",
     "timestamp": 1609950462215,
     "user": {
      "displayName": "Eraraya Ricardo Muten",
      "photoUrl": "https://lh3.googleusercontent.com/a-/AOh14Ggpw7xw-lyk6u6l92QjpI7MlI7qjJuuciCpwrUd=s64",
      "userId": "03770692095188133952"
     },
     "user_tz": -420
    },
    "id": "f--pX5Oto_XB",
    "outputId": "cc074972-59f4-4d74-cd69-7745260a1dd4"
   },
   "outputs": [
    {
     "data": {
      "text/plain": [
       "((800, 729), (800,))"
      ]
     },
     "execution_count": 170,
     "metadata": {},
     "output_type": "execute_result"
    }
   ],
   "source": [
    "n_train_sample_per_class = 200\n",
    "n_class = 4\n",
    "\n",
    "X_train = x_train_list[0][:n_train_sample_per_class, :]\n",
    "Y_train = np.zeros((X_train.shape[0]*n_class,), dtype=int)\n",
    "\n",
    "for i in range(n_class-1):\n",
    "    X_train = np.concatenate((X_train, x_train_list[i+1][:n_train_sample_per_class, :]), axis=0)\n",
    "    Y_train[(i+1)*n_train_sample_per_class:(i+2)*n_train_sample_per_class] = i+1\n",
    "\n",
    "X_train.shape, Y_train.shape"
   ]
  },
  {
   "cell_type": "code",
   "execution_count": 171,
   "metadata": {
    "colab": {
     "base_uri": "https://localhost:8080/"
    },
    "executionInfo": {
     "elapsed": 1252,
     "status": "ok",
     "timestamp": 1609950468260,
     "user": {
      "displayName": "Eraraya Ricardo Muten",
      "photoUrl": "https://lh3.googleusercontent.com/a-/AOh14Ggpw7xw-lyk6u6l92QjpI7MlI7qjJuuciCpwrUd=s64",
      "userId": "03770692095188133952"
     },
     "user_tz": -420
    },
    "id": "W_SHH9e3rqwG",
    "outputId": "2f38a646-7a1a-4e68-828f-bce0c97bfe70"
   },
   "outputs": [
    {
     "data": {
      "text/plain": [
       "((200, 729), (200,))"
      ]
     },
     "execution_count": 171,
     "metadata": {},
     "output_type": "execute_result"
    }
   ],
   "source": [
    "n_test_sample_per_class = int(0.25*n_train_sample_per_class)\n",
    "\n",
    "X_test = x_test_list[0][:n_test_sample_per_class, :]\n",
    "Y_test = np.zeros((X_test.shape[0]*n_class,), dtype=int)\n",
    "\n",
    "for i in range(n_class-1):\n",
    "    X_test = np.concatenate((X_test, x_test_list[i+1][:n_test_sample_per_class, :]), axis=0)\n",
    "    Y_test[(i+1)*n_test_sample_per_class:(i+2)*n_test_sample_per_class] = i+1\n",
    "\n",
    "X_test.shape, Y_test.shape"
   ]
  },
  {
   "cell_type": "markdown",
   "metadata": {},
   "source": [
    "# Dataset Preprocessing"
   ]
  },
  {
   "cell_type": "code",
   "execution_count": 172,
   "metadata": {},
   "outputs": [
    {
     "data": {
      "text/plain": [
       "((800, 27, 27, 1), (200, 27, 27, 1))"
      ]
     },
     "execution_count": 172,
     "metadata": {},
     "output_type": "execute_result"
    }
   ],
   "source": [
    "X_train = X_train.reshape(X_train.shape[0], 27, 27, 1)\n",
    "X_test = X_test.reshape(X_test.shape[0], 27, 27, 1)\n",
    "\n",
    "X_train.shape, X_test.shape"
   ]
  },
  {
   "cell_type": "code",
   "execution_count": 173,
   "metadata": {},
   "outputs": [],
   "source": [
    "Y_train = to_categorical(Y_train)\n",
    "Y_test = to_categorical(Y_test)\n",
    "\n",
    "# for i in range(n_class):\n",
    "#     Y_train[Y_train[:, i] == 1.] = class_label[i]\n",
    "\n",
    "# for i in range(n_class):\n",
    "#     Y_test[Y_test[:, i] == 1.] = class_label[i]"
   ]
  },
  {
   "cell_type": "markdown",
   "metadata": {},
   "source": [
    "# Classical"
   ]
  },
  {
   "cell_type": "code",
   "execution_count": 174,
   "metadata": {},
   "outputs": [],
   "source": [
    "# Set a random seed\n",
    "np.random.seed(2020)"
   ]
  },
  {
   "cell_type": "code",
   "execution_count": 175,
   "metadata": {},
   "outputs": [],
   "source": [
    "import keras.backend as K\n",
    "\n",
    "# def custom_loss(y_true, y_pred):\n",
    "#     return K.sum(((y_true.shape[1]-2)*y_true+1)*K.square(y_true-y_pred))/len(y_true)\n",
    "\n",
    "def custom_loss(y_true, y_pred):\n",
    "    return K.sum(K.square(y_true-y_pred))/len(y_true)"
   ]
  },
  {
   "cell_type": "code",
   "execution_count": 182,
   "metadata": {},
   "outputs": [],
   "source": [
    "from tensorflow.keras.layers import *\n",
    "\n",
    "# define cnn model\n",
    "def define_model(num_class):\n",
    "    model = tf.keras.Sequential()\n",
    "    model.add(Conv2D(4, (3, 3), strides=[2,2], activation='relu', input_shape=(27, 27, 1), use_bias=False))\n",
    "    #model.add(MaxPooling2D((2, 2)))\n",
    "    model.add(Conv2D(1, (3, 3), strides=[2,2], activation='relu', use_bias=False))\n",
    "    model.add(MaxPooling2D((2, 2)))\n",
    "    model.add(Flatten())\n",
    "    \n",
    "    #model.add(Dense(11, activation='relu', kernel_initializer='he_uniform'))\n",
    "    model.add(Dense(num_class, activation='softmax'))\n",
    "    # compile model\n",
    "    opt = tf.keras.optimizers.Adam(lr=0.01)\n",
    "    model.compile(optimizer=opt, loss='categorical_crossentropy', metrics=['accuracy'])\n",
    "    return model"
   ]
  },
  {
   "cell_type": "code",
   "execution_count": 183,
   "metadata": {},
   "outputs": [],
   "source": [
    "model = define_model(4)"
   ]
  },
  {
   "cell_type": "code",
   "execution_count": 184,
   "metadata": {},
   "outputs": [
    {
     "name": "stdout",
     "output_type": "stream",
     "text": [
      "Model: \"sequential_35\"\n",
      "_________________________________________________________________\n",
      "Layer (type)                 Output Shape              Param #   \n",
      "=================================================================\n",
      "conv2d_70 (Conv2D)           (None, 13, 13, 4)         36        \n",
      "_________________________________________________________________\n",
      "conv2d_71 (Conv2D)           (None, 6, 6, 1)           36        \n",
      "_________________________________________________________________\n",
      "max_pooling2d_51 (MaxPooling (None, 3, 3, 1)           0         \n",
      "_________________________________________________________________\n",
      "flatten_35 (Flatten)         (None, 9)                 0         \n",
      "_________________________________________________________________\n",
      "dense_50 (Dense)             (None, 4)                 40        \n",
      "=================================================================\n",
      "Total params: 112\n",
      "Trainable params: 112\n",
      "Non-trainable params: 0\n",
      "_________________________________________________________________\n"
     ]
    }
   ],
   "source": [
    "model.summary()"
   ]
  },
  {
   "cell_type": "code",
   "execution_count": 185,
   "metadata": {},
   "outputs": [
    {
     "data": {
      "text/plain": [
       "<tf.Tensor: shape=(5, 4), dtype=float32, numpy=\n",
       "array([[0.26533136, 0.22909838, 0.28688204, 0.21868818],\n",
       "       [0.2349684 , 0.22931163, 0.2930837 , 0.24263622],\n",
       "       [0.2404127 , 0.25228906, 0.24892195, 0.2583763 ],\n",
       "       [0.26829326, 0.21035971, 0.30270702, 0.21864003],\n",
       "       [0.22771561, 0.24340422, 0.28499225, 0.2438879 ]], dtype=float32)>"
      ]
     },
     "execution_count": 185,
     "metadata": {},
     "output_type": "execute_result"
    }
   ],
   "source": [
    "model(X_train[0:5])"
   ]
  },
  {
   "cell_type": "code",
   "execution_count": 186,
   "metadata": {},
   "outputs": [
    {
     "name": "stdout",
     "output_type": "stream",
     "text": [
      "Epoch 1/20\n",
      "25/25 [==============================] - 1s 13ms/step - loss: 1.3773 - accuracy: 0.2576 - val_loss: 1.3092 - val_accuracy: 0.3450\n",
      "Epoch 2/20\n",
      "25/25 [==============================] - 0s 3ms/step - loss: 1.2744 - accuracy: 0.4182 - val_loss: 1.1193 - val_accuracy: 0.5700\n",
      "Epoch 3/20\n",
      "25/25 [==============================] - 0s 4ms/step - loss: 1.0431 - accuracy: 0.5790 - val_loss: 0.8971 - val_accuracy: 0.6700\n",
      "Epoch 4/20\n",
      "25/25 [==============================] - 0s 4ms/step - loss: 0.7504 - accuracy: 0.7388 - val_loss: 0.7097 - val_accuracy: 0.7850\n",
      "Epoch 5/20\n",
      "25/25 [==============================] - 0s 4ms/step - loss: 0.5525 - accuracy: 0.8286 - val_loss: 0.6776 - val_accuracy: 0.7650\n",
      "Epoch 6/20\n",
      "25/25 [==============================] - 0s 4ms/step - loss: 0.4212 - accuracy: 0.8700 - val_loss: 0.6133 - val_accuracy: 0.8000\n",
      "Epoch 7/20\n",
      "25/25 [==============================] - 0s 4ms/step - loss: 0.4573 - accuracy: 0.8690 - val_loss: 0.5790 - val_accuracy: 0.8100\n",
      "Epoch 8/20\n",
      "25/25 [==============================] - 0s 4ms/step - loss: 0.3560 - accuracy: 0.8933 - val_loss: 0.5375 - val_accuracy: 0.8300\n",
      "Epoch 9/20\n",
      "25/25 [==============================] - 0s 3ms/step - loss: 0.3476 - accuracy: 0.8996 - val_loss: 0.5224 - val_accuracy: 0.8500\n",
      "Epoch 10/20\n",
      "25/25 [==============================] - 0s 4ms/step - loss: 0.3721 - accuracy: 0.8837 - val_loss: 0.5163 - val_accuracy: 0.8400\n",
      "Epoch 11/20\n",
      "25/25 [==============================] - 0s 4ms/step - loss: 0.3641 - accuracy: 0.8800 - val_loss: 0.4964 - val_accuracy: 0.8600\n",
      "Epoch 12/20\n",
      "25/25 [==============================] - 0s 4ms/step - loss: 0.3117 - accuracy: 0.9106 - val_loss: 0.4960 - val_accuracy: 0.8600\n",
      "Epoch 13/20\n",
      "25/25 [==============================] - 0s 4ms/step - loss: 0.3464 - accuracy: 0.8995 - val_loss: 0.4691 - val_accuracy: 0.8700\n",
      "Epoch 14/20\n",
      "25/25 [==============================] - 0s 5ms/step - loss: 0.2809 - accuracy: 0.9069 - val_loss: 0.4943 - val_accuracy: 0.8700\n",
      "Epoch 15/20\n",
      "25/25 [==============================] - 0s 4ms/step - loss: 0.3338 - accuracy: 0.8814 - val_loss: 0.4817 - val_accuracy: 0.8650\n",
      "Epoch 16/20\n",
      "25/25 [==============================] - 0s 4ms/step - loss: 0.3055 - accuracy: 0.9038 - val_loss: 0.4642 - val_accuracy: 0.8750\n",
      "Epoch 17/20\n",
      "25/25 [==============================] - 0s 5ms/step - loss: 0.3201 - accuracy: 0.9078 - val_loss: 0.4721 - val_accuracy: 0.8450\n",
      "Epoch 18/20\n",
      "25/25 [==============================] - 0s 5ms/step - loss: 0.2963 - accuracy: 0.9015 - val_loss: 0.4535 - val_accuracy: 0.8750\n",
      "Epoch 19/20\n",
      "25/25 [==============================] - 0s 4ms/step - loss: 0.2940 - accuracy: 0.9085 - val_loss: 0.4560 - val_accuracy: 0.8700\n",
      "Epoch 20/20\n",
      "25/25 [==============================] - 0s 4ms/step - loss: 0.2772 - accuracy: 0.8997 - val_loss: 0.4556 - val_accuracy: 0.8700\n"
     ]
    },
    {
     "data": {
      "text/plain": [
       "<tensorflow.python.keras.callbacks.History at 0x7f0c3028b400>"
      ]
     },
     "execution_count": 186,
     "metadata": {},
     "output_type": "execute_result"
    }
   ],
   "source": [
    "model.fit(X_train, Y_train, epochs=20, batch_size=32, validation_data=(X_test, Y_test), verbose=1)"
   ]
  },
  {
   "cell_type": "code",
   "execution_count": 239,
   "metadata": {},
   "outputs": [],
   "source": [
    "predict_test = model.predict(X_test)"
   ]
  },
  {
   "cell_type": "code",
   "execution_count": null,
   "metadata": {},
   "outputs": [],
   "source": []
  }
 ],
 "metadata": {
  "colab": {
   "authorship_tag": "ABX9TyNNN7AuWgekOgocJ/DE5q9Z",
   "collapsed_sections": [],
   "name": "DRC MNIST 2 Class.ipynb",
   "provenance": []
  },
  "kernelspec": {
   "display_name": "Python 3",
   "language": "python",
   "name": "python3"
  },
  "language_info": {
   "codemirror_mode": {
    "name": "ipython",
    "version": 3
   },
   "file_extension": ".py",
   "mimetype": "text/x-python",
   "name": "python",
   "nbconvert_exporter": "python",
   "pygments_lexer": "ipython3",
   "version": "3.8.6"
  }
 },
 "nbformat": 4,
 "nbformat_minor": 1
}
