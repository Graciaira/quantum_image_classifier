{
 "cells": [
  {
   "cell_type": "code",
   "execution_count": 66,
   "metadata": {},
   "outputs": [],
   "source": [
    "import numpy as np\n",
    "from qiskit import *\n",
    "from qiskit.circuit import Qubit\n",
    "from qiskit.quantum_info import Statevector"
   ]
  },
  {
   "cell_type": "markdown",
   "metadata": {},
   "source": [
    "Based on the adaptation of Möttönen et al's paper \"Transformation of quantum states using uniformly controlled rotations\".\n",
    "\n",
    "This algorithm adaptation is written in \"Supervised Learning with Quantum Computers\" book by "
   ]
  },
  {
   "cell_type": "code",
   "execution_count": 101,
   "metadata": {},
   "outputs": [],
   "source": [
    "# a function to calculate the angle β\n",
    "\n",
    "def beta(s, j, X_sample):\n",
    "    # numerator index\n",
    "    index_num = (2*j-1)*(2**(s-1))\n",
    "    # denominator index\n",
    "    index_den = (j-1)*(2**s)\n",
    "    \n",
    "    num = np.sqrt(np.sum(abs(X_sample[index_num : index_num+2**(s-1)])**2))\n",
    "    den = np.sqrt(np.sum(abs(X_sample[index_den : index_den+2**(s)])**2))\n",
    "    \n",
    "    if den == 0:\n",
    "        #print(\"Zero denominator!\")\n",
    "        beta = 0\n",
    "    else:\n",
    "        beta = 2*np.arcsin(num/den)\n",
    "    \n",
    "    return beta"
   ]
  },
  {
   "cell_type": "code",
   "execution_count": 239,
   "metadata": {},
   "outputs": [],
   "source": [
    "def decimalToBinary(n, length):\n",
    "    binary = bin(n).replace(\"0b\", \"\")\n",
    "    if len(binary) != length:\n",
    "        for i in range(length - len(binary)):\n",
    "            binary = \"0\" + binary\n",
    "    \n",
    "    return binary\n",
    "\n",
    "def locate_x(current_j, prev_j, length):\n",
    "    loc = []\n",
    "    \n",
    "    prev_binary = decimalToBinary(prev_j, length)\n",
    "    counter = 0\n",
    "    \n",
    "    for i in decimalToBinary(current_j, length):\n",
    "        if i != prev_binary[counter]:\n",
    "            loc.append(counter)\n",
    "        counter += 1\n",
    "    \n",
    "    return loc"
   ]
  },
  {
   "cell_type": "code",
   "execution_count": 285,
   "metadata": {},
   "outputs": [],
   "source": [
    "def state_prep(X_sample):\n",
    "\n",
    "    n = int(np.log2(len(X_sample)))\n",
    "\n",
    "    qr = QuantumRegister(n, 'q')\n",
    "    cr = ClassicalRegister(n, 'c')\n",
    "    qc = QuantumCircuit(qr, cr)\n",
    "\n",
    "    # for every qubits\n",
    "    for i in range(n):\n",
    "        # for every gates on the qubit\n",
    "        if i == 0:\n",
    "            qc.ry(beta(n, 1, X_sample), 0)\n",
    "            qc.barrier()\n",
    "        else:\n",
    "            for j in range(2**i):\n",
    "                if j != 0:\n",
    "                    for loc in locate_x((2**i)-j-1, (2**i)-j, length=i):\n",
    "                        qc.x(loc)\n",
    "\n",
    "                control = [Qubit(qr, c) for c in range(i)]\n",
    "                target = Qubit(qr, i)\n",
    "\n",
    "                qc.mcry(beta(n-i, (2**i)-j, X_sample), control, target, None)\n",
    "\n",
    "            for k in range(i):\n",
    "                qc.x(k)\n",
    "\n",
    "            qc.barrier()\n",
    "\n",
    "    #qc.measure([b for b in range(n)], [b for b in range(n)])\n",
    "\n",
    "    return qc"
   ]
  },
  {
   "cell_type": "code",
   "execution_count": 291,
   "metadata": {},
   "outputs": [],
   "source": [
    "X_sample = np.array([np.sqrt(0.4), 0, np.sqrt(0.5), np.sqrt(0.1)])"
   ]
  },
  {
   "cell_type": "code",
   "execution_count": 292,
   "metadata": {},
   "outputs": [
    {
     "data": {
      "image/png": "[encoded data removed]",
      "text/plain": [
       "<Figure size 1103.83x204.68 with 1 Axes>"
      ]
     },
     "execution_count": 292,
     "metadata": {},
     "output_type": "execute_result"
    }
   ],
   "source": [
    "a = state_prep(X_sample)\n",
    "n = int(np.log2(len(X_sample)))\n",
    "a.measure([b for b in range(n)], [b for b in range(n)])\n",
    "a.draw('mpl')"
   ]
  },
  {
   "cell_type": "code",
   "execution_count": 293,
   "metadata": {},
   "outputs": [],
   "source": [
    "from qiskit import Aer, execute\n",
    "simulator = Aer.get_backend('qasm_simulator')\n",
    "\n",
    "from qiskit.visualization import plot_histogram"
   ]
  },
  {
   "cell_type": "code",
   "execution_count": 294,
   "metadata": {},
   "outputs": [
    {
     "name": "stdout",
     "output_type": "stream",
     "text": [
      "[0.4 0.  0.5 0.1]\n"
     ]
    },
    {
     "data": {
      "image/png": "[encoded data removed]",
      "text/plain": [
       "<Figure size 504x360 with 1 Axes>"
      ]
     },
     "execution_count": 294,
     "metadata": {},
     "output_type": "execute_result"
    }
   ],
   "source": [
    "counts = execute(qc, backend=simulator, shots=10000).result().get_counts(qc)\n",
    "print(X_sample**2)\n",
    "plot_histogram(counts)"
   ]
  },
  {
   "cell_type": "code",
   "execution_count": null,
   "metadata": {},
   "outputs": [],
   "source": []
  }
 ],
 "metadata": {
  "kernelspec": {
   "display_name": "Python 3",
   "language": "python",
   "name": "python3"
  },
  "language_info": {
   "codemirror_mode": {
    "name": "ipython",
    "version": 3
   },
   "file_extension": ".py",
   "mimetype": "text/x-python",
   "name": "python",
   "nbconvert_exporter": "python",
   "pygments_lexer": "ipython3",
   "version": "3.7.4"
  }
 },
 "nbformat": 4,
 "nbformat_minor": 2
}
