{
 "cells": [
  {
   "cell_type": "code",
   "execution_count": 1,
   "metadata": {},
   "outputs": [],
   "source": [
    "import numpy as np\n",
    "from qiskit import *\n",
    "from qiskit.circuit import Qubit\n",
    "from qiskit.quantum_info import Statevector\n",
    "\n",
    "from sklearn.decomposition import PCA\n",
    "from matplotlib import pyplot as plt"
   ]
  },
  {
   "cell_type": "markdown",
   "metadata": {},
   "source": [
    "Based on the adaptation of Möttönen et al's paper \"Transformation of quantum states using uniformly controlled rotations\".\n",
    "\n",
    "This algorithm adaptation is written in \"Supervised Learning with Quantum Computers\" book by Maria Schuld and Francesco Petruccione"
   ]
  },
  {
   "cell_type": "code",
   "execution_count": 27,
   "metadata": {},
   "outputs": [
    {
     "name": "stdout",
     "output_type": "stream",
     "text": [
      "Downloading data from https://storage.googleapis.com/tensorflow/tf-keras-datasets/mnist.npz\n",
      "11493376/11490434 [==============================] - 8s 1us/step\n"
     ]
    }
   ],
   "source": [
    "import tensorflow as tf\n",
    "\n",
    "(x_train, y_train), (x_test, y_test) = tf.keras.datasets.mnist.load_data()"
   ]
  },
  {
   "cell_type": "code",
   "execution_count": 42,
   "metadata": {},
   "outputs": [],
   "source": [
    "x_train_flatten = x_train.reshape(x_train.shape[0], x_train.shape[1]*x_train.shape[2])/255.0\n",
    "x_test_flatten = x_test.reshape(x_test.shape[0], x_test.shape[1]*x_test.shape[2])/255.0"
   ]
  },
  {
   "cell_type": "code",
   "execution_count": 43,
   "metadata": {},
   "outputs": [
    {
     "data": {
      "text/plain": [
       "((60000, 784), (60000,))"
      ]
     },
     "execution_count": 43,
     "metadata": {},
     "output_type": "execute_result"
    }
   ],
   "source": [
    "x_train_flatten.shape, y_train.shape"
   ]
  },
  {
   "cell_type": "code",
   "execution_count": 44,
   "metadata": {},
   "outputs": [
    {
     "data": {
      "text/plain": [
       "((10000, 784), (10000,))"
      ]
     },
     "execution_count": 44,
     "metadata": {},
     "output_type": "execute_result"
    }
   ],
   "source": [
    "x_test_flatten.shape, y_test.shape"
   ]
  },
  {
   "cell_type": "code",
   "execution_count": 1,
   "metadata": {},
   "outputs": [],
   "source": [
    "def normalize(X):\n",
    "    \"\"\"Normalize the given dataset X\n",
    "    Args:\n",
    "        X: ndarray, dataset\n",
    "    \n",
    "    Returns:\n",
    "        (Xbar, mean, std): tuple of ndarray, Xbar is the normalized dataset\n",
    "        with mean 0 and standard deviation 1; mean and std are the \n",
    "        mean and standard deviation respectively.\n",
    "    \n",
    "    Note:\n",
    "        You will encounter dimensions where the standard deviation is\n",
    "        zero, for those when you do normalization the normalized data\n",
    "        will be NaN. Handle this by setting using `std = 1` for those \n",
    "        dimensions when doing normalization.\n",
    "    \"\"\"\n",
    "    mu = np.mean(X, axis=0)\n",
    "    std = np.std(X, axis=0)\n",
    "    std_filled = std.copy()\n",
    "    std_filled[std==0] = 1.\n",
    "    Xbar = (X - mu)/std_filled\n",
    "    return Xbar\n"
   ]
  },
  {
   "cell_type": "code",
   "execution_count": 2,
   "metadata": {},
   "outputs": [],
   "source": [
    "def mse(predict, actual):\n",
    "    \"\"\"Helper function for computing the mean squared error (MSE)\"\"\"\n",
    "    return np.square(predict - actual).sum(axis=1).mean()"
   ]
  },
  {
   "cell_type": "code",
   "execution_count": 47,
   "metadata": {},
   "outputs": [],
   "source": [
    "Xbar = normalize(x_train_flatten)"
   ]
  },
  {
   "cell_type": "code",
   "execution_count": 51,
   "metadata": {
    "scrolled": false
   },
   "outputs": [
    {
     "name": "stdout",
     "output_type": "stream",
     "text": [
      "n = 1, reconstruction_error = 676.513040\n",
      "n = 2, reconstruction_error = 647.271830\n",
      "n = 3, reconstruction_error = 620.460472\n",
      "n = 4, reconstruction_error = 599.774198\n",
      "n = 5, reconstruction_error = 581.697850\n",
      "n = 6, reconstruction_error = 565.964934\n",
      "n = 7, reconstruction_error = 552.174555\n",
      "n = 8, reconstruction_error = 539.657174\n",
      "n = 9, reconstruction_error = 528.650562\n",
      "n = 10, reconstruction_error = 518.600233\n",
      "n = 11, reconstruction_error = 508.979935\n",
      "n = 12, reconstruction_error = 500.349106\n",
      "n = 13, reconstruction_error = 492.357642\n",
      "n = 14, reconstruction_error = 484.542890\n",
      "n = 15, reconstruction_error = 477.167475\n",
      "n = 16, reconstruction_error = 470.037007\n",
      "n = 17, reconstruction_error = 463.323138\n",
      "n = 18, reconstruction_error = 456.719241\n",
      "n = 19, reconstruction_error = 450.313299\n",
      "n = 20, reconstruction_error = 444.076026\n",
      "n = 21, reconstruction_error = 438.143833\n",
      "n = 22, reconstruction_error = 432.383330\n",
      "n = 23, reconstruction_error = 426.899388\n",
      "n = 24, reconstruction_error = 421.580880\n",
      "n = 25, reconstruction_error = 416.452230\n",
      "n = 26, reconstruction_error = 411.491688\n",
      "n = 27, reconstruction_error = 406.586433\n",
      "n = 28, reconstruction_error = 401.878077\n",
      "n = 29, reconstruction_error = 397.348955\n",
      "n = 30, reconstruction_error = 392.954319\n",
      "n = 31, reconstruction_error = 388.679169\n",
      "n = 32, reconstruction_error = 384.465242\n",
      "n = 33, reconstruction_error = 380.366930\n",
      "n = 34, reconstruction_error = 376.335185\n",
      "n = 35, reconstruction_error = 372.358116\n",
      "n = 36, reconstruction_error = 368.497656\n",
      "n = 37, reconstruction_error = 364.689079\n",
      "n = 38, reconstruction_error = 360.963507\n",
      "n = 39, reconstruction_error = 357.319632\n",
      "n = 40, reconstruction_error = 353.877992\n",
      "n = 41, reconstruction_error = 350.461804\n",
      "n = 42, reconstruction_error = 347.098075\n",
      "n = 43, reconstruction_error = 343.840393\n",
      "n = 44, reconstruction_error = 340.604243\n",
      "n = 45, reconstruction_error = 337.399516\n",
      "n = 46, reconstruction_error = 334.220459\n",
      "n = 47, reconstruction_error = 331.078454\n",
      "n = 48, reconstruction_error = 327.992617\n",
      "n = 49, reconstruction_error = 324.931902\n",
      "n = 50, reconstruction_error = 321.894353\n",
      "n = 51, reconstruction_error = 318.992682\n",
      "n = 52, reconstruction_error = 316.128644\n",
      "n = 53, reconstruction_error = 313.278884\n",
      "n = 54, reconstruction_error = 310.455188\n",
      "n = 55, reconstruction_error = 307.688905\n",
      "n = 56, reconstruction_error = 304.971169\n",
      "n = 57, reconstruction_error = 302.279532\n",
      "n = 58, reconstruction_error = 299.621069\n",
      "n = 59, reconstruction_error = 297.004418\n",
      "n = 60, reconstruction_error = 294.428233\n",
      "n = 61, reconstruction_error = 291.901652\n",
      "n = 62, reconstruction_error = 289.407972\n",
      "n = 63, reconstruction_error = 286.938543\n",
      "n = 64, reconstruction_error = 284.501689\n",
      "n = 65, reconstruction_error = 282.092894\n",
      "n = 66, reconstruction_error = 279.691762\n",
      "n = 67, reconstruction_error = 277.312300\n",
      "n = 68, reconstruction_error = 274.996203\n",
      "n = 69, reconstruction_error = 272.728498\n",
      "n = 70, reconstruction_error = 270.482536\n",
      "n = 71, reconstruction_error = 268.254592\n",
      "n = 72, reconstruction_error = 266.051660\n",
      "n = 73, reconstruction_error = 263.865426\n",
      "n = 74, reconstruction_error = 261.694943\n",
      "n = 75, reconstruction_error = 259.547634\n",
      "n = 76, reconstruction_error = 257.412686\n",
      "n = 77, reconstruction_error = 255.297166\n",
      "n = 78, reconstruction_error = 253.214725\n",
      "n = 79, reconstruction_error = 251.157966\n",
      "n = 80, reconstruction_error = 249.109657\n",
      "n = 81, reconstruction_error = 247.077694\n",
      "n = 82, reconstruction_error = 245.051258\n",
      "n = 83, reconstruction_error = 243.046877\n",
      "n = 84, reconstruction_error = 241.044257\n",
      "n = 85, reconstruction_error = 239.047275\n",
      "n = 86, reconstruction_error = 237.057919\n",
      "n = 87, reconstruction_error = 235.079710\n",
      "n = 88, reconstruction_error = 233.113500\n",
      "n = 89, reconstruction_error = 231.167486\n",
      "n = 90, reconstruction_error = 229.236871\n",
      "n = 91, reconstruction_error = 227.326178\n",
      "n = 92, reconstruction_error = 225.436300\n",
      "n = 93, reconstruction_error = 223.550866\n",
      "n = 94, reconstruction_error = 221.679253\n",
      "n = 95, reconstruction_error = 219.823464\n",
      "n = 96, reconstruction_error = 217.986679\n",
      "n = 97, reconstruction_error = 216.166604\n",
      "n = 98, reconstruction_error = 214.370898\n",
      "n = 99, reconstruction_error = 212.593961\n",
      "n = 100, reconstruction_error = 210.837070\n",
      "n = 101, reconstruction_error = 209.099445\n",
      "n = 102, reconstruction_error = 207.363847\n",
      "n = 103, reconstruction_error = 205.651110\n",
      "n = 104, reconstruction_error = 203.948560\n",
      "n = 105, reconstruction_error = 202.259248\n",
      "n = 106, reconstruction_error = 200.588256\n",
      "n = 107, reconstruction_error = 198.953639\n",
      "n = 108, reconstruction_error = 197.331970\n",
      "n = 109, reconstruction_error = 195.734268\n",
      "n = 110, reconstruction_error = 194.139358\n",
      "n = 111, reconstruction_error = 192.575083\n",
      "n = 112, reconstruction_error = 191.017352\n",
      "n = 113, reconstruction_error = 189.480987\n",
      "n = 114, reconstruction_error = 187.961394\n",
      "n = 115, reconstruction_error = 186.448725\n",
      "n = 116, reconstruction_error = 184.962167\n",
      "n = 117, reconstruction_error = 183.494030\n",
      "n = 118, reconstruction_error = 182.028710\n",
      "n = 119, reconstruction_error = 180.577441\n",
      "n = 120, reconstruction_error = 179.140127\n",
      "n = 121, reconstruction_error = 177.714573\n",
      "n = 122, reconstruction_error = 176.314878\n",
      "n = 123, reconstruction_error = 174.925781\n",
      "n = 124, reconstruction_error = 173.548401\n",
      "n = 125, reconstruction_error = 172.173798\n",
      "n = 126, reconstruction_error = 170.812917\n",
      "n = 127, reconstruction_error = 169.471486\n",
      "n = 128, reconstruction_error = 168.134025\n",
      "n = 129, reconstruction_error = 166.833961\n",
      "n = 130, reconstruction_error = 165.543323\n",
      "n = 131, reconstruction_error = 164.258502\n",
      "n = 132, reconstruction_error = 162.975264\n",
      "n = 133, reconstruction_error = 161.706529\n",
      "n = 134, reconstruction_error = 160.443478\n",
      "n = 135, reconstruction_error = 159.190185\n",
      "n = 136, reconstruction_error = 157.949885\n",
      "n = 137, reconstruction_error = 156.716525\n",
      "n = 138, reconstruction_error = 155.506752\n",
      "n = 139, reconstruction_error = 154.298485\n",
      "n = 140, reconstruction_error = 153.102232\n",
      "n = 141, reconstruction_error = 151.921200\n",
      "n = 142, reconstruction_error = 150.741198\n",
      "n = 143, reconstruction_error = 149.563213\n",
      "n = 144, reconstruction_error = 148.405360\n",
      "n = 145, reconstruction_error = 147.254645\n",
      "n = 146, reconstruction_error = 146.115244\n",
      "n = 147, reconstruction_error = 144.986044\n",
      "n = 148, reconstruction_error = 143.868114\n",
      "n = 149, reconstruction_error = 142.752189\n",
      "n = 150, reconstruction_error = 141.643237\n",
      "n = 151, reconstruction_error = 140.538749\n",
      "n = 152, reconstruction_error = 139.451744\n",
      "n = 153, reconstruction_error = 138.374297\n",
      "n = 154, reconstruction_error = 137.307683\n",
      "n = 155, reconstruction_error = 136.250069\n",
      "n = 156, reconstruction_error = 135.197369\n",
      "n = 157, reconstruction_error = 134.151963\n",
      "n = 158, reconstruction_error = 133.108243\n",
      "n = 159, reconstruction_error = 132.070480\n",
      "n = 160, reconstruction_error = 131.045922\n",
      "n = 161, reconstruction_error = 130.034537\n",
      "n = 162, reconstruction_error = 129.031177\n",
      "n = 163, reconstruction_error = 128.029462\n",
      "n = 164, reconstruction_error = 127.029010\n",
      "n = 165, reconstruction_error = 126.029835\n",
      "n = 166, reconstruction_error = 125.031590\n",
      "n = 167, reconstruction_error = 124.036587\n",
      "n = 168, reconstruction_error = 123.044691\n",
      "n = 169, reconstruction_error = 122.056550\n",
      "n = 170, reconstruction_error = 121.075374\n",
      "n = 171, reconstruction_error = 120.099067\n",
      "n = 172, reconstruction_error = 119.125220\n",
      "n = 173, reconstruction_error = 118.166582\n",
      "n = 174, reconstruction_error = 117.213650\n",
      "n = 175, reconstruction_error = 116.273954\n",
      "n = 176, reconstruction_error = 115.339752\n",
      "n = 177, reconstruction_error = 114.412496\n",
      "n = 178, reconstruction_error = 113.493011\n",
      "n = 179, reconstruction_error = 112.579504\n",
      "n = 180, reconstruction_error = 111.670189\n",
      "n = 181, reconstruction_error = 110.771632\n",
      "n = 182, reconstruction_error = 109.882231\n",
      "n = 183, reconstruction_error = 109.000439\n",
      "n = 184, reconstruction_error = 108.128439\n",
      "n = 185, reconstruction_error = 107.257239\n",
      "n = 186, reconstruction_error = 106.396821\n",
      "n = 187, reconstruction_error = 105.542968\n",
      "n = 188, reconstruction_error = 104.690494\n",
      "n = 189, reconstruction_error = 103.847272\n",
      "n = 190, reconstruction_error = 103.010102\n",
      "n = 191, reconstruction_error = 102.176705\n",
      "n = 192, reconstruction_error = 101.353601\n",
      "n = 193, reconstruction_error = 100.538347\n",
      "n = 194, reconstruction_error = 99.730145\n"
     ]
    },
    {
     "name": "stdout",
     "output_type": "stream",
     "text": [
      "n = 195, reconstruction_error = 98.926709\n",
      "n = 196, reconstruction_error = 98.142248\n",
      "n = 197, reconstruction_error = 97.363977\n",
      "n = 198, reconstruction_error = 96.596583\n",
      "n = 199, reconstruction_error = 95.833687\n",
      "n = 200, reconstruction_error = 95.077435\n",
      "n = 201, reconstruction_error = 94.327249\n",
      "n = 202, reconstruction_error = 93.584409\n",
      "n = 203, reconstruction_error = 92.843977\n",
      "n = 204, reconstruction_error = 92.112112\n",
      "n = 205, reconstruction_error = 91.389198\n",
      "n = 206, reconstruction_error = 90.671066\n",
      "n = 207, reconstruction_error = 89.955602\n",
      "n = 208, reconstruction_error = 89.244385\n",
      "n = 209, reconstruction_error = 88.543679\n",
      "n = 210, reconstruction_error = 87.849269\n",
      "n = 211, reconstruction_error = 87.162348\n",
      "n = 212, reconstruction_error = 86.476633\n",
      "n = 213, reconstruction_error = 85.797111\n",
      "n = 214, reconstruction_error = 85.118490\n",
      "n = 215, reconstruction_error = 84.441854\n",
      "n = 216, reconstruction_error = 83.777377\n",
      "n = 217, reconstruction_error = 83.119599\n",
      "n = 218, reconstruction_error = 82.468077\n",
      "n = 219, reconstruction_error = 81.824591\n",
      "n = 220, reconstruction_error = 81.185338\n",
      "n = 221, reconstruction_error = 80.548778\n",
      "n = 222, reconstruction_error = 79.918616\n",
      "n = 223, reconstruction_error = 79.295431\n",
      "n = 224, reconstruction_error = 78.677289\n",
      "n = 225, reconstruction_error = 78.060269\n",
      "n = 226, reconstruction_error = 77.454151\n",
      "n = 227, reconstruction_error = 76.851805\n",
      "n = 228, reconstruction_error = 76.252590\n",
      "n = 229, reconstruction_error = 75.661765\n",
      "n = 230, reconstruction_error = 75.073266\n",
      "n = 231, reconstruction_error = 74.490368\n",
      "n = 232, reconstruction_error = 73.909464\n",
      "n = 233, reconstruction_error = 73.341621\n",
      "n = 234, reconstruction_error = 72.780006\n",
      "n = 235, reconstruction_error = 72.221632\n",
      "n = 236, reconstruction_error = 71.668464\n",
      "n = 237, reconstruction_error = 71.118975\n",
      "n = 238, reconstruction_error = 70.581103\n",
      "n = 239, reconstruction_error = 70.047988\n",
      "n = 240, reconstruction_error = 69.518130\n",
      "n = 241, reconstruction_error = 68.992977\n",
      "n = 242, reconstruction_error = 68.471665\n",
      "n = 243, reconstruction_error = 67.951456\n",
      "n = 244, reconstruction_error = 67.437529\n",
      "n = 245, reconstruction_error = 66.927713\n",
      "n = 246, reconstruction_error = 66.424007\n",
      "n = 247, reconstruction_error = 65.926037\n",
      "n = 248, reconstruction_error = 65.428327\n",
      "n = 249, reconstruction_error = 64.941149\n",
      "n = 250, reconstruction_error = 64.454725\n",
      "n = 251, reconstruction_error = 63.969750\n",
      "n = 252, reconstruction_error = 63.488290\n",
      "n = 253, reconstruction_error = 63.012714\n",
      "n = 254, reconstruction_error = 62.543026\n",
      "n = 255, reconstruction_error = 62.075666\n",
      "n = 256, reconstruction_error = 61.613562\n",
      "n = 257, reconstruction_error = 61.153723\n",
      "n = 258, reconstruction_error = 60.697477\n",
      "n = 259, reconstruction_error = 60.244240\n",
      "n = 260, reconstruction_error = 59.794059\n",
      "n = 261, reconstruction_error = 59.346608\n",
      "n = 262, reconstruction_error = 58.901920\n",
      "n = 263, reconstruction_error = 58.465251\n",
      "n = 264, reconstruction_error = 58.030854\n",
      "n = 265, reconstruction_error = 57.601672\n",
      "n = 266, reconstruction_error = 57.177310\n",
      "n = 267, reconstruction_error = 56.758832\n",
      "n = 268, reconstruction_error = 56.342426\n",
      "n = 269, reconstruction_error = 55.929983\n",
      "n = 270, reconstruction_error = 55.519408\n",
      "n = 271, reconstruction_error = 55.110943\n",
      "n = 272, reconstruction_error = 54.706605\n",
      "n = 273, reconstruction_error = 54.305941\n",
      "n = 274, reconstruction_error = 53.906882\n",
      "n = 275, reconstruction_error = 53.511308\n",
      "n = 276, reconstruction_error = 53.116812\n",
      "n = 277, reconstruction_error = 52.726303\n",
      "n = 278, reconstruction_error = 52.338604\n",
      "n = 279, reconstruction_error = 51.952301\n",
      "n = 280, reconstruction_error = 51.570537\n",
      "n = 281, reconstruction_error = 51.190855\n",
      "n = 282, reconstruction_error = 50.813568\n",
      "n = 283, reconstruction_error = 50.439019\n",
      "n = 284, reconstruction_error = 50.067026\n",
      "n = 285, reconstruction_error = 49.697911\n",
      "n = 286, reconstruction_error = 49.333437\n",
      "n = 287, reconstruction_error = 48.969670\n",
      "n = 288, reconstruction_error = 48.608944\n",
      "n = 289, reconstruction_error = 48.249893\n",
      "n = 290, reconstruction_error = 47.893514\n",
      "n = 291, reconstruction_error = 47.540529\n",
      "n = 292, reconstruction_error = 47.194335\n",
      "n = 293, reconstruction_error = 46.850494\n",
      "n = 294, reconstruction_error = 46.508548\n",
      "n = 295, reconstruction_error = 46.167254\n",
      "n = 296, reconstruction_error = 45.829472\n",
      "n = 297, reconstruction_error = 45.495350\n",
      "n = 298, reconstruction_error = 45.166375\n",
      "n = 299, reconstruction_error = 44.838886\n",
      "n = 300, reconstruction_error = 44.516662\n",
      "n = 301, reconstruction_error = 44.196463\n",
      "n = 302, reconstruction_error = 43.879079\n",
      "n = 303, reconstruction_error = 43.564756\n",
      "n = 304, reconstruction_error = 43.250571\n",
      "n = 305, reconstruction_error = 42.940594\n",
      "n = 306, reconstruction_error = 42.631782\n",
      "n = 307, reconstruction_error = 42.327221\n",
      "n = 308, reconstruction_error = 42.025182\n",
      "n = 309, reconstruction_error = 41.724591\n",
      "n = 310, reconstruction_error = 41.426908\n",
      "n = 311, reconstruction_error = 41.130589\n",
      "n = 312, reconstruction_error = 40.836370\n",
      "n = 313, reconstruction_error = 40.543509\n",
      "n = 314, reconstruction_error = 40.254007\n",
      "n = 315, reconstruction_error = 39.966109\n",
      "n = 316, reconstruction_error = 39.680419\n",
      "n = 317, reconstruction_error = 39.397017\n",
      "n = 318, reconstruction_error = 39.115886\n",
      "n = 319, reconstruction_error = 38.836196\n",
      "n = 320, reconstruction_error = 38.558908\n",
      "n = 321, reconstruction_error = 38.281998\n",
      "n = 322, reconstruction_error = 38.007363\n",
      "n = 323, reconstruction_error = 37.735582\n",
      "n = 324, reconstruction_error = 37.465952\n",
      "n = 325, reconstruction_error = 37.196912\n",
      "n = 326, reconstruction_error = 36.931250\n",
      "n = 327, reconstruction_error = 36.668432\n",
      "n = 328, reconstruction_error = 36.407581\n",
      "n = 329, reconstruction_error = 36.149842\n",
      "n = 330, reconstruction_error = 35.892972\n",
      "n = 331, reconstruction_error = 35.638372\n",
      "n = 332, reconstruction_error = 35.384750\n",
      "n = 333, reconstruction_error = 35.132007\n",
      "n = 334, reconstruction_error = 34.882168\n",
      "n = 335, reconstruction_error = 34.634609\n",
      "n = 336, reconstruction_error = 34.389415\n",
      "n = 337, reconstruction_error = 34.146355\n",
      "n = 338, reconstruction_error = 33.905051\n",
      "n = 339, reconstruction_error = 33.665001\n",
      "n = 340, reconstruction_error = 33.426713\n",
      "n = 341, reconstruction_error = 33.190034\n",
      "n = 342, reconstruction_error = 32.954283\n",
      "n = 343, reconstruction_error = 32.721295\n",
      "n = 344, reconstruction_error = 32.489639\n",
      "n = 345, reconstruction_error = 32.259087\n",
      "n = 346, reconstruction_error = 32.030128\n",
      "n = 347, reconstruction_error = 31.804305\n",
      "n = 348, reconstruction_error = 31.581212\n",
      "n = 349, reconstruction_error = 31.359006\n",
      "n = 350, reconstruction_error = 31.137573\n",
      "n = 351, reconstruction_error = 30.917830\n",
      "n = 352, reconstruction_error = 30.699430\n",
      "n = 353, reconstruction_error = 30.482777\n",
      "n = 354, reconstruction_error = 30.267329\n",
      "n = 355, reconstruction_error = 30.053879\n",
      "n = 356, reconstruction_error = 29.841283\n",
      "n = 357, reconstruction_error = 29.630211\n",
      "n = 358, reconstruction_error = 29.422084\n",
      "n = 359, reconstruction_error = 29.214232\n",
      "n = 360, reconstruction_error = 29.008126\n",
      "n = 361, reconstruction_error = 28.803398\n",
      "n = 362, reconstruction_error = 28.600069\n",
      "n = 363, reconstruction_error = 28.397612\n",
      "n = 364, reconstruction_error = 28.196717\n",
      "n = 365, reconstruction_error = 27.997880\n",
      "n = 366, reconstruction_error = 27.799640\n",
      "n = 367, reconstruction_error = 27.604255\n",
      "n = 368, reconstruction_error = 27.410289\n",
      "n = 369, reconstruction_error = 27.216672\n",
      "n = 370, reconstruction_error = 27.025949\n",
      "n = 371, reconstruction_error = 26.835423\n",
      "n = 372, reconstruction_error = 26.646856\n",
      "n = 373, reconstruction_error = 26.460420\n",
      "n = 374, reconstruction_error = 26.274476\n",
      "n = 375, reconstruction_error = 26.091182\n",
      "n = 376, reconstruction_error = 25.909179\n",
      "n = 377, reconstruction_error = 25.727727\n",
      "n = 378, reconstruction_error = 25.547581\n",
      "n = 379, reconstruction_error = 25.368523\n",
      "n = 380, reconstruction_error = 25.190515\n",
      "n = 381, reconstruction_error = 25.015262\n",
      "n = 382, reconstruction_error = 24.840298\n",
      "n = 383, reconstruction_error = 24.665881\n",
      "n = 384, reconstruction_error = 24.492193\n",
      "n = 385, reconstruction_error = 24.321710\n",
      "n = 386, reconstruction_error = 24.151766\n",
      "n = 387, reconstruction_error = 23.982420\n",
      "n = 388, reconstruction_error = 23.813958\n",
      "n = 389, reconstruction_error = 23.646814\n",
      "n = 390, reconstruction_error = 23.481459\n"
     ]
    },
    {
     "name": "stdout",
     "output_type": "stream",
     "text": [
      "n = 391, reconstruction_error = 23.316759\n",
      "n = 392, reconstruction_error = 23.152523\n",
      "n = 393, reconstruction_error = 22.989668\n",
      "n = 394, reconstruction_error = 22.827919\n",
      "n = 395, reconstruction_error = 22.666740\n",
      "n = 396, reconstruction_error = 22.506018\n",
      "n = 397, reconstruction_error = 22.347028\n",
      "n = 398, reconstruction_error = 22.188289\n",
      "n = 399, reconstruction_error = 22.030474\n",
      "n = 400, reconstruction_error = 21.873972\n",
      "n = 401, reconstruction_error = 21.718254\n",
      "n = 402, reconstruction_error = 21.563196\n",
      "n = 403, reconstruction_error = 21.409242\n",
      "n = 404, reconstruction_error = 21.256266\n",
      "n = 405, reconstruction_error = 21.104573\n",
      "n = 406, reconstruction_error = 20.953658\n",
      "n = 407, reconstruction_error = 20.804076\n",
      "n = 408, reconstruction_error = 20.655597\n",
      "n = 409, reconstruction_error = 20.507733\n",
      "n = 410, reconstruction_error = 20.361655\n",
      "n = 411, reconstruction_error = 20.216326\n",
      "n = 412, reconstruction_error = 20.072961\n",
      "n = 413, reconstruction_error = 19.929680\n",
      "n = 414, reconstruction_error = 19.787554\n",
      "n = 415, reconstruction_error = 19.645562\n",
      "n = 416, reconstruction_error = 19.504847\n",
      "n = 417, reconstruction_error = 19.364747\n",
      "n = 418, reconstruction_error = 19.228107\n",
      "n = 419, reconstruction_error = 19.091888\n",
      "n = 420, reconstruction_error = 18.956297\n",
      "n = 421, reconstruction_error = 18.821039\n",
      "n = 422, reconstruction_error = 18.686805\n",
      "n = 423, reconstruction_error = 18.554042\n",
      "n = 424, reconstruction_error = 18.421460\n",
      "n = 425, reconstruction_error = 18.289987\n",
      "n = 426, reconstruction_error = 18.160469\n",
      "n = 427, reconstruction_error = 18.032028\n",
      "n = 428, reconstruction_error = 17.903635\n",
      "n = 429, reconstruction_error = 17.776326\n",
      "n = 430, reconstruction_error = 17.649958\n",
      "n = 431, reconstruction_error = 17.523742\n",
      "n = 432, reconstruction_error = 17.398199\n",
      "n = 433, reconstruction_error = 17.273996\n",
      "n = 434, reconstruction_error = 17.149855\n",
      "n = 435, reconstruction_error = 17.027201\n",
      "n = 436, reconstruction_error = 16.905003\n",
      "n = 437, reconstruction_error = 16.783039\n",
      "n = 438, reconstruction_error = 16.662110\n",
      "n = 439, reconstruction_error = 16.541454\n",
      "n = 440, reconstruction_error = 16.421764\n",
      "n = 441, reconstruction_error = 16.302751\n",
      "n = 442, reconstruction_error = 16.184135\n",
      "n = 443, reconstruction_error = 16.066018\n",
      "n = 444, reconstruction_error = 15.948554\n",
      "n = 445, reconstruction_error = 15.831220\n",
      "n = 446, reconstruction_error = 15.714498\n",
      "n = 447, reconstruction_error = 15.598627\n",
      "n = 448, reconstruction_error = 15.483505\n",
      "n = 449, reconstruction_error = 15.369432\n",
      "n = 450, reconstruction_error = 15.256747\n",
      "n = 451, reconstruction_error = 15.144597\n",
      "n = 452, reconstruction_error = 15.033138\n",
      "n = 453, reconstruction_error = 14.922802\n",
      "n = 454, reconstruction_error = 14.812614\n",
      "n = 455, reconstruction_error = 14.703365\n",
      "n = 456, reconstruction_error = 14.594919\n",
      "n = 457, reconstruction_error = 14.487409\n",
      "n = 458, reconstruction_error = 14.380287\n",
      "n = 459, reconstruction_error = 14.273382\n",
      "n = 460, reconstruction_error = 14.167278\n",
      "n = 461, reconstruction_error = 14.061683\n",
      "n = 462, reconstruction_error = 13.956127\n",
      "n = 463, reconstruction_error = 13.850918\n",
      "n = 464, reconstruction_error = 13.747016\n",
      "n = 465, reconstruction_error = 13.644048\n",
      "n = 466, reconstruction_error = 13.541171\n",
      "n = 467, reconstruction_error = 13.438639\n",
      "n = 468, reconstruction_error = 13.337161\n",
      "n = 469, reconstruction_error = 13.235901\n",
      "n = 470, reconstruction_error = 13.134886\n",
      "n = 471, reconstruction_error = 13.034798\n",
      "n = 472, reconstruction_error = 12.934810\n",
      "n = 473, reconstruction_error = 12.835678\n",
      "n = 474, reconstruction_error = 12.737009\n",
      "n = 475, reconstruction_error = 12.638889\n",
      "n = 476, reconstruction_error = 12.541265\n",
      "n = 477, reconstruction_error = 12.445044\n",
      "n = 478, reconstruction_error = 12.348973\n",
      "n = 479, reconstruction_error = 12.253282\n",
      "n = 480, reconstruction_error = 12.158826\n",
      "n = 481, reconstruction_error = 12.064698\n",
      "n = 482, reconstruction_error = 11.970757\n",
      "n = 483, reconstruction_error = 11.877286\n",
      "n = 484, reconstruction_error = 11.784159\n",
      "n = 485, reconstruction_error = 11.691401\n",
      "n = 486, reconstruction_error = 11.599532\n",
      "n = 487, reconstruction_error = 11.508516\n",
      "n = 488, reconstruction_error = 11.417773\n",
      "n = 489, reconstruction_error = 11.327622\n",
      "n = 490, reconstruction_error = 11.237959\n",
      "n = 491, reconstruction_error = 11.148742\n",
      "n = 492, reconstruction_error = 11.060015\n",
      "n = 493, reconstruction_error = 10.971960\n",
      "n = 494, reconstruction_error = 10.883933\n",
      "n = 495, reconstruction_error = 10.796480\n",
      "n = 496, reconstruction_error = 10.709123\n",
      "n = 497, reconstruction_error = 10.622834\n",
      "n = 498, reconstruction_error = 10.536665\n",
      "n = 499, reconstruction_error = 10.451068\n",
      "n = 500, reconstruction_error = 10.365864\n",
      "n = 501, reconstruction_error = 10.281218\n",
      "n = 502, reconstruction_error = 10.196767\n",
      "n = 503, reconstruction_error = 10.113096\n",
      "n = 504, reconstruction_error = 10.030011\n",
      "n = 505, reconstruction_error = 9.947451\n",
      "n = 506, reconstruction_error = 9.865603\n",
      "n = 507, reconstruction_error = 9.783934\n",
      "n = 508, reconstruction_error = 9.702781\n",
      "n = 509, reconstruction_error = 9.622118\n",
      "n = 510, reconstruction_error = 9.541646\n",
      "n = 511, reconstruction_error = 9.461787\n",
      "n = 512, reconstruction_error = 9.382240\n"
     ]
    }
   ],
   "source": [
    "loss = []\n",
    "reconstructions = []\n",
    "# iterate over different number of principal components, and compute the MSE\n",
    "for num_component in range(1, 513):\n",
    "    pca = PCA(n_components=num_component, svd_solver='full')\n",
    "    reconst = pca.inverse_transform(pca.fit_transform(Xbar))\n",
    "    error = mse(reconst, Xbar)\n",
    "    #reconstructions.append(reconst)\n",
    "    print('n = {:d}, reconstruction_error = {:f}'.format(num_component, error))\n",
    "    loss.append((num_component, error))\n",
    "\n",
    "#reconstructions = np.asarray(reconstructions)\n",
    "#reconstructions = reconstructions * std + mu # \"unnormalize\" the reconstructed image\n",
    "#loss = np.asarray(loss)"
   ]
  },
  {
   "cell_type": "code",
   "execution_count": 16,
   "metadata": {},
   "outputs": [],
   "source": [
    "# save numpy array as csv file\n",
    "from numpy import asarray\n",
    "from numpy import savetxt, loadtxt\n",
    "\n",
    "def save_to_csv(data, file_name):\n",
    "    # save to csv file\n",
    "    savetxt('./' + file_name, data, delimiter=',')\n",
    "    \n",
    "def load_from_csv(file_name):\n",
    "    # load from csv file\n",
    "    return loadtxt('./' + file_name, delimiter=',')"
   ]
  },
  {
   "cell_type": "code",
   "execution_count": 87,
   "metadata": {},
   "outputs": [],
   "source": [
    "rc_error = np.array(loss)\n",
    "save_to_csv(rc_error, \"PCA Reconstruction Error.csv\")"
   ]
  },
  {
   "cell_type": "code",
   "execution_count": 17,
   "metadata": {},
   "outputs": [],
   "source": [
    "rc_error = load_from_csv(\"PCA Reconstruction Error.csv\")"
   ]
  },
  {
   "cell_type": "code",
   "execution_count": 18,
   "metadata": {},
   "outputs": [],
   "source": [
    "max_error = (rc_error[:,1].max())"
   ]
  },
  {
   "cell_type": "code",
   "execution_count": 26,
   "metadata": {},
   "outputs": [
    {
     "data": {
      "image/png": "[encoded data removed]",
      "text/plain": [
       "<Figure size 432x288 with 1 Axes>"
      ]
     },
     "metadata": {
      "needs_background": "light"
     },
     "output_type": "display_data"
    }
   ],
   "source": [
    "plt.plot(rc_error[:,0], rc_error[:,1])\n",
    "for i in range(1,8):\n",
    "    plt.scatter(2**i, rc_error[2**i,1], color='red')\n",
    "\n",
    "plt.scatter(511, rc_error[511, 1], color='red', label=\"k = power of two\")\n",
    "\n",
    "plt.xlabel(\"k Principal Components\")\n",
    "plt.ylabel(\"MSE\")\n",
    "plt.title(\"MNIST Data PCA Reconstruction Error\")\n",
    "\n",
    "plt.legend()\n",
    "plt.show()"
   ]
  },
  {
   "cell_type": "code",
   "execution_count": 102,
   "metadata": {},
   "outputs": [
    {
     "data": {
      "text/plain": [
       "<matplotlib.collections.PathCollection at 0x26092f95fc8>"
      ]
     },
     "execution_count": 102,
     "metadata": {},
     "output_type": "execute_result"
    },
    {
     "data": {
      "image/png": "[encoded data removed]",
      "text/plain": [
       "<Figure size 432x288 with 1 Axes>"
      ]
     },
     "metadata": {
      "needs_background": "light"
     },
     "output_type": "display_data"
    }
   ],
   "source": [
    "finite_dif = (rc_error[:rc_error.shape[0]-1,1]-rc_error[1:,1])\n",
    "plt.plot(rc_error[1:,0], finite_dif)\n",
    "\n",
    "for i in range(1,8):\n",
    "    plt.scatter(2**i, finite_dif[2**i], color='red')\n",
    "    \n",
    "plt.scatter(510, finite_dif[510], color='red')"
   ]
  },
  {
   "cell_type": "code",
   "execution_count": 2,
   "metadata": {},
   "outputs": [],
   "source": [
    "# function to calculate the angle β\n",
    "\n",
    "def beta(s, j, X_sample):\n",
    "    # numerator index\n",
    "    index_num = (2*j-1)*(2**(s-1))\n",
    "    # denominator index\n",
    "    index_den = (j-1)*(2**s)\n",
    "    \n",
    "    num = np.sqrt(np.sum(abs(X_sample[index_num : index_num+2**(s-1)])**2))\n",
    "    den = np.sqrt(np.sum(abs(X_sample[index_den : index_den+2**(s)])**2))\n",
    "    \n",
    "    if den == 0:\n",
    "        #print(\"Zero denominator!\")\n",
    "        beta = 0\n",
    "    else:\n",
    "        beta = 2*np.arcsin(num/den)\n",
    "    \n",
    "    return beta"
   ]
  },
  {
   "cell_type": "code",
   "execution_count": 3,
   "metadata": {},
   "outputs": [],
   "source": [
    "def decimalToBinary(n, length):\n",
    "    binary = bin(n).replace(\"0b\", \"\")\n",
    "    if len(binary) != length:\n",
    "        for i in range(length - len(binary)):\n",
    "            binary = \"0\" + binary\n",
    "    \n",
    "    return binary\n",
    "\n",
    "def locate_x(current_j, prev_j, length):\n",
    "    loc = []\n",
    "    \n",
    "    prev_binary = decimalToBinary(prev_j, length)\n",
    "    counter = 0\n",
    "    \n",
    "    for i in decimalToBinary(current_j, length):\n",
    "        if i != prev_binary[counter]:\n",
    "            loc.append(counter)\n",
    "        counter += 1\n",
    "    \n",
    "    return loc"
   ]
  },
  {
   "cell_type": "code",
   "execution_count": 39,
   "metadata": {},
   "outputs": [
    {
     "data": {
      "image/png": "[encoded data removed]",
      "text/plain": [
       "<PIL.Image.Image image mode=RGB size=964x179 at 0x2BBE3D14A08>"
      ]
     },
     "execution_count": 39,
     "metadata": {},
     "output_type": "execute_result"
    }
   ],
   "source": [
    "n = 2\n",
    "\n",
    "qr = QuantumRegister(n, 'q')\n",
    "cr = ClassicalRegister(n, 'c')\n",
    "qc = QuantumCircuit(qr, cr)\n",
    "\n",
    "control = [Qubit(qr, c) for c in range(n-1)]\n",
    "target = Qubit(qr, n-1)\n",
    "    \n",
    "qc.h(0)\n",
    "\n",
    "# beta(n-i, (2**i)-j, X_sample)\n",
    "qc.mcry(45, control, target, None)\n",
    "\n",
    "qc.measure([0,1], [0,1])\n",
    "\n",
    "qc.draw('latex')"
   ]
  },
  {
   "cell_type": "code",
   "execution_count": 40,
   "metadata": {},
   "outputs": [
    {
     "data": {
      "image/png": "[encoded data removed]",
      "text/plain": [
       "<Figure size 504x360 with 1 Axes>"
      ]
     },
     "execution_count": 40,
     "metadata": {},
     "output_type": "execute_result"
    }
   ],
   "source": [
    "counts = execute(qc, backend=simulator, shots=1000000).result().get_counts(qc)\n",
    "plot_histogram(counts)"
   ]
  },
  {
   "cell_type": "code",
   "execution_count": 41,
   "metadata": {},
   "outputs": [
    {
     "data": {
      "image/png": "[encoded data removed]",
      "text/plain": [
       "<Figure size 1224.23x204.68 with 1 Axes>"
      ]
     },
     "execution_count": 41,
     "metadata": {},
     "output_type": "execute_result"
    }
   ],
   "source": [
    "theta = 45\n",
    "\n",
    "qc = QuantumCircuit(2,2)\n",
    "\n",
    "qc.h(0)\n",
    "qc.barrier()\n",
    "\n",
    "qc.rz(0, 1)\n",
    "qc.rx(np.pi/2, 1)\n",
    "qc.rz(theta/2, 1)\n",
    "qc.rx(-np.pi/2, 1)\n",
    "qc.rz(0, 1)\n",
    "qc.cnot(0,1)\n",
    "qc.barrier()\n",
    "\n",
    "qc.rz(0, 1)\n",
    "qc.rx(np.pi/2, 1)\n",
    "qc.rz(-theta/2, 1)\n",
    "qc.rx(-np.pi/2, 1)\n",
    "qc.rz(0, 1)\n",
    "qc.cnot(0,1)\n",
    "qc.barrier()\n",
    "\n",
    "qc.measure([0,1], [0,1])\n",
    "\n",
    "qc.draw('mpl')"
   ]
  },
  {
   "cell_type": "code",
   "execution_count": 42,
   "metadata": {},
   "outputs": [
    {
     "data": {
      "image/png": "[encoded data removed]",
      "text/plain": [
       "<Figure size 504x360 with 1 Axes>"
      ]
     },
     "execution_count": 42,
     "metadata": {},
     "output_type": "execute_result"
    }
   ],
   "source": [
    "counts = execute(qc, backend=simulator, shots=1000000).result().get_counts(qc)\n",
    "plot_histogram(counts)"
   ]
  },
  {
   "cell_type": "code",
   "execution_count": 4,
   "metadata": {},
   "outputs": [],
   "source": [
    "def state_prep_qiskit(X_sample):\n",
    "\n",
    "    n = int(np.log2(len(X_sample)))\n",
    "\n",
    "    qr = QuantumRegister(n, 'q')\n",
    "    cr = ClassicalRegister(n, 'c')\n",
    "    qc = QuantumCircuit(qr, cr)\n",
    "\n",
    "    # for every qubits\n",
    "    for i in range(n):\n",
    "        # for every gates on the qubit\n",
    "        if i == 0:\n",
    "            qc.ry(beta(n, 1, X_sample), 0)\n",
    "            qc.barrier()\n",
    "        else:\n",
    "            for j in range(2**i):\n",
    "                if j != 0:\n",
    "                    for loc in locate_x((2**i)-j-1, (2**i)-j, length=i):\n",
    "                        qc.x(loc)\n",
    "\n",
    "                control = [Qubit(qr, c) for c in range(i)]\n",
    "                target = Qubit(qr, i)\n",
    "\n",
    "                qc.mcry(beta(n-i, (2**i)-j, X_sample), control, target, None)\n",
    "\n",
    "            for k in range(i):\n",
    "                qc.x(k)\n",
    "\n",
    "            qc.barrier()\n",
    "\n",
    "    #qc.measure([b for b in range(n)], [b for b in range(n)])\n",
    "\n",
    "    return qc"
   ]
  },
  {
   "cell_type": "code",
   "execution_count": null,
   "metadata": {},
   "outputs": [],
   "source": [
    "def state_prep_pennylane(X_sample):\n",
    "    \n",
    "    n = int(np.log2(len(X_sample)))\n",
    "\n",
    "    # for every qubits\n",
    "    for i in range(n):\n",
    "        # for every gates on the qubit\n",
    "        if i == 0:\n",
    "            qml.RY(beta(n, 1, X_sample), wires=0)\n",
    "        else:\n",
    "            for j in range(2**i):\n",
    "                if j != 0:\n",
    "                    for loc in locate_x((2**i)-j-1, (2**i)-j, length=i):\n",
    "                        qml.PauliX(wires=loc)\n",
    "\n",
    "                control = [Qubit(qr, c) for c in range(i)]\n",
    "                target = Qubit(qr, i)\n",
    "\n",
    "                qc.mcry(beta(n-i, (2**i)-j, X_sample), control, target, None)\n",
    "\n",
    "            for k in range(i):\n",
    "                qml.PauliX(wires=k)\n",
    "\n",
    "    #qc.measure([b for b in range(n)], [b for b in range(n)])"
   ]
  },
  {
   "cell_type": "code",
   "execution_count": 14,
   "metadata": {},
   "outputs": [],
   "source": [
    "X_sample = np.array([np.sqrt(0.4), 0, np.sqrt(0.5), np.sqrt(0.1)])"
   ]
  },
  {
   "cell_type": "code",
   "execution_count": 5,
   "metadata": {},
   "outputs": [],
   "source": [
    "X_sample = np.array([1, 0, -5.5, 0])"
   ]
  },
  {
   "cell_type": "code",
   "execution_count": 6,
   "metadata": {},
   "outputs": [],
   "source": [
    "X_sample = X_sample/np.sqrt((np.sum(X_sample**2)))"
   ]
  },
  {
   "cell_type": "code",
   "execution_count": 8,
   "metadata": {},
   "outputs": [
    {
     "data": {
      "image/png": "[encoded data removed]",
      "text/plain": [
       "<PIL.Image.Image image mode=RGB size=1545x168 at 0x22BA9552F48>"
      ]
     },
     "execution_count": 8,
     "metadata": {},
     "output_type": "execute_result"
    }
   ],
   "source": [
    "a = state_prep_qiskit(X_sample)\n",
    "n = int(np.log2(len(X_sample)))\n",
    "#a.measure([b for b in range(n)], [b for b in range(n)])\n",
    "a.draw('latex')"
   ]
  },
  {
   "cell_type": "code",
   "execution_count": 19,
   "metadata": {},
   "outputs": [
    {
     "data": {
      "text/plain": [
       "0.0"
      ]
     },
     "execution_count": 19,
     "metadata": {},
     "output_type": "execute_result"
    }
   ],
   "source": [
    "beta(1, 1, X_sample)"
   ]
  },
  {
   "cell_type": "code",
   "execution_count": 14,
   "metadata": {},
   "outputs": [],
   "source": [
    "from qiskit import Aer, execute\n",
    "simulator = Aer.get_backend('qasm_simulator')\n",
    "\n",
    "from qiskit.visualization import plot_histogram"
   ]
  },
  {
   "cell_type": "code",
   "execution_count": 23,
   "metadata": {},
   "outputs": [
    {
     "name": "stdout",
     "output_type": "stream",
     "text": [
      "[0.4 0.  0.5 0.1]\n"
     ]
    },
    {
     "data": {
      "image/png": "[encoded data removed]",
      "text/plain": [
       "<Figure size 504x360 with 1 Axes>"
      ]
     },
     "execution_count": 23,
     "metadata": {},
     "output_type": "execute_result"
    }
   ],
   "source": [
    "counts = execute(a, backend=simulator, shots=10000).result().get_counts(a)\n",
    "print(X_sample**2)\n",
    "plot_histogram(counts)"
   ]
  },
  {
   "cell_type": "code",
   "execution_count": null,
   "metadata": {},
   "outputs": [],
   "source": []
  }
 ],
 "metadata": {
  "kernelspec": {
   "display_name": "Python 3",
   "language": "python",
   "name": "python3"
  },
  "language_info": {
   "codemirror_mode": {
    "name": "ipython",
    "version": 3
   },
   "file_extension": ".py",
   "mimetype": "text/x-python",
   "name": "python",
   "nbconvert_exporter": "python",
   "pygments_lexer": "ipython3",
   "version": "3.7.4"
  }
 },
 "nbformat": 4,
 "nbformat_minor": 2
}
