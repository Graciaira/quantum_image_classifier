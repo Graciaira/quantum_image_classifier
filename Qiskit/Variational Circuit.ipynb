{
 "cells": [
  {
   "cell_type": "markdown",
   "metadata": {},
   "source": [
    "# Variational Circuit"
   ]
  },
  {
   "cell_type": "code",
   "execution_count": 1,
   "metadata": {},
   "outputs": [],
   "source": [
    "import numpy as np\n",
    "from qiskit import *\n",
    "from qiskit.circuit import Qubit\n",
    "from qiskit.quantum_info import Statevector\n",
    "\n",
    "from matplotlib import pyplot as plt"
   ]
  },
  {
   "cell_type": "code",
   "execution_count": 2,
   "metadata": {},
   "outputs": [
    {
     "data": {
      "text/plain": [
       "array([[0.09037691, 0.01263463, 0.09518555],\n",
       "       [0.03752897, 0.02784399, 0.07373099],\n",
       "       [0.05683503, 0.06149333, 0.03197067]])"
      ]
     },
     "execution_count": 2,
     "metadata": {},
     "output_type": "execute_result"
    }
   ],
   "source": [
    "n = 3\n",
    "W = np.random.rand(n,3)/10\n",
    "W"
   ]
  },
  {
   "cell_type": "code",
   "execution_count": 5,
   "metadata": {},
   "outputs": [],
   "source": [
    "def VQC_qiskit(n, num_layer, bias_init=0.0):\n",
    "    W = (0.01 * np.random.randn(num_layer, n, 3))\n",
    "\n",
    "    qr = QuantumRegister(n, 'q')\n",
    "    cr = ClassicalRegister(n, 'c')\n",
    "    qc = QuantumCircuit(qr, cr)\n",
    "\n",
    "    for layer in range(num_layer):\n",
    "        for qubit in range(n):\n",
    "            qc.u3(W[layer, qubit, 0], W[layer, qubit, 1], W[layer, qubit, 2], qubit)\n",
    "        for qubit in range(n):\n",
    "            if qubit == n-1 and n != 2:\n",
    "                qc.cx(qubit, 0)\n",
    "            elif qubit == n-1 and n == 2:\n",
    "                pass\n",
    "            else:\n",
    "                qc.cx(qubit, qubit+1)\n",
    "\n",
    "    return qc"
   ]
  },
  {
   "cell_type": "code",
   "execution_count": 6,
   "metadata": {},
   "outputs": [
    {
     "data": {
      "image/png": "[encoded data removed]",
      "text/plain": [
       "<Figure size 1224.23x204.68 with 1 Axes>"
      ]
     },
     "execution_count": 6,
     "metadata": {},
     "output_type": "execute_result"
    }
   ],
   "source": [
    "VQC_qiskit(2, 4).draw('mpl')"
   ]
  },
  {
   "cell_type": "code",
   "execution_count": null,
   "metadata": {},
   "outputs": [],
   "source": []
  }
 ],
 "metadata": {
  "kernelspec": {
   "display_name": "Python 3",
   "language": "python",
   "name": "python3"
  },
  "language_info": {
   "codemirror_mode": {
    "name": "ipython",
    "version": 3
   },
   "file_extension": ".py",
   "mimetype": "text/x-python",
   "name": "python",
   "nbconvert_exporter": "python",
   "pygments_lexer": "ipython3",
   "version": "3.7.4"
  }
 },
 "nbformat": 4,
 "nbformat_minor": 2
}
