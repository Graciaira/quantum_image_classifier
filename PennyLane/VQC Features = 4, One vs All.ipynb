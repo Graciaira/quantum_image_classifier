{
 "cells": [
  {
   "cell_type": "code",
   "execution_count": 1,
   "metadata": {},
   "outputs": [],
   "source": [
    "from numpy import loadtxt\n",
    "import pandas as pd\n",
    "import matplotlib.pyplot as plt\n",
    "import numpy as np"
   ]
  },
  {
   "cell_type": "markdown",
   "metadata": {},
   "source": [
    "# Data Load"
   ]
  },
  {
   "cell_type": "code",
   "execution_count": 20,
   "metadata": {},
   "outputs": [],
   "source": [
    "# load dataset\n",
    "\n",
    "label = 0\n",
    "\n",
    "X = loadtxt('C:/Users/user/quantum_image_classifier/Image Preprocessing/Dataset One-vs-All/x_train_4features_' + str(0) + '.txt', delimiter=',')\n",
    "\n",
    "X_test = loadtxt('C:/Users/user/quantum_image_classifier/Image Preprocessing/Dataset One-vs-All/x_test_4features_' + str(0) + '.txt', delimiter=',')"
   ]
  },
  {
   "cell_type": "code",
   "execution_count": 21,
   "metadata": {},
   "outputs": [
    {
     "data": {
      "text/plain": [
       "1008"
      ]
     },
     "execution_count": 21,
     "metadata": {},
     "output_type": "execute_result"
    }
   ],
   "source": [
    "X.shape[0]"
   ]
  },
  {
   "cell_type": "code",
   "execution_count": 22,
   "metadata": {},
   "outputs": [],
   "source": [
    "Y = np.zeros((X.shape[0],))\n",
    "Y[:int(X.shape[0]/2)] = 1\n",
    "Y[int(X.shape[0]/2):] = -1\n",
    "\n",
    "Y_test = np.zeros((X_test.shape[0],))\n",
    "Y_test[:int(X_test.shape[0]/2)] = 1\n",
    "Y_test[int(X_test.shape[0]/2):] = -1"
   ]
  },
  {
   "cell_type": "code",
   "execution_count": 23,
   "metadata": {},
   "outputs": [
    {
     "name": "stdout",
     "output_type": "stream",
     "text": [
      "(1008, 4) (1008,)\n",
      "(216, 4) (216,)\n"
     ]
    }
   ],
   "source": [
    "print(X.shape, Y.shape)\n",
    "print(X_test.shape, Y_test.shape)"
   ]
  },
  {
   "cell_type": "markdown",
   "metadata": {},
   "source": [
    "# Create Quantum Model"
   ]
  },
  {
   "cell_type": "code",
   "execution_count": 24,
   "metadata": {},
   "outputs": [],
   "source": [
    "%matplotlib inline\n",
    "\n",
    "import pennylane as qml\n",
    "from pennylane import numpy as np\n",
    "import numpy\n",
    "from pennylane.optimize import *\n",
    "\n",
    "from qiskit import *\n",
    "from qiskit.providers.aer.noise import NoiseModel"
   ]
  },
  {
   "cell_type": "markdown",
   "metadata": {},
   "source": [
    "## Choose a Quantum Device\n",
    "\n",
    "You can choose between several different backend (including the one ownwed by IBM)"
   ]
  },
  {
   "cell_type": "code",
   "execution_count": 25,
   "metadata": {},
   "outputs": [],
   "source": [
    "def select_backend(num_qubit, selected, shots):\n",
    "    if selected == 'pennylane_statevector_simulator':\n",
    "        # PennyLane Statevector simulator\n",
    "        dev = qml.device(\"default.qubit\", wires=num_qubit)\n",
    "\n",
    "    elif selected == 'qiskit_noisefree_qasm_simulator':\n",
    "        # Qiskit QASM simulator (noise-free)\n",
    "        dev = qml.device(\"qiskit.aer\", wires=num_qubit, shots=shots, analytic=False, backend='qasm_simulator')\n",
    "\n",
    "    elif selected == 'qiskit_noisy_qasm_simulator':\n",
    "        # Qiskit QASM simulator + noise\n",
    "        provider = IBMQ.load_account()\n",
    "        backend = provider.get_backend('ibmq_athens')\n",
    "        noise_model = NoiseModel.from_backend(backend)\n",
    "        dev = qml.device(\"qiskit.aer\", wires=num_qubit, shots=shots, noise_model = noise_model, analytic=False, backend='qasm_simulator')\n",
    "        \n",
    "    return dev"
   ]
  },
  {
   "cell_type": "code",
   "execution_count": 26,
   "metadata": {},
   "outputs": [],
   "source": [
    "num_qubit = 2\n",
    "dev = select_backend(2, 'pennylane_statevector_simulator', 1024)"
   ]
  },
  {
   "cell_type": "markdown",
   "metadata": {},
   "source": [
    "## Loss and Acc Metric"
   ]
  },
  {
   "cell_type": "code",
   "execution_count": 27,
   "metadata": {},
   "outputs": [],
   "source": [
    "# MSE\n",
    "def square_loss(labels, predictions):\n",
    "    loss = 0\n",
    "    for l, p in zip(labels, predictions):\n",
    "        loss = loss + (l - p) ** 2\n",
    "\n",
    "    loss = loss / len(labels)\n",
    "    return loss\n",
    "\n",
    "# Cost-Sensitive Learning for Imbalanced Classification\n",
    "def confusion_matrix_loss(labels, predictions):\n",
    "    cost_matrix=np.array([[0, 0.9], [0.1, 0]])\n",
    "    \n",
    "    TP = 0\n",
    "    TN = 0\n",
    "    FP = 0\n",
    "    FN = 0\n",
    "    \n",
    "    # count the TP, TN, FP, and FN\n",
    "    for l, p in zip(labels, predictions):\n",
    "        if l == 1:\n",
    "            if p == 1:\n",
    "                TP += 1\n",
    "            else:\n",
    "                FN += 1\n",
    "        else:\n",
    "            if p == 1:\n",
    "                FP += 1\n",
    "            else:\n",
    "                TN += 1\n",
    "            \n",
    "    # create the confusion matrix\n",
    "    CM = np.array([[TN, FN], [FP, TP]])\n",
    "    \n",
    "    # calculate loss\n",
    "    loss = float(np.sum(CM*cost_matrix))/len(labels)\n",
    "\n",
    "    return loss\n",
    "\n",
    "# true predictions/total predictions\n",
    "def accuracy(labels, predictions):\n",
    "    acc = 0\n",
    "    for l, p in zip(labels, predictions):\n",
    "        if abs(l - p) < 1e-5:\n",
    "            acc = acc + 1\n",
    "    acc = acc / len(labels)\n",
    "\n",
    "    return acc"
   ]
  },
  {
   "cell_type": "code",
   "execution_count": 28,
   "metadata": {},
   "outputs": [
    {
     "ename": "NameError",
     "evalue": "name 'Y_train' is not defined",
     "output_type": "error",
     "traceback": [
      "\u001b[1;31m---------------------------------------------------------------------------\u001b[0m",
      "\u001b[1;31mNameError\u001b[0m                                 Traceback (most recent call last)",
      "\u001b[1;32m<ipython-input-28-9306a6fb9053>\u001b[0m in \u001b[0;36m<module>\u001b[1;34m\u001b[0m\n\u001b[1;32m----> 1\u001b[1;33m \u001b[0mconfusion_matrix_loss\u001b[0m\u001b[1;33m(\u001b[0m\u001b[0mY_train\u001b[0m\u001b[1;33m,\u001b[0m \u001b[0mpredictions_train\u001b[0m\u001b[1;33m)\u001b[0m\u001b[1;33m\u001b[0m\u001b[1;33m\u001b[0m\u001b[0m\n\u001b[0m",
      "\u001b[1;31mNameError\u001b[0m: name 'Y_train' is not defined"
     ]
    }
   ],
   "source": [
    "confusion_matrix_loss(Y_train, predictions_train)"
   ]
  },
  {
   "cell_type": "code",
   "execution_count": 164,
   "metadata": {},
   "outputs": [
    {
     "data": {
      "text/plain": [
       "0.9032258064516129"
      ]
     },
     "execution_count": 164,
     "metadata": {},
     "output_type": "execute_result"
    }
   ],
   "source": [
    "square_loss(Y_train, predictions_train)"
   ]
  },
  {
   "cell_type": "code",
   "execution_count": 200,
   "metadata": {},
   "outputs": [],
   "source": [
    "cost_matrix = np.array([[0, 0.9], [0.1, 0]])"
   ]
  },
  {
   "cell_type": "code",
   "execution_count": 181,
   "metadata": {},
   "outputs": [
    {
     "data": {
      "text/plain": [
       "array([0.9, 0.1])"
      ]
     },
     "execution_count": 181,
     "metadata": {},
     "output_type": "execute_result"
    }
   ],
   "source": [
    "loss_weight = np.unique(Y, return_counts=True)[1]/np.sum(np.unique(Y, return_counts=True)[1])\n",
    "loss_weight"
   ]
  },
  {
   "cell_type": "markdown",
   "metadata": {},
   "source": [
    "## Quantum Amplitude Encoding Function"
   ]
  },
  {
   "cell_type": "code",
   "execution_count": 29,
   "metadata": {},
   "outputs": [],
   "source": [
    "# a function to calculate the angle β\n",
    "\n",
    "def beta(s, j, X_sample):\n",
    "    # numerator index\n",
    "    index_num = (2*j-1)*(2**(s-1))\n",
    "    # denominator index\n",
    "    index_den = (j-1)*(2**s)\n",
    "    \n",
    "    num = np.sqrt(np.sum(abs(X_sample[index_num : index_num+2**(s-1)])**2))\n",
    "    den = np.sqrt(np.sum(abs(X_sample[index_den : index_den+2**(s)])**2))\n",
    "    \n",
    "    if den == 0:\n",
    "        #print(\"Zero denominator!\")\n",
    "        beta = 0\n",
    "    else:\n",
    "        beta = 2*np.arcsin(num/den)\n",
    "    \n",
    "    return beta"
   ]
  },
  {
   "cell_type": "code",
   "execution_count": 30,
   "metadata": {},
   "outputs": [],
   "source": [
    "def get_angles(x):\n",
    "    beta_2_1 = beta(2, 1, x)\n",
    "    beta_1_2 = beta(1, 2, x)\n",
    "    beta_1_1 = beta(1, 1, x)\n",
    "    \n",
    "    return np.array([beta_2_1, beta_1_2, beta_1_1])"
   ]
  },
  {
   "cell_type": "code",
   "execution_count": 167,
   "metadata": {},
   "outputs": [],
   "source": [
    "def U3_gate(θ, qubit):\n",
    "    qml.RX(np.pi/2, wires=qubit)\n",
    "    qml.RZ(θ, wires=qubit)\n",
    "    qml.RX(-np.pi/2, wires=qubit)"
   ]
  },
  {
   "cell_type": "code",
   "execution_count": 132,
   "metadata": {},
   "outputs": [],
   "source": [
    "def statepreparation(a):\n",
    "    qml.RY(a[0], wires=0)\n",
    "    \n",
    "    qml.RX(np.pi/2, wires=1)\n",
    "    qml.RZ(a[1]/2, wires=1)\n",
    "    qml.RX(-np.pi/2, wires=1)\n",
    "    qml.CNOT(wires=[0, 1])\n",
    "    qml.RX(np.pi/2, wires=1)\n",
    "    qml.RZ(-a[1]/2, wires=1)\n",
    "    qml.RX(-np.pi/2, wires=1)\n",
    "    qml.CNOT(wires=[0, 1])\n",
    "    \n",
    "    qml.PauliX(wires=0)\n",
    "    qml.RX(np.pi/2, wires=1)\n",
    "    qml.RZ(a[2]/2, wires=1)\n",
    "    qml.RX(-np.pi/2, wires=1)\n",
    "    qml.CNOT(wires=[0, 1])\n",
    "    qml.RX(np.pi/2, wires=1)\n",
    "    qml.RZ(-a[2]/2, wires=1)\n",
    "    qml.RX(-np.pi/2, wires=1)\n",
    "    qml.CNOT(wires=[0, 1])\n",
    "    qml.PauliX(wires=0)\n"
   ]
  },
  {
   "cell_type": "code",
   "execution_count": 31,
   "metadata": {},
   "outputs": [],
   "source": [
    "def statepreparation(a):\n",
    "    qml.RY(a[0], wires=0)\n",
    "\n",
    "    qml.CNOT(wires=[0, 1])\n",
    "    qml.RY(-a[1]/2, wires=1)\n",
    "    qml.CNOT(wires=[0, 1])\n",
    "    qml.RY(a[1]/2, wires=1)\n",
    "\n",
    "    qml.PauliX(wires=0)\n",
    "    qml.CNOT(wires=[0, 1])\n",
    "    qml.RY(-a[2]/2, wires=1)\n",
    "    qml.CNOT(wires=[0, 1])\n",
    "    qml.RY(a[2]/2, wires=1)\n",
    "    qml.PauliX(wires=0)"
   ]
  },
  {
   "cell_type": "code",
   "execution_count": 32,
   "metadata": {},
   "outputs": [
    {
     "name": "stdout",
     "output_type": "stream",
     "text": [
      "x               :  [0.53896774 0.79503606 0.27826503 0.        ]\n",
      "angles          :  [0.56397465 0.         1.95009208]\n",
      "amplitude vector:  [[0.53896774 0.79503606]\n",
      " [0.27826503 0.        ]]\n"
     ]
    }
   ],
   "source": [
    "x = np.array([0.53896774, 0.79503606, 0.27826503, 0.0])\n",
    "ang = get_angles(x)\n",
    "\n",
    "\n",
    "@qml.qnode(dev)\n",
    "def test(angles=None):\n",
    "\n",
    "    statepreparation(angles)\n",
    "\n",
    "    return qml.expval(qml.PauliZ(0))\n",
    "\n",
    "\n",
    "test(angles=ang)\n",
    "\n",
    "print(\"x               : \", x)\n",
    "print(\"angles          : \", ang)\n",
    "print(\"amplitude vector: \", np.real(dev._state))"
   ]
  },
  {
   "cell_type": "markdown",
   "metadata": {},
   "source": [
    "## Define the Layer"
   ]
  },
  {
   "cell_type": "code",
   "execution_count": 33,
   "metadata": {},
   "outputs": [],
   "source": [
    "def layer(W):\n",
    "    qml.Rot(W[0, 0], W[0, 1], W[0, 2], wires=0)\n",
    "    qml.Rot(W[1, 0], W[1, 1], W[1, 2], wires=1)\n",
    "    qml.CNOT(wires=[0, 1])"
   ]
  },
  {
   "cell_type": "markdown",
   "metadata": {},
   "source": [
    "## Build the Quantum Circuit, Define Cost Function, Create VQC"
   ]
  },
  {
   "cell_type": "code",
   "execution_count": 34,
   "metadata": {},
   "outputs": [],
   "source": [
    "@qml.qnode(dev)\n",
    "def circuit(weights, angles=None):\n",
    "    statepreparation(angles)\n",
    "\n",
    "    for W in weights:\n",
    "        layer(W)\n",
    "\n",
    "    return qml.expval(qml.PauliZ(0))\n",
    "\n",
    "\n",
    "def variational_classifier(var, angles=None):\n",
    "    weights = var[0]\n",
    "    bias = var[1]\n",
    "    return circuit(weights, angles=angles) + bias\n",
    "\n",
    "\n",
    "def cost(weights, features, labels):\n",
    "    predictions = [variational_classifier(weights, angles=f) for f in features]\n",
    "    return square_loss(labels, predictions)"
   ]
  },
  {
   "cell_type": "markdown",
   "metadata": {},
   "source": [
    "# Data Prep"
   ]
  },
  {
   "cell_type": "markdown",
   "metadata": {},
   "source": [
    "## Data (Padding), Normalization and Data Encoding"
   ]
  },
  {
   "cell_type": "code",
   "execution_count": 35,
   "metadata": {},
   "outputs": [
    {
     "name": "stdout",
     "output_type": "stream",
     "text": [
      "First X train sample (original)  : [ 3.96752304 -1.15630211  2.33858651 -1.80692626]\n",
      "First X train sample (normalized): [ 0.78092007 -0.22759276  0.46029957 -0.35565388]\n",
      "First features sample      : [1.24161413 1.31568975 0.56717374]\n"
     ]
    }
   ],
   "source": [
    "# train and val\n",
    "\n",
    "print(\"First X train sample (original)  :\", X[0])\n",
    "\n",
    "# # pad the vectors to size 2^2 with constant values\n",
    "# padding = 0.3 * np.ones((len(X), 1))\n",
    "# X_pad = np.c_[np.c_[X, padding], np.zeros((len(X), 1))]\n",
    "# print(\"First X sample (padded)    :\", X_pad[0])\n",
    "\n",
    "X_pad = X.copy()\n",
    "\n",
    "# normalize each input\n",
    "normalization = np.sqrt(np.sum(X_pad ** 2, -1))\n",
    "X_norm = (X_pad.T / normalization).T\n",
    "print(\"First X train sample (normalized):\", X_norm[0])\n",
    "\n",
    "# angles for state preparation are new features\n",
    "features = np.array([get_angles(x) for x in X_norm])\n",
    "print(\"First features sample      :\", features[0])"
   ]
  },
  {
   "cell_type": "code",
   "execution_count": 36,
   "metadata": {},
   "outputs": [
    {
     "data": {
      "text/plain": [
       "1.0"
      ]
     },
     "execution_count": 36,
     "metadata": {},
     "output_type": "execute_result"
    }
   ],
   "source": [
    "sampel = 436\n",
    "np.sqrt(X_norm[sampel, 0]**2 + X_norm[sampel, 1]**2 + X_norm[sampel, 2]**2 + X_norm[sampel, 3]**2)"
   ]
  },
  {
   "cell_type": "code",
   "execution_count": 37,
   "metadata": {},
   "outputs": [
    {
     "name": "stdout",
     "output_type": "stream",
     "text": [
      "First X test sample (original)  : [ 4.83885093  0.44290373  0.99533214 -0.38530635]\n",
      "First X test sample (normalized): [ 0.78092007 -0.22759276  0.46029957 -0.35565388]\n",
      "First test features sample      : [1.24161413 1.31568975 0.56717374]\n"
     ]
    }
   ],
   "source": [
    "print(\"First X test sample (original)  :\", X_test[0])\n",
    "\n",
    "# # pad the vectors to size 2^2 with constant values\n",
    "# padding = 0.3 * np.ones((len(X_test), 1))\n",
    "# X_pad = np.c_[np.c_[X_test, padding], np.zeros((len(X_test), 1))]\n",
    "# print(\"First X sample (padded)    :\", X_pad[0])\n",
    "\n",
    "X_pad = X.copy()\n",
    "\n",
    "# normalize each input\n",
    "normalization = np.sqrt(np.sum(X_pad ** 2, -1))\n",
    "X_norm = (X_pad.T / normalization).T\n",
    "print(\"First X test sample (normalized):\", X_norm[0])\n",
    "\n",
    "# angles for state preparation are new features\n",
    "feats_test = np.array([get_angles(x) for x in X_norm])\n",
    "print(\"First test features sample      :\", feats_test[0])"
   ]
  },
  {
   "cell_type": "code",
   "execution_count": 38,
   "metadata": {},
   "outputs": [
    {
     "data": {
      "text/plain": [
       "1.0"
      ]
     },
     "execution_count": 38,
     "metadata": {},
     "output_type": "execute_result"
    }
   ],
   "source": [
    "sampel = 17\n",
    "np.sqrt(X_norm[sampel, 0]**2 + X_norm[sampel, 1]**2 + X_norm[sampel, 2]**2 + X_norm[sampel, 3]**2)"
   ]
  },
  {
   "cell_type": "code",
   "execution_count": 39,
   "metadata": {},
   "outputs": [],
   "source": [
    "# split X and y to train and validation\n",
    "\n",
    "from sklearn.model_selection import train_test_split\n",
    "\n",
    "feats_train, feats_val, Y_train, Y_val = train_test_split(features, Y, test_size=0.2, random_state=2020)\n",
    "\n",
    "X_train, X_val, Y_train, Y_val = train_test_split(X, Y, test_size=0.2, random_state=2020)"
   ]
  },
  {
   "cell_type": "code",
   "execution_count": 40,
   "metadata": {},
   "outputs": [
    {
     "name": "stdout",
     "output_type": "stream",
     "text": [
      "(806, 4) (806, 3) (806,)\n",
      "(202, 4) (202, 3) (202,)\n",
      "(216, 4) (1008, 3) (216,)\n"
     ]
    }
   ],
   "source": [
    "print(X_train.shape, feats_train.shape, Y_train.shape)\n",
    "print(X_val.shape, feats_val.shape, Y_val.shape)\n",
    "print(X_test.shape, feats_test.shape, Y_test.shape)"
   ]
  },
  {
   "cell_type": "markdown",
   "metadata": {},
   "source": [
    "# Training"
   ]
  },
  {
   "cell_type": "markdown",
   "metadata": {},
   "source": [
    "## Qubits, Layers and Weights Initialization"
   ]
  },
  {
   "cell_type": "code",
   "execution_count": 49,
   "metadata": {},
   "outputs": [],
   "source": [
    "# First we initialize the hyperparameters\n",
    "\n",
    "num_qubits = 2  # 4 label = 4 class = log2(4) quibits = 2 qubits\n",
    "num_layers = 6  # QNN layer\n",
    "learning_rate = 0.01\n",
    "\n",
    "opt = RMSPropOptimizer(stepsize=learning_rate)\n",
    "batch_size = 32\n",
    "max_iter = 100\n",
    "\n",
    "var_init = (0.01 * np.random.randn(num_layers, num_qubits, 3), 0.0)  # weights and bias initialization"
   ]
  },
  {
   "cell_type": "code",
   "execution_count": 50,
   "metadata": {},
   "outputs": [
    {
     "data": {
      "text/plain": [
       "806"
      ]
     },
     "execution_count": 50,
     "metadata": {},
     "output_type": "execute_result"
    }
   ],
   "source": [
    "num_train = X_train.shape[0]\n",
    "num_train"
   ]
  },
  {
   "cell_type": "markdown",
   "metadata": {},
   "source": [
    "## Training Iteration"
   ]
  },
  {
   "cell_type": "code",
   "execution_count": 51,
   "metadata": {
    "scrolled": false
   },
   "outputs": [
    {
     "name": "stdout",
     "output_type": "stream",
     "text": [
      "Iter:     1 | Train Loss: 0.9794858 | Validation Loss: 0.8758615 | Train Acc: 0.6302730 | Validation Acc: 0.6683168 \n",
      "Iter:     2 | Train Loss: 0.9564546 | Validation Loss: 0.8617457 | Train Acc: 0.6352357 | Validation Acc: 0.6831683 \n",
      "Iter:     3 | Train Loss: 0.9732549 | Validation Loss: 0.8687535 | Train Acc: 0.6339950 | Validation Acc: 0.6831683 \n",
      "Iter:     4 | Train Loss: 0.9431065 | Validation Loss: 0.8497833 | Train Acc: 0.6401985 | Validation Acc: 0.6782178 \n",
      "Iter:     5 | Train Loss: 0.9381085 | Validation Loss: 0.8430778 | Train Acc: 0.6451613 | Validation Acc: 0.6930693 \n",
      "Iter:     6 | Train Loss: 0.9317188 | Validation Loss: 0.8376845 | Train Acc: 0.6488834 | Validation Acc: 0.6980198 \n",
      "Iter:     7 | Train Loss: 0.9128163 | Validation Loss: 0.8231820 | Train Acc: 0.6612903 | Validation Acc: 0.6980198 \n",
      "Iter:     8 | Train Loss: 0.8938763 | Validation Loss: 0.8109474 | Train Acc: 0.6464020 | Validation Acc: 0.7128713 \n",
      "Iter:     9 | Train Loss: 0.8883357 | Validation Loss: 0.8096277 | Train Acc: 0.6575682 | Validation Acc: 0.6980198 \n",
      "Iter:    10 | Train Loss: 0.8660530 | Validation Loss: 0.7901269 | Train Acc: 0.6650124 | Validation Acc: 0.7178218 \n",
      "Iter:    11 | Train Loss: 0.8508928 | Validation Loss: 0.7756884 | Train Acc: 0.6799007 | Validation Acc: 0.7376238 \n",
      "Iter:    12 | Train Loss: 0.8474396 | Validation Loss: 0.7709484 | Train Acc: 0.6873449 | Validation Acc: 0.7326733 \n",
      "Iter:    13 | Train Loss: 0.8264948 | Validation Loss: 0.7568852 | Train Acc: 0.6923077 | Validation Acc: 0.7425743 \n",
      "Iter:    14 | Train Loss: 0.8105129 | Validation Loss: 0.7414399 | Train Acc: 0.7096774 | Validation Acc: 0.7326733 \n",
      "Iter:    15 | Train Loss: 0.7906230 | Validation Loss: 0.7263398 | Train Acc: 0.7196030 | Validation Acc: 0.7425743 \n",
      "Iter:    16 | Train Loss: 0.7765813 | Validation Loss: 0.7160707 | Train Acc: 0.7307692 | Validation Acc: 0.7524752 \n",
      "Iter:    17 | Train Loss: 0.7676789 | Validation Loss: 0.7086278 | Train Acc: 0.7419355 | Validation Acc: 0.7574257 \n",
      "Iter:    18 | Train Loss: 0.7575107 | Validation Loss: 0.7063231 | Train Acc: 0.7332506 | Validation Acc: 0.7623762 \n",
      "Iter:    19 | Train Loss: 0.7617687 | Validation Loss: 0.7177221 | Train Acc: 0.7059553 | Validation Acc: 0.7524752 \n",
      "Iter:    20 | Train Loss: 0.7471397 | Validation Loss: 0.7053581 | Train Acc: 0.7158809 | Validation Acc: 0.7574257 \n",
      "Iter:    21 | Train Loss: 0.7407037 | Validation Loss: 0.7017417 | Train Acc: 0.7158809 | Validation Acc: 0.7673267 \n",
      "Iter:    22 | Train Loss: 0.7213848 | Validation Loss: 0.6803501 | Train Acc: 0.7369727 | Validation Acc: 0.7821782 \n",
      "Iter:    23 | Train Loss: 0.7157408 | Validation Loss: 0.6725957 | Train Acc: 0.7580645 | Validation Acc: 0.7623762 \n",
      "Iter:    24 | Train Loss: 0.6992074 | Validation Loss: 0.6601336 | Train Acc: 0.7630273 | Validation Acc: 0.7722772 \n",
      "Iter:    25 | Train Loss: 0.6987826 | Validation Loss: 0.6589132 | Train Acc: 0.7729529 | Validation Acc: 0.7920792 \n",
      "Iter:    26 | Train Loss: 0.6771084 | Validation Loss: 0.6445125 | Train Acc: 0.7779156 | Validation Acc: 0.7821782 \n",
      "Iter:    27 | Train Loss: 0.6705342 | Validation Loss: 0.6398511 | Train Acc: 0.7853598 | Validation Acc: 0.7871287 \n",
      "Iter:    28 | Train Loss: 0.6633100 | Validation Loss: 0.6360447 | Train Acc: 0.7878412 | Validation Acc: 0.7920792 \n",
      "Iter:    29 | Train Loss: 0.6511155 | Validation Loss: 0.6295048 | Train Acc: 0.7866005 | Validation Acc: 0.7821782 \n",
      "Iter:    30 | Train Loss: 0.6513753 | Validation Loss: 0.6283810 | Train Acc: 0.7903226 | Validation Acc: 0.7920792 \n",
      "Iter:    31 | Train Loss: 0.6625582 | Validation Loss: 0.6359501 | Train Acc: 0.7878412 | Validation Acc: 0.7970297 \n",
      "Iter:    32 | Train Loss: 0.6467670 | Validation Loss: 0.6266424 | Train Acc: 0.7928040 | Validation Acc: 0.7920792 \n",
      "Iter:    33 | Train Loss: 0.6446767 | Validation Loss: 0.6274381 | Train Acc: 0.7866005 | Validation Acc: 0.7920792 \n",
      "Iter:    34 | Train Loss: 0.6373363 | Validation Loss: 0.6249488 | Train Acc: 0.7890819 | Validation Acc: 0.7871287 \n",
      "Iter:    35 | Train Loss: 0.6316559 | Validation Loss: 0.6196150 | Train Acc: 0.7952854 | Validation Acc: 0.8019802 \n",
      "Iter:    36 | Train Loss: 0.6324921 | Validation Loss: 0.6182463 | Train Acc: 0.7903226 | Validation Acc: 0.7920792 \n",
      "Iter:    37 | Train Loss: 0.6258849 | Validation Loss: 0.6163283 | Train Acc: 0.7952854 | Validation Acc: 0.8019802 \n",
      "Iter:    38 | Train Loss: 0.6231715 | Validation Loss: 0.6147124 | Train Acc: 0.7952854 | Validation Acc: 0.7970297 \n",
      "Iter:    39 | Train Loss: 0.6294198 | Validation Loss: 0.6224882 | Train Acc: 0.7890819 | Validation Acc: 0.7772277 \n",
      "Iter:    40 | Train Loss: 0.6294941 | Validation Loss: 0.6210311 | Train Acc: 0.7866005 | Validation Acc: 0.7772277 \n",
      "Iter:    41 | Train Loss: 0.6261369 | Validation Loss: 0.6173654 | Train Acc: 0.7928040 | Validation Acc: 0.7920792 \n",
      "Iter:    42 | Train Loss: 0.6237041 | Validation Loss: 0.6148897 | Train Acc: 0.7977667 | Validation Acc: 0.8019802 \n",
      "Iter:    43 | Train Loss: 0.6204077 | Validation Loss: 0.6129396 | Train Acc: 0.7940447 | Validation Acc: 0.7871287 \n",
      "Iter:    44 | Train Loss: 0.6169488 | Validation Loss: 0.6092331 | Train Acc: 0.7940447 | Validation Acc: 0.7970297 \n",
      "Iter:    45 | Train Loss: 0.6200562 | Validation Loss: 0.6102027 | Train Acc: 0.7940447 | Validation Acc: 0.8069307 \n",
      "Iter:    46 | Train Loss: 0.6201566 | Validation Loss: 0.6094510 | Train Acc: 0.7915633 | Validation Acc: 0.7970297 \n",
      "Iter:    47 | Train Loss: 0.6237621 | Validation Loss: 0.6124363 | Train Acc: 0.7903226 | Validation Acc: 0.8118812 \n",
      "Iter:    48 | Train Loss: 0.6188216 | Validation Loss: 0.6074658 | Train Acc: 0.7903226 | Validation Acc: 0.8069307 \n",
      "Iter:    49 | Train Loss: 0.6175214 | Validation Loss: 0.6074424 | Train Acc: 0.7940447 | Validation Acc: 0.8069307 \n",
      "Iter:    50 | Train Loss: 0.6122356 | Validation Loss: 0.6056604 | Train Acc: 0.7928040 | Validation Acc: 0.8069307 \n",
      "Iter:    51 | Train Loss: 0.6091043 | Validation Loss: 0.6071104 | Train Acc: 0.7928040 | Validation Acc: 0.8069307 \n",
      "Iter:    52 | Train Loss: 0.6159249 | Validation Loss: 0.6141001 | Train Acc: 0.7952854 | Validation Acc: 0.8019802 \n",
      "Iter:    53 | Train Loss: 0.6113492 | Validation Loss: 0.6095149 | Train Acc: 0.7977667 | Validation Acc: 0.7821782 \n",
      "Iter:    54 | Train Loss: 0.6077546 | Validation Loss: 0.6068795 | Train Acc: 0.7928040 | Validation Acc: 0.8069307 \n",
      "Iter:    55 | Train Loss: 0.6069803 | Validation Loss: 0.6089809 | Train Acc: 0.7915633 | Validation Acc: 0.8069307 \n",
      "Iter:    56 | Train Loss: 0.6062051 | Validation Loss: 0.6110250 | Train Acc: 0.7977667 | Validation Acc: 0.7970297 \n",
      "Iter:    57 | Train Loss: 0.6072500 | Validation Loss: 0.6160374 | Train Acc: 0.8002481 | Validation Acc: 0.8118812 \n",
      "Iter:    58 | Train Loss: 0.6101283 | Validation Loss: 0.6255930 | Train Acc: 0.7990074 | Validation Acc: 0.8069307 \n",
      "Iter:    59 | Train Loss: 0.6093021 | Validation Loss: 0.6234069 | Train Acc: 0.7965261 | Validation Acc: 0.8069307 \n",
      "Iter:    60 | Train Loss: 0.6071081 | Validation Loss: 0.6165009 | Train Acc: 0.7990074 | Validation Acc: 0.8019802 \n",
      "Iter:    61 | Train Loss: 0.6218758 | Validation Loss: 0.6329363 | Train Acc: 0.7928040 | Validation Acc: 0.8019802 \n",
      "Iter:    62 | Train Loss: 0.6251770 | Validation Loss: 0.6357693 | Train Acc: 0.7903226 | Validation Acc: 0.7920792 \n",
      "Iter:    63 | Train Loss: 0.6166561 | Validation Loss: 0.6285071 | Train Acc: 0.7915633 | Validation Acc: 0.7970297 \n",
      "Iter:    64 | Train Loss: 0.6089137 | Validation Loss: 0.6214448 | Train Acc: 0.7977667 | Validation Acc: 0.8069307 \n",
      "Iter:    65 | Train Loss: 0.6076217 | Validation Loss: 0.6145914 | Train Acc: 0.7952854 | Validation Acc: 0.7821782 \n",
      "Iter:    66 | Train Loss: 0.6081529 | Validation Loss: 0.6132197 | Train Acc: 0.8014888 | Validation Acc: 0.7821782 \n",
      "Iter:    67 | Train Loss: 0.6048803 | Validation Loss: 0.6131869 | Train Acc: 0.7990074 | Validation Acc: 0.8019802 \n",
      "Iter:    68 | Train Loss: 0.6095231 | Validation Loss: 0.6174722 | Train Acc: 0.7928040 | Validation Acc: 0.7920792 \n",
      "Iter:    69 | Train Loss: 0.6139353 | Validation Loss: 0.6184569 | Train Acc: 0.7928040 | Validation Acc: 0.7970297 \n",
      "Iter:    70 | Train Loss: 0.6262095 | Validation Loss: 0.6313752 | Train Acc: 0.7977667 | Validation Acc: 0.7970297 \n",
      "Iter:    71 | Train Loss: 0.6059469 | Validation Loss: 0.6117778 | Train Acc: 0.7990074 | Validation Acc: 0.7920792 \n"
     ]
    },
    {
     "name": "stdout",
     "output_type": "stream",
     "text": [
      "Iter:    72 | Train Loss: 0.6046852 | Validation Loss: 0.6054832 | Train Acc: 0.8039702 | Validation Acc: 0.7920792 \n",
      "Iter:    73 | Train Loss: 0.6045943 | Validation Loss: 0.6105012 | Train Acc: 0.7990074 | Validation Acc: 0.8118812 \n",
      "Iter:    74 | Train Loss: 0.6027542 | Validation Loss: 0.6054486 | Train Acc: 0.7990074 | Validation Acc: 0.7871287 \n",
      "Iter:    75 | Train Loss: 0.6035812 | Validation Loss: 0.6052907 | Train Acc: 0.7928040 | Validation Acc: 0.8168317 \n",
      "Iter:    76 | Train Loss: 0.6024279 | Validation Loss: 0.6044166 | Train Acc: 0.8002481 | Validation Acc: 0.7970297 \n",
      "Iter:    77 | Train Loss: 0.6025456 | Validation Loss: 0.6010779 | Train Acc: 0.7952854 | Validation Acc: 0.8118812 \n",
      "Iter:    78 | Train Loss: 0.6016248 | Validation Loss: 0.6002020 | Train Acc: 0.7952854 | Validation Acc: 0.8118812 \n",
      "Iter:    79 | Train Loss: 0.6017051 | Validation Loss: 0.5998596 | Train Acc: 0.8002481 | Validation Acc: 0.8019802 \n",
      "Iter:    80 | Train Loss: 0.6006806 | Validation Loss: 0.6020078 | Train Acc: 0.8027295 | Validation Acc: 0.8069307 \n",
      "Iter:    81 | Train Loss: 0.6018979 | Validation Loss: 0.6018546 | Train Acc: 0.8002481 | Validation Acc: 0.8069307 \n",
      "Iter:    82 | Train Loss: 0.6036639 | Validation Loss: 0.6048618 | Train Acc: 0.8039702 | Validation Acc: 0.7970297 \n",
      "Iter:    83 | Train Loss: 0.6033491 | Validation Loss: 0.5996914 | Train Acc: 0.7940447 | Validation Acc: 0.8118812 \n",
      "Iter:    84 | Train Loss: 0.6098546 | Validation Loss: 0.6094021 | Train Acc: 0.7903226 | Validation Acc: 0.8019802 \n",
      "Iter:    85 | Train Loss: 0.6245933 | Validation Loss: 0.6221047 | Train Acc: 0.7903226 | Validation Acc: 0.7871287 \n",
      "Iter:    86 | Train Loss: 0.6049395 | Validation Loss: 0.6017441 | Train Acc: 0.7940447 | Validation Acc: 0.8019802 \n",
      "Iter:    87 | Train Loss: 0.5991556 | Validation Loss: 0.6009165 | Train Acc: 0.8076923 | Validation Acc: 0.8019802 \n",
      "Iter:    88 | Train Loss: 0.5972925 | Validation Loss: 0.5987101 | Train Acc: 0.8064516 | Validation Acc: 0.7970297 \n",
      "Iter:    89 | Train Loss: 0.6006655 | Validation Loss: 0.6014887 | Train Acc: 0.8039702 | Validation Acc: 0.8019802 \n",
      "Iter:    90 | Train Loss: 0.6009936 | Validation Loss: 0.6009173 | Train Acc: 0.8027295 | Validation Acc: 0.7871287 \n",
      "Iter:    91 | Train Loss: 0.5949502 | Validation Loss: 0.5968142 | Train Acc: 0.8027295 | Validation Acc: 0.8118812 \n",
      "Iter:    92 | Train Loss: 0.5951335 | Validation Loss: 0.5958629 | Train Acc: 0.8039702 | Validation Acc: 0.8168317 \n",
      "Iter:    93 | Train Loss: 0.5964315 | Validation Loss: 0.5989485 | Train Acc: 0.8089330 | Validation Acc: 0.8069307 \n",
      "Iter:    94 | Train Loss: 0.5998775 | Validation Loss: 0.6045853 | Train Acc: 0.8039702 | Validation Acc: 0.7970297 \n",
      "Iter:    95 | Train Loss: 0.5966500 | Validation Loss: 0.6002834 | Train Acc: 0.8076923 | Validation Acc: 0.8069307 \n",
      "Iter:    96 | Train Loss: 0.5972633 | Validation Loss: 0.5981526 | Train Acc: 0.8039702 | Validation Acc: 0.8019802 \n",
      "Iter:    97 | Train Loss: 0.5946216 | Validation Loss: 0.5960992 | Train Acc: 0.8101737 | Validation Acc: 0.7970297 \n",
      "Iter:    98 | Train Loss: 0.5941632 | Validation Loss: 0.5944399 | Train Acc: 0.8076923 | Validation Acc: 0.8168317 \n",
      "Iter:    99 | Train Loss: 0.5953491 | Validation Loss: 0.5913150 | Train Acc: 0.8027295 | Validation Acc: 0.8069307 \n",
      "Iter:   100 | Train Loss: 0.5966093 | Validation Loss: 0.5911001 | Train Acc: 0.7990074 | Validation Acc: 0.8168317 \n",
      "The training session is finished\n"
     ]
    }
   ],
   "source": [
    "# training\n",
    "\n",
    "# array to save the training & val accuracy and loss history as the training goes\n",
    "train_history = np.array([])\n",
    "val_history = np.array([])\n",
    "train_loss_history = np.array([])\n",
    "val_loss_history = np.array([])\n",
    "iter_history = np.array([])\n",
    "\n",
    "var = var_init\n",
    "\n",
    "\n",
    "# train the variational classifier\n",
    "for it in range(max_iter):\n",
    "\n",
    "    # Update the weights by one optimizer step\n",
    "    batch_index = np.random.randint(0, num_train, (batch_size,))\n",
    "    feats_train_batch = feats_train[batch_index]\n",
    "    Y_train_batch = Y_train[batch_index]\n",
    "    var = opt.step(lambda v: cost(v, feats_train_batch, Y_train_batch), var)\n",
    "\n",
    "    # Compute predictions on train and validation set\n",
    "    predictions_train = [np.sign(variational_classifier(var, angles=f)) for f in feats_train]\n",
    "    predictions_val = [np.sign(variational_classifier(var, angles=f)) for f in feats_val]\n",
    "\n",
    "    # Compute accuracy on train and validation set\n",
    "    acc_train = accuracy(Y_train, predictions_train)\n",
    "    acc_val = accuracy(Y_val, predictions_val)\n",
    "\n",
    "    train_loss = cost(var, feats_train, Y_train)\n",
    "    val_loss = cost(var, feats_val, Y_val)\n",
    "    \n",
    "    print(\n",
    "        \"Iter: {:5d} | Train Loss: {:0.7f} | Validation Loss: {:0.7f} | Train Acc: {:0.7f} | Validation Acc: {:0.7f} \"\n",
    "        \"\".format(it + 1, train_loss, val_loss, acc_train, acc_val)\n",
    "    )\n",
    "    \n",
    "    iter_history = np.append(iter_history, it+1)\n",
    "    train_loss_history = np.append(train_loss_history, train_loss)\n",
    "    val_loss_history = np.append(val_loss_history, val_loss)\n",
    "    train_history = np.append(train_history, acc_train)\n",
    "    val_history = np.append(val_history, acc_val)\n",
    "    \n",
    "print(\"The training session is finished\")"
   ]
  },
  {
   "cell_type": "code",
   "execution_count": 54,
   "metadata": {},
   "outputs": [
    {
     "data": {
      "image/png": "[encoded data removed]",
      "text/plain": [
       "<Figure size 432x288 with 1 Axes>"
      ]
     },
     "metadata": {
      "needs_background": "light"
     },
     "output_type": "display_data"
    }
   ],
   "source": [
    "# plot acc train, acc val\n",
    "\n",
    "plt.plot(iter_history, train_history, color='blue', label='Akurasi Latih')\n",
    "plt.plot(iter_history, val_history, color='red', label='Akurasi Validasi')\n",
    "\n",
    "plt.ylabel('Akurasi')\n",
    "plt.xlabel('Iterasi')\n",
    "plt.title(\"Akurasi Latih dan Validasi Label \" + str(label) + \" Lawan Semua\")\n",
    "\n",
    "plt.legend()\n",
    "plt.show()"
   ]
  },
  {
   "cell_type": "code",
   "execution_count": 55,
   "metadata": {},
   "outputs": [
    {
     "data": {
      "image/png": "[encoded data removed]",
      "text/plain": [
       "<Figure size 432x288 with 1 Axes>"
      ]
     },
     "metadata": {
      "needs_background": "light"
     },
     "output_type": "display_data"
    }
   ],
   "source": [
    "# plot loss train, loss val\n",
    "\n",
    "plt.plot(iter_history, train_loss_history, color='blue', label='Loss Latih')\n",
    "plt.plot(iter_history, val_loss_history, color='red', label='Loss Validasi')\n",
    "\n",
    "plt.ylabel('Loss')\n",
    "plt.xlabel('Iterasi')\n",
    "plt.title(\"Loss (MSE Terbobot) Latih dan Validasi Label \" + str(label) + \" Lawan Semua\")\n",
    "\n",
    "plt.legend()\n",
    "plt.show()"
   ]
  },
  {
   "cell_type": "code",
   "execution_count": 52,
   "metadata": {},
   "outputs": [],
   "source": [
    "train_val_acc_hist = np.concatenate((train_history.reshape(-1,1), val_history.reshape(-1,1)), axis=1)\n",
    "train_val_loss_hist = np.concatenate((train_loss_history.reshape(-1,1), val_loss_history.reshape(-1,1)), axis=1)"
   ]
  },
  {
   "cell_type": "code",
   "execution_count": 45,
   "metadata": {},
   "outputs": [],
   "source": [
    "# save numpy array as csv file\n",
    "from numpy import asarray\n",
    "from numpy import savetxt, loadtxt\n",
    "\n",
    "def save_to_csv(data, file_name):\n",
    "    # save to csv file\n",
    "    savetxt(file_name, data, delimiter=',')\n",
    "    \n",
    "def load_from_csv(file_name):\n",
    "    # load from csv file\n",
    "    return loadtxt(file_name, delimiter=',')"
   ]
  },
  {
   "cell_type": "code",
   "execution_count": 53,
   "metadata": {},
   "outputs": [],
   "source": [
    "save_to_csv(train_val_acc_hist, \"C:/Users/user/quantum_image_classifier/PennyLane/Model & Hasil Training/\" + str(label) + \"/acc_hist_4_features_6layer_1.txt\")\n",
    "save_to_csv(train_val_loss_hist, \"C:/Users/user/quantum_image_classifier/PennyLane/Model & Hasil Training/\" + str(label) + \"/loss_hist_4_features_6layer_1.txt\")"
   ]
  },
  {
   "cell_type": "code",
   "execution_count": 300,
   "metadata": {},
   "outputs": [
    {
     "name": "stdout",
     "output_type": "stream",
     "text": [
      "0.91 9.259276154885391\n"
     ]
    }
   ],
   "source": [
    "# Compute predictions on train and validation set\n",
    "predictions_test = [np.sign(variational_classifier(var, angles=f)) for f in feats_test]\n",
    "\n",
    "# Compute accuracy on train and validation set\n",
    "acc_test = accuracy(Y_test, predictions_test)\n",
    "\n",
    "test_loss = cost(var, feats_test, Y_test)\n",
    "\n",
    "print(acc_test, test_loss)"
   ]
  },
  {
   "cell_type": "code",
   "execution_count": 305,
   "metadata": {},
   "outputs": [],
   "source": [
    "def confusion_matrix(labels, predictions):\n",
    "    cost_matrix=np.array([[0, 0.9], [0.1, 0]])\n",
    "    \n",
    "    TP = 0\n",
    "    TN = 0\n",
    "    FP = 0\n",
    "    FN = 0\n",
    "    \n",
    "    # count the TP, TN, FP, and FN\n",
    "    for l, p in zip(labels, predictions):\n",
    "        if l == 1:\n",
    "            if p == 1:\n",
    "                TP += 1\n",
    "            else:\n",
    "                FN += 1\n",
    "        else:\n",
    "            if p == 1:\n",
    "                FP += 1\n",
    "            else:\n",
    "                TN += 1\n",
    "            \n",
    "    # create the confusion matrix\n",
    "    CM = np.array([[TN, FN], [FP, TP]])\n",
    "    \n",
    "    return CM"
   ]
  },
  {
   "cell_type": "code",
   "execution_count": 306,
   "metadata": {},
   "outputs": [
    {
     "data": {
      "text/plain": [
       "tensor([[89,  8],\n",
       "        [ 1,  2]], requires_grad=True)"
      ]
     },
     "execution_count": 306,
     "metadata": {},
     "output_type": "execute_result"
    }
   ],
   "source": [
    "confusion_matrix(Y_test, predictions_test)"
   ]
  },
  {
   "cell_type": "code",
   "execution_count": null,
   "metadata": {},
   "outputs": [],
   "source": []
  }
 ],
 "metadata": {
  "kernelspec": {
   "display_name": "Python 3",
   "language": "python",
   "name": "python3"
  },
  "language_info": {
   "codemirror_mode": {
    "name": "ipython",
    "version": 3
   },
   "file_extension": ".py",
   "mimetype": "text/x-python",
   "name": "python",
   "nbconvert_exporter": "python",
   "pygments_lexer": "ipython3",
   "version": "3.7.4"
  }
 },
 "nbformat": 4,
 "nbformat_minor": 2
}
