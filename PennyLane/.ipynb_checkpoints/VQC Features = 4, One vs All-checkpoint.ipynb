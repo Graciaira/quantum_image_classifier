{
 "cells": [
  {
   "cell_type": "code",
   "execution_count": 1,
   "metadata": {},
   "outputs": [],
   "source": [
    "from numpy import loadtxt\n",
    "import pandas as pd\n",
    "import matplotlib.pyplot as plt"
   ]
  },
  {
   "cell_type": "markdown",
   "metadata": {},
   "source": [
    "# Data Load"
   ]
  },
  {
   "cell_type": "code",
   "execution_count": 119,
   "metadata": {},
   "outputs": [],
   "source": [
    "# load dataset\n",
    "\n",
    "label = 0\n",
    "\n",
    "X = loadtxt('C:/Users/user/quantum_image_classifier/Image Preprocessing/Dataset One-vs-All/x_train_transform_4features.txt', delimiter=',')\n",
    "Y = loadtxt('C:/Users/user/quantum_image_classifier/Image Preprocessing/Dataset One-vs-All/y_train_' + str(label) + '_vs_all.txt', delimiter=',')\n",
    "\n",
    "X_test = loadtxt('C:/Users/user/quantum_image_classifier/Image Preprocessing/Dataset One-vs-All/x_test_transform_4features.txt', delimiter=',')\n",
    "Y_test = loadtxt('C:/Users/user/quantum_image_classifier/Image Preprocessing/Dataset One-vs-All/y_test_' + str(label) + '_vs_all.txt', delimiter=',')"
   ]
  },
  {
   "cell_type": "code",
   "execution_count": 121,
   "metadata": {},
   "outputs": [
    {
     "name": "stdout",
     "output_type": "stream",
     "text": [
      "(500, 4) (500,)\n",
      "(100, 4) (100,)\n"
     ]
    }
   ],
   "source": [
    "print(X.shape, Y.shape)\n",
    "print(X_test.shape, Y_test.shape)"
   ]
  },
  {
   "cell_type": "markdown",
   "metadata": {},
   "source": [
    "# Create Quantum Model"
   ]
  },
  {
   "cell_type": "code",
   "execution_count": 122,
   "metadata": {},
   "outputs": [],
   "source": [
    "%matplotlib inline\n",
    "\n",
    "import pennylane as qml\n",
    "from pennylane import numpy as np\n",
    "import numpy\n",
    "from pennylane.optimize import NesterovMomentumOptimizer, GradientDescentOptimizer, QNGOptimizer\n",
    "\n",
    "from qiskit import *\n",
    "from qiskit.providers.aer.noise import NoiseModel"
   ]
  },
  {
   "cell_type": "markdown",
   "metadata": {},
   "source": [
    "## Choose a Quantum Device\n",
    "\n",
    "You can choose between several different backend (including the one ownwed by IBM)"
   ]
  },
  {
   "cell_type": "code",
   "execution_count": 123,
   "metadata": {},
   "outputs": [],
   "source": [
    "def select_backend(num_qubit, selected, shots):\n",
    "    if selected == 'pennylane_statevector_simulator':\n",
    "        # PennyLane Statevector simulator\n",
    "        dev = qml.device(\"default.qubit\", wires=num_qubit)\n",
    "\n",
    "    elif selected == 'qiskit_noisefree_qasm_simulator':\n",
    "        # Qiskit QASM simulator (noise-free)\n",
    "        dev = qml.device(\"qiskit.aer\", wires=num_qubit, shots=shots, analytic=False, backend='qasm_simulator')\n",
    "\n",
    "    elif selected == 'qiskit_noisy_qasm_simulator':\n",
    "        # Qiskit QASM simulator + noise\n",
    "        provider = IBMQ.load_account()\n",
    "        backend = provider.get_backend('ibmq_athens')\n",
    "        noise_model = NoiseModel.from_backend(backend)\n",
    "        dev = qml.device(\"qiskit.aer\", wires=num_qubit, shots=shots, noise_model = noise_model, analytic=False, backend='qasm_simulator')\n",
    "        \n",
    "    return dev"
   ]
  },
  {
   "cell_type": "code",
   "execution_count": 124,
   "metadata": {},
   "outputs": [],
   "source": [
    "num_qubit = 2\n",
    "dev = select_backend(2, 'pennylane_statevector_simulator', 1024)"
   ]
  },
  {
   "cell_type": "markdown",
   "metadata": {},
   "source": [
    "## Loss and Acc Metric"
   ]
  },
  {
   "cell_type": "code",
   "execution_count": 287,
   "metadata": {},
   "outputs": [],
   "source": [
    "# MSE\n",
    "def square_loss(labels, predictions):\n",
    "    loss = 0\n",
    "    for l, p in zip(labels, predictions):\n",
    "        loss = loss + (l - p) ** 2\n",
    "\n",
    "    loss = loss / len(labels)\n",
    "    return loss\n",
    "\n",
    "# Cost-Sensitive Learning for Imbalanced Classification\n",
    "def confusion_matrix_loss(labels, predictions):\n",
    "    cost_matrix=np.array([[0, 0.9], [0.1, 0]])\n",
    "    \n",
    "    TP = 0\n",
    "    TN = 0\n",
    "    FP = 0\n",
    "    FN = 0\n",
    "    \n",
    "    # count the TP, TN, FP, and FN\n",
    "    for l, p in zip(labels, predictions):\n",
    "        if l == 1:\n",
    "            if p == 1:\n",
    "                TP += 1\n",
    "            else:\n",
    "                FN += 1\n",
    "        else:\n",
    "            if p == 1:\n",
    "                FP += 1\n",
    "            else:\n",
    "                TN += 1\n",
    "            \n",
    "    # create the confusion matrix\n",
    "    CM = np.array([[TN, FN], [FP, TP]])\n",
    "    \n",
    "    # calculate loss\n",
    "    loss = float(np.sum(CM*cost_matrix))/len(labels)\n",
    "\n",
    "    return loss\n",
    "\n",
    "# true predictions/total predictions\n",
    "def accuracy(labels, predictions):\n",
    "    acc = 0\n",
    "    for l, p in zip(labels, predictions):\n",
    "        if abs(l - p) < 1e-5:\n",
    "            acc = acc + 1\n",
    "    acc = acc / len(labels)\n",
    "\n",
    "    return acc"
   ]
  },
  {
   "cell_type": "code",
   "execution_count": 292,
   "metadata": {},
   "outputs": [
    {
     "data": {
      "text/plain": [
       "0.30500000000000005"
      ]
     },
     "execution_count": 292,
     "metadata": {},
     "output_type": "execute_result"
    }
   ],
   "source": [
    "confusion_matrix_loss(Y_train, predictions_train)"
   ]
  },
  {
   "cell_type": "code",
   "execution_count": 293,
   "metadata": {},
   "outputs": [
    {
     "data": {
      "text/plain": [
       "2.04"
      ]
     },
     "execution_count": 293,
     "metadata": {},
     "output_type": "execute_result"
    }
   ],
   "source": [
    "square_loss(Y_train, predictions_train)"
   ]
  },
  {
   "cell_type": "code",
   "execution_count": 200,
   "metadata": {},
   "outputs": [],
   "source": [
    "cost_matrix = np.array([[0, 0.9], [0.1, 0]])"
   ]
  },
  {
   "cell_type": "code",
   "execution_count": 181,
   "metadata": {},
   "outputs": [
    {
     "data": {
      "text/plain": [
       "array([0.9, 0.1])"
      ]
     },
     "execution_count": 181,
     "metadata": {},
     "output_type": "execute_result"
    }
   ],
   "source": [
    "loss_weight = np.unique(Y, return_counts=True)[1]/np.sum(np.unique(Y, return_counts=True)[1])\n",
    "loss_weight"
   ]
  },
  {
   "cell_type": "markdown",
   "metadata": {},
   "source": [
    "## Quantum Amplitude Encoding Function"
   ]
  },
  {
   "cell_type": "code",
   "execution_count": 165,
   "metadata": {},
   "outputs": [],
   "source": [
    "# a function to calculate the angle β\n",
    "\n",
    "def beta(s, j, X_sample):\n",
    "    # numerator index\n",
    "    index_num = (2*j-1)*(2**(s-1))\n",
    "    # denominator index\n",
    "    index_den = (j-1)*(2**s)\n",
    "    \n",
    "    num = np.sqrt(np.sum(abs(X_sample[index_num : index_num+2**(s-1)])**2))\n",
    "    den = np.sqrt(np.sum(abs(X_sample[index_den : index_den+2**(s)])**2))\n",
    "    \n",
    "    if den == 0:\n",
    "        #print(\"Zero denominator!\")\n",
    "        beta = 0\n",
    "    else:\n",
    "        beta = 2*np.arcsin(num/den)\n",
    "    \n",
    "    return beta"
   ]
  },
  {
   "cell_type": "code",
   "execution_count": 166,
   "metadata": {},
   "outputs": [],
   "source": [
    "def get_angles(x):\n",
    "    beta_2_1 = beta(2, 1, x)\n",
    "    beta_1_2 = beta(1, 2, x)\n",
    "    beta_1_1 = beta(1, 1, x)\n",
    "    \n",
    "    return np.array([beta_2_1, beta_1_2, beta_1_1])"
   ]
  },
  {
   "cell_type": "code",
   "execution_count": 167,
   "metadata": {},
   "outputs": [],
   "source": [
    "def statepreparation(a):\n",
    "    qml.RY(a[0], wires=0)\n",
    "    \n",
    "    qml.RX(np.pi/2, wires=1)\n",
    "    qml.RZ(a[1]/2, wires=1)\n",
    "    qml.RX(-np.pi/2, wires=1)\n",
    "    qml.CNOT(wires=[0, 1])\n",
    "    qml.RX(np.pi/2, wires=1)\n",
    "    qml.RZ(-a[1]/2, wires=1)\n",
    "    qml.RX(-np.pi/2, wires=1)\n",
    "    qml.CNOT(wires=[0, 1])\n",
    "    \n",
    "    qml.PauliX(wires=0)\n",
    "    qml.RX(np.pi/2, wires=1)\n",
    "    qml.RZ(a[2]/2, wires=1)\n",
    "    qml.RX(-np.pi/2, wires=1)\n",
    "    qml.CNOT(wires=[0, 1])\n",
    "    qml.RX(np.pi/2, wires=1)\n",
    "    qml.RZ(-a[2]/2, wires=1)\n",
    "    qml.RX(-np.pi/2, wires=1)\n",
    "    qml.CNOT(wires=[0, 1])\n",
    "    qml.PauliX(wires=0)\n"
   ]
  },
  {
   "cell_type": "code",
   "execution_count": 168,
   "metadata": {},
   "outputs": [
    {
     "name": "stdout",
     "output_type": "stream",
     "text": [
      "x               :  [0.53896774 0.79503606 0.27826503 0.        ]\n",
      "angles          :  [0.56397465 0.         1.95009208]\n",
      "amplitude vector:  [[5.38967743e-01 7.95036065e-01]\n",
      " [2.78265032e-01 1.96261557e-17]]\n"
     ]
    }
   ],
   "source": [
    "x = np.array([0.53896774, 0.79503606, 0.27826503, 0.0])\n",
    "ang = get_angles(x)\n",
    "\n",
    "\n",
    "@qml.qnode(dev)\n",
    "def test(angles=None):\n",
    "\n",
    "    statepreparation(angles)\n",
    "\n",
    "    return qml.expval(qml.PauliZ(0))\n",
    "\n",
    "\n",
    "test(angles=ang)\n",
    "\n",
    "print(\"x               : \", x)\n",
    "print(\"angles          : \", ang)\n",
    "print(\"amplitude vector: \", np.real(dev._state))"
   ]
  },
  {
   "cell_type": "markdown",
   "metadata": {},
   "source": [
    "## Define the Layer"
   ]
  },
  {
   "cell_type": "code",
   "execution_count": 169,
   "metadata": {},
   "outputs": [],
   "source": [
    "def layer(W):\n",
    "    qml.Rot(W[0, 0], W[0, 1], W[0, 2], wires=0)\n",
    "    qml.Rot(W[1, 0], W[1, 1], W[1, 2], wires=1)\n",
    "    qml.CNOT(wires=[0, 1])"
   ]
  },
  {
   "cell_type": "markdown",
   "metadata": {},
   "source": [
    "## Build the Quantum Circuit, Define Cost Function, Create VQC"
   ]
  },
  {
   "cell_type": "code",
   "execution_count": 294,
   "metadata": {},
   "outputs": [],
   "source": [
    "@qml.qnode(dev)\n",
    "def circuit(weights, angles=None):\n",
    "    statepreparation(angles)\n",
    "\n",
    "    for W in weights:\n",
    "        layer(W)\n",
    "\n",
    "    return qml.expval(qml.PauliZ(0))\n",
    "\n",
    "\n",
    "def variational_classifier(var, angles=None):\n",
    "    weights = var[0]\n",
    "    bias = var[1]\n",
    "    return circuit(weights, angles=angles) + bias\n",
    "\n",
    "\n",
    "def cost(weights, features, labels):\n",
    "    predictions = [variational_classifier(weights, angles=f) for f in features]\n",
    "    return 20*confusion_matrix_loss(labels, predictions) + square_loss(labels, predictions)"
   ]
  },
  {
   "cell_type": "markdown",
   "metadata": {},
   "source": [
    "# Data Prep"
   ]
  },
  {
   "cell_type": "markdown",
   "metadata": {},
   "source": [
    "## Data (Padding), Normalization and Data Encoding"
   ]
  },
  {
   "cell_type": "code",
   "execution_count": 171,
   "metadata": {},
   "outputs": [
    {
     "name": "stdout",
     "output_type": "stream",
     "text": [
      "First X train sample (original)  : [ 4.10643065 -0.37642694  0.66612333  1.24261943]\n",
      "First X train sample (normalized): [ 0.94227092 -0.08637578  0.15285018  0.28513428]\n",
      "First features sample      : [0.6588929  2.15743118 0.1828244 ]\n"
     ]
    }
   ],
   "source": [
    "# train and val\n",
    "\n",
    "print(\"First X train sample (original)  :\", X[0])\n",
    "\n",
    "# normalize each input\n",
    "normalization = np.sqrt(np.sum(X ** 2, -1))\n",
    "X_norm = (X.T / normalization).T\n",
    "print(\"First X train sample (normalized):\", X_norm[0])\n",
    "\n",
    "# angles for state preparation are new features\n",
    "features = np.array([get_angles(x) for x in X_norm])\n",
    "print(\"First features sample      :\", features[0])"
   ]
  },
  {
   "cell_type": "code",
   "execution_count": 172,
   "metadata": {},
   "outputs": [
    {
     "data": {
      "text/plain": [
       "1.0"
      ]
     },
     "execution_count": 172,
     "metadata": {},
     "output_type": "execute_result"
    }
   ],
   "source": [
    "sampel = 436\n",
    "np.sqrt(X_norm[sampel, 0]**2 + X_norm[sampel, 1]**2 + X_norm[sampel, 2]**2 + X_norm[sampel, 3]**2)"
   ]
  },
  {
   "cell_type": "code",
   "execution_count": 173,
   "metadata": {},
   "outputs": [
    {
     "name": "stdout",
     "output_type": "stream",
     "text": [
      "First X test sample (original)  : [ 4.37930926 -2.52967111  0.28134064 -0.51139176]\n",
      "First X test sample (normalized): [ 0.86020646 -0.49689102  0.05526238 -0.1004502 ]\n",
      "First test features sample      : [0.22980139 2.13568053 1.04763446]\n"
     ]
    }
   ],
   "source": [
    "print(\"First X test sample (original)  :\", X_test[0])\n",
    "\n",
    "# normalize each input\n",
    "normalization = np.sqrt(np.sum(X_test ** 2, -1))\n",
    "X_norm = (X_test.T / normalization).T\n",
    "print(\"First X test sample (normalized):\", X_norm[0])\n",
    "\n",
    "# angles for state preparation are new features\n",
    "feats_test = np.array([get_angles(x) for x in X_norm])\n",
    "print(\"First test features sample      :\", feats_test[0])"
   ]
  },
  {
   "cell_type": "code",
   "execution_count": 174,
   "metadata": {},
   "outputs": [
    {
     "data": {
      "text/plain": [
       "0.9999999999999999"
      ]
     },
     "execution_count": 174,
     "metadata": {},
     "output_type": "execute_result"
    }
   ],
   "source": [
    "sampel = 17\n",
    "np.sqrt(X_norm[sampel, 0]**2 + X_norm[sampel, 1]**2 + X_norm[sampel, 2]**2 + X_norm[sampel, 3]**2)"
   ]
  },
  {
   "cell_type": "code",
   "execution_count": 175,
   "metadata": {},
   "outputs": [],
   "source": [
    "# split X and y to train and validation\n",
    "\n",
    "from sklearn.model_selection import train_test_split\n",
    "\n",
    "feats_train, feats_val, Y_train, Y_val = train_test_split(features, Y, test_size=0.2, random_state=2020)\n",
    "\n",
    "X_train, X_val, Y_train, Y_val = train_test_split(X, Y, test_size=0.2, random_state=2020)"
   ]
  },
  {
   "cell_type": "code",
   "execution_count": 176,
   "metadata": {},
   "outputs": [
    {
     "name": "stdout",
     "output_type": "stream",
     "text": [
      "(400, 4) (400, 3) (400,)\n",
      "(100, 4) (100, 3) (100,)\n",
      "(100, 4) (100, 3) (100,)\n"
     ]
    }
   ],
   "source": [
    "print(X_train.shape, feats_train.shape, Y_train.shape)\n",
    "print(X_val.shape, feats_val.shape, Y_val.shape)\n",
    "print(X_test.shape, feats_test.shape, Y_test.shape)"
   ]
  },
  {
   "cell_type": "markdown",
   "metadata": {},
   "source": [
    "# Training"
   ]
  },
  {
   "cell_type": "markdown",
   "metadata": {},
   "source": [
    "## Qubits, Layers and Weights Initialization"
   ]
  },
  {
   "cell_type": "code",
   "execution_count": 316,
   "metadata": {},
   "outputs": [],
   "source": [
    "# First we initialize the hyperparameters\n",
    "\n",
    "num_qubits = 2  # 4 label = 4 class = log2(4) quibits = 2 qubits\n",
    "num_layers = 6  # QNN layer\n",
    "learning_rate = 0.01\n",
    "\n",
    "opt = NesterovMomentumOptimizer(stepsize=learning_rate)\n",
    "batch_size = 8\n",
    "max_iter = 100\n",
    "\n",
    "var_init = (0.01 * np.random.randn(num_layers, num_qubits, 3), 0.0)  # weights and bias initialization"
   ]
  },
  {
   "cell_type": "code",
   "execution_count": 317,
   "metadata": {},
   "outputs": [
    {
     "data": {
      "text/plain": [
       "400"
      ]
     },
     "execution_count": 317,
     "metadata": {},
     "output_type": "execute_result"
    }
   ],
   "source": [
    "num_train = X_train.shape[0]\n",
    "num_train"
   ]
  },
  {
   "cell_type": "markdown",
   "metadata": {},
   "source": [
    "## Training Iteration"
   ]
  },
  {
   "cell_type": "code",
   "execution_count": 318,
   "metadata": {},
   "outputs": [
    {
     "name": "stdout",
     "output_type": "stream",
     "text": [
      "Iter:     1 | Train Loss: 10.6442355 | Validation Loss: 8.4851597 | Train Acc: 0.5350000 | Validation Acc: 0.5200000 \n",
      "Iter:     2 | Train Loss: 10.4325833 | Validation Loss: 8.2618622 | Train Acc: 0.6025000 | Validation Acc: 0.5700000 \n",
      "Iter:     3 | Train Loss: 10.1961677 | Validation Loss: 8.0019722 | Train Acc: 0.6975000 | Validation Acc: 0.6500000 \n",
      "Iter:     4 | Train Loss: 10.0099877 | Validation Loss: 7.7831704 | Train Acc: 0.7875000 | Validation Acc: 0.7600000 \n",
      "Iter:     5 | Train Loss: 9.8924816 | Validation Loss: 7.6303041 | Train Acc: 0.8525000 | Validation Acc: 0.8400000 \n",
      "Iter:     6 | Train Loss: 9.8245532 | Validation Loss: 7.5249154 | Train Acc: 0.8775000 | Validation Acc: 0.9100000 \n",
      "Iter:     7 | Train Loss: 9.8002487 | Validation Loss: 7.4656164 | Train Acc: 0.9050000 | Validation Acc: 0.9300000 \n",
      "Iter:     8 | Train Loss: 9.8044743 | Validation Loss: 7.4443673 | Train Acc: 0.8975000 | Validation Acc: 0.9300000 \n",
      "Iter:     9 | Train Loss: 9.8185997 | Validation Loss: 7.4403663 | Train Acc: 0.8950000 | Validation Acc: 0.9200000 \n",
      "Iter:    10 | Train Loss: 9.8361318 | Validation Loss: 7.4455807 | Train Acc: 0.8950000 | Validation Acc: 0.9200000 \n",
      "Iter:    11 | Train Loss: 9.8535430 | Validation Loss: 7.4556208 | Train Acc: 0.8950000 | Validation Acc: 0.9200000 \n",
      "Iter:    12 | Train Loss: 9.8698816 | Validation Loss: 7.4675376 | Train Acc: 0.8950000 | Validation Acc: 0.9200000 \n"
     ]
    },
    {
     "ename": "KeyboardInterrupt",
     "evalue": "",
     "output_type": "error",
     "traceback": [
      "\u001b[1;31m---------------------------------------------------------------------------\u001b[0m",
      "\u001b[1;31mKeyboardInterrupt\u001b[0m                         Traceback (most recent call last)",
      "\u001b[1;32m<ipython-input-318-1013a8a1ea48>\u001b[0m in \u001b[0;36m<module>\u001b[1;34m\u001b[0m\n\u001b[0;32m     21\u001b[0m \u001b[1;33m\u001b[0m\u001b[0m\n\u001b[0;32m     22\u001b[0m     \u001b[1;31m# Compute predictions on train and validation set\u001b[0m\u001b[1;33m\u001b[0m\u001b[1;33m\u001b[0m\u001b[1;33m\u001b[0m\u001b[0m\n\u001b[1;32m---> 23\u001b[1;33m     \u001b[0mpredictions_train\u001b[0m \u001b[1;33m=\u001b[0m \u001b[1;33m[\u001b[0m\u001b[0mnp\u001b[0m\u001b[1;33m.\u001b[0m\u001b[0msign\u001b[0m\u001b[1;33m(\u001b[0m\u001b[0mvariational_classifier\u001b[0m\u001b[1;33m(\u001b[0m\u001b[0mvar\u001b[0m\u001b[1;33m,\u001b[0m \u001b[0mangles\u001b[0m\u001b[1;33m=\u001b[0m\u001b[0mf\u001b[0m\u001b[1;33m)\u001b[0m\u001b[1;33m)\u001b[0m \u001b[1;32mfor\u001b[0m \u001b[0mf\u001b[0m \u001b[1;32min\u001b[0m \u001b[0mfeats_train\u001b[0m\u001b[1;33m]\u001b[0m\u001b[1;33m\u001b[0m\u001b[1;33m\u001b[0m\u001b[0m\n\u001b[0m\u001b[0;32m     24\u001b[0m     \u001b[0mpredictions_val\u001b[0m \u001b[1;33m=\u001b[0m \u001b[1;33m[\u001b[0m\u001b[0mnp\u001b[0m\u001b[1;33m.\u001b[0m\u001b[0msign\u001b[0m\u001b[1;33m(\u001b[0m\u001b[0mvariational_classifier\u001b[0m\u001b[1;33m(\u001b[0m\u001b[0mvar\u001b[0m\u001b[1;33m,\u001b[0m \u001b[0mangles\u001b[0m\u001b[1;33m=\u001b[0m\u001b[0mf\u001b[0m\u001b[1;33m)\u001b[0m\u001b[1;33m)\u001b[0m \u001b[1;32mfor\u001b[0m \u001b[0mf\u001b[0m \u001b[1;32min\u001b[0m \u001b[0mfeats_val\u001b[0m\u001b[1;33m]\u001b[0m\u001b[1;33m\u001b[0m\u001b[1;33m\u001b[0m\u001b[0m\n\u001b[0;32m     25\u001b[0m \u001b[1;33m\u001b[0m\u001b[0m\n",
      "\u001b[1;32m<ipython-input-318-1013a8a1ea48>\u001b[0m in \u001b[0;36m<listcomp>\u001b[1;34m(.0)\u001b[0m\n\u001b[0;32m     21\u001b[0m \u001b[1;33m\u001b[0m\u001b[0m\n\u001b[0;32m     22\u001b[0m     \u001b[1;31m# Compute predictions on train and validation set\u001b[0m\u001b[1;33m\u001b[0m\u001b[1;33m\u001b[0m\u001b[1;33m\u001b[0m\u001b[0m\n\u001b[1;32m---> 23\u001b[1;33m     \u001b[0mpredictions_train\u001b[0m \u001b[1;33m=\u001b[0m \u001b[1;33m[\u001b[0m\u001b[0mnp\u001b[0m\u001b[1;33m.\u001b[0m\u001b[0msign\u001b[0m\u001b[1;33m(\u001b[0m\u001b[0mvariational_classifier\u001b[0m\u001b[1;33m(\u001b[0m\u001b[0mvar\u001b[0m\u001b[1;33m,\u001b[0m \u001b[0mangles\u001b[0m\u001b[1;33m=\u001b[0m\u001b[0mf\u001b[0m\u001b[1;33m)\u001b[0m\u001b[1;33m)\u001b[0m \u001b[1;32mfor\u001b[0m \u001b[0mf\u001b[0m \u001b[1;32min\u001b[0m \u001b[0mfeats_train\u001b[0m\u001b[1;33m]\u001b[0m\u001b[1;33m\u001b[0m\u001b[1;33m\u001b[0m\u001b[0m\n\u001b[0m\u001b[0;32m     24\u001b[0m     \u001b[0mpredictions_val\u001b[0m \u001b[1;33m=\u001b[0m \u001b[1;33m[\u001b[0m\u001b[0mnp\u001b[0m\u001b[1;33m.\u001b[0m\u001b[0msign\u001b[0m\u001b[1;33m(\u001b[0m\u001b[0mvariational_classifier\u001b[0m\u001b[1;33m(\u001b[0m\u001b[0mvar\u001b[0m\u001b[1;33m,\u001b[0m \u001b[0mangles\u001b[0m\u001b[1;33m=\u001b[0m\u001b[0mf\u001b[0m\u001b[1;33m)\u001b[0m\u001b[1;33m)\u001b[0m \u001b[1;32mfor\u001b[0m \u001b[0mf\u001b[0m \u001b[1;32min\u001b[0m \u001b[0mfeats_val\u001b[0m\u001b[1;33m]\u001b[0m\u001b[1;33m\u001b[0m\u001b[1;33m\u001b[0m\u001b[0m\n\u001b[0;32m     25\u001b[0m \u001b[1;33m\u001b[0m\u001b[0m\n",
      "\u001b[1;32m<ipython-input-294-5e00e6bc0a28>\u001b[0m in \u001b[0;36mvariational_classifier\u001b[1;34m(var, angles)\u001b[0m\n\u001b[0;32m     12\u001b[0m     \u001b[0mweights\u001b[0m \u001b[1;33m=\u001b[0m \u001b[0mvar\u001b[0m\u001b[1;33m[\u001b[0m\u001b[1;36m0\u001b[0m\u001b[1;33m]\u001b[0m\u001b[1;33m\u001b[0m\u001b[1;33m\u001b[0m\u001b[0m\n\u001b[0;32m     13\u001b[0m     \u001b[0mbias\u001b[0m \u001b[1;33m=\u001b[0m \u001b[0mvar\u001b[0m\u001b[1;33m[\u001b[0m\u001b[1;36m1\u001b[0m\u001b[1;33m]\u001b[0m\u001b[1;33m\u001b[0m\u001b[1;33m\u001b[0m\u001b[0m\n\u001b[1;32m---> 14\u001b[1;33m     \u001b[1;32mreturn\u001b[0m \u001b[0mcircuit\u001b[0m\u001b[1;33m(\u001b[0m\u001b[0mweights\u001b[0m\u001b[1;33m,\u001b[0m \u001b[0mangles\u001b[0m\u001b[1;33m=\u001b[0m\u001b[0mangles\u001b[0m\u001b[1;33m)\u001b[0m \u001b[1;33m+\u001b[0m \u001b[0mbias\u001b[0m\u001b[1;33m\u001b[0m\u001b[1;33m\u001b[0m\u001b[0m\n\u001b[0m\u001b[0;32m     15\u001b[0m \u001b[1;33m\u001b[0m\u001b[0m\n\u001b[0;32m     16\u001b[0m \u001b[1;33m\u001b[0m\u001b[0m\n",
      "\u001b[1;32mc:\\users\\user\\appdata\\local\\programs\\python\\python37\\lib\\site-packages\\pennylane\\interfaces\\autograd.py\u001b[0m in \u001b[0;36m__call__\u001b[1;34m(self, *args, **kwargs)\u001b[0m\n\u001b[0;32m     67\u001b[0m             \u001b[0mself\u001b[0m\u001b[1;33m.\u001b[0m\u001b[0mset_trainable\u001b[0m\u001b[1;33m(\u001b[0m\u001b[0margs\u001b[0m\u001b[1;33m)\u001b[0m\u001b[1;33m\u001b[0m\u001b[1;33m\u001b[0m\u001b[0m\n\u001b[0;32m     68\u001b[0m             \u001b[0margs\u001b[0m \u001b[1;33m=\u001b[0m \u001b[0mautograd\u001b[0m\u001b[1;33m.\u001b[0m\u001b[0mbuiltins\u001b[0m\u001b[1;33m.\u001b[0m\u001b[0mtuple\u001b[0m\u001b[1;33m(\u001b[0m\u001b[0margs\u001b[0m\u001b[1;33m)\u001b[0m  \u001b[1;31m# pylint: disable=no-member\u001b[0m\u001b[1;33m\u001b[0m\u001b[1;33m\u001b[0m\u001b[0m\n\u001b[1;32m---> 69\u001b[1;33m             \u001b[1;32mreturn\u001b[0m \u001b[0mself\u001b[0m\u001b[1;33m.\u001b[0m\u001b[0mevaluate\u001b[0m\u001b[1;33m(\u001b[0m\u001b[0margs\u001b[0m\u001b[1;33m,\u001b[0m \u001b[0mkwargs\u001b[0m\u001b[1;33m)\u001b[0m\u001b[1;33m\u001b[0m\u001b[1;33m\u001b[0m\u001b[0m\n\u001b[0m\u001b[0;32m     70\u001b[0m \u001b[1;33m\u001b[0m\u001b[0m\n\u001b[0;32m     71\u001b[0m         \u001b[1;33m@\u001b[0m\u001b[0mstaticmethod\u001b[0m\u001b[1;33m\u001b[0m\u001b[1;33m\u001b[0m\u001b[0m\n",
      "\u001b[1;32mc:\\users\\user\\appdata\\local\\programs\\python\\python37\\lib\\site-packages\\autograd\\tracer.py\u001b[0m in \u001b[0;36mf_wrapped\u001b[1;34m(*args, **kwargs)\u001b[0m\n\u001b[0;32m     46\u001b[0m             \u001b[1;32mreturn\u001b[0m \u001b[0mnew_box\u001b[0m\u001b[1;33m(\u001b[0m\u001b[0mans\u001b[0m\u001b[1;33m,\u001b[0m \u001b[0mtrace\u001b[0m\u001b[1;33m,\u001b[0m \u001b[0mnode\u001b[0m\u001b[1;33m)\u001b[0m\u001b[1;33m\u001b[0m\u001b[1;33m\u001b[0m\u001b[0m\n\u001b[0;32m     47\u001b[0m         \u001b[1;32melse\u001b[0m\u001b[1;33m:\u001b[0m\u001b[1;33m\u001b[0m\u001b[1;33m\u001b[0m\u001b[0m\n\u001b[1;32m---> 48\u001b[1;33m             \u001b[1;32mreturn\u001b[0m \u001b[0mf_raw\u001b[0m\u001b[1;33m(\u001b[0m\u001b[1;33m*\u001b[0m\u001b[0margs\u001b[0m\u001b[1;33m,\u001b[0m \u001b[1;33m**\u001b[0m\u001b[0mkwargs\u001b[0m\u001b[1;33m)\u001b[0m\u001b[1;33m\u001b[0m\u001b[1;33m\u001b[0m\u001b[0m\n\u001b[0m\u001b[0;32m     49\u001b[0m     \u001b[0mf_wrapped\u001b[0m\u001b[1;33m.\u001b[0m\u001b[0mfun\u001b[0m \u001b[1;33m=\u001b[0m \u001b[0mf_raw\u001b[0m\u001b[1;33m\u001b[0m\u001b[1;33m\u001b[0m\u001b[0m\n\u001b[0;32m     50\u001b[0m     \u001b[0mf_wrapped\u001b[0m\u001b[1;33m.\u001b[0m\u001b[0m_is_autograd_primitive\u001b[0m \u001b[1;33m=\u001b[0m \u001b[1;32mTrue\u001b[0m\u001b[1;33m\u001b[0m\u001b[1;33m\u001b[0m\u001b[0m\n",
      "\u001b[1;32mc:\\users\\user\\appdata\\local\\programs\\python\\python37\\lib\\site-packages\\pennylane\\qnodes\\base.py\u001b[0m in \u001b[0;36mevaluate\u001b[1;34m(self, args, kwargs)\u001b[0m\n\u001b[0;32m    826\u001b[0m         \u001b[1;32mif\u001b[0m \u001b[0misinstance\u001b[0m\u001b[1;33m(\u001b[0m\u001b[0mself\u001b[0m\u001b[1;33m.\u001b[0m\u001b[0mdevice\u001b[0m\u001b[1;33m,\u001b[0m \u001b[0mqml\u001b[0m\u001b[1;33m.\u001b[0m\u001b[0mQubitDevice\u001b[0m\u001b[1;33m)\u001b[0m\u001b[1;33m:\u001b[0m\u001b[1;33m\u001b[0m\u001b[1;33m\u001b[0m\u001b[0m\n\u001b[0;32m    827\u001b[0m             \u001b[1;31m# TODO: remove this if statement once all devices are ported to the QubitDevice API\u001b[0m\u001b[1;33m\u001b[0m\u001b[1;33m\u001b[0m\u001b[1;33m\u001b[0m\u001b[0m\n\u001b[1;32m--> 828\u001b[1;33m             \u001b[0mret\u001b[0m \u001b[1;33m=\u001b[0m \u001b[0mself\u001b[0m\u001b[1;33m.\u001b[0m\u001b[0mdevice\u001b[0m\u001b[1;33m.\u001b[0m\u001b[0mexecute\u001b[0m\u001b[1;33m(\u001b[0m\u001b[0mself\u001b[0m\u001b[1;33m.\u001b[0m\u001b[0mcircuit\u001b[0m\u001b[1;33m,\u001b[0m \u001b[0mreturn_native_type\u001b[0m\u001b[1;33m=\u001b[0m\u001b[0mtemp\u001b[0m\u001b[1;33m)\u001b[0m\u001b[1;33m\u001b[0m\u001b[1;33m\u001b[0m\u001b[0m\n\u001b[0m\u001b[0;32m    829\u001b[0m         \u001b[1;32melse\u001b[0m\u001b[1;33m:\u001b[0m\u001b[1;33m\u001b[0m\u001b[1;33m\u001b[0m\u001b[0m\n\u001b[0;32m    830\u001b[0m             ret = self.device.execute(\n",
      "\u001b[1;32mc:\\users\\user\\appdata\\local\\programs\\python\\python37\\lib\\site-packages\\pennylane\\_qubit_device.py\u001b[0m in \u001b[0;36mexecute\u001b[1;34m(self, circuit, **kwargs)\u001b[0m\n\u001b[0;32m    180\u001b[0m \u001b[1;33m\u001b[0m\u001b[0m\n\u001b[0;32m    181\u001b[0m         \u001b[1;31m# apply all circuit operations\u001b[0m\u001b[1;33m\u001b[0m\u001b[1;33m\u001b[0m\u001b[1;33m\u001b[0m\u001b[0m\n\u001b[1;32m--> 182\u001b[1;33m         \u001b[0mself\u001b[0m\u001b[1;33m.\u001b[0m\u001b[0mapply\u001b[0m\u001b[1;33m(\u001b[0m\u001b[0mcircuit\u001b[0m\u001b[1;33m.\u001b[0m\u001b[0moperations\u001b[0m\u001b[1;33m,\u001b[0m \u001b[0mrotations\u001b[0m\u001b[1;33m=\u001b[0m\u001b[0mcircuit\u001b[0m\u001b[1;33m.\u001b[0m\u001b[0mdiagonalizing_gates\u001b[0m\u001b[1;33m,\u001b[0m \u001b[1;33m**\u001b[0m\u001b[0mkwargs\u001b[0m\u001b[1;33m)\u001b[0m\u001b[1;33m\u001b[0m\u001b[1;33m\u001b[0m\u001b[0m\n\u001b[0m\u001b[0;32m    183\u001b[0m \u001b[1;33m\u001b[0m\u001b[0m\n\u001b[0;32m    184\u001b[0m         \u001b[1;31m# generate computational basis samples\u001b[0m\u001b[1;33m\u001b[0m\u001b[1;33m\u001b[0m\u001b[1;33m\u001b[0m\u001b[0m\n",
      "\u001b[1;32mc:\\users\\user\\appdata\\local\\programs\\python\\python37\\lib\\site-packages\\pennylane\\devices\\default_qubit.py\u001b[0m in \u001b[0;36mapply\u001b[1;34m(self, operations, rotations, **kwargs)\u001b[0m\n\u001b[0;32m    108\u001b[0m                 )\n\u001b[0;32m    109\u001b[0m \u001b[1;33m\u001b[0m\u001b[0m\n\u001b[1;32m--> 110\u001b[1;33m             \u001b[0mself\u001b[0m\u001b[1;33m.\u001b[0m\u001b[0m_apply_operation\u001b[0m\u001b[1;33m(\u001b[0m\u001b[0moperation\u001b[0m\u001b[1;33m)\u001b[0m\u001b[1;33m\u001b[0m\u001b[1;33m\u001b[0m\u001b[0m\n\u001b[0m\u001b[0;32m    111\u001b[0m \u001b[1;33m\u001b[0m\u001b[0m\n\u001b[0;32m    112\u001b[0m         \u001b[1;31m# store the pre-rotated state\u001b[0m\u001b[1;33m\u001b[0m\u001b[1;33m\u001b[0m\u001b[1;33m\u001b[0m\u001b[0m\n",
      "\u001b[1;32mc:\\users\\user\\appdata\\local\\programs\\python\\python37\\lib\\site-packages\\pennylane\\devices\\default_qubit.py\u001b[0m in \u001b[0;36m_apply_operation\u001b[1;34m(self, operation)\u001b[0m\n\u001b[0;32m    139\u001b[0m         \u001b[1;32melif\u001b[0m \u001b[0mlen\u001b[0m\u001b[1;33m(\u001b[0m\u001b[0mwires\u001b[0m\u001b[1;33m)\u001b[0m \u001b[1;33m<=\u001b[0m \u001b[1;36m2\u001b[0m\u001b[1;33m:\u001b[0m\u001b[1;33m\u001b[0m\u001b[1;33m\u001b[0m\u001b[0m\n\u001b[0;32m    140\u001b[0m             \u001b[1;31m# Einsum is faster for small gates\u001b[0m\u001b[1;33m\u001b[0m\u001b[1;33m\u001b[0m\u001b[1;33m\u001b[0m\u001b[0m\n\u001b[1;32m--> 141\u001b[1;33m             \u001b[0mself\u001b[0m\u001b[1;33m.\u001b[0m\u001b[0m_apply_unitary_einsum\u001b[0m\u001b[1;33m(\u001b[0m\u001b[0mmatrix\u001b[0m\u001b[1;33m,\u001b[0m \u001b[0mwires\u001b[0m\u001b[1;33m)\u001b[0m\u001b[1;33m\u001b[0m\u001b[1;33m\u001b[0m\u001b[0m\n\u001b[0m\u001b[0;32m    142\u001b[0m         \u001b[1;32melse\u001b[0m\u001b[1;33m:\u001b[0m\u001b[1;33m\u001b[0m\u001b[1;33m\u001b[0m\u001b[0m\n\u001b[0;32m    143\u001b[0m             \u001b[0mself\u001b[0m\u001b[1;33m.\u001b[0m\u001b[0m_apply_unitary\u001b[0m\u001b[1;33m(\u001b[0m\u001b[0mmatrix\u001b[0m\u001b[1;33m,\u001b[0m \u001b[0mwires\u001b[0m\u001b[1;33m)\u001b[0m\u001b[1;33m\u001b[0m\u001b[1;33m\u001b[0m\u001b[0m\n",
      "\u001b[1;32mc:\\users\\user\\appdata\\local\\programs\\python\\python37\\lib\\site-packages\\pennylane\\devices\\default_qubit.py\u001b[0m in \u001b[0;36m_apply_unitary_einsum\u001b[1;34m(self, mat, wires)\u001b[0m\n\u001b[0;32m    289\u001b[0m \u001b[1;33m\u001b[0m\u001b[0m\n\u001b[0;32m    290\u001b[0m         \u001b[1;31m# Indices of the quantum state affected by this operation\u001b[0m\u001b[1;33m\u001b[0m\u001b[1;33m\u001b[0m\u001b[1;33m\u001b[0m\u001b[0m\n\u001b[1;32m--> 291\u001b[1;33m         \u001b[0maffected_indices\u001b[0m \u001b[1;33m=\u001b[0m \u001b[1;34m\"\"\u001b[0m\u001b[1;33m.\u001b[0m\u001b[0mjoin\u001b[0m\u001b[1;33m(\u001b[0m\u001b[0mABC_ARRAY\u001b[0m\u001b[1;33m[\u001b[0m\u001b[0mdevice_wires\u001b[0m\u001b[1;33m.\u001b[0m\u001b[0mtolist\u001b[0m\u001b[1;33m(\u001b[0m\u001b[1;33m)\u001b[0m\u001b[1;33m]\u001b[0m\u001b[1;33m.\u001b[0m\u001b[0mtolist\u001b[0m\u001b[1;33m(\u001b[0m\u001b[1;33m)\u001b[0m\u001b[1;33m)\u001b[0m\u001b[1;33m\u001b[0m\u001b[1;33m\u001b[0m\u001b[0m\n\u001b[0m\u001b[0;32m    292\u001b[0m \u001b[1;33m\u001b[0m\u001b[0m\n\u001b[0;32m    293\u001b[0m         \u001b[1;31m# All affected indices will be summed over, so we need the same number of new indices\u001b[0m\u001b[1;33m\u001b[0m\u001b[1;33m\u001b[0m\u001b[1;33m\u001b[0m\u001b[0m\n",
      "\u001b[1;31mKeyboardInterrupt\u001b[0m: "
     ]
    }
   ],
   "source": [
    "# training\n",
    "\n",
    "# array to save the training & val accuracy and loss history as the training goes\n",
    "train_history = np.array([])\n",
    "val_history = np.array([])\n",
    "train_loss_history = np.array([])\n",
    "val_loss_history = np.array([])\n",
    "iter_history = np.array([])\n",
    "\n",
    "\n",
    "\n",
    "# train the variational classifier\n",
    "var = var_init\n",
    "for it in range(max_iter):\n",
    "\n",
    "    # Update the weights by one optimizer step\n",
    "    batch_index = np.random.randint(0, num_train, (batch_size,))\n",
    "    feats_train_batch = feats_train[batch_index]\n",
    "    Y_train_batch = Y_train[batch_index]\n",
    "    var = opt.step(lambda v: cost(v, feats_train_batch, Y_train_batch), var)\n",
    "\n",
    "    # Compute predictions on train and validation set\n",
    "    predictions_train = [np.sign(variational_classifier(var, angles=f)) for f in feats_train]\n",
    "    predictions_val = [np.sign(variational_classifier(var, angles=f)) for f in feats_val]\n",
    "\n",
    "    # Compute accuracy on train and validation set\n",
    "    acc_train = accuracy(Y_train, predictions_train)\n",
    "    acc_val = accuracy(Y_val, predictions_val)\n",
    "\n",
    "    train_loss = cost(var, feats_train, Y_train)\n",
    "    val_loss = cost(var, feats_val, Y_val)\n",
    "    \n",
    "    print(\n",
    "        \"Iter: {:5d} | Train Loss: {:0.7f} | Validation Loss: {:0.7f} | Train Acc: {:0.7f} | Validation Acc: {:0.7f} \"\n",
    "        \"\".format(it + 1, train_loss, val_loss, acc_train, acc_val)\n",
    "    )\n",
    "    \n",
    "    iter_history = np.append(iter_history, it+1)\n",
    "    train_loss_history = np.append(train_loss_history, train_loss)\n",
    "    val_loss_history = np.append(val_loss_history, val_loss)\n",
    "    train_history = np.append(train_history, acc_train)\n",
    "    val_history = np.append(val_history, acc_val)\n",
    "    \n",
    "print(\"The training session is finished\")"
   ]
  },
  {
   "cell_type": "code",
   "execution_count": 298,
   "metadata": {},
   "outputs": [
    {
     "data": {
      "image/png": "[encoded data removed]",
      "text/plain": [
       "<Figure size 432x288 with 1 Axes>"
      ]
     },
     "metadata": {
      "needs_background": "light"
     },
     "output_type": "display_data"
    }
   ],
   "source": [
    "# plot acc train, acc val\n",
    "\n",
    "plt.plot(iter_history, train_history, color='blue', label='Akurasi Latih')\n",
    "plt.plot(iter_history, val_history, color='red', label='Akurasi Validasi')\n",
    "\n",
    "plt.ylabel('Akurasi')\n",
    "plt.xlabel('Iterasi')\n",
    "plt.title(\"Akurasi Latih dan Validasi Label \" + str(label) + \" Lawan Semua\")\n",
    "\n",
    "plt.legend()\n",
    "plt.show()"
   ]
  },
  {
   "cell_type": "code",
   "execution_count": 299,
   "metadata": {},
   "outputs": [
    {
     "data": {
      "image/png": "[encoded data removed]",
      "text/plain": [
       "<Figure size 432x288 with 1 Axes>"
      ]
     },
     "metadata": {
      "needs_background": "light"
     },
     "output_type": "display_data"
    }
   ],
   "source": [
    "# plot loss train, loss val\n",
    "\n",
    "plt.plot(iter_history, train_loss_history, color='blue', label='Loss Latih')\n",
    "plt.plot(iter_history, val_loss_history, color='red', label='Loss Validasi')\n",
    "\n",
    "plt.ylabel('Loss')\n",
    "plt.xlabel('Iterasi')\n",
    "plt.title(\"Loss (MSE Terbobot) Latih dan Validasi Label \" + str(label) + \" Lawan Semua\")\n",
    "\n",
    "plt.legend()\n",
    "plt.show()"
   ]
  },
  {
   "cell_type": "code",
   "execution_count": 309,
   "metadata": {},
   "outputs": [],
   "source": [
    "train_val_acc_hist = np.concatenate((train_history.reshape(-1,1), val_history.reshape(-1,1)), axis=1)\n",
    "train_val_loss_hist = np.concatenate((train_loss_history.reshape(-1,1), val_loss_history.reshape(-1,1)), axis=1)"
   ]
  },
  {
   "cell_type": "code",
   "execution_count": 310,
   "metadata": {},
   "outputs": [],
   "source": [
    "# save numpy array as csv file\n",
    "from numpy import asarray\n",
    "from numpy import savetxt, loadtxt\n",
    "\n",
    "def save_to_csv(data, file_name):\n",
    "    # save to csv file\n",
    "    savetxt(file_name, data, delimiter=',')\n",
    "    \n",
    "def load_from_csv(file_name):\n",
    "    # load from csv file\n",
    "    return loadtxt(file_name, delimiter=',')"
   ]
  },
  {
   "cell_type": "code",
   "execution_count": 311,
   "metadata": {},
   "outputs": [],
   "source": [
    "save_to_csv(train_val_acc_hist, \"C:/Users/user/quantum_image_classifier/PennyLane/Model & Hasil Training/\" + str(label) + \"/train_val_acc_hist.txt\")\n",
    "save_to_csv(train_val_loss_hist, \"C:/Users/user/quantum_image_classifier/PennyLane/Model & Hasil Training/\" + str(label) + \"/train_val_loss_hist.txt\")"
   ]
  },
  {
   "cell_type": "code",
   "execution_count": 300,
   "metadata": {},
   "outputs": [
    {
     "name": "stdout",
     "output_type": "stream",
     "text": [
      "0.91 9.259276154885391\n"
     ]
    }
   ],
   "source": [
    "# Compute predictions on train and validation set\n",
    "predictions_test = [np.sign(variational_classifier(var, angles=f)) for f in feats_test]\n",
    "\n",
    "# Compute accuracy on train and validation set\n",
    "acc_test = accuracy(Y_test, predictions_test)\n",
    "\n",
    "test_loss = cost(var, feats_test, Y_test)\n",
    "\n",
    "print(acc_test, test_loss)"
   ]
  },
  {
   "cell_type": "code",
   "execution_count": 305,
   "metadata": {},
   "outputs": [],
   "source": [
    "def confusion_matrix(labels, predictions):\n",
    "    cost_matrix=np.array([[0, 0.9], [0.1, 0]])\n",
    "    \n",
    "    TP = 0\n",
    "    TN = 0\n",
    "    FP = 0\n",
    "    FN = 0\n",
    "    \n",
    "    # count the TP, TN, FP, and FN\n",
    "    for l, p in zip(labels, predictions):\n",
    "        if l == 1:\n",
    "            if p == 1:\n",
    "                TP += 1\n",
    "            else:\n",
    "                FN += 1\n",
    "        else:\n",
    "            if p == 1:\n",
    "                FP += 1\n",
    "            else:\n",
    "                TN += 1\n",
    "            \n",
    "    # create the confusion matrix\n",
    "    CM = np.array([[TN, FN], [FP, TP]])\n",
    "    \n",
    "    return CM"
   ]
  },
  {
   "cell_type": "code",
   "execution_count": 306,
   "metadata": {},
   "outputs": [
    {
     "data": {
      "text/plain": [
       "tensor([[89,  8],\n",
       "        [ 1,  2]], requires_grad=True)"
      ]
     },
     "execution_count": 306,
     "metadata": {},
     "output_type": "execute_result"
    }
   ],
   "source": [
    "confusion_matrix(Y_test, predictions_test)"
   ]
  },
  {
   "cell_type": "code",
   "execution_count": null,
   "metadata": {},
   "outputs": [],
   "source": []
  }
 ],
 "metadata": {
  "kernelspec": {
   "display_name": "Python 3",
   "language": "python",
   "name": "python3"
  },
  "language_info": {
   "codemirror_mode": {
    "name": "ipython",
    "version": 3
   },
   "file_extension": ".py",
   "mimetype": "text/x-python",
   "name": "python",
   "nbconvert_exporter": "python",
   "pygments_lexer": "ipython3",
   "version": "3.7.4"
  }
 },
 "nbformat": 4,
 "nbformat_minor": 2
}
