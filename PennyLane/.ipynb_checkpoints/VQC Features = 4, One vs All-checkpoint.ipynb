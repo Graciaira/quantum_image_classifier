{
 "cells": [
  {
   "cell_type": "code",
   "execution_count": 6,
   "metadata": {},
   "outputs": [],
   "source": [
    "from numpy import loadtxt\n",
    "import pandas as pd\n",
    "import matplotlib.pyplot as plt\n",
    "import numpy as np"
   ]
  },
  {
   "cell_type": "markdown",
   "metadata": {},
   "source": [
    "# Data Load"
   ]
  },
  {
   "cell_type": "code",
   "execution_count": 155,
   "metadata": {},
   "outputs": [],
   "source": [
    "# load dataset\n",
    "\n",
    "label = 0\n",
    "\n",
    "X = loadtxt('C:/Users/user/quantum_image_classifier/Image Preprocessing/Dataset One-vs-All/x_train_2features_' + str(0) + '.txt', delimiter=',')\n",
    "\n",
    "X_test = loadtxt('C:/Users/user/quantum_image_classifier/Image Preprocessing/Dataset One-vs-All/x_test_2features_' + str(0) + '.txt', delimiter=',')"
   ]
  },
  {
   "cell_type": "code",
   "execution_count": 156,
   "metadata": {},
   "outputs": [
    {
     "data": {
      "text/plain": [
       "504"
      ]
     },
     "execution_count": 156,
     "metadata": {},
     "output_type": "execute_result"
    }
   ],
   "source": [
    "X.shape[0]"
   ]
  },
  {
   "cell_type": "code",
   "execution_count": 157,
   "metadata": {},
   "outputs": [],
   "source": [
    "Y = np.zeros((X.shape[0],))\n",
    "Y[:int(X.shape[0]/2)] = 1\n",
    "Y[int(X.shape[0]/2):] = -1\n",
    "\n",
    "Y_test = np.zeros((X_test.shape[0],))\n",
    "Y_test[:int(X_test.shape[0]/2)] = 1\n",
    "Y_test[int(X_test.shape[0]/2):] = -1"
   ]
  },
  {
   "cell_type": "code",
   "execution_count": 158,
   "metadata": {},
   "outputs": [
    {
     "name": "stdout",
     "output_type": "stream",
     "text": [
      "(504, 2) (504,)\n",
      "(108, 2) (108,)\n"
     ]
    }
   ],
   "source": [
    "print(X.shape, Y.shape)\n",
    "print(X_test.shape, Y_test.shape)"
   ]
  },
  {
   "cell_type": "markdown",
   "metadata": {},
   "source": [
    "# Create Quantum Model"
   ]
  },
  {
   "cell_type": "code",
   "execution_count": 159,
   "metadata": {},
   "outputs": [],
   "source": [
    "%matplotlib inline\n",
    "\n",
    "import pennylane as qml\n",
    "from pennylane import numpy as np\n",
    "import numpy\n",
    "from pennylane.optimize import *\n",
    "\n",
    "from qiskit import *\n",
    "from qiskit.providers.aer.noise import NoiseModel"
   ]
  },
  {
   "cell_type": "markdown",
   "metadata": {},
   "source": [
    "## Choose a Quantum Device\n",
    "\n",
    "You can choose between several different backend (including the one ownwed by IBM)"
   ]
  },
  {
   "cell_type": "code",
   "execution_count": 160,
   "metadata": {},
   "outputs": [],
   "source": [
    "def select_backend(num_qubit, selected, shots):\n",
    "    if selected == 'pennylane_statevector_simulator':\n",
    "        # PennyLane Statevector simulator\n",
    "        dev = qml.device(\"default.qubit\", wires=num_qubit)\n",
    "\n",
    "    elif selected == 'qiskit_noisefree_qasm_simulator':\n",
    "        # Qiskit QASM simulator (noise-free)\n",
    "        dev = qml.device(\"qiskit.aer\", wires=num_qubit, shots=shots, analytic=False, backend='qasm_simulator')\n",
    "\n",
    "    elif selected == 'qiskit_noisy_qasm_simulator':\n",
    "        # Qiskit QASM simulator + noise\n",
    "        provider = IBMQ.load_account()\n",
    "        backend = provider.get_backend('ibmq_athens')\n",
    "        noise_model = NoiseModel.from_backend(backend)\n",
    "        dev = qml.device(\"qiskit.aer\", wires=num_qubit, shots=shots, noise_model = noise_model, analytic=False, backend='qasm_simulator')\n",
    "        \n",
    "    return dev"
   ]
  },
  {
   "cell_type": "code",
   "execution_count": 161,
   "metadata": {},
   "outputs": [],
   "source": [
    "num_qubit = 2\n",
    "dev = select_backend(2, 'pennylane_statevector_simulator', 1024)"
   ]
  },
  {
   "cell_type": "markdown",
   "metadata": {},
   "source": [
    "## Loss and Acc Metric"
   ]
  },
  {
   "cell_type": "code",
   "execution_count": 162,
   "metadata": {},
   "outputs": [],
   "source": [
    "# MSE\n",
    "def square_loss(labels, predictions):\n",
    "    loss = 0\n",
    "    for l, p in zip(labels, predictions):\n",
    "        loss = loss + (l - p) ** 2\n",
    "\n",
    "    loss = loss / len(labels)\n",
    "    return loss\n",
    "\n",
    "# Cost-Sensitive Learning for Imbalanced Classification\n",
    "def confusion_matrix_loss(labels, predictions):\n",
    "    cost_matrix=np.array([[0, 0.9], [0.1, 0]])\n",
    "    \n",
    "    TP = 0\n",
    "    TN = 0\n",
    "    FP = 0\n",
    "    FN = 0\n",
    "    \n",
    "    # count the TP, TN, FP, and FN\n",
    "    for l, p in zip(labels, predictions):\n",
    "        if l == 1:\n",
    "            if p == 1:\n",
    "                TP += 1\n",
    "            else:\n",
    "                FN += 1\n",
    "        else:\n",
    "            if p == 1:\n",
    "                FP += 1\n",
    "            else:\n",
    "                TN += 1\n",
    "            \n",
    "    # create the confusion matrix\n",
    "    CM = np.array([[TN, FN], [FP, TP]])\n",
    "    \n",
    "    # calculate loss\n",
    "    loss = float(np.sum(CM*cost_matrix))/len(labels)\n",
    "\n",
    "    return loss\n",
    "\n",
    "# true predictions/total predictions\n",
    "def accuracy(labels, predictions):\n",
    "    acc = 0\n",
    "    for l, p in zip(labels, predictions):\n",
    "        if abs(l - p) < 1e-5:\n",
    "            acc = acc + 1\n",
    "    acc = acc / len(labels)\n",
    "\n",
    "    return acc"
   ]
  },
  {
   "cell_type": "code",
   "execution_count": 163,
   "metadata": {},
   "outputs": [
    {
     "data": {
      "text/plain": [
       "0.1"
      ]
     },
     "execution_count": 163,
     "metadata": {},
     "output_type": "execute_result"
    }
   ],
   "source": [
    "confusion_matrix_loss(Y_train, predictions_train)"
   ]
  },
  {
   "cell_type": "code",
   "execution_count": 164,
   "metadata": {},
   "outputs": [
    {
     "data": {
      "text/plain": [
       "0.9032258064516129"
      ]
     },
     "execution_count": 164,
     "metadata": {},
     "output_type": "execute_result"
    }
   ],
   "source": [
    "square_loss(Y_train, predictions_train)"
   ]
  },
  {
   "cell_type": "code",
   "execution_count": 200,
   "metadata": {},
   "outputs": [],
   "source": [
    "cost_matrix = np.array([[0, 0.9], [0.1, 0]])"
   ]
  },
  {
   "cell_type": "code",
   "execution_count": 181,
   "metadata": {},
   "outputs": [
    {
     "data": {
      "text/plain": [
       "array([0.9, 0.1])"
      ]
     },
     "execution_count": 181,
     "metadata": {},
     "output_type": "execute_result"
    }
   ],
   "source": [
    "loss_weight = np.unique(Y, return_counts=True)[1]/np.sum(np.unique(Y, return_counts=True)[1])\n",
    "loss_weight"
   ]
  },
  {
   "cell_type": "markdown",
   "metadata": {},
   "source": [
    "## Quantum Amplitude Encoding Function"
   ]
  },
  {
   "cell_type": "code",
   "execution_count": 165,
   "metadata": {},
   "outputs": [],
   "source": [
    "# a function to calculate the angle β\n",
    "\n",
    "def beta(s, j, X_sample):\n",
    "    # numerator index\n",
    "    index_num = (2*j-1)*(2**(s-1))\n",
    "    # denominator index\n",
    "    index_den = (j-1)*(2**s)\n",
    "    \n",
    "    num = np.sqrt(np.sum(abs(X_sample[index_num : index_num+2**(s-1)])**2))\n",
    "    den = np.sqrt(np.sum(abs(X_sample[index_den : index_den+2**(s)])**2))\n",
    "    \n",
    "    if den == 0:\n",
    "        #print(\"Zero denominator!\")\n",
    "        beta = 0\n",
    "    else:\n",
    "        beta = 2*np.arcsin(num/den)\n",
    "    \n",
    "    return beta"
   ]
  },
  {
   "cell_type": "code",
   "execution_count": 166,
   "metadata": {},
   "outputs": [],
   "source": [
    "def get_angles(x):\n",
    "    beta_2_1 = beta(2, 1, x)\n",
    "    beta_1_2 = beta(1, 2, x)\n",
    "    beta_1_1 = beta(1, 1, x)\n",
    "    \n",
    "    return np.array([beta_2_1, beta_1_2, beta_1_1])"
   ]
  },
  {
   "cell_type": "code",
   "execution_count": 167,
   "metadata": {},
   "outputs": [],
   "source": [
    "def U3_gate(θ, qubit):\n",
    "    qml.RX(np.pi/2, wires=qubit)\n",
    "    qml.RZ(θ, wires=qubit)\n",
    "    qml.RX(-np.pi/2, wires=qubit)"
   ]
  },
  {
   "cell_type": "code",
   "execution_count": 132,
   "metadata": {},
   "outputs": [],
   "source": [
    "def statepreparation(a):\n",
    "    qml.RY(a[0], wires=0)\n",
    "    \n",
    "    qml.RX(np.pi/2, wires=1)\n",
    "    qml.RZ(a[1]/2, wires=1)\n",
    "    qml.RX(-np.pi/2, wires=1)\n",
    "    qml.CNOT(wires=[0, 1])\n",
    "    qml.RX(np.pi/2, wires=1)\n",
    "    qml.RZ(-a[1]/2, wires=1)\n",
    "    qml.RX(-np.pi/2, wires=1)\n",
    "    qml.CNOT(wires=[0, 1])\n",
    "    \n",
    "    qml.PauliX(wires=0)\n",
    "    qml.RX(np.pi/2, wires=1)\n",
    "    qml.RZ(a[2]/2, wires=1)\n",
    "    qml.RX(-np.pi/2, wires=1)\n",
    "    qml.CNOT(wires=[0, 1])\n",
    "    qml.RX(np.pi/2, wires=1)\n",
    "    qml.RZ(-a[2]/2, wires=1)\n",
    "    qml.RX(-np.pi/2, wires=1)\n",
    "    qml.CNOT(wires=[0, 1])\n",
    "    qml.PauliX(wires=0)\n"
   ]
  },
  {
   "cell_type": "code",
   "execution_count": 168,
   "metadata": {},
   "outputs": [],
   "source": [
    "def statepreparation(a):\n",
    "    qml.RY(a[0], wires=0)\n",
    "\n",
    "    qml.CNOT(wires=[0, 1])\n",
    "    qml.RY(-a[1]/2, wires=1)\n",
    "    qml.CNOT(wires=[0, 1])\n",
    "    qml.RY(a[1]/2, wires=1)\n",
    "\n",
    "    qml.PauliX(wires=0)\n",
    "    qml.CNOT(wires=[0, 1])\n",
    "    qml.RY(-a[2]/2, wires=1)\n",
    "    qml.CNOT(wires=[0, 1])\n",
    "    qml.RY(a[2]/2, wires=1)\n",
    "    qml.PauliX(wires=0)"
   ]
  },
  {
   "cell_type": "code",
   "execution_count": 169,
   "metadata": {},
   "outputs": [
    {
     "name": "stdout",
     "output_type": "stream",
     "text": [
      "x               :  [0.53896774 0.79503606 0.27826503 0.        ]\n",
      "angles          :  [0.56397465 0.         1.95009208]\n",
      "amplitude vector:  [[0.53896774 0.79503606]\n",
      " [0.27826503 0.        ]]\n"
     ]
    }
   ],
   "source": [
    "x = np.array([0.53896774, 0.79503606, 0.27826503, 0.0])\n",
    "ang = get_angles(x)\n",
    "\n",
    "\n",
    "@qml.qnode(dev)\n",
    "def test(angles=None):\n",
    "\n",
    "    statepreparation(angles)\n",
    "\n",
    "    return qml.expval(qml.PauliZ(0))\n",
    "\n",
    "\n",
    "test(angles=ang)\n",
    "\n",
    "print(\"x               : \", x)\n",
    "print(\"angles          : \", ang)\n",
    "print(\"amplitude vector: \", np.real(dev._state))"
   ]
  },
  {
   "cell_type": "markdown",
   "metadata": {},
   "source": [
    "## Define the Layer"
   ]
  },
  {
   "cell_type": "code",
   "execution_count": 170,
   "metadata": {},
   "outputs": [],
   "source": [
    "def layer(W):\n",
    "    qml.Rot(W[0, 0], W[0, 1], W[0, 2], wires=0)\n",
    "    qml.Rot(W[1, 0], W[1, 1], W[1, 2], wires=1)\n",
    "    qml.CNOT(wires=[0, 1])"
   ]
  },
  {
   "cell_type": "markdown",
   "metadata": {},
   "source": [
    "## Build the Quantum Circuit, Define Cost Function, Create VQC"
   ]
  },
  {
   "cell_type": "code",
   "execution_count": 171,
   "metadata": {},
   "outputs": [],
   "source": [
    "@qml.qnode(dev)\n",
    "def circuit(weights, angles=None):\n",
    "    statepreparation(angles)\n",
    "\n",
    "    for W in weights:\n",
    "        layer(W)\n",
    "\n",
    "    return qml.expval(qml.PauliZ(0))\n",
    "\n",
    "\n",
    "def variational_classifier(var, angles=None):\n",
    "    weights = var[0]\n",
    "    bias = var[1]\n",
    "    return circuit(weights, angles=angles) + bias\n",
    "\n",
    "\n",
    "def cost(weights, features, labels):\n",
    "    predictions = [variational_classifier(weights, angles=f) for f in features]\n",
    "    return square_loss(labels, predictions)"
   ]
  },
  {
   "cell_type": "markdown",
   "metadata": {},
   "source": [
    "# Data Prep"
   ]
  },
  {
   "cell_type": "markdown",
   "metadata": {},
   "source": [
    "## Data (Padding), Normalization and Data Encoding"
   ]
  },
  {
   "cell_type": "code",
   "execution_count": 172,
   "metadata": {},
   "outputs": [
    {
     "name": "stdout",
     "output_type": "stream",
     "text": [
      "First X train sample (original)  : [ 3.96752304 -1.15630211]\n",
      "First X sample (padded)    : [ 3.96752304 -1.15630211  0.3         0.        ]\n",
      "First X train sample (normalized): [ 0.95753828 -0.27906669  0.07240323  0.        ]\n",
      "First features sample      : [0.14493328 0.         0.56717374]\n"
     ]
    }
   ],
   "source": [
    "# train and val\n",
    "\n",
    "print(\"First X train sample (original)  :\", X[0])\n",
    "\n",
    "# pad the vectors to size 2^2 with constant values\n",
    "padding = 0.3 * np.ones((len(X), 1))\n",
    "X_pad = np.c_[np.c_[X, padding], np.zeros((len(X), 1))]\n",
    "print(\"First X sample (padded)    :\", X_pad[0])\n",
    "\n",
    "# normalize each input\n",
    "normalization = np.sqrt(np.sum(X_pad ** 2, -1))\n",
    "X_norm = (X_pad.T / normalization).T\n",
    "print(\"First X train sample (normalized):\", X_norm[0])\n",
    "\n",
    "# angles for state preparation are new features\n",
    "features = np.array([get_angles(x) for x in X_norm])\n",
    "print(\"First features sample      :\", features[0])"
   ]
  },
  {
   "cell_type": "code",
   "execution_count": 173,
   "metadata": {},
   "outputs": [
    {
     "data": {
      "text/plain": [
       "1.0"
      ]
     },
     "execution_count": 173,
     "metadata": {},
     "output_type": "execute_result"
    }
   ],
   "source": [
    "sampel = 436\n",
    "np.sqrt(X_norm[sampel, 0]**2 + X_norm[sampel, 1]**2 + X_norm[sampel, 2]**2 + X_norm[sampel, 3]**2)"
   ]
  },
  {
   "cell_type": "code",
   "execution_count": 174,
   "metadata": {},
   "outputs": [
    {
     "name": "stdout",
     "output_type": "stream",
     "text": [
      "First X test sample (original)  : [4.83885093 0.44290373]\n",
      "First X sample (padded)    : [4.83885093 0.44290373 0.3        0.        ]\n",
      "First X test sample (normalized): [0.99394462 0.09097651 0.06162277 0.        ]\n",
      "First test features sample      : [0.12332367 0.         0.18255286]\n"
     ]
    }
   ],
   "source": [
    "print(\"First X test sample (original)  :\", X_test[0])\n",
    "\n",
    "# pad the vectors to size 2^2 with constant values\n",
    "padding = 0.3 * np.ones((len(X_test), 1))\n",
    "X_pad = np.c_[np.c_[X_test, padding], np.zeros((len(X_test), 1))]\n",
    "print(\"First X sample (padded)    :\", X_pad[0])\n",
    "\n",
    "# normalize each input\n",
    "normalization = np.sqrt(np.sum(X_pad ** 2, -1))\n",
    "X_norm = (X_pad.T / normalization).T\n",
    "print(\"First X test sample (normalized):\", X_norm[0])\n",
    "\n",
    "# angles for state preparation are new features\n",
    "feats_test = np.array([get_angles(x) for x in X_norm])\n",
    "print(\"First test features sample      :\", feats_test[0])"
   ]
  },
  {
   "cell_type": "code",
   "execution_count": 175,
   "metadata": {},
   "outputs": [
    {
     "data": {
      "text/plain": [
       "1.0"
      ]
     },
     "execution_count": 175,
     "metadata": {},
     "output_type": "execute_result"
    }
   ],
   "source": [
    "sampel = 17\n",
    "np.sqrt(X_norm[sampel, 0]**2 + X_norm[sampel, 1]**2 + X_norm[sampel, 2]**2 + X_norm[sampel, 3]**2)"
   ]
  },
  {
   "cell_type": "code",
   "execution_count": 176,
   "metadata": {},
   "outputs": [],
   "source": [
    "# split X and y to train and validation\n",
    "\n",
    "from sklearn.model_selection import train_test_split\n",
    "\n",
    "feats_train, feats_val, Y_train, Y_val = train_test_split(features, Y, test_size=0.2, random_state=2020)\n",
    "\n",
    "X_train, X_val, Y_train, Y_val = train_test_split(X, Y, test_size=0.2, random_state=2020)"
   ]
  },
  {
   "cell_type": "code",
   "execution_count": 177,
   "metadata": {},
   "outputs": [
    {
     "name": "stdout",
     "output_type": "stream",
     "text": [
      "(403, 2) (403, 3) (403,)\n",
      "(101, 2) (101, 3) (101,)\n",
      "(108, 2) (108, 3) (108,)\n"
     ]
    }
   ],
   "source": [
    "print(X_train.shape, feats_train.shape, Y_train.shape)\n",
    "print(X_val.shape, feats_val.shape, Y_val.shape)\n",
    "print(X_test.shape, feats_test.shape, Y_test.shape)"
   ]
  },
  {
   "cell_type": "markdown",
   "metadata": {},
   "source": [
    "# Training"
   ]
  },
  {
   "cell_type": "markdown",
   "metadata": {},
   "source": [
    "## Qubits, Layers and Weights Initialization"
   ]
  },
  {
   "cell_type": "code",
   "execution_count": 178,
   "metadata": {},
   "outputs": [],
   "source": [
    "# First we initialize the hyperparameters\n",
    "\n",
    "num_qubits = 2  # 4 label = 4 class = log2(4) quibits = 2 qubits\n",
    "num_layers = 12  # QNN layer\n",
    "learning_rate = 0.01\n",
    "\n",
    "opt = RMSPropOptimizer(stepsize=learning_rate)\n",
    "batch_size = 16\n",
    "max_iter = 100\n",
    "\n",
    "var_init = (0.01 * np.random.randn(num_layers, num_qubits, 3), 0.0)  # weights and bias initialization"
   ]
  },
  {
   "cell_type": "code",
   "execution_count": 179,
   "metadata": {},
   "outputs": [
    {
     "data": {
      "text/plain": [
       "403"
      ]
     },
     "execution_count": 179,
     "metadata": {},
     "output_type": "execute_result"
    }
   ],
   "source": [
    "num_train = X_train.shape[0]\n",
    "num_train"
   ]
  },
  {
   "cell_type": "markdown",
   "metadata": {},
   "source": [
    "## Training Iteration"
   ]
  },
  {
   "cell_type": "code",
   "execution_count": null,
   "metadata": {
    "scrolled": false
   },
   "outputs": [
    {
     "name": "stdout",
     "output_type": "stream",
     "text": [
      "Iter:     1 | Train Loss: 1.6519487 | Validation Loss: 1.6374214 | Train Acc: 0.4962779 | Validation Acc: 0.4950495 \n",
      "Iter:     2 | Train Loss: 1.3880184 | Validation Loss: 1.3618268 | Train Acc: 0.5037221 | Validation Acc: 0.5049505 \n",
      "Iter:     3 | Train Loss: 1.1216836 | Validation Loss: 1.0859268 | Train Acc: 0.5136476 | Validation Acc: 0.5148515 \n",
      "Iter:     4 | Train Loss: 1.1131704 | Validation Loss: 1.0685166 | Train Acc: 0.5161290 | Validation Acc: 0.5148515 \n",
      "Iter:     5 | Train Loss: 0.9694649 | Validation Loss: 0.9096052 | Train Acc: 0.5434243 | Validation Acc: 0.5445545 \n",
      "Iter:     6 | Train Loss: 0.9427609 | Validation Loss: 0.8735791 | Train Acc: 0.5459057 | Validation Acc: 0.5544554 \n",
      "Iter:     7 | Train Loss: 0.9029369 | Validation Loss: 0.8274793 | Train Acc: 0.5558313 | Validation Acc: 0.5742574 \n",
      "Iter:     8 | Train Loss: 0.8071575 | Validation Loss: 0.7182701 | Train Acc: 0.6873449 | Validation Acc: 0.7722772 \n",
      "Iter:     9 | Train Loss: 0.7782164 | Validation Loss: 0.6863979 | Train Acc: 0.7791563 | Validation Acc: 0.8613861 \n",
      "Iter:    10 | Train Loss: 0.7343487 | Validation Loss: 0.6279113 | Train Acc: 0.8089330 | Validation Acc: 0.8910891 \n",
      "Iter:    11 | Train Loss: 0.7017702 | Validation Loss: 0.5839826 | Train Acc: 0.7990074 | Validation Acc: 0.8910891 \n",
      "Iter:    12 | Train Loss: 0.6725794 | Validation Loss: 0.5439538 | Train Acc: 0.7990074 | Validation Acc: 0.8910891 \n",
      "Iter:    13 | Train Loss: 0.6551377 | Validation Loss: 0.5185437 | Train Acc: 0.7965261 | Validation Acc: 0.8811881 \n",
      "Iter:    14 | Train Loss: 0.6589920 | Validation Loss: 0.5222568 | Train Acc: 0.8014888 | Validation Acc: 0.8712871 \n",
      "Iter:    15 | Train Loss: 0.6625741 | Validation Loss: 0.5286697 | Train Acc: 0.8014888 | Validation Acc: 0.8910891 \n",
      "Iter:    16 | Train Loss: 0.6476887 | Validation Loss: 0.5073163 | Train Acc: 0.8014888 | Validation Acc: 0.8712871 \n",
      "Iter:    17 | Train Loss: 0.6427650 | Validation Loss: 0.4999761 | Train Acc: 0.7990074 | Validation Acc: 0.8910891 \n",
      "Iter:    18 | Train Loss: 0.6394351 | Validation Loss: 0.4946654 | Train Acc: 0.7965261 | Validation Acc: 0.9009901 \n",
      "Iter:    19 | Train Loss: 0.6525343 | Validation Loss: 0.5060362 | Train Acc: 0.7791563 | Validation Acc: 0.8712871 \n",
      "Iter:    20 | Train Loss: 0.6405778 | Validation Loss: 0.4950509 | Train Acc: 0.8039702 | Validation Acc: 0.8712871 \n",
      "Iter:    21 | Train Loss: 0.6427576 | Validation Loss: 0.4993380 | Train Acc: 0.8014888 | Validation Acc: 0.8910891 \n",
      "Iter:    22 | Train Loss: 0.6313532 | Validation Loss: 0.4829791 | Train Acc: 0.8039702 | Validation Acc: 0.8712871 \n",
      "Iter:    23 | Train Loss: 0.6333593 | Validation Loss: 0.4825485 | Train Acc: 0.7915633 | Validation Acc: 0.8712871 \n",
      "Iter:    24 | Train Loss: 0.6251226 | Validation Loss: 0.4735757 | Train Acc: 0.7990074 | Validation Acc: 0.8712871 \n",
      "Iter:    25 | Train Loss: 0.6291487 | Validation Loss: 0.4787230 | Train Acc: 0.7990074 | Validation Acc: 0.8712871 \n",
      "Iter:    26 | Train Loss: 0.6205482 | Validation Loss: 0.4684520 | Train Acc: 0.7990074 | Validation Acc: 0.8712871 \n",
      "Iter:    27 | Train Loss: 0.6157403 | Validation Loss: 0.4600224 | Train Acc: 0.7990074 | Validation Acc: 0.8712871 \n",
      "Iter:    28 | Train Loss: 0.6245006 | Validation Loss: 0.4689640 | Train Acc: 0.7841191 | Validation Acc: 0.8811881 \n",
      "Iter:    29 | Train Loss: 0.6123366 | Validation Loss: 0.4534536 | Train Acc: 0.7990074 | Validation Acc: 0.8712871 \n",
      "Iter:    30 | Train Loss: 0.6156242 | Validation Loss: 0.4583957 | Train Acc: 0.7965261 | Validation Acc: 0.8811881 \n",
      "Iter:    31 | Train Loss: 0.6132841 | Validation Loss: 0.4586313 | Train Acc: 0.8039702 | Validation Acc: 0.8712871 \n",
      "Iter:    32 | Train Loss: 0.6182616 | Validation Loss: 0.4609670 | Train Acc: 0.7965261 | Validation Acc: 0.8811881 \n",
      "Iter:    33 | Train Loss: 0.6182217 | Validation Loss: 0.4603862 | Train Acc: 0.7940447 | Validation Acc: 0.8811881 \n",
      "Iter:    34 | Train Loss: 0.6121733 | Validation Loss: 0.4528291 | Train Acc: 0.7940447 | Validation Acc: 0.8712871 \n",
      "Iter:    35 | Train Loss: 0.6142632 | Validation Loss: 0.4537999 | Train Acc: 0.7965261 | Validation Acc: 0.8712871 \n",
      "Iter:    36 | Train Loss: 0.6104957 | Validation Loss: 0.4489919 | Train Acc: 0.8014888 | Validation Acc: 0.8712871 \n",
      "Iter:    37 | Train Loss: 0.6103911 | Validation Loss: 0.4504220 | Train Acc: 0.7990074 | Validation Acc: 0.8712871 \n",
      "Iter:    38 | Train Loss: 0.6100544 | Validation Loss: 0.4505743 | Train Acc: 0.8039702 | Validation Acc: 0.8712871 \n",
      "Iter:    39 | Train Loss: 0.6098864 | Validation Loss: 0.4482685 | Train Acc: 0.7990074 | Validation Acc: 0.8712871 \n",
      "Iter:    40 | Train Loss: 0.6098723 | Validation Loss: 0.4484566 | Train Acc: 0.7990074 | Validation Acc: 0.8712871 \n",
      "Iter:    41 | Train Loss: 0.6065761 | Validation Loss: 0.4440680 | Train Acc: 0.7915633 | Validation Acc: 0.8712871 \n",
      "Iter:    42 | Train Loss: 0.6192014 | Validation Loss: 0.4599680 | Train Acc: 0.7915633 | Validation Acc: 0.8811881 \n",
      "Iter:    43 | Train Loss: 0.6091900 | Validation Loss: 0.4484015 | Train Acc: 0.7990074 | Validation Acc: 0.8712871 \n",
      "Iter:    44 | Train Loss: 0.6243500 | Validation Loss: 0.4653403 | Train Acc: 0.7841191 | Validation Acc: 0.8712871 \n",
      "Iter:    45 | Train Loss: 0.6471364 | Validation Loss: 0.4901029 | Train Acc: 0.7841191 | Validation Acc: 0.8811881 \n",
      "Iter:    46 | Train Loss: 0.6102211 | Validation Loss: 0.4504821 | Train Acc: 0.7940447 | Validation Acc: 0.8712871 \n",
      "Iter:    47 | Train Loss: 0.6166634 | Validation Loss: 0.4570277 | Train Acc: 0.7965261 | Validation Acc: 0.8811881 \n",
      "Iter:    48 | Train Loss: 0.6080778 | Validation Loss: 0.4477327 | Train Acc: 0.7990074 | Validation Acc: 0.8712871 \n",
      "Iter:    49 | Train Loss: 0.6058719 | Validation Loss: 0.4450574 | Train Acc: 0.8014888 | Validation Acc: 0.8712871 \n",
      "Iter:    50 | Train Loss: 0.6092081 | Validation Loss: 0.4494050 | Train Acc: 0.7940447 | Validation Acc: 0.8712871 \n",
      "Iter:    51 | Train Loss: 0.6092178 | Validation Loss: 0.4486468 | Train Acc: 0.7990074 | Validation Acc: 0.8712871 \n",
      "Iter:    52 | Train Loss: 0.6612419 | Validation Loss: 0.5075634 | Train Acc: 0.7866005 | Validation Acc: 0.8811881 \n",
      "Iter:    53 | Train Loss: 0.6083986 | Validation Loss: 0.4506390 | Train Acc: 0.7990074 | Validation Acc: 0.8712871 \n",
      "Iter:    54 | Train Loss: 0.6070655 | Validation Loss: 0.4524964 | Train Acc: 0.7940447 | Validation Acc: 0.8712871 \n",
      "Iter:    55 | Train Loss: 0.6087546 | Validation Loss: 0.4477961 | Train Acc: 0.7940447 | Validation Acc: 0.8712871 \n",
      "Iter:    56 | Train Loss: 0.6296639 | Validation Loss: 0.4707537 | Train Acc: 0.7940447 | Validation Acc: 0.8910891 \n",
      "Iter:    57 | Train Loss: 0.6432935 | Validation Loss: 0.4864883 | Train Acc: 0.7816377 | Validation Acc: 0.8811881 \n",
      "Iter:    58 | Train Loss: 0.6487439 | Validation Loss: 0.4922092 | Train Acc: 0.7890819 | Validation Acc: 0.8811881 \n",
      "Iter:    59 | Train Loss: 0.6539318 | Validation Loss: 0.4975493 | Train Acc: 0.7866005 | Validation Acc: 0.8811881 \n",
      "Iter:    60 | Train Loss: 0.6089379 | Validation Loss: 0.4479624 | Train Acc: 0.7940447 | Validation Acc: 0.8712871 \n",
      "Iter:    61 | Train Loss: 0.6109587 | Validation Loss: 0.4539904 | Train Acc: 0.7990074 | Validation Acc: 0.8712871 \n",
      "Iter:    62 | Train Loss: 0.6062521 | Validation Loss: 0.4484354 | Train Acc: 0.7940447 | Validation Acc: 0.8712871 \n",
      "Iter:    63 | Train Loss: 0.6044696 | Validation Loss: 0.4414661 | Train Acc: 0.8039702 | Validation Acc: 0.8712871 \n",
      "Iter:    64 | Train Loss: 0.6068545 | Validation Loss: 0.4446100 | Train Acc: 0.7990074 | Validation Acc: 0.8712871 \n",
      "Iter:    65 | Train Loss: 0.6184006 | Validation Loss: 0.4581791 | Train Acc: 0.7915633 | Validation Acc: 0.8811881 \n",
      "Iter:    66 | Train Loss: 0.6147461 | Validation Loss: 0.4540157 | Train Acc: 0.7965261 | Validation Acc: 0.8811881 \n",
      "Iter:    67 | Train Loss: 0.6048218 | Validation Loss: 0.4427213 | Train Acc: 0.7915633 | Validation Acc: 0.8712871 \n",
      "Iter:    68 | Train Loss: 0.6044082 | Validation Loss: 0.4419122 | Train Acc: 0.7915633 | Validation Acc: 0.8712871 \n",
      "Iter:    69 | Train Loss: 0.6070719 | Validation Loss: 0.4448364 | Train Acc: 0.7990074 | Validation Acc: 0.8712871 \n",
      "Iter:    70 | Train Loss: 0.6172523 | Validation Loss: 0.4569260 | Train Acc: 0.7915633 | Validation Acc: 0.8811881 \n",
      "Iter:    71 | Train Loss: 0.6065992 | Validation Loss: 0.4446321 | Train Acc: 0.7990074 | Validation Acc: 0.8712871 \n"
     ]
    },
    {
     "name": "stdout",
     "output_type": "stream",
     "text": [
      "Iter:    72 | Train Loss: 0.6158349 | Validation Loss: 0.4551883 | Train Acc: 0.7940447 | Validation Acc: 0.8811881 \n",
      "Iter:    73 | Train Loss: 0.6065307 | Validation Loss: 0.4437881 | Train Acc: 0.7990074 | Validation Acc: 0.8712871 \n",
      "Iter:    74 | Train Loss: 0.6439837 | Validation Loss: 0.4879186 | Train Acc: 0.7841191 | Validation Acc: 0.8811881 \n",
      "Iter:    75 | Train Loss: 0.6353041 | Validation Loss: 0.4783461 | Train Acc: 0.7915633 | Validation Acc: 0.8910891 \n",
      "Iter:    76 | Train Loss: 0.6058180 | Validation Loss: 0.4558290 | Train Acc: 0.8014888 | Validation Acc: 0.8712871 \n",
      "Iter:    77 | Train Loss: 0.6481175 | Validation Loss: 0.4914656 | Train Acc: 0.7866005 | Validation Acc: 0.8811881 \n"
     ]
    }
   ],
   "source": [
    "# training\n",
    "\n",
    "# array to save the training & val accuracy and loss history as the training goes\n",
    "train_history = np.array([])\n",
    "val_history = np.array([])\n",
    "train_loss_history = np.array([])\n",
    "val_loss_history = np.array([])\n",
    "iter_history = np.array([])\n",
    "\n",
    "var = var_init\n",
    "\n",
    "\n",
    "# train the variational classifier\n",
    "for it in range(max_iter):\n",
    "\n",
    "    # Update the weights by one optimizer step\n",
    "    batch_index = np.random.randint(0, num_train, (batch_size,))\n",
    "    feats_train_batch = feats_train[batch_index]\n",
    "    Y_train_batch = Y_train[batch_index]\n",
    "    var = opt.step(lambda v: cost(v, feats_train_batch, Y_train_batch), var)\n",
    "\n",
    "    # Compute predictions on train and validation set\n",
    "    predictions_train = [np.sign(variational_classifier(var, angles=f)) for f in feats_train]\n",
    "    predictions_val = [np.sign(variational_classifier(var, angles=f)) for f in feats_val]\n",
    "\n",
    "    # Compute accuracy on train and validation set\n",
    "    acc_train = accuracy(Y_train, predictions_train)\n",
    "    acc_val = accuracy(Y_val, predictions_val)\n",
    "\n",
    "    train_loss = cost(var, feats_train, Y_train)\n",
    "    val_loss = cost(var, feats_val, Y_val)\n",
    "    \n",
    "    print(\n",
    "        \"Iter: {:5d} | Train Loss: {:0.7f} | Validation Loss: {:0.7f} | Train Acc: {:0.7f} | Validation Acc: {:0.7f} \"\n",
    "        \"\".format(it + 1, train_loss, val_loss, acc_train, acc_val)\n",
    "    )\n",
    "    \n",
    "    iter_history = np.append(iter_history, it+1)\n",
    "    train_loss_history = np.append(train_loss_history, train_loss)\n",
    "    val_loss_history = np.append(val_loss_history, val_loss)\n",
    "    train_history = np.append(train_history, acc_train)\n",
    "    val_history = np.append(val_history, acc_val)\n",
    "    \n",
    "print(\"The training session is finished\")"
   ]
  },
  {
   "cell_type": "code",
   "execution_count": 153,
   "metadata": {},
   "outputs": [
    {
     "data": {
      "image/png": "[encoded data removed]",
      "text/plain": [
       "<Figure size 432x288 with 1 Axes>"
      ]
     },
     "metadata": {
      "needs_background": "light"
     },
     "output_type": "display_data"
    }
   ],
   "source": [
    "# plot acc train, acc val\n",
    "\n",
    "plt.plot(iter_history, train_history, color='blue', label='Akurasi Latih')\n",
    "plt.plot(iter_history, val_history, color='red', label='Akurasi Validasi')\n",
    "\n",
    "plt.ylabel('Akurasi')\n",
    "plt.xlabel('Iterasi')\n",
    "plt.title(\"Akurasi Latih dan Validasi Label \" + str(label) + \" Lawan Semua\")\n",
    "\n",
    "plt.legend()\n",
    "plt.show()"
   ]
  },
  {
   "cell_type": "code",
   "execution_count": 154,
   "metadata": {},
   "outputs": [
    {
     "data": {
      "image/png": "[encoded data removed]",
      "text/plain": [
       "<Figure size 432x288 with 1 Axes>"
      ]
     },
     "metadata": {
      "needs_background": "light"
     },
     "output_type": "display_data"
    }
   ],
   "source": [
    "# plot loss train, loss val\n",
    "\n",
    "plt.plot(iter_history, train_loss_history, color='blue', label='Loss Latih')\n",
    "plt.plot(iter_history, val_loss_history, color='red', label='Loss Validasi')\n",
    "\n",
    "plt.ylabel('Loss')\n",
    "plt.xlabel('Iterasi')\n",
    "plt.title(\"Loss (MSE Terbobot) Latih dan Validasi Label \" + str(label) + \" Lawan Semua\")\n",
    "\n",
    "plt.legend()\n",
    "plt.show()"
   ]
  },
  {
   "cell_type": "code",
   "execution_count": 309,
   "metadata": {},
   "outputs": [],
   "source": [
    "train_val_acc_hist = np.concatenate((train_history.reshape(-1,1), val_history.reshape(-1,1)), axis=1)\n",
    "train_val_loss_hist = np.concatenate((train_loss_history.reshape(-1,1), val_loss_history.reshape(-1,1)), axis=1)"
   ]
  },
  {
   "cell_type": "code",
   "execution_count": 310,
   "metadata": {},
   "outputs": [],
   "source": [
    "# save numpy array as csv file\n",
    "from numpy import asarray\n",
    "from numpy import savetxt, loadtxt\n",
    "\n",
    "def save_to_csv(data, file_name):\n",
    "    # save to csv file\n",
    "    savetxt(file_name, data, delimiter=',')\n",
    "    \n",
    "def load_from_csv(file_name):\n",
    "    # load from csv file\n",
    "    return loadtxt(file_name, delimiter=',')"
   ]
  },
  {
   "cell_type": "code",
   "execution_count": 311,
   "metadata": {},
   "outputs": [],
   "source": [
    "save_to_csv(train_val_acc_hist, \"C:/Users/user/quantum_image_classifier/PennyLane/Model & Hasil Training/\" + str(label) + \"/train_val_acc_hist.txt\")\n",
    "save_to_csv(train_val_loss_hist, \"C:/Users/user/quantum_image_classifier/PennyLane/Model & Hasil Training/\" + str(label) + \"/train_val_loss_hist.txt\")"
   ]
  },
  {
   "cell_type": "code",
   "execution_count": 300,
   "metadata": {},
   "outputs": [
    {
     "name": "stdout",
     "output_type": "stream",
     "text": [
      "0.91 9.259276154885391\n"
     ]
    }
   ],
   "source": [
    "# Compute predictions on train and validation set\n",
    "predictions_test = [np.sign(variational_classifier(var, angles=f)) for f in feats_test]\n",
    "\n",
    "# Compute accuracy on train and validation set\n",
    "acc_test = accuracy(Y_test, predictions_test)\n",
    "\n",
    "test_loss = cost(var, feats_test, Y_test)\n",
    "\n",
    "print(acc_test, test_loss)"
   ]
  },
  {
   "cell_type": "code",
   "execution_count": 305,
   "metadata": {},
   "outputs": [],
   "source": [
    "def confusion_matrix(labels, predictions):\n",
    "    cost_matrix=np.array([[0, 0.9], [0.1, 0]])\n",
    "    \n",
    "    TP = 0\n",
    "    TN = 0\n",
    "    FP = 0\n",
    "    FN = 0\n",
    "    \n",
    "    # count the TP, TN, FP, and FN\n",
    "    for l, p in zip(labels, predictions):\n",
    "        if l == 1:\n",
    "            if p == 1:\n",
    "                TP += 1\n",
    "            else:\n",
    "                FN += 1\n",
    "        else:\n",
    "            if p == 1:\n",
    "                FP += 1\n",
    "            else:\n",
    "                TN += 1\n",
    "            \n",
    "    # create the confusion matrix\n",
    "    CM = np.array([[TN, FN], [FP, TP]])\n",
    "    \n",
    "    return CM"
   ]
  },
  {
   "cell_type": "code",
   "execution_count": 306,
   "metadata": {},
   "outputs": [
    {
     "data": {
      "text/plain": [
       "tensor([[89,  8],\n",
       "        [ 1,  2]], requires_grad=True)"
      ]
     },
     "execution_count": 306,
     "metadata": {},
     "output_type": "execute_result"
    }
   ],
   "source": [
    "confusion_matrix(Y_test, predictions_test)"
   ]
  },
  {
   "cell_type": "code",
   "execution_count": null,
   "metadata": {},
   "outputs": [],
   "source": []
  }
 ],
 "metadata": {
  "kernelspec": {
   "display_name": "Python 3",
   "language": "python",
   "name": "python3"
  },
  "language_info": {
   "codemirror_mode": {
    "name": "ipython",
    "version": 3
   },
   "file_extension": ".py",
   "mimetype": "text/x-python",
   "name": "python",
   "nbconvert_exporter": "python",
   "pygments_lexer": "ipython3",
   "version": "3.7.4"
  }
 },
 "nbformat": 4,
 "nbformat_minor": 2
}
