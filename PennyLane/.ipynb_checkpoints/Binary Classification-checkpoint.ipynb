{
 "cells": [
  {
   "cell_type": "code",
   "execution_count": null,
   "metadata": {
    "colab": {
     "base_uri": "https://localhost:8080/"
    },
    "executionInfo": {
     "elapsed": 29842,
     "status": "ok",
     "timestamp": 1609685441885,
     "user": {
      "displayName": "Eraraya Ricardo Muten",
      "photoUrl": "https://lh3.googleusercontent.com/a-/AOh14Ggpw7xw-lyk6u6l92QjpI7MlI7qjJuuciCpwrUd=s64",
      "userId": "03770692095188133952"
     },
     "user_tz": -420
    },
    "id": "e4abR9zSaWNk",
    "outputId": "3981f192-7317-4ce8-cb08-00c04da2c62a"
   },
   "outputs": [
    {
     "name": "stdout",
     "output_type": "stream",
     "text": [
      "/content/drive\n",
      "Mounted at /content/drive\n"
     ]
    }
   ],
   "source": [
    "# Mount Google Drive\n",
    "from google.colab import drive # import drive from google colab\n",
    " \n",
    "ROOT = \"/content/drive\"     # default location for the drive\n",
    "print(ROOT)                 # print content of ROOT (Optional)\n",
    " \n",
    "drive.mount(ROOT)           # we mount the google drive at /content/drive"
   ]
  },
  {
   "cell_type": "code",
   "execution_count": 1,
   "metadata": {
    "executionInfo": {
     "elapsed": 5280,
     "status": "ok",
     "timestamp": 1609765955562,
     "user": {
      "displayName": "Eraraya Ricardo Muten",
      "photoUrl": "https://lh3.googleusercontent.com/a-/AOh14Ggpw7xw-lyk6u6l92QjpI7MlI7qjJuuciCpwrUd=s64",
      "userId": "03770692095188133952"
     },
     "user_tz": -420
    },
    "id": "gk5AKGKcYGOo"
   },
   "outputs": [],
   "source": [
    "!pip install pennylane\n",
    "from IPython.display import clear_output\n",
    "clear_output()"
   ]
  },
  {
   "cell_type": "code",
   "execution_count": null,
   "metadata": {
    "id": "GigSJusGbx1b"
   },
   "outputs": [],
   "source": [
    "import os\n",
    "\n",
    "def restart_runtime():\n",
    "  os.kill(os.getpid(), 9)\n",
    "restart_runtime()"
   ]
  },
  {
   "cell_type": "code",
   "execution_count": 1,
   "metadata": {
    "executionInfo": {
     "elapsed": 6281,
     "status": "ok",
     "timestamp": 1609765967545,
     "user": {
      "displayName": "Eraraya Ricardo Muten",
      "photoUrl": "https://lh3.googleusercontent.com/a-/AOh14Ggpw7xw-lyk6u6l92QjpI7MlI7qjJuuciCpwrUd=s64",
      "userId": "03770692095188133952"
     },
     "user_tz": -420
    },
    "id": "HoLmJLkIX810"
   },
   "outputs": [],
   "source": [
    "# %matplotlib inline\n",
    "import matplotlib.pyplot as plt\n",
    "from mpl_toolkits.axes_grid1 import make_axes_locatable\n",
    "\n",
    "import pennylane as qml\n",
    "from pennylane import numpy as np"
   ]
  },
  {
   "cell_type": "markdown",
   "metadata": {
    "id": "vZFNOwFXoY8N"
   },
   "source": [
    "# Loading Raw Data"
   ]
  },
  {
   "cell_type": "code",
   "execution_count": 2,
   "metadata": {
    "colab": {
     "base_uri": "https://localhost:8080/"
    },
    "executionInfo": {
     "elapsed": 1859,
     "status": "ok",
     "timestamp": 1609765970879,
     "user": {
      "displayName": "Eraraya Ricardo Muten",
      "photoUrl": "https://lh3.googleusercontent.com/a-/AOh14Ggpw7xw-lyk6u6l92QjpI7MlI7qjJuuciCpwrUd=s64",
      "userId": "03770692095188133952"
     },
     "user_tz": -420
    },
    "id": "IvdFsGCVof9g",
    "outputId": "cf4ac76e-e883-44cb-cf41-3c98e4697a9a"
   },
   "outputs": [
    {
     "name": "stdout",
     "output_type": "stream",
     "text": [
      "Downloading data from https://storage.googleapis.com/tensorflow/tf-keras-datasets/mnist.npz\n",
      "11493376/11490434 [==============================] - 0s 0us/step\n"
     ]
    }
   ],
   "source": [
    "import tensorflow as tf\n",
    "\n",
    "(x_train, y_train), (x_test, y_test) = tf.keras.datasets.mnist.load_data()"
   ]
  },
  {
   "cell_type": "code",
   "execution_count": 3,
   "metadata": {
    "executionInfo": {
     "elapsed": 907,
     "status": "ok",
     "timestamp": 1609765970880,
     "user": {
      "displayName": "Eraraya Ricardo Muten",
      "photoUrl": "https://lh3.googleusercontent.com/a-/AOh14Ggpw7xw-lyk6u6l92QjpI7MlI7qjJuuciCpwrUd=s64",
      "userId": "03770692095188133952"
     },
     "user_tz": -420
    },
    "id": "c6zvGFvIoxAN"
   },
   "outputs": [],
   "source": [
    "x_train_flatten = x_train.reshape(x_train.shape[0], x_train.shape[1]*x_train.shape[2])/255.0\n",
    "x_test_flatten = x_test.reshape(x_test.shape[0], x_test.shape[1]*x_test.shape[2])/255.0"
   ]
  },
  {
   "cell_type": "code",
   "execution_count": 4,
   "metadata": {
    "colab": {
     "base_uri": "https://localhost:8080/"
    },
    "executionInfo": {
     "elapsed": 1141,
     "status": "ok",
     "timestamp": 1609765971376,
     "user": {
      "displayName": "Eraraya Ricardo Muten",
      "photoUrl": "https://lh3.googleusercontent.com/a-/AOh14Ggpw7xw-lyk6u6l92QjpI7MlI7qjJuuciCpwrUd=s64",
      "userId": "03770692095188133952"
     },
     "user_tz": -420
    },
    "id": "Rmj1dzaso00h",
    "outputId": "0868100b-7634-4310-e8d5-3f2c2dd15787"
   },
   "outputs": [
    {
     "name": "stdout",
     "output_type": "stream",
     "text": [
      "(60000, 784) (60000,)\n",
      "(10000, 784) (10000,)\n"
     ]
    }
   ],
   "source": [
    "print(x_train_flatten.shape, y_train.shape)\n",
    "print(x_test_flatten.shape, y_test.shape)"
   ]
  },
  {
   "cell_type": "code",
   "execution_count": 5,
   "metadata": {
    "colab": {
     "base_uri": "https://localhost:8080/"
    },
    "executionInfo": {
     "elapsed": 1428,
     "status": "ok",
     "timestamp": 1609765971954,
     "user": {
      "displayName": "Eraraya Ricardo Muten",
      "photoUrl": "https://lh3.googleusercontent.com/a-/AOh14Ggpw7xw-lyk6u6l92QjpI7MlI7qjJuuciCpwrUd=s64",
      "userId": "03770692095188133952"
     },
     "user_tz": -420
    },
    "id": "d10VoIC6o5_I",
    "outputId": "0f2a91d0-d22c-4ef9-c8fd-22f681a67213"
   },
   "outputs": [
    {
     "name": "stdout",
     "output_type": "stream",
     "text": [
      "(5923, 784)\n",
      "(6742, 784)\n",
      "(5958, 784)\n",
      "(6131, 784)\n",
      "(5842, 784)\n",
      "(5421, 784)\n",
      "(5918, 784)\n",
      "(6265, 784)\n",
      "(5851, 784)\n",
      "(5949, 784)\n"
     ]
    }
   ],
   "source": [
    "x_train_0 = x_train_flatten[y_train == 0]\n",
    "x_train_1 = x_train_flatten[y_train == 1]\n",
    "x_train_2 = x_train_flatten[y_train == 2]\n",
    "x_train_3 = x_train_flatten[y_train == 3]\n",
    "x_train_4 = x_train_flatten[y_train == 4]\n",
    "x_train_5 = x_train_flatten[y_train == 5]\n",
    "x_train_6 = x_train_flatten[y_train == 6]\n",
    "x_train_7 = x_train_flatten[y_train == 7]\n",
    "x_train_8 = x_train_flatten[y_train == 8]\n",
    "x_train_9 = x_train_flatten[y_train == 9]\n",
    "\n",
    "x_train_list = [x_train_0, x_train_1, x_train_2, x_train_3, x_train_4, x_train_5, x_train_6, x_train_7, x_train_8, x_train_9]\n",
    "\n",
    "print(x_train_0.shape)\n",
    "print(x_train_1.shape)\n",
    "print(x_train_2.shape)\n",
    "print(x_train_3.shape)\n",
    "print(x_train_4.shape)\n",
    "print(x_train_5.shape)\n",
    "print(x_train_6.shape)\n",
    "print(x_train_7.shape)\n",
    "print(x_train_8.shape)\n",
    "print(x_train_9.shape)"
   ]
  },
  {
   "cell_type": "code",
   "execution_count": 6,
   "metadata": {
    "colab": {
     "base_uri": "https://localhost:8080/"
    },
    "executionInfo": {
     "elapsed": 1814,
     "status": "ok",
     "timestamp": 1609765973536,
     "user": {
      "displayName": "Eraraya Ricardo Muten",
      "photoUrl": "https://lh3.googleusercontent.com/a-/AOh14Ggpw7xw-lyk6u6l92QjpI7MlI7qjJuuciCpwrUd=s64",
      "userId": "03770692095188133952"
     },
     "user_tz": -420
    },
    "id": "snFw4LqepFOl",
    "outputId": "c5e10ccf-5238-4028-f1e4-22ef44e372ca"
   },
   "outputs": [
    {
     "name": "stdout",
     "output_type": "stream",
     "text": [
      "(980, 784)\n",
      "(1135, 784)\n",
      "(1032, 784)\n",
      "(1010, 784)\n",
      "(982, 784)\n",
      "(892, 784)\n",
      "(958, 784)\n",
      "(1028, 784)\n",
      "(974, 784)\n",
      "(1009, 784)\n"
     ]
    }
   ],
   "source": [
    "x_test_0 = x_test_flatten[y_test == 0]\n",
    "x_test_1 = x_test_flatten[y_test == 1]\n",
    "x_test_2 = x_test_flatten[y_test == 2]\n",
    "x_test_3 = x_test_flatten[y_test == 3]\n",
    "x_test_4 = x_test_flatten[y_test == 4]\n",
    "x_test_5 = x_test_flatten[y_test == 5]\n",
    "x_test_6 = x_test_flatten[y_test == 6]\n",
    "x_test_7 = x_test_flatten[y_test == 7]\n",
    "x_test_8 = x_test_flatten[y_test == 8]\n",
    "x_test_9 = x_test_flatten[y_test == 9]\n",
    "\n",
    "x_test_list = [x_test_0, x_test_1, x_test_2, x_test_3, x_test_4, x_test_5, x_test_6, x_test_7, x_test_8, x_test_9]\n",
    "\n",
    "print(x_test_0.shape)\n",
    "print(x_test_1.shape)\n",
    "print(x_test_2.shape)\n",
    "print(x_test_3.shape)\n",
    "print(x_test_4.shape)\n",
    "print(x_test_5.shape)\n",
    "print(x_test_6.shape)\n",
    "print(x_test_7.shape)\n",
    "print(x_test_8.shape)\n",
    "print(x_test_9.shape)"
   ]
  },
  {
   "cell_type": "markdown",
   "metadata": {
    "id": "SAxUS6Lhp95g"
   },
   "source": [
    "# Selecting the dataset\n",
    "\n",
    "Output: X_train, Y_train, X_test, Y_test"
   ]
  },
  {
   "cell_type": "code",
   "execution_count": 7,
   "metadata": {
    "colab": {
     "base_uri": "https://localhost:8080/"
    },
    "executionInfo": {
     "elapsed": 1404,
     "status": "ok",
     "timestamp": 1609765976440,
     "user": {
      "displayName": "Eraraya Ricardo Muten",
      "photoUrl": "https://lh3.googleusercontent.com/a-/AOh14Ggpw7xw-lyk6u6l92QjpI7MlI7qjJuuciCpwrUd=s64",
      "userId": "03770692095188133952"
     },
     "user_tz": -420
    },
    "id": "f--pX5Oto_XB",
    "outputId": "c3191ce5-9e08-44da-b6bc-54a9c819e956"
   },
   "outputs": [
    {
     "data": {
      "text/plain": [
       "((200, 784), (200,))"
      ]
     },
     "execution_count": 7,
     "metadata": {
      "tags": []
     },
     "output_type": "execute_result"
    }
   ],
   "source": [
    "X_train = np.concatenate((x_train_list[0][:100, :], x_train_list[1][:100, :]), axis=0)\n",
    "Y_train = np.zeros((X_train.shape[0],))\n",
    "Y_train[100:] += 1\n",
    "\n",
    "X_train.shape, Y_train.shape"
   ]
  },
  {
   "cell_type": "code",
   "execution_count": 8,
   "metadata": {
    "colab": {
     "base_uri": "https://localhost:8080/"
    },
    "executionInfo": {
     "elapsed": 1779,
     "status": "ok",
     "timestamp": 1609765977076,
     "user": {
      "displayName": "Eraraya Ricardo Muten",
      "photoUrl": "https://lh3.googleusercontent.com/a-/AOh14Ggpw7xw-lyk6u6l92QjpI7MlI7qjJuuciCpwrUd=s64",
      "userId": "03770692095188133952"
     },
     "user_tz": -420
    },
    "id": "W_SHH9e3rqwG",
    "outputId": "628946c0-61d8-445d-864c-760c2ace163a"
   },
   "outputs": [
    {
     "data": {
      "text/plain": [
       "((50, 784), (50,))"
      ]
     },
     "execution_count": 8,
     "metadata": {
      "tags": []
     },
     "output_type": "execute_result"
    }
   ],
   "source": [
    "X_test = np.concatenate((x_test_list[0][:25, :], x_test_list[1][:25, :]), axis=0)\n",
    "Y_test = np.zeros((X_test.shape[0],))\n",
    "Y_test[25:] += 1\n",
    "\n",
    "X_test.shape, Y_test.shape"
   ]
  },
  {
   "cell_type": "markdown",
   "metadata": {
    "id": "F_4AcCtNsC8o"
   },
   "source": [
    "# Dataset Preprocessing (Standardization + PCA)"
   ]
  },
  {
   "cell_type": "markdown",
   "metadata": {
    "id": "QP-6XdVPsfxC"
   },
   "source": [
    "## Standardization"
   ]
  },
  {
   "cell_type": "code",
   "execution_count": 9,
   "metadata": {
    "executionInfo": {
     "elapsed": 1186,
     "status": "ok",
     "timestamp": 1609765978326,
     "user": {
      "displayName": "Eraraya Ricardo Muten",
      "photoUrl": "https://lh3.googleusercontent.com/a-/AOh14Ggpw7xw-lyk6u6l92QjpI7MlI7qjJuuciCpwrUd=s64",
      "userId": "03770692095188133952"
     },
     "user_tz": -420
    },
    "id": "EDtzCvTur6BR"
   },
   "outputs": [],
   "source": [
    "def normalize(X, use_params=False, params=None):\n",
    "    \"\"\"Normalize the given dataset X\n",
    "    Args:\n",
    "        X: ndarray, dataset\n",
    "    \n",
    "    Returns:\n",
    "        (Xbar, mean, std): tuple of ndarray, Xbar is the normalized dataset\n",
    "        with mean 0 and standard deviation 1; mean and std are the \n",
    "        mean and standard deviation respectively.\n",
    "    \n",
    "    Note:\n",
    "        You will encounter dimensions where the standard deviation is\n",
    "        zero, for those when you do normalization the normalized data\n",
    "        will be NaN. Handle this by setting using `std = 1` for those \n",
    "        dimensions when doing normalization.\n",
    "    \"\"\"\n",
    "    if use_params:\n",
    "        mu = params[0]\n",
    "        std_filled = [1]\n",
    "    else:\n",
    "        mu = np.mean(X, axis=0)\n",
    "        std = np.std(X, axis=0)\n",
    "        #std_filled = std.copy()\n",
    "    #std_filled[std==0] = 1.\n",
    "    Xbar = (X - mu)/(std + 1e-8)\n",
    "    return Xbar, mu, std\n"
   ]
  },
  {
   "cell_type": "code",
   "execution_count": 10,
   "metadata": {
    "colab": {
     "base_uri": "https://localhost:8080/"
    },
    "executionInfo": {
     "elapsed": 781,
     "status": "ok",
     "timestamp": 1609765979007,
     "user": {
      "displayName": "Eraraya Ricardo Muten",
      "photoUrl": "https://lh3.googleusercontent.com/a-/AOh14Ggpw7xw-lyk6u6l92QjpI7MlI7qjJuuciCpwrUd=s64",
      "userId": "03770692095188133952"
     },
     "user_tz": -420
    },
    "id": "Ma2r_EXQsHYJ",
    "outputId": "0224bff2-35e4-42bc-f200-c3190764014b"
   },
   "outputs": [
    {
     "data": {
      "text/plain": [
       "((200, 784), (200,))"
      ]
     },
     "execution_count": 10,
     "metadata": {
      "tags": []
     },
     "output_type": "execute_result"
    }
   ],
   "source": [
    "X_train, mu_train, std_train = normalize(X_train)\n",
    "X_train.shape, Y_train.shape"
   ]
  },
  {
   "cell_type": "code",
   "execution_count": 11,
   "metadata": {
    "colab": {
     "base_uri": "https://localhost:8080/"
    },
    "executionInfo": {
     "elapsed": 1089,
     "status": "ok",
     "timestamp": 1609765979656,
     "user": {
      "displayName": "Eraraya Ricardo Muten",
      "photoUrl": "https://lh3.googleusercontent.com/a-/AOh14Ggpw7xw-lyk6u6l92QjpI7MlI7qjJuuciCpwrUd=s64",
      "userId": "03770692095188133952"
     },
     "user_tz": -420
    },
    "id": "p8DrXKvutdFL",
    "outputId": "819437be-4df3-4ab7-e6cf-d6faf9ca6a0e"
   },
   "outputs": [
    {
     "data": {
      "text/plain": [
       "((50, 784), (200,))"
      ]
     },
     "execution_count": 11,
     "metadata": {
      "tags": []
     },
     "output_type": "execute_result"
    }
   ],
   "source": [
    "X_test = (X_test - mu_train)/(std_train + 1e-8)\n",
    "X_test.shape, Y_train.shape"
   ]
  },
  {
   "cell_type": "markdown",
   "metadata": {
    "id": "BwikC3mysh4L"
   },
   "source": [
    "## PCA"
   ]
  },
  {
   "cell_type": "code",
   "execution_count": 12,
   "metadata": {
    "executionInfo": {
     "elapsed": 2095,
     "status": "ok",
     "timestamp": 1609765982362,
     "user": {
      "displayName": "Eraraya Ricardo Muten",
      "photoUrl": "https://lh3.googleusercontent.com/a-/AOh14Ggpw7xw-lyk6u6l92QjpI7MlI7qjJuuciCpwrUd=s64",
      "userId": "03770692095188133952"
     },
     "user_tz": -420
    },
    "id": "0AHFK0_lsdzh"
   },
   "outputs": [],
   "source": [
    "from sklearn.decomposition import PCA\n",
    "from matplotlib import pyplot as plt"
   ]
  },
  {
   "cell_type": "code",
   "execution_count": 13,
   "metadata": {
    "executionInfo": {
     "elapsed": 1824,
     "status": "ok",
     "timestamp": 1609765982362,
     "user": {
      "displayName": "Eraraya Ricardo Muten",
      "photoUrl": "https://lh3.googleusercontent.com/a-/AOh14Ggpw7xw-lyk6u6l92QjpI7MlI7qjJuuciCpwrUd=s64",
      "userId": "03770692095188133952"
     },
     "user_tz": -420
    },
    "id": "CzdxRenYstM_"
   },
   "outputs": [],
   "source": [
    "num_component = 2\n",
    "pca = PCA(n_components=num_component, svd_solver='full')"
   ]
  },
  {
   "cell_type": "code",
   "execution_count": 14,
   "metadata": {
    "colab": {
     "base_uri": "https://localhost:8080/"
    },
    "executionInfo": {
     "elapsed": 1519,
     "status": "ok",
     "timestamp": 1609765982363,
     "user": {
      "displayName": "Eraraya Ricardo Muten",
      "photoUrl": "https://lh3.googleusercontent.com/a-/AOh14Ggpw7xw-lyk6u6l92QjpI7MlI7qjJuuciCpwrUd=s64",
      "userId": "03770692095188133952"
     },
     "user_tz": -420
    },
    "id": "qUHn6-Zvsz2X",
    "outputId": "eae7e583-a3ea-4564-f1a0-2a098a85abd8"
   },
   "outputs": [
    {
     "data": {
      "text/plain": [
       "PCA(copy=True, iterated_power='auto', n_components=2, random_state=None,\n",
       "    svd_solver='full', tol=0.0, whiten=False)"
      ]
     },
     "execution_count": 14,
     "metadata": {
      "tags": []
     },
     "output_type": "execute_result"
    }
   ],
   "source": [
    "pca.fit(X_train)"
   ]
  },
  {
   "cell_type": "code",
   "execution_count": 15,
   "metadata": {
    "colab": {
     "base_uri": "https://localhost:8080/"
    },
    "executionInfo": {
     "elapsed": 883,
     "status": "ok",
     "timestamp": 1609765982852,
     "user": {
      "displayName": "Eraraya Ricardo Muten",
      "photoUrl": "https://lh3.googleusercontent.com/a-/AOh14Ggpw7xw-lyk6u6l92QjpI7MlI7qjJuuciCpwrUd=s64",
      "userId": "03770692095188133952"
     },
     "user_tz": -420
    },
    "id": "dyj975-ttIbe",
    "outputId": "722651d5-e59a-4e21-93bf-011692808dd9"
   },
   "outputs": [
    {
     "data": {
      "text/plain": [
       "tensor([0.21733091, 0.34537199], requires_grad=True)"
      ]
     },
     "execution_count": 15,
     "metadata": {
      "tags": []
     },
     "output_type": "execute_result"
    }
   ],
   "source": [
    "np.cumsum(pca.explained_variance_ratio_)"
   ]
  },
  {
   "cell_type": "code",
   "execution_count": 16,
   "metadata": {
    "executionInfo": {
     "elapsed": 1037,
     "status": "ok",
     "timestamp": 1609765984189,
     "user": {
      "displayName": "Eraraya Ricardo Muten",
      "photoUrl": "https://lh3.googleusercontent.com/a-/AOh14Ggpw7xw-lyk6u6l92QjpI7MlI7qjJuuciCpwrUd=s64",
      "userId": "03770692095188133952"
     },
     "user_tz": -420
    },
    "id": "g2Cv6r9utNKg"
   },
   "outputs": [],
   "source": [
    "X_train = pca.transform(X_train)\n",
    "X_test = pca.transform(X_test)"
   ]
  },
  {
   "cell_type": "code",
   "execution_count": 17,
   "metadata": {
    "colab": {
     "base_uri": "https://localhost:8080/"
    },
    "executionInfo": {
     "elapsed": 1563,
     "status": "ok",
     "timestamp": 1609765985835,
     "user": {
      "displayName": "Eraraya Ricardo Muten",
      "photoUrl": "https://lh3.googleusercontent.com/a-/AOh14Ggpw7xw-lyk6u6l92QjpI7MlI7qjJuuciCpwrUd=s64",
      "userId": "03770692095188133952"
     },
     "user_tz": -420
    },
    "id": "ahC8V_QzuDzV",
    "outputId": "517f4073-dc81-4144-88fb-2d903c961860"
   },
   "outputs": [
    {
     "name": "stdout",
     "output_type": "stream",
     "text": [
      "(200, 2) (200,)\n",
      "(50, 2) (50,)\n"
     ]
    }
   ],
   "source": [
    "print(X_train.shape, Y_train.shape)\n",
    "print(X_test.shape, Y_test.shape)"
   ]
  },
  {
   "cell_type": "markdown",
   "metadata": {
    "id": "ytKzDR1JuKub"
   },
   "source": [
    "# Quantum"
   ]
  },
  {
   "cell_type": "markdown",
   "metadata": {
    "id": "ra8eQBFFzdxC"
   },
   "source": [
    "## Quantum Metric Learning"
   ]
  },
  {
   "cell_type": "code",
   "execution_count": 18,
   "metadata": {
    "executionInfo": {
     "elapsed": 1116,
     "status": "ok",
     "timestamp": 1609765989644,
     "user": {
      "displayName": "Eraraya Ricardo Muten",
      "photoUrl": "https://lh3.googleusercontent.com/a-/AOh14Ggpw7xw-lyk6u6l92QjpI7MlI7qjJuuciCpwrUd=s64",
      "userId": "03770692095188133952"
     },
     "user_tz": -420
    },
    "id": "f5hKfMWBvE6D"
   },
   "outputs": [],
   "source": [
    "from pennylane import RX, RY, RZ, CNOT\n",
    "from pennylane.templates.embeddings import QAOAEmbedding"
   ]
  },
  {
   "cell_type": "code",
   "execution_count": 19,
   "metadata": {
    "colab": {
     "base_uri": "https://localhost:8080/",
     "height": 74
    },
    "executionInfo": {
     "elapsed": 761,
     "status": "ok",
     "timestamp": 1609765990254,
     "user": {
      "displayName": "Eraraya Ricardo Muten",
      "photoUrl": "https://lh3.googleusercontent.com/a-/AOh14Ggpw7xw-lyk6u6l92QjpI7MlI7qjJuuciCpwrUd=s64",
      "userId": "03770692095188133952"
     },
     "user_tz": -420
    },
    "id": "J8PDpZ5IuM0l",
    "outputId": "11cd2f21-a250-433f-d8c8-22b0419e32bc"
   },
   "outputs": [
    {
     "data": {
      "application/vnd.google.colaboratory.intrinsic+json": {
       "type": "string"
      },
      "text/plain": [
       "'\\ndef QAOAEmbedding(features, weights, wires):\\n\\n    repeat = len(weights)\\n    for l in range(repeat):\\n        # apply alternating Hamiltonians\\n        feature_encoding_hamiltonian(features, wires)\\n        ising_hamiltonian(weights, wires, l)\\n    # repeat the feature encoding once more at the end\\n    feature_encoding_hamiltonian(features, wires)\\n'"
      ]
     },
     "execution_count": 19,
     "metadata": {
      "tags": []
     },
     "output_type": "execute_result"
    }
   ],
   "source": [
    "def feature_encoding_hamiltonian(features, wires):\n",
    "\n",
    "    for idx, w in enumerate(wires):\n",
    "        RX(features[idx], wires=w)\n",
    "\n",
    "def ising_hamiltonian(weights, wires, l):\n",
    "\n",
    "        # ZZ coupling\n",
    "        CNOT(wires=[wires[1], wires[0]])\n",
    "        RZ(weights[l, 0], wires=wires[0])\n",
    "        CNOT(wires=[wires[1], wires[0]])\n",
    "        # local fields\n",
    "        for idx, w in enumerate(wires):\n",
    "            RY(weights[l, idx + 1], wires=w)\n",
    "\n",
    "'''\n",
    "def QAOAEmbedding(features, weights, wires):\n",
    "\n",
    "    repeat = len(weights)\n",
    "    for l in range(repeat):\n",
    "        # apply alternating Hamiltonians\n",
    "        feature_encoding_hamiltonian(features, wires)\n",
    "        ising_hamiltonian(weights, wires, l)\n",
    "    # repeat the feature encoding once more at the end\n",
    "    feature_encoding_hamiltonian(features, wires)\n",
    "'''"
   ]
  },
  {
   "cell_type": "code",
   "execution_count": 20,
   "metadata": {
    "colab": {
     "base_uri": "https://localhost:8080/"
    },
    "executionInfo": {
     "elapsed": 1094,
     "status": "ok",
     "timestamp": 1609765993100,
     "user": {
      "displayName": "Eraraya Ricardo Muten",
      "photoUrl": "https://lh3.googleusercontent.com/a-/AOh14Ggpw7xw-lyk6u6l92QjpI7MlI7qjJuuciCpwrUd=s64",
      "userId": "03770692095188133952"
     },
     "user_tz": -420
    },
    "id": "HBAzAo7FvF2H",
    "outputId": "63547d69-66ed-425f-823a-3735d006133d"
   },
   "outputs": [
    {
     "name": "stdout",
     "output_type": "stream",
     "text": [
      "(100, 2) (100, 2)\n",
      "(25, 2) (25, 2)\n"
     ]
    }
   ],
   "source": [
    "A = X_train[:int(X_train.shape[0]/2)].copy()\n",
    "B = X_train[int(X_train.shape[0]/2):].copy()\n",
    "\n",
    "A_test = X_test[:int(X_test.shape[0]/2)].copy()\n",
    "B_test = X_test[int(X_test.shape[0]/2):].copy()\n",
    "\n",
    "print(A.shape, B.shape)\n",
    "print(A_test.shape, B_test.shape)"
   ]
  },
  {
   "cell_type": "code",
   "execution_count": 21,
   "metadata": {
    "colab": {
     "base_uri": "https://localhost:8080/",
     "height": 284
    },
    "executionInfo": {
     "elapsed": 1197,
     "status": "ok",
     "timestamp": 1609765995405,
     "user": {
      "displayName": "Eraraya Ricardo Muten",
      "photoUrl": "https://lh3.googleusercontent.com/a-/AOh14Ggpw7xw-lyk6u6l92QjpI7MlI7qjJuuciCpwrUd=s64",
      "userId": "03770692095188133952"
     },
     "user_tz": -420
    },
    "id": "ie10HWK78Z0d",
    "outputId": "0ca47732-89e7-4994-d32f-17ccc150e49a"
   },
   "outputs": [
    {
     "data": {
      "text/plain": [
       "<matplotlib.image.AxesImage at 0x7f78fb035630>"
      ]
     },
     "execution_count": 21,
     "metadata": {
      "tags": []
     },
     "output_type": "execute_result"
    },
    {
     "data": {
      "image/png": "[encoded data removed]",
      "text/plain": [
       "<Figure size 432x288 with 1 Axes>"
      ]
     },
     "metadata": {
      "needs_background": "light",
      "tags": []
     },
     "output_type": "display_data"
    }
   ],
   "source": [
    "plt.imshow(pca.inverse_transform(A[3]).reshape(28,28))"
   ]
  },
  {
   "cell_type": "code",
   "execution_count": 22,
   "metadata": {
    "colab": {
     "base_uri": "https://localhost:8080/",
     "height": 284
    },
    "executionInfo": {
     "elapsed": 1067,
     "status": "ok",
     "timestamp": 1609765996036,
     "user": {
      "displayName": "Eraraya Ricardo Muten",
      "photoUrl": "https://lh3.googleusercontent.com/a-/AOh14Ggpw7xw-lyk6u6l92QjpI7MlI7qjJuuciCpwrUd=s64",
      "userId": "03770692095188133952"
     },
     "user_tz": -420
    },
    "id": "wMhMpcJt8jH2",
    "outputId": "8e35750d-2ad1-4b0b-effa-b5c1dfe332f0"
   },
   "outputs": [
    {
     "data": {
      "text/plain": [
       "<matplotlib.image.AxesImage at 0x7f78fab81cc0>"
      ]
     },
     "execution_count": 22,
     "metadata": {
      "tags": []
     },
     "output_type": "execute_result"
    },
    {
     "data": {
      "image/png": "[encoded data removed]",
      "text/plain": [
       "<Figure size 432x288 with 1 Axes>"
      ]
     },
     "metadata": {
      "needs_background": "light",
      "tags": []
     },
     "output_type": "display_data"
    }
   ],
   "source": [
    "plt.imshow(pca.inverse_transform(B[3]).reshape(28,28))"
   ]
  },
  {
   "cell_type": "code",
   "execution_count": 23,
   "metadata": {
    "colab": {
     "base_uri": "https://localhost:8080/"
    },
    "executionInfo": {
     "elapsed": 983,
     "status": "ok",
     "timestamp": 1609765998719,
     "user": {
      "displayName": "Eraraya Ricardo Muten",
      "photoUrl": "https://lh3.googleusercontent.com/a-/AOh14Ggpw7xw-lyk6u6l92QjpI7MlI7qjJuuciCpwrUd=s64",
      "userId": "03770692095188133952"
     },
     "user_tz": -420
    },
    "id": "Wpve-FluCGCP",
    "outputId": "781c8016-8c34-4e06-927f-9f5b0a6c61f3"
   },
   "outputs": [
    {
     "name": "stdout",
     "output_type": "stream",
     "text": [
      "(100, 2) (100, 2)\n",
      "(25, 2) (25, 2)\n"
     ]
    }
   ],
   "source": [
    "A = (A.T / np.sqrt(np.sum(A ** 2, -1))).T\n",
    "B = (B.T / np.sqrt(np.sum(B ** 2, -1))).T\n",
    "\n",
    "A_test = (A_test.T / np.sqrt(np.sum(A_test ** 2, -1))).T\n",
    "B_test = (B_test.T / np.sqrt(np.sum(B_test ** 2, -1))).T\n",
    "\n",
    "print(A.shape, B.shape)\n",
    "print(A_test.shape, B_test.shape)"
   ]
  },
  {
   "cell_type": "code",
   "execution_count": 24,
   "metadata": {
    "colab": {
     "base_uri": "https://localhost:8080/",
     "height": 284
    },
    "executionInfo": {
     "elapsed": 1060,
     "status": "ok",
     "timestamp": 1609766001728,
     "user": {
      "displayName": "Eraraya Ricardo Muten",
      "photoUrl": "https://lh3.googleusercontent.com/a-/AOh14Ggpw7xw-lyk6u6l92QjpI7MlI7qjJuuciCpwrUd=s64",
      "userId": "03770692095188133952"
     },
     "user_tz": -420
    },
    "id": "wwbWkPow_qDK",
    "outputId": "102a5220-499a-444a-d5ff-7ce2bd6df6f9"
   },
   "outputs": [
    {
     "data": {
      "text/plain": [
       "<matplotlib.collections.PathCollection at 0x7f78faafe128>"
      ]
     },
     "execution_count": 24,
     "metadata": {
      "tags": []
     },
     "output_type": "execute_result"
    },
    {
     "data": {
      "image/png": "[encoded data removed]",
      "text/plain": [
       "<Figure size 432x288 with 1 Axes>"
      ]
     },
     "metadata": {
      "needs_background": "light",
      "tags": []
     },
     "output_type": "display_data"
    }
   ],
   "source": [
    "plt.scatter(A[:, 0], A[:, 1])\n",
    "plt.scatter(B[:, 0], B[:, 1])"
   ]
  },
  {
   "cell_type": "code",
   "execution_count": 25,
   "metadata": {
    "colab": {
     "base_uri": "https://localhost:8080/",
     "height": 284
    },
    "executionInfo": {
     "elapsed": 1195,
     "status": "ok",
     "timestamp": 1609766005822,
     "user": {
      "displayName": "Eraraya Ricardo Muten",
      "photoUrl": "https://lh3.googleusercontent.com/a-/AOh14Ggpw7xw-lyk6u6l92QjpI7MlI7qjJuuciCpwrUd=s64",
      "userId": "03770692095188133952"
     },
     "user_tz": -420
    },
    "id": "ab1QvTlsCs_K",
    "outputId": "7e04d0e3-7277-4bc3-c89c-502bab631151"
   },
   "outputs": [
    {
     "data": {
      "text/plain": [
       "<matplotlib.collections.PathCollection at 0x7f78faa7c080>"
      ]
     },
     "execution_count": 25,
     "metadata": {
      "tags": []
     },
     "output_type": "execute_result"
    },
    {
     "data": {
      "image/png": "[encoded data removed]",
      "text/plain": [
       "<Figure size 432x288 with 1 Axes>"
      ]
     },
     "metadata": {
      "needs_background": "light",
      "tags": []
     },
     "output_type": "display_data"
    }
   ],
   "source": [
    "plt.scatter(A_test[:, 0], A_test[:, 1])\n",
    "plt.scatter(B_test[:, 0], B_test[:, 1])"
   ]
  },
  {
   "cell_type": "code",
   "execution_count": 26,
   "metadata": {
    "executionInfo": {
     "elapsed": 1232,
     "status": "ok",
     "timestamp": 1609766008145,
     "user": {
      "displayName": "Eraraya Ricardo Muten",
      "photoUrl": "https://lh3.googleusercontent.com/a-/AOh14Ggpw7xw-lyk6u6l92QjpI7MlI7qjJuuciCpwrUd=s64",
      "userId": "03770692095188133952"
     },
     "user_tz": -420
    },
    "id": "fORe2Q78vu5C"
   },
   "outputs": [],
   "source": [
    "n_features = 2\n",
    "n_qubits = 2 * n_features + 1\n",
    "\n",
    "dev = qml.device(\"default.qubit\", wires=n_qubits)"
   ]
  },
  {
   "cell_type": "code",
   "execution_count": 27,
   "metadata": {
    "executionInfo": {
     "elapsed": 1535,
     "status": "ok",
     "timestamp": 1609766008760,
     "user": {
      "displayName": "Eraraya Ricardo Muten",
      "photoUrl": "https://lh3.googleusercontent.com/a-/AOh14Ggpw7xw-lyk6u6l92QjpI7MlI7qjJuuciCpwrUd=s64",
      "userId": "03770692095188133952"
     },
     "user_tz": -420
    },
    "id": "dL5c5qQHv1Ok"
   },
   "outputs": [],
   "source": [
    "@qml.qnode(dev)\n",
    "def swap_test(q_weights, x1, x2):\n",
    "\n",
    "    # load the two inputs into two different registers\n",
    "    QAOAEmbedding(features=x1, weights=q_weights, wires=[1, 2])\n",
    "    QAOAEmbedding(features=x2, weights=q_weights, wires=[3, 4])\n",
    "\n",
    "    # perform the SWAP test\n",
    "    qml.Hadamard(wires=0)\n",
    "    for k in range(n_features):\n",
    "        qml.CSWAP(wires=[0, k + 1, 2 + k + 1])\n",
    "    qml.Hadamard(wires=0)\n",
    "\n",
    "    return qml.expval(qml.PauliZ(0))"
   ]
  },
  {
   "cell_type": "code",
   "execution_count": 28,
   "metadata": {
    "executionInfo": {
     "elapsed": 1203,
     "status": "ok",
     "timestamp": 1609766008761,
     "user": {
      "displayName": "Eraraya Ricardo Muten",
      "photoUrl": "https://lh3.googleusercontent.com/a-/AOh14Ggpw7xw-lyk6u6l92QjpI7MlI7qjJuuciCpwrUd=s64",
      "userId": "03770692095188133952"
     },
     "user_tz": -420
    },
    "id": "QrSq777Qv3Le"
   },
   "outputs": [],
   "source": [
    "def overlaps(weights, X1=None, X2=None):\n",
    "\n",
    "    q_weights = weights\n",
    "\n",
    "    overlap = 0\n",
    "    for x1 in X1:\n",
    "        for x2 in X2:\n",
    "            # overlap of embedded intermediate features\n",
    "            overlap += swap_test(q_weights, x1, x2)\n",
    "\n",
    "    mean_overlap = overlap / (len(X1) * len(X2))\n",
    "    return mean_overlap"
   ]
  },
  {
   "cell_type": "code",
   "execution_count": 29,
   "metadata": {
    "executionInfo": {
     "elapsed": 739,
     "status": "ok",
     "timestamp": 1609766008762,
     "user": {
      "displayName": "Eraraya Ricardo Muten",
      "photoUrl": "https://lh3.googleusercontent.com/a-/AOh14Ggpw7xw-lyk6u6l92QjpI7MlI7qjJuuciCpwrUd=s64",
      "userId": "03770692095188133952"
     },
     "user_tz": -420
    },
    "id": "k_lVzb6-v5gT"
   },
   "outputs": [],
   "source": [
    "def cost(weights, A=None, B=None):\n",
    "\n",
    "    aa = overlaps(weights, X1=A, X2=A)\n",
    "    bb = overlaps(weights, X1=B, X2=B)\n",
    "    ab = overlaps(weights, X1=A, X2=B)\n",
    "\n",
    "    d_hs = -2 * ab + (aa + bb)\n",
    "\n",
    "    return 1 - 0.5 * d_hs"
   ]
  },
  {
   "cell_type": "code",
   "execution_count": null,
   "metadata": {
    "id": "QsZ7cxgFv-jA"
   },
   "outputs": [],
   "source": [
    "# generate initial parameters for circuit\n",
    "init_pars_quantum = np.random.normal(loc=0, scale=0.1, size=(2, 3))"
   ]
  },
  {
   "cell_type": "code",
   "execution_count": null,
   "metadata": {
    "id": "nVtEyw2LwBUx"
   },
   "outputs": [],
   "source": [
    "optimizer = qml.RMSPropOptimizer(stepsize=0.01)\n",
    "batch_size = 2\n",
    "pars = init_pars_quantum"
   ]
  },
  {
   "cell_type": "code",
   "execution_count": null,
   "metadata": {
    "colab": {
     "base_uri": "https://localhost:8080/"
    },
    "executionInfo": {
     "elapsed": 3963201,
     "status": "ok",
     "timestamp": 1609697503917,
     "user": {
      "displayName": "Eraraya Ricardo Muten",
      "photoUrl": "https://lh3.googleusercontent.com/a-/AOh14Ggpw7xw-lyk6u6l92QjpI7MlI7qjJuuciCpwrUd=s64",
      "userId": "03770692095188133952"
     },
     "user_tz": -420
    },
    "id": "pcio6xmdwdeW",
    "outputId": "e860e7b3-f1b9-41d1-fde1-8cd419802e55"
   },
   "outputs": [
    {
     "name": "stdout",
     "output_type": "stream",
     "text": [
      "Step 1 done.\n",
      "Step 2 done.\n",
      "Step 3 done.\n",
      "Step 4 done.\n",
      "Step 5 done.\n",
      "Step 6 done.\n",
      "Step 7 done.\n",
      "Step 8 done.\n",
      "Step 9 done.\n",
      "Step 10 done.\n",
      "Cost on validation set 0.729080\n",
      "Step 11 done.\n",
      "Step 12 done.\n",
      "Step 13 done.\n",
      "Step 14 done.\n",
      "Step 15 done.\n",
      "Step 16 done.\n",
      "Step 17 done.\n",
      "Step 18 done.\n",
      "Step 19 done.\n",
      "Step 20 done.\n",
      "Cost on validation set 0.650504\n",
      "Step 21 done.\n",
      "Step 22 done.\n",
      "Step 23 done.\n",
      "Step 24 done.\n",
      "Step 25 done.\n",
      "Step 26 done.\n",
      "Step 27 done.\n",
      "Step 28 done.\n",
      "Step 29 done.\n",
      "Step 30 done.\n",
      "Cost on validation set 0.543079\n",
      "Step 31 done.\n",
      "Step 32 done.\n",
      "Step 33 done.\n",
      "Step 34 done.\n",
      "Step 35 done.\n",
      "Step 36 done.\n",
      "Step 37 done.\n",
      "Step 38 done.\n",
      "Step 39 done.\n",
      "Step 40 done.\n",
      "Cost on validation set 0.484223\n",
      "Step 41 done.\n",
      "Step 42 done.\n",
      "Step 43 done.\n",
      "Step 44 done.\n",
      "Step 45 done.\n",
      "Step 46 done.\n",
      "Step 47 done.\n",
      "Step 48 done.\n",
      "Step 49 done.\n",
      "Step 50 done.\n",
      "Cost on validation set 0.406575\n",
      "Step 51 done.\n",
      "Step 52 done.\n",
      "Step 53 done.\n",
      "Step 54 done.\n",
      "Step 55 done.\n",
      "Step 56 done.\n",
      "Step 57 done.\n",
      "Step 58 done.\n",
      "Step 59 done.\n",
      "Step 60 done.\n",
      "Cost on validation set 0.354160\n",
      "Step 61 done.\n",
      "Step 62 done.\n",
      "Step 63 done.\n",
      "Step 64 done.\n",
      "Step 65 done.\n",
      "Step 66 done.\n",
      "Step 67 done.\n",
      "Step 68 done.\n",
      "Step 69 done.\n",
      "Step 70 done.\n",
      "Cost on validation set 0.307189\n",
      "Step 71 done.\n",
      "Step 72 done.\n",
      "Step 73 done.\n",
      "Step 74 done.\n",
      "Step 75 done.\n",
      "Step 76 done.\n",
      "Step 77 done.\n",
      "Step 78 done.\n",
      "Step 79 done.\n",
      "Step 80 done.\n",
      "Cost on validation set 0.296181\n",
      "Step 81 done.\n",
      "Step 82 done.\n",
      "Step 83 done.\n",
      "Step 84 done.\n",
      "Step 85 done.\n",
      "Step 86 done.\n",
      "Step 87 done.\n",
      "Step 88 done.\n",
      "Step 89 done.\n",
      "Step 90 done.\n",
      "Cost on validation set 0.283570\n",
      "Step 91 done.\n",
      "Step 92 done.\n",
      "Step 93 done.\n",
      "Step 94 done.\n",
      "Step 95 done.\n",
      "Step 96 done.\n",
      "Step 97 done.\n",
      "Step 98 done.\n",
      "Step 99 done.\n",
      "Step 100 done.\n",
      "Cost on validation set 0.237791\n",
      "Step 101 done.\n",
      "Step 102 done.\n",
      "Step 103 done.\n",
      "Step 104 done.\n",
      "Step 105 done.\n",
      "Step 106 done.\n",
      "Step 107 done.\n",
      "Step 108 done.\n",
      "Step 109 done.\n",
      "Step 110 done.\n",
      "Cost on validation set 0.223518\n",
      "Step 111 done.\n",
      "Step 112 done.\n",
      "Step 113 done.\n",
      "Step 114 done.\n",
      "Step 115 done.\n",
      "Step 116 done.\n",
      "Step 117 done.\n",
      "Step 118 done.\n",
      "Step 119 done.\n",
      "Step 120 done.\n",
      "Cost on validation set 0.203700\n",
      "Step 121 done.\n",
      "Step 122 done.\n",
      "Step 123 done.\n",
      "Step 124 done.\n",
      "Step 125 done.\n",
      "Step 126 done.\n",
      "Step 127 done.\n",
      "Step 128 done.\n",
      "Step 129 done.\n",
      "Step 130 done.\n",
      "Cost on validation set 0.188733\n",
      "Step 131 done.\n",
      "Step 132 done.\n",
      "Step 133 done.\n",
      "Step 134 done.\n",
      "Step 135 done.\n",
      "Step 136 done.\n",
      "Step 137 done.\n",
      "Step 138 done.\n",
      "Step 139 done.\n",
      "Step 140 done.\n",
      "Cost on validation set 0.164163\n",
      "Step 141 done.\n",
      "Step 142 done.\n",
      "Step 143 done.\n",
      "Step 144 done.\n",
      "Step 145 done.\n",
      "Step 146 done.\n",
      "Step 147 done.\n",
      "Step 148 done.\n",
      "Step 149 done.\n",
      "Step 150 done.\n",
      "Cost on validation set 0.141768\n",
      "Step 151 done.\n",
      "Step 152 done.\n",
      "Step 153 done.\n",
      "Step 154 done.\n",
      "Step 155 done.\n",
      "Step 156 done.\n",
      "Step 157 done.\n",
      "Step 158 done.\n",
      "Step 159 done.\n",
      "Step 160 done.\n",
      "Cost on validation set 0.138944\n",
      "Step 161 done.\n",
      "Step 162 done.\n",
      "Step 163 done.\n",
      "Step 164 done.\n",
      "Step 165 done.\n",
      "Step 166 done.\n",
      "Step 167 done.\n",
      "Step 168 done.\n",
      "Step 169 done.\n",
      "Step 170 done.\n",
      "Cost on validation set 0.131409\n",
      "Step 171 done.\n",
      "Step 172 done.\n",
      "Step 173 done.\n",
      "Step 174 done.\n",
      "Step 175 done.\n",
      "Step 176 done.\n",
      "Step 177 done.\n",
      "Step 178 done.\n",
      "Step 179 done.\n",
      "Step 180 done.\n",
      "Cost on validation set 0.116739\n",
      "Step 181 done.\n",
      "Step 182 done.\n",
      "Step 183 done.\n",
      "Step 184 done.\n",
      "Step 185 done.\n",
      "Step 186 done.\n",
      "Step 187 done.\n",
      "Step 188 done.\n",
      "Step 189 done.\n",
      "Step 190 done.\n",
      "Cost on validation set 0.110203\n",
      "Step 191 done.\n",
      "Step 192 done.\n",
      "Step 193 done.\n",
      "Step 194 done.\n",
      "Step 195 done.\n",
      "Step 196 done.\n",
      "Step 197 done.\n",
      "Step 198 done.\n",
      "Step 199 done.\n",
      "Step 200 done.\n",
      "Cost on validation set 0.105996\n",
      "Step 201 done.\n",
      "Step 202 done.\n",
      "Step 203 done.\n",
      "Step 204 done.\n",
      "Step 205 done.\n",
      "Step 206 done.\n",
      "Step 207 done.\n",
      "Step 208 done.\n",
      "Step 209 done.\n",
      "Step 210 done.\n",
      "Cost on validation set 0.099634\n",
      "Step 211 done.\n",
      "Step 212 done.\n",
      "Step 213 done.\n",
      "Step 214 done.\n",
      "Step 215 done.\n",
      "Step 216 done.\n",
      "Step 217 done.\n",
      "Step 218 done.\n",
      "Step 219 done.\n",
      "Step 220 done.\n",
      "Cost on validation set 0.110715\n",
      "Step 221 done.\n",
      "Step 222 done.\n",
      "Step 223 done.\n",
      "Step 224 done.\n",
      "Step 225 done.\n",
      "Step 226 done.\n",
      "Step 227 done.\n",
      "Step 228 done.\n",
      "Step 229 done.\n",
      "Step 230 done.\n",
      "Cost on validation set 0.094261\n",
      "Step 231 done.\n",
      "Step 232 done.\n",
      "Step 233 done.\n",
      "Step 234 done.\n",
      "Step 235 done.\n",
      "Step 236 done.\n",
      "Step 237 done.\n",
      "Step 238 done.\n",
      "Step 239 done.\n",
      "Step 240 done.\n",
      "Cost on validation set 0.087658\n",
      "Step 241 done.\n",
      "Step 242 done.\n",
      "Step 243 done.\n",
      "Step 244 done.\n",
      "Step 245 done.\n",
      "Step 246 done.\n",
      "Step 247 done.\n",
      "Step 248 done.\n",
      "Step 249 done.\n",
      "Step 250 done.\n",
      "Cost on validation set 0.085971\n",
      "Step 251 done.\n",
      "Step 252 done.\n",
      "Step 253 done.\n",
      "Step 254 done.\n",
      "Step 255 done.\n",
      "Step 256 done.\n",
      "Step 257 done.\n",
      "Step 258 done.\n",
      "Step 259 done.\n",
      "Step 260 done.\n",
      "Cost on validation set 0.085818\n",
      "Step 261 done.\n",
      "Step 262 done.\n",
      "Step 263 done.\n",
      "Step 264 done.\n",
      "Step 265 done.\n",
      "Step 266 done.\n",
      "Step 267 done.\n",
      "Step 268 done.\n",
      "Step 269 done.\n",
      "Step 270 done.\n",
      "Cost on validation set 0.076848\n",
      "Step 271 done.\n",
      "Step 272 done.\n",
      "Step 273 done.\n",
      "Step 274 done.\n",
      "Step 275 done.\n",
      "Step 276 done.\n",
      "Step 277 done.\n",
      "Step 278 done.\n",
      "Step 279 done.\n",
      "Step 280 done.\n",
      "Cost on validation set 0.082032\n",
      "Step 281 done.\n",
      "Step 282 done.\n",
      "Step 283 done.\n",
      "Step 284 done.\n",
      "Step 285 done.\n",
      "Step 286 done.\n",
      "Step 287 done.\n",
      "Step 288 done.\n",
      "Step 289 done.\n",
      "Step 290 done.\n",
      "Cost on validation set 0.081706\n",
      "Step 291 done.\n",
      "Step 292 done.\n",
      "Step 293 done.\n",
      "Step 294 done.\n",
      "Step 295 done.\n",
      "Step 296 done.\n",
      "Step 297 done.\n",
      "Step 298 done.\n",
      "Step 299 done.\n",
      "Step 300 done.\n",
      "Cost on validation set 0.084946\n",
      "Step 301 done.\n",
      "Step 302 done.\n",
      "Step 303 done.\n",
      "Step 304 done.\n",
      "Step 305 done.\n",
      "Step 306 done.\n",
      "Step 307 done.\n",
      "Step 308 done.\n",
      "Step 309 done.\n",
      "Step 310 done.\n",
      "Cost on validation set 0.094345\n",
      "Step 311 done.\n",
      "Step 312 done.\n",
      "Step 313 done.\n",
      "Step 314 done.\n",
      "Step 315 done.\n",
      "Step 316 done.\n",
      "Step 317 done.\n",
      "Step 318 done.\n",
      "Step 319 done.\n",
      "Step 320 done.\n",
      "Cost on validation set 0.072664\n",
      "Step 321 done.\n",
      "Step 322 done.\n",
      "Step 323 done.\n",
      "Step 324 done.\n",
      "Step 325 done.\n",
      "Step 326 done.\n",
      "Step 327 done.\n",
      "Step 328 done.\n",
      "Step 329 done.\n",
      "Step 330 done.\n",
      "Cost on validation set 0.071915\n",
      "Step 331 done.\n",
      "Step 332 done.\n",
      "Step 333 done.\n",
      "Step 334 done.\n",
      "Step 335 done.\n",
      "Step 336 done.\n",
      "Step 337 done.\n",
      "Step 338 done.\n",
      "Step 339 done.\n",
      "Step 340 done.\n",
      "Cost on validation set 0.071019\n",
      "Step 341 done.\n",
      "Step 342 done.\n",
      "Step 343 done.\n",
      "Step 344 done.\n",
      "Step 345 done.\n",
      "Step 346 done.\n",
      "Step 347 done.\n",
      "Step 348 done.\n",
      "Step 349 done.\n",
      "Step 350 done.\n",
      "Cost on validation set 0.079965\n",
      "Step 351 done.\n",
      "Step 352 done.\n",
      "Step 353 done.\n",
      "Step 354 done.\n",
      "Step 355 done.\n",
      "Step 356 done.\n",
      "Step 357 done.\n",
      "Step 358 done.\n",
      "Step 359 done.\n",
      "Step 360 done.\n",
      "Cost on validation set 0.075536\n",
      "Step 361 done.\n",
      "Step 362 done.\n",
      "Step 363 done.\n",
      "Step 364 done.\n",
      "Step 365 done.\n",
      "Step 366 done.\n",
      "Step 367 done.\n",
      "Step 368 done.\n",
      "Step 369 done.\n",
      "Step 370 done.\n",
      "Cost on validation set 0.069480\n",
      "Step 371 done.\n",
      "Step 372 done.\n",
      "Step 373 done.\n",
      "Step 374 done.\n",
      "Step 375 done.\n",
      "Step 376 done.\n",
      "Step 377 done.\n",
      "Step 378 done.\n",
      "Step 379 done.\n",
      "Step 380 done.\n",
      "Cost on validation set 0.069950\n",
      "Step 381 done.\n",
      "Step 382 done.\n",
      "Step 383 done.\n",
      "Step 384 done.\n",
      "Step 385 done.\n",
      "Step 386 done.\n",
      "Step 387 done.\n",
      "Step 388 done.\n",
      "Step 389 done.\n",
      "Step 390 done.\n",
      "Cost on validation set 0.076039\n",
      "Step 391 done.\n",
      "Step 392 done.\n",
      "Step 393 done.\n",
      "Step 394 done.\n",
      "Step 395 done.\n",
      "Step 396 done.\n",
      "Step 397 done.\n",
      "Step 398 done.\n",
      "Step 399 done.\n",
      "Step 400 done.\n",
      "Cost on validation set 0.072438\n",
      "Step 401 done.\n",
      "Step 402 done.\n",
      "Step 403 done.\n",
      "Step 404 done.\n",
      "Step 405 done.\n",
      "Step 406 done.\n",
      "Step 407 done.\n",
      "Step 408 done.\n",
      "Step 409 done.\n",
      "Step 410 done.\n",
      "Cost on validation set 0.068746\n",
      "Step 411 done.\n",
      "Step 412 done.\n",
      "Step 413 done.\n",
      "Step 414 done.\n",
      "Step 415 done.\n",
      "Step 416 done.\n",
      "Step 417 done.\n",
      "Step 418 done.\n",
      "Step 419 done.\n",
      "Step 420 done.\n",
      "Cost on validation set 0.071832\n",
      "Step 421 done.\n",
      "Step 422 done.\n",
      "Step 423 done.\n",
      "Step 424 done.\n",
      "Step 425 done.\n",
      "Step 426 done.\n",
      "Step 427 done.\n",
      "Step 428 done.\n",
      "Step 429 done.\n",
      "Step 430 done.\n",
      "Cost on validation set 0.065189\n",
      "Step 431 done.\n",
      "Step 432 done.\n",
      "Step 433 done.\n",
      "Step 434 done.\n",
      "Step 435 done.\n",
      "Step 436 done.\n",
      "Step 437 done.\n",
      "Step 438 done.\n",
      "Step 439 done.\n",
      "Step 440 done.\n",
      "Cost on validation set 0.064535\n",
      "Step 441 done.\n",
      "Step 442 done.\n",
      "Step 443 done.\n",
      "Step 444 done.\n",
      "Step 445 done.\n",
      "Step 446 done.\n",
      "Step 447 done.\n",
      "Step 448 done.\n",
      "Step 449 done.\n",
      "Step 450 done.\n",
      "Cost on validation set 0.064531\n",
      "Step 451 done.\n",
      "Step 452 done.\n",
      "Step 453 done.\n",
      "Step 454 done.\n",
      "Step 455 done.\n",
      "Step 456 done.\n",
      "Step 457 done.\n",
      "Step 458 done.\n",
      "Step 459 done.\n",
      "Step 460 done.\n",
      "Cost on validation set 0.066699\n",
      "Step 461 done.\n",
      "Step 462 done.\n",
      "Step 463 done.\n",
      "Step 464 done.\n",
      "Step 465 done.\n",
      "Step 466 done.\n",
      "Step 467 done.\n",
      "Step 468 done.\n",
      "Step 469 done.\n",
      "Step 470 done.\n",
      "Cost on validation set 0.065751\n",
      "Step 471 done.\n",
      "Step 472 done.\n",
      "Step 473 done.\n",
      "Step 474 done.\n",
      "Step 475 done.\n",
      "Step 476 done.\n",
      "Step 477 done.\n",
      "Step 478 done.\n",
      "Step 479 done.\n",
      "Step 480 done.\n",
      "Cost on validation set 0.065449\n",
      "Step 481 done.\n",
      "Step 482 done.\n",
      "Step 483 done.\n",
      "Step 484 done.\n",
      "Step 485 done.\n",
      "Step 486 done.\n",
      "Step 487 done.\n",
      "Step 488 done.\n",
      "Step 489 done.\n",
      "Step 490 done.\n",
      "Cost on validation set 0.064273\n",
      "Step 491 done.\n",
      "Step 492 done.\n",
      "Step 493 done.\n",
      "Step 494 done.\n",
      "Step 495 done.\n",
      "Step 496 done.\n",
      "Step 497 done.\n",
      "Step 498 done.\n",
      "Step 499 done.\n",
      "Step 500 done.\n",
      "Cost on validation set 0.063627\n",
      "Step 501 done.\n",
      "Step 502 done.\n",
      "Step 503 done.\n",
      "Step 504 done.\n",
      "Step 505 done.\n",
      "Step 506 done.\n",
      "Step 507 done.\n",
      "Step 508 done.\n",
      "Step 509 done.\n",
      "Step 510 done.\n",
      "Cost on validation set 0.061968\n",
      "Step 511 done.\n",
      "Step 512 done.\n",
      "Step 513 done.\n",
      "Step 514 done.\n",
      "Step 515 done.\n",
      "Step 516 done.\n",
      "Step 517 done.\n",
      "Step 518 done.\n",
      "Step 519 done.\n",
      "Step 520 done.\n",
      "Cost on validation set 0.064096\n",
      "Step 521 done.\n",
      "Step 522 done.\n",
      "Step 523 done.\n",
      "Step 524 done.\n",
      "Step 525 done.\n",
      "Step 526 done.\n",
      "Step 527 done.\n",
      "Step 528 done.\n",
      "Step 529 done.\n",
      "Step 530 done.\n",
      "Cost on validation set 0.063968\n",
      "Step 531 done.\n",
      "Step 532 done.\n",
      "Step 533 done.\n",
      "Step 534 done.\n",
      "Step 535 done.\n",
      "Step 536 done.\n",
      "Step 537 done.\n",
      "Step 538 done.\n",
      "Step 539 done.\n",
      "Step 540 done.\n",
      "Cost on validation set 0.065531\n",
      "Step 541 done.\n",
      "Step 542 done.\n",
      "Step 543 done.\n",
      "Step 544 done.\n",
      "Step 545 done.\n",
      "Step 546 done.\n",
      "Step 547 done.\n",
      "Step 548 done.\n",
      "Step 549 done.\n",
      "Step 550 done.\n",
      "Cost on validation set 0.064395\n",
      "Step 551 done.\n",
      "Step 552 done.\n",
      "Step 553 done.\n",
      "Step 554 done.\n",
      "Step 555 done.\n",
      "Step 556 done.\n",
      "Step 557 done.\n",
      "Step 558 done.\n",
      "Step 559 done.\n",
      "Step 560 done.\n",
      "Cost on validation set 0.065992\n",
      "Step 561 done.\n",
      "Step 562 done.\n",
      "Step 563 done.\n",
      "Step 564 done.\n",
      "Step 565 done.\n",
      "Step 566 done.\n",
      "Step 567 done.\n",
      "Step 568 done.\n",
      "Step 569 done.\n",
      "Step 570 done.\n",
      "Cost on validation set 0.065668\n",
      "Step 571 done.\n",
      "Step 572 done.\n",
      "Step 573 done.\n",
      "Step 574 done.\n",
      "Step 575 done.\n",
      "Step 576 done.\n",
      "Step 577 done.\n",
      "Step 578 done.\n",
      "Step 579 done.\n",
      "Step 580 done.\n",
      "Cost on validation set 0.064608\n",
      "Step 581 done.\n",
      "Step 582 done.\n",
      "Step 583 done.\n",
      "Step 584 done.\n",
      "Step 585 done.\n",
      "Step 586 done.\n",
      "Step 587 done.\n",
      "Step 588 done.\n",
      "Step 589 done.\n",
      "Step 590 done.\n",
      "Cost on validation set 0.064329\n",
      "Step 591 done.\n",
      "Step 592 done.\n",
      "Step 593 done.\n",
      "Step 594 done.\n",
      "Step 595 done.\n",
      "Step 596 done.\n",
      "Step 597 done.\n",
      "Step 598 done.\n",
      "Step 599 done.\n",
      "Step 600 done.\n",
      "Cost on validation set 0.065832\n",
      "Step 601 done.\n",
      "Step 602 done.\n",
      "Step 603 done.\n",
      "Step 604 done.\n",
      "Step 605 done.\n",
      "Step 606 done.\n",
      "Step 607 done.\n",
      "Step 608 done.\n",
      "Step 609 done.\n",
      "Step 610 done.\n",
      "Cost on validation set 0.059412\n",
      "Step 611 done.\n",
      "Step 612 done.\n",
      "Step 613 done.\n",
      "Step 614 done.\n",
      "Step 615 done.\n",
      "Step 616 done.\n",
      "Step 617 done.\n",
      "Step 618 done.\n",
      "Step 619 done.\n",
      "Step 620 done.\n",
      "Cost on validation set 0.060333\n",
      "Step 621 done.\n",
      "Step 622 done.\n",
      "Step 623 done.\n",
      "Step 624 done.\n",
      "Step 625 done.\n",
      "Step 626 done.\n",
      "Step 627 done.\n",
      "Step 628 done.\n",
      "Step 629 done.\n",
      "Step 630 done.\n",
      "Cost on validation set 0.060720\n",
      "Step 631 done.\n",
      "Step 632 done.\n",
      "Step 633 done.\n",
      "Step 634 done.\n",
      "Step 635 done.\n",
      "Step 636 done.\n",
      "Step 637 done.\n",
      "Step 638 done.\n",
      "Step 639 done.\n",
      "Step 640 done.\n",
      "Cost on validation set 0.063292\n",
      "Step 641 done.\n",
      "Step 642 done.\n",
      "Step 643 done.\n",
      "Step 644 done.\n",
      "Step 645 done.\n",
      "Step 646 done.\n",
      "Step 647 done.\n",
      "Step 648 done.\n",
      "Step 649 done.\n",
      "Step 650 done.\n",
      "Cost on validation set 0.059737\n",
      "Step 651 done.\n",
      "Step 652 done.\n",
      "Step 653 done.\n",
      "Step 654 done.\n",
      "Step 655 done.\n",
      "Step 656 done.\n",
      "Step 657 done.\n",
      "Step 658 done.\n",
      "Step 659 done.\n",
      "Step 660 done.\n",
      "Cost on validation set 0.061579\n",
      "Step 661 done.\n",
      "Step 662 done.\n",
      "Step 663 done.\n",
      "Step 664 done.\n",
      "Step 665 done.\n",
      "Step 666 done.\n",
      "Step 667 done.\n",
      "Step 668 done.\n",
      "Step 669 done.\n",
      "Step 670 done.\n",
      "Cost on validation set 0.059078\n",
      "Step 671 done.\n",
      "Step 672 done.\n",
      "Step 673 done.\n",
      "Step 674 done.\n",
      "Step 675 done.\n",
      "Step 676 done.\n",
      "Step 677 done.\n",
      "Step 678 done.\n",
      "Step 679 done.\n",
      "Step 680 done.\n",
      "Cost on validation set 0.058680\n",
      "Step 681 done.\n",
      "Step 682 done.\n",
      "Step 683 done.\n",
      "Step 684 done.\n",
      "Step 685 done.\n",
      "Step 686 done.\n",
      "Step 687 done.\n",
      "Step 688 done.\n",
      "Step 689 done.\n",
      "Step 690 done.\n",
      "Cost on validation set 0.060786\n",
      "Step 691 done.\n",
      "Step 692 done.\n",
      "Step 693 done.\n",
      "Step 694 done.\n",
      "Step 695 done.\n",
      "Step 696 done.\n",
      "Step 697 done.\n",
      "Step 698 done.\n",
      "Step 699 done.\n",
      "Step 700 done.\n",
      "Cost on validation set 0.064850\n",
      "Step 701 done.\n",
      "Step 702 done.\n",
      "Step 703 done.\n",
      "Step 704 done.\n",
      "Step 705 done.\n",
      "Step 706 done.\n",
      "Step 707 done.\n",
      "Step 708 done.\n",
      "Step 709 done.\n",
      "Step 710 done.\n",
      "Cost on validation set 0.056078\n",
      "Step 711 done.\n",
      "Step 712 done.\n",
      "Step 713 done.\n",
      "Step 714 done.\n",
      "Step 715 done.\n",
      "Step 716 done.\n",
      "Step 717 done.\n",
      "Step 718 done.\n",
      "Step 719 done.\n",
      "Step 720 done.\n",
      "Cost on validation set 0.057581\n",
      "Step 721 done.\n",
      "Step 722 done.\n",
      "Step 723 done.\n",
      "Step 724 done.\n",
      "Step 725 done.\n",
      "Step 726 done.\n",
      "Step 727 done.\n",
      "Step 728 done.\n",
      "Step 729 done.\n",
      "Step 730 done.\n",
      "Cost on validation set 0.054573\n",
      "Step 731 done.\n",
      "Step 732 done.\n",
      "Step 733 done.\n",
      "Step 734 done.\n",
      "Step 735 done.\n",
      "Step 736 done.\n",
      "Step 737 done.\n",
      "Step 738 done.\n",
      "Step 739 done.\n",
      "Step 740 done.\n",
      "Cost on validation set 0.054296\n",
      "Step 741 done.\n",
      "Step 742 done.\n",
      "Step 743 done.\n",
      "Step 744 done.\n",
      "Step 745 done.\n",
      "Step 746 done.\n",
      "Step 747 done.\n",
      "Step 748 done.\n",
      "Step 749 done.\n",
      "Step 750 done.\n",
      "Cost on validation set 0.052664\n",
      "Step 751 done.\n",
      "Step 752 done.\n",
      "Step 753 done.\n",
      "Step 754 done.\n",
      "Step 755 done.\n",
      "Step 756 done.\n",
      "Step 757 done.\n",
      "Step 758 done.\n",
      "Step 759 done.\n",
      "Step 760 done.\n",
      "Cost on validation set 0.054907\n",
      "Step 761 done.\n",
      "Step 762 done.\n",
      "Step 763 done.\n",
      "Step 764 done.\n",
      "Step 765 done.\n",
      "Step 766 done.\n",
      "Step 767 done.\n",
      "Step 768 done.\n",
      "Step 769 done.\n",
      "Step 770 done.\n",
      "Cost on validation set 0.054325\n",
      "Step 771 done.\n",
      "Step 772 done.\n",
      "Step 773 done.\n",
      "Step 774 done.\n",
      "Step 775 done.\n",
      "Step 776 done.\n",
      "Step 777 done.\n",
      "Step 778 done.\n",
      "Step 779 done.\n",
      "Step 780 done.\n",
      "Cost on validation set 0.051371\n",
      "Step 781 done.\n",
      "Step 782 done.\n",
      "Step 783 done.\n",
      "Step 784 done.\n",
      "Step 785 done.\n",
      "Step 786 done.\n",
      "Step 787 done.\n",
      "Step 788 done.\n",
      "Step 789 done.\n",
      "Step 790 done.\n",
      "Cost on validation set 0.046665\n",
      "Step 791 done.\n",
      "Step 792 done.\n",
      "Step 793 done.\n",
      "Step 794 done.\n",
      "Step 795 done.\n",
      "Step 796 done.\n",
      "Step 797 done.\n",
      "Step 798 done.\n",
      "Step 799 done.\n",
      "Step 800 done.\n",
      "Cost on validation set 0.048332\n",
      "Step 801 done.\n",
      "Step 802 done.\n",
      "Step 803 done.\n",
      "Step 804 done.\n",
      "Step 805 done.\n",
      "Step 806 done.\n",
      "Step 807 done.\n",
      "Step 808 done.\n",
      "Step 809 done.\n",
      "Step 810 done.\n",
      "Cost on validation set 0.047719\n",
      "Step 811 done.\n",
      "Step 812 done.\n",
      "Step 813 done.\n",
      "Step 814 done.\n",
      "Step 815 done.\n",
      "Step 816 done.\n",
      "Step 817 done.\n",
      "Step 818 done.\n",
      "Step 819 done.\n",
      "Step 820 done.\n",
      "Cost on validation set 0.050175\n",
      "Step 821 done.\n",
      "Step 822 done.\n",
      "Step 823 done.\n",
      "Step 824 done.\n",
      "Step 825 done.\n",
      "Step 826 done.\n",
      "Step 827 done.\n",
      "Step 828 done.\n",
      "Step 829 done.\n",
      "Step 830 done.\n",
      "Cost on validation set 0.047122\n",
      "Step 831 done.\n",
      "Step 832 done.\n",
      "Step 833 done.\n",
      "Step 834 done.\n",
      "Step 835 done.\n",
      "Step 836 done.\n",
      "Step 837 done.\n",
      "Step 838 done.\n",
      "Step 839 done.\n",
      "Step 840 done.\n",
      "Cost on validation set 0.046284\n",
      "Step 841 done.\n",
      "Step 842 done.\n",
      "Step 843 done.\n",
      "Step 844 done.\n",
      "Step 845 done.\n",
      "Step 846 done.\n",
      "Step 847 done.\n",
      "Step 848 done.\n",
      "Step 849 done.\n",
      "Step 850 done.\n",
      "Cost on validation set 0.045081\n",
      "Step 851 done.\n",
      "Step 852 done.\n",
      "Step 853 done.\n",
      "Step 854 done.\n",
      "Step 855 done.\n",
      "Step 856 done.\n",
      "Step 857 done.\n",
      "Step 858 done.\n",
      "Step 859 done.\n",
      "Step 860 done.\n",
      "Cost on validation set 0.048013\n",
      "Step 861 done.\n",
      "Step 862 done.\n",
      "Step 863 done.\n",
      "Step 864 done.\n",
      "Step 865 done.\n",
      "Step 866 done.\n",
      "Step 867 done.\n",
      "Step 868 done.\n",
      "Step 869 done.\n",
      "Step 870 done.\n",
      "Cost on validation set 0.045012\n",
      "Step 871 done.\n",
      "Step 872 done.\n",
      "Step 873 done.\n",
      "Step 874 done.\n",
      "Step 875 done.\n",
      "Step 876 done.\n",
      "Step 877 done.\n",
      "Step 878 done.\n",
      "Step 879 done.\n",
      "Step 880 done.\n",
      "Cost on validation set 0.045195\n",
      "Step 881 done.\n",
      "Step 882 done.\n",
      "Step 883 done.\n",
      "Step 884 done.\n",
      "Step 885 done.\n",
      "Step 886 done.\n",
      "Step 887 done.\n",
      "Step 888 done.\n",
      "Step 889 done.\n",
      "Step 890 done.\n",
      "Cost on validation set 0.044906\n",
      "Step 891 done.\n",
      "Step 892 done.\n",
      "Step 893 done.\n",
      "Step 894 done.\n",
      "Step 895 done.\n",
      "Step 896 done.\n",
      "Step 897 done.\n",
      "Step 898 done.\n",
      "Step 899 done.\n",
      "Step 900 done.\n",
      "Cost on validation set 0.046630\n",
      "Step 901 done.\n",
      "Step 902 done.\n",
      "Step 903 done.\n",
      "Step 904 done.\n",
      "Step 905 done.\n",
      "Step 906 done.\n",
      "Step 907 done.\n",
      "Step 908 done.\n",
      "Step 909 done.\n",
      "Step 910 done.\n",
      "Cost on validation set 0.046226\n",
      "Step 911 done.\n",
      "Step 912 done.\n",
      "Step 913 done.\n",
      "Step 914 done.\n",
      "Step 915 done.\n",
      "Step 916 done.\n",
      "Step 917 done.\n",
      "Step 918 done.\n",
      "Step 919 done.\n",
      "Step 920 done.\n",
      "Cost on validation set 0.044886\n",
      "Step 921 done.\n",
      "Step 922 done.\n",
      "Step 923 done.\n",
      "Step 924 done.\n",
      "Step 925 done.\n",
      "Step 926 done.\n",
      "Step 927 done.\n",
      "Step 928 done.\n",
      "Step 929 done.\n",
      "Step 930 done.\n",
      "Cost on validation set 0.042666\n",
      "Step 931 done.\n",
      "Step 932 done.\n",
      "Step 933 done.\n",
      "Step 934 done.\n",
      "Step 935 done.\n",
      "Step 936 done.\n",
      "Step 937 done.\n",
      "Step 938 done.\n",
      "Step 939 done.\n",
      "Step 940 done.\n",
      "Cost on validation set 0.043924\n",
      "Step 941 done.\n",
      "Step 942 done.\n",
      "Step 943 done.\n",
      "Step 944 done.\n",
      "Step 945 done.\n",
      "Step 946 done.\n",
      "Step 947 done.\n",
      "Step 948 done.\n",
      "Step 949 done.\n",
      "Step 950 done.\n",
      "Cost on validation set 0.046207\n",
      "Step 951 done.\n",
      "Step 952 done.\n",
      "Step 953 done.\n",
      "Step 954 done.\n",
      "Step 955 done.\n",
      "Step 956 done.\n",
      "Step 957 done.\n",
      "Step 958 done.\n",
      "Step 959 done.\n",
      "Step 960 done.\n",
      "Cost on validation set 0.047386\n",
      "Step 961 done.\n",
      "Step 962 done.\n",
      "Step 963 done.\n",
      "Step 964 done.\n",
      "Step 965 done.\n",
      "Step 966 done.\n",
      "Step 967 done.\n",
      "Step 968 done.\n",
      "Step 969 done.\n",
      "Step 970 done.\n",
      "Cost on validation set 0.045145\n",
      "Step 971 done.\n",
      "Step 972 done.\n",
      "Step 973 done.\n",
      "Step 974 done.\n",
      "Step 975 done.\n",
      "Step 976 done.\n",
      "Step 977 done.\n",
      "Step 978 done.\n",
      "Step 979 done.\n",
      "Step 980 done.\n",
      "Cost on validation set 0.041073\n",
      "Step 981 done.\n",
      "Step 982 done.\n",
      "Step 983 done.\n",
      "Step 984 done.\n",
      "Step 985 done.\n",
      "Step 986 done.\n",
      "Step 987 done.\n",
      "Step 988 done.\n",
      "Step 989 done.\n",
      "Step 990 done.\n",
      "Cost on validation set 0.040038\n",
      "Step 991 done.\n",
      "Step 992 done.\n",
      "Step 993 done.\n",
      "Step 994 done.\n",
      "Step 995 done.\n",
      "Step 996 done.\n",
      "Step 997 done.\n",
      "Step 998 done.\n",
      "Step 999 done.\n",
      "Step 1000 done.\n",
      "Cost on validation set 0.047711\n",
      "Optimal Params:\n",
      "[[-0.00421612 -0.92019373  2.24463138]\n",
      " [ 1.80365621  0.40997436  1.38720659]]\n"
     ]
    }
   ],
   "source": [
    "iter = 1000\n",
    "\n",
    "for i in range(iter):\n",
    "\n",
    "    # Sample a batch of training inputs from each class\n",
    "    selectA = np.random.choice(range(len(A)), size=(batch_size,), replace=True)\n",
    "    selectB = np.random.choice(range(len(B)), size=(batch_size,), replace=True)\n",
    "    A_batch = [A[s] for s in selectA]\n",
    "    B_batch = [B[s] for s in selectB]\n",
    "\n",
    "    # Walk one optimization step\n",
    "    pars = optimizer.step(lambda w: cost(w, A=A_batch, B=B_batch), pars)\n",
    "    print(\"Step\", i+1, \"done.\")\n",
    "\n",
    "    # Print the validation cost every 10 steps\n",
    "    if (i+1) % 10 == 0:\n",
    "        cst = cost(pars, A=A_test, B=B_test)\n",
    "        print(\"Cost on validation set {:2f}\".format(cst))\n",
    "\n",
    "print(\"Optimal Params:\")\n",
    "print(pars)"
   ]
  },
  {
   "cell_type": "code",
   "execution_count": null,
   "metadata": {
    "id": "vXHj97ag4XBn"
   },
   "outputs": [],
   "source": [
    "[[ 1.02338288  0.76915639  0.28823867]\n",
    " [ 0.69607305  0.56231053  0.60767871]\n",
    " [-0.07300208  0.34298698  0.62133624]\n",
    " [-0.37924633  0.29921229  0.75732569]]\n",
    "\n",
    " # 200 iter optimal params"
   ]
  },
  {
   "cell_type": "code",
   "execution_count": 33,
   "metadata": {
    "executionInfo": {
     "elapsed": 1204,
     "status": "ok",
     "timestamp": 1609766114481,
     "user": {
      "displayName": "Eraraya Ricardo Muten",
      "photoUrl": "https://lh3.googleusercontent.com/a-/AOh14Ggpw7xw-lyk6u6l92QjpI7MlI7qjJuuciCpwrUd=s64",
      "userId": "03770692095188133952"
     },
     "user_tz": -420
    },
    "id": "imriHIrwbtVC"
   },
   "outputs": [],
   "source": [
    "pars = [[-0.00421612, -0.92019373,  2.24463138],\n",
    " [1.80365621,  0.40997436,  1.38720659]]\n",
    "\n",
    " # 1000 iter optimal params\n",
    " # Cost on validation set 0.047711"
   ]
  },
  {
   "cell_type": "code",
   "execution_count": 35,
   "metadata": {
    "colab": {
     "base_uri": "https://localhost:8080/"
    },
    "executionInfo": {
     "elapsed": 1323,
     "status": "ok",
     "timestamp": 1609766143347,
     "user": {
      "displayName": "Eraraya Ricardo Muten",
      "photoUrl": "https://lh3.googleusercontent.com/a-/AOh14Ggpw7xw-lyk6u6l92QjpI7MlI7qjJuuciCpwrUd=s64",
      "userId": "03770692095188133952"
     },
     "user_tz": -420
    },
    "id": "KfgcqfaiJch9",
    "outputId": "04a7448b-35e9-4ea2-c2df-a6c61c5ae7e9"
   },
   "outputs": [
    {
     "data": {
      "text/plain": [
       "((100, 2), (100, 2))"
      ]
     },
     "execution_count": 35,
     "metadata": {
      "tags": []
     },
     "output_type": "execute_result"
    }
   ],
   "source": [
    "A_test_final = (x_train_0[100:200, :] - mu_train)/(std_train + 1e-8)\n",
    "A_test_final = pca.transform(A_test_final)\n",
    "A_test_final = (A_test_final.T / np.sqrt(np.sum(A_test_final ** 2, -1))).T\n",
    "\n",
    "B_test_final = (x_train_1[100:200, :] - mu_train)/(std_train + 1e-8)\n",
    "B_test_final = pca.transform(B_test_final)\n",
    "B_test_final = (B_test_final.T / np.sqrt(np.sum(B_test_final ** 2, -1))).T\n",
    "\n",
    "A_test_final.shape, B_test_final.shape"
   ]
  },
  {
   "cell_type": "code",
   "execution_count": 36,
   "metadata": {
    "colab": {
     "base_uri": "https://localhost:8080/",
     "height": 284
    },
    "executionInfo": {
     "elapsed": 1147,
     "status": "ok",
     "timestamp": 1609766165431,
     "user": {
      "displayName": "Eraraya Ricardo Muten",
      "photoUrl": "https://lh3.googleusercontent.com/a-/AOh14Ggpw7xw-lyk6u6l92QjpI7MlI7qjJuuciCpwrUd=s64",
      "userId": "03770692095188133952"
     },
     "user_tz": -420
    },
    "id": "yHQsvro_iaK-",
    "outputId": "9db23d9d-be39-4d26-d850-3cae59526b37"
   },
   "outputs": [
    {
     "data": {
      "text/plain": [
       "<matplotlib.collections.PathCollection at 0x7f78fa8ee1d0>"
      ]
     },
     "execution_count": 36,
     "metadata": {
      "tags": []
     },
     "output_type": "execute_result"
    },
    {
     "data": {
      "image/png": "[encoded data removed]",
      "text/plain": [
       "<Figure size 432x288 with 1 Axes>"
      ]
     },
     "metadata": {
      "needs_background": "light",
      "tags": []
     },
     "output_type": "display_data"
    }
   ],
   "source": [
    "plt.scatter(A_test_final[:, 0], A_test_final[:, 1])\n",
    "plt.scatter(B_test_final[:, 0], B_test_final[:, 1])"
   ]
  },
  {
   "cell_type": "code",
   "execution_count": 37,
   "metadata": {
    "colab": {
     "base_uri": "https://localhost:8080/"
    },
    "executionInfo": {
     "elapsed": 1168,
     "status": "ok",
     "timestamp": 1609766184355,
     "user": {
      "displayName": "Eraraya Ricardo Muten",
      "photoUrl": "https://lh3.googleusercontent.com/a-/AOh14Ggpw7xw-lyk6u6l92QjpI7MlI7qjJuuciCpwrUd=s64",
      "userId": "03770692095188133952"
     },
     "user_tz": -420
    },
    "id": "5ZqP7TU_dNvk",
    "outputId": "e86c18ea-1917-41d8-a10a-da38bbcd4186"
   },
   "outputs": [
    {
     "data": {
      "text/plain": [
       "[[-0.00421612, -0.92019373, 2.24463138], [1.80365621, 0.40997436, 1.38720659]]"
      ]
     },
     "execution_count": 37,
     "metadata": {
      "tags": []
     },
     "output_type": "execute_result"
    }
   ],
   "source": [
    "pars"
   ]
  },
  {
   "cell_type": "code",
   "execution_count": 38,
   "metadata": {
    "colab": {
     "base_uri": "https://localhost:8080/"
    },
    "executionInfo": {
     "elapsed": 281528,
     "status": "ok",
     "timestamp": 1609766472450,
     "user": {
      "displayName": "Eraraya Ricardo Muten",
      "photoUrl": "https://lh3.googleusercontent.com/a-/AOh14Ggpw7xw-lyk6u6l92QjpI7MlI7qjJuuciCpwrUd=s64",
      "userId": "03770692095188133952"
     },
     "user_tz": -420
    },
    "id": "W3ttLHY-dp6K",
    "outputId": "bf0314bb-1c57-45a2-ba83-ba639dcc1e09"
   },
   "outputs": [
    {
     "data": {
      "text/plain": [
       "0.13955480603651893"
      ]
     },
     "execution_count": 38,
     "metadata": {
      "tags": []
     },
     "output_type": "execute_result"
    }
   ],
   "source": [
    "cost(pars, A=A_test_final, B=B_test_final)"
   ]
  },
  {
   "cell_type": "code",
   "execution_count": null,
   "metadata": {
    "id": "deIPagXxru4w"
   },
   "outputs": [],
   "source": []
  },
  {
   "cell_type": "code",
   "execution_count": null,
   "metadata": {
    "id": "vJ_O8jsgjK4K"
   },
   "outputs": [],
   "source": []
  }
 ],
 "metadata": {
  "colab": {
   "authorship_tag": "ABX9TyOl2VW6VxBImc2V+iRYJCsQ",
   "collapsed_sections": [],
   "name": "Binary Classification.ipynb",
   "provenance": []
  },
  "kernelspec": {
   "display_name": "Python 3",
   "language": "python",
   "name": "python3"
  },
  "language_info": {
   "codemirror_mode": {
    "name": "ipython",
    "version": 3
   },
   "file_extension": ".py",
   "mimetype": "text/x-python",
   "name": "python",
   "nbconvert_exporter": "python",
   "pygments_lexer": "ipython3",
   "version": "3.8.7"
  }
 },
 "nbformat": 4,
 "nbformat_minor": 1
}
