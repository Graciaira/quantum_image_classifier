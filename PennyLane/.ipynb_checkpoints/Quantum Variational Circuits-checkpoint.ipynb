{
 "cells": [
  {
   "cell_type": "code",
   "execution_count": 2,
   "metadata": {},
   "outputs": [],
   "source": [
    "from numpy import loadtxt\n",
    "import pandas as pd\n",
    "import matplotlib.pyplot as plt"
   ]
  },
  {
   "cell_type": "markdown",
   "metadata": {},
   "source": [
    "# Data Load"
   ]
  },
  {
   "cell_type": "code",
   "execution_count": 59,
   "metadata": {},
   "outputs": [],
   "source": [
    "# load dataset\n",
    "\n",
    "X_train = loadtxt('C:/Users/user/Jupyter Notebook Project/Tugas Akhir/X_train.csv', delimiter=',')\n",
    "y_train = loadtxt('C:/Users/user/Jupyter Notebook Project/Tugas Akhir/y_train.csv', delimiter=',')\n",
    "\n",
    "# X_val = loadtxt('C:/Users/user/Jupyter Notebook Project/Tugas Akhir/X_val.csv', delimiter=',')\n",
    "# y_val = loadtxt('C:/Users/user/Jupyter Notebook Project/Tugas Akhir/y_val.csv', delimiter=',')\n",
    "\n",
    "# X_test = loadtxt('C:/Users/user/Jupyter Notebook Project/Tugas Akhir/X_test.csv', delimiter=',')\n",
    "# y_test = loadtxt('C:/Users/user/Jupyter Notebook Project/Tugas Akhir/y_test.csv', delimiter=',')"
   ]
  },
  {
   "cell_type": "code",
   "execution_count": 60,
   "metadata": {},
   "outputs": [
    {
     "data": {
      "text/plain": [
       "(148, 2)"
      ]
     },
     "execution_count": 60,
     "metadata": {},
     "output_type": "execute_result"
    }
   ],
   "source": [
    "X_train.shape"
   ]
  },
  {
   "cell_type": "code",
   "execution_count": 61,
   "metadata": {},
   "outputs": [
    {
     "data": {
      "text/plain": [
       "(148,)"
      ]
     },
     "execution_count": 61,
     "metadata": {},
     "output_type": "execute_result"
    }
   ],
   "source": [
    "y_train.shape"
   ]
  },
  {
   "cell_type": "markdown",
   "metadata": {},
   "source": [
    "# Create Quantum Model"
   ]
  },
  {
   "cell_type": "code",
   "execution_count": 47,
   "metadata": {},
   "outputs": [],
   "source": [
    "# This cell is added by sphinx-gallery\n",
    "# It can be customized to whatever you like\n",
    "%matplotlib inline\n",
    "\n",
    "import pennylane as qml\n",
    "from pennylane import numpy as np\n",
    "from pennylane.optimize import NesterovMomentumOptimizer"
   ]
  },
  {
   "cell_type": "markdown",
   "metadata": {},
   "source": [
    "## Choose a Quantum Device"
   ]
  },
  {
   "cell_type": "code",
   "execution_count": 48,
   "metadata": {},
   "outputs": [],
   "source": [
    "dev = qml.device(\"default.qubit\", wires=2)"
   ]
  },
  {
   "cell_type": "markdown",
   "metadata": {},
   "source": [
    "## Loss and Acc Metric"
   ]
  },
  {
   "cell_type": "code",
   "execution_count": 49,
   "metadata": {},
   "outputs": [],
   "source": [
    "# MSE\n",
    "def square_loss(labels, predictions):\n",
    "    loss = 0\n",
    "    for l, p in zip(labels, predictions):\n",
    "        loss = loss + (l - p) ** 2\n",
    "\n",
    "    loss = loss / len(labels)\n",
    "    return loss\n",
    "\n",
    "# true predictions/total predictions\n",
    "def accuracy(labels, predictions):\n",
    "    acc = 0\n",
    "    for l, p in zip(labels, predictions):\n",
    "        if abs(l - p) < 1e-5:\n",
    "            acc = acc + 1\n",
    "    acc = acc / len(labels)\n",
    "\n",
    "    return acc"
   ]
  },
  {
   "cell_type": "markdown",
   "metadata": {},
   "source": [
    "## Quantum Amplitude Encoding Function"
   ]
  },
  {
   "cell_type": "code",
   "execution_count": 50,
   "metadata": {},
   "outputs": [],
   "source": [
    "def get_angles(x):\n",
    "\n",
    "    beta0 = 2 * np.arcsin(np.sqrt(x[1] ** 2) / np.sqrt(x[0] ** 2 + x[1] ** 2 + 1e-12))\n",
    "    beta1 = 2 * np.arcsin(np.sqrt(x[3] ** 2) / np.sqrt(x[2] ** 2 + x[3] ** 2 + 1e-12))\n",
    "    beta2 = 2 * np.arcsin(np.sqrt(x[2] ** 2 + x[3] ** 2) / np.sqrt(x[0] ** 2 + x[1] ** 2 + x[2] ** 2 + x[3] ** 2))\n",
    "\n",
    "    return np.array([beta2, -beta1 / 2, beta1 / 2, -beta0 / 2, beta0 / 2])\n",
    "\n",
    "\n",
    "def statepreparation(a):\n",
    "    qml.RY(a[0], wires=0)\n",
    "\n",
    "    qml.CNOT(wires=[0, 1])\n",
    "    qml.RY(a[1], wires=1)\n",
    "    qml.CNOT(wires=[0, 1])\n",
    "    qml.RY(a[2], wires=1)\n",
    "\n",
    "    qml.PauliX(wires=0)\n",
    "    qml.CNOT(wires=[0, 1])\n",
    "    qml.RY(a[3], wires=1)\n",
    "    qml.CNOT(wires=[0, 1])\n",
    "    qml.RY(a[4], wires=1)\n",
    "    qml.PauliX(wires=0)"
   ]
  },
  {
   "cell_type": "code",
   "execution_count": 51,
   "metadata": {},
   "outputs": [
    {
     "name": "stdout",
     "output_type": "stream",
     "text": [
      "x               :  [0.54 0.8  0.28 0.  ]\n",
      "angles          :  [ 0.56 -0.    0.   -0.98  0.98]\n",
      "amplitude vector:  [ 5.39e-01  7.95e-01  2.78e-01 -2.20e-17]\n"
     ]
    }
   ],
   "source": [
    "x = np.array([0.53896774, 0.79503606, 0.27826503, 0.0])\n",
    "ang = get_angles(x)\n",
    "\n",
    "\n",
    "@qml.qnode(dev)\n",
    "def test(angles=None):\n",
    "\n",
    "    statepreparation(angles)\n",
    "\n",
    "    return qml.expval(qml.PauliZ(0))\n",
    "\n",
    "\n",
    "test(angles=ang)\n",
    "\n",
    "print(\"x               : \", x)\n",
    "print(\"angles          : \", ang)\n",
    "print(\"amplitude vector: \", np.real(dev._state))"
   ]
  },
  {
   "cell_type": "markdown",
   "metadata": {},
   "source": [
    "## Define the Layer"
   ]
  },
  {
   "cell_type": "code",
   "execution_count": 52,
   "metadata": {},
   "outputs": [],
   "source": [
    "def layer(W):\n",
    "    qml.Rot(W[0, 0], W[0, 1], W[0, 2], wires=0)\n",
    "    qml.Rot(W[1, 0], W[1, 1], W[1, 2], wires=1)\n",
    "    qml.CNOT(wires=[0, 1])"
   ]
  },
  {
   "cell_type": "markdown",
   "metadata": {},
   "source": [
    "## Build the Quantum Circuit, Define Cost Function, Create QVC"
   ]
  },
  {
   "cell_type": "code",
   "execution_count": 53,
   "metadata": {},
   "outputs": [],
   "source": [
    "@qml.qnode(dev)\n",
    "def circuit(weights, angles=None):\n",
    "    statepreparation(angles)\n",
    "\n",
    "    for W in weights:\n",
    "        layer(W)\n",
    "\n",
    "    return qml.expval(qml.PauliZ(0))\n",
    "\n",
    "\n",
    "def variational_classifier(var, angles=None):\n",
    "    weights = var[0]\n",
    "    bias = var[1]\n",
    "    return circuit(weights, angles=angles) + bias\n",
    "\n",
    "\n",
    "def cost(weights, features, labels):\n",
    "    predictions = [variational_classifier(weights, angles=f) for f in features]\n",
    "    return square_loss(labels, predictions)"
   ]
  },
  {
   "cell_type": "markdown",
   "metadata": {},
   "source": [
    "# Data Prep"
   ]
  },
  {
   "cell_type": "markdown",
   "metadata": {},
   "source": [
    "## Data Padding, Normalization and Data Encoding"
   ]
  },
  {
   "cell_type": "code",
   "execution_count": 54,
   "metadata": {},
   "outputs": [
    {
     "name": "stdout",
     "output_type": "stream",
     "text": [
      "First X train sample (original)  : [8.72 7.92]\n",
      "First X sample (padded)    : [8.72 7.92 0.3  0.  ]\n",
      "First X train sample (normalized): [0.74 0.67 0.03 0.  ]\n",
      "First features sample      : [ 0.05 -0.    0.   -0.74  0.74]\n"
     ]
    }
   ],
   "source": [
    "print(\"First X train sample (original)  :\", X_train[0])\n",
    "\n",
    "# pad the vectors to size 2^2 with constant values\n",
    "padding = 0.3 * np.ones((len(X_train), 1))\n",
    "X_pad = np.c_[np.c_[X_train, padding], np.zeros((len(X_train), 1))]\n",
    "print(\"First X sample (padded)    :\", X_pad[0])\n",
    "\n",
    "# normalize each input\n",
    "normalization = np.sqrt(np.sum(X_pad ** 2, -1))\n",
    "X_train_norm = (X_pad.T / normalization).T\n",
    "print(\"First X train sample (normalized):\", X_train_norm[0])\n",
    "\n",
    "# angles for state preparation are new features\n",
    "features = np.array([get_angles(x) for x in X_train_norm])\n",
    "print(\"First features sample      :\", features[0])\n",
    "\n",
    "# make the label binary becomes -1 or 1 instead of 0 or 1\n",
    "Y = y_train*2 - 1"
   ]
  },
  {
   "cell_type": "code",
   "execution_count": 58,
   "metadata": {},
   "outputs": [
    {
     "data": {
      "image/png": "[encoded data removed]",
      "text/plain": [
       "<Figure size 432x288 with 1 Axes>"
      ]
     },
     "metadata": {
      "needs_background": "light"
     },
     "output_type": "display_data"
    },
    {
     "data": {
      "image/png": "[encoded data removed]",
      "text/plain": [
       "<Figure size 432x288 with 1 Axes>"
      ]
     },
     "metadata": {
      "needs_background": "light"
     },
     "output_type": "display_data"
    }
   ],
   "source": [
    "dim1 = 0\n",
    "dim2 = 1\n",
    "\n",
    "plt.figure()\n",
    "plt.scatter(X_train[:, dim1][Y == 1], X_train[:, dim2][Y == 1], c=\"b\", marker=\"o\", edgecolors=\"k\", label='number 1')\n",
    "plt.scatter(X_train[:, dim1][Y == -1], X_train[:, dim2][Y == -1], c=\"r\", marker=\"o\", edgecolors=\"k\", label='number 0')\n",
    "plt.title(\"Dataset After PCA\")\n",
    "plt.ylabel('Feature ' + str(dim2))\n",
    "plt.xlabel('Feature ' + str(dim1))\n",
    "plt.legend()\n",
    "plt.show()\n",
    "\n",
    "dim1 = 2\n",
    "dim2 = 3\n",
    "\n",
    "plt.figure()\n",
    "plt.scatter(X_train_norm[:, dim1][Y == 1], X_train_norm[:, dim2][Y == 1], c=\"b\", marker=\"o\", edgecolors=\"k\", label='number 1')\n",
    "plt.scatter(X_train_norm[:, dim1][Y == -1], X_train_norm[:, dim2][Y == -1], c=\"r\", marker=\"o\", edgecolors=\"k\", label='number 0')\n",
    "plt.title(\"Normalised data (dims {} and {})\".format(dim1, dim2))\n",
    "plt.ylabel('Feature ' + str(dim2))\n",
    "plt.xlabel('Feature ' + str(dim1))\n",
    "plt.legend()\n",
    "plt.show()"
   ]
  },
  {
   "cell_type": "code",
   "execution_count": 15,
   "metadata": {},
   "outputs": [
    {
     "data": {
      "image/png": "[encoded data removed]",
      "text/plain": [
       "<Figure size 432x288 with 1 Axes>"
      ]
     },
     "metadata": {
      "needs_background": "light"
     },
     "output_type": "display_data"
    }
   ],
   "source": [
    "dim1 = 3\n",
    "dim2 = 4\n",
    "\n",
    "plt.figure()\n",
    "plt.scatter(features[:, dim1][Y == 1], features[:, dim2][Y == 1], c=\"r\", marker=\"o\", edgecolors=\"k\", label='number 1')\n",
    "plt.scatter(features[:, dim1][Y == -1], features[:, dim2][Y == -1], c=\"b\", marker=\"o\", edgecolors=\"k\", label='number 0')\n",
    "plt.title(\"Feature vectors (dims {} and {})\".format(dim1, dim2))\n",
    "plt.ylabel('Feature vector ' + str(dim2))\n",
    "plt.xlabel('Feature vector ' + str(dim1))\n",
    "plt.legend()\n",
    "plt.show()"
   ]
  },
  {
   "cell_type": "code",
   "execution_count": 16,
   "metadata": {},
   "outputs": [
    {
     "data": {
      "text/html": [
       "<div>\n",
       "<style scoped>\n",
       "    .dataframe tbody tr th:only-of-type {\n",
       "        vertical-align: middle;\n",
       "    }\n",
       "\n",
       "    .dataframe tbody tr th {\n",
       "        vertical-align: top;\n",
       "    }\n",
       "\n",
       "    .dataframe thead th {\n",
       "        text-align: right;\n",
       "    }\n",
       "</style>\n",
       "<table border=\"1\" class=\"dataframe\">\n",
       "  <thead>\n",
       "    <tr style=\"text-align: right;\">\n",
       "      <th></th>\n",
       "      <th>0</th>\n",
       "      <th>1</th>\n",
       "      <th>2</th>\n",
       "      <th>3</th>\n",
       "      <th>4</th>\n",
       "    </tr>\n",
       "  </thead>\n",
       "  <tbody>\n",
       "    <tr>\n",
       "      <td>0</td>\n",
       "      <td>0.050925</td>\n",
       "      <td>-0.0</td>\n",
       "      <td>0.0</td>\n",
       "      <td>-0.737214</td>\n",
       "      <td>0.737214</td>\n",
       "    </tr>\n",
       "    <tr>\n",
       "      <td>1</td>\n",
       "      <td>0.052637</td>\n",
       "      <td>-0.0</td>\n",
       "      <td>0.0</td>\n",
       "      <td>-0.614070</td>\n",
       "      <td>0.614070</td>\n",
       "    </tr>\n",
       "    <tr>\n",
       "      <td>2</td>\n",
       "      <td>0.052505</td>\n",
       "      <td>-0.0</td>\n",
       "      <td>0.0</td>\n",
       "      <td>-0.409853</td>\n",
       "      <td>0.409853</td>\n",
       "    </tr>\n",
       "    <tr>\n",
       "      <td>3</td>\n",
       "      <td>0.050341</td>\n",
       "      <td>-0.0</td>\n",
       "      <td>0.0</td>\n",
       "      <td>-0.465641</td>\n",
       "      <td>0.465641</td>\n",
       "    </tr>\n",
       "    <tr>\n",
       "      <td>4</td>\n",
       "      <td>0.078827</td>\n",
       "      <td>-0.0</td>\n",
       "      <td>0.0</td>\n",
       "      <td>-0.590111</td>\n",
       "      <td>0.590111</td>\n",
       "    </tr>\n",
       "    <tr>\n",
       "      <td>...</td>\n",
       "      <td>...</td>\n",
       "      <td>...</td>\n",
       "      <td>...</td>\n",
       "      <td>...</td>\n",
       "      <td>...</td>\n",
       "    </tr>\n",
       "    <tr>\n",
       "      <td>143</td>\n",
       "      <td>0.154499</td>\n",
       "      <td>-0.0</td>\n",
       "      <td>0.0</td>\n",
       "      <td>-1.446895</td>\n",
       "      <td>1.446895</td>\n",
       "    </tr>\n",
       "    <tr>\n",
       "      <td>144</td>\n",
       "      <td>0.077295</td>\n",
       "      <td>-0.0</td>\n",
       "      <td>0.0</td>\n",
       "      <td>-1.454200</td>\n",
       "      <td>1.454200</td>\n",
       "    </tr>\n",
       "    <tr>\n",
       "      <td>145</td>\n",
       "      <td>0.102151</td>\n",
       "      <td>-0.0</td>\n",
       "      <td>0.0</td>\n",
       "      <td>-1.451151</td>\n",
       "      <td>1.451151</td>\n",
       "    </tr>\n",
       "    <tr>\n",
       "      <td>146</td>\n",
       "      <td>0.081811</td>\n",
       "      <td>-0.0</td>\n",
       "      <td>0.0</td>\n",
       "      <td>-1.462548</td>\n",
       "      <td>1.462548</td>\n",
       "    </tr>\n",
       "    <tr>\n",
       "      <td>147</td>\n",
       "      <td>0.095704</td>\n",
       "      <td>-0.0</td>\n",
       "      <td>0.0</td>\n",
       "      <td>-1.426188</td>\n",
       "      <td>1.426188</td>\n",
       "    </tr>\n",
       "  </tbody>\n",
       "</table>\n",
       "<p>148 rows × 5 columns</p>\n",
       "</div>"
      ],
      "text/plain": [
       "            0    1    2         3         4\n",
       "0    0.050925 -0.0  0.0 -0.737214  0.737214\n",
       "1    0.052637 -0.0  0.0 -0.614070  0.614070\n",
       "2    0.052505 -0.0  0.0 -0.409853  0.409853\n",
       "3    0.050341 -0.0  0.0 -0.465641  0.465641\n",
       "4    0.078827 -0.0  0.0 -0.590111  0.590111\n",
       "..        ...  ...  ...       ...       ...\n",
       "143  0.154499 -0.0  0.0 -1.446895  1.446895\n",
       "144  0.077295 -0.0  0.0 -1.454200  1.454200\n",
       "145  0.102151 -0.0  0.0 -1.451151  1.451151\n",
       "146  0.081811 -0.0  0.0 -1.462548  1.462548\n",
       "147  0.095704 -0.0  0.0 -1.426188  1.426188\n",
       "\n",
       "[148 rows x 5 columns]"
      ]
     },
     "execution_count": 16,
     "metadata": {},
     "output_type": "execute_result"
    }
   ],
   "source": [
    "pd.DataFrame(features)"
   ]
  },
  {
   "cell_type": "markdown",
   "metadata": {},
   "source": [
    "## Train dan Val Dataset Separation"
   ]
  },
  {
   "cell_type": "code",
   "execution_count": 17,
   "metadata": {},
   "outputs": [],
   "source": [
    "# separate train dataset into train and val dataset\n",
    "\n",
    "np.random.seed(0)\n",
    "num_data = len(Y)\n",
    "num_train = int(0.75 * num_data)  # train = floor(75% train), val = ceil(25% train)\n",
    "index = np.random.permutation(range(num_data))\n",
    "feats_train = features[index[:num_train]]\n",
    "Y_train = Y[index[:num_train]]\n",
    "feats_val = features[index[num_train:]]\n",
    "Y_val = Y[index[num_train:]]\n",
    "\n",
    "# We need these later for plotting\n",
    "X_val = X_train[index[num_train:]]\n",
    "X_train = X_train[index[:num_train]]"
   ]
  },
  {
   "cell_type": "code",
   "execution_count": 18,
   "metadata": {},
   "outputs": [
    {
     "data": {
      "text/plain": [
       "(111, 5)"
      ]
     },
     "execution_count": 18,
     "metadata": {},
     "output_type": "execute_result"
    }
   ],
   "source": [
    "feats_train.shape"
   ]
  },
  {
   "cell_type": "code",
   "execution_count": 19,
   "metadata": {},
   "outputs": [
    {
     "data": {
      "text/plain": [
       "(37, 5)"
      ]
     },
     "execution_count": 19,
     "metadata": {},
     "output_type": "execute_result"
    }
   ],
   "source": [
    "feats_val.shape"
   ]
  },
  {
   "cell_type": "markdown",
   "metadata": {},
   "source": [
    "# Training"
   ]
  },
  {
   "cell_type": "markdown",
   "metadata": {},
   "source": [
    "## Qubits, Layers and Weights Initialization"
   ]
  },
  {
   "cell_type": "code",
   "execution_count": 20,
   "metadata": {},
   "outputs": [],
   "source": [
    "# First we initialize the variables.\n",
    "\n",
    "num_qubits = 2  # 2 label = 2 class = 2 quibits\n",
    "num_layers = 6  # QNN layer\n",
    "var_init = (0.01 * np.random.randn(num_layers, num_qubits, 3), 0.0)  # weights and bias initialization"
   ]
  },
  {
   "cell_type": "markdown",
   "metadata": {},
   "source": [
    "## Training Iteration"
   ]
  },
  {
   "cell_type": "code",
   "execution_count": 21,
   "metadata": {},
   "outputs": [
    {
     "name": "stdout",
     "output_type": "stream",
     "text": [
      "Iter:     1 | Train Loss: 1.9879832 | Validation Loss: 1.7797736 | Train Acc: 0.4864865 | Validation Acc: 0.5405405 \n",
      "Iter:     2 | Train Loss: 1.9037684 | Validation Loss: 1.7054192 | Train Acc: 0.4864865 | Validation Acc: 0.5405405 \n",
      "Iter:     3 | Train Loss: 1.8063903 | Validation Loss: 1.6200767 | Train Acc: 0.4864865 | Validation Acc: 0.5405405 \n",
      "Iter:     4 | Train Loss: 1.6887989 | Validation Loss: 1.5181374 | Train Acc: 0.4864865 | Validation Acc: 0.5405405 \n",
      "Iter:     5 | Train Loss: 1.5500052 | Validation Loss: 1.3998131 | Train Acc: 0.4864865 | Validation Acc: 0.5405405 \n",
      "Iter:     6 | Train Loss: 1.4267417 | Validation Loss: 1.2972309 | Train Acc: 0.4864865 | Validation Acc: 0.5405405 \n",
      "Iter:     7 | Train Loss: 1.3118602 | Validation Loss: 1.2048549 | Train Acc: 0.4864865 | Validation Acc: 0.5405405 \n",
      "Iter:     8 | Train Loss: 1.2275746 | Validation Loss: 1.1400964 | Train Acc: 0.4864865 | Validation Acc: 0.5405405 \n",
      "Iter:     9 | Train Loss: 1.1606424 | Validation Loss: 1.0918342 | Train Acc: 0.4864865 | Validation Acc: 0.5405405 \n",
      "Iter:    10 | Train Loss: 1.1033503 | Validation Loss: 1.0548136 | Train Acc: 0.4864865 | Validation Acc: 0.5405405 \n",
      "Iter:    11 | Train Loss: 1.0547730 | Validation Loss: 1.0305041 | Train Acc: 0.4864865 | Validation Acc: 0.5405405 \n",
      "Iter:    12 | Train Loss: 1.0259365 | Validation Loss: 1.0265530 | Train Acc: 0.3513514 | Validation Acc: 0.4054054 \n",
      "Iter:    13 | Train Loss: 1.0175256 | Validation Loss: 1.0429995 | Train Acc: 0.5135135 | Validation Acc: 0.4594595 \n",
      "Iter:    14 | Train Loss: 1.0320174 | Validation Loss: 1.0863476 | Train Acc: 0.5135135 | Validation Acc: 0.4594595 \n",
      "Iter:    15 | Train Loss: 1.0694776 | Validation Loss: 1.1516717 | Train Acc: 0.5135135 | Validation Acc: 0.4594595 \n",
      "Iter:    16 | Train Loss: 1.1496069 | Validation Loss: 1.2678074 | Train Acc: 0.5135135 | Validation Acc: 0.4594595 \n",
      "Iter:    17 | Train Loss: 1.1964508 | Validation Loss: 1.3298534 | Train Acc: 0.5135135 | Validation Acc: 0.4594595 \n",
      "Iter:    18 | Train Loss: 1.1738748 | Validation Loss: 1.2985440 | Train Acc: 0.5135135 | Validation Acc: 0.4594595 \n",
      "Iter:    19 | Train Loss: 1.1660277 | Validation Loss: 1.2869299 | Train Acc: 0.5135135 | Validation Acc: 0.4594595 \n",
      "Iter:    20 | Train Loss: 1.1384085 | Validation Loss: 1.2477861 | Train Acc: 0.5135135 | Validation Acc: 0.4594595 \n",
      "Iter:    21 | Train Loss: 1.1165642 | Validation Loss: 1.2158417 | Train Acc: 0.5135135 | Validation Acc: 0.4594595 \n",
      "Iter:    22 | Train Loss: 1.0836472 | Validation Loss: 1.1662592 | Train Acc: 0.5135135 | Validation Acc: 0.4594595 \n",
      "Iter:    23 | Train Loss: 1.0611869 | Validation Loss: 1.1297408 | Train Acc: 0.5135135 | Validation Acc: 0.4594595 \n",
      "Iter:    24 | Train Loss: 1.0502086 | Validation Loss: 1.1102384 | Train Acc: 0.5135135 | Validation Acc: 0.4594595 \n",
      "Iter:    25 | Train Loss: 1.0387191 | Validation Loss: 1.0892562 | Train Acc: 0.5135135 | Validation Acc: 0.4594595 \n",
      "Iter:    26 | Train Loss: 1.0280945 | Validation Loss: 1.0690980 | Train Acc: 0.5135135 | Validation Acc: 0.4594595 \n",
      "Iter:    27 | Train Loss: 1.0187242 | Validation Loss: 1.0502536 | Train Acc: 0.5135135 | Validation Acc: 0.4594595 \n",
      "Iter:    28 | Train Loss: 1.0105809 | Validation Loss: 1.0325183 | Train Acc: 0.5135135 | Validation Acc: 0.4594595 \n",
      "Iter:    29 | Train Loss: 1.0050832 | Validation Loss: 1.0213139 | Train Acc: 0.5135135 | Validation Acc: 0.4594595 \n",
      "Iter:    30 | Train Loss: 0.9993079 | Validation Loss: 1.0097952 | Train Acc: 0.5135135 | Validation Acc: 0.4594595 \n",
      "Iter:    31 | Train Loss: 0.9934680 | Validation Loss: 0.9982833 | Train Acc: 0.5135135 | Validation Acc: 0.4594595 \n",
      "Iter:    32 | Train Loss: 0.9865345 | Validation Loss: 0.9874801 | Train Acc: 0.5135135 | Validation Acc: 0.4594595 \n",
      "Iter:    33 | Train Loss: 0.9789024 | Validation Loss: 0.9760257 | Train Acc: 0.9279279 | Validation Acc: 1.0000000 \n",
      "Iter:    34 | Train Loss: 0.9663116 | Validation Loss: 0.9634155 | Train Acc: 0.7297297 | Validation Acc: 0.8378378 \n",
      "Iter:    35 | Train Loss: 0.9507151 | Validation Loss: 0.9497501 | Train Acc: 0.5495495 | Validation Acc: 0.5405405 \n",
      "Iter:    36 | Train Loss: 0.9319953 | Validation Loss: 0.9351553 | Train Acc: 0.5135135 | Validation Acc: 0.4594595 \n",
      "Iter:    37 | Train Loss: 0.9114460 | Validation Loss: 0.9233331 | Train Acc: 0.5135135 | Validation Acc: 0.4594595 \n",
      "Iter:    38 | Train Loss: 0.8958542 | Validation Loss: 0.9154821 | Train Acc: 0.5135135 | Validation Acc: 0.4594595 \n",
      "Iter:    39 | Train Loss: 0.8848763 | Validation Loss: 0.9135598 | Train Acc: 0.5135135 | Validation Acc: 0.4594595 \n",
      "Iter:    40 | Train Loss: 0.8798062 | Validation Loss: 0.9181714 | Train Acc: 0.5135135 | Validation Acc: 0.4594595 \n",
      "Iter:    41 | Train Loss: 0.8695522 | Validation Loss: 0.9115582 | Train Acc: 0.5135135 | Validation Acc: 0.4594595 \n",
      "Iter:    42 | Train Loss: 0.8506601 | Validation Loss: 0.8929022 | Train Acc: 0.5135135 | Validation Acc: 0.4594595 \n",
      "Iter:    43 | Train Loss: 0.8230094 | Validation Loss: 0.8617135 | Train Acc: 0.5135135 | Validation Acc: 0.4594595 \n",
      "Iter:    44 | Train Loss: 0.8009551 | Validation Loss: 0.8411193 | Train Acc: 0.5135135 | Validation Acc: 0.4594595 \n",
      "Iter:    45 | Train Loss: 0.7703228 | Validation Loss: 0.8074041 | Train Acc: 0.5135135 | Validation Acc: 0.4594595 \n",
      "Iter:    46 | Train Loss: 0.7324791 | Validation Loss: 0.7609764 | Train Acc: 0.5855856 | Validation Acc: 0.5405405 \n",
      "Iter:    47 | Train Loss: 0.7003645 | Validation Loss: 0.7228256 | Train Acc: 0.7567568 | Validation Acc: 0.7837838 \n",
      "Iter:    48 | Train Loss: 0.6697947 | Validation Loss: 0.6909797 | Train Acc: 0.8648649 | Validation Acc: 0.8108108 \n",
      "Iter:    49 | Train Loss: 0.6420563 | Validation Loss: 0.6575974 | Train Acc: 0.9189189 | Validation Acc: 0.8918919 \n",
      "Iter:    50 | Train Loss: 0.6090727 | Validation Loss: 0.6255028 | Train Acc: 0.9189189 | Validation Acc: 0.8918919 \n",
      "Iter:    51 | Train Loss: 0.5713368 | Validation Loss: 0.5911467 | Train Acc: 0.9189189 | Validation Acc: 0.8918919 \n",
      "Iter:    52 | Train Loss: 0.5336225 | Validation Loss: 0.5568684 | Train Acc: 0.9189189 | Validation Acc: 0.8918919 \n",
      "Iter:    53 | Train Loss: 0.4987387 | Validation Loss: 0.5260517 | Train Acc: 0.9189189 | Validation Acc: 0.8918919 \n",
      "Iter:    54 | Train Loss: 0.4660663 | Validation Loss: 0.4951856 | Train Acc: 0.9189189 | Validation Acc: 0.8918919 \n",
      "Iter:    55 | Train Loss: 0.4296889 | Validation Loss: 0.4571005 | Train Acc: 0.9189189 | Validation Acc: 0.8918919 \n",
      "Iter:    56 | Train Loss: 0.3973563 | Validation Loss: 0.4236155 | Train Acc: 0.9189189 | Validation Acc: 0.8918919 \n",
      "Iter:    57 | Train Loss: 0.3712414 | Validation Loss: 0.3966024 | Train Acc: 0.9189189 | Validation Acc: 0.8918919 \n",
      "Iter:    58 | Train Loss: 0.3407225 | Validation Loss: 0.3645021 | Train Acc: 0.9279279 | Validation Acc: 0.9459459 \n",
      "Iter:    59 | Train Loss: 0.3135112 | Validation Loss: 0.3366604 | Train Acc: 0.9549550 | Validation Acc: 0.9729730 \n",
      "Iter:    60 | Train Loss: 0.2946191 | Validation Loss: 0.3182298 | Train Acc: 0.9639640 | Validation Acc: 1.0000000 \n",
      "Iter:    61 | Train Loss: 0.2829275 | Validation Loss: 0.3081077 | Train Acc: 0.9639640 | Validation Acc: 1.0000000 \n",
      "Iter:    62 | Train Loss: 0.2792460 | Validation Loss: 0.3070329 | Train Acc: 0.9459459 | Validation Acc: 0.9459459 \n",
      "Iter:    63 | Train Loss: 0.2723537 | Validation Loss: 0.3019573 | Train Acc: 0.9549550 | Validation Acc: 0.9459459 \n",
      "Iter:    64 | Train Loss: 0.2578319 | Validation Loss: 0.2869615 | Train Acc: 0.9459459 | Validation Acc: 0.9459459 \n",
      "Iter:    65 | Train Loss: 0.2454755 | Validation Loss: 0.2734731 | Train Acc: 0.9459459 | Validation Acc: 0.9459459 \n",
      "Iter:    66 | Train Loss: 0.2351911 | Validation Loss: 0.2611113 | Train Acc: 0.9549550 | Validation Acc: 0.9459459 \n",
      "Iter:    67 | Train Loss: 0.2274914 | Validation Loss: 0.2504706 | Train Acc: 0.9549550 | Validation Acc: 0.9459459 \n",
      "Iter:    68 | Train Loss: 0.2230507 | Validation Loss: 0.2427456 | Train Acc: 0.9549550 | Validation Acc: 0.9729730 \n",
      "Iter:    69 | Train Loss: 0.2212485 | Validation Loss: 0.2378654 | Train Acc: 0.9639640 | Validation Acc: 1.0000000 \n",
      "Iter:    70 | Train Loss: 0.2244642 | Validation Loss: 0.2367092 | Train Acc: 0.9549550 | Validation Acc: 1.0000000 \n",
      "Iter:    71 | Train Loss: 0.2289672 | Validation Loss: 0.2381338 | Train Acc: 0.9549550 | Validation Acc: 0.9729730 \n"
     ]
    },
    {
     "name": "stdout",
     "output_type": "stream",
     "text": [
      "Iter:    72 | Train Loss: 0.2286971 | Validation Loss: 0.2371389 | Train Acc: 0.9549550 | Validation Acc: 0.9729730 \n",
      "Iter:    73 | Train Loss: 0.2237286 | Validation Loss: 0.2333174 | Train Acc: 0.9549550 | Validation Acc: 0.9729730 \n",
      "Iter:    74 | Train Loss: 0.2161494 | Validation Loss: 0.2289429 | Train Acc: 0.9639640 | Validation Acc: 1.0000000 \n",
      "Iter:    75 | Train Loss: 0.2111405 | Validation Loss: 0.2288775 | Train Acc: 0.9549550 | Validation Acc: 0.9459459 \n",
      "Iter:    76 | Train Loss: 0.2125779 | Validation Loss: 0.2367144 | Train Acc: 0.9369369 | Validation Acc: 0.9459459 \n",
      "Iter:    77 | Train Loss: 0.2193733 | Validation Loss: 0.2491847 | Train Acc: 0.9369369 | Validation Acc: 0.9459459 \n",
      "Iter:    78 | Train Loss: 0.2242330 | Validation Loss: 0.2567733 | Train Acc: 0.9459459 | Validation Acc: 0.9459459 \n",
      "Iter:    79 | Train Loss: 0.2255094 | Validation Loss: 0.2586723 | Train Acc: 0.9459459 | Validation Acc: 0.9459459 \n",
      "Iter:    80 | Train Loss: 0.2218284 | Validation Loss: 0.2531828 | Train Acc: 0.9459459 | Validation Acc: 0.9459459 \n",
      "Iter:    81 | Train Loss: 0.2173829 | Validation Loss: 0.2463297 | Train Acc: 0.9369369 | Validation Acc: 0.9459459 \n",
      "Iter:    82 | Train Loss: 0.2136266 | Validation Loss: 0.2402471 | Train Acc: 0.9369369 | Validation Acc: 0.9459459 \n",
      "Iter:    83 | Train Loss: 0.2084830 | Validation Loss: 0.2308224 | Train Acc: 0.9369369 | Validation Acc: 0.9459459 \n",
      "Iter:    84 | Train Loss: 0.2060213 | Validation Loss: 0.2227561 | Train Acc: 0.9549550 | Validation Acc: 0.9459459 \n",
      "Iter:    85 | Train Loss: 0.2072901 | Validation Loss: 0.2208797 | Train Acc: 0.9639640 | Validation Acc: 0.9729730 \n",
      "Iter:    86 | Train Loss: 0.2079707 | Validation Loss: 0.2205020 | Train Acc: 0.9639640 | Validation Acc: 1.0000000 \n",
      "Iter:    87 | Train Loss: 0.2085693 | Validation Loss: 0.2203542 | Train Acc: 0.9549550 | Validation Acc: 1.0000000 \n",
      "Iter:    88 | Train Loss: 0.2062622 | Validation Loss: 0.2193214 | Train Acc: 0.9639640 | Validation Acc: 0.9729730 \n",
      "Iter:    89 | Train Loss: 0.2043277 | Validation Loss: 0.2192126 | Train Acc: 0.9549550 | Validation Acc: 0.9729730 \n",
      "Iter:    90 | Train Loss: 0.2035979 | Validation Loss: 0.2195531 | Train Acc: 0.9549550 | Validation Acc: 0.9729730 \n",
      "Iter:    91 | Train Loss: 0.2036366 | Validation Loss: 0.2218267 | Train Acc: 0.9549550 | Validation Acc: 0.9459459 \n",
      "Iter:    92 | Train Loss: 0.2043241 | Validation Loss: 0.2239099 | Train Acc: 0.9459459 | Validation Acc: 0.9459459 \n",
      "Iter:    93 | Train Loss: 0.2049274 | Validation Loss: 0.2253125 | Train Acc: 0.9459459 | Validation Acc: 0.9459459 \n",
      "Iter:    94 | Train Loss: 0.2053496 | Validation Loss: 0.2261738 | Train Acc: 0.9459459 | Validation Acc: 0.9459459 \n",
      "Iter:    95 | Train Loss: 0.2087297 | Validation Loss: 0.2320857 | Train Acc: 0.9369369 | Validation Acc: 0.9459459 \n",
      "Iter:    96 | Train Loss: 0.2099167 | Validation Loss: 0.2339337 | Train Acc: 0.9369369 | Validation Acc: 0.9459459 \n",
      "Iter:    97 | Train Loss: 0.2084266 | Validation Loss: 0.2314638 | Train Acc: 0.9369369 | Validation Acc: 0.9459459 \n",
      "Iter:    98 | Train Loss: 0.2058799 | Validation Loss: 0.2270770 | Train Acc: 0.9369369 | Validation Acc: 0.9459459 \n",
      "Iter:    99 | Train Loss: 0.2028514 | Validation Loss: 0.2208869 | Train Acc: 0.9549550 | Validation Acc: 0.9459459 \n",
      "Iter:   100 | Train Loss: 0.2020358 | Validation Loss: 0.2177772 | Train Acc: 0.9549550 | Validation Acc: 0.9729730 \n",
      "The training session is finished\n"
     ]
    }
   ],
   "source": [
    "# training\n",
    "\n",
    "# array to save the training & val accuracy and loss history as the training goes\n",
    "train_history = np.array([])\n",
    "val_history = np.array([])\n",
    "train_loss_history = np.array([])\n",
    "val_loss_history = np.array([])\n",
    "iter_history = np.array([])\n",
    "\n",
    "\n",
    "# Again we optimize the cost. This may take a little patience.\n",
    "\n",
    "opt = NesterovMomentumOptimizer(0.01)\n",
    "batch_size = 5\n",
    "max_iter = 100\n",
    "\n",
    "# train the variational classifier\n",
    "var = var_init\n",
    "for it in range(max_iter):\n",
    "\n",
    "    # Update the weights by one optimizer step\n",
    "    batch_index = np.random.randint(0, num_train, (batch_size,))\n",
    "    feats_train_batch = feats_train[batch_index]\n",
    "    Y_train_batch = Y_train[batch_index]\n",
    "    var = opt.step(lambda v: cost(v, feats_train_batch, Y_train_batch), var)\n",
    "\n",
    "    # Compute predictions on train and validation set\n",
    "    predictions_train = [np.sign(variational_classifier(var, angles=f)) for f in feats_train]\n",
    "    predictions_val = [np.sign(variational_classifier(var, angles=f)) for f in feats_val]\n",
    "\n",
    "    # Compute accuracy on train and validation set\n",
    "    acc_train = accuracy(Y_train, predictions_train)\n",
    "    acc_val = accuracy(Y_val, predictions_val)\n",
    "\n",
    "    train_loss = cost(var, feats_train, Y_train)\n",
    "    val_loss = cost(var, feats_val, Y_val)\n",
    "    \n",
    "    print(\n",
    "        \"Iter: {:5d} | Train Loss: {:0.7f} | Validation Loss: {:0.7f} | Train Acc: {:0.7f} | Validation Acc: {:0.7f} \"\n",
    "        \"\".format(it + 1, train_loss, val_loss, acc_train, acc_val)\n",
    "    )\n",
    "    \n",
    "    iter_history = np.append(iter_history, it+1)\n",
    "    train_loss_history = np.append(train_loss_history, train_loss)\n",
    "    val_loss_history = np.append(val_loss_history, val_loss)\n",
    "    train_history = np.append(train_history, acc_train)\n",
    "    val_history = np.append(val_history, acc_val)\n",
    "    \n",
    "print(\"The training session is finished\")"
   ]
  },
  {
   "cell_type": "markdown",
   "metadata": {},
   "source": [
    "## Plot the Training Results (Train and Validation)"
   ]
  },
  {
   "cell_type": "code",
   "execution_count": 22,
   "metadata": {},
   "outputs": [],
   "source": [
    "fig_size = plt.rcParams[\"figure.figsize\"]\n",
    "fig_size[0] = 8\n",
    "fig_size[1] = 6\n",
    "plt.rcParams[\"figure.figsize\"] = fig_size"
   ]
  },
  {
   "cell_type": "code",
   "execution_count": 23,
   "metadata": {},
   "outputs": [
    {
     "data": {
      "text/plain": [
       "<Figure size 576x432 with 0 Axes>"
      ]
     },
     "metadata": {},
     "output_type": "display_data"
    }
   ],
   "source": [
    "plt.figure()\n",
    "cm = plt.cm.RdBu\n",
    "\n",
    "# make data for decision regions\n",
    "xx, yy = np.meshgrid(np.linspace(0.0, 15, 200), np.linspace(0.0, 15, 200))\n",
    "X_grid = [np.array([x, y]) for x, y in zip(xx.flatten(), yy.flatten())]\n",
    "\n",
    "# preprocess grid points like data inputs above\n",
    "padding = 0.3 * np.ones((len(X_grid), 1))\n",
    "X_grid = np.c_[np.c_[X_grid, padding], np.zeros((len(X_grid), 1))]  # pad each input\n",
    "normalization = np.sqrt(np.sum(X_grid ** 2, -1))\n",
    "X_grid = (X_grid.T / normalization).T  # normalize each input\n",
    "features_grid = np.array(\n",
    "    [get_angles(x) for x in X_grid]\n",
    ")  # angles for state preparation are new features\n",
    "predictions_grid = [variational_classifier(var, angles=f) for f in features_grid]\n",
    "Z = np.reshape(predictions_grid, xx.shape)\n"
   ]
  },
  {
   "cell_type": "code",
   "execution_count": 24,
   "metadata": {},
   "outputs": [
    {
     "data": {
      "image/png": "[encoded data removed]",
      "text/plain": [
       "<Figure size 576x432 with 2 Axes>"
      ]
     },
     "metadata": {
      "needs_background": "light"
     },
     "output_type": "display_data"
    }
   ],
   "source": [
    "import matplotlib.patches as mpatches\n",
    "\n",
    "# plot decision regions\n",
    "cnt = plt.contourf(xx, yy, Z, levels=np.arange(-1, 1.1, 0.1), cmap=cm, alpha=0.8, extend=\"both\")\n",
    "a = plt.contour(xx, yy, Z, levels=[0.0], colors=(\"black\",), linestyles=(\"-\",), linewidths=(1,))\n",
    "plt.colorbar(cnt, ticks=[-1, 0, 1])\n",
    "\n",
    "\n",
    "plt.ylabel('Feature 1')\n",
    "plt.xlabel('Feature 0')\n",
    "plt.title(\"Decision Regions\")\n",
    "\n",
    "patch = mpatches.Patch(color='black', linestyle='-', label='decision boundary')\n",
    "plt.legend(handles=[patch], loc='upper left')\n",
    "\n",
    "plt.show()"
   ]
  },
  {
   "cell_type": "code",
   "execution_count": 25,
   "metadata": {},
   "outputs": [
    {
     "data": {
      "image/png": "[encoded data removed]",
      "text/plain": [
       "<Figure size 576x432 with 2 Axes>"
      ]
     },
     "metadata": {
      "needs_background": "light"
     },
     "output_type": "display_data"
    }
   ],
   "source": [
    "dim1 = 0\n",
    "dim2 = 1\n",
    "\n",
    "# plot decision regions\n",
    "cnt = plt.contourf(xx, yy, Z, levels=np.arange(-1, 1.1, 0.1), cmap=cm, alpha=0.8, extend=\"both\")\n",
    "plt.contour(xx, yy, Z, levels=[0.0], colors=(\"black\",), linestyles=(\"-\",), linewidths=(1,))\n",
    "plt.colorbar(cnt, ticks=[-1, 0, 1])\n",
    "\n",
    "patch = mpatches.Patch(color='black', linestyle='-', label='decision boundary')\n",
    "\n",
    "# plot data\n",
    "a = plt.scatter(\n",
    "    X_train[:, dim1][Y_train == 1],\n",
    "    X_train[:, dim2][Y_train == 1],\n",
    "    c=\"b\",\n",
    "    marker=\"o\",\n",
    "    edgecolors=\"k\",\n",
    "    label=\"number 1 (train)\",\n",
    ")\n",
    "b = plt.scatter(\n",
    "    X_val[:, dim1][Y_val == 1],\n",
    "    X_val[:, dim2][Y_val == 1],\n",
    "    c=\"b\",\n",
    "    marker=\"^\",\n",
    "    edgecolors=\"k\",\n",
    "    label=\"number 1 (validation)\",\n",
    ")\n",
    "c = plt.scatter(\n",
    "    X_train[:, dim1][Y_train == -1],\n",
    "    X_train[:, dim2][Y_train == -1],\n",
    "    c=\"r\",\n",
    "    marker=\"o\",\n",
    "    edgecolors=\"k\",\n",
    "    label=\"number 0 (train)\",\n",
    ")\n",
    "d = plt.scatter(\n",
    "    X_val[:, dim1][Y_val == -1],\n",
    "    X_val[:, dim2][Y_val == -1],\n",
    "    c=\"r\",\n",
    "    marker=\"^\",\n",
    "    edgecolors=\"k\",\n",
    "    label=\"number 0 (validation)\",\n",
    ")\n",
    "\n",
    "plt.ylabel('Feature ' + str(dim2))\n",
    "plt.xlabel('Feature ' + str(dim1))\n",
    "plt.title(\"Training Results\")\n",
    "\n",
    "plt.legend(handles=[patch, a, b, c, d], loc='upper left')\n",
    "plt.show()"
   ]
  },
  {
   "cell_type": "code",
   "execution_count": 26,
   "metadata": {},
   "outputs": [
    {
     "data": {
      "image/png": "[encoded data removed]",
      "text/plain": [
       "<Figure size 576x432 with 1 Axes>"
      ]
     },
     "metadata": {
      "needs_background": "light"
     },
     "output_type": "display_data"
    }
   ],
   "source": [
    "# plot acc train, acc val\n",
    "\n",
    "plt.plot(iter_history, train_history, color='blue', label='Train Accuracy')\n",
    "plt.plot(iter_history, val_history, color='red', label='Validation Accuracy')\n",
    "\n",
    "plt.ylabel('Accuracy')\n",
    "plt.xlabel('Iteration')\n",
    "plt.title(\"Train and Validation Accuracy\")\n",
    "\n",
    "plt.legend()\n",
    "plt.show()"
   ]
  },
  {
   "cell_type": "code",
   "execution_count": 27,
   "metadata": {},
   "outputs": [
    {
     "data": {
      "image/png": "[encoded data removed]",
      "text/plain": [
       "<Figure size 576x432 with 1 Axes>"
      ]
     },
     "metadata": {
      "needs_background": "light"
     },
     "output_type": "display_data"
    }
   ],
   "source": [
    "# plot loss train, loss val\n",
    "\n",
    "plt.plot(iter_history, train_loss_history, color='blue', label='Train Loss')\n",
    "plt.plot(iter_history, val_loss_history, color='red', label='Validation Loss')\n",
    "\n",
    "plt.ylabel('Loss')\n",
    "plt.xlabel('Iteration')\n",
    "plt.title(\"Train and Validation Loss (MSE)\")\n",
    "\n",
    "plt.legend()\n",
    "plt.show()"
   ]
  },
  {
   "cell_type": "code",
   "execution_count": 28,
   "metadata": {},
   "outputs": [],
   "source": [
    "# confusion matrix plotter\n",
    "from sklearn.metrics import confusion_matrix\n",
    "from sklearn.utils.multiclass import unique_labels\n",
    "def plot_confusion_matrix(y_true, y_pred, classes,\n",
    "                          normalize=False,\n",
    "                          title=None,\n",
    "                          cmap=plt.cm.Blues):\n",
    "    \"\"\"\n",
    "    This function prints and plots the confusion matrix.\n",
    "    Normalization can be applied by setting `normalize=True`.\n",
    "    \"\"\"\n",
    "    if not title:\n",
    "        if normalize:\n",
    "            title = 'Normalized confusion matrix'\n",
    "        else:\n",
    "            title = 'Confusion matrix, without normalization'\n",
    "\n",
    "    # Compute confusion matrix\n",
    "    cm = confusion_matrix(y_true, y_pred)\n",
    "    # Only use the labels that appear in the data\n",
    "    classes = classes[unique_labels(y_true, y_pred)]\n",
    "    if normalize:\n",
    "        cm = cm.astype('float') / cm.sum(axis=1)[:, np.newaxis]\n",
    "        print(\"Normalized confusion matrix\")\n",
    "    else:\n",
    "        print('Confusion matrix, without normalization')\n",
    "\n",
    "    print(cm)\n",
    "\n",
    "    fig, ax = plt.subplots()\n",
    "    #ax.set_ylim(ax.data.c - .5, - .5)\n",
    "    im = ax.imshow(cm, interpolation='nearest', cmap=cmap)\n",
    "    ax.figure.colorbar(im, ax=ax)\n",
    "    # We want to show all ticks...\n",
    "    ax.set(xticks=np.arange(cm.shape[1]),\n",
    "           yticks=np.arange(cm.shape[0]),\n",
    "           # ... and label them with the respective list entries\n",
    "           xticklabels=classes, yticklabels=classes,\n",
    "           title=title,\n",
    "           ylabel='True label',\n",
    "           xlabel='Predicted label')\n",
    "\n",
    "    # Rotate the tick labels and set their alignment.\n",
    "    plt.setp(ax.get_xticklabels(), rotation=45, ha=\"right\",\n",
    "             rotation_mode=\"anchor\")\n",
    "\n",
    "    # Loop over data dimensions and create text annotations.\n",
    "    fmt = '.2f' if normalize else 'd'\n",
    "    thresh = cm.max() / 2.\n",
    "    for i in range(cm.shape[0]):\n",
    "        for j in range(cm.shape[1]):\n",
    "            ax.text(j, i, format(cm[i, j], fmt),\n",
    "                    ha=\"center\", va=\"center\",\n",
    "                    color=\"white\" if cm[i, j] > thresh else \"black\")\n",
    "    fig.tight_layout()\n",
    "    \n",
    "    return ax\n",
    "\n",
    "\n",
    "np.set_printoptions(precision=2)"
   ]
  },
  {
   "cell_type": "code",
   "execution_count": 29,
   "metadata": {},
   "outputs": [
    {
     "data": {
      "text/plain": [
       "array([0, 0, 0, 1, 0, 0, 0, 0, 1, 0, 1, 0, 1, 1, 1, 0, 0, 0, 0, 0, 0, 1,\n",
       "       1, 1, 1, 0, 1, 1, 1, 1, 0, 0, 0, 1, 0, 0, 0, 1, 0, 1, 1, 0, 1, 1,\n",
       "       1, 0, 1, 1, 1, 1, 0, 0, 0, 0, 0, 1, 1, 0, 1, 1, 1, 0, 1, 1, 0, 1,\n",
       "       0, 0, 0, 0, 0, 1, 1, 0, 0, 1, 0, 1, 1, 1, 0, 0, 1, 1, 1, 1, 0, 1,\n",
       "       1, 0, 0, 1, 0, 0, 0, 0, 1, 0, 0, 0, 0, 0, 1, 0, 0, 1, 0, 1, 0, 1,\n",
       "       0])"
      ]
     },
     "execution_count": 29,
     "metadata": {},
     "output_type": "execute_result"
    }
   ],
   "source": [
    "y_pred_train = np.asarray(predictions_train)\n",
    "y_pred_train = (y_pred_train+1)/2\n",
    "y_pred_train = y_pred_train.astype(int)\n",
    "\n",
    "y_pred_train"
   ]
  },
  {
   "cell_type": "code",
   "execution_count": 30,
   "metadata": {},
   "outputs": [
    {
     "data": {
      "text/plain": [
       "array([0, 0, 0, 1, 0, 0, 0, 0, 1, 0, 1, 0, 1, 1, 1, 0, 0, 0, 0, 0, 0, 1,\n",
       "       1, 1, 1, 0, 1, 1, 1, 1, 0, 1, 0, 1, 0, 0, 0, 1, 0, 1, 1, 0, 1, 1,\n",
       "       1, 0, 1, 1, 1, 1, 0, 0, 0, 0, 0, 1, 1, 1, 1, 1, 1, 0, 1, 1, 0, 1,\n",
       "       1, 0, 0, 0, 0, 1, 1, 0, 0, 1, 0, 1, 1, 1, 0, 0, 1, 1, 0, 1, 0, 1,\n",
       "       1, 0, 0, 1, 0, 0, 0, 0, 1, 1, 0, 0, 0, 0, 1, 0, 0, 1, 0, 1, 0, 1,\n",
       "       0])"
      ]
     },
     "execution_count": 30,
     "metadata": {},
     "output_type": "execute_result"
    }
   ],
   "source": [
    "y_train = (Y_train+1)/2\n",
    "y_train = y_train.astype(int)\n",
    "\n",
    "y_train"
   ]
  },
  {
   "cell_type": "code",
   "execution_count": 31,
   "metadata": {},
   "outputs": [
    {
     "data": {
      "text/plain": [
       "array([0, 1, 0, 1, 1, 0, 1, 0, 1, 1, 1, 0, 1, 1, 0, 1, 1, 1, 1, 0, 1, 0,\n",
       "       1, 1, 1, 0, 0, 1, 0, 1, 0, 0, 0, 1, 0, 1, 0])"
      ]
     },
     "execution_count": 31,
     "metadata": {},
     "output_type": "execute_result"
    }
   ],
   "source": [
    "y_pred_val = np.asarray(predictions_val)\n",
    "y_pred_val = (y_pred_val+1)/2\n",
    "y_pred_val = y_pred_val.astype(int)\n",
    "\n",
    "y_pred_val"
   ]
  },
  {
   "cell_type": "code",
   "execution_count": 32,
   "metadata": {},
   "outputs": [
    {
     "data": {
      "text/plain": [
       "array([0, 1, 0, 1, 0, 0, 1, 0, 1, 1, 1, 0, 1, 1, 0, 1, 1, 1, 1, 0, 1, 0,\n",
       "       1, 1, 1, 0, 0, 1, 0, 1, 0, 0, 0, 1, 0, 1, 0])"
      ]
     },
     "execution_count": 32,
     "metadata": {},
     "output_type": "execute_result"
    }
   ],
   "source": [
    "y_val = (Y_val+1)/2\n",
    "y_val = y_val.astype(int)\n",
    "\n",
    "y_val"
   ]
  },
  {
   "cell_type": "code",
   "execution_count": 33,
   "metadata": {},
   "outputs": [
    {
     "data": {
      "text/plain": [
       "array(['number 0', 'number 1'], dtype='<U8')"
      ]
     },
     "execution_count": 33,
     "metadata": {},
     "output_type": "execute_result"
    }
   ],
   "source": [
    "# true label, number 0 and number 1\n",
    "label = np.array(['number 0', 'number 1'])\n",
    "label"
   ]
  },
  {
   "cell_type": "code",
   "execution_count": 34,
   "metadata": {},
   "outputs": [
    {
     "name": "stdout",
     "output_type": "stream",
     "text": [
      "Confusion matrix, without normalization\n",
      "[[56  1]\n",
      " [ 4 50]]\n",
      "Normalized confusion matrix\n",
      "[[0.98 0.02]\n",
      " [0.07 0.93]]\n"
     ]
    },
    {
     "data": {
      "text/plain": [
       "<matplotlib.axes._subplots.AxesSubplot at 0x27610729988>"
      ]
     },
     "execution_count": 34,
     "metadata": {},
     "output_type": "execute_result"
    },
    {
     "data": {
      "image/png": "[encoded data removed]",
      "text/plain": [
       "<Figure size 576x432 with 2 Axes>"
      ]
     },
     "metadata": {
      "needs_background": "light"
     },
     "output_type": "display_data"
    },
    {
     "data": {
      "image/png": "[encoded data removed]",
      "text/plain": [
       "<Figure size 576x432 with 2 Axes>"
      ]
     },
     "metadata": {
      "needs_background": "light"
     },
     "output_type": "display_data"
    }
   ],
   "source": [
    "# confusion matrix for training\n",
    "\n",
    "plot_confusion_matrix(y_train, y_pred_train, classes=label,\n",
    "                      title='Train Confusion Matrix (without normalization)')\n",
    "\n",
    "plot_confusion_matrix(y_train, y_pred_train, classes=label, normalize=True,\n",
    "                      title='Train Normalized Confusion Matrix')"
   ]
  },
  {
   "cell_type": "code",
   "execution_count": 35,
   "metadata": {},
   "outputs": [
    {
     "name": "stdout",
     "output_type": "stream",
     "text": [
      "Confusion matrix, without normalization\n",
      "[[16  1]\n",
      " [ 0 20]]\n",
      "Normalized confusion matrix\n",
      "[[0.94 0.06]\n",
      " [0.   1.  ]]\n"
     ]
    },
    {
     "data": {
      "text/plain": [
       "<matplotlib.axes._subplots.AxesSubplot at 0x27611852ac8>"
      ]
     },
     "execution_count": 35,
     "metadata": {},
     "output_type": "execute_result"
    },
    {
     "data": {
      "image/png": "[encoded data removed]",
      "text/plain": [
       "<Figure size 576x432 with 2 Axes>"
      ]
     },
     "metadata": {
      "needs_background": "light"
     },
     "output_type": "display_data"
    },
    {
     "data": {
      "image/png": "[encoded data removed]",
      "text/plain": [
       "<Figure size 576x432 with 2 Axes>"
      ]
     },
     "metadata": {
      "needs_background": "light"
     },
     "output_type": "display_data"
    }
   ],
   "source": [
    "# confusion matrix for validation\n",
    "\n",
    "plot_confusion_matrix(y_val, y_pred_val, classes=label,\n",
    "                      title='Validation Confusion Matrix (without normalization)')\n",
    "\n",
    "plot_confusion_matrix(y_val, y_pred_val, classes=label, normalize=True,\n",
    "                      title='Validation Normalized Confusion Matrix')"
   ]
  },
  {
   "cell_type": "code",
   "execution_count": 36,
   "metadata": {},
   "outputs": [
    {
     "data": {
      "text/plain": [
       "[array([[[-6.73e-03, -3.91e-01, -6.76e-03],\n",
       "         [ 1.49e-02,  5.72e-01,  9.54e-03]],\n",
       " \n",
       "        [[ 2.25e-03, -4.83e-01,  4.33e-04],\n",
       "         [-4.84e-03,  3.42e-01, -7.49e-03]],\n",
       " \n",
       "        [[ 1.38e-02, -5.06e-01, -1.08e-02],\n",
       "         [-1.01e-02,  3.56e-01,  6.22e-03]],\n",
       " \n",
       "        [[ 1.68e-03, -5.50e-01, -1.04e-02],\n",
       "         [-1.55e-02,  1.56e-01,  2.19e-02]],\n",
       " \n",
       "        [[ 1.30e-02, -5.41e-01, -6.97e-03],\n",
       "         [-1.26e-02,  1.67e-01,  5.89e-03]],\n",
       " \n",
       "        [[ 8.48e-03, -6.03e-01, -1.08e-02],\n",
       "         [-6.93e-03, -2.34e-02,  1.66e-02]]]), -0.026098117958761755]"
      ]
     },
     "execution_count": 36,
     "metadata": {},
     "output_type": "execute_result"
    }
   ],
   "source": [
    "# the weights and bias after training\n",
    "var"
   ]
  },
  {
   "cell_type": "code",
   "execution_count": 37,
   "metadata": {},
   "outputs": [],
   "source": [
    "# convert to array and save to csv file\n",
    "\n",
    "weights = np.asarray(var[0]).reshape(num_qubits*num_layers,3)\n",
    "bias = np.array([var[1]])\n",
    "\n",
    "from numpy import savetxt\n",
    "\n",
    "savetxt('C:/Users/user/Jupyter Notebook Project/Tugas Akhir/weights_QVC_mnist01_pca2.csv', weights, delimiter=',')\n",
    "savetxt('C:/Users/user/Jupyter Notebook Project/Tugas Akhir/bias_QVC_mnist01_pca2.csv', bias, delimiter=',')"
   ]
  },
  {
   "cell_type": "code",
   "execution_count": 38,
   "metadata": {},
   "outputs": [
    {
     "data": {
      "text/plain": [
       "[array([[[-6.73e-03, -3.91e-01, -6.76e-03],\n",
       "         [ 1.49e-02,  5.72e-01,  9.54e-03]],\n",
       " \n",
       "        [[ 2.25e-03, -4.83e-01,  4.33e-04],\n",
       "         [-4.84e-03,  3.42e-01, -7.49e-03]],\n",
       " \n",
       "        [[ 1.38e-02, -5.06e-01, -1.08e-02],\n",
       "         [-1.01e-02,  3.56e-01,  6.22e-03]],\n",
       " \n",
       "        [[ 1.68e-03, -5.50e-01, -1.04e-02],\n",
       "         [-1.55e-02,  1.56e-01,  2.19e-02]],\n",
       " \n",
       "        [[ 1.30e-02, -5.41e-01, -6.97e-03],\n",
       "         [-1.26e-02,  1.67e-01,  5.89e-03]],\n",
       " \n",
       "        [[ 8.48e-03, -6.03e-01, -1.08e-02],\n",
       "         [-6.93e-03, -2.34e-02,  1.66e-02]]]), -0.026098117958761755]"
      ]
     },
     "execution_count": 38,
     "metadata": {},
     "output_type": "execute_result"
    }
   ],
   "source": [
    "# load the weights and bias from csv file\n",
    "\n",
    "a = loadtxt('C:/Users/user/Jupyter Notebook Project/Tugas Akhir/weights_QVC_mnist01_pca2.csv', delimiter=',')\n",
    "b = loadtxt('C:/Users/user/Jupyter Notebook Project/Tugas Akhir/bias_QVC_mnist01_pca2.csv', delimiter=',')\n",
    "a = np.reshape(a, (6,2,3))\n",
    "b = np.reshape(b, (1,))\n",
    "\n",
    "test = [a, b[0]]\n",
    "test"
   ]
  },
  {
   "cell_type": "code",
   "execution_count": 39,
   "metadata": {},
   "outputs": [
    {
     "data": {
      "text/plain": [
       "array([[[ True,  True,  True],\n",
       "        [ True,  True,  True]],\n",
       "\n",
       "       [[ True,  True,  True],\n",
       "        [ True,  True,  True]],\n",
       "\n",
       "       [[ True,  True,  True],\n",
       "        [ True,  True,  True]],\n",
       "\n",
       "       [[ True,  True,  True],\n",
       "        [ True,  True,  True]],\n",
       "\n",
       "       [[ True,  True,  True],\n",
       "        [ True,  True,  True]],\n",
       "\n",
       "       [[ True,  True,  True],\n",
       "        [ True,  True,  True]]])"
      ]
     },
     "execution_count": 39,
     "metadata": {},
     "output_type": "execute_result"
    }
   ],
   "source": [
    "test[0] == var[0]"
   ]
  },
  {
   "cell_type": "code",
   "execution_count": 40,
   "metadata": {},
   "outputs": [
    {
     "data": {
      "text/plain": [
       "True"
      ]
     },
     "execution_count": 40,
     "metadata": {},
     "output_type": "execute_result"
    }
   ],
   "source": [
    "test[1] == var[1]"
   ]
  },
  {
   "cell_type": "code",
   "execution_count": null,
   "metadata": {},
   "outputs": [],
   "source": []
  }
 ],
 "metadata": {
  "kernelspec": {
   "display_name": "Python 3",
   "language": "python",
   "name": "python3"
  },
  "language_info": {
   "codemirror_mode": {
    "name": "ipython",
    "version": 3
   },
   "file_extension": ".py",
   "mimetype": "text/x-python",
   "name": "python",
   "nbconvert_exporter": "python",
   "pygments_lexer": "ipython3",
   "version": "3.7.4"
  }
 },
 "nbformat": 4,
 "nbformat_minor": 2
}
