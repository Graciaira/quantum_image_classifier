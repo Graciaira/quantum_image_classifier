{
 "cells": [
  {
   "cell_type": "code",
   "execution_count": 2,
   "metadata": {},
   "outputs": [],
   "source": [
    "from numpy import loadtxt\n",
    "import pandas as pd\n",
    "import matplotlib.pyplot as plt\n",
    "import numpy as np"
   ]
  },
  {
   "cell_type": "markdown",
   "metadata": {},
   "source": [
    "# Data Load"
   ]
  },
  {
   "cell_type": "code",
   "execution_count": 59,
   "metadata": {},
   "outputs": [],
   "source": [
    "# load dataset\n",
    "\n",
    "label = 0\n",
    "\n",
    "X = loadtxt('C:/Users/user/quantum_image_classifier/Image Preprocessing/Dataset One-vs-All/x_train_8features_' + str(0) + '.txt', delimiter=',')\n",
    "\n",
    "X_test = loadtxt('C:/Users/user/quantum_image_classifier/Image Preprocessing/Dataset One-vs-All/x_test_8features_' + str(0) + '.txt', delimiter=',')"
   ]
  },
  {
   "cell_type": "code",
   "execution_count": 60,
   "metadata": {},
   "outputs": [
    {
     "data": {
      "text/plain": [
       "1008"
      ]
     },
     "execution_count": 60,
     "metadata": {},
     "output_type": "execute_result"
    }
   ],
   "source": [
    "X.shape[0]"
   ]
  },
  {
   "cell_type": "code",
   "execution_count": 61,
   "metadata": {},
   "outputs": [],
   "source": [
    "Y = np.zeros((X.shape[0],))\n",
    "Y[:int(X.shape[0]/2)] = 1\n",
    "Y[int(X.shape[0]/2):] = -1\n",
    "\n",
    "Y_test = np.zeros((X_test.shape[0],))\n",
    "Y_test[:int(X_test.shape[0]/2)] = 1\n",
    "Y_test[int(X_test.shape[0]/2):] = -1"
   ]
  },
  {
   "cell_type": "code",
   "execution_count": 62,
   "metadata": {},
   "outputs": [
    {
     "name": "stdout",
     "output_type": "stream",
     "text": [
      "(1008, 8) (1008,)\n",
      "(216, 8) (216,)\n"
     ]
    }
   ],
   "source": [
    "print(X.shape, Y.shape)\n",
    "print(X_test.shape, Y_test.shape)"
   ]
  },
  {
   "cell_type": "markdown",
   "metadata": {},
   "source": [
    "# Create Quantum Model"
   ]
  },
  {
   "cell_type": "code",
   "execution_count": 63,
   "metadata": {},
   "outputs": [],
   "source": [
    "%matplotlib inline\n",
    "\n",
    "import pennylane as qml\n",
    "from pennylane import numpy as np\n",
    "import numpy\n",
    "from pennylane.optimize import *\n",
    "\n",
    "from qiskit import *\n",
    "from qiskit.providers.aer.noise import NoiseModel"
   ]
  },
  {
   "cell_type": "markdown",
   "metadata": {},
   "source": [
    "## Choose a Quantum Device\n",
    "\n",
    "You can choose between several different backend (including the one ownwed by IBM)"
   ]
  },
  {
   "cell_type": "code",
   "execution_count": 64,
   "metadata": {},
   "outputs": [],
   "source": [
    "def select_backend(num_qubit, selected, shots):\n",
    "    if selected == 'pennylane_statevector_simulator':\n",
    "        # PennyLane Statevector simulator\n",
    "        dev = qml.device(\"default.qubit\", wires=num_qubit)\n",
    "\n",
    "    elif selected == 'qiskit_noisefree_qasm_simulator':\n",
    "        # Qiskit QASM simulator (noise-free)\n",
    "        dev = qml.device(\"qiskit.aer\", wires=num_qubit, shots=shots, analytic=False, backend='qasm_simulator')\n",
    "\n",
    "    elif selected == 'qiskit_noisy_qasm_simulator':\n",
    "        # Qiskit QASM simulator + noise\n",
    "        provider = IBMQ.load_account()\n",
    "        backend = provider.get_backend('ibmq_athens')\n",
    "        noise_model = NoiseModel.from_backend(backend)\n",
    "        dev = qml.device(\"qiskit.aer\", wires=num_qubit, shots=shots, noise_model = noise_model, analytic=False, backend='qasm_simulator')\n",
    "        \n",
    "    return dev"
   ]
  },
  {
   "cell_type": "code",
   "execution_count": 65,
   "metadata": {},
   "outputs": [],
   "source": [
    "num_qubit = 3\n",
    "dev = select_backend(num_qubit, 'pennylane_statevector_simulator', 1024)"
   ]
  },
  {
   "cell_type": "markdown",
   "metadata": {},
   "source": [
    "## Loss and Acc Metric"
   ]
  },
  {
   "cell_type": "code",
   "execution_count": 66,
   "metadata": {},
   "outputs": [],
   "source": [
    "# MSE\n",
    "def square_loss(labels, predictions):\n",
    "    loss = 0\n",
    "    for l, p in zip(labels, predictions):\n",
    "        loss = loss + (l - p) ** 2\n",
    "\n",
    "    loss = loss / len(labels)\n",
    "    return loss\n",
    "\n",
    "# Cost-Sensitive Learning for Imbalanced Classification\n",
    "def confusion_matrix_loss(labels, predictions):\n",
    "    cost_matrix=np.array([[0, 0.9], [0.1, 0]])\n",
    "    \n",
    "    TP = 0\n",
    "    TN = 0\n",
    "    FP = 0\n",
    "    FN = 0\n",
    "    \n",
    "    # count the TP, TN, FP, and FN\n",
    "    for l, p in zip(labels, predictions):\n",
    "        if l == 1:\n",
    "            if p == 1:\n",
    "                TP += 1\n",
    "            else:\n",
    "                FN += 1\n",
    "        else:\n",
    "            if p == 1:\n",
    "                FP += 1\n",
    "            else:\n",
    "                TN += 1\n",
    "            \n",
    "    # create the confusion matrix\n",
    "    CM = np.array([[TN, FN], [FP, TP]])\n",
    "    \n",
    "    # calculate loss\n",
    "    loss = float(np.sum(CM*cost_matrix))/len(labels)\n",
    "\n",
    "    return loss\n",
    "\n",
    "# true predictions/total predictions\n",
    "def accuracy(labels, predictions):\n",
    "    acc = 0\n",
    "    for l, p in zip(labels, predictions):\n",
    "        if abs(l - p) < 1e-5:\n",
    "            acc = acc + 1\n",
    "    acc = acc / len(labels)\n",
    "\n",
    "    return acc"
   ]
  },
  {
   "cell_type": "code",
   "execution_count": 163,
   "metadata": {},
   "outputs": [
    {
     "data": {
      "text/plain": [
       "0.1"
      ]
     },
     "execution_count": 163,
     "metadata": {},
     "output_type": "execute_result"
    }
   ],
   "source": [
    "confusion_matrix_loss(Y_train, predictions_train)"
   ]
  },
  {
   "cell_type": "code",
   "execution_count": 164,
   "metadata": {},
   "outputs": [
    {
     "data": {
      "text/plain": [
       "0.9032258064516129"
      ]
     },
     "execution_count": 164,
     "metadata": {},
     "output_type": "execute_result"
    }
   ],
   "source": [
    "square_loss(Y_train, predictions_train)"
   ]
  },
  {
   "cell_type": "code",
   "execution_count": 200,
   "metadata": {},
   "outputs": [],
   "source": [
    "cost_matrix = np.array([[0, 0.9], [0.1, 0]])"
   ]
  },
  {
   "cell_type": "code",
   "execution_count": 181,
   "metadata": {},
   "outputs": [
    {
     "data": {
      "text/plain": [
       "array([0.9, 0.1])"
      ]
     },
     "execution_count": 181,
     "metadata": {},
     "output_type": "execute_result"
    }
   ],
   "source": [
    "loss_weight = np.unique(Y, return_counts=True)[1]/np.sum(np.unique(Y, return_counts=True)[1])\n",
    "loss_weight"
   ]
  },
  {
   "cell_type": "markdown",
   "metadata": {},
   "source": [
    "## Quantum Amplitude Encoding Function"
   ]
  },
  {
   "cell_type": "code",
   "execution_count": 67,
   "metadata": {},
   "outputs": [],
   "source": [
    "# a function to calculate the angle β\n",
    "\n",
    "def beta(s, j, X_sample):\n",
    "    # numerator index\n",
    "    index_num = (2*j-1)*(2**(s-1))\n",
    "    # denominator index\n",
    "    index_den = (j-1)*(2**s)\n",
    "    \n",
    "    num = np.sqrt(np.sum(abs(X_sample[index_num : index_num+2**(s-1)])**2))\n",
    "    den = np.sqrt(np.sum(abs(X_sample[index_den : index_den+2**(s)])**2))\n",
    "    \n",
    "    if den == 0:\n",
    "        #print(\"Zero denominator!\")\n",
    "        beta = 0\n",
    "    else:\n",
    "        beta = 2*np.arcsin(num/den)\n",
    "    \n",
    "    return beta"
   ]
  },
  {
   "cell_type": "code",
   "execution_count": 68,
   "metadata": {},
   "outputs": [],
   "source": [
    "def get_angles(x):\n",
    "    \n",
    "    return np.array([beta(3,1,x), beta(2,2,x), beta(2,1,x), beta(1,4,x), beta(1,3,x), beta(1,2,x), beta(1,1,x)])"
   ]
  },
  {
   "cell_type": "code",
   "execution_count": 69,
   "metadata": {},
   "outputs": [],
   "source": [
    "def U3_gate(θ, wires):\n",
    "    qml.RX(np.pi/2, wires=wires)\n",
    "    qml.RZ(θ, wires=wires)\n",
    "    qml.RX(-np.pi/2, wires=wires)"
   ]
  },
  {
   "cell_type": "code",
   "execution_count": 70,
   "metadata": {},
   "outputs": [],
   "source": [
    "def statepreparation(a):\n",
    "    qml.RY(a[0], wires=0)\n",
    "    \n",
    "    U3_gate(a[1]/2, wires=1)\n",
    "    qml.CNOT(wires=[0,1])\n",
    "    U3_gate(-a[1]/2, wires=1)\n",
    "    qml.CNOT(wires=[0,1])\n",
    "    \n",
    "    qml.PauliX(wires=0)\n",
    "    U3_gate(a[2]/2, wires=1)\n",
    "    qml.CNOT(wires=[0,1])\n",
    "    U3_gate(-a[2]/2, wires=1)\n",
    "    qml.CNOT(wires=[0,1])\n",
    "    qml.PauliX(wires=0)\n",
    "    \n",
    "    U3_gate(a[3]/2, wires=2)\n",
    "    qml.Toffoli(wires=[0,1,2])\n",
    "    U3_gate(-a[3]/2, wires=2)\n",
    "    qml.Toffoli(wires=[0,1,2])\n",
    "    \n",
    "    qml.PauliX(wires=1)\n",
    "    U3_gate(a[4]/2, wires=2)\n",
    "    qml.Toffoli(wires=[0,1,2])\n",
    "    U3_gate(-a[4]/2, wires=2)\n",
    "    qml.Toffoli(wires=[0,1,2])\n",
    "    qml.PauliX(wires=1)\n",
    "    \n",
    "    qml.PauliX(wires=0)\n",
    "    U3_gate(a[5]/2, wires=2)\n",
    "    qml.Toffoli(wires=[0,1,2])\n",
    "    U3_gate(-a[5]/2, wires=2)\n",
    "    qml.Toffoli(wires=[0,1,2])\n",
    "    \n",
    "    qml.PauliX(wires=1)\n",
    "    U3_gate(a[6]/2, wires=2)\n",
    "    qml.Toffoli(wires=[0,1,2])\n",
    "    U3_gate(-a[6]/2, wires=2)\n",
    "    qml.Toffoli(wires=[0,1,2])\n",
    "    qml.PauliX(wires=1)\n",
    "    \n",
    "    qml.PauliX(wires=0)"
   ]
  },
  {
   "cell_type": "code",
   "execution_count": 71,
   "metadata": {},
   "outputs": [
    {
     "name": "stdout",
     "output_type": "stream",
     "text": [
      "x               :  [0.85651456 0.01857334 0.25204555 0.90887045 0.41886124 0.8437664\n",
      " 0.21724143 0.40669399]\n",
      "angles          :  [1.37735744 0.91036337 1.66679029 2.16038447 2.22003606 2.60055393\n",
      " 0.0433628 ]\n",
      "amplitude vector:  [[[0.519003   0.01125447]\n",
      "  [0.15272641 0.55072793]]\n",
      "\n",
      " [[0.25380799 0.51127829]\n",
      "  [0.13163694 0.24643528]]]\n"
     ]
    }
   ],
   "source": [
    "x = np.random.rand(8)\n",
    "ang = get_angles(x)\n",
    "\n",
    "\n",
    "@qml.qnode(dev)\n",
    "def test(angles=None):\n",
    "\n",
    "    statepreparation(angles)\n",
    "\n",
    "    return qml.expval(qml.PauliZ(0))\n",
    "\n",
    "\n",
    "test(angles=ang)\n",
    "\n",
    "print(\"x               : \", x)\n",
    "print(\"angles          : \", ang)\n",
    "print(\"amplitude vector: \", np.real(dev._state))"
   ]
  },
  {
   "cell_type": "markdown",
   "metadata": {},
   "source": [
    "## Define the Layer"
   ]
  },
  {
   "cell_type": "code",
   "execution_count": 72,
   "metadata": {},
   "outputs": [],
   "source": [
    "def layer(W):\n",
    "    qml.Rot(W[0, 0], W[0, 1], W[0, 2], wires=0)\n",
    "    qml.Rot(W[1, 0], W[1, 1], W[1, 2], wires=1)\n",
    "    qml.Rot(W[2, 0], W[2, 1], W[2, 2], wires=2)\n",
    "    qml.CNOT(wires=[0, 1])\n",
    "    qml.CNOT(wires=[1, 2])\n",
    "    qml.CNOT(wires=[2, 0])"
   ]
  },
  {
   "cell_type": "markdown",
   "metadata": {},
   "source": [
    "## Build the Quantum Circuit, Define Cost Function, Create VQC"
   ]
  },
  {
   "cell_type": "code",
   "execution_count": 86,
   "metadata": {},
   "outputs": [],
   "source": [
    "@qml.qnode(dev)\n",
    "def circuit(weights, angles=None):\n",
    "    statepreparation(angles)\n",
    "\n",
    "    for W in weights:\n",
    "        layer(W)\n",
    "\n",
    "    return qml.expval(qml.PauliZ(0))\n",
    "\n",
    "\n",
    "def variational_classifier(var, angles=None):\n",
    "    weights = var[0]\n",
    "    bias = var[1]\n",
    "    return circuit(weights, angles=angles) + bias\n",
    "\n",
    "\n",
    "def cost(weights, features, labels):\n",
    "    predictions = [variational_classifier(weights, angles=f) for f in features]\n",
    "    return square_loss(labels, predictions)"
   ]
  },
  {
   "cell_type": "markdown",
   "metadata": {},
   "source": [
    "# Data Prep"
   ]
  },
  {
   "cell_type": "markdown",
   "metadata": {},
   "source": [
    "## Data (Padding), Normalization and Data Encoding"
   ]
  },
  {
   "cell_type": "code",
   "execution_count": 74,
   "metadata": {},
   "outputs": [
    {
     "name": "stdout",
     "output_type": "stream",
     "text": [
      "First X train sample (original)  : [ 3.96752304 -1.15630211  2.33858651 -1.80692626 -3.24421656 -0.71353148\n",
      " -0.17655089 -0.41164546]\n",
      "First X train sample (normalized): [ 0.65184348 -0.18997445  0.38421765 -0.29686862 -0.53300797 -0.11722953\n",
      " -0.0290064  -0.06763122]\n",
      "First features sample      : [1.16637288 0.26806496 1.24161413 2.33126975 0.43298526 1.31568975\n",
      " 0.56717374]\n"
     ]
    }
   ],
   "source": [
    "# train and val\n",
    "\n",
    "print(\"First X train sample (original)  :\", X[0])\n",
    "\n",
    "# # pad the vectors to size 2^2 with constant values\n",
    "# padding = 0.3 * np.ones((len(X), 1))\n",
    "# X_pad = np.c_[np.c_[X, padding], np.zeros((len(X), 1))]\n",
    "# print(\"First X sample (padded)    :\", X_pad[0])\n",
    "\n",
    "X_pad = X.copy()\n",
    "\n",
    "# normalize each input\n",
    "normalization = np.sqrt(np.sum(X_pad ** 2, -1))\n",
    "X_norm = (X_pad.T / normalization).T\n",
    "print(\"First X train sample (normalized):\", X_norm[0])\n",
    "\n",
    "# angles for state preparation are new features\n",
    "features = np.array([get_angles(x) for x in X_norm])\n",
    "print(\"First features sample      :\", features[0])"
   ]
  },
  {
   "cell_type": "code",
   "execution_count": 75,
   "metadata": {},
   "outputs": [
    {
     "data": {
      "text/plain": [
       "1.0"
      ]
     },
     "execution_count": 75,
     "metadata": {},
     "output_type": "execute_result"
    }
   ],
   "source": [
    "sampel = 436\n",
    "\n",
    "result = 0\n",
    "\n",
    "for i in range (8):\n",
    "    result += X_norm[sampel, i]**2\n",
    "\n",
    "np.sqrt(result)"
   ]
  },
  {
   "cell_type": "code",
   "execution_count": 76,
   "metadata": {},
   "outputs": [
    {
     "name": "stdout",
     "output_type": "stream",
     "text": [
      "First X test sample (original)  : [ 4.83885093  0.44290373  0.99533214 -0.38530635 -0.81798657 -1.90399072\n",
      "  2.72785227  0.29909493]\n",
      "First X test sample (normalized): [ 0.80011389  0.07323504  0.1645802  -0.06371119 -0.13525575 -0.31482876\n",
      "  0.45105595  0.04945596]\n",
      "First test features sample      : [1.20961162 1.84802298 0.4324375  0.2184172  2.33004329 0.73869613\n",
      " 0.18255286]\n"
     ]
    }
   ],
   "source": [
    "print(\"First X test sample (original)  :\", X_test[0])\n",
    "\n",
    "# # pad the vectors to size 2^2 with constant values\n",
    "# padding = 0.3 * np.ones((len(X_test), 1))\n",
    "# X_pad = np.c_[np.c_[X_test, padding], np.zeros((len(X_test), 1))]\n",
    "# print(\"First X sample (padded)    :\", X_pad[0])\n",
    "\n",
    "X_pad = X_test.copy()\n",
    "\n",
    "# normalize each input\n",
    "normalization = np.sqrt(np.sum(X_pad ** 2, -1))\n",
    "X_norm = (X_pad.T / normalization).T\n",
    "print(\"First X test sample (normalized):\", X_norm[0])\n",
    "\n",
    "# angles for state preparation are new features\n",
    "feats_test = np.array([get_angles(x) for x in X_norm])\n",
    "print(\"First test features sample      :\", feats_test[0])"
   ]
  },
  {
   "cell_type": "code",
   "execution_count": 77,
   "metadata": {},
   "outputs": [
    {
     "data": {
      "text/plain": [
       "0.9999999999999999"
      ]
     },
     "execution_count": 77,
     "metadata": {},
     "output_type": "execute_result"
    }
   ],
   "source": [
    "sampel = 17\n",
    "\n",
    "result = 0\n",
    "\n",
    "for i in range (8):\n",
    "    result += X_norm[sampel, i]**2\n",
    "\n",
    "np.sqrt(result)"
   ]
  },
  {
   "cell_type": "code",
   "execution_count": 78,
   "metadata": {},
   "outputs": [],
   "source": [
    "# split X and y to train and validation\n",
    "\n",
    "from sklearn.model_selection import train_test_split\n",
    "\n",
    "feats_train, feats_val, Y_train, Y_val = train_test_split(features, Y, test_size=0.2, random_state=2020)\n",
    "\n",
    "X_train, X_val, Y_train, Y_val = train_test_split(X, Y, test_size=0.2, random_state=2020)"
   ]
  },
  {
   "cell_type": "code",
   "execution_count": 79,
   "metadata": {},
   "outputs": [
    {
     "name": "stdout",
     "output_type": "stream",
     "text": [
      "(806, 8) (806, 7) (806,)\n",
      "(202, 8) (202, 7) (202,)\n",
      "(216, 8) (216, 7) (216,)\n"
     ]
    }
   ],
   "source": [
    "print(X_train.shape, feats_train.shape, Y_train.shape)\n",
    "print(X_val.shape, feats_val.shape, Y_val.shape)\n",
    "print(X_test.shape, feats_test.shape, Y_test.shape)"
   ]
  },
  {
   "cell_type": "markdown",
   "metadata": {},
   "source": [
    "# Training"
   ]
  },
  {
   "cell_type": "markdown",
   "metadata": {},
   "source": [
    "## Qubits, Layers and Weights Initialization"
   ]
  },
  {
   "cell_type": "code",
   "execution_count": 87,
   "metadata": {},
   "outputs": [],
   "source": [
    "# First we initialize the hyperparameters\n",
    "\n",
    "num_qubits = 3  # 8 features = log2(8) qubits = 3 qubits\n",
    "num_layers = 12  # QNN layer\n",
    "learning_rate = 0.01\n",
    "\n",
    "opt = RMSPropOptimizer(stepsize=learning_rate)\n",
    "batch_size = 32\n",
    "max_iter = 100\n",
    "\n",
    "var_init = (0.01 * np.random.randn(num_layers, num_qubits, 3), 0.0)  # weights and bias initialization"
   ]
  },
  {
   "cell_type": "code",
   "execution_count": 88,
   "metadata": {},
   "outputs": [
    {
     "data": {
      "text/plain": [
       "806"
      ]
     },
     "execution_count": 88,
     "metadata": {},
     "output_type": "execute_result"
    }
   ],
   "source": [
    "num_train = X_train.shape[0]\n",
    "num_train"
   ]
  },
  {
   "cell_type": "markdown",
   "metadata": {},
   "source": [
    "## Training Iteration"
   ]
  },
  {
   "cell_type": "code",
   "execution_count": 89,
   "metadata": {
    "scrolled": false
   },
   "outputs": [
    {
     "name": "stdout",
     "output_type": "stream",
     "text": [
      "Iter:     1 | Train Loss: 0.9951708 | Validation Loss: 0.9101884 | Train Acc: 0.5719603 | Validation Acc: 0.6039604 \n",
      "Iter:     2 | Train Loss: 0.9389832 | Validation Loss: 0.8523028 | Train Acc: 0.6116625 | Validation Acc: 0.6683168 \n",
      "Iter:     3 | Train Loss: 0.8988637 | Validation Loss: 0.8067024 | Train Acc: 0.6389578 | Validation Acc: 0.7079208 \n",
      "Iter:     4 | Train Loss: 0.8490746 | Validation Loss: 0.7654738 | Train Acc: 0.6650124 | Validation Acc: 0.7425743 \n",
      "Iter:     5 | Train Loss: 0.8164320 | Validation Loss: 0.7331263 | Train Acc: 0.6898263 | Validation Acc: 0.7673267 \n",
      "Iter:     6 | Train Loss: 0.7814955 | Validation Loss: 0.7075511 | Train Acc: 0.7059553 | Validation Acc: 0.7772277 \n",
      "Iter:     7 | Train Loss: 0.7878029 | Validation Loss: 0.7076601 | Train Acc: 0.7059553 | Validation Acc: 0.7623762 \n",
      "Iter:     8 | Train Loss: 0.7414093 | Validation Loss: 0.6729207 | Train Acc: 0.7295285 | Validation Acc: 0.8019802 \n",
      "Iter:     9 | Train Loss: 0.7264592 | Validation Loss: 0.6620242 | Train Acc: 0.7245658 | Validation Acc: 0.8019802 \n",
      "Iter:    10 | Train Loss: 0.7240933 | Validation Loss: 0.6614122 | Train Acc: 0.7270471 | Validation Acc: 0.8118812 \n",
      "Iter:    11 | Train Loss: 0.6905150 | Validation Loss: 0.6363815 | Train Acc: 0.7555831 | Validation Acc: 0.8267327 \n",
      "Iter:    12 | Train Loss: 0.6800705 | Validation Loss: 0.6370938 | Train Acc: 0.7593052 | Validation Acc: 0.8118812 \n",
      "Iter:    13 | Train Loss: 0.6683532 | Validation Loss: 0.6163917 | Train Acc: 0.7729529 | Validation Acc: 0.8415842 \n",
      "Iter:    14 | Train Loss: 0.6518984 | Validation Loss: 0.6048259 | Train Acc: 0.7915633 | Validation Acc: 0.8514851 \n",
      "Iter:    15 | Train Loss: 0.6522700 | Validation Loss: 0.6063610 | Train Acc: 0.7853598 | Validation Acc: 0.8316832 \n",
      "Iter:    16 | Train Loss: 0.6549351 | Validation Loss: 0.6041990 | Train Acc: 0.7828784 | Validation Acc: 0.8415842 \n",
      "Iter:    17 | Train Loss: 0.6421570 | Validation Loss: 0.5999314 | Train Acc: 0.7915633 | Validation Acc: 0.8415842 \n",
      "Iter:    18 | Train Loss: 0.6361777 | Validation Loss: 0.5961009 | Train Acc: 0.8014888 | Validation Acc: 0.8564356 \n",
      "Iter:    19 | Train Loss: 0.6220445 | Validation Loss: 0.5836598 | Train Acc: 0.8052109 | Validation Acc: 0.8514851 \n",
      "Iter:    20 | Train Loss: 0.6133455 | Validation Loss: 0.5864118 | Train Acc: 0.8300248 | Validation Acc: 0.8663366 \n",
      "Iter:    21 | Train Loss: 0.6126101 | Validation Loss: 0.5849859 | Train Acc: 0.8325062 | Validation Acc: 0.8663366 \n",
      "Iter:    22 | Train Loss: 0.6221960 | Validation Loss: 0.5941165 | Train Acc: 0.8089330 | Validation Acc: 0.8316832 \n",
      "Iter:    23 | Train Loss: 0.6109567 | Validation Loss: 0.5888163 | Train Acc: 0.8163772 | Validation Acc: 0.8267327 \n",
      "Iter:    24 | Train Loss: 0.6190995 | Validation Loss: 0.6016547 | Train Acc: 0.8163772 | Validation Acc: 0.8366337 \n",
      "Iter:    25 | Train Loss: 0.5998264 | Validation Loss: 0.5826007 | Train Acc: 0.8337469 | Validation Acc: 0.8663366 \n",
      "Iter:    26 | Train Loss: 0.6046773 | Validation Loss: 0.5867040 | Train Acc: 0.8089330 | Validation Acc: 0.8465347 \n",
      "Iter:    27 | Train Loss: 0.6161118 | Validation Loss: 0.6002524 | Train Acc: 0.8052109 | Validation Acc: 0.8366337 \n",
      "Iter:    28 | Train Loss: 0.5948990 | Validation Loss: 0.5769087 | Train Acc: 0.8300248 | Validation Acc: 0.8564356 \n",
      "Iter:    29 | Train Loss: 0.5975925 | Validation Loss: 0.5784608 | Train Acc: 0.8337469 | Validation Acc: 0.8712871 \n",
      "Iter:    30 | Train Loss: 0.5960758 | Validation Loss: 0.5792594 | Train Acc: 0.8337469 | Validation Acc: 0.8762376 \n",
      "Iter:    31 | Train Loss: 0.5900361 | Validation Loss: 0.5721051 | Train Acc: 0.8300248 | Validation Acc: 0.8613861 \n",
      "Iter:    32 | Train Loss: 0.5908492 | Validation Loss: 0.5805206 | Train Acc: 0.8312655 | Validation Acc: 0.8514851 \n",
      "Iter:    33 | Train Loss: 0.5961277 | Validation Loss: 0.5935347 | Train Acc: 0.8337469 | Validation Acc: 0.8564356 \n",
      "Iter:    34 | Train Loss: 0.5964806 | Validation Loss: 0.5853948 | Train Acc: 0.8213400 | Validation Acc: 0.8168317 \n",
      "Iter:    35 | Train Loss: 0.6008132 | Validation Loss: 0.5869093 | Train Acc: 0.8151365 | Validation Acc: 0.8267327 \n",
      "Iter:    36 | Train Loss: 0.5968981 | Validation Loss: 0.5894407 | Train Acc: 0.8126551 | Validation Acc: 0.8316832 \n",
      "Iter:    37 | Train Loss: 0.5932127 | Validation Loss: 0.5818526 | Train Acc: 0.8325062 | Validation Acc: 0.8564356 \n",
      "Iter:    38 | Train Loss: 0.5847133 | Validation Loss: 0.5701340 | Train Acc: 0.8337469 | Validation Acc: 0.8564356 \n",
      "Iter:    39 | Train Loss: 0.5801790 | Validation Loss: 0.5647007 | Train Acc: 0.8399504 | Validation Acc: 0.8613861 \n",
      "Iter:    40 | Train Loss: 0.5797391 | Validation Loss: 0.5650549 | Train Acc: 0.8387097 | Validation Acc: 0.8613861 \n",
      "Iter:    41 | Train Loss: 0.5837675 | Validation Loss: 0.5759911 | Train Acc: 0.8362283 | Validation Acc: 0.8514851 \n",
      "Iter:    42 | Train Loss: 0.5755383 | Validation Loss: 0.5641065 | Train Acc: 0.8362283 | Validation Acc: 0.8663366 \n",
      "Iter:    43 | Train Loss: 0.5809989 | Validation Loss: 0.5699183 | Train Acc: 0.8362283 | Validation Acc: 0.8663366 \n",
      "Iter:    44 | Train Loss: 0.5832815 | Validation Loss: 0.5664973 | Train Acc: 0.8337469 | Validation Acc: 0.8861386 \n",
      "Iter:    45 | Train Loss: 0.5727106 | Validation Loss: 0.5492170 | Train Acc: 0.8312655 | Validation Acc: 0.8663366 \n",
      "Iter:    46 | Train Loss: 0.5717158 | Validation Loss: 0.5522225 | Train Acc: 0.8325062 | Validation Acc: 0.8762376 \n",
      "Iter:    47 | Train Loss: 0.5761711 | Validation Loss: 0.5562836 | Train Acc: 0.8349876 | Validation Acc: 0.8514851 \n",
      "Iter:    48 | Train Loss: 0.5684301 | Validation Loss: 0.5466984 | Train Acc: 0.8362283 | Validation Acc: 0.8613861 \n",
      "Iter:    49 | Train Loss: 0.5880611 | Validation Loss: 0.5697561 | Train Acc: 0.8151365 | Validation Acc: 0.8316832 \n",
      "Iter:    50 | Train Loss: 0.5811807 | Validation Loss: 0.5683002 | Train Acc: 0.8176179 | Validation Acc: 0.8316832 \n",
      "Iter:    51 | Train Loss: 0.5679443 | Validation Loss: 0.5513947 | Train Acc: 0.8312655 | Validation Acc: 0.8564356 \n",
      "Iter:    52 | Train Loss: 0.5649893 | Validation Loss: 0.5471061 | Train Acc: 0.8362283 | Validation Acc: 0.8663366 \n",
      "Iter:    53 | Train Loss: 0.5656825 | Validation Loss: 0.5452250 | Train Acc: 0.8337469 | Validation Acc: 0.8564356 \n",
      "Iter:    54 | Train Loss: 0.5648968 | Validation Loss: 0.5476055 | Train Acc: 0.8275434 | Validation Acc: 0.8415842 \n",
      "Iter:    55 | Train Loss: 0.5623258 | Validation Loss: 0.5371232 | Train Acc: 0.8325062 | Validation Acc: 0.8564356 \n",
      "Iter:    56 | Train Loss: 0.5624721 | Validation Loss: 0.5407168 | Train Acc: 0.8325062 | Validation Acc: 0.8514851 \n",
      "Iter:    57 | Train Loss: 0.5599617 | Validation Loss: 0.5355903 | Train Acc: 0.8337469 | Validation Acc: 0.8564356 \n",
      "Iter:    58 | Train Loss: 0.5595103 | Validation Loss: 0.5337783 | Train Acc: 0.8349876 | Validation Acc: 0.8564356 \n",
      "Iter:    59 | Train Loss: 0.5572066 | Validation Loss: 0.5336491 | Train Acc: 0.8374690 | Validation Acc: 0.8564356 \n",
      "Iter:    60 | Train Loss: 0.5561872 | Validation Loss: 0.5342243 | Train Acc: 0.8399504 | Validation Acc: 0.8613861 \n",
      "Iter:    61 | Train Loss: 0.5557434 | Validation Loss: 0.5349787 | Train Acc: 0.8387097 | Validation Acc: 0.8663366 \n",
      "Iter:    62 | Train Loss: 0.5552747 | Validation Loss: 0.5338966 | Train Acc: 0.8399504 | Validation Acc: 0.8613861 \n",
      "Iter:    63 | Train Loss: 0.5507889 | Validation Loss: 0.5355328 | Train Acc: 0.8399504 | Validation Acc: 0.8465347 \n",
      "Iter:    64 | Train Loss: 0.5554705 | Validation Loss: 0.5427514 | Train Acc: 0.8411911 | Validation Acc: 0.8465347 \n",
      "Iter:    65 | Train Loss: 0.5589305 | Validation Loss: 0.5435946 | Train Acc: 0.8374690 | Validation Acc: 0.8465347 \n",
      "Iter:    66 | Train Loss: 0.5525055 | Validation Loss: 0.5378453 | Train Acc: 0.8411911 | Validation Acc: 0.8514851 \n",
      "Iter:    67 | Train Loss: 0.5511183 | Validation Loss: 0.5362478 | Train Acc: 0.8374690 | Validation Acc: 0.8465347 \n",
      "Iter:    68 | Train Loss: 0.5495762 | Validation Loss: 0.5365650 | Train Acc: 0.8362283 | Validation Acc: 0.8514851 \n",
      "Iter:    69 | Train Loss: 0.5471498 | Validation Loss: 0.5332365 | Train Acc: 0.8411911 | Validation Acc: 0.8613861 \n",
      "Iter:    70 | Train Loss: 0.5527934 | Validation Loss: 0.5399644 | Train Acc: 0.8387097 | Validation Acc: 0.8514851 \n",
      "Iter:    71 | Train Loss: 0.5494915 | Validation Loss: 0.5405703 | Train Acc: 0.8449132 | Validation Acc: 0.8663366 \n"
     ]
    },
    {
     "name": "stdout",
     "output_type": "stream",
     "text": [
      "Iter:    72 | Train Loss: 0.5531238 | Validation Loss: 0.5430251 | Train Acc: 0.8374690 | Validation Acc: 0.8514851 \n",
      "Iter:    73 | Train Loss: 0.5572517 | Validation Loss: 0.5467811 | Train Acc: 0.8300248 | Validation Acc: 0.8366337 \n",
      "Iter:    74 | Train Loss: 0.5483026 | Validation Loss: 0.5298921 | Train Acc: 0.8387097 | Validation Acc: 0.8663366 \n",
      "Iter:    75 | Train Loss: 0.5430922 | Validation Loss: 0.5279042 | Train Acc: 0.8399504 | Validation Acc: 0.8564356 \n",
      "Iter:    76 | Train Loss: 0.5529569 | Validation Loss: 0.5431389 | Train Acc: 0.8337469 | Validation Acc: 0.8564356 \n",
      "Iter:    77 | Train Loss: 0.5440814 | Validation Loss: 0.5305933 | Train Acc: 0.8411911 | Validation Acc: 0.8712871 \n",
      "Iter:    78 | Train Loss: 0.5433878 | Validation Loss: 0.5294748 | Train Acc: 0.8387097 | Validation Acc: 0.8811881 \n",
      "Iter:    79 | Train Loss: 0.5435179 | Validation Loss: 0.5280073 | Train Acc: 0.8486352 | Validation Acc: 0.8811881 \n",
      "Iter:    80 | Train Loss: 0.5449631 | Validation Loss: 0.5259929 | Train Acc: 0.8362283 | Validation Acc: 0.8613861 \n",
      "Iter:    81 | Train Loss: 0.5646225 | Validation Loss: 0.5457702 | Train Acc: 0.8300248 | Validation Acc: 0.8663366 \n",
      "Iter:    82 | Train Loss: 0.5427910 | Validation Loss: 0.5265452 | Train Acc: 0.8473945 | Validation Acc: 0.8762376 \n",
      "Iter:    83 | Train Loss: 0.5497239 | Validation Loss: 0.5319283 | Train Acc: 0.8374690 | Validation Acc: 0.8712871 \n",
      "Iter:    84 | Train Loss: 0.5449457 | Validation Loss: 0.5279126 | Train Acc: 0.8473945 | Validation Acc: 0.8811881 \n",
      "Iter:    85 | Train Loss: 0.5414877 | Validation Loss: 0.5235194 | Train Acc: 0.8449132 | Validation Acc: 0.8564356 \n",
      "Iter:    86 | Train Loss: 0.5448607 | Validation Loss: 0.5300547 | Train Acc: 0.8337469 | Validation Acc: 0.8564356 \n",
      "Iter:    87 | Train Loss: 0.5414279 | Validation Loss: 0.5207911 | Train Acc: 0.8424318 | Validation Acc: 0.8762376 \n",
      "Iter:    88 | Train Loss: 0.5633902 | Validation Loss: 0.5401309 | Train Acc: 0.8325062 | Validation Acc: 0.8613861 \n",
      "Iter:    89 | Train Loss: 0.5480176 | Validation Loss: 0.5290841 | Train Acc: 0.8399504 | Validation Acc: 0.8613861 \n",
      "Iter:    90 | Train Loss: 0.5591676 | Validation Loss: 0.5409786 | Train Acc: 0.8374690 | Validation Acc: 0.8514851 \n",
      "Iter:    91 | Train Loss: 0.5386504 | Validation Loss: 0.5232577 | Train Acc: 0.8473945 | Validation Acc: 0.8762376 \n",
      "Iter:    92 | Train Loss: 0.5355046 | Validation Loss: 0.5215567 | Train Acc: 0.8523573 | Validation Acc: 0.8712871 \n",
      "Iter:    93 | Train Loss: 0.5378914 | Validation Loss: 0.5227808 | Train Acc: 0.8436725 | Validation Acc: 0.8762376 \n",
      "Iter:    94 | Train Loss: 0.5538613 | Validation Loss: 0.5410571 | Train Acc: 0.8312655 | Validation Acc: 0.8415842 \n",
      "Iter:    95 | Train Loss: 0.5338032 | Validation Loss: 0.5248846 | Train Acc: 0.8548387 | Validation Acc: 0.8663366 \n",
      "Iter:    96 | Train Loss: 0.5418320 | Validation Loss: 0.5335840 | Train Acc: 0.8498759 | Validation Acc: 0.8712871 \n",
      "Iter:    97 | Train Loss: 0.5338197 | Validation Loss: 0.5280106 | Train Acc: 0.8511166 | Validation Acc: 0.8762376 \n",
      "Iter:    98 | Train Loss: 0.5374075 | Validation Loss: 0.5315439 | Train Acc: 0.8585608 | Validation Acc: 0.8712871 \n",
      "Iter:    99 | Train Loss: 0.5415628 | Validation Loss: 0.5321389 | Train Acc: 0.8486352 | Validation Acc: 0.8663366 \n",
      "Iter:   100 | Train Loss: 0.5335648 | Validation Loss: 0.5245418 | Train Acc: 0.8548387 | Validation Acc: 0.8762376 \n",
      "The training session is finished\n"
     ]
    }
   ],
   "source": [
    "# training\n",
    "\n",
    "# array to save the training & val accuracy and loss history as the training goes\n",
    "train_history = np.array([])\n",
    "val_history = np.array([])\n",
    "train_loss_history = np.array([])\n",
    "val_loss_history = np.array([])\n",
    "iter_history = np.array([])\n",
    "\n",
    "var = var_init\n",
    "\n",
    "\n",
    "# train the variational classifier\n",
    "for it in range(max_iter):\n",
    "\n",
    "    # Update the weights by one optimizer step\n",
    "    batch_index = np.random.randint(0, num_train, (batch_size,))\n",
    "    feats_train_batch = feats_train[batch_index]\n",
    "    Y_train_batch = Y_train[batch_index]\n",
    "    var = opt.step(lambda v: cost(v, feats_train_batch, Y_train_batch), var)\n",
    "\n",
    "    # Compute predictions on train and validation set\n",
    "    predictions_train = [np.sign(variational_classifier(var, angles=f)) for f in feats_train]\n",
    "    predictions_val = [np.sign(variational_classifier(var, angles=f)) for f in feats_val]\n",
    "\n",
    "    # Compute accuracy on train and validation set\n",
    "    acc_train = accuracy(Y_train, predictions_train)\n",
    "    acc_val = accuracy(Y_val, predictions_val)\n",
    "\n",
    "    train_loss = cost(var, feats_train, Y_train)\n",
    "    val_loss = cost(var, feats_val, Y_val)\n",
    "    \n",
    "    print(\n",
    "        \"Iter: {:5d} | Train Loss: {:0.7f} | Validation Loss: {:0.7f} | Train Acc: {:0.7f} | Validation Acc: {:0.7f} \"\n",
    "        \"\".format(it + 1, train_loss, val_loss, acc_train, acc_val)\n",
    "    )\n",
    "    \n",
    "    iter_history = np.append(iter_history, it+1)\n",
    "    train_loss_history = np.append(train_loss_history, train_loss)\n",
    "    val_loss_history = np.append(val_loss_history, val_loss)\n",
    "    train_history = np.append(train_history, acc_train)\n",
    "    val_history = np.append(val_history, acc_val)\n",
    "    \n",
    "print(\"The training session is finished\")"
   ]
  },
  {
   "cell_type": "code",
   "execution_count": 90,
   "metadata": {},
   "outputs": [
    {
     "data": {
      "image/png": "[encoded data removed]",
      "text/plain": [
       "<Figure size 432x288 with 1 Axes>"
      ]
     },
     "metadata": {
      "needs_background": "light"
     },
     "output_type": "display_data"
    }
   ],
   "source": [
    "# plot acc train, acc val\n",
    "\n",
    "plt.plot(iter_history, train_history, color='blue', label='Akurasi Latih')\n",
    "plt.plot(iter_history, val_history, color='red', label='Akurasi Validasi')\n",
    "\n",
    "plt.ylabel('Akurasi')\n",
    "plt.xlabel('Iterasi')\n",
    "plt.title(\"Akurasi Latih dan Validasi Label \" + str(label) + \" Lawan Semua\")\n",
    "\n",
    "plt.legend()\n",
    "plt.show()"
   ]
  },
  {
   "cell_type": "code",
   "execution_count": 91,
   "metadata": {},
   "outputs": [
    {
     "data": {
      "image/png": "[encoded data removed]",
      "text/plain": [
       "<Figure size 432x288 with 1 Axes>"
      ]
     },
     "metadata": {
      "needs_background": "light"
     },
     "output_type": "display_data"
    }
   ],
   "source": [
    "# plot loss train, loss val\n",
    "\n",
    "plt.plot(iter_history, train_loss_history, color='blue', label='Loss Latih')\n",
    "plt.plot(iter_history, val_loss_history, color='red', label='Loss Validasi')\n",
    "\n",
    "plt.ylabel('Loss')\n",
    "plt.xlabel('Iterasi')\n",
    "plt.title(\"Loss (MSE Terbobot) Latih dan Validasi Label \" + str(label) + \" Lawan Semua\")\n",
    "\n",
    "plt.legend()\n",
    "plt.show()"
   ]
  },
  {
   "cell_type": "code",
   "execution_count": 92,
   "metadata": {},
   "outputs": [],
   "source": [
    "train_val_acc_hist = np.concatenate((train_history.reshape(-1,1), val_history.reshape(-1,1)), axis=1)\n",
    "train_val_loss_hist = np.concatenate((train_loss_history.reshape(-1,1), val_loss_history.reshape(-1,1)), axis=1)"
   ]
  },
  {
   "cell_type": "code",
   "execution_count": 93,
   "metadata": {},
   "outputs": [],
   "source": [
    "# save numpy array as csv file\n",
    "from numpy import asarray\n",
    "from numpy import savetxt, loadtxt\n",
    "\n",
    "def save_to_csv(data, file_name):\n",
    "    # save to csv file\n",
    "    savetxt(file_name, data, delimiter=',')\n",
    "    \n",
    "def load_from_csv(file_name):\n",
    "    # load from csv file\n",
    "    return loadtxt(file_name, delimiter=',')"
   ]
  },
  {
   "cell_type": "code",
   "execution_count": 94,
   "metadata": {},
   "outputs": [],
   "source": [
    "save_to_csv(train_val_acc_hist, \"C:/Users/user/quantum_image_classifier/PennyLane/Model & Hasil Training/\" + str(label) + \"/acc_hist_8_features_1.txt\")\n",
    "save_to_csv(train_val_loss_hist, \"C:/Users/user/quantum_image_classifier/PennyLane/Model & Hasil Training/\" + str(label) + \"/loss_hist_8_features_1.txt\")"
   ]
  },
  {
   "cell_type": "code",
   "execution_count": 95,
   "metadata": {},
   "outputs": [
    {
     "name": "stdout",
     "output_type": "stream",
     "text": [
      "0.8194444444444444 0.563236537811076\n"
     ]
    }
   ],
   "source": [
    "# Compute predictions on train and validation set\n",
    "predictions_test = [np.sign(variational_classifier(var, angles=f)) for f in feats_test]\n",
    "\n",
    "# Compute accuracy on train and validation set\n",
    "acc_test = accuracy(Y_test, predictions_test)\n",
    "\n",
    "test_loss = cost(var, feats_test, Y_test)\n",
    "\n",
    "print(acc_test, test_loss)"
   ]
  },
  {
   "cell_type": "code",
   "execution_count": 305,
   "metadata": {},
   "outputs": [],
   "source": [
    "def confusion_matrix(labels, predictions):\n",
    "    cost_matrix=np.array([[0, 0.9], [0.1, 0]])\n",
    "    \n",
    "    TP = 0\n",
    "    TN = 0\n",
    "    FP = 0\n",
    "    FN = 0\n",
    "    \n",
    "    # count the TP, TN, FP, and FN\n",
    "    for l, p in zip(labels, predictions):\n",
    "        if l == 1:\n",
    "            if p == 1:\n",
    "                TP += 1\n",
    "            else:\n",
    "                FN += 1\n",
    "        else:\n",
    "            if p == 1:\n",
    "                FP += 1\n",
    "            else:\n",
    "                TN += 1\n",
    "            \n",
    "    # create the confusion matrix\n",
    "    CM = np.array([[TN, FN], [FP, TP]])\n",
    "    \n",
    "    return CM"
   ]
  },
  {
   "cell_type": "code",
   "execution_count": 306,
   "metadata": {},
   "outputs": [
    {
     "data": {
      "text/plain": [
       "tensor([[89,  8],\n",
       "        [ 1,  2]], requires_grad=True)"
      ]
     },
     "execution_count": 306,
     "metadata": {},
     "output_type": "execute_result"
    }
   ],
   "source": [
    "confusion_matrix(Y_test, predictions_test)"
   ]
  },
  {
   "cell_type": "code",
   "execution_count": null,
   "metadata": {},
   "outputs": [],
   "source": []
  }
 ],
 "metadata": {
  "kernelspec": {
   "display_name": "Python 3",
   "language": "python",
   "name": "python3"
  },
  "language_info": {
   "codemirror_mode": {
    "name": "ipython",
    "version": 3
   },
   "file_extension": ".py",
   "mimetype": "text/x-python",
   "name": "python",
   "nbconvert_exporter": "python",
   "pygments_lexer": "ipython3",
   "version": "3.7.4"
  }
 },
 "nbformat": 4,
 "nbformat_minor": 2
}
