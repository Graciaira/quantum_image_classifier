{
 "cells": [
  {
   "cell_type": "code",
   "execution_count": 1,
   "metadata": {},
   "outputs": [],
   "source": [
    "from numpy import loadtxt\n",
    "import pandas as pd\n",
    "import matplotlib.pyplot as plt\n",
    "import numpy as np"
   ]
  },
  {
   "cell_type": "markdown",
   "metadata": {},
   "source": [
    "# Data Load"
   ]
  },
  {
   "cell_type": "code",
   "execution_count": 2,
   "metadata": {},
   "outputs": [],
   "source": [
    "# load dataset\n",
    "\n",
    "label = 0\n",
    "\n",
    "X = loadtxt('C:/Users/user/quantum_image_classifier/Image Preprocessing/Dataset One-vs-All/x_train_8features_' + str(0) + '.txt', delimiter=',')\n",
    "\n",
    "X_test = loadtxt('C:/Users/user/quantum_image_classifier/Image Preprocessing/Dataset One-vs-All/x_test_8features_' + str(0) + '.txt', delimiter=',')"
   ]
  },
  {
   "cell_type": "code",
   "execution_count": 3,
   "metadata": {},
   "outputs": [
    {
     "data": {
      "text/plain": [
       "1008"
      ]
     },
     "execution_count": 3,
     "metadata": {},
     "output_type": "execute_result"
    }
   ],
   "source": [
    "X.shape[0]"
   ]
  },
  {
   "cell_type": "code",
   "execution_count": 4,
   "metadata": {},
   "outputs": [],
   "source": [
    "Y = np.zeros((X.shape[0],))\n",
    "Y[:int(X.shape[0]/2)] = 1\n",
    "Y[int(X.shape[0]/2):] = -1\n",
    "\n",
    "Y_test = np.zeros((X_test.shape[0],))\n",
    "Y_test[:int(X_test.shape[0]/2)] = 1\n",
    "Y_test[int(X_test.shape[0]/2):] = -1"
   ]
  },
  {
   "cell_type": "code",
   "execution_count": 5,
   "metadata": {},
   "outputs": [
    {
     "name": "stdout",
     "output_type": "stream",
     "text": [
      "(1008, 8) (1008,)\n",
      "(216, 8) (216,)\n"
     ]
    }
   ],
   "source": [
    "print(X.shape, Y.shape)\n",
    "print(X_test.shape, Y_test.shape)"
   ]
  },
  {
   "cell_type": "markdown",
   "metadata": {},
   "source": [
    "# Create Quantum Model"
   ]
  },
  {
   "cell_type": "code",
   "execution_count": 6,
   "metadata": {},
   "outputs": [],
   "source": [
    "%matplotlib inline\n",
    "\n",
    "import pennylane as qml\n",
    "from pennylane import numpy as np\n",
    "import numpy\n",
    "from pennylane.optimize import *\n",
    "\n",
    "from qiskit import *\n",
    "from qiskit.providers.aer.noise import NoiseModel"
   ]
  },
  {
   "cell_type": "markdown",
   "metadata": {},
   "source": [
    "## Choose a Quantum Device\n",
    "\n",
    "You can choose between several different backend (including the one ownwed by IBM)"
   ]
  },
  {
   "cell_type": "code",
   "execution_count": 7,
   "metadata": {},
   "outputs": [],
   "source": [
    "def select_backend(num_qubit, selected, shots):\n",
    "    if selected == 'pennylane_statevector_simulator':\n",
    "        # PennyLane Statevector simulator\n",
    "        dev = qml.device(\"default.qubit\", wires=num_qubit)\n",
    "\n",
    "    elif selected == 'qiskit_noisefree_qasm_simulator':\n",
    "        # Qiskit QASM simulator (noise-free)\n",
    "        dev = qml.device(\"qiskit.aer\", wires=num_qubit, shots=shots, analytic=False, backend='qasm_simulator')\n",
    "\n",
    "    elif selected == 'qiskit_noisy_qasm_simulator':\n",
    "        # Qiskit QASM simulator + noise\n",
    "        provider = IBMQ.load_account()\n",
    "        backend = provider.get_backend('ibmq_athens')\n",
    "        noise_model = NoiseModel.from_backend(backend)\n",
    "        dev = qml.device(\"qiskit.aer\", wires=num_qubit, shots=shots, noise_model = noise_model, analytic=False, backend='qasm_simulator')\n",
    "        \n",
    "    return dev"
   ]
  },
  {
   "cell_type": "code",
   "execution_count": 8,
   "metadata": {},
   "outputs": [],
   "source": [
    "num_qubit = 3\n",
    "dev = select_backend(num_qubit, 'pennylane_statevector_simulator', 1024)"
   ]
  },
  {
   "cell_type": "markdown",
   "metadata": {},
   "source": [
    "## Loss and Acc Metric"
   ]
  },
  {
   "cell_type": "code",
   "execution_count": 9,
   "metadata": {},
   "outputs": [],
   "source": [
    "# MSE\n",
    "def square_loss(labels, predictions):\n",
    "    loss = 0\n",
    "    for l, p in zip(labels, predictions):\n",
    "        loss = loss + (l - p) ** 2\n",
    "\n",
    "    loss = loss / len(labels)\n",
    "    return loss\n",
    "\n",
    "# Cost-Sensitive Learning for Imbalanced Classification\n",
    "def confusion_matrix_loss(labels, predictions):\n",
    "    cost_matrix=np.array([[0, 0.9], [0.1, 0]])\n",
    "    \n",
    "    TP = 0\n",
    "    TN = 0\n",
    "    FP = 0\n",
    "    FN = 0\n",
    "    \n",
    "    # count the TP, TN, FP, and FN\n",
    "    for l, p in zip(labels, predictions):\n",
    "        if l == 1:\n",
    "            if p == 1:\n",
    "                TP += 1\n",
    "            else:\n",
    "                FN += 1\n",
    "        else:\n",
    "            if p == 1:\n",
    "                FP += 1\n",
    "            else:\n",
    "                TN += 1\n",
    "            \n",
    "    # create the confusion matrix\n",
    "    CM = np.array([[TN, FN], [FP, TP]])\n",
    "    \n",
    "    # calculate loss\n",
    "    loss = float(np.sum(CM*cost_matrix))/len(labels)\n",
    "\n",
    "    return loss\n",
    "\n",
    "# true predictions/total predictions\n",
    "def accuracy(labels, predictions):\n",
    "    acc = 0\n",
    "    for l, p in zip(labels, predictions):\n",
    "        if abs(l - p) < 1e-5:\n",
    "            acc = acc + 1\n",
    "    acc = acc / len(labels)\n",
    "\n",
    "    return acc"
   ]
  },
  {
   "cell_type": "code",
   "execution_count": 10,
   "metadata": {},
   "outputs": [
    {
     "ename": "NameError",
     "evalue": "name 'Y_train' is not defined",
     "output_type": "error",
     "traceback": [
      "\u001b[1;31m---------------------------------------------------------------------------\u001b[0m",
      "\u001b[1;31mNameError\u001b[0m                                 Traceback (most recent call last)",
      "\u001b[1;32m<ipython-input-10-9306a6fb9053>\u001b[0m in \u001b[0;36m<module>\u001b[1;34m\u001b[0m\n\u001b[1;32m----> 1\u001b[1;33m \u001b[0mconfusion_matrix_loss\u001b[0m\u001b[1;33m(\u001b[0m\u001b[0mY_train\u001b[0m\u001b[1;33m,\u001b[0m \u001b[0mpredictions_train\u001b[0m\u001b[1;33m)\u001b[0m\u001b[1;33m\u001b[0m\u001b[1;33m\u001b[0m\u001b[0m\n\u001b[0m",
      "\u001b[1;31mNameError\u001b[0m: name 'Y_train' is not defined"
     ]
    }
   ],
   "source": [
    "confusion_matrix_loss(Y_train, predictions_train)"
   ]
  },
  {
   "cell_type": "code",
   "execution_count": 164,
   "metadata": {},
   "outputs": [
    {
     "data": {
      "text/plain": [
       "0.9032258064516129"
      ]
     },
     "execution_count": 164,
     "metadata": {},
     "output_type": "execute_result"
    }
   ],
   "source": [
    "square_loss(Y_train, predictions_train)"
   ]
  },
  {
   "cell_type": "code",
   "execution_count": 200,
   "metadata": {},
   "outputs": [],
   "source": [
    "cost_matrix = np.array([[0, 0.9], [0.1, 0]])"
   ]
  },
  {
   "cell_type": "code",
   "execution_count": 181,
   "metadata": {},
   "outputs": [
    {
     "data": {
      "text/plain": [
       "array([0.9, 0.1])"
      ]
     },
     "execution_count": 181,
     "metadata": {},
     "output_type": "execute_result"
    }
   ],
   "source": [
    "loss_weight = np.unique(Y, return_counts=True)[1]/np.sum(np.unique(Y, return_counts=True)[1])\n",
    "loss_weight"
   ]
  },
  {
   "cell_type": "markdown",
   "metadata": {},
   "source": [
    "## Quantum Amplitude Encoding Function"
   ]
  },
  {
   "cell_type": "code",
   "execution_count": 11,
   "metadata": {},
   "outputs": [],
   "source": [
    "# a function to calculate the angle β\n",
    "\n",
    "def beta(s, j, X_sample):\n",
    "    # numerator index\n",
    "    index_num = (2*j-1)*(2**(s-1))\n",
    "    # denominator index\n",
    "    index_den = (j-1)*(2**s)\n",
    "    \n",
    "    num = np.sqrt(np.sum(abs(X_sample[index_num : index_num+2**(s-1)])**2))\n",
    "    den = np.sqrt(np.sum(abs(X_sample[index_den : index_den+2**(s)])**2))\n",
    "    \n",
    "    if den == 0:\n",
    "        #print(\"Zero denominator!\")\n",
    "        beta = 0\n",
    "    else:\n",
    "        beta = 2*np.arcsin(num/den)\n",
    "    \n",
    "    return beta"
   ]
  },
  {
   "cell_type": "code",
   "execution_count": 12,
   "metadata": {},
   "outputs": [],
   "source": [
    "def get_angles(x):\n",
    "    \n",
    "    return np.array([beta(3,1,x), beta(2,2,x), beta(2,1,x), beta(1,4,x), beta(1,3,x), beta(1,2,x), beta(1,1,x)])"
   ]
  },
  {
   "cell_type": "code",
   "execution_count": 13,
   "metadata": {},
   "outputs": [],
   "source": [
    "def U3_gate(θ, wires):\n",
    "    qml.RX(np.pi/2, wires=wires)\n",
    "    qml.RZ(θ, wires=wires)\n",
    "    qml.RX(-np.pi/2, wires=wires)"
   ]
  },
  {
   "cell_type": "code",
   "execution_count": 14,
   "metadata": {},
   "outputs": [],
   "source": [
    "def statepreparation(a):\n",
    "    qml.RY(a[0], wires=0)\n",
    "    \n",
    "    U3_gate(a[1]/2, wires=1)\n",
    "    qml.CNOT(wires=[0,1])\n",
    "    U3_gate(-a[1]/2, wires=1)\n",
    "    qml.CNOT(wires=[0,1])\n",
    "    \n",
    "    qml.PauliX(wires=0)\n",
    "    U3_gate(a[2]/2, wires=1)\n",
    "    qml.CNOT(wires=[0,1])\n",
    "    U3_gate(-a[2]/2, wires=1)\n",
    "    qml.CNOT(wires=[0,1])\n",
    "    qml.PauliX(wires=0)\n",
    "    \n",
    "    U3_gate(a[3]/2, wires=2)\n",
    "    qml.Toffoli(wires=[0,1,2])\n",
    "    U3_gate(-a[3]/2, wires=2)\n",
    "    qml.Toffoli(wires=[0,1,2])\n",
    "    \n",
    "    qml.PauliX(wires=1)\n",
    "    U3_gate(a[4]/2, wires=2)\n",
    "    qml.Toffoli(wires=[0,1,2])\n",
    "    U3_gate(-a[4]/2, wires=2)\n",
    "    qml.Toffoli(wires=[0,1,2])\n",
    "    qml.PauliX(wires=1)\n",
    "    \n",
    "    qml.PauliX(wires=0)\n",
    "    U3_gate(a[5]/2, wires=2)\n",
    "    qml.Toffoli(wires=[0,1,2])\n",
    "    U3_gate(-a[5]/2, wires=2)\n",
    "    qml.Toffoli(wires=[0,1,2])\n",
    "    \n",
    "    qml.PauliX(wires=1)\n",
    "    U3_gate(a[6]/2, wires=2)\n",
    "    qml.Toffoli(wires=[0,1,2])\n",
    "    U3_gate(-a[6]/2, wires=2)\n",
    "    qml.Toffoli(wires=[0,1,2])\n",
    "    qml.PauliX(wires=1)\n",
    "    \n",
    "    qml.PauliX(wires=0)"
   ]
  },
  {
   "cell_type": "code",
   "execution_count": 15,
   "metadata": {},
   "outputs": [
    {
     "name": "stdout",
     "output_type": "stream",
     "text": [
      "x               :  [0.46247865 0.88108468 0.34554417 0.35195683 0.19233934 0.70761384\n",
      " 0.33290581 0.27796875]\n",
      "angles          :  [1.30869651 1.06820472 0.92034573 1.39141525 2.61078907 1.58918333\n",
      " 2.17486025]\n",
      "amplitude vector:  [[[0.33040294 0.62946251]\n",
      "  [0.24686288 0.25144419]]\n",
      "\n",
      " [[0.13741063 0.50553186]\n",
      "  [0.23783381 0.1985858 ]]]\n"
     ]
    }
   ],
   "source": [
    "x = np.random.rand(8)\n",
    "ang = get_angles(x)\n",
    "\n",
    "\n",
    "@qml.qnode(dev)\n",
    "def test(angles=None):\n",
    "\n",
    "    statepreparation(angles)\n",
    "\n",
    "    return qml.expval(qml.PauliZ(0))\n",
    "\n",
    "\n",
    "test(angles=ang)\n",
    "\n",
    "print(\"x               : \", x)\n",
    "print(\"angles          : \", ang)\n",
    "print(\"amplitude vector: \", np.real(dev._state))"
   ]
  },
  {
   "cell_type": "markdown",
   "metadata": {},
   "source": [
    "## Define the Layer"
   ]
  },
  {
   "cell_type": "code",
   "execution_count": 16,
   "metadata": {},
   "outputs": [],
   "source": [
    "def layer(W):\n",
    "    qml.Rot(W[0, 0], W[0, 1], W[0, 2], wires=0)\n",
    "    qml.Rot(W[1, 0], W[1, 1], W[1, 2], wires=1)\n",
    "    qml.Rot(W[2, 0], W[2, 1], W[2, 2], wires=2)\n",
    "    qml.CNOT(wires=[0, 1])\n",
    "    qml.CNOT(wires=[1, 2])\n",
    "    qml.CNOT(wires=[2, 0])"
   ]
  },
  {
   "cell_type": "markdown",
   "metadata": {},
   "source": [
    "## Build the Quantum Circuit, Define Cost Function, Create VQC"
   ]
  },
  {
   "cell_type": "code",
   "execution_count": 17,
   "metadata": {},
   "outputs": [],
   "source": [
    "@qml.qnode(dev)\n",
    "def circuit(weights, angles=None):\n",
    "    statepreparation(angles)\n",
    "\n",
    "    for W in weights:\n",
    "        layer(W)\n",
    "\n",
    "    return qml.expval(qml.PauliZ(0))\n",
    "\n",
    "\n",
    "def variational_classifier(var, angles=None):\n",
    "    weights = var[0]\n",
    "    bias = var[1]\n",
    "    return circuit(weights, angles=angles) + bias\n",
    "\n",
    "\n",
    "def cost(weights, features, labels):\n",
    "    predictions = [variational_classifier(weights, angles=f) for f in features]\n",
    "    return square_loss(labels, predictions)"
   ]
  },
  {
   "cell_type": "markdown",
   "metadata": {},
   "source": [
    "# Data Prep"
   ]
  },
  {
   "cell_type": "markdown",
   "metadata": {},
   "source": [
    "## Data (Padding), Normalization and Data Encoding"
   ]
  },
  {
   "cell_type": "code",
   "execution_count": 18,
   "metadata": {},
   "outputs": [
    {
     "name": "stdout",
     "output_type": "stream",
     "text": [
      "First X train sample (original)  : [ 3.96752304 -1.15630211  2.33858651 -1.80692626 -3.24421656 -0.71353148\n",
      " -0.17655089 -0.41164546]\n",
      "First X train sample (normalized): [ 0.65184348 -0.18997445  0.38421765 -0.29686862 -0.53300797 -0.11722953\n",
      " -0.0290064  -0.06763122]\n",
      "First features sample      : [1.16637288 0.26806496 1.24161413 2.33126975 0.43298526 1.31568975\n",
      " 0.56717374]\n"
     ]
    }
   ],
   "source": [
    "# train and val\n",
    "\n",
    "print(\"First X train sample (original)  :\", X[0])\n",
    "\n",
    "# # pad the vectors to size 2^2 with constant values\n",
    "# padding = 0.3 * np.ones((len(X), 1))\n",
    "# X_pad = np.c_[np.c_[X, padding], np.zeros((len(X), 1))]\n",
    "# print(\"First X sample (padded)    :\", X_pad[0])\n",
    "\n",
    "X_pad = X.copy()\n",
    "\n",
    "# normalize each input\n",
    "normalization = np.sqrt(np.sum(X_pad ** 2, -1))\n",
    "X_norm = (X_pad.T / normalization).T\n",
    "print(\"First X train sample (normalized):\", X_norm[0])\n",
    "\n",
    "# angles for state preparation are new features\n",
    "features = np.array([get_angles(x) for x in X_norm])\n",
    "print(\"First features sample      :\", features[0])"
   ]
  },
  {
   "cell_type": "code",
   "execution_count": 19,
   "metadata": {},
   "outputs": [
    {
     "data": {
      "text/plain": [
       "1.0"
      ]
     },
     "execution_count": 19,
     "metadata": {},
     "output_type": "execute_result"
    }
   ],
   "source": [
    "sampel = 436\n",
    "\n",
    "result = 0\n",
    "\n",
    "for i in range (8):\n",
    "    result += X_norm[sampel, i]**2\n",
    "\n",
    "np.sqrt(result)"
   ]
  },
  {
   "cell_type": "code",
   "execution_count": 20,
   "metadata": {},
   "outputs": [
    {
     "name": "stdout",
     "output_type": "stream",
     "text": [
      "First X test sample (original)  : [ 4.83885093  0.44290373  0.99533214 -0.38530635 -0.81798657 -1.90399072\n",
      "  2.72785227  0.29909493]\n",
      "First X test sample (normalized): [ 0.80011389  0.07323504  0.1645802  -0.06371119 -0.13525575 -0.31482876\n",
      "  0.45105595  0.04945596]\n",
      "First test features sample      : [1.20961162 1.84802298 0.4324375  0.2184172  2.33004329 0.73869613\n",
      " 0.18255286]\n"
     ]
    }
   ],
   "source": [
    "print(\"First X test sample (original)  :\", X_test[0])\n",
    "\n",
    "# # pad the vectors to size 2^2 with constant values\n",
    "# padding = 0.3 * np.ones((len(X_test), 1))\n",
    "# X_pad = np.c_[np.c_[X_test, padding], np.zeros((len(X_test), 1))]\n",
    "# print(\"First X sample (padded)    :\", X_pad[0])\n",
    "\n",
    "X_pad = X_test.copy()\n",
    "\n",
    "# normalize each input\n",
    "normalization = np.sqrt(np.sum(X_pad ** 2, -1))\n",
    "X_norm = (X_pad.T / normalization).T\n",
    "print(\"First X test sample (normalized):\", X_norm[0])\n",
    "\n",
    "# angles for state preparation are new features\n",
    "feats_test = np.array([get_angles(x) for x in X_norm])\n",
    "print(\"First test features sample      :\", feats_test[0])"
   ]
  },
  {
   "cell_type": "code",
   "execution_count": 21,
   "metadata": {},
   "outputs": [
    {
     "data": {
      "text/plain": [
       "0.9999999999999999"
      ]
     },
     "execution_count": 21,
     "metadata": {},
     "output_type": "execute_result"
    }
   ],
   "source": [
    "sampel = 17\n",
    "\n",
    "result = 0\n",
    "\n",
    "for i in range (8):\n",
    "    result += X_norm[sampel, i]**2\n",
    "\n",
    "np.sqrt(result)"
   ]
  },
  {
   "cell_type": "code",
   "execution_count": 22,
   "metadata": {},
   "outputs": [],
   "source": [
    "# split X and y to train and validation\n",
    "\n",
    "from sklearn.model_selection import train_test_split\n",
    "\n",
    "feats_train, feats_val, Y_train, Y_val = train_test_split(features, Y, test_size=0.2, random_state=2020)\n",
    "\n",
    "X_train, X_val, Y_train, Y_val = train_test_split(X, Y, test_size=0.2, random_state=2020)"
   ]
  },
  {
   "cell_type": "code",
   "execution_count": 23,
   "metadata": {},
   "outputs": [
    {
     "name": "stdout",
     "output_type": "stream",
     "text": [
      "(806, 8) (806, 7) (806,)\n",
      "(202, 8) (202, 7) (202,)\n",
      "(216, 8) (216, 7) (216,)\n"
     ]
    }
   ],
   "source": [
    "print(X_train.shape, feats_train.shape, Y_train.shape)\n",
    "print(X_val.shape, feats_val.shape, Y_val.shape)\n",
    "print(X_test.shape, feats_test.shape, Y_test.shape)"
   ]
  },
  {
   "cell_type": "markdown",
   "metadata": {},
   "source": [
    "# Training"
   ]
  },
  {
   "cell_type": "markdown",
   "metadata": {},
   "source": [
    "## Qubits, Layers and Weights Initialization"
   ]
  },
  {
   "cell_type": "code",
   "execution_count": 24,
   "metadata": {},
   "outputs": [],
   "source": [
    "# First we initialize the hyperparameters\n",
    "\n",
    "num_qubits = 3  # 8 features = log2(8) qubits = 3 qubits\n",
    "num_layers = 6  # QNN layer\n",
    "learning_rate = 0.01\n",
    "\n",
    "opt = RMSPropOptimizer(stepsize=learning_rate)\n",
    "batch_size = 32\n",
    "max_iter = 100\n",
    "\n",
    "var_init = (0.01 * np.random.randn(num_layers, num_qubits, 3), 0.0)  # weights and bias initialization"
   ]
  },
  {
   "cell_type": "code",
   "execution_count": 25,
   "metadata": {},
   "outputs": [
    {
     "data": {
      "text/plain": [
       "806"
      ]
     },
     "execution_count": 25,
     "metadata": {},
     "output_type": "execute_result"
    }
   ],
   "source": [
    "num_train = X_train.shape[0]\n",
    "num_train"
   ]
  },
  {
   "cell_type": "markdown",
   "metadata": {},
   "source": [
    "## Training Iteration"
   ]
  },
  {
   "cell_type": "code",
   "execution_count": 26,
   "metadata": {
    "scrolled": false
   },
   "outputs": [
    {
     "name": "stdout",
     "output_type": "stream",
     "text": [
      "Iter:     1 | Train Loss: 0.8559427 | Validation Loss: 0.7984888 | Train Acc: 0.6761787 | Validation Acc: 0.6930693 \n",
      "Iter:     2 | Train Loss: 0.8192193 | Validation Loss: 0.7700358 | Train Acc: 0.6873449 | Validation Acc: 0.7277228 \n",
      "Iter:     3 | Train Loss: 0.7925109 | Validation Loss: 0.7493651 | Train Acc: 0.7009926 | Validation Acc: 0.7277228 \n",
      "Iter:     4 | Train Loss: 0.7730485 | Validation Loss: 0.7305694 | Train Acc: 0.7084367 | Validation Acc: 0.7425743 \n",
      "Iter:     5 | Train Loss: 0.7705904 | Validation Loss: 0.7320606 | Train Acc: 0.7171216 | Validation Acc: 0.7326733 \n",
      "Iter:     6 | Train Loss: 0.7493587 | Validation Loss: 0.7136551 | Train Acc: 0.7369727 | Validation Acc: 0.7574257 \n",
      "Iter:     7 | Train Loss: 0.7167890 | Validation Loss: 0.6805914 | Train Acc: 0.7493797 | Validation Acc: 0.7722772 \n",
      "Iter:     8 | Train Loss: 0.7034750 | Validation Loss: 0.6651749 | Train Acc: 0.7506203 | Validation Acc: 0.7772277 \n",
      "Iter:     9 | Train Loss: 0.6879442 | Validation Loss: 0.6520168 | Train Acc: 0.7679901 | Validation Acc: 0.7821782 \n",
      "Iter:    10 | Train Loss: 0.6759555 | Validation Loss: 0.6412930 | Train Acc: 0.7679901 | Validation Acc: 0.7920792 \n",
      "Iter:    11 | Train Loss: 0.6643771 | Validation Loss: 0.6290624 | Train Acc: 0.7766749 | Validation Acc: 0.7920792 \n",
      "Iter:    12 | Train Loss: 0.6552256 | Validation Loss: 0.6214131 | Train Acc: 0.7766749 | Validation Acc: 0.7970297 \n",
      "Iter:    13 | Train Loss: 0.6454232 | Validation Loss: 0.6115382 | Train Acc: 0.7816377 | Validation Acc: 0.8069307 \n",
      "Iter:    14 | Train Loss: 0.6433662 | Validation Loss: 0.6095629 | Train Acc: 0.7841191 | Validation Acc: 0.8019802 \n",
      "Iter:    15 | Train Loss: 0.6456524 | Validation Loss: 0.6130266 | Train Acc: 0.7841191 | Validation Acc: 0.8069307 \n",
      "Iter:    16 | Train Loss: 0.6422342 | Validation Loss: 0.6096002 | Train Acc: 0.7853598 | Validation Acc: 0.8069307 \n",
      "Iter:    17 | Train Loss: 0.6391979 | Validation Loss: 0.6061762 | Train Acc: 0.7928040 | Validation Acc: 0.8069307 \n",
      "Iter:    18 | Train Loss: 0.6315984 | Validation Loss: 0.5993249 | Train Acc: 0.7977667 | Validation Acc: 0.8019802 \n",
      "Iter:    19 | Train Loss: 0.6269154 | Validation Loss: 0.5962264 | Train Acc: 0.7990074 | Validation Acc: 0.8168317 \n",
      "Iter:    20 | Train Loss: 0.6263008 | Validation Loss: 0.5966167 | Train Acc: 0.7952854 | Validation Acc: 0.8168317 \n",
      "Iter:    21 | Train Loss: 0.6271706 | Validation Loss: 0.5964119 | Train Acc: 0.7940447 | Validation Acc: 0.8019802 \n",
      "Iter:    22 | Train Loss: 0.6187471 | Validation Loss: 0.5903402 | Train Acc: 0.8052109 | Validation Acc: 0.8019802 \n",
      "Iter:    23 | Train Loss: 0.6155608 | Validation Loss: 0.5886736 | Train Acc: 0.8126551 | Validation Acc: 0.8118812 \n",
      "Iter:    24 | Train Loss: 0.6140655 | Validation Loss: 0.5854205 | Train Acc: 0.8114144 | Validation Acc: 0.8019802 \n",
      "Iter:    25 | Train Loss: 0.6102382 | Validation Loss: 0.5817623 | Train Acc: 0.8213400 | Validation Acc: 0.8168317 \n",
      "Iter:    26 | Train Loss: 0.6110145 | Validation Loss: 0.5813298 | Train Acc: 0.8052109 | Validation Acc: 0.8168317 \n",
      "Iter:    27 | Train Loss: 0.6090307 | Validation Loss: 0.5771680 | Train Acc: 0.8101737 | Validation Acc: 0.8217822 \n",
      "Iter:    28 | Train Loss: 0.6069190 | Validation Loss: 0.5747506 | Train Acc: 0.8151365 | Validation Acc: 0.8415842 \n",
      "Iter:    29 | Train Loss: 0.6024274 | Validation Loss: 0.5741217 | Train Acc: 0.8250620 | Validation Acc: 0.8366337 \n",
      "Iter:    30 | Train Loss: 0.6015634 | Validation Loss: 0.5732935 | Train Acc: 0.8238213 | Validation Acc: 0.8366337 \n",
      "Iter:    31 | Train Loss: 0.6010157 | Validation Loss: 0.5733990 | Train Acc: 0.8213400 | Validation Acc: 0.8366337 \n",
      "Iter:    32 | Train Loss: 0.6026821 | Validation Loss: 0.5752850 | Train Acc: 0.8126551 | Validation Acc: 0.8267327 \n",
      "Iter:    33 | Train Loss: 0.6129376 | Validation Loss: 0.5852781 | Train Acc: 0.7977667 | Validation Acc: 0.7970297 \n",
      "Iter:    34 | Train Loss: 0.6095792 | Validation Loss: 0.5811444 | Train Acc: 0.8027295 | Validation Acc: 0.8168317 \n",
      "Iter:    35 | Train Loss: 0.6125307 | Validation Loss: 0.5843901 | Train Acc: 0.7977667 | Validation Acc: 0.7970297 \n",
      "Iter:    36 | Train Loss: 0.5975610 | Validation Loss: 0.5722359 | Train Acc: 0.8188586 | Validation Acc: 0.8316832 \n",
      "Iter:    37 | Train Loss: 0.6032282 | Validation Loss: 0.5763183 | Train Acc: 0.8052109 | Validation Acc: 0.8168317 \n",
      "Iter:    38 | Train Loss: 0.5959660 | Validation Loss: 0.5716188 | Train Acc: 0.8188586 | Validation Acc: 0.8316832 \n",
      "Iter:    39 | Train Loss: 0.5936535 | Validation Loss: 0.5706456 | Train Acc: 0.8213400 | Validation Acc: 0.8366337 \n",
      "Iter:    40 | Train Loss: 0.5942931 | Validation Loss: 0.5723252 | Train Acc: 0.8225806 | Validation Acc: 0.8415842 \n",
      "Iter:    41 | Train Loss: 0.5935011 | Validation Loss: 0.5706361 | Train Acc: 0.8213400 | Validation Acc: 0.8465347 \n",
      "Iter:    42 | Train Loss: 0.5986415 | Validation Loss: 0.5784101 | Train Acc: 0.8089330 | Validation Acc: 0.8316832 \n",
      "Iter:    43 | Train Loss: 0.6028830 | Validation Loss: 0.5834341 | Train Acc: 0.8039702 | Validation Acc: 0.8217822 \n",
      "Iter:    44 | Train Loss: 0.5942100 | Validation Loss: 0.5757098 | Train Acc: 0.8151365 | Validation Acc: 0.8366337 \n",
      "Iter:    45 | Train Loss: 0.5900578 | Validation Loss: 0.5694444 | Train Acc: 0.8238213 | Validation Acc: 0.8316832 \n",
      "Iter:    46 | Train Loss: 0.5900745 | Validation Loss: 0.5707807 | Train Acc: 0.8275434 | Validation Acc: 0.8366337 \n",
      "Iter:    47 | Train Loss: 0.5914694 | Validation Loss: 0.5730171 | Train Acc: 0.8200993 | Validation Acc: 0.8366337 \n",
      "Iter:    48 | Train Loss: 0.5899815 | Validation Loss: 0.5704921 | Train Acc: 0.8238213 | Validation Acc: 0.8316832 \n",
      "Iter:    49 | Train Loss: 0.5889779 | Validation Loss: 0.5707534 | Train Acc: 0.8200993 | Validation Acc: 0.8465347 \n",
      "Iter:    50 | Train Loss: 0.5878654 | Validation Loss: 0.5694470 | Train Acc: 0.8250620 | Validation Acc: 0.8316832 \n",
      "Iter:    51 | Train Loss: 0.5870999 | Validation Loss: 0.5668254 | Train Acc: 0.8300248 | Validation Acc: 0.8267327 \n",
      "Iter:    52 | Train Loss: 0.5857949 | Validation Loss: 0.5645579 | Train Acc: 0.8300248 | Validation Acc: 0.8366337 \n",
      "Iter:    53 | Train Loss: 0.5846292 | Validation Loss: 0.5623737 | Train Acc: 0.8300248 | Validation Acc: 0.8366337 \n",
      "Iter:    54 | Train Loss: 0.5846843 | Validation Loss: 0.5609206 | Train Acc: 0.8250620 | Validation Acc: 0.8415842 \n",
      "Iter:    55 | Train Loss: 0.5839497 | Validation Loss: 0.5591987 | Train Acc: 0.8250620 | Validation Acc: 0.8415842 \n",
      "Iter:    56 | Train Loss: 0.5854919 | Validation Loss: 0.5622651 | Train Acc: 0.8200993 | Validation Acc: 0.8366337 \n",
      "Iter:    57 | Train Loss: 0.5828359 | Validation Loss: 0.5608429 | Train Acc: 0.8225806 | Validation Acc: 0.8366337 \n",
      "Iter:    58 | Train Loss: 0.5791644 | Validation Loss: 0.5549512 | Train Acc: 0.8349876 | Validation Acc: 0.8366337 \n",
      "Iter:    59 | Train Loss: 0.5788055 | Validation Loss: 0.5541748 | Train Acc: 0.8287841 | Validation Acc: 0.8366337 \n",
      "Iter:    60 | Train Loss: 0.5779777 | Validation Loss: 0.5547102 | Train Acc: 0.8300248 | Validation Acc: 0.8415842 \n",
      "Iter:    61 | Train Loss: 0.5776697 | Validation Loss: 0.5538228 | Train Acc: 0.8300248 | Validation Acc: 0.8366337 \n",
      "Iter:    62 | Train Loss: 0.5779921 | Validation Loss: 0.5553376 | Train Acc: 0.8300248 | Validation Acc: 0.8316832 \n",
      "Iter:    63 | Train Loss: 0.5765470 | Validation Loss: 0.5531728 | Train Acc: 0.8287841 | Validation Acc: 0.8366337 \n",
      "Iter:    64 | Train Loss: 0.5740900 | Validation Loss: 0.5511372 | Train Acc: 0.8362283 | Validation Acc: 0.8366337 \n",
      "Iter:    65 | Train Loss: 0.5740422 | Validation Loss: 0.5513572 | Train Acc: 0.8349876 | Validation Acc: 0.8415842 \n",
      "Iter:    66 | Train Loss: 0.5743284 | Validation Loss: 0.5500202 | Train Acc: 0.8362283 | Validation Acc: 0.8316832 \n",
      "Iter:    67 | Train Loss: 0.5745987 | Validation Loss: 0.5492030 | Train Acc: 0.8349876 | Validation Acc: 0.8415842 \n",
      "Iter:    68 | Train Loss: 0.5809459 | Validation Loss: 0.5557206 | Train Acc: 0.8263027 | Validation Acc: 0.8465347 \n",
      "Iter:    69 | Train Loss: 0.5789920 | Validation Loss: 0.5543686 | Train Acc: 0.8275434 | Validation Acc: 0.8465347 \n",
      "Iter:    70 | Train Loss: 0.5744692 | Validation Loss: 0.5499423 | Train Acc: 0.8387097 | Validation Acc: 0.8415842 \n",
      "Iter:    71 | Train Loss: 0.5728483 | Validation Loss: 0.5498438 | Train Acc: 0.8374690 | Validation Acc: 0.8465347 \n"
     ]
    },
    {
     "name": "stdout",
     "output_type": "stream",
     "text": [
      "Iter:    72 | Train Loss: 0.5721963 | Validation Loss: 0.5497599 | Train Acc: 0.8399504 | Validation Acc: 0.8465347 \n",
      "Iter:    73 | Train Loss: 0.5740767 | Validation Loss: 0.5531170 | Train Acc: 0.8349876 | Validation Acc: 0.8415842 \n",
      "Iter:    74 | Train Loss: 0.5714948 | Validation Loss: 0.5518666 | Train Acc: 0.8337469 | Validation Acc: 0.8366337 \n",
      "Iter:    75 | Train Loss: 0.5745588 | Validation Loss: 0.5554354 | Train Acc: 0.8349876 | Validation Acc: 0.8415842 \n",
      "Iter:    76 | Train Loss: 0.5713804 | Validation Loss: 0.5533253 | Train Acc: 0.8362283 | Validation Acc: 0.8366337 \n",
      "Iter:    77 | Train Loss: 0.5713631 | Validation Loss: 0.5531121 | Train Acc: 0.8362283 | Validation Acc: 0.8415842 \n",
      "Iter:    78 | Train Loss: 0.5716016 | Validation Loss: 0.5530687 | Train Acc: 0.8325062 | Validation Acc: 0.8366337 \n",
      "Iter:    79 | Train Loss: 0.5700109 | Validation Loss: 0.5509809 | Train Acc: 0.8337469 | Validation Acc: 0.8415842 \n",
      "Iter:    80 | Train Loss: 0.5711203 | Validation Loss: 0.5504053 | Train Acc: 0.8337469 | Validation Acc: 0.8465347 \n",
      "Iter:    81 | Train Loss: 0.5715159 | Validation Loss: 0.5502483 | Train Acc: 0.8387097 | Validation Acc: 0.8415842 \n",
      "Iter:    82 | Train Loss: 0.5701050 | Validation Loss: 0.5507984 | Train Acc: 0.8349876 | Validation Acc: 0.8415842 \n",
      "Iter:    83 | Train Loss: 0.5729334 | Validation Loss: 0.5544643 | Train Acc: 0.8362283 | Validation Acc: 0.8465347 \n",
      "Iter:    84 | Train Loss: 0.5702302 | Validation Loss: 0.5523537 | Train Acc: 0.8362283 | Validation Acc: 0.8415842 \n",
      "Iter:    85 | Train Loss: 0.5695469 | Validation Loss: 0.5528477 | Train Acc: 0.8349876 | Validation Acc: 0.8366337 \n",
      "Iter:    86 | Train Loss: 0.5721255 | Validation Loss: 0.5558435 | Train Acc: 0.8349876 | Validation Acc: 0.8366337 \n",
      "Iter:    87 | Train Loss: 0.5719249 | Validation Loss: 0.5549585 | Train Acc: 0.8300248 | Validation Acc: 0.8366337 \n",
      "Iter:    88 | Train Loss: 0.5693783 | Validation Loss: 0.5506676 | Train Acc: 0.8374690 | Validation Acc: 0.8366337 \n",
      "Iter:    89 | Train Loss: 0.5679305 | Validation Loss: 0.5485800 | Train Acc: 0.8362283 | Validation Acc: 0.8465347 \n",
      "Iter:    90 | Train Loss: 0.5714995 | Validation Loss: 0.5523551 | Train Acc: 0.8300248 | Validation Acc: 0.8415842 \n",
      "Iter:    91 | Train Loss: 0.5731246 | Validation Loss: 0.5538040 | Train Acc: 0.8275434 | Validation Acc: 0.8415842 \n",
      "Iter:    92 | Train Loss: 0.5742905 | Validation Loss: 0.5550201 | Train Acc: 0.8213400 | Validation Acc: 0.8415842 \n",
      "Iter:    93 | Train Loss: 0.5730321 | Validation Loss: 0.5528940 | Train Acc: 0.8337469 | Validation Acc: 0.8415842 \n",
      "Iter:    94 | Train Loss: 0.5692761 | Validation Loss: 0.5469513 | Train Acc: 0.8325062 | Validation Acc: 0.8366337 \n",
      "Iter:    95 | Train Loss: 0.5687897 | Validation Loss: 0.5488739 | Train Acc: 0.8325062 | Validation Acc: 0.8316832 \n",
      "Iter:    96 | Train Loss: 0.5666854 | Validation Loss: 0.5474710 | Train Acc: 0.8337469 | Validation Acc: 0.8415842 \n",
      "Iter:    97 | Train Loss: 0.5675445 | Validation Loss: 0.5479106 | Train Acc: 0.8300248 | Validation Acc: 0.8415842 \n",
      "Iter:    98 | Train Loss: 0.5763144 | Validation Loss: 0.5579428 | Train Acc: 0.8337469 | Validation Acc: 0.8366337 \n",
      "Iter:    99 | Train Loss: 0.5701516 | Validation Loss: 0.5516651 | Train Acc: 0.8362283 | Validation Acc: 0.8415842 \n",
      "Iter:   100 | Train Loss: 0.5685485 | Validation Loss: 0.5490771 | Train Acc: 0.8312655 | Validation Acc: 0.8415842 \n",
      "The training session is finished\n"
     ]
    }
   ],
   "source": [
    "# training\n",
    "\n",
    "# array to save the training & val accuracy and loss history as the training goes\n",
    "train_history = np.array([])\n",
    "val_history = np.array([])\n",
    "train_loss_history = np.array([])\n",
    "val_loss_history = np.array([])\n",
    "iter_history = np.array([])\n",
    "\n",
    "var = var_init\n",
    "\n",
    "\n",
    "# train the variational classifier\n",
    "for it in range(max_iter):\n",
    "\n",
    "    # Update the weights by one optimizer step\n",
    "    batch_index = np.random.randint(0, num_train, (batch_size,))\n",
    "    feats_train_batch = feats_train[batch_index]\n",
    "    Y_train_batch = Y_train[batch_index]\n",
    "    var = opt.step(lambda v: cost(v, feats_train_batch, Y_train_batch), var)\n",
    "\n",
    "    # Compute predictions on train and validation set\n",
    "    predictions_train = [np.sign(variational_classifier(var, angles=f)) for f in feats_train]\n",
    "    predictions_val = [np.sign(variational_classifier(var, angles=f)) for f in feats_val]\n",
    "\n",
    "    # Compute accuracy on train and validation set\n",
    "    acc_train = accuracy(Y_train, predictions_train)\n",
    "    acc_val = accuracy(Y_val, predictions_val)\n",
    "\n",
    "    train_loss = cost(var, feats_train, Y_train)\n",
    "    val_loss = cost(var, feats_val, Y_val)\n",
    "    \n",
    "    print(\n",
    "        \"Iter: {:5d} | Train Loss: {:0.7f} | Validation Loss: {:0.7f} | Train Acc: {:0.7f} | Validation Acc: {:0.7f} \"\n",
    "        \"\".format(it + 1, train_loss, val_loss, acc_train, acc_val)\n",
    "    )\n",
    "    \n",
    "    iter_history = np.append(iter_history, it+1)\n",
    "    train_loss_history = np.append(train_loss_history, train_loss)\n",
    "    val_loss_history = np.append(val_loss_history, val_loss)\n",
    "    train_history = np.append(train_history, acc_train)\n",
    "    val_history = np.append(val_history, acc_val)\n",
    "    \n",
    "print(\"The training session is finished\")"
   ]
  },
  {
   "cell_type": "code",
   "execution_count": 27,
   "metadata": {},
   "outputs": [
    {
     "data": {
      "image/png": "[encoded data removed]",
      "text/plain": [
       "<Figure size 432x288 with 1 Axes>"
      ]
     },
     "metadata": {
      "needs_background": "light"
     },
     "output_type": "display_data"
    }
   ],
   "source": [
    "# plot acc train, acc val\n",
    "\n",
    "plt.plot(iter_history, train_history, color='blue', label='Akurasi Latih')\n",
    "plt.plot(iter_history, val_history, color='red', label='Akurasi Validasi')\n",
    "\n",
    "plt.ylabel('Akurasi')\n",
    "plt.xlabel('Iterasi')\n",
    "plt.title(\"Akurasi Latih dan Validasi Label \" + str(label) + \" Lawan Semua\")\n",
    "\n",
    "plt.legend()\n",
    "plt.show()"
   ]
  },
  {
   "cell_type": "code",
   "execution_count": 28,
   "metadata": {},
   "outputs": [
    {
     "data": {
      "image/png": "[encoded data removed]",
      "text/plain": [
       "<Figure size 432x288 with 1 Axes>"
      ]
     },
     "metadata": {
      "needs_background": "light"
     },
     "output_type": "display_data"
    }
   ],
   "source": [
    "# plot loss train, loss val\n",
    "\n",
    "plt.plot(iter_history, train_loss_history, color='blue', label='Loss Latih')\n",
    "plt.plot(iter_history, val_loss_history, color='red', label='Loss Validasi')\n",
    "\n",
    "plt.ylabel('Loss')\n",
    "plt.xlabel('Iterasi')\n",
    "plt.title(\"Loss (MSE Terbobot) Latih dan Validasi Label \" + str(label) + \" Lawan Semua\")\n",
    "\n",
    "plt.legend()\n",
    "plt.show()"
   ]
  },
  {
   "cell_type": "code",
   "execution_count": 29,
   "metadata": {},
   "outputs": [],
   "source": [
    "train_val_acc_hist = np.concatenate((train_history.reshape(-1,1), val_history.reshape(-1,1)), axis=1)\n",
    "train_val_loss_hist = np.concatenate((train_loss_history.reshape(-1,1), val_loss_history.reshape(-1,1)), axis=1)"
   ]
  },
  {
   "cell_type": "code",
   "execution_count": 30,
   "metadata": {},
   "outputs": [],
   "source": [
    "# save numpy array as csv file\n",
    "from numpy import asarray\n",
    "from numpy import savetxt, loadtxt\n",
    "\n",
    "def save_to_csv(data, file_name):\n",
    "    # save to csv file\n",
    "    savetxt(file_name, data, delimiter=',')\n",
    "    \n",
    "def load_from_csv(file_name):\n",
    "    # load from csv file\n",
    "    return loadtxt(file_name, delimiter=',')"
   ]
  },
  {
   "cell_type": "code",
   "execution_count": 31,
   "metadata": {},
   "outputs": [],
   "source": [
    "save_to_csv(train_val_acc_hist, \"C:/Users/user/quantum_image_classifier/PennyLane/Model & Hasil Training/\" + str(label) + \"/acc_hist_8_features_6layer_1.txt\")\n",
    "save_to_csv(train_val_loss_hist, \"C:/Users/user/quantum_image_classifier/PennyLane/Model & Hasil Training/\" + str(label) + \"/loss_hist_8_features_6layer_1.txt\")"
   ]
  },
  {
   "cell_type": "code",
   "execution_count": 95,
   "metadata": {},
   "outputs": [
    {
     "name": "stdout",
     "output_type": "stream",
     "text": [
      "0.8194444444444444 0.563236537811076\n"
     ]
    }
   ],
   "source": [
    "# Compute predictions on train and validation set\n",
    "predictions_test = [np.sign(variational_classifier(var, angles=f)) for f in feats_test]\n",
    "\n",
    "# Compute accuracy on train and validation set\n",
    "acc_test = accuracy(Y_test, predictions_test)\n",
    "\n",
    "test_loss = cost(var, feats_test, Y_test)\n",
    "\n",
    "print(acc_test, test_loss)"
   ]
  },
  {
   "cell_type": "code",
   "execution_count": 305,
   "metadata": {},
   "outputs": [],
   "source": [
    "def confusion_matrix(labels, predictions):\n",
    "    cost_matrix=np.array([[0, 0.9], [0.1, 0]])\n",
    "    \n",
    "    TP = 0\n",
    "    TN = 0\n",
    "    FP = 0\n",
    "    FN = 0\n",
    "    \n",
    "    # count the TP, TN, FP, and FN\n",
    "    for l, p in zip(labels, predictions):\n",
    "        if l == 1:\n",
    "            if p == 1:\n",
    "                TP += 1\n",
    "            else:\n",
    "                FN += 1\n",
    "        else:\n",
    "            if p == 1:\n",
    "                FP += 1\n",
    "            else:\n",
    "                TN += 1\n",
    "            \n",
    "    # create the confusion matrix\n",
    "    CM = np.array([[TN, FN], [FP, TP]])\n",
    "    \n",
    "    return CM"
   ]
  },
  {
   "cell_type": "code",
   "execution_count": 306,
   "metadata": {},
   "outputs": [
    {
     "data": {
      "text/plain": [
       "tensor([[89,  8],\n",
       "        [ 1,  2]], requires_grad=True)"
      ]
     },
     "execution_count": 306,
     "metadata": {},
     "output_type": "execute_result"
    }
   ],
   "source": [
    "confusion_matrix(Y_test, predictions_test)"
   ]
  },
  {
   "cell_type": "code",
   "execution_count": null,
   "metadata": {},
   "outputs": [],
   "source": []
  }
 ],
 "metadata": {
  "kernelspec": {
   "display_name": "Python 3",
   "language": "python",
   "name": "python3"
  },
  "language_info": {
   "codemirror_mode": {
    "name": "ipython",
    "version": 3
   },
   "file_extension": ".py",
   "mimetype": "text/x-python",
   "name": "python",
   "nbconvert_exporter": "python",
   "pygments_lexer": "ipython3",
   "version": "3.7.4"
  }
 },
 "nbformat": 4,
 "nbformat_minor": 2
}
