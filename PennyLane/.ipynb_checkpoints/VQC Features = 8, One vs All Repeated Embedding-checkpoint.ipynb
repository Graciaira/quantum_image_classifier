{
 "cells": [
  {
   "cell_type": "code",
   "execution_count": 1,
   "metadata": {},
   "outputs": [],
   "source": [
    "from numpy import loadtxt\n",
    "import pandas as pd\n",
    "import matplotlib.pyplot as plt\n",
    "import numpy as np"
   ]
  },
  {
   "cell_type": "markdown",
   "metadata": {},
   "source": [
    "# Data Load"
   ]
  },
  {
   "cell_type": "code",
   "execution_count": 2,
   "metadata": {},
   "outputs": [],
   "source": [
    "# load dataset\n",
    "\n",
    "label = 0\n",
    "\n",
    "X = loadtxt('C:/Users/user/quantum_image_classifier/Image Preprocessing/Dataset One-vs-All/x_train_8features_' + str(0) + '.txt', delimiter=',')\n",
    "\n",
    "X_test = loadtxt('C:/Users/user/quantum_image_classifier/Image Preprocessing/Dataset One-vs-All/x_test_8features_' + str(0) + '.txt', delimiter=',')"
   ]
  },
  {
   "cell_type": "code",
   "execution_count": 3,
   "metadata": {},
   "outputs": [
    {
     "data": {
      "text/plain": [
       "1008"
      ]
     },
     "execution_count": 3,
     "metadata": {},
     "output_type": "execute_result"
    }
   ],
   "source": [
    "X.shape[0]"
   ]
  },
  {
   "cell_type": "code",
   "execution_count": 4,
   "metadata": {},
   "outputs": [],
   "source": [
    "Y = np.zeros((X.shape[0],))\n",
    "Y[:int(X.shape[0]/2)] = 1\n",
    "Y[int(X.shape[0]/2):] = -1\n",
    "\n",
    "Y_test = np.zeros((X_test.shape[0],))\n",
    "Y_test[:int(X_test.shape[0]/2)] = 1\n",
    "Y_test[int(X_test.shape[0]/2):] = -1"
   ]
  },
  {
   "cell_type": "code",
   "execution_count": 5,
   "metadata": {},
   "outputs": [
    {
     "name": "stdout",
     "output_type": "stream",
     "text": [
      "(1008, 8) (1008,)\n",
      "(216, 8) (216,)\n"
     ]
    }
   ],
   "source": [
    "print(X.shape, Y.shape)\n",
    "print(X_test.shape, Y_test.shape)"
   ]
  },
  {
   "cell_type": "markdown",
   "metadata": {},
   "source": [
    "# Create Quantum Model"
   ]
  },
  {
   "cell_type": "code",
   "execution_count": 7,
   "metadata": {},
   "outputs": [],
   "source": [
    "%matplotlib inline\n",
    "\n",
    "import pennylane as qml\n",
    "from pennylane import numpy as np\n",
    "import numpy\n",
    "from pennylane.optimize import *\n",
    "\n",
    "from qiskit import *\n",
    "from qiskit.providers.aer.noise import NoiseModel"
   ]
  },
  {
   "cell_type": "markdown",
   "metadata": {},
   "source": [
    "## Choose a Quantum Device\n",
    "\n",
    "You can choose between several different backend (including the one ownwed by IBM)"
   ]
  },
  {
   "cell_type": "code",
   "execution_count": 8,
   "metadata": {},
   "outputs": [],
   "source": [
    "def select_backend(num_qubit, selected, shots):\n",
    "    if selected == 'pennylane_statevector_simulator':\n",
    "        # PennyLane Statevector simulator\n",
    "        dev = qml.device(\"default.qubit\", wires=num_qubit)\n",
    "\n",
    "    elif selected == 'qiskit_noisefree_qasm_simulator':\n",
    "        # Qiskit QASM simulator (noise-free)\n",
    "        dev = qml.device(\"qiskit.aer\", wires=num_qubit, shots=shots, analytic=False, backend='qasm_simulator')\n",
    "\n",
    "    elif selected == 'qiskit_noisy_qasm_simulator':\n",
    "        # Qiskit QASM simulator + noise\n",
    "        provider = IBMQ.load_account()\n",
    "        backend = provider.get_backend('ibmq_athens')\n",
    "        noise_model = NoiseModel.from_backend(backend)\n",
    "        dev = qml.device(\"qiskit.aer\", wires=num_qubit, shots=shots, noise_model = noise_model, analytic=False, backend='qasm_simulator')\n",
    "        \n",
    "    return dev"
   ]
  },
  {
   "cell_type": "code",
   "execution_count": 9,
   "metadata": {},
   "outputs": [],
   "source": [
    "num_qubit = 3\n",
    "dev = select_backend(num_qubit, 'pennylane_statevector_simulator', 1024)"
   ]
  },
  {
   "cell_type": "markdown",
   "metadata": {},
   "source": [
    "## Loss and Acc Metric"
   ]
  },
  {
   "cell_type": "code",
   "execution_count": 10,
   "metadata": {},
   "outputs": [],
   "source": [
    "# MSE\n",
    "def square_loss(labels, predictions):\n",
    "    loss = 0\n",
    "    for l, p in zip(labels, predictions):\n",
    "        loss = loss + (l - p) ** 2\n",
    "\n",
    "    loss = loss / len(labels)\n",
    "    return loss\n",
    "\n",
    "# Cost-Sensitive Learning for Imbalanced Classification\n",
    "def confusion_matrix_loss(labels, predictions):\n",
    "    cost_matrix=np.array([[0, 0.9], [0.1, 0]])\n",
    "    \n",
    "    TP = 0\n",
    "    TN = 0\n",
    "    FP = 0\n",
    "    FN = 0\n",
    "    \n",
    "    # count the TP, TN, FP, and FN\n",
    "    for l, p in zip(labels, predictions):\n",
    "        if l == 1:\n",
    "            if p == 1:\n",
    "                TP += 1\n",
    "            else:\n",
    "                FN += 1\n",
    "        else:\n",
    "            if p == 1:\n",
    "                FP += 1\n",
    "            else:\n",
    "                TN += 1\n",
    "            \n",
    "    # create the confusion matrix\n",
    "    CM = np.array([[TN, FN], [FP, TP]])\n",
    "    \n",
    "    # calculate loss\n",
    "    loss = float(np.sum(CM*cost_matrix))/len(labels)\n",
    "\n",
    "    return loss\n",
    "\n",
    "# true predictions/total predictions\n",
    "def accuracy(labels, predictions):\n",
    "    acc = 0\n",
    "    for l, p in zip(labels, predictions):\n",
    "        if abs(l - p) < 1e-5:\n",
    "            acc = acc + 1\n",
    "    acc = acc / len(labels)\n",
    "\n",
    "    return acc"
   ]
  },
  {
   "cell_type": "code",
   "execution_count": 11,
   "metadata": {},
   "outputs": [
    {
     "ename": "NameError",
     "evalue": "name 'Y_train' is not defined",
     "output_type": "error",
     "traceback": [
      "\u001b[1;31m---------------------------------------------------------------------------\u001b[0m",
      "\u001b[1;31mNameError\u001b[0m                                 Traceback (most recent call last)",
      "\u001b[1;32m<ipython-input-11-9306a6fb9053>\u001b[0m in \u001b[0;36m<module>\u001b[1;34m\u001b[0m\n\u001b[1;32m----> 1\u001b[1;33m \u001b[0mconfusion_matrix_loss\u001b[0m\u001b[1;33m(\u001b[0m\u001b[0mY_train\u001b[0m\u001b[1;33m,\u001b[0m \u001b[0mpredictions_train\u001b[0m\u001b[1;33m)\u001b[0m\u001b[1;33m\u001b[0m\u001b[1;33m\u001b[0m\u001b[0m\n\u001b[0m",
      "\u001b[1;31mNameError\u001b[0m: name 'Y_train' is not defined"
     ]
    }
   ],
   "source": [
    "confusion_matrix_loss(Y_train, predictions_train)"
   ]
  },
  {
   "cell_type": "code",
   "execution_count": 164,
   "metadata": {},
   "outputs": [
    {
     "data": {
      "text/plain": [
       "0.9032258064516129"
      ]
     },
     "execution_count": 164,
     "metadata": {},
     "output_type": "execute_result"
    }
   ],
   "source": [
    "square_loss(Y_train, predictions_train)"
   ]
  },
  {
   "cell_type": "code",
   "execution_count": 200,
   "metadata": {},
   "outputs": [],
   "source": [
    "cost_matrix = np.array([[0, 0.9], [0.1, 0]])"
   ]
  },
  {
   "cell_type": "code",
   "execution_count": 181,
   "metadata": {},
   "outputs": [
    {
     "data": {
      "text/plain": [
       "array([0.9, 0.1])"
      ]
     },
     "execution_count": 181,
     "metadata": {},
     "output_type": "execute_result"
    }
   ],
   "source": [
    "loss_weight = np.unique(Y, return_counts=True)[1]/np.sum(np.unique(Y, return_counts=True)[1])\n",
    "loss_weight"
   ]
  },
  {
   "cell_type": "markdown",
   "metadata": {},
   "source": [
    "## Quantum Amplitude Encoding Function"
   ]
  },
  {
   "cell_type": "code",
   "execution_count": 12,
   "metadata": {},
   "outputs": [],
   "source": [
    "# a function to calculate the angle β\n",
    "\n",
    "def beta(s, j, X_sample):\n",
    "    # numerator index\n",
    "    index_num = (2*j-1)*(2**(s-1))\n",
    "    # denominator index\n",
    "    index_den = (j-1)*(2**s)\n",
    "    \n",
    "    num = np.sqrt(np.sum(abs(X_sample[index_num : index_num+2**(s-1)])**2))\n",
    "    den = np.sqrt(np.sum(abs(X_sample[index_den : index_den+2**(s)])**2))\n",
    "    \n",
    "    if den == 0:\n",
    "        #print(\"Zero denominator!\")\n",
    "        beta = 0\n",
    "    else:\n",
    "        beta = 2*np.arcsin(num/den)\n",
    "    \n",
    "    return beta"
   ]
  },
  {
   "cell_type": "code",
   "execution_count": 13,
   "metadata": {},
   "outputs": [],
   "source": [
    "def get_angles(x):\n",
    "    \n",
    "    return np.array([beta(3,1,x), beta(2,2,x), beta(2,1,x), beta(1,4,x), beta(1,3,x), beta(1,2,x), beta(1,1,x)])"
   ]
  },
  {
   "cell_type": "code",
   "execution_count": 14,
   "metadata": {},
   "outputs": [],
   "source": [
    "def U3_gate(θ, wires):\n",
    "    qml.RX(np.pi/2, wires=wires)\n",
    "    qml.RZ(θ, wires=wires)\n",
    "    qml.RX(-np.pi/2, wires=wires)"
   ]
  },
  {
   "cell_type": "code",
   "execution_count": 15,
   "metadata": {},
   "outputs": [],
   "source": [
    "def statepreparation(a):\n",
    "    qml.RY(a[0], wires=0)\n",
    "    \n",
    "    U3_gate(a[1]/2, wires=1)\n",
    "    qml.CNOT(wires=[0,1])\n",
    "    U3_gate(-a[1]/2, wires=1)\n",
    "    qml.CNOT(wires=[0,1])\n",
    "    \n",
    "    qml.PauliX(wires=0)\n",
    "    U3_gate(a[2]/2, wires=1)\n",
    "    qml.CNOT(wires=[0,1])\n",
    "    U3_gate(-a[2]/2, wires=1)\n",
    "    qml.CNOT(wires=[0,1])\n",
    "    qml.PauliX(wires=0)\n",
    "    \n",
    "    U3_gate(a[3]/2, wires=2)\n",
    "    qml.Toffoli(wires=[0,1,2])\n",
    "    U3_gate(-a[3]/2, wires=2)\n",
    "    qml.Toffoli(wires=[0,1,2])\n",
    "    \n",
    "    qml.PauliX(wires=1)\n",
    "    U3_gate(a[4]/2, wires=2)\n",
    "    qml.Toffoli(wires=[0,1,2])\n",
    "    U3_gate(-a[4]/2, wires=2)\n",
    "    qml.Toffoli(wires=[0,1,2])\n",
    "    qml.PauliX(wires=1)\n",
    "    \n",
    "    qml.PauliX(wires=0)\n",
    "    U3_gate(a[5]/2, wires=2)\n",
    "    qml.Toffoli(wires=[0,1,2])\n",
    "    U3_gate(-a[5]/2, wires=2)\n",
    "    qml.Toffoli(wires=[0,1,2])\n",
    "    \n",
    "    qml.PauliX(wires=1)\n",
    "    U3_gate(a[6]/2, wires=2)\n",
    "    qml.Toffoli(wires=[0,1,2])\n",
    "    U3_gate(-a[6]/2, wires=2)\n",
    "    qml.Toffoli(wires=[0,1,2])\n",
    "    qml.PauliX(wires=1)\n",
    "    \n",
    "    qml.PauliX(wires=0)"
   ]
  },
  {
   "cell_type": "code",
   "execution_count": 16,
   "metadata": {},
   "outputs": [
    {
     "name": "stdout",
     "output_type": "stream",
     "text": [
      "x               :  [0.71390981 0.78880487 0.98799223 0.84120304 0.87844593 0.41641348\n",
      " 0.66252244 0.78492709]\n",
      "angles          :  [1.40063231 1.62581048 1.76807601 1.73952636 0.8853202  1.41064359\n",
      " 1.6703936 ]\n",
      "amplitude vector:  [[[0.32532062 0.35944945]\n",
      "  [0.45021687 0.3833267 ]]\n",
      "\n",
      " [[0.40029786 0.18975491]\n",
      "  [0.30190397 0.35768239]]]\n"
     ]
    }
   ],
   "source": [
    "x = np.random.rand(8)\n",
    "ang = get_angles(x)\n",
    "\n",
    "\n",
    "@qml.qnode(dev)\n",
    "def test(angles=None):\n",
    "\n",
    "    statepreparation(angles)\n",
    "\n",
    "    return qml.expval(qml.PauliZ(0))\n",
    "\n",
    "\n",
    "test(angles=ang)\n",
    "\n",
    "print(\"x               : \", x)\n",
    "print(\"angles          : \", ang)\n",
    "print(\"amplitude vector: \", np.real(dev._state))"
   ]
  },
  {
   "cell_type": "markdown",
   "metadata": {},
   "source": [
    "## Define the Layer"
   ]
  },
  {
   "cell_type": "code",
   "execution_count": 17,
   "metadata": {},
   "outputs": [],
   "source": [
    "def layer(W):\n",
    "    qml.Rot(W[0, 0], W[0, 1], W[0, 2], wires=0)\n",
    "    qml.Rot(W[1, 0], W[1, 1], W[1, 2], wires=1)\n",
    "    qml.Rot(W[2, 0], W[2, 1], W[2, 2], wires=2)\n",
    "    qml.CNOT(wires=[0, 1])\n",
    "    qml.CNOT(wires=[1, 2])\n",
    "    qml.CNOT(wires=[2, 0])"
   ]
  },
  {
   "cell_type": "markdown",
   "metadata": {},
   "source": [
    "## Build the Quantum Circuit, Define Cost Function, Create VQC"
   ]
  },
  {
   "cell_type": "code",
   "execution_count": 37,
   "metadata": {},
   "outputs": [],
   "source": [
    "@qml.qnode(dev)\n",
    "def circuit(weights, angles=None):\n",
    "    statepreparation(angles)\n",
    "    for W in weights:\n",
    "        layer(W)\n",
    "\n",
    "    return qml.expval(qml.PauliZ(0))\n",
    "\n",
    "\n",
    "def variational_classifier(var, angles=None):\n",
    "    weights = var[0]\n",
    "    bias = var[1]\n",
    "    return circuit(weights, angles=angles) + bias\n",
    "\n",
    "\n",
    "def cost(weights, features, labels):\n",
    "    predictions = [variational_classifier(weights, angles=f) for f in features]\n",
    "    return square_loss(labels, predictions)"
   ]
  },
  {
   "cell_type": "markdown",
   "metadata": {},
   "source": [
    "# Data Prep"
   ]
  },
  {
   "cell_type": "markdown",
   "metadata": {},
   "source": [
    "## Data (Padding), Normalization and Data Encoding"
   ]
  },
  {
   "cell_type": "code",
   "execution_count": 19,
   "metadata": {},
   "outputs": [
    {
     "name": "stdout",
     "output_type": "stream",
     "text": [
      "First X train sample (original)  : [ 3.96752304 -1.15630211  2.33858651 -1.80692626 -3.24421656 -0.71353148\n",
      " -0.17655089 -0.41164546]\n",
      "First X train sample (normalized): [ 0.65184348 -0.18997445  0.38421765 -0.29686862 -0.53300797 -0.11722953\n",
      " -0.0290064  -0.06763122]\n",
      "First features sample      : [1.16637288 0.26806496 1.24161413 2.33126975 0.43298526 1.31568975\n",
      " 0.56717374]\n"
     ]
    }
   ],
   "source": [
    "# train and val\n",
    "\n",
    "print(\"First X train sample (original)  :\", X[0])\n",
    "\n",
    "# # pad the vectors to size 2^2 with constant values\n",
    "# padding = 0.3 * np.ones((len(X), 1))\n",
    "# X_pad = np.c_[np.c_[X, padding], np.zeros((len(X), 1))]\n",
    "# print(\"First X sample (padded)    :\", X_pad[0])\n",
    "\n",
    "X_pad = X.copy()\n",
    "\n",
    "# normalize each input\n",
    "normalization = np.sqrt(np.sum(X_pad ** 2, -1))\n",
    "X_norm = (X_pad.T / normalization).T\n",
    "print(\"First X train sample (normalized):\", X_norm[0])\n",
    "\n",
    "# angles for state preparation are new features\n",
    "features = np.array([get_angles(x) for x in X_norm])\n",
    "print(\"First features sample      :\", features[0])"
   ]
  },
  {
   "cell_type": "code",
   "execution_count": 20,
   "metadata": {},
   "outputs": [
    {
     "data": {
      "text/plain": [
       "1.0"
      ]
     },
     "execution_count": 20,
     "metadata": {},
     "output_type": "execute_result"
    }
   ],
   "source": [
    "sampel = 436\n",
    "\n",
    "result = 0\n",
    "\n",
    "for i in range (8):\n",
    "    result += X_norm[sampel, i]**2\n",
    "\n",
    "np.sqrt(result)"
   ]
  },
  {
   "cell_type": "code",
   "execution_count": 21,
   "metadata": {},
   "outputs": [
    {
     "name": "stdout",
     "output_type": "stream",
     "text": [
      "First X test sample (original)  : [ 4.83885093  0.44290373  0.99533214 -0.38530635 -0.81798657 -1.90399072\n",
      "  2.72785227  0.29909493]\n",
      "First X test sample (normalized): [ 0.80011389  0.07323504  0.1645802  -0.06371119 -0.13525575 -0.31482876\n",
      "  0.45105595  0.04945596]\n",
      "First test features sample      : [1.20961162 1.84802298 0.4324375  0.2184172  2.33004329 0.73869613\n",
      " 0.18255286]\n"
     ]
    }
   ],
   "source": [
    "print(\"First X test sample (original)  :\", X_test[0])\n",
    "\n",
    "# # pad the vectors to size 2^2 with constant values\n",
    "# padding = 0.3 * np.ones((len(X_test), 1))\n",
    "# X_pad = np.c_[np.c_[X_test, padding], np.zeros((len(X_test), 1))]\n",
    "# print(\"First X sample (padded)    :\", X_pad[0])\n",
    "\n",
    "X_pad = X_test.copy()\n",
    "\n",
    "# normalize each input\n",
    "normalization = np.sqrt(np.sum(X_pad ** 2, -1))\n",
    "X_norm = (X_pad.T / normalization).T\n",
    "print(\"First X test sample (normalized):\", X_norm[0])\n",
    "\n",
    "# angles for state preparation are new features\n",
    "feats_test = np.array([get_angles(x) for x in X_norm])\n",
    "print(\"First test features sample      :\", feats_test[0])"
   ]
  },
  {
   "cell_type": "code",
   "execution_count": 22,
   "metadata": {},
   "outputs": [
    {
     "data": {
      "text/plain": [
       "0.9999999999999999"
      ]
     },
     "execution_count": 22,
     "metadata": {},
     "output_type": "execute_result"
    }
   ],
   "source": [
    "sampel = 17\n",
    "\n",
    "result = 0\n",
    "\n",
    "for i in range (8):\n",
    "    result += X_norm[sampel, i]**2\n",
    "\n",
    "np.sqrt(result)"
   ]
  },
  {
   "cell_type": "code",
   "execution_count": 23,
   "metadata": {},
   "outputs": [],
   "source": [
    "# split X and y to train and validation\n",
    "\n",
    "from sklearn.model_selection import train_test_split\n",
    "\n",
    "feats_train, feats_val, Y_train, Y_val = train_test_split(features, Y, test_size=0.2, random_state=2020)\n",
    "\n",
    "X_train, X_val, Y_train, Y_val = train_test_split(X, Y, test_size=0.2, random_state=2020)"
   ]
  },
  {
   "cell_type": "code",
   "execution_count": 24,
   "metadata": {},
   "outputs": [
    {
     "name": "stdout",
     "output_type": "stream",
     "text": [
      "(806, 8) (806, 7) (806,)\n",
      "(202, 8) (202, 7) (202,)\n",
      "(216, 8) (216, 7) (216,)\n"
     ]
    }
   ],
   "source": [
    "print(X_train.shape, feats_train.shape, Y_train.shape)\n",
    "print(X_val.shape, feats_val.shape, Y_val.shape)\n",
    "print(X_test.shape, feats_test.shape, Y_test.shape)"
   ]
  },
  {
   "cell_type": "markdown",
   "metadata": {},
   "source": [
    "# Training"
   ]
  },
  {
   "cell_type": "markdown",
   "metadata": {},
   "source": [
    "## Qubits, Layers and Weights Initialization"
   ]
  },
  {
   "cell_type": "code",
   "execution_count": 38,
   "metadata": {},
   "outputs": [],
   "source": [
    "# First we initialize the hyperparameters\n",
    "\n",
    "num_qubits = 3  # 8 features = log2(8) qubits = 3 qubits\n",
    "num_layers = 3  # QNN layer\n",
    "learning_rate = 0.01\n",
    "\n",
    "opt = RMSPropOptimizer(stepsize=learning_rate)\n",
    "batch_size = 32\n",
    "max_iter = 100\n",
    "\n",
    "var_init = (0.01 * np.random.randn(num_layers, num_qubits, 3), 0.0)  # weights and bias initialization"
   ]
  },
  {
   "cell_type": "code",
   "execution_count": 39,
   "metadata": {},
   "outputs": [
    {
     "data": {
      "text/plain": [
       "806"
      ]
     },
     "execution_count": 39,
     "metadata": {},
     "output_type": "execute_result"
    }
   ],
   "source": [
    "num_train = X_train.shape[0]\n",
    "num_train"
   ]
  },
  {
   "cell_type": "markdown",
   "metadata": {},
   "source": [
    "## Training Iteration"
   ]
  },
  {
   "cell_type": "code",
   "execution_count": null,
   "metadata": {
    "scrolled": false
   },
   "outputs": [
    {
     "name": "stdout",
     "output_type": "stream",
     "text": [
      "Iter:     1 | Train Loss: 0.9472186 | Validation Loss: 0.9852508 | Train Acc: 0.6327543 | Validation Acc: 0.6039604 \n",
      "Iter:     2 | Train Loss: 0.9266496 | Validation Loss: 0.9639142 | Train Acc: 0.6352357 | Validation Acc: 0.6039604 \n",
      "Iter:     3 | Train Loss: 0.9148520 | Validation Loss: 0.9511174 | Train Acc: 0.6464020 | Validation Acc: 0.6138614 \n",
      "Iter:     4 | Train Loss: 0.8936485 | Validation Loss: 0.9301421 | Train Acc: 0.6550868 | Validation Acc: 0.6188119 \n",
      "Iter:     5 | Train Loss: 0.8809024 | Validation Loss: 0.9170419 | Train Acc: 0.6513648 | Validation Acc: 0.6336634 \n",
      "Iter:     6 | Train Loss: 0.8693077 | Validation Loss: 0.9053429 | Train Acc: 0.6588089 | Validation Acc: 0.6386139 \n",
      "Iter:     7 | Train Loss: 0.8659588 | Validation Loss: 0.9041879 | Train Acc: 0.6674938 | Validation Acc: 0.6386139 \n",
      "Iter:     8 | Train Loss: 0.8473024 | Validation Loss: 0.8843206 | Train Acc: 0.6736973 | Validation Acc: 0.6435644 \n",
      "Iter:     9 | Train Loss: 0.8345261 | Validation Loss: 0.8725142 | Train Acc: 0.6749380 | Validation Acc: 0.6584158 \n",
      "Iter:    10 | Train Loss: 0.8229598 | Validation Loss: 0.8598184 | Train Acc: 0.6749380 | Validation Acc: 0.6584158 \n",
      "Iter:    11 | Train Loss: 0.8200612 | Validation Loss: 0.8558326 | Train Acc: 0.6749380 | Validation Acc: 0.6584158 \n",
      "Iter:    12 | Train Loss: 0.8114429 | Validation Loss: 0.8481180 | Train Acc: 0.6836228 | Validation Acc: 0.6633663 \n",
      "Iter:    13 | Train Loss: 0.8009864 | Validation Loss: 0.8366427 | Train Acc: 0.6898263 | Validation Acc: 0.6683168 \n",
      "Iter:    14 | Train Loss: 0.7973860 | Validation Loss: 0.8322020 | Train Acc: 0.6910670 | Validation Acc: 0.6683168 \n",
      "Iter:    15 | Train Loss: 0.7963682 | Validation Loss: 0.8324434 | Train Acc: 0.6910670 | Validation Acc: 0.6683168 \n",
      "Iter:    16 | Train Loss: 0.7848557 | Validation Loss: 0.8185092 | Train Acc: 0.6972705 | Validation Acc: 0.6782178 \n",
      "Iter:    17 | Train Loss: 0.7701378 | Validation Loss: 0.8023725 | Train Acc: 0.7121588 | Validation Acc: 0.6831683 \n",
      "Iter:    18 | Train Loss: 0.7611310 | Validation Loss: 0.7943840 | Train Acc: 0.7146402 | Validation Acc: 0.6831683 \n",
      "Iter:    19 | Train Loss: 0.7613127 | Validation Loss: 0.7937916 | Train Acc: 0.7146402 | Validation Acc: 0.6831683 \n",
      "Iter:    20 | Train Loss: 0.7529359 | Validation Loss: 0.7868804 | Train Acc: 0.7084367 | Validation Acc: 0.6881188 \n",
      "Iter:    21 | Train Loss: 0.7383586 | Validation Loss: 0.7712369 | Train Acc: 0.7245658 | Validation Acc: 0.6881188 \n",
      "Iter:    22 | Train Loss: 0.7301372 | Validation Loss: 0.7622123 | Train Acc: 0.7233251 | Validation Acc: 0.6980198 \n",
      "Iter:    23 | Train Loss: 0.7269861 | Validation Loss: 0.7586923 | Train Acc: 0.7282878 | Validation Acc: 0.7079208 \n",
      "Iter:    24 | Train Loss: 0.7218179 | Validation Loss: 0.7528925 | Train Acc: 0.7282878 | Validation Acc: 0.7079208 \n",
      "Iter:    25 | Train Loss: 0.7174238 | Validation Loss: 0.7485867 | Train Acc: 0.7258065 | Validation Acc: 0.7029703 \n",
      "Iter:    26 | Train Loss: 0.7160217 | Validation Loss: 0.7467184 | Train Acc: 0.7258065 | Validation Acc: 0.7079208 \n",
      "Iter:    27 | Train Loss: 0.7087428 | Validation Loss: 0.7389003 | Train Acc: 0.7270471 | Validation Acc: 0.7227723 \n",
      "Iter:    28 | Train Loss: 0.6981683 | Validation Loss: 0.7261890 | Train Acc: 0.7382134 | Validation Acc: 0.7227723 \n",
      "Iter:    29 | Train Loss: 0.6964121 | Validation Loss: 0.7243193 | Train Acc: 0.7344913 | Validation Acc: 0.7227723 \n",
      "Iter:    30 | Train Loss: 0.6902393 | Validation Loss: 0.7166839 | Train Acc: 0.7419355 | Validation Acc: 0.7227723 \n",
      "Iter:    31 | Train Loss: 0.6854489 | Validation Loss: 0.7119540 | Train Acc: 0.7431762 | Validation Acc: 0.7227723 \n",
      "Iter:    32 | Train Loss: 0.6861075 | Validation Loss: 0.7128312 | Train Acc: 0.7468983 | Validation Acc: 0.7277228 \n",
      "Iter:    33 | Train Loss: 0.6867037 | Validation Loss: 0.7133644 | Train Acc: 0.7382134 | Validation Acc: 0.7326733 \n",
      "Iter:    34 | Train Loss: 0.6841045 | Validation Loss: 0.7115998 | Train Acc: 0.7444169 | Validation Acc: 0.7277228 \n",
      "Iter:    35 | Train Loss: 0.6798997 | Validation Loss: 0.7073469 | Train Acc: 0.7431762 | Validation Acc: 0.7277228 \n",
      "Iter:    36 | Train Loss: 0.6725614 | Validation Loss: 0.6972711 | Train Acc: 0.7444169 | Validation Acc: 0.7425743 \n",
      "Iter:    37 | Train Loss: 0.6720938 | Validation Loss: 0.6961179 | Train Acc: 0.7468983 | Validation Acc: 0.7425743 \n",
      "Iter:    38 | Train Loss: 0.6696764 | Validation Loss: 0.6912783 | Train Acc: 0.7568238 | Validation Acc: 0.7425743 \n",
      "Iter:    39 | Train Loss: 0.6718002 | Validation Loss: 0.6940142 | Train Acc: 0.7667494 | Validation Acc: 0.7425743 \n",
      "Iter:    40 | Train Loss: 0.6681890 | Validation Loss: 0.6886393 | Train Acc: 0.7605459 | Validation Acc: 0.7524752 \n",
      "Iter:    41 | Train Loss: 0.6675402 | Validation Loss: 0.6872917 | Train Acc: 0.7692308 | Validation Acc: 0.7574257 \n",
      "Iter:    42 | Train Loss: 0.6656485 | Validation Loss: 0.6838215 | Train Acc: 0.7617866 | Validation Acc: 0.7524752 \n",
      "Iter:    43 | Train Loss: 0.6624503 | Validation Loss: 0.6792966 | Train Acc: 0.7630273 | Validation Acc: 0.7475248 \n",
      "Iter:    44 | Train Loss: 0.6628951 | Validation Loss: 0.6821510 | Train Acc: 0.7605459 | Validation Acc: 0.7425743 \n",
      "Iter:    45 | Train Loss: 0.6614941 | Validation Loss: 0.6806653 | Train Acc: 0.7543424 | Validation Acc: 0.7425743 \n",
      "Iter:    46 | Train Loss: 0.6582725 | Validation Loss: 0.6767087 | Train Acc: 0.7655087 | Validation Acc: 0.7475248 \n",
      "Iter:    47 | Train Loss: 0.6568353 | Validation Loss: 0.6748902 | Train Acc: 0.7667494 | Validation Acc: 0.7425743 \n",
      "Iter:    48 | Train Loss: 0.6566258 | Validation Loss: 0.6769600 | Train Acc: 0.7543424 | Validation Acc: 0.7475248 \n"
     ]
    }
   ],
   "source": [
    "# training\n",
    "\n",
    "# array to save the training & val accuracy and loss history as the training goes\n",
    "train_history = np.array([])\n",
    "val_history = np.array([])\n",
    "train_loss_history = np.array([])\n",
    "val_loss_history = np.array([])\n",
    "iter_history = np.array([])\n",
    "\n",
    "var = var_init\n",
    "\n",
    "\n",
    "# train the variational classifier\n",
    "for it in range(max_iter):\n",
    "\n",
    "    # Update the weights by one optimizer step\n",
    "    batch_index = np.random.randint(0, num_train, (batch_size,))\n",
    "    feats_train_batch = feats_train[batch_index]\n",
    "    Y_train_batch = Y_train[batch_index]\n",
    "    var = opt.step(lambda v: cost(v, feats_train_batch, Y_train_batch), var)\n",
    "\n",
    "    # Compute predictions on train and validation set\n",
    "    predictions_train = [np.sign(variational_classifier(var, angles=f)) for f in feats_train]\n",
    "    predictions_val = [np.sign(variational_classifier(var, angles=f)) for f in feats_val]\n",
    "\n",
    "    # Compute accuracy on train and validation set\n",
    "    acc_train = accuracy(Y_train, predictions_train)\n",
    "    acc_val = accuracy(Y_val, predictions_val)\n",
    "\n",
    "    train_loss = cost(var, feats_train, Y_train)\n",
    "    val_loss = cost(var, feats_val, Y_val)\n",
    "    \n",
    "    print(\n",
    "        \"Iter: {:5d} | Train Loss: {:0.7f} | Validation Loss: {:0.7f} | Train Acc: {:0.7f} | Validation Acc: {:0.7f} \"\n",
    "        \"\".format(it + 1, train_loss, val_loss, acc_train, acc_val)\n",
    "    )\n",
    "    \n",
    "    iter_history = np.append(iter_history, it+1)\n",
    "    train_loss_history = np.append(train_loss_history, train_loss)\n",
    "    val_loss_history = np.append(val_loss_history, val_loss)\n",
    "    train_history = np.append(train_history, acc_train)\n",
    "    val_history = np.append(val_history, acc_val)\n",
    "    \n",
    "print(\"The training session is finished\")"
   ]
  },
  {
   "cell_type": "code",
   "execution_count": 31,
   "metadata": {},
   "outputs": [
    {
     "data": {
      "image/png": "[encoded data removed]",
      "text/plain": [
       "<Figure size 432x288 with 1 Axes>"
      ]
     },
     "metadata": {
      "needs_background": "light"
     },
     "output_type": "display_data"
    }
   ],
   "source": [
    "# plot acc train, acc val\n",
    "\n",
    "plt.plot(iter_history, train_history, color='blue', label='Akurasi Latih')\n",
    "plt.plot(iter_history, val_history, color='red', label='Akurasi Validasi')\n",
    "\n",
    "plt.ylabel('Akurasi')\n",
    "plt.xlabel('Iterasi')\n",
    "plt.title(\"Akurasi Latih dan Validasi Label \" + str(label) + \" Lawan Semua\")\n",
    "\n",
    "plt.legend()\n",
    "plt.show()"
   ]
  },
  {
   "cell_type": "code",
   "execution_count": 32,
   "metadata": {},
   "outputs": [
    {
     "data": {
      "image/png": "[encoded data removed]",
      "text/plain": [
       "<Figure size 432x288 with 1 Axes>"
      ]
     },
     "metadata": {
      "needs_background": "light"
     },
     "output_type": "display_data"
    }
   ],
   "source": [
    "# plot loss train, loss val\n",
    "\n",
    "plt.plot(iter_history, train_loss_history, color='blue', label='Loss Latih')\n",
    "plt.plot(iter_history, val_loss_history, color='red', label='Loss Validasi')\n",
    "\n",
    "plt.ylabel('Loss')\n",
    "plt.xlabel('Iterasi')\n",
    "plt.title(\"Loss (MSE Terbobot) Latih dan Validasi Label \" + str(label) + \" Lawan Semua\")\n",
    "\n",
    "plt.legend()\n",
    "plt.show()"
   ]
  },
  {
   "cell_type": "code",
   "execution_count": 33,
   "metadata": {},
   "outputs": [],
   "source": [
    "train_val_acc_hist = np.concatenate((train_history.reshape(-1,1), val_history.reshape(-1,1)), axis=1)\n",
    "train_val_loss_hist = np.concatenate((train_loss_history.reshape(-1,1), val_loss_history.reshape(-1,1)), axis=1)"
   ]
  },
  {
   "cell_type": "code",
   "execution_count": 34,
   "metadata": {},
   "outputs": [],
   "source": [
    "# save numpy array as csv file\n",
    "from numpy import asarray\n",
    "from numpy import savetxt, loadtxt\n",
    "\n",
    "def save_to_csv(data, file_name):\n",
    "    # save to csv file\n",
    "    savetxt(file_name, data, delimiter=',')\n",
    "    \n",
    "def load_from_csv(file_name):\n",
    "    # load from csv file\n",
    "    return loadtxt(file_name, delimiter=',')"
   ]
  },
  {
   "cell_type": "code",
   "execution_count": 35,
   "metadata": {},
   "outputs": [],
   "source": [
    "save_to_csv(train_val_acc_hist, \"C:/Users/user/quantum_image_classifier/PennyLane/Model & Hasil Training/\" + str(label) + \"/acc_hist_8_features_3layer_ER.txt\")\n",
    "save_to_csv(train_val_loss_hist, \"C:/Users/user/quantum_image_classifier/PennyLane/Model & Hasil Training/\" + str(label) + \"/loss_hist_8_features_3layer_ER.txt\")"
   ]
  },
  {
   "cell_type": "code",
   "execution_count": 36,
   "metadata": {},
   "outputs": [
    {
     "name": "stdout",
     "output_type": "stream",
     "text": [
      "0.7175925925925926 0.7569586971926417\n"
     ]
    }
   ],
   "source": [
    "# Compute predictions on train and validation set\n",
    "predictions_test = [np.sign(variational_classifier(var, angles=f)) for f in feats_test]\n",
    "\n",
    "# Compute accuracy on train and validation set\n",
    "acc_test = accuracy(Y_test, predictions_test)\n",
    "\n",
    "test_loss = cost(var, feats_test, Y_test)\n",
    "\n",
    "print(acc_test, test_loss)"
   ]
  },
  {
   "cell_type": "code",
   "execution_count": 305,
   "metadata": {},
   "outputs": [],
   "source": [
    "def confusion_matrix(labels, predictions):\n",
    "    cost_matrix=np.array([[0, 0.9], [0.1, 0]])\n",
    "    \n",
    "    TP = 0\n",
    "    TN = 0\n",
    "    FP = 0\n",
    "    FN = 0\n",
    "    \n",
    "    # count the TP, TN, FP, and FN\n",
    "    for l, p in zip(labels, predictions):\n",
    "        if l == 1:\n",
    "            if p == 1:\n",
    "                TP += 1\n",
    "            else:\n",
    "                FN += 1\n",
    "        else:\n",
    "            if p == 1:\n",
    "                FP += 1\n",
    "            else:\n",
    "                TN += 1\n",
    "            \n",
    "    # create the confusion matrix\n",
    "    CM = np.array([[TN, FN], [FP, TP]])\n",
    "    \n",
    "    return CM"
   ]
  },
  {
   "cell_type": "code",
   "execution_count": 306,
   "metadata": {},
   "outputs": [
    {
     "data": {
      "text/plain": [
       "tensor([[89,  8],\n",
       "        [ 1,  2]], requires_grad=True)"
      ]
     },
     "execution_count": 306,
     "metadata": {},
     "output_type": "execute_result"
    }
   ],
   "source": [
    "confusion_matrix(Y_test, predictions_test)"
   ]
  },
  {
   "cell_type": "code",
   "execution_count": null,
   "metadata": {},
   "outputs": [],
   "source": []
  }
 ],
 "metadata": {
  "kernelspec": {
   "display_name": "Python 3",
   "language": "python",
   "name": "python3"
  },
  "language_info": {
   "codemirror_mode": {
    "name": "ipython",
    "version": 3
   },
   "file_extension": ".py",
   "mimetype": "text/x-python",
   "name": "python",
   "nbconvert_exporter": "python",
   "pygments_lexer": "ipython3",
   "version": "3.7.4"
  }
 },
 "nbformat": 4,
 "nbformat_minor": 2
}
