{
 "cells": [
  {
   "cell_type": "code",
   "execution_count": 23,
   "metadata": {
    "colab": {
     "base_uri": "https://localhost:8080/"
    },
    "executionInfo": {
     "elapsed": 18659,
     "status": "ok",
     "timestamp": 1610382574744,
     "user": {
      "displayName": "Eraraya Ricardo Muten",
      "photoUrl": "https://lh3.googleusercontent.com/a-/AOh14Ggpw7xw-lyk6u6l92QjpI7MlI7qjJuuciCpwrUd=s64",
      "userId": "03770692095188133952"
     },
     "user_tz": -420
    },
    "id": "e4abR9zSaWNk",
    "outputId": "0c32d57f-a411-4648-8144-7db8ae862454"
   },
   "outputs": [
    {
     "name": "stdout",
     "output_type": "stream",
     "text": [
      "/content/drive\n",
      "Mounted at /content/drive\n"
     ]
    }
   ],
   "source": [
    "# Mount Google Drive\n",
    "from google.colab import drive # import drive from google colab\n",
    " \n",
    "ROOT = \"/content/drive\"     # default location for the drive\n",
    "print(ROOT)                 # print content of ROOT (Optional)\n",
    " \n",
    "drive.mount(ROOT)           # we mount the google drive at /content/drive"
   ]
  },
  {
   "cell_type": "code",
   "execution_count": 33,
   "metadata": {
    "colab": {
     "base_uri": "https://localhost:8080/"
    },
    "executionInfo": {
     "elapsed": 1573,
     "status": "ok",
     "timestamp": 1610382829592,
     "user": {
      "displayName": "Eraraya Ricardo Muten",
      "photoUrl": "https://lh3.googleusercontent.com/a-/AOh14Ggpw7xw-lyk6u6l92QjpI7MlI7qjJuuciCpwrUd=s64",
      "userId": "03770692095188133952"
     },
     "user_tz": -420
    },
    "id": "rYQ5KUgrSClH",
    "outputId": "a4f91034-cf58-4cbc-bd3b-9a68557f9591"
   },
   "outputs": [
    {
     "name": "stdout",
     "output_type": "stream",
     "text": [
      "/content/drive/My Drive/Projects/quantum_image_classifier/PennyLane/Data Reuploading Classifier\n"
     ]
    }
   ],
   "source": [
    "%cd \"/content/drive/My Drive/Projects/quantum_image_classifier/PennyLane/Data Reuploading Classifier\""
   ]
  },
  {
   "cell_type": "code",
   "execution_count": 1,
   "metadata": {
    "executionInfo": {
     "elapsed": 5512,
     "status": "ok",
     "timestamp": 1610357980284,
     "user": {
      "displayName": "Eraraya Ricardo Muten",
      "photoUrl": "https://lh3.googleusercontent.com/a-/AOh14Ggpw7xw-lyk6u6l92QjpI7MlI7qjJuuciCpwrUd=s64",
      "userId": "03770692095188133952"
     },
     "user_tz": -420
    },
    "id": "gk5AKGKcYGOo"
   },
   "outputs": [],
   "source": [
    "!pip install pennylane\n",
    "from IPython.display import clear_output\n",
    "clear_output()"
   ]
  },
  {
   "cell_type": "code",
   "execution_count": null,
   "metadata": {
    "id": "GigSJusGbx1b"
   },
   "outputs": [],
   "source": [
    "import os\n",
    "\n",
    "def restart_runtime():\n",
    "  os.kill(os.getpid(), 9)\n",
    "restart_runtime()"
   ]
  },
  {
   "cell_type": "code",
   "execution_count": 1,
   "metadata": {
    "executionInfo": {
     "elapsed": 855,
     "status": "ok",
     "timestamp": 1610357982999,
     "user": {
      "displayName": "Eraraya Ricardo Muten",
      "photoUrl": "https://lh3.googleusercontent.com/a-/AOh14Ggpw7xw-lyk6u6l92QjpI7MlI7qjJuuciCpwrUd=s64",
      "userId": "03770692095188133952"
     },
     "user_tz": -420
    },
    "id": "HoLmJLkIX810"
   },
   "outputs": [],
   "source": [
    "# %matplotlib inline\n",
    "import matplotlib.pyplot as plt\n",
    "from mpl_toolkits.axes_grid1 import make_axes_locatable\n",
    "\n",
    "import numpy as np"
   ]
  },
  {
   "cell_type": "markdown",
   "metadata": {
    "id": "vZFNOwFXoY8N"
   },
   "source": [
    "# Loading Raw Data"
   ]
  },
  {
   "cell_type": "code",
   "execution_count": 2,
   "metadata": {
    "colab": {
     "base_uri": "https://localhost:8080/"
    },
    "executionInfo": {
     "elapsed": 3065,
     "status": "ok",
     "timestamp": 1610357986720,
     "user": {
      "displayName": "Eraraya Ricardo Muten",
      "photoUrl": "https://lh3.googleusercontent.com/a-/AOh14Ggpw7xw-lyk6u6l92QjpI7MlI7qjJuuciCpwrUd=s64",
      "userId": "03770692095188133952"
     },
     "user_tz": -420
    },
    "id": "IvdFsGCVof9g",
    "outputId": "57b0c866-93c0-45e7-a833-90119b85cf6c"
   },
   "outputs": [],
   "source": [
    "import tensorflow as tf\n",
    "\n",
    "(x_train, y_train), (x_test, y_test) = tf.keras.datasets.mnist.load_data()\n",
    "\n",
    "x_train = x_train[:, 0:27, 0:27]\n",
    "x_test = x_test[:, 0:27, 0:27]"
   ]
  },
  {
   "cell_type": "code",
   "execution_count": 3,
   "metadata": {
    "executionInfo": {
     "elapsed": 1254,
     "status": "ok",
     "timestamp": 1610357989363,
     "user": {
      "displayName": "Eraraya Ricardo Muten",
      "photoUrl": "https://lh3.googleusercontent.com/a-/AOh14Ggpw7xw-lyk6u6l92QjpI7MlI7qjJuuciCpwrUd=s64",
      "userId": "03770692095188133952"
     },
     "user_tz": -420
    },
    "id": "c6zvGFvIoxAN"
   },
   "outputs": [],
   "source": [
    "x_train_flatten = x_train.reshape(x_train.shape[0], x_train.shape[1]*x_train.shape[2])/255.0\n",
    "x_test_flatten = x_test.reshape(x_test.shape[0], x_test.shape[1]*x_test.shape[2])/255.0"
   ]
  },
  {
   "cell_type": "code",
   "execution_count": 4,
   "metadata": {
    "colab": {
     "base_uri": "https://localhost:8080/"
    },
    "executionInfo": {
     "elapsed": 996,
     "status": "ok",
     "timestamp": 1610357989364,
     "user": {
      "displayName": "Eraraya Ricardo Muten",
      "photoUrl": "https://lh3.googleusercontent.com/a-/AOh14Ggpw7xw-lyk6u6l92QjpI7MlI7qjJuuciCpwrUd=s64",
      "userId": "03770692095188133952"
     },
     "user_tz": -420
    },
    "id": "Rmj1dzaso00h",
    "outputId": "e6c46dd3-4962-4412-8c06-7ccc3a10679a"
   },
   "outputs": [
    {
     "name": "stdout",
     "output_type": "stream",
     "text": [
      "(60000, 729) (60000,)\n",
      "(10000, 729) (10000,)\n"
     ]
    }
   ],
   "source": [
    "print(x_train_flatten.shape, y_train.shape)\n",
    "print(x_test_flatten.shape, y_test.shape)"
   ]
  },
  {
   "cell_type": "code",
   "execution_count": 5,
   "metadata": {
    "colab": {
     "base_uri": "https://localhost:8080/"
    },
    "executionInfo": {
     "elapsed": 932,
     "status": "ok",
     "timestamp": 1610357989714,
     "user": {
      "displayName": "Eraraya Ricardo Muten",
      "photoUrl": "https://lh3.googleusercontent.com/a-/AOh14Ggpw7xw-lyk6u6l92QjpI7MlI7qjJuuciCpwrUd=s64",
      "userId": "03770692095188133952"
     },
     "user_tz": -420
    },
    "id": "d10VoIC6o5_I",
    "outputId": "0732b267-d0a4-47cd-c1b4-28acd63e5bf8"
   },
   "outputs": [
    {
     "name": "stdout",
     "output_type": "stream",
     "text": [
      "(5923, 729)\n",
      "(6742, 729)\n",
      "(5958, 729)\n",
      "(6131, 729)\n",
      "(5842, 729)\n",
      "(5421, 729)\n",
      "(5918, 729)\n",
      "(6265, 729)\n",
      "(5851, 729)\n",
      "(5949, 729)\n"
     ]
    }
   ],
   "source": [
    "x_train_0 = x_train_flatten[y_train == 0]\n",
    "x_train_1 = x_train_flatten[y_train == 1]\n",
    "x_train_2 = x_train_flatten[y_train == 2]\n",
    "x_train_3 = x_train_flatten[y_train == 3]\n",
    "x_train_4 = x_train_flatten[y_train == 4]\n",
    "x_train_5 = x_train_flatten[y_train == 5]\n",
    "x_train_6 = x_train_flatten[y_train == 6]\n",
    "x_train_7 = x_train_flatten[y_train == 7]\n",
    "x_train_8 = x_train_flatten[y_train == 8]\n",
    "x_train_9 = x_train_flatten[y_train == 9]\n",
    "\n",
    "x_train_list = [x_train_0, x_train_1, x_train_2, x_train_3, x_train_4, x_train_5, x_train_6, x_train_7, x_train_8, x_train_9]\n",
    "\n",
    "print(x_train_0.shape)\n",
    "print(x_train_1.shape)\n",
    "print(x_train_2.shape)\n",
    "print(x_train_3.shape)\n",
    "print(x_train_4.shape)\n",
    "print(x_train_5.shape)\n",
    "print(x_train_6.shape)\n",
    "print(x_train_7.shape)\n",
    "print(x_train_8.shape)\n",
    "print(x_train_9.shape)"
   ]
  },
  {
   "cell_type": "code",
   "execution_count": 6,
   "metadata": {
    "colab": {
     "base_uri": "https://localhost:8080/"
    },
    "executionInfo": {
     "elapsed": 932,
     "status": "ok",
     "timestamp": 1610357990859,
     "user": {
      "displayName": "Eraraya Ricardo Muten",
      "photoUrl": "https://lh3.googleusercontent.com/a-/AOh14Ggpw7xw-lyk6u6l92QjpI7MlI7qjJuuciCpwrUd=s64",
      "userId": "03770692095188133952"
     },
     "user_tz": -420
    },
    "id": "snFw4LqepFOl",
    "outputId": "6fa81d41-9174-4053-b2db-c4933edfcab8"
   },
   "outputs": [
    {
     "name": "stdout",
     "output_type": "stream",
     "text": [
      "(980, 729)\n",
      "(1135, 729)\n",
      "(1032, 729)\n",
      "(1010, 729)\n",
      "(982, 729)\n",
      "(892, 729)\n",
      "(958, 729)\n",
      "(1028, 729)\n",
      "(974, 729)\n",
      "(1009, 729)\n"
     ]
    }
   ],
   "source": [
    "x_test_0 = x_test_flatten[y_test == 0]\n",
    "x_test_1 = x_test_flatten[y_test == 1]\n",
    "x_test_2 = x_test_flatten[y_test == 2]\n",
    "x_test_3 = x_test_flatten[y_test == 3]\n",
    "x_test_4 = x_test_flatten[y_test == 4]\n",
    "x_test_5 = x_test_flatten[y_test == 5]\n",
    "x_test_6 = x_test_flatten[y_test == 6]\n",
    "x_test_7 = x_test_flatten[y_test == 7]\n",
    "x_test_8 = x_test_flatten[y_test == 8]\n",
    "x_test_9 = x_test_flatten[y_test == 9]\n",
    "\n",
    "x_test_list = [x_test_0, x_test_1, x_test_2, x_test_3, x_test_4, x_test_5, x_test_6, x_test_7, x_test_8, x_test_9]\n",
    "\n",
    "print(x_test_0.shape)\n",
    "print(x_test_1.shape)\n",
    "print(x_test_2.shape)\n",
    "print(x_test_3.shape)\n",
    "print(x_test_4.shape)\n",
    "print(x_test_5.shape)\n",
    "print(x_test_6.shape)\n",
    "print(x_test_7.shape)\n",
    "print(x_test_8.shape)\n",
    "print(x_test_9.shape)"
   ]
  },
  {
   "cell_type": "markdown",
   "metadata": {
    "id": "SAxUS6Lhp95g"
   },
   "source": [
    "# Selecting the dataset\n",
    "\n",
    "Output: X_train, Y_train, X_test, Y_test"
   ]
  },
  {
   "cell_type": "code",
   "execution_count": 8,
   "metadata": {
    "colab": {
     "base_uri": "https://localhost:8080/"
    },
    "executionInfo": {
     "elapsed": 832,
     "status": "ok",
     "timestamp": 1610357995835,
     "user": {
      "displayName": "Eraraya Ricardo Muten",
      "photoUrl": "https://lh3.googleusercontent.com/a-/AOh14Ggpw7xw-lyk6u6l92QjpI7MlI7qjJuuciCpwrUd=s64",
      "userId": "03770692095188133952"
     },
     "user_tz": -420
    },
    "id": "f--pX5Oto_XB",
    "outputId": "3a0814dc-fa71-4a5b-cc07-701a022af134"
   },
   "outputs": [
    {
     "name": "stdout",
     "output_type": "stream",
     "text": [
      "(800, 729) (800,)\n",
      "(200, 729) (200,)\n"
     ]
    }
   ],
   "source": [
    "num_sample = 200\n",
    "n_class = 4\n",
    "mult_test = 0.25\n",
    "\n",
    "X_train = x_train_list[0][:num_sample, :]\n",
    "X_test = x_test_list[0][:int(mult_test*num_sample), :]\n",
    "\n",
    "Y_train = np.zeros((n_class*X_train.shape[0],), dtype=int)\n",
    "Y_test = np.zeros((n_class*X_test.shape[0],), dtype=int)\n",
    "\n",
    "for i in range(n_class-1):\n",
    "  X_train = np.concatenate((X_train, x_train_list[i+1][:num_sample, :]), axis=0)\n",
    "  Y_train[num_sample*(i+1):num_sample*(i+2)] = int(i+1)\n",
    "\n",
    "  X_test = np.concatenate((X_test, x_test_list[i+1][:int(mult_test*num_sample), :]), axis=0)\n",
    "  Y_test[int(mult_test*num_sample*(i+1)):int(mult_test*num_sample*(i+2))] = int(i+1)\n",
    "\n",
    "print(X_train.shape, Y_train.shape)\n",
    "print(X_test.shape, Y_test.shape)"
   ]
  },
  {
   "cell_type": "markdown",
   "metadata": {
    "id": "LrebzTO1z-or"
   },
   "source": [
    "# Dataset Preprocessing"
   ]
  },
  {
   "cell_type": "code",
   "execution_count": 9,
   "metadata": {
    "colab": {
     "base_uri": "https://localhost:8080/"
    },
    "executionInfo": {
     "elapsed": 788,
     "status": "ok",
     "timestamp": 1610358000137,
     "user": {
      "displayName": "Eraraya Ricardo Muten",
      "photoUrl": "https://lh3.googleusercontent.com/a-/AOh14Ggpw7xw-lyk6u6l92QjpI7MlI7qjJuuciCpwrUd=s64",
      "userId": "03770692095188133952"
     },
     "user_tz": -420
    },
    "id": "tpIJBmVAz-os",
    "outputId": "066f3c86-cdcf-48f7-cfe7-b4e203f6a139"
   },
   "outputs": [
    {
     "data": {
      "text/plain": [
       "((800, 27, 27), (200, 27, 27))"
      ]
     },
     "execution_count": 9,
     "metadata": {},
     "output_type": "execute_result"
    }
   ],
   "source": [
    "X_train = X_train.reshape(X_train.shape[0], 27, 27)\n",
    "X_test = X_test.reshape(X_test.shape[0], 27, 27)\n",
    "\n",
    "X_train.shape, X_test.shape"
   ]
  },
  {
   "cell_type": "markdown",
   "metadata": {
    "id": "ockEle2Ez-os"
   },
   "source": [
    "# Quantum"
   ]
  },
  {
   "cell_type": "code",
   "execution_count": 10,
   "metadata": {
    "executionInfo": {
     "elapsed": 4679,
     "status": "ok",
     "timestamp": 1610358007092,
     "user": {
      "displayName": "Eraraya Ricardo Muten",
      "photoUrl": "https://lh3.googleusercontent.com/a-/AOh14Ggpw7xw-lyk6u6l92QjpI7MlI7qjJuuciCpwrUd=s64",
      "userId": "03770692095188133952"
     },
     "user_tz": -420
    },
    "id": "jP9aoKRGz-os"
   },
   "outputs": [],
   "source": [
    "import pennylane as qml\n",
    "from pennylane import numpy as np\n",
    "from pennylane.optimize import AdamOptimizer, GradientDescentOptimizer\n",
    "\n",
    "qml.enable_tape()\n",
    "\n",
    "from tensorflow.keras.utils import to_categorical\n",
    "\n",
    "# Set a random seed\n",
    "np.random.seed(2020)"
   ]
  },
  {
   "cell_type": "code",
   "execution_count": 11,
   "metadata": {
    "executionInfo": {
     "elapsed": 826,
     "status": "ok",
     "timestamp": 1610358054620,
     "user": {
      "displayName": "Eraraya Ricardo Muten",
      "photoUrl": "https://lh3.googleusercontent.com/a-/AOh14Ggpw7xw-lyk6u6l92QjpI7MlI7qjJuuciCpwrUd=s64",
      "userId": "03770692095188133952"
     },
     "user_tz": -420
    },
    "id": "BFo9kVhAz-ot"
   },
   "outputs": [],
   "source": [
    "# Define output labels as quantum state vectors\n",
    "\n",
    "# def density_matrix(state):\n",
    "#     \"\"\"Calculates the density matrix representation of a state.\n",
    "\n",
    "#     Args:\n",
    "#         state (array[complex]): array representing a quantum state vector\n",
    "\n",
    "#     Returns:\n",
    "#         dm: (array[complex]): array representing the density matrix\n",
    "#     \"\"\"\n",
    "#     return state * np.conj(state).T\n",
    "\n",
    "\n",
    "label_0 = [[1], [0]]\n",
    "label_1 = [[0], [1]]\n",
    "\n",
    "\n",
    "def density_matrix(state):\n",
    "    \"\"\"Calculates the density matrix representation of a state.\n",
    "\n",
    "    Args:\n",
    "        state (array[complex]): array representing a quantum state vector\n",
    "\n",
    "    Returns:\n",
    "        dm: (array[complex]): array representing the density matrix\n",
    "    \"\"\"\n",
    "    return np.outer(state,  np.conj(state))\n",
    "\n",
    "#state_labels = [label_0, label_1]\n",
    "state_labels = np.loadtxt('./tetra_states.txt', dtype=np.complex_)"
   ]
  },
  {
   "cell_type": "code",
   "execution_count": 12,
   "metadata": {},
   "outputs": [
    {
     "data": {
      "text/plain": [
       "4"
      ]
     },
     "execution_count": 12,
     "metadata": {},
     "output_type": "execute_result"
    }
   ],
   "source": [
    "dm_labels = [density_matrix(state_labels[i]) for i in range(4)]\n",
    "len(dm_labels)"
   ]
  },
  {
   "cell_type": "code",
   "execution_count": 13,
   "metadata": {},
   "outputs": [
    {
     "data": {
      "text/plain": [
       "[tensor([[1.+0.j, 0.+0.j],\n",
       "         [0.+0.j, 0.+0.j]], requires_grad=True),\n",
       " tensor([[0.33333333+0.j, 0.47140452+0.j],\n",
       "         [0.47140452+0.j, 0.66666667+0.j]], requires_grad=True),\n",
       " tensor([[ 0.33333333+0.j        , -0.23570226-0.40824829j],\n",
       "         [-0.23570226+0.40824829j,  0.66666667+0.j        ]], requires_grad=True),\n",
       " tensor([[ 0.33333333+0.j        , -0.23570226+0.40824829j],\n",
       "         [-0.23570226-0.40824829j,  0.66666667+0.j        ]], requires_grad=True)]"
      ]
     },
     "execution_count": 13,
     "metadata": {},
     "output_type": "execute_result"
    }
   ],
   "source": [
    "dm_labels"
   ]
  },
  {
   "cell_type": "code",
   "execution_count": 14,
   "metadata": {
    "executionInfo": {
     "elapsed": 975,
     "status": "ok",
     "timestamp": 1610358057231,
     "user": {
      "displayName": "Eraraya Ricardo Muten",
      "photoUrl": "https://lh3.googleusercontent.com/a-/AOh14Ggpw7xw-lyk6u6l92QjpI7MlI7qjJuuciCpwrUd=s64",
      "userId": "03770692095188133952"
     },
     "user_tz": -420
    },
    "id": "fYmu1Jchz-ot"
   },
   "outputs": [],
   "source": [
    "n_qubits = 4  # number of class\n",
    "dev_fc = qml.device(\"default.qubit\", wires=n_qubits)\n",
    "\n",
    "\n",
    "@qml.qnode(dev_fc)\n",
    "def q_fc(params, inputs):\n",
    "    \"\"\"A variational quantum circuit representing the DRC.\n",
    "\n",
    "    Args:\n",
    "        params (array[float]): array of parameters\n",
    "        inputs = [x, y]\n",
    "        x (array[float]): 1-d input vector\n",
    "        y (array[float]): single output state density matrix\n",
    "\n",
    "    Returns:\n",
    "        float: fidelity between output state and input\n",
    "    \"\"\"\n",
    "    \n",
    "    # layer iteration\n",
    "    for l in range(len(params[0])):\n",
    "        # qubit iteration\n",
    "        for q in range(n_qubits):\n",
    "            # gate iteration\n",
    "            for g in range(int(len(inputs)/3)):\n",
    "                qml.Rot(*(params[0][l][3*g:3*(g+1)] * inputs[3*g:3*(g+1)] + params[1][l][3*g:3*(g+1)]), wires=q)\n",
    "    \n",
    "    return [qml.expval(qml.Hermitian(dm_labels[i], wires=[i])) for i in range(n_qubits)]\n"
   ]
  },
  {
   "cell_type": "code",
   "execution_count": 15,
   "metadata": {
    "executionInfo": {
     "elapsed": 859,
     "status": "ok",
     "timestamp": 1610358059994,
     "user": {
      "displayName": "Eraraya Ricardo Muten",
      "photoUrl": "https://lh3.googleusercontent.com/a-/AOh14Ggpw7xw-lyk6u6l92QjpI7MlI7qjJuuciCpwrUd=s64",
      "userId": "03770692095188133952"
     },
     "user_tz": -420
    },
    "id": "UNYRb5MCz-ot"
   },
   "outputs": [],
   "source": [
    "dev_conv = qml.device(\"default.qubit\", wires=9)\n",
    "\n",
    "\n",
    "@qml.qnode(dev_conv)\n",
    "def q_conv(conv_params, inputs):\n",
    "    \"\"\"A variational quantum circuit representing the Universal classifier + Conv.\n",
    "\n",
    "    Args:\n",
    "        params (array[float]): array of parameters\n",
    "        x (array[float]): 2-d input vector\n",
    "        y (array[float]): single output state density matrix\n",
    "\n",
    "    Returns:\n",
    "        float: fidelity between output state and input\n",
    "    \"\"\"\n",
    "    # layer iteration\n",
    "    for l in range(len(conv_params[0])):\n",
    "        # RY layer\n",
    "        # height iteration\n",
    "        for i in range(3):\n",
    "            # width iteration\n",
    "            for j in range(3):\n",
    "                qml.RY((conv_params[0][l][3*i+j] * inputs[i, j] + conv_params[1][l][3*i+j]), wires=(3*i+j))\n",
    "\n",
    "        # entangling layer\n",
    "        for i in range(9):\n",
    "            if i != (9-1):\n",
    "                qml.CNOT(wires=[i, i+1])\n",
    "                \n",
    "    return qml.expval(qml.PauliZ(0) @ qml.PauliZ(1) @ qml.PauliZ(2) @ qml.PauliZ(3) @ qml.PauliZ(4) @ qml.PauliZ(5) @ qml.PauliZ(6) @ qml.PauliZ(7) @ qml.PauliZ(8))"
   ]
  },
  {
   "cell_type": "code",
   "execution_count": 16,
   "metadata": {},
   "outputs": [
    {
     "data": {
      "text/plain": [
       "tensor(1., requires_grad=True)"
      ]
     },
     "execution_count": 16,
     "metadata": {},
     "output_type": "execute_result"
    }
   ],
   "source": [
    "a = np.zeros((2, 1, 9))\n",
    "q_conv(a, X_train[0, 0:3, 0:3])"
   ]
  },
  {
   "cell_type": "code",
   "execution_count": 17,
   "metadata": {},
   "outputs": [
    {
     "data": {
      "text/plain": [
       "tensor([1.        , 0.33333333, 0.33333333, 0.33333333], requires_grad=True)"
      ]
     },
     "execution_count": 17,
     "metadata": {},
     "output_type": "execute_result"
    }
   ],
   "source": [
    "a = np.zeros((2, 1, 9))\n",
    "q_fc(a, X_train[0, 0, 0:9])"
   ]
  },
  {
   "cell_type": "code",
   "execution_count": 18,
   "metadata": {},
   "outputs": [
    {
     "name": "stderr",
     "output_type": "stream",
     "text": [
      "/home/ta-edo/.local/lib/python3.8/site-packages/autograd/numpy/numpy_wrapper.py:73: ComplexWarning: Casting complex values to real discards the imaginary part\n",
      "  return _np.array(scalar, *array_args, **array_kwargs)\n"
     ]
    }
   ],
   "source": [
    "tetra_class = np.loadtxt('./tetra_class_label.txt')\n",
    "binary_class = np.array([[1, 0], [0, 1]])\n",
    "\n",
    "square_class = np.array(np.loadtxt('./square_class_label.txt', dtype=np.complex_), dtype=float)"
   ]
  },
  {
   "cell_type": "code",
   "execution_count": 19,
   "metadata": {},
   "outputs": [],
   "source": [
    "class_labels = tetra_class"
   ]
  },
  {
   "cell_type": "code",
   "execution_count": 20,
   "metadata": {},
   "outputs": [
    {
     "data": {
      "text/plain": [
       "tensor([[1.        , 0.33333333, 0.33333333, 0.33333333],\n",
       "        [0.33333333, 1.        , 0.33333333, 0.33333333],\n",
       "        [0.33333333, 0.33333333, 1.        , 0.33333333],\n",
       "        [0.33333333, 0.33333333, 0.33333333, 1.        ]], requires_grad=True)"
      ]
     },
     "execution_count": 20,
     "metadata": {},
     "output_type": "execute_result"
    }
   ],
   "source": [
    "class_labels"
   ]
  },
  {
   "cell_type": "code",
   "execution_count": 21,
   "metadata": {},
   "outputs": [],
   "source": [
    "n_class = 4\n",
    "\n",
    "temp = np.zeros((len(Y_train), n_class))\n",
    "for i in range(len(Y_train)):\n",
    "    temp[i, :] = class_labels[Y_train[i]]\n",
    "Y_train = temp\n",
    "\n",
    "\n",
    "temp = np.zeros((len(Y_test), n_class))\n",
    "for i in range(len(Y_test)):\n",
    "    temp[i, :] = class_labels[Y_test[i]]\n",
    "Y_test = temp"
   ]
  },
  {
   "cell_type": "code",
   "execution_count": 23,
   "metadata": {},
   "outputs": [
    {
     "data": {
      "text/plain": [
       "tensor([[1.        , 0.33333333, 0.33333333, 0.33333333],\n",
       "        [1.        , 0.33333333, 0.33333333, 0.33333333],\n",
       "        [1.        , 0.33333333, 0.33333333, 0.33333333],\n",
       "        [1.        , 0.33333333, 0.33333333, 0.33333333],\n",
       "        [1.        , 0.33333333, 0.33333333, 0.33333333],\n",
       "        [1.        , 0.33333333, 0.33333333, 0.33333333],\n",
       "        [1.        , 0.33333333, 0.33333333, 0.33333333],\n",
       "        [1.        , 0.33333333, 0.33333333, 0.33333333],\n",
       "        [1.        , 0.33333333, 0.33333333, 0.33333333],\n",
       "        [1.        , 0.33333333, 0.33333333, 0.33333333],\n",
       "        [1.        , 0.33333333, 0.33333333, 0.33333333],\n",
       "        [1.        , 0.33333333, 0.33333333, 0.33333333],\n",
       "        [1.        , 0.33333333, 0.33333333, 0.33333333],\n",
       "        [1.        , 0.33333333, 0.33333333, 0.33333333],\n",
       "        [1.        , 0.33333333, 0.33333333, 0.33333333],\n",
       "        [1.        , 0.33333333, 0.33333333, 0.33333333],\n",
       "        [1.        , 0.33333333, 0.33333333, 0.33333333],\n",
       "        [1.        , 0.33333333, 0.33333333, 0.33333333],\n",
       "        [1.        , 0.33333333, 0.33333333, 0.33333333],\n",
       "        [1.        , 0.33333333, 0.33333333, 0.33333333],\n",
       "        [1.        , 0.33333333, 0.33333333, 0.33333333],\n",
       "        [1.        , 0.33333333, 0.33333333, 0.33333333],\n",
       "        [1.        , 0.33333333, 0.33333333, 0.33333333],\n",
       "        [1.        , 0.33333333, 0.33333333, 0.33333333],\n",
       "        [1.        , 0.33333333, 0.33333333, 0.33333333],\n",
       "        [1.        , 0.33333333, 0.33333333, 0.33333333],\n",
       "        [1.        , 0.33333333, 0.33333333, 0.33333333],\n",
       "        [1.        , 0.33333333, 0.33333333, 0.33333333],\n",
       "        [1.        , 0.33333333, 0.33333333, 0.33333333],\n",
       "        [1.        , 0.33333333, 0.33333333, 0.33333333],\n",
       "        [1.        , 0.33333333, 0.33333333, 0.33333333],\n",
       "        [1.        , 0.33333333, 0.33333333, 0.33333333],\n",
       "        [1.        , 0.33333333, 0.33333333, 0.33333333],\n",
       "        [1.        , 0.33333333, 0.33333333, 0.33333333],\n",
       "        [1.        , 0.33333333, 0.33333333, 0.33333333],\n",
       "        [1.        , 0.33333333, 0.33333333, 0.33333333],\n",
       "        [1.        , 0.33333333, 0.33333333, 0.33333333],\n",
       "        [1.        , 0.33333333, 0.33333333, 0.33333333],\n",
       "        [1.        , 0.33333333, 0.33333333, 0.33333333],\n",
       "        [1.        , 0.33333333, 0.33333333, 0.33333333],\n",
       "        [1.        , 0.33333333, 0.33333333, 0.33333333],\n",
       "        [1.        , 0.33333333, 0.33333333, 0.33333333],\n",
       "        [1.        , 0.33333333, 0.33333333, 0.33333333],\n",
       "        [1.        , 0.33333333, 0.33333333, 0.33333333],\n",
       "        [1.        , 0.33333333, 0.33333333, 0.33333333],\n",
       "        [1.        , 0.33333333, 0.33333333, 0.33333333],\n",
       "        [1.        , 0.33333333, 0.33333333, 0.33333333],\n",
       "        [1.        , 0.33333333, 0.33333333, 0.33333333],\n",
       "        [1.        , 0.33333333, 0.33333333, 0.33333333],\n",
       "        [1.        , 0.33333333, 0.33333333, 0.33333333],\n",
       "        [0.33333333, 1.        , 0.33333333, 0.33333333],\n",
       "        [0.33333333, 1.        , 0.33333333, 0.33333333],\n",
       "        [0.33333333, 1.        , 0.33333333, 0.33333333],\n",
       "        [0.33333333, 1.        , 0.33333333, 0.33333333],\n",
       "        [0.33333333, 1.        , 0.33333333, 0.33333333],\n",
       "        [0.33333333, 1.        , 0.33333333, 0.33333333],\n",
       "        [0.33333333, 1.        , 0.33333333, 0.33333333],\n",
       "        [0.33333333, 1.        , 0.33333333, 0.33333333],\n",
       "        [0.33333333, 1.        , 0.33333333, 0.33333333],\n",
       "        [0.33333333, 1.        , 0.33333333, 0.33333333],\n",
       "        [0.33333333, 1.        , 0.33333333, 0.33333333],\n",
       "        [0.33333333, 1.        , 0.33333333, 0.33333333],\n",
       "        [0.33333333, 1.        , 0.33333333, 0.33333333],\n",
       "        [0.33333333, 1.        , 0.33333333, 0.33333333],\n",
       "        [0.33333333, 1.        , 0.33333333, 0.33333333],\n",
       "        [0.33333333, 1.        , 0.33333333, 0.33333333],\n",
       "        [0.33333333, 1.        , 0.33333333, 0.33333333],\n",
       "        [0.33333333, 1.        , 0.33333333, 0.33333333],\n",
       "        [0.33333333, 1.        , 0.33333333, 0.33333333],\n",
       "        [0.33333333, 1.        , 0.33333333, 0.33333333],\n",
       "        [0.33333333, 1.        , 0.33333333, 0.33333333],\n",
       "        [0.33333333, 1.        , 0.33333333, 0.33333333],\n",
       "        [0.33333333, 1.        , 0.33333333, 0.33333333],\n",
       "        [0.33333333, 1.        , 0.33333333, 0.33333333],\n",
       "        [0.33333333, 1.        , 0.33333333, 0.33333333],\n",
       "        [0.33333333, 1.        , 0.33333333, 0.33333333],\n",
       "        [0.33333333, 1.        , 0.33333333, 0.33333333],\n",
       "        [0.33333333, 1.        , 0.33333333, 0.33333333],\n",
       "        [0.33333333, 1.        , 0.33333333, 0.33333333],\n",
       "        [0.33333333, 1.        , 0.33333333, 0.33333333],\n",
       "        [0.33333333, 1.        , 0.33333333, 0.33333333],\n",
       "        [0.33333333, 1.        , 0.33333333, 0.33333333],\n",
       "        [0.33333333, 1.        , 0.33333333, 0.33333333],\n",
       "        [0.33333333, 1.        , 0.33333333, 0.33333333],\n",
       "        [0.33333333, 1.        , 0.33333333, 0.33333333],\n",
       "        [0.33333333, 1.        , 0.33333333, 0.33333333],\n",
       "        [0.33333333, 1.        , 0.33333333, 0.33333333],\n",
       "        [0.33333333, 1.        , 0.33333333, 0.33333333],\n",
       "        [0.33333333, 1.        , 0.33333333, 0.33333333],\n",
       "        [0.33333333, 1.        , 0.33333333, 0.33333333],\n",
       "        [0.33333333, 1.        , 0.33333333, 0.33333333],\n",
       "        [0.33333333, 1.        , 0.33333333, 0.33333333],\n",
       "        [0.33333333, 1.        , 0.33333333, 0.33333333],\n",
       "        [0.33333333, 1.        , 0.33333333, 0.33333333],\n",
       "        [0.33333333, 1.        , 0.33333333, 0.33333333],\n",
       "        [0.33333333, 1.        , 0.33333333, 0.33333333],\n",
       "        [0.33333333, 1.        , 0.33333333, 0.33333333],\n",
       "        [0.33333333, 1.        , 0.33333333, 0.33333333],\n",
       "        [0.33333333, 1.        , 0.33333333, 0.33333333],\n",
       "        [0.33333333, 1.        , 0.33333333, 0.33333333],\n",
       "        [0.33333333, 0.33333333, 1.        , 0.33333333],\n",
       "        [0.33333333, 0.33333333, 1.        , 0.33333333],\n",
       "        [0.33333333, 0.33333333, 1.        , 0.33333333],\n",
       "        [0.33333333, 0.33333333, 1.        , 0.33333333],\n",
       "        [0.33333333, 0.33333333, 1.        , 0.33333333],\n",
       "        [0.33333333, 0.33333333, 1.        , 0.33333333],\n",
       "        [0.33333333, 0.33333333, 1.        , 0.33333333],\n",
       "        [0.33333333, 0.33333333, 1.        , 0.33333333],\n",
       "        [0.33333333, 0.33333333, 1.        , 0.33333333],\n",
       "        [0.33333333, 0.33333333, 1.        , 0.33333333],\n",
       "        [0.33333333, 0.33333333, 1.        , 0.33333333],\n",
       "        [0.33333333, 0.33333333, 1.        , 0.33333333],\n",
       "        [0.33333333, 0.33333333, 1.        , 0.33333333],\n",
       "        [0.33333333, 0.33333333, 1.        , 0.33333333],\n",
       "        [0.33333333, 0.33333333, 1.        , 0.33333333],\n",
       "        [0.33333333, 0.33333333, 1.        , 0.33333333],\n",
       "        [0.33333333, 0.33333333, 1.        , 0.33333333],\n",
       "        [0.33333333, 0.33333333, 1.        , 0.33333333],\n",
       "        [0.33333333, 0.33333333, 1.        , 0.33333333],\n",
       "        [0.33333333, 0.33333333, 1.        , 0.33333333],\n",
       "        [0.33333333, 0.33333333, 1.        , 0.33333333],\n",
       "        [0.33333333, 0.33333333, 1.        , 0.33333333],\n",
       "        [0.33333333, 0.33333333, 1.        , 0.33333333],\n",
       "        [0.33333333, 0.33333333, 1.        , 0.33333333],\n",
       "        [0.33333333, 0.33333333, 1.        , 0.33333333],\n",
       "        [0.33333333, 0.33333333, 1.        , 0.33333333],\n",
       "        [0.33333333, 0.33333333, 1.        , 0.33333333],\n",
       "        [0.33333333, 0.33333333, 1.        , 0.33333333],\n",
       "        [0.33333333, 0.33333333, 1.        , 0.33333333],\n",
       "        [0.33333333, 0.33333333, 1.        , 0.33333333],\n",
       "        [0.33333333, 0.33333333, 1.        , 0.33333333],\n",
       "        [0.33333333, 0.33333333, 1.        , 0.33333333],\n",
       "        [0.33333333, 0.33333333, 1.        , 0.33333333],\n",
       "        [0.33333333, 0.33333333, 1.        , 0.33333333],\n",
       "        [0.33333333, 0.33333333, 1.        , 0.33333333],\n",
       "        [0.33333333, 0.33333333, 1.        , 0.33333333],\n",
       "        [0.33333333, 0.33333333, 1.        , 0.33333333],\n",
       "        [0.33333333, 0.33333333, 1.        , 0.33333333],\n",
       "        [0.33333333, 0.33333333, 1.        , 0.33333333],\n",
       "        [0.33333333, 0.33333333, 1.        , 0.33333333],\n",
       "        [0.33333333, 0.33333333, 1.        , 0.33333333],\n",
       "        [0.33333333, 0.33333333, 1.        , 0.33333333],\n",
       "        [0.33333333, 0.33333333, 1.        , 0.33333333],\n",
       "        [0.33333333, 0.33333333, 1.        , 0.33333333],\n",
       "        [0.33333333, 0.33333333, 1.        , 0.33333333],\n",
       "        [0.33333333, 0.33333333, 1.        , 0.33333333],\n",
       "        [0.33333333, 0.33333333, 1.        , 0.33333333],\n",
       "        [0.33333333, 0.33333333, 1.        , 0.33333333],\n",
       "        [0.33333333, 0.33333333, 1.        , 0.33333333],\n",
       "        [0.33333333, 0.33333333, 1.        , 0.33333333],\n",
       "        [0.33333333, 0.33333333, 0.33333333, 1.        ],\n",
       "        [0.33333333, 0.33333333, 0.33333333, 1.        ],\n",
       "        [0.33333333, 0.33333333, 0.33333333, 1.        ],\n",
       "        [0.33333333, 0.33333333, 0.33333333, 1.        ],\n",
       "        [0.33333333, 0.33333333, 0.33333333, 1.        ],\n",
       "        [0.33333333, 0.33333333, 0.33333333, 1.        ],\n",
       "        [0.33333333, 0.33333333, 0.33333333, 1.        ],\n",
       "        [0.33333333, 0.33333333, 0.33333333, 1.        ],\n",
       "        [0.33333333, 0.33333333, 0.33333333, 1.        ],\n",
       "        [0.33333333, 0.33333333, 0.33333333, 1.        ],\n",
       "        [0.33333333, 0.33333333, 0.33333333, 1.        ],\n",
       "        [0.33333333, 0.33333333, 0.33333333, 1.        ],\n",
       "        [0.33333333, 0.33333333, 0.33333333, 1.        ],\n",
       "        [0.33333333, 0.33333333, 0.33333333, 1.        ],\n",
       "        [0.33333333, 0.33333333, 0.33333333, 1.        ],\n",
       "        [0.33333333, 0.33333333, 0.33333333, 1.        ],\n",
       "        [0.33333333, 0.33333333, 0.33333333, 1.        ],\n",
       "        [0.33333333, 0.33333333, 0.33333333, 1.        ],\n",
       "        [0.33333333, 0.33333333, 0.33333333, 1.        ],\n",
       "        [0.33333333, 0.33333333, 0.33333333, 1.        ],\n",
       "        [0.33333333, 0.33333333, 0.33333333, 1.        ],\n",
       "        [0.33333333, 0.33333333, 0.33333333, 1.        ],\n",
       "        [0.33333333, 0.33333333, 0.33333333, 1.        ],\n",
       "        [0.33333333, 0.33333333, 0.33333333, 1.        ],\n",
       "        [0.33333333, 0.33333333, 0.33333333, 1.        ],\n",
       "        [0.33333333, 0.33333333, 0.33333333, 1.        ],\n",
       "        [0.33333333, 0.33333333, 0.33333333, 1.        ],\n",
       "        [0.33333333, 0.33333333, 0.33333333, 1.        ],\n",
       "        [0.33333333, 0.33333333, 0.33333333, 1.        ],\n",
       "        [0.33333333, 0.33333333, 0.33333333, 1.        ],\n",
       "        [0.33333333, 0.33333333, 0.33333333, 1.        ],\n",
       "        [0.33333333, 0.33333333, 0.33333333, 1.        ],\n",
       "        [0.33333333, 0.33333333, 0.33333333, 1.        ],\n",
       "        [0.33333333, 0.33333333, 0.33333333, 1.        ],\n",
       "        [0.33333333, 0.33333333, 0.33333333, 1.        ],\n",
       "        [0.33333333, 0.33333333, 0.33333333, 1.        ],\n",
       "        [0.33333333, 0.33333333, 0.33333333, 1.        ],\n",
       "        [0.33333333, 0.33333333, 0.33333333, 1.        ],\n",
       "        [0.33333333, 0.33333333, 0.33333333, 1.        ],\n",
       "        [0.33333333, 0.33333333, 0.33333333, 1.        ],\n",
       "        [0.33333333, 0.33333333, 0.33333333, 1.        ],\n",
       "        [0.33333333, 0.33333333, 0.33333333, 1.        ],\n",
       "        [0.33333333, 0.33333333, 0.33333333, 1.        ],\n",
       "        [0.33333333, 0.33333333, 0.33333333, 1.        ],\n",
       "        [0.33333333, 0.33333333, 0.33333333, 1.        ],\n",
       "        [0.33333333, 0.33333333, 0.33333333, 1.        ],\n",
       "        [0.33333333, 0.33333333, 0.33333333, 1.        ],\n",
       "        [0.33333333, 0.33333333, 0.33333333, 1.        ],\n",
       "        [0.33333333, 0.33333333, 0.33333333, 1.        ],\n",
       "        [0.33333333, 0.33333333, 0.33333333, 1.        ]], requires_grad=True)"
      ]
     },
     "execution_count": 23,
     "metadata": {},
     "output_type": "execute_result"
    }
   ],
   "source": [
    "Y_test"
   ]
  },
  {
   "cell_type": "code",
   "execution_count": 24,
   "metadata": {
    "executionInfo": {
     "elapsed": 811,
     "status": "ok",
     "timestamp": 1610358062091,
     "user": {
      "displayName": "Eraraya Ricardo Muten",
      "photoUrl": "https://lh3.googleusercontent.com/a-/AOh14Ggpw7xw-lyk6u6l92QjpI7MlI7qjJuuciCpwrUd=s64",
      "userId": "03770692095188133952"
     },
     "user_tz": -420
    },
    "id": "zzVunJV1z-ou"
   },
   "outputs": [],
   "source": [
    "from keras import backend as K\n",
    "\n",
    "\n",
    "# Alpha Custom Layer\n",
    "class class_weights(tf.keras.layers.Layer):\n",
    "    def __init__(self):\n",
    "        super(class_weights, self).__init__()\n",
    "        w_init = tf.random_normal_initializer()\n",
    "        self.w = tf.Variable(\n",
    "            initial_value=w_init(shape=(1, n_class), dtype=\"float32\"),\n",
    "            trainable=True,\n",
    "        )\n",
    "\n",
    "    def call(self, inputs):\n",
    "        return (inputs * self.w)"
   ]
  },
  {
   "cell_type": "code",
   "execution_count": 31,
   "metadata": {
    "executionInfo": {
     "elapsed": 2804,
     "status": "ok",
     "timestamp": 1610358067284,
     "user": {
      "displayName": "Eraraya Ricardo Muten",
      "photoUrl": "https://lh3.googleusercontent.com/a-/AOh14Ggpw7xw-lyk6u6l92QjpI7MlI7qjJuuciCpwrUd=s64",
      "userId": "03770692095188133952"
     },
     "user_tz": -420
    },
    "id": "6IozHMJhz-ou"
   },
   "outputs": [],
   "source": [
    "# Input image, size = 27 x 27\n",
    "X = tf.keras.Input(shape=(27,27), name='Input_Layer')\n",
    "\n",
    "\n",
    "# Specs for Conv\n",
    "c_filter = 3\n",
    "c_strides = 2\n",
    "\n",
    "\n",
    "# First Quantum Conv Layer, trainable params = 18*L, output size = 13 x 13\n",
    "num_conv_layer_1 = 2\n",
    "q_conv_layer_1 = qml.qnn.KerasLayer(q_conv, {\"conv_params\": (2, num_conv_layer_1, 9)}, output_dim=(1), name='Quantum_Conv_Layer_1')\n",
    "size_1 = int(1+(X.shape[1]-c_filter)/c_strides)\n",
    "q_conv_layer_1_list = []\n",
    "# height iteration\n",
    "for i in range(size_1):\n",
    "    # width iteration\n",
    "    for j in range(size_1):\n",
    "        temp = q_conv_layer_1(X[:, 2*i:2*(i+1)+1, 2*j:2*(j+1)+1])\n",
    "        temp = tf.keras.layers.Reshape((1,))(temp)\n",
    "        q_conv_layer_1_list += [temp]\n",
    "concat_layer_1 = tf.keras.layers.Concatenate(axis=1)(q_conv_layer_1_list)\n",
    "reshape_layer_1 = tf.keras.layers.Reshape((size_1, size_1))(concat_layer_1)\n",
    "\n",
    "\n",
    "# Second Quantum Conv Layer, trainable params = 18*L, output size = 6 x 6\n",
    "num_conv_layer_2 = 2\n",
    "q_conv_layer_2 = qml.qnn.KerasLayer(q_conv, {\"conv_params\": (2, num_conv_layer_2, 9)}, output_dim=(1), name='Quantum_Conv_Layer_2')\n",
    "size_2 = int(1+(reshape_layer_1.shape[1]-c_filter)/c_strides)\n",
    "q_conv_layer_2_list = []\n",
    "# height iteration\n",
    "for i in range(size_2):\n",
    "    # width iteration\n",
    "    for j in range(size_2):\n",
    "        temp = q_conv_layer_2(reshape_layer_1[:, 2*i:2*(i+1)+1, 2*j:2*(j+1)+1])\n",
    "        temp = tf.keras.layers.Reshape((1,))(temp)\n",
    "        q_conv_layer_2_list += [temp]\n",
    "concat_layer_2 = tf.keras.layers.Concatenate(axis=1)(q_conv_layer_2_list)\n",
    "reshape_layer_2 = tf.keras.layers.Reshape((size_2, size_2, 1))(concat_layer_2)\n",
    "\n",
    "\n",
    "# Max Pooling Layer, output size = 9\n",
    "max_pool_layer = tf.keras.layers.MaxPooling2D(pool_size=(2, 2), strides=None, name='Max_Pool_Layer')(reshape_layer_2)\n",
    "reshape_layer_3 = tf.keras.layers.Reshape((9,))(max_pool_layer)\n",
    "\n",
    "\n",
    "# Quantum FC Layer, trainable params = 18*L*n_class + 2, output size = 2\n",
    "num_fc_layer = 2\n",
    "q_fc_layer_0 = qml.qnn.KerasLayer(q_fc, {\"params\": (2, num_fc_layer, 9)}, output_dim=n_class)(reshape_layer_3)\n",
    "\n",
    "# Alpha Layer\n",
    "alpha_layer_0 = class_weights()(q_fc_layer_0)\n",
    "\n",
    "model = tf.keras.Model(inputs=X, outputs=alpha_layer_0)"
   ]
  },
  {
   "cell_type": "code",
   "execution_count": 32,
   "metadata": {
    "colab": {
     "base_uri": "https://localhost:8080/"
    },
    "executionInfo": {
     "elapsed": 39184,
     "status": "ok",
     "timestamp": 1610358109156,
     "user": {
      "displayName": "Eraraya Ricardo Muten",
      "photoUrl": "https://lh3.googleusercontent.com/a-/AOh14Ggpw7xw-lyk6u6l92QjpI7MlI7qjJuuciCpwrUd=s64",
      "userId": "03770692095188133952"
     },
     "user_tz": -420
    },
    "id": "-kazExRcz-ov",
    "outputId": "11a34545-b4dd-425d-d246-8d0d260c9da8",
    "scrolled": false
   },
   "outputs": [
    {
     "data": {
      "text/plain": [
       "<tf.Tensor: shape=(32, 4), dtype=float32, numpy=\n",
       "array([[-0.07996774,  0.08851518, -0.00153418, -0.00579961],\n",
       "       [-0.07990675,  0.08857627, -0.001537  , -0.00576993],\n",
       "       [-0.07988311,  0.08860483, -0.0015377 , -0.00576147],\n",
       "       [-0.07979589,  0.08876715, -0.0015358 , -0.0057652 ],\n",
       "       [-0.08001978,  0.08821127, -0.00155138, -0.00567427],\n",
       "       [-0.07988558,  0.08855402, -0.00154137, -0.00573344],\n",
       "       [-0.08002263,  0.08833262, -0.00154163, -0.00574921],\n",
       "       [-0.08001868,  0.08835313, -0.00154053, -0.00575721],\n",
       "       [-0.07998318,  0.08836707, -0.00154385, -0.00572704],\n",
       "       [-0.08011331,  0.08812819, -0.00154625, -0.00572586],\n",
       "       [-0.07998742,  0.0884057 , -0.00154031, -0.00575478],\n",
       "       [-0.07978562,  0.08876869, -0.00153696, -0.00575495],\n",
       "       [-0.07987887,  0.08863592, -0.00153579, -0.00577576],\n",
       "       [-0.07970516,  0.0889352 , -0.00153384, -0.00576922],\n",
       "       [-0.08002425,  0.08833872, -0.00154096, -0.00575463],\n",
       "       [-0.07988572,  0.08870705, -0.00152931, -0.00582704],\n",
       "       [-0.08001286,  0.08846786, -0.00153225, -0.00582045],\n",
       "       [-0.07972991,  0.08891916, -0.00153202, -0.00578642],\n",
       "       [-0.07990766,  0.08868992, -0.00152791, -0.00584077],\n",
       "       [-0.07991991,  0.08851639, -0.00154005, -0.00574802],\n",
       "       [-0.07979828,  0.0888024 , -0.00153272, -0.00578946],\n",
       "       [-0.07996755,  0.08833901, -0.00154795, -0.00569353],\n",
       "       [-0.07980027,  0.08860945, -0.00154758, -0.00567484],\n",
       "       [-0.0798732 ,  0.08849885, -0.00154719, -0.00568711],\n",
       "       [-0.07983329,  0.08862557, -0.00154226, -0.00571994],\n",
       "       [-0.08003671,  0.08841863, -0.00153314, -0.0058167 ],\n",
       "       [-0.08007596,  0.08829829, -0.00153767, -0.0057868 ],\n",
       "       [-0.07983659,  0.08878642, -0.00152918, -0.00582182],\n",
       "       [-0.07991717,  0.08854613, -0.00153807, -0.00576302],\n",
       "       [-0.07992402,  0.08850989, -0.00154005, -0.00574857],\n",
       "       [-0.07993474,  0.08858898, -0.0015325 , -0.00580843],\n",
       "       [-0.07972093,  0.08884145, -0.00153927, -0.00572902]],\n",
       "      dtype=float32)>"
      ]
     },
     "execution_count": 32,
     "metadata": {},
     "output_type": "execute_result"
    }
   ],
   "source": [
    "model(X_train[0:32, :, :])"
   ]
  },
  {
   "cell_type": "code",
   "execution_count": 33,
   "metadata": {},
   "outputs": [],
   "source": [
    "import keras.backend as K\n",
    "\n",
    "# def custom_loss(y_true, y_pred):\n",
    "#     return K.sum(((y_true.shape[1]-2)*y_true+1)*K.square(y_true-y_pred))/len(y_true)\n",
    "\n",
    "def custom_loss(y_true, y_pred):\n",
    "    loss = K.square(y_true-y_pred)\n",
    "    #class_weights = y_true*(weight_for_1-weight_for_0) + weight_for_0\n",
    "    #loss = loss * class_weights\n",
    "    \n",
    "    return K.sum(loss)/len(y_true)"
   ]
  },
  {
   "cell_type": "code",
   "execution_count": 34,
   "metadata": {
    "executionInfo": {
     "elapsed": 1168,
     "status": "ok",
     "timestamp": 1610358110335,
     "user": {
      "displayName": "Eraraya Ricardo Muten",
      "photoUrl": "https://lh3.googleusercontent.com/a-/AOh14Ggpw7xw-lyk6u6l92QjpI7MlI7qjJuuciCpwrUd=s64",
      "userId": "03770692095188133952"
     },
     "user_tz": -420
    },
    "id": "wZ2e6t93z-ow"
   },
   "outputs": [],
   "source": [
    "opt = tf.keras.optimizers.Adam(learning_rate=0.1)\n",
    "model.compile(opt, loss='mse', metrics=[\"accuracy\"])"
   ]
  },
  {
   "cell_type": "code",
   "execution_count": 35,
   "metadata": {},
   "outputs": [],
   "source": [
    "cp_val_acc = tf.keras.callbacks.ModelCheckpoint(filepath=\"./Model/4_QConv2ent_QFC_valacc.hdf5\",\n",
    "                monitor='val_accuracy', verbose=1, save_weights_only=True, save_best_only=True, mode='max')\n",
    "\n",
    "cp_val_loss = tf.keras.callbacks.ModelCheckpoint(filepath=\"./Model/4_QConv2ent_QFC_valloss.hdf5\",\n",
    "                monitor='val_loss', verbose=1, save_weights_only=True, save_best_only=True, mode='min')"
   ]
  },
  {
   "cell_type": "code",
   "execution_count": 40,
   "metadata": {
    "colab": {
     "base_uri": "https://localhost:8080/"
    },
    "executionInfo": {
     "elapsed": 23954180,
     "status": "ok",
     "timestamp": 1610382086131,
     "user": {
      "displayName": "Eraraya Ricardo Muten",
      "photoUrl": "https://lh3.googleusercontent.com/a-/AOh14Ggpw7xw-lyk6u6l92QjpI7MlI7qjJuuciCpwrUd=s64",
      "userId": "03770692095188133952"
     },
     "user_tz": -420
    },
    "id": "GKW8hv-9z-ow",
    "outputId": "a004b2f4-c3e3-4aa1-cef5-0d28d21a6d57",
    "scrolled": false
   },
   "outputs": [
    {
     "name": "stdout",
     "output_type": "stream",
     "text": [
      "Epoch 11/13\n",
      "25/25 [==============================] - 28124s 1127s/step - loss: 0.0474 - accuracy: 0.7000 - val_loss: 0.0522 - val_accuracy: 0.6600\n",
      "\n",
      "Epoch 00011: val_accuracy did not improve from 0.70000\n",
      "\n",
      "Epoch 00011: val_loss did not improve from 0.05203\n",
      "Epoch 12/13\n",
      "25/25 [==============================] - 27342s 1094s/step - loss: 0.0453 - accuracy: 0.7275 - val_loss: 0.0502 - val_accuracy: 0.7100\n",
      "\n",
      "Epoch 00012: val_accuracy improved from 0.70000 to 0.71000, saving model to ./Model/4_QConv2ent_QFC_valacc.hdf5\n",
      "\n",
      "Epoch 00012: val_loss improved from 0.05203 to 0.05020, saving model to ./Model/4_QConv2ent_QFC_valloss.hdf5\n",
      "Epoch 13/13\n",
      "25/25 [==============================] - 27667s 1109s/step - loss: 0.0460 - accuracy: 0.7450 - val_loss: 0.0529 - val_accuracy: 0.6650\n",
      "\n",
      "Epoch 00013: val_accuracy did not improve from 0.71000\n",
      "\n",
      "Epoch 00013: val_loss did not improve from 0.05020\n"
     ]
    }
   ],
   "source": [
    "H = model.fit(X_train, Y_train, epochs=13, batch_size=32, initial_epoch=10,\n",
    "              validation_data=(X_test, Y_test), verbose=1,\n",
    "              callbacks=[cp_val_acc, cp_val_loss])"
   ]
  },
  {
   "cell_type": "code",
   "execution_count": null,
   "metadata": {},
   "outputs": [],
   "source": []
  },
  {
   "cell_type": "code",
   "execution_count": 37,
   "metadata": {},
   "outputs": [
    {
     "name": "stdout",
     "output_type": "stream",
     "text": [
      "Model: \"model_1\"\n",
      "__________________________________________________________________________________________________\n",
      "Layer (type)                    Output Shape         Param #     Connected to                     \n",
      "==================================================================================================\n",
      "Input_Layer (InputLayer)        [(None, 27, 27)]     0                                            \n",
      "__________________________________________________________________________________________________\n",
      "tf.__operators__.getitem_205 (S (None, 3, 3)         0           Input_Layer[0][0]                \n",
      "__________________________________________________________________________________________________\n",
      "tf.__operators__.getitem_206 (S (None, 3, 3)         0           Input_Layer[0][0]                \n",
      "__________________________________________________________________________________________________\n",
      "tf.__operators__.getitem_207 (S (None, 3, 3)         0           Input_Layer[0][0]                \n",
      "__________________________________________________________________________________________________\n",
      "tf.__operators__.getitem_208 (S (None, 3, 3)         0           Input_Layer[0][0]                \n",
      "__________________________________________________________________________________________________\n",
      "tf.__operators__.getitem_209 (S (None, 3, 3)         0           Input_Layer[0][0]                \n",
      "__________________________________________________________________________________________________\n",
      "tf.__operators__.getitem_210 (S (None, 3, 3)         0           Input_Layer[0][0]                \n",
      "__________________________________________________________________________________________________\n",
      "tf.__operators__.getitem_211 (S (None, 3, 3)         0           Input_Layer[0][0]                \n",
      "__________________________________________________________________________________________________\n",
      "tf.__operators__.getitem_212 (S (None, 3, 3)         0           Input_Layer[0][0]                \n",
      "__________________________________________________________________________________________________\n",
      "tf.__operators__.getitem_213 (S (None, 3, 3)         0           Input_Layer[0][0]                \n",
      "__________________________________________________________________________________________________\n",
      "tf.__operators__.getitem_214 (S (None, 3, 3)         0           Input_Layer[0][0]                \n",
      "__________________________________________________________________________________________________\n",
      "tf.__operators__.getitem_215 (S (None, 3, 3)         0           Input_Layer[0][0]                \n",
      "__________________________________________________________________________________________________\n",
      "tf.__operators__.getitem_216 (S (None, 3, 3)         0           Input_Layer[0][0]                \n",
      "__________________________________________________________________________________________________\n",
      "tf.__operators__.getitem_217 (S (None, 3, 3)         0           Input_Layer[0][0]                \n",
      "__________________________________________________________________________________________________\n",
      "tf.__operators__.getitem_218 (S (None, 3, 3)         0           Input_Layer[0][0]                \n",
      "__________________________________________________________________________________________________\n",
      "tf.__operators__.getitem_219 (S (None, 3, 3)         0           Input_Layer[0][0]                \n",
      "__________________________________________________________________________________________________\n",
      "tf.__operators__.getitem_220 (S (None, 3, 3)         0           Input_Layer[0][0]                \n",
      "__________________________________________________________________________________________________\n",
      "tf.__operators__.getitem_221 (S (None, 3, 3)         0           Input_Layer[0][0]                \n",
      "__________________________________________________________________________________________________\n",
      "tf.__operators__.getitem_222 (S (None, 3, 3)         0           Input_Layer[0][0]                \n",
      "__________________________________________________________________________________________________\n",
      "tf.__operators__.getitem_223 (S (None, 3, 3)         0           Input_Layer[0][0]                \n",
      "__________________________________________________________________________________________________\n",
      "tf.__operators__.getitem_224 (S (None, 3, 3)         0           Input_Layer[0][0]                \n",
      "__________________________________________________________________________________________________\n",
      "tf.__operators__.getitem_225 (S (None, 3, 3)         0           Input_Layer[0][0]                \n",
      "__________________________________________________________________________________________________\n",
      "tf.__operators__.getitem_226 (S (None, 3, 3)         0           Input_Layer[0][0]                \n",
      "__________________________________________________________________________________________________\n",
      "tf.__operators__.getitem_227 (S (None, 3, 3)         0           Input_Layer[0][0]                \n",
      "__________________________________________________________________________________________________\n",
      "tf.__operators__.getitem_228 (S (None, 3, 3)         0           Input_Layer[0][0]                \n",
      "__________________________________________________________________________________________________\n",
      "tf.__operators__.getitem_229 (S (None, 3, 3)         0           Input_Layer[0][0]                \n",
      "__________________________________________________________________________________________________\n",
      "tf.__operators__.getitem_230 (S (None, 3, 3)         0           Input_Layer[0][0]                \n",
      "__________________________________________________________________________________________________\n",
      "tf.__operators__.getitem_231 (S (None, 3, 3)         0           Input_Layer[0][0]                \n",
      "__________________________________________________________________________________________________\n",
      "tf.__operators__.getitem_232 (S (None, 3, 3)         0           Input_Layer[0][0]                \n",
      "__________________________________________________________________________________________________\n",
      "tf.__operators__.getitem_233 (S (None, 3, 3)         0           Input_Layer[0][0]                \n",
      "__________________________________________________________________________________________________\n",
      "tf.__operators__.getitem_234 (S (None, 3, 3)         0           Input_Layer[0][0]                \n",
      "__________________________________________________________________________________________________\n",
      "tf.__operators__.getitem_235 (S (None, 3, 3)         0           Input_Layer[0][0]                \n",
      "__________________________________________________________________________________________________\n",
      "tf.__operators__.getitem_236 (S (None, 3, 3)         0           Input_Layer[0][0]                \n",
      "__________________________________________________________________________________________________\n",
      "tf.__operators__.getitem_237 (S (None, 3, 3)         0           Input_Layer[0][0]                \n",
      "__________________________________________________________________________________________________\n",
      "tf.__operators__.getitem_238 (S (None, 3, 3)         0           Input_Layer[0][0]                \n",
      "__________________________________________________________________________________________________\n",
      "tf.__operators__.getitem_239 (S (None, 3, 3)         0           Input_Layer[0][0]                \n",
      "__________________________________________________________________________________________________\n",
      "tf.__operators__.getitem_240 (S (None, 3, 3)         0           Input_Layer[0][0]                \n",
      "__________________________________________________________________________________________________\n",
      "tf.__operators__.getitem_241 (S (None, 3, 3)         0           Input_Layer[0][0]                \n",
      "__________________________________________________________________________________________________\n",
      "tf.__operators__.getitem_242 (S (None, 3, 3)         0           Input_Layer[0][0]                \n",
      "__________________________________________________________________________________________________\n",
      "tf.__operators__.getitem_243 (S (None, 3, 3)         0           Input_Layer[0][0]                \n",
      "__________________________________________________________________________________________________\n",
      "tf.__operators__.getitem_244 (S (None, 3, 3)         0           Input_Layer[0][0]                \n",
      "__________________________________________________________________________________________________\n",
      "tf.__operators__.getitem_245 (S (None, 3, 3)         0           Input_Layer[0][0]                \n",
      "__________________________________________________________________________________________________\n",
      "tf.__operators__.getitem_246 (S (None, 3, 3)         0           Input_Layer[0][0]                \n",
      "__________________________________________________________________________________________________\n",
      "tf.__operators__.getitem_247 (S (None, 3, 3)         0           Input_Layer[0][0]                \n",
      "__________________________________________________________________________________________________\n",
      "tf.__operators__.getitem_248 (S (None, 3, 3)         0           Input_Layer[0][0]                \n",
      "__________________________________________________________________________________________________\n",
      "tf.__operators__.getitem_249 (S (None, 3, 3)         0           Input_Layer[0][0]                \n",
      "__________________________________________________________________________________________________\n",
      "tf.__operators__.getitem_250 (S (None, 3, 3)         0           Input_Layer[0][0]                \n",
      "__________________________________________________________________________________________________\n",
      "tf.__operators__.getitem_251 (S (None, 3, 3)         0           Input_Layer[0][0]                \n",
      "__________________________________________________________________________________________________\n",
      "tf.__operators__.getitem_252 (S (None, 3, 3)         0           Input_Layer[0][0]                \n",
      "__________________________________________________________________________________________________\n",
      "tf.__operators__.getitem_253 (S (None, 3, 3)         0           Input_Layer[0][0]                \n",
      "__________________________________________________________________________________________________\n",
      "tf.__operators__.getitem_254 (S (None, 3, 3)         0           Input_Layer[0][0]                \n",
      "__________________________________________________________________________________________________\n",
      "tf.__operators__.getitem_255 (S (None, 3, 3)         0           Input_Layer[0][0]                \n",
      "__________________________________________________________________________________________________\n",
      "tf.__operators__.getitem_256 (S (None, 3, 3)         0           Input_Layer[0][0]                \n",
      "__________________________________________________________________________________________________\n",
      "tf.__operators__.getitem_257 (S (None, 3, 3)         0           Input_Layer[0][0]                \n",
      "__________________________________________________________________________________________________\n",
      "tf.__operators__.getitem_258 (S (None, 3, 3)         0           Input_Layer[0][0]                \n",
      "__________________________________________________________________________________________________\n",
      "tf.__operators__.getitem_259 (S (None, 3, 3)         0           Input_Layer[0][0]                \n",
      "__________________________________________________________________________________________________\n",
      "tf.__operators__.getitem_260 (S (None, 3, 3)         0           Input_Layer[0][0]                \n",
      "__________________________________________________________________________________________________\n",
      "tf.__operators__.getitem_261 (S (None, 3, 3)         0           Input_Layer[0][0]                \n",
      "__________________________________________________________________________________________________\n",
      "tf.__operators__.getitem_262 (S (None, 3, 3)         0           Input_Layer[0][0]                \n",
      "__________________________________________________________________________________________________\n",
      "tf.__operators__.getitem_263 (S (None, 3, 3)         0           Input_Layer[0][0]                \n",
      "__________________________________________________________________________________________________\n",
      "tf.__operators__.getitem_264 (S (None, 3, 3)         0           Input_Layer[0][0]                \n",
      "__________________________________________________________________________________________________\n",
      "tf.__operators__.getitem_265 (S (None, 3, 3)         0           Input_Layer[0][0]                \n",
      "__________________________________________________________________________________________________\n",
      "tf.__operators__.getitem_266 (S (None, 3, 3)         0           Input_Layer[0][0]                \n",
      "__________________________________________________________________________________________________\n",
      "tf.__operators__.getitem_267 (S (None, 3, 3)         0           Input_Layer[0][0]                \n",
      "__________________________________________________________________________________________________\n",
      "tf.__operators__.getitem_268 (S (None, 3, 3)         0           Input_Layer[0][0]                \n",
      "__________________________________________________________________________________________________\n",
      "tf.__operators__.getitem_269 (S (None, 3, 3)         0           Input_Layer[0][0]                \n",
      "__________________________________________________________________________________________________\n",
      "tf.__operators__.getitem_270 (S (None, 3, 3)         0           Input_Layer[0][0]                \n",
      "__________________________________________________________________________________________________\n",
      "tf.__operators__.getitem_271 (S (None, 3, 3)         0           Input_Layer[0][0]                \n",
      "__________________________________________________________________________________________________\n",
      "tf.__operators__.getitem_272 (S (None, 3, 3)         0           Input_Layer[0][0]                \n",
      "__________________________________________________________________________________________________\n",
      "tf.__operators__.getitem_273 (S (None, 3, 3)         0           Input_Layer[0][0]                \n",
      "__________________________________________________________________________________________________\n",
      "tf.__operators__.getitem_274 (S (None, 3, 3)         0           Input_Layer[0][0]                \n",
      "__________________________________________________________________________________________________\n",
      "tf.__operators__.getitem_275 (S (None, 3, 3)         0           Input_Layer[0][0]                \n",
      "__________________________________________________________________________________________________\n",
      "tf.__operators__.getitem_276 (S (None, 3, 3)         0           Input_Layer[0][0]                \n",
      "__________________________________________________________________________________________________\n",
      "tf.__operators__.getitem_277 (S (None, 3, 3)         0           Input_Layer[0][0]                \n",
      "__________________________________________________________________________________________________\n",
      "tf.__operators__.getitem_278 (S (None, 3, 3)         0           Input_Layer[0][0]                \n",
      "__________________________________________________________________________________________________\n",
      "tf.__operators__.getitem_279 (S (None, 3, 3)         0           Input_Layer[0][0]                \n",
      "__________________________________________________________________________________________________\n",
      "tf.__operators__.getitem_280 (S (None, 3, 3)         0           Input_Layer[0][0]                \n",
      "__________________________________________________________________________________________________\n",
      "tf.__operators__.getitem_281 (S (None, 3, 3)         0           Input_Layer[0][0]                \n",
      "__________________________________________________________________________________________________\n",
      "tf.__operators__.getitem_282 (S (None, 3, 3)         0           Input_Layer[0][0]                \n",
      "__________________________________________________________________________________________________\n",
      "tf.__operators__.getitem_283 (S (None, 3, 3)         0           Input_Layer[0][0]                \n",
      "__________________________________________________________________________________________________\n",
      "tf.__operators__.getitem_284 (S (None, 3, 3)         0           Input_Layer[0][0]                \n",
      "__________________________________________________________________________________________________\n",
      "tf.__operators__.getitem_285 (S (None, 3, 3)         0           Input_Layer[0][0]                \n",
      "__________________________________________________________________________________________________\n",
      "tf.__operators__.getitem_286 (S (None, 3, 3)         0           Input_Layer[0][0]                \n",
      "__________________________________________________________________________________________________\n",
      "tf.__operators__.getitem_287 (S (None, 3, 3)         0           Input_Layer[0][0]                \n",
      "__________________________________________________________________________________________________\n",
      "tf.__operators__.getitem_288 (S (None, 3, 3)         0           Input_Layer[0][0]                \n",
      "__________________________________________________________________________________________________\n",
      "tf.__operators__.getitem_289 (S (None, 3, 3)         0           Input_Layer[0][0]                \n",
      "__________________________________________________________________________________________________\n",
      "tf.__operators__.getitem_290 (S (None, 3, 3)         0           Input_Layer[0][0]                \n",
      "__________________________________________________________________________________________________\n",
      "tf.__operators__.getitem_291 (S (None, 3, 3)         0           Input_Layer[0][0]                \n",
      "__________________________________________________________________________________________________\n",
      "tf.__operators__.getitem_292 (S (None, 3, 3)         0           Input_Layer[0][0]                \n",
      "__________________________________________________________________________________________________\n",
      "tf.__operators__.getitem_293 (S (None, 3, 3)         0           Input_Layer[0][0]                \n",
      "__________________________________________________________________________________________________\n",
      "tf.__operators__.getitem_294 (S (None, 3, 3)         0           Input_Layer[0][0]                \n",
      "__________________________________________________________________________________________________\n",
      "tf.__operators__.getitem_295 (S (None, 3, 3)         0           Input_Layer[0][0]                \n",
      "__________________________________________________________________________________________________\n",
      "tf.__operators__.getitem_296 (S (None, 3, 3)         0           Input_Layer[0][0]                \n",
      "__________________________________________________________________________________________________\n",
      "tf.__operators__.getitem_297 (S (None, 3, 3)         0           Input_Layer[0][0]                \n",
      "__________________________________________________________________________________________________\n",
      "tf.__operators__.getitem_298 (S (None, 3, 3)         0           Input_Layer[0][0]                \n",
      "__________________________________________________________________________________________________\n",
      "tf.__operators__.getitem_299 (S (None, 3, 3)         0           Input_Layer[0][0]                \n",
      "__________________________________________________________________________________________________\n",
      "tf.__operators__.getitem_300 (S (None, 3, 3)         0           Input_Layer[0][0]                \n",
      "__________________________________________________________________________________________________\n",
      "tf.__operators__.getitem_301 (S (None, 3, 3)         0           Input_Layer[0][0]                \n",
      "__________________________________________________________________________________________________\n",
      "tf.__operators__.getitem_302 (S (None, 3, 3)         0           Input_Layer[0][0]                \n",
      "__________________________________________________________________________________________________\n",
      "tf.__operators__.getitem_303 (S (None, 3, 3)         0           Input_Layer[0][0]                \n",
      "__________________________________________________________________________________________________\n",
      "tf.__operators__.getitem_304 (S (None, 3, 3)         0           Input_Layer[0][0]                \n",
      "__________________________________________________________________________________________________\n",
      "tf.__operators__.getitem_305 (S (None, 3, 3)         0           Input_Layer[0][0]                \n",
      "__________________________________________________________________________________________________\n",
      "tf.__operators__.getitem_306 (S (None, 3, 3)         0           Input_Layer[0][0]                \n",
      "__________________________________________________________________________________________________\n",
      "tf.__operators__.getitem_307 (S (None, 3, 3)         0           Input_Layer[0][0]                \n",
      "__________________________________________________________________________________________________\n",
      "tf.__operators__.getitem_308 (S (None, 3, 3)         0           Input_Layer[0][0]                \n",
      "__________________________________________________________________________________________________\n",
      "tf.__operators__.getitem_309 (S (None, 3, 3)         0           Input_Layer[0][0]                \n",
      "__________________________________________________________________________________________________\n",
      "tf.__operators__.getitem_310 (S (None, 3, 3)         0           Input_Layer[0][0]                \n",
      "__________________________________________________________________________________________________\n",
      "tf.__operators__.getitem_311 (S (None, 3, 3)         0           Input_Layer[0][0]                \n",
      "__________________________________________________________________________________________________\n",
      "tf.__operators__.getitem_312 (S (None, 3, 3)         0           Input_Layer[0][0]                \n",
      "__________________________________________________________________________________________________\n",
      "tf.__operators__.getitem_313 (S (None, 3, 3)         0           Input_Layer[0][0]                \n",
      "__________________________________________________________________________________________________\n",
      "tf.__operators__.getitem_314 (S (None, 3, 3)         0           Input_Layer[0][0]                \n",
      "__________________________________________________________________________________________________\n",
      "tf.__operators__.getitem_315 (S (None, 3, 3)         0           Input_Layer[0][0]                \n",
      "__________________________________________________________________________________________________\n",
      "tf.__operators__.getitem_316 (S (None, 3, 3)         0           Input_Layer[0][0]                \n",
      "__________________________________________________________________________________________________\n",
      "tf.__operators__.getitem_317 (S (None, 3, 3)         0           Input_Layer[0][0]                \n",
      "__________________________________________________________________________________________________\n",
      "tf.__operators__.getitem_318 (S (None, 3, 3)         0           Input_Layer[0][0]                \n",
      "__________________________________________________________________________________________________\n",
      "tf.__operators__.getitem_319 (S (None, 3, 3)         0           Input_Layer[0][0]                \n",
      "__________________________________________________________________________________________________\n",
      "tf.__operators__.getitem_320 (S (None, 3, 3)         0           Input_Layer[0][0]                \n",
      "__________________________________________________________________________________________________\n",
      "tf.__operators__.getitem_321 (S (None, 3, 3)         0           Input_Layer[0][0]                \n",
      "__________________________________________________________________________________________________\n",
      "tf.__operators__.getitem_322 (S (None, 3, 3)         0           Input_Layer[0][0]                \n",
      "__________________________________________________________________________________________________\n",
      "tf.__operators__.getitem_323 (S (None, 3, 3)         0           Input_Layer[0][0]                \n",
      "__________________________________________________________________________________________________\n",
      "tf.__operators__.getitem_324 (S (None, 3, 3)         0           Input_Layer[0][0]                \n",
      "__________________________________________________________________________________________________\n",
      "tf.__operators__.getitem_325 (S (None, 3, 3)         0           Input_Layer[0][0]                \n",
      "__________________________________________________________________________________________________\n",
      "tf.__operators__.getitem_326 (S (None, 3, 3)         0           Input_Layer[0][0]                \n",
      "__________________________________________________________________________________________________\n",
      "tf.__operators__.getitem_327 (S (None, 3, 3)         0           Input_Layer[0][0]                \n",
      "__________________________________________________________________________________________________\n",
      "tf.__operators__.getitem_328 (S (None, 3, 3)         0           Input_Layer[0][0]                \n",
      "__________________________________________________________________________________________________\n",
      "tf.__operators__.getitem_329 (S (None, 3, 3)         0           Input_Layer[0][0]                \n",
      "__________________________________________________________________________________________________\n",
      "tf.__operators__.getitem_330 (S (None, 3, 3)         0           Input_Layer[0][0]                \n",
      "__________________________________________________________________________________________________\n",
      "tf.__operators__.getitem_331 (S (None, 3, 3)         0           Input_Layer[0][0]                \n",
      "__________________________________________________________________________________________________\n",
      "tf.__operators__.getitem_332 (S (None, 3, 3)         0           Input_Layer[0][0]                \n",
      "__________________________________________________________________________________________________\n",
      "tf.__operators__.getitem_333 (S (None, 3, 3)         0           Input_Layer[0][0]                \n",
      "__________________________________________________________________________________________________\n",
      "tf.__operators__.getitem_334 (S (None, 3, 3)         0           Input_Layer[0][0]                \n",
      "__________________________________________________________________________________________________\n",
      "tf.__operators__.getitem_335 (S (None, 3, 3)         0           Input_Layer[0][0]                \n",
      "__________________________________________________________________________________________________\n",
      "tf.__operators__.getitem_336 (S (None, 3, 3)         0           Input_Layer[0][0]                \n",
      "__________________________________________________________________________________________________\n",
      "tf.__operators__.getitem_337 (S (None, 3, 3)         0           Input_Layer[0][0]                \n",
      "__________________________________________________________________________________________________\n",
      "tf.__operators__.getitem_338 (S (None, 3, 3)         0           Input_Layer[0][0]                \n",
      "__________________________________________________________________________________________________\n",
      "tf.__operators__.getitem_339 (S (None, 3, 3)         0           Input_Layer[0][0]                \n",
      "__________________________________________________________________________________________________\n",
      "tf.__operators__.getitem_340 (S (None, 3, 3)         0           Input_Layer[0][0]                \n",
      "__________________________________________________________________________________________________\n",
      "tf.__operators__.getitem_341 (S (None, 3, 3)         0           Input_Layer[0][0]                \n",
      "__________________________________________________________________________________________________\n",
      "tf.__operators__.getitem_342 (S (None, 3, 3)         0           Input_Layer[0][0]                \n",
      "__________________________________________________________________________________________________\n",
      "tf.__operators__.getitem_343 (S (None, 3, 3)         0           Input_Layer[0][0]                \n",
      "__________________________________________________________________________________________________\n",
      "tf.__operators__.getitem_344 (S (None, 3, 3)         0           Input_Layer[0][0]                \n",
      "__________________________________________________________________________________________________\n",
      "tf.__operators__.getitem_345 (S (None, 3, 3)         0           Input_Layer[0][0]                \n",
      "__________________________________________________________________________________________________\n",
      "tf.__operators__.getitem_346 (S (None, 3, 3)         0           Input_Layer[0][0]                \n",
      "__________________________________________________________________________________________________\n",
      "tf.__operators__.getitem_347 (S (None, 3, 3)         0           Input_Layer[0][0]                \n",
      "__________________________________________________________________________________________________\n",
      "tf.__operators__.getitem_348 (S (None, 3, 3)         0           Input_Layer[0][0]                \n",
      "__________________________________________________________________________________________________\n",
      "tf.__operators__.getitem_349 (S (None, 3, 3)         0           Input_Layer[0][0]                \n",
      "__________________________________________________________________________________________________\n",
      "tf.__operators__.getitem_350 (S (None, 3, 3)         0           Input_Layer[0][0]                \n",
      "__________________________________________________________________________________________________\n",
      "tf.__operators__.getitem_351 (S (None, 3, 3)         0           Input_Layer[0][0]                \n",
      "__________________________________________________________________________________________________\n",
      "tf.__operators__.getitem_352 (S (None, 3, 3)         0           Input_Layer[0][0]                \n",
      "__________________________________________________________________________________________________\n",
      "tf.__operators__.getitem_353 (S (None, 3, 3)         0           Input_Layer[0][0]                \n",
      "__________________________________________________________________________________________________\n",
      "tf.__operators__.getitem_354 (S (None, 3, 3)         0           Input_Layer[0][0]                \n",
      "__________________________________________________________________________________________________\n",
      "tf.__operators__.getitem_355 (S (None, 3, 3)         0           Input_Layer[0][0]                \n",
      "__________________________________________________________________________________________________\n",
      "tf.__operators__.getitem_356 (S (None, 3, 3)         0           Input_Layer[0][0]                \n",
      "__________________________________________________________________________________________________\n",
      "tf.__operators__.getitem_357 (S (None, 3, 3)         0           Input_Layer[0][0]                \n",
      "__________________________________________________________________________________________________\n",
      "tf.__operators__.getitem_358 (S (None, 3, 3)         0           Input_Layer[0][0]                \n",
      "__________________________________________________________________________________________________\n",
      "tf.__operators__.getitem_359 (S (None, 3, 3)         0           Input_Layer[0][0]                \n",
      "__________________________________________________________________________________________________\n",
      "tf.__operators__.getitem_360 (S (None, 3, 3)         0           Input_Layer[0][0]                \n",
      "__________________________________________________________________________________________________\n",
      "tf.__operators__.getitem_361 (S (None, 3, 3)         0           Input_Layer[0][0]                \n",
      "__________________________________________________________________________________________________\n",
      "tf.__operators__.getitem_362 (S (None, 3, 3)         0           Input_Layer[0][0]                \n",
      "__________________________________________________________________________________________________\n",
      "tf.__operators__.getitem_363 (S (None, 3, 3)         0           Input_Layer[0][0]                \n",
      "__________________________________________________________________________________________________\n",
      "tf.__operators__.getitem_364 (S (None, 3, 3)         0           Input_Layer[0][0]                \n",
      "__________________________________________________________________________________________________\n",
      "tf.__operators__.getitem_365 (S (None, 3, 3)         0           Input_Layer[0][0]                \n",
      "__________________________________________________________________________________________________\n",
      "tf.__operators__.getitem_366 (S (None, 3, 3)         0           Input_Layer[0][0]                \n",
      "__________________________________________________________________________________________________\n",
      "tf.__operators__.getitem_367 (S (None, 3, 3)         0           Input_Layer[0][0]                \n",
      "__________________________________________________________________________________________________\n",
      "tf.__operators__.getitem_368 (S (None, 3, 3)         0           Input_Layer[0][0]                \n",
      "__________________________________________________________________________________________________\n",
      "tf.__operators__.getitem_369 (S (None, 3, 3)         0           Input_Layer[0][0]                \n",
      "__________________________________________________________________________________________________\n",
      "tf.__operators__.getitem_370 (S (None, 3, 3)         0           Input_Layer[0][0]                \n",
      "__________________________________________________________________________________________________\n",
      "tf.__operators__.getitem_371 (S (None, 3, 3)         0           Input_Layer[0][0]                \n",
      "__________________________________________________________________________________________________\n",
      "tf.__operators__.getitem_372 (S (None, 3, 3)         0           Input_Layer[0][0]                \n",
      "__________________________________________________________________________________________________\n",
      "tf.__operators__.getitem_373 (S (None, 3, 3)         0           Input_Layer[0][0]                \n",
      "__________________________________________________________________________________________________\n",
      "Quantum_Conv_Layer_1 (KerasLaye (None, 1)            36          tf.__operators__.getitem_205[0][0\n",
      "                                                                 tf.__operators__.getitem_206[0][0\n",
      "                                                                 tf.__operators__.getitem_207[0][0\n",
      "                                                                 tf.__operators__.getitem_208[0][0\n",
      "                                                                 tf.__operators__.getitem_209[0][0\n",
      "                                                                 tf.__operators__.getitem_210[0][0\n",
      "                                                                 tf.__operators__.getitem_211[0][0\n",
      "                                                                 tf.__operators__.getitem_212[0][0\n",
      "                                                                 tf.__operators__.getitem_213[0][0\n",
      "                                                                 tf.__operators__.getitem_214[0][0\n",
      "                                                                 tf.__operators__.getitem_215[0][0\n",
      "                                                                 tf.__operators__.getitem_216[0][0\n",
      "                                                                 tf.__operators__.getitem_217[0][0\n",
      "                                                                 tf.__operators__.getitem_218[0][0\n",
      "                                                                 tf.__operators__.getitem_219[0][0\n",
      "                                                                 tf.__operators__.getitem_220[0][0\n",
      "                                                                 tf.__operators__.getitem_221[0][0\n",
      "                                                                 tf.__operators__.getitem_222[0][0\n",
      "                                                                 tf.__operators__.getitem_223[0][0\n",
      "                                                                 tf.__operators__.getitem_224[0][0\n",
      "                                                                 tf.__operators__.getitem_225[0][0\n",
      "                                                                 tf.__operators__.getitem_226[0][0\n",
      "                                                                 tf.__operators__.getitem_227[0][0\n",
      "                                                                 tf.__operators__.getitem_228[0][0\n",
      "                                                                 tf.__operators__.getitem_229[0][0\n",
      "                                                                 tf.__operators__.getitem_230[0][0\n",
      "                                                                 tf.__operators__.getitem_231[0][0\n",
      "                                                                 tf.__operators__.getitem_232[0][0\n",
      "                                                                 tf.__operators__.getitem_233[0][0\n",
      "                                                                 tf.__operators__.getitem_234[0][0\n",
      "                                                                 tf.__operators__.getitem_235[0][0\n",
      "                                                                 tf.__operators__.getitem_236[0][0\n",
      "                                                                 tf.__operators__.getitem_237[0][0\n",
      "                                                                 tf.__operators__.getitem_238[0][0\n",
      "                                                                 tf.__operators__.getitem_239[0][0\n",
      "                                                                 tf.__operators__.getitem_240[0][0\n",
      "                                                                 tf.__operators__.getitem_241[0][0\n",
      "                                                                 tf.__operators__.getitem_242[0][0\n",
      "                                                                 tf.__operators__.getitem_243[0][0\n",
      "                                                                 tf.__operators__.getitem_244[0][0\n",
      "                                                                 tf.__operators__.getitem_245[0][0\n",
      "                                                                 tf.__operators__.getitem_246[0][0\n",
      "                                                                 tf.__operators__.getitem_247[0][0\n",
      "                                                                 tf.__operators__.getitem_248[0][0\n",
      "                                                                 tf.__operators__.getitem_249[0][0\n",
      "                                                                 tf.__operators__.getitem_250[0][0\n",
      "                                                                 tf.__operators__.getitem_251[0][0\n",
      "                                                                 tf.__operators__.getitem_252[0][0\n",
      "                                                                 tf.__operators__.getitem_253[0][0\n",
      "                                                                 tf.__operators__.getitem_254[0][0\n",
      "                                                                 tf.__operators__.getitem_255[0][0\n",
      "                                                                 tf.__operators__.getitem_256[0][0\n",
      "                                                                 tf.__operators__.getitem_257[0][0\n",
      "                                                                 tf.__operators__.getitem_258[0][0\n",
      "                                                                 tf.__operators__.getitem_259[0][0\n",
      "                                                                 tf.__operators__.getitem_260[0][0\n",
      "                                                                 tf.__operators__.getitem_261[0][0\n",
      "                                                                 tf.__operators__.getitem_262[0][0\n",
      "                                                                 tf.__operators__.getitem_263[0][0\n",
      "                                                                 tf.__operators__.getitem_264[0][0\n",
      "                                                                 tf.__operators__.getitem_265[0][0\n",
      "                                                                 tf.__operators__.getitem_266[0][0\n",
      "                                                                 tf.__operators__.getitem_267[0][0\n",
      "                                                                 tf.__operators__.getitem_268[0][0\n",
      "                                                                 tf.__operators__.getitem_269[0][0\n",
      "                                                                 tf.__operators__.getitem_270[0][0\n",
      "                                                                 tf.__operators__.getitem_271[0][0\n",
      "                                                                 tf.__operators__.getitem_272[0][0\n",
      "                                                                 tf.__operators__.getitem_273[0][0\n",
      "                                                                 tf.__operators__.getitem_274[0][0\n",
      "                                                                 tf.__operators__.getitem_275[0][0\n",
      "                                                                 tf.__operators__.getitem_276[0][0\n",
      "                                                                 tf.__operators__.getitem_277[0][0\n",
      "                                                                 tf.__operators__.getitem_278[0][0\n",
      "                                                                 tf.__operators__.getitem_279[0][0\n",
      "                                                                 tf.__operators__.getitem_280[0][0\n",
      "                                                                 tf.__operators__.getitem_281[0][0\n",
      "                                                                 tf.__operators__.getitem_282[0][0\n",
      "                                                                 tf.__operators__.getitem_283[0][0\n",
      "                                                                 tf.__operators__.getitem_284[0][0\n",
      "                                                                 tf.__operators__.getitem_285[0][0\n",
      "                                                                 tf.__operators__.getitem_286[0][0\n",
      "                                                                 tf.__operators__.getitem_287[0][0\n",
      "                                                                 tf.__operators__.getitem_288[0][0\n",
      "                                                                 tf.__operators__.getitem_289[0][0\n",
      "                                                                 tf.__operators__.getitem_290[0][0\n",
      "                                                                 tf.__operators__.getitem_291[0][0\n",
      "                                                                 tf.__operators__.getitem_292[0][0\n",
      "                                                                 tf.__operators__.getitem_293[0][0\n",
      "                                                                 tf.__operators__.getitem_294[0][0\n",
      "                                                                 tf.__operators__.getitem_295[0][0\n",
      "                                                                 tf.__operators__.getitem_296[0][0\n",
      "                                                                 tf.__operators__.getitem_297[0][0\n",
      "                                                                 tf.__operators__.getitem_298[0][0\n",
      "                                                                 tf.__operators__.getitem_299[0][0\n",
      "                                                                 tf.__operators__.getitem_300[0][0\n",
      "                                                                 tf.__operators__.getitem_301[0][0\n",
      "                                                                 tf.__operators__.getitem_302[0][0\n",
      "                                                                 tf.__operators__.getitem_303[0][0\n",
      "                                                                 tf.__operators__.getitem_304[0][0\n",
      "                                                                 tf.__operators__.getitem_305[0][0\n",
      "                                                                 tf.__operators__.getitem_306[0][0\n",
      "                                                                 tf.__operators__.getitem_307[0][0\n",
      "                                                                 tf.__operators__.getitem_308[0][0\n",
      "                                                                 tf.__operators__.getitem_309[0][0\n",
      "                                                                 tf.__operators__.getitem_310[0][0\n",
      "                                                                 tf.__operators__.getitem_311[0][0\n",
      "                                                                 tf.__operators__.getitem_312[0][0\n",
      "                                                                 tf.__operators__.getitem_313[0][0\n",
      "                                                                 tf.__operators__.getitem_314[0][0\n",
      "                                                                 tf.__operators__.getitem_315[0][0\n",
      "                                                                 tf.__operators__.getitem_316[0][0\n",
      "                                                                 tf.__operators__.getitem_317[0][0\n",
      "                                                                 tf.__operators__.getitem_318[0][0\n",
      "                                                                 tf.__operators__.getitem_319[0][0\n",
      "                                                                 tf.__operators__.getitem_320[0][0\n",
      "                                                                 tf.__operators__.getitem_321[0][0\n",
      "                                                                 tf.__operators__.getitem_322[0][0\n",
      "                                                                 tf.__operators__.getitem_323[0][0\n",
      "                                                                 tf.__operators__.getitem_324[0][0\n",
      "                                                                 tf.__operators__.getitem_325[0][0\n",
      "                                                                 tf.__operators__.getitem_326[0][0\n",
      "                                                                 tf.__operators__.getitem_327[0][0\n",
      "                                                                 tf.__operators__.getitem_328[0][0\n",
      "                                                                 tf.__operators__.getitem_329[0][0\n",
      "                                                                 tf.__operators__.getitem_330[0][0\n",
      "                                                                 tf.__operators__.getitem_331[0][0\n",
      "                                                                 tf.__operators__.getitem_332[0][0\n",
      "                                                                 tf.__operators__.getitem_333[0][0\n",
      "                                                                 tf.__operators__.getitem_334[0][0\n",
      "                                                                 tf.__operators__.getitem_335[0][0\n",
      "                                                                 tf.__operators__.getitem_336[0][0\n",
      "                                                                 tf.__operators__.getitem_337[0][0\n",
      "                                                                 tf.__operators__.getitem_338[0][0\n",
      "                                                                 tf.__operators__.getitem_339[0][0\n",
      "                                                                 tf.__operators__.getitem_340[0][0\n",
      "                                                                 tf.__operators__.getitem_341[0][0\n",
      "                                                                 tf.__operators__.getitem_342[0][0\n",
      "                                                                 tf.__operators__.getitem_343[0][0\n",
      "                                                                 tf.__operators__.getitem_344[0][0\n",
      "                                                                 tf.__operators__.getitem_345[0][0\n",
      "                                                                 tf.__operators__.getitem_346[0][0\n",
      "                                                                 tf.__operators__.getitem_347[0][0\n",
      "                                                                 tf.__operators__.getitem_348[0][0\n",
      "                                                                 tf.__operators__.getitem_349[0][0\n",
      "                                                                 tf.__operators__.getitem_350[0][0\n",
      "                                                                 tf.__operators__.getitem_351[0][0\n",
      "                                                                 tf.__operators__.getitem_352[0][0\n",
      "                                                                 tf.__operators__.getitem_353[0][0\n",
      "                                                                 tf.__operators__.getitem_354[0][0\n",
      "                                                                 tf.__operators__.getitem_355[0][0\n",
      "                                                                 tf.__operators__.getitem_356[0][0\n",
      "                                                                 tf.__operators__.getitem_357[0][0\n",
      "                                                                 tf.__operators__.getitem_358[0][0\n",
      "                                                                 tf.__operators__.getitem_359[0][0\n",
      "                                                                 tf.__operators__.getitem_360[0][0\n",
      "                                                                 tf.__operators__.getitem_361[0][0\n",
      "                                                                 tf.__operators__.getitem_362[0][0\n",
      "                                                                 tf.__operators__.getitem_363[0][0\n",
      "                                                                 tf.__operators__.getitem_364[0][0\n",
      "                                                                 tf.__operators__.getitem_365[0][0\n",
      "                                                                 tf.__operators__.getitem_366[0][0\n",
      "                                                                 tf.__operators__.getitem_367[0][0\n",
      "                                                                 tf.__operators__.getitem_368[0][0\n",
      "                                                                 tf.__operators__.getitem_369[0][0\n",
      "                                                                 tf.__operators__.getitem_370[0][0\n",
      "                                                                 tf.__operators__.getitem_371[0][0\n",
      "                                                                 tf.__operators__.getitem_372[0][0\n",
      "                                                                 tf.__operators__.getitem_373[0][0\n",
      "__________________________________________________________________________________________________\n",
      "reshape_208 (Reshape)           (None, 1)            0           Quantum_Conv_Layer_1[0][0]       \n",
      "__________________________________________________________________________________________________\n",
      "reshape_209 (Reshape)           (None, 1)            0           Quantum_Conv_Layer_1[1][0]       \n",
      "__________________________________________________________________________________________________\n",
      "reshape_210 (Reshape)           (None, 1)            0           Quantum_Conv_Layer_1[2][0]       \n",
      "__________________________________________________________________________________________________\n",
      "reshape_211 (Reshape)           (None, 1)            0           Quantum_Conv_Layer_1[3][0]       \n",
      "__________________________________________________________________________________________________\n",
      "reshape_212 (Reshape)           (None, 1)            0           Quantum_Conv_Layer_1[4][0]       \n",
      "__________________________________________________________________________________________________\n",
      "reshape_213 (Reshape)           (None, 1)            0           Quantum_Conv_Layer_1[5][0]       \n",
      "__________________________________________________________________________________________________\n",
      "reshape_214 (Reshape)           (None, 1)            0           Quantum_Conv_Layer_1[6][0]       \n",
      "__________________________________________________________________________________________________\n",
      "reshape_215 (Reshape)           (None, 1)            0           Quantum_Conv_Layer_1[7][0]       \n",
      "__________________________________________________________________________________________________\n",
      "reshape_216 (Reshape)           (None, 1)            0           Quantum_Conv_Layer_1[8][0]       \n",
      "__________________________________________________________________________________________________\n",
      "reshape_217 (Reshape)           (None, 1)            0           Quantum_Conv_Layer_1[9][0]       \n",
      "__________________________________________________________________________________________________\n",
      "reshape_218 (Reshape)           (None, 1)            0           Quantum_Conv_Layer_1[10][0]      \n",
      "__________________________________________________________________________________________________\n",
      "reshape_219 (Reshape)           (None, 1)            0           Quantum_Conv_Layer_1[11][0]      \n",
      "__________________________________________________________________________________________________\n",
      "reshape_220 (Reshape)           (None, 1)            0           Quantum_Conv_Layer_1[12][0]      \n",
      "__________________________________________________________________________________________________\n",
      "reshape_221 (Reshape)           (None, 1)            0           Quantum_Conv_Layer_1[13][0]      \n",
      "__________________________________________________________________________________________________\n",
      "reshape_222 (Reshape)           (None, 1)            0           Quantum_Conv_Layer_1[14][0]      \n",
      "__________________________________________________________________________________________________\n",
      "reshape_223 (Reshape)           (None, 1)            0           Quantum_Conv_Layer_1[15][0]      \n",
      "__________________________________________________________________________________________________\n",
      "reshape_224 (Reshape)           (None, 1)            0           Quantum_Conv_Layer_1[16][0]      \n",
      "__________________________________________________________________________________________________\n",
      "reshape_225 (Reshape)           (None, 1)            0           Quantum_Conv_Layer_1[17][0]      \n",
      "__________________________________________________________________________________________________\n",
      "reshape_226 (Reshape)           (None, 1)            0           Quantum_Conv_Layer_1[18][0]      \n",
      "__________________________________________________________________________________________________\n",
      "reshape_227 (Reshape)           (None, 1)            0           Quantum_Conv_Layer_1[19][0]      \n",
      "__________________________________________________________________________________________________\n",
      "reshape_228 (Reshape)           (None, 1)            0           Quantum_Conv_Layer_1[20][0]      \n",
      "__________________________________________________________________________________________________\n",
      "reshape_229 (Reshape)           (None, 1)            0           Quantum_Conv_Layer_1[21][0]      \n",
      "__________________________________________________________________________________________________\n",
      "reshape_230 (Reshape)           (None, 1)            0           Quantum_Conv_Layer_1[22][0]      \n",
      "__________________________________________________________________________________________________\n",
      "reshape_231 (Reshape)           (None, 1)            0           Quantum_Conv_Layer_1[23][0]      \n",
      "__________________________________________________________________________________________________\n",
      "reshape_232 (Reshape)           (None, 1)            0           Quantum_Conv_Layer_1[24][0]      \n",
      "__________________________________________________________________________________________________\n",
      "reshape_233 (Reshape)           (None, 1)            0           Quantum_Conv_Layer_1[25][0]      \n",
      "__________________________________________________________________________________________________\n",
      "reshape_234 (Reshape)           (None, 1)            0           Quantum_Conv_Layer_1[26][0]      \n",
      "__________________________________________________________________________________________________\n",
      "reshape_235 (Reshape)           (None, 1)            0           Quantum_Conv_Layer_1[27][0]      \n",
      "__________________________________________________________________________________________________\n",
      "reshape_236 (Reshape)           (None, 1)            0           Quantum_Conv_Layer_1[28][0]      \n",
      "__________________________________________________________________________________________________\n",
      "reshape_237 (Reshape)           (None, 1)            0           Quantum_Conv_Layer_1[29][0]      \n",
      "__________________________________________________________________________________________________\n",
      "reshape_238 (Reshape)           (None, 1)            0           Quantum_Conv_Layer_1[30][0]      \n",
      "__________________________________________________________________________________________________\n",
      "reshape_239 (Reshape)           (None, 1)            0           Quantum_Conv_Layer_1[31][0]      \n",
      "__________________________________________________________________________________________________\n",
      "reshape_240 (Reshape)           (None, 1)            0           Quantum_Conv_Layer_1[32][0]      \n",
      "__________________________________________________________________________________________________\n",
      "reshape_241 (Reshape)           (None, 1)            0           Quantum_Conv_Layer_1[33][0]      \n",
      "__________________________________________________________________________________________________\n",
      "reshape_242 (Reshape)           (None, 1)            0           Quantum_Conv_Layer_1[34][0]      \n",
      "__________________________________________________________________________________________________\n",
      "reshape_243 (Reshape)           (None, 1)            0           Quantum_Conv_Layer_1[35][0]      \n",
      "__________________________________________________________________________________________________\n",
      "reshape_244 (Reshape)           (None, 1)            0           Quantum_Conv_Layer_1[36][0]      \n",
      "__________________________________________________________________________________________________\n",
      "reshape_245 (Reshape)           (None, 1)            0           Quantum_Conv_Layer_1[37][0]      \n",
      "__________________________________________________________________________________________________\n",
      "reshape_246 (Reshape)           (None, 1)            0           Quantum_Conv_Layer_1[38][0]      \n",
      "__________________________________________________________________________________________________\n",
      "reshape_247 (Reshape)           (None, 1)            0           Quantum_Conv_Layer_1[39][0]      \n",
      "__________________________________________________________________________________________________\n",
      "reshape_248 (Reshape)           (None, 1)            0           Quantum_Conv_Layer_1[40][0]      \n",
      "__________________________________________________________________________________________________\n",
      "reshape_249 (Reshape)           (None, 1)            0           Quantum_Conv_Layer_1[41][0]      \n",
      "__________________________________________________________________________________________________\n",
      "reshape_250 (Reshape)           (None, 1)            0           Quantum_Conv_Layer_1[42][0]      \n",
      "__________________________________________________________________________________________________\n",
      "reshape_251 (Reshape)           (None, 1)            0           Quantum_Conv_Layer_1[43][0]      \n",
      "__________________________________________________________________________________________________\n",
      "reshape_252 (Reshape)           (None, 1)            0           Quantum_Conv_Layer_1[44][0]      \n",
      "__________________________________________________________________________________________________\n",
      "reshape_253 (Reshape)           (None, 1)            0           Quantum_Conv_Layer_1[45][0]      \n",
      "__________________________________________________________________________________________________\n",
      "reshape_254 (Reshape)           (None, 1)            0           Quantum_Conv_Layer_1[46][0]      \n",
      "__________________________________________________________________________________________________\n",
      "reshape_255 (Reshape)           (None, 1)            0           Quantum_Conv_Layer_1[47][0]      \n",
      "__________________________________________________________________________________________________\n",
      "reshape_256 (Reshape)           (None, 1)            0           Quantum_Conv_Layer_1[48][0]      \n",
      "__________________________________________________________________________________________________\n",
      "reshape_257 (Reshape)           (None, 1)            0           Quantum_Conv_Layer_1[49][0]      \n",
      "__________________________________________________________________________________________________\n",
      "reshape_258 (Reshape)           (None, 1)            0           Quantum_Conv_Layer_1[50][0]      \n",
      "__________________________________________________________________________________________________\n",
      "reshape_259 (Reshape)           (None, 1)            0           Quantum_Conv_Layer_1[51][0]      \n",
      "__________________________________________________________________________________________________\n",
      "reshape_260 (Reshape)           (None, 1)            0           Quantum_Conv_Layer_1[52][0]      \n",
      "__________________________________________________________________________________________________\n",
      "reshape_261 (Reshape)           (None, 1)            0           Quantum_Conv_Layer_1[53][0]      \n",
      "__________________________________________________________________________________________________\n",
      "reshape_262 (Reshape)           (None, 1)            0           Quantum_Conv_Layer_1[54][0]      \n",
      "__________________________________________________________________________________________________\n",
      "reshape_263 (Reshape)           (None, 1)            0           Quantum_Conv_Layer_1[55][0]      \n",
      "__________________________________________________________________________________________________\n",
      "reshape_264 (Reshape)           (None, 1)            0           Quantum_Conv_Layer_1[56][0]      \n",
      "__________________________________________________________________________________________________\n",
      "reshape_265 (Reshape)           (None, 1)            0           Quantum_Conv_Layer_1[57][0]      \n",
      "__________________________________________________________________________________________________\n",
      "reshape_266 (Reshape)           (None, 1)            0           Quantum_Conv_Layer_1[58][0]      \n",
      "__________________________________________________________________________________________________\n",
      "reshape_267 (Reshape)           (None, 1)            0           Quantum_Conv_Layer_1[59][0]      \n",
      "__________________________________________________________________________________________________\n",
      "reshape_268 (Reshape)           (None, 1)            0           Quantum_Conv_Layer_1[60][0]      \n",
      "__________________________________________________________________________________________________\n",
      "reshape_269 (Reshape)           (None, 1)            0           Quantum_Conv_Layer_1[61][0]      \n",
      "__________________________________________________________________________________________________\n",
      "reshape_270 (Reshape)           (None, 1)            0           Quantum_Conv_Layer_1[62][0]      \n",
      "__________________________________________________________________________________________________\n",
      "reshape_271 (Reshape)           (None, 1)            0           Quantum_Conv_Layer_1[63][0]      \n",
      "__________________________________________________________________________________________________\n",
      "reshape_272 (Reshape)           (None, 1)            0           Quantum_Conv_Layer_1[64][0]      \n",
      "__________________________________________________________________________________________________\n",
      "reshape_273 (Reshape)           (None, 1)            0           Quantum_Conv_Layer_1[65][0]      \n",
      "__________________________________________________________________________________________________\n",
      "reshape_274 (Reshape)           (None, 1)            0           Quantum_Conv_Layer_1[66][0]      \n",
      "__________________________________________________________________________________________________\n",
      "reshape_275 (Reshape)           (None, 1)            0           Quantum_Conv_Layer_1[67][0]      \n",
      "__________________________________________________________________________________________________\n",
      "reshape_276 (Reshape)           (None, 1)            0           Quantum_Conv_Layer_1[68][0]      \n",
      "__________________________________________________________________________________________________\n",
      "reshape_277 (Reshape)           (None, 1)            0           Quantum_Conv_Layer_1[69][0]      \n",
      "__________________________________________________________________________________________________\n",
      "reshape_278 (Reshape)           (None, 1)            0           Quantum_Conv_Layer_1[70][0]      \n",
      "__________________________________________________________________________________________________\n",
      "reshape_279 (Reshape)           (None, 1)            0           Quantum_Conv_Layer_1[71][0]      \n",
      "__________________________________________________________________________________________________\n",
      "reshape_280 (Reshape)           (None, 1)            0           Quantum_Conv_Layer_1[72][0]      \n",
      "__________________________________________________________________________________________________\n",
      "reshape_281 (Reshape)           (None, 1)            0           Quantum_Conv_Layer_1[73][0]      \n",
      "__________________________________________________________________________________________________\n",
      "reshape_282 (Reshape)           (None, 1)            0           Quantum_Conv_Layer_1[74][0]      \n",
      "__________________________________________________________________________________________________\n",
      "reshape_283 (Reshape)           (None, 1)            0           Quantum_Conv_Layer_1[75][0]      \n",
      "__________________________________________________________________________________________________\n",
      "reshape_284 (Reshape)           (None, 1)            0           Quantum_Conv_Layer_1[76][0]      \n",
      "__________________________________________________________________________________________________\n",
      "reshape_285 (Reshape)           (None, 1)            0           Quantum_Conv_Layer_1[77][0]      \n",
      "__________________________________________________________________________________________________\n",
      "reshape_286 (Reshape)           (None, 1)            0           Quantum_Conv_Layer_1[78][0]      \n",
      "__________________________________________________________________________________________________\n",
      "reshape_287 (Reshape)           (None, 1)            0           Quantum_Conv_Layer_1[79][0]      \n",
      "__________________________________________________________________________________________________\n",
      "reshape_288 (Reshape)           (None, 1)            0           Quantum_Conv_Layer_1[80][0]      \n",
      "__________________________________________________________________________________________________\n",
      "reshape_289 (Reshape)           (None, 1)            0           Quantum_Conv_Layer_1[81][0]      \n",
      "__________________________________________________________________________________________________\n",
      "reshape_290 (Reshape)           (None, 1)            0           Quantum_Conv_Layer_1[82][0]      \n",
      "__________________________________________________________________________________________________\n",
      "reshape_291 (Reshape)           (None, 1)            0           Quantum_Conv_Layer_1[83][0]      \n",
      "__________________________________________________________________________________________________\n",
      "reshape_292 (Reshape)           (None, 1)            0           Quantum_Conv_Layer_1[84][0]      \n",
      "__________________________________________________________________________________________________\n",
      "reshape_293 (Reshape)           (None, 1)            0           Quantum_Conv_Layer_1[85][0]      \n",
      "__________________________________________________________________________________________________\n",
      "reshape_294 (Reshape)           (None, 1)            0           Quantum_Conv_Layer_1[86][0]      \n",
      "__________________________________________________________________________________________________\n",
      "reshape_295 (Reshape)           (None, 1)            0           Quantum_Conv_Layer_1[87][0]      \n",
      "__________________________________________________________________________________________________\n",
      "reshape_296 (Reshape)           (None, 1)            0           Quantum_Conv_Layer_1[88][0]      \n",
      "__________________________________________________________________________________________________\n",
      "reshape_297 (Reshape)           (None, 1)            0           Quantum_Conv_Layer_1[89][0]      \n",
      "__________________________________________________________________________________________________\n",
      "reshape_298 (Reshape)           (None, 1)            0           Quantum_Conv_Layer_1[90][0]      \n",
      "__________________________________________________________________________________________________\n",
      "reshape_299 (Reshape)           (None, 1)            0           Quantum_Conv_Layer_1[91][0]      \n",
      "__________________________________________________________________________________________________\n",
      "reshape_300 (Reshape)           (None, 1)            0           Quantum_Conv_Layer_1[92][0]      \n",
      "__________________________________________________________________________________________________\n",
      "reshape_301 (Reshape)           (None, 1)            0           Quantum_Conv_Layer_1[93][0]      \n",
      "__________________________________________________________________________________________________\n",
      "reshape_302 (Reshape)           (None, 1)            0           Quantum_Conv_Layer_1[94][0]      \n",
      "__________________________________________________________________________________________________\n",
      "reshape_303 (Reshape)           (None, 1)            0           Quantum_Conv_Layer_1[95][0]      \n",
      "__________________________________________________________________________________________________\n",
      "reshape_304 (Reshape)           (None, 1)            0           Quantum_Conv_Layer_1[96][0]      \n",
      "__________________________________________________________________________________________________\n",
      "reshape_305 (Reshape)           (None, 1)            0           Quantum_Conv_Layer_1[97][0]      \n",
      "__________________________________________________________________________________________________\n",
      "reshape_306 (Reshape)           (None, 1)            0           Quantum_Conv_Layer_1[98][0]      \n",
      "__________________________________________________________________________________________________\n",
      "reshape_307 (Reshape)           (None, 1)            0           Quantum_Conv_Layer_1[99][0]      \n",
      "__________________________________________________________________________________________________\n",
      "reshape_308 (Reshape)           (None, 1)            0           Quantum_Conv_Layer_1[100][0]     \n",
      "__________________________________________________________________________________________________\n",
      "reshape_309 (Reshape)           (None, 1)            0           Quantum_Conv_Layer_1[101][0]     \n",
      "__________________________________________________________________________________________________\n",
      "reshape_310 (Reshape)           (None, 1)            0           Quantum_Conv_Layer_1[102][0]     \n",
      "__________________________________________________________________________________________________\n",
      "reshape_311 (Reshape)           (None, 1)            0           Quantum_Conv_Layer_1[103][0]     \n",
      "__________________________________________________________________________________________________\n",
      "reshape_312 (Reshape)           (None, 1)            0           Quantum_Conv_Layer_1[104][0]     \n",
      "__________________________________________________________________________________________________\n",
      "reshape_313 (Reshape)           (None, 1)            0           Quantum_Conv_Layer_1[105][0]     \n",
      "__________________________________________________________________________________________________\n",
      "reshape_314 (Reshape)           (None, 1)            0           Quantum_Conv_Layer_1[106][0]     \n",
      "__________________________________________________________________________________________________\n",
      "reshape_315 (Reshape)           (None, 1)            0           Quantum_Conv_Layer_1[107][0]     \n",
      "__________________________________________________________________________________________________\n",
      "reshape_316 (Reshape)           (None, 1)            0           Quantum_Conv_Layer_1[108][0]     \n",
      "__________________________________________________________________________________________________\n",
      "reshape_317 (Reshape)           (None, 1)            0           Quantum_Conv_Layer_1[109][0]     \n",
      "__________________________________________________________________________________________________\n",
      "reshape_318 (Reshape)           (None, 1)            0           Quantum_Conv_Layer_1[110][0]     \n",
      "__________________________________________________________________________________________________\n",
      "reshape_319 (Reshape)           (None, 1)            0           Quantum_Conv_Layer_1[111][0]     \n",
      "__________________________________________________________________________________________________\n",
      "reshape_320 (Reshape)           (None, 1)            0           Quantum_Conv_Layer_1[112][0]     \n",
      "__________________________________________________________________________________________________\n",
      "reshape_321 (Reshape)           (None, 1)            0           Quantum_Conv_Layer_1[113][0]     \n",
      "__________________________________________________________________________________________________\n",
      "reshape_322 (Reshape)           (None, 1)            0           Quantum_Conv_Layer_1[114][0]     \n",
      "__________________________________________________________________________________________________\n",
      "reshape_323 (Reshape)           (None, 1)            0           Quantum_Conv_Layer_1[115][0]     \n",
      "__________________________________________________________________________________________________\n",
      "reshape_324 (Reshape)           (None, 1)            0           Quantum_Conv_Layer_1[116][0]     \n",
      "__________________________________________________________________________________________________\n",
      "reshape_325 (Reshape)           (None, 1)            0           Quantum_Conv_Layer_1[117][0]     \n",
      "__________________________________________________________________________________________________\n",
      "reshape_326 (Reshape)           (None, 1)            0           Quantum_Conv_Layer_1[118][0]     \n",
      "__________________________________________________________________________________________________\n",
      "reshape_327 (Reshape)           (None, 1)            0           Quantum_Conv_Layer_1[119][0]     \n",
      "__________________________________________________________________________________________________\n",
      "reshape_328 (Reshape)           (None, 1)            0           Quantum_Conv_Layer_1[120][0]     \n",
      "__________________________________________________________________________________________________\n",
      "reshape_329 (Reshape)           (None, 1)            0           Quantum_Conv_Layer_1[121][0]     \n",
      "__________________________________________________________________________________________________\n",
      "reshape_330 (Reshape)           (None, 1)            0           Quantum_Conv_Layer_1[122][0]     \n",
      "__________________________________________________________________________________________________\n",
      "reshape_331 (Reshape)           (None, 1)            0           Quantum_Conv_Layer_1[123][0]     \n",
      "__________________________________________________________________________________________________\n",
      "reshape_332 (Reshape)           (None, 1)            0           Quantum_Conv_Layer_1[124][0]     \n",
      "__________________________________________________________________________________________________\n",
      "reshape_333 (Reshape)           (None, 1)            0           Quantum_Conv_Layer_1[125][0]     \n",
      "__________________________________________________________________________________________________\n",
      "reshape_334 (Reshape)           (None, 1)            0           Quantum_Conv_Layer_1[126][0]     \n",
      "__________________________________________________________________________________________________\n",
      "reshape_335 (Reshape)           (None, 1)            0           Quantum_Conv_Layer_1[127][0]     \n",
      "__________________________________________________________________________________________________\n",
      "reshape_336 (Reshape)           (None, 1)            0           Quantum_Conv_Layer_1[128][0]     \n",
      "__________________________________________________________________________________________________\n",
      "reshape_337 (Reshape)           (None, 1)            0           Quantum_Conv_Layer_1[129][0]     \n",
      "__________________________________________________________________________________________________\n",
      "reshape_338 (Reshape)           (None, 1)            0           Quantum_Conv_Layer_1[130][0]     \n",
      "__________________________________________________________________________________________________\n",
      "reshape_339 (Reshape)           (None, 1)            0           Quantum_Conv_Layer_1[131][0]     \n",
      "__________________________________________________________________________________________________\n",
      "reshape_340 (Reshape)           (None, 1)            0           Quantum_Conv_Layer_1[132][0]     \n",
      "__________________________________________________________________________________________________\n",
      "reshape_341 (Reshape)           (None, 1)            0           Quantum_Conv_Layer_1[133][0]     \n",
      "__________________________________________________________________________________________________\n",
      "reshape_342 (Reshape)           (None, 1)            0           Quantum_Conv_Layer_1[134][0]     \n",
      "__________________________________________________________________________________________________\n",
      "reshape_343 (Reshape)           (None, 1)            0           Quantum_Conv_Layer_1[135][0]     \n",
      "__________________________________________________________________________________________________\n",
      "reshape_344 (Reshape)           (None, 1)            0           Quantum_Conv_Layer_1[136][0]     \n",
      "__________________________________________________________________________________________________\n",
      "reshape_345 (Reshape)           (None, 1)            0           Quantum_Conv_Layer_1[137][0]     \n",
      "__________________________________________________________________________________________________\n",
      "reshape_346 (Reshape)           (None, 1)            0           Quantum_Conv_Layer_1[138][0]     \n",
      "__________________________________________________________________________________________________\n",
      "reshape_347 (Reshape)           (None, 1)            0           Quantum_Conv_Layer_1[139][0]     \n",
      "__________________________________________________________________________________________________\n",
      "reshape_348 (Reshape)           (None, 1)            0           Quantum_Conv_Layer_1[140][0]     \n",
      "__________________________________________________________________________________________________\n",
      "reshape_349 (Reshape)           (None, 1)            0           Quantum_Conv_Layer_1[141][0]     \n",
      "__________________________________________________________________________________________________\n",
      "reshape_350 (Reshape)           (None, 1)            0           Quantum_Conv_Layer_1[142][0]     \n",
      "__________________________________________________________________________________________________\n",
      "reshape_351 (Reshape)           (None, 1)            0           Quantum_Conv_Layer_1[143][0]     \n",
      "__________________________________________________________________________________________________\n",
      "reshape_352 (Reshape)           (None, 1)            0           Quantum_Conv_Layer_1[144][0]     \n",
      "__________________________________________________________________________________________________\n",
      "reshape_353 (Reshape)           (None, 1)            0           Quantum_Conv_Layer_1[145][0]     \n",
      "__________________________________________________________________________________________________\n",
      "reshape_354 (Reshape)           (None, 1)            0           Quantum_Conv_Layer_1[146][0]     \n",
      "__________________________________________________________________________________________________\n",
      "reshape_355 (Reshape)           (None, 1)            0           Quantum_Conv_Layer_1[147][0]     \n",
      "__________________________________________________________________________________________________\n",
      "reshape_356 (Reshape)           (None, 1)            0           Quantum_Conv_Layer_1[148][0]     \n",
      "__________________________________________________________________________________________________\n",
      "reshape_357 (Reshape)           (None, 1)            0           Quantum_Conv_Layer_1[149][0]     \n",
      "__________________________________________________________________________________________________\n",
      "reshape_358 (Reshape)           (None, 1)            0           Quantum_Conv_Layer_1[150][0]     \n",
      "__________________________________________________________________________________________________\n",
      "reshape_359 (Reshape)           (None, 1)            0           Quantum_Conv_Layer_1[151][0]     \n",
      "__________________________________________________________________________________________________\n",
      "reshape_360 (Reshape)           (None, 1)            0           Quantum_Conv_Layer_1[152][0]     \n",
      "__________________________________________________________________________________________________\n",
      "reshape_361 (Reshape)           (None, 1)            0           Quantum_Conv_Layer_1[153][0]     \n",
      "__________________________________________________________________________________________________\n",
      "reshape_362 (Reshape)           (None, 1)            0           Quantum_Conv_Layer_1[154][0]     \n",
      "__________________________________________________________________________________________________\n",
      "reshape_363 (Reshape)           (None, 1)            0           Quantum_Conv_Layer_1[155][0]     \n",
      "__________________________________________________________________________________________________\n",
      "reshape_364 (Reshape)           (None, 1)            0           Quantum_Conv_Layer_1[156][0]     \n",
      "__________________________________________________________________________________________________\n",
      "reshape_365 (Reshape)           (None, 1)            0           Quantum_Conv_Layer_1[157][0]     \n",
      "__________________________________________________________________________________________________\n",
      "reshape_366 (Reshape)           (None, 1)            0           Quantum_Conv_Layer_1[158][0]     \n",
      "__________________________________________________________________________________________________\n",
      "reshape_367 (Reshape)           (None, 1)            0           Quantum_Conv_Layer_1[159][0]     \n",
      "__________________________________________________________________________________________________\n",
      "reshape_368 (Reshape)           (None, 1)            0           Quantum_Conv_Layer_1[160][0]     \n",
      "__________________________________________________________________________________________________\n",
      "reshape_369 (Reshape)           (None, 1)            0           Quantum_Conv_Layer_1[161][0]     \n",
      "__________________________________________________________________________________________________\n",
      "reshape_370 (Reshape)           (None, 1)            0           Quantum_Conv_Layer_1[162][0]     \n",
      "__________________________________________________________________________________________________\n",
      "reshape_371 (Reshape)           (None, 1)            0           Quantum_Conv_Layer_1[163][0]     \n",
      "__________________________________________________________________________________________________\n",
      "reshape_372 (Reshape)           (None, 1)            0           Quantum_Conv_Layer_1[164][0]     \n",
      "__________________________________________________________________________________________________\n",
      "reshape_373 (Reshape)           (None, 1)            0           Quantum_Conv_Layer_1[165][0]     \n",
      "__________________________________________________________________________________________________\n",
      "reshape_374 (Reshape)           (None, 1)            0           Quantum_Conv_Layer_1[166][0]     \n",
      "__________________________________________________________________________________________________\n",
      "reshape_375 (Reshape)           (None, 1)            0           Quantum_Conv_Layer_1[167][0]     \n",
      "__________________________________________________________________________________________________\n",
      "reshape_376 (Reshape)           (None, 1)            0           Quantum_Conv_Layer_1[168][0]     \n",
      "__________________________________________________________________________________________________\n",
      "concatenate_2 (Concatenate)     (None, 169)          0           reshape_208[0][0]                \n",
      "                                                                 reshape_209[0][0]                \n",
      "                                                                 reshape_210[0][0]                \n",
      "                                                                 reshape_211[0][0]                \n",
      "                                                                 reshape_212[0][0]                \n",
      "                                                                 reshape_213[0][0]                \n",
      "                                                                 reshape_214[0][0]                \n",
      "                                                                 reshape_215[0][0]                \n",
      "                                                                 reshape_216[0][0]                \n",
      "                                                                 reshape_217[0][0]                \n",
      "                                                                 reshape_218[0][0]                \n",
      "                                                                 reshape_219[0][0]                \n",
      "                                                                 reshape_220[0][0]                \n",
      "                                                                 reshape_221[0][0]                \n",
      "                                                                 reshape_222[0][0]                \n",
      "                                                                 reshape_223[0][0]                \n",
      "                                                                 reshape_224[0][0]                \n",
      "                                                                 reshape_225[0][0]                \n",
      "                                                                 reshape_226[0][0]                \n",
      "                                                                 reshape_227[0][0]                \n",
      "                                                                 reshape_228[0][0]                \n",
      "                                                                 reshape_229[0][0]                \n",
      "                                                                 reshape_230[0][0]                \n",
      "                                                                 reshape_231[0][0]                \n",
      "                                                                 reshape_232[0][0]                \n",
      "                                                                 reshape_233[0][0]                \n",
      "                                                                 reshape_234[0][0]                \n",
      "                                                                 reshape_235[0][0]                \n",
      "                                                                 reshape_236[0][0]                \n",
      "                                                                 reshape_237[0][0]                \n",
      "                                                                 reshape_238[0][0]                \n",
      "                                                                 reshape_239[0][0]                \n",
      "                                                                 reshape_240[0][0]                \n",
      "                                                                 reshape_241[0][0]                \n",
      "                                                                 reshape_242[0][0]                \n",
      "                                                                 reshape_243[0][0]                \n",
      "                                                                 reshape_244[0][0]                \n",
      "                                                                 reshape_245[0][0]                \n",
      "                                                                 reshape_246[0][0]                \n",
      "                                                                 reshape_247[0][0]                \n",
      "                                                                 reshape_248[0][0]                \n",
      "                                                                 reshape_249[0][0]                \n",
      "                                                                 reshape_250[0][0]                \n",
      "                                                                 reshape_251[0][0]                \n",
      "                                                                 reshape_252[0][0]                \n",
      "                                                                 reshape_253[0][0]                \n",
      "                                                                 reshape_254[0][0]                \n",
      "                                                                 reshape_255[0][0]                \n",
      "                                                                 reshape_256[0][0]                \n",
      "                                                                 reshape_257[0][0]                \n",
      "                                                                 reshape_258[0][0]                \n",
      "                                                                 reshape_259[0][0]                \n",
      "                                                                 reshape_260[0][0]                \n",
      "                                                                 reshape_261[0][0]                \n",
      "                                                                 reshape_262[0][0]                \n",
      "                                                                 reshape_263[0][0]                \n",
      "                                                                 reshape_264[0][0]                \n",
      "                                                                 reshape_265[0][0]                \n",
      "                                                                 reshape_266[0][0]                \n",
      "                                                                 reshape_267[0][0]                \n",
      "                                                                 reshape_268[0][0]                \n",
      "                                                                 reshape_269[0][0]                \n",
      "                                                                 reshape_270[0][0]                \n",
      "                                                                 reshape_271[0][0]                \n",
      "                                                                 reshape_272[0][0]                \n",
      "                                                                 reshape_273[0][0]                \n",
      "                                                                 reshape_274[0][0]                \n",
      "                                                                 reshape_275[0][0]                \n",
      "                                                                 reshape_276[0][0]                \n",
      "                                                                 reshape_277[0][0]                \n",
      "                                                                 reshape_278[0][0]                \n",
      "                                                                 reshape_279[0][0]                \n",
      "                                                                 reshape_280[0][0]                \n",
      "                                                                 reshape_281[0][0]                \n",
      "                                                                 reshape_282[0][0]                \n",
      "                                                                 reshape_283[0][0]                \n",
      "                                                                 reshape_284[0][0]                \n",
      "                                                                 reshape_285[0][0]                \n",
      "                                                                 reshape_286[0][0]                \n",
      "                                                                 reshape_287[0][0]                \n",
      "                                                                 reshape_288[0][0]                \n",
      "                                                                 reshape_289[0][0]                \n",
      "                                                                 reshape_290[0][0]                \n",
      "                                                                 reshape_291[0][0]                \n",
      "                                                                 reshape_292[0][0]                \n",
      "                                                                 reshape_293[0][0]                \n",
      "                                                                 reshape_294[0][0]                \n",
      "                                                                 reshape_295[0][0]                \n",
      "                                                                 reshape_296[0][0]                \n",
      "                                                                 reshape_297[0][0]                \n",
      "                                                                 reshape_298[0][0]                \n",
      "                                                                 reshape_299[0][0]                \n",
      "                                                                 reshape_300[0][0]                \n",
      "                                                                 reshape_301[0][0]                \n",
      "                                                                 reshape_302[0][0]                \n",
      "                                                                 reshape_303[0][0]                \n",
      "                                                                 reshape_304[0][0]                \n",
      "                                                                 reshape_305[0][0]                \n",
      "                                                                 reshape_306[0][0]                \n",
      "                                                                 reshape_307[0][0]                \n",
      "                                                                 reshape_308[0][0]                \n",
      "                                                                 reshape_309[0][0]                \n",
      "                                                                 reshape_310[0][0]                \n",
      "                                                                 reshape_311[0][0]                \n",
      "                                                                 reshape_312[0][0]                \n",
      "                                                                 reshape_313[0][0]                \n",
      "                                                                 reshape_314[0][0]                \n",
      "                                                                 reshape_315[0][0]                \n",
      "                                                                 reshape_316[0][0]                \n",
      "                                                                 reshape_317[0][0]                \n",
      "                                                                 reshape_318[0][0]                \n",
      "                                                                 reshape_319[0][0]                \n",
      "                                                                 reshape_320[0][0]                \n",
      "                                                                 reshape_321[0][0]                \n",
      "                                                                 reshape_322[0][0]                \n",
      "                                                                 reshape_323[0][0]                \n",
      "                                                                 reshape_324[0][0]                \n",
      "                                                                 reshape_325[0][0]                \n",
      "                                                                 reshape_326[0][0]                \n",
      "                                                                 reshape_327[0][0]                \n",
      "                                                                 reshape_328[0][0]                \n",
      "                                                                 reshape_329[0][0]                \n",
      "                                                                 reshape_330[0][0]                \n",
      "                                                                 reshape_331[0][0]                \n",
      "                                                                 reshape_332[0][0]                \n",
      "                                                                 reshape_333[0][0]                \n",
      "                                                                 reshape_334[0][0]                \n",
      "                                                                 reshape_335[0][0]                \n",
      "                                                                 reshape_336[0][0]                \n",
      "                                                                 reshape_337[0][0]                \n",
      "                                                                 reshape_338[0][0]                \n",
      "                                                                 reshape_339[0][0]                \n",
      "                                                                 reshape_340[0][0]                \n",
      "                                                                 reshape_341[0][0]                \n",
      "                                                                 reshape_342[0][0]                \n",
      "                                                                 reshape_343[0][0]                \n",
      "                                                                 reshape_344[0][0]                \n",
      "                                                                 reshape_345[0][0]                \n",
      "                                                                 reshape_346[0][0]                \n",
      "                                                                 reshape_347[0][0]                \n",
      "                                                                 reshape_348[0][0]                \n",
      "                                                                 reshape_349[0][0]                \n",
      "                                                                 reshape_350[0][0]                \n",
      "                                                                 reshape_351[0][0]                \n",
      "                                                                 reshape_352[0][0]                \n",
      "                                                                 reshape_353[0][0]                \n",
      "                                                                 reshape_354[0][0]                \n",
      "                                                                 reshape_355[0][0]                \n",
      "                                                                 reshape_356[0][0]                \n",
      "                                                                 reshape_357[0][0]                \n",
      "                                                                 reshape_358[0][0]                \n",
      "                                                                 reshape_359[0][0]                \n",
      "                                                                 reshape_360[0][0]                \n",
      "                                                                 reshape_361[0][0]                \n",
      "                                                                 reshape_362[0][0]                \n",
      "                                                                 reshape_363[0][0]                \n",
      "                                                                 reshape_364[0][0]                \n",
      "                                                                 reshape_365[0][0]                \n",
      "                                                                 reshape_366[0][0]                \n",
      "                                                                 reshape_367[0][0]                \n",
      "                                                                 reshape_368[0][0]                \n",
      "                                                                 reshape_369[0][0]                \n",
      "                                                                 reshape_370[0][0]                \n",
      "                                                                 reshape_371[0][0]                \n",
      "                                                                 reshape_372[0][0]                \n",
      "                                                                 reshape_373[0][0]                \n",
      "                                                                 reshape_374[0][0]                \n",
      "                                                                 reshape_375[0][0]                \n",
      "                                                                 reshape_376[0][0]                \n",
      "__________________________________________________________________________________________________\n",
      "reshape_377 (Reshape)           (None, 13, 13)       0           concatenate_2[0][0]              \n",
      "__________________________________________________________________________________________________\n",
      "tf.__operators__.getitem_374 (S (None, 3, 3)         0           reshape_377[0][0]                \n",
      "__________________________________________________________________________________________________\n",
      "tf.__operators__.getitem_375 (S (None, 3, 3)         0           reshape_377[0][0]                \n",
      "__________________________________________________________________________________________________\n",
      "tf.__operators__.getitem_376 (S (None, 3, 3)         0           reshape_377[0][0]                \n",
      "__________________________________________________________________________________________________\n",
      "tf.__operators__.getitem_377 (S (None, 3, 3)         0           reshape_377[0][0]                \n",
      "__________________________________________________________________________________________________\n",
      "tf.__operators__.getitem_378 (S (None, 3, 3)         0           reshape_377[0][0]                \n",
      "__________________________________________________________________________________________________\n",
      "tf.__operators__.getitem_379 (S (None, 3, 3)         0           reshape_377[0][0]                \n",
      "__________________________________________________________________________________________________\n",
      "tf.__operators__.getitem_380 (S (None, 3, 3)         0           reshape_377[0][0]                \n",
      "__________________________________________________________________________________________________\n",
      "tf.__operators__.getitem_381 (S (None, 3, 3)         0           reshape_377[0][0]                \n",
      "__________________________________________________________________________________________________\n",
      "tf.__operators__.getitem_382 (S (None, 3, 3)         0           reshape_377[0][0]                \n",
      "__________________________________________________________________________________________________\n",
      "tf.__operators__.getitem_383 (S (None, 3, 3)         0           reshape_377[0][0]                \n",
      "__________________________________________________________________________________________________\n",
      "tf.__operators__.getitem_384 (S (None, 3, 3)         0           reshape_377[0][0]                \n",
      "__________________________________________________________________________________________________\n",
      "tf.__operators__.getitem_385 (S (None, 3, 3)         0           reshape_377[0][0]                \n",
      "__________________________________________________________________________________________________\n",
      "tf.__operators__.getitem_386 (S (None, 3, 3)         0           reshape_377[0][0]                \n",
      "__________________________________________________________________________________________________\n",
      "tf.__operators__.getitem_387 (S (None, 3, 3)         0           reshape_377[0][0]                \n",
      "__________________________________________________________________________________________________\n",
      "tf.__operators__.getitem_388 (S (None, 3, 3)         0           reshape_377[0][0]                \n",
      "__________________________________________________________________________________________________\n",
      "tf.__operators__.getitem_389 (S (None, 3, 3)         0           reshape_377[0][0]                \n",
      "__________________________________________________________________________________________________\n",
      "tf.__operators__.getitem_390 (S (None, 3, 3)         0           reshape_377[0][0]                \n",
      "__________________________________________________________________________________________________\n",
      "tf.__operators__.getitem_391 (S (None, 3, 3)         0           reshape_377[0][0]                \n",
      "__________________________________________________________________________________________________\n",
      "tf.__operators__.getitem_392 (S (None, 3, 3)         0           reshape_377[0][0]                \n",
      "__________________________________________________________________________________________________\n",
      "tf.__operators__.getitem_393 (S (None, 3, 3)         0           reshape_377[0][0]                \n",
      "__________________________________________________________________________________________________\n",
      "tf.__operators__.getitem_394 (S (None, 3, 3)         0           reshape_377[0][0]                \n",
      "__________________________________________________________________________________________________\n",
      "tf.__operators__.getitem_395 (S (None, 3, 3)         0           reshape_377[0][0]                \n",
      "__________________________________________________________________________________________________\n",
      "tf.__operators__.getitem_396 (S (None, 3, 3)         0           reshape_377[0][0]                \n",
      "__________________________________________________________________________________________________\n",
      "tf.__operators__.getitem_397 (S (None, 3, 3)         0           reshape_377[0][0]                \n",
      "__________________________________________________________________________________________________\n",
      "tf.__operators__.getitem_398 (S (None, 3, 3)         0           reshape_377[0][0]                \n",
      "__________________________________________________________________________________________________\n",
      "tf.__operators__.getitem_399 (S (None, 3, 3)         0           reshape_377[0][0]                \n",
      "__________________________________________________________________________________________________\n",
      "tf.__operators__.getitem_400 (S (None, 3, 3)         0           reshape_377[0][0]                \n",
      "__________________________________________________________________________________________________\n",
      "tf.__operators__.getitem_401 (S (None, 3, 3)         0           reshape_377[0][0]                \n",
      "__________________________________________________________________________________________________\n",
      "tf.__operators__.getitem_402 (S (None, 3, 3)         0           reshape_377[0][0]                \n",
      "__________________________________________________________________________________________________\n",
      "tf.__operators__.getitem_403 (S (None, 3, 3)         0           reshape_377[0][0]                \n",
      "__________________________________________________________________________________________________\n",
      "tf.__operators__.getitem_404 (S (None, 3, 3)         0           reshape_377[0][0]                \n",
      "__________________________________________________________________________________________________\n",
      "tf.__operators__.getitem_405 (S (None, 3, 3)         0           reshape_377[0][0]                \n",
      "__________________________________________________________________________________________________\n",
      "tf.__operators__.getitem_406 (S (None, 3, 3)         0           reshape_377[0][0]                \n",
      "__________________________________________________________________________________________________\n",
      "tf.__operators__.getitem_407 (S (None, 3, 3)         0           reshape_377[0][0]                \n",
      "__________________________________________________________________________________________________\n",
      "tf.__operators__.getitem_408 (S (None, 3, 3)         0           reshape_377[0][0]                \n",
      "__________________________________________________________________________________________________\n",
      "tf.__operators__.getitem_409 (S (None, 3, 3)         0           reshape_377[0][0]                \n",
      "__________________________________________________________________________________________________\n",
      "Quantum_Conv_Layer_2 (KerasLaye (None, 1)            36          tf.__operators__.getitem_374[0][0\n",
      "                                                                 tf.__operators__.getitem_375[0][0\n",
      "                                                                 tf.__operators__.getitem_376[0][0\n",
      "                                                                 tf.__operators__.getitem_377[0][0\n",
      "                                                                 tf.__operators__.getitem_378[0][0\n",
      "                                                                 tf.__operators__.getitem_379[0][0\n",
      "                                                                 tf.__operators__.getitem_380[0][0\n",
      "                                                                 tf.__operators__.getitem_381[0][0\n",
      "                                                                 tf.__operators__.getitem_382[0][0\n",
      "                                                                 tf.__operators__.getitem_383[0][0\n",
      "                                                                 tf.__operators__.getitem_384[0][0\n",
      "                                                                 tf.__operators__.getitem_385[0][0\n",
      "                                                                 tf.__operators__.getitem_386[0][0\n",
      "                                                                 tf.__operators__.getitem_387[0][0\n",
      "                                                                 tf.__operators__.getitem_388[0][0\n",
      "                                                                 tf.__operators__.getitem_389[0][0\n",
      "                                                                 tf.__operators__.getitem_390[0][0\n",
      "                                                                 tf.__operators__.getitem_391[0][0\n",
      "                                                                 tf.__operators__.getitem_392[0][0\n",
      "                                                                 tf.__operators__.getitem_393[0][0\n",
      "                                                                 tf.__operators__.getitem_394[0][0\n",
      "                                                                 tf.__operators__.getitem_395[0][0\n",
      "                                                                 tf.__operators__.getitem_396[0][0\n",
      "                                                                 tf.__operators__.getitem_397[0][0\n",
      "                                                                 tf.__operators__.getitem_398[0][0\n",
      "                                                                 tf.__operators__.getitem_399[0][0\n",
      "                                                                 tf.__operators__.getitem_400[0][0\n",
      "                                                                 tf.__operators__.getitem_401[0][0\n",
      "                                                                 tf.__operators__.getitem_402[0][0\n",
      "                                                                 tf.__operators__.getitem_403[0][0\n",
      "                                                                 tf.__operators__.getitem_404[0][0\n",
      "                                                                 tf.__operators__.getitem_405[0][0\n",
      "                                                                 tf.__operators__.getitem_406[0][0\n",
      "                                                                 tf.__operators__.getitem_407[0][0\n",
      "                                                                 tf.__operators__.getitem_408[0][0\n",
      "                                                                 tf.__operators__.getitem_409[0][0\n",
      "__________________________________________________________________________________________________\n",
      "reshape_378 (Reshape)           (None, 1)            0           Quantum_Conv_Layer_2[0][0]       \n",
      "__________________________________________________________________________________________________\n",
      "reshape_379 (Reshape)           (None, 1)            0           Quantum_Conv_Layer_2[1][0]       \n",
      "__________________________________________________________________________________________________\n",
      "reshape_380 (Reshape)           (None, 1)            0           Quantum_Conv_Layer_2[2][0]       \n",
      "__________________________________________________________________________________________________\n",
      "reshape_381 (Reshape)           (None, 1)            0           Quantum_Conv_Layer_2[3][0]       \n",
      "__________________________________________________________________________________________________\n",
      "reshape_382 (Reshape)           (None, 1)            0           Quantum_Conv_Layer_2[4][0]       \n",
      "__________________________________________________________________________________________________\n",
      "reshape_383 (Reshape)           (None, 1)            0           Quantum_Conv_Layer_2[5][0]       \n",
      "__________________________________________________________________________________________________\n",
      "reshape_384 (Reshape)           (None, 1)            0           Quantum_Conv_Layer_2[6][0]       \n",
      "__________________________________________________________________________________________________\n",
      "reshape_385 (Reshape)           (None, 1)            0           Quantum_Conv_Layer_2[7][0]       \n",
      "__________________________________________________________________________________________________\n",
      "reshape_386 (Reshape)           (None, 1)            0           Quantum_Conv_Layer_2[8][0]       \n",
      "__________________________________________________________________________________________________\n",
      "reshape_387 (Reshape)           (None, 1)            0           Quantum_Conv_Layer_2[9][0]       \n",
      "__________________________________________________________________________________________________\n",
      "reshape_388 (Reshape)           (None, 1)            0           Quantum_Conv_Layer_2[10][0]      \n",
      "__________________________________________________________________________________________________\n",
      "reshape_389 (Reshape)           (None, 1)            0           Quantum_Conv_Layer_2[11][0]      \n",
      "__________________________________________________________________________________________________\n",
      "reshape_390 (Reshape)           (None, 1)            0           Quantum_Conv_Layer_2[12][0]      \n",
      "__________________________________________________________________________________________________\n",
      "reshape_391 (Reshape)           (None, 1)            0           Quantum_Conv_Layer_2[13][0]      \n",
      "__________________________________________________________________________________________________\n",
      "reshape_392 (Reshape)           (None, 1)            0           Quantum_Conv_Layer_2[14][0]      \n",
      "__________________________________________________________________________________________________\n",
      "reshape_393 (Reshape)           (None, 1)            0           Quantum_Conv_Layer_2[15][0]      \n",
      "__________________________________________________________________________________________________\n",
      "reshape_394 (Reshape)           (None, 1)            0           Quantum_Conv_Layer_2[16][0]      \n",
      "__________________________________________________________________________________________________\n",
      "reshape_395 (Reshape)           (None, 1)            0           Quantum_Conv_Layer_2[17][0]      \n",
      "__________________________________________________________________________________________________\n",
      "reshape_396 (Reshape)           (None, 1)            0           Quantum_Conv_Layer_2[18][0]      \n",
      "__________________________________________________________________________________________________\n",
      "reshape_397 (Reshape)           (None, 1)            0           Quantum_Conv_Layer_2[19][0]      \n",
      "__________________________________________________________________________________________________\n",
      "reshape_398 (Reshape)           (None, 1)            0           Quantum_Conv_Layer_2[20][0]      \n",
      "__________________________________________________________________________________________________\n",
      "reshape_399 (Reshape)           (None, 1)            0           Quantum_Conv_Layer_2[21][0]      \n",
      "__________________________________________________________________________________________________\n",
      "reshape_400 (Reshape)           (None, 1)            0           Quantum_Conv_Layer_2[22][0]      \n",
      "__________________________________________________________________________________________________\n",
      "reshape_401 (Reshape)           (None, 1)            0           Quantum_Conv_Layer_2[23][0]      \n",
      "__________________________________________________________________________________________________\n",
      "reshape_402 (Reshape)           (None, 1)            0           Quantum_Conv_Layer_2[24][0]      \n",
      "__________________________________________________________________________________________________\n",
      "reshape_403 (Reshape)           (None, 1)            0           Quantum_Conv_Layer_2[25][0]      \n",
      "__________________________________________________________________________________________________\n",
      "reshape_404 (Reshape)           (None, 1)            0           Quantum_Conv_Layer_2[26][0]      \n",
      "__________________________________________________________________________________________________\n",
      "reshape_405 (Reshape)           (None, 1)            0           Quantum_Conv_Layer_2[27][0]      \n",
      "__________________________________________________________________________________________________\n",
      "reshape_406 (Reshape)           (None, 1)            0           Quantum_Conv_Layer_2[28][0]      \n",
      "__________________________________________________________________________________________________\n",
      "reshape_407 (Reshape)           (None, 1)            0           Quantum_Conv_Layer_2[29][0]      \n",
      "__________________________________________________________________________________________________\n",
      "reshape_408 (Reshape)           (None, 1)            0           Quantum_Conv_Layer_2[30][0]      \n",
      "__________________________________________________________________________________________________\n",
      "reshape_409 (Reshape)           (None, 1)            0           Quantum_Conv_Layer_2[31][0]      \n",
      "__________________________________________________________________________________________________\n",
      "reshape_410 (Reshape)           (None, 1)            0           Quantum_Conv_Layer_2[32][0]      \n",
      "__________________________________________________________________________________________________\n",
      "reshape_411 (Reshape)           (None, 1)            0           Quantum_Conv_Layer_2[33][0]      \n",
      "__________________________________________________________________________________________________\n",
      "reshape_412 (Reshape)           (None, 1)            0           Quantum_Conv_Layer_2[34][0]      \n",
      "__________________________________________________________________________________________________\n",
      "reshape_413 (Reshape)           (None, 1)            0           Quantum_Conv_Layer_2[35][0]      \n",
      "__________________________________________________________________________________________________\n",
      "concatenate_3 (Concatenate)     (None, 36)           0           reshape_378[0][0]                \n",
      "                                                                 reshape_379[0][0]                \n",
      "                                                                 reshape_380[0][0]                \n",
      "                                                                 reshape_381[0][0]                \n",
      "                                                                 reshape_382[0][0]                \n",
      "                                                                 reshape_383[0][0]                \n",
      "                                                                 reshape_384[0][0]                \n",
      "                                                                 reshape_385[0][0]                \n",
      "                                                                 reshape_386[0][0]                \n",
      "                                                                 reshape_387[0][0]                \n",
      "                                                                 reshape_388[0][0]                \n",
      "                                                                 reshape_389[0][0]                \n",
      "                                                                 reshape_390[0][0]                \n",
      "                                                                 reshape_391[0][0]                \n",
      "                                                                 reshape_392[0][0]                \n",
      "                                                                 reshape_393[0][0]                \n",
      "                                                                 reshape_394[0][0]                \n",
      "                                                                 reshape_395[0][0]                \n",
      "                                                                 reshape_396[0][0]                \n",
      "                                                                 reshape_397[0][0]                \n",
      "                                                                 reshape_398[0][0]                \n",
      "                                                                 reshape_399[0][0]                \n",
      "                                                                 reshape_400[0][0]                \n",
      "                                                                 reshape_401[0][0]                \n",
      "                                                                 reshape_402[0][0]                \n",
      "                                                                 reshape_403[0][0]                \n",
      "                                                                 reshape_404[0][0]                \n",
      "                                                                 reshape_405[0][0]                \n",
      "                                                                 reshape_406[0][0]                \n",
      "                                                                 reshape_407[0][0]                \n",
      "                                                                 reshape_408[0][0]                \n",
      "                                                                 reshape_409[0][0]                \n",
      "                                                                 reshape_410[0][0]                \n",
      "                                                                 reshape_411[0][0]                \n",
      "                                                                 reshape_412[0][0]                \n",
      "                                                                 reshape_413[0][0]                \n",
      "__________________________________________________________________________________________________\n",
      "reshape_414 (Reshape)           (None, 6, 6, 1)      0           concatenate_3[0][0]              \n",
      "__________________________________________________________________________________________________\n",
      "Max_Pool_Layer (MaxPooling2D)   (None, 3, 3, 1)      0           reshape_414[0][0]                \n",
      "__________________________________________________________________________________________________\n",
      "reshape_415 (Reshape)           (None, 9)            0           Max_Pool_Layer[0][0]             \n",
      "__________________________________________________________________________________________________\n",
      "keras_layer_1 (KerasLayer)      (None, 4)            36          reshape_415[0][0]                \n",
      "__________________________________________________________________________________________________\n",
      "class_weights_1 (class_weights) (None, 4)            4           keras_layer_1[0][0]              \n",
      "==================================================================================================\n",
      "Total params: 112\n",
      "Trainable params: 112\n",
      "Non-trainable params: 0\n",
      "__________________________________________________________________________________________________\n"
     ]
    }
   ],
   "source": [
    "model.summary()"
   ]
  },
  {
   "cell_type": "code",
   "execution_count": 38,
   "metadata": {},
   "outputs": [
    {
     "data": {
      "text/plain": [
       "{'loss': [0.17096687853336334,\n",
       "  0.10371827334165573,\n",
       "  0.08069191873073578,\n",
       "  0.0615154467523098,\n",
       "  0.05376540124416351,\n",
       "  0.0523982048034668,\n",
       "  0.0524703748524189,\n",
       "  0.05090343952178955,\n",
       "  0.04984511435031891,\n",
       "  0.050022516399621964],\n",
       " 'accuracy': [0.23749999701976776,\n",
       "  0.26124998927116394,\n",
       "  0.44999998807907104,\n",
       "  0.6137499809265137,\n",
       "  0.6462500095367432,\n",
       "  0.6537500023841858,\n",
       "  0.65625,\n",
       "  0.6800000071525574,\n",
       "  0.6837499737739563,\n",
       "  0.7037500143051147],\n",
       " 'val_loss': [0.11627619713544846,\n",
       "  0.11223635822534561,\n",
       "  0.08042151480913162,\n",
       "  0.06282687187194824,\n",
       "  0.059095434844493866,\n",
       "  0.06476862728595734,\n",
       "  0.0595523826777935,\n",
       "  0.05885527282953262,\n",
       "  0.05412958189845085,\n",
       "  0.05203157290816307],\n",
       " 'val_accuracy': [0.25,\n",
       "  0.41999998688697815,\n",
       "  0.5149999856948853,\n",
       "  0.5899999737739563,\n",
       "  0.6050000190734863,\n",
       "  0.6200000047683716,\n",
       "  0.6299999952316284,\n",
       "  0.6600000262260437,\n",
       "  0.699999988079071,\n",
       "  0.6899999976158142]}"
      ]
     },
     "execution_count": 38,
     "metadata": {},
     "output_type": "execute_result"
    }
   ],
   "source": [
    "# best first 10 epochs\n",
    "H.history"
   ]
  },
  {
   "cell_type": "code",
   "execution_count": 41,
   "metadata": {},
   "outputs": [
    {
     "data": {
      "text/plain": [
       "{'loss': [0.04735717922449112, 0.04525240510702133, 0.046018075197935104],\n",
       " 'accuracy': [0.699999988079071, 0.7275000214576721, 0.7450000047683716],\n",
       " 'val_loss': [0.05221995338797569, 0.05019545182585716, 0.05287088453769684],\n",
       " 'val_accuracy': [0.6600000262260437, 0.7099999785423279, 0.6650000214576721]}"
      ]
     },
     "execution_count": 41,
     "metadata": {},
     "output_type": "execute_result"
    }
   ],
   "source": [
    "H.history"
   ]
  },
  {
   "cell_type": "code",
   "execution_count": 39,
   "metadata": {},
   "outputs": [
    {
     "data": {
      "text/plain": [
       "[<tf.Variable 'model_1/Quantum_Conv_Layer_1/conv_params:0' shape=(2, 2, 9) dtype=float32, numpy=\n",
       " array([[[-2.9598436 ,  0.3716178 ,  0.48000816, -2.6687896 ,\n",
       "           1.4801524 ,  0.38794804,  1.3911159 , -1.0252677 ,\n",
       "          -1.0581573 ],\n",
       "         [ 2.178519  ,  0.3181092 , -0.45470372, -0.46304935,\n",
       "          -1.5537126 , -0.41695487, -0.03369746, -0.25906292,\n",
       "          -1.101097  ]],\n",
       " \n",
       "        [[ 0.46808168, -0.02797373, -0.01999639, -0.2689082 ,\n",
       "          -2.0617254 ,  1.2333943 ,  1.6223339 ,  0.71393824,\n",
       "          -0.96440226],\n",
       "         [ 0.7278081 ,  0.23754972,  0.03524697, -0.21460065,\n",
       "          -1.0412005 , -0.37866366,  1.0825651 , -0.25234276,\n",
       "          -0.9527081 ]]], dtype=float32)>,\n",
       " <tf.Variable 'model_1/Quantum_Conv_Layer_2/conv_params:0' shape=(2, 2, 9) dtype=float32, numpy=\n",
       " array([[[ 1.0146624 ,  2.2528083 ,  0.5254816 , -1.4097538 ,\n",
       "           2.5723155 ,  3.1251209 , -1.8490754 ,  1.5022521 ,\n",
       "          -1.1016043 ],\n",
       "         [-2.7652028 ,  0.04445422, -1.5965401 , -0.13003528,\n",
       "           1.4812211 , -0.3327034 ,  0.9434794 , -0.432167  ,\n",
       "          -0.1321387 ]],\n",
       " \n",
       "        [[-1.1330467 , -0.7644889 , -0.2056433 ,  0.1444806 ,\n",
       "           1.2240077 , -0.49397916, -0.8448764 ,  0.89069194,\n",
       "          -0.82493436],\n",
       "         [ 0.5338712 ,  0.45421833, -0.92468214,  0.4940558 ,\n",
       "           0.86608535,  0.1115306 , -0.2972199 , -0.2190957 ,\n",
       "          -0.2643885 ]]], dtype=float32)>,\n",
       " <tf.Variable 'model_1/keras_layer_1/params:0' shape=(2, 2, 9) dtype=float32, numpy=\n",
       " array([[[-0.1768404 , -0.6600531 ,  1.303331  ,  0.04441339,\n",
       "           0.6383292 ,  0.09629046, -1.56773   ,  0.608186  ,\n",
       "          -0.9121697 ],\n",
       "         [-0.5262254 ,  0.46934575, -0.16376083, -0.9665064 ,\n",
       "           1.3379115 ,  0.12120828,  0.02850281, -0.13684244,\n",
       "           0.25406677]],\n",
       " \n",
       "        [[-0.00209985, -0.0215512 , -0.25700945, -0.2887463 ,\n",
       "           0.47729573,  0.5984128 , -0.31207043,  1.1627448 ,\n",
       "           0.02648653],\n",
       "         [-0.29912257,  1.3314855 , -0.6536946 ,  0.00910055,\n",
       "           1.0309206 ,  0.11405334,  0.128765  ,  0.05124158,\n",
       "          -1.5210181 ]]], dtype=float32)>,\n",
       " <tf.Variable 'Variable:0' shape=(1, 4) dtype=float32, numpy=array([[1.2045878 , 1.2392848 , 0.51497066, 1.5453258 ]], dtype=float32)>]"
      ]
     },
     "execution_count": 39,
     "metadata": {},
     "output_type": "execute_result"
    }
   ],
   "source": [
    "#best first 10 epochs\n",
    "model.weights"
   ]
  },
  {
   "cell_type": "code",
   "execution_count": 42,
   "metadata": {},
   "outputs": [
    {
     "data": {
      "text/plain": [
       "[<tf.Variable 'model_1/Quantum_Conv_Layer_1/conv_params:0' shape=(2, 2, 9) dtype=float32, numpy=\n",
       " array([[[-2.9904091 ,  0.47873205,  0.51262283, -2.5594363 ,\n",
       "           1.2622604 , -0.23898347,  1.2999494 , -0.7331065 ,\n",
       "          -0.92392826],\n",
       "         [ 2.0915756 ,  0.3181092 , -0.456017  , -0.46304935,\n",
       "          -1.4806885 , -0.41695487,  0.03559908, -0.25906292,\n",
       "          -1.595919  ]],\n",
       " \n",
       "        [[ 0.03028841, -0.04068385,  0.01626368, -0.4585719 ,\n",
       "          -2.2702715 ,  1.2751739 ,  1.4227612 ,  0.8768421 ,\n",
       "          -1.0816092 ],\n",
       "         [ 0.5383543 ,  0.23754972,  0.07477647, -0.21460065,\n",
       "          -0.84343266, -0.37866366,  0.89809674, -0.25234276,\n",
       "          -1.134891  ]]], dtype=float32)>,\n",
       " <tf.Variable 'model_1/Quantum_Conv_Layer_2/conv_params:0' shape=(2, 2, 9) dtype=float32, numpy=\n",
       " array([[[ 0.87751925,  2.518178  ,  0.44218746, -1.2325302 ,\n",
       "           2.7474535 ,  3.2063673 , -2.652964  ,  1.4717548 ,\n",
       "          -1.399356  ],\n",
       "         [-2.6943564 ,  0.04445422, -1.857441  , -0.13003528,\n",
       "           1.5713997 , -0.3327034 ,  0.7032751 , -0.432167  ,\n",
       "          -0.33059508]],\n",
       " \n",
       "        [[-1.0170051 , -0.5144061 , -0.11212192,  0.20555846,\n",
       "           1.4457102 , -0.17652377, -1.4302204 ,  0.8715067 ,\n",
       "          -1.0187984 ],\n",
       "         [ 0.5147563 ,  0.45421833, -0.8938067 ,  0.4940558 ,\n",
       "           0.94038993,  0.1115306 , -0.22014579, -0.2190957 ,\n",
       "          -0.28234693]]], dtype=float32)>,\n",
       " <tf.Variable 'model_1/keras_layer_1/params:0' shape=(2, 2, 9) dtype=float32, numpy=\n",
       " array([[[-0.17686678, -0.6560562 ,  1.6976144 ,  0.12012887,\n",
       "           0.5712201 ,  0.01877986, -1.78467   ,  0.59782976,\n",
       "          -0.85332906],\n",
       "         [-0.3856994 ,  0.49263966, -0.1500699 , -1.2671279 ,\n",
       "           1.3949063 ,  0.1177576 ,  0.00610044, -0.09367248,\n",
       "           0.37699506]],\n",
       " \n",
       "        [[-0.00212052,  0.09990579, -0.42877778, -0.46051458,\n",
       "           0.4691464 ,  0.6186741 , -0.29180923,  1.0782442 ,\n",
       "           0.01312501],\n",
       "         [-0.31248426,  1.354407  , -0.8230382 , -0.16024311,\n",
       "           1.007813  ,  0.0339554 ,  0.04866699,  0.0504864 ,\n",
       "          -1.5918434 ]]], dtype=float32)>,\n",
       " <tf.Variable 'Variable:0' shape=(1, 4) dtype=float32, numpy=array([[1.1836079, 1.1653957, 0.6132468, 1.6752785]], dtype=float32)>]"
      ]
     },
     "execution_count": 42,
     "metadata": {},
     "output_type": "execute_result"
    }
   ],
   "source": [
    "# best after 13 epochs\n",
    "model.load_weights('./Model/4_QConv2ent_QFC_valacc.hdf5')\n",
    "model.weights"
   ]
  },
  {
   "cell_type": "markdown",
   "metadata": {},
   "source": [
    "# Exploring the results"
   ]
  },
  {
   "cell_type": "code",
   "execution_count": 26,
   "metadata": {},
   "outputs": [
    {
     "data": {
      "text/plain": [
       "((40, 729), (40,))"
      ]
     },
     "execution_count": 26,
     "metadata": {},
     "output_type": "execute_result"
    }
   ],
   "source": [
    "X_train = np.concatenate((x_train_list[0][:20, :], x_train_list[1][:20, :]), axis=0)\n",
    "Y_train = np.zeros((X_train.shape[0],), dtype=int)\n",
    "Y_train[20:] += 1\n",
    "\n",
    "X_train.shape, Y_train.shape"
   ]
  },
  {
   "cell_type": "code",
   "execution_count": 27,
   "metadata": {},
   "outputs": [
    {
     "data": {
      "text/plain": [
       "((40, 729), (40,))"
      ]
     },
     "execution_count": 27,
     "metadata": {},
     "output_type": "execute_result"
    }
   ],
   "source": [
    "X_test = np.concatenate((x_test_list[0][:20, :], x_test_list[1][:20, :]), axis=0)\n",
    "Y_test = np.zeros((X_test.shape[0],), dtype=int)\n",
    "Y_test[20:] += 1\n",
    "\n",
    "X_test.shape, Y_test.shape"
   ]
  },
  {
   "cell_type": "code",
   "execution_count": 28,
   "metadata": {},
   "outputs": [
    {
     "data": {
      "text/plain": [
       "((40, 27, 27), (40, 27, 27))"
      ]
     },
     "execution_count": 28,
     "metadata": {},
     "output_type": "execute_result"
    }
   ],
   "source": [
    "X_train = X_train.reshape(X_train.shape[0], 27, 27)\n",
    "X_test = X_test.reshape(X_test.shape[0], 27, 27)\n",
    "\n",
    "X_train.shape, X_test.shape"
   ]
  },
  {
   "cell_type": "markdown",
   "metadata": {},
   "source": [
    "## First Layer"
   ]
  },
  {
   "cell_type": "code",
   "execution_count": 29,
   "metadata": {},
   "outputs": [
    {
     "data": {
      "text/plain": [
       "(2, 1, 9)"
      ]
     },
     "execution_count": 29,
     "metadata": {},
     "output_type": "execute_result"
    }
   ],
   "source": [
    "qconv_1_weights = np.array([[[ 1.6704171 , -0.37210035, -1.4763509 , -0.09573141,\n",
    "          -1.4124248 , -0.5384489 , -1.5873678 , -0.4178921 ,\n",
    "           0.86764395]],\n",
    " \n",
    "        [[ 0.07841697,  0.06181896, -0.11658821,  0.08088297,\n",
    "          -0.22606611, -0.47507533,  0.20372277,  0.43287253,\n",
    "          -0.4662246 ]]])\n",
    "\n",
    "qconv_1_weights.shape"
   ]
  },
  {
   "cell_type": "code",
   "execution_count": 30,
   "metadata": {},
   "outputs": [],
   "source": [
    "# Input image, size = 27 x 27\n",
    "X = tf.keras.Input(shape=(27,27), name='Input_Layer')\n",
    "\n",
    "\n",
    "# Specs for Conv\n",
    "c_filter = 3\n",
    "c_strides = 2\n",
    "\n",
    "\n",
    "# First Quantum Conv Layer, trainable params = 18*L, output size = 13 x 13\n",
    "num_conv_layer_1 = 1\n",
    "q_conv_layer_1 = qml.qnn.KerasLayer(q_conv, {\"conv_params\": (2, num_conv_layer_1, 9)}, output_dim=(1), name='Quantum_Conv_Layer_1')\n",
    "size_1 = int(1+(X.shape[1]-c_filter)/c_strides)\n",
    "q_conv_layer_1_list = []\n",
    "# height iteration\n",
    "for i in range(size_1):\n",
    "    # width iteration\n",
    "    for j in range(size_1):\n",
    "        temp = q_conv_layer_1(X[:, 2*i:2*(i+1)+1, 2*j:2*(j+1)+1])\n",
    "        temp = tf.keras.layers.Reshape((1,))(temp)\n",
    "        q_conv_layer_1_list += [temp]\n",
    "concat_layer_1 = tf.keras.layers.Concatenate(axis=1)(q_conv_layer_1_list)\n",
    "reshape_layer_1 = tf.keras.layers.Reshape((size_1, size_1))(concat_layer_1)\n",
    "\n",
    "qconv1_model = tf.keras.Model(inputs=X, outputs=reshape_layer_1)\n"
   ]
  },
  {
   "cell_type": "code",
   "execution_count": 31,
   "metadata": {},
   "outputs": [],
   "source": [
    "qconv1_model(X_train[0:1])\n",
    "qconv1_model.get_layer('Quantum_Conv_Layer_1').set_weights([qconv_1_weights])"
   ]
  },
  {
   "cell_type": "code",
   "execution_count": 32,
   "metadata": {},
   "outputs": [
    {
     "data": {
      "text/plain": [
       "[<tf.Variable 'model_1/Quantum_Conv_Layer_1/conv_params:0' shape=(2, 1, 9) dtype=float32, numpy=\n",
       " array([[[ 1.6704171 , -0.37210035, -1.4763509 , -0.09573141,\n",
       "          -1.4124248 , -0.5384489 , -1.5873678 , -0.4178921 ,\n",
       "           0.86764395]],\n",
       " \n",
       "        [[ 0.07841697,  0.06181896, -0.11658821,  0.08088297,\n",
       "          -0.22606611, -0.47507533,  0.20372277,  0.43287253,\n",
       "          -0.4662246 ]]], dtype=float32)>]"
      ]
     },
     "execution_count": 32,
     "metadata": {},
     "output_type": "execute_result"
    }
   ],
   "source": [
    "qconv1_model.weights"
   ]
  },
  {
   "cell_type": "code",
   "execution_count": 33,
   "metadata": {},
   "outputs": [
    {
     "name": "stdout",
     "output_type": "stream",
     "text": [
      "(40, 169) (40, 169)\n"
     ]
    }
   ],
   "source": [
    "preprocessed_img_train = qconv1_model(X_train)\n",
    "\n",
    "preprocessed_img_test = qconv1_model(X_test)\n",
    "\n",
    "data_train = preprocessed_img_train.numpy().reshape(-1, 13*13)\n",
    "np.savetxt('./2_QConv2ent_QFC-Filter1_Image_Train.txt', data_train)\n",
    "\n",
    "data_test = preprocessed_img_test.numpy().reshape(-1, 13*13)\n",
    "np.savetxt('./2_QConv2ent_QFC-Filter1_Image_Test.txt', data_test)\n",
    "\n",
    "print(data_train.shape, data_test.shape)"
   ]
  },
  {
   "cell_type": "markdown",
   "metadata": {},
   "source": [
    "## Second Layer"
   ]
  },
  {
   "cell_type": "code",
   "execution_count": 34,
   "metadata": {},
   "outputs": [
    {
     "data": {
      "text/plain": [
       "(2, 1, 9)"
      ]
     },
     "execution_count": 34,
     "metadata": {},
     "output_type": "execute_result"
    }
   ],
   "source": [
    "qconv_2_weights = np.array([[[ 2.531285  , -0.53907233,  1.2279214 , -0.04873934,\n",
    "          -1.9625113 , -0.31179625,  1.4537607 , -0.3272767 ,\n",
    "           1.5368826 ]],\n",
    " \n",
    "        [[ 0.8165296 ,  0.3640772 ,  1.7864715 ,  0.5245018 ,\n",
    "          -1.6975542 , -0.21682522,  2.097541  ,  0.49968052,\n",
    "           2.2059586 ]]])\n",
    "\n",
    "qconv_2_weights.shape"
   ]
  },
  {
   "cell_type": "code",
   "execution_count": 35,
   "metadata": {},
   "outputs": [],
   "source": [
    "# Input image, size = 27 x 27\n",
    "X = tf.keras.Input(shape=(27,27), name='Input_Layer')\n",
    "\n",
    "\n",
    "# Specs for Conv\n",
    "c_filter = 3\n",
    "c_strides = 2\n",
    "\n",
    "\n",
    "# First Quantum Conv Layer, trainable params = 18*L, output size = 13 x 13\n",
    "num_conv_layer_1 = 1\n",
    "q_conv_layer_1 = qml.qnn.KerasLayer(q_conv, {\"conv_params\": (2, num_conv_layer_1, 9)}, output_dim=(1), name='Quantum_Conv_Layer_1')\n",
    "size_1 = int(1+(X.shape[1]-c_filter)/c_strides)\n",
    "q_conv_layer_1_list = []\n",
    "# height iteration\n",
    "for i in range(size_1):\n",
    "    # width iteration\n",
    "    for j in range(size_1):\n",
    "        temp = q_conv_layer_1(X[:, 2*i:2*(i+1)+1, 2*j:2*(j+1)+1])\n",
    "        temp = tf.keras.layers.Reshape((1,))(temp)\n",
    "        q_conv_layer_1_list += [temp]\n",
    "concat_layer_1 = tf.keras.layers.Concatenate(axis=1)(q_conv_layer_1_list)\n",
    "reshape_layer_1 = tf.keras.layers.Reshape((size_1, size_1))(concat_layer_1)\n",
    "\n",
    "\n",
    "# Second Quantum Conv Layer, trainable params = 18*L, output size = 6 x 6\n",
    "num_conv_layer_2 = 1\n",
    "q_conv_layer_2 = qml.qnn.KerasLayer(q_conv, {\"conv_params\": (2, num_conv_layer_2, 9)}, output_dim=(1), name='Quantum_Conv_Layer_2')\n",
    "size_2 = int(1+(reshape_layer_1.shape[1]-c_filter)/c_strides)\n",
    "q_conv_layer_2_list = []\n",
    "# height iteration\n",
    "for i in range(size_2):\n",
    "    # width iteration\n",
    "    for j in range(size_2):\n",
    "        temp = q_conv_layer_2(reshape_layer_1[:, 2*i:2*(i+1)+1, 2*j:2*(j+1)+1])\n",
    "        temp = tf.keras.layers.Reshape((1,))(temp)\n",
    "        q_conv_layer_2_list += [temp]\n",
    "concat_layer_2 = tf.keras.layers.Concatenate(axis=1)(q_conv_layer_2_list)\n",
    "reshape_layer_2 = tf.keras.layers.Reshape((size_2, size_2, 1))(concat_layer_2)\n",
    "\n",
    "qconv2_model = tf.keras.Model(inputs=X, outputs=reshape_layer_2)\n"
   ]
  },
  {
   "cell_type": "code",
   "execution_count": 36,
   "metadata": {},
   "outputs": [],
   "source": [
    "qconv2_model(X_train[0:1])\n",
    "qconv2_model.get_layer('Quantum_Conv_Layer_1').set_weights([qconv_1_weights])\n",
    "qconv2_model.get_layer('Quantum_Conv_Layer_2').set_weights([qconv_2_weights])"
   ]
  },
  {
   "cell_type": "code",
   "execution_count": 37,
   "metadata": {},
   "outputs": [
    {
     "data": {
      "text/plain": [
       "[<tf.Variable 'model_2/Quantum_Conv_Layer_1/conv_params:0' shape=(2, 1, 9) dtype=float32, numpy=\n",
       " array([[[ 1.6704171 , -0.37210035, -1.4763509 , -0.09573141,\n",
       "          -1.4124248 , -0.5384489 , -1.5873678 , -0.4178921 ,\n",
       "           0.86764395]],\n",
       " \n",
       "        [[ 0.07841697,  0.06181896, -0.11658821,  0.08088297,\n",
       "          -0.22606611, -0.47507533,  0.20372277,  0.43287253,\n",
       "          -0.4662246 ]]], dtype=float32)>,\n",
       " <tf.Variable 'model_2/Quantum_Conv_Layer_2/conv_params:0' shape=(2, 1, 9) dtype=float32, numpy=\n",
       " array([[[ 2.531285  , -0.53907233,  1.2279214 , -0.04873934,\n",
       "          -1.9625113 , -0.31179625,  1.4537607 , -0.3272767 ,\n",
       "           1.5368826 ]],\n",
       " \n",
       "        [[ 0.8165296 ,  0.3640772 ,  1.7864715 ,  0.5245018 ,\n",
       "          -1.6975542 , -0.21682522,  2.097541  ,  0.49968052,\n",
       "           2.2059586 ]]], dtype=float32)>]"
      ]
     },
     "execution_count": 37,
     "metadata": {},
     "output_type": "execute_result"
    }
   ],
   "source": [
    "qconv2_model.weights"
   ]
  },
  {
   "cell_type": "code",
   "execution_count": 38,
   "metadata": {},
   "outputs": [
    {
     "name": "stdout",
     "output_type": "stream",
     "text": [
      "(40, 36) (40, 36)\n"
     ]
    }
   ],
   "source": [
    "preprocessed_img_train = qconv2_model(X_train)\n",
    "\n",
    "preprocessed_img_test = qconv2_model(X_test)\n",
    "\n",
    "data_train = preprocessed_img_train.numpy().reshape(-1, 6*6)\n",
    "np.savetxt('./2_QConv2ent_QFC-Filter2_Image_Train.txt', data_train)\n",
    "\n",
    "data_test = preprocessed_img_test.numpy().reshape(-1, 6*6)\n",
    "np.savetxt('./2_QConv2ent_QFC-Filter2_Image_Test.txt', data_test)\n",
    "\n",
    "print(data_train.shape, data_test.shape)"
   ]
  },
  {
   "cell_type": "markdown",
   "metadata": {},
   "source": [
    "## Quantum States"
   ]
  },
  {
   "cell_type": "code",
   "execution_count": 39,
   "metadata": {},
   "outputs": [
    {
     "data": {
      "text/plain": [
       "(2, 1, 9)"
      ]
     },
     "execution_count": 39,
     "metadata": {},
     "output_type": "execute_result"
    }
   ],
   "source": [
    "q_fc_weights = np.array([[[ 0.3726357 , -1.0686979 ,  0.24734715,  2.5706375 ,\n",
    "           3.4816115 , -0.3167716 ,  1.2021828 ,  0.19082105,\n",
    "           0.0209959 ]],\n",
    " \n",
    "        [[-0.213224  ,  1.235254  ,  2.298314  ,  2.2815244 ,\n",
    "          -1.1340573 ,  0.8286312 ,  0.6926544 , -1.0297745 ,\n",
    "           0.14662777]]])\n",
    "\n",
    "q_fc_weights.shape"
   ]
  },
  {
   "cell_type": "code",
   "execution_count": 40,
   "metadata": {},
   "outputs": [],
   "source": [
    "pred_train = model.predict(X_train)\n",
    "pred_test = model.predict(X_test)"
   ]
  },
  {
   "cell_type": "code",
   "execution_count": 41,
   "metadata": {},
   "outputs": [
    {
     "data": {
      "text/plain": [
       "tensor([0, 0, 0, 0, 0, 0, 0, 0, 0, 0, 0, 0, 0, 0, 0, 0, 0, 0, 0, 0, 1, 1,\n",
       "        1, 1, 1, 0, 1, 1, 1, 1, 1, 1, 1, 1, 1, 1, 1, 1, 1, 1], requires_grad=True)"
      ]
     },
     "execution_count": 41,
     "metadata": {},
     "output_type": "execute_result"
    }
   ],
   "source": [
    "np.argmax(pred_train, axis=1)"
   ]
  },
  {
   "cell_type": "code",
   "execution_count": 42,
   "metadata": {},
   "outputs": [
    {
     "data": {
      "text/plain": [
       "tensor([0, 0, 0, 0, 0, 0, 0, 0, 0, 0, 0, 0, 0, 0, 0, 0, 0, 0, 0, 0, 1, 1,\n",
       "        1, 1, 1, 1, 1, 1, 1, 1, 1, 1, 1, 1, 1, 1, 1, 1, 1, 1], requires_grad=True)"
      ]
     },
     "execution_count": 42,
     "metadata": {},
     "output_type": "execute_result"
    }
   ],
   "source": [
    "np.argmax(pred_test, axis=1)"
   ]
  },
  {
   "cell_type": "code",
   "execution_count": 43,
   "metadata": {},
   "outputs": [],
   "source": [
    "# Input image, size = 27 x 27\n",
    "X = tf.keras.Input(shape=(27,27), name='Input_Layer')\n",
    "\n",
    "\n",
    "# Specs for Conv\n",
    "c_filter = 3\n",
    "c_strides = 2\n",
    "\n",
    "\n",
    "# First Quantum Conv Layer, trainable params = 18*L, output size = 13 x 13\n",
    "num_conv_layer_1 = 1\n",
    "q_conv_layer_1 = qml.qnn.KerasLayer(q_conv, {\"conv_params\": (2, num_conv_layer_1, 9)}, output_dim=(1), name='Quantum_Conv_Layer_1')\n",
    "size_1 = int(1+(X.shape[1]-c_filter)/c_strides)\n",
    "q_conv_layer_1_list = []\n",
    "# height iteration\n",
    "for i in range(size_1):\n",
    "    # width iteration\n",
    "    for j in range(size_1):\n",
    "        temp = q_conv_layer_1(X[:, 2*i:2*(i+1)+1, 2*j:2*(j+1)+1])\n",
    "        temp = tf.keras.layers.Reshape((1,))(temp)\n",
    "        q_conv_layer_1_list += [temp]\n",
    "concat_layer_1 = tf.keras.layers.Concatenate(axis=1)(q_conv_layer_1_list)\n",
    "reshape_layer_1 = tf.keras.layers.Reshape((size_1, size_1))(concat_layer_1)\n",
    "\n",
    "\n",
    "# Second Quantum Conv Layer, trainable params = 18*L, output size = 6 x 6\n",
    "num_conv_layer_2 = 1\n",
    "q_conv_layer_2 = qml.qnn.KerasLayer(q_conv, {\"conv_params\": (2, num_conv_layer_2, 9)}, output_dim=(1), name='Quantum_Conv_Layer_2')\n",
    "size_2 = int(1+(reshape_layer_1.shape[1]-c_filter)/c_strides)\n",
    "q_conv_layer_2_list = []\n",
    "# height iteration\n",
    "for i in range(size_2):\n",
    "    # width iteration\n",
    "    for j in range(size_2):\n",
    "        temp = q_conv_layer_2(reshape_layer_1[:, 2*i:2*(i+1)+1, 2*j:2*(j+1)+1])\n",
    "        temp = tf.keras.layers.Reshape((1,))(temp)\n",
    "        q_conv_layer_2_list += [temp]\n",
    "concat_layer_2 = tf.keras.layers.Concatenate(axis=1)(q_conv_layer_2_list)\n",
    "reshape_layer_2 = tf.keras.layers.Reshape((size_2, size_2, 1))(concat_layer_2)\n",
    "\n",
    "\n",
    "# Max Pooling Layer, output size = 9\n",
    "max_pool_layer = tf.keras.layers.MaxPooling2D(pool_size=(2, 2), strides=None, name='Max_Pool_Layer')(reshape_layer_2)\n",
    "reshape_layer_3 = tf.keras.layers.Reshape((9,))(max_pool_layer)\n",
    "\n",
    "maxpool_model = tf.keras.Model(inputs=X, outputs=reshape_layer_3)\n"
   ]
  },
  {
   "cell_type": "code",
   "execution_count": 44,
   "metadata": {},
   "outputs": [],
   "source": [
    "maxpool_model(X_train[0:1])\n",
    "maxpool_model.get_layer('Quantum_Conv_Layer_1').set_weights([qconv_1_weights])\n",
    "maxpool_model.get_layer('Quantum_Conv_Layer_2').set_weights([qconv_2_weights])"
   ]
  },
  {
   "cell_type": "code",
   "execution_count": 45,
   "metadata": {},
   "outputs": [
    {
     "data": {
      "text/plain": [
       "(TensorShape([40, 9]), TensorShape([40, 9]))"
      ]
     },
     "execution_count": 45,
     "metadata": {},
     "output_type": "execute_result"
    }
   ],
   "source": [
    "maxpool_train = maxpool_model(X_train)\n",
    "maxpool_test = maxpool_model(X_test)\n",
    "\n",
    "maxpool_train.shape, maxpool_test.shape"
   ]
  },
  {
   "cell_type": "code",
   "execution_count": 46,
   "metadata": {},
   "outputs": [],
   "source": [
    "n_qubits = 1  # number of class\n",
    "dev_state = qml.device(\"default.qubit\", wires=n_qubits)\n",
    "\n",
    "\n",
    "@qml.qnode(dev_state)\n",
    "def q_fc_state(params, inputs):\n",
    "    \n",
    "    # layer iteration\n",
    "    for l in range(len(params[0])):\n",
    "        # qubit iteration\n",
    "        for q in range(n_qubits):\n",
    "            # gate iteration\n",
    "            for g in range(int(len(inputs)/3)):\n",
    "                qml.Rot(*(params[0][l][3*g:3*(g+1)] * inputs[3*g:3*(g+1)] + params[1][l][3*g:3*(g+1)]), wires=q)\n",
    "    \n",
    "    #return [qml.expval(qml.Hermitian(density_matrix(state_labels[i]), wires=[i])) for i in range(n_qubits)]\n",
    "    return qml.expval(qml.Hermitian(density_matrix(state_labels[0]), wires=[0]))"
   ]
  },
  {
   "cell_type": "code",
   "execution_count": 47,
   "metadata": {},
   "outputs": [
    {
     "data": {
      "text/plain": [
       "tensor(1., requires_grad=True)"
      ]
     },
     "execution_count": 47,
     "metadata": {},
     "output_type": "execute_result"
    }
   ],
   "source": [
    "q_fc_state(np.zeros((2,1,9)), maxpool_train[0])"
   ]
  },
  {
   "cell_type": "code",
   "execution_count": 48,
   "metadata": {},
   "outputs": [
    {
     "data": {
      "text/plain": [
       "tensor(0.95763762, requires_grad=True)"
      ]
     },
     "execution_count": 48,
     "metadata": {},
     "output_type": "execute_result"
    }
   ],
   "source": [
    "q_fc_state(q_fc_weights, maxpool_train[0])"
   ]
  },
  {
   "cell_type": "code",
   "execution_count": 49,
   "metadata": {},
   "outputs": [],
   "source": [
    "train_state = np.zeros((len(X_train), 2), dtype=np.complex_)\n",
    "test_state = np.zeros((len(X_test), 2), dtype=np.complex_)\n",
    "\n",
    "for i in range(len(train_state)):\n",
    "    \n",
    "    q_fc_state(q_fc_weights, maxpool_train[i])\n",
    "    temp = np.flip(dev_state._state)\n",
    "    train_state[i, :] = temp\n",
    "    \n",
    "    q_fc_state(q_fc_weights, maxpool_test[i])\n",
    "    temp = np.flip(dev_state._state)\n",
    "    test_state[i, :] = temp"
   ]
  },
  {
   "cell_type": "code",
   "execution_count": 50,
   "metadata": {},
   "outputs": [
    {
     "name": "stdout",
     "output_type": "stream",
     "text": [
      "[ True  True  True  True  True  True  True  True  True  True  True  True\n",
      "  True  True  True  True  True  True  True  True False False False False\n",
      " False  True False False False False False False False False False False\n",
      " False False False False]\n",
      "[ True  True  True  True  True  True  True  True  True  True  True  True\n",
      "  True  True  True  True  True  True  True  True False False False False\n",
      " False False False False False False False False False False False False\n",
      " False False False False]\n"
     ]
    }
   ],
   "source": [
    "# sanity check\n",
    "\n",
    "print(((np.conj(train_state) @ density_matrix(state_labels[0])) * train_state)[:, 0] > 0.5)\n",
    "\n",
    "print(((np.conj(test_state) @ density_matrix(state_labels[0])) * test_state)[:, 0] > 0.5)"
   ]
  },
  {
   "cell_type": "code",
   "execution_count": 51,
   "metadata": {},
   "outputs": [],
   "source": [
    "np.savetxt('./2_QConv2ent_QFC-State_Train.txt', train_state)\n",
    "np.savetxt('./2_QConv2ent_QFC-State_Test.txt', test_state)"
   ]
  },
  {
   "cell_type": "markdown",
   "metadata": {},
   "source": [
    "## Random Starting State"
   ]
  },
  {
   "cell_type": "code",
   "execution_count": 84,
   "metadata": {},
   "outputs": [],
   "source": [
    "# Input image, size = 27 x 27\n",
    "X = tf.keras.Input(shape=(27,27), name='Input_Layer')\n",
    "\n",
    "\n",
    "# Specs for Conv\n",
    "c_filter = 3\n",
    "c_strides = 2\n",
    "\n",
    "\n",
    "# First Quantum Conv Layer, trainable params = 18*L, output size = 13 x 13\n",
    "num_conv_layer_1 = 1\n",
    "q_conv_layer_1 = qml.qnn.KerasLayer(q_conv, {\"conv_params\": (2, num_conv_layer_1, 9)}, output_dim=(1), name='Quantum_Conv_Layer_1')\n",
    "size_1 = int(1+(X.shape[1]-c_filter)/c_strides)\n",
    "q_conv_layer_1_list = []\n",
    "# height iteration\n",
    "for i in range(size_1):\n",
    "    # width iteration\n",
    "    for j in range(size_1):\n",
    "        temp = q_conv_layer_1(X[:, 2*i:2*(i+1)+1, 2*j:2*(j+1)+1])\n",
    "        temp = tf.keras.layers.Reshape((1,))(temp)\n",
    "        q_conv_layer_1_list += [temp]\n",
    "concat_layer_1 = tf.keras.layers.Concatenate(axis=1)(q_conv_layer_1_list)\n",
    "reshape_layer_1 = tf.keras.layers.Reshape((size_1, size_1))(concat_layer_1)\n",
    "\n",
    "\n",
    "# Second Quantum Conv Layer, trainable params = 18*L, output size = 6 x 6\n",
    "num_conv_layer_2 = 1\n",
    "q_conv_layer_2 = qml.qnn.KerasLayer(q_conv, {\"conv_params\": (2, num_conv_layer_2, 9)}, output_dim=(1), name='Quantum_Conv_Layer_2')\n",
    "size_2 = int(1+(reshape_layer_1.shape[1]-c_filter)/c_strides)\n",
    "q_conv_layer_2_list = []\n",
    "# height iteration\n",
    "for i in range(size_2):\n",
    "    # width iteration\n",
    "    for j in range(size_2):\n",
    "        temp = q_conv_layer_2(reshape_layer_1[:, 2*i:2*(i+1)+1, 2*j:2*(j+1)+1])\n",
    "        temp = tf.keras.layers.Reshape((1,))(temp)\n",
    "        q_conv_layer_2_list += [temp]\n",
    "concat_layer_2 = tf.keras.layers.Concatenate(axis=1)(q_conv_layer_2_list)\n",
    "reshape_layer_2 = tf.keras.layers.Reshape((size_2, size_2, 1))(concat_layer_2)\n",
    "\n",
    "\n",
    "# Max Pooling Layer, output size = 9\n",
    "max_pool_layer = tf.keras.layers.MaxPooling2D(pool_size=(2, 2), strides=None, name='Max_Pool_Layer')(reshape_layer_2)\n",
    "reshape_layer_3 = tf.keras.layers.Reshape((9,))(max_pool_layer)\n",
    "\n",
    "\n",
    "# Quantum FC Layer, trainable params = 18*L*n_class + 2, output size = 2\n",
    "num_fc_layer = 1\n",
    "q_fc_layer_0 = qml.qnn.KerasLayer(q_fc, {\"params\": (2, num_fc_layer, 9)}, output_dim=2)(reshape_layer_3)\n",
    "\n",
    "# Alpha Layer\n",
    "alpha_layer_0 = class_weights()(q_fc_layer_0)\n",
    "\n",
    "model_random = tf.keras.Model(inputs=X, outputs=alpha_layer_0)\n",
    "model_maxpool_random = tf.keras.Model(inputs=X, outputs=reshape_layer_3)"
   ]
  },
  {
   "cell_type": "code",
   "execution_count": 85,
   "metadata": {},
   "outputs": [
    {
     "data": {
      "text/plain": [
       "[<tf.Variable 'model_8/Quantum_Conv_Layer_1/conv_params:0' shape=(2, 1, 9) dtype=float32, numpy=\n",
       " array([[[-0.4889698 ,  0.2380408 ,  0.09439629, -0.26716974,\n",
       "           0.02344316, -0.06644684, -0.3357206 ,  0.3326074 ,\n",
       "          -0.06934038]],\n",
       " \n",
       "        [[ 0.3830526 ,  0.23494643,  0.41627997,  0.35118043,\n",
       "          -0.42000604,  0.25128657,  0.5226568 , -0.27474615,\n",
       "          -0.485173  ]]], dtype=float32)>,\n",
       " <tf.Variable 'model_8/Quantum_Conv_Layer_2/conv_params:0' shape=(2, 1, 9) dtype=float32, numpy=\n",
       " array([[[-0.12407106,  0.4605006 , -0.05004978, -0.00949878,\n",
       "          -0.4083493 ,  0.18536532, -0.2448183 , -0.32981884,\n",
       "          -0.38940096]],\n",
       " \n",
       "        [[-0.45641547, -0.41075683,  0.4251256 , -0.17653632,\n",
       "           0.01394123,  0.12382543, -0.23449615,  0.47272468,\n",
       "           0.31813556]]], dtype=float32)>,\n",
       " <tf.Variable 'model_8/keras_layer_4/params:0' shape=(2, 1, 9) dtype=float32, numpy=\n",
       " array([[[-0.4163184 ,  0.29198825,  0.49920654,  0.33594978,\n",
       "          -0.49212807,  0.00343066,  0.30105686, -0.15320912,\n",
       "          -0.5011647 ]],\n",
       " \n",
       "        [[ 0.41882396,  0.17975801,  0.3508029 ,  0.37545007,\n",
       "          -0.37378743,  0.39107925, -0.3128681 , -0.22416279,\n",
       "          -0.00185567]]], dtype=float32)>,\n",
       " <tf.Variable 'Variable:0' shape=(1, 2) dtype=float32, numpy=array([[-0.02376454,  0.01928946]], dtype=float32)>]"
      ]
     },
     "execution_count": 85,
     "metadata": {},
     "output_type": "execute_result"
    }
   ],
   "source": [
    "model_random(X_train[0:1])\n",
    "model_random.weights"
   ]
  },
  {
   "cell_type": "code",
   "execution_count": 86,
   "metadata": {},
   "outputs": [],
   "source": [
    "random_weights = np.array([[[-0.4163184 ,  0.29198825,  0.49920654,  0.33594978,\n",
    "          -0.49212807,  0.00343066,  0.30105686, -0.15320912,\n",
    "          -0.5011647 ]],\n",
    " \n",
    "        [[ 0.41882396,  0.17975801,  0.3508029 ,  0.37545007,\n",
    "          -0.37378743,  0.39107925, -0.3128681 , -0.22416279,\n",
    "          -0.00185567]]])"
   ]
  },
  {
   "cell_type": "code",
   "execution_count": 87,
   "metadata": {},
   "outputs": [
    {
     "data": {
      "text/plain": [
       "(TensorShape([40, 9]), TensorShape([40, 9]))"
      ]
     },
     "execution_count": 87,
     "metadata": {},
     "output_type": "execute_result"
    }
   ],
   "source": [
    "maxpool_train = model_maxpool_random(X_train)\n",
    "maxpool_test = model_maxpool_random(X_test)\n",
    "\n",
    "maxpool_train.shape, maxpool_test.shape"
   ]
  },
  {
   "cell_type": "code",
   "execution_count": 88,
   "metadata": {},
   "outputs": [],
   "source": [
    "n_qubits = 1  # number of class\n",
    "dev_state = qml.device(\"default.qubit\", wires=n_qubits)\n",
    "\n",
    "\n",
    "@qml.qnode(dev_state)\n",
    "def q_fc_state(params, inputs):\n",
    "    \n",
    "    # layer iteration\n",
    "    for l in range(len(params[0])):\n",
    "        # qubit iteration\n",
    "        for q in range(n_qubits):\n",
    "            # gate iteration\n",
    "            for g in range(int(len(inputs)/3)):\n",
    "                qml.Rot(*(params[0][l][3*g:3*(g+1)] * inputs[3*g:3*(g+1)] + params[1][l][3*g:3*(g+1)]), wires=q)\n",
    "    \n",
    "    #return [qml.expval(qml.Hermitian(density_matrix(state_labels[i]), wires=[i])) for i in range(n_qubits)]\n",
    "    return qml.expval(qml.Hermitian(density_matrix(state_labels[0]), wires=[0]))"
   ]
  },
  {
   "cell_type": "code",
   "execution_count": 89,
   "metadata": {},
   "outputs": [
    {
     "data": {
      "text/plain": [
       "tensor(1., requires_grad=True)"
      ]
     },
     "execution_count": 89,
     "metadata": {},
     "output_type": "execute_result"
    }
   ],
   "source": [
    "q_fc_state(np.zeros((2,1,9)), maxpool_train[0])"
   ]
  },
  {
   "cell_type": "code",
   "execution_count": 92,
   "metadata": {},
   "outputs": [
    {
     "data": {
      "text/plain": [
       "tensor(0.75178797, requires_grad=True)"
      ]
     },
     "execution_count": 92,
     "metadata": {},
     "output_type": "execute_result"
    }
   ],
   "source": [
    "q_fc_state(random_weights, maxpool_train[21])"
   ]
  },
  {
   "cell_type": "code",
   "execution_count": 93,
   "metadata": {},
   "outputs": [],
   "source": [
    "train_state = np.zeros((len(X_train), 2), dtype=np.complex_)\n",
    "test_state = np.zeros((len(X_test), 2), dtype=np.complex_)\n",
    "\n",
    "for i in range(len(train_state)):\n",
    "    \n",
    "    q_fc_state(random_weights, maxpool_train[i])\n",
    "    temp = np.flip(dev_state._state)\n",
    "    train_state[i, :] = temp\n",
    "    \n",
    "    q_fc_state(random_weights, maxpool_test[i])\n",
    "    temp = np.flip(dev_state._state)\n",
    "    test_state[i, :] = temp"
   ]
  },
  {
   "cell_type": "code",
   "execution_count": 94,
   "metadata": {},
   "outputs": [
    {
     "name": "stdout",
     "output_type": "stream",
     "text": [
      "[ True  True  True  True  True  True  True  True  True  True  True  True\n",
      "  True  True  True  True  True  True  True  True  True  True  True  True\n",
      "  True  True  True  True  True  True  True  True  True  True  True  True\n",
      "  True  True  True  True]\n",
      "[ True  True  True  True  True  True  True  True  True  True  True  True\n",
      "  True  True  True  True  True  True  True  True  True  True  True  True\n",
      "  True  True  True  True  True  True  True  True  True  True  True  True\n",
      "  True  True  True  True]\n"
     ]
    }
   ],
   "source": [
    "# sanity check\n",
    "\n",
    "print(((np.conj(train_state) @ density_matrix(state_labels[0])) * train_state)[:, 0] > 0.5)\n",
    "\n",
    "print(((np.conj(test_state) @ density_matrix(state_labels[0])) * test_state)[:, 0] > 0.5)"
   ]
  },
  {
   "cell_type": "code",
   "execution_count": 95,
   "metadata": {},
   "outputs": [],
   "source": [
    "np.savetxt('./2_QConv2ent_QFC-RandomState_Train.txt', train_state)\n",
    "np.savetxt('./2_QConv2ent_QFC-RandomState_Test.txt', test_state)"
   ]
  },
  {
   "cell_type": "markdown",
   "metadata": {},
   "source": [
    "# Finish"
   ]
  },
  {
   "cell_type": "code",
   "execution_count": null,
   "metadata": {},
   "outputs": [],
   "source": []
  },
  {
   "cell_type": "code",
   "execution_count": null,
   "metadata": {},
   "outputs": [],
   "source": []
  },
  {
   "cell_type": "code",
   "execution_count": null,
   "metadata": {},
   "outputs": [],
   "source": []
  },
  {
   "cell_type": "code",
   "execution_count": null,
   "metadata": {},
   "outputs": [],
   "source": []
  },
  {
   "cell_type": "code",
   "execution_count": null,
   "metadata": {},
   "outputs": [],
   "source": []
  },
  {
   "cell_type": "code",
   "execution_count": null,
   "metadata": {},
   "outputs": [],
   "source": []
  },
  {
   "cell_type": "code",
   "execution_count": 76,
   "metadata": {},
   "outputs": [
    {
     "data": {
      "text/plain": [
       "{'loss': [0.7249730825424194,\n",
       "  0.485493928194046,\n",
       "  0.2910504639148712,\n",
       "  0.20750370621681213,\n",
       "  0.1200886219739914,\n",
       "  0.09333930909633636,\n",
       "  0.09352166950702667,\n",
       "  0.09991505742073059,\n",
       "  0.0711403489112854,\n",
       "  0.0675935298204422],\n",
       " 'accuracy': [0.5249999761581421,\n",
       "  0.6225000023841858,\n",
       "  0.7825000286102295,\n",
       "  0.8650000095367432,\n",
       "  0.9449999928474426,\n",
       "  0.9599999785423279,\n",
       "  0.9624999761581421,\n",
       "  0.9524999856948853,\n",
       "  0.9750000238418579,\n",
       "  0.9775000214576721],\n",
       " 'val_loss': [0.6175757646560669,\n",
       "  0.40504130721092224,\n",
       "  0.3411727547645569,\n",
       "  0.19497469067573547,\n",
       "  0.11362368613481522,\n",
       "  0.07933302223682404,\n",
       "  0.1450268030166626,\n",
       "  0.0960061326622963,\n",
       "  0.09231595695018768,\n",
       "  0.053687386214733124],\n",
       " 'val_accuracy': [0.5,\n",
       "  0.7300000190734863,\n",
       "  0.7400000095367432,\n",
       "  0.8700000047683716,\n",
       "  0.9449999928474426,\n",
       "  0.9800000190734863,\n",
       "  0.925000011920929,\n",
       "  0.9649999737739563,\n",
       "  0.9549999833106995,\n",
       "  0.9750000238418579]}"
      ]
     },
     "execution_count": 76,
     "metadata": {},
     "output_type": "execute_result"
    }
   ],
   "source": [
    "first_10_epoch = H.history\n",
    "first_10_epoch"
   ]
  },
  {
   "cell_type": "code",
   "execution_count": 77,
   "metadata": {},
   "outputs": [
    {
     "data": {
      "text/plain": [
       "[array([[[ 0.13920915, -0.7933977 ,  0.4931736 , -0.34984022,\n",
       "           0.41861725, -0.1258272 , -0.3323837 ,  1.4861933 ,\n",
       "           0.14679849]],\n",
       " \n",
       "        [[-0.48547882, -0.6672664 , -0.30831295,  0.31500554,\n",
       "           0.21519628, -0.09552038, -0.33133912,  0.8978053 ,\n",
       "          -0.38653338]]], dtype=float32),\n",
       " array([[[-0.04071528, -0.5614164 , -0.5472108 ,  0.32481748,\n",
       "          -0.1586527 ,  0.06802678, -0.04312551, -1.0716503 ,\n",
       "          -0.09168857]],\n",
       " \n",
       "        [[ 0.2695058 , -1.5634912 ,  0.20198631, -0.20597708,\n",
       "           0.06802317,  0.2522897 , -0.01191515,  0.5282674 ,\n",
       "          -0.3303873 ]]], dtype=float32),\n",
       " array([[[-0.1229878 ,  0.03982117, -0.29502654, -1.2658846 ,\n",
       "          -0.3401566 , -0.93464977,  1.1978221 , -0.24731389,\n",
       "          -0.51143396]],\n",
       " \n",
       "        [[-0.05537069, -1.3277841 , -0.7294856 , -0.740143  ,\n",
       "          -0.83612764,  0.6652604 ,  0.0570471 , -0.4578703 ,\n",
       "          -0.36179888]]], dtype=float32),\n",
       " array([[1.084761 , 1.0133266]], dtype=float32)]"
      ]
     },
     "execution_count": 77,
     "metadata": {},
     "output_type": "execute_result"
    }
   ],
   "source": [
    "# initial 10 epoch\n",
    "model.get_weights()"
   ]
  }
 ],
 "metadata": {
  "colab": {
   "collapsed_sections": [],
   "name": "Q Conv + DRC Keras MNIST (best).ipynb",
   "provenance": []
  },
  "kernelspec": {
   "display_name": "Python 3",
   "language": "python",
   "name": "python3"
  },
  "language_info": {
   "codemirror_mode": {
    "name": "ipython",
    "version": 3
   },
   "file_extension": ".py",
   "mimetype": "text/x-python",
   "name": "python",
   "nbconvert_exporter": "python",
   "pygments_lexer": "ipython3",
   "version": "3.8.6"
  }
 },
 "nbformat": 4,
 "nbformat_minor": 1
}
