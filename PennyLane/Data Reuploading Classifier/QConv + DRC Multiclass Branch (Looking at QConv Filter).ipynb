{
 "cells": [
  {
   "cell_type": "code",
   "execution_count": 1,
   "metadata": {},
   "outputs": [],
   "source": [
    "# %matplotlib inline\n",
    "import matplotlib.pyplot as plt\n",
    "from mpl_toolkits.axes_grid1 import make_axes_locatable\n",
    "\n",
    "import numpy as np\n",
    "\n",
    "import tensorflow as tf\n",
    "from tensorflow.keras.utils import to_categorical"
   ]
  },
  {
   "cell_type": "markdown",
   "metadata": {},
   "source": [
    "# Loading Raw Data"
   ]
  },
  {
   "cell_type": "code",
   "execution_count": 2,
   "metadata": {},
   "outputs": [],
   "source": [
    "(x_train, y_train), (x_test, y_test) = tf.keras.datasets.mnist.load_data()\n",
    "\n",
    "x_train = x_train[:, 0:27, 0:27]\n",
    "x_test = x_test[:, 0:27, 0:27]"
   ]
  },
  {
   "cell_type": "code",
   "execution_count": 3,
   "metadata": {},
   "outputs": [],
   "source": [
    "x_train_flatten = x_train.reshape(x_train.shape[0], x_train.shape[1]*x_train.shape[2])/255.0\n",
    "x_test_flatten = x_test.reshape(x_test.shape[0], x_test.shape[1]*x_test.shape[2])/255.0"
   ]
  },
  {
   "cell_type": "code",
   "execution_count": 4,
   "metadata": {},
   "outputs": [
    {
     "name": "stdout",
     "output_type": "stream",
     "text": [
      "(60000, 729) (60000,)\n",
      "(10000, 729) (10000,)\n"
     ]
    }
   ],
   "source": [
    "print(x_train_flatten.shape, y_train.shape)\n",
    "print(x_test_flatten.shape, y_test.shape)"
   ]
  },
  {
   "cell_type": "code",
   "execution_count": 5,
   "metadata": {},
   "outputs": [
    {
     "name": "stdout",
     "output_type": "stream",
     "text": [
      "(5923, 729)\n",
      "(6742, 729)\n",
      "(5958, 729)\n",
      "(6131, 729)\n",
      "(5842, 729)\n",
      "(5421, 729)\n",
      "(5918, 729)\n",
      "(6265, 729)\n",
      "(5851, 729)\n",
      "(5949, 729)\n"
     ]
    }
   ],
   "source": [
    "x_train_0 = x_train_flatten[y_train == 0]\n",
    "x_train_1 = x_train_flatten[y_train == 1]\n",
    "x_train_2 = x_train_flatten[y_train == 2]\n",
    "x_train_3 = x_train_flatten[y_train == 3]\n",
    "x_train_4 = x_train_flatten[y_train == 4]\n",
    "x_train_5 = x_train_flatten[y_train == 5]\n",
    "x_train_6 = x_train_flatten[y_train == 6]\n",
    "x_train_7 = x_train_flatten[y_train == 7]\n",
    "x_train_8 = x_train_flatten[y_train == 8]\n",
    "x_train_9 = x_train_flatten[y_train == 9]\n",
    "\n",
    "x_train_list = [x_train_0, x_train_1, x_train_2, x_train_3, x_train_4, x_train_5, x_train_6, x_train_7, x_train_8, x_train_9]\n",
    "\n",
    "print(x_train_0.shape)\n",
    "print(x_train_1.shape)\n",
    "print(x_train_2.shape)\n",
    "print(x_train_3.shape)\n",
    "print(x_train_4.shape)\n",
    "print(x_train_5.shape)\n",
    "print(x_train_6.shape)\n",
    "print(x_train_7.shape)\n",
    "print(x_train_8.shape)\n",
    "print(x_train_9.shape)"
   ]
  },
  {
   "cell_type": "code",
   "execution_count": 6,
   "metadata": {},
   "outputs": [
    {
     "name": "stdout",
     "output_type": "stream",
     "text": [
      "(980, 729)\n",
      "(1135, 729)\n",
      "(1032, 729)\n",
      "(1010, 729)\n",
      "(982, 729)\n",
      "(892, 729)\n",
      "(958, 729)\n",
      "(1028, 729)\n",
      "(974, 729)\n",
      "(1009, 729)\n"
     ]
    }
   ],
   "source": [
    "x_test_0 = x_test_flatten[y_test == 0]\n",
    "x_test_1 = x_test_flatten[y_test == 1]\n",
    "x_test_2 = x_test_flatten[y_test == 2]\n",
    "x_test_3 = x_test_flatten[y_test == 3]\n",
    "x_test_4 = x_test_flatten[y_test == 4]\n",
    "x_test_5 = x_test_flatten[y_test == 5]\n",
    "x_test_6 = x_test_flatten[y_test == 6]\n",
    "x_test_7 = x_test_flatten[y_test == 7]\n",
    "x_test_8 = x_test_flatten[y_test == 8]\n",
    "x_test_9 = x_test_flatten[y_test == 9]\n",
    "\n",
    "x_test_list = [x_test_0, x_test_1, x_test_2, x_test_3, x_test_4, x_test_5, x_test_6, x_test_7, x_test_8, x_test_9]\n",
    "\n",
    "print(x_test_0.shape)\n",
    "print(x_test_1.shape)\n",
    "print(x_test_2.shape)\n",
    "print(x_test_3.shape)\n",
    "print(x_test_4.shape)\n",
    "print(x_test_5.shape)\n",
    "print(x_test_6.shape)\n",
    "print(x_test_7.shape)\n",
    "print(x_test_8.shape)\n",
    "print(x_test_9.shape)"
   ]
  },
  {
   "cell_type": "markdown",
   "metadata": {},
   "source": [
    "# Selecting the dataset\n",
    "\n",
    "Output: X_train, Y_train, X_test, Y_test"
   ]
  },
  {
   "cell_type": "code",
   "execution_count": 7,
   "metadata": {},
   "outputs": [
    {
     "data": {
      "text/plain": [
       "((2000, 729), (2000,))"
      ]
     },
     "execution_count": 7,
     "metadata": {},
     "output_type": "execute_result"
    }
   ],
   "source": [
    "n_train_sample_per_class = 200\n",
    "n_class = 10\n",
    "\n",
    "X_train = x_train_list[0][:n_train_sample_per_class, :]\n",
    "Y_train = np.zeros((X_train.shape[0]*n_class,), dtype=int)\n",
    "\n",
    "for i in range(n_class-1):\n",
    "    X_train = np.concatenate((X_train, x_train_list[i+1][:n_train_sample_per_class, :]), axis=0)\n",
    "    Y_train[(i+1)*n_train_sample_per_class:(i+2)*n_train_sample_per_class] = i+1\n",
    "\n",
    "X_train.shape, Y_train.shape"
   ]
  },
  {
   "cell_type": "code",
   "execution_count": 8,
   "metadata": {},
   "outputs": [
    {
     "data": {
      "text/plain": [
       "((500, 729), (500,))"
      ]
     },
     "execution_count": 8,
     "metadata": {},
     "output_type": "execute_result"
    }
   ],
   "source": [
    "n_test_sample_per_class = int(0.25*n_train_sample_per_class)\n",
    "\n",
    "X_test = x_test_list[0][:n_test_sample_per_class, :]\n",
    "Y_test = np.zeros((X_test.shape[0]*n_class,), dtype=int)\n",
    "\n",
    "for i in range(n_class-1):\n",
    "    X_test = np.concatenate((X_test, x_test_list[i+1][:n_test_sample_per_class, :]), axis=0)\n",
    "    Y_test[(i+1)*n_test_sample_per_class:(i+2)*n_test_sample_per_class] = i+1\n",
    "\n",
    "X_test.shape, Y_test.shape"
   ]
  },
  {
   "cell_type": "markdown",
   "metadata": {},
   "source": [
    "# Dataset Preprocessing"
   ]
  },
  {
   "cell_type": "code",
   "execution_count": 9,
   "metadata": {},
   "outputs": [
    {
     "data": {
      "text/plain": [
       "((2000, 27, 27), (500, 27, 27))"
      ]
     },
     "execution_count": 9,
     "metadata": {},
     "output_type": "execute_result"
    }
   ],
   "source": [
    "X_train = X_train.reshape(X_train.shape[0], 27, 27)\n",
    "X_test = X_test.reshape(X_test.shape[0], 27, 27)\n",
    "\n",
    "X_train.shape, X_test.shape"
   ]
  },
  {
   "cell_type": "code",
   "execution_count": 10,
   "metadata": {},
   "outputs": [],
   "source": [
    "Y_train_dict = []\n",
    "for i in range(np.unique(Y_train).shape[0]):\n",
    "    temp_Y = np.zeros(Y_train.shape)\n",
    "    \n",
    "    temp_Y[Y_train == i] = 0  # positive class\n",
    "    temp_Y[Y_train != i] = 1  # negative class\n",
    "    temp_Y = to_categorical(temp_Y)\n",
    "    Y_train_dict += [('Y' + str(i), temp_Y)]\n",
    "    \n",
    "Y_train_dict = dict(Y_train_dict)"
   ]
  },
  {
   "cell_type": "code",
   "execution_count": 11,
   "metadata": {},
   "outputs": [],
   "source": [
    "Y_test_dict = []\n",
    "for i in range(np.unique(Y_test).shape[0]):\n",
    "    temp_Y = np.zeros(Y_test.shape)\n",
    "    \n",
    "    temp_Y[Y_test == i] = 0  # positive class\n",
    "    temp_Y[Y_test != i] = 1  # negative class\n",
    "    temp_Y = to_categorical(temp_Y)\n",
    "    Y_test_dict += [('Y' + str(i), temp_Y)]\n",
    "    \n",
    "Y_test_dict = dict(Y_test_dict)"
   ]
  },
  {
   "cell_type": "code",
   "execution_count": 12,
   "metadata": {},
   "outputs": [
    {
     "data": {
      "text/plain": [
       "((2000, 2), (500, 2))"
      ]
     },
     "execution_count": 12,
     "metadata": {},
     "output_type": "execute_result"
    }
   ],
   "source": [
    "Y_train_dict['Y1'].shape, Y_test_dict['Y0'].shape"
   ]
  },
  {
   "cell_type": "markdown",
   "metadata": {},
   "source": [
    "# Quantum"
   ]
  },
  {
   "cell_type": "code",
   "execution_count": 13,
   "metadata": {},
   "outputs": [],
   "source": [
    "import pennylane as qml\n",
    "from pennylane import numpy as np\n",
    "from pennylane.optimize import AdamOptimizer, GradientDescentOptimizer\n",
    "\n",
    "qml.enable_tape()\n",
    "\n",
    "from tensorflow.keras.utils import to_categorical\n",
    "\n",
    "# Set a random seed\n",
    "np.random.seed(2020)"
   ]
  },
  {
   "cell_type": "code",
   "execution_count": 14,
   "metadata": {},
   "outputs": [],
   "source": [
    "# Define output labels as quantum state vectors\n",
    "def density_matrix(state):\n",
    "    \"\"\"Calculates the density matrix representation of a state.\n",
    "\n",
    "    Args:\n",
    "        state (array[complex]): array representing a quantum state vector\n",
    "\n",
    "    Returns:\n",
    "        dm: (array[complex]): array representing the density matrix\n",
    "    \"\"\"\n",
    "    return state * np.conj(state).T\n",
    "\n",
    "\n",
    "label_0 = [[1], [0]]\n",
    "label_1 = [[0], [1]]\n",
    "state_labels = [label_0, label_1]"
   ]
  },
  {
   "cell_type": "code",
   "execution_count": 15,
   "metadata": {},
   "outputs": [],
   "source": [
    "dev_conv = qml.device(\"default.qubit\", wires=9)\n",
    "\n",
    "\n",
    "@qml.qnode(dev_conv)\n",
    "def q_conv(conv_params, inputs):\n",
    "    \"\"\"A variational quantum circuit representing the Universal classifier + Conv.\n",
    "\n",
    "    Args:\n",
    "        params (array[float]): array of parameters\n",
    "        x (array[float]): 2-d input vector\n",
    "        y (array[float]): single output state density matrix\n",
    "\n",
    "    Returns:\n",
    "        float: fidelity between output state and input\n",
    "    \"\"\"\n",
    "    # layer iteration\n",
    "    for l in range(len(conv_params[0])):\n",
    "        # RY layer\n",
    "        # height iteration\n",
    "        for i in range(3):\n",
    "            # width iteration\n",
    "            for j in range(3):\n",
    "                qml.RY((conv_params[0][l][3*i+j] * inputs[i, j] + conv_params[1][l][3*i+j]), wires=(3*i+j))\n",
    "    \n",
    "        # entangling layer\n",
    "        for i in range(9):\n",
    "            if i != (9-1):\n",
    "                qml.CNOT(wires=[i, i+1])\n",
    "\n",
    "    return qml.expval(qml.PauliZ(0) @ qml.PauliZ(1) @ qml.PauliZ(2) @ qml.PauliZ(3) @ qml.PauliZ(4) @ qml.PauliZ(5) @ qml.PauliZ(6) @ qml.PauliZ(7) @ qml.PauliZ(8))"
   ]
  },
  {
   "cell_type": "code",
   "execution_count": 16,
   "metadata": {},
   "outputs": [],
   "source": [
    "# Input image, size = 27 x 27\n",
    "X = tf.keras.Input(shape=(27,27), name='Input_Layer')\n",
    "\n",
    "\n",
    "# Specs for Conv\n",
    "c_filter = 3\n",
    "c_strides = 2\n",
    "\n",
    "\n",
    "# First Quantum Conv Layer, trainable params = 18*L, output size = 13 x 13\n",
    "num_conv_layer_1 = 2\n",
    "q_conv_layer_1 = qml.qnn.KerasLayer(q_conv, {\"conv_params\": (2, num_conv_layer_1, 9)}, output_dim=(1), name='Quantum_Conv_Layer_1')\n",
    "size_1 = int(1+(X.shape[1]-c_filter)/c_strides)\n",
    "q_conv_layer_1_list = []\n",
    "# height iteration\n",
    "for i in range(size_1):\n",
    "    # width iteration\n",
    "    for j in range(size_1):\n",
    "        temp = q_conv_layer_1(X[:, 2*i:2*(i+1)+1, 2*j:2*(j+1)+1])\n",
    "        temp = tf.keras.layers.Reshape((1,))(temp)\n",
    "        q_conv_layer_1_list += [temp]\n",
    "concat_layer_1 = tf.keras.layers.Concatenate(axis=1)(q_conv_layer_1_list)\n",
    "reshape_layer_1 = tf.keras.layers.Reshape((size_1, size_1))(concat_layer_1)\n",
    "\n",
    "\n",
    "# Second Quantum Conv Layer, trainable params = 18*L, output size = 6 x 6\n",
    "num_conv_layer_2 = 2\n",
    "q_conv_layer_2 = qml.qnn.KerasLayer(q_conv, {\"conv_params\": (2, num_conv_layer_2, 9)}, output_dim=(1), name='Quantum_Conv_Layer_2')\n",
    "size_2 = int(1+(reshape_layer_1.shape[1]-c_filter)/c_strides)\n",
    "q_conv_layer_2_list = []\n",
    "# height iteration\n",
    "for i in range(size_2):\n",
    "    # width iteration\n",
    "    for j in range(size_2):\n",
    "        temp = q_conv_layer_2(reshape_layer_1[:, 2*i:2*(i+1)+1, 2*j:2*(j+1)+1])\n",
    "        temp = tf.keras.layers.Reshape((1,))(temp)\n",
    "        q_conv_layer_2_list += [temp]\n",
    "concat_layer_2 = tf.keras.layers.Concatenate(axis=1)(q_conv_layer_2_list)\n",
    "reshape_layer_2 = tf.keras.layers.Reshape((size_2, size_2, 1))(concat_layer_2)\n",
    "\n",
    "\n",
    "# Max Pooling Layer, output size = 9\n",
    "max_pool_layer = tf.keras.layers.MaxPooling2D(pool_size=(2, 2), strides=None, name='Max_Pool_Layer')(reshape_layer_2)\n",
    "\n",
    "model = tf.keras.Model(inputs=X, outputs=max_pool_layer)"
   ]
  },
  {
   "cell_type": "code",
   "execution_count": 17,
   "metadata": {},
   "outputs": [],
   "source": [
    "qconv_1_weights = np.array([[[ 0.30478922,  0.24122563,  1.2013984 ,  0.8962295 ,\n",
    "           2.155613  ,  1.808066  , -0.6777786 , -1.3539367 ,\n",
    "           0.46882528],\n",
    "         [ 0.10804682,  0.4899469 , -1.4487113 ,  0.18007451,\n",
    "           0.21117014, -0.07102177,  0.22456087,  0.19595939,\n",
    "           0.620559  ]],\n",
    " \n",
    "        [[ 0.08490325, -0.46300295,  0.88712513,  0.21560192,\n",
    "           0.68917143, -1.3093163 ,  1.0160891 , -0.17013887,\n",
    "           0.09957722],\n",
    "         [ 0.08793638, -0.0810757 , -0.3338206 ,  0.5029927 ,\n",
    "           0.46003294,  0.47570366, -0.18548904, -0.2648427 ,\n",
    "          -0.0655445 ]]])\n",
    "\n",
    "qconv_2_weights = np.array([[[ 2.7642950e-01,  2.3297124e+00, -7.7425838e-01,  4.8847955e-01,\n",
    "           4.3419965e-02, -3.3615255e-01, -1.0063299e+00,  2.2314610e+00,\n",
    "           9.1715485e-01],\n",
    "         [-4.1352111e-01,  3.0436099e-02, -1.2301649e+00,  1.7263293e-03,\n",
    "          -1.5698449e-01,  4.4744748e-01,  1.2136365e+00,  2.7647603e-01,\n",
    "           1.0283145e+00]],\n",
    " \n",
    "        [[-3.3875754e-01,  1.0402726e+00, -4.2845064e-01,  7.4869722e-02,\n",
    "           3.8802050e-02,  3.3155876e-01, -7.6660907e-01,  3.3909407e-01,\n",
    "           3.5294789e-01],\n",
    "         [ 6.6214994e-02, -1.3985926e-01,  9.4863945e-01, -1.1182010e-01,\n",
    "           2.7276468e-01,  3.9622694e-01,  3.1741151e-01, -2.2376621e-01,\n",
    "           3.0038670e-01]]])"
   ]
  },
  {
   "cell_type": "code",
   "execution_count": 18,
   "metadata": {},
   "outputs": [],
   "source": [
    "model(X_train[0:1])\n",
    "model.get_layer('Quantum_Conv_Layer_1').set_weights([qconv_1_weights])\n",
    "model.get_layer('Quantum_Conv_Layer_2').set_weights([qconv_2_weights])"
   ]
  },
  {
   "cell_type": "code",
   "execution_count": 19,
   "metadata": {},
   "outputs": [
    {
     "name": "stdout",
     "output_type": "stream",
     "text": [
      "[<tf.Variable 'model/Quantum_Conv_Layer_1/conv_params:0' shape=(2, 2, 9) dtype=float32, numpy=\n",
      "array([[[ 0.30478922,  0.24122563,  1.2013984 ,  0.8962295 ,\n",
      "          2.155613  ,  1.808066  , -0.6777786 , -1.3539367 ,\n",
      "          0.46882528],\n",
      "        [ 0.10804682,  0.4899469 , -1.4487113 ,  0.18007451,\n",
      "          0.21117014, -0.07102177,  0.22456087,  0.19595939,\n",
      "          0.620559  ]],\n",
      "\n",
      "       [[ 0.08490325, -0.46300295,  0.88712513,  0.21560192,\n",
      "          0.68917143, -1.3093163 ,  1.0160891 , -0.17013887,\n",
      "          0.09957722],\n",
      "        [ 0.08793638, -0.0810757 , -0.3338206 ,  0.5029927 ,\n",
      "          0.46003294,  0.47570366, -0.18548904, -0.2648427 ,\n",
      "         -0.0655445 ]]], dtype=float32)>]\n",
      "[<tf.Variable 'model/Quantum_Conv_Layer_2/conv_params:0' shape=(2, 2, 9) dtype=float32, numpy=\n",
      "array([[[ 2.7642950e-01,  2.3297124e+00, -7.7425838e-01,  4.8847955e-01,\n",
      "          4.3419965e-02, -3.3615255e-01, -1.0063299e+00,  2.2314610e+00,\n",
      "          9.1715485e-01],\n",
      "        [-4.1352111e-01,  3.0436099e-02, -1.2301649e+00,  1.7263293e-03,\n",
      "         -1.5698449e-01,  4.4744748e-01,  1.2136365e+00,  2.7647603e-01,\n",
      "          1.0283145e+00]],\n",
      "\n",
      "       [[-3.3875754e-01,  1.0402726e+00, -4.2845064e-01,  7.4869722e-02,\n",
      "          3.8802050e-02,  3.3155876e-01, -7.6660907e-01,  3.3909407e-01,\n",
      "          3.5294789e-01],\n",
      "        [ 6.6214994e-02, -1.3985926e-01,  9.4863945e-01, -1.1182010e-01,\n",
      "          2.7276468e-01,  3.9622694e-01,  3.1741151e-01, -2.2376621e-01,\n",
      "          3.0038670e-01]]], dtype=float32)>]\n"
     ]
    }
   ],
   "source": [
    "print(model.get_layer('Quantum_Conv_Layer_1').weights)\n",
    "print(model.get_layer('Quantum_Conv_Layer_2').weights)"
   ]
  },
  {
   "cell_type": "code",
   "execution_count": 20,
   "metadata": {},
   "outputs": [
    {
     "name": "stdout",
     "output_type": "stream",
     "text": [
      "(2000, 9) (500, 9)\n"
     ]
    }
   ],
   "source": [
    "preprocessed_img_train = model(X_train)\n",
    "\n",
    "preprocessed_img_test = model(X_test)\n",
    "\n",
    "data_train = preprocessed_img_train.numpy().reshape(-1, 3*3)\n",
    "np.savetxt('./preprocessed_QConv4class_10class_train.txt', data_train)\n",
    "\n",
    "data_test = preprocessed_img_test.numpy().reshape(-1, 3*3)\n",
    "np.savetxt('./preprocessed_QConv4class_10class_test.txt', data_test)\n",
    "\n",
    "print(data_train.shape, data_test.shape)"
   ]
  },
  {
   "cell_type": "code",
   "execution_count": 25,
   "metadata": {},
   "outputs": [],
   "source": [
    "def decayed_learning_rate(step, initial_learning_rate, decay_rate, decay_step):\n",
    "    return initial_learning_rate / (1 + decay_rate * step / decay_step)"
   ]
  },
  {
   "cell_type": "code",
   "execution_count": 29,
   "metadata": {},
   "outputs": [
    {
     "name": "stdout",
     "output_type": "stream",
     "text": [
      "0.1\n",
      "0.06666666666666667\n",
      "0.05\n",
      "0.04\n",
      "0.03333333333333333\n",
      "0.028571428571428574\n",
      "0.025\n",
      "0.022222222222222223\n",
      "0.02\n",
      "0.018181818181818184\n"
     ]
    }
   ],
   "source": [
    "for i in range(10):\n",
    "    print(decayed_learning_rate(i*25, 0.1, 0.5, 25))"
   ]
  },
  {
   "cell_type": "code",
   "execution_count": 18,
   "metadata": {},
   "outputs": [],
   "source": [
    "model_qconv_1 = tf.keras.Model(inputs=X, outputs=reshape_layer_1)\n",
    "model_qconv_1(X_train[0:1])\n",
    "model_qconv_1.get_layer('Quantum_Conv_Layer_1').set_weights([qconv_1_weights])\n",
    "\n",
    "model_qconv_2 = tf.keras.Model(inputs=X, outputs=reshape_layer_2)\n",
    "model_qconv_2(X_train[0:1])\n",
    "model_qconv_2.get_layer('Quantum_Conv_Layer_1').set_weights([qconv_1_weights])\n",
    "model_qconv_2.get_layer('Quantum_Conv_Layer_2').set_weights([qconv_2_weights])"
   ]
  },
  {
   "cell_type": "code",
   "execution_count": 19,
   "metadata": {},
   "outputs": [
    {
     "data": {
      "text/plain": [
       "[<tf.Variable 'model_1/Quantum_Conv_Layer_1/conv_params:0' shape=(2, 2, 9) dtype=float32, numpy=\n",
       " array([[[ 0.30478922,  0.24122563,  1.2013984 ,  0.8962295 ,\n",
       "           2.155613  ,  1.808066  , -0.6777786 , -1.3539367 ,\n",
       "           0.46882528],\n",
       "         [ 0.10804682,  0.4899469 , -1.4487113 ,  0.18007451,\n",
       "           0.21117014, -0.07102177,  0.22456087,  0.19595939,\n",
       "           0.620559  ]],\n",
       " \n",
       "        [[ 0.08490325, -0.46300295,  0.88712513,  0.21560192,\n",
       "           0.68917143, -1.3093163 ,  1.0160891 , -0.17013887,\n",
       "           0.09957722],\n",
       "         [ 0.08793638, -0.0810757 , -0.3338206 ,  0.5029927 ,\n",
       "           0.46003294,  0.47570366, -0.18548904, -0.2648427 ,\n",
       "          -0.0655445 ]]], dtype=float32)>]"
      ]
     },
     "execution_count": 19,
     "metadata": {},
     "output_type": "execute_result"
    }
   ],
   "source": [
    "model_qconv_1.get_layer('Quantum_Conv_Layer_1').weights"
   ]
  },
  {
   "cell_type": "code",
   "execution_count": 20,
   "metadata": {},
   "outputs": [
    {
     "data": {
      "text/plain": [
       "[<tf.Variable 'model_2/Quantum_Conv_Layer_2/conv_params:0' shape=(2, 2, 9) dtype=float32, numpy=\n",
       " array([[[ 2.7642950e-01,  2.3297124e+00, -7.7425838e-01,  4.8847955e-01,\n",
       "           4.3419965e-02, -3.3615255e-01, -1.0063299e+00,  2.2314610e+00,\n",
       "           9.1715485e-01],\n",
       "         [-4.1352111e-01,  3.0436099e-02, -1.2301649e+00,  1.7263293e-03,\n",
       "          -1.5698449e-01,  4.4744748e-01,  1.2136365e+00,  2.7647603e-01,\n",
       "           1.0283145e+00]],\n",
       " \n",
       "        [[-3.3875754e-01,  1.0402726e+00, -4.2845064e-01,  7.4869722e-02,\n",
       "           3.8802050e-02,  3.3155876e-01, -7.6660907e-01,  3.3909407e-01,\n",
       "           3.5294789e-01],\n",
       "         [ 6.6214994e-02, -1.3985926e-01,  9.4863945e-01, -1.1182010e-01,\n",
       "           2.7276468e-01,  3.9622694e-01,  3.1741151e-01, -2.2376621e-01,\n",
       "           3.0038670e-01]]], dtype=float32)>]"
      ]
     },
     "execution_count": 20,
     "metadata": {},
     "output_type": "execute_result"
    }
   ],
   "source": [
    "model_qconv_2.get_layer('Quantum_Conv_Layer_2').weights"
   ]
  },
  {
   "cell_type": "code",
   "execution_count": 21,
   "metadata": {},
   "outputs": [
    {
     "name": "stdout",
     "output_type": "stream",
     "text": [
      "501.125\n"
     ]
    }
   ],
   "source": [
    "import time\n",
    "start = time.process_time()\n",
    "img_after_qconv_1 = model_qconv_1(X_train)\n",
    "img_after_qconv_2 = model_qconv_2(X_train)\n",
    "print(time.process_time() - start)"
   ]
  },
  {
   "cell_type": "code",
   "execution_count": 56,
   "metadata": {},
   "outputs": [],
   "source": [
    "num_ind = 71"
   ]
  },
  {
   "cell_type": "code",
   "execution_count": 57,
   "metadata": {},
   "outputs": [
    {
     "data": {
      "text/plain": [
       "<matplotlib.image.AxesImage at 0x252e857b0a0>"
      ]
     },
     "execution_count": 57,
     "metadata": {},
     "output_type": "execute_result"
    },
    {
     "data": {
      "image/png": "[encoded data removed]",
      "text/plain": [
       "<Figure size 432x288 with 1 Axes>"
      ]
     },
     "metadata": {
      "needs_background": "light"
     },
     "output_type": "display_data"
    }
   ],
   "source": [
    "plt.imshow(img_after_qconv_1[num_ind], cmap='gray')"
   ]
  },
  {
   "cell_type": "code",
   "execution_count": 58,
   "metadata": {},
   "outputs": [
    {
     "data": {
      "text/plain": [
       "<matplotlib.image.AxesImage at 0x252e85cd610>"
      ]
     },
     "execution_count": 58,
     "metadata": {},
     "output_type": "execute_result"
    },
    {
     "data": {
      "image/png": "[encoded data removed]",
      "text/plain": [
       "<Figure size 432x288 with 1 Axes>"
      ]
     },
     "metadata": {
      "needs_background": "light"
     },
     "output_type": "display_data"
    }
   ],
   "source": [
    "plt.imshow(img_after_qconv_2[num_ind], cmap='gray')"
   ]
  },
  {
   "cell_type": "code",
   "execution_count": null,
   "metadata": {},
   "outputs": [],
   "source": []
  },
  {
   "cell_type": "code",
   "execution_count": null,
   "metadata": {},
   "outputs": [],
   "source": []
  },
  {
   "cell_type": "code",
   "execution_count": 33,
   "metadata": {},
   "outputs": [
    {
     "data": {
      "text/plain": [
       "[<tf.Variable 'model/Quantum_Conv_Layer_1/conv_params:0' shape=(2, 2, 9) dtype=float32, numpy=\n",
       " array([[[ 0.30478922,  0.24122563,  1.2013984 ,  0.8962295 ,\n",
       "           2.155613  ,  1.808066  , -0.6777786 , -1.3539367 ,\n",
       "           0.46882528],\n",
       "         [ 0.10804682,  0.4899469 , -1.4487113 ,  0.18007451,\n",
       "           0.21117014, -0.07102177,  0.22456087,  0.19595939,\n",
       "           0.620559  ]],\n",
       " \n",
       "        [[ 0.08490325, -0.46300295,  0.88712513,  0.21560192,\n",
       "           0.68917143, -1.3093163 ,  1.0160891 , -0.17013887,\n",
       "           0.09957722],\n",
       "         [ 0.08793638, -0.0810757 , -0.3338206 ,  0.5029927 ,\n",
       "           0.46003294,  0.47570366, -0.18548904, -0.2648427 ,\n",
       "          -0.0655445 ]]], dtype=float32)>,\n",
       " <tf.Variable 'model/Quantum_Conv_Layer_2/conv_params:0' shape=(2, 2, 9) dtype=float32, numpy=\n",
       " array([[[ 2.7642950e-01,  2.3297124e+00, -7.7425838e-01,  4.8847955e-01,\n",
       "           4.3419965e-02, -3.3615255e-01, -1.0063299e+00,  2.2314610e+00,\n",
       "           9.1715485e-01],\n",
       "         [-4.1352111e-01,  3.0436099e-02, -1.2301649e+00,  1.7263293e-03,\n",
       "          -1.5698449e-01,  4.4744748e-01,  1.2136365e+00,  2.7647603e-01,\n",
       "           1.0283145e+00]],\n",
       " \n",
       "        [[-3.3875754e-01,  1.0402726e+00, -4.2845064e-01,  7.4869722e-02,\n",
       "           3.8802050e-02,  3.3155876e-01, -7.6660907e-01,  3.3909407e-01,\n",
       "           3.5294789e-01],\n",
       "         [ 6.6214994e-02, -1.3985926e-01,  9.4863945e-01, -1.1182010e-01,\n",
       "           2.7276468e-01,  3.9622694e-01,  3.1741151e-01, -2.2376621e-01,\n",
       "           3.0038670e-01]]], dtype=float32)>,\n",
       " <tf.Variable 'model/keras_layer/params:0' shape=(2, 1, 9) dtype=float32, numpy=\n",
       " array([[[-0.05643808, -0.3834348 ,  1.3783973 ,  1.8028375 ,\n",
       "           2.4020152 ,  3.265065  ,  0.04925077,  0.18717681,\n",
       "          -0.15576944]],\n",
       " \n",
       "        [[ 0.0552775 ,  0.83352816,  0.51252973,  0.67993635,\n",
       "           1.538679  ,  0.5075311 ,  1.462727  ,  0.28211135,\n",
       "          -0.18711801]]], dtype=float32)>,\n",
       " <tf.Variable 'model/keras_layer_1/params:0' shape=(2, 1, 9) dtype=float32, numpy=\n",
       " array([[[ 0.5008777 , -1.3495312 , -0.5218247 ,  1.51395   ,\n",
       "           0.70898056,  1.331641  ,  0.75333315,  1.1442982 ,\n",
       "          -0.283115  ]],\n",
       " \n",
       "        [[ 0.23336929,  1.3037012 , -0.16543525, -0.8135664 ,\n",
       "           0.5298867 , -0.08688857, -0.40758485,  1.3480728 ,\n",
       "          -0.06701605]]], dtype=float32)>,\n",
       " <tf.Variable 'model/keras_layer_2/params:0' shape=(2, 1, 9) dtype=float32, numpy=\n",
       " array([[[ 0.20852552, -0.92169833,  0.20204262, -1.4812163 ,\n",
       "           0.00889985, -1.5283754 , -0.8842213 , -2.125618  ,\n",
       "          -0.2756645 ]],\n",
       " \n",
       "        [[ 0.19089271, -1.2583857 , -0.05586167, -0.65264225,\n",
       "           0.72431535, -0.6168651 , -0.59993476, -2.472832  ,\n",
       "           0.120191  ]]], dtype=float32)>,\n",
       " <tf.Variable 'model/keras_layer_3/params:0' shape=(2, 1, 9) dtype=float32, numpy=\n",
       " array([[[-0.30617303,  0.06194295, -0.42034343, -1.888615  ,\n",
       "          -2.2937555 ,  0.68672144,  1.2960382 , -1.1311744 ,\n",
       "          -0.19152352]],\n",
       " \n",
       "        [[-0.12496919, -0.75718635, -0.21456823, -0.07930091,\n",
       "          -0.44249678, -0.28310478,  0.76265246, -1.462515  ,\n",
       "           0.08680444]]], dtype=float32)>,\n",
       " <tf.Variable 'Variable:0' shape=(1, 2) dtype=float32, numpy=array([[0.9889597, 1.064973 ]], dtype=float32)>,\n",
       " <tf.Variable 'Variable:0' shape=(1, 2) dtype=float32, numpy=array([[1.0520185, 1.0743465]], dtype=float32)>,\n",
       " <tf.Variable 'Variable:0' shape=(1, 2) dtype=float32, numpy=array([[1.0430095, 1.0347432]], dtype=float32)>,\n",
       " <tf.Variable 'Variable:0' shape=(1, 2) dtype=float32, numpy=array([[1.0084324, 1.0561559]], dtype=float32)>]"
      ]
     },
     "execution_count": 33,
     "metadata": {},
     "output_type": "execute_result"
    }
   ],
   "source": [
    "first_6_epoch_weights = model.weights\n",
    "first_6_epoch_weights"
   ]
  },
  {
   "cell_type": "code",
   "execution_count": 34,
   "metadata": {},
   "outputs": [
    {
     "data": {
      "text/plain": [
       "{'loss': [0.9413223266601562,\n",
       "  0.5048812627792358,\n",
       "  0.4011978209018707,\n",
       "  0.347080796957016,\n",
       "  0.31995534896850586,\n",
       "  0.29129528999328613],\n",
       " 'class_weights_loss': [0.2251260131597519,\n",
       "  0.1090371310710907,\n",
       "  0.07864071428775787,\n",
       "  0.0647929459810257,\n",
       "  0.05809621885418892,\n",
       "  0.056281398981809616],\n",
       " 'class_weights_1_loss': [0.21691031754016876,\n",
       "  0.09565035998821259,\n",
       "  0.06009742617607117,\n",
       "  0.043785590678453445,\n",
       "  0.03979836404323578,\n",
       "  0.03735021501779556],\n",
       " 'class_weights_2_loss': [0.2575957775115967,\n",
       "  0.16418935358524323,\n",
       "  0.1520228236913681,\n",
       "  0.13327646255493164,\n",
       "  0.12420327216386795,\n",
       "  0.10296647995710373],\n",
       " 'class_weights_3_loss': [0.24169006943702698,\n",
       "  0.13600443303585052,\n",
       "  0.11043684929609299,\n",
       "  0.10522573441267014,\n",
       "  0.0978575050830841,\n",
       "  0.09469721466302872],\n",
       " 'class_weights_accuracy': [0.7325000166893005,\n",
       "  0.862500011920929,\n",
       "  0.9137499928474426,\n",
       "  0.9212499856948853,\n",
       "  0.9337499737739563,\n",
       "  0.9449999928474426],\n",
       " 'class_weights_1_accuracy': [0.7612500190734863,\n",
       "  0.9075000286102295,\n",
       "  0.9412500262260437,\n",
       "  0.9574999809265137,\n",
       "  0.9674999713897705,\n",
       "  0.9624999761581421],\n",
       " 'class_weights_2_accuracy': [0.6524999737739563,\n",
       "  0.7774999737739563,\n",
       "  0.8012499809265137,\n",
       "  0.8399999737739563,\n",
       "  0.8399999737739563,\n",
       "  0.8700000047683716],\n",
       " 'class_weights_3_accuracy': [0.7099999785423279,\n",
       "  0.7887499928474426,\n",
       "  0.8500000238418579,\n",
       "  0.8650000095367432,\n",
       "  0.8712499737739563,\n",
       "  0.8762500286102295],\n",
       " 'val_loss': [0.6251590847969055,\n",
       "  0.46162113547325134,\n",
       "  0.4657244384288788,\n",
       "  0.39843636751174927,\n",
       "  0.3622923791408539,\n",
       "  0.30785781145095825],\n",
       " 'val_class_weights_loss': [0.1505269557237625,\n",
       "  0.09454558044672012,\n",
       "  0.08041784167289734,\n",
       "  0.060097817331552505,\n",
       "  0.04866035282611847,\n",
       "  0.046398259699344635],\n",
       " 'val_class_weights_1_loss': [0.13554787635803223,\n",
       "  0.06550124287605286,\n",
       "  0.09156784415245056,\n",
       "  0.06080688536167145,\n",
       "  0.057105377316474915,\n",
       "  0.02648923173546791],\n",
       " 'val_class_weights_2_loss': [0.18397700786590576,\n",
       "  0.17508715391159058,\n",
       "  0.17087066173553467,\n",
       "  0.15946416556835175,\n",
       "  0.1398959755897522,\n",
       "  0.12513935565948486],\n",
       " 'val_class_weights_3_loss': [0.15510722994804382,\n",
       "  0.12648716568946838,\n",
       "  0.12286806106567383,\n",
       "  0.11806746572256088,\n",
       "  0.1166306659579277,\n",
       "  0.10983096063137054],\n",
       " 'val_class_weights_accuracy': [0.8199999928474426,\n",
       "  0.8949999809265137,\n",
       "  0.8899999856948853,\n",
       "  0.9350000023841858,\n",
       "  0.9399999976158142,\n",
       "  0.9599999785423279],\n",
       " 'val_class_weights_1_accuracy': [0.8149999976158142,\n",
       "  0.9549999833106995,\n",
       "  0.8700000047683716,\n",
       "  0.9399999976158142,\n",
       "  0.9449999928474426,\n",
       "  0.9750000238418579],\n",
       " 'val_class_weights_2_accuracy': [0.7450000047683716,\n",
       "  0.7649999856948853,\n",
       "  0.7649999856948853,\n",
       "  0.7900000214576721,\n",
       "  0.7799999713897705,\n",
       "  0.800000011920929],\n",
       " 'val_class_weights_3_accuracy': [0.7900000214576721,\n",
       "  0.8050000071525574,\n",
       "  0.8199999928474426,\n",
       "  0.8199999928474426,\n",
       "  0.824999988079071,\n",
       "  0.824999988079071]}"
      ]
     },
     "execution_count": 34,
     "metadata": {},
     "output_type": "execute_result"
    }
   ],
   "source": [
    "first_6_epoch_hist = H.history\n",
    "first_6_epoch_hist"
   ]
  },
  {
   "cell_type": "code",
   "execution_count": null,
   "metadata": {},
   "outputs": [],
   "source": []
  }
 ],
 "metadata": {
  "kernelspec": {
   "display_name": "Python 3",
   "language": "python",
   "name": "python3"
  },
  "language_info": {
   "codemirror_mode": {
    "name": "ipython",
    "version": 3
   },
   "file_extension": ".py",
   "mimetype": "text/x-python",
   "name": "python",
   "nbconvert_exporter": "python",
   "pygments_lexer": "ipython3",
   "version": "3.8.6"
  }
 },
 "nbformat": 4,
 "nbformat_minor": 4
}
