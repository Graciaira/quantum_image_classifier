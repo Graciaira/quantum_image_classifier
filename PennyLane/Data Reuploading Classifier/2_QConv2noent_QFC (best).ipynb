{
 "cells": [
  {
   "cell_type": "code",
   "execution_count": 23,
   "metadata": {
    "colab": {
     "base_uri": "https://localhost:8080/"
    },
    "executionInfo": {
     "elapsed": 18659,
     "status": "ok",
     "timestamp": 1610382574744,
     "user": {
      "displayName": "Eraraya Ricardo Muten",
      "photoUrl": "https://lh3.googleusercontent.com/a-/AOh14Ggpw7xw-lyk6u6l92QjpI7MlI7qjJuuciCpwrUd=s64",
      "userId": "03770692095188133952"
     },
     "user_tz": -420
    },
    "id": "e4abR9zSaWNk",
    "outputId": "0c32d57f-a411-4648-8144-7db8ae862454"
   },
   "outputs": [
    {
     "name": "stdout",
     "output_type": "stream",
     "text": [
      "/content/drive\n",
      "Mounted at /content/drive\n"
     ]
    }
   ],
   "source": [
    "# Mount Google Drive\n",
    "from google.colab import drive # import drive from google colab\n",
    " \n",
    "ROOT = \"/content/drive\"     # default location for the drive\n",
    "print(ROOT)                 # print content of ROOT (Optional)\n",
    " \n",
    "drive.mount(ROOT)           # we mount the google drive at /content/drive"
   ]
  },
  {
   "cell_type": "code",
   "execution_count": 33,
   "metadata": {
    "colab": {
     "base_uri": "https://localhost:8080/"
    },
    "executionInfo": {
     "elapsed": 1573,
     "status": "ok",
     "timestamp": 1610382829592,
     "user": {
      "displayName": "Eraraya Ricardo Muten",
      "photoUrl": "https://lh3.googleusercontent.com/a-/AOh14Ggpw7xw-lyk6u6l92QjpI7MlI7qjJuuciCpwrUd=s64",
      "userId": "03770692095188133952"
     },
     "user_tz": -420
    },
    "id": "rYQ5KUgrSClH",
    "outputId": "a4f91034-cf58-4cbc-bd3b-9a68557f9591"
   },
   "outputs": [
    {
     "name": "stdout",
     "output_type": "stream",
     "text": [
      "/content/drive/My Drive/Projects/quantum_image_classifier/PennyLane/Data Reuploading Classifier\n"
     ]
    }
   ],
   "source": [
    "%cd \"/content/drive/My Drive/Projects/quantum_image_classifier/PennyLane/Data Reuploading Classifier\""
   ]
  },
  {
   "cell_type": "code",
   "execution_count": 1,
   "metadata": {
    "executionInfo": {
     "elapsed": 5512,
     "status": "ok",
     "timestamp": 1610357980284,
     "user": {
      "displayName": "Eraraya Ricardo Muten",
      "photoUrl": "https://lh3.googleusercontent.com/a-/AOh14Ggpw7xw-lyk6u6l92QjpI7MlI7qjJuuciCpwrUd=s64",
      "userId": "03770692095188133952"
     },
     "user_tz": -420
    },
    "id": "gk5AKGKcYGOo"
   },
   "outputs": [],
   "source": [
    "!pip install pennylane\n",
    "from IPython.display import clear_output\n",
    "clear_output()"
   ]
  },
  {
   "cell_type": "code",
   "execution_count": null,
   "metadata": {
    "id": "GigSJusGbx1b"
   },
   "outputs": [],
   "source": [
    "import os\n",
    "\n",
    "def restart_runtime():\n",
    "  os.kill(os.getpid(), 9)\n",
    "restart_runtime()"
   ]
  },
  {
   "cell_type": "code",
   "execution_count": 1,
   "metadata": {
    "executionInfo": {
     "elapsed": 855,
     "status": "ok",
     "timestamp": 1610357982999,
     "user": {
      "displayName": "Eraraya Ricardo Muten",
      "photoUrl": "https://lh3.googleusercontent.com/a-/AOh14Ggpw7xw-lyk6u6l92QjpI7MlI7qjJuuciCpwrUd=s64",
      "userId": "03770692095188133952"
     },
     "user_tz": -420
    },
    "id": "HoLmJLkIX810"
   },
   "outputs": [],
   "source": [
    "# %matplotlib inline\n",
    "import matplotlib.pyplot as plt\n",
    "from mpl_toolkits.axes_grid1 import make_axes_locatable\n",
    "\n",
    "import numpy as np"
   ]
  },
  {
   "cell_type": "markdown",
   "metadata": {
    "id": "vZFNOwFXoY8N"
   },
   "source": [
    "# Loading Raw Data"
   ]
  },
  {
   "cell_type": "code",
   "execution_count": 2,
   "metadata": {
    "colab": {
     "base_uri": "https://localhost:8080/"
    },
    "executionInfo": {
     "elapsed": 3065,
     "status": "ok",
     "timestamp": 1610357986720,
     "user": {
      "displayName": "Eraraya Ricardo Muten",
      "photoUrl": "https://lh3.googleusercontent.com/a-/AOh14Ggpw7xw-lyk6u6l92QjpI7MlI7qjJuuciCpwrUd=s64",
      "userId": "03770692095188133952"
     },
     "user_tz": -420
    },
    "id": "IvdFsGCVof9g",
    "outputId": "57b0c866-93c0-45e7-a833-90119b85cf6c"
   },
   "outputs": [],
   "source": [
    "import tensorflow as tf\n",
    "\n",
    "(x_train, y_train), (x_test, y_test) = tf.keras.datasets.mnist.load_data()\n",
    "\n",
    "x_train = x_train[:, 0:27, 0:27]\n",
    "x_test = x_test[:, 0:27, 0:27]"
   ]
  },
  {
   "cell_type": "code",
   "execution_count": 3,
   "metadata": {
    "executionInfo": {
     "elapsed": 1254,
     "status": "ok",
     "timestamp": 1610357989363,
     "user": {
      "displayName": "Eraraya Ricardo Muten",
      "photoUrl": "https://lh3.googleusercontent.com/a-/AOh14Ggpw7xw-lyk6u6l92QjpI7MlI7qjJuuciCpwrUd=s64",
      "userId": "03770692095188133952"
     },
     "user_tz": -420
    },
    "id": "c6zvGFvIoxAN"
   },
   "outputs": [],
   "source": [
    "x_train_flatten = x_train.reshape(x_train.shape[0], x_train.shape[1]*x_train.shape[2])/255.0\n",
    "x_test_flatten = x_test.reshape(x_test.shape[0], x_test.shape[1]*x_test.shape[2])/255.0"
   ]
  },
  {
   "cell_type": "code",
   "execution_count": 4,
   "metadata": {
    "colab": {
     "base_uri": "https://localhost:8080/"
    },
    "executionInfo": {
     "elapsed": 996,
     "status": "ok",
     "timestamp": 1610357989364,
     "user": {
      "displayName": "Eraraya Ricardo Muten",
      "photoUrl": "https://lh3.googleusercontent.com/a-/AOh14Ggpw7xw-lyk6u6l92QjpI7MlI7qjJuuciCpwrUd=s64",
      "userId": "03770692095188133952"
     },
     "user_tz": -420
    },
    "id": "Rmj1dzaso00h",
    "outputId": "e6c46dd3-4962-4412-8c06-7ccc3a10679a"
   },
   "outputs": [
    {
     "name": "stdout",
     "output_type": "stream",
     "text": [
      "(60000, 729) (60000,)\n",
      "(10000, 729) (10000,)\n"
     ]
    }
   ],
   "source": [
    "print(x_train_flatten.shape, y_train.shape)\n",
    "print(x_test_flatten.shape, y_test.shape)"
   ]
  },
  {
   "cell_type": "code",
   "execution_count": 5,
   "metadata": {
    "colab": {
     "base_uri": "https://localhost:8080/"
    },
    "executionInfo": {
     "elapsed": 932,
     "status": "ok",
     "timestamp": 1610357989714,
     "user": {
      "displayName": "Eraraya Ricardo Muten",
      "photoUrl": "https://lh3.googleusercontent.com/a-/AOh14Ggpw7xw-lyk6u6l92QjpI7MlI7qjJuuciCpwrUd=s64",
      "userId": "03770692095188133952"
     },
     "user_tz": -420
    },
    "id": "d10VoIC6o5_I",
    "outputId": "0732b267-d0a4-47cd-c1b4-28acd63e5bf8"
   },
   "outputs": [
    {
     "name": "stdout",
     "output_type": "stream",
     "text": [
      "(5923, 729)\n",
      "(6742, 729)\n",
      "(5958, 729)\n",
      "(6131, 729)\n",
      "(5842, 729)\n",
      "(5421, 729)\n",
      "(5918, 729)\n",
      "(6265, 729)\n",
      "(5851, 729)\n",
      "(5949, 729)\n"
     ]
    }
   ],
   "source": [
    "x_train_0 = x_train_flatten[y_train == 0]\n",
    "x_train_1 = x_train_flatten[y_train == 1]\n",
    "x_train_2 = x_train_flatten[y_train == 2]\n",
    "x_train_3 = x_train_flatten[y_train == 3]\n",
    "x_train_4 = x_train_flatten[y_train == 4]\n",
    "x_train_5 = x_train_flatten[y_train == 5]\n",
    "x_train_6 = x_train_flatten[y_train == 6]\n",
    "x_train_7 = x_train_flatten[y_train == 7]\n",
    "x_train_8 = x_train_flatten[y_train == 8]\n",
    "x_train_9 = x_train_flatten[y_train == 9]\n",
    "\n",
    "x_train_list = [x_train_0, x_train_1, x_train_2, x_train_3, x_train_4, x_train_5, x_train_6, x_train_7, x_train_8, x_train_9]\n",
    "\n",
    "print(x_train_0.shape)\n",
    "print(x_train_1.shape)\n",
    "print(x_train_2.shape)\n",
    "print(x_train_3.shape)\n",
    "print(x_train_4.shape)\n",
    "print(x_train_5.shape)\n",
    "print(x_train_6.shape)\n",
    "print(x_train_7.shape)\n",
    "print(x_train_8.shape)\n",
    "print(x_train_9.shape)"
   ]
  },
  {
   "cell_type": "code",
   "execution_count": 6,
   "metadata": {
    "colab": {
     "base_uri": "https://localhost:8080/"
    },
    "executionInfo": {
     "elapsed": 932,
     "status": "ok",
     "timestamp": 1610357990859,
     "user": {
      "displayName": "Eraraya Ricardo Muten",
      "photoUrl": "https://lh3.googleusercontent.com/a-/AOh14Ggpw7xw-lyk6u6l92QjpI7MlI7qjJuuciCpwrUd=s64",
      "userId": "03770692095188133952"
     },
     "user_tz": -420
    },
    "id": "snFw4LqepFOl",
    "outputId": "6fa81d41-9174-4053-b2db-c4933edfcab8"
   },
   "outputs": [
    {
     "name": "stdout",
     "output_type": "stream",
     "text": [
      "(980, 729)\n",
      "(1135, 729)\n",
      "(1032, 729)\n",
      "(1010, 729)\n",
      "(982, 729)\n",
      "(892, 729)\n",
      "(958, 729)\n",
      "(1028, 729)\n",
      "(974, 729)\n",
      "(1009, 729)\n"
     ]
    }
   ],
   "source": [
    "x_test_0 = x_test_flatten[y_test == 0]\n",
    "x_test_1 = x_test_flatten[y_test == 1]\n",
    "x_test_2 = x_test_flatten[y_test == 2]\n",
    "x_test_3 = x_test_flatten[y_test == 3]\n",
    "x_test_4 = x_test_flatten[y_test == 4]\n",
    "x_test_5 = x_test_flatten[y_test == 5]\n",
    "x_test_6 = x_test_flatten[y_test == 6]\n",
    "x_test_7 = x_test_flatten[y_test == 7]\n",
    "x_test_8 = x_test_flatten[y_test == 8]\n",
    "x_test_9 = x_test_flatten[y_test == 9]\n",
    "\n",
    "x_test_list = [x_test_0, x_test_1, x_test_2, x_test_3, x_test_4, x_test_5, x_test_6, x_test_7, x_test_8, x_test_9]\n",
    "\n",
    "print(x_test_0.shape)\n",
    "print(x_test_1.shape)\n",
    "print(x_test_2.shape)\n",
    "print(x_test_3.shape)\n",
    "print(x_test_4.shape)\n",
    "print(x_test_5.shape)\n",
    "print(x_test_6.shape)\n",
    "print(x_test_7.shape)\n",
    "print(x_test_8.shape)\n",
    "print(x_test_9.shape)"
   ]
  },
  {
   "cell_type": "markdown",
   "metadata": {
    "id": "SAxUS6Lhp95g"
   },
   "source": [
    "# Selecting the dataset\n",
    "\n",
    "Output: X_train, Y_train, X_test, Y_test"
   ]
  },
  {
   "cell_type": "code",
   "execution_count": 7,
   "metadata": {
    "colab": {
     "base_uri": "https://localhost:8080/"
    },
    "executionInfo": {
     "elapsed": 832,
     "status": "ok",
     "timestamp": 1610357995835,
     "user": {
      "displayName": "Eraraya Ricardo Muten",
      "photoUrl": "https://lh3.googleusercontent.com/a-/AOh14Ggpw7xw-lyk6u6l92QjpI7MlI7qjJuuciCpwrUd=s64",
      "userId": "03770692095188133952"
     },
     "user_tz": -420
    },
    "id": "f--pX5Oto_XB",
    "outputId": "3a0814dc-fa71-4a5b-cc07-701a022af134"
   },
   "outputs": [
    {
     "data": {
      "text/plain": [
       "((400, 729), (400,))"
      ]
     },
     "execution_count": 7,
     "metadata": {},
     "output_type": "execute_result"
    }
   ],
   "source": [
    "X_train = np.concatenate((x_train_list[0][:200, :], x_train_list[1][:200, :]), axis=0)\n",
    "Y_train = np.zeros((X_train.shape[0],), dtype=int)\n",
    "Y_train[200:] += 1\n",
    "\n",
    "X_train.shape, Y_train.shape"
   ]
  },
  {
   "cell_type": "code",
   "execution_count": 8,
   "metadata": {
    "colab": {
     "base_uri": "https://localhost:8080/"
    },
    "executionInfo": {
     "elapsed": 573,
     "status": "ok",
     "timestamp": 1610357996969,
     "user": {
      "displayName": "Eraraya Ricardo Muten",
      "photoUrl": "https://lh3.googleusercontent.com/a-/AOh14Ggpw7xw-lyk6u6l92QjpI7MlI7qjJuuciCpwrUd=s64",
      "userId": "03770692095188133952"
     },
     "user_tz": -420
    },
    "id": "W_SHH9e3rqwG",
    "outputId": "4f626106-a04f-4f44-d1f9-591c0fd1c96c"
   },
   "outputs": [
    {
     "data": {
      "text/plain": [
       "((1000, 729), (1000,))"
      ]
     },
     "execution_count": 8,
     "metadata": {},
     "output_type": "execute_result"
    }
   ],
   "source": [
    "X_test = np.concatenate((x_test_list[0][:500, :], x_test_list[1][:500, :]), axis=0)\n",
    "Y_test = np.zeros((X_test.shape[0],), dtype=int)\n",
    "Y_test[500:] += 1\n",
    "\n",
    "X_test.shape, Y_test.shape"
   ]
  },
  {
   "cell_type": "markdown",
   "metadata": {
    "id": "LrebzTO1z-or"
   },
   "source": [
    "# Dataset Preprocessing"
   ]
  },
  {
   "cell_type": "code",
   "execution_count": 9,
   "metadata": {
    "colab": {
     "base_uri": "https://localhost:8080/"
    },
    "executionInfo": {
     "elapsed": 788,
     "status": "ok",
     "timestamp": 1610358000137,
     "user": {
      "displayName": "Eraraya Ricardo Muten",
      "photoUrl": "https://lh3.googleusercontent.com/a-/AOh14Ggpw7xw-lyk6u6l92QjpI7MlI7qjJuuciCpwrUd=s64",
      "userId": "03770692095188133952"
     },
     "user_tz": -420
    },
    "id": "tpIJBmVAz-os",
    "outputId": "066f3c86-cdcf-48f7-cfe7-b4e203f6a139"
   },
   "outputs": [
    {
     "data": {
      "text/plain": [
       "((400, 27, 27), (1000, 27, 27))"
      ]
     },
     "execution_count": 9,
     "metadata": {},
     "output_type": "execute_result"
    }
   ],
   "source": [
    "X_train = X_train.reshape(X_train.shape[0], 27, 27)\n",
    "X_test = X_test.reshape(X_test.shape[0], 27, 27)\n",
    "\n",
    "X_train.shape, X_test.shape"
   ]
  },
  {
   "cell_type": "markdown",
   "metadata": {
    "id": "ockEle2Ez-os"
   },
   "source": [
    "# Quantum"
   ]
  },
  {
   "cell_type": "code",
   "execution_count": 10,
   "metadata": {
    "executionInfo": {
     "elapsed": 4679,
     "status": "ok",
     "timestamp": 1610358007092,
     "user": {
      "displayName": "Eraraya Ricardo Muten",
      "photoUrl": "https://lh3.googleusercontent.com/a-/AOh14Ggpw7xw-lyk6u6l92QjpI7MlI7qjJuuciCpwrUd=s64",
      "userId": "03770692095188133952"
     },
     "user_tz": -420
    },
    "id": "jP9aoKRGz-os"
   },
   "outputs": [],
   "source": [
    "import pennylane as qml\n",
    "from pennylane import numpy as np\n",
    "from pennylane.optimize import AdamOptimizer, GradientDescentOptimizer\n",
    "\n",
    "qml.enable_tape()\n",
    "\n",
    "from tensorflow.keras.utils import to_categorical\n",
    "\n",
    "# Set a random seed\n",
    "np.random.seed(2020)"
   ]
  },
  {
   "cell_type": "code",
   "execution_count": 11,
   "metadata": {
    "executionInfo": {
     "elapsed": 826,
     "status": "ok",
     "timestamp": 1610358054620,
     "user": {
      "displayName": "Eraraya Ricardo Muten",
      "photoUrl": "https://lh3.googleusercontent.com/a-/AOh14Ggpw7xw-lyk6u6l92QjpI7MlI7qjJuuciCpwrUd=s64",
      "userId": "03770692095188133952"
     },
     "user_tz": -420
    },
    "id": "BFo9kVhAz-ot"
   },
   "outputs": [],
   "source": [
    "# Define output labels as quantum state vectors\n",
    "def density_matrix(state):\n",
    "    \"\"\"Calculates the density matrix representation of a state.\n",
    "\n",
    "    Args:\n",
    "        state (array[complex]): array representing a quantum state vector\n",
    "\n",
    "    Returns:\n",
    "        dm: (array[complex]): array representing the density matrix\n",
    "    \"\"\"\n",
    "    return state * np.conj(state).T\n",
    "\n",
    "\n",
    "label_0 = [[1], [0]]\n",
    "label_1 = [[0], [1]]\n",
    "state_labels = [label_0, label_1]"
   ]
  },
  {
   "cell_type": "code",
   "execution_count": 12,
   "metadata": {
    "executionInfo": {
     "elapsed": 975,
     "status": "ok",
     "timestamp": 1610358057231,
     "user": {
      "displayName": "Eraraya Ricardo Muten",
      "photoUrl": "https://lh3.googleusercontent.com/a-/AOh14Ggpw7xw-lyk6u6l92QjpI7MlI7qjJuuciCpwrUd=s64",
      "userId": "03770692095188133952"
     },
     "user_tz": -420
    },
    "id": "fYmu1Jchz-ot"
   },
   "outputs": [],
   "source": [
    "n_qubits = 2  # number of class\n",
    "dev_fc = qml.device(\"default.qubit\", wires=n_qubits)\n",
    "\n",
    "\n",
    "@qml.qnode(dev_fc)\n",
    "def q_fc(params, inputs):\n",
    "    \"\"\"A variational quantum circuit representing the DRC.\n",
    "\n",
    "    Args:\n",
    "        params (array[float]): array of parameters\n",
    "        inputs = [x, y]\n",
    "        x (array[float]): 1-d input vector\n",
    "        y (array[float]): single output state density matrix\n",
    "\n",
    "    Returns:\n",
    "        float: fidelity between output state and input\n",
    "    \"\"\"\n",
    "    \n",
    "    # layer iteration\n",
    "    for l in range(len(params[0])):\n",
    "        # qubit iteration\n",
    "        for q in range(n_qubits):\n",
    "            # gate iteration\n",
    "            for g in range(int(len(inputs)/3)):\n",
    "                qml.Rot(*(params[0][l][3*g:3*(g+1)] * inputs[3*g:3*(g+1)] + params[1][l][3*g:3*(g+1)]), wires=q)\n",
    "    \n",
    "    return [qml.expval(qml.Hermitian(density_matrix(state_labels[i]), wires=[i])) for i in range(n_qubits)]\n"
   ]
  },
  {
   "cell_type": "code",
   "execution_count": 13,
   "metadata": {
    "executionInfo": {
     "elapsed": 859,
     "status": "ok",
     "timestamp": 1610358059994,
     "user": {
      "displayName": "Eraraya Ricardo Muten",
      "photoUrl": "https://lh3.googleusercontent.com/a-/AOh14Ggpw7xw-lyk6u6l92QjpI7MlI7qjJuuciCpwrUd=s64",
      "userId": "03770692095188133952"
     },
     "user_tz": -420
    },
    "id": "UNYRb5MCz-ot"
   },
   "outputs": [],
   "source": [
    "dev_conv = qml.device(\"default.qubit\", wires=9)\n",
    "\n",
    "\n",
    "@qml.qnode(dev_conv)\n",
    "def q_conv(conv_params, inputs):\n",
    "    \"\"\"A variational quantum circuit representing the Universal classifier + Conv.\n",
    "\n",
    "    Args:\n",
    "        params (array[float]): array of parameters\n",
    "        x (array[float]): 2-d input vector\n",
    "        y (array[float]): single output state density matrix\n",
    "\n",
    "    Returns:\n",
    "        float: fidelity between output state and input\n",
    "    \"\"\"\n",
    "    # layer iteration\n",
    "    for l in range(len(conv_params[0])):\n",
    "        # RY layer\n",
    "        # height iteration\n",
    "        for i in range(3):\n",
    "            # width iteration\n",
    "            for j in range(3):\n",
    "                qml.RY((conv_params[0][l][3*i+j] * inputs[i, j] + conv_params[1][l][3*i+j]), wires=(3*i+j))\n",
    "\n",
    "\n",
    "    return qml.expval(qml.PauliZ(0) @ qml.PauliZ(1) @ qml.PauliZ(2) @ qml.PauliZ(3) @ qml.PauliZ(4) @ qml.PauliZ(5) @ qml.PauliZ(6) @ qml.PauliZ(7) @ qml.PauliZ(8))"
   ]
  },
  {
   "cell_type": "code",
   "execution_count": 14,
   "metadata": {},
   "outputs": [
    {
     "data": {
      "text/plain": [
       "tensor(1., requires_grad=True)"
      ]
     },
     "execution_count": 14,
     "metadata": {},
     "output_type": "execute_result"
    }
   ],
   "source": [
    "a = np.zeros((2, 1, 9))\n",
    "q_conv(a, X_train[0, 0:3, 0:3])"
   ]
  },
  {
   "cell_type": "code",
   "execution_count": 15,
   "metadata": {},
   "outputs": [
    {
     "data": {
      "text/plain": [
       "tensor([1., 0.], requires_grad=True)"
      ]
     },
     "execution_count": 15,
     "metadata": {},
     "output_type": "execute_result"
    }
   ],
   "source": [
    "a = np.zeros((2, 1, 9))\n",
    "q_fc(a, X_train[0, 0, 0:9])"
   ]
  },
  {
   "cell_type": "code",
   "execution_count": 16,
   "metadata": {
    "executionInfo": {
     "elapsed": 811,
     "status": "ok",
     "timestamp": 1610358062091,
     "user": {
      "displayName": "Eraraya Ricardo Muten",
      "photoUrl": "https://lh3.googleusercontent.com/a-/AOh14Ggpw7xw-lyk6u6l92QjpI7MlI7qjJuuciCpwrUd=s64",
      "userId": "03770692095188133952"
     },
     "user_tz": -420
    },
    "id": "zzVunJV1z-ou"
   },
   "outputs": [],
   "source": [
    "from keras import backend as K\n",
    "\n",
    "\n",
    "# Alpha Custom Layer\n",
    "class class_weights(tf.keras.layers.Layer):\n",
    "    def __init__(self):\n",
    "        super(class_weights, self).__init__()\n",
    "        w_init = tf.random_normal_initializer()\n",
    "        self.w = tf.Variable(\n",
    "            initial_value=w_init(shape=(1, 2), dtype=\"float32\"),\n",
    "            trainable=True,\n",
    "        )\n",
    "\n",
    "    def call(self, inputs):\n",
    "        return (inputs * self.w)"
   ]
  },
  {
   "cell_type": "code",
   "execution_count": 24,
   "metadata": {
    "executionInfo": {
     "elapsed": 2804,
     "status": "ok",
     "timestamp": 1610358067284,
     "user": {
      "displayName": "Eraraya Ricardo Muten",
      "photoUrl": "https://lh3.googleusercontent.com/a-/AOh14Ggpw7xw-lyk6u6l92QjpI7MlI7qjJuuciCpwrUd=s64",
      "userId": "03770692095188133952"
     },
     "user_tz": -420
    },
    "id": "6IozHMJhz-ou"
   },
   "outputs": [],
   "source": [
    "# Input image, size = 27 x 27\n",
    "X = tf.keras.Input(shape=(27,27), name='Input_Layer')\n",
    "\n",
    "\n",
    "# Specs for Conv\n",
    "c_filter = 3\n",
    "c_strides = 2\n",
    "\n",
    "\n",
    "# First Quantum Conv Layer, trainable params = 18*L, output size = 13 x 13\n",
    "num_conv_layer_1 = 1\n",
    "q_conv_layer_1 = qml.qnn.KerasLayer(q_conv, {\"conv_params\": (2, num_conv_layer_1, 9)}, output_dim=(1), name='Quantum_Conv_Layer_1')\n",
    "size_1 = int(1+(X.shape[1]-c_filter)/c_strides)\n",
    "q_conv_layer_1_list = []\n",
    "# height iteration\n",
    "for i in range(size_1):\n",
    "    # width iteration\n",
    "    for j in range(size_1):\n",
    "        temp = q_conv_layer_1(X[:, 2*i:2*(i+1)+1, 2*j:2*(j+1)+1])\n",
    "        temp = tf.keras.layers.Reshape((1,))(temp)\n",
    "        q_conv_layer_1_list += [temp]\n",
    "concat_layer_1 = tf.keras.layers.Concatenate(axis=1)(q_conv_layer_1_list)\n",
    "reshape_layer_1 = tf.keras.layers.Reshape((size_1, size_1))(concat_layer_1)\n",
    "\n",
    "\n",
    "# Second Quantum Conv Layer, trainable params = 18*L, output size = 6 x 6\n",
    "num_conv_layer_2 = 1\n",
    "q_conv_layer_2 = qml.qnn.KerasLayer(q_conv, {\"conv_params\": (2, num_conv_layer_2, 9)}, output_dim=(1), name='Quantum_Conv_Layer_2')\n",
    "size_2 = int(1+(reshape_layer_1.shape[1]-c_filter)/c_strides)\n",
    "q_conv_layer_2_list = []\n",
    "# height iteration\n",
    "for i in range(size_2):\n",
    "    # width iteration\n",
    "    for j in range(size_2):\n",
    "        temp = q_conv_layer_2(reshape_layer_1[:, 2*i:2*(i+1)+1, 2*j:2*(j+1)+1])\n",
    "        temp = tf.keras.layers.Reshape((1,))(temp)\n",
    "        q_conv_layer_2_list += [temp]\n",
    "concat_layer_2 = tf.keras.layers.Concatenate(axis=1)(q_conv_layer_2_list)\n",
    "reshape_layer_2 = tf.keras.layers.Reshape((size_2, size_2, 1))(concat_layer_2)\n",
    "\n",
    "\n",
    "# Max Pooling Layer, output size = 9\n",
    "max_pool_layer = tf.keras.layers.MaxPooling2D(pool_size=(2, 2), strides=None, name='Max_Pool_Layer')(reshape_layer_2)\n",
    "reshape_layer_3 = tf.keras.layers.Reshape((9,))(max_pool_layer)\n",
    "\n",
    "\n",
    "# Quantum FC Layer, trainable params = 18*L*n_class + 2, output size = 2\n",
    "num_fc_layer = 1\n",
    "q_fc_layer_0 = qml.qnn.KerasLayer(q_fc, {\"params\": (2, num_fc_layer, 9)}, output_dim=2)(reshape_layer_3)\n",
    "\n",
    "# Alpha Layer\n",
    "alpha_layer_0 = class_weights()(q_fc_layer_0)\n",
    "\n",
    "model = tf.keras.Model(inputs=X, outputs=alpha_layer_0)"
   ]
  },
  {
   "cell_type": "code",
   "execution_count": 25,
   "metadata": {
    "colab": {
     "base_uri": "https://localhost:8080/"
    },
    "executionInfo": {
     "elapsed": 39184,
     "status": "ok",
     "timestamp": 1610358109156,
     "user": {
      "displayName": "Eraraya Ricardo Muten",
      "photoUrl": "https://lh3.googleusercontent.com/a-/AOh14Ggpw7xw-lyk6u6l92QjpI7MlI7qjJuuciCpwrUd=s64",
      "userId": "03770692095188133952"
     },
     "user_tz": -420
    },
    "id": "-kazExRcz-ov",
    "outputId": "11a34545-b4dd-425d-d246-8d0d260c9da8",
    "scrolled": false
   },
   "outputs": [
    {
     "data": {
      "text/plain": [
       "<tf.Tensor: shape=(3, 2), dtype=float32, numpy=\n",
       "array([[-0.09844495, -0.00993194],\n",
       "       [-0.09831073, -0.01002079],\n",
       "       [-0.09858587, -0.00983866]], dtype=float32)>"
      ]
     },
     "execution_count": 25,
     "metadata": {},
     "output_type": "execute_result"
    }
   ],
   "source": [
    "model(X_train[0:3, :, :])"
   ]
  },
  {
   "cell_type": "code",
   "execution_count": 26,
   "metadata": {},
   "outputs": [],
   "source": [
    "import keras.backend as K\n",
    "\n",
    "# def custom_loss(y_true, y_pred):\n",
    "#     return K.sum(((y_true.shape[1]-2)*y_true+1)*K.square(y_true-y_pred))/len(y_true)\n",
    "\n",
    "def custom_loss(y_true, y_pred):\n",
    "    loss = K.square(y_true-y_pred)\n",
    "    #class_weights = y_true*(weight_for_1-weight_for_0) + weight_for_0\n",
    "    #loss = loss * class_weights\n",
    "    \n",
    "    return K.sum(loss)/len(y_true)"
   ]
  },
  {
   "cell_type": "code",
   "execution_count": 27,
   "metadata": {
    "executionInfo": {
     "elapsed": 1168,
     "status": "ok",
     "timestamp": 1610358110335,
     "user": {
      "displayName": "Eraraya Ricardo Muten",
      "photoUrl": "https://lh3.googleusercontent.com/a-/AOh14Ggpw7xw-lyk6u6l92QjpI7MlI7qjJuuciCpwrUd=s64",
      "userId": "03770692095188133952"
     },
     "user_tz": -420
    },
    "id": "wZ2e6t93z-ow"
   },
   "outputs": [],
   "source": [
    "opt = tf.keras.optimizers.Adam(learning_rate=0.1)\n",
    "model.compile(opt, loss='mse', metrics=[\"accuracy\"])"
   ]
  },
  {
   "cell_type": "code",
   "execution_count": 21,
   "metadata": {},
   "outputs": [],
   "source": [
    "cp_val_acc = tf.keras.callbacks.ModelCheckpoint(filepath=\"./Model/2_QConv2noent_QFC_valacc.hdf5\",\n",
    "                monitor='val_accuracy', verbose=1, save_weights_only=True, save_best_only=True, mode='max')\n",
    "\n",
    "cp_val_loss = tf.keras.callbacks.ModelCheckpoint(filepath=\"./Model/2_QConv2noent_QFC_valloss.hdf5\",\n",
    "                monitor='val_loss', verbose=1, save_weights_only=True, save_best_only=True, mode='min')"
   ]
  },
  {
   "cell_type": "code",
   "execution_count": 22,
   "metadata": {},
   "outputs": [],
   "source": [
    "filepath = \"./Model_2/2_QConv2noent_QFC_saved-model-{epoch:02d}.hdf5\"\n",
    "checkpoint = tf.keras.callbacks.ModelCheckpoint(filepath, monitor='val_acc', verbose=1,\n",
    "                                                save_weights_only=True, save_best_only=False, mode='auto')"
   ]
  },
  {
   "cell_type": "code",
   "execution_count": 23,
   "metadata": {
    "colab": {
     "base_uri": "https://localhost:8080/"
    },
    "executionInfo": {
     "elapsed": 23954180,
     "status": "ok",
     "timestamp": 1610382086131,
     "user": {
      "displayName": "Eraraya Ricardo Muten",
      "photoUrl": "https://lh3.googleusercontent.com/a-/AOh14Ggpw7xw-lyk6u6l92QjpI7MlI7qjJuuciCpwrUd=s64",
      "userId": "03770692095188133952"
     },
     "user_tz": -420
    },
    "id": "GKW8hv-9z-ow",
    "outputId": "a004b2f4-c3e3-4aa1-cef5-0d28d21a6d57",
    "scrolled": false
   },
   "outputs": [
    {
     "name": "stdout",
     "output_type": "stream",
     "text": [
      "Epoch 1/10\n",
      "13/13 [==============================] - 5814s 459s/step - loss: 0.4210 - accuracy: 0.5390 - val_loss: 0.2447 - val_accuracy: 0.5000\n",
      "\n",
      "Epoch 00001: saving model to ./Model_2/2_QConv2noent_QFC_saved-model-01.hdf5\n",
      "\n",
      "Epoch 00001: val_accuracy improved from -inf to 0.50000, saving model to ./Model/2_QConv2noent_QFC_valacc.hdf5\n",
      "\n",
      "Epoch 00001: val_loss improved from inf to 0.24468, saving model to ./Model/2_QConv2noent_QFC_valloss.hdf5\n",
      "Epoch 2/10\n",
      "13/13 [==============================] - 5887s 466s/step - loss: 0.2054 - accuracy: 0.6927 - val_loss: 0.0570 - val_accuracy: 0.9580\n",
      "\n",
      "Epoch 00002: saving model to ./Model_2/2_QConv2noent_QFC_saved-model-02.hdf5\n",
      "\n",
      "Epoch 00002: val_accuracy improved from 0.50000 to 0.95800, saving model to ./Model/2_QConv2noent_QFC_valacc.hdf5\n",
      "\n",
      "Epoch 00002: val_loss improved from 0.24468 to 0.05704, saving model to ./Model/2_QConv2noent_QFC_valloss.hdf5\n",
      "Epoch 3/10\n",
      "13/13 [==============================] - 5921s 468s/step - loss: 0.0365 - accuracy: 0.9797 - val_loss: 0.0220 - val_accuracy: 0.9800\n",
      "\n",
      "Epoch 00003: saving model to ./Model_2/2_QConv2noent_QFC_saved-model-03.hdf5\n",
      "\n",
      "Epoch 00003: val_accuracy improved from 0.95800 to 0.98000, saving model to ./Model/2_QConv2noent_QFC_valacc.hdf5\n",
      "\n",
      "Epoch 00003: val_loss improved from 0.05704 to 0.02196, saving model to ./Model/2_QConv2noent_QFC_valloss.hdf5\n",
      "Epoch 4/10\n",
      "13/13 [==============================] - 5812s 459s/step - loss: 0.0162 - accuracy: 0.9894 - val_loss: 0.0134 - val_accuracy: 0.9830\n",
      "\n",
      "Epoch 00004: saving model to ./Model_2/2_QConv2noent_QFC_saved-model-04.hdf5\n",
      "\n",
      "Epoch 00004: val_accuracy improved from 0.98000 to 0.98300, saving model to ./Model/2_QConv2noent_QFC_valacc.hdf5\n",
      "\n",
      "Epoch 00004: val_loss improved from 0.02196 to 0.01341, saving model to ./Model/2_QConv2noent_QFC_valloss.hdf5\n",
      "Epoch 5/10\n",
      "13/13 [==============================] - 5637s 445s/step - loss: 0.0140 - accuracy: 0.9864 - val_loss: 0.0097 - val_accuracy: 0.9950\n",
      "\n",
      "Epoch 00005: saving model to ./Model_2/2_QConv2noent_QFC_saved-model-05.hdf5\n",
      "\n",
      "Epoch 00005: val_accuracy improved from 0.98300 to 0.99500, saving model to ./Model/2_QConv2noent_QFC_valacc.hdf5\n",
      "\n",
      "Epoch 00005: val_loss improved from 0.01341 to 0.00969, saving model to ./Model/2_QConv2noent_QFC_valloss.hdf5\n",
      "Epoch 6/10\n",
      "13/13 [==============================] - 5516s 436s/step - loss: 0.0148 - accuracy: 0.9757 - val_loss: 0.0090 - val_accuracy: 0.9940\n",
      "\n",
      "Epoch 00006: saving model to ./Model_2/2_QConv2noent_QFC_saved-model-06.hdf5\n",
      "\n",
      "Epoch 00006: val_accuracy did not improve from 0.99500\n",
      "\n",
      "Epoch 00006: val_loss improved from 0.00969 to 0.00904, saving model to ./Model/2_QConv2noent_QFC_valloss.hdf5\n",
      "Epoch 7/10\n",
      "13/13 [==============================] - 5593s 441s/step - loss: 0.0063 - accuracy: 0.9980 - val_loss: 0.0095 - val_accuracy: 0.9960\n",
      "\n",
      "Epoch 00007: saving model to ./Model_2/2_QConv2noent_QFC_saved-model-07.hdf5\n",
      "\n",
      "Epoch 00007: val_accuracy improved from 0.99500 to 0.99600, saving model to ./Model/2_QConv2noent_QFC_valacc.hdf5\n",
      "\n",
      "Epoch 00007: val_loss did not improve from 0.00904\n",
      "Epoch 8/10\n",
      "13/13 [==============================] - 5491s 433s/step - loss: 0.0083 - accuracy: 0.9944 - val_loss: 0.0060 - val_accuracy: 0.9970\n",
      "\n",
      "Epoch 00008: saving model to ./Model_2/2_QConv2noent_QFC_saved-model-08.hdf5\n",
      "\n",
      "Epoch 00008: val_accuracy improved from 0.99600 to 0.99700, saving model to ./Model/2_QConv2noent_QFC_valacc.hdf5\n",
      "\n",
      "Epoch 00008: val_loss improved from 0.00904 to 0.00597, saving model to ./Model/2_QConv2noent_QFC_valloss.hdf5\n",
      "Epoch 9/10\n",
      "13/13 [==============================] - 5508s 434s/step - loss: 0.0114 - accuracy: 0.9924 - val_loss: 0.0076 - val_accuracy: 0.9940\n",
      "\n",
      "Epoch 00009: saving model to ./Model_2/2_QConv2noent_QFC_saved-model-09.hdf5\n",
      "\n",
      "Epoch 00009: val_accuracy did not improve from 0.99700\n",
      "\n",
      "Epoch 00009: val_loss did not improve from 0.00597\n",
      "Epoch 10/10\n",
      "13/13 [==============================] - 5535s 437s/step - loss: 0.0059 - accuracy: 0.9980 - val_loss: 0.0063 - val_accuracy: 0.9960\n",
      "\n",
      "Epoch 00010: saving model to ./Model_2/2_QConv2noent_QFC_saved-model-10.hdf5\n",
      "\n",
      "Epoch 00010: val_accuracy did not improve from 0.99700\n",
      "\n",
      "Epoch 00010: val_loss did not improve from 0.00597\n"
     ]
    }
   ],
   "source": [
    "H = model.fit(X_train, to_categorical(Y_train), epochs=10, batch_size=32, initial_epoch=0,\n",
    "              validation_data=(X_test, to_categorical(Y_test)), verbose=1,\n",
    "              callbacks=[checkpoint, cp_val_acc, cp_val_loss])"
   ]
  },
  {
   "cell_type": "code",
   "execution_count": 39,
   "metadata": {},
   "outputs": [
    {
     "name": "stdout",
     "output_type": "stream",
     "text": [
      "Model: \"model_1\"\n",
      "__________________________________________________________________________________________________\n",
      "Layer (type)                    Output Shape         Param #     Connected to                     \n",
      "==================================================================================================\n",
      "Input_Layer (InputLayer)        [(None, 27, 27)]     0                                            \n",
      "__________________________________________________________________________________________________\n",
      "tf.__operators__.getitem_205 (S (None, 3, 3)         0           Input_Layer[0][0]                \n",
      "__________________________________________________________________________________________________\n",
      "tf.__operators__.getitem_206 (S (None, 3, 3)         0           Input_Layer[0][0]                \n",
      "__________________________________________________________________________________________________\n",
      "tf.__operators__.getitem_207 (S (None, 3, 3)         0           Input_Layer[0][0]                \n",
      "__________________________________________________________________________________________________\n",
      "tf.__operators__.getitem_208 (S (None, 3, 3)         0           Input_Layer[0][0]                \n",
      "__________________________________________________________________________________________________\n",
      "tf.__operators__.getitem_209 (S (None, 3, 3)         0           Input_Layer[0][0]                \n",
      "__________________________________________________________________________________________________\n",
      "tf.__operators__.getitem_210 (S (None, 3, 3)         0           Input_Layer[0][0]                \n",
      "__________________________________________________________________________________________________\n",
      "tf.__operators__.getitem_211 (S (None, 3, 3)         0           Input_Layer[0][0]                \n",
      "__________________________________________________________________________________________________\n",
      "tf.__operators__.getitem_212 (S (None, 3, 3)         0           Input_Layer[0][0]                \n",
      "__________________________________________________________________________________________________\n",
      "tf.__operators__.getitem_213 (S (None, 3, 3)         0           Input_Layer[0][0]                \n",
      "__________________________________________________________________________________________________\n",
      "tf.__operators__.getitem_214 (S (None, 3, 3)         0           Input_Layer[0][0]                \n",
      "__________________________________________________________________________________________________\n",
      "tf.__operators__.getitem_215 (S (None, 3, 3)         0           Input_Layer[0][0]                \n",
      "__________________________________________________________________________________________________\n",
      "tf.__operators__.getitem_216 (S (None, 3, 3)         0           Input_Layer[0][0]                \n",
      "__________________________________________________________________________________________________\n",
      "tf.__operators__.getitem_217 (S (None, 3, 3)         0           Input_Layer[0][0]                \n",
      "__________________________________________________________________________________________________\n",
      "tf.__operators__.getitem_218 (S (None, 3, 3)         0           Input_Layer[0][0]                \n",
      "__________________________________________________________________________________________________\n",
      "tf.__operators__.getitem_219 (S (None, 3, 3)         0           Input_Layer[0][0]                \n",
      "__________________________________________________________________________________________________\n",
      "tf.__operators__.getitem_220 (S (None, 3, 3)         0           Input_Layer[0][0]                \n",
      "__________________________________________________________________________________________________\n",
      "tf.__operators__.getitem_221 (S (None, 3, 3)         0           Input_Layer[0][0]                \n",
      "__________________________________________________________________________________________________\n",
      "tf.__operators__.getitem_222 (S (None, 3, 3)         0           Input_Layer[0][0]                \n",
      "__________________________________________________________________________________________________\n",
      "tf.__operators__.getitem_223 (S (None, 3, 3)         0           Input_Layer[0][0]                \n",
      "__________________________________________________________________________________________________\n",
      "tf.__operators__.getitem_224 (S (None, 3, 3)         0           Input_Layer[0][0]                \n",
      "__________________________________________________________________________________________________\n",
      "tf.__operators__.getitem_225 (S (None, 3, 3)         0           Input_Layer[0][0]                \n",
      "__________________________________________________________________________________________________\n",
      "tf.__operators__.getitem_226 (S (None, 3, 3)         0           Input_Layer[0][0]                \n",
      "__________________________________________________________________________________________________\n",
      "tf.__operators__.getitem_227 (S (None, 3, 3)         0           Input_Layer[0][0]                \n",
      "__________________________________________________________________________________________________\n",
      "tf.__operators__.getitem_228 (S (None, 3, 3)         0           Input_Layer[0][0]                \n",
      "__________________________________________________________________________________________________\n",
      "tf.__operators__.getitem_229 (S (None, 3, 3)         0           Input_Layer[0][0]                \n",
      "__________________________________________________________________________________________________\n",
      "tf.__operators__.getitem_230 (S (None, 3, 3)         0           Input_Layer[0][0]                \n",
      "__________________________________________________________________________________________________\n",
      "tf.__operators__.getitem_231 (S (None, 3, 3)         0           Input_Layer[0][0]                \n",
      "__________________________________________________________________________________________________\n",
      "tf.__operators__.getitem_232 (S (None, 3, 3)         0           Input_Layer[0][0]                \n",
      "__________________________________________________________________________________________________\n",
      "tf.__operators__.getitem_233 (S (None, 3, 3)         0           Input_Layer[0][0]                \n",
      "__________________________________________________________________________________________________\n",
      "tf.__operators__.getitem_234 (S (None, 3, 3)         0           Input_Layer[0][0]                \n",
      "__________________________________________________________________________________________________\n",
      "tf.__operators__.getitem_235 (S (None, 3, 3)         0           Input_Layer[0][0]                \n",
      "__________________________________________________________________________________________________\n",
      "tf.__operators__.getitem_236 (S (None, 3, 3)         0           Input_Layer[0][0]                \n",
      "__________________________________________________________________________________________________\n",
      "tf.__operators__.getitem_237 (S (None, 3, 3)         0           Input_Layer[0][0]                \n",
      "__________________________________________________________________________________________________\n",
      "tf.__operators__.getitem_238 (S (None, 3, 3)         0           Input_Layer[0][0]                \n",
      "__________________________________________________________________________________________________\n",
      "tf.__operators__.getitem_239 (S (None, 3, 3)         0           Input_Layer[0][0]                \n",
      "__________________________________________________________________________________________________\n",
      "tf.__operators__.getitem_240 (S (None, 3, 3)         0           Input_Layer[0][0]                \n",
      "__________________________________________________________________________________________________\n",
      "tf.__operators__.getitem_241 (S (None, 3, 3)         0           Input_Layer[0][0]                \n",
      "__________________________________________________________________________________________________\n",
      "tf.__operators__.getitem_242 (S (None, 3, 3)         0           Input_Layer[0][0]                \n",
      "__________________________________________________________________________________________________\n",
      "tf.__operators__.getitem_243 (S (None, 3, 3)         0           Input_Layer[0][0]                \n",
      "__________________________________________________________________________________________________\n",
      "tf.__operators__.getitem_244 (S (None, 3, 3)         0           Input_Layer[0][0]                \n",
      "__________________________________________________________________________________________________\n",
      "tf.__operators__.getitem_245 (S (None, 3, 3)         0           Input_Layer[0][0]                \n",
      "__________________________________________________________________________________________________\n",
      "tf.__operators__.getitem_246 (S (None, 3, 3)         0           Input_Layer[0][0]                \n",
      "__________________________________________________________________________________________________\n",
      "tf.__operators__.getitem_247 (S (None, 3, 3)         0           Input_Layer[0][0]                \n",
      "__________________________________________________________________________________________________\n",
      "tf.__operators__.getitem_248 (S (None, 3, 3)         0           Input_Layer[0][0]                \n",
      "__________________________________________________________________________________________________\n",
      "tf.__operators__.getitem_249 (S (None, 3, 3)         0           Input_Layer[0][0]                \n",
      "__________________________________________________________________________________________________\n",
      "tf.__operators__.getitem_250 (S (None, 3, 3)         0           Input_Layer[0][0]                \n",
      "__________________________________________________________________________________________________\n",
      "tf.__operators__.getitem_251 (S (None, 3, 3)         0           Input_Layer[0][0]                \n",
      "__________________________________________________________________________________________________\n",
      "tf.__operators__.getitem_252 (S (None, 3, 3)         0           Input_Layer[0][0]                \n",
      "__________________________________________________________________________________________________\n",
      "tf.__operators__.getitem_253 (S (None, 3, 3)         0           Input_Layer[0][0]                \n",
      "__________________________________________________________________________________________________\n",
      "tf.__operators__.getitem_254 (S (None, 3, 3)         0           Input_Layer[0][0]                \n",
      "__________________________________________________________________________________________________\n",
      "tf.__operators__.getitem_255 (S (None, 3, 3)         0           Input_Layer[0][0]                \n",
      "__________________________________________________________________________________________________\n",
      "tf.__operators__.getitem_256 (S (None, 3, 3)         0           Input_Layer[0][0]                \n",
      "__________________________________________________________________________________________________\n",
      "tf.__operators__.getitem_257 (S (None, 3, 3)         0           Input_Layer[0][0]                \n",
      "__________________________________________________________________________________________________\n",
      "tf.__operators__.getitem_258 (S (None, 3, 3)         0           Input_Layer[0][0]                \n",
      "__________________________________________________________________________________________________\n",
      "tf.__operators__.getitem_259 (S (None, 3, 3)         0           Input_Layer[0][0]                \n",
      "__________________________________________________________________________________________________\n",
      "tf.__operators__.getitem_260 (S (None, 3, 3)         0           Input_Layer[0][0]                \n",
      "__________________________________________________________________________________________________\n",
      "tf.__operators__.getitem_261 (S (None, 3, 3)         0           Input_Layer[0][0]                \n",
      "__________________________________________________________________________________________________\n",
      "tf.__operators__.getitem_262 (S (None, 3, 3)         0           Input_Layer[0][0]                \n",
      "__________________________________________________________________________________________________\n",
      "tf.__operators__.getitem_263 (S (None, 3, 3)         0           Input_Layer[0][0]                \n",
      "__________________________________________________________________________________________________\n",
      "tf.__operators__.getitem_264 (S (None, 3, 3)         0           Input_Layer[0][0]                \n",
      "__________________________________________________________________________________________________\n",
      "tf.__operators__.getitem_265 (S (None, 3, 3)         0           Input_Layer[0][0]                \n",
      "__________________________________________________________________________________________________\n",
      "tf.__operators__.getitem_266 (S (None, 3, 3)         0           Input_Layer[0][0]                \n",
      "__________________________________________________________________________________________________\n",
      "tf.__operators__.getitem_267 (S (None, 3, 3)         0           Input_Layer[0][0]                \n",
      "__________________________________________________________________________________________________\n",
      "tf.__operators__.getitem_268 (S (None, 3, 3)         0           Input_Layer[0][0]                \n",
      "__________________________________________________________________________________________________\n",
      "tf.__operators__.getitem_269 (S (None, 3, 3)         0           Input_Layer[0][0]                \n",
      "__________________________________________________________________________________________________\n",
      "tf.__operators__.getitem_270 (S (None, 3, 3)         0           Input_Layer[0][0]                \n",
      "__________________________________________________________________________________________________\n",
      "tf.__operators__.getitem_271 (S (None, 3, 3)         0           Input_Layer[0][0]                \n",
      "__________________________________________________________________________________________________\n",
      "tf.__operators__.getitem_272 (S (None, 3, 3)         0           Input_Layer[0][0]                \n",
      "__________________________________________________________________________________________________\n",
      "tf.__operators__.getitem_273 (S (None, 3, 3)         0           Input_Layer[0][0]                \n",
      "__________________________________________________________________________________________________\n",
      "tf.__operators__.getitem_274 (S (None, 3, 3)         0           Input_Layer[0][0]                \n",
      "__________________________________________________________________________________________________\n",
      "tf.__operators__.getitem_275 (S (None, 3, 3)         0           Input_Layer[0][0]                \n",
      "__________________________________________________________________________________________________\n",
      "tf.__operators__.getitem_276 (S (None, 3, 3)         0           Input_Layer[0][0]                \n",
      "__________________________________________________________________________________________________\n",
      "tf.__operators__.getitem_277 (S (None, 3, 3)         0           Input_Layer[0][0]                \n",
      "__________________________________________________________________________________________________\n",
      "tf.__operators__.getitem_278 (S (None, 3, 3)         0           Input_Layer[0][0]                \n",
      "__________________________________________________________________________________________________\n",
      "tf.__operators__.getitem_279 (S (None, 3, 3)         0           Input_Layer[0][0]                \n",
      "__________________________________________________________________________________________________\n",
      "tf.__operators__.getitem_280 (S (None, 3, 3)         0           Input_Layer[0][0]                \n",
      "__________________________________________________________________________________________________\n",
      "tf.__operators__.getitem_281 (S (None, 3, 3)         0           Input_Layer[0][0]                \n",
      "__________________________________________________________________________________________________\n",
      "tf.__operators__.getitem_282 (S (None, 3, 3)         0           Input_Layer[0][0]                \n",
      "__________________________________________________________________________________________________\n",
      "tf.__operators__.getitem_283 (S (None, 3, 3)         0           Input_Layer[0][0]                \n",
      "__________________________________________________________________________________________________\n",
      "tf.__operators__.getitem_284 (S (None, 3, 3)         0           Input_Layer[0][0]                \n",
      "__________________________________________________________________________________________________\n",
      "tf.__operators__.getitem_285 (S (None, 3, 3)         0           Input_Layer[0][0]                \n",
      "__________________________________________________________________________________________________\n",
      "tf.__operators__.getitem_286 (S (None, 3, 3)         0           Input_Layer[0][0]                \n",
      "__________________________________________________________________________________________________\n",
      "tf.__operators__.getitem_287 (S (None, 3, 3)         0           Input_Layer[0][0]                \n",
      "__________________________________________________________________________________________________\n",
      "tf.__operators__.getitem_288 (S (None, 3, 3)         0           Input_Layer[0][0]                \n",
      "__________________________________________________________________________________________________\n",
      "tf.__operators__.getitem_289 (S (None, 3, 3)         0           Input_Layer[0][0]                \n",
      "__________________________________________________________________________________________________\n",
      "tf.__operators__.getitem_290 (S (None, 3, 3)         0           Input_Layer[0][0]                \n",
      "__________________________________________________________________________________________________\n",
      "tf.__operators__.getitem_291 (S (None, 3, 3)         0           Input_Layer[0][0]                \n",
      "__________________________________________________________________________________________________\n",
      "tf.__operators__.getitem_292 (S (None, 3, 3)         0           Input_Layer[0][0]                \n",
      "__________________________________________________________________________________________________\n",
      "tf.__operators__.getitem_293 (S (None, 3, 3)         0           Input_Layer[0][0]                \n",
      "__________________________________________________________________________________________________\n",
      "tf.__operators__.getitem_294 (S (None, 3, 3)         0           Input_Layer[0][0]                \n",
      "__________________________________________________________________________________________________\n",
      "tf.__operators__.getitem_295 (S (None, 3, 3)         0           Input_Layer[0][0]                \n",
      "__________________________________________________________________________________________________\n",
      "tf.__operators__.getitem_296 (S (None, 3, 3)         0           Input_Layer[0][0]                \n",
      "__________________________________________________________________________________________________\n",
      "tf.__operators__.getitem_297 (S (None, 3, 3)         0           Input_Layer[0][0]                \n",
      "__________________________________________________________________________________________________\n",
      "tf.__operators__.getitem_298 (S (None, 3, 3)         0           Input_Layer[0][0]                \n",
      "__________________________________________________________________________________________________\n",
      "tf.__operators__.getitem_299 (S (None, 3, 3)         0           Input_Layer[0][0]                \n",
      "__________________________________________________________________________________________________\n",
      "tf.__operators__.getitem_300 (S (None, 3, 3)         0           Input_Layer[0][0]                \n",
      "__________________________________________________________________________________________________\n",
      "tf.__operators__.getitem_301 (S (None, 3, 3)         0           Input_Layer[0][0]                \n",
      "__________________________________________________________________________________________________\n",
      "tf.__operators__.getitem_302 (S (None, 3, 3)         0           Input_Layer[0][0]                \n",
      "__________________________________________________________________________________________________\n",
      "tf.__operators__.getitem_303 (S (None, 3, 3)         0           Input_Layer[0][0]                \n",
      "__________________________________________________________________________________________________\n",
      "tf.__operators__.getitem_304 (S (None, 3, 3)         0           Input_Layer[0][0]                \n",
      "__________________________________________________________________________________________________\n",
      "tf.__operators__.getitem_305 (S (None, 3, 3)         0           Input_Layer[0][0]                \n",
      "__________________________________________________________________________________________________\n",
      "tf.__operators__.getitem_306 (S (None, 3, 3)         0           Input_Layer[0][0]                \n",
      "__________________________________________________________________________________________________\n",
      "tf.__operators__.getitem_307 (S (None, 3, 3)         0           Input_Layer[0][0]                \n",
      "__________________________________________________________________________________________________\n",
      "tf.__operators__.getitem_308 (S (None, 3, 3)         0           Input_Layer[0][0]                \n",
      "__________________________________________________________________________________________________\n",
      "tf.__operators__.getitem_309 (S (None, 3, 3)         0           Input_Layer[0][0]                \n",
      "__________________________________________________________________________________________________\n",
      "tf.__operators__.getitem_310 (S (None, 3, 3)         0           Input_Layer[0][0]                \n",
      "__________________________________________________________________________________________________\n",
      "tf.__operators__.getitem_311 (S (None, 3, 3)         0           Input_Layer[0][0]                \n",
      "__________________________________________________________________________________________________\n",
      "tf.__operators__.getitem_312 (S (None, 3, 3)         0           Input_Layer[0][0]                \n",
      "__________________________________________________________________________________________________\n",
      "tf.__operators__.getitem_313 (S (None, 3, 3)         0           Input_Layer[0][0]                \n",
      "__________________________________________________________________________________________________\n",
      "tf.__operators__.getitem_314 (S (None, 3, 3)         0           Input_Layer[0][0]                \n",
      "__________________________________________________________________________________________________\n",
      "tf.__operators__.getitem_315 (S (None, 3, 3)         0           Input_Layer[0][0]                \n",
      "__________________________________________________________________________________________________\n",
      "tf.__operators__.getitem_316 (S (None, 3, 3)         0           Input_Layer[0][0]                \n",
      "__________________________________________________________________________________________________\n",
      "tf.__operators__.getitem_317 (S (None, 3, 3)         0           Input_Layer[0][0]                \n",
      "__________________________________________________________________________________________________\n",
      "tf.__operators__.getitem_318 (S (None, 3, 3)         0           Input_Layer[0][0]                \n",
      "__________________________________________________________________________________________________\n",
      "tf.__operators__.getitem_319 (S (None, 3, 3)         0           Input_Layer[0][0]                \n",
      "__________________________________________________________________________________________________\n",
      "tf.__operators__.getitem_320 (S (None, 3, 3)         0           Input_Layer[0][0]                \n",
      "__________________________________________________________________________________________________\n",
      "tf.__operators__.getitem_321 (S (None, 3, 3)         0           Input_Layer[0][0]                \n",
      "__________________________________________________________________________________________________\n",
      "tf.__operators__.getitem_322 (S (None, 3, 3)         0           Input_Layer[0][0]                \n",
      "__________________________________________________________________________________________________\n",
      "tf.__operators__.getitem_323 (S (None, 3, 3)         0           Input_Layer[0][0]                \n",
      "__________________________________________________________________________________________________\n",
      "tf.__operators__.getitem_324 (S (None, 3, 3)         0           Input_Layer[0][0]                \n",
      "__________________________________________________________________________________________________\n",
      "tf.__operators__.getitem_325 (S (None, 3, 3)         0           Input_Layer[0][0]                \n",
      "__________________________________________________________________________________________________\n",
      "tf.__operators__.getitem_326 (S (None, 3, 3)         0           Input_Layer[0][0]                \n",
      "__________________________________________________________________________________________________\n",
      "tf.__operators__.getitem_327 (S (None, 3, 3)         0           Input_Layer[0][0]                \n",
      "__________________________________________________________________________________________________\n",
      "tf.__operators__.getitem_328 (S (None, 3, 3)         0           Input_Layer[0][0]                \n",
      "__________________________________________________________________________________________________\n",
      "tf.__operators__.getitem_329 (S (None, 3, 3)         0           Input_Layer[0][0]                \n",
      "__________________________________________________________________________________________________\n",
      "tf.__operators__.getitem_330 (S (None, 3, 3)         0           Input_Layer[0][0]                \n",
      "__________________________________________________________________________________________________\n",
      "tf.__operators__.getitem_331 (S (None, 3, 3)         0           Input_Layer[0][0]                \n",
      "__________________________________________________________________________________________________\n",
      "tf.__operators__.getitem_332 (S (None, 3, 3)         0           Input_Layer[0][0]                \n",
      "__________________________________________________________________________________________________\n",
      "tf.__operators__.getitem_333 (S (None, 3, 3)         0           Input_Layer[0][0]                \n",
      "__________________________________________________________________________________________________\n",
      "tf.__operators__.getitem_334 (S (None, 3, 3)         0           Input_Layer[0][0]                \n",
      "__________________________________________________________________________________________________\n",
      "tf.__operators__.getitem_335 (S (None, 3, 3)         0           Input_Layer[0][0]                \n",
      "__________________________________________________________________________________________________\n",
      "tf.__operators__.getitem_336 (S (None, 3, 3)         0           Input_Layer[0][0]                \n",
      "__________________________________________________________________________________________________\n",
      "tf.__operators__.getitem_337 (S (None, 3, 3)         0           Input_Layer[0][0]                \n",
      "__________________________________________________________________________________________________\n",
      "tf.__operators__.getitem_338 (S (None, 3, 3)         0           Input_Layer[0][0]                \n",
      "__________________________________________________________________________________________________\n",
      "tf.__operators__.getitem_339 (S (None, 3, 3)         0           Input_Layer[0][0]                \n",
      "__________________________________________________________________________________________________\n",
      "tf.__operators__.getitem_340 (S (None, 3, 3)         0           Input_Layer[0][0]                \n",
      "__________________________________________________________________________________________________\n",
      "tf.__operators__.getitem_341 (S (None, 3, 3)         0           Input_Layer[0][0]                \n",
      "__________________________________________________________________________________________________\n",
      "tf.__operators__.getitem_342 (S (None, 3, 3)         0           Input_Layer[0][0]                \n",
      "__________________________________________________________________________________________________\n",
      "tf.__operators__.getitem_343 (S (None, 3, 3)         0           Input_Layer[0][0]                \n",
      "__________________________________________________________________________________________________\n",
      "tf.__operators__.getitem_344 (S (None, 3, 3)         0           Input_Layer[0][0]                \n",
      "__________________________________________________________________________________________________\n",
      "tf.__operators__.getitem_345 (S (None, 3, 3)         0           Input_Layer[0][0]                \n",
      "__________________________________________________________________________________________________\n",
      "tf.__operators__.getitem_346 (S (None, 3, 3)         0           Input_Layer[0][0]                \n",
      "__________________________________________________________________________________________________\n",
      "tf.__operators__.getitem_347 (S (None, 3, 3)         0           Input_Layer[0][0]                \n",
      "__________________________________________________________________________________________________\n",
      "tf.__operators__.getitem_348 (S (None, 3, 3)         0           Input_Layer[0][0]                \n",
      "__________________________________________________________________________________________________\n",
      "tf.__operators__.getitem_349 (S (None, 3, 3)         0           Input_Layer[0][0]                \n",
      "__________________________________________________________________________________________________\n",
      "tf.__operators__.getitem_350 (S (None, 3, 3)         0           Input_Layer[0][0]                \n",
      "__________________________________________________________________________________________________\n",
      "tf.__operators__.getitem_351 (S (None, 3, 3)         0           Input_Layer[0][0]                \n",
      "__________________________________________________________________________________________________\n",
      "tf.__operators__.getitem_352 (S (None, 3, 3)         0           Input_Layer[0][0]                \n",
      "__________________________________________________________________________________________________\n",
      "tf.__operators__.getitem_353 (S (None, 3, 3)         0           Input_Layer[0][0]                \n",
      "__________________________________________________________________________________________________\n",
      "tf.__operators__.getitem_354 (S (None, 3, 3)         0           Input_Layer[0][0]                \n",
      "__________________________________________________________________________________________________\n",
      "tf.__operators__.getitem_355 (S (None, 3, 3)         0           Input_Layer[0][0]                \n",
      "__________________________________________________________________________________________________\n",
      "tf.__operators__.getitem_356 (S (None, 3, 3)         0           Input_Layer[0][0]                \n",
      "__________________________________________________________________________________________________\n",
      "tf.__operators__.getitem_357 (S (None, 3, 3)         0           Input_Layer[0][0]                \n",
      "__________________________________________________________________________________________________\n",
      "tf.__operators__.getitem_358 (S (None, 3, 3)         0           Input_Layer[0][0]                \n",
      "__________________________________________________________________________________________________\n",
      "tf.__operators__.getitem_359 (S (None, 3, 3)         0           Input_Layer[0][0]                \n",
      "__________________________________________________________________________________________________\n",
      "tf.__operators__.getitem_360 (S (None, 3, 3)         0           Input_Layer[0][0]                \n",
      "__________________________________________________________________________________________________\n",
      "tf.__operators__.getitem_361 (S (None, 3, 3)         0           Input_Layer[0][0]                \n",
      "__________________________________________________________________________________________________\n",
      "tf.__operators__.getitem_362 (S (None, 3, 3)         0           Input_Layer[0][0]                \n",
      "__________________________________________________________________________________________________\n",
      "tf.__operators__.getitem_363 (S (None, 3, 3)         0           Input_Layer[0][0]                \n",
      "__________________________________________________________________________________________________\n",
      "tf.__operators__.getitem_364 (S (None, 3, 3)         0           Input_Layer[0][0]                \n",
      "__________________________________________________________________________________________________\n",
      "tf.__operators__.getitem_365 (S (None, 3, 3)         0           Input_Layer[0][0]                \n",
      "__________________________________________________________________________________________________\n",
      "tf.__operators__.getitem_366 (S (None, 3, 3)         0           Input_Layer[0][0]                \n",
      "__________________________________________________________________________________________________\n",
      "tf.__operators__.getitem_367 (S (None, 3, 3)         0           Input_Layer[0][0]                \n",
      "__________________________________________________________________________________________________\n",
      "tf.__operators__.getitem_368 (S (None, 3, 3)         0           Input_Layer[0][0]                \n",
      "__________________________________________________________________________________________________\n",
      "tf.__operators__.getitem_369 (S (None, 3, 3)         0           Input_Layer[0][0]                \n",
      "__________________________________________________________________________________________________\n",
      "tf.__operators__.getitem_370 (S (None, 3, 3)         0           Input_Layer[0][0]                \n",
      "__________________________________________________________________________________________________\n",
      "tf.__operators__.getitem_371 (S (None, 3, 3)         0           Input_Layer[0][0]                \n",
      "__________________________________________________________________________________________________\n",
      "tf.__operators__.getitem_372 (S (None, 3, 3)         0           Input_Layer[0][0]                \n",
      "__________________________________________________________________________________________________\n",
      "tf.__operators__.getitem_373 (S (None, 3, 3)         0           Input_Layer[0][0]                \n",
      "__________________________________________________________________________________________________\n",
      "Quantum_Conv_Layer_1 (KerasLaye (None, 1)            18          tf.__operators__.getitem_205[0][0\n",
      "                                                                 tf.__operators__.getitem_206[0][0\n",
      "                                                                 tf.__operators__.getitem_207[0][0\n",
      "                                                                 tf.__operators__.getitem_208[0][0\n",
      "                                                                 tf.__operators__.getitem_209[0][0\n",
      "                                                                 tf.__operators__.getitem_210[0][0\n",
      "                                                                 tf.__operators__.getitem_211[0][0\n",
      "                                                                 tf.__operators__.getitem_212[0][0\n",
      "                                                                 tf.__operators__.getitem_213[0][0\n",
      "                                                                 tf.__operators__.getitem_214[0][0\n",
      "                                                                 tf.__operators__.getitem_215[0][0\n",
      "                                                                 tf.__operators__.getitem_216[0][0\n",
      "                                                                 tf.__operators__.getitem_217[0][0\n",
      "                                                                 tf.__operators__.getitem_218[0][0\n",
      "                                                                 tf.__operators__.getitem_219[0][0\n",
      "                                                                 tf.__operators__.getitem_220[0][0\n",
      "                                                                 tf.__operators__.getitem_221[0][0\n",
      "                                                                 tf.__operators__.getitem_222[0][0\n",
      "                                                                 tf.__operators__.getitem_223[0][0\n",
      "                                                                 tf.__operators__.getitem_224[0][0\n",
      "                                                                 tf.__operators__.getitem_225[0][0\n",
      "                                                                 tf.__operators__.getitem_226[0][0\n",
      "                                                                 tf.__operators__.getitem_227[0][0\n",
      "                                                                 tf.__operators__.getitem_228[0][0\n",
      "                                                                 tf.__operators__.getitem_229[0][0\n",
      "                                                                 tf.__operators__.getitem_230[0][0\n",
      "                                                                 tf.__operators__.getitem_231[0][0\n",
      "                                                                 tf.__operators__.getitem_232[0][0\n",
      "                                                                 tf.__operators__.getitem_233[0][0\n",
      "                                                                 tf.__operators__.getitem_234[0][0\n",
      "                                                                 tf.__operators__.getitem_235[0][0\n",
      "                                                                 tf.__operators__.getitem_236[0][0\n",
      "                                                                 tf.__operators__.getitem_237[0][0\n",
      "                                                                 tf.__operators__.getitem_238[0][0\n",
      "                                                                 tf.__operators__.getitem_239[0][0\n",
      "                                                                 tf.__operators__.getitem_240[0][0\n",
      "                                                                 tf.__operators__.getitem_241[0][0\n",
      "                                                                 tf.__operators__.getitem_242[0][0\n",
      "                                                                 tf.__operators__.getitem_243[0][0\n",
      "                                                                 tf.__operators__.getitem_244[0][0\n",
      "                                                                 tf.__operators__.getitem_245[0][0\n",
      "                                                                 tf.__operators__.getitem_246[0][0\n",
      "                                                                 tf.__operators__.getitem_247[0][0\n",
      "                                                                 tf.__operators__.getitem_248[0][0\n",
      "                                                                 tf.__operators__.getitem_249[0][0\n",
      "                                                                 tf.__operators__.getitem_250[0][0\n",
      "                                                                 tf.__operators__.getitem_251[0][0\n",
      "                                                                 tf.__operators__.getitem_252[0][0\n",
      "                                                                 tf.__operators__.getitem_253[0][0\n",
      "                                                                 tf.__operators__.getitem_254[0][0\n",
      "                                                                 tf.__operators__.getitem_255[0][0\n",
      "                                                                 tf.__operators__.getitem_256[0][0\n",
      "                                                                 tf.__operators__.getitem_257[0][0\n",
      "                                                                 tf.__operators__.getitem_258[0][0\n",
      "                                                                 tf.__operators__.getitem_259[0][0\n",
      "                                                                 tf.__operators__.getitem_260[0][0\n",
      "                                                                 tf.__operators__.getitem_261[0][0\n",
      "                                                                 tf.__operators__.getitem_262[0][0\n",
      "                                                                 tf.__operators__.getitem_263[0][0\n",
      "                                                                 tf.__operators__.getitem_264[0][0\n",
      "                                                                 tf.__operators__.getitem_265[0][0\n",
      "                                                                 tf.__operators__.getitem_266[0][0\n",
      "                                                                 tf.__operators__.getitem_267[0][0\n",
      "                                                                 tf.__operators__.getitem_268[0][0\n",
      "                                                                 tf.__operators__.getitem_269[0][0\n",
      "                                                                 tf.__operators__.getitem_270[0][0\n",
      "                                                                 tf.__operators__.getitem_271[0][0\n",
      "                                                                 tf.__operators__.getitem_272[0][0\n",
      "                                                                 tf.__operators__.getitem_273[0][0\n",
      "                                                                 tf.__operators__.getitem_274[0][0\n",
      "                                                                 tf.__operators__.getitem_275[0][0\n",
      "                                                                 tf.__operators__.getitem_276[0][0\n",
      "                                                                 tf.__operators__.getitem_277[0][0\n",
      "                                                                 tf.__operators__.getitem_278[0][0\n",
      "                                                                 tf.__operators__.getitem_279[0][0\n",
      "                                                                 tf.__operators__.getitem_280[0][0\n",
      "                                                                 tf.__operators__.getitem_281[0][0\n",
      "                                                                 tf.__operators__.getitem_282[0][0\n",
      "                                                                 tf.__operators__.getitem_283[0][0\n",
      "                                                                 tf.__operators__.getitem_284[0][0\n",
      "                                                                 tf.__operators__.getitem_285[0][0\n",
      "                                                                 tf.__operators__.getitem_286[0][0\n",
      "                                                                 tf.__operators__.getitem_287[0][0\n",
      "                                                                 tf.__operators__.getitem_288[0][0\n",
      "                                                                 tf.__operators__.getitem_289[0][0\n",
      "                                                                 tf.__operators__.getitem_290[0][0\n",
      "                                                                 tf.__operators__.getitem_291[0][0\n",
      "                                                                 tf.__operators__.getitem_292[0][0\n",
      "                                                                 tf.__operators__.getitem_293[0][0\n",
      "                                                                 tf.__operators__.getitem_294[0][0\n",
      "                                                                 tf.__operators__.getitem_295[0][0\n",
      "                                                                 tf.__operators__.getitem_296[0][0\n",
      "                                                                 tf.__operators__.getitem_297[0][0\n",
      "                                                                 tf.__operators__.getitem_298[0][0\n",
      "                                                                 tf.__operators__.getitem_299[0][0\n",
      "                                                                 tf.__operators__.getitem_300[0][0\n",
      "                                                                 tf.__operators__.getitem_301[0][0\n",
      "                                                                 tf.__operators__.getitem_302[0][0\n",
      "                                                                 tf.__operators__.getitem_303[0][0\n",
      "                                                                 tf.__operators__.getitem_304[0][0\n",
      "                                                                 tf.__operators__.getitem_305[0][0\n",
      "                                                                 tf.__operators__.getitem_306[0][0\n",
      "                                                                 tf.__operators__.getitem_307[0][0\n",
      "                                                                 tf.__operators__.getitem_308[0][0\n",
      "                                                                 tf.__operators__.getitem_309[0][0\n",
      "                                                                 tf.__operators__.getitem_310[0][0\n",
      "                                                                 tf.__operators__.getitem_311[0][0\n",
      "                                                                 tf.__operators__.getitem_312[0][0\n",
      "                                                                 tf.__operators__.getitem_313[0][0\n",
      "                                                                 tf.__operators__.getitem_314[0][0\n",
      "                                                                 tf.__operators__.getitem_315[0][0\n",
      "                                                                 tf.__operators__.getitem_316[0][0\n",
      "                                                                 tf.__operators__.getitem_317[0][0\n",
      "                                                                 tf.__operators__.getitem_318[0][0\n",
      "                                                                 tf.__operators__.getitem_319[0][0\n",
      "                                                                 tf.__operators__.getitem_320[0][0\n",
      "                                                                 tf.__operators__.getitem_321[0][0\n",
      "                                                                 tf.__operators__.getitem_322[0][0\n",
      "                                                                 tf.__operators__.getitem_323[0][0\n",
      "                                                                 tf.__operators__.getitem_324[0][0\n",
      "                                                                 tf.__operators__.getitem_325[0][0\n",
      "                                                                 tf.__operators__.getitem_326[0][0\n",
      "                                                                 tf.__operators__.getitem_327[0][0\n",
      "                                                                 tf.__operators__.getitem_328[0][0\n",
      "                                                                 tf.__operators__.getitem_329[0][0\n",
      "                                                                 tf.__operators__.getitem_330[0][0\n",
      "                                                                 tf.__operators__.getitem_331[0][0\n",
      "                                                                 tf.__operators__.getitem_332[0][0\n",
      "                                                                 tf.__operators__.getitem_333[0][0\n",
      "                                                                 tf.__operators__.getitem_334[0][0\n",
      "                                                                 tf.__operators__.getitem_335[0][0\n",
      "                                                                 tf.__operators__.getitem_336[0][0\n",
      "                                                                 tf.__operators__.getitem_337[0][0\n",
      "                                                                 tf.__operators__.getitem_338[0][0\n",
      "                                                                 tf.__operators__.getitem_339[0][0\n",
      "                                                                 tf.__operators__.getitem_340[0][0\n",
      "                                                                 tf.__operators__.getitem_341[0][0\n",
      "                                                                 tf.__operators__.getitem_342[0][0\n",
      "                                                                 tf.__operators__.getitem_343[0][0\n",
      "                                                                 tf.__operators__.getitem_344[0][0\n",
      "                                                                 tf.__operators__.getitem_345[0][0\n",
      "                                                                 tf.__operators__.getitem_346[0][0\n",
      "                                                                 tf.__operators__.getitem_347[0][0\n",
      "                                                                 tf.__operators__.getitem_348[0][0\n",
      "                                                                 tf.__operators__.getitem_349[0][0\n",
      "                                                                 tf.__operators__.getitem_350[0][0\n",
      "                                                                 tf.__operators__.getitem_351[0][0\n",
      "                                                                 tf.__operators__.getitem_352[0][0\n",
      "                                                                 tf.__operators__.getitem_353[0][0\n",
      "                                                                 tf.__operators__.getitem_354[0][0\n",
      "                                                                 tf.__operators__.getitem_355[0][0\n",
      "                                                                 tf.__operators__.getitem_356[0][0\n",
      "                                                                 tf.__operators__.getitem_357[0][0\n",
      "                                                                 tf.__operators__.getitem_358[0][0\n",
      "                                                                 tf.__operators__.getitem_359[0][0\n",
      "                                                                 tf.__operators__.getitem_360[0][0\n",
      "                                                                 tf.__operators__.getitem_361[0][0\n",
      "                                                                 tf.__operators__.getitem_362[0][0\n",
      "                                                                 tf.__operators__.getitem_363[0][0\n",
      "                                                                 tf.__operators__.getitem_364[0][0\n",
      "                                                                 tf.__operators__.getitem_365[0][0\n",
      "                                                                 tf.__operators__.getitem_366[0][0\n",
      "                                                                 tf.__operators__.getitem_367[0][0\n",
      "                                                                 tf.__operators__.getitem_368[0][0\n",
      "                                                                 tf.__operators__.getitem_369[0][0\n",
      "                                                                 tf.__operators__.getitem_370[0][0\n",
      "                                                                 tf.__operators__.getitem_371[0][0\n",
      "                                                                 tf.__operators__.getitem_372[0][0\n",
      "                                                                 tf.__operators__.getitem_373[0][0\n",
      "__________________________________________________________________________________________________\n",
      "reshape_208 (Reshape)           (None, 1)            0           Quantum_Conv_Layer_1[0][0]       \n",
      "__________________________________________________________________________________________________\n",
      "reshape_209 (Reshape)           (None, 1)            0           Quantum_Conv_Layer_1[1][0]       \n",
      "__________________________________________________________________________________________________\n",
      "reshape_210 (Reshape)           (None, 1)            0           Quantum_Conv_Layer_1[2][0]       \n",
      "__________________________________________________________________________________________________\n",
      "reshape_211 (Reshape)           (None, 1)            0           Quantum_Conv_Layer_1[3][0]       \n",
      "__________________________________________________________________________________________________\n",
      "reshape_212 (Reshape)           (None, 1)            0           Quantum_Conv_Layer_1[4][0]       \n",
      "__________________________________________________________________________________________________\n",
      "reshape_213 (Reshape)           (None, 1)            0           Quantum_Conv_Layer_1[5][0]       \n",
      "__________________________________________________________________________________________________\n",
      "reshape_214 (Reshape)           (None, 1)            0           Quantum_Conv_Layer_1[6][0]       \n",
      "__________________________________________________________________________________________________\n",
      "reshape_215 (Reshape)           (None, 1)            0           Quantum_Conv_Layer_1[7][0]       \n",
      "__________________________________________________________________________________________________\n",
      "reshape_216 (Reshape)           (None, 1)            0           Quantum_Conv_Layer_1[8][0]       \n",
      "__________________________________________________________________________________________________\n",
      "reshape_217 (Reshape)           (None, 1)            0           Quantum_Conv_Layer_1[9][0]       \n",
      "__________________________________________________________________________________________________\n",
      "reshape_218 (Reshape)           (None, 1)            0           Quantum_Conv_Layer_1[10][0]      \n",
      "__________________________________________________________________________________________________\n",
      "reshape_219 (Reshape)           (None, 1)            0           Quantum_Conv_Layer_1[11][0]      \n",
      "__________________________________________________________________________________________________\n",
      "reshape_220 (Reshape)           (None, 1)            0           Quantum_Conv_Layer_1[12][0]      \n",
      "__________________________________________________________________________________________________\n",
      "reshape_221 (Reshape)           (None, 1)            0           Quantum_Conv_Layer_1[13][0]      \n",
      "__________________________________________________________________________________________________\n",
      "reshape_222 (Reshape)           (None, 1)            0           Quantum_Conv_Layer_1[14][0]      \n",
      "__________________________________________________________________________________________________\n",
      "reshape_223 (Reshape)           (None, 1)            0           Quantum_Conv_Layer_1[15][0]      \n",
      "__________________________________________________________________________________________________\n",
      "reshape_224 (Reshape)           (None, 1)            0           Quantum_Conv_Layer_1[16][0]      \n",
      "__________________________________________________________________________________________________\n",
      "reshape_225 (Reshape)           (None, 1)            0           Quantum_Conv_Layer_1[17][0]      \n",
      "__________________________________________________________________________________________________\n",
      "reshape_226 (Reshape)           (None, 1)            0           Quantum_Conv_Layer_1[18][0]      \n",
      "__________________________________________________________________________________________________\n",
      "reshape_227 (Reshape)           (None, 1)            0           Quantum_Conv_Layer_1[19][0]      \n",
      "__________________________________________________________________________________________________\n",
      "reshape_228 (Reshape)           (None, 1)            0           Quantum_Conv_Layer_1[20][0]      \n",
      "__________________________________________________________________________________________________\n",
      "reshape_229 (Reshape)           (None, 1)            0           Quantum_Conv_Layer_1[21][0]      \n",
      "__________________________________________________________________________________________________\n",
      "reshape_230 (Reshape)           (None, 1)            0           Quantum_Conv_Layer_1[22][0]      \n",
      "__________________________________________________________________________________________________\n",
      "reshape_231 (Reshape)           (None, 1)            0           Quantum_Conv_Layer_1[23][0]      \n",
      "__________________________________________________________________________________________________\n",
      "reshape_232 (Reshape)           (None, 1)            0           Quantum_Conv_Layer_1[24][0]      \n",
      "__________________________________________________________________________________________________\n",
      "reshape_233 (Reshape)           (None, 1)            0           Quantum_Conv_Layer_1[25][0]      \n",
      "__________________________________________________________________________________________________\n",
      "reshape_234 (Reshape)           (None, 1)            0           Quantum_Conv_Layer_1[26][0]      \n",
      "__________________________________________________________________________________________________\n",
      "reshape_235 (Reshape)           (None, 1)            0           Quantum_Conv_Layer_1[27][0]      \n",
      "__________________________________________________________________________________________________\n",
      "reshape_236 (Reshape)           (None, 1)            0           Quantum_Conv_Layer_1[28][0]      \n",
      "__________________________________________________________________________________________________\n",
      "reshape_237 (Reshape)           (None, 1)            0           Quantum_Conv_Layer_1[29][0]      \n",
      "__________________________________________________________________________________________________\n",
      "reshape_238 (Reshape)           (None, 1)            0           Quantum_Conv_Layer_1[30][0]      \n",
      "__________________________________________________________________________________________________\n",
      "reshape_239 (Reshape)           (None, 1)            0           Quantum_Conv_Layer_1[31][0]      \n",
      "__________________________________________________________________________________________________\n",
      "reshape_240 (Reshape)           (None, 1)            0           Quantum_Conv_Layer_1[32][0]      \n",
      "__________________________________________________________________________________________________\n",
      "reshape_241 (Reshape)           (None, 1)            0           Quantum_Conv_Layer_1[33][0]      \n",
      "__________________________________________________________________________________________________\n",
      "reshape_242 (Reshape)           (None, 1)            0           Quantum_Conv_Layer_1[34][0]      \n",
      "__________________________________________________________________________________________________\n",
      "reshape_243 (Reshape)           (None, 1)            0           Quantum_Conv_Layer_1[35][0]      \n",
      "__________________________________________________________________________________________________\n",
      "reshape_244 (Reshape)           (None, 1)            0           Quantum_Conv_Layer_1[36][0]      \n",
      "__________________________________________________________________________________________________\n",
      "reshape_245 (Reshape)           (None, 1)            0           Quantum_Conv_Layer_1[37][0]      \n",
      "__________________________________________________________________________________________________\n",
      "reshape_246 (Reshape)           (None, 1)            0           Quantum_Conv_Layer_1[38][0]      \n",
      "__________________________________________________________________________________________________\n",
      "reshape_247 (Reshape)           (None, 1)            0           Quantum_Conv_Layer_1[39][0]      \n",
      "__________________________________________________________________________________________________\n",
      "reshape_248 (Reshape)           (None, 1)            0           Quantum_Conv_Layer_1[40][0]      \n",
      "__________________________________________________________________________________________________\n",
      "reshape_249 (Reshape)           (None, 1)            0           Quantum_Conv_Layer_1[41][0]      \n",
      "__________________________________________________________________________________________________\n",
      "reshape_250 (Reshape)           (None, 1)            0           Quantum_Conv_Layer_1[42][0]      \n",
      "__________________________________________________________________________________________________\n",
      "reshape_251 (Reshape)           (None, 1)            0           Quantum_Conv_Layer_1[43][0]      \n",
      "__________________________________________________________________________________________________\n",
      "reshape_252 (Reshape)           (None, 1)            0           Quantum_Conv_Layer_1[44][0]      \n",
      "__________________________________________________________________________________________________\n",
      "reshape_253 (Reshape)           (None, 1)            0           Quantum_Conv_Layer_1[45][0]      \n",
      "__________________________________________________________________________________________________\n",
      "reshape_254 (Reshape)           (None, 1)            0           Quantum_Conv_Layer_1[46][0]      \n",
      "__________________________________________________________________________________________________\n",
      "reshape_255 (Reshape)           (None, 1)            0           Quantum_Conv_Layer_1[47][0]      \n",
      "__________________________________________________________________________________________________\n",
      "reshape_256 (Reshape)           (None, 1)            0           Quantum_Conv_Layer_1[48][0]      \n",
      "__________________________________________________________________________________________________\n",
      "reshape_257 (Reshape)           (None, 1)            0           Quantum_Conv_Layer_1[49][0]      \n",
      "__________________________________________________________________________________________________\n",
      "reshape_258 (Reshape)           (None, 1)            0           Quantum_Conv_Layer_1[50][0]      \n",
      "__________________________________________________________________________________________________\n",
      "reshape_259 (Reshape)           (None, 1)            0           Quantum_Conv_Layer_1[51][0]      \n",
      "__________________________________________________________________________________________________\n",
      "reshape_260 (Reshape)           (None, 1)            0           Quantum_Conv_Layer_1[52][0]      \n",
      "__________________________________________________________________________________________________\n",
      "reshape_261 (Reshape)           (None, 1)            0           Quantum_Conv_Layer_1[53][0]      \n",
      "__________________________________________________________________________________________________\n",
      "reshape_262 (Reshape)           (None, 1)            0           Quantum_Conv_Layer_1[54][0]      \n",
      "__________________________________________________________________________________________________\n",
      "reshape_263 (Reshape)           (None, 1)            0           Quantum_Conv_Layer_1[55][0]      \n",
      "__________________________________________________________________________________________________\n",
      "reshape_264 (Reshape)           (None, 1)            0           Quantum_Conv_Layer_1[56][0]      \n",
      "__________________________________________________________________________________________________\n",
      "reshape_265 (Reshape)           (None, 1)            0           Quantum_Conv_Layer_1[57][0]      \n",
      "__________________________________________________________________________________________________\n",
      "reshape_266 (Reshape)           (None, 1)            0           Quantum_Conv_Layer_1[58][0]      \n",
      "__________________________________________________________________________________________________\n",
      "reshape_267 (Reshape)           (None, 1)            0           Quantum_Conv_Layer_1[59][0]      \n",
      "__________________________________________________________________________________________________\n",
      "reshape_268 (Reshape)           (None, 1)            0           Quantum_Conv_Layer_1[60][0]      \n",
      "__________________________________________________________________________________________________\n",
      "reshape_269 (Reshape)           (None, 1)            0           Quantum_Conv_Layer_1[61][0]      \n",
      "__________________________________________________________________________________________________\n",
      "reshape_270 (Reshape)           (None, 1)            0           Quantum_Conv_Layer_1[62][0]      \n",
      "__________________________________________________________________________________________________\n",
      "reshape_271 (Reshape)           (None, 1)            0           Quantum_Conv_Layer_1[63][0]      \n",
      "__________________________________________________________________________________________________\n",
      "reshape_272 (Reshape)           (None, 1)            0           Quantum_Conv_Layer_1[64][0]      \n",
      "__________________________________________________________________________________________________\n",
      "reshape_273 (Reshape)           (None, 1)            0           Quantum_Conv_Layer_1[65][0]      \n",
      "__________________________________________________________________________________________________\n",
      "reshape_274 (Reshape)           (None, 1)            0           Quantum_Conv_Layer_1[66][0]      \n",
      "__________________________________________________________________________________________________\n",
      "reshape_275 (Reshape)           (None, 1)            0           Quantum_Conv_Layer_1[67][0]      \n",
      "__________________________________________________________________________________________________\n",
      "reshape_276 (Reshape)           (None, 1)            0           Quantum_Conv_Layer_1[68][0]      \n",
      "__________________________________________________________________________________________________\n",
      "reshape_277 (Reshape)           (None, 1)            0           Quantum_Conv_Layer_1[69][0]      \n",
      "__________________________________________________________________________________________________\n",
      "reshape_278 (Reshape)           (None, 1)            0           Quantum_Conv_Layer_1[70][0]      \n",
      "__________________________________________________________________________________________________\n",
      "reshape_279 (Reshape)           (None, 1)            0           Quantum_Conv_Layer_1[71][0]      \n",
      "__________________________________________________________________________________________________\n",
      "reshape_280 (Reshape)           (None, 1)            0           Quantum_Conv_Layer_1[72][0]      \n",
      "__________________________________________________________________________________________________\n",
      "reshape_281 (Reshape)           (None, 1)            0           Quantum_Conv_Layer_1[73][0]      \n",
      "__________________________________________________________________________________________________\n",
      "reshape_282 (Reshape)           (None, 1)            0           Quantum_Conv_Layer_1[74][0]      \n",
      "__________________________________________________________________________________________________\n",
      "reshape_283 (Reshape)           (None, 1)            0           Quantum_Conv_Layer_1[75][0]      \n",
      "__________________________________________________________________________________________________\n",
      "reshape_284 (Reshape)           (None, 1)            0           Quantum_Conv_Layer_1[76][0]      \n",
      "__________________________________________________________________________________________________\n",
      "reshape_285 (Reshape)           (None, 1)            0           Quantum_Conv_Layer_1[77][0]      \n",
      "__________________________________________________________________________________________________\n",
      "reshape_286 (Reshape)           (None, 1)            0           Quantum_Conv_Layer_1[78][0]      \n",
      "__________________________________________________________________________________________________\n",
      "reshape_287 (Reshape)           (None, 1)            0           Quantum_Conv_Layer_1[79][0]      \n",
      "__________________________________________________________________________________________________\n",
      "reshape_288 (Reshape)           (None, 1)            0           Quantum_Conv_Layer_1[80][0]      \n",
      "__________________________________________________________________________________________________\n",
      "reshape_289 (Reshape)           (None, 1)            0           Quantum_Conv_Layer_1[81][0]      \n",
      "__________________________________________________________________________________________________\n",
      "reshape_290 (Reshape)           (None, 1)            0           Quantum_Conv_Layer_1[82][0]      \n",
      "__________________________________________________________________________________________________\n",
      "reshape_291 (Reshape)           (None, 1)            0           Quantum_Conv_Layer_1[83][0]      \n",
      "__________________________________________________________________________________________________\n",
      "reshape_292 (Reshape)           (None, 1)            0           Quantum_Conv_Layer_1[84][0]      \n",
      "__________________________________________________________________________________________________\n",
      "reshape_293 (Reshape)           (None, 1)            0           Quantum_Conv_Layer_1[85][0]      \n",
      "__________________________________________________________________________________________________\n",
      "reshape_294 (Reshape)           (None, 1)            0           Quantum_Conv_Layer_1[86][0]      \n",
      "__________________________________________________________________________________________________\n",
      "reshape_295 (Reshape)           (None, 1)            0           Quantum_Conv_Layer_1[87][0]      \n",
      "__________________________________________________________________________________________________\n",
      "reshape_296 (Reshape)           (None, 1)            0           Quantum_Conv_Layer_1[88][0]      \n",
      "__________________________________________________________________________________________________\n",
      "reshape_297 (Reshape)           (None, 1)            0           Quantum_Conv_Layer_1[89][0]      \n",
      "__________________________________________________________________________________________________\n",
      "reshape_298 (Reshape)           (None, 1)            0           Quantum_Conv_Layer_1[90][0]      \n",
      "__________________________________________________________________________________________________\n",
      "reshape_299 (Reshape)           (None, 1)            0           Quantum_Conv_Layer_1[91][0]      \n",
      "__________________________________________________________________________________________________\n",
      "reshape_300 (Reshape)           (None, 1)            0           Quantum_Conv_Layer_1[92][0]      \n",
      "__________________________________________________________________________________________________\n",
      "reshape_301 (Reshape)           (None, 1)            0           Quantum_Conv_Layer_1[93][0]      \n",
      "__________________________________________________________________________________________________\n",
      "reshape_302 (Reshape)           (None, 1)            0           Quantum_Conv_Layer_1[94][0]      \n",
      "__________________________________________________________________________________________________\n",
      "reshape_303 (Reshape)           (None, 1)            0           Quantum_Conv_Layer_1[95][0]      \n",
      "__________________________________________________________________________________________________\n",
      "reshape_304 (Reshape)           (None, 1)            0           Quantum_Conv_Layer_1[96][0]      \n",
      "__________________________________________________________________________________________________\n",
      "reshape_305 (Reshape)           (None, 1)            0           Quantum_Conv_Layer_1[97][0]      \n",
      "__________________________________________________________________________________________________\n",
      "reshape_306 (Reshape)           (None, 1)            0           Quantum_Conv_Layer_1[98][0]      \n",
      "__________________________________________________________________________________________________\n",
      "reshape_307 (Reshape)           (None, 1)            0           Quantum_Conv_Layer_1[99][0]      \n",
      "__________________________________________________________________________________________________\n",
      "reshape_308 (Reshape)           (None, 1)            0           Quantum_Conv_Layer_1[100][0]     \n",
      "__________________________________________________________________________________________________\n",
      "reshape_309 (Reshape)           (None, 1)            0           Quantum_Conv_Layer_1[101][0]     \n",
      "__________________________________________________________________________________________________\n",
      "reshape_310 (Reshape)           (None, 1)            0           Quantum_Conv_Layer_1[102][0]     \n",
      "__________________________________________________________________________________________________\n",
      "reshape_311 (Reshape)           (None, 1)            0           Quantum_Conv_Layer_1[103][0]     \n",
      "__________________________________________________________________________________________________\n",
      "reshape_312 (Reshape)           (None, 1)            0           Quantum_Conv_Layer_1[104][0]     \n",
      "__________________________________________________________________________________________________\n",
      "reshape_313 (Reshape)           (None, 1)            0           Quantum_Conv_Layer_1[105][0]     \n",
      "__________________________________________________________________________________________________\n",
      "reshape_314 (Reshape)           (None, 1)            0           Quantum_Conv_Layer_1[106][0]     \n",
      "__________________________________________________________________________________________________\n",
      "reshape_315 (Reshape)           (None, 1)            0           Quantum_Conv_Layer_1[107][0]     \n",
      "__________________________________________________________________________________________________\n",
      "reshape_316 (Reshape)           (None, 1)            0           Quantum_Conv_Layer_1[108][0]     \n",
      "__________________________________________________________________________________________________\n",
      "reshape_317 (Reshape)           (None, 1)            0           Quantum_Conv_Layer_1[109][0]     \n",
      "__________________________________________________________________________________________________\n",
      "reshape_318 (Reshape)           (None, 1)            0           Quantum_Conv_Layer_1[110][0]     \n",
      "__________________________________________________________________________________________________\n",
      "reshape_319 (Reshape)           (None, 1)            0           Quantum_Conv_Layer_1[111][0]     \n",
      "__________________________________________________________________________________________________\n",
      "reshape_320 (Reshape)           (None, 1)            0           Quantum_Conv_Layer_1[112][0]     \n",
      "__________________________________________________________________________________________________\n",
      "reshape_321 (Reshape)           (None, 1)            0           Quantum_Conv_Layer_1[113][0]     \n",
      "__________________________________________________________________________________________________\n",
      "reshape_322 (Reshape)           (None, 1)            0           Quantum_Conv_Layer_1[114][0]     \n",
      "__________________________________________________________________________________________________\n",
      "reshape_323 (Reshape)           (None, 1)            0           Quantum_Conv_Layer_1[115][0]     \n",
      "__________________________________________________________________________________________________\n",
      "reshape_324 (Reshape)           (None, 1)            0           Quantum_Conv_Layer_1[116][0]     \n",
      "__________________________________________________________________________________________________\n",
      "reshape_325 (Reshape)           (None, 1)            0           Quantum_Conv_Layer_1[117][0]     \n",
      "__________________________________________________________________________________________________\n",
      "reshape_326 (Reshape)           (None, 1)            0           Quantum_Conv_Layer_1[118][0]     \n",
      "__________________________________________________________________________________________________\n",
      "reshape_327 (Reshape)           (None, 1)            0           Quantum_Conv_Layer_1[119][0]     \n",
      "__________________________________________________________________________________________________\n",
      "reshape_328 (Reshape)           (None, 1)            0           Quantum_Conv_Layer_1[120][0]     \n",
      "__________________________________________________________________________________________________\n",
      "reshape_329 (Reshape)           (None, 1)            0           Quantum_Conv_Layer_1[121][0]     \n",
      "__________________________________________________________________________________________________\n",
      "reshape_330 (Reshape)           (None, 1)            0           Quantum_Conv_Layer_1[122][0]     \n",
      "__________________________________________________________________________________________________\n",
      "reshape_331 (Reshape)           (None, 1)            0           Quantum_Conv_Layer_1[123][0]     \n",
      "__________________________________________________________________________________________________\n",
      "reshape_332 (Reshape)           (None, 1)            0           Quantum_Conv_Layer_1[124][0]     \n",
      "__________________________________________________________________________________________________\n",
      "reshape_333 (Reshape)           (None, 1)            0           Quantum_Conv_Layer_1[125][0]     \n",
      "__________________________________________________________________________________________________\n",
      "reshape_334 (Reshape)           (None, 1)            0           Quantum_Conv_Layer_1[126][0]     \n",
      "__________________________________________________________________________________________________\n",
      "reshape_335 (Reshape)           (None, 1)            0           Quantum_Conv_Layer_1[127][0]     \n",
      "__________________________________________________________________________________________________\n",
      "reshape_336 (Reshape)           (None, 1)            0           Quantum_Conv_Layer_1[128][0]     \n",
      "__________________________________________________________________________________________________\n",
      "reshape_337 (Reshape)           (None, 1)            0           Quantum_Conv_Layer_1[129][0]     \n",
      "__________________________________________________________________________________________________\n",
      "reshape_338 (Reshape)           (None, 1)            0           Quantum_Conv_Layer_1[130][0]     \n",
      "__________________________________________________________________________________________________\n",
      "reshape_339 (Reshape)           (None, 1)            0           Quantum_Conv_Layer_1[131][0]     \n",
      "__________________________________________________________________________________________________\n",
      "reshape_340 (Reshape)           (None, 1)            0           Quantum_Conv_Layer_1[132][0]     \n",
      "__________________________________________________________________________________________________\n",
      "reshape_341 (Reshape)           (None, 1)            0           Quantum_Conv_Layer_1[133][0]     \n",
      "__________________________________________________________________________________________________\n",
      "reshape_342 (Reshape)           (None, 1)            0           Quantum_Conv_Layer_1[134][0]     \n",
      "__________________________________________________________________________________________________\n",
      "reshape_343 (Reshape)           (None, 1)            0           Quantum_Conv_Layer_1[135][0]     \n",
      "__________________________________________________________________________________________________\n",
      "reshape_344 (Reshape)           (None, 1)            0           Quantum_Conv_Layer_1[136][0]     \n",
      "__________________________________________________________________________________________________\n",
      "reshape_345 (Reshape)           (None, 1)            0           Quantum_Conv_Layer_1[137][0]     \n",
      "__________________________________________________________________________________________________\n",
      "reshape_346 (Reshape)           (None, 1)            0           Quantum_Conv_Layer_1[138][0]     \n",
      "__________________________________________________________________________________________________\n",
      "reshape_347 (Reshape)           (None, 1)            0           Quantum_Conv_Layer_1[139][0]     \n",
      "__________________________________________________________________________________________________\n",
      "reshape_348 (Reshape)           (None, 1)            0           Quantum_Conv_Layer_1[140][0]     \n",
      "__________________________________________________________________________________________________\n",
      "reshape_349 (Reshape)           (None, 1)            0           Quantum_Conv_Layer_1[141][0]     \n",
      "__________________________________________________________________________________________________\n",
      "reshape_350 (Reshape)           (None, 1)            0           Quantum_Conv_Layer_1[142][0]     \n",
      "__________________________________________________________________________________________________\n",
      "reshape_351 (Reshape)           (None, 1)            0           Quantum_Conv_Layer_1[143][0]     \n",
      "__________________________________________________________________________________________________\n",
      "reshape_352 (Reshape)           (None, 1)            0           Quantum_Conv_Layer_1[144][0]     \n",
      "__________________________________________________________________________________________________\n",
      "reshape_353 (Reshape)           (None, 1)            0           Quantum_Conv_Layer_1[145][0]     \n",
      "__________________________________________________________________________________________________\n",
      "reshape_354 (Reshape)           (None, 1)            0           Quantum_Conv_Layer_1[146][0]     \n",
      "__________________________________________________________________________________________________\n",
      "reshape_355 (Reshape)           (None, 1)            0           Quantum_Conv_Layer_1[147][0]     \n",
      "__________________________________________________________________________________________________\n",
      "reshape_356 (Reshape)           (None, 1)            0           Quantum_Conv_Layer_1[148][0]     \n",
      "__________________________________________________________________________________________________\n",
      "reshape_357 (Reshape)           (None, 1)            0           Quantum_Conv_Layer_1[149][0]     \n",
      "__________________________________________________________________________________________________\n",
      "reshape_358 (Reshape)           (None, 1)            0           Quantum_Conv_Layer_1[150][0]     \n",
      "__________________________________________________________________________________________________\n",
      "reshape_359 (Reshape)           (None, 1)            0           Quantum_Conv_Layer_1[151][0]     \n",
      "__________________________________________________________________________________________________\n",
      "reshape_360 (Reshape)           (None, 1)            0           Quantum_Conv_Layer_1[152][0]     \n",
      "__________________________________________________________________________________________________\n",
      "reshape_361 (Reshape)           (None, 1)            0           Quantum_Conv_Layer_1[153][0]     \n",
      "__________________________________________________________________________________________________\n",
      "reshape_362 (Reshape)           (None, 1)            0           Quantum_Conv_Layer_1[154][0]     \n",
      "__________________________________________________________________________________________________\n",
      "reshape_363 (Reshape)           (None, 1)            0           Quantum_Conv_Layer_1[155][0]     \n",
      "__________________________________________________________________________________________________\n",
      "reshape_364 (Reshape)           (None, 1)            0           Quantum_Conv_Layer_1[156][0]     \n",
      "__________________________________________________________________________________________________\n",
      "reshape_365 (Reshape)           (None, 1)            0           Quantum_Conv_Layer_1[157][0]     \n",
      "__________________________________________________________________________________________________\n",
      "reshape_366 (Reshape)           (None, 1)            0           Quantum_Conv_Layer_1[158][0]     \n",
      "__________________________________________________________________________________________________\n",
      "reshape_367 (Reshape)           (None, 1)            0           Quantum_Conv_Layer_1[159][0]     \n",
      "__________________________________________________________________________________________________\n",
      "reshape_368 (Reshape)           (None, 1)            0           Quantum_Conv_Layer_1[160][0]     \n",
      "__________________________________________________________________________________________________\n",
      "reshape_369 (Reshape)           (None, 1)            0           Quantum_Conv_Layer_1[161][0]     \n",
      "__________________________________________________________________________________________________\n",
      "reshape_370 (Reshape)           (None, 1)            0           Quantum_Conv_Layer_1[162][0]     \n",
      "__________________________________________________________________________________________________\n",
      "reshape_371 (Reshape)           (None, 1)            0           Quantum_Conv_Layer_1[163][0]     \n",
      "__________________________________________________________________________________________________\n",
      "reshape_372 (Reshape)           (None, 1)            0           Quantum_Conv_Layer_1[164][0]     \n",
      "__________________________________________________________________________________________________\n",
      "reshape_373 (Reshape)           (None, 1)            0           Quantum_Conv_Layer_1[165][0]     \n",
      "__________________________________________________________________________________________________\n",
      "reshape_374 (Reshape)           (None, 1)            0           Quantum_Conv_Layer_1[166][0]     \n",
      "__________________________________________________________________________________________________\n",
      "reshape_375 (Reshape)           (None, 1)            0           Quantum_Conv_Layer_1[167][0]     \n",
      "__________________________________________________________________________________________________\n",
      "reshape_376 (Reshape)           (None, 1)            0           Quantum_Conv_Layer_1[168][0]     \n",
      "__________________________________________________________________________________________________\n",
      "concatenate_2 (Concatenate)     (None, 169)          0           reshape_208[0][0]                \n",
      "                                                                 reshape_209[0][0]                \n",
      "                                                                 reshape_210[0][0]                \n",
      "                                                                 reshape_211[0][0]                \n",
      "                                                                 reshape_212[0][0]                \n",
      "                                                                 reshape_213[0][0]                \n",
      "                                                                 reshape_214[0][0]                \n",
      "                                                                 reshape_215[0][0]                \n",
      "                                                                 reshape_216[0][0]                \n",
      "                                                                 reshape_217[0][0]                \n",
      "                                                                 reshape_218[0][0]                \n",
      "                                                                 reshape_219[0][0]                \n",
      "                                                                 reshape_220[0][0]                \n",
      "                                                                 reshape_221[0][0]                \n",
      "                                                                 reshape_222[0][0]                \n",
      "                                                                 reshape_223[0][0]                \n",
      "                                                                 reshape_224[0][0]                \n",
      "                                                                 reshape_225[0][0]                \n",
      "                                                                 reshape_226[0][0]                \n",
      "                                                                 reshape_227[0][0]                \n",
      "                                                                 reshape_228[0][0]                \n",
      "                                                                 reshape_229[0][0]                \n",
      "                                                                 reshape_230[0][0]                \n",
      "                                                                 reshape_231[0][0]                \n",
      "                                                                 reshape_232[0][0]                \n",
      "                                                                 reshape_233[0][0]                \n",
      "                                                                 reshape_234[0][0]                \n",
      "                                                                 reshape_235[0][0]                \n",
      "                                                                 reshape_236[0][0]                \n",
      "                                                                 reshape_237[0][0]                \n",
      "                                                                 reshape_238[0][0]                \n",
      "                                                                 reshape_239[0][0]                \n",
      "                                                                 reshape_240[0][0]                \n",
      "                                                                 reshape_241[0][0]                \n",
      "                                                                 reshape_242[0][0]                \n",
      "                                                                 reshape_243[0][0]                \n",
      "                                                                 reshape_244[0][0]                \n",
      "                                                                 reshape_245[0][0]                \n",
      "                                                                 reshape_246[0][0]                \n",
      "                                                                 reshape_247[0][0]                \n",
      "                                                                 reshape_248[0][0]                \n",
      "                                                                 reshape_249[0][0]                \n",
      "                                                                 reshape_250[0][0]                \n",
      "                                                                 reshape_251[0][0]                \n",
      "                                                                 reshape_252[0][0]                \n",
      "                                                                 reshape_253[0][0]                \n",
      "                                                                 reshape_254[0][0]                \n",
      "                                                                 reshape_255[0][0]                \n",
      "                                                                 reshape_256[0][0]                \n",
      "                                                                 reshape_257[0][0]                \n",
      "                                                                 reshape_258[0][0]                \n",
      "                                                                 reshape_259[0][0]                \n",
      "                                                                 reshape_260[0][0]                \n",
      "                                                                 reshape_261[0][0]                \n",
      "                                                                 reshape_262[0][0]                \n",
      "                                                                 reshape_263[0][0]                \n",
      "                                                                 reshape_264[0][0]                \n",
      "                                                                 reshape_265[0][0]                \n",
      "                                                                 reshape_266[0][0]                \n",
      "                                                                 reshape_267[0][0]                \n",
      "                                                                 reshape_268[0][0]                \n",
      "                                                                 reshape_269[0][0]                \n",
      "                                                                 reshape_270[0][0]                \n",
      "                                                                 reshape_271[0][0]                \n",
      "                                                                 reshape_272[0][0]                \n",
      "                                                                 reshape_273[0][0]                \n",
      "                                                                 reshape_274[0][0]                \n",
      "                                                                 reshape_275[0][0]                \n",
      "                                                                 reshape_276[0][0]                \n",
      "                                                                 reshape_277[0][0]                \n",
      "                                                                 reshape_278[0][0]                \n",
      "                                                                 reshape_279[0][0]                \n",
      "                                                                 reshape_280[0][0]                \n",
      "                                                                 reshape_281[0][0]                \n",
      "                                                                 reshape_282[0][0]                \n",
      "                                                                 reshape_283[0][0]                \n",
      "                                                                 reshape_284[0][0]                \n",
      "                                                                 reshape_285[0][0]                \n",
      "                                                                 reshape_286[0][0]                \n",
      "                                                                 reshape_287[0][0]                \n",
      "                                                                 reshape_288[0][0]                \n",
      "                                                                 reshape_289[0][0]                \n",
      "                                                                 reshape_290[0][0]                \n",
      "                                                                 reshape_291[0][0]                \n",
      "                                                                 reshape_292[0][0]                \n",
      "                                                                 reshape_293[0][0]                \n",
      "                                                                 reshape_294[0][0]                \n",
      "                                                                 reshape_295[0][0]                \n",
      "                                                                 reshape_296[0][0]                \n",
      "                                                                 reshape_297[0][0]                \n",
      "                                                                 reshape_298[0][0]                \n",
      "                                                                 reshape_299[0][0]                \n",
      "                                                                 reshape_300[0][0]                \n",
      "                                                                 reshape_301[0][0]                \n",
      "                                                                 reshape_302[0][0]                \n",
      "                                                                 reshape_303[0][0]                \n",
      "                                                                 reshape_304[0][0]                \n",
      "                                                                 reshape_305[0][0]                \n",
      "                                                                 reshape_306[0][0]                \n",
      "                                                                 reshape_307[0][0]                \n",
      "                                                                 reshape_308[0][0]                \n",
      "                                                                 reshape_309[0][0]                \n",
      "                                                                 reshape_310[0][0]                \n",
      "                                                                 reshape_311[0][0]                \n",
      "                                                                 reshape_312[0][0]                \n",
      "                                                                 reshape_313[0][0]                \n",
      "                                                                 reshape_314[0][0]                \n",
      "                                                                 reshape_315[0][0]                \n",
      "                                                                 reshape_316[0][0]                \n",
      "                                                                 reshape_317[0][0]                \n",
      "                                                                 reshape_318[0][0]                \n",
      "                                                                 reshape_319[0][0]                \n",
      "                                                                 reshape_320[0][0]                \n",
      "                                                                 reshape_321[0][0]                \n",
      "                                                                 reshape_322[0][0]                \n",
      "                                                                 reshape_323[0][0]                \n",
      "                                                                 reshape_324[0][0]                \n",
      "                                                                 reshape_325[0][0]                \n",
      "                                                                 reshape_326[0][0]                \n",
      "                                                                 reshape_327[0][0]                \n",
      "                                                                 reshape_328[0][0]                \n",
      "                                                                 reshape_329[0][0]                \n",
      "                                                                 reshape_330[0][0]                \n",
      "                                                                 reshape_331[0][0]                \n",
      "                                                                 reshape_332[0][0]                \n",
      "                                                                 reshape_333[0][0]                \n",
      "                                                                 reshape_334[0][0]                \n",
      "                                                                 reshape_335[0][0]                \n",
      "                                                                 reshape_336[0][0]                \n",
      "                                                                 reshape_337[0][0]                \n",
      "                                                                 reshape_338[0][0]                \n",
      "                                                                 reshape_339[0][0]                \n",
      "                                                                 reshape_340[0][0]                \n",
      "                                                                 reshape_341[0][0]                \n",
      "                                                                 reshape_342[0][0]                \n",
      "                                                                 reshape_343[0][0]                \n",
      "                                                                 reshape_344[0][0]                \n",
      "                                                                 reshape_345[0][0]                \n",
      "                                                                 reshape_346[0][0]                \n",
      "                                                                 reshape_347[0][0]                \n",
      "                                                                 reshape_348[0][0]                \n",
      "                                                                 reshape_349[0][0]                \n",
      "                                                                 reshape_350[0][0]                \n",
      "                                                                 reshape_351[0][0]                \n",
      "                                                                 reshape_352[0][0]                \n",
      "                                                                 reshape_353[0][0]                \n",
      "                                                                 reshape_354[0][0]                \n",
      "                                                                 reshape_355[0][0]                \n",
      "                                                                 reshape_356[0][0]                \n",
      "                                                                 reshape_357[0][0]                \n",
      "                                                                 reshape_358[0][0]                \n",
      "                                                                 reshape_359[0][0]                \n",
      "                                                                 reshape_360[0][0]                \n",
      "                                                                 reshape_361[0][0]                \n",
      "                                                                 reshape_362[0][0]                \n",
      "                                                                 reshape_363[0][0]                \n",
      "                                                                 reshape_364[0][0]                \n",
      "                                                                 reshape_365[0][0]                \n",
      "                                                                 reshape_366[0][0]                \n",
      "                                                                 reshape_367[0][0]                \n",
      "                                                                 reshape_368[0][0]                \n",
      "                                                                 reshape_369[0][0]                \n",
      "                                                                 reshape_370[0][0]                \n",
      "                                                                 reshape_371[0][0]                \n",
      "                                                                 reshape_372[0][0]                \n",
      "                                                                 reshape_373[0][0]                \n",
      "                                                                 reshape_374[0][0]                \n",
      "                                                                 reshape_375[0][0]                \n",
      "                                                                 reshape_376[0][0]                \n",
      "__________________________________________________________________________________________________\n",
      "reshape_377 (Reshape)           (None, 13, 13)       0           concatenate_2[0][0]              \n",
      "__________________________________________________________________________________________________\n",
      "tf.__operators__.getitem_374 (S (None, 3, 3)         0           reshape_377[0][0]                \n",
      "__________________________________________________________________________________________________\n",
      "tf.__operators__.getitem_375 (S (None, 3, 3)         0           reshape_377[0][0]                \n",
      "__________________________________________________________________________________________________\n",
      "tf.__operators__.getitem_376 (S (None, 3, 3)         0           reshape_377[0][0]                \n",
      "__________________________________________________________________________________________________\n",
      "tf.__operators__.getitem_377 (S (None, 3, 3)         0           reshape_377[0][0]                \n",
      "__________________________________________________________________________________________________\n",
      "tf.__operators__.getitem_378 (S (None, 3, 3)         0           reshape_377[0][0]                \n",
      "__________________________________________________________________________________________________\n",
      "tf.__operators__.getitem_379 (S (None, 3, 3)         0           reshape_377[0][0]                \n",
      "__________________________________________________________________________________________________\n",
      "tf.__operators__.getitem_380 (S (None, 3, 3)         0           reshape_377[0][0]                \n",
      "__________________________________________________________________________________________________\n",
      "tf.__operators__.getitem_381 (S (None, 3, 3)         0           reshape_377[0][0]                \n",
      "__________________________________________________________________________________________________\n",
      "tf.__operators__.getitem_382 (S (None, 3, 3)         0           reshape_377[0][0]                \n",
      "__________________________________________________________________________________________________\n",
      "tf.__operators__.getitem_383 (S (None, 3, 3)         0           reshape_377[0][0]                \n",
      "__________________________________________________________________________________________________\n",
      "tf.__operators__.getitem_384 (S (None, 3, 3)         0           reshape_377[0][0]                \n",
      "__________________________________________________________________________________________________\n",
      "tf.__operators__.getitem_385 (S (None, 3, 3)         0           reshape_377[0][0]                \n",
      "__________________________________________________________________________________________________\n",
      "tf.__operators__.getitem_386 (S (None, 3, 3)         0           reshape_377[0][0]                \n",
      "__________________________________________________________________________________________________\n",
      "tf.__operators__.getitem_387 (S (None, 3, 3)         0           reshape_377[0][0]                \n",
      "__________________________________________________________________________________________________\n",
      "tf.__operators__.getitem_388 (S (None, 3, 3)         0           reshape_377[0][0]                \n",
      "__________________________________________________________________________________________________\n",
      "tf.__operators__.getitem_389 (S (None, 3, 3)         0           reshape_377[0][0]                \n",
      "__________________________________________________________________________________________________\n",
      "tf.__operators__.getitem_390 (S (None, 3, 3)         0           reshape_377[0][0]                \n",
      "__________________________________________________________________________________________________\n",
      "tf.__operators__.getitem_391 (S (None, 3, 3)         0           reshape_377[0][0]                \n",
      "__________________________________________________________________________________________________\n",
      "tf.__operators__.getitem_392 (S (None, 3, 3)         0           reshape_377[0][0]                \n",
      "__________________________________________________________________________________________________\n",
      "tf.__operators__.getitem_393 (S (None, 3, 3)         0           reshape_377[0][0]                \n",
      "__________________________________________________________________________________________________\n",
      "tf.__operators__.getitem_394 (S (None, 3, 3)         0           reshape_377[0][0]                \n",
      "__________________________________________________________________________________________________\n",
      "tf.__operators__.getitem_395 (S (None, 3, 3)         0           reshape_377[0][0]                \n",
      "__________________________________________________________________________________________________\n",
      "tf.__operators__.getitem_396 (S (None, 3, 3)         0           reshape_377[0][0]                \n",
      "__________________________________________________________________________________________________\n",
      "tf.__operators__.getitem_397 (S (None, 3, 3)         0           reshape_377[0][0]                \n",
      "__________________________________________________________________________________________________\n",
      "tf.__operators__.getitem_398 (S (None, 3, 3)         0           reshape_377[0][0]                \n",
      "__________________________________________________________________________________________________\n",
      "tf.__operators__.getitem_399 (S (None, 3, 3)         0           reshape_377[0][0]                \n",
      "__________________________________________________________________________________________________\n",
      "tf.__operators__.getitem_400 (S (None, 3, 3)         0           reshape_377[0][0]                \n",
      "__________________________________________________________________________________________________\n",
      "tf.__operators__.getitem_401 (S (None, 3, 3)         0           reshape_377[0][0]                \n",
      "__________________________________________________________________________________________________\n",
      "tf.__operators__.getitem_402 (S (None, 3, 3)         0           reshape_377[0][0]                \n",
      "__________________________________________________________________________________________________\n",
      "tf.__operators__.getitem_403 (S (None, 3, 3)         0           reshape_377[0][0]                \n",
      "__________________________________________________________________________________________________\n",
      "tf.__operators__.getitem_404 (S (None, 3, 3)         0           reshape_377[0][0]                \n",
      "__________________________________________________________________________________________________\n",
      "tf.__operators__.getitem_405 (S (None, 3, 3)         0           reshape_377[0][0]                \n",
      "__________________________________________________________________________________________________\n",
      "tf.__operators__.getitem_406 (S (None, 3, 3)         0           reshape_377[0][0]                \n",
      "__________________________________________________________________________________________________\n",
      "tf.__operators__.getitem_407 (S (None, 3, 3)         0           reshape_377[0][0]                \n",
      "__________________________________________________________________________________________________\n",
      "tf.__operators__.getitem_408 (S (None, 3, 3)         0           reshape_377[0][0]                \n",
      "__________________________________________________________________________________________________\n",
      "tf.__operators__.getitem_409 (S (None, 3, 3)         0           reshape_377[0][0]                \n",
      "__________________________________________________________________________________________________\n",
      "Quantum_Conv_Layer_2 (KerasLaye (None, 1)            18          tf.__operators__.getitem_374[0][0\n",
      "                                                                 tf.__operators__.getitem_375[0][0\n",
      "                                                                 tf.__operators__.getitem_376[0][0\n",
      "                                                                 tf.__operators__.getitem_377[0][0\n",
      "                                                                 tf.__operators__.getitem_378[0][0\n",
      "                                                                 tf.__operators__.getitem_379[0][0\n",
      "                                                                 tf.__operators__.getitem_380[0][0\n",
      "                                                                 tf.__operators__.getitem_381[0][0\n",
      "                                                                 tf.__operators__.getitem_382[0][0\n",
      "                                                                 tf.__operators__.getitem_383[0][0\n",
      "                                                                 tf.__operators__.getitem_384[0][0\n",
      "                                                                 tf.__operators__.getitem_385[0][0\n",
      "                                                                 tf.__operators__.getitem_386[0][0\n",
      "                                                                 tf.__operators__.getitem_387[0][0\n",
      "                                                                 tf.__operators__.getitem_388[0][0\n",
      "                                                                 tf.__operators__.getitem_389[0][0\n",
      "                                                                 tf.__operators__.getitem_390[0][0\n",
      "                                                                 tf.__operators__.getitem_391[0][0\n",
      "                                                                 tf.__operators__.getitem_392[0][0\n",
      "                                                                 tf.__operators__.getitem_393[0][0\n",
      "                                                                 tf.__operators__.getitem_394[0][0\n",
      "                                                                 tf.__operators__.getitem_395[0][0\n",
      "                                                                 tf.__operators__.getitem_396[0][0\n",
      "                                                                 tf.__operators__.getitem_397[0][0\n",
      "                                                                 tf.__operators__.getitem_398[0][0\n",
      "                                                                 tf.__operators__.getitem_399[0][0\n",
      "                                                                 tf.__operators__.getitem_400[0][0\n",
      "                                                                 tf.__operators__.getitem_401[0][0\n",
      "                                                                 tf.__operators__.getitem_402[0][0\n",
      "                                                                 tf.__operators__.getitem_403[0][0\n",
      "                                                                 tf.__operators__.getitem_404[0][0\n",
      "                                                                 tf.__operators__.getitem_405[0][0\n",
      "                                                                 tf.__operators__.getitem_406[0][0\n",
      "                                                                 tf.__operators__.getitem_407[0][0\n",
      "                                                                 tf.__operators__.getitem_408[0][0\n",
      "                                                                 tf.__operators__.getitem_409[0][0\n",
      "__________________________________________________________________________________________________\n",
      "reshape_378 (Reshape)           (None, 1)            0           Quantum_Conv_Layer_2[0][0]       \n",
      "__________________________________________________________________________________________________\n",
      "reshape_379 (Reshape)           (None, 1)            0           Quantum_Conv_Layer_2[1][0]       \n",
      "__________________________________________________________________________________________________\n",
      "reshape_380 (Reshape)           (None, 1)            0           Quantum_Conv_Layer_2[2][0]       \n",
      "__________________________________________________________________________________________________\n",
      "reshape_381 (Reshape)           (None, 1)            0           Quantum_Conv_Layer_2[3][0]       \n",
      "__________________________________________________________________________________________________\n",
      "reshape_382 (Reshape)           (None, 1)            0           Quantum_Conv_Layer_2[4][0]       \n",
      "__________________________________________________________________________________________________\n",
      "reshape_383 (Reshape)           (None, 1)            0           Quantum_Conv_Layer_2[5][0]       \n",
      "__________________________________________________________________________________________________\n",
      "reshape_384 (Reshape)           (None, 1)            0           Quantum_Conv_Layer_2[6][0]       \n",
      "__________________________________________________________________________________________________\n",
      "reshape_385 (Reshape)           (None, 1)            0           Quantum_Conv_Layer_2[7][0]       \n",
      "__________________________________________________________________________________________________\n",
      "reshape_386 (Reshape)           (None, 1)            0           Quantum_Conv_Layer_2[8][0]       \n",
      "__________________________________________________________________________________________________\n",
      "reshape_387 (Reshape)           (None, 1)            0           Quantum_Conv_Layer_2[9][0]       \n",
      "__________________________________________________________________________________________________\n",
      "reshape_388 (Reshape)           (None, 1)            0           Quantum_Conv_Layer_2[10][0]      \n",
      "__________________________________________________________________________________________________\n",
      "reshape_389 (Reshape)           (None, 1)            0           Quantum_Conv_Layer_2[11][0]      \n",
      "__________________________________________________________________________________________________\n",
      "reshape_390 (Reshape)           (None, 1)            0           Quantum_Conv_Layer_2[12][0]      \n",
      "__________________________________________________________________________________________________\n",
      "reshape_391 (Reshape)           (None, 1)            0           Quantum_Conv_Layer_2[13][0]      \n",
      "__________________________________________________________________________________________________\n",
      "reshape_392 (Reshape)           (None, 1)            0           Quantum_Conv_Layer_2[14][0]      \n",
      "__________________________________________________________________________________________________\n",
      "reshape_393 (Reshape)           (None, 1)            0           Quantum_Conv_Layer_2[15][0]      \n",
      "__________________________________________________________________________________________________\n",
      "reshape_394 (Reshape)           (None, 1)            0           Quantum_Conv_Layer_2[16][0]      \n",
      "__________________________________________________________________________________________________\n",
      "reshape_395 (Reshape)           (None, 1)            0           Quantum_Conv_Layer_2[17][0]      \n",
      "__________________________________________________________________________________________________\n",
      "reshape_396 (Reshape)           (None, 1)            0           Quantum_Conv_Layer_2[18][0]      \n",
      "__________________________________________________________________________________________________\n",
      "reshape_397 (Reshape)           (None, 1)            0           Quantum_Conv_Layer_2[19][0]      \n",
      "__________________________________________________________________________________________________\n",
      "reshape_398 (Reshape)           (None, 1)            0           Quantum_Conv_Layer_2[20][0]      \n",
      "__________________________________________________________________________________________________\n",
      "reshape_399 (Reshape)           (None, 1)            0           Quantum_Conv_Layer_2[21][0]      \n",
      "__________________________________________________________________________________________________\n",
      "reshape_400 (Reshape)           (None, 1)            0           Quantum_Conv_Layer_2[22][0]      \n",
      "__________________________________________________________________________________________________\n",
      "reshape_401 (Reshape)           (None, 1)            0           Quantum_Conv_Layer_2[23][0]      \n",
      "__________________________________________________________________________________________________\n",
      "reshape_402 (Reshape)           (None, 1)            0           Quantum_Conv_Layer_2[24][0]      \n",
      "__________________________________________________________________________________________________\n",
      "reshape_403 (Reshape)           (None, 1)            0           Quantum_Conv_Layer_2[25][0]      \n",
      "__________________________________________________________________________________________________\n",
      "reshape_404 (Reshape)           (None, 1)            0           Quantum_Conv_Layer_2[26][0]      \n",
      "__________________________________________________________________________________________________\n",
      "reshape_405 (Reshape)           (None, 1)            0           Quantum_Conv_Layer_2[27][0]      \n",
      "__________________________________________________________________________________________________\n",
      "reshape_406 (Reshape)           (None, 1)            0           Quantum_Conv_Layer_2[28][0]      \n",
      "__________________________________________________________________________________________________\n",
      "reshape_407 (Reshape)           (None, 1)            0           Quantum_Conv_Layer_2[29][0]      \n",
      "__________________________________________________________________________________________________\n",
      "reshape_408 (Reshape)           (None, 1)            0           Quantum_Conv_Layer_2[30][0]      \n",
      "__________________________________________________________________________________________________\n",
      "reshape_409 (Reshape)           (None, 1)            0           Quantum_Conv_Layer_2[31][0]      \n",
      "__________________________________________________________________________________________________\n",
      "reshape_410 (Reshape)           (None, 1)            0           Quantum_Conv_Layer_2[32][0]      \n",
      "__________________________________________________________________________________________________\n",
      "reshape_411 (Reshape)           (None, 1)            0           Quantum_Conv_Layer_2[33][0]      \n",
      "__________________________________________________________________________________________________\n",
      "reshape_412 (Reshape)           (None, 1)            0           Quantum_Conv_Layer_2[34][0]      \n",
      "__________________________________________________________________________________________________\n",
      "reshape_413 (Reshape)           (None, 1)            0           Quantum_Conv_Layer_2[35][0]      \n",
      "__________________________________________________________________________________________________\n",
      "concatenate_3 (Concatenate)     (None, 36)           0           reshape_378[0][0]                \n",
      "                                                                 reshape_379[0][0]                \n",
      "                                                                 reshape_380[0][0]                \n",
      "                                                                 reshape_381[0][0]                \n",
      "                                                                 reshape_382[0][0]                \n",
      "                                                                 reshape_383[0][0]                \n",
      "                                                                 reshape_384[0][0]                \n",
      "                                                                 reshape_385[0][0]                \n",
      "                                                                 reshape_386[0][0]                \n",
      "                                                                 reshape_387[0][0]                \n",
      "                                                                 reshape_388[0][0]                \n",
      "                                                                 reshape_389[0][0]                \n",
      "                                                                 reshape_390[0][0]                \n",
      "                                                                 reshape_391[0][0]                \n",
      "                                                                 reshape_392[0][0]                \n",
      "                                                                 reshape_393[0][0]                \n",
      "                                                                 reshape_394[0][0]                \n",
      "                                                                 reshape_395[0][0]                \n",
      "                                                                 reshape_396[0][0]                \n",
      "                                                                 reshape_397[0][0]                \n",
      "                                                                 reshape_398[0][0]                \n",
      "                                                                 reshape_399[0][0]                \n",
      "                                                                 reshape_400[0][0]                \n",
      "                                                                 reshape_401[0][0]                \n",
      "                                                                 reshape_402[0][0]                \n",
      "                                                                 reshape_403[0][0]                \n",
      "                                                                 reshape_404[0][0]                \n",
      "                                                                 reshape_405[0][0]                \n",
      "                                                                 reshape_406[0][0]                \n",
      "                                                                 reshape_407[0][0]                \n",
      "                                                                 reshape_408[0][0]                \n",
      "                                                                 reshape_409[0][0]                \n",
      "                                                                 reshape_410[0][0]                \n",
      "                                                                 reshape_411[0][0]                \n",
      "                                                                 reshape_412[0][0]                \n",
      "                                                                 reshape_413[0][0]                \n",
      "__________________________________________________________________________________________________\n",
      "reshape_414 (Reshape)           (None, 6, 6, 1)      0           concatenate_3[0][0]              \n",
      "__________________________________________________________________________________________________\n",
      "Max_Pool_Layer (MaxPooling2D)   (None, 3, 3, 1)      0           reshape_414[0][0]                \n",
      "__________________________________________________________________________________________________\n",
      "reshape_415 (Reshape)           (None, 9)            0           Max_Pool_Layer[0][0]             \n",
      "__________________________________________________________________________________________________\n",
      "keras_layer_1 (KerasLayer)      (None, 2)            18          reshape_415[0][0]                \n",
      "__________________________________________________________________________________________________\n",
      "class_weights_1 (class_weights) (None, 2)            2           keras_layer_1[0][0]              \n",
      "==================================================================================================\n",
      "Total params: 56\n",
      "Trainable params: 56\n",
      "Non-trainable params: 0\n",
      "__________________________________________________________________________________________________\n"
     ]
    }
   ],
   "source": [
    "model.summary()"
   ]
  },
  {
   "cell_type": "code",
   "execution_count": 40,
   "metadata": {},
   "outputs": [
    {
     "data": {
      "text/plain": [
       "{'loss': [0.3190556466579437,\n",
       "  0.1324336677789688,\n",
       "  0.06383240222930908,\n",
       "  0.04667748138308525,\n",
       "  0.04163982719182968,\n",
       "  0.034880828112363815,\n",
       "  0.031560931354761124,\n",
       "  0.03223029524087906,\n",
       "  0.03223955258727074,\n",
       "  0.029766449704766273],\n",
       " 'accuracy': [0.5475000143051147,\n",
       "  0.8774999976158142,\n",
       "  0.9325000047683716,\n",
       "  0.9524999856948853,\n",
       "  0.9599999785423279,\n",
       "  0.9624999761581421,\n",
       "  0.9725000262260437,\n",
       "  0.9649999737739563,\n",
       "  0.9649999737739563,\n",
       "  0.9725000262260437],\n",
       " 'val_loss': [0.17143355309963226,\n",
       "  0.11642319709062576,\n",
       "  0.07859081029891968,\n",
       "  0.05326811596751213,\n",
       "  0.05914188176393509,\n",
       "  0.05859171599149704,\n",
       "  0.054212722927331924,\n",
       "  0.05315721035003662,\n",
       "  0.05396281182765961,\n",
       "  0.05895267426967621],\n",
       " 'val_accuracy': [0.8050000071525574,\n",
       "  0.8489999771118164,\n",
       "  0.9049999713897705,\n",
       "  0.9480000138282776,\n",
       "  0.9200000166893005,\n",
       "  0.9210000038146973,\n",
       "  0.9309999942779541,\n",
       "  0.9350000023841858,\n",
       "  0.9350000023841858,\n",
       "  0.921999990940094]}"
      ]
     },
     "execution_count": 40,
     "metadata": {},
     "output_type": "execute_result"
    }
   ],
   "source": [
    "# RY noent\n",
    "H.history"
   ]
  },
  {
   "cell_type": "code",
   "execution_count": 42,
   "metadata": {},
   "outputs": [
    {
     "data": {
      "text/plain": [
       "[<tf.Variable 'model_1/Quantum_Conv_Layer_1/conv_params:0' shape=(2, 1, 9) dtype=float32, numpy=\n",
       " array([[[ 2.8187332 , -0.47825494,  0.46355948, -0.50634617,\n",
       "           0.00880399,  0.0429221 ,  0.01308273,  0.10211885,\n",
       "          -0.12379515]],\n",
       " \n",
       "        [[ 0.97048926, -0.31671068,  0.00362767, -0.09434931,\n",
       "           0.03415625, -0.14301999,  0.01915532, -0.08899173,\n",
       "           0.27037996]]], dtype=float32)>,\n",
       " <tf.Variable 'model_1/Quantum_Conv_Layer_2/conv_params:0' shape=(2, 1, 9) dtype=float32, numpy=\n",
       " array([[[-0.8531054 , -1.9238867 ,  0.5446696 ,  0.24465568,\n",
       "           0.3157472 , -0.12321742, -0.22899951,  2.6124961 ,\n",
       "           0.1721974 ]],\n",
       " \n",
       "        [[-0.3874387 , -1.0143095 , -0.1570532 ,  0.19516507,\n",
       "          -0.04742643,  0.00644725, -0.31880572, -1.2666101 ,\n",
       "           0.08527368]]], dtype=float32)>,\n",
       " <tf.Variable 'model_1/keras_layer_1/params:0' shape=(2, 1, 9) dtype=float32, numpy=\n",
       " array([[[ 0.07617606, -2.2225084 ,  0.11496793,  1.3627197 ,\n",
       "          -2.6583202 , -0.28818664,  2.0106869 ,  0.20066635,\n",
       "          -0.03082278]],\n",
       " \n",
       "        [[ 0.20864335,  1.3935802 ,  0.48268482,  0.08141141,\n",
       "           0.42544875, -0.02218557,  0.04886728,  0.6118612 ,\n",
       "           0.37515417]]], dtype=float32)>,\n",
       " <tf.Variable 'Variable:0' shape=(1, 2) dtype=float32, numpy=array([[1.0411361, 1.0545875]], dtype=float32)>]"
      ]
     },
     "execution_count": 42,
     "metadata": {},
     "output_type": "execute_result"
    }
   ],
   "source": [
    "# RY noent\n",
    "model.weights"
   ]
  },
  {
   "cell_type": "markdown",
   "metadata": {},
   "source": [
    "# Exploring the results"
   ]
  },
  {
   "cell_type": "code",
   "execution_count": 44,
   "metadata": {},
   "outputs": [
    {
     "data": {
      "text/plain": [
       "((40, 729), (40,))"
      ]
     },
     "execution_count": 44,
     "metadata": {},
     "output_type": "execute_result"
    }
   ],
   "source": [
    "X_train = np.concatenate((x_train_list[0][:20, :], x_train_list[1][:20, :]), axis=0)\n",
    "Y_train = np.zeros((X_train.shape[0],), dtype=int)\n",
    "Y_train[20:] += 1\n",
    "\n",
    "X_train.shape, Y_train.shape"
   ]
  },
  {
   "cell_type": "code",
   "execution_count": 45,
   "metadata": {},
   "outputs": [
    {
     "data": {
      "text/plain": [
       "((40, 729), (40,))"
      ]
     },
     "execution_count": 45,
     "metadata": {},
     "output_type": "execute_result"
    }
   ],
   "source": [
    "X_test = np.concatenate((x_test_list[0][:20, :], x_test_list[1][:20, :]), axis=0)\n",
    "Y_test = np.zeros((X_test.shape[0],), dtype=int)\n",
    "Y_test[20:] += 1\n",
    "\n",
    "X_test.shape, Y_test.shape"
   ]
  },
  {
   "cell_type": "code",
   "execution_count": 46,
   "metadata": {},
   "outputs": [
    {
     "data": {
      "text/plain": [
       "((40, 27, 27), (40, 27, 27))"
      ]
     },
     "execution_count": 46,
     "metadata": {},
     "output_type": "execute_result"
    }
   ],
   "source": [
    "X_train = X_train.reshape(X_train.shape[0], 27, 27)\n",
    "X_test = X_test.reshape(X_test.shape[0], 27, 27)\n",
    "\n",
    "X_train.shape, X_test.shape"
   ]
  },
  {
   "cell_type": "markdown",
   "metadata": {},
   "source": [
    "## First Layer"
   ]
  },
  {
   "cell_type": "code",
   "execution_count": 21,
   "metadata": {},
   "outputs": [
    {
     "data": {
      "text/plain": [
       "(2, 1, 9)"
      ]
     },
     "execution_count": 21,
     "metadata": {},
     "output_type": "execute_result"
    }
   ],
   "source": [
    "qconv_1_weights = np.array([[[ 2.8187332 , -0.47825494,  0.46355948, -0.50634617,\n",
    "           0.00880399,  0.0429221 ,  0.01308273,  0.10211885,\n",
    "          -0.12379515]],\n",
    " \n",
    "        [[ 0.97048926, -0.31671068,  0.00362767, -0.09434931,\n",
    "           0.03415625, -0.14301999,  0.01915532, -0.08899173,\n",
    "           0.27037996]]])\n",
    "\n",
    "qconv_1_weights.shape"
   ]
  },
  {
   "cell_type": "code",
   "execution_count": 49,
   "metadata": {},
   "outputs": [],
   "source": [
    "# Input image, size = 27 x 27\n",
    "X = tf.keras.Input(shape=(27,27), name='Input_Layer')\n",
    "\n",
    "\n",
    "# Specs for Conv\n",
    "c_filter = 3\n",
    "c_strides = 2\n",
    "\n",
    "\n",
    "# First Quantum Conv Layer, trainable params = 18*L, output size = 13 x 13\n",
    "num_conv_layer_1 = 1\n",
    "q_conv_layer_1 = qml.qnn.KerasLayer(q_conv, {\"conv_params\": (2, num_conv_layer_1, 9)}, output_dim=(1), name='Quantum_Conv_Layer_1')\n",
    "size_1 = int(1+(X.shape[1]-c_filter)/c_strides)\n",
    "q_conv_layer_1_list = []\n",
    "# height iteration\n",
    "for i in range(size_1):\n",
    "    # width iteration\n",
    "    for j in range(size_1):\n",
    "        temp = q_conv_layer_1(X[:, 2*i:2*(i+1)+1, 2*j:2*(j+1)+1])\n",
    "        temp = tf.keras.layers.Reshape((1,))(temp)\n",
    "        q_conv_layer_1_list += [temp]\n",
    "concat_layer_1 = tf.keras.layers.Concatenate(axis=1)(q_conv_layer_1_list)\n",
    "reshape_layer_1 = tf.keras.layers.Reshape((size_1, size_1))(concat_layer_1)\n",
    "\n",
    "\n",
    "qconv1_model = tf.keras.Model(inputs=X, outputs=reshape_layer_1)"
   ]
  },
  {
   "cell_type": "code",
   "execution_count": 50,
   "metadata": {},
   "outputs": [],
   "source": [
    "qconv1_model(X_train[0:1])\n",
    "qconv1_model.get_layer('Quantum_Conv_Layer_1').set_weights([qconv_1_weights])"
   ]
  },
  {
   "cell_type": "code",
   "execution_count": 51,
   "metadata": {},
   "outputs": [
    {
     "data": {
      "text/plain": [
       "[<tf.Variable 'model_2/Quantum_Conv_Layer_1/conv_params:0' shape=(2, 1, 9) dtype=float32, numpy=\n",
       " array([[[ 2.8187332 , -0.47825494,  0.46355948, -0.50634617,\n",
       "           0.00880399,  0.0429221 ,  0.01308273,  0.10211885,\n",
       "          -0.12379515]],\n",
       " \n",
       "        [[ 0.97048926, -0.31671068,  0.00362767, -0.09434931,\n",
       "           0.03415625, -0.14301999,  0.01915532, -0.08899173,\n",
       "           0.27037996]]], dtype=float32)>]"
      ]
     },
     "execution_count": 51,
     "metadata": {},
     "output_type": "execute_result"
    }
   ],
   "source": [
    "qconv1_model.weights"
   ]
  },
  {
   "cell_type": "code",
   "execution_count": 54,
   "metadata": {},
   "outputs": [
    {
     "name": "stdout",
     "output_type": "stream",
     "text": [
      "(40, 169) (40, 169)\n"
     ]
    }
   ],
   "source": [
    "preprocessed_img_train = qconv1_model(X_train)\n",
    "\n",
    "preprocessed_img_test = qconv1_model(X_test)\n",
    "\n",
    "data_train = preprocessed_img_train.numpy().reshape(-1, 13*13)\n",
    "np.savetxt('./2_QConv2noent_QFC-Filter1_Image_Train.txt', data_train)\n",
    "\n",
    "data_test = preprocessed_img_test.numpy().reshape(-1, 13*13)\n",
    "np.savetxt('./2_QConv2noent_QFC-Filter1_Image_Test.txt', data_test)\n",
    "\n",
    "print(data_train.shape, data_test.shape)"
   ]
  },
  {
   "cell_type": "markdown",
   "metadata": {},
   "source": [
    "## Second Layer"
   ]
  },
  {
   "cell_type": "code",
   "execution_count": 22,
   "metadata": {},
   "outputs": [
    {
     "data": {
      "text/plain": [
       "(2, 1, 9)"
      ]
     },
     "execution_count": 22,
     "metadata": {},
     "output_type": "execute_result"
    }
   ],
   "source": [
    "qconv_2_weights = np.array([[[-0.8531054 , -1.9238867 ,  0.5446696 ,  0.24465568,\n",
    "           0.3157472 , -0.12321742, -0.22899951,  2.6124961 ,\n",
    "           0.1721974 ]],\n",
    " \n",
    "        [[-0.3874387 , -1.0143095 , -0.1570532 ,  0.19516507,\n",
    "          -0.04742643,  0.00644725, -0.31880572, -1.2666101 ,\n",
    "           0.08527368]]])\n",
    "\n",
    "qconv_2_weights.shape"
   ]
  },
  {
   "cell_type": "code",
   "execution_count": 56,
   "metadata": {},
   "outputs": [],
   "source": [
    "# Input image, size = 27 x 27\n",
    "X = tf.keras.Input(shape=(27,27), name='Input_Layer')\n",
    "\n",
    "\n",
    "# Specs for Conv\n",
    "c_filter = 3\n",
    "c_strides = 2\n",
    "\n",
    "\n",
    "# First Quantum Conv Layer, trainable params = 18*L, output size = 13 x 13\n",
    "num_conv_layer_1 = 1\n",
    "q_conv_layer_1 = qml.qnn.KerasLayer(q_conv, {\"conv_params\": (2, num_conv_layer_1, 9)}, output_dim=(1), name='Quantum_Conv_Layer_1')\n",
    "size_1 = int(1+(X.shape[1]-c_filter)/c_strides)\n",
    "q_conv_layer_1_list = []\n",
    "# height iteration\n",
    "for i in range(size_1):\n",
    "    # width iteration\n",
    "    for j in range(size_1):\n",
    "        temp = q_conv_layer_1(X[:, 2*i:2*(i+1)+1, 2*j:2*(j+1)+1])\n",
    "        temp = tf.keras.layers.Reshape((1,))(temp)\n",
    "        q_conv_layer_1_list += [temp]\n",
    "concat_layer_1 = tf.keras.layers.Concatenate(axis=1)(q_conv_layer_1_list)\n",
    "reshape_layer_1 = tf.keras.layers.Reshape((size_1, size_1))(concat_layer_1)\n",
    "\n",
    "\n",
    "# Second Quantum Conv Layer, trainable params = 18*L, output size = 6 x 6\n",
    "num_conv_layer_2 = 1\n",
    "q_conv_layer_2 = qml.qnn.KerasLayer(q_conv, {\"conv_params\": (2, num_conv_layer_2, 9)}, output_dim=(1), name='Quantum_Conv_Layer_2')\n",
    "size_2 = int(1+(reshape_layer_1.shape[1]-c_filter)/c_strides)\n",
    "q_conv_layer_2_list = []\n",
    "# height iteration\n",
    "for i in range(size_2):\n",
    "    # width iteration\n",
    "    for j in range(size_2):\n",
    "        temp = q_conv_layer_2(reshape_layer_1[:, 2*i:2*(i+1)+1, 2*j:2*(j+1)+1])\n",
    "        temp = tf.keras.layers.Reshape((1,))(temp)\n",
    "        q_conv_layer_2_list += [temp]\n",
    "concat_layer_2 = tf.keras.layers.Concatenate(axis=1)(q_conv_layer_2_list)\n",
    "reshape_layer_2 = tf.keras.layers.Reshape((size_2, size_2, 1))(concat_layer_2)\n",
    "\n",
    "\n",
    "\n",
    "qconv2_model = tf.keras.Model(inputs=X, outputs=reshape_layer_2)"
   ]
  },
  {
   "cell_type": "code",
   "execution_count": 57,
   "metadata": {},
   "outputs": [],
   "source": [
    "qconv2_model(X_train[0:1])\n",
    "qconv2_model.get_layer('Quantum_Conv_Layer_1').set_weights([qconv_1_weights])\n",
    "qconv2_model.get_layer('Quantum_Conv_Layer_2').set_weights([qconv_2_weights])"
   ]
  },
  {
   "cell_type": "code",
   "execution_count": 58,
   "metadata": {},
   "outputs": [
    {
     "data": {
      "text/plain": [
       "[<tf.Variable 'model_3/Quantum_Conv_Layer_1/conv_params:0' shape=(2, 1, 9) dtype=float32, numpy=\n",
       " array([[[ 2.8187332 , -0.47825494,  0.46355948, -0.50634617,\n",
       "           0.00880399,  0.0429221 ,  0.01308273,  0.10211885,\n",
       "          -0.12379515]],\n",
       " \n",
       "        [[ 0.97048926, -0.31671068,  0.00362767, -0.09434931,\n",
       "           0.03415625, -0.14301999,  0.01915532, -0.08899173,\n",
       "           0.27037996]]], dtype=float32)>,\n",
       " <tf.Variable 'model_3/Quantum_Conv_Layer_2/conv_params:0' shape=(2, 1, 9) dtype=float32, numpy=\n",
       " array([[[-0.8531054 , -1.9238867 ,  0.5446696 ,  0.24465568,\n",
       "           0.3157472 , -0.12321742, -0.22899951,  2.6124961 ,\n",
       "           0.1721974 ]],\n",
       " \n",
       "        [[-0.3874387 , -1.0143095 , -0.1570532 ,  0.19516507,\n",
       "          -0.04742643,  0.00644725, -0.31880572, -1.2666101 ,\n",
       "           0.08527368]]], dtype=float32)>]"
      ]
     },
     "execution_count": 58,
     "metadata": {},
     "output_type": "execute_result"
    }
   ],
   "source": [
    "qconv2_model.weights"
   ]
  },
  {
   "cell_type": "code",
   "execution_count": 59,
   "metadata": {},
   "outputs": [
    {
     "name": "stdout",
     "output_type": "stream",
     "text": [
      "(40, 36) (40, 36)\n"
     ]
    }
   ],
   "source": [
    "preprocessed_img_train = qconv2_model(X_train)\n",
    "\n",
    "preprocessed_img_test = qconv2_model(X_test)\n",
    "\n",
    "data_train = preprocessed_img_train.numpy().reshape(-1, 6*6)\n",
    "np.savetxt('./2_QConv2noent_QFC-Filter2_Image_Train.txt', data_train)\n",
    "\n",
    "data_test = preprocessed_img_test.numpy().reshape(-1, 6*6)\n",
    "np.savetxt('./2_QConv2noent_QFC-Filter2_Image_Test.txt', data_test)\n",
    "\n",
    "print(data_train.shape, data_test.shape)"
   ]
  },
  {
   "cell_type": "markdown",
   "metadata": {},
   "source": [
    "## Quantum States"
   ]
  },
  {
   "cell_type": "code",
   "execution_count": 23,
   "metadata": {},
   "outputs": [
    {
     "data": {
      "text/plain": [
       "((400, 27, 27), (1000, 27, 27))"
      ]
     },
     "execution_count": 23,
     "metadata": {},
     "output_type": "execute_result"
    }
   ],
   "source": [
    "X_train.shape, X_test.shape"
   ]
  },
  {
   "cell_type": "code",
   "execution_count": 24,
   "metadata": {},
   "outputs": [],
   "source": [
    "q_fc_weights = np.array([[[ 0.07617606, -2.2225084 ,  0.11496793,  1.3627197 ,\n",
    "          -2.6583202 , -0.28818664,  2.0106869 ,  0.20066635,\n",
    "          -0.03082278]],\n",
    " \n",
    "        [[ 0.20864335,  1.3935802 ,  0.48268482,  0.08141141,\n",
    "           0.42544875, -0.02218557,  0.04886728,  0.6118612 ,\n",
    "           0.37515417]]])"
   ]
  },
  {
   "cell_type": "code",
   "execution_count": 61,
   "metadata": {},
   "outputs": [],
   "source": [
    "pred_train = model.predict(X_train)\n",
    "pred_test = model.predict(X_test)"
   ]
  },
  {
   "cell_type": "code",
   "execution_count": 62,
   "metadata": {},
   "outputs": [
    {
     "data": {
      "text/plain": [
       "tensor([0, 0, 0, 0, 0, 0, 0, 0, 0, 0, 0, 0, 0, 0, 0, 0, 0, 0, 0, 0, 1, 1,\n",
       "        1, 1, 1, 0, 1, 1, 1, 0, 1, 1, 1, 1, 1, 1, 1, 1, 1, 1], requires_grad=True)"
      ]
     },
     "execution_count": 62,
     "metadata": {},
     "output_type": "execute_result"
    }
   ],
   "source": [
    "np.argmax(pred_train, axis=1)"
   ]
  },
  {
   "cell_type": "code",
   "execution_count": 63,
   "metadata": {},
   "outputs": [
    {
     "data": {
      "text/plain": [
       "tensor([0, 0, 0, 0, 0, 0, 0, 0, 0, 1, 1, 0, 0, 1, 0, 0, 0, 0, 1, 0, 1, 1,\n",
       "        1, 1, 1, 1, 1, 1, 0, 1, 1, 1, 1, 1, 0, 1, 1, 1, 1, 1], requires_grad=True)"
      ]
     },
     "execution_count": 63,
     "metadata": {},
     "output_type": "execute_result"
    }
   ],
   "source": [
    "np.argmax(pred_test, axis=1)"
   ]
  },
  {
   "cell_type": "code",
   "execution_count": 25,
   "metadata": {},
   "outputs": [],
   "source": [
    "# Input image, size = 27 x 27\n",
    "X = tf.keras.Input(shape=(27,27), name='Input_Layer')\n",
    "\n",
    "\n",
    "# Specs for Conv\n",
    "c_filter = 3\n",
    "c_strides = 2\n",
    "\n",
    "\n",
    "# First Quantum Conv Layer, trainable params = 18*L, output size = 13 x 13\n",
    "num_conv_layer_1 = 1\n",
    "q_conv_layer_1 = qml.qnn.KerasLayer(q_conv, {\"conv_params\": (2, num_conv_layer_1, 9)}, output_dim=(1), name='Quantum_Conv_Layer_1')\n",
    "size_1 = int(1+(X.shape[1]-c_filter)/c_strides)\n",
    "q_conv_layer_1_list = []\n",
    "# height iteration\n",
    "for i in range(size_1):\n",
    "    # width iteration\n",
    "    for j in range(size_1):\n",
    "        temp = q_conv_layer_1(X[:, 2*i:2*(i+1)+1, 2*j:2*(j+1)+1])\n",
    "        temp = tf.keras.layers.Reshape((1,))(temp)\n",
    "        q_conv_layer_1_list += [temp]\n",
    "concat_layer_1 = tf.keras.layers.Concatenate(axis=1)(q_conv_layer_1_list)\n",
    "reshape_layer_1 = tf.keras.layers.Reshape((size_1, size_1))(concat_layer_1)\n",
    "\n",
    "\n",
    "# Second Quantum Conv Layer, trainable params = 18*L, output size = 6 x 6\n",
    "num_conv_layer_2 = 1\n",
    "q_conv_layer_2 = qml.qnn.KerasLayer(q_conv, {\"conv_params\": (2, num_conv_layer_2, 9)}, output_dim=(1), name='Quantum_Conv_Layer_2')\n",
    "size_2 = int(1+(reshape_layer_1.shape[1]-c_filter)/c_strides)\n",
    "q_conv_layer_2_list = []\n",
    "# height iteration\n",
    "for i in range(size_2):\n",
    "    # width iteration\n",
    "    for j in range(size_2):\n",
    "        temp = q_conv_layer_2(reshape_layer_1[:, 2*i:2*(i+1)+1, 2*j:2*(j+1)+1])\n",
    "        temp = tf.keras.layers.Reshape((1,))(temp)\n",
    "        q_conv_layer_2_list += [temp]\n",
    "concat_layer_2 = tf.keras.layers.Concatenate(axis=1)(q_conv_layer_2_list)\n",
    "reshape_layer_2 = tf.keras.layers.Reshape((size_2, size_2, 1))(concat_layer_2)\n",
    "\n",
    "\n",
    "# Max Pooling Layer, output size = 9\n",
    "max_pool_layer = tf.keras.layers.MaxPooling2D(pool_size=(2, 2), strides=None, name='Max_Pool_Layer')(reshape_layer_2)\n",
    "reshape_layer_3 = tf.keras.layers.Reshape((9,))(max_pool_layer)\n",
    "\n",
    "\n",
    "\n",
    "maxpool_model = tf.keras.Model(inputs=X, outputs=reshape_layer_3)"
   ]
  },
  {
   "cell_type": "code",
   "execution_count": 26,
   "metadata": {},
   "outputs": [],
   "source": [
    "maxpool_model(X_train[0:1])\n",
    "maxpool_model.get_layer('Quantum_Conv_Layer_1').set_weights([qconv_1_weights])\n",
    "maxpool_model.get_layer('Quantum_Conv_Layer_2').set_weights([qconv_2_weights])"
   ]
  },
  {
   "cell_type": "code",
   "execution_count": 27,
   "metadata": {},
   "outputs": [
    {
     "data": {
      "text/plain": [
       "(TensorShape([400, 9]), TensorShape([1000, 9]))"
      ]
     },
     "execution_count": 27,
     "metadata": {},
     "output_type": "execute_result"
    }
   ],
   "source": [
    "maxpool_train = maxpool_model(X_train)\n",
    "maxpool_test = maxpool_model(X_test)\n",
    "\n",
    "maxpool_train.shape, maxpool_test.shape"
   ]
  },
  {
   "cell_type": "code",
   "execution_count": 28,
   "metadata": {},
   "outputs": [],
   "source": [
    "n_qubits = 1  # number of class\n",
    "dev_state = qml.device(\"default.qubit\", wires=n_qubits)\n",
    "\n",
    "\n",
    "@qml.qnode(dev_state)\n",
    "def q_fc_state(params, inputs):\n",
    "    \n",
    "    # layer iteration\n",
    "    for l in range(len(params[0])):\n",
    "        # qubit iteration\n",
    "        for q in range(n_qubits):\n",
    "            # gate iteration\n",
    "            for g in range(int(len(inputs)/3)):\n",
    "                qml.Rot(*(params[0][l][3*g:3*(g+1)] * inputs[3*g:3*(g+1)] + params[1][l][3*g:3*(g+1)]), wires=q)\n",
    "    \n",
    "    #return [qml.expval(qml.Hermitian(density_matrix(state_labels[i]), wires=[i])) for i in range(n_qubits)]\n",
    "    return qml.expval(qml.Hermitian(density_matrix(state_labels[0]), wires=[0]))"
   ]
  },
  {
   "cell_type": "code",
   "execution_count": 29,
   "metadata": {},
   "outputs": [
    {
     "data": {
      "text/plain": [
       "tensor(1., requires_grad=True)"
      ]
     },
     "execution_count": 29,
     "metadata": {},
     "output_type": "execute_result"
    }
   ],
   "source": [
    "q_fc_state(np.zeros((2,1,9)), maxpool_train[0])"
   ]
  },
  {
   "cell_type": "code",
   "execution_count": 30,
   "metadata": {},
   "outputs": [
    {
     "data": {
      "text/plain": [
       "tensor(0.97627103, requires_grad=True)"
      ]
     },
     "execution_count": 30,
     "metadata": {},
     "output_type": "execute_result"
    }
   ],
   "source": [
    "q_fc_state(q_fc_weights, maxpool_train[0])"
   ]
  },
  {
   "cell_type": "code",
   "execution_count": 31,
   "metadata": {},
   "outputs": [],
   "source": [
    "train_state = np.zeros((len(X_train), 2), dtype=np.complex_)\n",
    "test_state = np.zeros((len(X_test), 2), dtype=np.complex_)\n",
    "\n",
    "for i in range(len(train_state)):\n",
    "    \n",
    "    q_fc_state(q_fc_weights, maxpool_train[i])\n",
    "    temp = np.flip(dev_state._state)\n",
    "    train_state[i, :] = temp\n",
    "    \n",
    "for i in range(len(test_state)):\n",
    "    \n",
    "    q_fc_state(q_fc_weights, maxpool_test[i])\n",
    "    temp = np.flip(dev_state._state)\n",
    "    test_state[i, :] = temp"
   ]
  },
  {
   "cell_type": "code",
   "execution_count": 34,
   "metadata": {},
   "outputs": [
    {
     "data": {
      "text/plain": [
       "((400, 2), (1000, 2))"
      ]
     },
     "execution_count": 34,
     "metadata": {},
     "output_type": "execute_result"
    }
   ],
   "source": [
    "train_state.shape, test_state.shape"
   ]
  },
  {
   "cell_type": "code",
   "execution_count": 35,
   "metadata": {},
   "outputs": [
    {
     "name": "stdout",
     "output_type": "stream",
     "text": [
      "[ True  True  True  True  True  True  True  True  True  True  True  True\n",
      "  True  True  True  True  True  True  True  True  True  True  True  True\n",
      "  True  True False  True  True  True  True  True  True  True  True  True\n",
      "  True  True  True  True  True  True  True  True  True  True  True  True\n",
      "  True  True  True False False  True  True  True  True  True  True  True\n",
      "  True  True  True  True  True  True False  True  True  True  True  True\n",
      "  True  True  True  True  True  True False  True  True  True  True  True\n",
      "  True  True  True  True  True  True  True  True  True  True  True  True\n",
      "  True  True  True  True  True  True  True  True  True  True  True  True\n",
      "  True  True  True  True  True  True  True  True  True  True  True  True\n",
      "  True  True  True  True  True  True  True  True  True  True  True  True\n",
      "  True  True  True  True  True  True  True  True  True  True  True  True\n",
      "  True  True  True  True  True  True  True  True  True  True  True  True\n",
      "  True  True  True  True  True  True  True  True  True  True  True  True\n",
      "  True  True  True  True  True  True  True  True  True  True  True  True\n",
      "  True  True  True  True  True  True  True  True  True  True  True  True\n",
      "  True  True  True  True  True  True  True False False False False False\n",
      " False  True False False False  True False False False False False False\n",
      " False False False False False  True False False False False False False\n",
      " False False False  True False False False False False False False False\n",
      " False False False False False False False False False False False False\n",
      " False False False False False False False False False  True False False\n",
      " False False False False False False False False False False False False\n",
      " False False False False False False False False False False False False\n",
      " False False False False False False False False False False False False\n",
      " False False False  True False False False False False False False False\n",
      " False False False False False False False False False False False False\n",
      " False False False False False False False False False False False False\n",
      " False False False False False False False False False False False False\n",
      " False False False False False False False False False False False False\n",
      " False False False False False False False False False False False False\n",
      " False False False  True False False False False False False False False\n",
      " False False False False  True False False False False False False False\n",
      " False False False False]\n",
      "[ True  True  True  True  True  True  True  True  True False False  True\n",
      "  True False  True  True  True  True False  True  True  True  True  True\n",
      "  True  True  True  True  True  True  True  True  True  True  True  True\n",
      "  True  True  True  True  True False  True False  True  True  True  True\n",
      "  True  True  True  True  True  True  True  True  True  True  True  True\n",
      "  True  True  True  True  True  True  True  True  True  True  True  True\n",
      "  True  True  True  True  True  True  True  True  True  True  True  True\n",
      "  True  True  True  True  True  True  True  True  True  True  True  True\n",
      "  True False  True  True  True False False  True  True  True  True  True\n",
      "  True  True  True  True  True  True  True  True  True  True  True  True\n",
      "  True False  True  True  True  True  True  True  True  True  True  True\n",
      "  True  True  True  True  True  True False  True  True  True  True  True\n",
      "  True  True False  True  True  True False  True  True False  True  True\n",
      " False  True  True  True  True  True  True  True  True  True  True False\n",
      "  True  True  True  True  True  True  True  True  True  True  True  True\n",
      "  True  True  True  True  True  True  True  True  True  True  True  True\n",
      "  True False  True  True  True False  True  True  True  True  True  True\n",
      "  True  True  True  True  True  True  True  True  True False  True  True\n",
      "  True  True  True  True  True  True  True  True  True  True  True  True\n",
      "  True  True  True  True  True  True False  True  True  True  True  True\n",
      "  True  True  True  True  True  True  True  True False  True  True  True\n",
      "  True  True  True  True  True  True  True  True  True  True  True  True\n",
      "  True  True  True  True False  True  True  True  True False False  True\n",
      " False  True  True  True False  True False  True False  True  True  True\n",
      " False  True  True  True  True  True  True  True  True  True  True  True\n",
      "  True  True  True  True  True  True  True  True  True False  True False\n",
      "  True  True  True  True  True  True  True  True  True  True  True False\n",
      "  True  True  True  True  True  True  True  True  True  True  True  True\n",
      " False  True  True  True  True  True False  True  True  True  True  True\n",
      "  True  True  True  True  True False  True  True  True  True  True  True\n",
      "  True  True  True  True  True  True  True  True  True  True  True False\n",
      "  True  True  True  True False  True  True False  True  True  True  True\n",
      "  True  True  True  True  True  True  True  True  True  True  True  True\n",
      " False  True  True  True  True  True  True  True False  True  True False\n",
      "  True  True  True False  True  True False  True  True  True  True  True\n",
      "  True  True  True False  True  True  True  True  True  True False False\n",
      "  True  True  True  True  True  True  True  True  True  True  True  True\n",
      "  True  True  True  True  True False  True  True  True  True  True  True\n",
      "  True  True False  True  True  True  True  True  True  True  True  True\n",
      "  True  True  True  True  True  True  True  True  True  True  True  True\n",
      "  True  True  True  True  True  True  True  True  True  True  True  True\n",
      "  True  True  True  True  True  True  True  True False False False False\n",
      " False False False False  True False False False False False  True False\n",
      " False False False False False False False False False False  True False\n",
      " False False False False False False False False False False False False\n",
      " False False False False False False False False False False False False\n",
      " False False False False False False False False False False False False\n",
      " False False False False False False False False False False  True False\n",
      " False False False False False False False False False False False False\n",
      " False False False False False False False False False False False False\n",
      " False False False False False False False False False False  True False\n",
      " False False False False False  True False False False False False False\n",
      " False  True False False False False False False False False False False\n",
      " False False False False False False False False False False False False\n",
      " False False False False False False False False False False False False\n",
      " False False False False False False False  True False False False False\n",
      "  True False False False False False False False  True False False False\n",
      " False False False False False False False False False False False  True\n",
      " False False False False False False False False False  True False  True\n",
      " False False False False False False False False False False False  True\n",
      " False False  True False False False False False False False False False\n",
      " False False False False False False False False False False False False\n",
      " False False False False False False False  True False False False False\n",
      "  True False False  True False False False False False False False False\n",
      " False False False False False False False False False False False False\n",
      " False False False False False False False False False False False False\n",
      " False False False False False False False False False False False False\n",
      " False False  True False False False False False False False False False\n",
      " False False False False False False False False False False False False\n",
      " False  True False False False False False False False False False False\n",
      " False False False False False False False False  True False False False\n",
      " False False  True False False False False False False False False False\n",
      " False False False False False False False False False False False False\n",
      " False False False False False False False False False False False False\n",
      " False False False False False False False False False False False False\n",
      " False False False False  True False False False False False False False\n",
      " False False False False False False False False False False False False\n",
      " False False False False False False False False False False False False\n",
      " False False False False False False False False False False False False\n",
      " False False False False False  True False False False False False False\n",
      " False False False False False False False False False False False False\n",
      " False False False False False  True  True False False  True False False\n",
      " False  True False False False False False False False False False False\n",
      " False  True False False]\n"
     ]
    }
   ],
   "source": [
    "# sanity check\n",
    "\n",
    "print(((np.conj(train_state) @ density_matrix(state_labels[0])) * train_state)[:, 0] > 0.5)\n",
    "\n",
    "print(((np.conj(test_state) @ density_matrix(state_labels[0])) * test_state)[:, 0] > 0.5)"
   ]
  },
  {
   "cell_type": "code",
   "execution_count": 36,
   "metadata": {},
   "outputs": [],
   "source": [
    "np.savetxt('./2_QConv2noent_QFC-State_Train_all_samples.txt', train_state)\n",
    "np.savetxt('./2_QConv2noent_QFC-State_Test_all_samples.txt', test_state)"
   ]
  },
  {
   "cell_type": "markdown",
   "metadata": {},
   "source": [
    "## Random Starting State"
   ]
  },
  {
   "cell_type": "code",
   "execution_count": 37,
   "metadata": {},
   "outputs": [],
   "source": [
    "# Input image, size = 27 x 27\n",
    "X = tf.keras.Input(shape=(27,27), name='Input_Layer')\n",
    "\n",
    "\n",
    "# Specs for Conv\n",
    "c_filter = 3\n",
    "c_strides = 2\n",
    "\n",
    "\n",
    "# First Quantum Conv Layer, trainable params = 18*L, output size = 13 x 13\n",
    "num_conv_layer_1 = 1\n",
    "q_conv_layer_1 = qml.qnn.KerasLayer(q_conv, {\"conv_params\": (2, num_conv_layer_1, 9)}, output_dim=(1), name='Quantum_Conv_Layer_1')\n",
    "size_1 = int(1+(X.shape[1]-c_filter)/c_strides)\n",
    "q_conv_layer_1_list = []\n",
    "# height iteration\n",
    "for i in range(size_1):\n",
    "    # width iteration\n",
    "    for j in range(size_1):\n",
    "        temp = q_conv_layer_1(X[:, 2*i:2*(i+1)+1, 2*j:2*(j+1)+1])\n",
    "        temp = tf.keras.layers.Reshape((1,))(temp)\n",
    "        q_conv_layer_1_list += [temp]\n",
    "concat_layer_1 = tf.keras.layers.Concatenate(axis=1)(q_conv_layer_1_list)\n",
    "reshape_layer_1 = tf.keras.layers.Reshape((size_1, size_1))(concat_layer_1)\n",
    "\n",
    "\n",
    "# Second Quantum Conv Layer, trainable params = 18*L, output size = 6 x 6\n",
    "num_conv_layer_2 = 1\n",
    "q_conv_layer_2 = qml.qnn.KerasLayer(q_conv, {\"conv_params\": (2, num_conv_layer_2, 9)}, output_dim=(1), name='Quantum_Conv_Layer_2')\n",
    "size_2 = int(1+(reshape_layer_1.shape[1]-c_filter)/c_strides)\n",
    "q_conv_layer_2_list = []\n",
    "# height iteration\n",
    "for i in range(size_2):\n",
    "    # width iteration\n",
    "    for j in range(size_2):\n",
    "        temp = q_conv_layer_2(reshape_layer_1[:, 2*i:2*(i+1)+1, 2*j:2*(j+1)+1])\n",
    "        temp = tf.keras.layers.Reshape((1,))(temp)\n",
    "        q_conv_layer_2_list += [temp]\n",
    "concat_layer_2 = tf.keras.layers.Concatenate(axis=1)(q_conv_layer_2_list)\n",
    "reshape_layer_2 = tf.keras.layers.Reshape((size_2, size_2, 1))(concat_layer_2)\n",
    "\n",
    "\n",
    "# Max Pooling Layer, output size = 9\n",
    "max_pool_layer = tf.keras.layers.MaxPooling2D(pool_size=(2, 2), strides=None, name='Max_Pool_Layer')(reshape_layer_2)\n",
    "reshape_layer_3 = tf.keras.layers.Reshape((9,))(max_pool_layer)\n",
    "\n",
    "\n",
    "# Quantum FC Layer, trainable params = 18*L*n_class + 2, output size = 2\n",
    "num_fc_layer = 1\n",
    "q_fc_layer_0 = qml.qnn.KerasLayer(q_fc, {\"params\": (2, num_fc_layer, 9)}, output_dim=2)(reshape_layer_3)\n",
    "\n",
    "# Alpha Layer\n",
    "alpha_layer_0 = class_weights()(q_fc_layer_0)\n",
    "\n",
    "\n",
    "model_random = tf.keras.Model(inputs=X, outputs=alpha_layer_0)\n",
    "model_maxpool_random = tf.keras.Model(inputs=X, outputs=reshape_layer_3)"
   ]
  },
  {
   "cell_type": "code",
   "execution_count": 38,
   "metadata": {},
   "outputs": [
    {
     "data": {
      "text/plain": [
       "[<tf.Variable 'model_2/Quantum_Conv_Layer_1/conv_params:0' shape=(2, 1, 9) dtype=float32, numpy=\n",
       " array([[[-0.15570569,  0.2688368 , -0.5205471 ,  0.5209966 ,\n",
       "           0.43946862, -0.41040227, -0.01006722,  0.21328932,\n",
       "           0.03991932]],\n",
       " \n",
       "        [[ 0.3378569 , -0.30249137, -0.43277252, -0.33396918,\n",
       "           0.19190145,  0.470232  ,  0.40253383,  0.5038419 ,\n",
       "           0.29318976]]], dtype=float32)>,\n",
       " <tf.Variable 'model_2/Quantum_Conv_Layer_2/conv_params:0' shape=(2, 1, 9) dtype=float32, numpy=\n",
       " array([[[-0.16110066, -0.287142  ,  0.44501978,  0.2118715 ,\n",
       "           0.23768693, -0.17819047,  0.49069512, -0.43646657,\n",
       "           0.18279302]],\n",
       " \n",
       "        [[ 0.27290642,  0.08645177,  0.5218208 ,  0.3105942 ,\n",
       "          -0.26338178, -0.19851625, -0.27393508, -0.5372756 ,\n",
       "           0.30556488]]], dtype=float32)>,\n",
       " <tf.Variable 'model_2/keras_layer_1/params:0' shape=(2, 1, 9) dtype=float32, numpy=\n",
       " array([[[-0.35458952, -0.1612238 , -0.5396413 ,  0.1676842 ,\n",
       "           0.34848082,  0.13427138, -0.22383437,  0.03579813,\n",
       "          -0.01182914]],\n",
       " \n",
       "        [[ 0.05027205, -0.16381726,  0.28698307, -0.1324831 ,\n",
       "           0.33570415,  0.08612686,  0.24795538, -0.10930336,\n",
       "          -0.447582  ]]], dtype=float32)>,\n",
       " <tf.Variable 'Variable:0' shape=(1, 2) dtype=float32, numpy=array([[ 0.11497795, -0.05299397]], dtype=float32)>]"
      ]
     },
     "execution_count": 38,
     "metadata": {},
     "output_type": "execute_result"
    }
   ],
   "source": [
    "model_random(X_train[0:1])\n",
    "model_random.weights"
   ]
  },
  {
   "cell_type": "code",
   "execution_count": 39,
   "metadata": {},
   "outputs": [],
   "source": [
    "random_weights = np.array([[[-0.35458952, -0.1612238 , -0.5396413 ,  0.1676842 ,\n",
    "           0.34848082,  0.13427138, -0.22383437,  0.03579813,\n",
    "          -0.01182914]],\n",
    " \n",
    "        [[ 0.05027205, -0.16381726,  0.28698307, -0.1324831 ,\n",
    "           0.33570415,  0.08612686,  0.24795538, -0.10930336,\n",
    "          -0.447582  ]]])"
   ]
  },
  {
   "cell_type": "code",
   "execution_count": 40,
   "metadata": {},
   "outputs": [
    {
     "data": {
      "text/plain": [
       "(TensorShape([400, 9]), TensorShape([1000, 9]))"
      ]
     },
     "execution_count": 40,
     "metadata": {},
     "output_type": "execute_result"
    }
   ],
   "source": [
    "maxpool_train = model_maxpool_random(X_train)\n",
    "maxpool_test = model_maxpool_random(X_test)\n",
    "\n",
    "maxpool_train.shape, maxpool_test.shape"
   ]
  },
  {
   "cell_type": "code",
   "execution_count": 41,
   "metadata": {},
   "outputs": [],
   "source": [
    "n_qubits = 1  # number of class\n",
    "dev_state = qml.device(\"default.qubit\", wires=n_qubits)\n",
    "\n",
    "\n",
    "@qml.qnode(dev_state)\n",
    "def q_fc_state(params, inputs):\n",
    "    \n",
    "    # layer iteration\n",
    "    for l in range(len(params[0])):\n",
    "        # qubit iteration\n",
    "        for q in range(n_qubits):\n",
    "            # gate iteration\n",
    "            for g in range(int(len(inputs)/3)):\n",
    "                qml.Rot(*(params[0][l][3*g:3*(g+1)] * inputs[3*g:3*(g+1)] + params[1][l][3*g:3*(g+1)]), wires=q)\n",
    "    \n",
    "    #return [qml.expval(qml.Hermitian(density_matrix(state_labels[i]), wires=[i])) for i in range(n_qubits)]\n",
    "    return qml.expval(qml.Hermitian(density_matrix(state_labels[0]), wires=[0]))"
   ]
  },
  {
   "cell_type": "code",
   "execution_count": 42,
   "metadata": {},
   "outputs": [
    {
     "data": {
      "text/plain": [
       "tensor(1., requires_grad=True)"
      ]
     },
     "execution_count": 42,
     "metadata": {},
     "output_type": "execute_result"
    }
   ],
   "source": [
    "q_fc_state(np.zeros((2,1,9)), maxpool_train[0])"
   ]
  },
  {
   "cell_type": "code",
   "execution_count": 43,
   "metadata": {},
   "outputs": [
    {
     "data": {
      "text/plain": [
       "tensor(0.9934085, requires_grad=True)"
      ]
     },
     "execution_count": 43,
     "metadata": {},
     "output_type": "execute_result"
    }
   ],
   "source": [
    "q_fc_state(random_weights, maxpool_train[21])"
   ]
  },
  {
   "cell_type": "code",
   "execution_count": 45,
   "metadata": {},
   "outputs": [],
   "source": [
    "train_state = np.zeros((len(X_train), 2), dtype=np.complex_)\n",
    "test_state = np.zeros((len(X_test), 2), dtype=np.complex_)\n",
    "\n",
    "for i in range(len(train_state)):\n",
    "    \n",
    "    q_fc_state(random_weights, maxpool_train[i])\n",
    "    temp = np.flip(dev_state._state)\n",
    "    train_state[i, :] = temp\n",
    "    \n",
    "for i in range(len(test_state)):\n",
    "        \n",
    "    q_fc_state(random_weights, maxpool_test[i])\n",
    "    temp = np.flip(dev_state._state)\n",
    "    test_state[i, :] = temp"
   ]
  },
  {
   "cell_type": "code",
   "execution_count": 47,
   "metadata": {},
   "outputs": [
    {
     "data": {
      "text/plain": [
       "((400, 2), (1000, 2))"
      ]
     },
     "execution_count": 47,
     "metadata": {},
     "output_type": "execute_result"
    }
   ],
   "source": [
    "train_state.shape, test_state.shape"
   ]
  },
  {
   "cell_type": "code",
   "execution_count": 56,
   "metadata": {},
   "outputs": [
    {
     "name": "stdout",
     "output_type": "stream",
     "text": [
      "[ True  True  True  True  True  True  True  True  True  True  True  True\n",
      "  True  True  True  True  True  True  True  True  True  True  True  True\n",
      "  True  True  True  True  True  True  True  True  True  True  True  True\n",
      "  True  True  True  True  True  True  True  True  True  True  True  True\n",
      "  True  True  True  True  True  True  True  True  True  True  True  True\n",
      "  True  True  True  True  True  True  True  True  True  True  True  True\n",
      "  True  True  True  True  True  True  True  True  True  True  True  True\n",
      "  True  True  True  True  True  True  True  True  True  True  True  True\n",
      "  True  True  True  True  True  True  True  True  True  True  True  True\n",
      "  True  True  True  True  True  True  True  True  True  True  True  True\n",
      "  True  True  True  True  True  True  True  True  True  True  True  True\n",
      "  True  True  True  True  True  True  True  True  True  True  True  True\n",
      "  True  True  True  True  True  True  True  True  True  True  True  True\n",
      "  True  True  True  True  True  True  True  True  True  True  True  True\n",
      "  True  True  True  True  True  True  True  True  True  True  True  True\n",
      "  True  True  True  True  True  True  True  True  True  True  True  True\n",
      "  True  True  True  True  True  True  True  True  True  True  True  True\n",
      "  True  True  True  True  True  True  True  True  True  True  True  True\n",
      "  True  True  True  True  True  True  True  True  True  True  True  True\n",
      "  True  True  True  True  True  True  True  True  True  True  True  True\n",
      "  True  True  True  True  True  True  True  True  True  True  True  True\n",
      "  True  True  True  True  True  True  True  True  True  True  True  True\n",
      "  True  True  True  True  True  True  True  True  True  True  True  True\n",
      "  True  True  True  True  True  True  True  True  True  True  True  True\n",
      "  True  True  True  True  True  True  True  True  True  True  True  True\n",
      "  True  True  True  True  True  True  True  True  True  True  True  True\n",
      "  True  True  True  True  True  True  True  True  True  True  True  True\n",
      "  True  True  True  True  True  True  True  True  True  True  True  True\n",
      "  True  True  True  True  True  True  True  True  True  True  True  True\n",
      "  True  True  True  True  True  True  True  True  True  True  True  True\n",
      "  True  True  True  True  True  True  True  True  True  True  True  True\n",
      "  True  True  True  True  True  True  True  True  True  True  True  True\n",
      "  True  True  True  True  True  True  True  True  True  True  True  True\n",
      "  True  True  True  True]\n",
      "[ True  True  True  True  True  True  True  True  True  True  True  True\n",
      "  True  True  True  True  True  True  True  True  True  True  True  True\n",
      "  True  True  True  True  True  True  True  True  True  True  True  True\n",
      "  True  True  True  True  True  True  True  True  True  True  True  True\n",
      "  True  True  True  True  True  True  True  True  True  True  True  True\n",
      "  True  True  True  True  True  True  True  True  True  True  True  True\n",
      "  True  True  True  True  True  True  True  True  True  True  True  True\n",
      "  True  True  True  True  True  True  True  True  True  True  True  True\n",
      "  True  True  True  True  True  True  True  True  True  True  True  True\n",
      "  True  True  True  True  True  True  True  True  True  True  True  True\n",
      "  True  True  True  True  True  True  True  True  True  True  True  True\n",
      "  True  True  True  True  True  True  True  True  True  True  True  True\n",
      "  True  True  True  True  True  True  True  True  True  True  True  True\n",
      "  True  True  True  True  True  True  True  True  True  True  True  True\n",
      "  True  True  True  True  True  True  True  True  True  True  True  True\n",
      "  True  True  True  True  True  True  True  True  True  True  True  True\n",
      "  True  True  True  True  True  True  True  True  True  True  True  True\n",
      "  True  True  True  True  True  True  True  True  True  True  True  True\n",
      "  True  True  True  True  True  True  True  True  True  True  True  True\n",
      "  True  True  True  True  True  True  True  True  True  True  True  True\n",
      "  True  True  True  True  True  True  True  True  True  True  True  True\n",
      "  True  True  True  True  True  True  True  True  True  True  True  True\n",
      "  True  True  True  True  True  True  True  True  True  True  True  True\n",
      "  True  True  True  True  True  True  True  True  True  True  True  True\n",
      "  True  True  True  True  True  True  True  True  True  True  True  True\n",
      "  True  True  True  True  True  True  True  True  True  True  True  True\n",
      "  True  True  True  True  True  True  True  True  True  True  True  True\n",
      "  True  True  True  True  True  True  True  True  True  True  True  True\n",
      "  True  True  True  True  True  True  True  True  True  True  True  True\n",
      "  True  True  True  True  True  True  True  True  True  True  True  True\n",
      "  True  True  True  True  True  True  True  True  True  True  True  True\n",
      "  True  True  True  True  True  True  True  True  True  True  True  True\n",
      "  True  True  True  True  True  True  True  True  True  True  True  True\n",
      "  True  True  True  True  True  True  True  True  True  True  True  True\n",
      "  True  True  True  True  True  True  True  True  True  True  True  True\n",
      "  True  True  True  True  True  True  True  True  True  True  True  True\n",
      "  True  True  True  True  True  True  True  True  True  True  True  True\n",
      "  True  True  True  True  True  True  True  True  True  True  True  True\n",
      "  True  True  True  True  True  True  True  True  True  True  True  True\n",
      "  True  True  True  True  True  True  True  True  True  True  True  True\n",
      "  True  True  True  True  True  True  True  True  True  True  True  True\n",
      "  True  True  True  True  True  True  True  True  True  True  True  True\n",
      "  True  True  True  True  True  True  True  True  True  True  True  True\n",
      "  True  True  True  True  True  True  True  True  True  True  True  True\n",
      "  True  True  True  True  True  True  True  True  True  True  True  True\n",
      "  True  True  True  True  True  True  True  True  True  True  True  True\n",
      "  True  True  True  True  True  True  True  True  True  True  True  True\n",
      "  True  True  True  True  True  True  True  True  True  True  True  True\n",
      "  True  True  True  True  True  True  True  True  True  True  True  True\n",
      "  True  True  True  True  True  True  True  True  True  True  True  True\n",
      "  True  True  True  True  True  True  True  True  True  True  True  True\n",
      "  True  True  True  True  True  True  True  True  True  True  True  True\n",
      "  True  True  True  True  True  True  True  True  True  True  True  True\n",
      "  True  True  True  True  True  True  True  True  True  True  True  True\n",
      "  True  True  True  True  True  True  True  True  True  True  True  True\n",
      "  True  True  True  True  True  True  True  True  True  True  True  True\n",
      "  True  True  True  True  True  True  True  True  True  True  True  True\n",
      "  True  True  True  True  True  True  True  True  True  True  True  True\n",
      "  True  True  True  True  True  True  True  True  True  True  True  True\n",
      "  True  True  True  True  True  True  True  True  True  True  True  True\n",
      "  True  True  True  True  True  True  True  True  True  True  True  True\n",
      "  True  True  True  True  True  True  True  True  True  True  True  True\n",
      "  True  True  True  True  True  True  True  True  True  True  True  True\n",
      "  True  True  True  True  True  True  True  True  True  True  True  True\n",
      "  True  True  True  True  True  True  True  True  True  True  True  True\n",
      "  True  True  True  True  True  True  True  True  True  True  True  True\n",
      "  True  True  True  True  True  True  True  True  True  True  True  True\n",
      "  True  True  True  True  True  True  True  True  True  True  True  True\n",
      "  True  True  True  True  True  True  True  True  True  True  True  True\n",
      "  True  True  True  True  True  True  True  True  True  True  True  True\n",
      "  True  True  True  True  True  True  True  True  True  True  True  True\n",
      "  True  True  True  True  True  True  True  True  True  True  True  True\n",
      "  True  True  True  True  True  True  True  True  True  True  True  True\n",
      "  True  True  True  True  True  True  True  True  True  True  True  True\n",
      "  True  True  True  True  True  True  True  True  True  True  True  True\n",
      "  True  True  True  True  True  True  True  True  True  True  True  True\n",
      "  True  True  True  True  True  True  True  True  True  True  True  True\n",
      "  True  True  True  True  True  True  True  True  True  True  True  True\n",
      "  True  True  True  True  True  True  True  True  True  True  True  True\n",
      "  True  True  True  True  True  True  True  True  True  True  True  True\n",
      "  True  True  True  True  True  True  True  True  True  True  True  True\n",
      "  True  True  True  True  True  True  True  True  True  True  True  True\n",
      "  True  True  True  True  True  True  True  True  True  True  True  True\n",
      "  True  True  True  True]\n"
     ]
    }
   ],
   "source": [
    "# sanity check\n",
    "\n",
    "print(((np.conj(train_state) @ density_matrix(state_labels[0])) * train_state)[:, 0] > 0.5)\n",
    "\n",
    "print(((np.conj(test_state) @ density_matrix(state_labels[0])) * test_state)[:, 0] > 0.5)"
   ]
  },
  {
   "cell_type": "code",
   "execution_count": 58,
   "metadata": {},
   "outputs": [],
   "source": [
    "np.savetxt('./2_QConv2noent_QFC-RandomState_Train_all_samples.txt', train_state)\n",
    "np.savetxt('./2_QConv2noent_QFC-RandomState_Test_all_samples.txt', test_state)"
   ]
  },
  {
   "cell_type": "markdown",
   "metadata": {},
   "source": [
    "# Finish"
   ]
  },
  {
   "cell_type": "code",
   "execution_count": null,
   "metadata": {},
   "outputs": [],
   "source": []
  },
  {
   "cell_type": "code",
   "execution_count": null,
   "metadata": {},
   "outputs": [],
   "source": []
  },
  {
   "cell_type": "code",
   "execution_count": null,
   "metadata": {},
   "outputs": [],
   "source": []
  },
  {
   "cell_type": "code",
   "execution_count": null,
   "metadata": {},
   "outputs": [],
   "source": []
  },
  {
   "cell_type": "code",
   "execution_count": 76,
   "metadata": {},
   "outputs": [
    {
     "data": {
      "text/plain": [
       "{'loss': [0.7249730825424194,\n",
       "  0.485493928194046,\n",
       "  0.2910504639148712,\n",
       "  0.20750370621681213,\n",
       "  0.1200886219739914,\n",
       "  0.09333930909633636,\n",
       "  0.09352166950702667,\n",
       "  0.09991505742073059,\n",
       "  0.0711403489112854,\n",
       "  0.0675935298204422],\n",
       " 'accuracy': [0.5249999761581421,\n",
       "  0.6225000023841858,\n",
       "  0.7825000286102295,\n",
       "  0.8650000095367432,\n",
       "  0.9449999928474426,\n",
       "  0.9599999785423279,\n",
       "  0.9624999761581421,\n",
       "  0.9524999856948853,\n",
       "  0.9750000238418579,\n",
       "  0.9775000214576721],\n",
       " 'val_loss': [0.6175757646560669,\n",
       "  0.40504130721092224,\n",
       "  0.3411727547645569,\n",
       "  0.19497469067573547,\n",
       "  0.11362368613481522,\n",
       "  0.07933302223682404,\n",
       "  0.1450268030166626,\n",
       "  0.0960061326622963,\n",
       "  0.09231595695018768,\n",
       "  0.053687386214733124],\n",
       " 'val_accuracy': [0.5,\n",
       "  0.7300000190734863,\n",
       "  0.7400000095367432,\n",
       "  0.8700000047683716,\n",
       "  0.9449999928474426,\n",
       "  0.9800000190734863,\n",
       "  0.925000011920929,\n",
       "  0.9649999737739563,\n",
       "  0.9549999833106995,\n",
       "  0.9750000238418579]}"
      ]
     },
     "execution_count": 76,
     "metadata": {},
     "output_type": "execute_result"
    }
   ],
   "source": [
    "first_10_epoch = H.history\n",
    "first_10_epoch"
   ]
  },
  {
   "cell_type": "code",
   "execution_count": 77,
   "metadata": {},
   "outputs": [
    {
     "data": {
      "text/plain": [
       "[array([[[ 0.13920915, -0.7933977 ,  0.4931736 , -0.34984022,\n",
       "           0.41861725, -0.1258272 , -0.3323837 ,  1.4861933 ,\n",
       "           0.14679849]],\n",
       " \n",
       "        [[-0.48547882, -0.6672664 , -0.30831295,  0.31500554,\n",
       "           0.21519628, -0.09552038, -0.33133912,  0.8978053 ,\n",
       "          -0.38653338]]], dtype=float32),\n",
       " array([[[-0.04071528, -0.5614164 , -0.5472108 ,  0.32481748,\n",
       "          -0.1586527 ,  0.06802678, -0.04312551, -1.0716503 ,\n",
       "          -0.09168857]],\n",
       " \n",
       "        [[ 0.2695058 , -1.5634912 ,  0.20198631, -0.20597708,\n",
       "           0.06802317,  0.2522897 , -0.01191515,  0.5282674 ,\n",
       "          -0.3303873 ]]], dtype=float32),\n",
       " array([[[-0.1229878 ,  0.03982117, -0.29502654, -1.2658846 ,\n",
       "          -0.3401566 , -0.93464977,  1.1978221 , -0.24731389,\n",
       "          -0.51143396]],\n",
       " \n",
       "        [[-0.05537069, -1.3277841 , -0.7294856 , -0.740143  ,\n",
       "          -0.83612764,  0.6652604 ,  0.0570471 , -0.4578703 ,\n",
       "          -0.36179888]]], dtype=float32),\n",
       " array([[1.084761 , 1.0133266]], dtype=float32)]"
      ]
     },
     "execution_count": 77,
     "metadata": {},
     "output_type": "execute_result"
    }
   ],
   "source": [
    "# initial 10 epoch\n",
    "model.get_weights()"
   ]
  },
  {
   "cell_type": "markdown",
   "metadata": {},
   "source": [
    "# Making animations"
   ]
  },
  {
   "cell_type": "code",
   "execution_count": 36,
   "metadata": {},
   "outputs": [
    {
     "data": {
      "text/plain": [
       "{'loss': [0.3620220422744751,\n",
       "  0.15828512609004974,\n",
       "  0.031568512320518494,\n",
       "  0.015363175421953201,\n",
       "  0.012626182287931442,\n",
       "  0.013658607378602028,\n",
       "  0.010618376545608044,\n",
       "  0.00844588316977024,\n",
       "  0.00741078844293952,\n",
       "  0.00828629732131958],\n",
       " 'accuracy': [0.5350000262260437,\n",
       "  0.8025000095367432,\n",
       "  0.9775000214576721,\n",
       "  0.987500011920929,\n",
       "  0.9900000095367432,\n",
       "  0.987500011920929,\n",
       "  0.9925000071525574,\n",
       "  0.9950000047683716,\n",
       "  0.9950000047683716,\n",
       "  0.9950000047683716],\n",
       " 'val_loss': [0.24467992782592773,\n",
       "  0.05703796073794365,\n",
       "  0.02196177840232849,\n",
       "  0.013408777303993702,\n",
       "  0.009689709171652794,\n",
       "  0.009040659293532372,\n",
       "  0.009525229223072529,\n",
       "  0.005966325290501118,\n",
       "  0.007606671191751957,\n",
       "  0.006261697970330715],\n",
       " 'val_accuracy': [0.5,\n",
       "  0.9580000042915344,\n",
       "  0.9800000190734863,\n",
       "  0.9829999804496765,\n",
       "  0.9950000047683716,\n",
       "  0.9940000176429749,\n",
       "  0.9959999918937683,\n",
       "  0.996999979019165,\n",
       "  0.9940000176429749,\n",
       "  0.9959999918937683]}"
      ]
     },
     "execution_count": 36,
     "metadata": {},
     "output_type": "execute_result"
    }
   ],
   "source": [
    "H.history"
   ]
  },
  {
   "cell_type": "code",
   "execution_count": 28,
   "metadata": {},
   "outputs": [
    {
     "data": {
      "text/plain": [
       "[array([[[ 0.15955305, -0.36515248, -0.20135769, -0.5028946 ,\n",
       "           0.03527224, -0.5343016 , -0.49984446, -0.22550562,\n",
       "          -0.41205758]],\n",
       " \n",
       "        [[-0.08831877, -0.4926982 ,  0.3360647 , -0.18290153,\n",
       "           0.20178366,  0.43514174, -0.14799583, -0.09449527,\n",
       "          -0.3789652 ]]], dtype=float32),\n",
       " array([[[-0.35645655,  0.3122632 , -0.20967597, -0.05964521,\n",
       "          -0.02155304, -0.2847187 , -0.2588721 , -0.12330633,\n",
       "          -0.02357125]],\n",
       " \n",
       "        [[-0.51691824, -0.02189517, -0.40646034, -0.08631384,\n",
       "           0.10867143, -0.1307399 , -0.34200495,  0.2594096 ,\n",
       "          -0.42972147]]], dtype=float32),\n",
       " array([[[ 0.05261153, -0.09614277,  0.43770754,  0.2689674 ,\n",
       "          -0.11526647,  0.3181463 , -0.1778247 , -0.31703696,\n",
       "           0.333638  ]],\n",
       " \n",
       "        [[-0.13681078,  0.5402223 ,  0.45211053,  0.468462  ,\n",
       "           0.02845639, -0.38620314,  0.35767323, -0.52100194,\n",
       "          -0.44384956]]], dtype=float32),\n",
       " array([[-0.11344912, -0.07509711]], dtype=float32)]"
      ]
     },
     "execution_count": 28,
     "metadata": {},
     "output_type": "execute_result"
    }
   ],
   "source": [
    "random_weights = model.get_weights()\n",
    "random_weights"
   ]
  },
  {
   "cell_type": "code",
   "execution_count": 37,
   "metadata": {},
   "outputs": [
    {
     "data": {
      "text/plain": [
       "11"
      ]
     },
     "execution_count": 37,
     "metadata": {},
     "output_type": "execute_result"
    }
   ],
   "source": [
    "weights_list = [random_weights]\n",
    "\n",
    "for i in range(10):\n",
    "    if i == 9:\n",
    "        model.load_weights('./Model_2/2_QConv2noent_QFC_saved-model-' + str(i+1) + '.hdf5')\n",
    "        weights_list += [model.get_weights()]\n",
    "    else:\n",
    "        model.load_weights('./Model_2/2_QConv2noent_QFC_saved-model-0' + str(i+1) + '.hdf5')\n",
    "        weights_list += [model.get_weights()]\n",
    "        \n",
    "    \n",
    "len(weights_list)"
   ]
  },
  {
   "cell_type": "code",
   "execution_count": 38,
   "metadata": {},
   "outputs": [],
   "source": [
    "# Input image, size = 27 x 27\n",
    "X = tf.keras.Input(shape=(27,27), name='Input_Layer')\n",
    "\n",
    "\n",
    "# Specs for Conv\n",
    "c_filter = 3\n",
    "c_strides = 2\n",
    "\n",
    "\n",
    "# First Quantum Conv Layer, trainable params = 18*L, output size = 13 x 13\n",
    "num_conv_layer_1 = 1\n",
    "q_conv_layer_1 = qml.qnn.KerasLayer(q_conv, {\"conv_params\": (2, num_conv_layer_1, 9)}, output_dim=(1), name='Quantum_Conv_Layer_1')\n",
    "size_1 = int(1+(X.shape[1]-c_filter)/c_strides)\n",
    "q_conv_layer_1_list = []\n",
    "# height iteration\n",
    "for i in range(size_1):\n",
    "    # width iteration\n",
    "    for j in range(size_1):\n",
    "        temp = q_conv_layer_1(X[:, 2*i:2*(i+1)+1, 2*j:2*(j+1)+1])\n",
    "        temp = tf.keras.layers.Reshape((1,))(temp)\n",
    "        q_conv_layer_1_list += [temp]\n",
    "concat_layer_1 = tf.keras.layers.Concatenate(axis=1)(q_conv_layer_1_list)\n",
    "reshape_layer_1 = tf.keras.layers.Reshape((size_1, size_1))(concat_layer_1)\n",
    "\n",
    "qconv1_model = tf.keras.Model(inputs=X, outputs=reshape_layer_1)"
   ]
  },
  {
   "cell_type": "code",
   "execution_count": 39,
   "metadata": {},
   "outputs": [],
   "source": [
    "X_2 = tf.keras.Input(shape=(size_1,size_1), name='Input_Layer_2')\n",
    "\n",
    "# Second Quantum Conv Layer, trainable params = 18*L, output size = 6 x 6\n",
    "num_conv_layer_2 = 1\n",
    "q_conv_layer_2 = qml.qnn.KerasLayer(q_conv, {\"conv_params\": (2, num_conv_layer_2, 9)}, output_dim=(1), name='Quantum_Conv_Layer_2')\n",
    "size_2 = int(1+(reshape_layer_1.shape[1]-c_filter)/c_strides)\n",
    "q_conv_layer_2_list = []\n",
    "# height iteration\n",
    "for i in range(size_2):\n",
    "    # width iteration\n",
    "    for j in range(size_2):\n",
    "        temp = q_conv_layer_2(X_2[:, 2*i:2*(i+1)+1, 2*j:2*(j+1)+1])\n",
    "        temp = tf.keras.layers.Reshape((1,))(temp)\n",
    "        q_conv_layer_2_list += [temp]\n",
    "concat_layer_2 = tf.keras.layers.Concatenate(axis=1)(q_conv_layer_2_list)\n",
    "reshape_layer_2 = tf.keras.layers.Reshape((size_2, size_2, 1))(concat_layer_2)\n",
    "\n",
    "qconv2_model = tf.keras.Model(inputs=X_2, outputs=reshape_layer_2)"
   ]
  },
  {
   "cell_type": "code",
   "execution_count": 40,
   "metadata": {},
   "outputs": [],
   "source": [
    "X_3 = tf.keras.Input(shape=(size_2,size_2,1), name='Input_Layer_3')\n",
    "\n",
    "# Max Pooling Layer, output size = 9\n",
    "max_pool_layer = tf.keras.layers.MaxPooling2D(pool_size=(2, 2), strides=None, name='Max_Pool_Layer')(X_3)\n",
    "reshape_layer_3 = tf.keras.layers.Reshape((9,))(max_pool_layer)\n",
    "\n",
    "\n",
    "maxpool_model = tf.keras.Model(inputs=X_3, outputs=reshape_layer_3)"
   ]
  },
  {
   "cell_type": "code",
   "execution_count": 41,
   "metadata": {},
   "outputs": [],
   "source": [
    "n_qubits = 1  # number of class\n",
    "dev_state = qml.device(\"default.qubit\", wires=n_qubits)\n",
    "\n",
    "\n",
    "@qml.qnode(dev_state)\n",
    "def q_fc_state(params, inputs):\n",
    "    \n",
    "    # layer iteration\n",
    "    for l in range(len(params[0])):\n",
    "        # qubit iteration\n",
    "        for q in range(n_qubits):\n",
    "            # gate iteration\n",
    "            for g in range(int(len(inputs)/3)):\n",
    "                qml.Rot(*(params[0][l][3*g:3*(g+1)] * inputs[3*g:3*(g+1)] + params[1][l][3*g:3*(g+1)]), wires=q)\n",
    "    \n",
    "    #return [qml.expval(qml.Hermitian(density_matrix(state_labels[i]), wires=[i])) for i in range(n_qubits)]\n",
    "    return qml.expval(qml.Hermitian(density_matrix(state_labels[0]), wires=[0]))"
   ]
  },
  {
   "cell_type": "code",
   "execution_count": 42,
   "metadata": {},
   "outputs": [
    {
     "name": "stdout",
     "output_type": "stream",
     "text": [
      "1.0\n",
      "ok\n"
     ]
    }
   ],
   "source": [
    "a = qconv1_model(X_train[0:1])\n",
    "b = qconv2_model(a)\n",
    "c = maxpool_model(b)\n",
    "d = q_fc_state(weights_list[0][2], c)\n",
    "print(d)\n",
    "print('ok')"
   ]
  },
  {
   "cell_type": "code",
   "execution_count": 43,
   "metadata": {},
   "outputs": [
    {
     "data": {
      "text/plain": [
       "((400, 27, 27), (1000, 27, 27))"
      ]
     },
     "execution_count": 43,
     "metadata": {},
     "output_type": "execute_result"
    }
   ],
   "source": [
    "X_train.shape, X_test.shape"
   ]
  },
  {
   "cell_type": "code",
   "execution_count": 44,
   "metadata": {},
   "outputs": [
    {
     "name": "stdout",
     "output_type": "stream",
     "text": [
      "Model 0 got loaded.\n",
      "Filter 1 finished.\n",
      "Filter 2 finished.\n",
      "Quantum State finished.\n",
      "Model 1 got loaded.\n",
      "Filter 1 finished.\n",
      "Filter 2 finished.\n",
      "Quantum State finished.\n",
      "Model 2 got loaded.\n",
      "Filter 1 finished.\n",
      "Filter 2 finished.\n",
      "Quantum State finished.\n",
      "Model 3 got loaded.\n",
      "Filter 1 finished.\n",
      "Filter 2 finished.\n",
      "Quantum State finished.\n",
      "Model 4 got loaded.\n",
      "Filter 1 finished.\n",
      "Filter 2 finished.\n",
      "Quantum State finished.\n",
      "Model 5 got loaded.\n",
      "Filter 1 finished.\n",
      "Filter 2 finished.\n",
      "Quantum State finished.\n",
      "Model 6 got loaded.\n",
      "Filter 1 finished.\n",
      "Filter 2 finished.\n",
      "Quantum State finished.\n",
      "Model 7 got loaded.\n",
      "Filter 1 finished.\n",
      "Filter 2 finished.\n",
      "Quantum State finished.\n",
      "Model 8 got loaded.\n",
      "Filter 1 finished.\n",
      "Filter 2 finished.\n",
      "Quantum State finished.\n",
      "Model 9 got loaded.\n",
      "Filter 1 finished.\n",
      "Filter 2 finished.\n",
      "Quantum State finished.\n",
      "Model 10 got loaded.\n",
      "Filter 1 finished.\n",
      "Filter 2 finished.\n",
      "Quantum State finished.\n"
     ]
    }
   ],
   "source": [
    "for k in range(11):\n",
    "\n",
    "    qconv1_model.get_layer('Quantum_Conv_Layer_1').set_weights([weights_list[k][0]])\n",
    "    qconv2_model.get_layer('Quantum_Conv_Layer_2').set_weights([weights_list[k][1]])\n",
    "    print('Model ' + str(k) + ' got loaded.')\n",
    "\n",
    "\n",
    "    preprocessed_img_train_1 = qconv1_model(X_train)\n",
    "    preprocessed_img_test_1 = qconv1_model(X_test)\n",
    "\n",
    "    data_train = preprocessed_img_train_1.numpy().reshape(-1, 13*13)\n",
    "    np.savetxt('./Model_2/2_QConv2noent_QFC/2_QConv2noent_QFC-Filter1_Image_Train_Epoch=' + str(k) + '.txt', data_train)\n",
    "    data_test = preprocessed_img_test_1.numpy().reshape(-1, 13*13)\n",
    "    np.savetxt('./Model_2/2_QConv2noent_QFC/2_QConv2noent_QFC-Filter1_Image_Test_Epoch=' + str(k) + '.txt', data_test)\n",
    "    print('Filter 1 finished.')\n",
    "\n",
    "\n",
    "    preprocessed_img_train_2 = qconv2_model(preprocessed_img_train_1)\n",
    "    preprocessed_img_test_2 = qconv2_model(preprocessed_img_test_1)\n",
    "\n",
    "    data_train = preprocessed_img_train_2.numpy().reshape(-1, 6*6)\n",
    "    np.savetxt('./Model_2/2_QConv2noent_QFC/2_QConv2noent_QFC-Filter2_Image_Train_Epoch=' + str(k) + '.txt', data_train)\n",
    "    data_test = preprocessed_img_test_2.numpy().reshape(-1, 6*6)\n",
    "    np.savetxt('./Model_2/2_QConv2noent_QFC/2_QConv2noent_QFC-Filter2_Image_Test_Epoch=' + str(k) + '.txt', data_test)\n",
    "    print('Filter 2 finished.')\n",
    "\n",
    "\n",
    "    maxpool_train = maxpool_model(preprocessed_img_train_2)\n",
    "    maxpool_test = maxpool_model(preprocessed_img_test_2)\n",
    "\n",
    "    train_state = np.zeros((len(X_train), 2), dtype=np.complex_)\n",
    "    test_state = np.zeros((len(X_test), 2), dtype=np.complex_)\n",
    "\n",
    "    for i in range(len(train_state)):\n",
    "\n",
    "        q_fc_state(weights_list[k][2], maxpool_train[i])\n",
    "        temp = np.flip(dev_state._state)\n",
    "        train_state[i, :] = temp\n",
    "\n",
    "    for i in range(len(test_state)):\n",
    "        q_fc_state(weights_list[k][2], maxpool_test[i])\n",
    "        temp = np.flip(dev_state._state)\n",
    "        test_state[i, :] = temp\n",
    "\n",
    "    np.savetxt('./Model_2/2_QConv2noent_QFC/2_QConv2noent_QFC-State_Train_Epoch=' + str(k) + '.txt', train_state)\n",
    "    np.savetxt('./Model_2/2_QConv2noent_QFC/2_QConv2noent_QFC-State_Test_Epoch=' + str(k) + '.txt', test_state)\n",
    "    print('Quantum State finished.')"
   ]
  },
  {
   "cell_type": "code",
   "execution_count": null,
   "metadata": {},
   "outputs": [],
   "source": []
  }
 ],
 "metadata": {
  "colab": {
   "collapsed_sections": [],
   "name": "Q Conv + DRC Keras MNIST (best).ipynb",
   "provenance": []
  },
  "kernelspec": {
   "display_name": "Python 3",
   "language": "python",
   "name": "python3"
  },
  "language_info": {
   "codemirror_mode": {
    "name": "ipython",
    "version": 3
   },
   "file_extension": ".py",
   "mimetype": "text/x-python",
   "name": "python",
   "nbconvert_exporter": "python",
   "pygments_lexer": "ipython3",
   "version": "3.8.6"
  }
 },
 "nbformat": 4,
 "nbformat_minor": 1
}
