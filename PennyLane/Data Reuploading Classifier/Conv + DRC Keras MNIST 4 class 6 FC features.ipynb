{
 "cells": [
  {
   "cell_type": "code",
   "execution_count": 1,
   "metadata": {
    "colab": {
     "base_uri": "https://localhost:8080/"
    },
    "executionInfo": {
     "elapsed": 21741,
     "status": "ok",
     "timestamp": 1609942401542,
     "user": {
      "displayName": "Eraraya Ricardo Muten",
      "photoUrl": "https://lh3.googleusercontent.com/a-/AOh14Ggpw7xw-lyk6u6l92QjpI7MlI7qjJuuciCpwrUd=s64",
      "userId": "03770692095188133952"
     },
     "user_tz": -420
    },
    "id": "e4abR9zSaWNk",
    "outputId": "94ee80ef-152f-452f-d852-06919b9942a4"
   },
   "outputs": [
    {
     "name": "stdout",
     "output_type": "stream",
     "text": [
      "/content/drive\n",
      "Mounted at /content/drive\n"
     ]
    }
   ],
   "source": [
    "# Mount Google Drive\n",
    "from google.colab import drive # import drive from google colab\n",
    " \n",
    "ROOT = \"/content/drive\"     # default location for the drive\n",
    "print(ROOT)                 # print content of ROOT (Optional)\n",
    " \n",
    "drive.mount(ROOT)           # we mount the google drive at /content/drive"
   ]
  },
  {
   "cell_type": "code",
   "execution_count": 1,
   "metadata": {
    "executionInfo": {
     "elapsed": 4192,
     "status": "ok",
     "timestamp": 1610025781584,
     "user": {
      "displayName": "Eraraya Ricardo Muten",
      "photoUrl": "https://lh3.googleusercontent.com/a-/AOh14Ggpw7xw-lyk6u6l92QjpI7MlI7qjJuuciCpwrUd=s64",
      "userId": "03770692095188133952"
     },
     "user_tz": -420
    },
    "id": "gk5AKGKcYGOo"
   },
   "outputs": [],
   "source": [
    "!pip install pennylane\n",
    "from IPython.display import clear_output\n",
    "clear_output()"
   ]
  },
  {
   "cell_type": "code",
   "execution_count": null,
   "metadata": {
    "id": "GigSJusGbx1b"
   },
   "outputs": [],
   "source": [
    "import os\n",
    "\n",
    "def restart_runtime():\n",
    "  os.kill(os.getpid(), 9)\n",
    "restart_runtime()"
   ]
  },
  {
   "cell_type": "code",
   "execution_count": 1,
   "metadata": {
    "executionInfo": {
     "elapsed": 857,
     "status": "ok",
     "timestamp": 1610025787385,
     "user": {
      "displayName": "Eraraya Ricardo Muten",
      "photoUrl": "https://lh3.googleusercontent.com/a-/AOh14Ggpw7xw-lyk6u6l92QjpI7MlI7qjJuuciCpwrUd=s64",
      "userId": "03770692095188133952"
     },
     "user_tz": -420
    },
    "id": "HoLmJLkIX810"
   },
   "outputs": [],
   "source": [
    "# %matplotlib inline\n",
    "import matplotlib.pyplot as plt\n",
    "from mpl_toolkits.axes_grid1 import make_axes_locatable\n",
    "\n",
    "import numpy as np\n",
    "\n",
    "import tensorflow as tf\n",
    "from tensorflow.keras.utils import to_categorical"
   ]
  },
  {
   "cell_type": "markdown",
   "metadata": {
    "id": "vZFNOwFXoY8N"
   },
   "source": [
    "# Loading Raw Data"
   ]
  },
  {
   "cell_type": "code",
   "execution_count": 2,
   "metadata": {
    "colab": {
     "base_uri": "https://localhost:8080/"
    },
    "executionInfo": {
     "elapsed": 2726,
     "status": "ok",
     "timestamp": 1610025792089,
     "user": {
      "displayName": "Eraraya Ricardo Muten",
      "photoUrl": "https://lh3.googleusercontent.com/a-/AOh14Ggpw7xw-lyk6u6l92QjpI7MlI7qjJuuciCpwrUd=s64",
      "userId": "03770692095188133952"
     },
     "user_tz": -420
    },
    "id": "IvdFsGCVof9g",
    "outputId": "c1e94fa1-a11f-4bff-c7b7-975b8b1b79fb"
   },
   "outputs": [],
   "source": [
    "(x_train, y_train), (x_test, y_test) = tf.keras.datasets.mnist.load_data()\n",
    "\n",
    "x_train = x_train[:, 0:27, 0:27]\n",
    "x_test = x_test[:, 0:27, 0:27]"
   ]
  },
  {
   "cell_type": "code",
   "execution_count": 3,
   "metadata": {
    "executionInfo": {
     "elapsed": 1251,
     "status": "ok",
     "timestamp": 1610025792677,
     "user": {
      "displayName": "Eraraya Ricardo Muten",
      "photoUrl": "https://lh3.googleusercontent.com/a-/AOh14Ggpw7xw-lyk6u6l92QjpI7MlI7qjJuuciCpwrUd=s64",
      "userId": "03770692095188133952"
     },
     "user_tz": -420
    },
    "id": "c6zvGFvIoxAN"
   },
   "outputs": [],
   "source": [
    "x_train_flatten = x_train.reshape(x_train.shape[0], x_train.shape[1]*x_train.shape[2])/255.0\n",
    "x_test_flatten = x_test.reshape(x_test.shape[0], x_test.shape[1]*x_test.shape[2])/255.0"
   ]
  },
  {
   "cell_type": "code",
   "execution_count": 4,
   "metadata": {
    "colab": {
     "base_uri": "https://localhost:8080/"
    },
    "executionInfo": {
     "elapsed": 948,
     "status": "ok",
     "timestamp": 1610025792678,
     "user": {
      "displayName": "Eraraya Ricardo Muten",
      "photoUrl": "https://lh3.googleusercontent.com/a-/AOh14Ggpw7xw-lyk6u6l92QjpI7MlI7qjJuuciCpwrUd=s64",
      "userId": "03770692095188133952"
     },
     "user_tz": -420
    },
    "id": "Rmj1dzaso00h",
    "outputId": "f59eea77-95bb-4b6a-b0ba-14a7e5760b11"
   },
   "outputs": [
    {
     "name": "stdout",
     "output_type": "stream",
     "text": [
      "(60000, 729) (60000,)\n",
      "(10000, 729) (10000,)\n"
     ]
    }
   ],
   "source": [
    "print(x_train_flatten.shape, y_train.shape)\n",
    "print(x_test_flatten.shape, y_test.shape)"
   ]
  },
  {
   "cell_type": "code",
   "execution_count": 5,
   "metadata": {
    "colab": {
     "base_uri": "https://localhost:8080/"
    },
    "executionInfo": {
     "elapsed": 945,
     "status": "ok",
     "timestamp": 1610025793507,
     "user": {
      "displayName": "Eraraya Ricardo Muten",
      "photoUrl": "https://lh3.googleusercontent.com/a-/AOh14Ggpw7xw-lyk6u6l92QjpI7MlI7qjJuuciCpwrUd=s64",
      "userId": "03770692095188133952"
     },
     "user_tz": -420
    },
    "id": "d10VoIC6o5_I",
    "outputId": "774bafb6-5cbe-42b3-98d0-643e7e943f91"
   },
   "outputs": [
    {
     "name": "stdout",
     "output_type": "stream",
     "text": [
      "(5923, 729)\n",
      "(6742, 729)\n",
      "(5958, 729)\n",
      "(6131, 729)\n",
      "(5842, 729)\n",
      "(5421, 729)\n",
      "(5918, 729)\n",
      "(6265, 729)\n",
      "(5851, 729)\n",
      "(5949, 729)\n"
     ]
    }
   ],
   "source": [
    "x_train_0 = x_train_flatten[y_train == 0]\n",
    "x_train_1 = x_train_flatten[y_train == 1]\n",
    "x_train_2 = x_train_flatten[y_train == 2]\n",
    "x_train_3 = x_train_flatten[y_train == 3]\n",
    "x_train_4 = x_train_flatten[y_train == 4]\n",
    "x_train_5 = x_train_flatten[y_train == 5]\n",
    "x_train_6 = x_train_flatten[y_train == 6]\n",
    "x_train_7 = x_train_flatten[y_train == 7]\n",
    "x_train_8 = x_train_flatten[y_train == 8]\n",
    "x_train_9 = x_train_flatten[y_train == 9]\n",
    "\n",
    "x_train_list = [x_train_0, x_train_1, x_train_2, x_train_3, x_train_4, x_train_5, x_train_6, x_train_7, x_train_8, x_train_9]\n",
    "\n",
    "print(x_train_0.shape)\n",
    "print(x_train_1.shape)\n",
    "print(x_train_2.shape)\n",
    "print(x_train_3.shape)\n",
    "print(x_train_4.shape)\n",
    "print(x_train_5.shape)\n",
    "print(x_train_6.shape)\n",
    "print(x_train_7.shape)\n",
    "print(x_train_8.shape)\n",
    "print(x_train_9.shape)"
   ]
  },
  {
   "cell_type": "code",
   "execution_count": 6,
   "metadata": {
    "colab": {
     "base_uri": "https://localhost:8080/"
    },
    "executionInfo": {
     "elapsed": 901,
     "status": "ok",
     "timestamp": 1610025796926,
     "user": {
      "displayName": "Eraraya Ricardo Muten",
      "photoUrl": "https://lh3.googleusercontent.com/a-/AOh14Ggpw7xw-lyk6u6l92QjpI7MlI7qjJuuciCpwrUd=s64",
      "userId": "03770692095188133952"
     },
     "user_tz": -420
    },
    "id": "snFw4LqepFOl",
    "outputId": "d62bdedd-8ad4-4da9-c7e8-75b8a0a9ba7b"
   },
   "outputs": [
    {
     "name": "stdout",
     "output_type": "stream",
     "text": [
      "(980, 729)\n",
      "(1135, 729)\n",
      "(1032, 729)\n",
      "(1010, 729)\n",
      "(982, 729)\n",
      "(892, 729)\n",
      "(958, 729)\n",
      "(1028, 729)\n",
      "(974, 729)\n",
      "(1009, 729)\n"
     ]
    }
   ],
   "source": [
    "x_test_0 = x_test_flatten[y_test == 0]\n",
    "x_test_1 = x_test_flatten[y_test == 1]\n",
    "x_test_2 = x_test_flatten[y_test == 2]\n",
    "x_test_3 = x_test_flatten[y_test == 3]\n",
    "x_test_4 = x_test_flatten[y_test == 4]\n",
    "x_test_5 = x_test_flatten[y_test == 5]\n",
    "x_test_6 = x_test_flatten[y_test == 6]\n",
    "x_test_7 = x_test_flatten[y_test == 7]\n",
    "x_test_8 = x_test_flatten[y_test == 8]\n",
    "x_test_9 = x_test_flatten[y_test == 9]\n",
    "\n",
    "x_test_list = [x_test_0, x_test_1, x_test_2, x_test_3, x_test_4, x_test_5, x_test_6, x_test_7, x_test_8, x_test_9]\n",
    "\n",
    "print(x_test_0.shape)\n",
    "print(x_test_1.shape)\n",
    "print(x_test_2.shape)\n",
    "print(x_test_3.shape)\n",
    "print(x_test_4.shape)\n",
    "print(x_test_5.shape)\n",
    "print(x_test_6.shape)\n",
    "print(x_test_7.shape)\n",
    "print(x_test_8.shape)\n",
    "print(x_test_9.shape)"
   ]
  },
  {
   "cell_type": "markdown",
   "metadata": {
    "id": "SAxUS6Lhp95g"
   },
   "source": [
    "# Selecting the dataset\n",
    "\n",
    "Output: X_train, Y_train, X_test, Y_test"
   ]
  },
  {
   "cell_type": "code",
   "execution_count": 61,
   "metadata": {
    "colab": {
     "base_uri": "https://localhost:8080/"
    },
    "executionInfo": {
     "elapsed": 810,
     "status": "ok",
     "timestamp": 1609950462215,
     "user": {
      "displayName": "Eraraya Ricardo Muten",
      "photoUrl": "https://lh3.googleusercontent.com/a-/AOh14Ggpw7xw-lyk6u6l92QjpI7MlI7qjJuuciCpwrUd=s64",
      "userId": "03770692095188133952"
     },
     "user_tz": -420
    },
    "id": "f--pX5Oto_XB",
    "outputId": "cc074972-59f4-4d74-cd69-7745260a1dd4"
   },
   "outputs": [
    {
     "data": {
      "text/plain": [
       "((800, 729), (800,))"
      ]
     },
     "execution_count": 61,
     "metadata": {},
     "output_type": "execute_result"
    }
   ],
   "source": [
    "n_train_sample_per_class = 200\n",
    "n_class = 4\n",
    "\n",
    "X_train = x_train_list[0][:n_train_sample_per_class, :]\n",
    "Y_train = np.zeros((X_train.shape[0]*n_class,), dtype=int)\n",
    "\n",
    "for i in range(n_class-1):\n",
    "    X_train = np.concatenate((X_train, x_train_list[i+1][:n_train_sample_per_class, :]), axis=0)\n",
    "    Y_train[(i+1)*n_train_sample_per_class:(i+2)*n_train_sample_per_class] = i+1\n",
    "\n",
    "X_train.shape, Y_train.shape"
   ]
  },
  {
   "cell_type": "code",
   "execution_count": 62,
   "metadata": {
    "colab": {
     "base_uri": "https://localhost:8080/"
    },
    "executionInfo": {
     "elapsed": 1252,
     "status": "ok",
     "timestamp": 1609950468260,
     "user": {
      "displayName": "Eraraya Ricardo Muten",
      "photoUrl": "https://lh3.googleusercontent.com/a-/AOh14Ggpw7xw-lyk6u6l92QjpI7MlI7qjJuuciCpwrUd=s64",
      "userId": "03770692095188133952"
     },
     "user_tz": -420
    },
    "id": "W_SHH9e3rqwG",
    "outputId": "2f38a646-7a1a-4e68-828f-bce0c97bfe70"
   },
   "outputs": [
    {
     "data": {
      "text/plain": [
       "((2000, 729), (2000,))"
      ]
     },
     "execution_count": 62,
     "metadata": {},
     "output_type": "execute_result"
    }
   ],
   "source": [
    "n_test_sample_per_class = int(2.5*n_train_sample_per_class)\n",
    "\n",
    "X_test = x_test_list[0][:n_test_sample_per_class, :]\n",
    "Y_test = np.zeros((X_test.shape[0]*n_class,), dtype=int)\n",
    "\n",
    "for i in range(n_class-1):\n",
    "    X_test = np.concatenate((X_test, x_test_list[i+1][:n_test_sample_per_class, :]), axis=0)\n",
    "    Y_test[(i+1)*n_test_sample_per_class:(i+2)*n_test_sample_per_class] = i+1\n",
    "\n",
    "X_test.shape, Y_test.shape"
   ]
  },
  {
   "cell_type": "markdown",
   "metadata": {},
   "source": [
    "# Dataset Preprocessing"
   ]
  },
  {
   "cell_type": "code",
   "execution_count": 63,
   "metadata": {},
   "outputs": [
    {
     "data": {
      "text/plain": [
       "((800, 27, 27, 1), (2000, 27, 27, 1))"
      ]
     },
     "execution_count": 63,
     "metadata": {},
     "output_type": "execute_result"
    }
   ],
   "source": [
    "X_train = X_train.reshape(X_train.shape[0], 27, 27, 1)\n",
    "X_test = X_test.reshape(X_test.shape[0], 27, 27, 1)\n",
    "\n",
    "X_train.shape, X_test.shape"
   ]
  },
  {
   "cell_type": "code",
   "execution_count": 64,
   "metadata": {},
   "outputs": [],
   "source": [
    "class_label = np.loadtxt('./tetra_class_label.txt')"
   ]
  },
  {
   "cell_type": "code",
   "execution_count": 65,
   "metadata": {},
   "outputs": [],
   "source": [
    "Y_train = to_categorical(Y_train)\n",
    "Y_test = to_categorical(Y_test)\n",
    "\n",
    "# for i in range(n_class):\n",
    "#     Y_train[Y_train[:, i] == 1.] = class_label[i]\n",
    "\n",
    "# for i in range(n_class):\n",
    "#     Y_test[Y_test[:, i] == 1.] = class_label[i]"
   ]
  },
  {
   "cell_type": "markdown",
   "metadata": {},
   "source": [
    "# Quantum"
   ]
  },
  {
   "cell_type": "code",
   "execution_count": 60,
   "metadata": {},
   "outputs": [],
   "source": [
    "# session_conf = tf.compat.v1.ConfigProto(intra_op_parallelism_threads=16, inter_op_parallelism_threads=16)\n",
    "# tf.compat.v1.set_random_seed(1)\n",
    "# sess = tf.compat.v1.Session(graph=tf.compat.v1.get_default_graph(), config=session_conf)\n",
    "# tf.compat.v1.keras.backend.set_session(sess)"
   ]
  },
  {
   "cell_type": "code",
   "execution_count": 104,
   "metadata": {},
   "outputs": [],
   "source": [
    "import pennylane as qml\n",
    "from pennylane import numpy as np\n",
    "from pennylane.optimize import AdamOptimizer, GradientDescentOptimizer\n",
    "\n",
    "qml.enable_tape()\n",
    "\n",
    "# Set a random seed\n",
    "np.random.seed(2020)"
   ]
  },
  {
   "cell_type": "code",
   "execution_count": 105,
   "metadata": {},
   "outputs": [],
   "source": [
    "# Define output labels as quantum state vectors\n",
    "def density_matrix(state):\n",
    "    \"\"\"Calculates the density matrix representation of a state.\n",
    "\n",
    "    Args:\n",
    "        state (array[complex]): array representing a quantum state vector\n",
    "\n",
    "    Returns:\n",
    "        dm: (array[complex]): array representing the density matrix\n",
    "    \"\"\"\n",
    "    return np.outer(state,  np.conj(state))"
   ]
  },
  {
   "cell_type": "code",
   "execution_count": 106,
   "metadata": {},
   "outputs": [],
   "source": [
    "state_labels = np.loadtxt('./tetra_states.txt', dtype=np.complex_)"
   ]
  },
  {
   "cell_type": "code",
   "execution_count": 107,
   "metadata": {},
   "outputs": [],
   "source": [
    "my_bucket = \"amazon-braket-0f5d17943f73\"  # the name of the bucket\n",
    "my_prefix = \"Tugas_Akhir\"  # the name of the folder in the bucket\n",
    "s3_folder = (my_bucket, my_prefix)\n",
    "\n",
    "device_arn = \"arn:aws:braket:::device/quantum-simulator/amazon/sv1\""
   ]
  },
  {
   "cell_type": "code",
   "execution_count": 148,
   "metadata": {},
   "outputs": [],
   "source": [
    "n_qubits = n_class\n",
    "\n",
    "dev = qml.device(\"default.qubit\", wires=n_qubits)\n",
    "\n",
    "#dev = qml.device('cirq.simulator', wires=n_qubits)\n",
    "\n",
    "#interface=\"tf\", grad_method=\"backprop\"\n",
    "\n",
    "@qml.qnode(dev)\n",
    "def qcircuit(params, inputs):\n",
    "    \"\"\"A variational quantum circuit representing the DRC.\n",
    "\n",
    "    Args:\n",
    "        params (array[float]): array of parameters\n",
    "        inputs = [x, y]\n",
    "        x (array[float]): 1-d input vector\n",
    "        y (array[float]): single output state density matrix\n",
    "\n",
    "    Returns:\n",
    "        float: fidelity between output state and input\n",
    "    \"\"\"\n",
    "    \n",
    "    # layer iteration\n",
    "    for l in range(len(params[0])):\n",
    "        # qubit iteration\n",
    "        for q in range(n_qubits):\n",
    "            qml.Rot(*(params[0][l][q][0:3] * inputs[0:3] + params[1][l][q][0:3]), wires=q)\n",
    "            qml.Rot((params[0][l][q][3] * inputs[3] + params[1][l][q][3]), params[1][l][q][4], params[1][l][q][5], wires=q)\n",
    "    \n",
    "    return [qml.expval(qml.Hermitian(density_matrix(state_labels[i]), wires=[i])) for i in range(n_qubits)]\n"
   ]
  },
  {
   "cell_type": "code",
   "execution_count": 149,
   "metadata": {},
   "outputs": [],
   "source": [
    "class class_weights(tf.keras.layers.Layer):\n",
    "    def __init__(self):\n",
    "        super(class_weights, self).__init__()\n",
    "        w_init = tf.random_normal_initializer()\n",
    "        self.w = tf.Variable(\n",
    "            initial_value=w_init(shape=(1, n_class), dtype=\"float32\"),\n",
    "            trainable=True,\n",
    "        )\n",
    "\n",
    "    def call(self, inputs):\n",
    "        return (inputs * self.w)"
   ]
  },
  {
   "cell_type": "code",
   "execution_count": 150,
   "metadata": {},
   "outputs": [],
   "source": [
    "X = tf.keras.Input(shape=(27,27,1))\n",
    "\n",
    "conv_layer_1 = tf.keras.layers.Conv2D(filters=1, kernel_size=[3,3], strides=[2,2], name='Conv_Layer_1', activation='relu')(X)\n",
    "conv_layer_2 = tf.keras.layers.Conv2D(filters=1, kernel_size=[3,3], strides=[2,2], name='Conv_Layer_2', activation='relu')(conv_layer_1)\n",
    "conv_layer_3 = tf.keras.layers.Conv2D(filters=1, kernel_size=[3,3], strides=[3,3], name='Conv_Layer_3', activation='relu')(conv_layer_2)\n",
    "\n",
    "#max__pool_layer = tf.keras.layers.MaxPooling2D(pool_size=(2, 2), strides=None, name='Max_Pool_Layer')(conv_layer_2)\n",
    "\n",
    "reshapor_layer = tf.keras.layers.Reshape((4,), name='Reshapor_Layer')(conv_layer_3)\n",
    "\n",
    "qlayer = qml.qnn.KerasLayer(qcircuit, {\"params\": (2, 3, n_class, 6)}, output_dim=n_class, name='Quantum_Layer')(reshapor_layer)\n",
    "\n",
    "class_weights_layer = class_weights()(qlayer)\n",
    "\n",
    "model = tf.keras.Model(inputs=X, outputs=class_weights_layer, name='Conv DRC')"
   ]
  },
  {
   "cell_type": "code",
   "execution_count": 151,
   "metadata": {},
   "outputs": [
    {
     "data": {
      "text/plain": [
       "<tf.Tensor: shape=(32, 4), dtype=float32, numpy=\n",
       "array([[-0.0148077 ,  0.00988119,  0.02262607, -0.01755076],\n",
       "       [-0.01480539,  0.00988648,  0.02273922, -0.01764635],\n",
       "       [-0.01481431,  0.00986954,  0.02244871, -0.01736053],\n",
       "       [-0.01481488,  0.00986951,  0.02242772, -0.01735112],\n",
       "       [-0.01479755,  0.00989549,  0.0224927 , -0.01760933],\n",
       "       [-0.01481438,  0.00991965,  0.02266538, -0.01752225],\n",
       "       [-0.01480049,  0.00991588,  0.0226034 , -0.01764268],\n",
       "       [-0.01481186,  0.00987259,  0.0224738 , -0.01740023],\n",
       "       [-0.01481495,  0.0098694 ,  0.02242538, -0.0173489 ],\n",
       "       [-0.01482872,  0.01000724,  0.02242918, -0.01742009],\n",
       "       [-0.01480113,  0.0098911 ,  0.02244582, -0.01754803],\n",
       "       [-0.01480561,  0.00997309,  0.02236859, -0.01758163],\n",
       "       [-0.0148152 ,  0.00986899,  0.02241698, -0.01734092],\n",
       "       [-0.01483456,  0.0100165 ,  0.02246826, -0.01738558],\n",
       "       [-0.01480405,  0.00988587,  0.02236454, -0.01746572],\n",
       "       [-0.01481114,  0.00992044,  0.02275438, -0.0176016 ],\n",
       "       [-0.01481973,  0.00995114,  0.02255578, -0.01748895],\n",
       "       [-0.01481151,  0.0099762 ,  0.02233225, -0.0175147 ],\n",
       "       [-0.01482832,  0.0099909 ,  0.02253789, -0.01744648],\n",
       "       [-0.01481326,  0.00987212,  0.02248025, -0.01740101],\n",
       "       [-0.01483958,  0.01013953,  0.02255567, -0.01755312],\n",
       "       [-0.01481675,  0.00989969,  0.0223979 , -0.01736474],\n",
       "       [-0.01478954,  0.00990403,  0.02238446, -0.01763666],\n",
       "       [-0.01480219,  0.00988515,  0.0225238 , -0.01753857],\n",
       "       [-0.01481484,  0.00995865,  0.02281748, -0.01763494],\n",
       "       [-0.01481337,  0.00987194,  0.02247672, -0.01739766],\n",
       "       [-0.01480532,  0.00987965,  0.02260284, -0.0175269 ],\n",
       "       [-0.01480512,  0.00988451,  0.02274864, -0.01763956],\n",
       "       [-0.01482652,  0.01000899,  0.02256994, -0.01750876],\n",
       "       [-0.0148156 ,  0.00986839,  0.02240423, -0.01732883],\n",
       "       [-0.01479661,  0.00989151,  0.02266303, -0.01766491],\n",
       "       [-0.01481576,  0.00992784,  0.02258716, -0.017493  ]],\n",
       "      dtype=float32)>"
      ]
     },
     "execution_count": 151,
     "metadata": {},
     "output_type": "execute_result"
    }
   ],
   "source": [
    "model(X_train[0:32])"
   ]
  },
  {
   "cell_type": "code",
   "execution_count": 152,
   "metadata": {},
   "outputs": [
    {
     "name": "stdout",
     "output_type": "stream",
     "text": [
      "Model: \"Conv DRC\"\n",
      "_________________________________________________________________\n",
      "Layer (type)                 Output Shape              Param #   \n",
      "=================================================================\n",
      "input_15 (InputLayer)        [(None, 27, 27, 1)]       0         \n",
      "_________________________________________________________________\n",
      "Conv_Layer_1 (Conv2D)        (None, 13, 13, 1)         10        \n",
      "_________________________________________________________________\n",
      "Conv_Layer_2 (Conv2D)        (None, 6, 6, 1)           10        \n",
      "_________________________________________________________________\n",
      "Conv_Layer_3 (Conv2D)        (None, 2, 2, 1)           10        \n",
      "_________________________________________________________________\n",
      "Reshapor_Layer (Reshape)     (None, 4)                 0         \n",
      "_________________________________________________________________\n",
      "Quantum_Layer (KerasLayer)   (None, 4)                 144       \n",
      "_________________________________________________________________\n",
      "class_weights_14 (class_weig (None, 4)                 4         \n",
      "=================================================================\n",
      "Total params: 178\n",
      "Trainable params: 178\n",
      "Non-trainable params: 0\n",
      "_________________________________________________________________\n"
     ]
    }
   ],
   "source": [
    "model.summary()"
   ]
  },
  {
   "cell_type": "code",
   "execution_count": 153,
   "metadata": {},
   "outputs": [],
   "source": [
    "import keras.backend as K\n",
    "\n",
    "# def custom_loss(y_true, y_pred):\n",
    "#     return K.sum(((y_true.shape[1]-2)*y_true+1)*K.square(y_true-y_pred))/len(y_true)\n",
    "\n",
    "def custom_loss(y_true, y_pred):\n",
    "    return K.sum(K.square(y_true-y_pred))/len(y_true)"
   ]
  },
  {
   "cell_type": "code",
   "execution_count": 154,
   "metadata": {},
   "outputs": [],
   "source": [
    "opt = tf.keras.optimizers.Adam(learning_rate=0.1)\n",
    "model.compile(opt, loss=custom_loss, metrics=[\"accuracy\"])"
   ]
  },
  {
   "cell_type": "code",
   "execution_count": null,
   "metadata": {},
   "outputs": [
    {
     "name": "stdout",
     "output_type": "stream",
     "text": [
      "Epoch 1/20\n",
      "25/25 [==============================] - 614s 25s/step - loss: 0.7938 - accuracy: 0.3188 - val_loss: 0.5816 - val_accuracy: 0.5550\n",
      "Epoch 2/20\n",
      "25/25 [==============================] - 613s 25s/step - loss: 0.5178 - accuracy: 0.5870 - val_loss: 0.4517 - val_accuracy: 0.6790\n",
      "Epoch 3/20\n",
      "25/25 [==============================] - 611s 25s/step - loss: 0.4372 - accuracy: 0.6636 - val_loss: 0.3597 - val_accuracy: 0.7885\n",
      "Epoch 4/20\n",
      "25/25 [==============================] - 609s 24s/step - loss: 0.3529 - accuracy: 0.7909 - val_loss: 0.3419 - val_accuracy: 0.8040\n",
      "Epoch 5/20\n",
      "25/25 [==============================] - 609s 24s/step - loss: 0.3202 - accuracy: 0.8042 - val_loss: 0.2663 - val_accuracy: 0.8385\n",
      "Epoch 6/20\n",
      "25/25 [==============================] - 609s 24s/step - loss: 0.2918 - accuracy: 0.8307 - val_loss: 0.2391 - val_accuracy: 0.8725\n",
      "Epoch 7/20\n",
      "25/25 [==============================] - 612s 25s/step - loss: 0.2403 - accuracy: 0.8836 - val_loss: 0.2702 - val_accuracy: 0.8800\n",
      "Epoch 8/20\n",
      "25/25 [==============================] - 611s 25s/step - loss: 0.2411 - accuracy: 0.8768 - val_loss: 0.2246 - val_accuracy: 0.8740\n",
      "Epoch 9/20\n",
      "25/25 [==============================] - 609s 24s/step - loss: 0.2174 - accuracy: 0.8624 - val_loss: 0.2646 - val_accuracy: 0.8345\n",
      "Epoch 10/20\n",
      "25/25 [==============================] - 615s 25s/step - loss: 0.2144 - accuracy: 0.8850 - val_loss: 0.2286 - val_accuracy: 0.8715\n",
      "Epoch 11/20\n",
      "25/25 [==============================] - 616s 25s/step - loss: 0.2064 - accuracy: 0.8938 - val_loss: 0.2337 - val_accuracy: 0.8640\n",
      "Epoch 12/20\n",
      "11/25 [============>.................] - ETA: 5:11 - loss: 0.1570 - accuracy: 0.9220"
     ]
    }
   ],
   "source": [
    "model.fit(X_train, Y_train, epochs=20, batch_size=32, validation_data=(X_test, Y_test), verbose=1)"
   ]
  },
  {
   "cell_type": "code",
   "execution_count": 239,
   "metadata": {},
   "outputs": [],
   "source": [
    "predict_test = model.predict(X_test)"
   ]
  },
  {
   "cell_type": "code",
   "execution_count": null,
   "metadata": {},
   "outputs": [],
   "source": []
  }
 ],
 "metadata": {
  "colab": {
   "authorship_tag": "ABX9TyNNN7AuWgekOgocJ/DE5q9Z",
   "collapsed_sections": [],
   "name": "DRC MNIST 2 Class.ipynb",
   "provenance": []
  },
  "kernelspec": {
   "display_name": "Python 3",
   "language": "python",
   "name": "python3"
  },
  "language_info": {
   "codemirror_mode": {
    "name": "ipython",
    "version": 3
   },
   "file_extension": ".py",
   "mimetype": "text/x-python",
   "name": "python",
   "nbconvert_exporter": "python",
   "pygments_lexer": "ipython3",
   "version": "3.8.7"
  }
 },
 "nbformat": 4,
 "nbformat_minor": 1
}
