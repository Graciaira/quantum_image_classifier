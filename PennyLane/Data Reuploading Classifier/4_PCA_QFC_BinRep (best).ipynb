{
 "cells": [
  {
   "cell_type": "code",
   "execution_count": 1,
   "metadata": {
    "colab": {
     "base_uri": "https://localhost:8080/"
    },
    "executionInfo": {
     "elapsed": 21741,
     "status": "ok",
     "timestamp": 1609942401542,
     "user": {
      "displayName": "Eraraya Ricardo Muten",
      "photoUrl": "https://lh3.googleusercontent.com/a-/AOh14Ggpw7xw-lyk6u6l92QjpI7MlI7qjJuuciCpwrUd=s64",
      "userId": "03770692095188133952"
     },
     "user_tz": -420
    },
    "id": "e4abR9zSaWNk",
    "outputId": "94ee80ef-152f-452f-d852-06919b9942a4"
   },
   "outputs": [
    {
     "name": "stdout",
     "output_type": "stream",
     "text": [
      "/content/drive\n",
      "Mounted at /content/drive\n"
     ]
    }
   ],
   "source": [
    "# Mount Google Drive\n",
    "from google.colab import drive # import drive from google colab\n",
    " \n",
    "ROOT = \"/content/drive\"     # default location for the drive\n",
    "print(ROOT)                 # print content of ROOT (Optional)\n",
    " \n",
    "drive.mount(ROOT)           # we mount the google drive at /content/drive"
   ]
  },
  {
   "cell_type": "code",
   "execution_count": 1,
   "metadata": {
    "executionInfo": {
     "elapsed": 4192,
     "status": "ok",
     "timestamp": 1610025781584,
     "user": {
      "displayName": "Eraraya Ricardo Muten",
      "photoUrl": "https://lh3.googleusercontent.com/a-/AOh14Ggpw7xw-lyk6u6l92QjpI7MlI7qjJuuciCpwrUd=s64",
      "userId": "03770692095188133952"
     },
     "user_tz": -420
    },
    "id": "gk5AKGKcYGOo"
   },
   "outputs": [],
   "source": [
    "!pip install pennylane\n",
    "from IPython.display import clear_output\n",
    "clear_output()"
   ]
  },
  {
   "cell_type": "code",
   "execution_count": null,
   "metadata": {
    "id": "GigSJusGbx1b"
   },
   "outputs": [],
   "source": [
    "import os\n",
    "\n",
    "def restart_runtime():\n",
    "  os.kill(os.getpid(), 9)\n",
    "restart_runtime()"
   ]
  },
  {
   "cell_type": "code",
   "execution_count": 1,
   "metadata": {
    "executionInfo": {
     "elapsed": 857,
     "status": "ok",
     "timestamp": 1610025787385,
     "user": {
      "displayName": "Eraraya Ricardo Muten",
      "photoUrl": "https://lh3.googleusercontent.com/a-/AOh14Ggpw7xw-lyk6u6l92QjpI7MlI7qjJuuciCpwrUd=s64",
      "userId": "03770692095188133952"
     },
     "user_tz": -420
    },
    "id": "HoLmJLkIX810"
   },
   "outputs": [],
   "source": [
    "# %matplotlib inline\n",
    "import matplotlib.pyplot as plt\n",
    "from mpl_toolkits.axes_grid1 import make_axes_locatable\n",
    "\n",
    "import numpy as np\n",
    "import tensorflow as tf\n",
    "from tensorflow.keras.utils import to_categorical"
   ]
  },
  {
   "cell_type": "markdown",
   "metadata": {
    "id": "vZFNOwFXoY8N"
   },
   "source": [
    "# Loading Raw Data"
   ]
  },
  {
   "cell_type": "code",
   "execution_count": 2,
   "metadata": {
    "colab": {
     "base_uri": "https://localhost:8080/"
    },
    "executionInfo": {
     "elapsed": 2726,
     "status": "ok",
     "timestamp": 1610025792089,
     "user": {
      "displayName": "Eraraya Ricardo Muten",
      "photoUrl": "https://lh3.googleusercontent.com/a-/AOh14Ggpw7xw-lyk6u6l92QjpI7MlI7qjJuuciCpwrUd=s64",
      "userId": "03770692095188133952"
     },
     "user_tz": -420
    },
    "id": "IvdFsGCVof9g",
    "outputId": "c1e94fa1-a11f-4bff-c7b7-975b8b1b79fb"
   },
   "outputs": [],
   "source": [
    "(x_train, y_train), (x_test, y_test) = tf.keras.datasets.mnist.load_data()"
   ]
  },
  {
   "cell_type": "code",
   "execution_count": 3,
   "metadata": {
    "executionInfo": {
     "elapsed": 1251,
     "status": "ok",
     "timestamp": 1610025792677,
     "user": {
      "displayName": "Eraraya Ricardo Muten",
      "photoUrl": "https://lh3.googleusercontent.com/a-/AOh14Ggpw7xw-lyk6u6l92QjpI7MlI7qjJuuciCpwrUd=s64",
      "userId": "03770692095188133952"
     },
     "user_tz": -420
    },
    "id": "c6zvGFvIoxAN"
   },
   "outputs": [],
   "source": [
    "x_train_flatten = x_train.reshape(x_train.shape[0], x_train.shape[1]*x_train.shape[2])/255.0\n",
    "x_test_flatten = x_test.reshape(x_test.shape[0], x_test.shape[1]*x_test.shape[2])/255.0"
   ]
  },
  {
   "cell_type": "code",
   "execution_count": 4,
   "metadata": {
    "colab": {
     "base_uri": "https://localhost:8080/"
    },
    "executionInfo": {
     "elapsed": 948,
     "status": "ok",
     "timestamp": 1610025792678,
     "user": {
      "displayName": "Eraraya Ricardo Muten",
      "photoUrl": "https://lh3.googleusercontent.com/a-/AOh14Ggpw7xw-lyk6u6l92QjpI7MlI7qjJuuciCpwrUd=s64",
      "userId": "03770692095188133952"
     },
     "user_tz": -420
    },
    "id": "Rmj1dzaso00h",
    "outputId": "f59eea77-95bb-4b6a-b0ba-14a7e5760b11"
   },
   "outputs": [
    {
     "name": "stdout",
     "output_type": "stream",
     "text": [
      "(60000, 784) (60000,)\n",
      "(10000, 784) (10000,)\n"
     ]
    }
   ],
   "source": [
    "print(x_train_flatten.shape, y_train.shape)\n",
    "print(x_test_flatten.shape, y_test.shape)"
   ]
  },
  {
   "cell_type": "code",
   "execution_count": 5,
   "metadata": {
    "colab": {
     "base_uri": "https://localhost:8080/"
    },
    "executionInfo": {
     "elapsed": 945,
     "status": "ok",
     "timestamp": 1610025793507,
     "user": {
      "displayName": "Eraraya Ricardo Muten",
      "photoUrl": "https://lh3.googleusercontent.com/a-/AOh14Ggpw7xw-lyk6u6l92QjpI7MlI7qjJuuciCpwrUd=s64",
      "userId": "03770692095188133952"
     },
     "user_tz": -420
    },
    "id": "d10VoIC6o5_I",
    "outputId": "774bafb6-5cbe-42b3-98d0-643e7e943f91"
   },
   "outputs": [
    {
     "name": "stdout",
     "output_type": "stream",
     "text": [
      "(5923, 784)\n",
      "(6742, 784)\n",
      "(5958, 784)\n",
      "(6131, 784)\n",
      "(5842, 784)\n",
      "(5421, 784)\n",
      "(5918, 784)\n",
      "(6265, 784)\n",
      "(5851, 784)\n",
      "(5949, 784)\n"
     ]
    }
   ],
   "source": [
    "x_train_0 = x_train_flatten[y_train == 0]\n",
    "x_train_1 = x_train_flatten[y_train == 1]\n",
    "x_train_2 = x_train_flatten[y_train == 2]\n",
    "x_train_3 = x_train_flatten[y_train == 3]\n",
    "x_train_4 = x_train_flatten[y_train == 4]\n",
    "x_train_5 = x_train_flatten[y_train == 5]\n",
    "x_train_6 = x_train_flatten[y_train == 6]\n",
    "x_train_7 = x_train_flatten[y_train == 7]\n",
    "x_train_8 = x_train_flatten[y_train == 8]\n",
    "x_train_9 = x_train_flatten[y_train == 9]\n",
    "\n",
    "x_train_list = [x_train_0, x_train_1, x_train_2, x_train_3, x_train_4, x_train_5, x_train_6, x_train_7, x_train_8, x_train_9]\n",
    "\n",
    "print(x_train_0.shape)\n",
    "print(x_train_1.shape)\n",
    "print(x_train_2.shape)\n",
    "print(x_train_3.shape)\n",
    "print(x_train_4.shape)\n",
    "print(x_train_5.shape)\n",
    "print(x_train_6.shape)\n",
    "print(x_train_7.shape)\n",
    "print(x_train_8.shape)\n",
    "print(x_train_9.shape)"
   ]
  },
  {
   "cell_type": "code",
   "execution_count": 6,
   "metadata": {
    "colab": {
     "base_uri": "https://localhost:8080/"
    },
    "executionInfo": {
     "elapsed": 901,
     "status": "ok",
     "timestamp": 1610025796926,
     "user": {
      "displayName": "Eraraya Ricardo Muten",
      "photoUrl": "https://lh3.googleusercontent.com/a-/AOh14Ggpw7xw-lyk6u6l92QjpI7MlI7qjJuuciCpwrUd=s64",
      "userId": "03770692095188133952"
     },
     "user_tz": -420
    },
    "id": "snFw4LqepFOl",
    "outputId": "d62bdedd-8ad4-4da9-c7e8-75b8a0a9ba7b"
   },
   "outputs": [
    {
     "name": "stdout",
     "output_type": "stream",
     "text": [
      "(980, 784)\n",
      "(1135, 784)\n",
      "(1032, 784)\n",
      "(1010, 784)\n",
      "(982, 784)\n",
      "(892, 784)\n",
      "(958, 784)\n",
      "(1028, 784)\n",
      "(974, 784)\n",
      "(1009, 784)\n"
     ]
    }
   ],
   "source": [
    "x_test_0 = x_test_flatten[y_test == 0]\n",
    "x_test_1 = x_test_flatten[y_test == 1]\n",
    "x_test_2 = x_test_flatten[y_test == 2]\n",
    "x_test_3 = x_test_flatten[y_test == 3]\n",
    "x_test_4 = x_test_flatten[y_test == 4]\n",
    "x_test_5 = x_test_flatten[y_test == 5]\n",
    "x_test_6 = x_test_flatten[y_test == 6]\n",
    "x_test_7 = x_test_flatten[y_test == 7]\n",
    "x_test_8 = x_test_flatten[y_test == 8]\n",
    "x_test_9 = x_test_flatten[y_test == 9]\n",
    "\n",
    "x_test_list = [x_test_0, x_test_1, x_test_2, x_test_3, x_test_4, x_test_5, x_test_6, x_test_7, x_test_8, x_test_9]\n",
    "\n",
    "print(x_test_0.shape)\n",
    "print(x_test_1.shape)\n",
    "print(x_test_2.shape)\n",
    "print(x_test_3.shape)\n",
    "print(x_test_4.shape)\n",
    "print(x_test_5.shape)\n",
    "print(x_test_6.shape)\n",
    "print(x_test_7.shape)\n",
    "print(x_test_8.shape)\n",
    "print(x_test_9.shape)"
   ]
  },
  {
   "cell_type": "markdown",
   "metadata": {
    "id": "SAxUS6Lhp95g"
   },
   "source": [
    "# Selecting the dataset\n",
    "\n",
    "Output: X_train, Y_train, X_test, Y_test"
   ]
  },
  {
   "cell_type": "code",
   "execution_count": 7,
   "metadata": {
    "colab": {
     "base_uri": "https://localhost:8080/"
    },
    "executionInfo": {
     "elapsed": 881,
     "status": "ok",
     "timestamp": 1610032449016,
     "user": {
      "displayName": "Eraraya Ricardo Muten",
      "photoUrl": "https://lh3.googleusercontent.com/a-/AOh14Ggpw7xw-lyk6u6l92QjpI7MlI7qjJuuciCpwrUd=s64",
      "userId": "03770692095188133952"
     },
     "user_tz": -420
    },
    "id": "4Nr0gmM9DFd_",
    "outputId": "d4120711-a864-4d5a-aef1-2c9ab9e4078c"
   },
   "outputs": [
    {
     "name": "stdout",
     "output_type": "stream",
     "text": [
      "(800, 784) (800,)\n",
      "(200, 784) (200,)\n"
     ]
    }
   ],
   "source": [
    "num_sample = 200\n",
    "n_class = 4\n",
    "mult_test = 0.25\n",
    "\n",
    "X_train = x_train_list[0][:num_sample, :]\n",
    "X_test = x_test_list[0][:int(mult_test*num_sample), :]\n",
    "\n",
    "Y_train = np.zeros((n_class*X_train.shape[0],), dtype=int)\n",
    "Y_test = np.zeros((n_class*X_test.shape[0],), dtype=int)\n",
    "\n",
    "for i in range(n_class-1):\n",
    "  X_train = np.concatenate((X_train, x_train_list[i+1][:num_sample, :]), axis=0)\n",
    "  Y_train[num_sample*(i+1):num_sample*(i+2)] = int(i+1)\n",
    "\n",
    "  X_test = np.concatenate((X_test, x_test_list[i+1][:int(mult_test*num_sample), :]), axis=0)\n",
    "  Y_test[int(mult_test*num_sample*(i+1)):int(mult_test*num_sample*(i+2))] = int(i+1)\n",
    "\n",
    "print(X_train.shape, Y_train.shape)\n",
    "print(X_test.shape, Y_test.shape)"
   ]
  },
  {
   "cell_type": "markdown",
   "metadata": {
    "id": "F_4AcCtNsC8o"
   },
   "source": [
    "# Dataset Preprocessing (Standardization + PCA)"
   ]
  },
  {
   "cell_type": "markdown",
   "metadata": {
    "id": "QP-6XdVPsfxC"
   },
   "source": [
    "## Standardization"
   ]
  },
  {
   "cell_type": "code",
   "execution_count": 8,
   "metadata": {
    "executionInfo": {
     "elapsed": 997,
     "status": "ok",
     "timestamp": 1610032452310,
     "user": {
      "displayName": "Eraraya Ricardo Muten",
      "photoUrl": "https://lh3.googleusercontent.com/a-/AOh14Ggpw7xw-lyk6u6l92QjpI7MlI7qjJuuciCpwrUd=s64",
      "userId": "03770692095188133952"
     },
     "user_tz": -420
    },
    "id": "EDtzCvTur6BR"
   },
   "outputs": [],
   "source": [
    "def normalize(X, use_params=False, params=None):\n",
    "    \"\"\"Normalize the given dataset X\n",
    "    Args:\n",
    "        X: ndarray, dataset\n",
    "    \n",
    "    Returns:\n",
    "        (Xbar, mean, std): tuple of ndarray, Xbar is the normalized dataset\n",
    "        with mean 0 and standard deviation 1; mean and std are the \n",
    "        mean and standard deviation respectively.\n",
    "    \n",
    "    Note:\n",
    "        You will encounter dimensions where the standard deviation is\n",
    "        zero, for those when you do normalization the normalized data\n",
    "        will be NaN. Handle this by setting using `std = 1` for those \n",
    "        dimensions when doing normalization.\n",
    "    \"\"\"\n",
    "    if use_params:\n",
    "        mu = params[0]\n",
    "        std_filled = [1]\n",
    "    else:\n",
    "        mu = np.mean(X, axis=0)\n",
    "        std = np.std(X, axis=0)\n",
    "        #std_filled = std.copy()\n",
    "    #std_filled[std==0] = 1.\n",
    "    Xbar = (X - mu)/(std + 1e-8)\n",
    "    return Xbar, mu, std\n"
   ]
  },
  {
   "cell_type": "code",
   "execution_count": 9,
   "metadata": {
    "colab": {
     "base_uri": "https://localhost:8080/"
    },
    "executionInfo": {
     "elapsed": 1011,
     "status": "ok",
     "timestamp": 1610032453516,
     "user": {
      "displayName": "Eraraya Ricardo Muten",
      "photoUrl": "https://lh3.googleusercontent.com/a-/AOh14Ggpw7xw-lyk6u6l92QjpI7MlI7qjJuuciCpwrUd=s64",
      "userId": "03770692095188133952"
     },
     "user_tz": -420
    },
    "id": "Ma2r_EXQsHYJ",
    "outputId": "b3d76c69-3ad5-43e6-a310-1e5c02554fd4"
   },
   "outputs": [
    {
     "data": {
      "text/plain": [
       "((800, 784), (800,))"
      ]
     },
     "execution_count": 9,
     "metadata": {},
     "output_type": "execute_result"
    }
   ],
   "source": [
    "X_train, mu_train, std_train = normalize(X_train)\n",
    "X_train.shape, Y_train.shape"
   ]
  },
  {
   "cell_type": "code",
   "execution_count": 10,
   "metadata": {
    "colab": {
     "base_uri": "https://localhost:8080/"
    },
    "executionInfo": {
     "elapsed": 762,
     "status": "ok",
     "timestamp": 1610032453517,
     "user": {
      "displayName": "Eraraya Ricardo Muten",
      "photoUrl": "https://lh3.googleusercontent.com/a-/AOh14Ggpw7xw-lyk6u6l92QjpI7MlI7qjJuuciCpwrUd=s64",
      "userId": "03770692095188133952"
     },
     "user_tz": -420
    },
    "id": "p8DrXKvutdFL",
    "outputId": "2c6e20b3-c4a7-46e1-c92b-2e4d3fbecc91"
   },
   "outputs": [
    {
     "data": {
      "text/plain": [
       "((200, 784), (200,))"
      ]
     },
     "execution_count": 10,
     "metadata": {},
     "output_type": "execute_result"
    }
   ],
   "source": [
    "X_test = (X_test - mu_train)/(std_train + 1e-8)\n",
    "X_test.shape, Y_test.shape"
   ]
  },
  {
   "cell_type": "markdown",
   "metadata": {
    "id": "BwikC3mysh4L"
   },
   "source": [
    "## PCA"
   ]
  },
  {
   "cell_type": "code",
   "execution_count": 11,
   "metadata": {
    "executionInfo": {
     "elapsed": 781,
     "status": "ok",
     "timestamp": 1610032456319,
     "user": {
      "displayName": "Eraraya Ricardo Muten",
      "photoUrl": "https://lh3.googleusercontent.com/a-/AOh14Ggpw7xw-lyk6u6l92QjpI7MlI7qjJuuciCpwrUd=s64",
      "userId": "03770692095188133952"
     },
     "user_tz": -420
    },
    "id": "0AHFK0_lsdzh"
   },
   "outputs": [],
   "source": [
    "from sklearn.decomposition import PCA\n",
    "from matplotlib import pyplot as plt"
   ]
  },
  {
   "cell_type": "code",
   "execution_count": 12,
   "metadata": {
    "executionInfo": {
     "elapsed": 955,
     "status": "ok",
     "timestamp": 1610032457668,
     "user": {
      "displayName": "Eraraya Ricardo Muten",
      "photoUrl": "https://lh3.googleusercontent.com/a-/AOh14Ggpw7xw-lyk6u6l92QjpI7MlI7qjJuuciCpwrUd=s64",
      "userId": "03770692095188133952"
     },
     "user_tz": -420
    },
    "id": "CzdxRenYstM_"
   },
   "outputs": [],
   "source": [
    "num_component = 18\n",
    "pca = PCA(n_components=num_component, svd_solver='full')"
   ]
  },
  {
   "cell_type": "code",
   "execution_count": 13,
   "metadata": {
    "colab": {
     "base_uri": "https://localhost:8080/"
    },
    "executionInfo": {
     "elapsed": 1032,
     "status": "ok",
     "timestamp": 1610032458038,
     "user": {
      "displayName": "Eraraya Ricardo Muten",
      "photoUrl": "https://lh3.googleusercontent.com/a-/AOh14Ggpw7xw-lyk6u6l92QjpI7MlI7qjJuuciCpwrUd=s64",
      "userId": "03770692095188133952"
     },
     "user_tz": -420
    },
    "id": "qUHn6-Zvsz2X",
    "outputId": "7683cee8-5d52-490f-ad67-b0fda8c3dec3"
   },
   "outputs": [
    {
     "data": {
      "text/plain": [
       "PCA(n_components=18, svd_solver='full')"
      ]
     },
     "execution_count": 13,
     "metadata": {},
     "output_type": "execute_result"
    }
   ],
   "source": [
    "pca.fit(X_train)"
   ]
  },
  {
   "cell_type": "code",
   "execution_count": 14,
   "metadata": {
    "colab": {
     "base_uri": "https://localhost:8080/"
    },
    "executionInfo": {
     "elapsed": 705,
     "status": "ok",
     "timestamp": 1610032458857,
     "user": {
      "displayName": "Eraraya Ricardo Muten",
      "photoUrl": "https://lh3.googleusercontent.com/a-/AOh14Ggpw7xw-lyk6u6l92QjpI7MlI7qjJuuciCpwrUd=s64",
      "userId": "03770692095188133952"
     },
     "user_tz": -420
    },
    "id": "dyj975-ttIbe",
    "outputId": "99bd5a6a-53f0-4a1b-934d-0e397aff3d99"
   },
   "outputs": [
    {
     "data": {
      "text/plain": [
       "array([0.11187049, 0.17426217, 0.22255275, 0.26823812, 0.29848662,\n",
       "       0.32845008, 0.35463849, 0.37642907, 0.39726625, 0.41665801,\n",
       "       0.43362531, 0.45000593, 0.46514029, 0.47967233, 0.49309012,\n",
       "       0.50584068, 0.51819716, 0.53015231])"
      ]
     },
     "execution_count": 14,
     "metadata": {},
     "output_type": "execute_result"
    }
   ],
   "source": [
    "np.cumsum(pca.explained_variance_ratio_)"
   ]
  },
  {
   "cell_type": "code",
   "execution_count": 15,
   "metadata": {
    "executionInfo": {
     "elapsed": 836,
     "status": "ok",
     "timestamp": 1610032460743,
     "user": {
      "displayName": "Eraraya Ricardo Muten",
      "photoUrl": "https://lh3.googleusercontent.com/a-/AOh14Ggpw7xw-lyk6u6l92QjpI7MlI7qjJuuciCpwrUd=s64",
      "userId": "03770692095188133952"
     },
     "user_tz": -420
    },
    "id": "g2Cv6r9utNKg"
   },
   "outputs": [],
   "source": [
    "X_train = pca.transform(X_train)\n",
    "X_test = pca.transform(X_test)"
   ]
  },
  {
   "cell_type": "code",
   "execution_count": 16,
   "metadata": {
    "colab": {
     "base_uri": "https://localhost:8080/"
    },
    "executionInfo": {
     "elapsed": 1345,
     "status": "ok",
     "timestamp": 1610032461574,
     "user": {
      "displayName": "Eraraya Ricardo Muten",
      "photoUrl": "https://lh3.googleusercontent.com/a-/AOh14Ggpw7xw-lyk6u6l92QjpI7MlI7qjJuuciCpwrUd=s64",
      "userId": "03770692095188133952"
     },
     "user_tz": -420
    },
    "id": "ahC8V_QzuDzV",
    "outputId": "f386544f-fbaa-461e-f8de-161b1618e189"
   },
   "outputs": [
    {
     "name": "stdout",
     "output_type": "stream",
     "text": [
      "(800, 18) (800,)\n",
      "(200, 18) (200,)\n"
     ]
    }
   ],
   "source": [
    "print(X_train.shape, Y_train.shape)\n",
    "print(X_test.shape, Y_test.shape)"
   ]
  },
  {
   "cell_type": "markdown",
   "metadata": {
    "id": "CoGE5F_Gc7Bp"
   },
   "source": [
    "## Norm"
   ]
  },
  {
   "cell_type": "code",
   "execution_count": 17,
   "metadata": {
    "executionInfo": {
     "elapsed": 1222,
     "status": "ok",
     "timestamp": 1610032463633,
     "user": {
      "displayName": "Eraraya Ricardo Muten",
      "photoUrl": "https://lh3.googleusercontent.com/a-/AOh14Ggpw7xw-lyk6u6l92QjpI7MlI7qjJuuciCpwrUd=s64",
      "userId": "03770692095188133952"
     },
     "user_tz": -420
    },
    "id": "00-l6454QeXB"
   },
   "outputs": [],
   "source": [
    "X_train = (X_train.T / np.sqrt(np.sum(X_train ** 2, -1))).T\n",
    "X_test = (X_test.T / np.sqrt(np.sum(X_test ** 2, -1))).T"
   ]
  },
  {
   "cell_type": "code",
   "execution_count": 18,
   "metadata": {
    "colab": {
     "base_uri": "https://localhost:8080/",
     "height": 284
    },
    "executionInfo": {
     "elapsed": 1028,
     "status": "ok",
     "timestamp": 1610032463633,
     "user": {
      "displayName": "Eraraya Ricardo Muten",
      "photoUrl": "https://lh3.googleusercontent.com/a-/AOh14Ggpw7xw-lyk6u6l92QjpI7MlI7qjJuuciCpwrUd=s64",
      "userId": "03770692095188133952"
     },
     "user_tz": -420
    },
    "id": "voxkEj1BuJB6",
    "outputId": "c856385b-f64d-41c1-a0aa-402d1910420c"
   },
   "outputs": [
    {
     "data": {
      "text/plain": [
       "<matplotlib.collections.PathCollection at 0x7f4e17cb0670>"
      ]
     },
     "execution_count": 18,
     "metadata": {},
     "output_type": "execute_result"
    },
    {
     "data": {
      "image/png": "[encoded data removed]",
      "text/plain": [
       "<Figure size 432x288 with 1 Axes>"
      ]
     },
     "metadata": {
      "needs_background": "light"
     },
     "output_type": "display_data"
    }
   ],
   "source": [
    "plt.scatter(X_train[:100, 0], X_train[:100, 1])\n",
    "plt.scatter(X_train[100:200, 0], X_train[100:200, 1])\n",
    "plt.scatter(X_train[200:300, 0], X_train[200:300, 1])"
   ]
  },
  {
   "cell_type": "markdown",
   "metadata": {},
   "source": [
    "## Binary Rep"
   ]
  },
  {
   "cell_type": "code",
   "execution_count": 19,
   "metadata": {},
   "outputs": [],
   "source": [
    "def dec2bin(y_class, n_qubit):\n",
    "    temp = bin(y_class).replace('b', '')[1:]\n",
    "    out = np.zeros((n_qubit,))\n",
    "    \n",
    "    if len(temp) > n_qubit:\n",
    "        print(\"Number of qubit can't be lowered than the binary representation of the class decimal number.\")\n",
    "        return None\n",
    "    elif len(temp) < n_qubit:\n",
    "        for i in range(n_qubit-len(temp)):\n",
    "            temp = '0' + temp\n",
    "    \n",
    "    for i in range(len(out)):\n",
    "        out[i] = temp[i]\n",
    "        \n",
    "    return out"
   ]
  },
  {
   "cell_type": "code",
   "execution_count": 20,
   "metadata": {},
   "outputs": [],
   "source": [
    "Y_train_0 = np.zeros(Y_train.shape)\n",
    "Y_train_1 = np.zeros(Y_train.shape)\n",
    "\n",
    "for i in range(len(Y_train)):\n",
    "        Y_train_0[i] = dec2bin(Y_train[i], 2)[0]\n",
    "        Y_train_1[i] = dec2bin(Y_train[i], 2)[1]\n",
    "        \n",
    "        \n",
    "    \n",
    "Y_test_0 = np.zeros(Y_test.shape)\n",
    "Y_test_1 = np.zeros(Y_test.shape)\n",
    "\n",
    "for i in range(len(Y_test)):\n",
    "        Y_test_0[i] = dec2bin(Y_test[i], 2)[0]\n",
    "        Y_test_1[i] = dec2bin(Y_test[i], 2)[1]"
   ]
  },
  {
   "cell_type": "code",
   "execution_count": 21,
   "metadata": {},
   "outputs": [
    {
     "data": {
      "text/plain": [
       "((800,), (200,))"
      ]
     },
     "execution_count": 21,
     "metadata": {},
     "output_type": "execute_result"
    }
   ],
   "source": [
    "Y_train.shape, Y_test.shape"
   ]
  },
  {
   "cell_type": "code",
   "execution_count": 22,
   "metadata": {},
   "outputs": [
    {
     "data": {
      "text/plain": [
       "array([0., 0., 0., 0., 0., 0., 0., 0., 0., 0., 0., 0., 0., 0., 0., 0., 0.,\n",
       "       0., 0., 0., 0., 0., 0., 0., 0., 0., 0., 0., 0., 0., 0., 0., 0., 0.,\n",
       "       0., 0., 0., 0., 0., 0., 0., 0., 0., 0., 0., 0., 0., 0., 0., 0., 0.,\n",
       "       0., 0., 0., 0., 0., 0., 0., 0., 0., 0., 0., 0., 0., 0., 0., 0., 0.,\n",
       "       0., 0., 0., 0., 0., 0., 0., 0., 0., 0., 0., 0., 0., 0., 0., 0., 0.,\n",
       "       0., 0., 0., 0., 0., 0., 0., 0., 0., 0., 0., 0., 0., 0., 0., 0., 0.,\n",
       "       0., 0., 0., 0., 0., 0., 0., 0., 0., 0., 0., 0., 0., 0., 0., 0., 0.,\n",
       "       0., 0., 0., 0., 0., 0., 0., 0., 0., 0., 0., 0., 0., 0., 0., 0., 0.,\n",
       "       0., 0., 0., 0., 0., 0., 0., 0., 0., 0., 0., 0., 0., 0., 0., 0., 0.,\n",
       "       0., 0., 0., 0., 0., 0., 0., 0., 0., 0., 0., 0., 0., 0., 0., 0., 0.,\n",
       "       0., 0., 0., 0., 0., 0., 0., 0., 0., 0., 0., 0., 0., 0., 0., 0., 0.,\n",
       "       0., 0., 0., 0., 0., 0., 0., 0., 0., 0., 0., 0., 0., 1., 1., 1., 1.,\n",
       "       1., 1., 1., 1., 1., 1., 1., 1., 1., 1., 1., 1., 1., 1., 1., 1., 1.,\n",
       "       1., 1., 1., 1., 1., 1., 1., 1., 1., 1., 1., 1., 1., 1., 1., 1., 1.,\n",
       "       1., 1., 1., 1., 1., 1., 1., 1., 1., 1., 1., 1., 1., 1., 1., 1., 1.,\n",
       "       1., 1., 1., 1., 1., 1., 1., 1., 1., 1., 1., 1., 1., 1., 1., 1., 1.,\n",
       "       1., 1., 1., 1., 1., 1., 1., 1., 1., 1., 1., 1., 1., 1., 1., 1., 1.,\n",
       "       1., 1., 1., 1., 1., 1., 1., 1., 1., 1., 1., 1., 1., 1., 1., 1., 1.,\n",
       "       1., 1., 1., 1., 1., 1., 1., 1., 1., 1., 1., 1., 1., 1., 1., 1., 1.,\n",
       "       1., 1., 1., 1., 1., 1., 1., 1., 1., 1., 1., 1., 1., 1., 1., 1., 1.,\n",
       "       1., 1., 1., 1., 1., 1., 1., 1., 1., 1., 1., 1., 1., 1., 1., 1., 1.,\n",
       "       1., 1., 1., 1., 1., 1., 1., 1., 1., 1., 1., 1., 1., 1., 1., 1., 1.,\n",
       "       1., 1., 1., 1., 1., 1., 1., 1., 1., 1., 1., 1., 1., 1., 1., 1., 1.,\n",
       "       1., 1., 1., 1., 1., 1., 1., 1., 1., 0., 0., 0., 0., 0., 0., 0., 0.,\n",
       "       0., 0., 0., 0., 0., 0., 0., 0., 0., 0., 0., 0., 0., 0., 0., 0., 0.,\n",
       "       0., 0., 0., 0., 0., 0., 0., 0., 0., 0., 0., 0., 0., 0., 0., 0., 0.,\n",
       "       0., 0., 0., 0., 0., 0., 0., 0., 0., 0., 0., 0., 0., 0., 0., 0., 0.,\n",
       "       0., 0., 0., 0., 0., 0., 0., 0., 0., 0., 0., 0., 0., 0., 0., 0., 0.,\n",
       "       0., 0., 0., 0., 0., 0., 0., 0., 0., 0., 0., 0., 0., 0., 0., 0., 0.,\n",
       "       0., 0., 0., 0., 0., 0., 0., 0., 0., 0., 0., 0., 0., 0., 0., 0., 0.,\n",
       "       0., 0., 0., 0., 0., 0., 0., 0., 0., 0., 0., 0., 0., 0., 0., 0., 0.,\n",
       "       0., 0., 0., 0., 0., 0., 0., 0., 0., 0., 0., 0., 0., 0., 0., 0., 0.,\n",
       "       0., 0., 0., 0., 0., 0., 0., 0., 0., 0., 0., 0., 0., 0., 0., 0., 0.,\n",
       "       0., 0., 0., 0., 0., 0., 0., 0., 0., 0., 0., 0., 0., 0., 0., 0., 0.,\n",
       "       0., 0., 0., 0., 0., 0., 0., 0., 0., 0., 0., 0., 0., 0., 0., 0., 0.,\n",
       "       0., 0., 0., 0., 0., 1., 1., 1., 1., 1., 1., 1., 1., 1., 1., 1., 1.,\n",
       "       1., 1., 1., 1., 1., 1., 1., 1., 1., 1., 1., 1., 1., 1., 1., 1., 1.,\n",
       "       1., 1., 1., 1., 1., 1., 1., 1., 1., 1., 1., 1., 1., 1., 1., 1., 1.,\n",
       "       1., 1., 1., 1., 1., 1., 1., 1., 1., 1., 1., 1., 1., 1., 1., 1., 1.,\n",
       "       1., 1., 1., 1., 1., 1., 1., 1., 1., 1., 1., 1., 1., 1., 1., 1., 1.,\n",
       "       1., 1., 1., 1., 1., 1., 1., 1., 1., 1., 1., 1., 1., 1., 1., 1., 1.,\n",
       "       1., 1., 1., 1., 1., 1., 1., 1., 1., 1., 1., 1., 1., 1., 1., 1., 1.,\n",
       "       1., 1., 1., 1., 1., 1., 1., 1., 1., 1., 1., 1., 1., 1., 1., 1., 1.,\n",
       "       1., 1., 1., 1., 1., 1., 1., 1., 1., 1., 1., 1., 1., 1., 1., 1., 1.,\n",
       "       1., 1., 1., 1., 1., 1., 1., 1., 1., 1., 1., 1., 1., 1., 1., 1., 1.,\n",
       "       1., 1., 1., 1., 1., 1., 1., 1., 1., 1., 1., 1., 1., 1., 1., 1., 1.,\n",
       "       1., 1., 1., 1., 1., 1., 1., 1., 1., 1., 1., 1., 1., 1., 1., 1., 1.,\n",
       "       1.])"
      ]
     },
     "execution_count": 22,
     "metadata": {},
     "output_type": "execute_result"
    }
   ],
   "source": [
    "Y_train_1"
   ]
  },
  {
   "cell_type": "markdown",
   "metadata": {
    "id": "ytKzDR1JuKub"
   },
   "source": [
    "# Quantum"
   ]
  },
  {
   "cell_type": "code",
   "execution_count": 23,
   "metadata": {
    "executionInfo": {
     "elapsed": 885,
     "status": "ok",
     "timestamp": 1610032467269,
     "user": {
      "displayName": "Eraraya Ricardo Muten",
      "photoUrl": "https://lh3.googleusercontent.com/a-/AOh14Ggpw7xw-lyk6u6l92QjpI7MlI7qjJuuciCpwrUd=s64",
      "userId": "03770692095188133952"
     },
     "user_tz": -420
    },
    "id": "J8PDpZ5IuM0l"
   },
   "outputs": [],
   "source": [
    "import pennylane as qml\n",
    "from pennylane import numpy as np\n",
    "from pennylane.optimize import AdamOptimizer, GradientDescentOptimizer\n",
    "\n",
    "qml.enable_tape()\n",
    "\n",
    "\n",
    "# Set a random seed\n",
    "np.random.seed(42)"
   ]
  },
  {
   "cell_type": "code",
   "execution_count": 24,
   "metadata": {
    "executionInfo": {
     "elapsed": 958,
     "status": "ok",
     "timestamp": 1610047167417,
     "user": {
      "displayName": "Eraraya Ricardo Muten",
      "photoUrl": "https://lh3.googleusercontent.com/a-/AOh14Ggpw7xw-lyk6u6l92QjpI7MlI7qjJuuciCpwrUd=s64",
      "userId": "03770692095188133952"
     },
     "user_tz": -420
    },
    "id": "UvNlkVfXFyHE"
   },
   "outputs": [],
   "source": [
    "# Define output labels as quantum state vectors\n",
    "\n",
    "# def density_matrix(state):\n",
    "#     \"\"\"Calculates the density matrix representation of a state.\n",
    "\n",
    "#     Args:\n",
    "#         state (array[complex]): array representing a quantum state vector\n",
    "\n",
    "#     Returns:\n",
    "#         dm: (array[complex]): array representing the density matrix\n",
    "#     \"\"\"\n",
    "#     return state * np.conj(state).T\n",
    "\n",
    "\n",
    "label_0 = [[1], [0]]\n",
    "label_1 = [[0], [1]]\n",
    "\n",
    "\n",
    "def density_matrix(state):\n",
    "    \"\"\"Calculates the density matrix representation of a state.\n",
    "\n",
    "    Args:\n",
    "        state (array[complex]): array representing a quantum state vector\n",
    "\n",
    "    Returns:\n",
    "        dm: (array[complex]): array representing the density matrix\n",
    "    \"\"\"\n",
    "    return np.outer(state,  np.conj(state))\n",
    "\n",
    "state_labels = [label_0, label_1]\n",
    "#state_labels = np.loadtxt('./tetra_states.txt', dtype=np.complex_)"
   ]
  },
  {
   "cell_type": "code",
   "execution_count": 25,
   "metadata": {},
   "outputs": [
    {
     "data": {
      "text/plain": [
       "2"
      ]
     },
     "execution_count": 25,
     "metadata": {},
     "output_type": "execute_result"
    }
   ],
   "source": [
    "dm_labels = [density_matrix(state_labels[i]) for i in range(2)]\n",
    "len(dm_labels)"
   ]
  },
  {
   "cell_type": "code",
   "execution_count": 26,
   "metadata": {
    "executionInfo": {
     "elapsed": 1193,
     "status": "ok",
     "timestamp": 1610047167914,
     "user": {
      "displayName": "Eraraya Ricardo Muten",
      "photoUrl": "https://lh3.googleusercontent.com/a-/AOh14Ggpw7xw-lyk6u6l92QjpI7MlI7qjJuuciCpwrUd=s64",
      "userId": "03770692095188133952"
     },
     "user_tz": -420
    },
    "id": "2WqqMVHbF2B8"
   },
   "outputs": [],
   "source": [
    "n_qubits = 2\n",
    "dev_fc = qml.device(\"default.qubit\", wires=n_qubits)\n",
    "\n",
    "\n",
    "@qml.qnode(dev_fc)\n",
    "def q_fc(params, inputs):\n",
    "    \"\"\"A variational quantum circuit representing the DRC.\n",
    "\n",
    "    Args:\n",
    "        params (array[float]): array of parameters\n",
    "        inputs = [x, y]\n",
    "        x (array[float]): 1-d input vector\n",
    "        y (array[float]): single output state density matrix\n",
    "\n",
    "    Returns:\n",
    "        float: fidelity between output state and input\n",
    "    \"\"\"\n",
    "    \n",
    "    # layer iteration\n",
    "    for l in range(len(params[0])):\n",
    "        # qubit iteration\n",
    "        for q in range(n_qubits):\n",
    "            # gate iteration\n",
    "            for g in range(int(len(inputs)/3)):\n",
    "                qml.Rot(*(params[0][l][3*g:3*(g+1)] * inputs[3*g:3*(g+1)] + params[1][l][3*g:3*(g+1)]), wires=q)\n",
    "    \n",
    "    return [qml.expval(qml.Hermitian(dm_labels[i], wires=[i])) for i in range(n_qubits)]\n"
   ]
  },
  {
   "cell_type": "code",
   "execution_count": 27,
   "metadata": {},
   "outputs": [
    {
     "data": {
      "text/plain": [
       "(18,)"
      ]
     },
     "execution_count": 27,
     "metadata": {},
     "output_type": "execute_result"
    }
   ],
   "source": [
    "X_train[0].shape"
   ]
  },
  {
   "cell_type": "code",
   "execution_count": 28,
   "metadata": {},
   "outputs": [
    {
     "data": {
      "text/plain": [
       "tensor([0.89712628, 0.10287372], requires_grad=True)"
      ]
     },
     "execution_count": 28,
     "metadata": {},
     "output_type": "execute_result"
    }
   ],
   "source": [
    "a = np.random.uniform(size=(2, 1, 18))\n",
    "\n",
    "q_fc(a, X_train[0])"
   ]
  },
  {
   "cell_type": "code",
   "execution_count": 29,
   "metadata": {},
   "outputs": [],
   "source": [
    "from keras import backend as K\n",
    "\n",
    "\n",
    "# Alpha Custom Layer\n",
    "class class_weights(tf.keras.layers.Layer):\n",
    "    def __init__(self):\n",
    "        super(class_weights, self).__init__()\n",
    "        w_init = tf.random_normal_initializer()\n",
    "        self.w = tf.Variable(\n",
    "            initial_value=w_init(shape=(1, 2), dtype=\"float32\"),\n",
    "            trainable=True,\n",
    "        )\n",
    "\n",
    "    def call(self, inputs):\n",
    "        return (inputs * self.w)"
   ]
  },
  {
   "cell_type": "code",
   "execution_count": 30,
   "metadata": {
    "id": "epPDK5i9hOGH"
   },
   "outputs": [],
   "source": [
    "n_components = 18\n",
    "\n",
    "X = tf.keras.Input(shape=(n_components,), name='Input_Layer')\n",
    "\n",
    "\n",
    "# Quantum FC Layer\n",
    "num_fc_layer = 4\n",
    "q_fc_layer_0 = qml.qnn.KerasLayer(q_fc, {\"params\": (2, num_fc_layer, n_components)}, output_dim=2)(X)\n",
    "q_fc_layer_1 = qml.qnn.KerasLayer(q_fc, {\"params\": (2, num_fc_layer, n_components)}, output_dim=2)(X)\n",
    "\n",
    "# Alpha Layer\n",
    "alpha_layer_0 = class_weights()(q_fc_layer_0)\n",
    "alpha_layer_1 = class_weights()(q_fc_layer_1)\n",
    "\n",
    "\n",
    "model_0 = tf.keras.Model(inputs=X, outputs=alpha_layer_0)\n",
    "model_1 = tf.keras.Model(inputs=X, outputs=alpha_layer_1)"
   ]
  },
  {
   "cell_type": "code",
   "execution_count": 31,
   "metadata": {
    "id": "u1ozqS33W66k"
   },
   "outputs": [
    {
     "data": {
      "text/plain": [
       "(<tf.Tensor: shape=(32, 2), dtype=float32, numpy=\n",
       " array([[ 0.00686847, -0.04112648],\n",
       "        [ 0.00456868, -0.04471522],\n",
       "        [ 0.00827997, -0.03892388],\n",
       "        [ 0.00620144, -0.04216736],\n",
       "        [ 0.01021853, -0.03589883],\n",
       "        [ 0.01169186, -0.03359975],\n",
       "        [ 0.00795511, -0.03943082],\n",
       "        [ 0.01226712, -0.03270208],\n",
       "        [ 0.01287202, -0.03175816],\n",
       "        [ 0.00733438, -0.04039944],\n",
       "        [ 0.01008081, -0.03611374],\n",
       "        [ 0.01465988, -0.02896827],\n",
       "        [ 0.01109142, -0.03453672],\n",
       "        [ 0.01131783, -0.03418341],\n",
       "        [ 0.0110329 , -0.03462803],\n",
       "        [ 0.01176252, -0.03348949],\n",
       "        [ 0.0043194 , -0.04510421],\n",
       "        [ 0.01130457, -0.03420411],\n",
       "        [ 0.01004223, -0.03617395],\n",
       "        [ 0.01076819, -0.03504111],\n",
       "        [ 0.01032568, -0.03573164],\n",
       "        [ 0.01255105, -0.03225903],\n",
       "        [ 0.01309782, -0.03140581],\n",
       "        [ 0.01487032, -0.02863988],\n",
       "        [ 0.01384784, -0.03023542],\n",
       "        [ 0.01318078, -0.03127635],\n",
       "        [ 0.01385541, -0.03022361],\n",
       "        [ 0.01357747, -0.03065734],\n",
       "        [ 0.01142758, -0.03401216],\n",
       "        [ 0.01376418, -0.03036598],\n",
       "        [ 0.01197272, -0.03316148],\n",
       "        [ 0.01271254, -0.03200702]], dtype=float32)>,\n",
       " <tf.Tensor: shape=(32, 2), dtype=float32, numpy=\n",
       " array([[-0.01291391, -0.00272073],\n",
       "        [-0.01337727, -0.00160355],\n",
       "        [-0.01248615, -0.00375209],\n",
       "        [-0.01267392, -0.00329937],\n",
       "        [-0.01303718, -0.00242352],\n",
       "        [-0.01321462, -0.0019957 ],\n",
       "        [-0.01326433, -0.00187586],\n",
       "        [-0.01290389, -0.0027449 ],\n",
       "        [-0.01304559, -0.00240326],\n",
       "        [-0.01332761, -0.00172327],\n",
       "        [-0.01278521, -0.00303103],\n",
       "        [-0.01360038, -0.00106561],\n",
       "        [-0.01296171, -0.0026055 ],\n",
       "        [-0.01307792, -0.00232528],\n",
       "        [-0.01315296, -0.00214438],\n",
       "        [-0.01338373, -0.00158796],\n",
       "        [-0.01301045, -0.00248798],\n",
       "        [-0.01293149, -0.00267834],\n",
       "        [-0.01246364, -0.00380636],\n",
       "        [-0.01318934, -0.00205666],\n",
       "        [-0.01320516, -0.00201851],\n",
       "        [-0.01334377, -0.00168433],\n",
       "        [-0.01366696, -0.00090508],\n",
       "        [-0.0130002 , -0.00251268],\n",
       "        [-0.01279096, -0.00301716],\n",
       "        [-0.01355479, -0.00117553],\n",
       "        [-0.0122745 , -0.00426238],\n",
       "        [-0.0131553 , -0.00213873],\n",
       "        [-0.01283991, -0.00289915],\n",
       "        [-0.01343822, -0.0014566 ],\n",
       "        [-0.0124214 , -0.00390821],\n",
       "        [-0.01352758, -0.00124113]], dtype=float32)>)"
      ]
     },
     "execution_count": 31,
     "metadata": {},
     "output_type": "execute_result"
    }
   ],
   "source": [
    "model_0(X_train[0:32]), model_1(X_train[0:32])"
   ]
  },
  {
   "cell_type": "code",
   "execution_count": 32,
   "metadata": {},
   "outputs": [],
   "source": [
    "lr_schedule = tf.keras.optimizers.schedules.ExponentialDecay(\n",
    "    initial_learning_rate=0.1,\n",
    "    decay_steps=int(len(X_train)/32),\n",
    "    decay_rate=0.95,\n",
    "    staircase=True)"
   ]
  },
  {
   "cell_type": "code",
   "execution_count": 33,
   "metadata": {},
   "outputs": [
    {
     "name": "stdout",
     "output_type": "stream",
     "text": [
      "0.1\n",
      "0.095\n",
      "0.09025\n",
      "0.0857375\n",
      "0.081450625\n",
      "0.07737809374999999\n",
      "0.07350918906249998\n",
      "0.06983372960937498\n",
      "0.06634204312890622\n",
      "0.0630249409724609\n"
     ]
    }
   ],
   "source": [
    "for i in range(10):\n",
    "    print(0.1* ((0.95)**i))"
   ]
  },
  {
   "cell_type": "code",
   "execution_count": 34,
   "metadata": {
    "id": "YE2m-zLeNVWD"
   },
   "outputs": [],
   "source": [
    "opt_0 = tf.keras.optimizers.Adam(learning_rate=0.1)\n",
    "opt_1 = tf.keras.optimizers.Adam(learning_rate=0.1)\n",
    "\n",
    "\n",
    "model_0.compile(opt_0, loss='mse', metrics=[\"accuracy\"])\n",
    "model_1.compile(opt_1, loss='mse', metrics=[\"accuracy\"])"
   ]
  },
  {
   "cell_type": "code",
   "execution_count": 181,
   "metadata": {},
   "outputs": [],
   "source": [
    "cp_val_acc_1 = tf.keras.callbacks.ModelCheckpoint(filepath=\"./Model/4_1_PCA_QFC_BinRep_val_acc.hdf5\",\n",
    "                monitor='val_accuracy', verbose=1, save_weights_only=True, save_best_only=True, mode='max')\n",
    "\n",
    "cp_val_loss_1 = tf.keras.callbacks.ModelCheckpoint(filepath=\"./Model/4_1_PCA_QFC_BinRep_val_loss.hdf5\",\n",
    "                monitor='val_loss', verbose=1, save_weights_only=True, save_best_only=True, mode='min')"
   ]
  },
  {
   "cell_type": "code",
   "execution_count": 182,
   "metadata": {},
   "outputs": [
    {
     "name": "stdout",
     "output_type": "stream",
     "text": [
      "Epoch 1/10\n",
      "25/25 [==============================] - 1243s 50s/step - loss: 0.3215 - accuracy: 0.6482 - val_loss: 0.1286 - val_accuracy: 0.8700\n",
      "\n",
      "Epoch 00001: val_accuracy improved from -inf to 0.87000, saving model to ./Model/4_1_PCA_QFC_BinRep_val_acc.hdf5\n",
      "\n",
      "Epoch 00001: val_loss improved from inf to 0.12862, saving model to ./Model/4_1_PCA_QFC_BinRep_val_loss.hdf5\n",
      "Epoch 2/10\n",
      "25/25 [==============================] - 1238s 50s/step - loss: 0.0637 - accuracy: 0.9356 - val_loss: 0.0524 - val_accuracy: 0.9500\n",
      "\n",
      "Epoch 00002: val_accuracy improved from 0.87000 to 0.95000, saving model to ./Model/4_1_PCA_QFC_BinRep_val_acc.hdf5\n",
      "\n",
      "Epoch 00002: val_loss improved from 0.12862 to 0.05242, saving model to ./Model/4_1_PCA_QFC_BinRep_val_loss.hdf5\n",
      "Epoch 3/10\n",
      "25/25 [==============================] - 1246s 50s/step - loss: 0.0501 - accuracy: 0.9568 - val_loss: 0.0778 - val_accuracy: 0.8900\n",
      "\n",
      "Epoch 00003: val_accuracy did not improve from 0.95000\n",
      "\n",
      "Epoch 00003: val_loss did not improve from 0.05242\n",
      "Epoch 4/10\n",
      "25/25 [==============================] - 1219s 49s/step - loss: 0.0619 - accuracy: 0.9266 - val_loss: 0.0495 - val_accuracy: 0.9500\n",
      "\n",
      "Epoch 00004: val_accuracy did not improve from 0.95000\n",
      "\n",
      "Epoch 00004: val_loss improved from 0.05242 to 0.04948, saving model to ./Model/4_1_PCA_QFC_BinRep_val_loss.hdf5\n",
      "Epoch 5/10\n",
      "25/25 [==============================] - 1215s 49s/step - loss: 0.0440 - accuracy: 0.9543 - val_loss: 0.0713 - val_accuracy: 0.9200\n",
      "\n",
      "Epoch 00005: val_accuracy did not improve from 0.95000\n",
      "\n",
      "Epoch 00005: val_loss did not improve from 0.04948\n",
      "Epoch 6/10\n",
      "25/25 [==============================] - 1233s 49s/step - loss: 0.0472 - accuracy: 0.9436 - val_loss: 0.0440 - val_accuracy: 0.9750\n",
      "\n",
      "Epoch 00006: val_accuracy improved from 0.95000 to 0.97500, saving model to ./Model/4_1_PCA_QFC_BinRep_val_acc.hdf5\n",
      "\n",
      "Epoch 00006: val_loss improved from 0.04948 to 0.04398, saving model to ./Model/4_1_PCA_QFC_BinRep_val_loss.hdf5\n",
      "Epoch 7/10\n",
      "25/25 [==============================] - 1227s 49s/step - loss: 0.0451 - accuracy: 0.9595 - val_loss: 0.0448 - val_accuracy: 0.9400\n",
      "\n",
      "Epoch 00007: val_accuracy did not improve from 0.97500\n",
      "\n",
      "Epoch 00007: val_loss did not improve from 0.04398\n",
      "Epoch 8/10\n",
      "25/25 [==============================] - 1231s 49s/step - loss: 0.0411 - accuracy: 0.9633 - val_loss: 0.0671 - val_accuracy: 0.9100\n",
      "\n",
      "Epoch 00008: val_accuracy did not improve from 0.97500\n",
      "\n",
      "Epoch 00008: val_loss did not improve from 0.04398\n",
      "Epoch 9/10\n",
      "25/25 [==============================] - 1228s 49s/step - loss: 0.0502 - accuracy: 0.9403 - val_loss: 0.0433 - val_accuracy: 0.9600\n",
      "\n",
      "Epoch 00009: val_accuracy did not improve from 0.97500\n",
      "\n",
      "Epoch 00009: val_loss improved from 0.04398 to 0.04335, saving model to ./Model/4_1_PCA_QFC_BinRep_val_loss.hdf5\n",
      "Epoch 10/10\n",
      "25/25 [==============================] - 1220s 49s/step - loss: 0.0419 - accuracy: 0.9660 - val_loss: 0.0615 - val_accuracy: 0.9350\n",
      "\n",
      "Epoch 00010: val_accuracy did not improve from 0.97500\n",
      "\n",
      "Epoch 00010: val_loss did not improve from 0.04335\n"
     ]
    }
   ],
   "source": [
    "H_1 = model_1.fit(X_train, to_categorical(Y_train_1), epochs=10, batch_size=32, initial_epoch=0,\n",
    "              validation_data=(X_test, to_categorical(Y_test_1)), verbose=1,\n",
    "              callbacks=[cp_val_acc_1, cp_val_loss_1])"
   ]
  },
  {
   "cell_type": "code",
   "execution_count": 183,
   "metadata": {},
   "outputs": [
    {
     "data": {
      "text/plain": [
       "{'loss': [0.21086053550243378,\n",
       "  0.061439450830221176,\n",
       "  0.045709751546382904,\n",
       "  0.052196063101291656,\n",
       "  0.04152064025402069,\n",
       "  0.04539689049124718,\n",
       "  0.0419466495513916,\n",
       "  0.04617944359779358,\n",
       "  0.049564946442842484,\n",
       "  0.04297865927219391],\n",
       " 'accuracy': [0.7587500214576721,\n",
       "  0.9350000023841858,\n",
       "  0.9549999833106995,\n",
       "  0.9387500286102295,\n",
       "  0.9624999761581421,\n",
       "  0.949999988079071,\n",
       "  0.9649999737739563,\n",
       "  0.9599999785423279,\n",
       "  0.9462500214576721,\n",
       "  0.9574999809265137],\n",
       " 'val_loss': [0.12861785292625427,\n",
       "  0.05241711065173149,\n",
       "  0.07783080637454987,\n",
       "  0.04948212206363678,\n",
       "  0.07129299640655518,\n",
       "  0.043975744396448135,\n",
       "  0.04480532184243202,\n",
       "  0.06713776290416718,\n",
       "  0.0433460995554924,\n",
       "  0.06146424636244774],\n",
       " 'val_accuracy': [0.8700000047683716,\n",
       "  0.949999988079071,\n",
       "  0.8899999856948853,\n",
       "  0.949999988079071,\n",
       "  0.9200000166893005,\n",
       "  0.9750000238418579,\n",
       "  0.9399999976158142,\n",
       "  0.9100000262260437,\n",
       "  0.9599999785423279,\n",
       "  0.9350000023841858]}"
      ]
     },
     "execution_count": 183,
     "metadata": {},
     "output_type": "execute_result"
    }
   ],
   "source": [
    "H_1.history"
   ]
  },
  {
   "cell_type": "code",
   "execution_count": 35,
   "metadata": {},
   "outputs": [],
   "source": [
    "model_1.load_weights('./Model/4_1_PCA_QFC_BinRep_val_acc.hdf5')"
   ]
  },
  {
   "cell_type": "code",
   "execution_count": 36,
   "metadata": {},
   "outputs": [
    {
     "data": {
      "text/plain": [
       "[<tf.Variable 'model_1/keras_layer_1/params:0' shape=(2, 4, 18) dtype=float32, numpy=\n",
       " array([[[-0.26797223,  0.37849617, -1.3049985 ,  1.6538349 ,\n",
       "          -1.1000731 ,  0.06771134,  0.6043904 , -0.86981314,\n",
       "          -0.19319023,  1.2196795 ,  1.1196978 ,  0.18507162,\n",
       "          -0.04155865, -0.00303793,  0.3877537 ,  0.6360989 ,\n",
       "          -0.21808293, -0.48490873],\n",
       "         [ 1.2812245 ,  0.93323636,  0.06609938,  2.1107936 ,\n",
       "          -0.08192353, -0.17687376, -0.36747754, -0.5795907 ,\n",
       "          -1.2037541 ,  0.49842155,  0.665224  , -0.49293953,\n",
       "          -0.32925957,  0.7594584 , -0.17794177,  0.3365127 ,\n",
       "           1.36142   ,  0.4762807 ],\n",
       "         [-0.41802576,  0.9291733 ,  0.18913125, -1.5472566 ,\n",
       "           0.67545855, -1.0334672 , -0.36522952, -0.7659326 ,\n",
       "          -1.9967434 , -0.31721836,  0.45285645, -0.55368996,\n",
       "           1.6643952 , -0.16335878,  0.64568853,  0.3767126 ,\n",
       "           0.05206824,  0.18572411],\n",
       "         [-0.95213246, -0.634032  ,  0.8459088 ,  1.3407633 ,\n",
       "           0.9866503 ,  1.0159819 , -0.09403516, -0.40202945,\n",
       "           0.3244533 ,  0.42544952,  0.30875012, -0.49571773,\n",
       "           2.1986897 , -0.80226195, -1.8816513 ,  0.4081482 ,\n",
       "           0.00979168, -0.31558558]],\n",
       " \n",
       "        [[-0.25855398, -0.1029576 , -0.29448387, -0.21667627,\n",
       "           0.1540439 , -0.33280265, -0.40183815,  0.00879512,\n",
       "           0.03716663,  0.04262611,  0.39381033,  0.07458097,\n",
       "           0.46254325,  0.8608932 , -0.19048579, -0.01373191,\n",
       "           0.69625664,  0.8048657 ],\n",
       "         [ 0.77257687,  0.5792364 , -0.2353443 , -0.12994397,\n",
       "           0.6978912 ,  0.02186193, -0.50263196,  0.66322005,\n",
       "          -0.27612808, -0.18268059, -0.07987192,  0.17543937,\n",
       "           0.13512   ,  0.08019971, -0.09021317, -0.00916151,\n",
       "           0.1975396 ,  0.31215015],\n",
       "         [ 0.30297303,  0.08123673,  0.41244677,  0.2178041 ,\n",
       "           0.6628559 ,  0.20203811,  0.5738084 ,  0.3400295 ,\n",
       "           0.29290193,  0.3274113 ,  0.33872065,  0.2930664 ,\n",
       "           0.28867167,  0.43724337, -0.11952958, -0.16533852,\n",
       "          -0.17532308, -0.23154208],\n",
       "         [ 0.3785435 ,  0.25603202, -0.34046063, -0.17165   ,\n",
       "          -0.09774791, -0.05483742, -0.5185667 , -0.23540723,\n",
       "          -0.7090423 , -0.49102464, -0.21723725, -0.5938074 ,\n",
       "          -0.25697088, -0.29991025, -0.7262099 , -0.7271084 ,\n",
       "          -0.12556815,  0.24610673]]], dtype=float32)>,\n",
       " <tf.Variable 'Variable:0' shape=(1, 2) dtype=float32, numpy=array([[1.0566083, 1.0864975]], dtype=float32)>]"
      ]
     },
     "execution_count": 36,
     "metadata": {},
     "output_type": "execute_result"
    }
   ],
   "source": [
    "model_1.weights"
   ]
  },
  {
   "cell_type": "code",
   "execution_count": 192,
   "metadata": {},
   "outputs": [],
   "source": [
    "cp_val_acc_0 = tf.keras.callbacks.ModelCheckpoint(filepath=\"./Model/4_0_PCA_QFC_BinRep_val_acc.hdf5\",\n",
    "                monitor='val_accuracy', verbose=1, save_weights_only=True, save_best_only=True, mode='max')\n",
    "\n",
    "cp_val_loss_0 = tf.keras.callbacks.ModelCheckpoint(filepath=\"./Model/4_0_PCA_QFC_BinRep_val_loss.hdf5\",\n",
    "                monitor='val_loss', verbose=1, save_weights_only=True, save_best_only=True, mode='min')"
   ]
  },
  {
   "cell_type": "code",
   "execution_count": 193,
   "metadata": {},
   "outputs": [
    {
     "name": "stdout",
     "output_type": "stream",
     "text": [
      "Epoch 1/10\n",
      "25/25 [==============================] - 1253s 50s/step - loss: 0.3447 - accuracy: 0.5437 - val_loss: 0.1208 - val_accuracy: 0.8750\n",
      "\n",
      "Epoch 00001: val_accuracy improved from -inf to 0.87500, saving model to ./Model/4_0_PCA_QFC_BinRep_val_acc.hdf5\n",
      "\n",
      "Epoch 00001: val_loss improved from inf to 0.12084, saving model to ./Model/4_0_PCA_QFC_BinRep_val_loss.hdf5\n",
      "Epoch 2/10\n",
      "25/25 [==============================] - 1247s 50s/step - loss: 0.1020 - accuracy: 0.8729 - val_loss: 0.0547 - val_accuracy: 0.9600\n",
      "\n",
      "Epoch 00002: val_accuracy improved from 0.87500 to 0.96000, saving model to ./Model/4_0_PCA_QFC_BinRep_val_acc.hdf5\n",
      "\n",
      "Epoch 00002: val_loss improved from 0.12084 to 0.05465, saving model to ./Model/4_0_PCA_QFC_BinRep_val_loss.hdf5\n",
      "Epoch 3/10\n",
      "25/25 [==============================] - 1283s 51s/step - loss: 0.0597 - accuracy: 0.9315 - val_loss: 0.0449 - val_accuracy: 0.9650\n",
      "\n",
      "Epoch 00003: val_accuracy improved from 0.96000 to 0.96500, saving model to ./Model/4_0_PCA_QFC_BinRep_val_acc.hdf5\n",
      "\n",
      "Epoch 00003: val_loss improved from 0.05465 to 0.04488, saving model to ./Model/4_0_PCA_QFC_BinRep_val_loss.hdf5\n",
      "Epoch 4/10\n",
      "25/25 [==============================] - 1257s 50s/step - loss: 0.0478 - accuracy: 0.9529 - val_loss: 0.0292 - val_accuracy: 0.9900\n",
      "\n",
      "Epoch 00004: val_accuracy improved from 0.96500 to 0.99000, saving model to ./Model/4_0_PCA_QFC_BinRep_val_acc.hdf5\n",
      "\n",
      "Epoch 00004: val_loss improved from 0.04488 to 0.02922, saving model to ./Model/4_0_PCA_QFC_BinRep_val_loss.hdf5\n",
      "Epoch 5/10\n",
      "25/25 [==============================] - 1240s 50s/step - loss: 0.0325 - accuracy: 0.9749 - val_loss: 0.0510 - val_accuracy: 0.9450\n",
      "\n",
      "Epoch 00005: val_accuracy did not improve from 0.99000\n",
      "\n",
      "Epoch 00005: val_loss did not improve from 0.02922\n",
      "Epoch 6/10\n",
      "25/25 [==============================] - 1240s 50s/step - loss: 0.0389 - accuracy: 0.9664 - val_loss: 0.0675 - val_accuracy: 0.9500\n",
      "\n",
      "Epoch 00006: val_accuracy did not improve from 0.99000\n",
      "\n",
      "Epoch 00006: val_loss did not improve from 0.02922\n",
      "Epoch 7/10\n",
      "25/25 [==============================] - 1255s 50s/step - loss: 0.0543 - accuracy: 0.9486 - val_loss: 0.0340 - val_accuracy: 0.9550\n",
      "\n",
      "Epoch 00007: val_accuracy did not improve from 0.99000\n",
      "\n",
      "Epoch 00007: val_loss did not improve from 0.02922\n",
      "Epoch 8/10\n",
      "25/25 [==============================] - 1242s 50s/step - loss: 0.0330 - accuracy: 0.9638 - val_loss: 0.0522 - val_accuracy: 0.9600\n",
      "\n",
      "Epoch 00008: val_accuracy did not improve from 0.99000\n",
      "\n",
      "Epoch 00008: val_loss did not improve from 0.02922\n",
      "Epoch 9/10\n",
      "25/25 [==============================] - 1238s 50s/step - loss: 0.0433 - accuracy: 0.9643 - val_loss: 0.0553 - val_accuracy: 0.9650\n",
      "\n",
      "Epoch 00009: val_accuracy did not improve from 0.99000\n",
      "\n",
      "Epoch 00009: val_loss did not improve from 0.02922\n",
      "Epoch 10/10\n",
      "25/25 [==============================] - 1243s 50s/step - loss: 0.0538 - accuracy: 0.9400 - val_loss: 0.0400 - val_accuracy: 0.9750\n",
      "\n",
      "Epoch 00010: val_accuracy did not improve from 0.99000\n",
      "\n",
      "Epoch 00010: val_loss did not improve from 0.02922\n"
     ]
    }
   ],
   "source": [
    "H_0 = model_0.fit(X_train, to_categorical(Y_train_0), epochs=10, batch_size=32, initial_epoch=0,\n",
    "              validation_data=(X_test, to_categorical(Y_test_0)), verbose=1,\n",
    "              callbacks=[cp_val_acc_0, cp_val_loss_0])"
   ]
  },
  {
   "cell_type": "code",
   "execution_count": 194,
   "metadata": {},
   "outputs": [
    {
     "data": {
      "text/plain": [
       "{'loss': [0.26755326986312866,\n",
       "  0.08774829655885696,\n",
       "  0.05261080339550972,\n",
       "  0.04429943487048149,\n",
       "  0.03726549446582794,\n",
       "  0.04060828685760498,\n",
       "  0.04808851331472397,\n",
       "  0.036371853202581406,\n",
       "  0.0447818897664547,\n",
       "  0.056586675345897675],\n",
       " 'accuracy': [0.6162499785423279,\n",
       "  0.893750011920929,\n",
       "  0.9399999976158142,\n",
       "  0.9574999809265137,\n",
       "  0.9674999713897705,\n",
       "  0.9612500071525574,\n",
       "  0.9524999856948853,\n",
       "  0.9637500047683716,\n",
       "  0.9637500047683716,\n",
       "  0.9437500238418579],\n",
       " 'val_loss': [0.12084384262561798,\n",
       "  0.054654818028211594,\n",
       "  0.044877100735902786,\n",
       "  0.029224898666143417,\n",
       "  0.050967611372470856,\n",
       "  0.06745164096355438,\n",
       "  0.03398647904396057,\n",
       "  0.05218568816781044,\n",
       "  0.055276960134506226,\n",
       "  0.03998257592320442],\n",
       " 'val_accuracy': [0.875,\n",
       "  0.9599999785423279,\n",
       "  0.9649999737739563,\n",
       "  0.9900000095367432,\n",
       "  0.9449999928474426,\n",
       "  0.949999988079071,\n",
       "  0.9549999833106995,\n",
       "  0.9599999785423279,\n",
       "  0.9649999737739563,\n",
       "  0.9750000238418579]}"
      ]
     },
     "execution_count": 194,
     "metadata": {},
     "output_type": "execute_result"
    }
   ],
   "source": [
    "H_0.history"
   ]
  },
  {
   "cell_type": "code",
   "execution_count": 37,
   "metadata": {},
   "outputs": [],
   "source": [
    "model_0.load_weights('./Model/4_0_PCA_QFC_BinRep_val_acc.hdf5')"
   ]
  },
  {
   "cell_type": "code",
   "execution_count": 38,
   "metadata": {},
   "outputs": [
    {
     "data": {
      "text/plain": [
       "[<tf.Variable 'model/keras_layer/params:0' shape=(2, 4, 18) dtype=float32, numpy=\n",
       " array([[[ 0.03721768, -0.45763686, -2.433729  , -0.16519062,\n",
       "          -1.548132  ,  1.6565139 , -0.77534735,  0.8834767 ,\n",
       "           0.5066676 , -0.20738466, -0.85952455, -1.0365075 ,\n",
       "          -0.40144742,  0.35292697,  0.6779325 , -1.2609553 ,\n",
       "          -0.2542827 ,  0.50904804],\n",
       "         [ 1.4110111 , -0.87706536, -0.24654704,  0.10550933,\n",
       "           2.4184365 ,  1.0813566 ,  1.3768635 ,  1.2160602 ,\n",
       "          -1.2170255 , -0.65251493,  0.5999488 ,  0.11787182,\n",
       "          -0.6269948 ,  0.77810776,  0.62203467,  0.02974367,\n",
       "          -0.05936408, -0.57920206],\n",
       "         [-1.0501962 , -0.19087154,  0.17541106,  0.31082454,\n",
       "           0.19787166,  0.43145534, -1.8532274 , -0.27889603,\n",
       "           0.4586927 , -0.8951095 ,  0.54288906, -0.16815893,\n",
       "          -0.8249102 , -0.37443316, -0.77464193,  0.9032379 ,\n",
       "          -0.31472126, -0.06160484],\n",
       "         [ 0.3850864 , -0.29843584, -0.44238752,  1.3707465 ,\n",
       "          -0.13520873, -0.5044669 , -1.0509138 , -0.592936  ,\n",
       "           1.3203428 , -0.14737979,  0.7659668 ,  1.3580064 ,\n",
       "           0.4875669 , -0.6732251 , -1.1285536 ,  0.3350003 ,\n",
       "           0.25739646, -0.32323462]],\n",
       " \n",
       "        [[-0.23020402, -1.3158089 , -0.04253213, -0.1448396 ,\n",
       "          -0.03770825,  0.23298284,  0.31078634, -0.04235014,\n",
       "           0.4780174 , -0.0095316 , -0.10437246,  0.34761062,\n",
       "           0.3307693 , -0.1720117 ,  0.3003874 ,  0.03675181,\n",
       "          -0.80279815, -0.22326261],\n",
       "         [ 0.15193985, -0.1815443 ,  0.19282305,  0.10763706,\n",
       "          -0.21617144, -0.1316551 ,  0.15772562, -0.41418844,\n",
       "          -0.32621998, -0.15823115, -0.08050401, -0.6266052 ,\n",
       "          -0.36247212, -0.4171315 , -0.19561338, -0.1887657 ,\n",
       "          -0.19128598, -0.2988741 ],\n",
       "         [-0.7904731 , -0.0898845 , -0.1888262 , -0.5073087 ,\n",
       "          -0.11823203, -0.37058717, -0.62452507, -0.30477387,\n",
       "          -0.52864695, -0.26925585,  0.04118854, -0.7246563 ,\n",
       "          -1.036384  , -0.5368511 , -0.6417222 , -0.6081842 ,\n",
       "          -0.23710129, -0.77891   ],\n",
       "         [-0.6802964 , -0.3431153 , -0.19511645, -0.2835808 ,\n",
       "          -0.08084433, -0.9545832 , -0.77094185, -0.03671758,\n",
       "          -0.92322916, -0.5118163 , -0.12673879, -0.6107483 ,\n",
       "          -0.7036214 ,  0.19234486, -0.9155434 , -0.79059505,\n",
       "          -0.14741622,  0.25496995]]], dtype=float32)>,\n",
       " <tf.Variable 'Variable:0' shape=(1, 2) dtype=float32, numpy=array([[1.0690018, 1.0991845]], dtype=float32)>]"
      ]
     },
     "execution_count": 38,
     "metadata": {},
     "output_type": "execute_result"
    }
   ],
   "source": [
    "model_0.weights"
   ]
  },
  {
   "cell_type": "markdown",
   "metadata": {},
   "source": [
    "## Testing Result"
   ]
  },
  {
   "cell_type": "code",
   "execution_count": 39,
   "metadata": {},
   "outputs": [],
   "source": [
    "result_0 = np.argmax(model_0.predict(X_test), axis=1)"
   ]
  },
  {
   "cell_type": "code",
   "execution_count": 40,
   "metadata": {},
   "outputs": [],
   "source": [
    "result_1 = np.argmax(model_1.predict(X_test), axis=1)"
   ]
  },
  {
   "cell_type": "code",
   "execution_count": 41,
   "metadata": {},
   "outputs": [],
   "source": [
    "result = np.concatenate((result_0.reshape(-1,1), result_1.reshape(-1,1)), axis=1)"
   ]
  },
  {
   "cell_type": "code",
   "execution_count": 42,
   "metadata": {},
   "outputs": [],
   "source": [
    "Y_all = np.concatenate((Y_test_0.reshape(-1,1), Y_test_1.reshape(-1,1)), axis=1)"
   ]
  },
  {
   "cell_type": "code",
   "execution_count": 43,
   "metadata": {},
   "outputs": [
    {
     "data": {
      "text/plain": [
       "(200, 2)"
      ]
     },
     "execution_count": 43,
     "metadata": {},
     "output_type": "execute_result"
    }
   ],
   "source": [
    "Y_all.shape"
   ]
  },
  {
   "cell_type": "code",
   "execution_count": 44,
   "metadata": {},
   "outputs": [
    {
     "name": "stdout",
     "output_type": "stream",
     "text": [
      "0.965\n"
     ]
    }
   ],
   "source": [
    "false = 0\n",
    "ans = (Y_all == result)\n",
    "for i in range(len(ans)):\n",
    "    if np.sum(ans[i]) != 2:\n",
    "        false += 1\n",
    "        \n",
    "print(1 - (false/Y_all.shape[0]))"
   ]
  },
  {
   "cell_type": "markdown",
   "metadata": {},
   "source": [
    "## Training Result"
   ]
  },
  {
   "cell_type": "code",
   "execution_count": 48,
   "metadata": {},
   "outputs": [],
   "source": [
    "result_0 = np.argmax(model_0.predict(X_train), axis=1)\n",
    "result_1 = np.argmax(model_1.predict(X_train), axis=1)"
   ]
  },
  {
   "cell_type": "code",
   "execution_count": 49,
   "metadata": {},
   "outputs": [
    {
     "data": {
      "text/plain": [
       "(800, 2)"
      ]
     },
     "execution_count": 49,
     "metadata": {},
     "output_type": "execute_result"
    }
   ],
   "source": [
    "result = np.concatenate((result_0.reshape(-1,1), result_1.reshape(-1,1)), axis=1)\n",
    "Y_all = np.concatenate((Y_train_0.reshape(-1,1), Y_train_1.reshape(-1,1)), axis=1)\n",
    "\n",
    "Y_all.shape"
   ]
  },
  {
   "cell_type": "code",
   "execution_count": 50,
   "metadata": {},
   "outputs": [
    {
     "name": "stdout",
     "output_type": "stream",
     "text": [
      "0.95625\n"
     ]
    }
   ],
   "source": [
    "false = 0\n",
    "ans = (Y_all == result)\n",
    "for i in range(len(ans)):\n",
    "    if np.sum(ans[i]) != 2:\n",
    "        false += 1\n",
    "        \n",
    "print(1 - (false/Y_all.shape[0]))"
   ]
  },
  {
   "cell_type": "code",
   "execution_count": 53,
   "metadata": {},
   "outputs": [
    {
     "data": {
      "text/plain": [
       "tensor(0.97875, requires_grad=True)"
      ]
     },
     "execution_count": 53,
     "metadata": {},
     "output_type": "execute_result"
    }
   ],
   "source": [
    "(result_0 == Y_train_0).sum()/800"
   ]
  },
  {
   "cell_type": "code",
   "execution_count": 54,
   "metadata": {},
   "outputs": [
    {
     "data": {
      "text/plain": [
       "tensor(0.9725, requires_grad=True)"
      ]
     },
     "execution_count": 54,
     "metadata": {},
     "output_type": "execute_result"
    }
   ],
   "source": [
    "(result_1 == Y_train_1).sum()/800"
   ]
  },
  {
   "cell_type": "code",
   "execution_count": 55,
   "metadata": {},
   "outputs": [
    {
     "data": {
      "text/plain": [
       "0.95125"
      ]
     },
     "execution_count": 55,
     "metadata": {},
     "output_type": "execute_result"
    }
   ],
   "source": [
    "1 - (1 - 0.97875 + 1 - 0.9725)"
   ]
  },
  {
   "cell_type": "markdown",
   "metadata": {},
   "source": [
    "# Exploring the results"
   ]
  },
  {
   "cell_type": "code",
   "execution_count": 216,
   "metadata": {},
   "outputs": [
    {
     "data": {
      "text/plain": [
       "((2, 4, 18), (2, 4, 18), (2, 4, 18), (2, 4, 18))"
      ]
     },
     "execution_count": 216,
     "metadata": {},
     "output_type": "execute_result"
    }
   ],
   "source": [
    "QFC_weights_0 = np.array([[[ 0.03721768, -0.45763686, -2.433729  , -0.16519062,\n",
    "          -1.548132  ,  1.6565139 , -0.77534735,  0.8834767 ,\n",
    "           0.5066676 , -0.20738466, -0.85952455, -1.0365075 ,\n",
    "          -0.40144742,  0.35292697,  0.6779325 , -1.2609553 ,\n",
    "          -0.2542827 ,  0.50904804],\n",
    "         [ 1.4110111 , -0.87706536, -0.24654704,  0.10550933,\n",
    "           2.4184365 ,  1.0813566 ,  1.3768635 ,  1.2160602 ,\n",
    "          -1.2170255 , -0.65251493,  0.5999488 ,  0.11787182,\n",
    "          -0.6269948 ,  0.77810776,  0.62203467,  0.02974367,\n",
    "          -0.05936408, -0.57920206],\n",
    "         [-1.0501962 , -0.19087154,  0.17541106,  0.31082454,\n",
    "           0.19787166,  0.43145534, -1.8532274 , -0.27889603,\n",
    "           0.4586927 , -0.8951095 ,  0.54288906, -0.16815893,\n",
    "          -0.8249102 , -0.37443316, -0.77464193,  0.9032379 ,\n",
    "          -0.31472126, -0.06160484],\n",
    "         [ 0.3850864 , -0.29843584, -0.44238752,  1.3707465 ,\n",
    "          -0.13520873, -0.5044669 , -1.0509138 , -0.592936  ,\n",
    "           1.3203428 , -0.14737979,  0.7659668 ,  1.3580064 ,\n",
    "           0.4875669 , -0.6732251 , -1.1285536 ,  0.3350003 ,\n",
    "           0.25739646, -0.32323462]],\n",
    " \n",
    "        [[-0.23020402, -1.3158089 , -0.04253213, -0.1448396 ,\n",
    "          -0.03770825,  0.23298284,  0.31078634, -0.04235014,\n",
    "           0.4780174 , -0.0095316 , -0.10437246,  0.34761062,\n",
    "           0.3307693 , -0.1720117 ,  0.3003874 ,  0.03675181,\n",
    "          -0.80279815, -0.22326261],\n",
    "         [ 0.15193985, -0.1815443 ,  0.19282305,  0.10763706,\n",
    "          -0.21617144, -0.1316551 ,  0.15772562, -0.41418844,\n",
    "          -0.32621998, -0.15823115, -0.08050401, -0.6266052 ,\n",
    "          -0.36247212, -0.4171315 , -0.19561338, -0.1887657 ,\n",
    "          -0.19128598, -0.2988741 ],\n",
    "         [-0.7904731 , -0.0898845 , -0.1888262 , -0.5073087 ,\n",
    "          -0.11823203, -0.37058717, -0.62452507, -0.30477387,\n",
    "          -0.52864695, -0.26925585,  0.04118854, -0.7246563 ,\n",
    "          -1.036384  , -0.5368511 , -0.6417222 , -0.6081842 ,\n",
    "          -0.23710129, -0.77891   ],\n",
    "         [-0.6802964 , -0.3431153 , -0.19511645, -0.2835808 ,\n",
    "          -0.08084433, -0.9545832 , -0.77094185, -0.03671758,\n",
    "          -0.92322916, -0.5118163 , -0.12673879, -0.6107483 ,\n",
    "          -0.7036214 ,  0.19234486, -0.9155434 , -0.79059505,\n",
    "          -0.14741622,  0.25496995]]])\n",
    "\n",
    "QFC_weights_1 = np.array([[[-0.26797223,  0.37849617, -1.3049985 ,  1.6538349 ,\n",
    "          -1.1000731 ,  0.06771134,  0.6043904 , -0.86981314,\n",
    "          -0.19319023,  1.2196795 ,  1.1196978 ,  0.18507162,\n",
    "          -0.04155865, -0.00303793,  0.3877537 ,  0.6360989 ,\n",
    "          -0.21808293, -0.48490873],\n",
    "         [ 1.2812245 ,  0.93323636,  0.06609938,  2.1107936 ,\n",
    "          -0.08192353, -0.17687376, -0.36747754, -0.5795907 ,\n",
    "          -1.2037541 ,  0.49842155,  0.665224  , -0.49293953,\n",
    "          -0.32925957,  0.7594584 , -0.17794177,  0.3365127 ,\n",
    "           1.36142   ,  0.4762807 ],\n",
    "         [-0.41802576,  0.9291733 ,  0.18913125, -1.5472566 ,\n",
    "           0.67545855, -1.0334672 , -0.36522952, -0.7659326 ,\n",
    "          -1.9967434 , -0.31721836,  0.45285645, -0.55368996,\n",
    "           1.6643952 , -0.16335878,  0.64568853,  0.3767126 ,\n",
    "           0.05206824,  0.18572411],\n",
    "         [-0.95213246, -0.634032  ,  0.8459088 ,  1.3407633 ,\n",
    "           0.9866503 ,  1.0159819 , -0.09403516, -0.40202945,\n",
    "           0.3244533 ,  0.42544952,  0.30875012, -0.49571773,\n",
    "           2.1986897 , -0.80226195, -1.8816513 ,  0.4081482 ,\n",
    "           0.00979168, -0.31558558]],\n",
    " \n",
    "        [[-0.25855398, -0.1029576 , -0.29448387, -0.21667627,\n",
    "           0.1540439 , -0.33280265, -0.40183815,  0.00879512,\n",
    "           0.03716663,  0.04262611,  0.39381033,  0.07458097,\n",
    "           0.46254325,  0.8608932 , -0.19048579, -0.01373191,\n",
    "           0.69625664,  0.8048657 ],\n",
    "         [ 0.77257687,  0.5792364 , -0.2353443 , -0.12994397,\n",
    "           0.6978912 ,  0.02186193, -0.50263196,  0.66322005,\n",
    "          -0.27612808, -0.18268059, -0.07987192,  0.17543937,\n",
    "           0.13512   ,  0.08019971, -0.09021317, -0.00916151,\n",
    "           0.1975396 ,  0.31215015],\n",
    "         [ 0.30297303,  0.08123673,  0.41244677,  0.2178041 ,\n",
    "           0.6628559 ,  0.20203811,  0.5738084 ,  0.3400295 ,\n",
    "           0.29290193,  0.3274113 ,  0.33872065,  0.2930664 ,\n",
    "           0.28867167,  0.43724337, -0.11952958, -0.16533852,\n",
    "          -0.17532308, -0.23154208],\n",
    "         [ 0.3785435 ,  0.25603202, -0.34046063, -0.17165   ,\n",
    "          -0.09774791, -0.05483742, -0.5185667 , -0.23540723,\n",
    "          -0.7090423 , -0.49102464, -0.21723725, -0.5938074 ,\n",
    "          -0.25697088, -0.29991025, -0.7262099 , -0.7271084 ,\n",
    "          -0.12556815,  0.24610673]]])\n",
    "\n",
    "\n",
    "random_weights_0 = np.array([[[ 3.67045134e-01, -3.42446506e-01, -3.33527088e-01,\n",
    "          -3.43888998e-04, -1.36000335e-01, -1.04561180e-01,\n",
    "          -1.87816516e-01, -9.02650356e-02, -3.04417014e-01,\n",
    "           6.11782968e-02, -3.19846570e-02, -2.93415278e-01,\n",
    "           4.65538204e-02,  2.55249470e-01,  9.57500935e-03,\n",
    "           2.15430409e-01, -1.67921692e-01,  3.80159616e-02],\n",
    "         [-7.69736171e-02,  1.98335916e-01,  9.09704268e-02,\n",
    "           3.04905087e-01, -2.35751808e-01,  6.12927377e-02,\n",
    "          -1.03530854e-01,  8.46208632e-02,  1.45823628e-01,\n",
    "           6.12244010e-03, -1.23035461e-01,  2.43013471e-01,\n",
    "          -2.98162848e-01,  1.61390811e-01,  2.46733993e-01,\n",
    "           2.89240748e-01, -2.67230660e-01, -4.27124798e-02],\n",
    "         [ 3.35572571e-01,  1.08402014e-01, -1.56483993e-01,\n",
    "           2.53690153e-01,  2.65002638e-01,  3.50467414e-01,\n",
    "          -1.70348912e-01,  3.21278602e-01,  3.35109979e-01,\n",
    "          -7.64417648e-02,  1.63874924e-02, -1.53671578e-01,\n",
    "          -1.96954474e-01,  3.56945693e-02, -1.22049302e-01,\n",
    "          -3.48913670e-02,  1.10858083e-02,  1.10965550e-01],\n",
    "         [-1.51003644e-01,  3.65580618e-02, -2.19093129e-01,\n",
    "          -3.43052417e-01, -3.36372316e-01,  5.30948043e-02,\n",
    "           1.80804938e-01,  9.87266600e-02,  7.77438879e-02,\n",
    "          -1.90444127e-01, -2.32647181e-01,  2.32942373e-01,\n",
    "           2.48936325e-01,  2.86154360e-01,  4.37527597e-02,\n",
    "           2.79341966e-01, -1.46628052e-01, -1.33783355e-01]],\n",
    " \n",
    "        [[ 8.79765749e-02,  3.06698948e-01, -5.96465468e-02,\n",
    "           6.04350269e-02, -2.62088478e-02,  3.31669241e-01,\n",
    "           3.93036008e-03,  3.61888379e-01, -2.16153860e-01,\n",
    "          -2.46473819e-01, -1.56460568e-01,  1.26935899e-01,\n",
    "          -1.12968385e-02,  3.60037118e-01,  2.08311170e-01,\n",
    "          -3.83261442e-02,  2.97492743e-02,  2.95076221e-01],\n",
    "         [ 2.12456554e-01, -2.32252494e-01, -1.31357893e-01,\n",
    "          -3.47912163e-01,  1.10876977e-01,  2.38939017e-01,\n",
    "           1.58940881e-01,  1.95906788e-01,  3.32636684e-01,\n",
    "          -1.79958254e-01,  2.67642349e-01, -5.22329807e-02,\n",
    "           1.10018462e-01,  7.65730143e-02, -2.32118234e-01,\n",
    "           2.62792259e-01,  2.99388498e-01, -3.45168114e-02],\n",
    "         [ 1.96461946e-01,  2.04178095e-02,  2.34155267e-01,\n",
    "           2.37528592e-01,  3.37364107e-01,  3.48773271e-01,\n",
    "           7.10146725e-02, -9.19618607e-02, -9.67090130e-02,\n",
    "           3.43829244e-01, -1.95249721e-01, -1.09826028e-02,\n",
    "          -1.86813548e-01, -1.91517264e-01,  1.05388612e-01,\n",
    "          -2.72880733e-01,  2.34885842e-01,  3.61299127e-01],\n",
    "         [ 3.20748478e-01,  3.37056816e-02,  3.69881690e-02,\n",
    "          -2.41105720e-01,  2.86737651e-01,  2.33410865e-01,\n",
    "          -2.17897177e-01, -1.21483117e-01,  3.50713462e-01,\n",
    "           9.63731110e-02,  1.57003254e-01,  2.91269630e-01,\n",
    "           3.44541639e-01,  2.52730936e-01, -3.22052062e-01,\n",
    "           2.96931773e-01, -2.77328014e-01,  3.60006690e-02]]])\n",
    "\n",
    "\n",
    "random_weights_1 = np.array([[[ 0.17585066,  0.10484752, -0.20892958,  0.05222407,\n",
    "          -0.3671974 ,  0.02579954,  0.28509155, -0.34910116,\n",
    "           0.1845493 ,  0.01251948,  0.11684832, -0.05745068,\n",
    "          -0.18923628, -0.10646281, -0.31402528, -0.03468165,\n",
    "           0.22203574, -0.29518387],\n",
    "         [-0.31727922,  0.05711725, -0.22038057, -0.3349288 ,\n",
    "           0.26270345, -0.14672156,  0.23777613, -0.12732266,\n",
    "           0.07379583,  0.06946805, -0.23421952, -0.08431914,\n",
    "          -0.17293163, -0.21069252, -0.19478512, -0.00294641,\n",
    "          -0.09996179, -0.19953242],\n",
    "         [ 0.32002082,  0.04620114, -0.09290332,  0.24013302,\n",
    "           0.0007509 ,  0.2721521 , -0.02343166, -0.06727791,\n",
    "           0.24871376, -0.16206135, -0.14707635, -0.3396077 ,\n",
    "          -0.2595438 ,  0.28789225,  0.12123182, -0.3351547 ,\n",
    "           0.3021619 , -0.20880175],\n",
    "         [ 0.25470564,  0.19321826, -0.16220671, -0.31555596,\n",
    "          -0.2787857 , -0.19291273, -0.34128568,  0.12134674,\n",
    "          -0.19894598,  0.12099078, -0.23313634,  0.26657405,\n",
    "          -0.17397104, -0.22980933,  0.32766703, -0.10335052,\n",
    "           0.27998784, -0.2471144 ]],\n",
    " \n",
    "        [[-0.12505594, -0.30253863,  0.30233607, -0.10817224,\n",
    "           0.36814877,  0.09521669, -0.00361201, -0.3531564 ,\n",
    "          -0.13202824,  0.1934106 ,  0.242057  ,  0.3477536 ,\n",
    "          -0.31033668, -0.15392892,  0.20446357,  0.3331602 ,\n",
    "          -0.02072778, -0.05830187],\n",
    "         [-0.31151512,  0.31438205,  0.03309029,  0.0312362 ,\n",
    "          -0.20852107,  0.19211122, -0.26164308, -0.11040321,\n",
    "           0.13031557, -0.05510595,  0.15385011,  0.11916628,\n",
    "           0.21178022, -0.11730006,  0.18030521, -0.06871116,\n",
    "          -0.15110472,  0.1229564 ],\n",
    "         [-0.16952194,  0.15759745,  0.12185279, -0.23327501,\n",
    "          -0.26071572,  0.297008  ,  0.01752678, -0.02400234,\n",
    "           0.1731514 , -0.22460869, -0.03185672,  0.11683449,\n",
    "          -0.18665533,  0.32318887, -0.27069792, -0.34252593,\n",
    "          -0.06907073, -0.2525081 ],\n",
    "         [ 0.17076448, -0.09733665,  0.22268954,  0.27434275,\n",
    "           0.21990559, -0.23578447, -0.25258833, -0.21291725,\n",
    "          -0.29417825, -0.18238759, -0.16428204, -0.09135035,\n",
    "          -0.07649142,  0.01717564, -0.13719119, -0.21856973,\n",
    "          -0.19200167,  0.312681  ]]])\n",
    "\n",
    "QFC_weights_0.shape, QFC_weights_1.shape, random_weights_0.shape, random_weights_1.shape"
   ]
  },
  {
   "cell_type": "code",
   "execution_count": 217,
   "metadata": {},
   "outputs": [],
   "source": [
    "n_qubits = 1\n",
    "dev_state = qml.device(\"default.qubit\", wires=n_qubits)\n",
    "\n",
    "\n",
    "@qml.qnode(dev_state)\n",
    "def q_fc_state(params, inputs):\n",
    "    \"\"\"A variational quantum circuit representing the DRC.\n",
    "\n",
    "    Args:\n",
    "        params (array[float]): array of parameters\n",
    "        inputs = [x, y]\n",
    "        x (array[float]): 1-d input vector\n",
    "        y (array[float]): single output state density matrix\n",
    "\n",
    "    Returns:\n",
    "        float: fidelity between output state and input\n",
    "    \"\"\"\n",
    "    \n",
    "    # layer iteration\n",
    "    for l in range(len(params[0])):\n",
    "        # qubit iteration\n",
    "        for q in range(n_qubits):\n",
    "            # gate iteration\n",
    "            for g in range(int(len(inputs)/3)):\n",
    "                qml.Rot(*(params[0][l][3*g:3*(g+1)] * inputs[3*g:3*(g+1)] + params[1][l][3*g:3*(g+1)]), wires=q)\n",
    "    \n",
    "    return qml.expval(qml.Hermitian(dm_labels[0], wires=[0]))\n"
   ]
  },
  {
   "cell_type": "code",
   "execution_count": 218,
   "metadata": {},
   "outputs": [
    {
     "data": {
      "text/plain": [
       "tensor(0.95576379, requires_grad=True)"
      ]
     },
     "execution_count": 218,
     "metadata": {},
     "output_type": "execute_result"
    }
   ],
   "source": [
    "q_fc_state(QFC_weights_0, X_test[0])"
   ]
  },
  {
   "cell_type": "code",
   "execution_count": 219,
   "metadata": {},
   "outputs": [
    {
     "data": {
      "text/plain": [
       "tensor(0.9942618, requires_grad=True)"
      ]
     },
     "execution_count": 219,
     "metadata": {},
     "output_type": "execute_result"
    }
   ],
   "source": [
    "q_fc_state(QFC_weights_1, X_test[0])"
   ]
  },
  {
   "cell_type": "code",
   "execution_count": 220,
   "metadata": {},
   "outputs": [
    {
     "data": {
      "text/plain": [
       "array([-0.0695759 +0.0299565j ,  0.97954644-0.18641507j])"
      ]
     },
     "execution_count": 220,
     "metadata": {},
     "output_type": "execute_result"
    }
   ],
   "source": [
    "dev_state._state"
   ]
  },
  {
   "cell_type": "code",
   "execution_count": 223,
   "metadata": {},
   "outputs": [
    {
     "data": {
      "text/plain": [
       "((800, 2), (200, 2))"
      ]
     },
     "execution_count": 223,
     "metadata": {},
     "output_type": "execute_result"
    }
   ],
   "source": [
    "# trained weights model_0 state\n",
    "\n",
    "train_state = np.zeros((len(X_train), 2), dtype=np.complex_)\n",
    "test_state = np.zeros((len(X_test), 2), dtype=np.complex_)\n",
    "\n",
    "for i in range(len(train_state)):\n",
    "    \n",
    "    q_fc_state(QFC_weights_0, X_train[i])\n",
    "    temp = np.flip(dev_state._state)\n",
    "    train_state[i, :] = temp\n",
    "\n",
    "for i in range(len(test_state)):\n",
    "    \n",
    "    q_fc_state(QFC_weights_0, X_test[i])\n",
    "    temp = np.flip(dev_state._state)\n",
    "    test_state[i, :] = temp\n",
    "    \n",
    "train_state.shape, test_state.shape"
   ]
  },
  {
   "cell_type": "code",
   "execution_count": 233,
   "metadata": {},
   "outputs": [
    {
     "data": {
      "text/plain": [
       "tensor(0.30223162+0.j, requires_grad=True)"
      ]
     },
     "execution_count": 233,
     "metadata": {},
     "output_type": "execute_result"
    }
   ],
   "source": [
    "np.conj(test_state[105]) @ dm_labels[0] @ test_state[105]"
   ]
  },
  {
   "cell_type": "code",
   "execution_count": 234,
   "metadata": {},
   "outputs": [
    {
     "data": {
      "text/plain": [
       "tensor(1.+0.j, requires_grad=True)"
      ]
     },
     "execution_count": 234,
     "metadata": {},
     "output_type": "execute_result"
    }
   ],
   "source": [
    "train_state[0] @ np.conj(train_state[0])"
   ]
  },
  {
   "cell_type": "code",
   "execution_count": 235,
   "metadata": {},
   "outputs": [
    {
     "data": {
      "text/plain": [
       "tensor(1.+0.j, requires_grad=True)"
      ]
     },
     "execution_count": 235,
     "metadata": {},
     "output_type": "execute_result"
    }
   ],
   "source": [
    "test_state[0] @ np.conj(test_state[0])"
   ]
  },
  {
   "cell_type": "code",
   "execution_count": 236,
   "metadata": {},
   "outputs": [],
   "source": [
    "np.savetxt('./4_0_PCA_QFC-State_Train.txt', train_state)\n",
    "np.savetxt('./4_0_PCA_QFC-State_Test.txt', test_state)"
   ]
  },
  {
   "cell_type": "code",
   "execution_count": 237,
   "metadata": {},
   "outputs": [
    {
     "data": {
      "text/plain": [
       "((800, 2), (200, 2))"
      ]
     },
     "execution_count": 237,
     "metadata": {},
     "output_type": "execute_result"
    }
   ],
   "source": [
    "# trained weights model_1 state\n",
    "\n",
    "train_state = np.zeros((len(X_train), 2), dtype=np.complex_)\n",
    "test_state = np.zeros((len(X_test), 2), dtype=np.complex_)\n",
    "\n",
    "for i in range(len(train_state)):\n",
    "    \n",
    "    q_fc_state(QFC_weights_1, X_train[i])\n",
    "    temp = np.flip(dev_state._state)\n",
    "    train_state[i, :] = temp\n",
    "\n",
    "for i in range(len(test_state)):\n",
    "    \n",
    "    q_fc_state(QFC_weights_1, X_test[i])\n",
    "    temp = np.flip(dev_state._state)\n",
    "    test_state[i, :] = temp\n",
    "    \n",
    "train_state.shape, test_state.shape"
   ]
  },
  {
   "cell_type": "code",
   "execution_count": 238,
   "metadata": {},
   "outputs": [
    {
     "data": {
      "text/plain": [
       "tensor(0.86732716+0.j, requires_grad=True)"
      ]
     },
     "execution_count": 238,
     "metadata": {},
     "output_type": "execute_result"
    }
   ],
   "source": [
    "np.conj(test_state[105]) @ dm_labels[0] @ test_state[105]"
   ]
  },
  {
   "cell_type": "code",
   "execution_count": 239,
   "metadata": {},
   "outputs": [
    {
     "data": {
      "text/plain": [
       "tensor(1.+0.j, requires_grad=True)"
      ]
     },
     "execution_count": 239,
     "metadata": {},
     "output_type": "execute_result"
    }
   ],
   "source": [
    "train_state[0] @ np.conj(train_state[0])"
   ]
  },
  {
   "cell_type": "code",
   "execution_count": 240,
   "metadata": {},
   "outputs": [
    {
     "data": {
      "text/plain": [
       "tensor(1.+0.j, requires_grad=True)"
      ]
     },
     "execution_count": 240,
     "metadata": {},
     "output_type": "execute_result"
    }
   ],
   "source": [
    "test_state[0] @ np.conj(test_state[0])"
   ]
  },
  {
   "cell_type": "code",
   "execution_count": 241,
   "metadata": {},
   "outputs": [],
   "source": [
    "np.savetxt('./4_1_PCA_QFC-State_Train.txt', train_state)\n",
    "np.savetxt('./4_1_PCA_QFC-State_Test.txt', test_state)"
   ]
  },
  {
   "cell_type": "code",
   "execution_count": 242,
   "metadata": {},
   "outputs": [
    {
     "data": {
      "text/plain": [
       "((800, 2), (200, 2))"
      ]
     },
     "execution_count": 242,
     "metadata": {},
     "output_type": "execute_result"
    }
   ],
   "source": [
    "# Random model_0 state\n",
    "\n",
    "train_state = np.zeros((len(X_train), 2), dtype=np.complex_)\n",
    "test_state = np.zeros((len(X_test), 2), dtype=np.complex_)\n",
    "\n",
    "for i in range(len(train_state)):\n",
    "    \n",
    "    q_fc_state(random_weights_0, X_train[i])\n",
    "    temp = np.flip(dev_state._state)\n",
    "    train_state[i, :] = temp\n",
    "\n",
    "for i in range(len(test_state)):\n",
    "    \n",
    "    q_fc_state(random_weights_0, X_test[i])\n",
    "    temp = np.flip(dev_state._state)\n",
    "    test_state[i, :] = temp\n",
    "    \n",
    "train_state.shape, test_state.shape"
   ]
  },
  {
   "cell_type": "code",
   "execution_count": 243,
   "metadata": {},
   "outputs": [],
   "source": [
    "np.savetxt('./4_0_PCA_QFC-RandomState_Train.txt', train_state)\n",
    "np.savetxt('./4_0_PCA_QFC-RandomState_Test.txt', test_state)"
   ]
  },
  {
   "cell_type": "code",
   "execution_count": 244,
   "metadata": {},
   "outputs": [
    {
     "data": {
      "text/plain": [
       "((800, 2), (200, 2))"
      ]
     },
     "execution_count": 244,
     "metadata": {},
     "output_type": "execute_result"
    }
   ],
   "source": [
    "# Random model_1 state\n",
    "\n",
    "train_state = np.zeros((len(X_train), 2), dtype=np.complex_)\n",
    "test_state = np.zeros((len(X_test), 2), dtype=np.complex_)\n",
    "\n",
    "for i in range(len(train_state)):\n",
    "    \n",
    "    q_fc_state(random_weights_1, X_train[i])\n",
    "    temp = np.flip(dev_state._state)\n",
    "    train_state[i, :] = temp\n",
    "\n",
    "for i in range(len(test_state)):\n",
    "    \n",
    "    q_fc_state(random_weights_1, X_test[i])\n",
    "    temp = np.flip(dev_state._state)\n",
    "    test_state[i, :] = temp\n",
    "    \n",
    "train_state.shape, test_state.shape"
   ]
  },
  {
   "cell_type": "code",
   "execution_count": 245,
   "metadata": {},
   "outputs": [],
   "source": [
    "np.savetxt('./4_1_PCA_QFC-RandomState_Train.txt', train_state)\n",
    "np.savetxt('./4_1_PCA_QFC-RandomState_Test.txt', test_state)"
   ]
  },
  {
   "cell_type": "code",
   "execution_count": null,
   "metadata": {},
   "outputs": [],
   "source": []
  }
 ],
 "metadata": {
  "colab": {
   "authorship_tag": "ABX9TyNNN7AuWgekOgocJ/DE5q9Z",
   "collapsed_sections": [],
   "name": "DRC MNIST 2 Class.ipynb",
   "provenance": []
  },
  "kernelspec": {
   "display_name": "Python 3",
   "language": "python",
   "name": "python3"
  },
  "language_info": {
   "codemirror_mode": {
    "name": "ipython",
    "version": 3
   },
   "file_extension": ".py",
   "mimetype": "text/x-python",
   "name": "python",
   "nbconvert_exporter": "python",
   "pygments_lexer": "ipython3",
   "version": "3.7.4"
  }
 },
 "nbformat": 4,
 "nbformat_minor": 1
}
