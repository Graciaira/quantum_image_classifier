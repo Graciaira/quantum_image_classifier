{
 "cells": [
  {
   "cell_type": "code",
   "execution_count": 1,
   "metadata": {
    "colab": {
     "base_uri": "https://localhost:8080/"
    },
    "executionInfo": {
     "elapsed": 21741,
     "status": "ok",
     "timestamp": 1609942401542,
     "user": {
      "displayName": "Eraraya Ricardo Muten",
      "photoUrl": "https://lh3.googleusercontent.com/a-/AOh14Ggpw7xw-lyk6u6l92QjpI7MlI7qjJuuciCpwrUd=s64",
      "userId": "03770692095188133952"
     },
     "user_tz": -420
    },
    "id": "e4abR9zSaWNk",
    "outputId": "94ee80ef-152f-452f-d852-06919b9942a4"
   },
   "outputs": [
    {
     "name": "stdout",
     "output_type": "stream",
     "text": [
      "/content/drive\n",
      "Mounted at /content/drive\n"
     ]
    }
   ],
   "source": [
    "# Mount Google Drive\n",
    "from google.colab import drive # import drive from google colab\n",
    " \n",
    "ROOT = \"/content/drive\"     # default location for the drive\n",
    "print(ROOT)                 # print content of ROOT (Optional)\n",
    " \n",
    "drive.mount(ROOT)           # we mount the google drive at /content/drive"
   ]
  },
  {
   "cell_type": "code",
   "execution_count": 1,
   "metadata": {
    "executionInfo": {
     "elapsed": 4192,
     "status": "ok",
     "timestamp": 1610025781584,
     "user": {
      "displayName": "Eraraya Ricardo Muten",
      "photoUrl": "https://lh3.googleusercontent.com/a-/AOh14Ggpw7xw-lyk6u6l92QjpI7MlI7qjJuuciCpwrUd=s64",
      "userId": "03770692095188133952"
     },
     "user_tz": -420
    },
    "id": "gk5AKGKcYGOo"
   },
   "outputs": [],
   "source": [
    "!pip install pennylane\n",
    "from IPython.display import clear_output\n",
    "clear_output()"
   ]
  },
  {
   "cell_type": "code",
   "execution_count": null,
   "metadata": {
    "id": "GigSJusGbx1b"
   },
   "outputs": [],
   "source": [
    "import os\n",
    "\n",
    "def restart_runtime():\n",
    "  os.kill(os.getpid(), 9)\n",
    "restart_runtime()"
   ]
  },
  {
   "cell_type": "code",
   "execution_count": 1,
   "metadata": {
    "executionInfo": {
     "elapsed": 857,
     "status": "ok",
     "timestamp": 1610025787385,
     "user": {
      "displayName": "Eraraya Ricardo Muten",
      "photoUrl": "https://lh3.googleusercontent.com/a-/AOh14Ggpw7xw-lyk6u6l92QjpI7MlI7qjJuuciCpwrUd=s64",
      "userId": "03770692095188133952"
     },
     "user_tz": -420
    },
    "id": "HoLmJLkIX810"
   },
   "outputs": [],
   "source": [
    "# %matplotlib inline\n",
    "import matplotlib.pyplot as plt\n",
    "from mpl_toolkits.axes_grid1 import make_axes_locatable\n",
    "\n",
    "import numpy as np\n",
    "import tensorflow as tf\n",
    "from tensorflow.keras.utils import to_categorical"
   ]
  },
  {
   "cell_type": "markdown",
   "metadata": {
    "id": "vZFNOwFXoY8N"
   },
   "source": [
    "# Loading Raw Data"
   ]
  },
  {
   "cell_type": "code",
   "execution_count": 2,
   "metadata": {
    "colab": {
     "base_uri": "https://localhost:8080/"
    },
    "executionInfo": {
     "elapsed": 2726,
     "status": "ok",
     "timestamp": 1610025792089,
     "user": {
      "displayName": "Eraraya Ricardo Muten",
      "photoUrl": "https://lh3.googleusercontent.com/a-/AOh14Ggpw7xw-lyk6u6l92QjpI7MlI7qjJuuciCpwrUd=s64",
      "userId": "03770692095188133952"
     },
     "user_tz": -420
    },
    "id": "IvdFsGCVof9g",
    "outputId": "c1e94fa1-a11f-4bff-c7b7-975b8b1b79fb"
   },
   "outputs": [],
   "source": [
    "(x_train, y_train), (x_test, y_test) = tf.keras.datasets.mnist.load_data()"
   ]
  },
  {
   "cell_type": "code",
   "execution_count": 3,
   "metadata": {
    "executionInfo": {
     "elapsed": 1251,
     "status": "ok",
     "timestamp": 1610025792677,
     "user": {
      "displayName": "Eraraya Ricardo Muten",
      "photoUrl": "https://lh3.googleusercontent.com/a-/AOh14Ggpw7xw-lyk6u6l92QjpI7MlI7qjJuuciCpwrUd=s64",
      "userId": "03770692095188133952"
     },
     "user_tz": -420
    },
    "id": "c6zvGFvIoxAN"
   },
   "outputs": [],
   "source": [
    "x_train_flatten = x_train.reshape(x_train.shape[0], x_train.shape[1]*x_train.shape[2])/255.0\n",
    "x_test_flatten = x_test.reshape(x_test.shape[0], x_test.shape[1]*x_test.shape[2])/255.0"
   ]
  },
  {
   "cell_type": "code",
   "execution_count": 4,
   "metadata": {
    "colab": {
     "base_uri": "https://localhost:8080/"
    },
    "executionInfo": {
     "elapsed": 948,
     "status": "ok",
     "timestamp": 1610025792678,
     "user": {
      "displayName": "Eraraya Ricardo Muten",
      "photoUrl": "https://lh3.googleusercontent.com/a-/AOh14Ggpw7xw-lyk6u6l92QjpI7MlI7qjJuuciCpwrUd=s64",
      "userId": "03770692095188133952"
     },
     "user_tz": -420
    },
    "id": "Rmj1dzaso00h",
    "outputId": "f59eea77-95bb-4b6a-b0ba-14a7e5760b11"
   },
   "outputs": [
    {
     "name": "stdout",
     "output_type": "stream",
     "text": [
      "(60000, 784) (60000,)\n",
      "(10000, 784) (10000,)\n"
     ]
    }
   ],
   "source": [
    "print(x_train_flatten.shape, y_train.shape)\n",
    "print(x_test_flatten.shape, y_test.shape)"
   ]
  },
  {
   "cell_type": "code",
   "execution_count": 5,
   "metadata": {
    "colab": {
     "base_uri": "https://localhost:8080/"
    },
    "executionInfo": {
     "elapsed": 945,
     "status": "ok",
     "timestamp": 1610025793507,
     "user": {
      "displayName": "Eraraya Ricardo Muten",
      "photoUrl": "https://lh3.googleusercontent.com/a-/AOh14Ggpw7xw-lyk6u6l92QjpI7MlI7qjJuuciCpwrUd=s64",
      "userId": "03770692095188133952"
     },
     "user_tz": -420
    },
    "id": "d10VoIC6o5_I",
    "outputId": "774bafb6-5cbe-42b3-98d0-643e7e943f91"
   },
   "outputs": [
    {
     "name": "stdout",
     "output_type": "stream",
     "text": [
      "(5923, 784)\n",
      "(6742, 784)\n",
      "(5958, 784)\n",
      "(6131, 784)\n",
      "(5842, 784)\n",
      "(5421, 784)\n",
      "(5918, 784)\n",
      "(6265, 784)\n",
      "(5851, 784)\n",
      "(5949, 784)\n"
     ]
    }
   ],
   "source": [
    "x_train_0 = x_train_flatten[y_train == 0]\n",
    "x_train_1 = x_train_flatten[y_train == 1]\n",
    "x_train_2 = x_train_flatten[y_train == 2]\n",
    "x_train_3 = x_train_flatten[y_train == 3]\n",
    "x_train_4 = x_train_flatten[y_train == 4]\n",
    "x_train_5 = x_train_flatten[y_train == 5]\n",
    "x_train_6 = x_train_flatten[y_train == 6]\n",
    "x_train_7 = x_train_flatten[y_train == 7]\n",
    "x_train_8 = x_train_flatten[y_train == 8]\n",
    "x_train_9 = x_train_flatten[y_train == 9]\n",
    "\n",
    "x_train_list = [x_train_0, x_train_1, x_train_2, x_train_3, x_train_4, x_train_5, x_train_6, x_train_7, x_train_8, x_train_9]\n",
    "\n",
    "print(x_train_0.shape)\n",
    "print(x_train_1.shape)\n",
    "print(x_train_2.shape)\n",
    "print(x_train_3.shape)\n",
    "print(x_train_4.shape)\n",
    "print(x_train_5.shape)\n",
    "print(x_train_6.shape)\n",
    "print(x_train_7.shape)\n",
    "print(x_train_8.shape)\n",
    "print(x_train_9.shape)"
   ]
  },
  {
   "cell_type": "code",
   "execution_count": 6,
   "metadata": {
    "colab": {
     "base_uri": "https://localhost:8080/"
    },
    "executionInfo": {
     "elapsed": 901,
     "status": "ok",
     "timestamp": 1610025796926,
     "user": {
      "displayName": "Eraraya Ricardo Muten",
      "photoUrl": "https://lh3.googleusercontent.com/a-/AOh14Ggpw7xw-lyk6u6l92QjpI7MlI7qjJuuciCpwrUd=s64",
      "userId": "03770692095188133952"
     },
     "user_tz": -420
    },
    "id": "snFw4LqepFOl",
    "outputId": "d62bdedd-8ad4-4da9-c7e8-75b8a0a9ba7b"
   },
   "outputs": [
    {
     "name": "stdout",
     "output_type": "stream",
     "text": [
      "(980, 784)\n",
      "(1135, 784)\n",
      "(1032, 784)\n",
      "(1010, 784)\n",
      "(982, 784)\n",
      "(892, 784)\n",
      "(958, 784)\n",
      "(1028, 784)\n",
      "(974, 784)\n",
      "(1009, 784)\n"
     ]
    }
   ],
   "source": [
    "x_test_0 = x_test_flatten[y_test == 0]\n",
    "x_test_1 = x_test_flatten[y_test == 1]\n",
    "x_test_2 = x_test_flatten[y_test == 2]\n",
    "x_test_3 = x_test_flatten[y_test == 3]\n",
    "x_test_4 = x_test_flatten[y_test == 4]\n",
    "x_test_5 = x_test_flatten[y_test == 5]\n",
    "x_test_6 = x_test_flatten[y_test == 6]\n",
    "x_test_7 = x_test_flatten[y_test == 7]\n",
    "x_test_8 = x_test_flatten[y_test == 8]\n",
    "x_test_9 = x_test_flatten[y_test == 9]\n",
    "\n",
    "x_test_list = [x_test_0, x_test_1, x_test_2, x_test_3, x_test_4, x_test_5, x_test_6, x_test_7, x_test_8, x_test_9]\n",
    "\n",
    "print(x_test_0.shape)\n",
    "print(x_test_1.shape)\n",
    "print(x_test_2.shape)\n",
    "print(x_test_3.shape)\n",
    "print(x_test_4.shape)\n",
    "print(x_test_5.shape)\n",
    "print(x_test_6.shape)\n",
    "print(x_test_7.shape)\n",
    "print(x_test_8.shape)\n",
    "print(x_test_9.shape)"
   ]
  },
  {
   "cell_type": "markdown",
   "metadata": {
    "id": "SAxUS6Lhp95g"
   },
   "source": [
    "# Selecting the dataset\n",
    "\n",
    "Output: X_train, Y_train, X_test, Y_test"
   ]
  },
  {
   "cell_type": "code",
   "execution_count": 244,
   "metadata": {
    "colab": {
     "base_uri": "https://localhost:8080/"
    },
    "executionInfo": {
     "elapsed": 881,
     "status": "ok",
     "timestamp": 1610032449016,
     "user": {
      "displayName": "Eraraya Ricardo Muten",
      "photoUrl": "https://lh3.googleusercontent.com/a-/AOh14Ggpw7xw-lyk6u6l92QjpI7MlI7qjJuuciCpwrUd=s64",
      "userId": "03770692095188133952"
     },
     "user_tz": -420
    },
    "id": "4Nr0gmM9DFd_",
    "outputId": "d4120711-a864-4d5a-aef1-2c9ab9e4078c"
   },
   "outputs": [
    {
     "name": "stdout",
     "output_type": "stream",
     "text": [
      "(1600, 784) (1600,)\n",
      "(400, 784) (400,)\n"
     ]
    }
   ],
   "source": [
    "num_sample = 200\n",
    "n_class = 8\n",
    "mult_test = 0.25\n",
    "\n",
    "X_train = x_train_list[0][:num_sample, :]\n",
    "X_test = x_test_list[0][:int(mult_test*num_sample), :]\n",
    "\n",
    "Y_train = np.zeros((n_class*X_train.shape[0],), dtype=int)\n",
    "Y_test = np.zeros((n_class*X_test.shape[0],), dtype=int)\n",
    "\n",
    "for i in range(n_class-1):\n",
    "  X_train = np.concatenate((X_train, x_train_list[i+1][:num_sample, :]), axis=0)\n",
    "  Y_train[num_sample*(i+1):num_sample*(i+2)] = int(i+1)\n",
    "\n",
    "  X_test = np.concatenate((X_test, x_test_list[i+1][:int(mult_test*num_sample), :]), axis=0)\n",
    "  Y_test[int(mult_test*num_sample*(i+1)):int(mult_test*num_sample*(i+2))] = int(i+1)\n",
    "\n",
    "print(X_train.shape, Y_train.shape)\n",
    "print(X_test.shape, Y_test.shape)"
   ]
  },
  {
   "cell_type": "markdown",
   "metadata": {
    "id": "F_4AcCtNsC8o"
   },
   "source": [
    "# Dataset Preprocessing (Standardization + PCA)"
   ]
  },
  {
   "cell_type": "markdown",
   "metadata": {
    "id": "QP-6XdVPsfxC"
   },
   "source": [
    "## Standardization"
   ]
  },
  {
   "cell_type": "code",
   "execution_count": 245,
   "metadata": {
    "executionInfo": {
     "elapsed": 997,
     "status": "ok",
     "timestamp": 1610032452310,
     "user": {
      "displayName": "Eraraya Ricardo Muten",
      "photoUrl": "https://lh3.googleusercontent.com/a-/AOh14Ggpw7xw-lyk6u6l92QjpI7MlI7qjJuuciCpwrUd=s64",
      "userId": "03770692095188133952"
     },
     "user_tz": -420
    },
    "id": "EDtzCvTur6BR"
   },
   "outputs": [],
   "source": [
    "def normalize(X, use_params=False, params=None):\n",
    "    \"\"\"Normalize the given dataset X\n",
    "    Args:\n",
    "        X: ndarray, dataset\n",
    "    \n",
    "    Returns:\n",
    "        (Xbar, mean, std): tuple of ndarray, Xbar is the normalized dataset\n",
    "        with mean 0 and standard deviation 1; mean and std are the \n",
    "        mean and standard deviation respectively.\n",
    "    \n",
    "    Note:\n",
    "        You will encounter dimensions where the standard deviation is\n",
    "        zero, for those when you do normalization the normalized data\n",
    "        will be NaN. Handle this by setting using `std = 1` for those \n",
    "        dimensions when doing normalization.\n",
    "    \"\"\"\n",
    "    if use_params:\n",
    "        mu = params[0]\n",
    "        std_filled = [1]\n",
    "    else:\n",
    "        mu = np.mean(X, axis=0)\n",
    "        std = np.std(X, axis=0)\n",
    "        #std_filled = std.copy()\n",
    "    #std_filled[std==0] = 1.\n",
    "    Xbar = (X - mu)/(std + 1e-8)\n",
    "    return Xbar, mu, std\n"
   ]
  },
  {
   "cell_type": "code",
   "execution_count": 246,
   "metadata": {
    "colab": {
     "base_uri": "https://localhost:8080/"
    },
    "executionInfo": {
     "elapsed": 1011,
     "status": "ok",
     "timestamp": 1610032453516,
     "user": {
      "displayName": "Eraraya Ricardo Muten",
      "photoUrl": "https://lh3.googleusercontent.com/a-/AOh14Ggpw7xw-lyk6u6l92QjpI7MlI7qjJuuciCpwrUd=s64",
      "userId": "03770692095188133952"
     },
     "user_tz": -420
    },
    "id": "Ma2r_EXQsHYJ",
    "outputId": "b3d76c69-3ad5-43e6-a310-1e5c02554fd4"
   },
   "outputs": [
    {
     "data": {
      "text/plain": [
       "((1600, 784), (1600,))"
      ]
     },
     "execution_count": 246,
     "metadata": {},
     "output_type": "execute_result"
    }
   ],
   "source": [
    "X_train, mu_train, std_train = normalize(X_train)\n",
    "X_train.shape, Y_train.shape"
   ]
  },
  {
   "cell_type": "code",
   "execution_count": 247,
   "metadata": {
    "colab": {
     "base_uri": "https://localhost:8080/"
    },
    "executionInfo": {
     "elapsed": 762,
     "status": "ok",
     "timestamp": 1610032453517,
     "user": {
      "displayName": "Eraraya Ricardo Muten",
      "photoUrl": "https://lh3.googleusercontent.com/a-/AOh14Ggpw7xw-lyk6u6l92QjpI7MlI7qjJuuciCpwrUd=s64",
      "userId": "03770692095188133952"
     },
     "user_tz": -420
    },
    "id": "p8DrXKvutdFL",
    "outputId": "2c6e20b3-c4a7-46e1-c92b-2e4d3fbecc91"
   },
   "outputs": [
    {
     "data": {
      "text/plain": [
       "((400, 784), (400,))"
      ]
     },
     "execution_count": 247,
     "metadata": {},
     "output_type": "execute_result"
    }
   ],
   "source": [
    "X_test = (X_test - mu_train)/(std_train + 1e-8)\n",
    "X_test.shape, Y_test.shape"
   ]
  },
  {
   "cell_type": "markdown",
   "metadata": {
    "id": "BwikC3mysh4L"
   },
   "source": [
    "## PCA"
   ]
  },
  {
   "cell_type": "code",
   "execution_count": 248,
   "metadata": {
    "executionInfo": {
     "elapsed": 781,
     "status": "ok",
     "timestamp": 1610032456319,
     "user": {
      "displayName": "Eraraya Ricardo Muten",
      "photoUrl": "https://lh3.googleusercontent.com/a-/AOh14Ggpw7xw-lyk6u6l92QjpI7MlI7qjJuuciCpwrUd=s64",
      "userId": "03770692095188133952"
     },
     "user_tz": -420
    },
    "id": "0AHFK0_lsdzh"
   },
   "outputs": [],
   "source": [
    "from sklearn.decomposition import PCA\n",
    "from matplotlib import pyplot as plt"
   ]
  },
  {
   "cell_type": "code",
   "execution_count": 249,
   "metadata": {
    "executionInfo": {
     "elapsed": 955,
     "status": "ok",
     "timestamp": 1610032457668,
     "user": {
      "displayName": "Eraraya Ricardo Muten",
      "photoUrl": "https://lh3.googleusercontent.com/a-/AOh14Ggpw7xw-lyk6u6l92QjpI7MlI7qjJuuciCpwrUd=s64",
      "userId": "03770692095188133952"
     },
     "user_tz": -420
    },
    "id": "CzdxRenYstM_"
   },
   "outputs": [],
   "source": [
    "num_component = 27\n",
    "pca = PCA(n_components=num_component, svd_solver='full')"
   ]
  },
  {
   "cell_type": "code",
   "execution_count": 250,
   "metadata": {
    "colab": {
     "base_uri": "https://localhost:8080/"
    },
    "executionInfo": {
     "elapsed": 1032,
     "status": "ok",
     "timestamp": 1610032458038,
     "user": {
      "displayName": "Eraraya Ricardo Muten",
      "photoUrl": "https://lh3.googleusercontent.com/a-/AOh14Ggpw7xw-lyk6u6l92QjpI7MlI7qjJuuciCpwrUd=s64",
      "userId": "03770692095188133952"
     },
     "user_tz": -420
    },
    "id": "qUHn6-Zvsz2X",
    "outputId": "7683cee8-5d52-490f-ad67-b0fda8c3dec3"
   },
   "outputs": [
    {
     "data": {
      "text/plain": [
       "PCA(n_components=27, svd_solver='full')"
      ]
     },
     "execution_count": 250,
     "metadata": {},
     "output_type": "execute_result"
    }
   ],
   "source": [
    "pca.fit(X_train)"
   ]
  },
  {
   "cell_type": "code",
   "execution_count": 251,
   "metadata": {
    "colab": {
     "base_uri": "https://localhost:8080/"
    },
    "executionInfo": {
     "elapsed": 705,
     "status": "ok",
     "timestamp": 1610032458857,
     "user": {
      "displayName": "Eraraya Ricardo Muten",
      "photoUrl": "https://lh3.googleusercontent.com/a-/AOh14Ggpw7xw-lyk6u6l92QjpI7MlI7qjJuuciCpwrUd=s64",
      "userId": "03770692095188133952"
     },
     "user_tz": -420
    },
    "id": "dyj975-ttIbe",
    "outputId": "99bd5a6a-53f0-4a1b-934d-0e397aff3d99"
   },
   "outputs": [
    {
     "data": {
      "text/plain": [
       "tensor([0.06598013, 0.11492047, 0.15803092, 0.19518663, 0.22648142,\n",
       "        0.25275269, 0.27544559, 0.29570279, 0.3135786 , 0.33097014,\n",
       "        0.34651892, 0.36118011, 0.37465359, 0.38739875, 0.39961056,\n",
       "        0.41139389, 0.42252907, 0.43350089, 0.44429928, 0.45491315,\n",
       "        0.46546446, 0.47564404, 0.48539271, 0.49500004, 0.50421844,\n",
       "        0.51294498, 0.52150831], requires_grad=True)"
      ]
     },
     "execution_count": 251,
     "metadata": {},
     "output_type": "execute_result"
    }
   ],
   "source": [
    "np.cumsum(pca.explained_variance_ratio_)"
   ]
  },
  {
   "cell_type": "code",
   "execution_count": 252,
   "metadata": {
    "executionInfo": {
     "elapsed": 836,
     "status": "ok",
     "timestamp": 1610032460743,
     "user": {
      "displayName": "Eraraya Ricardo Muten",
      "photoUrl": "https://lh3.googleusercontent.com/a-/AOh14Ggpw7xw-lyk6u6l92QjpI7MlI7qjJuuciCpwrUd=s64",
      "userId": "03770692095188133952"
     },
     "user_tz": -420
    },
    "id": "g2Cv6r9utNKg"
   },
   "outputs": [],
   "source": [
    "X_train = pca.transform(X_train)\n",
    "X_test = pca.transform(X_test)"
   ]
  },
  {
   "cell_type": "code",
   "execution_count": 253,
   "metadata": {
    "colab": {
     "base_uri": "https://localhost:8080/"
    },
    "executionInfo": {
     "elapsed": 1345,
     "status": "ok",
     "timestamp": 1610032461574,
     "user": {
      "displayName": "Eraraya Ricardo Muten",
      "photoUrl": "https://lh3.googleusercontent.com/a-/AOh14Ggpw7xw-lyk6u6l92QjpI7MlI7qjJuuciCpwrUd=s64",
      "userId": "03770692095188133952"
     },
     "user_tz": -420
    },
    "id": "ahC8V_QzuDzV",
    "outputId": "f386544f-fbaa-461e-f8de-161b1618e189"
   },
   "outputs": [
    {
     "name": "stdout",
     "output_type": "stream",
     "text": [
      "(1600, 27) (1600,)\n",
      "(400, 27) (400,)\n"
     ]
    }
   ],
   "source": [
    "print(X_train.shape, Y_train.shape)\n",
    "print(X_test.shape, Y_test.shape)"
   ]
  },
  {
   "cell_type": "markdown",
   "metadata": {
    "id": "CoGE5F_Gc7Bp"
   },
   "source": [
    "## Norm"
   ]
  },
  {
   "cell_type": "code",
   "execution_count": 254,
   "metadata": {
    "executionInfo": {
     "elapsed": 1222,
     "status": "ok",
     "timestamp": 1610032463633,
     "user": {
      "displayName": "Eraraya Ricardo Muten",
      "photoUrl": "https://lh3.googleusercontent.com/a-/AOh14Ggpw7xw-lyk6u6l92QjpI7MlI7qjJuuciCpwrUd=s64",
      "userId": "03770692095188133952"
     },
     "user_tz": -420
    },
    "id": "00-l6454QeXB"
   },
   "outputs": [],
   "source": [
    "X_train = (X_train.T / np.sqrt(np.sum(X_train ** 2, -1))).T\n",
    "X_test = (X_test.T / np.sqrt(np.sum(X_test ** 2, -1))).T"
   ]
  },
  {
   "cell_type": "code",
   "execution_count": 255,
   "metadata": {
    "colab": {
     "base_uri": "https://localhost:8080/",
     "height": 284
    },
    "executionInfo": {
     "elapsed": 1028,
     "status": "ok",
     "timestamp": 1610032463633,
     "user": {
      "displayName": "Eraraya Ricardo Muten",
      "photoUrl": "https://lh3.googleusercontent.com/a-/AOh14Ggpw7xw-lyk6u6l92QjpI7MlI7qjJuuciCpwrUd=s64",
      "userId": "03770692095188133952"
     },
     "user_tz": -420
    },
    "id": "voxkEj1BuJB6",
    "outputId": "c856385b-f64d-41c1-a0aa-402d1910420c"
   },
   "outputs": [
    {
     "data": {
      "text/plain": [
       "<matplotlib.collections.PathCollection at 0x7f2490385d30>"
      ]
     },
     "execution_count": 255,
     "metadata": {},
     "output_type": "execute_result"
    },
    {
     "data": {
      "image/png": "[encoded data removed]",
      "text/plain": [
       "<Figure size 432x288 with 1 Axes>"
      ]
     },
     "metadata": {
      "needs_background": "light"
     },
     "output_type": "display_data"
    }
   ],
   "source": [
    "plt.scatter(X_train[:100, 0], X_train[:100, 1])\n",
    "plt.scatter(X_train[100:200, 0], X_train[100:200, 1])\n",
    "plt.scatter(X_train[200:300, 0], X_train[200:300, 1])"
   ]
  },
  {
   "cell_type": "markdown",
   "metadata": {},
   "source": [
    "## Binary Rep"
   ]
  },
  {
   "cell_type": "code",
   "execution_count": 256,
   "metadata": {},
   "outputs": [],
   "source": [
    "def dec2bin(y_class, n_qubit):\n",
    "    temp = bin(y_class).replace('b', '')[1:]\n",
    "    out = np.zeros((n_qubit,))\n",
    "    \n",
    "    if len(temp) > n_qubit:\n",
    "        print(\"Number of qubit can't be lowered than the binary representation of the class decimal number.\")\n",
    "        return None\n",
    "    elif len(temp) < n_qubit:\n",
    "        for i in range(n_qubit-len(temp)):\n",
    "            temp = '0' + temp\n",
    "    \n",
    "    for i in range(len(out)):\n",
    "        out[i] = temp[i]\n",
    "        \n",
    "    return out"
   ]
  },
  {
   "cell_type": "code",
   "execution_count": 257,
   "metadata": {},
   "outputs": [],
   "source": [
    "n_bit_rep = 3\n",
    "\n",
    "Y_train_0 = np.zeros(Y_train.shape)\n",
    "Y_train_1 = np.zeros(Y_train.shape)\n",
    "Y_train_2 = np.zeros(Y_train.shape)\n",
    "\n",
    "for i in range(len(Y_train)):\n",
    "        Y_train_0[i] = dec2bin(Y_train[i], n_bit_rep)[0]\n",
    "        Y_train_1[i] = dec2bin(Y_train[i], n_bit_rep)[1]\n",
    "        Y_train_2[i] = dec2bin(Y_train[i], n_bit_rep)[2]\n",
    "        \n",
    "        \n",
    "    \n",
    "Y_test_0 = np.zeros(Y_test.shape)\n",
    "Y_test_1 = np.zeros(Y_test.shape)\n",
    "Y_test_2 = np.zeros(Y_test.shape)\n",
    "\n",
    "for i in range(len(Y_test)):\n",
    "        Y_test_0[i] = dec2bin(Y_test[i], n_bit_rep)[0]\n",
    "        Y_test_1[i] = dec2bin(Y_test[i], n_bit_rep)[1]\n",
    "        Y_test_2[i] = dec2bin(Y_test[i], n_bit_rep)[2]"
   ]
  },
  {
   "cell_type": "code",
   "execution_count": 258,
   "metadata": {},
   "outputs": [
    {
     "data": {
      "text/plain": [
       "((1600,), (400,))"
      ]
     },
     "execution_count": 258,
     "metadata": {},
     "output_type": "execute_result"
    }
   ],
   "source": [
    "Y_train.shape, Y_test.shape"
   ]
  },
  {
   "cell_type": "code",
   "execution_count": 259,
   "metadata": {},
   "outputs": [
    {
     "data": {
      "text/plain": [
       "tensor([0., 0., 0., 0., 0., 0., 0., 0., 0., 0., 0., 0., 0., 0., 0., 0.,\n",
       "        0., 0., 0., 0., 0., 0., 0., 0., 0., 0., 0., 0., 0., 0., 0., 0.,\n",
       "        0., 0., 0., 0., 0., 0., 0., 0., 0., 0., 0., 0., 0., 0., 0., 0.,\n",
       "        0., 0., 1., 1., 1., 1., 1., 1., 1., 1., 1., 1., 1., 1., 1., 1.,\n",
       "        1., 1., 1., 1., 1., 1., 1., 1., 1., 1., 1., 1., 1., 1., 1., 1.,\n",
       "        1., 1., 1., 1., 1., 1., 1., 1., 1., 1., 1., 1., 1., 1., 1., 1.,\n",
       "        1., 1., 1., 1., 0., 0., 0., 0., 0., 0., 0., 0., 0., 0., 0., 0.,\n",
       "        0., 0., 0., 0., 0., 0., 0., 0., 0., 0., 0., 0., 0., 0., 0., 0.,\n",
       "        0., 0., 0., 0., 0., 0., 0., 0., 0., 0., 0., 0., 0., 0., 0., 0.,\n",
       "        0., 0., 0., 0., 0., 0., 1., 1., 1., 1., 1., 1., 1., 1., 1., 1.,\n",
       "        1., 1., 1., 1., 1., 1., 1., 1., 1., 1., 1., 1., 1., 1., 1., 1.,\n",
       "        1., 1., 1., 1., 1., 1., 1., 1., 1., 1., 1., 1., 1., 1., 1., 1.,\n",
       "        1., 1., 1., 1., 1., 1., 1., 1., 0., 0., 0., 0., 0., 0., 0., 0.,\n",
       "        0., 0., 0., 0., 0., 0., 0., 0., 0., 0., 0., 0., 0., 0., 0., 0.,\n",
       "        0., 0., 0., 0., 0., 0., 0., 0., 0., 0., 0., 0., 0., 0., 0., 0.,\n",
       "        0., 0., 0., 0., 0., 0., 0., 0., 0., 0., 1., 1., 1., 1., 1., 1.,\n",
       "        1., 1., 1., 1., 1., 1., 1., 1., 1., 1., 1., 1., 1., 1., 1., 1.,\n",
       "        1., 1., 1., 1., 1., 1., 1., 1., 1., 1., 1., 1., 1., 1., 1., 1.,\n",
       "        1., 1., 1., 1., 1., 1., 1., 1., 1., 1., 1., 1., 0., 0., 0., 0.,\n",
       "        0., 0., 0., 0., 0., 0., 0., 0., 0., 0., 0., 0., 0., 0., 0., 0.,\n",
       "        0., 0., 0., 0., 0., 0., 0., 0., 0., 0., 0., 0., 0., 0., 0., 0.,\n",
       "        0., 0., 0., 0., 0., 0., 0., 0., 0., 0., 0., 0., 0., 0., 1., 1.,\n",
       "        1., 1., 1., 1., 1., 1., 1., 1., 1., 1., 1., 1., 1., 1., 1., 1.,\n",
       "        1., 1., 1., 1., 1., 1., 1., 1., 1., 1., 1., 1., 1., 1., 1., 1.,\n",
       "        1., 1., 1., 1., 1., 1., 1., 1., 1., 1., 1., 1., 1., 1., 1., 1.], requires_grad=True)"
      ]
     },
     "execution_count": 259,
     "metadata": {},
     "output_type": "execute_result"
    }
   ],
   "source": [
    "Y_test_2"
   ]
  },
  {
   "cell_type": "markdown",
   "metadata": {
    "id": "ytKzDR1JuKub"
   },
   "source": [
    "# Quantum"
   ]
  },
  {
   "cell_type": "code",
   "execution_count": 260,
   "metadata": {
    "executionInfo": {
     "elapsed": 885,
     "status": "ok",
     "timestamp": 1610032467269,
     "user": {
      "displayName": "Eraraya Ricardo Muten",
      "photoUrl": "https://lh3.googleusercontent.com/a-/AOh14Ggpw7xw-lyk6u6l92QjpI7MlI7qjJuuciCpwrUd=s64",
      "userId": "03770692095188133952"
     },
     "user_tz": -420
    },
    "id": "J8PDpZ5IuM0l"
   },
   "outputs": [],
   "source": [
    "import pennylane as qml\n",
    "from pennylane import numpy as np\n",
    "from pennylane.optimize import AdamOptimizer, GradientDescentOptimizer\n",
    "\n",
    "qml.enable_tape()\n",
    "\n",
    "\n",
    "# Set a random seed\n",
    "np.random.seed(42)"
   ]
  },
  {
   "cell_type": "code",
   "execution_count": 261,
   "metadata": {
    "executionInfo": {
     "elapsed": 958,
     "status": "ok",
     "timestamp": 1610047167417,
     "user": {
      "displayName": "Eraraya Ricardo Muten",
      "photoUrl": "https://lh3.googleusercontent.com/a-/AOh14Ggpw7xw-lyk6u6l92QjpI7MlI7qjJuuciCpwrUd=s64",
      "userId": "03770692095188133952"
     },
     "user_tz": -420
    },
    "id": "UvNlkVfXFyHE"
   },
   "outputs": [],
   "source": [
    "# Define output labels as quantum state vectors\n",
    "\n",
    "# def density_matrix(state):\n",
    "#     \"\"\"Calculates the density matrix representation of a state.\n",
    "\n",
    "#     Args:\n",
    "#         state (array[complex]): array representing a quantum state vector\n",
    "\n",
    "#     Returns:\n",
    "#         dm: (array[complex]): array representing the density matrix\n",
    "#     \"\"\"\n",
    "#     return state * np.conj(state).T\n",
    "\n",
    "\n",
    "label_0 = [[1], [0]]\n",
    "label_1 = [[0], [1]]\n",
    "\n",
    "\n",
    "def density_matrix(state):\n",
    "    \"\"\"Calculates the density matrix representation of a state.\n",
    "\n",
    "    Args:\n",
    "        state (array[complex]): array representing a quantum state vector\n",
    "\n",
    "    Returns:\n",
    "        dm: (array[complex]): array representing the density matrix\n",
    "    \"\"\"\n",
    "    return np.outer(state,  np.conj(state))\n",
    "\n",
    "state_labels = [label_0, label_1]\n",
    "#state_labels = np.loadtxt('./tetra_states.txt', dtype=np.complex_)"
   ]
  },
  {
   "cell_type": "code",
   "execution_count": 262,
   "metadata": {},
   "outputs": [
    {
     "data": {
      "text/plain": [
       "2"
      ]
     },
     "execution_count": 262,
     "metadata": {},
     "output_type": "execute_result"
    }
   ],
   "source": [
    "dm_labels = [density_matrix(state_labels[i]) for i in range(2)]\n",
    "len(dm_labels)"
   ]
  },
  {
   "cell_type": "code",
   "execution_count": 263,
   "metadata": {
    "executionInfo": {
     "elapsed": 1193,
     "status": "ok",
     "timestamp": 1610047167914,
     "user": {
      "displayName": "Eraraya Ricardo Muten",
      "photoUrl": "https://lh3.googleusercontent.com/a-/AOh14Ggpw7xw-lyk6u6l92QjpI7MlI7qjJuuciCpwrUd=s64",
      "userId": "03770692095188133952"
     },
     "user_tz": -420
    },
    "id": "2WqqMVHbF2B8"
   },
   "outputs": [],
   "source": [
    "n_qubits = 2\n",
    "dev_fc = qml.device(\"default.qubit\", wires=n_qubits)\n",
    "\n",
    "\n",
    "@qml.qnode(dev_fc)\n",
    "def q_fc(params, inputs):\n",
    "    \"\"\"A variational quantum circuit representing the DRC.\n",
    "\n",
    "    Args:\n",
    "        params (array[float]): array of parameters\n",
    "        inputs = [x, y]\n",
    "        x (array[float]): 1-d input vector\n",
    "        y (array[float]): single output state density matrix\n",
    "\n",
    "    Returns:\n",
    "        float: fidelity between output state and input\n",
    "    \"\"\"\n",
    "    \n",
    "    # layer iteration\n",
    "    for l in range(len(params[0])):\n",
    "        # qubit iteration\n",
    "        for q in range(n_qubits):\n",
    "            # gate iteration\n",
    "            for g in range(int(len(inputs)/3)):\n",
    "                qml.Rot(*(params[0][l][3*g:3*(g+1)] * inputs[3*g:3*(g+1)] + params[1][l][3*g:3*(g+1)]), wires=q)\n",
    "    \n",
    "    return [qml.expval(qml.Hermitian(dm_labels[i], wires=[i])) for i in range(n_qubits)]\n"
   ]
  },
  {
   "cell_type": "code",
   "execution_count": 264,
   "metadata": {},
   "outputs": [
    {
     "data": {
      "text/plain": [
       "(27,)"
      ]
     },
     "execution_count": 264,
     "metadata": {},
     "output_type": "execute_result"
    }
   ],
   "source": [
    "X_train[0].shape"
   ]
  },
  {
   "cell_type": "code",
   "execution_count": 265,
   "metadata": {},
   "outputs": [
    {
     "data": {
      "text/plain": [
       "tensor([0.86113783, 0.13886217], requires_grad=True)"
      ]
     },
     "execution_count": 265,
     "metadata": {},
     "output_type": "execute_result"
    }
   ],
   "source": [
    "a = np.random.uniform(size=(2, 1, 27))\n",
    "\n",
    "q_fc(a, X_train[0])"
   ]
  },
  {
   "cell_type": "code",
   "execution_count": 266,
   "metadata": {},
   "outputs": [],
   "source": [
    "from keras import backend as K\n",
    "\n",
    "\n",
    "# Alpha Custom Layer\n",
    "class class_weights(tf.keras.layers.Layer):\n",
    "    def __init__(self):\n",
    "        super(class_weights, self).__init__()\n",
    "        w_init = tf.random_normal_initializer()\n",
    "        self.w = tf.Variable(\n",
    "            initial_value=w_init(shape=(1, 2), dtype=\"float32\"),\n",
    "            trainable=True,\n",
    "        )\n",
    "\n",
    "    def call(self, inputs):\n",
    "        return (inputs * self.w)"
   ]
  },
  {
   "cell_type": "code",
   "execution_count": 357,
   "metadata": {
    "id": "epPDK5i9hOGH"
   },
   "outputs": [],
   "source": [
    "n_components = 27\n",
    "\n",
    "X = tf.keras.Input(shape=(n_components,), name='Input_Layer')\n",
    "\n",
    "\n",
    "# Quantum FC Layer\n",
    "num_fc_layer = 4\n",
    "q_fc_layer_0 = qml.qnn.KerasLayer(q_fc, {\"params\": (2, num_fc_layer, n_components)}, output_dim=2)(X)\n",
    "q_fc_layer_1 = qml.qnn.KerasLayer(q_fc, {\"params\": (2, num_fc_layer, n_components)}, output_dim=2)(X)\n",
    "q_fc_layer_2 = qml.qnn.KerasLayer(q_fc, {\"params\": (2, num_fc_layer, n_components)}, output_dim=2)(X)\n",
    "\n",
    "# Alpha Layer\n",
    "alpha_layer_0 = class_weights()(q_fc_layer_0)\n",
    "alpha_layer_1 = class_weights()(q_fc_layer_1)\n",
    "alpha_layer_2 = class_weights()(q_fc_layer_2)\n",
    "\n",
    "\n",
    "model_0 = tf.keras.Model(inputs=X, outputs=alpha_layer_0)\n",
    "model_1 = tf.keras.Model(inputs=X, outputs=alpha_layer_1)\n",
    "model_2 = tf.keras.Model(inputs=X, outputs=alpha_layer_2)"
   ]
  },
  {
   "cell_type": "code",
   "execution_count": 358,
   "metadata": {
    "id": "u1ozqS33W66k"
   },
   "outputs": [
    {
     "data": {
      "text/plain": [
       "(<tf.Tensor: shape=(32, 2), dtype=float32, numpy=\n",
       " array([[-0.00616399, -0.03070424],\n",
       "        [-0.00614906, -0.03062987],\n",
       "        [-0.00640828, -0.03192108],\n",
       "        [-0.0063947 , -0.03185343],\n",
       "        [-0.00590221, -0.02940024],\n",
       "        [-0.0062141 , -0.03095382],\n",
       "        [-0.00594578, -0.02961727],\n",
       "        [-0.0060147 , -0.02996057],\n",
       "        [-0.00637253, -0.03174303],\n",
       "        [-0.00632692, -0.03151582],\n",
       "        [-0.0063427 , -0.03159443],\n",
       "        [-0.00600935, -0.02993395],\n",
       "        [-0.00634073, -0.03158462],\n",
       "        [-0.0060937 , -0.03035413],\n",
       "        [-0.00596747, -0.02972532],\n",
       "        [-0.00619348, -0.03085114],\n",
       "        [-0.00607994, -0.03028557],\n",
       "        [-0.00586353, -0.02920758],\n",
       "        [-0.00564657, -0.02812682],\n",
       "        [-0.00639244, -0.03184222],\n",
       "        [-0.00623861, -0.03107595],\n",
       "        [-0.00602815, -0.03002757],\n",
       "        [-0.00590423, -0.02941029],\n",
       "        [-0.00602989, -0.03003626],\n",
       "        [-0.00634798, -0.03162074],\n",
       "        [-0.00596582, -0.02971709],\n",
       "        [-0.00616086, -0.03068866],\n",
       "        [-0.00609946, -0.03038278],\n",
       "        [-0.00612424, -0.03050621],\n",
       "        [-0.00596401, -0.02970811],\n",
       "        [-0.00575148, -0.02864944],\n",
       "        [-0.005874  , -0.02925973]], dtype=float32)>,\n",
       " <tf.Tensor: shape=(32, 2), dtype=float32, numpy=\n",
       " array([[-0.02342519, -0.02554754],\n",
       "        [-0.02363178, -0.02577285],\n",
       "        [-0.02606602, -0.02842763],\n",
       "        [-0.02523753, -0.02752407],\n",
       "        [-0.02062847, -0.02249743],\n",
       "        [-0.01686747, -0.01839568],\n",
       "        [-0.0230971 , -0.02518972],\n",
       "        [-0.01808696, -0.01972565],\n",
       "        [-0.02167922, -0.02364338],\n",
       "        [-0.02350359, -0.02563304],\n",
       "        [-0.02506   , -0.02733046],\n",
       "        [-0.01612992, -0.0175913 ],\n",
       "        [-0.02290701, -0.02498241],\n",
       "        [-0.01952163, -0.02129031],\n",
       "        [-0.0210642 , -0.02297263],\n",
       "        [-0.01998356, -0.02179409],\n",
       "        [-0.02514599, -0.02742425],\n",
       "        [-0.02043168, -0.02228281],\n",
       "        [-0.02151098, -0.02345989],\n",
       "        [-0.02391204, -0.0260785 ],\n",
       "        [-0.0212581 , -0.02318411],\n",
       "        [-0.01900275, -0.02072441],\n",
       "        [-0.01822806, -0.01987954],\n",
       "        [-0.0156062 , -0.01702014],\n",
       "        [-0.01729118, -0.01885778],\n",
       "        [-0.01661688, -0.01812238],\n",
       "        [-0.02056778, -0.02243124],\n",
       "        [-0.01695049, -0.01848622],\n",
       "        [-0.01723827, -0.01880007],\n",
       "        [-0.01801587, -0.01964812],\n",
       "        [-0.02074099, -0.02262014],\n",
       "        [-0.01847166, -0.02014521]], dtype=float32)>,\n",
       " <tf.Tensor: shape=(32, 2), dtype=float32, numpy=\n",
       " array([[0.04210264, 0.0505766 ],\n",
       "        [0.04294188, 0.05158476],\n",
       "        [0.02801225, 0.03365026],\n",
       "        [0.03012696, 0.03619058],\n",
       "        [0.04579832, 0.05501612],\n",
       "        [0.04123972, 0.04954   ],\n",
       "        [0.04614738, 0.05543543],\n",
       "        [0.04269921, 0.05129325],\n",
       "        [0.02707026, 0.03251866],\n",
       "        [0.03831698, 0.04602901],\n",
       "        [0.03427215, 0.04117007],\n",
       "        [0.04203917, 0.05050036],\n",
       "        [0.03187536, 0.03829089],\n",
       "        [0.04412614, 0.05300737],\n",
       "        [0.04465679, 0.05364482],\n",
       "        [0.04487462, 0.0539065 ],\n",
       "        [0.0418683 , 0.0502951 ],\n",
       "        [0.04343522, 0.05217739],\n",
       "        [0.04597086, 0.05522338],\n",
       "        [0.02897479, 0.03480652],\n",
       "        [0.03618291, 0.04346541],\n",
       "        [0.04609843, 0.05537662],\n",
       "        [0.0437515 , 0.05255732],\n",
       "        [0.0477267 , 0.05733261],\n",
       "        [0.03866613, 0.04644843],\n",
       "        [0.04579582, 0.05501311],\n",
       "        [0.0420982 , 0.05057127],\n",
       "        [0.03793719, 0.04557278],\n",
       "        [0.04365299, 0.05243899],\n",
       "        [0.04442904, 0.05337124],\n",
       "        [0.04763966, 0.05722806],\n",
       "        [0.04352004, 0.05227928]], dtype=float32)>)"
      ]
     },
     "execution_count": 358,
     "metadata": {},
     "output_type": "execute_result"
    }
   ],
   "source": [
    "model_0(X_train[0:32]), model_1(X_train[0:32]), model_2(X_train[0:32])"
   ]
  },
  {
   "cell_type": "code",
   "execution_count": 359,
   "metadata": {},
   "outputs": [],
   "source": [
    "lr_schedule = tf.keras.optimizers.schedules.ExponentialDecay(\n",
    "    initial_learning_rate=0.1,\n",
    "    decay_steps=int(len(X_train)/32),\n",
    "    decay_rate=0.95,\n",
    "    staircase=True)"
   ]
  },
  {
   "cell_type": "code",
   "execution_count": 360,
   "metadata": {},
   "outputs": [
    {
     "name": "stdout",
     "output_type": "stream",
     "text": [
      "0.1\n",
      "0.095\n",
      "0.09025\n",
      "0.0857375\n",
      "0.081450625\n",
      "0.07737809374999999\n",
      "0.07350918906249998\n",
      "0.06983372960937498\n",
      "0.06634204312890622\n",
      "0.0630249409724609\n"
     ]
    }
   ],
   "source": [
    "for i in range(10):\n",
    "    print(0.1* ((0.95)**i))"
   ]
  },
  {
   "cell_type": "code",
   "execution_count": 361,
   "metadata": {
    "id": "YE2m-zLeNVWD"
   },
   "outputs": [],
   "source": [
    "opt_0 = tf.keras.optimizers.Adam(learning_rate=lr_schedule)\n",
    "opt_1 = tf.keras.optimizers.Adam(learning_rate=lr_schedule)\n",
    "opt_2 = tf.keras.optimizers.Adam(learning_rate=lr_schedule)\n",
    "\n",
    "\n",
    "model_0.compile(opt_0, loss='mse', metrics=[\"accuracy\"])\n",
    "model_1.compile(opt_1, loss='mse', metrics=[\"accuracy\"])\n",
    "model_2.compile(opt_2, loss='mse', metrics=[\"accuracy\"])"
   ]
  },
  {
   "cell_type": "code",
   "execution_count": 279,
   "metadata": {},
   "outputs": [],
   "source": [
    "cp_val_acc = tf.keras.callbacks.ModelCheckpoint(filepath=\"./Model/8_2_PCA_QFC_BinRep_val_acc.hdf5\",\n",
    "                monitor='val_accuracy', verbose=1, save_weights_only=True, save_best_only=True, mode='max')\n",
    "\n",
    "cp_val_loss = tf.keras.callbacks.ModelCheckpoint(filepath=\"./Model/8_2_PCA_QFC_BinRep_val_loss.hdf5\",\n",
    "                monitor='val_loss', verbose=1, save_weights_only=True, save_best_only=True, mode='min')"
   ]
  },
  {
   "cell_type": "code",
   "execution_count": 280,
   "metadata": {},
   "outputs": [
    {
     "name": "stdout",
     "output_type": "stream",
     "text": [
      "Epoch 1/10\n",
      "25/25 [==============================] - 4917s 197s/step - loss: 0.3579 - accuracy: 0.5284 - val_loss: 0.1996 - val_accuracy: 0.6975\n",
      "\n",
      "Epoch 00001: val_accuracy improved from -inf to 0.69750, saving model to ./Model/8_2_PCA_QFC_BinRep_val_acc.hdf5\n",
      "\n",
      "Epoch 00001: val_loss improved from inf to 0.19960, saving model to ./Model/8_2_PCA_QFC_BinRep_val_loss.hdf5\n",
      "Epoch 2/10\n",
      "25/25 [==============================] - 4948s 198s/step - loss: 0.1209 - accuracy: 0.8441 - val_loss: 0.1024 - val_accuracy: 0.8725\n",
      "\n",
      "Epoch 00002: val_accuracy improved from 0.69750 to 0.87250, saving model to ./Model/8_2_PCA_QFC_BinRep_val_acc.hdf5\n",
      "\n",
      "Epoch 00002: val_loss improved from 0.19960 to 0.10240, saving model to ./Model/8_2_PCA_QFC_BinRep_val_loss.hdf5\n",
      "Epoch 3/10\n",
      "25/25 [==============================] - 4941s 198s/step - loss: 0.0750 - accuracy: 0.9070 - val_loss: 0.0812 - val_accuracy: 0.8950\n",
      "\n",
      "Epoch 00003: val_accuracy improved from 0.87250 to 0.89500, saving model to ./Model/8_2_PCA_QFC_BinRep_val_acc.hdf5\n",
      "\n",
      "Epoch 00003: val_loss improved from 0.10240 to 0.08124, saving model to ./Model/8_2_PCA_QFC_BinRep_val_loss.hdf5\n",
      "Epoch 4/10\n",
      "25/25 [==============================] - 4931s 197s/step - loss: 0.0602 - accuracy: 0.9317 - val_loss: 0.0619 - val_accuracy: 0.9275\n",
      "\n",
      "Epoch 00004: val_accuracy improved from 0.89500 to 0.92750, saving model to ./Model/8_2_PCA_QFC_BinRep_val_acc.hdf5\n",
      "\n",
      "Epoch 00004: val_loss improved from 0.08124 to 0.06189, saving model to ./Model/8_2_PCA_QFC_BinRep_val_loss.hdf5\n",
      "Epoch 5/10\n",
      "25/25 [==============================] - 4848s 194s/step - loss: 0.0491 - accuracy: 0.9464 - val_loss: 0.0633 - val_accuracy: 0.9325\n",
      "\n",
      "Epoch 00005: val_accuracy improved from 0.92750 to 0.93250, saving model to ./Model/8_2_PCA_QFC_BinRep_val_acc.hdf5\n",
      "\n",
      "Epoch 00005: val_loss did not improve from 0.06189\n",
      "Epoch 6/10\n",
      "25/25 [==============================] - 4860s 194s/step - loss: 0.0490 - accuracy: 0.9555 - val_loss: 0.0621 - val_accuracy: 0.9275\n",
      "\n",
      "Epoch 00006: val_accuracy did not improve from 0.93250\n",
      "\n",
      "Epoch 00006: val_loss did not improve from 0.06189\n",
      "Epoch 7/10\n",
      "25/25 [==============================] - 4883s 195s/step - loss: 0.0505 - accuracy: 0.9459 - val_loss: 0.0627 - val_accuracy: 0.9350\n",
      "\n",
      "Epoch 00007: val_accuracy improved from 0.93250 to 0.93500, saving model to ./Model/8_2_PCA_QFC_BinRep_val_acc.hdf5\n",
      "\n",
      "Epoch 00007: val_loss did not improve from 0.06189\n",
      "Epoch 8/10\n",
      "25/25 [==============================] - 4897s 196s/step - loss: 0.0436 - accuracy: 0.9585 - val_loss: 0.0555 - val_accuracy: 0.9400\n",
      "\n",
      "Epoch 00008: val_accuracy improved from 0.93500 to 0.94000, saving model to ./Model/8_2_PCA_QFC_BinRep_val_acc.hdf5\n",
      "\n",
      "Epoch 00008: val_loss improved from 0.06189 to 0.05547, saving model to ./Model/8_2_PCA_QFC_BinRep_val_loss.hdf5\n",
      "Epoch 9/10\n",
      "25/25 [==============================] - 4886s 196s/step - loss: 0.0432 - accuracy: 0.9585 - val_loss: 0.0578 - val_accuracy: 0.9375\n",
      "\n",
      "Epoch 00009: val_accuracy did not improve from 0.94000\n",
      "\n",
      "Epoch 00009: val_loss did not improve from 0.05547\n",
      "Epoch 10/10\n",
      "25/25 [==============================] - 4854s 194s/step - loss: 0.0420 - accuracy: 0.9631 - val_loss: 0.0490 - val_accuracy: 0.9575\n",
      "\n",
      "Epoch 00010: val_accuracy improved from 0.94000 to 0.95750, saving model to ./Model/8_2_PCA_QFC_BinRep_val_acc.hdf5\n",
      "\n",
      "Epoch 00010: val_loss improved from 0.05547 to 0.04897, saving model to ./Model/8_2_PCA_QFC_BinRep_val_loss.hdf5\n"
     ]
    }
   ],
   "source": [
    "H_2 = model_2.fit(X_train, to_categorical(Y_train_2), epochs=10, batch_size=64, initial_epoch=0,\n",
    "              validation_data=(X_test, to_categorical(Y_test_2)), verbose=1,\n",
    "              callbacks=[cp_val_acc, cp_val_loss])"
   ]
  },
  {
   "cell_type": "code",
   "execution_count": 313,
   "metadata": {},
   "outputs": [],
   "source": [
    "model_2.load_weights('./Model/8_2_PCA_QFC_BinRep_val_acc.hdf5')"
   ]
  },
  {
   "cell_type": "code",
   "execution_count": 314,
   "metadata": {},
   "outputs": [
    {
     "data": {
      "text/plain": [
       "[<tf.Variable 'model_43/keras_layer_33/params:0' shape=(2, 4, 27) dtype=float32, numpy=\n",
       " array([[[ 0.25238508, -1.283565  ,  1.4758877 ,  1.0936497 ,\n",
       "           1.6707364 ,  0.04033105, -0.23157464, -0.74435776,\n",
       "          -0.01216206,  0.12423605, -0.6545662 , -0.9702287 ,\n",
       "           0.38811305,  0.02621555,  0.9926866 ,  1.2411599 ,\n",
       "          -1.5134276 , -1.3260348 ,  0.6526208 , -0.07668146,\n",
       "           0.5107885 , -0.0971964 , -0.25805223,  0.6784882 ,\n",
       "          -0.33452755,  0.3223217 ,  0.8651965 ],\n",
       "         [ 1.5939548 , -1.7591078 ,  1.0502827 , -0.9801683 ,\n",
       "           0.23853745, -1.1927123 , -1.0582882 , -0.6004686 ,\n",
       "           0.722694  , -1.3746912 , -1.2787397 ,  0.4410289 ,\n",
       "           1.0183585 ,  0.19497451, -0.56488156,  0.3876605 ,\n",
       "           0.5895367 ,  0.9255495 ,  0.31125093,  0.620908  ,\n",
       "           0.27656588,  0.82624966, -0.84203106, -0.70228755,\n",
       "          -0.2568844 , -0.65351015, -1.4243661 ],\n",
       "         [ 1.4805379 ,  0.5782921 ,  1.1803944 ,  1.3369706 ,\n",
       "           1.1923565 , -0.8520251 ,  1.6142409 , -1.3407493 ,\n",
       "          -0.0224105 , -0.56530684,  0.74673027,  0.09010798,\n",
       "          -0.15470746, -1.0716372 , -0.24121143, -0.06950819,\n",
       "           0.8861834 , -1.0120331 ,  1.6633034 , -1.0660903 ,\n",
       "           1.1489153 ,  0.19870222,  0.39089805, -1.2592713 ,\n",
       "           0.40117478,  0.25680915, -0.47385713],\n",
       "         [ 0.6816693 , -0.8193629 ,  0.3515519 , -1.5145577 ,\n",
       "          -1.345594  , -0.03347336,  1.1329334 ,  0.32284987,\n",
       "           0.69572586, -0.22648515, -0.2967536 , -0.24852224,\n",
       "          -0.06209766, -0.6052295 ,  0.05322878,  0.7002158 ,\n",
       "           0.6789426 , -0.08089218,  1.597369  ,  0.42995948,\n",
       "          -2.065793  , -1.8819402 , -0.96567166,  0.7008939 ,\n",
       "           0.31024018,  0.0143203 , -0.03012915]],\n",
       " \n",
       "        [[-0.26043844, -1.2671397 , -0.7665562 , -0.73454547,\n",
       "          -0.42687955, -0.79005   , -0.57044035,  0.5670234 ,\n",
       "          -0.559065  , -0.8337233 ,  1.013581  , -0.02374453,\n",
       "           0.03969347,  0.86406994,  0.28789476,  0.68236756,\n",
       "          -0.36544892,  0.20712064,  0.13319191,  0.60051477,\n",
       "           1.0777447 ,  0.50482   ,  0.336632  ,  0.6373108 ,\n",
       "           0.77764106,  0.40643722,  0.99333715],\n",
       "         [ 1.1036165 ,  0.6670855 ,  0.67230606,  0.8417209 ,\n",
       "           0.6456138 ,  0.36344486,  0.4842049 ,  0.3734067 ,\n",
       "           0.4754484 ,  0.3984084 ,  0.5505004 ,  0.2962076 ,\n",
       "           0.35596478,  0.90170497,  0.6515702 ,  0.7272806 ,\n",
       "           0.2928053 ,  0.54658663,  0.86133146,  0.11383731,\n",
       "           0.66123146,  0.9329444 ,  0.2791378 ,  0.943679  ,\n",
       "           0.37846708,  0.3151309 ,  0.93080616],\n",
       "         [ 0.3823371 ,  0.5620422 ,  0.55613446,  0.52434295,\n",
       "           0.43008015,  0.7603879 ,  0.6435362 ,  1.019311  ,\n",
       "           0.5060591 ,  0.46195886,  0.08382669,  0.49996784,\n",
       "           0.4807167 , -0.15241747,  0.77641803,  0.9427268 ,\n",
       "           0.34767705,  0.09356961,  0.5384434 ,  0.8822416 ,\n",
       "           0.38823062,  0.41094044,  0.59441495,  0.35334036,\n",
       "           0.3434653 ,  0.64545953,  0.55594206],\n",
       "         [ 0.58141035, -0.5284905 , -0.00234824,  0.5088091 ,\n",
       "          -0.6456302 ,  0.25684038,  0.05738287, -0.22091906,\n",
       "           0.1332204 ,  0.22355305, -0.6197434 ,  0.07781659,\n",
       "           0.24501814, -0.42512515,  0.44368127,  0.44276303,\n",
       "          -0.79923046,  0.54066217,  0.03367746, -0.27332   ,\n",
       "           0.16291821,  0.27121952, -0.016491  ,  0.5335153 ,\n",
       "           0.6548672 , -0.42493576, -0.25305215]]], dtype=float32)>,\n",
       " <tf.Variable 'Variable:0' shape=(1, 2) dtype=float32, numpy=array([[1.0735792, 1.046872 ]], dtype=float32)>]"
      ]
     },
     "execution_count": 314,
     "metadata": {},
     "output_type": "execute_result"
    }
   ],
   "source": [
    "model_2.weights"
   ]
  },
  {
   "cell_type": "code",
   "execution_count": 283,
   "metadata": {},
   "outputs": [
    {
     "data": {
      "text/plain": [
       "{'loss': [0.2854771316051483,\n",
       "  0.10520904511213303,\n",
       "  0.07230360805988312,\n",
       "  0.06191030517220497,\n",
       "  0.05034208670258522,\n",
       "  0.05369241163134575,\n",
       "  0.04711979255080223,\n",
       "  0.046486977487802505,\n",
       "  0.04788347706198692,\n",
       "  0.047786399722099304],\n",
       " 'accuracy': [0.6006249785423279,\n",
       "  0.8693749904632568,\n",
       "  0.9125000238418579,\n",
       "  0.9300000071525574,\n",
       "  0.9418749809265137,\n",
       "  0.9456250071525574,\n",
       "  0.953125,\n",
       "  0.9543750286102295,\n",
       "  0.9524999856948853,\n",
       "  0.9574999809265137],\n",
       " 'val_loss': [0.19960369169712067,\n",
       "  0.10240485519170761,\n",
       "  0.08124461024999619,\n",
       "  0.061885666102170944,\n",
       "  0.06332631409168243,\n",
       "  0.06206800788640976,\n",
       "  0.0626944750547409,\n",
       "  0.05547158792614937,\n",
       "  0.05775770545005798,\n",
       "  0.048971034586429596],\n",
       " 'val_accuracy': [0.6974999904632568,\n",
       "  0.8725000023841858,\n",
       "  0.8949999809265137,\n",
       "  0.9275000095367432,\n",
       "  0.9325000047683716,\n",
       "  0.9275000095367432,\n",
       "  0.9350000023841858,\n",
       "  0.9399999976158142,\n",
       "  0.9375,\n",
       "  0.9574999809265137]}"
      ]
     },
     "execution_count": 283,
     "metadata": {},
     "output_type": "execute_result"
    }
   ],
   "source": [
    "H_2.history"
   ]
  },
  {
   "cell_type": "code",
   "execution_count": 294,
   "metadata": {},
   "outputs": [],
   "source": [
    "cp_val_acc = tf.keras.callbacks.ModelCheckpoint(filepath=\"./Model/8_1_PCA_QFC_BinRep_val_acc.hdf5\",\n",
    "                monitor='val_accuracy', verbose=1, save_weights_only=True, save_best_only=True, mode='max')\n",
    "\n",
    "cp_val_loss = tf.keras.callbacks.ModelCheckpoint(filepath=\"./Model/8_1_PCA_QFC_BinRep_val_loss.hdf5\",\n",
    "                monitor='val_loss', verbose=1, save_weights_only=True, save_best_only=True, mode='min')"
   ]
  },
  {
   "cell_type": "code",
   "execution_count": 295,
   "metadata": {},
   "outputs": [
    {
     "name": "stdout",
     "output_type": "stream",
     "text": [
      "Epoch 1/10\n",
      "25/25 [==============================] - 5103s 204s/step - loss: 0.3477 - accuracy: 0.5750 - val_loss: 0.1877 - val_accuracy: 0.7675\n",
      "\n",
      "Epoch 00001: val_accuracy improved from -inf to 0.76750, saving model to ./Model/8_1_PCA_QFC_BinRep_val_acc.hdf5\n",
      "\n",
      "Epoch 00001: val_loss improved from inf to 0.18765, saving model to ./Model/8_1_PCA_QFC_BinRep_val_loss.hdf5\n",
      "Epoch 2/10\n",
      "25/25 [==============================] - 5335s 214s/step - loss: 0.1795 - accuracy: 0.7362 - val_loss: 0.1576 - val_accuracy: 0.7950\n",
      "\n",
      "Epoch 00002: val_accuracy improved from 0.76750 to 0.79500, saving model to ./Model/8_1_PCA_QFC_BinRep_val_acc.hdf5\n",
      "\n",
      "Epoch 00002: val_loss improved from 0.18765 to 0.15757, saving model to ./Model/8_1_PCA_QFC_BinRep_val_loss.hdf5\n",
      "Epoch 3/10\n",
      "25/25 [==============================] - 5174s 207s/step - loss: 0.1254 - accuracy: 0.8412 - val_loss: 0.1004 - val_accuracy: 0.8900\n",
      "\n",
      "Epoch 00003: val_accuracy improved from 0.79500 to 0.89000, saving model to ./Model/8_1_PCA_QFC_BinRep_val_acc.hdf5\n",
      "\n",
      "Epoch 00003: val_loss improved from 0.15757 to 0.10041, saving model to ./Model/8_1_PCA_QFC_BinRep_val_loss.hdf5\n",
      "Epoch 4/10\n",
      "25/25 [==============================] - 5292s 212s/step - loss: 0.0857 - accuracy: 0.9033 - val_loss: 0.1100 - val_accuracy: 0.8500\n",
      "\n",
      "Epoch 00004: val_accuracy did not improve from 0.89000\n",
      "\n",
      "Epoch 00004: val_loss did not improve from 0.10041\n",
      "Epoch 5/10\n",
      "25/25 [==============================] - 5190s 208s/step - loss: 0.1075 - accuracy: 0.8498 - val_loss: 0.0920 - val_accuracy: 0.8725\n",
      "\n",
      "Epoch 00005: val_accuracy did not improve from 0.89000\n",
      "\n",
      "Epoch 00005: val_loss improved from 0.10041 to 0.09205, saving model to ./Model/8_1_PCA_QFC_BinRep_val_loss.hdf5\n",
      "Epoch 6/10\n",
      "25/25 [==============================] - 5224s 209s/step - loss: 0.0758 - accuracy: 0.9122 - val_loss: 0.0923 - val_accuracy: 0.8875\n",
      "\n",
      "Epoch 00006: val_accuracy did not improve from 0.89000\n",
      "\n",
      "Epoch 00006: val_loss did not improve from 0.09205\n",
      "Epoch 7/10\n",
      "25/25 [==============================] - 5238s 210s/step - loss: 0.0687 - accuracy: 0.9214 - val_loss: 0.0799 - val_accuracy: 0.9150\n",
      "\n",
      "Epoch 00007: val_accuracy improved from 0.89000 to 0.91500, saving model to ./Model/8_1_PCA_QFC_BinRep_val_acc.hdf5\n",
      "\n",
      "Epoch 00007: val_loss improved from 0.09205 to 0.07992, saving model to ./Model/8_1_PCA_QFC_BinRep_val_loss.hdf5\n",
      "Epoch 8/10\n",
      "25/25 [==============================] - 5238s 210s/step - loss: 0.0649 - accuracy: 0.9315 - val_loss: 0.0614 - val_accuracy: 0.9400\n",
      "\n",
      "Epoch 00008: val_accuracy improved from 0.91500 to 0.94000, saving model to ./Model/8_1_PCA_QFC_BinRep_val_acc.hdf5\n",
      "\n",
      "Epoch 00008: val_loss improved from 0.07992 to 0.06145, saving model to ./Model/8_1_PCA_QFC_BinRep_val_loss.hdf5\n",
      "Epoch 9/10\n",
      "25/25 [==============================] - 5194s 208s/step - loss: 0.0566 - accuracy: 0.9422 - val_loss: 0.0957 - val_accuracy: 0.8950\n",
      "\n",
      "Epoch 00009: val_accuracy did not improve from 0.94000\n",
      "\n",
      "Epoch 00009: val_loss did not improve from 0.06145\n",
      "Epoch 10/10\n",
      "25/25 [==============================] - 5182s 207s/step - loss: 0.0716 - accuracy: 0.9217 - val_loss: 0.0715 - val_accuracy: 0.9150\n",
      "\n",
      "Epoch 00010: val_accuracy did not improve from 0.94000\n",
      "\n",
      "Epoch 00010: val_loss did not improve from 0.06145\n"
     ]
    }
   ],
   "source": [
    "H_1 = model_1.fit(X_train, to_categorical(Y_train_1), epochs=10, batch_size=64, initial_epoch=0,\n",
    "              validation_data=(X_test, to_categorical(Y_test_1)), verbose=1,\n",
    "              callbacks=[cp_val_acc, cp_val_loss])"
   ]
  },
  {
   "cell_type": "code",
   "execution_count": 298,
   "metadata": {},
   "outputs": [
    {
     "data": {
      "text/plain": [
       "{'loss': [0.2944835126399994,\n",
       "  0.16260360181331635,\n",
       "  0.11242345720529556,\n",
       "  0.08996044099330902,\n",
       "  0.09635312110185623,\n",
       "  0.07557286322116852,\n",
       "  0.07336161285638809,\n",
       "  0.06519541889429092,\n",
       "  0.059850968420505524,\n",
       "  0.06976080685853958],\n",
       " 'accuracy': [0.5918750166893005,\n",
       "  0.7668750286102295,\n",
       "  0.8581249713897705,\n",
       "  0.8924999833106995,\n",
       "  0.871874988079071,\n",
       "  0.9131249785423279,\n",
       "  0.9200000166893005,\n",
       "  0.9325000047683716,\n",
       "  0.9362499713897705,\n",
       "  0.9212499856948853],\n",
       " 'val_loss': [0.18765108287334442,\n",
       "  0.15756896138191223,\n",
       "  0.10040968656539917,\n",
       "  0.10998449474573135,\n",
       "  0.09204897284507751,\n",
       "  0.09230255335569382,\n",
       "  0.07991590350866318,\n",
       "  0.061447035521268845,\n",
       "  0.09571236371994019,\n",
       "  0.07150525599718094],\n",
       " 'val_accuracy': [0.7674999833106995,\n",
       "  0.7950000166893005,\n",
       "  0.8899999856948853,\n",
       "  0.8500000238418579,\n",
       "  0.8725000023841858,\n",
       "  0.887499988079071,\n",
       "  0.9150000214576721,\n",
       "  0.9399999976158142,\n",
       "  0.8949999809265137,\n",
       "  0.9150000214576721]}"
      ]
     },
     "execution_count": 298,
     "metadata": {},
     "output_type": "execute_result"
    }
   ],
   "source": [
    "H_1.history"
   ]
  },
  {
   "cell_type": "code",
   "execution_count": 299,
   "metadata": {},
   "outputs": [],
   "source": [
    "model_1.load_weights('./Model/8_1_PCA_QFC_BinRep_val_acc.hdf5')"
   ]
  },
  {
   "cell_type": "code",
   "execution_count": 300,
   "metadata": {},
   "outputs": [
    {
     "data": {
      "text/plain": [
       "[<tf.Variable 'model_42/keras_layer_32/params:0' shape=(2, 4, 27) dtype=float32, numpy=\n",
       " array([[[ 2.13561803e-01,  7.04369843e-01, -7.41668046e-01,\n",
       "          -2.47792912e+00, -7.35521019e-01,  2.42834067e+00,\n",
       "          -2.29163289e+00, -7.02798665e-02,  2.77989686e-01,\n",
       "          -1.87277973e+00, -9.62997615e-01, -2.47386526e-02,\n",
       "          -1.57331479e+00,  1.47493351e+00, -9.08603251e-01,\n",
       "          -1.70755178e-01,  1.47408926e+00, -4.73341011e-02,\n",
       "           8.03774416e-01, -1.31202328e+00, -3.04269016e-01,\n",
       "          -3.45121711e-01, -5.06858587e-01,  9.85353649e-01,\n",
       "           6.53059006e-01,  2.31403902e-01, -6.72540545e-01],\n",
       "         [ 1.91255665e+00,  4.48507041e-01, -2.73740029e+00,\n",
       "          -1.01107252e+00,  2.98072875e-01, -2.76256895e+00,\n",
       "           5.40756583e-01,  1.89853477e+00, -1.96850085e+00,\n",
       "           4.61575985e-01,  6.75956607e-01,  1.15147948e+00,\n",
       "           5.28609276e-01,  9.84429836e-01, -5.55440485e-01,\n",
       "           7.53358781e-01, -6.32270455e-01,  2.37090215e-01,\n",
       "          -3.65454331e-02,  2.04081342e-01,  4.53795612e-01,\n",
       "           1.01887858e+00,  1.96423754e-03,  5.65176070e-01,\n",
       "          -4.10666466e-01, -1.74742088e-01, -1.62265420e-01],\n",
       "         [ 1.36360085e+00, -1.53756058e+00,  1.47258782e+00,\n",
       "           3.04700685e+00,  1.18540001e+00, -6.41015053e-01,\n",
       "           1.37487292e+00,  3.81245941e-01,  1.08337313e-01,\n",
       "          -1.23865497e+00,  4.39883113e-01,  7.91129589e-01,\n",
       "           7.27589130e-01, -1.34648335e+00,  1.92124307e+00,\n",
       "          -1.28628492e-01,  6.37319326e-01, -5.38911223e-01,\n",
       "          -1.48334742e+00,  2.24371497e-02, -6.65140748e-01,\n",
       "           2.17974916e-01,  4.82839853e-01, -6.11905992e-01,\n",
       "           1.52840734e-01, -6.30289257e-01,  6.89226985e-01],\n",
       "         [ 4.18222010e-01,  9.88358706e-02, -1.99718654e+00,\n",
       "           1.57420814e+00,  2.15461552e-01,  6.74749911e-03,\n",
       "          -1.44543755e+00, -5.11128783e-01,  9.50636029e-01,\n",
       "           5.43830156e-01, -4.69606042e-01, -7.12640643e-01,\n",
       "          -7.38102853e-01, -1.16969287e+00,  1.99917436e+00,\n",
       "           1.60150707e+00,  6.38269365e-01,  8.37425530e-01,\n",
       "          -1.91848755e-01, -7.62752146e-02, -6.35098636e-01,\n",
       "           1.73193097e+00, -8.41753483e-02,  7.78824314e-02,\n",
       "          -2.63326824e-01, -5.86004257e-01,  2.61479408e-01]],\n",
       " \n",
       "        [[ 2.04339892e-01,  4.83131148e-02,  7.08388209e-01,\n",
       "           1.23199916e+00, -1.57691419e-01,  4.04596537e-01,\n",
       "           3.51291835e-01, -2.09155902e-01,  7.22112283e-02,\n",
       "           2.12243572e-01,  1.38608232e-01, -3.88999097e-02,\n",
       "          -4.13588481e-03, -2.02697307e-01,  3.75157446e-01,\n",
       "           1.33023456e-01, -1.51307613e-01,  2.18176991e-01,\n",
       "           2.44312659e-01, -7.00950325e-01,  1.40473247e-01,\n",
       "           2.83694677e-02, -6.84125125e-01, -1.40360385e-01,\n",
       "          -1.04750395e-02, -6.60943031e-01,  2.60479093e-01],\n",
       "         [ 3.52862738e-02, -1.32135105e+00, -4.44280095e-02,\n",
       "           2.60653883e-01, -7.81865776e-01, -3.49414736e-01,\n",
       "           2.24076942e-01, -2.47330949e-01,  1.99313909e-01,\n",
       "          -2.63107195e-02,  2.53654838e-01, -9.20381248e-02,\n",
       "          -1.84706658e-01,  2.61187375e-01,  2.44364798e-01,\n",
       "          -5.18465415e-03,  3.46821696e-01, -1.18699409e-01,\n",
       "           2.60794401e-01, -6.11011907e-02,  3.70092183e-01,\n",
       "           3.73037457e-01,  1.08811550e-01,  1.67358264e-01,\n",
       "           5.10703623e-01,  2.31072739e-01,  1.51262909e-01],\n",
       "         [ 3.01454902e-01,  4.08118963e-01, -2.21793354e-01,\n",
       "          -7.77120516e-02,  3.03981896e-03,  2.92164177e-01,\n",
       "           2.06238121e-01,  1.96191385e-01,  2.39537835e-01,\n",
       "           4.02426034e-01,  4.01236027e-01,  1.40337702e-02,\n",
       "           1.72683716e-01,  7.92212188e-02, -4.74936008e-01,\n",
       "          -4.98669803e-01,  1.02664672e-01, -3.17277551e-01,\n",
       "          -2.99901903e-01, -1.18644878e-01, -9.00180265e-02,\n",
       "          -2.08723351e-01,  1.54371724e-01,  4.88565080e-02,\n",
       "          -3.32386434e-01,  6.67890720e-03,  2.29531288e-01],\n",
       "         [ 8.67671967e-02,  2.68156696e-02, -2.42526650e-01,\n",
       "          -2.79513150e-01,  1.89668342e-01,  2.61452019e-01,\n",
       "           1.38238683e-01, -1.19429141e-01,  8.72376338e-02,\n",
       "           1.70015059e-02, -1.24053873e-01,  1.90764666e-01,\n",
       "          -4.02729772e-02,  1.99198145e-02,  2.89305091e-01,\n",
       "          -1.03046291e-01,  3.18677612e-02, -2.96460778e-01,\n",
       "          -2.97945112e-01, -2.62596965e-01, -3.43904197e-01,\n",
       "          -2.21060023e-01,  6.47366047e-02, -4.96322393e-01,\n",
       "          -4.81373459e-01, -7.40604401e-02,  7.49188885e-02]]],\n",
       "       dtype=float32)>,\n",
       " <tf.Variable 'Variable:0' shape=(1, 2) dtype=float32, numpy=array([[1.0620067, 1.0771455]], dtype=float32)>]"
      ]
     },
     "execution_count": 300,
     "metadata": {},
     "output_type": "execute_result"
    }
   ],
   "source": [
    "model_1.weights"
   ]
  },
  {
   "cell_type": "code",
   "execution_count": 296,
   "metadata": {},
   "outputs": [],
   "source": [
    "cp_val_acc = tf.keras.callbacks.ModelCheckpoint(filepath=\"./Model/8_0_PCA_QFC_BinRep_val_acc.hdf5\",\n",
    "                monitor='val_accuracy', verbose=1, save_weights_only=True, save_best_only=True, mode='max')\n",
    "\n",
    "cp_val_loss = tf.keras.callbacks.ModelCheckpoint(filepath=\"./Model/8_0_PCA_QFC_BinRep_val_loss.hdf5\",\n",
    "                monitor='val_loss', verbose=1, save_weights_only=True, save_best_only=True, mode='min')"
   ]
  },
  {
   "cell_type": "code",
   "execution_count": 297,
   "metadata": {},
   "outputs": [
    {
     "name": "stdout",
     "output_type": "stream",
     "text": [
      "Epoch 1/10\n",
      "25/25 [==============================] - 5154s 206s/step - loss: 0.3509 - accuracy: 0.5156 - val_loss: 0.1529 - val_accuracy: 0.7900\n",
      "\n",
      "Epoch 00001: val_accuracy improved from -inf to 0.79000, saving model to ./Model/8_0_PCA_QFC_BinRep_val_acc.hdf5\n",
      "\n",
      "Epoch 00001: val_loss improved from inf to 0.15292, saving model to ./Model/8_0_PCA_QFC_BinRep_val_loss.hdf5\n",
      "Epoch 2/10\n",
      "25/25 [==============================] - 5150s 206s/step - loss: 0.1257 - accuracy: 0.8337 - val_loss: 0.1100 - val_accuracy: 0.8650\n",
      "\n",
      "Epoch 00002: val_accuracy improved from 0.79000 to 0.86500, saving model to ./Model/8_0_PCA_QFC_BinRep_val_acc.hdf5\n",
      "\n",
      "Epoch 00002: val_loss improved from 0.15292 to 0.10996, saving model to ./Model/8_0_PCA_QFC_BinRep_val_loss.hdf5\n",
      "Epoch 3/10\n",
      "25/25 [==============================] - 5201s 208s/step - loss: 0.0853 - accuracy: 0.8889 - val_loss: 0.0715 - val_accuracy: 0.9075\n",
      "\n",
      "Epoch 00003: val_accuracy improved from 0.86500 to 0.90750, saving model to ./Model/8_0_PCA_QFC_BinRep_val_acc.hdf5\n",
      "\n",
      "Epoch 00003: val_loss improved from 0.10996 to 0.07146, saving model to ./Model/8_0_PCA_QFC_BinRep_val_loss.hdf5\n",
      "Epoch 4/10\n",
      "25/25 [==============================] - 5239s 210s/step - loss: 0.0636 - accuracy: 0.9263 - val_loss: 0.0906 - val_accuracy: 0.8775\n",
      "\n",
      "Epoch 00004: val_accuracy did not improve from 0.90750\n",
      "\n",
      "Epoch 00004: val_loss did not improve from 0.07146\n",
      "Epoch 5/10\n",
      "25/25 [==============================] - 5293s 212s/step - loss: 0.0767 - accuracy: 0.9163 - val_loss: 0.0709 - val_accuracy: 0.9200\n",
      "\n",
      "Epoch 00005: val_accuracy improved from 0.90750 to 0.92000, saving model to ./Model/8_0_PCA_QFC_BinRep_val_acc.hdf5\n",
      "\n",
      "Epoch 00005: val_loss improved from 0.07146 to 0.07090, saving model to ./Model/8_0_PCA_QFC_BinRep_val_loss.hdf5\n",
      "Epoch 6/10\n",
      "25/25 [==============================] - 5321s 213s/step - loss: 0.0648 - accuracy: 0.9205 - val_loss: 0.0748 - val_accuracy: 0.9250\n",
      "\n",
      "Epoch 00006: val_accuracy improved from 0.92000 to 0.92500, saving model to ./Model/8_0_PCA_QFC_BinRep_val_acc.hdf5\n",
      "\n",
      "Epoch 00006: val_loss did not improve from 0.07090\n",
      "Epoch 7/10\n",
      "25/25 [==============================] - 5264s 211s/step - loss: 0.0549 - accuracy: 0.9422 - val_loss: 0.0675 - val_accuracy: 0.9275\n",
      "\n",
      "Epoch 00007: val_accuracy improved from 0.92500 to 0.92750, saving model to ./Model/8_0_PCA_QFC_BinRep_val_acc.hdf5\n",
      "\n",
      "Epoch 00007: val_loss improved from 0.07090 to 0.06754, saving model to ./Model/8_0_PCA_QFC_BinRep_val_loss.hdf5\n",
      "Epoch 8/10\n",
      "25/25 [==============================] - 5336s 214s/step - loss: 0.0572 - accuracy: 0.9417 - val_loss: 0.0679 - val_accuracy: 0.9150\n",
      "\n",
      "Epoch 00008: val_accuracy did not improve from 0.92750\n",
      "\n",
      "Epoch 00008: val_loss did not improve from 0.06754\n",
      "Epoch 9/10\n",
      "25/25 [==============================] - 5297s 212s/step - loss: 0.0608 - accuracy: 0.9255 - val_loss: 0.0768 - val_accuracy: 0.8925\n",
      "\n",
      "Epoch 00009: val_accuracy did not improve from 0.92750\n",
      "\n",
      "Epoch 00009: val_loss did not improve from 0.06754\n",
      "Epoch 10/10\n",
      "25/25 [==============================] - 5102s 204s/step - loss: 0.0604 - accuracy: 0.9330 - val_loss: 0.0879 - val_accuracy: 0.9050\n",
      "\n",
      "Epoch 00010: val_accuracy did not improve from 0.92750\n",
      "\n",
      "Epoch 00010: val_loss did not improve from 0.06754\n"
     ]
    }
   ],
   "source": [
    "H_0 = model_0.fit(X_train, to_categorical(Y_train_0), epochs=10, batch_size=64, initial_epoch=0,\n",
    "              validation_data=(X_test, to_categorical(Y_test_0)), verbose=1,\n",
    "              callbacks=[cp_val_acc, cp_val_loss])\n",
    "\n",
    "# batch size = 32 give 0.9175 val acc"
   ]
  },
  {
   "cell_type": "code",
   "execution_count": 301,
   "metadata": {},
   "outputs": [
    {
     "data": {
      "text/plain": [
       "{'loss': [0.2629517614841461,\n",
       "  0.11833358556032181,\n",
       "  0.07571955770254135,\n",
       "  0.06652862578630447,\n",
       "  0.0701732337474823,\n",
       "  0.0659039169549942,\n",
       "  0.060496874153614044,\n",
       "  0.057440683245658875,\n",
       "  0.057736776769161224,\n",
       "  0.057137031108140945],\n",
       " 'accuracy': [0.6225000023841858,\n",
       "  0.8475000262260437,\n",
       "  0.90625,\n",
       "  0.9237499833106995,\n",
       "  0.9237499833106995,\n",
       "  0.9212499856948853,\n",
       "  0.9306250214576721,\n",
       "  0.9399999976158142,\n",
       "  0.9318749904632568,\n",
       "  0.9418749809265137],\n",
       " 'val_loss': [0.1529213786125183,\n",
       "  0.10995673388242722,\n",
       "  0.07145961374044418,\n",
       "  0.0905812457203865,\n",
       "  0.07090241461992264,\n",
       "  0.07480426132678986,\n",
       "  0.06753731518983841,\n",
       "  0.06791282445192337,\n",
       "  0.0768318846821785,\n",
       "  0.08787401020526886],\n",
       " 'val_accuracy': [0.7900000214576721,\n",
       "  0.8650000095367432,\n",
       "  0.9075000286102295,\n",
       "  0.8774999976158142,\n",
       "  0.9200000166893005,\n",
       "  0.925000011920929,\n",
       "  0.9275000095367432,\n",
       "  0.9150000214576721,\n",
       "  0.8924999833106995,\n",
       "  0.9049999713897705]}"
      ]
     },
     "execution_count": 301,
     "metadata": {},
     "output_type": "execute_result"
    }
   ],
   "source": [
    "H_0.history"
   ]
  },
  {
   "cell_type": "code",
   "execution_count": 302,
   "metadata": {},
   "outputs": [],
   "source": [
    "model_0.load_weights('./Model/8_0_PCA_QFC_BinRep_val_acc.hdf5')"
   ]
  },
  {
   "cell_type": "code",
   "execution_count": 303,
   "metadata": {},
   "outputs": [
    {
     "data": {
      "text/plain": [
       "[<tf.Variable 'model_41/keras_layer_31/params:0' shape=(2, 4, 27) dtype=float32, numpy=\n",
       " array([[[ 2.43155330e-01,  6.09896839e-01, -1.27261996e+00,\n",
       "          -1.86509117e-01, -8.14169049e-01,  6.70577049e-01,\n",
       "           1.01701581e+00, -3.93057466e-01,  2.18859267e+00,\n",
       "          -1.26494753e+00,  1.28049088e+00, -3.69921565e-01,\n",
       "          -6.75701320e-01, -1.71861067e-01,  1.11157024e+00,\n",
       "           2.38845921e+00,  3.84969741e-01,  1.24507856e+00,\n",
       "          -3.10823011e+00, -5.62885761e-01,  1.90875149e+00,\n",
       "           2.45723978e-01, -2.04274106e+00, -1.08313549e+00,\n",
       "          -1.39105642e+00, -3.37367564e-01, -2.23770559e-01],\n",
       "         [-1.84766844e-01, -1.12252903e+00,  9.71584678e-01,\n",
       "          -2.03230873e-01,  1.58058965e+00, -1.64615381e+00,\n",
       "           1.00719643e+00,  2.88049430e-01, -2.48440638e-01,\n",
       "           3.61194193e-01,  1.41994298e+00,  2.73416657e-02,\n",
       "           1.72406542e+00, -5.17640650e-01, -1.37900710e-01,\n",
       "           1.20263696e+00,  1.43566275e+00,  8.61111224e-01,\n",
       "          -1.18519020e+00,  5.03529131e-01,  7.93058634e-01,\n",
       "           2.82600343e-01,  8.59408557e-01, -1.05712855e+00,\n",
       "          -6.55896902e-01,  7.82682061e-01,  2.96213746e-01],\n",
       "         [-7.36695468e-01, -6.14892066e-01, -9.66201246e-01,\n",
       "           1.53003061e+00, -2.93684304e-01, -1.18612242e+00,\n",
       "           1.43026137e+00,  8.21835324e-02, -7.71349490e-01,\n",
       "           1.20452225e+00, -8.49828660e-01,  2.25557280e+00,\n",
       "           5.96706092e-01,  1.26949893e-02, -1.56969205e-03,\n",
       "           1.34492815e+00, -7.67667294e-01,  6.34720266e-01,\n",
       "          -9.43942547e-01,  3.23576748e-01, -1.19241714e+00,\n",
       "           5.92457056e-01,  9.79382265e-03, -3.97607803e-01,\n",
       "           1.36605883e+00,  1.67596295e-01,  2.99539357e-01],\n",
       "         [ 3.67715001e-01, -4.67912763e-01,  5.31973839e-01,\n",
       "          -1.02696225e-01, -1.34298491e+00,  1.58296692e+00,\n",
       "          -2.47333360e+00, -3.70748490e-01,  1.19265890e+00,\n",
       "          -2.22973680e+00,  6.11613691e-01,  6.77477717e-01,\n",
       "           1.78986561e+00,  6.72390282e-01,  1.25609756e-01,\n",
       "           1.47323358e+00,  2.29580855e+00,  2.41118670e-01,\n",
       "          -1.73571897e+00, -4.19726551e-01,  7.27503479e-01,\n",
       "           2.51843286e+00,  4.33269441e-01, -1.20464158e+00,\n",
       "          -3.17003280e-01, -1.45686686e-01,  1.20392300e-01]],\n",
       " \n",
       "        [[-2.55990792e-02,  1.24978542e-01, -2.55456388e-01,\n",
       "          -4.47627395e-01, -2.05702677e-01,  3.15912396e-01,\n",
       "           2.11443231e-01,  1.39556929e-01, -3.53635587e-02,\n",
       "          -5.06321788e-01,  1.19341969e-01, -2.15996355e-02,\n",
       "           1.49953455e-01, -4.87423763e-02,  3.37369025e-01,\n",
       "           2.06812650e-01,  2.15889290e-01,  1.42025158e-01,\n",
       "           8.44508559e-02, -3.01371425e-01, -2.19780907e-01,\n",
       "           2.92048097e-01, -2.45437905e-01,  9.55259427e-02,\n",
       "           3.51495385e-01, -7.85497129e-01,  1.97364151e-01],\n",
       "         [-1.81108072e-01, -3.26251566e-01,  1.21880539e-01,\n",
       "           7.11045340e-02, -5.80964863e-01,  8.23847204e-03,\n",
       "          -2.55169034e-01, -4.30582374e-01,  2.14957749e-03,\n",
       "           3.40030670e-01,  1.28438860e-01, -1.24942148e-02,\n",
       "           3.50891948e-01, -5.14260590e-01, -8.41903463e-02,\n",
       "          -5.83363064e-02, -1.61754355e-01,  4.50012922e-01,\n",
       "          -4.30444926e-02, -6.15524888e-01, -6.15323782e-02,\n",
       "          -3.12538184e-02, -4.14647907e-01, -2.93050800e-02,\n",
       "          -5.73276162e-01, -4.09867883e-01, -2.36463115e-01],\n",
       "         [-5.01628995e-01,  1.36054695e-01,  1.43330336e-01,\n",
       "          -2.62918591e-01, -3.34000558e-01,  1.58802390e-01,\n",
       "           4.20358837e-01, -7.29428291e-01, -2.53585339e-01,\n",
       "          -1.14754573e-01, -4.14426774e-01,  1.73960999e-02,\n",
       "           8.89504179e-02, -1.48225620e-01,  2.17984542e-01,\n",
       "           2.59946108e-01, -3.96530181e-02, -3.16972882e-01,\n",
       "           9.89291891e-02, -1.04558006e-01, -4.39525872e-01,\n",
       "          -2.70598561e-01, -5.42935431e-01, -3.20877075e-01,\n",
       "           1.19404696e-01, -1.05454051e+00, -2.33964279e-01],\n",
       "         [ 3.49343084e-02, -8.87725592e-01, -1.97285622e-01,\n",
       "           2.89767146e-01, -5.89697897e-01, -8.95340368e-02,\n",
       "          -2.68346369e-01,  9.56423134e-02,  1.34971946e-01,\n",
       "           9.18945894e-02,  2.45881639e-02, -1.07951820e-01,\n",
       "          -2.64240265e-01, -7.91583359e-02, -4.85101700e-01,\n",
       "          -8.03646386e-01,  5.35085090e-02, -3.31298023e-01,\n",
       "          -6.15617394e-01,  1.27957374e-01, -4.62341130e-01,\n",
       "          -6.30486727e-01, -1.02509007e-01, -5.49254179e-01,\n",
       "          -2.80682832e-01,  3.09071839e-02,  8.24375600e-02]]],\n",
       "       dtype=float32)>,\n",
       " <tf.Variable 'Variable:0' shape=(1, 2) dtype=float32, numpy=array([[1.0658004, 1.0451213]], dtype=float32)>]"
      ]
     },
     "execution_count": 303,
     "metadata": {},
     "output_type": "execute_result"
    }
   ],
   "source": [
    "model_0.weights"
   ]
  },
  {
   "cell_type": "code",
   "execution_count": null,
   "metadata": {},
   "outputs": [],
   "source": []
  },
  {
   "cell_type": "code",
   "execution_count": null,
   "metadata": {},
   "outputs": [],
   "source": []
  },
  {
   "cell_type": "code",
   "execution_count": null,
   "metadata": {},
   "outputs": [],
   "source": [
    "# best\n",
    "\n"
   ]
  },
  {
   "cell_type": "code",
   "execution_count": 315,
   "metadata": {},
   "outputs": [],
   "source": [
    "result_0 = np.argmax(model_0.predict(X_test), axis=1)\n",
    "result_1 = np.argmax(model_1.predict(X_test), axis=1)\n",
    "result_2 = np.argmax(model_2.predict(X_test), axis=1)"
   ]
  },
  {
   "cell_type": "code",
   "execution_count": 316,
   "metadata": {},
   "outputs": [
    {
     "name": "stdout",
     "output_type": "stream",
     "text": [
      "0.9275\n",
      "0.94\n",
      "0.9575\n"
     ]
    }
   ],
   "source": [
    "print((result_0 == Y_test_0).sum()/len(Y_test_0))\n",
    "print((result_1 == Y_test_1).sum()/len(Y_test_1))\n",
    "print((result_2 == Y_test_2).sum()/len(Y_test_2))"
   ]
  },
  {
   "cell_type": "code",
   "execution_count": 319,
   "metadata": {},
   "outputs": [],
   "source": [
    "result = np.concatenate((result_0.reshape(-1,1), result_1.reshape(-1,1), result_2.reshape(-1,1)), axis=1)\n",
    "Y_all = np.concatenate((Y_test_0.reshape(-1,1), Y_test_1.reshape(-1,1), Y_test_2.reshape(-1,1)), axis=1)"
   ]
  },
  {
   "cell_type": "code",
   "execution_count": 328,
   "metadata": {},
   "outputs": [
    {
     "data": {
      "text/plain": [
       "tensor(0.8625, requires_grad=True)"
      ]
     },
     "execution_count": 328,
     "metadata": {},
     "output_type": "execute_result"
    }
   ],
   "source": [
    "1 - ((np.sum(result == Y_all, axis=1) < 3).sum()/len(Y_all))"
   ]
  },
  {
   "cell_type": "code",
   "execution_count": 332,
   "metadata": {},
   "outputs": [
    {
     "data": {
      "text/plain": [
       "0.8250000000000002"
      ]
     },
     "execution_count": 332,
     "metadata": {},
     "output_type": "execute_result"
    }
   ],
   "source": [
    "1 - (3 - 0.9275 - 0.94 - 0.9575)"
   ]
  },
  {
   "cell_type": "code",
   "execution_count": 329,
   "metadata": {},
   "outputs": [],
   "source": [
    "result_0 = np.argmax(model_0.predict(X_train), axis=1)\n",
    "result_1 = np.argmax(model_1.predict(X_train), axis=1)\n",
    "result_2 = np.argmax(model_2.predict(X_train), axis=1)"
   ]
  },
  {
   "cell_type": "code",
   "execution_count": 330,
   "metadata": {},
   "outputs": [
    {
     "name": "stdout",
     "output_type": "stream",
     "text": [
      "0.941875\n",
      "0.94\n",
      "0.96375\n"
     ]
    }
   ],
   "source": [
    "print((result_0 == Y_train_0).sum()/len(Y_train_0))\n",
    "print((result_1 == Y_train_1).sum()/len(Y_train_1))\n",
    "print((result_2 == Y_train_2).sum()/len(Y_train_2))"
   ]
  },
  {
   "cell_type": "code",
   "execution_count": 331,
   "metadata": {},
   "outputs": [],
   "source": [
    "result = np.concatenate((result_0.reshape(-1,1), result_1.reshape(-1,1), result_2.reshape(-1,1)), axis=1)\n",
    "Y_all = np.concatenate((Y_train_0.reshape(-1,1), Y_train_1.reshape(-1,1), Y_train_2.reshape(-1,1)), axis=1)"
   ]
  },
  {
   "cell_type": "code",
   "execution_count": 333,
   "metadata": {},
   "outputs": [
    {
     "data": {
      "text/plain": [
       "tensor(0.8775, requires_grad=True)"
      ]
     },
     "execution_count": 333,
     "metadata": {},
     "output_type": "execute_result"
    }
   ],
   "source": [
    "1 - ((np.sum(result == Y_all, axis=1) < 3).sum()/len(Y_all))"
   ]
  },
  {
   "cell_type": "code",
   "execution_count": 334,
   "metadata": {},
   "outputs": [
    {
     "data": {
      "text/plain": [
       "0.845625"
      ]
     },
     "execution_count": 334,
     "metadata": {},
     "output_type": "execute_result"
    }
   ],
   "source": [
    "1 - (3 - 0.941875 - 0.94 - 0.96375)"
   ]
  },
  {
   "cell_type": "code",
   "execution_count": 335,
   "metadata": {},
   "outputs": [
    {
     "name": "stdout",
     "output_type": "stream",
     "text": [
      "Model: \"model_41\"\n",
      "_________________________________________________________________\n",
      "Layer (type)                 Output Shape              Param #   \n",
      "=================================================================\n",
      "Input_Layer (InputLayer)     [(None, 27)]              0         \n",
      "_________________________________________________________________\n",
      "keras_layer_31 (KerasLayer)  (None, 2)                 216       \n",
      "_________________________________________________________________\n",
      "class_weights_31 (class_weig (None, 2)                 2         \n",
      "=================================================================\n",
      "Total params: 218\n",
      "Trainable params: 218\n",
      "Non-trainable params: 0\n",
      "_________________________________________________________________\n"
     ]
    }
   ],
   "source": [
    "model_0.summary()"
   ]
  },
  {
   "cell_type": "markdown",
   "metadata": {},
   "source": [
    "# Exploring the results"
   ]
  },
  {
   "cell_type": "code",
   "execution_count": 367,
   "metadata": {},
   "outputs": [],
   "source": [
    "QFC_weights_0 = np.array([[[ 2.43155330e-01,  6.09896839e-01, -1.27261996e+00,\n",
    "          -1.86509117e-01, -8.14169049e-01,  6.70577049e-01,\n",
    "           1.01701581e+00, -3.93057466e-01,  2.18859267e+00,\n",
    "          -1.26494753e+00,  1.28049088e+00, -3.69921565e-01,\n",
    "          -6.75701320e-01, -1.71861067e-01,  1.11157024e+00,\n",
    "           2.38845921e+00,  3.84969741e-01,  1.24507856e+00,\n",
    "          -3.10823011e+00, -5.62885761e-01,  1.90875149e+00,\n",
    "           2.45723978e-01, -2.04274106e+00, -1.08313549e+00,\n",
    "          -1.39105642e+00, -3.37367564e-01, -2.23770559e-01],\n",
    "         [-1.84766844e-01, -1.12252903e+00,  9.71584678e-01,\n",
    "          -2.03230873e-01,  1.58058965e+00, -1.64615381e+00,\n",
    "           1.00719643e+00,  2.88049430e-01, -2.48440638e-01,\n",
    "           3.61194193e-01,  1.41994298e+00,  2.73416657e-02,\n",
    "           1.72406542e+00, -5.17640650e-01, -1.37900710e-01,\n",
    "           1.20263696e+00,  1.43566275e+00,  8.61111224e-01,\n",
    "          -1.18519020e+00,  5.03529131e-01,  7.93058634e-01,\n",
    "           2.82600343e-01,  8.59408557e-01, -1.05712855e+00,\n",
    "          -6.55896902e-01,  7.82682061e-01,  2.96213746e-01],\n",
    "         [-7.36695468e-01, -6.14892066e-01, -9.66201246e-01,\n",
    "           1.53003061e+00, -2.93684304e-01, -1.18612242e+00,\n",
    "           1.43026137e+00,  8.21835324e-02, -7.71349490e-01,\n",
    "           1.20452225e+00, -8.49828660e-01,  2.25557280e+00,\n",
    "           5.96706092e-01,  1.26949893e-02, -1.56969205e-03,\n",
    "           1.34492815e+00, -7.67667294e-01,  6.34720266e-01,\n",
    "          -9.43942547e-01,  3.23576748e-01, -1.19241714e+00,\n",
    "           5.92457056e-01,  9.79382265e-03, -3.97607803e-01,\n",
    "           1.36605883e+00,  1.67596295e-01,  2.99539357e-01],\n",
    "         [ 3.67715001e-01, -4.67912763e-01,  5.31973839e-01,\n",
    "          -1.02696225e-01, -1.34298491e+00,  1.58296692e+00,\n",
    "          -2.47333360e+00, -3.70748490e-01,  1.19265890e+00,\n",
    "          -2.22973680e+00,  6.11613691e-01,  6.77477717e-01,\n",
    "           1.78986561e+00,  6.72390282e-01,  1.25609756e-01,\n",
    "           1.47323358e+00,  2.29580855e+00,  2.41118670e-01,\n",
    "          -1.73571897e+00, -4.19726551e-01,  7.27503479e-01,\n",
    "           2.51843286e+00,  4.33269441e-01, -1.20464158e+00,\n",
    "          -3.17003280e-01, -1.45686686e-01,  1.20392300e-01]],\n",
    " \n",
    "        [[-2.55990792e-02,  1.24978542e-01, -2.55456388e-01,\n",
    "          -4.47627395e-01, -2.05702677e-01,  3.15912396e-01,\n",
    "           2.11443231e-01,  1.39556929e-01, -3.53635587e-02,\n",
    "          -5.06321788e-01,  1.19341969e-01, -2.15996355e-02,\n",
    "           1.49953455e-01, -4.87423763e-02,  3.37369025e-01,\n",
    "           2.06812650e-01,  2.15889290e-01,  1.42025158e-01,\n",
    "           8.44508559e-02, -3.01371425e-01, -2.19780907e-01,\n",
    "           2.92048097e-01, -2.45437905e-01,  9.55259427e-02,\n",
    "           3.51495385e-01, -7.85497129e-01,  1.97364151e-01],\n",
    "         [-1.81108072e-01, -3.26251566e-01,  1.21880539e-01,\n",
    "           7.11045340e-02, -5.80964863e-01,  8.23847204e-03,\n",
    "          -2.55169034e-01, -4.30582374e-01,  2.14957749e-03,\n",
    "           3.40030670e-01,  1.28438860e-01, -1.24942148e-02,\n",
    "           3.50891948e-01, -5.14260590e-01, -8.41903463e-02,\n",
    "          -5.83363064e-02, -1.61754355e-01,  4.50012922e-01,\n",
    "          -4.30444926e-02, -6.15524888e-01, -6.15323782e-02,\n",
    "          -3.12538184e-02, -4.14647907e-01, -2.93050800e-02,\n",
    "          -5.73276162e-01, -4.09867883e-01, -2.36463115e-01],\n",
    "         [-5.01628995e-01,  1.36054695e-01,  1.43330336e-01,\n",
    "          -2.62918591e-01, -3.34000558e-01,  1.58802390e-01,\n",
    "           4.20358837e-01, -7.29428291e-01, -2.53585339e-01,\n",
    "          -1.14754573e-01, -4.14426774e-01,  1.73960999e-02,\n",
    "           8.89504179e-02, -1.48225620e-01,  2.17984542e-01,\n",
    "           2.59946108e-01, -3.96530181e-02, -3.16972882e-01,\n",
    "           9.89291891e-02, -1.04558006e-01, -4.39525872e-01,\n",
    "          -2.70598561e-01, -5.42935431e-01, -3.20877075e-01,\n",
    "           1.19404696e-01, -1.05454051e+00, -2.33964279e-01],\n",
    "         [ 3.49343084e-02, -8.87725592e-01, -1.97285622e-01,\n",
    "           2.89767146e-01, -5.89697897e-01, -8.95340368e-02,\n",
    "          -2.68346369e-01,  9.56423134e-02,  1.34971946e-01,\n",
    "           9.18945894e-02,  2.45881639e-02, -1.07951820e-01,\n",
    "          -2.64240265e-01, -7.91583359e-02, -4.85101700e-01,\n",
    "          -8.03646386e-01,  5.35085090e-02, -3.31298023e-01,\n",
    "          -6.15617394e-01,  1.27957374e-01, -4.62341130e-01,\n",
    "          -6.30486727e-01, -1.02509007e-01, -5.49254179e-01,\n",
    "          -2.80682832e-01,  3.09071839e-02,  8.24375600e-02]]])\n",
    "\n",
    "\n",
    "QFC_weights_1 =  np.array([[[ 2.13561803e-01,  7.04369843e-01, -7.41668046e-01,\n",
    "          -2.47792912e+00, -7.35521019e-01,  2.42834067e+00,\n",
    "          -2.29163289e+00, -7.02798665e-02,  2.77989686e-01,\n",
    "          -1.87277973e+00, -9.62997615e-01, -2.47386526e-02,\n",
    "          -1.57331479e+00,  1.47493351e+00, -9.08603251e-01,\n",
    "          -1.70755178e-01,  1.47408926e+00, -4.73341011e-02,\n",
    "           8.03774416e-01, -1.31202328e+00, -3.04269016e-01,\n",
    "          -3.45121711e-01, -5.06858587e-01,  9.85353649e-01,\n",
    "           6.53059006e-01,  2.31403902e-01, -6.72540545e-01],\n",
    "         [ 1.91255665e+00,  4.48507041e-01, -2.73740029e+00,\n",
    "          -1.01107252e+00,  2.98072875e-01, -2.76256895e+00,\n",
    "           5.40756583e-01,  1.89853477e+00, -1.96850085e+00,\n",
    "           4.61575985e-01,  6.75956607e-01,  1.15147948e+00,\n",
    "           5.28609276e-01,  9.84429836e-01, -5.55440485e-01,\n",
    "           7.53358781e-01, -6.32270455e-01,  2.37090215e-01,\n",
    "          -3.65454331e-02,  2.04081342e-01,  4.53795612e-01,\n",
    "           1.01887858e+00,  1.96423754e-03,  5.65176070e-01,\n",
    "          -4.10666466e-01, -1.74742088e-01, -1.62265420e-01],\n",
    "         [ 1.36360085e+00, -1.53756058e+00,  1.47258782e+00,\n",
    "           3.04700685e+00,  1.18540001e+00, -6.41015053e-01,\n",
    "           1.37487292e+00,  3.81245941e-01,  1.08337313e-01,\n",
    "          -1.23865497e+00,  4.39883113e-01,  7.91129589e-01,\n",
    "           7.27589130e-01, -1.34648335e+00,  1.92124307e+00,\n",
    "          -1.28628492e-01,  6.37319326e-01, -5.38911223e-01,\n",
    "          -1.48334742e+00,  2.24371497e-02, -6.65140748e-01,\n",
    "           2.17974916e-01,  4.82839853e-01, -6.11905992e-01,\n",
    "           1.52840734e-01, -6.30289257e-01,  6.89226985e-01],\n",
    "         [ 4.18222010e-01,  9.88358706e-02, -1.99718654e+00,\n",
    "           1.57420814e+00,  2.15461552e-01,  6.74749911e-03,\n",
    "          -1.44543755e+00, -5.11128783e-01,  9.50636029e-01,\n",
    "           5.43830156e-01, -4.69606042e-01, -7.12640643e-01,\n",
    "          -7.38102853e-01, -1.16969287e+00,  1.99917436e+00,\n",
    "           1.60150707e+00,  6.38269365e-01,  8.37425530e-01,\n",
    "          -1.91848755e-01, -7.62752146e-02, -6.35098636e-01,\n",
    "           1.73193097e+00, -8.41753483e-02,  7.78824314e-02,\n",
    "          -2.63326824e-01, -5.86004257e-01,  2.61479408e-01]],\n",
    " \n",
    "        [[ 2.04339892e-01,  4.83131148e-02,  7.08388209e-01,\n",
    "           1.23199916e+00, -1.57691419e-01,  4.04596537e-01,\n",
    "           3.51291835e-01, -2.09155902e-01,  7.22112283e-02,\n",
    "           2.12243572e-01,  1.38608232e-01, -3.88999097e-02,\n",
    "          -4.13588481e-03, -2.02697307e-01,  3.75157446e-01,\n",
    "           1.33023456e-01, -1.51307613e-01,  2.18176991e-01,\n",
    "           2.44312659e-01, -7.00950325e-01,  1.40473247e-01,\n",
    "           2.83694677e-02, -6.84125125e-01, -1.40360385e-01,\n",
    "          -1.04750395e-02, -6.60943031e-01,  2.60479093e-01],\n",
    "         [ 3.52862738e-02, -1.32135105e+00, -4.44280095e-02,\n",
    "           2.60653883e-01, -7.81865776e-01, -3.49414736e-01,\n",
    "           2.24076942e-01, -2.47330949e-01,  1.99313909e-01,\n",
    "          -2.63107195e-02,  2.53654838e-01, -9.20381248e-02,\n",
    "          -1.84706658e-01,  2.61187375e-01,  2.44364798e-01,\n",
    "          -5.18465415e-03,  3.46821696e-01, -1.18699409e-01,\n",
    "           2.60794401e-01, -6.11011907e-02,  3.70092183e-01,\n",
    "           3.73037457e-01,  1.08811550e-01,  1.67358264e-01,\n",
    "           5.10703623e-01,  2.31072739e-01,  1.51262909e-01],\n",
    "         [ 3.01454902e-01,  4.08118963e-01, -2.21793354e-01,\n",
    "          -7.77120516e-02,  3.03981896e-03,  2.92164177e-01,\n",
    "           2.06238121e-01,  1.96191385e-01,  2.39537835e-01,\n",
    "           4.02426034e-01,  4.01236027e-01,  1.40337702e-02,\n",
    "           1.72683716e-01,  7.92212188e-02, -4.74936008e-01,\n",
    "          -4.98669803e-01,  1.02664672e-01, -3.17277551e-01,\n",
    "          -2.99901903e-01, -1.18644878e-01, -9.00180265e-02,\n",
    "          -2.08723351e-01,  1.54371724e-01,  4.88565080e-02,\n",
    "          -3.32386434e-01,  6.67890720e-03,  2.29531288e-01],\n",
    "         [ 8.67671967e-02,  2.68156696e-02, -2.42526650e-01,\n",
    "          -2.79513150e-01,  1.89668342e-01,  2.61452019e-01,\n",
    "           1.38238683e-01, -1.19429141e-01,  8.72376338e-02,\n",
    "           1.70015059e-02, -1.24053873e-01,  1.90764666e-01,\n",
    "          -4.02729772e-02,  1.99198145e-02,  2.89305091e-01,\n",
    "          -1.03046291e-01,  3.18677612e-02, -2.96460778e-01,\n",
    "          -2.97945112e-01, -2.62596965e-01, -3.43904197e-01,\n",
    "          -2.21060023e-01,  6.47366047e-02, -4.96322393e-01,\n",
    "          -4.81373459e-01, -7.40604401e-02,  7.49188885e-02]]])\n",
    "\n",
    "\n",
    "QFC_weights_2 = np.array([[[ 0.25238508, -1.283565  ,  1.4758877 ,  1.0936497 ,\n",
    "           1.6707364 ,  0.04033105, -0.23157464, -0.74435776,\n",
    "          -0.01216206,  0.12423605, -0.6545662 , -0.9702287 ,\n",
    "           0.38811305,  0.02621555,  0.9926866 ,  1.2411599 ,\n",
    "          -1.5134276 , -1.3260348 ,  0.6526208 , -0.07668146,\n",
    "           0.5107885 , -0.0971964 , -0.25805223,  0.6784882 ,\n",
    "          -0.33452755,  0.3223217 ,  0.8651965 ],\n",
    "         [ 1.5939548 , -1.7591078 ,  1.0502827 , -0.9801683 ,\n",
    "           0.23853745, -1.1927123 , -1.0582882 , -0.6004686 ,\n",
    "           0.722694  , -1.3746912 , -1.2787397 ,  0.4410289 ,\n",
    "           1.0183585 ,  0.19497451, -0.56488156,  0.3876605 ,\n",
    "           0.5895367 ,  0.9255495 ,  0.31125093,  0.620908  ,\n",
    "           0.27656588,  0.82624966, -0.84203106, -0.70228755,\n",
    "          -0.2568844 , -0.65351015, -1.4243661 ],\n",
    "         [ 1.4805379 ,  0.5782921 ,  1.1803944 ,  1.3369706 ,\n",
    "           1.1923565 , -0.8520251 ,  1.6142409 , -1.3407493 ,\n",
    "          -0.0224105 , -0.56530684,  0.74673027,  0.09010798,\n",
    "          -0.15470746, -1.0716372 , -0.24121143, -0.06950819,\n",
    "           0.8861834 , -1.0120331 ,  1.6633034 , -1.0660903 ,\n",
    "           1.1489153 ,  0.19870222,  0.39089805, -1.2592713 ,\n",
    "           0.40117478,  0.25680915, -0.47385713],\n",
    "         [ 0.6816693 , -0.8193629 ,  0.3515519 , -1.5145577 ,\n",
    "          -1.345594  , -0.03347336,  1.1329334 ,  0.32284987,\n",
    "           0.69572586, -0.22648515, -0.2967536 , -0.24852224,\n",
    "          -0.06209766, -0.6052295 ,  0.05322878,  0.7002158 ,\n",
    "           0.6789426 , -0.08089218,  1.597369  ,  0.42995948,\n",
    "          -2.065793  , -1.8819402 , -0.96567166,  0.7008939 ,\n",
    "           0.31024018,  0.0143203 , -0.03012915]],\n",
    " \n",
    "        [[-0.26043844, -1.2671397 , -0.7665562 , -0.73454547,\n",
    "          -0.42687955, -0.79005   , -0.57044035,  0.5670234 ,\n",
    "          -0.559065  , -0.8337233 ,  1.013581  , -0.02374453,\n",
    "           0.03969347,  0.86406994,  0.28789476,  0.68236756,\n",
    "          -0.36544892,  0.20712064,  0.13319191,  0.60051477,\n",
    "           1.0777447 ,  0.50482   ,  0.336632  ,  0.6373108 ,\n",
    "           0.77764106,  0.40643722,  0.99333715],\n",
    "         [ 1.1036165 ,  0.6670855 ,  0.67230606,  0.8417209 ,\n",
    "           0.6456138 ,  0.36344486,  0.4842049 ,  0.3734067 ,\n",
    "           0.4754484 ,  0.3984084 ,  0.5505004 ,  0.2962076 ,\n",
    "           0.35596478,  0.90170497,  0.6515702 ,  0.7272806 ,\n",
    "           0.2928053 ,  0.54658663,  0.86133146,  0.11383731,\n",
    "           0.66123146,  0.9329444 ,  0.2791378 ,  0.943679  ,\n",
    "           0.37846708,  0.3151309 ,  0.93080616],\n",
    "         [ 0.3823371 ,  0.5620422 ,  0.55613446,  0.52434295,\n",
    "           0.43008015,  0.7603879 ,  0.6435362 ,  1.019311  ,\n",
    "           0.5060591 ,  0.46195886,  0.08382669,  0.49996784,\n",
    "           0.4807167 , -0.15241747,  0.77641803,  0.9427268 ,\n",
    "           0.34767705,  0.09356961,  0.5384434 ,  0.8822416 ,\n",
    "           0.38823062,  0.41094044,  0.59441495,  0.35334036,\n",
    "           0.3434653 ,  0.64545953,  0.55594206],\n",
    "         [ 0.58141035, -0.5284905 , -0.00234824,  0.5088091 ,\n",
    "          -0.6456302 ,  0.25684038,  0.05738287, -0.22091906,\n",
    "           0.1332204 ,  0.22355305, -0.6197434 ,  0.07781659,\n",
    "           0.24501814, -0.42512515,  0.44368127,  0.44276303,\n",
    "          -0.79923046,  0.54066217,  0.03367746, -0.27332   ,\n",
    "           0.16291821,  0.27121952, -0.016491  ,  0.5335153 ,\n",
    "           0.6548672 , -0.42493576, -0.25305215]]])\n",
    "\n",
    "\n",
    "random_weights_0 = np.array([[[-0.0814448 , -0.0682026 , -0.00755903, -0.12436734,\n",
    "         -0.24872363, -0.05575097, -0.15636982,  0.04399487,\n",
    "          0.2591681 ,  0.19628912,  0.22436398,  0.14451694,\n",
    "         -0.08223878,  0.06619811, -0.23818642, -0.06278777,\n",
    "         -0.10698289,  0.29463083, -0.15356913,  0.15788338,\n",
    "          0.0624142 , -0.01754352,  0.23007995,  0.30018407,\n",
    "          0.06724864,  0.05337718, -0.06386404],\n",
    "        [ 0.07806101,  0.11304128, -0.3032706 , -0.25230235,\n",
    "         -0.28279942,  0.11691859,  0.00037372,  0.22104734,\n",
    "         -0.03801072,  0.21831167,  0.19704431,  0.04963428,\n",
    "         -0.04685354, -0.2497513 , -0.00971335,  0.03861296,\n",
    "         -0.09128986, -0.13773088,  0.16975665,  0.08700842,\n",
    "         -0.01189345, -0.25197244, -0.04733178, -0.23213992,\n",
    "         -0.18479432,  0.03085011,  0.06458288],\n",
    "        [ 0.04609659, -0.04290235, -0.20575437,  0.02378297,\n",
    "          0.19994521,  0.27456075, -0.05183724,  0.22004843,\n",
    "          0.07123786, -0.0813693 , -0.18109576, -0.22145088,\n",
    "          0.24069387, -0.22842732, -0.27208018,  0.30459887,\n",
    "          0.03323263, -0.2858605 ,  0.05749732, -0.09884052,\n",
    "          0.25213784, -0.1528227 , -0.26010656,  0.21343273,\n",
    "         -0.03937691, -0.18732333,  0.18692243],\n",
    "        [ 0.09262669,  0.0367265 ,  0.13278487, -0.09732459,\n",
    "         -0.14192364, -0.15479818,  0.25930023,  0.09780395,\n",
    "         -0.02896422,  0.26710767, -0.00078493, -0.20432706,\n",
    "         -0.01044992,  0.05640742,  0.05805343,  0.15383697,\n",
    "         -0.1601611 ,  0.14948088,  0.16652462, -0.07463686,\n",
    "         -0.24243614,  0.19254398,  0.08133903,  0.18900931,\n",
    "          0.2581601 ,  0.01653424,  0.00489587]],\n",
    "\n",
    "       [[-0.20726095, -0.1510506 , -0.1507198 ,  0.15816292,\n",
    "         -0.2331805 , -0.19833684, -0.2367804 , -0.25760064,\n",
    "          0.08565542, -0.02369049,  0.00416672, -0.06211448,\n",
    "          0.12952703, -0.19807857, -0.29592657, -0.26973787,\n",
    "          0.10546622, -0.10263699, -0.09446242, -0.2747408 ,\n",
    "          0.07480487,  0.20175087,  0.29891497,  0.1889652 ,\n",
    "          0.02389875,  0.14369848, -0.11020337],\n",
    "        [-0.07649791,  0.19726133, -0.12303148,  0.05648011,\n",
    "         -0.20464295, -0.10964769, -0.07044835,  0.26632828,\n",
    "         -0.06965527, -0.20329732,  0.16326031, -0.1580036 ,\n",
    "          0.10030296, -0.01962492,  0.20333987, -0.13097872,\n",
    "         -0.29573968,  0.02410641, -0.29276842, -0.15634088,\n",
    "          0.00569201, -0.17017488, -0.09346382,  0.1762909 ,\n",
    "         -0.1278081 , -0.23337667,  0.18747589],\n",
    "        [ 0.00576171, -0.16355   ,  0.2843457 , -0.12214695,\n",
    "         -0.21935718,  0.2423352 ,  0.27079815,  0.277148  ,\n",
    "         -0.05928567,  0.08892271, -0.00342882, -0.2837665 ,\n",
    "         -0.22894569,  0.00414789, -0.19574293,  0.21095634,\n",
    "         -0.13080858,  0.28402042, -0.07186259, -0.29715043,\n",
    "         -0.15730493, -0.19805826,  0.29170734,  0.19095397,\n",
    "         -0.04366904,  0.02983245,  0.11215207],\n",
    "        [ 0.15280417,  0.11095676,  0.07704073, -0.21633947,\n",
    "          0.29569155, -0.23984624, -0.10021502,  0.23224789,\n",
    "         -0.03703371,  0.17327327,  0.04021043,  0.05981249,\n",
    "         -0.09795925, -0.290584  , -0.20436874,  0.15439516,\n",
    "          0.10748577,  0.06089634, -0.09778836,  0.18490395,\n",
    "         -0.28673747,  0.1467652 , -0.05168369,  0.01081252,\n",
    "          0.10434633, -0.2552334 , -0.16139436]]])\n",
    "\n",
    "\n",
    "random_weights_1 = np.array([[[-2.46669233e-01,  1.66254342e-01, -1.62937880e-01,\n",
    "          1.38210595e-01,  4.69605625e-02, -6.47487938e-02,\n",
    "         -7.55115449e-02, -1.57993659e-01, -2.53705323e-01,\n",
    "          4.08389866e-02, -2.10527927e-01, -1.18377924e-01,\n",
    "         -1.03860021e-01,  1.55987740e-02, -1.94319353e-01,\n",
    "         -2.77515799e-01, -5.97076118e-02,  1.47948802e-01,\n",
    "          3.93781662e-02, -3.80211174e-02,  2.44643450e-01,\n",
    "          1.17658347e-01,  2.67350316e-01,  7.13811517e-02,\n",
    "          6.31961226e-03,  1.05653495e-01, -1.22028425e-01],\n",
    "        [ 1.28849059e-01,  2.30817854e-01, -2.33140588e-02,\n",
    "          2.38720298e-01, -2.65192688e-02,  2.04818726e-01,\n",
    "         -2.75731146e-01, -2.06777960e-01, -2.94266105e-01,\n",
    "         -1.07544944e-01,  1.53785795e-01, -1.84089646e-01,\n",
    "          1.97769284e-01, -2.75001019e-01, -1.81310177e-02,\n",
    "         -1.71873868e-01,  2.80198336e-01,  2.61329532e-01,\n",
    "         -3.25763822e-02, -2.46484846e-01, -3.53026092e-02,\n",
    "         -2.19302356e-01, -9.00464952e-02,  4.43051755e-02,\n",
    "          2.74758935e-02, -1.31966129e-01,  2.15500712e-01],\n",
    "        [-3.01397115e-01,  2.70664632e-01, -6.86812848e-02,\n",
    "          3.10839653e-01,  5.82686067e-02, -1.83643445e-01,\n",
    "          9.43903327e-02, -8.99898410e-02, -4.53620255e-02,\n",
    "          1.37893081e-01,  8.77676606e-02,  1.60389096e-01,\n",
    "         -1.38254881e-01,  9.31138098e-02, -6.08628094e-02,\n",
    "          1.73738092e-01,  2.90800989e-01,  1.93061471e-01,\n",
    "          1.32757664e-01,  2.62591004e-01,  1.35249883e-01,\n",
    "         -6.76293522e-02, -9.03439224e-02, -7.88988918e-02,\n",
    "          7.45030046e-02, -1.79019570e-03, -1.75871402e-01],\n",
    "        [-6.46541566e-02,  1.34260833e-01, -3.02227646e-01,\n",
    "         -1.47521496e-05,  1.64817184e-01,  6.64987266e-02,\n",
    "         -3.01352233e-01, -2.24931836e-01,  3.93938124e-02,\n",
    "         -1.66142121e-01,  2.43921578e-01, -1.57691121e-01,\n",
    "          1.29756808e-01, -2.75733948e-01, -2.09342420e-01,\n",
    "         -1.24933317e-01, -2.02044666e-01, -3.06360543e-01,\n",
    "         -5.06748557e-02,  6.78861141e-02,  2.91891098e-02,\n",
    "          2.03158438e-01, -1.47532776e-01,  1.45068973e-01,\n",
    "          2.44501233e-02, -1.91020638e-01, -1.96671605e-01]],\n",
    "\n",
    "       [[ 2.36304522e-01,  4.13591266e-02, -3.03083956e-02,\n",
    "          1.94169402e-01, -6.99739605e-02,  1.84726387e-01,\n",
    "          2.82757223e-01, -1.90836310e-01, -2.39816725e-01,\n",
    "          2.18008339e-01,  1.88298047e-01,  2.13365793e-01,\n",
    "         -1.48131177e-01,  2.99094260e-01,  2.36319840e-01,\n",
    "          2.20282435e-01,  1.10695094e-01,  6.72228336e-02,\n",
    "          2.88527846e-01, -2.84482300e-01,  1.29227817e-01,\n",
    "          4.97543812e-03, -9.27231759e-02, -2.82439113e-01,\n",
    "          7.16997981e-02,  5.23630083e-02,  6.52701259e-02],\n",
    "        [-1.17309973e-01, -1.91330791e-01, -3.79548073e-02,\n",
    "          1.98408484e-01,  4.93901074e-02, -4.11933661e-03,\n",
    "          3.97835672e-02, -2.66835600e-01, -3.80795598e-02,\n",
    "          2.25445390e-01,  2.66443431e-01, -1.67387560e-01,\n",
    "          6.05016053e-02,  2.27372050e-01,  2.07775235e-01,\n",
    "          2.60200858e-01,  8.99566710e-02, -1.98239535e-01,\n",
    "          3.07394147e-01,  1.22755438e-01,  8.42735767e-02,\n",
    "          1.04842246e-01,  2.40552187e-01, -4.50643897e-02,\n",
    "         -2.53873080e-01,  1.78869814e-01,  2.91281998e-01],\n",
    "        [-1.17447108e-01, -1.51128545e-01, -2.05222577e-01,\n",
    "          7.13947415e-02, -1.63632408e-01, -2.44880348e-01,\n",
    "          1.79801673e-01,  1.17626369e-01, -1.42073676e-01,\n",
    "          1.16669446e-01,  2.63174057e-01,  5.12832403e-03,\n",
    "         -9.05928314e-02, -7.41771013e-02, -7.91209489e-02,\n",
    "          2.47332156e-02,  1.14281088e-01,  8.95915627e-02,\n",
    "          5.77937067e-02, -2.71952450e-02, -8.20615143e-02,\n",
    "         -1.08558238e-02,  2.94040024e-01,  3.07679057e-01,\n",
    "          2.68417597e-02,  2.78105438e-02,  1.55020982e-01],\n",
    "        [ 6.47297502e-03, -1.10292733e-01,  2.62900054e-01,\n",
    "         -6.93688989e-02,  1.08174086e-02,  1.09063834e-01,\n",
    "         -3.71537805e-02,  1.51294231e-01,  1.46279693e-01,\n",
    "          7.63826370e-02, -1.26531646e-01,  2.35157013e-01,\n",
    "         -2.68738747e-01, -1.72712505e-02, -2.11462453e-01,\n",
    "         -1.54870346e-01, -2.54458725e-01, -6.34663403e-02,\n",
    "         -1.27742827e-01,  3.08858931e-01,  1.60486251e-01,\n",
    "         -2.14425623e-01, -1.91895008e-01, -8.64459872e-02,\n",
    "          2.52017319e-01,  2.91544080e-01,  2.14920104e-01]]])\n",
    "\n",
    "\n",
    "random_weights_2 = np.array([[[ 0.11696517,  0.22653753,  0.08587104,  0.28386128,\n",
    "         -0.16169104,  0.21509409, -0.29473418,  0.1947338 ,\n",
    "          0.20030189,  0.19431227, -0.19619381, -0.02393502,\n",
    "          0.26748896, -0.19864678,  0.2696566 , -0.14402875,\n",
    "          0.30266   , -0.09862313,  0.18681058,  0.24745077,\n",
    "          0.26095694,  0.19122791, -0.285656  ,  0.06496736,\n",
    "          0.15409091, -0.03493658,  0.05613664],\n",
    "        [-0.11849   ,  0.14093503, -0.27773052,  0.15136454,\n",
    "         -0.2817431 , -0.11428872,  0.04589811,  0.0895997 ,\n",
    "          0.18563184, -0.24849793,  0.1864847 , -0.214223  ,\n",
    "          0.09102932, -0.21526113,  0.29080087,  0.18690851,\n",
    "          0.23315966, -0.05488044, -0.1216277 ,  0.25444   ,\n",
    "         -0.16448875,  0.22209007, -0.17082304,  0.22196233,\n",
    "          0.12587067,  0.22215068,  0.17680445],\n",
    "        [-0.07092717, -0.16503589, -0.05315432, -0.30262268,\n",
    "         -0.07143353, -0.30678314,  0.03520063, -0.00906792,\n",
    "          0.14340737,  0.2337423 ,  0.00812325, -0.10892648,\n",
    "         -0.14067397,  0.03539985, -0.03992212,  0.01250282,\n",
    "          0.12980026, -0.2765726 ,  0.03360045,  0.26265168,\n",
    "          0.00926581, -0.02847946,  0.25915247,  0.05502498,\n",
    "         -0.2590533 , -0.14355913, -0.10654686],\n",
    "        [-0.20375255, -0.16877295,  0.16354087,  0.16129899,\n",
    "         -0.13703176,  0.2936821 , -0.24103175, -0.02115524,\n",
    "          0.23668933,  0.11458561, -0.05124342,  0.18824145,\n",
    "         -0.25659677, -0.08071698, -0.11342272,  0.26069874,\n",
    "         -0.221771  , -0.11085108,  0.12159693, -0.04095039,\n",
    "          0.09142679, -0.09523845,  0.06351721, -0.03370324,\n",
    "         -0.0368388 ,  0.21859962, -0.20529208]],\n",
    "\n",
    "       [[-0.30525964,  0.23744756, -0.30076534,  0.0115867 ,\n",
    "         -0.19249895, -0.07920913,  0.00589958,  0.00682521,\n",
    "          0.26000214, -0.09423658, -0.23081644,  0.10869077,\n",
    "         -0.09796333,  0.12784532,  0.16935897, -0.06983697,\n",
    "         -0.22328551,  0.21868289, -0.07559772, -0.22840664,\n",
    "         -0.28615102, -0.22840545,  0.27017695,  0.19420803,\n",
    "         -0.29749888,  0.18582556,  0.03885224],\n",
    "        [-0.07095113,  0.14483348, -0.20165196, -0.22264092,\n",
    "         -0.05780014, -0.25327587, -0.2294524 ,  0.29305857,\n",
    "         -0.05375722,  0.22238624,  0.10329947, -0.24350631,\n",
    "         -0.11875233,  0.22069806,  0.09840685,  0.02232978,\n",
    "          0.03170663,  0.2233442 , -0.05762497,  0.20710099,\n",
    "          0.0779815 ,  0.2767859 , -0.28919557,  0.07082802,\n",
    "         -0.22370932, -0.17944463,  0.23648989],\n",
    "        [ 0.20293015,  0.25018662,  0.27400935,  0.23669893,\n",
    "          0.09640896,  0.09065795,  0.14395845,  0.2766714 ,\n",
    "          0.04813999,  0.07559091,  0.2436378 , -0.28209317,\n",
    "         -0.12650013,  0.29951525, -0.19145888, -0.27017868,\n",
    "         -0.02706417,  0.10473654,  0.22861588, -0.24737146,\n",
    "          0.24295986, -0.2927044 ,  0.2220087 ,  0.0007115 ,\n",
    "          0.30152446,  0.15487257,  0.2273255 ],\n",
    "        [-0.00504309,  0.04312354, -0.27729195,  0.28831226,\n",
    "          0.03846961,  0.27736914, -0.2928034 , -0.1550666 ,\n",
    "         -0.18692133,  0.16390884, -0.19741818, -0.18971986,\n",
    "          0.1929416 , -0.04595307,  0.09777829, -0.06373408,\n",
    "          0.07882622,  0.12466305,  0.03714123,  0.19713765,\n",
    "         -0.03148508, -0.06879009, -0.04990068, -0.10092673,\n",
    "         -0.24139044,  0.28020817, -0.21664158]]])"
   ]
  },
  {
   "cell_type": "code",
   "execution_count": 368,
   "metadata": {},
   "outputs": [],
   "source": [
    "n_qubits = 1\n",
    "dev_state = qml.device(\"default.qubit\", wires=n_qubits)\n",
    "\n",
    "\n",
    "@qml.qnode(dev_state)\n",
    "def q_fc_state(params, inputs):\n",
    "    \"\"\"A variational quantum circuit representing the DRC.\n",
    "\n",
    "    Args:\n",
    "        params (array[float]): array of parameters\n",
    "        inputs = [x, y]\n",
    "        x (array[float]): 1-d input vector\n",
    "        y (array[float]): single output state density matrix\n",
    "\n",
    "    Returns:\n",
    "        float: fidelity between output state and input\n",
    "    \"\"\"\n",
    "    \n",
    "    # layer iteration\n",
    "    for l in range(len(params[0])):\n",
    "        # qubit iteration\n",
    "        for q in range(n_qubits):\n",
    "            # gate iteration\n",
    "            for g in range(int(len(inputs)/3)):\n",
    "                qml.Rot(*(params[0][l][3*g:3*(g+1)] * inputs[3*g:3*(g+1)] + params[1][l][3*g:3*(g+1)]), wires=q)\n",
    "    \n",
    "    return qml.expval(qml.Hermitian(dm_labels[0], wires=[0]))\n"
   ]
  },
  {
   "cell_type": "code",
   "execution_count": 370,
   "metadata": {},
   "outputs": [
    {
     "data": {
      "text/plain": [
       "((1600, 2), (400, 2))"
      ]
     },
     "execution_count": 370,
     "metadata": {},
     "output_type": "execute_result"
    }
   ],
   "source": [
    "# trained weights model_0 state\n",
    "\n",
    "train_state = np.zeros((len(X_train), 2), dtype=np.complex_)\n",
    "test_state = np.zeros((len(X_test), 2), dtype=np.complex_)\n",
    "\n",
    "for i in range(len(train_state)):\n",
    "    \n",
    "    q_fc_state(QFC_weights_0, X_train[i])\n",
    "    temp = np.flip(dev_state._state)\n",
    "    train_state[i, :] = temp\n",
    "\n",
    "for i in range(len(test_state)):\n",
    "    \n",
    "    q_fc_state(QFC_weights_0, X_test[i])\n",
    "    temp = np.flip(dev_state._state)\n",
    "    test_state[i, :] = temp\n",
    "    \n",
    "train_state.shape, test_state.shape"
   ]
  },
  {
   "cell_type": "code",
   "execution_count": 371,
   "metadata": {},
   "outputs": [],
   "source": [
    "np.savetxt('./8_0_PCA_QFC-State_Train.txt', train_state)\n",
    "np.savetxt('./8_0_PCA_QFC-State_Test.txt', test_state)"
   ]
  },
  {
   "cell_type": "code",
   "execution_count": 372,
   "metadata": {},
   "outputs": [
    {
     "data": {
      "text/plain": [
       "((1600, 2), (400, 2))"
      ]
     },
     "execution_count": 372,
     "metadata": {},
     "output_type": "execute_result"
    }
   ],
   "source": [
    "# trained weights model_1 state\n",
    "\n",
    "train_state = np.zeros((len(X_train), 2), dtype=np.complex_)\n",
    "test_state = np.zeros((len(X_test), 2), dtype=np.complex_)\n",
    "\n",
    "for i in range(len(train_state)):\n",
    "    \n",
    "    q_fc_state(QFC_weights_1, X_train[i])\n",
    "    temp = np.flip(dev_state._state)\n",
    "    train_state[i, :] = temp\n",
    "\n",
    "for i in range(len(test_state)):\n",
    "    \n",
    "    q_fc_state(QFC_weights_1, X_test[i])\n",
    "    temp = np.flip(dev_state._state)\n",
    "    test_state[i, :] = temp\n",
    "    \n",
    "train_state.shape, test_state.shape"
   ]
  },
  {
   "cell_type": "code",
   "execution_count": 373,
   "metadata": {},
   "outputs": [],
   "source": [
    "np.savetxt('./8_1_PCA_QFC-State_Train.txt', train_state)\n",
    "np.savetxt('./8_1_PCA_QFC-State_Test.txt', test_state)"
   ]
  },
  {
   "cell_type": "code",
   "execution_count": 374,
   "metadata": {},
   "outputs": [
    {
     "data": {
      "text/plain": [
       "((1600, 2), (400, 2))"
      ]
     },
     "execution_count": 374,
     "metadata": {},
     "output_type": "execute_result"
    }
   ],
   "source": [
    "# trained weights model_2 state\n",
    "\n",
    "train_state = np.zeros((len(X_train), 2), dtype=np.complex_)\n",
    "test_state = np.zeros((len(X_test), 2), dtype=np.complex_)\n",
    "\n",
    "for i in range(len(train_state)):\n",
    "    \n",
    "    q_fc_state(QFC_weights_2, X_train[i])\n",
    "    temp = np.flip(dev_state._state)\n",
    "    train_state[i, :] = temp\n",
    "\n",
    "for i in range(len(test_state)):\n",
    "    \n",
    "    q_fc_state(QFC_weights_2, X_test[i])\n",
    "    temp = np.flip(dev_state._state)\n",
    "    test_state[i, :] = temp\n",
    "    \n",
    "train_state.shape, test_state.shape"
   ]
  },
  {
   "cell_type": "code",
   "execution_count": 375,
   "metadata": {},
   "outputs": [],
   "source": [
    "np.savetxt('./8_2_PCA_QFC-State_Train.txt', train_state)\n",
    "np.savetxt('./8_2_PCA_QFC-State_Test.txt', test_state)"
   ]
  },
  {
   "cell_type": "code",
   "execution_count": 376,
   "metadata": {},
   "outputs": [
    {
     "data": {
      "text/plain": [
       "((1600, 2), (400, 2))"
      ]
     },
     "execution_count": 376,
     "metadata": {},
     "output_type": "execute_result"
    }
   ],
   "source": [
    "# Random model_0 state\n",
    "\n",
    "train_state = np.zeros((len(X_train), 2), dtype=np.complex_)\n",
    "test_state = np.zeros((len(X_test), 2), dtype=np.complex_)\n",
    "\n",
    "for i in range(len(train_state)):\n",
    "    \n",
    "    q_fc_state(random_weights_0, X_train[i])\n",
    "    temp = np.flip(dev_state._state)\n",
    "    train_state[i, :] = temp\n",
    "\n",
    "for i in range(len(test_state)):\n",
    "    \n",
    "    q_fc_state(random_weights_0, X_test[i])\n",
    "    temp = np.flip(dev_state._state)\n",
    "    test_state[i, :] = temp\n",
    "    \n",
    "train_state.shape, test_state.shape"
   ]
  },
  {
   "cell_type": "code",
   "execution_count": 377,
   "metadata": {},
   "outputs": [],
   "source": [
    "np.savetxt('./8_0_PCA_QFC-RandomState_Train.txt', train_state)\n",
    "np.savetxt('./8_0_PCA_QFC-RandomState_Test.txt', test_state)"
   ]
  },
  {
   "cell_type": "code",
   "execution_count": 378,
   "metadata": {},
   "outputs": [
    {
     "data": {
      "text/plain": [
       "((1600, 2), (400, 2))"
      ]
     },
     "execution_count": 378,
     "metadata": {},
     "output_type": "execute_result"
    }
   ],
   "source": [
    "# Random model_1 state\n",
    "\n",
    "train_state = np.zeros((len(X_train), 2), dtype=np.complex_)\n",
    "test_state = np.zeros((len(X_test), 2), dtype=np.complex_)\n",
    "\n",
    "for i in range(len(train_state)):\n",
    "    \n",
    "    q_fc_state(random_weights_1, X_train[i])\n",
    "    temp = np.flip(dev_state._state)\n",
    "    train_state[i, :] = temp\n",
    "\n",
    "for i in range(len(test_state)):\n",
    "    \n",
    "    q_fc_state(random_weights_1, X_test[i])\n",
    "    temp = np.flip(dev_state._state)\n",
    "    test_state[i, :] = temp\n",
    "    \n",
    "train_state.shape, test_state.shape"
   ]
  },
  {
   "cell_type": "code",
   "execution_count": 379,
   "metadata": {},
   "outputs": [],
   "source": [
    "np.savetxt('./8_1_PCA_QFC-RandomState_Train.txt', train_state)\n",
    "np.savetxt('./8_1_PCA_QFC-RandomState_Test.txt', test_state)"
   ]
  },
  {
   "cell_type": "code",
   "execution_count": 380,
   "metadata": {},
   "outputs": [
    {
     "data": {
      "text/plain": [
       "((1600, 2), (400, 2))"
      ]
     },
     "execution_count": 380,
     "metadata": {},
     "output_type": "execute_result"
    }
   ],
   "source": [
    "# Random model_2 state\n",
    "\n",
    "train_state = np.zeros((len(X_train), 2), dtype=np.complex_)\n",
    "test_state = np.zeros((len(X_test), 2), dtype=np.complex_)\n",
    "\n",
    "for i in range(len(train_state)):\n",
    "    \n",
    "    q_fc_state(random_weights_2, X_train[i])\n",
    "    temp = np.flip(dev_state._state)\n",
    "    train_state[i, :] = temp\n",
    "\n",
    "for i in range(len(test_state)):\n",
    "    \n",
    "    q_fc_state(random_weights_2, X_test[i])\n",
    "    temp = np.flip(dev_state._state)\n",
    "    test_state[i, :] = temp\n",
    "    \n",
    "train_state.shape, test_state.shape"
   ]
  },
  {
   "cell_type": "code",
   "execution_count": 381,
   "metadata": {},
   "outputs": [],
   "source": [
    "np.savetxt('./8_2_PCA_QFC-RandomState_Train.txt', train_state)\n",
    "np.savetxt('./8_2_PCA_QFC-RandomState_Test.txt', test_state)"
   ]
  },
  {
   "cell_type": "code",
   "execution_count": null,
   "metadata": {},
   "outputs": [],
   "source": []
  }
 ],
 "metadata": {
  "colab": {
   "authorship_tag": "ABX9TyNNN7AuWgekOgocJ/DE5q9Z",
   "collapsed_sections": [],
   "name": "DRC MNIST 2 Class.ipynb",
   "provenance": []
  },
  "kernelspec": {
   "display_name": "Python 3",
   "language": "python",
   "name": "python3"
  },
  "language_info": {
   "codemirror_mode": {
    "name": "ipython",
    "version": 3
   },
   "file_extension": ".py",
   "mimetype": "text/x-python",
   "name": "python",
   "nbconvert_exporter": "python",
   "pygments_lexer": "ipython3",
   "version": "3.8.6"
  }
 },
 "nbformat": 4,
 "nbformat_minor": 1
}
