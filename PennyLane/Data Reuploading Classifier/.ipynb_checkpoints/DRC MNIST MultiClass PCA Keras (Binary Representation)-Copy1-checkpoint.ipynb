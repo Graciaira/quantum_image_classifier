{
 "cells": [
  {
   "cell_type": "code",
   "execution_count": 1,
   "metadata": {
    "colab": {
     "base_uri": "https://localhost:8080/"
    },
    "executionInfo": {
     "elapsed": 21741,
     "status": "ok",
     "timestamp": 1609942401542,
     "user": {
      "displayName": "Eraraya Ricardo Muten",
      "photoUrl": "https://lh3.googleusercontent.com/a-/AOh14Ggpw7xw-lyk6u6l92QjpI7MlI7qjJuuciCpwrUd=s64",
      "userId": "03770692095188133952"
     },
     "user_tz": -420
    },
    "id": "e4abR9zSaWNk",
    "outputId": "94ee80ef-152f-452f-d852-06919b9942a4"
   },
   "outputs": [
    {
     "name": "stdout",
     "output_type": "stream",
     "text": [
      "/content/drive\n",
      "Mounted at /content/drive\n"
     ]
    }
   ],
   "source": [
    "# Mount Google Drive\n",
    "from google.colab import drive # import drive from google colab\n",
    " \n",
    "ROOT = \"/content/drive\"     # default location for the drive\n",
    "print(ROOT)                 # print content of ROOT (Optional)\n",
    " \n",
    "drive.mount(ROOT)           # we mount the google drive at /content/drive"
   ]
  },
  {
   "cell_type": "code",
   "execution_count": 1,
   "metadata": {
    "executionInfo": {
     "elapsed": 4192,
     "status": "ok",
     "timestamp": 1610025781584,
     "user": {
      "displayName": "Eraraya Ricardo Muten",
      "photoUrl": "https://lh3.googleusercontent.com/a-/AOh14Ggpw7xw-lyk6u6l92QjpI7MlI7qjJuuciCpwrUd=s64",
      "userId": "03770692095188133952"
     },
     "user_tz": -420
    },
    "id": "gk5AKGKcYGOo"
   },
   "outputs": [],
   "source": [
    "!pip install pennylane\n",
    "from IPython.display import clear_output\n",
    "clear_output()"
   ]
  },
  {
   "cell_type": "code",
   "execution_count": null,
   "metadata": {
    "id": "GigSJusGbx1b"
   },
   "outputs": [],
   "source": [
    "import os\n",
    "\n",
    "def restart_runtime():\n",
    "  os.kill(os.getpid(), 9)\n",
    "restart_runtime()"
   ]
  },
  {
   "cell_type": "code",
   "execution_count": 1,
   "metadata": {
    "executionInfo": {
     "elapsed": 857,
     "status": "ok",
     "timestamp": 1610025787385,
     "user": {
      "displayName": "Eraraya Ricardo Muten",
      "photoUrl": "https://lh3.googleusercontent.com/a-/AOh14Ggpw7xw-lyk6u6l92QjpI7MlI7qjJuuciCpwrUd=s64",
      "userId": "03770692095188133952"
     },
     "user_tz": -420
    },
    "id": "HoLmJLkIX810"
   },
   "outputs": [],
   "source": [
    "# %matplotlib inline\n",
    "import matplotlib.pyplot as plt\n",
    "from mpl_toolkits.axes_grid1 import make_axes_locatable\n",
    "\n",
    "import numpy as np\n",
    "import tensorflow as tf\n",
    "from tensorflow.keras.utils import to_categorical"
   ]
  },
  {
   "cell_type": "markdown",
   "metadata": {
    "id": "vZFNOwFXoY8N"
   },
   "source": [
    "# Loading Raw Data"
   ]
  },
  {
   "cell_type": "code",
   "execution_count": 2,
   "metadata": {
    "colab": {
     "base_uri": "https://localhost:8080/"
    },
    "executionInfo": {
     "elapsed": 2726,
     "status": "ok",
     "timestamp": 1610025792089,
     "user": {
      "displayName": "Eraraya Ricardo Muten",
      "photoUrl": "https://lh3.googleusercontent.com/a-/AOh14Ggpw7xw-lyk6u6l92QjpI7MlI7qjJuuciCpwrUd=s64",
      "userId": "03770692095188133952"
     },
     "user_tz": -420
    },
    "id": "IvdFsGCVof9g",
    "outputId": "c1e94fa1-a11f-4bff-c7b7-975b8b1b79fb"
   },
   "outputs": [],
   "source": [
    "(x_train, y_train), (x_test, y_test) = tf.keras.datasets.mnist.load_data()"
   ]
  },
  {
   "cell_type": "code",
   "execution_count": 3,
   "metadata": {
    "executionInfo": {
     "elapsed": 1251,
     "status": "ok",
     "timestamp": 1610025792677,
     "user": {
      "displayName": "Eraraya Ricardo Muten",
      "photoUrl": "https://lh3.googleusercontent.com/a-/AOh14Ggpw7xw-lyk6u6l92QjpI7MlI7qjJuuciCpwrUd=s64",
      "userId": "03770692095188133952"
     },
     "user_tz": -420
    },
    "id": "c6zvGFvIoxAN"
   },
   "outputs": [],
   "source": [
    "x_train_flatten = x_train.reshape(x_train.shape[0], x_train.shape[1]*x_train.shape[2])/255.0\n",
    "x_test_flatten = x_test.reshape(x_test.shape[0], x_test.shape[1]*x_test.shape[2])/255.0"
   ]
  },
  {
   "cell_type": "code",
   "execution_count": 4,
   "metadata": {
    "colab": {
     "base_uri": "https://localhost:8080/"
    },
    "executionInfo": {
     "elapsed": 948,
     "status": "ok",
     "timestamp": 1610025792678,
     "user": {
      "displayName": "Eraraya Ricardo Muten",
      "photoUrl": "https://lh3.googleusercontent.com/a-/AOh14Ggpw7xw-lyk6u6l92QjpI7MlI7qjJuuciCpwrUd=s64",
      "userId": "03770692095188133952"
     },
     "user_tz": -420
    },
    "id": "Rmj1dzaso00h",
    "outputId": "f59eea77-95bb-4b6a-b0ba-14a7e5760b11"
   },
   "outputs": [
    {
     "name": "stdout",
     "output_type": "stream",
     "text": [
      "(60000, 784) (60000,)\n",
      "(10000, 784) (10000,)\n"
     ]
    }
   ],
   "source": [
    "print(x_train_flatten.shape, y_train.shape)\n",
    "print(x_test_flatten.shape, y_test.shape)"
   ]
  },
  {
   "cell_type": "code",
   "execution_count": 5,
   "metadata": {
    "colab": {
     "base_uri": "https://localhost:8080/"
    },
    "executionInfo": {
     "elapsed": 945,
     "status": "ok",
     "timestamp": 1610025793507,
     "user": {
      "displayName": "Eraraya Ricardo Muten",
      "photoUrl": "https://lh3.googleusercontent.com/a-/AOh14Ggpw7xw-lyk6u6l92QjpI7MlI7qjJuuciCpwrUd=s64",
      "userId": "03770692095188133952"
     },
     "user_tz": -420
    },
    "id": "d10VoIC6o5_I",
    "outputId": "774bafb6-5cbe-42b3-98d0-643e7e943f91"
   },
   "outputs": [
    {
     "name": "stdout",
     "output_type": "stream",
     "text": [
      "(5923, 784)\n",
      "(6742, 784)\n",
      "(5958, 784)\n",
      "(6131, 784)\n",
      "(5842, 784)\n",
      "(5421, 784)\n",
      "(5918, 784)\n",
      "(6265, 784)\n",
      "(5851, 784)\n",
      "(5949, 784)\n"
     ]
    }
   ],
   "source": [
    "x_train_0 = x_train_flatten[y_train == 0]\n",
    "x_train_1 = x_train_flatten[y_train == 1]\n",
    "x_train_2 = x_train_flatten[y_train == 2]\n",
    "x_train_3 = x_train_flatten[y_train == 3]\n",
    "x_train_4 = x_train_flatten[y_train == 4]\n",
    "x_train_5 = x_train_flatten[y_train == 5]\n",
    "x_train_6 = x_train_flatten[y_train == 6]\n",
    "x_train_7 = x_train_flatten[y_train == 7]\n",
    "x_train_8 = x_train_flatten[y_train == 8]\n",
    "x_train_9 = x_train_flatten[y_train == 9]\n",
    "\n",
    "x_train_list = [x_train_0, x_train_1, x_train_2, x_train_3, x_train_4, x_train_5, x_train_6, x_train_7, x_train_8, x_train_9]\n",
    "\n",
    "print(x_train_0.shape)\n",
    "print(x_train_1.shape)\n",
    "print(x_train_2.shape)\n",
    "print(x_train_3.shape)\n",
    "print(x_train_4.shape)\n",
    "print(x_train_5.shape)\n",
    "print(x_train_6.shape)\n",
    "print(x_train_7.shape)\n",
    "print(x_train_8.shape)\n",
    "print(x_train_9.shape)"
   ]
  },
  {
   "cell_type": "code",
   "execution_count": 6,
   "metadata": {
    "colab": {
     "base_uri": "https://localhost:8080/"
    },
    "executionInfo": {
     "elapsed": 901,
     "status": "ok",
     "timestamp": 1610025796926,
     "user": {
      "displayName": "Eraraya Ricardo Muten",
      "photoUrl": "https://lh3.googleusercontent.com/a-/AOh14Ggpw7xw-lyk6u6l92QjpI7MlI7qjJuuciCpwrUd=s64",
      "userId": "03770692095188133952"
     },
     "user_tz": -420
    },
    "id": "snFw4LqepFOl",
    "outputId": "d62bdedd-8ad4-4da9-c7e8-75b8a0a9ba7b"
   },
   "outputs": [
    {
     "name": "stdout",
     "output_type": "stream",
     "text": [
      "(980, 784)\n",
      "(1135, 784)\n",
      "(1032, 784)\n",
      "(1010, 784)\n",
      "(982, 784)\n",
      "(892, 784)\n",
      "(958, 784)\n",
      "(1028, 784)\n",
      "(974, 784)\n",
      "(1009, 784)\n"
     ]
    }
   ],
   "source": [
    "x_test_0 = x_test_flatten[y_test == 0]\n",
    "x_test_1 = x_test_flatten[y_test == 1]\n",
    "x_test_2 = x_test_flatten[y_test == 2]\n",
    "x_test_3 = x_test_flatten[y_test == 3]\n",
    "x_test_4 = x_test_flatten[y_test == 4]\n",
    "x_test_5 = x_test_flatten[y_test == 5]\n",
    "x_test_6 = x_test_flatten[y_test == 6]\n",
    "x_test_7 = x_test_flatten[y_test == 7]\n",
    "x_test_8 = x_test_flatten[y_test == 8]\n",
    "x_test_9 = x_test_flatten[y_test == 9]\n",
    "\n",
    "x_test_list = [x_test_0, x_test_1, x_test_2, x_test_3, x_test_4, x_test_5, x_test_6, x_test_7, x_test_8, x_test_9]\n",
    "\n",
    "print(x_test_0.shape)\n",
    "print(x_test_1.shape)\n",
    "print(x_test_2.shape)\n",
    "print(x_test_3.shape)\n",
    "print(x_test_4.shape)\n",
    "print(x_test_5.shape)\n",
    "print(x_test_6.shape)\n",
    "print(x_test_7.shape)\n",
    "print(x_test_8.shape)\n",
    "print(x_test_9.shape)"
   ]
  },
  {
   "cell_type": "markdown",
   "metadata": {
    "id": "SAxUS6Lhp95g"
   },
   "source": [
    "# Selecting the dataset\n",
    "\n",
    "Output: X_train, Y_train, X_test, Y_test"
   ]
  },
  {
   "cell_type": "code",
   "execution_count": 7,
   "metadata": {
    "colab": {
     "base_uri": "https://localhost:8080/"
    },
    "executionInfo": {
     "elapsed": 881,
     "status": "ok",
     "timestamp": 1610032449016,
     "user": {
      "displayName": "Eraraya Ricardo Muten",
      "photoUrl": "https://lh3.googleusercontent.com/a-/AOh14Ggpw7xw-lyk6u6l92QjpI7MlI7qjJuuciCpwrUd=s64",
      "userId": "03770692095188133952"
     },
     "user_tz": -420
    },
    "id": "4Nr0gmM9DFd_",
    "outputId": "d4120711-a864-4d5a-aef1-2c9ab9e4078c"
   },
   "outputs": [
    {
     "name": "stdout",
     "output_type": "stream",
     "text": [
      "(800, 784) (800,)\n",
      "(200, 784) (200,)\n"
     ]
    }
   ],
   "source": [
    "num_sample = 200\n",
    "n_class = 4\n",
    "mult_test = 0.25\n",
    "\n",
    "X_train = x_train_list[0][:num_sample, :]\n",
    "X_test = x_test_list[0][:int(mult_test*num_sample), :]\n",
    "\n",
    "Y_train = np.zeros((n_class*X_train.shape[0],), dtype=int)\n",
    "Y_test = np.zeros((n_class*X_test.shape[0],), dtype=int)\n",
    "\n",
    "for i in range(n_class-1):\n",
    "  X_train = np.concatenate((X_train, x_train_list[i+1][:num_sample, :]), axis=0)\n",
    "  Y_train[num_sample*(i+1):num_sample*(i+2)] = int(i+1)\n",
    "\n",
    "  X_test = np.concatenate((X_test, x_test_list[i+1][:int(mult_test*num_sample), :]), axis=0)\n",
    "  Y_test[int(mult_test*num_sample*(i+1)):int(mult_test*num_sample*(i+2))] = int(i+1)\n",
    "\n",
    "print(X_train.shape, Y_train.shape)\n",
    "print(X_test.shape, Y_test.shape)"
   ]
  },
  {
   "cell_type": "markdown",
   "metadata": {
    "id": "F_4AcCtNsC8o"
   },
   "source": [
    "# Dataset Preprocessing (Standardization + PCA)"
   ]
  },
  {
   "cell_type": "markdown",
   "metadata": {
    "id": "QP-6XdVPsfxC"
   },
   "source": [
    "## Standardization"
   ]
  },
  {
   "cell_type": "code",
   "execution_count": 8,
   "metadata": {
    "executionInfo": {
     "elapsed": 997,
     "status": "ok",
     "timestamp": 1610032452310,
     "user": {
      "displayName": "Eraraya Ricardo Muten",
      "photoUrl": "https://lh3.googleusercontent.com/a-/AOh14Ggpw7xw-lyk6u6l92QjpI7MlI7qjJuuciCpwrUd=s64",
      "userId": "03770692095188133952"
     },
     "user_tz": -420
    },
    "id": "EDtzCvTur6BR"
   },
   "outputs": [],
   "source": [
    "def normalize(X, use_params=False, params=None):\n",
    "    \"\"\"Normalize the given dataset X\n",
    "    Args:\n",
    "        X: ndarray, dataset\n",
    "    \n",
    "    Returns:\n",
    "        (Xbar, mean, std): tuple of ndarray, Xbar is the normalized dataset\n",
    "        with mean 0 and standard deviation 1; mean and std are the \n",
    "        mean and standard deviation respectively.\n",
    "    \n",
    "    Note:\n",
    "        You will encounter dimensions where the standard deviation is\n",
    "        zero, for those when you do normalization the normalized data\n",
    "        will be NaN. Handle this by setting using `std = 1` for those \n",
    "        dimensions when doing normalization.\n",
    "    \"\"\"\n",
    "    if use_params:\n",
    "        mu = params[0]\n",
    "        std_filled = [1]\n",
    "    else:\n",
    "        mu = np.mean(X, axis=0)\n",
    "        std = np.std(X, axis=0)\n",
    "        #std_filled = std.copy()\n",
    "    #std_filled[std==0] = 1.\n",
    "    Xbar = (X - mu)/(std + 1e-8)\n",
    "    return Xbar, mu, std\n"
   ]
  },
  {
   "cell_type": "code",
   "execution_count": 9,
   "metadata": {
    "colab": {
     "base_uri": "https://localhost:8080/"
    },
    "executionInfo": {
     "elapsed": 1011,
     "status": "ok",
     "timestamp": 1610032453516,
     "user": {
      "displayName": "Eraraya Ricardo Muten",
      "photoUrl": "https://lh3.googleusercontent.com/a-/AOh14Ggpw7xw-lyk6u6l92QjpI7MlI7qjJuuciCpwrUd=s64",
      "userId": "03770692095188133952"
     },
     "user_tz": -420
    },
    "id": "Ma2r_EXQsHYJ",
    "outputId": "b3d76c69-3ad5-43e6-a310-1e5c02554fd4"
   },
   "outputs": [
    {
     "data": {
      "text/plain": [
       "((800, 784), (800,))"
      ]
     },
     "execution_count": 9,
     "metadata": {},
     "output_type": "execute_result"
    }
   ],
   "source": [
    "X_train, mu_train, std_train = normalize(X_train)\n",
    "X_train.shape, Y_train.shape"
   ]
  },
  {
   "cell_type": "code",
   "execution_count": 10,
   "metadata": {
    "colab": {
     "base_uri": "https://localhost:8080/"
    },
    "executionInfo": {
     "elapsed": 762,
     "status": "ok",
     "timestamp": 1610032453517,
     "user": {
      "displayName": "Eraraya Ricardo Muten",
      "photoUrl": "https://lh3.googleusercontent.com/a-/AOh14Ggpw7xw-lyk6u6l92QjpI7MlI7qjJuuciCpwrUd=s64",
      "userId": "03770692095188133952"
     },
     "user_tz": -420
    },
    "id": "p8DrXKvutdFL",
    "outputId": "2c6e20b3-c4a7-46e1-c92b-2e4d3fbecc91"
   },
   "outputs": [
    {
     "data": {
      "text/plain": [
       "((200, 784), (200,))"
      ]
     },
     "execution_count": 10,
     "metadata": {},
     "output_type": "execute_result"
    }
   ],
   "source": [
    "X_test = (X_test - mu_train)/(std_train + 1e-8)\n",
    "X_test.shape, Y_test.shape"
   ]
  },
  {
   "cell_type": "markdown",
   "metadata": {
    "id": "BwikC3mysh4L"
   },
   "source": [
    "## PCA"
   ]
  },
  {
   "cell_type": "code",
   "execution_count": 11,
   "metadata": {
    "executionInfo": {
     "elapsed": 781,
     "status": "ok",
     "timestamp": 1610032456319,
     "user": {
      "displayName": "Eraraya Ricardo Muten",
      "photoUrl": "https://lh3.googleusercontent.com/a-/AOh14Ggpw7xw-lyk6u6l92QjpI7MlI7qjJuuciCpwrUd=s64",
      "userId": "03770692095188133952"
     },
     "user_tz": -420
    },
    "id": "0AHFK0_lsdzh"
   },
   "outputs": [],
   "source": [
    "from sklearn.decomposition import PCA\n",
    "from matplotlib import pyplot as plt"
   ]
  },
  {
   "cell_type": "code",
   "execution_count": 12,
   "metadata": {
    "executionInfo": {
     "elapsed": 955,
     "status": "ok",
     "timestamp": 1610032457668,
     "user": {
      "displayName": "Eraraya Ricardo Muten",
      "photoUrl": "https://lh3.googleusercontent.com/a-/AOh14Ggpw7xw-lyk6u6l92QjpI7MlI7qjJuuciCpwrUd=s64",
      "userId": "03770692095188133952"
     },
     "user_tz": -420
    },
    "id": "CzdxRenYstM_"
   },
   "outputs": [],
   "source": [
    "num_component = 18\n",
    "pca = PCA(n_components=num_component, svd_solver='full')"
   ]
  },
  {
   "cell_type": "code",
   "execution_count": 13,
   "metadata": {
    "colab": {
     "base_uri": "https://localhost:8080/"
    },
    "executionInfo": {
     "elapsed": 1032,
     "status": "ok",
     "timestamp": 1610032458038,
     "user": {
      "displayName": "Eraraya Ricardo Muten",
      "photoUrl": "https://lh3.googleusercontent.com/a-/AOh14Ggpw7xw-lyk6u6l92QjpI7MlI7qjJuuciCpwrUd=s64",
      "userId": "03770692095188133952"
     },
     "user_tz": -420
    },
    "id": "qUHn6-Zvsz2X",
    "outputId": "7683cee8-5d52-490f-ad67-b0fda8c3dec3"
   },
   "outputs": [
    {
     "data": {
      "text/plain": [
       "PCA(n_components=18, svd_solver='full')"
      ]
     },
     "execution_count": 13,
     "metadata": {},
     "output_type": "execute_result"
    }
   ],
   "source": [
    "pca.fit(X_train)"
   ]
  },
  {
   "cell_type": "code",
   "execution_count": 14,
   "metadata": {
    "colab": {
     "base_uri": "https://localhost:8080/"
    },
    "executionInfo": {
     "elapsed": 705,
     "status": "ok",
     "timestamp": 1610032458857,
     "user": {
      "displayName": "Eraraya Ricardo Muten",
      "photoUrl": "https://lh3.googleusercontent.com/a-/AOh14Ggpw7xw-lyk6u6l92QjpI7MlI7qjJuuciCpwrUd=s64",
      "userId": "03770692095188133952"
     },
     "user_tz": -420
    },
    "id": "dyj975-ttIbe",
    "outputId": "99bd5a6a-53f0-4a1b-934d-0e397aff3d99"
   },
   "outputs": [
    {
     "data": {
      "text/plain": [
       "array([0.11187049, 0.17426217, 0.22255275, 0.26823812, 0.29848662,\n",
       "       0.32845008, 0.35463849, 0.37642907, 0.39726625, 0.41665801,\n",
       "       0.43362531, 0.45000593, 0.46514029, 0.47967233, 0.49309012,\n",
       "       0.50584068, 0.51819716, 0.53015231])"
      ]
     },
     "execution_count": 14,
     "metadata": {},
     "output_type": "execute_result"
    }
   ],
   "source": [
    "np.cumsum(pca.explained_variance_ratio_)"
   ]
  },
  {
   "cell_type": "code",
   "execution_count": 15,
   "metadata": {
    "executionInfo": {
     "elapsed": 836,
     "status": "ok",
     "timestamp": 1610032460743,
     "user": {
      "displayName": "Eraraya Ricardo Muten",
      "photoUrl": "https://lh3.googleusercontent.com/a-/AOh14Ggpw7xw-lyk6u6l92QjpI7MlI7qjJuuciCpwrUd=s64",
      "userId": "03770692095188133952"
     },
     "user_tz": -420
    },
    "id": "g2Cv6r9utNKg"
   },
   "outputs": [],
   "source": [
    "X_train = pca.transform(X_train)\n",
    "X_test = pca.transform(X_test)"
   ]
  },
  {
   "cell_type": "code",
   "execution_count": 16,
   "metadata": {
    "colab": {
     "base_uri": "https://localhost:8080/"
    },
    "executionInfo": {
     "elapsed": 1345,
     "status": "ok",
     "timestamp": 1610032461574,
     "user": {
      "displayName": "Eraraya Ricardo Muten",
      "photoUrl": "https://lh3.googleusercontent.com/a-/AOh14Ggpw7xw-lyk6u6l92QjpI7MlI7qjJuuciCpwrUd=s64",
      "userId": "03770692095188133952"
     },
     "user_tz": -420
    },
    "id": "ahC8V_QzuDzV",
    "outputId": "f386544f-fbaa-461e-f8de-161b1618e189"
   },
   "outputs": [
    {
     "name": "stdout",
     "output_type": "stream",
     "text": [
      "(800, 18) (800,)\n",
      "(200, 18) (200,)\n"
     ]
    }
   ],
   "source": [
    "print(X_train.shape, Y_train.shape)\n",
    "print(X_test.shape, Y_test.shape)"
   ]
  },
  {
   "cell_type": "markdown",
   "metadata": {
    "id": "CoGE5F_Gc7Bp"
   },
   "source": [
    "## Norm"
   ]
  },
  {
   "cell_type": "code",
   "execution_count": 17,
   "metadata": {
    "executionInfo": {
     "elapsed": 1222,
     "status": "ok",
     "timestamp": 1610032463633,
     "user": {
      "displayName": "Eraraya Ricardo Muten",
      "photoUrl": "https://lh3.googleusercontent.com/a-/AOh14Ggpw7xw-lyk6u6l92QjpI7MlI7qjJuuciCpwrUd=s64",
      "userId": "03770692095188133952"
     },
     "user_tz": -420
    },
    "id": "00-l6454QeXB"
   },
   "outputs": [],
   "source": [
    "X_train = (X_train.T / np.sqrt(np.sum(X_train ** 2, -1))).T\n",
    "X_test = (X_test.T / np.sqrt(np.sum(X_test ** 2, -1))).T"
   ]
  },
  {
   "cell_type": "code",
   "execution_count": 18,
   "metadata": {
    "colab": {
     "base_uri": "https://localhost:8080/",
     "height": 284
    },
    "executionInfo": {
     "elapsed": 1028,
     "status": "ok",
     "timestamp": 1610032463633,
     "user": {
      "displayName": "Eraraya Ricardo Muten",
      "photoUrl": "https://lh3.googleusercontent.com/a-/AOh14Ggpw7xw-lyk6u6l92QjpI7MlI7qjJuuciCpwrUd=s64",
      "userId": "03770692095188133952"
     },
     "user_tz": -420
    },
    "id": "voxkEj1BuJB6",
    "outputId": "c856385b-f64d-41c1-a0aa-402d1910420c"
   },
   "outputs": [
    {
     "data": {
      "text/plain": [
       "<matplotlib.collections.PathCollection at 0x7fcc25b477c0>"
      ]
     },
     "execution_count": 18,
     "metadata": {},
     "output_type": "execute_result"
    },
    {
     "data": {
      "image/png": "[encoded data removed]",
      "text/plain": [
       "<Figure size 432x288 with 1 Axes>"
      ]
     },
     "metadata": {
      "needs_background": "light"
     },
     "output_type": "display_data"
    }
   ],
   "source": [
    "plt.scatter(X_train[:100, 0], X_train[:100, 1])\n",
    "plt.scatter(X_train[100:200, 0], X_train[100:200, 1])\n",
    "plt.scatter(X_train[200:300, 0], X_train[200:300, 1])"
   ]
  },
  {
   "cell_type": "markdown",
   "metadata": {},
   "source": [
    "## Binary Rep"
   ]
  },
  {
   "cell_type": "code",
   "execution_count": 19,
   "metadata": {},
   "outputs": [],
   "source": [
    "def dec2bin(y_class, n_qubit):\n",
    "    temp = bin(y_class).replace('b', '')[1:]\n",
    "    out = np.zeros((n_qubit,))\n",
    "    \n",
    "    if len(temp) > n_qubit:\n",
    "        print(\"Number of qubit can't be lowered than the binary representation of the class decimal number.\")\n",
    "        return None\n",
    "    elif len(temp) < n_qubit:\n",
    "        for i in range(n_qubit-len(temp)):\n",
    "            temp = '0' + temp\n",
    "    \n",
    "    for i in range(len(out)):\n",
    "        out[i] = temp[i]\n",
    "        \n",
    "    return out"
   ]
  },
  {
   "cell_type": "code",
   "execution_count": 20,
   "metadata": {},
   "outputs": [
    {
     "data": {
      "text/plain": [
       "((800, 2), (200, 2))"
      ]
     },
     "execution_count": 20,
     "metadata": {},
     "output_type": "execute_result"
    }
   ],
   "source": [
    "temp_train = np.zeros((len(Y_train), 2))\n",
    "\n",
    "for i in range(len(Y_train)):\n",
    "    temp_train[i] = dec2bin(Y_train[i], 2)\n",
    "    \n",
    "    \n",
    "temp_test = np.zeros((len(Y_test), 2))\n",
    "\n",
    "for i in range(len(Y_test)):\n",
    "    temp_test[i] = dec2bin(Y_test[i], 2)\n",
    "    \n",
    "    \n",
    "Y_train = temp_train\n",
    "Y_test = temp_test\n",
    "\n",
    "Y_train.shape, Y_test.shape"
   ]
  },
  {
   "cell_type": "markdown",
   "metadata": {
    "id": "ytKzDR1JuKub"
   },
   "source": [
    "# Quantum"
   ]
  },
  {
   "cell_type": "code",
   "execution_count": 23,
   "metadata": {
    "executionInfo": {
     "elapsed": 885,
     "status": "ok",
     "timestamp": 1610032467269,
     "user": {
      "displayName": "Eraraya Ricardo Muten",
      "photoUrl": "https://lh3.googleusercontent.com/a-/AOh14Ggpw7xw-lyk6u6l92QjpI7MlI7qjJuuciCpwrUd=s64",
      "userId": "03770692095188133952"
     },
     "user_tz": -420
    },
    "id": "J8PDpZ5IuM0l"
   },
   "outputs": [],
   "source": [
    "import pennylane as qml\n",
    "from pennylane import numpy as np\n",
    "from pennylane.optimize import AdamOptimizer, GradientDescentOptimizer\n",
    "\n",
    "qml.enable_tape()\n",
    "\n",
    "\n",
    "# Set a random seed\n",
    "np.random.seed(42)"
   ]
  },
  {
   "cell_type": "code",
   "execution_count": 34,
   "metadata": {
    "executionInfo": {
     "elapsed": 958,
     "status": "ok",
     "timestamp": 1610047167417,
     "user": {
      "displayName": "Eraraya Ricardo Muten",
      "photoUrl": "https://lh3.googleusercontent.com/a-/AOh14Ggpw7xw-lyk6u6l92QjpI7MlI7qjJuuciCpwrUd=s64",
      "userId": "03770692095188133952"
     },
     "user_tz": -420
    },
    "id": "UvNlkVfXFyHE"
   },
   "outputs": [],
   "source": [
    "# Define output labels as quantum state vectors\n",
    "\n",
    "# def density_matrix(state):\n",
    "#     \"\"\"Calculates the density matrix representation of a state.\n",
    "\n",
    "#     Args:\n",
    "#         state (array[complex]): array representing a quantum state vector\n",
    "\n",
    "#     Returns:\n",
    "#         dm: (array[complex]): array representing the density matrix\n",
    "#     \"\"\"\n",
    "#     return state * np.conj(state).T\n",
    "\n",
    "\n",
    "label_0 = [[1], [0]]\n",
    "label_1 = [[0], [1]]\n",
    "\n",
    "\n",
    "def density_matrix(state):\n",
    "    \"\"\"Calculates the density matrix representation of a state.\n",
    "\n",
    "    Args:\n",
    "        state (array[complex]): array representing a quantum state vector\n",
    "\n",
    "    Returns:\n",
    "        dm: (array[complex]): array representing the density matrix\n",
    "    \"\"\"\n",
    "    return np.outer(state,  np.conj(state))\n",
    "\n",
    "state_labels = [label_0, label_1]\n",
    "#state_labels = np.loadtxt('./tetra_states.txt', dtype=np.complex_)"
   ]
  },
  {
   "cell_type": "code",
   "execution_count": 35,
   "metadata": {},
   "outputs": [
    {
     "data": {
      "text/plain": [
       "2"
      ]
     },
     "execution_count": 35,
     "metadata": {},
     "output_type": "execute_result"
    }
   ],
   "source": [
    "dm_labels = [density_matrix(state_labels[i]) for i in range(2)]\n",
    "len(dm_labels)"
   ]
  },
  {
   "cell_type": "code",
   "execution_count": 36,
   "metadata": {
    "executionInfo": {
     "elapsed": 1193,
     "status": "ok",
     "timestamp": 1610047167914,
     "user": {
      "displayName": "Eraraya Ricardo Muten",
      "photoUrl": "https://lh3.googleusercontent.com/a-/AOh14Ggpw7xw-lyk6u6l92QjpI7MlI7qjJuuciCpwrUd=s64",
      "userId": "03770692095188133952"
     },
     "user_tz": -420
    },
    "id": "2WqqMVHbF2B8"
   },
   "outputs": [],
   "source": [
    "n_qubits = 2  # number of bin rep\n",
    "dev_fc = qml.device(\"default.qubit\", wires=n_qubits)\n",
    "\n",
    "\n",
    "@qml.qnode(dev_fc)\n",
    "def q_fc(params, inputs):\n",
    "    \"\"\"A variational quantum circuit representing the DRC.\n",
    "\n",
    "    Args:\n",
    "        params (array[float]): array of parameters\n",
    "        inputs = [x, y]\n",
    "        x (array[float]): 1-d input vector\n",
    "        y (array[float]): single output state density matrix\n",
    "\n",
    "    Returns:\n",
    "        float: fidelity between output state and input\n",
    "    \"\"\"\n",
    "    \n",
    "    # layer iteration\n",
    "    for l in range(len(params[0])):\n",
    "        # qubit iteration\n",
    "        for q in range(n_qubits):\n",
    "            # gate iteration\n",
    "            for g in range(int(len(inputs)/3)):\n",
    "                qml.Rot(*(params[0][l][q][3*g:3*(g+1)] * inputs[3*g:3*(g+1)] + params[1][l][q][3*g:3*(g+1)]), wires=q)\n",
    "    \n",
    "    return [qml.expval(qml.Hermitian(dm_labels[i], wires=[i])) for i in range(n_qubits)]\n"
   ]
  },
  {
   "cell_type": "code",
   "execution_count": 37,
   "metadata": {},
   "outputs": [
    {
     "data": {
      "text/plain": [
       "(18,)"
      ]
     },
     "execution_count": 37,
     "metadata": {},
     "output_type": "execute_result"
    }
   ],
   "source": [
    "X_train[0].shape"
   ]
  },
  {
   "cell_type": "code",
   "execution_count": 38,
   "metadata": {},
   "outputs": [
    {
     "data": {
      "text/plain": [
       "tensor([0.9733755 , 0.00217358], requires_grad=True)"
      ]
     },
     "execution_count": 38,
     "metadata": {},
     "output_type": "execute_result"
    }
   ],
   "source": [
    "a = np.random.uniform(size=(2, 1, 2, 18))\n",
    "\n",
    "q_fc(a, X_train[0])"
   ]
  },
  {
   "cell_type": "code",
   "execution_count": 39,
   "metadata": {},
   "outputs": [],
   "source": [
    "from keras import backend as K\n",
    "\n",
    "\n",
    "# Alpha Custom Layer\n",
    "class class_weights(tf.keras.layers.Layer):\n",
    "    def __init__(self):\n",
    "        super(class_weights, self).__init__()\n",
    "        w_init = tf.random_normal_initializer()\n",
    "        self.w = tf.Variable(\n",
    "            initial_value=w_init(shape=(1, 2), dtype=\"float32\"),\n",
    "            trainable=True,\n",
    "        )\n",
    "\n",
    "    def call(self, inputs):\n",
    "        return (inputs * self.w)"
   ]
  },
  {
   "cell_type": "code",
   "execution_count": 40,
   "metadata": {
    "id": "epPDK5i9hOGH"
   },
   "outputs": [],
   "source": [
    "n_component = 18\n",
    "num_bin_rep = 2\n",
    "\n",
    "X = tf.keras.Input(shape=(n_component,), name='Input_Layer')\n",
    "\n",
    "\n",
    "# Quantum FC Layer\n",
    "num_fc_layer = 5\n",
    "q_fc_layer_0 = qml.qnn.KerasLayer(q_fc, {\"params\": (2, num_fc_layer, num_bin_rep, n_component)}, output_dim=num_bin_rep)(X)\n",
    "\n",
    "# Alpha Layer\n",
    "alpha_layer_0 = class_weights()(q_fc_layer_0)\n",
    "\n",
    "model = tf.keras.Model(inputs=X, outputs=alpha_layer_0)"
   ]
  },
  {
   "cell_type": "code",
   "execution_count": 41,
   "metadata": {
    "id": "u1ozqS33W66k"
   },
   "outputs": [
    {
     "data": {
      "text/plain": [
       "<tf.Tensor: shape=(32, 2), dtype=float32, numpy=\n",
       "array([[-0.01925254,  0.00067052],\n",
       "       [-0.01892989,  0.00050173],\n",
       "       [-0.0193736 ,  0.00146973],\n",
       "       [-0.01939227,  0.00086607],\n",
       "       [-0.01851314,  0.00084223],\n",
       "       [-0.01764541,  0.00036731],\n",
       "       [-0.01872561,  0.00109865],\n",
       "       [-0.01781362,  0.00012154],\n",
       "       [-0.01849651,  0.00092083],\n",
       "       [-0.01894355,  0.0007021 ],\n",
       "       [-0.01926161,  0.00131341],\n",
       "       [-0.01762476,  0.00025705],\n",
       "       [-0.01925082,  0.00090947],\n",
       "       [-0.0177411 ,  0.00010479],\n",
       "       [-0.01794545,  0.00033578],\n",
       "       [-0.01868971,  0.00065976],\n",
       "       [-0.01902401,  0.00078069],\n",
       "       [-0.01798636,  0.00029264],\n",
       "       [-0.01837741,  0.00066638],\n",
       "       [-0.0190268 ,  0.00092764],\n",
       "       [-0.01914457,  0.00060955],\n",
       "       [-0.0175261 ,  0.00046076],\n",
       "       [-0.01738796,  0.00016575],\n",
       "       [-0.0184602 ,  0.00069777],\n",
       "       [-0.01798745,  0.0007598 ],\n",
       "       [-0.01745812,  0.00024755],\n",
       "       [-0.0193192 ,  0.00092516],\n",
       "       [-0.01891712,  0.00069754],\n",
       "       [-0.01756195,  0.00025843],\n",
       "       [-0.0175371 ,  0.00021501],\n",
       "       [-0.01806753,  0.00044316],\n",
       "       [-0.01783868,  0.0002563 ]], dtype=float32)>"
      ]
     },
     "execution_count": 41,
     "metadata": {},
     "output_type": "execute_result"
    }
   ],
   "source": [
    "model(X_train[0:32])"
   ]
  },
  {
   "cell_type": "code",
   "execution_count": 42,
   "metadata": {
    "id": "YE2m-zLeNVWD"
   },
   "outputs": [],
   "source": [
    "opt = tf.keras.optimizers.Adam(learning_rate=0.1)\n",
    "model.compile(opt, loss='mse', metrics=[\"accuracy\"])"
   ]
  },
  {
   "cell_type": "code",
   "execution_count": 43,
   "metadata": {},
   "outputs": [
    {
     "name": "stdout",
     "output_type": "stream",
     "text": [
      "Epoch 1/10\n",
      "25/25 [==============================] - 1957s 78s/step - loss: 0.3070 - accuracy: 0.4616 - val_loss: 0.0906 - val_accuracy: 0.8700\n",
      "Epoch 2/10\n",
      "25/25 [==============================] - 1898s 76s/step - loss: 0.0851 - accuracy: 0.7890 - val_loss: 0.0935 - val_accuracy: 0.8100\n",
      "Epoch 3/10\n",
      "25/25 [==============================] - 1911s 76s/step - loss: 0.0581 - accuracy: 0.7739 - val_loss: 0.0686 - val_accuracy: 0.7550\n",
      "Epoch 4/10\n",
      "25/25 [==============================] - 1923s 77s/step - loss: 0.0440 - accuracy: 0.8013 - val_loss: 0.0698 - val_accuracy: 0.8600\n",
      "Epoch 5/10\n",
      "25/25 [==============================] - 1928s 77s/step - loss: 0.0479 - accuracy: 0.7974 - val_loss: 0.0561 - val_accuracy: 0.8200\n",
      "Epoch 6/10\n",
      "25/25 [==============================] - 1936s 77s/step - loss: 0.0336 - accuracy: 0.8007 - val_loss: 0.0479 - val_accuracy: 0.8700\n",
      "Epoch 7/10\n",
      "25/25 [==============================] - 1921s 77s/step - loss: 0.0396 - accuracy: 0.8093 - val_loss: 0.0431 - val_accuracy: 0.8200\n",
      "Epoch 8/10\n",
      "25/25 [==============================] - 1928s 77s/step - loss: 0.0306 - accuracy: 0.7866 - val_loss: 0.0435 - val_accuracy: 0.8000\n",
      "Epoch 9/10\n",
      "25/25 [==============================] - 1899s 76s/step - loss: 0.0318 - accuracy: 0.7496 - val_loss: 0.0479 - val_accuracy: 0.7700\n",
      "Epoch 10/10\n",
      "25/25 [==============================] - 1908s 76s/step - loss: 0.0320 - accuracy: 0.7850 - val_loss: 0.0561 - val_accuracy: 0.8000\n"
     ]
    }
   ],
   "source": [
    "H = model.fit(X_train, Y_train, epochs=10, batch_size=32, initial_epoch=0,\n",
    "              validation_data=(X_test, Y_test), verbose=1)"
   ]
  },
  {
   "cell_type": "code",
   "execution_count": 44,
   "metadata": {},
   "outputs": [
    {
     "data": {
      "text/plain": [
       "{'loss': [0.20115196704864502,\n",
       "  0.08090755343437195,\n",
       "  0.05455818772315979,\n",
       "  0.056527722626924515,\n",
       "  0.04510956630110741,\n",
       "  0.03622961416840553,\n",
       "  0.038575682789087296,\n",
       "  0.029633603990077972,\n",
       "  0.032166987657547,\n",
       "  0.032132163643836975],\n",
       " 'accuracy': [0.5824999809265137,\n",
       "  0.7649999856948853,\n",
       "  0.7887499928474426,\n",
       "  0.7962499856948853,\n",
       "  0.78125,\n",
       "  0.7699999809265137,\n",
       "  0.7912499904632568,\n",
       "  0.7900000214576721,\n",
       "  0.7762500047683716,\n",
       "  0.7950000166893005],\n",
       " 'val_loss': [0.09062331169843674,\n",
       "  0.09347031265497208,\n",
       "  0.06856680661439896,\n",
       "  0.06975004822015762,\n",
       "  0.05607748031616211,\n",
       "  0.04790631681680679,\n",
       "  0.043134503066539764,\n",
       "  0.04353377968072891,\n",
       "  0.047889966517686844,\n",
       "  0.05612480267882347],\n",
       " 'val_accuracy': [0.8700000047683716,\n",
       "  0.8100000023841858,\n",
       "  0.7549999952316284,\n",
       "  0.8600000143051147,\n",
       "  0.8199999928474426,\n",
       "  0.8700000047683716,\n",
       "  0.8199999928474426,\n",
       "  0.800000011920929,\n",
       "  0.7699999809265137,\n",
       "  0.800000011920929]}"
      ]
     },
     "execution_count": 44,
     "metadata": {},
     "output_type": "execute_result"
    }
   ],
   "source": [
    "# 3 layer, 18 principal components, bin rep\n",
    "H.history"
   ]
  },
  {
   "cell_type": "code",
   "execution_count": null,
   "metadata": {},
   "outputs": [],
   "source": []
  }
 ],
 "metadata": {
  "colab": {
   "authorship_tag": "ABX9TyNNN7AuWgekOgocJ/DE5q9Z",
   "collapsed_sections": [],
   "name": "DRC MNIST 2 Class.ipynb",
   "provenance": []
  },
  "kernelspec": {
   "display_name": "Python 3",
   "language": "python",
   "name": "python3"
  },
  "language_info": {
   "codemirror_mode": {
    "name": "ipython",
    "version": 3
   },
   "file_extension": ".py",
   "mimetype": "text/x-python",
   "name": "python",
   "nbconvert_exporter": "python",
   "pygments_lexer": "ipython3",
   "version": "3.8.6"
  }
 },
 "nbformat": 4,
 "nbformat_minor": 1
}
