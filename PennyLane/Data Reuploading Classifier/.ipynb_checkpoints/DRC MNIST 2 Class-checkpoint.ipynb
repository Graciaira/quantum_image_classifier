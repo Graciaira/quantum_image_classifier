{
 "cells": [
  {
   "cell_type": "code",
   "execution_count": 1,
   "metadata": {
    "colab": {
     "base_uri": "https://localhost:8080/"
    },
    "executionInfo": {
     "elapsed": 21741,
     "status": "ok",
     "timestamp": 1609942401542,
     "user": {
      "displayName": "Eraraya Ricardo Muten",
      "photoUrl": "https://lh3.googleusercontent.com/a-/AOh14Ggpw7xw-lyk6u6l92QjpI7MlI7qjJuuciCpwrUd=s64",
      "userId": "03770692095188133952"
     },
     "user_tz": -420
    },
    "id": "e4abR9zSaWNk",
    "outputId": "94ee80ef-152f-452f-d852-06919b9942a4"
   },
   "outputs": [
    {
     "name": "stdout",
     "output_type": "stream",
     "text": [
      "/content/drive\n",
      "Mounted at /content/drive\n"
     ]
    }
   ],
   "source": [
    "# Mount Google Drive\n",
    "from google.colab import drive # import drive from google colab\n",
    " \n",
    "ROOT = \"/content/drive\"     # default location for the drive\n",
    "print(ROOT)                 # print content of ROOT (Optional)\n",
    " \n",
    "drive.mount(ROOT)           # we mount the google drive at /content/drive"
   ]
  },
  {
   "cell_type": "markdown",
   "metadata": {},
   "source": [
    "# TeSSSS"
   ]
  },
  {
   "cell_type": "code",
   "execution_count": 1,
   "metadata": {
    "executionInfo": {
     "elapsed": 4192,
     "status": "ok",
     "timestamp": 1610025781584,
     "user": {
      "displayName": "Eraraya Ricardo Muten",
      "photoUrl": "https://lh3.googleusercontent.com/a-/AOh14Ggpw7xw-lyk6u6l92QjpI7MlI7qjJuuciCpwrUd=s64",
      "userId": "03770692095188133952"
     },
     "user_tz": -420
    },
    "id": "gk5AKGKcYGOo"
   },
   "outputs": [],
   "source": [
    "!pip install pennylane\n",
    "from IPython.display import clear_output\n",
    "clear_output()"
   ]
  },
  {
   "cell_type": "code",
   "execution_count": null,
   "metadata": {
    "id": "GigSJusGbx1b"
   },
   "outputs": [],
   "source": [
    "import os\n",
    "\n",
    "def restart_runtime():\n",
    "  os.kill(os.getpid(), 9)\n",
    "restart_runtime()"
   ]
  },
  {
   "cell_type": "code",
   "execution_count": 2,
   "metadata": {
    "executionInfo": {
     "elapsed": 857,
     "status": "ok",
     "timestamp": 1610025787385,
     "user": {
      "displayName": "Eraraya Ricardo Muten",
      "photoUrl": "https://lh3.googleusercontent.com/a-/AOh14Ggpw7xw-lyk6u6l92QjpI7MlI7qjJuuciCpwrUd=s64",
      "userId": "03770692095188133952"
     },
     "user_tz": -420
    },
    "id": "HoLmJLkIX810"
   },
   "outputs": [],
   "source": [
    "# %matplotlib inline\n",
    "import matplotlib.pyplot as plt\n",
    "from mpl_toolkits.axes_grid1 import make_axes_locatable\n",
    "\n",
    "import numpy as np"
   ]
  },
  {
   "cell_type": "markdown",
   "metadata": {
    "id": "vZFNOwFXoY8N"
   },
   "source": [
    "# Loading Raw Data"
   ]
  },
  {
   "cell_type": "code",
   "execution_count": 1,
   "metadata": {
    "colab": {
     "base_uri": "https://localhost:8080/"
    },
    "executionInfo": {
     "elapsed": 2726,
     "status": "ok",
     "timestamp": 1610025792089,
     "user": {
      "displayName": "Eraraya Ricardo Muten",
      "photoUrl": "https://lh3.googleusercontent.com/a-/AOh14Ggpw7xw-lyk6u6l92QjpI7MlI7qjJuuciCpwrUd=s64",
      "userId": "03770692095188133952"
     },
     "user_tz": -420
    },
    "id": "IvdFsGCVof9g",
    "outputId": "c1e94fa1-a11f-4bff-c7b7-975b8b1b79fb"
   },
   "outputs": [
    {
     "name": "stdout",
     "output_type": "stream",
     "text": [
      "Downloading data from https://storage.googleapis.com/tensorflow/tf-keras-datasets/mnist.npz\n",
      "11493376/11490434 [==============================] - 0s 0us/step\n"
     ]
    }
   ],
   "source": [
    "import tensorflow as tf\n",
    "\n",
    "(x_train, y_train), (x_test, y_test) = tf.keras.datasets.mnist.load_data()"
   ]
  },
  {
   "cell_type": "code",
   "execution_count": 2,
   "metadata": {
    "executionInfo": {
     "elapsed": 1251,
     "status": "ok",
     "timestamp": 1610025792677,
     "user": {
      "displayName": "Eraraya Ricardo Muten",
      "photoUrl": "https://lh3.googleusercontent.com/a-/AOh14Ggpw7xw-lyk6u6l92QjpI7MlI7qjJuuciCpwrUd=s64",
      "userId": "03770692095188133952"
     },
     "user_tz": -420
    },
    "id": "c6zvGFvIoxAN"
   },
   "outputs": [],
   "source": [
    "x_train_flatten = x_train.reshape(x_train.shape[0], x_train.shape[1]*x_train.shape[2])/255.0\n",
    "x_test_flatten = x_test.reshape(x_test.shape[0], x_test.shape[1]*x_test.shape[2])/255.0"
   ]
  },
  {
   "cell_type": "code",
   "execution_count": 3,
   "metadata": {
    "colab": {
     "base_uri": "https://localhost:8080/"
    },
    "executionInfo": {
     "elapsed": 948,
     "status": "ok",
     "timestamp": 1610025792678,
     "user": {
      "displayName": "Eraraya Ricardo Muten",
      "photoUrl": "https://lh3.googleusercontent.com/a-/AOh14Ggpw7xw-lyk6u6l92QjpI7MlI7qjJuuciCpwrUd=s64",
      "userId": "03770692095188133952"
     },
     "user_tz": -420
    },
    "id": "Rmj1dzaso00h",
    "outputId": "f59eea77-95bb-4b6a-b0ba-14a7e5760b11"
   },
   "outputs": [
    {
     "name": "stdout",
     "output_type": "stream",
     "text": [
      "(60000, 784) (60000,)\n",
      "(10000, 784) (10000,)\n"
     ]
    }
   ],
   "source": [
    "print(x_train_flatten.shape, y_train.shape)\n",
    "print(x_test_flatten.shape, y_test.shape)"
   ]
  },
  {
   "cell_type": "code",
   "execution_count": 6,
   "metadata": {
    "colab": {
     "base_uri": "https://localhost:8080/"
    },
    "executionInfo": {
     "elapsed": 945,
     "status": "ok",
     "timestamp": 1610025793507,
     "user": {
      "displayName": "Eraraya Ricardo Muten",
      "photoUrl": "https://lh3.googleusercontent.com/a-/AOh14Ggpw7xw-lyk6u6l92QjpI7MlI7qjJuuciCpwrUd=s64",
      "userId": "03770692095188133952"
     },
     "user_tz": -420
    },
    "id": "d10VoIC6o5_I",
    "outputId": "774bafb6-5cbe-42b3-98d0-643e7e943f91"
   },
   "outputs": [
    {
     "name": "stdout",
     "output_type": "stream",
     "text": [
      "(5923, 784)\n",
      "(6742, 784)\n",
      "(5958, 784)\n",
      "(6131, 784)\n",
      "(5842, 784)\n",
      "(5421, 784)\n",
      "(5918, 784)\n",
      "(6265, 784)\n",
      "(5851, 784)\n",
      "(5949, 784)\n"
     ]
    }
   ],
   "source": [
    "x_train_0 = x_train_flatten[y_train == 0]\n",
    "x_train_1 = x_train_flatten[y_train == 1]\n",
    "x_train_2 = x_train_flatten[y_train == 2]\n",
    "x_train_3 = x_train_flatten[y_train == 3]\n",
    "x_train_4 = x_train_flatten[y_train == 4]\n",
    "x_train_5 = x_train_flatten[y_train == 5]\n",
    "x_train_6 = x_train_flatten[y_train == 6]\n",
    "x_train_7 = x_train_flatten[y_train == 7]\n",
    "x_train_8 = x_train_flatten[y_train == 8]\n",
    "x_train_9 = x_train_flatten[y_train == 9]\n",
    "\n",
    "x_train_list = [x_train_0, x_train_1, x_train_2, x_train_3, x_train_4, x_train_5, x_train_6, x_train_7, x_train_8, x_train_9]\n",
    "\n",
    "print(x_train_0.shape)\n",
    "print(x_train_1.shape)\n",
    "print(x_train_2.shape)\n",
    "print(x_train_3.shape)\n",
    "print(x_train_4.shape)\n",
    "print(x_train_5.shape)\n",
    "print(x_train_6.shape)\n",
    "print(x_train_7.shape)\n",
    "print(x_train_8.shape)\n",
    "print(x_train_9.shape)"
   ]
  },
  {
   "cell_type": "code",
   "execution_count": 7,
   "metadata": {
    "colab": {
     "base_uri": "https://localhost:8080/"
    },
    "executionInfo": {
     "elapsed": 901,
     "status": "ok",
     "timestamp": 1610025796926,
     "user": {
      "displayName": "Eraraya Ricardo Muten",
      "photoUrl": "https://lh3.googleusercontent.com/a-/AOh14Ggpw7xw-lyk6u6l92QjpI7MlI7qjJuuciCpwrUd=s64",
      "userId": "03770692095188133952"
     },
     "user_tz": -420
    },
    "id": "snFw4LqepFOl",
    "outputId": "d62bdedd-8ad4-4da9-c7e8-75b8a0a9ba7b"
   },
   "outputs": [
    {
     "name": "stdout",
     "output_type": "stream",
     "text": [
      "(980, 784)\n",
      "(1135, 784)\n",
      "(1032, 784)\n",
      "(1010, 784)\n",
      "(982, 784)\n",
      "(892, 784)\n",
      "(958, 784)\n",
      "(1028, 784)\n",
      "(974, 784)\n",
      "(1009, 784)\n"
     ]
    }
   ],
   "source": [
    "x_test_0 = x_test_flatten[y_test == 0]\n",
    "x_test_1 = x_test_flatten[y_test == 1]\n",
    "x_test_2 = x_test_flatten[y_test == 2]\n",
    "x_test_3 = x_test_flatten[y_test == 3]\n",
    "x_test_4 = x_test_flatten[y_test == 4]\n",
    "x_test_5 = x_test_flatten[y_test == 5]\n",
    "x_test_6 = x_test_flatten[y_test == 6]\n",
    "x_test_7 = x_test_flatten[y_test == 7]\n",
    "x_test_8 = x_test_flatten[y_test == 8]\n",
    "x_test_9 = x_test_flatten[y_test == 9]\n",
    "\n",
    "x_test_list = [x_test_0, x_test_1, x_test_2, x_test_3, x_test_4, x_test_5, x_test_6, x_test_7, x_test_8, x_test_9]\n",
    "\n",
    "print(x_test_0.shape)\n",
    "print(x_test_1.shape)\n",
    "print(x_test_2.shape)\n",
    "print(x_test_3.shape)\n",
    "print(x_test_4.shape)\n",
    "print(x_test_5.shape)\n",
    "print(x_test_6.shape)\n",
    "print(x_test_7.shape)\n",
    "print(x_test_8.shape)\n",
    "print(x_test_9.shape)"
   ]
  },
  {
   "cell_type": "markdown",
   "metadata": {
    "id": "SAxUS6Lhp95g"
   },
   "source": [
    "# Selecting the dataset\n",
    "\n",
    "Output: X_train, Y_train, X_test, Y_test"
   ]
  },
  {
   "cell_type": "code",
   "execution_count": 182,
   "metadata": {
    "colab": {
     "base_uri": "https://localhost:8080/"
    },
    "executionInfo": {
     "elapsed": 810,
     "status": "ok",
     "timestamp": 1609950462215,
     "user": {
      "displayName": "Eraraya Ricardo Muten",
      "photoUrl": "https://lh3.googleusercontent.com/a-/AOh14Ggpw7xw-lyk6u6l92QjpI7MlI7qjJuuciCpwrUd=s64",
      "userId": "03770692095188133952"
     },
     "user_tz": -420
    },
    "id": "f--pX5Oto_XB",
    "outputId": "cc074972-59f4-4d74-cd69-7745260a1dd4"
   },
   "outputs": [
    {
     "data": {
      "text/plain": [
       "((400, 784), (400,))"
      ]
     },
     "execution_count": 182,
     "metadata": {
      "tags": []
     },
     "output_type": "execute_result"
    }
   ],
   "source": [
    "X_train = np.concatenate((x_train_list[0][:200, :], x_train_list[1][:200, :]), axis=0)\n",
    "Y_train = np.zeros((X_train.shape[0],))\n",
    "Y_train[200:] += 1\n",
    "\n",
    "X_train.shape, Y_train.shape"
   ]
  },
  {
   "cell_type": "code",
   "execution_count": 183,
   "metadata": {
    "colab": {
     "base_uri": "https://localhost:8080/"
    },
    "executionInfo": {
     "elapsed": 1252,
     "status": "ok",
     "timestamp": 1609950468260,
     "user": {
      "displayName": "Eraraya Ricardo Muten",
      "photoUrl": "https://lh3.googleusercontent.com/a-/AOh14Ggpw7xw-lyk6u6l92QjpI7MlI7qjJuuciCpwrUd=s64",
      "userId": "03770692095188133952"
     },
     "user_tz": -420
    },
    "id": "W_SHH9e3rqwG",
    "outputId": "2f38a646-7a1a-4e68-828f-bce0c97bfe70"
   },
   "outputs": [
    {
     "data": {
      "text/plain": [
       "((1000, 784), (1000,))"
      ]
     },
     "execution_count": 183,
     "metadata": {
      "tags": []
     },
     "output_type": "execute_result"
    }
   ],
   "source": [
    "X_test = np.concatenate((x_test_list[0][:500, :], x_test_list[1][:500, :]), axis=0)\n",
    "Y_test = np.zeros((X_test.shape[0],))\n",
    "Y_test[500:] += 1\n",
    "\n",
    "X_test.shape, Y_test.shape"
   ]
  },
  {
   "cell_type": "code",
   "execution_count": 265,
   "metadata": {
    "colab": {
     "base_uri": "https://localhost:8080/"
    },
    "executionInfo": {
     "elapsed": 881,
     "status": "ok",
     "timestamp": 1610032449016,
     "user": {
      "displayName": "Eraraya Ricardo Muten",
      "photoUrl": "https://lh3.googleusercontent.com/a-/AOh14Ggpw7xw-lyk6u6l92QjpI7MlI7qjJuuciCpwrUd=s64",
      "userId": "03770692095188133952"
     },
     "user_tz": -420
    },
    "id": "4Nr0gmM9DFd_",
    "outputId": "d4120711-a864-4d5a-aef1-2c9ab9e4078c"
   },
   "outputs": [
    {
     "name": "stdout",
     "output_type": "stream",
     "text": [
      "(1000, 784) (1000,)\n",
      "(5000, 784) (5000,)\n"
     ]
    }
   ],
   "source": [
    "num_sample = 100\n",
    "X_train = x_train_list[0][:num_sample, :]\n",
    "X_test = x_test_list[0][:5*num_sample, :]\n",
    "\n",
    "Y_train = np.zeros((10*X_train.shape[0],), dtype=int)\n",
    "Y_test = np.zeros((10*X_test.shape[0],), dtype=int)\n",
    "\n",
    "for i in range(10-1):\n",
    "  X_train = np.concatenate((X_train, x_train_list[i+1][:num_sample, :]), axis=0)\n",
    "  Y_train[num_sample*(i+1):num_sample*(i+2)] = int(i+1)\n",
    "\n",
    "  X_test = np.concatenate((X_test, x_test_list[i+1][:5*num_sample, :]), axis=0)\n",
    "  Y_test[5*num_sample*(i+1):5*num_sample*(i+2)] = int(i+1)\n",
    "\n",
    "print(X_train.shape, Y_train.shape)\n",
    "print(X_test.shape, Y_test.shape)"
   ]
  },
  {
   "cell_type": "markdown",
   "metadata": {
    "id": "F_4AcCtNsC8o"
   },
   "source": [
    "# Dataset Preprocessing (Standardization + PCA)"
   ]
  },
  {
   "cell_type": "code",
   "execution_count": 266,
   "metadata": {
    "executionInfo": {
     "elapsed": 1344,
     "status": "ok",
     "timestamp": 1610032450310,
     "user": {
      "displayName": "Eraraya Ricardo Muten",
      "photoUrl": "https://lh3.googleusercontent.com/a-/AOh14Ggpw7xw-lyk6u6l92QjpI7MlI7qjJuuciCpwrUd=s64",
      "userId": "03770692095188133952"
     },
     "user_tz": -420
    },
    "id": "WbBM_35mMDjA"
   },
   "outputs": [],
   "source": [
    "quarter_filter = np.zeros((28,28))\n",
    "for i in range(quarter_filter[5:22, 6:23].shape[0]):\n",
    "    for j in range(quarter_filter[5:22, 6:23].shape[1]):\n",
    "        if i%2 == 0:\n",
    "            if j%2 == 0:\n",
    "                quarter_filter[5+i, 6+j] += 1\n",
    "\n",
    "quarter_filter = quarter_filter.reshape(28*28,)"
   ]
  },
  {
   "cell_type": "code",
   "execution_count": 267,
   "metadata": {
    "colab": {
     "base_uri": "https://localhost:8080/"
    },
    "executionInfo": {
     "elapsed": 613,
     "status": "ok",
     "timestamp": 1610032450779,
     "user": {
      "displayName": "Eraraya Ricardo Muten",
      "photoUrl": "https://lh3.googleusercontent.com/a-/AOh14Ggpw7xw-lyk6u6l92QjpI7MlI7qjJuuciCpwrUd=s64",
      "userId": "03770692095188133952"
     },
     "user_tz": -420
    },
    "id": "BgIO4ZeqRF-j",
    "outputId": "1cd5b270-954e-40af-bcbf-998224906d1b"
   },
   "outputs": [
    {
     "data": {
      "text/plain": [
       "((1000, 81), (5000, 81))"
      ]
     },
     "execution_count": 267,
     "metadata": {
      "tags": []
     },
     "output_type": "execute_result"
    }
   ],
   "source": [
    "X_train = np.delete(X_train, np.where(quarter_filter == 0), axis=1)\n",
    "X_test = np.delete(X_test, np.where(quarter_filter == 0), axis=1)\n",
    "\n",
    "X_train.shape, X_test.shape"
   ]
  },
  {
   "cell_type": "markdown",
   "metadata": {
    "id": "QP-6XdVPsfxC"
   },
   "source": [
    "## Standardization"
   ]
  },
  {
   "cell_type": "code",
   "execution_count": 268,
   "metadata": {
    "executionInfo": {
     "elapsed": 997,
     "status": "ok",
     "timestamp": 1610032452310,
     "user": {
      "displayName": "Eraraya Ricardo Muten",
      "photoUrl": "https://lh3.googleusercontent.com/a-/AOh14Ggpw7xw-lyk6u6l92QjpI7MlI7qjJuuciCpwrUd=s64",
      "userId": "03770692095188133952"
     },
     "user_tz": -420
    },
    "id": "EDtzCvTur6BR"
   },
   "outputs": [],
   "source": [
    "def normalize(X, use_params=False, params=None):\n",
    "    \"\"\"Normalize the given dataset X\n",
    "    Args:\n",
    "        X: ndarray, dataset\n",
    "    \n",
    "    Returns:\n",
    "        (Xbar, mean, std): tuple of ndarray, Xbar is the normalized dataset\n",
    "        with mean 0 and standard deviation 1; mean and std are the \n",
    "        mean and standard deviation respectively.\n",
    "    \n",
    "    Note:\n",
    "        You will encounter dimensions where the standard deviation is\n",
    "        zero, for those when you do normalization the normalized data\n",
    "        will be NaN. Handle this by setting using `std = 1` for those \n",
    "        dimensions when doing normalization.\n",
    "    \"\"\"\n",
    "    if use_params:\n",
    "        mu = params[0]\n",
    "        std_filled = [1]\n",
    "    else:\n",
    "        mu = np.mean(X, axis=0)\n",
    "        std = np.std(X, axis=0)\n",
    "        #std_filled = std.copy()\n",
    "    #std_filled[std==0] = 1.\n",
    "    Xbar = (X - mu)/(std + 1e-8)\n",
    "    return Xbar, mu, std\n"
   ]
  },
  {
   "cell_type": "code",
   "execution_count": 269,
   "metadata": {
    "colab": {
     "base_uri": "https://localhost:8080/"
    },
    "executionInfo": {
     "elapsed": 1011,
     "status": "ok",
     "timestamp": 1610032453516,
     "user": {
      "displayName": "Eraraya Ricardo Muten",
      "photoUrl": "https://lh3.googleusercontent.com/a-/AOh14Ggpw7xw-lyk6u6l92QjpI7MlI7qjJuuciCpwrUd=s64",
      "userId": "03770692095188133952"
     },
     "user_tz": -420
    },
    "id": "Ma2r_EXQsHYJ",
    "outputId": "b3d76c69-3ad5-43e6-a310-1e5c02554fd4"
   },
   "outputs": [
    {
     "data": {
      "text/plain": [
       "((1000, 81), (1000,))"
      ]
     },
     "execution_count": 269,
     "metadata": {
      "tags": []
     },
     "output_type": "execute_result"
    }
   ],
   "source": [
    "X_train, mu_train, std_train = normalize(X_train)\n",
    "X_train.shape, Y_train.shape"
   ]
  },
  {
   "cell_type": "code",
   "execution_count": 270,
   "metadata": {
    "colab": {
     "base_uri": "https://localhost:8080/"
    },
    "executionInfo": {
     "elapsed": 762,
     "status": "ok",
     "timestamp": 1610032453517,
     "user": {
      "displayName": "Eraraya Ricardo Muten",
      "photoUrl": "https://lh3.googleusercontent.com/a-/AOh14Ggpw7xw-lyk6u6l92QjpI7MlI7qjJuuciCpwrUd=s64",
      "userId": "03770692095188133952"
     },
     "user_tz": -420
    },
    "id": "p8DrXKvutdFL",
    "outputId": "2c6e20b3-c4a7-46e1-c92b-2e4d3fbecc91"
   },
   "outputs": [
    {
     "data": {
      "text/plain": [
       "((5000, 81), (5000,))"
      ]
     },
     "execution_count": 270,
     "metadata": {
      "tags": []
     },
     "output_type": "execute_result"
    }
   ],
   "source": [
    "X_test = (X_test - mu_train)/(std_train + 1e-8)\n",
    "X_test.shape, Y_test.shape"
   ]
  },
  {
   "cell_type": "markdown",
   "metadata": {
    "id": "BwikC3mysh4L"
   },
   "source": [
    "## PCA"
   ]
  },
  {
   "cell_type": "code",
   "execution_count": 271,
   "metadata": {
    "executionInfo": {
     "elapsed": 781,
     "status": "ok",
     "timestamp": 1610032456319,
     "user": {
      "displayName": "Eraraya Ricardo Muten",
      "photoUrl": "https://lh3.googleusercontent.com/a-/AOh14Ggpw7xw-lyk6u6l92QjpI7MlI7qjJuuciCpwrUd=s64",
      "userId": "03770692095188133952"
     },
     "user_tz": -420
    },
    "id": "0AHFK0_lsdzh"
   },
   "outputs": [],
   "source": [
    "from sklearn.decomposition import PCA\n",
    "from matplotlib import pyplot as plt"
   ]
  },
  {
   "cell_type": "code",
   "execution_count": 272,
   "metadata": {
    "executionInfo": {
     "elapsed": 955,
     "status": "ok",
     "timestamp": 1610032457668,
     "user": {
      "displayName": "Eraraya Ricardo Muten",
      "photoUrl": "https://lh3.googleusercontent.com/a-/AOh14Ggpw7xw-lyk6u6l92QjpI7MlI7qjJuuciCpwrUd=s64",
      "userId": "03770692095188133952"
     },
     "user_tz": -420
    },
    "id": "CzdxRenYstM_"
   },
   "outputs": [],
   "source": [
    "num_component = 6\n",
    "pca = PCA(n_components=num_component, svd_solver='full')"
   ]
  },
  {
   "cell_type": "code",
   "execution_count": 273,
   "metadata": {
    "colab": {
     "base_uri": "https://localhost:8080/"
    },
    "executionInfo": {
     "elapsed": 1032,
     "status": "ok",
     "timestamp": 1610032458038,
     "user": {
      "displayName": "Eraraya Ricardo Muten",
      "photoUrl": "https://lh3.googleusercontent.com/a-/AOh14Ggpw7xw-lyk6u6l92QjpI7MlI7qjJuuciCpwrUd=s64",
      "userId": "03770692095188133952"
     },
     "user_tz": -420
    },
    "id": "qUHn6-Zvsz2X",
    "outputId": "7683cee8-5d52-490f-ad67-b0fda8c3dec3"
   },
   "outputs": [
    {
     "data": {
      "text/plain": [
       "PCA(copy=True, iterated_power='auto', n_components=6, random_state=None,\n",
       "    svd_solver='full', tol=0.0, whiten=False)"
      ]
     },
     "execution_count": 273,
     "metadata": {
      "tags": []
     },
     "output_type": "execute_result"
    }
   ],
   "source": [
    "pca.fit(X_train)"
   ]
  },
  {
   "cell_type": "code",
   "execution_count": 274,
   "metadata": {
    "colab": {
     "base_uri": "https://localhost:8080/"
    },
    "executionInfo": {
     "elapsed": 705,
     "status": "ok",
     "timestamp": 1610032458857,
     "user": {
      "displayName": "Eraraya Ricardo Muten",
      "photoUrl": "https://lh3.googleusercontent.com/a-/AOh14Ggpw7xw-lyk6u6l92QjpI7MlI7qjJuuciCpwrUd=s64",
      "userId": "03770692095188133952"
     },
     "user_tz": -420
    },
    "id": "dyj975-ttIbe",
    "outputId": "99bd5a6a-53f0-4a1b-934d-0e397aff3d99"
   },
   "outputs": [
    {
     "data": {
      "text/plain": [
       "tensor([0.11028021, 0.19084268, 0.26081525, 0.31155535, 0.35581135,\n",
       "        0.397231  ], requires_grad=True)"
      ]
     },
     "execution_count": 274,
     "metadata": {
      "tags": []
     },
     "output_type": "execute_result"
    }
   ],
   "source": [
    "np.cumsum(pca.explained_variance_ratio_)"
   ]
  },
  {
   "cell_type": "code",
   "execution_count": 275,
   "metadata": {
    "executionInfo": {
     "elapsed": 836,
     "status": "ok",
     "timestamp": 1610032460743,
     "user": {
      "displayName": "Eraraya Ricardo Muten",
      "photoUrl": "https://lh3.googleusercontent.com/a-/AOh14Ggpw7xw-lyk6u6l92QjpI7MlI7qjJuuciCpwrUd=s64",
      "userId": "03770692095188133952"
     },
     "user_tz": -420
    },
    "id": "g2Cv6r9utNKg"
   },
   "outputs": [],
   "source": [
    "X_train = pca.transform(X_train)\n",
    "X_test = pca.transform(X_test)"
   ]
  },
  {
   "cell_type": "code",
   "execution_count": 276,
   "metadata": {
    "colab": {
     "base_uri": "https://localhost:8080/"
    },
    "executionInfo": {
     "elapsed": 1345,
     "status": "ok",
     "timestamp": 1610032461574,
     "user": {
      "displayName": "Eraraya Ricardo Muten",
      "photoUrl": "https://lh3.googleusercontent.com/a-/AOh14Ggpw7xw-lyk6u6l92QjpI7MlI7qjJuuciCpwrUd=s64",
      "userId": "03770692095188133952"
     },
     "user_tz": -420
    },
    "id": "ahC8V_QzuDzV",
    "outputId": "f386544f-fbaa-461e-f8de-161b1618e189"
   },
   "outputs": [
    {
     "name": "stdout",
     "output_type": "stream",
     "text": [
      "(1000, 6) (1000,)\n",
      "(5000, 6) (5000,)\n"
     ]
    }
   ],
   "source": [
    "print(X_train.shape, Y_train.shape)\n",
    "print(X_test.shape, Y_test.shape)"
   ]
  },
  {
   "cell_type": "markdown",
   "metadata": {
    "id": "CoGE5F_Gc7Bp"
   },
   "source": [
    "## Norm"
   ]
  },
  {
   "cell_type": "code",
   "execution_count": 277,
   "metadata": {
    "executionInfo": {
     "elapsed": 1222,
     "status": "ok",
     "timestamp": 1610032463633,
     "user": {
      "displayName": "Eraraya Ricardo Muten",
      "photoUrl": "https://lh3.googleusercontent.com/a-/AOh14Ggpw7xw-lyk6u6l92QjpI7MlI7qjJuuciCpwrUd=s64",
      "userId": "03770692095188133952"
     },
     "user_tz": -420
    },
    "id": "00-l6454QeXB"
   },
   "outputs": [],
   "source": [
    "X_train = (X_train.T / np.sqrt(np.sum(X_train ** 2, -1))).T\n",
    "X_test = (X_test.T / np.sqrt(np.sum(X_test ** 2, -1))).T"
   ]
  },
  {
   "cell_type": "code",
   "execution_count": 278,
   "metadata": {
    "colab": {
     "base_uri": "https://localhost:8080/",
     "height": 284
    },
    "executionInfo": {
     "elapsed": 1028,
     "status": "ok",
     "timestamp": 1610032463633,
     "user": {
      "displayName": "Eraraya Ricardo Muten",
      "photoUrl": "https://lh3.googleusercontent.com/a-/AOh14Ggpw7xw-lyk6u6l92QjpI7MlI7qjJuuciCpwrUd=s64",
      "userId": "03770692095188133952"
     },
     "user_tz": -420
    },
    "id": "voxkEj1BuJB6",
    "outputId": "c856385b-f64d-41c1-a0aa-402d1910420c"
   },
   "outputs": [
    {
     "data": {
      "text/plain": [
       "<matplotlib.collections.PathCollection at 0x7fbe0a329e48>"
      ]
     },
     "execution_count": 278,
     "metadata": {
      "tags": []
     },
     "output_type": "execute_result"
    },
    {
     "data": {
      "image/png": "[encoded data removed]",
      "text/plain": [
       "<Figure size 432x288 with 1 Axes>"
      ]
     },
     "metadata": {
      "needs_background": "light",
      "tags": []
     },
     "output_type": "display_data"
    }
   ],
   "source": [
    "plt.scatter(X_train[:100, 0], X_train[:100, 1])\n",
    "plt.scatter(X_train[100:200, 0], X_train[100:200, 1])\n",
    "plt.scatter(X_train[200:300, 0], X_train[200:300, 1])"
   ]
  },
  {
   "cell_type": "markdown",
   "metadata": {
    "id": "ytKzDR1JuKub"
   },
   "source": [
    "# Quantum"
   ]
  },
  {
   "cell_type": "code",
   "execution_count": 279,
   "metadata": {
    "executionInfo": {
     "elapsed": 885,
     "status": "ok",
     "timestamp": 1610032467269,
     "user": {
      "displayName": "Eraraya Ricardo Muten",
      "photoUrl": "https://lh3.googleusercontent.com/a-/AOh14Ggpw7xw-lyk6u6l92QjpI7MlI7qjJuuciCpwrUd=s64",
      "userId": "03770692095188133952"
     },
     "user_tz": -420
    },
    "id": "J8PDpZ5IuM0l"
   },
   "outputs": [],
   "source": [
    "import pennylane as qml\n",
    "from pennylane import numpy as np\n",
    "from pennylane.optimize import AdamOptimizer, GradientDescentOptimizer\n",
    "\n",
    "qml.enable_tape()\n",
    "\n",
    "\n",
    "# Set a random seed\n",
    "np.random.seed(42)"
   ]
  },
  {
   "cell_type": "code",
   "execution_count": 323,
   "metadata": {
    "executionInfo": {
     "elapsed": 846,
     "status": "ok",
     "timestamp": 1610047167021,
     "user": {
      "displayName": "Eraraya Ricardo Muten",
      "photoUrl": "https://lh3.googleusercontent.com/a-/AOh14Ggpw7xw-lyk6u6l92QjpI7MlI7qjJuuciCpwrUd=s64",
      "userId": "03770692095188133952"
     },
     "user_tz": -420
    },
    "id": "1CddZE42Ft7H"
   },
   "outputs": [],
   "source": [
    "def plot_data(x, y, fig=None, ax=None):\n",
    "    \"\"\"\n",
    "    Plot data with red/blue values for a binary classification.\n",
    "\n",
    "    Args:\n",
    "        x (array[tuple]): array of data points as tuples\n",
    "        y (array[int]): array of data points as tuples\n",
    "    \"\"\"\n",
    "    if fig == None:\n",
    "        fig, ax = plt.subplots(1, 1, figsize=(5, 5))\n",
    "    reds = y == 0\n",
    "    blues = y == 1\n",
    "    ax.scatter(x[reds, 0], x[reds, 1], c=\"red\", s=20, edgecolor=\"k\")\n",
    "    ax.scatter(x[blues, 0], x[blues, 1], c=\"blue\", s=20, edgecolor=\"k\")\n",
    "    ax.set_xlabel(\"$x_1$\")\n",
    "    ax.set_ylabel(\"$x_2$\")"
   ]
  },
  {
   "cell_type": "code",
   "execution_count": 324,
   "metadata": {
    "executionInfo": {
     "elapsed": 958,
     "status": "ok",
     "timestamp": 1610047167417,
     "user": {
      "displayName": "Eraraya Ricardo Muten",
      "photoUrl": "https://lh3.googleusercontent.com/a-/AOh14Ggpw7xw-lyk6u6l92QjpI7MlI7qjJuuciCpwrUd=s64",
      "userId": "03770692095188133952"
     },
     "user_tz": -420
    },
    "id": "UvNlkVfXFyHE"
   },
   "outputs": [],
   "source": [
    "# Define output labels as quantum state vectors\n",
    "def density_matrix(state):\n",
    "    \"\"\"Calculates the density matrix representation of a state.\n",
    "\n",
    "    Args:\n",
    "        state (array[complex]): array representing a quantum state vector\n",
    "\n",
    "    Returns:\n",
    "        dm: (array[complex]): array representing the density matrix\n",
    "    \"\"\"\n",
    "    return state * np.conj(state).T\n",
    "\n",
    "\n",
    "label_0 = [[1], [0]]\n",
    "label_1 = [[0], [1]]\n",
    "state_labels = [label_0, label_1]"
   ]
  },
  {
   "cell_type": "code",
   "execution_count": 325,
   "metadata": {
    "executionInfo": {
     "elapsed": 1193,
     "status": "ok",
     "timestamp": 1610047167914,
     "user": {
      "displayName": "Eraraya Ricardo Muten",
      "photoUrl": "https://lh3.googleusercontent.com/a-/AOh14Ggpw7xw-lyk6u6l92QjpI7MlI7qjJuuciCpwrUd=s64",
      "userId": "03770692095188133952"
     },
     "user_tz": -420
    },
    "id": "2WqqMVHbF2B8"
   },
   "outputs": [],
   "source": [
    "dev = qml.device(\"default.qubit\", wires=1)\n",
    "# Install any pennylane-plugin to run on some particular backend\n",
    "\n",
    "\n",
    "@qml.qnode(dev)\n",
    "def qcircuit(params, x=None, y=None):\n",
    "    \"\"\"A variational quantum circuit representing the Universal classifier.\n",
    "\n",
    "    Args:\n",
    "        params (array[float]): array of parameters\n",
    "        x (array[float]): single input vector\n",
    "        y (array[float]): single output state density matrix\n",
    "\n",
    "    Returns:\n",
    "        float: fidelity between output state and input\n",
    "    \"\"\"\n",
    "    for i in range(len(params[0])):\n",
    "      for j in range(int(len(x)/3)):\n",
    "        qml.Rot(*(params[0][i][3*j:3*(j+1)]*x[3*j:3*(j+1)] + params[1][i][3*j:3*(j+1)]), wires=0)\n",
    "        #qml.Rot(*params[1][i][3*j:3*(j+1)], wires=0)\n",
    "    return qml.expval(qml.Hermitian(y, wires=[0]))"
   ]
  },
  {
   "cell_type": "code",
   "execution_count": 326,
   "metadata": {
    "executionInfo": {
     "elapsed": 806,
     "status": "ok",
     "timestamp": 1610047168726,
     "user": {
      "displayName": "Eraraya Ricardo Muten",
      "photoUrl": "https://lh3.googleusercontent.com/a-/AOh14Ggpw7xw-lyk6u6l92QjpI7MlI7qjJuuciCpwrUd=s64",
      "userId": "03770692095188133952"
     },
     "user_tz": -420
    },
    "id": "QYa3gYG7GutO"
   },
   "outputs": [],
   "source": [
    "def cost(params, x, y, state_labels=None):\n",
    "    \"\"\"Cost function to be minimized.\n",
    "\n",
    "    Args:\n",
    "        params (array[float]): array of parameters\n",
    "        x (array[float]): 2-d array of input vectors\n",
    "        y (array[float]): 1-d array of targets\n",
    "        state_labels (array[float]): array of state representations for labels\n",
    "\n",
    "    Returns:\n",
    "        float: loss value to be minimized\n",
    "    \"\"\"\n",
    "    # Compute prediction for each input in data batch\n",
    "    loss = 0.0\n",
    "    dm_labels = [density_matrix(s) for s in state_labels]\n",
    "    for i in range(len(x)):\n",
    "        f = qcircuit(params, x=x[i], y=dm_labels[y[i]])\n",
    "        loss = loss + (1 - f) ** 2\n",
    "    return loss / len(x)"
   ]
  },
  {
   "cell_type": "code",
   "execution_count": 327,
   "metadata": {
    "executionInfo": {
     "elapsed": 858,
     "status": "ok",
     "timestamp": 1610047169730,
     "user": {
      "displayName": "Eraraya Ricardo Muten",
      "photoUrl": "https://lh3.googleusercontent.com/a-/AOh14Ggpw7xw-lyk6u6l92QjpI7MlI7qjJuuciCpwrUd=s64",
      "userId": "03770692095188133952"
     },
     "user_tz": -420
    },
    "id": "yM-CaUveGyA1"
   },
   "outputs": [],
   "source": [
    "def test(params, x, y, state_labels=None):\n",
    "    \"\"\"\n",
    "    Tests on a given set of data.\n",
    "\n",
    "    Args:\n",
    "        params (array[float]): array of parameters\n",
    "        x (array[float]): 2-d array of input vectors\n",
    "        y (array[float]): 1-d array of targets\n",
    "        state_labels (array[float]): 1-d array of state representations for labels\n",
    "\n",
    "    Returns:\n",
    "        predicted (array([int]): predicted labels for test data\n",
    "        output_states (array[float]): output quantum states from the circuit\n",
    "    \"\"\"\n",
    "    fidelity_values = []\n",
    "    dm_labels = [density_matrix(s) for s in state_labels]\n",
    "    predicted = []\n",
    "\n",
    "    for i in range(len(x)):\n",
    "        fidel_function = lambda y: qcircuit(params, x=x[i], y=y)\n",
    "        fidelities = [fidel_function(dm) for dm in dm_labels]\n",
    "        best_fidel = np.argmax(fidelities)\n",
    "\n",
    "        predicted.append(best_fidel)\n",
    "        fidelity_values.append(fidelities)\n",
    "\n",
    "    return np.array(predicted), np.array(fidelity_values)\n",
    "\n",
    "\n",
    "def accuracy_score(y_true, y_pred):\n",
    "    \"\"\"Accuracy score.\n",
    "\n",
    "    Args:\n",
    "        y_true (array[float]): 1-d array of targets\n",
    "        y_predicted (array[float]): 1-d array of predictions\n",
    "        state_labels (array[float]): 1-d array of state representations for labels\n",
    "\n",
    "    Returns:\n",
    "        score (float): the fraction of correctly classified samples\n",
    "    \"\"\"\n",
    "    score = y_true == y_pred\n",
    "    return score.sum() / len(y_true)\n",
    "\n",
    "\n",
    "def iterate_minibatches(inputs, targets, batch_size):\n",
    "    \"\"\"\n",
    "    A generator for batches of the input data\n",
    "\n",
    "    Args:\n",
    "        inputs (array[float]): input data\n",
    "        targets (array[float]): targets\n",
    "\n",
    "    Returns:\n",
    "        inputs (array[float]): one batch of input data of length `batch_size`\n",
    "        targets (array[float]): one batch of targets of length `batch_size`\n",
    "    \"\"\"\n",
    "    for start_idx in range(0, inputs.shape[0] - batch_size + 1, batch_size):\n",
    "        idxs = slice(start_idx, start_idx + batch_size)\n",
    "        yield inputs[idxs], targets[idxs]"
   ]
  },
  {
   "cell_type": "code",
   "execution_count": 297,
   "metadata": {
    "colab": {
     "base_uri": "https://localhost:8080/"
    },
    "executionInfo": {
     "elapsed": 817,
     "status": "ok",
     "timestamp": 1610033156983,
     "user": {
      "displayName": "Eraraya Ricardo Muten",
      "photoUrl": "https://lh3.googleusercontent.com/a-/AOh14Ggpw7xw-lyk6u6l92QjpI7MlI7qjJuuciCpwrUd=s64",
      "userId": "03770692095188133952"
     },
     "user_tz": -420
    },
    "id": "qdBP9LdeagDB",
    "outputId": "6529f044-9a32-4b24-ecc2-ee521a8e1f21"
   },
   "outputs": [
    {
     "data": {
      "text/plain": [
       "(252, 6)"
      ]
     },
     "execution_count": 297,
     "metadata": {
      "tags": []
     },
     "output_type": "execute_result"
    }
   ],
   "source": [
    "temp_0_train = np.delete(x_train_0[:28*9], np.where(quarter_filter == 0), axis=1)\n",
    "temp_0_train = (temp_0_train - mu_train)/(std_train + 1e-8)\n",
    "temp_0_train = pca.transform(temp_0_train)\n",
    "temp_0_train = (temp_0_train.T / np.sqrt(np.sum(temp_0_train ** 2, -1))).T\n",
    "\n",
    "temp_0_train.shape"
   ]
  },
  {
   "cell_type": "code",
   "execution_count": 298,
   "metadata": {
    "colab": {
     "base_uri": "https://localhost:8080/"
    },
    "executionInfo": {
     "elapsed": 831,
     "status": "ok",
     "timestamp": 1610033159506,
     "user": {
      "displayName": "Eraraya Ricardo Muten",
      "photoUrl": "https://lh3.googleusercontent.com/a-/AOh14Ggpw7xw-lyk6u6l92QjpI7MlI7qjJuuciCpwrUd=s64",
      "userId": "03770692095188133952"
     },
     "user_tz": -420
    },
    "id": "PCnP5AZOY9tj",
    "outputId": "a513422b-7580-4265-e567-32f3cff38cde"
   },
   "outputs": [
    {
     "data": {
      "text/plain": [
       "((504, 6), (990, 6))"
      ]
     },
     "execution_count": 298,
     "metadata": {
      "tags": []
     },
     "output_type": "execute_result"
    }
   ],
   "source": [
    "temp_train = np.concatenate((\n",
    "    temp_0_train,\n",
    "    X_train[Y_train == 1, :][:28],\n",
    "    X_train[Y_train == 2, :][:28],\n",
    "    X_train[Y_train == 3, :][:28],\n",
    "    X_train[Y_train == 4, :][:28],\n",
    "    X_train[Y_train == 5, :][:28],\n",
    "    X_train[Y_train == 6, :][:28],\n",
    "    X_train[Y_train == 7, :][:28],\n",
    "    X_train[Y_train == 8, :][:28],\n",
    "    X_train[Y_train == 9, :][:28]), axis=0)\n",
    "\n",
    "temp_test = np.concatenate((\n",
    "    X_test[Y_test == 0, :][:55*9],\n",
    "    X_test[Y_test == 1, :][:55],\n",
    "    X_test[Y_test == 2, :][:55],\n",
    "    X_test[Y_test == 3, :][:55],\n",
    "    X_test[Y_test == 4, :][:55],\n",
    "    X_test[Y_test == 5, :][:55],\n",
    "    X_test[Y_test == 6, :][:55],\n",
    "    X_test[Y_test == 7, :][:55],\n",
    "    X_test[Y_test == 8, :][:55],\n",
    "    X_test[Y_test == 9, :][:55]), axis=0)\n",
    "\n",
    "temp_train.shape, temp_test.shape"
   ]
  },
  {
   "cell_type": "code",
   "execution_count": 301,
   "metadata": {
    "colab": {
     "base_uri": "https://localhost:8080/"
    },
    "executionInfo": {
     "elapsed": 574,
     "status": "ok",
     "timestamp": 1610033280196,
     "user": {
      "displayName": "Eraraya Ricardo Muten",
      "photoUrl": "https://lh3.googleusercontent.com/a-/AOh14Ggpw7xw-lyk6u6l92QjpI7MlI7qjJuuciCpwrUd=s64",
      "userId": "03770692095188133952"
     },
     "user_tz": -420
    },
    "id": "BVLnIxe5bW-d",
    "outputId": "9b1cc4d2-1e8b-42bc-881f-ab932173e5e6"
   },
   "outputs": [
    {
     "data": {
      "text/plain": [
       "((504,), (990,))"
      ]
     },
     "execution_count": 301,
     "metadata": {
      "tags": []
     },
     "output_type": "execute_result"
    }
   ],
   "source": [
    "Y_train = np.zeros((temp_train.shape[0],), dtype=int)\n",
    "Y_train[:int(Y_train.shape[0]/2)] = 1\n",
    "\n",
    "Y_test = np.zeros((temp_test.shape[0],), dtype=int)\n",
    "Y_test[:int(Y_test.shape[0]/2)] = 1\n",
    "\n",
    "Y_train.shape, Y_test.shape"
   ]
  },
  {
   "cell_type": "code",
   "execution_count": 305,
   "metadata": {
    "colab": {
     "base_uri": "https://localhost:8080/"
    },
    "executionInfo": {
     "elapsed": 578,
     "status": "ok",
     "timestamp": 1610033330313,
     "user": {
      "displayName": "Eraraya Ricardo Muten",
      "photoUrl": "https://lh3.googleusercontent.com/a-/AOh14Ggpw7xw-lyk6u6l92QjpI7MlI7qjJuuciCpwrUd=s64",
      "userId": "03770692095188133952"
     },
     "user_tz": -420
    },
    "id": "hyjKL02kcbiA",
    "outputId": "6dff61ec-a85d-4b27-a910-20bf86f63a0e"
   },
   "outputs": [
    {
     "data": {
      "text/plain": [
       "((504, 6), (990, 6))"
      ]
     },
     "execution_count": 305,
     "metadata": {
      "tags": []
     },
     "output_type": "execute_result"
    }
   ],
   "source": [
    "X_train = temp_train.copy()\n",
    "X_test = temp_test.copy()\n",
    "\n",
    "X_train.shape, X_test.shape"
   ]
  },
  {
   "cell_type": "code",
   "execution_count": 220,
   "metadata": {
    "executionInfo": {
     "elapsed": 760,
     "status": "ok",
     "timestamp": 1610030803248,
     "user": {
      "displayName": "Eraraya Ricardo Muten",
      "photoUrl": "https://lh3.googleusercontent.com/a-/AOh14Ggpw7xw-lyk6u6l92QjpI7MlI7qjJuuciCpwrUd=s64",
      "userId": "03770692095188133952"
     },
     "user_tz": -420
    },
    "id": "DJuT7ucVJaSc"
   },
   "outputs": [],
   "source": [
    "'''\n",
    "X_train = X_train[:200, :]\n",
    "Y_train = Y_train[:200]\n",
    "\n",
    "X_test = X_test[:200*5, :]\n",
    "Y_test = Y_test[:200*5]\n",
    "'''"
   ]
  },
  {
   "cell_type": "code",
   "execution_count": 328,
   "metadata": {
    "colab": {
     "base_uri": "https://localhost:8080/"
    },
    "executionInfo": {
     "elapsed": 4507308,
     "status": "ok",
     "timestamp": 1610053150318,
     "user": {
      "displayName": "Eraraya Ricardo Muten",
      "photoUrl": "https://lh3.googleusercontent.com/a-/AOh14Ggpw7xw-lyk6u6l92QjpI7MlI7qjJuuciCpwrUd=s64",
      "userId": "03770692095188133952"
     },
     "user_tz": -420
    },
    "id": "qAu_LcynG3i5",
    "outputId": "77d56630-b64e-4ba2-e206-915830f5d4a4"
   },
   "outputs": [
    {
     "name": "stdout",
     "output_type": "stream",
     "text": [
      "Epoch:  0 | Loss: 0.311565 | Train accuracy: 0.434524 | Test Accuracy: 0.420202\n"
     ]
    },
    {
     "name": "stderr",
     "output_type": "stream",
     "text": [
      "/usr/local/lib/python3.6/dist-packages/pennylane/tape/tapes/jacobian_tape.py:461: VisibleDeprecationWarning: Creating an ndarray from ragged nested sequences (which is a list-or-tuple of lists-or-tuples-or ndarrays with different lengths or shapes) is deprecated. If you meant to do this, you must specify 'dtype=object' when creating the ndarray\n",
      "  params = np.array(params)\n"
     ]
    },
    {
     "name": "stdout",
     "output_type": "stream",
     "text": [
      "Epoch:  1 | Loss: 0.299844 | Train accuracy: 0.519841 | Test accuracy: 0.411111\n",
      "Epoch:  2 | Loss: 0.142887 | Train accuracy: 0.805556 | Test accuracy: 0.788889\n",
      "Epoch:  3 | Loss: 0.102072 | Train accuracy: 0.873016 | Test accuracy: 0.834343\n",
      "Epoch:  4 | Loss: 0.070375 | Train accuracy: 0.916667 | Test accuracy: 0.914141\n",
      "Epoch:  5 | Loss: 0.068863 | Train accuracy: 0.938492 | Test accuracy: 0.917172\n",
      "Epoch:  6 | Loss: 0.065315 | Train accuracy: 0.940476 | Test accuracy: 0.918182\n",
      "Epoch:  7 | Loss: 0.065039 | Train accuracy: 0.936508 | Test accuracy: 0.916162\n",
      "Epoch:  8 | Loss: 0.064059 | Train accuracy: 0.936508 | Test accuracy: 0.917172\n",
      "Epoch:  9 | Loss: 0.063453 | Train accuracy: 0.936508 | Test accuracy: 0.917172\n",
      "Epoch: 10 | Loss: 0.062470 | Train accuracy: 0.938492 | Test accuracy: 0.921212\n",
      "Epoch: 11 | Loss: 0.060965 | Train accuracy: 0.936508 | Test accuracy: 0.922222\n",
      "Epoch: 12 | Loss: 0.060121 | Train accuracy: 0.940476 | Test accuracy: 0.920202\n",
      "Epoch: 13 | Loss: 0.059143 | Train accuracy: 0.940476 | Test accuracy: 0.919192\n",
      "Epoch: 14 | Loss: 0.059180 | Train accuracy: 0.938492 | Test accuracy: 0.922222\n",
      "Epoch: 15 | Loss: 0.058626 | Train accuracy: 0.942460 | Test accuracy: 0.919192\n",
      "Epoch: 16 | Loss: 0.059718 | Train accuracy: 0.938492 | Test accuracy: 0.920202\n",
      "Epoch: 17 | Loss: 0.058449 | Train accuracy: 0.944444 | Test accuracy: 0.915152\n",
      "Epoch: 18 | Loss: 0.061665 | Train accuracy: 0.934524 | Test accuracy: 0.919192\n",
      "Epoch: 19 | Loss: 0.058148 | Train accuracy: 0.946429 | Test accuracy: 0.913131\n",
      "Epoch: 20 | Loss: 0.064942 | Train accuracy: 0.932540 | Test accuracy: 0.916162\n",
      "Epoch: 21 | Loss: 0.058389 | Train accuracy: 0.944444 | Test accuracy: 0.908081\n",
      "Epoch: 22 | Loss: 0.069036 | Train accuracy: 0.928571 | Test accuracy: 0.910101\n",
      "Epoch: 23 | Loss: 0.061862 | Train accuracy: 0.940476 | Test accuracy: 0.901010\n",
      "Epoch: 24 | Loss: 0.071607 | Train accuracy: 0.936508 | Test accuracy: 0.911111\n",
      "Epoch: 25 | Loss: 0.068650 | Train accuracy: 0.930556 | Test accuracy: 0.891919\n",
      "Epoch: 26 | Loss: 0.062162 | Train accuracy: 0.938492 | Test accuracy: 0.910101\n",
      "Epoch: 27 | Loss: 0.075209 | Train accuracy: 0.924603 | Test accuracy: 0.874747\n",
      "Epoch: 28 | Loss: 0.063065 | Train accuracy: 0.938492 | Test accuracy: 0.902020\n",
      "Epoch: 29 | Loss: 0.154852 | Train accuracy: 0.753968 | Test accuracy: 0.750505\n",
      "Epoch: 30 | Loss: 0.109878 | Train accuracy: 0.890873 | Test accuracy: 0.840404\n",
      "Epoch: 31 | Loss: 0.069025 | Train accuracy: 0.928571 | Test accuracy: 0.912121\n",
      "Epoch: 32 | Loss: 0.105998 | Train accuracy: 0.884921 | Test accuracy: 0.843434\n",
      "Epoch: 33 | Loss: 0.124553 | Train accuracy: 0.863095 | Test accuracy: 0.819192\n",
      "Epoch: 34 | Loss: 0.103976 | Train accuracy: 0.851190 | Test accuracy: 0.891919\n",
      "Epoch: 35 | Loss: 0.084489 | Train accuracy: 0.906746 | Test accuracy: 0.880808\n",
      "Epoch: 36 | Loss: 0.063795 | Train accuracy: 0.930556 | Test accuracy: 0.935354\n",
      "Epoch: 37 | Loss: 0.058661 | Train accuracy: 0.934524 | Test accuracy: 0.928283\n",
      "Epoch: 38 | Loss: 0.059713 | Train accuracy: 0.942460 | Test accuracy: 0.918182\n",
      "Epoch: 39 | Loss: 0.070596 | Train accuracy: 0.926587 | Test accuracy: 0.926263\n",
      "Epoch: 40 | Loss: 0.062621 | Train accuracy: 0.940476 | Test accuracy: 0.905051\n",
      "Epoch: 41 | Loss: 0.055690 | Train accuracy: 0.940476 | Test accuracy: 0.929293\n",
      "Epoch: 42 | Loss: 0.067895 | Train accuracy: 0.934524 | Test accuracy: 0.915152\n",
      "Epoch: 43 | Loss: 0.076134 | Train accuracy: 0.928571 | Test accuracy: 0.869697\n",
      "Epoch: 44 | Loss: 0.062357 | Train accuracy: 0.940476 | Test accuracy: 0.924242\n",
      "Epoch: 45 | Loss: 0.061369 | Train accuracy: 0.932540 | Test accuracy: 0.916162\n",
      "Epoch: 46 | Loss: 0.079322 | Train accuracy: 0.924603 | Test accuracy: 0.869697\n",
      "Epoch: 47 | Loss: 0.084643 | Train accuracy: 0.920635 | Test accuracy: 0.914141\n",
      "Epoch: 48 | Loss: 0.059304 | Train accuracy: 0.928571 | Test accuracy: 0.910101\n",
      "Epoch: 49 | Loss: 0.065780 | Train accuracy: 0.926587 | Test accuracy: 0.905051\n",
      "Epoch: 50 | Loss: 0.085533 | Train accuracy: 0.918651 | Test accuracy: 0.917172\n",
      "Epoch: 51 | Loss: 0.069392 | Train accuracy: 0.916667 | Test accuracy: 0.876768\n",
      "Epoch: 52 | Loss: 0.056093 | Train accuracy: 0.938492 | Test accuracy: 0.915152\n",
      "Epoch: 53 | Loss: 0.060776 | Train accuracy: 0.928571 | Test accuracy: 0.921212\n",
      "Epoch: 54 | Loss: 0.066501 | Train accuracy: 0.924603 | Test accuracy: 0.882828\n",
      "Epoch: 55 | Loss: 0.067397 | Train accuracy: 0.944444 | Test accuracy: 0.918182\n",
      "Epoch: 56 | Loss: 0.059397 | Train accuracy: 0.930556 | Test accuracy: 0.889899\n",
      "Epoch: 57 | Loss: 0.062774 | Train accuracy: 0.938492 | Test accuracy: 0.919192\n",
      "Epoch: 58 | Loss: 0.052102 | Train accuracy: 0.940476 | Test accuracy: 0.908081\n",
      "Epoch: 59 | Loss: 0.053964 | Train accuracy: 0.940476 | Test accuracy: 0.907071\n",
      "Epoch: 60 | Loss: 0.067798 | Train accuracy: 0.936508 | Test accuracy: 0.911111\n",
      "Epoch: 61 | Loss: 0.076306 | Train accuracy: 0.914683 | Test accuracy: 0.865657\n",
      "Epoch: 62 | Loss: 0.063235 | Train accuracy: 0.944444 | Test accuracy: 0.908081\n",
      "Epoch: 63 | Loss: 0.055077 | Train accuracy: 0.940476 | Test accuracy: 0.895960\n",
      "Epoch: 64 | Loss: 0.055317 | Train accuracy: 0.944444 | Test accuracy: 0.908081\n",
      "Epoch: 65 | Loss: 0.072315 | Train accuracy: 0.932540 | Test accuracy: 0.906061\n",
      "Epoch: 66 | Loss: 0.088781 | Train accuracy: 0.902778 | Test accuracy: 0.836364\n",
      "Epoch: 67 | Loss: 0.090847 | Train accuracy: 0.910714 | Test accuracy: 0.890909\n",
      "Epoch: 68 | Loss: 0.073877 | Train accuracy: 0.912698 | Test accuracy: 0.847475\n",
      "Epoch: 69 | Loss: 0.072067 | Train accuracy: 0.930556 | Test accuracy: 0.922222\n",
      "Epoch: 70 | Loss: 0.058830 | Train accuracy: 0.932540 | Test accuracy: 0.917172\n",
      "Epoch: 71 | Loss: 0.055462 | Train accuracy: 0.938492 | Test accuracy: 0.917172\n",
      "Epoch: 72 | Loss: 0.053880 | Train accuracy: 0.944444 | Test accuracy: 0.926263\n",
      "Epoch: 73 | Loss: 0.072110 | Train accuracy: 0.924603 | Test accuracy: 0.909091\n",
      "Epoch: 74 | Loss: 0.054052 | Train accuracy: 0.944444 | Test accuracy: 0.918182\n",
      "Epoch: 75 | Loss: 0.054016 | Train accuracy: 0.942460 | Test accuracy: 0.918182\n",
      "Epoch: 76 | Loss: 0.061419 | Train accuracy: 0.932540 | Test accuracy: 0.920202\n",
      "Epoch: 77 | Loss: 0.062877 | Train accuracy: 0.928571 | Test accuracy: 0.906061\n",
      "Epoch: 78 | Loss: 0.059938 | Train accuracy: 0.934524 | Test accuracy: 0.895960\n",
      "Epoch: 79 | Loss: 0.060418 | Train accuracy: 0.944444 | Test accuracy: 0.914141\n",
      "Epoch: 80 | Loss: 0.065482 | Train accuracy: 0.922619 | Test accuracy: 0.909091\n",
      "Epoch: 81 | Loss: 0.057020 | Train accuracy: 0.932540 | Test accuracy: 0.900000\n",
      "Epoch: 82 | Loss: 0.054201 | Train accuracy: 0.934524 | Test accuracy: 0.909091\n",
      "Epoch: 83 | Loss: 0.065934 | Train accuracy: 0.934524 | Test accuracy: 0.906061\n",
      "Epoch: 84 | Loss: 0.054115 | Train accuracy: 0.940476 | Test accuracy: 0.913131\n",
      "Epoch: 85 | Loss: 0.054662 | Train accuracy: 0.942460 | Test accuracy: 0.906061\n",
      "Epoch: 86 | Loss: 0.054539 | Train accuracy: 0.940476 | Test accuracy: 0.916162\n",
      "Epoch: 87 | Loss: 0.067500 | Train accuracy: 0.934524 | Test accuracy: 0.900000\n",
      "Epoch: 88 | Loss: 0.053837 | Train accuracy: 0.938492 | Test accuracy: 0.900000\n",
      "Epoch: 89 | Loss: 0.060036 | Train accuracy: 0.940476 | Test accuracy: 0.901010\n",
      "Epoch: 90 | Loss: 0.054792 | Train accuracy: 0.942460 | Test accuracy: 0.908081\n",
      "Epoch: 91 | Loss: 0.052933 | Train accuracy: 0.940476 | Test accuracy: 0.897980\n",
      "Epoch: 92 | Loss: 0.053517 | Train accuracy: 0.944444 | Test accuracy: 0.909091\n",
      "Epoch: 93 | Loss: 0.063439 | Train accuracy: 0.936508 | Test accuracy: 0.888889\n",
      "Epoch: 94 | Loss: 0.057350 | Train accuracy: 0.946429 | Test accuracy: 0.903030\n",
      "Epoch: 95 | Loss: 0.056466 | Train accuracy: 0.944444 | Test accuracy: 0.889899\n",
      "Epoch: 96 | Loss: 0.053369 | Train accuracy: 0.948413 | Test accuracy: 0.916162\n",
      "Epoch: 97 | Loss: 0.064438 | Train accuracy: 0.938492 | Test accuracy: 0.898990\n",
      "Epoch: 98 | Loss: 0.053911 | Train accuracy: 0.940476 | Test accuracy: 0.897980\n",
      "Epoch: 99 | Loss: 0.056711 | Train accuracy: 0.942460 | Test accuracy: 0.902020\n",
      "Epoch: 100 | Loss: 0.053387 | Train accuracy: 0.940476 | Test accuracy: 0.909091\n"
     ]
    }
   ],
   "source": [
    "# Train using Adam optimizer and evaluate the classifier\n",
    "num_layers = 3\n",
    "learning_rate = 0.1\n",
    "epochs = 100\n",
    "batch_size = 32\n",
    "\n",
    "opt = AdamOptimizer(learning_rate)\n",
    "\n",
    "# initialize random weights\n",
    "theta = np.random.uniform(size=(num_layers, 6))\n",
    "w = np.random.uniform(size=(num_layers, 6))\n",
    "params = [w, theta]\n",
    "\n",
    "predicted_train, fidel_train = test(params, X_train, Y_train, state_labels)\n",
    "accuracy_train = accuracy_score(Y_train, predicted_train)\n",
    "\n",
    "predicted_test, fidel_test = test(params, X_test, Y_test, state_labels)\n",
    "accuracy_test = accuracy_score(Y_test, predicted_test)\n",
    "\n",
    "# save predictions with random weights for comparison\n",
    "initial_predictions = predicted_test\n",
    "\n",
    "loss = cost(params, X_test, Y_test, state_labels)\n",
    "\n",
    "print(\n",
    "    \"Epoch: {:2d} | Loss: {:3f} | Train accuracy: {:3f} | Test Accuracy: {:3f}\".format(\n",
    "        0, loss, accuracy_train, accuracy_test\n",
    "    )\n",
    ")\n",
    "\n",
    "for it in range(epochs):\n",
    "    for Xbatch, ybatch in iterate_minibatches(X_train, Y_train, batch_size=batch_size):\n",
    "        params = opt.step(lambda v: cost(v, Xbatch, ybatch, state_labels), params)\n",
    "\n",
    "    predicted_train, fidel_train = test(params, X_train, Y_train, state_labels)\n",
    "    accuracy_train = accuracy_score(Y_train, predicted_train)\n",
    "    loss = cost(params, X_train, Y_train, state_labels)\n",
    "\n",
    "    predicted_test, fidel_test = test(params, X_test, Y_test, state_labels)\n",
    "    accuracy_test = accuracy_score(Y_test, predicted_test)\n",
    "    res = [it + 1, loss, accuracy_train, accuracy_test]\n",
    "    print(\n",
    "        \"Epoch: {:2d} | Loss: {:3f} | Train accuracy: {:3f} | Test accuracy: {:3f}\".format(\n",
    "            *res\n",
    "        )\n",
    "    )"
   ]
  },
  {
   "cell_type": "code",
   "execution_count": null,
   "metadata": {
    "id": "epPDK5i9hOGH"
   },
   "outputs": [],
   "source": []
  },
  {
   "cell_type": "code",
   "execution_count": null,
   "metadata": {
    "id": "u1ozqS33W66k"
   },
   "outputs": [],
   "source": []
  },
  {
   "cell_type": "code",
   "execution_count": 146,
   "metadata": {
    "colab": {
     "base_uri": "https://localhost:8080/"
    },
    "executionInfo": {
     "elapsed": 832,
     "status": "ok",
     "timestamp": 1609947492893,
     "user": {
      "displayName": "Eraraya Ricardo Muten",
      "photoUrl": "https://lh3.googleusercontent.com/a-/AOh14Ggpw7xw-lyk6u6l92QjpI7MlI7qjJuuciCpwrUd=s64",
      "userId": "03770692095188133952"
     },
     "user_tz": -420
    },
    "id": "r4Aby1i9HgYi",
    "outputId": "675135a7-0eac-44f6-e20b-3a4f7455a4fc"
   },
   "outputs": [
    {
     "data": {
      "text/plain": [
       "Rot(tensor(0.49614069, requires_grad=True), tensor(-0.43716591, requires_grad=True), tensor(0.82577959, requires_grad=True), wires=[0])"
      ]
     },
     "execution_count": 146,
     "metadata": {
      "tags": []
     },
     "output_type": "execute_result"
    }
   ],
   "source": [
    "qml.Rot(*(params[0][0][0:3]*X_train[0, 0:3] + params[1][0][0:3]), wires=[0])"
   ]
  },
  {
   "cell_type": "code",
   "execution_count": 134,
   "metadata": {
    "colab": {
     "base_uri": "https://localhost:8080/"
    },
    "executionInfo": {
     "elapsed": 829,
     "status": "ok",
     "timestamp": 1609947206520,
     "user": {
      "displayName": "Eraraya Ricardo Muten",
      "photoUrl": "https://lh3.googleusercontent.com/a-/AOh14Ggpw7xw-lyk6u6l92QjpI7MlI7qjJuuciCpwrUd=s64",
      "userId": "03770692095188133952"
     },
     "user_tz": -420
    },
    "id": "HnYzweHeJqAe",
    "outputId": "b0cfcd45-3739-4f3a-e332-f7703d2e9218"
   },
   "outputs": [
    {
     "data": {
      "text/plain": [
       "tensor([0.37454012, 0.95071431, 0.73199394], requires_grad=True)"
      ]
     },
     "execution_count": 134,
     "metadata": {
      "tags": []
     },
     "output_type": "execute_result"
    }
   ],
   "source": [
    "params[1][0][0:3]"
   ]
  },
  {
   "cell_type": "code",
   "execution_count": null,
   "metadata": {
    "id": "YE2m-zLeNVWD"
   },
   "outputs": [],
   "source": []
  }
 ],
 "metadata": {
  "colab": {
   "authorship_tag": "ABX9TyNNN7AuWgekOgocJ/DE5q9Z",
   "collapsed_sections": [],
   "name": "DRC MNIST 2 Class.ipynb",
   "provenance": []
  },
  "kernelspec": {
   "display_name": "Python 3",
   "language": "python",
   "name": "python3"
  },
  "language_info": {
   "codemirror_mode": {
    "name": "ipython",
    "version": 3
   },
   "file_extension": ".py",
   "mimetype": "text/x-python",
   "name": "python",
   "nbconvert_exporter": "python",
   "pygments_lexer": "ipython3",
   "version": "3.8.5"
  }
 },
 "nbformat": 4,
 "nbformat_minor": 1
}
