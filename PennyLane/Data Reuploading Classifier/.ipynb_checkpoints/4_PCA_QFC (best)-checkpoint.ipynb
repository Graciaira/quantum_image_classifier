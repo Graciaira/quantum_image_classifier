{
 "cells": [
  {
   "cell_type": "code",
   "execution_count": 1,
   "metadata": {
    "colab": {
     "base_uri": "https://localhost:8080/"
    },
    "executionInfo": {
     "elapsed": 21741,
     "status": "ok",
     "timestamp": 1609942401542,
     "user": {
      "displayName": "Eraraya Ricardo Muten",
      "photoUrl": "https://lh3.googleusercontent.com/a-/AOh14Ggpw7xw-lyk6u6l92QjpI7MlI7qjJuuciCpwrUd=s64",
      "userId": "03770692095188133952"
     },
     "user_tz": -420
    },
    "id": "e4abR9zSaWNk",
    "outputId": "94ee80ef-152f-452f-d852-06919b9942a4"
   },
   "outputs": [
    {
     "name": "stdout",
     "output_type": "stream",
     "text": [
      "/content/drive\n",
      "Mounted at /content/drive\n"
     ]
    }
   ],
   "source": [
    "# Mount Google Drive\n",
    "from google.colab import drive # import drive from google colab\n",
    " \n",
    "ROOT = \"/content/drive\"     # default location for the drive\n",
    "print(ROOT)                 # print content of ROOT (Optional)\n",
    " \n",
    "drive.mount(ROOT)           # we mount the google drive at /content/drive"
   ]
  },
  {
   "cell_type": "code",
   "execution_count": 1,
   "metadata": {
    "executionInfo": {
     "elapsed": 4192,
     "status": "ok",
     "timestamp": 1610025781584,
     "user": {
      "displayName": "Eraraya Ricardo Muten",
      "photoUrl": "https://lh3.googleusercontent.com/a-/AOh14Ggpw7xw-lyk6u6l92QjpI7MlI7qjJuuciCpwrUd=s64",
      "userId": "03770692095188133952"
     },
     "user_tz": -420
    },
    "id": "gk5AKGKcYGOo"
   },
   "outputs": [],
   "source": [
    "!pip install pennylane\n",
    "from IPython.display import clear_output\n",
    "clear_output()"
   ]
  },
  {
   "cell_type": "code",
   "execution_count": null,
   "metadata": {
    "id": "GigSJusGbx1b"
   },
   "outputs": [],
   "source": [
    "import os\n",
    "\n",
    "def restart_runtime():\n",
    "  os.kill(os.getpid(), 9)\n",
    "restart_runtime()"
   ]
  },
  {
   "cell_type": "code",
   "execution_count": 1,
   "metadata": {
    "executionInfo": {
     "elapsed": 857,
     "status": "ok",
     "timestamp": 1610025787385,
     "user": {
      "displayName": "Eraraya Ricardo Muten",
      "photoUrl": "https://lh3.googleusercontent.com/a-/AOh14Ggpw7xw-lyk6u6l92QjpI7MlI7qjJuuciCpwrUd=s64",
      "userId": "03770692095188133952"
     },
     "user_tz": -420
    },
    "id": "HoLmJLkIX810"
   },
   "outputs": [],
   "source": [
    "# %matplotlib inline\n",
    "import matplotlib.pyplot as plt\n",
    "from mpl_toolkits.axes_grid1 import make_axes_locatable\n",
    "\n",
    "import numpy as np\n",
    "import tensorflow as tf\n",
    "from tensorflow.keras.utils import to_categorical"
   ]
  },
  {
   "cell_type": "markdown",
   "metadata": {
    "id": "vZFNOwFXoY8N"
   },
   "source": [
    "# Loading Raw Data"
   ]
  },
  {
   "cell_type": "code",
   "execution_count": 2,
   "metadata": {
    "colab": {
     "base_uri": "https://localhost:8080/"
    },
    "executionInfo": {
     "elapsed": 2726,
     "status": "ok",
     "timestamp": 1610025792089,
     "user": {
      "displayName": "Eraraya Ricardo Muten",
      "photoUrl": "https://lh3.googleusercontent.com/a-/AOh14Ggpw7xw-lyk6u6l92QjpI7MlI7qjJuuciCpwrUd=s64",
      "userId": "03770692095188133952"
     },
     "user_tz": -420
    },
    "id": "IvdFsGCVof9g",
    "outputId": "c1e94fa1-a11f-4bff-c7b7-975b8b1b79fb"
   },
   "outputs": [],
   "source": [
    "(x_train, y_train), (x_test, y_test) = tf.keras.datasets.mnist.load_data()"
   ]
  },
  {
   "cell_type": "code",
   "execution_count": 3,
   "metadata": {
    "executionInfo": {
     "elapsed": 1251,
     "status": "ok",
     "timestamp": 1610025792677,
     "user": {
      "displayName": "Eraraya Ricardo Muten",
      "photoUrl": "https://lh3.googleusercontent.com/a-/AOh14Ggpw7xw-lyk6u6l92QjpI7MlI7qjJuuciCpwrUd=s64",
      "userId": "03770692095188133952"
     },
     "user_tz": -420
    },
    "id": "c6zvGFvIoxAN"
   },
   "outputs": [],
   "source": [
    "x_train_flatten = x_train.reshape(x_train.shape[0], x_train.shape[1]*x_train.shape[2])/255.0\n",
    "x_test_flatten = x_test.reshape(x_test.shape[0], x_test.shape[1]*x_test.shape[2])/255.0"
   ]
  },
  {
   "cell_type": "code",
   "execution_count": 4,
   "metadata": {
    "colab": {
     "base_uri": "https://localhost:8080/"
    },
    "executionInfo": {
     "elapsed": 948,
     "status": "ok",
     "timestamp": 1610025792678,
     "user": {
      "displayName": "Eraraya Ricardo Muten",
      "photoUrl": "https://lh3.googleusercontent.com/a-/AOh14Ggpw7xw-lyk6u6l92QjpI7MlI7qjJuuciCpwrUd=s64",
      "userId": "03770692095188133952"
     },
     "user_tz": -420
    },
    "id": "Rmj1dzaso00h",
    "outputId": "f59eea77-95bb-4b6a-b0ba-14a7e5760b11"
   },
   "outputs": [
    {
     "name": "stdout",
     "output_type": "stream",
     "text": [
      "(60000, 784) (60000,)\n",
      "(10000, 784) (10000,)\n"
     ]
    }
   ],
   "source": [
    "print(x_train_flatten.shape, y_train.shape)\n",
    "print(x_test_flatten.shape, y_test.shape)"
   ]
  },
  {
   "cell_type": "code",
   "execution_count": 5,
   "metadata": {
    "colab": {
     "base_uri": "https://localhost:8080/"
    },
    "executionInfo": {
     "elapsed": 945,
     "status": "ok",
     "timestamp": 1610025793507,
     "user": {
      "displayName": "Eraraya Ricardo Muten",
      "photoUrl": "https://lh3.googleusercontent.com/a-/AOh14Ggpw7xw-lyk6u6l92QjpI7MlI7qjJuuciCpwrUd=s64",
      "userId": "03770692095188133952"
     },
     "user_tz": -420
    },
    "id": "d10VoIC6o5_I",
    "outputId": "774bafb6-5cbe-42b3-98d0-643e7e943f91"
   },
   "outputs": [
    {
     "name": "stdout",
     "output_type": "stream",
     "text": [
      "(5923, 784)\n",
      "(6742, 784)\n",
      "(5958, 784)\n",
      "(6131, 784)\n",
      "(5842, 784)\n",
      "(5421, 784)\n",
      "(5918, 784)\n",
      "(6265, 784)\n",
      "(5851, 784)\n",
      "(5949, 784)\n"
     ]
    }
   ],
   "source": [
    "x_train_0 = x_train_flatten[y_train == 0]\n",
    "x_train_1 = x_train_flatten[y_train == 1]\n",
    "x_train_2 = x_train_flatten[y_train == 2]\n",
    "x_train_3 = x_train_flatten[y_train == 3]\n",
    "x_train_4 = x_train_flatten[y_train == 4]\n",
    "x_train_5 = x_train_flatten[y_train == 5]\n",
    "x_train_6 = x_train_flatten[y_train == 6]\n",
    "x_train_7 = x_train_flatten[y_train == 7]\n",
    "x_train_8 = x_train_flatten[y_train == 8]\n",
    "x_train_9 = x_train_flatten[y_train == 9]\n",
    "\n",
    "x_train_list = [x_train_0, x_train_1, x_train_2, x_train_3, x_train_4, x_train_5, x_train_6, x_train_7, x_train_8, x_train_9]\n",
    "\n",
    "print(x_train_0.shape)\n",
    "print(x_train_1.shape)\n",
    "print(x_train_2.shape)\n",
    "print(x_train_3.shape)\n",
    "print(x_train_4.shape)\n",
    "print(x_train_5.shape)\n",
    "print(x_train_6.shape)\n",
    "print(x_train_7.shape)\n",
    "print(x_train_8.shape)\n",
    "print(x_train_9.shape)"
   ]
  },
  {
   "cell_type": "code",
   "execution_count": 6,
   "metadata": {
    "colab": {
     "base_uri": "https://localhost:8080/"
    },
    "executionInfo": {
     "elapsed": 901,
     "status": "ok",
     "timestamp": 1610025796926,
     "user": {
      "displayName": "Eraraya Ricardo Muten",
      "photoUrl": "https://lh3.googleusercontent.com/a-/AOh14Ggpw7xw-lyk6u6l92QjpI7MlI7qjJuuciCpwrUd=s64",
      "userId": "03770692095188133952"
     },
     "user_tz": -420
    },
    "id": "snFw4LqepFOl",
    "outputId": "d62bdedd-8ad4-4da9-c7e8-75b8a0a9ba7b"
   },
   "outputs": [
    {
     "name": "stdout",
     "output_type": "stream",
     "text": [
      "(980, 784)\n",
      "(1135, 784)\n",
      "(1032, 784)\n",
      "(1010, 784)\n",
      "(982, 784)\n",
      "(892, 784)\n",
      "(958, 784)\n",
      "(1028, 784)\n",
      "(974, 784)\n",
      "(1009, 784)\n"
     ]
    }
   ],
   "source": [
    "x_test_0 = x_test_flatten[y_test == 0]\n",
    "x_test_1 = x_test_flatten[y_test == 1]\n",
    "x_test_2 = x_test_flatten[y_test == 2]\n",
    "x_test_3 = x_test_flatten[y_test == 3]\n",
    "x_test_4 = x_test_flatten[y_test == 4]\n",
    "x_test_5 = x_test_flatten[y_test == 5]\n",
    "x_test_6 = x_test_flatten[y_test == 6]\n",
    "x_test_7 = x_test_flatten[y_test == 7]\n",
    "x_test_8 = x_test_flatten[y_test == 8]\n",
    "x_test_9 = x_test_flatten[y_test == 9]\n",
    "\n",
    "x_test_list = [x_test_0, x_test_1, x_test_2, x_test_3, x_test_4, x_test_5, x_test_6, x_test_7, x_test_8, x_test_9]\n",
    "\n",
    "print(x_test_0.shape)\n",
    "print(x_test_1.shape)\n",
    "print(x_test_2.shape)\n",
    "print(x_test_3.shape)\n",
    "print(x_test_4.shape)\n",
    "print(x_test_5.shape)\n",
    "print(x_test_6.shape)\n",
    "print(x_test_7.shape)\n",
    "print(x_test_8.shape)\n",
    "print(x_test_9.shape)"
   ]
  },
  {
   "cell_type": "markdown",
   "metadata": {
    "id": "SAxUS6Lhp95g"
   },
   "source": [
    "# Selecting the dataset\n",
    "\n",
    "Output: X_train, Y_train, X_test, Y_test"
   ]
  },
  {
   "cell_type": "code",
   "execution_count": 7,
   "metadata": {
    "colab": {
     "base_uri": "https://localhost:8080/"
    },
    "executionInfo": {
     "elapsed": 881,
     "status": "ok",
     "timestamp": 1610032449016,
     "user": {
      "displayName": "Eraraya Ricardo Muten",
      "photoUrl": "https://lh3.googleusercontent.com/a-/AOh14Ggpw7xw-lyk6u6l92QjpI7MlI7qjJuuciCpwrUd=s64",
      "userId": "03770692095188133952"
     },
     "user_tz": -420
    },
    "id": "4Nr0gmM9DFd_",
    "outputId": "d4120711-a864-4d5a-aef1-2c9ab9e4078c"
   },
   "outputs": [
    {
     "name": "stdout",
     "output_type": "stream",
     "text": [
      "(800, 784) (800,)\n",
      "(200, 784) (200,)\n"
     ]
    }
   ],
   "source": [
    "num_sample = 200\n",
    "n_class = 4\n",
    "mult_test = 0.25\n",
    "\n",
    "X_train = x_train_list[0][:num_sample, :]\n",
    "X_test = x_test_list[0][:int(mult_test*num_sample), :]\n",
    "\n",
    "Y_train = np.zeros((n_class*X_train.shape[0],), dtype=int)\n",
    "Y_test = np.zeros((n_class*X_test.shape[0],), dtype=int)\n",
    "\n",
    "for i in range(n_class-1):\n",
    "  X_train = np.concatenate((X_train, x_train_list[i+1][:num_sample, :]), axis=0)\n",
    "  Y_train[num_sample*(i+1):num_sample*(i+2)] = int(i+1)\n",
    "\n",
    "  X_test = np.concatenate((X_test, x_test_list[i+1][:int(mult_test*num_sample), :]), axis=0)\n",
    "  Y_test[int(mult_test*num_sample*(i+1)):int(mult_test*num_sample*(i+2))] = int(i+1)\n",
    "\n",
    "print(X_train.shape, Y_train.shape)\n",
    "print(X_test.shape, Y_test.shape)"
   ]
  },
  {
   "cell_type": "markdown",
   "metadata": {
    "id": "F_4AcCtNsC8o"
   },
   "source": [
    "# Dataset Preprocessing (Standardization + PCA)"
   ]
  },
  {
   "cell_type": "markdown",
   "metadata": {
    "id": "QP-6XdVPsfxC"
   },
   "source": [
    "## Standardization"
   ]
  },
  {
   "cell_type": "code",
   "execution_count": 8,
   "metadata": {
    "executionInfo": {
     "elapsed": 997,
     "status": "ok",
     "timestamp": 1610032452310,
     "user": {
      "displayName": "Eraraya Ricardo Muten",
      "photoUrl": "https://lh3.googleusercontent.com/a-/AOh14Ggpw7xw-lyk6u6l92QjpI7MlI7qjJuuciCpwrUd=s64",
      "userId": "03770692095188133952"
     },
     "user_tz": -420
    },
    "id": "EDtzCvTur6BR"
   },
   "outputs": [],
   "source": [
    "def normalize(X, use_params=False, params=None):\n",
    "    \"\"\"Normalize the given dataset X\n",
    "    Args:\n",
    "        X: ndarray, dataset\n",
    "    \n",
    "    Returns:\n",
    "        (Xbar, mean, std): tuple of ndarray, Xbar is the normalized dataset\n",
    "        with mean 0 and standard deviation 1; mean and std are the \n",
    "        mean and standard deviation respectively.\n",
    "    \n",
    "    Note:\n",
    "        You will encounter dimensions where the standard deviation is\n",
    "        zero, for those when you do normalization the normalized data\n",
    "        will be NaN. Handle this by setting using `std = 1` for those \n",
    "        dimensions when doing normalization.\n",
    "    \"\"\"\n",
    "    if use_params:\n",
    "        mu = params[0]\n",
    "        std_filled = [1]\n",
    "    else:\n",
    "        mu = np.mean(X, axis=0)\n",
    "        std = np.std(X, axis=0)\n",
    "        #std_filled = std.copy()\n",
    "    #std_filled[std==0] = 1.\n",
    "    Xbar = (X - mu)/(std + 1e-8)\n",
    "    return Xbar, mu, std\n"
   ]
  },
  {
   "cell_type": "code",
   "execution_count": 9,
   "metadata": {
    "colab": {
     "base_uri": "https://localhost:8080/"
    },
    "executionInfo": {
     "elapsed": 1011,
     "status": "ok",
     "timestamp": 1610032453516,
     "user": {
      "displayName": "Eraraya Ricardo Muten",
      "photoUrl": "https://lh3.googleusercontent.com/a-/AOh14Ggpw7xw-lyk6u6l92QjpI7MlI7qjJuuciCpwrUd=s64",
      "userId": "03770692095188133952"
     },
     "user_tz": -420
    },
    "id": "Ma2r_EXQsHYJ",
    "outputId": "b3d76c69-3ad5-43e6-a310-1e5c02554fd4"
   },
   "outputs": [
    {
     "data": {
      "text/plain": [
       "((800, 784), (800,))"
      ]
     },
     "execution_count": 9,
     "metadata": {},
     "output_type": "execute_result"
    }
   ],
   "source": [
    "X_train, mu_train, std_train = normalize(X_train)\n",
    "X_train.shape, Y_train.shape"
   ]
  },
  {
   "cell_type": "code",
   "execution_count": 10,
   "metadata": {
    "colab": {
     "base_uri": "https://localhost:8080/"
    },
    "executionInfo": {
     "elapsed": 762,
     "status": "ok",
     "timestamp": 1610032453517,
     "user": {
      "displayName": "Eraraya Ricardo Muten",
      "photoUrl": "https://lh3.googleusercontent.com/a-/AOh14Ggpw7xw-lyk6u6l92QjpI7MlI7qjJuuciCpwrUd=s64",
      "userId": "03770692095188133952"
     },
     "user_tz": -420
    },
    "id": "p8DrXKvutdFL",
    "outputId": "2c6e20b3-c4a7-46e1-c92b-2e4d3fbecc91"
   },
   "outputs": [
    {
     "data": {
      "text/plain": [
       "((200, 784), (200,))"
      ]
     },
     "execution_count": 10,
     "metadata": {},
     "output_type": "execute_result"
    }
   ],
   "source": [
    "X_test = (X_test - mu_train)/(std_train + 1e-8)\n",
    "X_test.shape, Y_test.shape"
   ]
  },
  {
   "cell_type": "markdown",
   "metadata": {
    "id": "BwikC3mysh4L"
   },
   "source": [
    "## PCA"
   ]
  },
  {
   "cell_type": "code",
   "execution_count": 11,
   "metadata": {
    "executionInfo": {
     "elapsed": 781,
     "status": "ok",
     "timestamp": 1610032456319,
     "user": {
      "displayName": "Eraraya Ricardo Muten",
      "photoUrl": "https://lh3.googleusercontent.com/a-/AOh14Ggpw7xw-lyk6u6l92QjpI7MlI7qjJuuciCpwrUd=s64",
      "userId": "03770692095188133952"
     },
     "user_tz": -420
    },
    "id": "0AHFK0_lsdzh"
   },
   "outputs": [],
   "source": [
    "from sklearn.decomposition import PCA\n",
    "from matplotlib import pyplot as plt"
   ]
  },
  {
   "cell_type": "code",
   "execution_count": 12,
   "metadata": {
    "executionInfo": {
     "elapsed": 955,
     "status": "ok",
     "timestamp": 1610032457668,
     "user": {
      "displayName": "Eraraya Ricardo Muten",
      "photoUrl": "https://lh3.googleusercontent.com/a-/AOh14Ggpw7xw-lyk6u6l92QjpI7MlI7qjJuuciCpwrUd=s64",
      "userId": "03770692095188133952"
     },
     "user_tz": -420
    },
    "id": "CzdxRenYstM_"
   },
   "outputs": [],
   "source": [
    "num_component = 18\n",
    "pca = PCA(n_components=num_component, svd_solver='full')"
   ]
  },
  {
   "cell_type": "code",
   "execution_count": 13,
   "metadata": {
    "colab": {
     "base_uri": "https://localhost:8080/"
    },
    "executionInfo": {
     "elapsed": 1032,
     "status": "ok",
     "timestamp": 1610032458038,
     "user": {
      "displayName": "Eraraya Ricardo Muten",
      "photoUrl": "https://lh3.googleusercontent.com/a-/AOh14Ggpw7xw-lyk6u6l92QjpI7MlI7qjJuuciCpwrUd=s64",
      "userId": "03770692095188133952"
     },
     "user_tz": -420
    },
    "id": "qUHn6-Zvsz2X",
    "outputId": "7683cee8-5d52-490f-ad67-b0fda8c3dec3"
   },
   "outputs": [
    {
     "data": {
      "text/plain": [
       "PCA(n_components=18, svd_solver='full')"
      ]
     },
     "execution_count": 13,
     "metadata": {},
     "output_type": "execute_result"
    }
   ],
   "source": [
    "pca.fit(X_train)"
   ]
  },
  {
   "cell_type": "code",
   "execution_count": 14,
   "metadata": {
    "colab": {
     "base_uri": "https://localhost:8080/"
    },
    "executionInfo": {
     "elapsed": 705,
     "status": "ok",
     "timestamp": 1610032458857,
     "user": {
      "displayName": "Eraraya Ricardo Muten",
      "photoUrl": "https://lh3.googleusercontent.com/a-/AOh14Ggpw7xw-lyk6u6l92QjpI7MlI7qjJuuciCpwrUd=s64",
      "userId": "03770692095188133952"
     },
     "user_tz": -420
    },
    "id": "dyj975-ttIbe",
    "outputId": "99bd5a6a-53f0-4a1b-934d-0e397aff3d99"
   },
   "outputs": [
    {
     "data": {
      "text/plain": [
       "array([0.11187049, 0.17426217, 0.22255275, 0.26823812, 0.29848662,\n",
       "       0.32845008, 0.35463849, 0.37642907, 0.39726625, 0.41665801,\n",
       "       0.43362531, 0.45000593, 0.46514029, 0.47967233, 0.49309012,\n",
       "       0.50584068, 0.51819716, 0.53015231])"
      ]
     },
     "execution_count": 14,
     "metadata": {},
     "output_type": "execute_result"
    }
   ],
   "source": [
    "np.cumsum(pca.explained_variance_ratio_)"
   ]
  },
  {
   "cell_type": "code",
   "execution_count": 15,
   "metadata": {
    "executionInfo": {
     "elapsed": 836,
     "status": "ok",
     "timestamp": 1610032460743,
     "user": {
      "displayName": "Eraraya Ricardo Muten",
      "photoUrl": "https://lh3.googleusercontent.com/a-/AOh14Ggpw7xw-lyk6u6l92QjpI7MlI7qjJuuciCpwrUd=s64",
      "userId": "03770692095188133952"
     },
     "user_tz": -420
    },
    "id": "g2Cv6r9utNKg"
   },
   "outputs": [],
   "source": [
    "X_train = pca.transform(X_train)\n",
    "X_test = pca.transform(X_test)"
   ]
  },
  {
   "cell_type": "code",
   "execution_count": 16,
   "metadata": {
    "colab": {
     "base_uri": "https://localhost:8080/"
    },
    "executionInfo": {
     "elapsed": 1345,
     "status": "ok",
     "timestamp": 1610032461574,
     "user": {
      "displayName": "Eraraya Ricardo Muten",
      "photoUrl": "https://lh3.googleusercontent.com/a-/AOh14Ggpw7xw-lyk6u6l92QjpI7MlI7qjJuuciCpwrUd=s64",
      "userId": "03770692095188133952"
     },
     "user_tz": -420
    },
    "id": "ahC8V_QzuDzV",
    "outputId": "f386544f-fbaa-461e-f8de-161b1618e189"
   },
   "outputs": [
    {
     "name": "stdout",
     "output_type": "stream",
     "text": [
      "(800, 18) (800,)\n",
      "(200, 18) (200,)\n"
     ]
    }
   ],
   "source": [
    "print(X_train.shape, Y_train.shape)\n",
    "print(X_test.shape, Y_test.shape)"
   ]
  },
  {
   "cell_type": "markdown",
   "metadata": {
    "id": "CoGE5F_Gc7Bp"
   },
   "source": [
    "## Norm"
   ]
  },
  {
   "cell_type": "code",
   "execution_count": 17,
   "metadata": {
    "executionInfo": {
     "elapsed": 1222,
     "status": "ok",
     "timestamp": 1610032463633,
     "user": {
      "displayName": "Eraraya Ricardo Muten",
      "photoUrl": "https://lh3.googleusercontent.com/a-/AOh14Ggpw7xw-lyk6u6l92QjpI7MlI7qjJuuciCpwrUd=s64",
      "userId": "03770692095188133952"
     },
     "user_tz": -420
    },
    "id": "00-l6454QeXB"
   },
   "outputs": [],
   "source": [
    "X_train = (X_train.T / np.sqrt(np.sum(X_train ** 2, -1))).T\n",
    "X_test = (X_test.T / np.sqrt(np.sum(X_test ** 2, -1))).T"
   ]
  },
  {
   "cell_type": "code",
   "execution_count": 18,
   "metadata": {
    "colab": {
     "base_uri": "https://localhost:8080/",
     "height": 284
    },
    "executionInfo": {
     "elapsed": 1028,
     "status": "ok",
     "timestamp": 1610032463633,
     "user": {
      "displayName": "Eraraya Ricardo Muten",
      "photoUrl": "https://lh3.googleusercontent.com/a-/AOh14Ggpw7xw-lyk6u6l92QjpI7MlI7qjJuuciCpwrUd=s64",
      "userId": "03770692095188133952"
     },
     "user_tz": -420
    },
    "id": "voxkEj1BuJB6",
    "outputId": "c856385b-f64d-41c1-a0aa-402d1910420c"
   },
   "outputs": [
    {
     "data": {
      "text/plain": [
       "<matplotlib.collections.PathCollection at 0x7f0fc42786a0>"
      ]
     },
     "execution_count": 18,
     "metadata": {},
     "output_type": "execute_result"
    },
    {
     "data": {
      "image/png": "[encoded data removed]",
      "text/plain": [
       "<Figure size 432x288 with 1 Axes>"
      ]
     },
     "metadata": {
      "needs_background": "light"
     },
     "output_type": "display_data"
    }
   ],
   "source": [
    "plt.scatter(X_train[:100, 0], X_train[:100, 1])\n",
    "plt.scatter(X_train[100:200, 0], X_train[100:200, 1])\n",
    "plt.scatter(X_train[200:300, 0], X_train[200:300, 1])"
   ]
  },
  {
   "cell_type": "markdown",
   "metadata": {
    "id": "ytKzDR1JuKub"
   },
   "source": [
    "# Quantum"
   ]
  },
  {
   "cell_type": "code",
   "execution_count": 19,
   "metadata": {
    "executionInfo": {
     "elapsed": 885,
     "status": "ok",
     "timestamp": 1610032467269,
     "user": {
      "displayName": "Eraraya Ricardo Muten",
      "photoUrl": "https://lh3.googleusercontent.com/a-/AOh14Ggpw7xw-lyk6u6l92QjpI7MlI7qjJuuciCpwrUd=s64",
      "userId": "03770692095188133952"
     },
     "user_tz": -420
    },
    "id": "J8PDpZ5IuM0l"
   },
   "outputs": [],
   "source": [
    "import pennylane as qml\n",
    "from pennylane import numpy as np\n",
    "from pennylane.optimize import AdamOptimizer, GradientDescentOptimizer\n",
    "\n",
    "qml.enable_tape()\n",
    "\n",
    "\n",
    "# Set a random seed\n",
    "np.random.seed(42)"
   ]
  },
  {
   "cell_type": "code",
   "execution_count": 20,
   "metadata": {
    "executionInfo": {
     "elapsed": 958,
     "status": "ok",
     "timestamp": 1610047167417,
     "user": {
      "displayName": "Eraraya Ricardo Muten",
      "photoUrl": "https://lh3.googleusercontent.com/a-/AOh14Ggpw7xw-lyk6u6l92QjpI7MlI7qjJuuciCpwrUd=s64",
      "userId": "03770692095188133952"
     },
     "user_tz": -420
    },
    "id": "UvNlkVfXFyHE"
   },
   "outputs": [],
   "source": [
    "# Define output labels as quantum state vectors\n",
    "\n",
    "# def density_matrix(state):\n",
    "#     \"\"\"Calculates the density matrix representation of a state.\n",
    "\n",
    "#     Args:\n",
    "#         state (array[complex]): array representing a quantum state vector\n",
    "\n",
    "#     Returns:\n",
    "#         dm: (array[complex]): array representing the density matrix\n",
    "#     \"\"\"\n",
    "#     return state * np.conj(state).T\n",
    "\n",
    "\n",
    "label_0 = [[1], [0]]\n",
    "label_1 = [[0], [1]]\n",
    "\n",
    "\n",
    "def density_matrix(state):\n",
    "    \"\"\"Calculates the density matrix representation of a state.\n",
    "\n",
    "    Args:\n",
    "        state (array[complex]): array representing a quantum state vector\n",
    "\n",
    "    Returns:\n",
    "        dm: (array[complex]): array representing the density matrix\n",
    "    \"\"\"\n",
    "    return np.outer(state,  np.conj(state))\n",
    "\n",
    "#state_labels = [label_0, label_1]\n",
    "state_labels = np.loadtxt('./tetra_states.txt', dtype=np.complex_)"
   ]
  },
  {
   "cell_type": "code",
   "execution_count": 21,
   "metadata": {},
   "outputs": [
    {
     "data": {
      "text/plain": [
       "4"
      ]
     },
     "execution_count": 21,
     "metadata": {},
     "output_type": "execute_result"
    }
   ],
   "source": [
    "dm_labels = [density_matrix(state_labels[i]) for i in range(4)]\n",
    "len(dm_labels)"
   ]
  },
  {
   "cell_type": "code",
   "execution_count": 22,
   "metadata": {
    "executionInfo": {
     "elapsed": 1193,
     "status": "ok",
     "timestamp": 1610047167914,
     "user": {
      "displayName": "Eraraya Ricardo Muten",
      "photoUrl": "https://lh3.googleusercontent.com/a-/AOh14Ggpw7xw-lyk6u6l92QjpI7MlI7qjJuuciCpwrUd=s64",
      "userId": "03770692095188133952"
     },
     "user_tz": -420
    },
    "id": "2WqqMVHbF2B8"
   },
   "outputs": [],
   "source": [
    "n_qubits = 4  # number of class\n",
    "dev_fc = qml.device(\"default.qubit\", wires=n_qubits)\n",
    "\n",
    "\n",
    "@qml.qnode(dev_fc)\n",
    "def q_fc(params, inputs):\n",
    "    \"\"\"A variational quantum circuit representing the DRC.\n",
    "\n",
    "    Args:\n",
    "        params (array[float]): array of parameters\n",
    "        inputs = [x, y]\n",
    "        x (array[float]): 1-d input vector\n",
    "        y (array[float]): single output state density matrix\n",
    "\n",
    "    Returns:\n",
    "        float: fidelity between output state and input\n",
    "    \"\"\"\n",
    "    \n",
    "    # layer iteration\n",
    "    for l in range(len(params[0])):\n",
    "        # qubit iteration\n",
    "        for q in range(n_qubits):\n",
    "            # gate iteration\n",
    "            for g in range(int(len(inputs)/3)):\n",
    "                qml.Rot(*(params[0][l][3*g:3*(g+1)] * inputs[3*g:3*(g+1)] + params[1][l][3*g:3*(g+1)]), wires=q)\n",
    "    \n",
    "    return [qml.expval(qml.Hermitian(dm_labels[i], wires=[i])) for i in range(n_qubits)]\n"
   ]
  },
  {
   "cell_type": "code",
   "execution_count": 23,
   "metadata": {},
   "outputs": [
    {
     "data": {
      "text/plain": [
       "(18,)"
      ]
     },
     "execution_count": 23,
     "metadata": {},
     "output_type": "execute_result"
    }
   ],
   "source": [
    "X_train[0].shape"
   ]
  },
  {
   "cell_type": "code",
   "execution_count": 24,
   "metadata": {},
   "outputs": [
    {
     "data": {
      "text/plain": [
       "tensor([0.89712628, 0.0944862 , 0.57885108, 0.42953645], requires_grad=True)"
      ]
     },
     "execution_count": 24,
     "metadata": {},
     "output_type": "execute_result"
    }
   ],
   "source": [
    "a = np.random.uniform(size=(2, 1, 18))\n",
    "\n",
    "q_fc(a, X_train[0])"
   ]
  },
  {
   "cell_type": "code",
   "execution_count": 25,
   "metadata": {},
   "outputs": [],
   "source": [
    "tetra_class = np.loadtxt('./tetra_class_label.txt')\n",
    "binary_class = np.array([[1, 0], [0, 1]])"
   ]
  },
  {
   "cell_type": "code",
   "execution_count": 26,
   "metadata": {},
   "outputs": [],
   "source": [
    "class_labels = tetra_class"
   ]
  },
  {
   "cell_type": "code",
   "execution_count": 27,
   "metadata": {},
   "outputs": [],
   "source": [
    "n_class = 4\n",
    "\n",
    "temp = np.zeros((len(Y_train), n_class))\n",
    "for i in range(len(Y_train)):\n",
    "    temp[i, :] = class_labels[Y_train[i]]\n",
    "Y_train = temp\n",
    "\n",
    "\n",
    "temp = np.zeros((len(Y_test), n_class))\n",
    "for i in range(len(Y_test)):\n",
    "    temp[i, :] = class_labels[Y_test[i]]\n",
    "Y_test = temp"
   ]
  },
  {
   "cell_type": "code",
   "execution_count": 28,
   "metadata": {},
   "outputs": [
    {
     "data": {
      "text/plain": [
       "((800, 4), (200, 4))"
      ]
     },
     "execution_count": 28,
     "metadata": {},
     "output_type": "execute_result"
    }
   ],
   "source": [
    "Y_train.shape, Y_test.shape"
   ]
  },
  {
   "cell_type": "code",
   "execution_count": 29,
   "metadata": {},
   "outputs": [],
   "source": [
    "from keras import backend as K\n",
    "\n",
    "\n",
    "# Alpha Custom Layer\n",
    "class class_weights(tf.keras.layers.Layer):\n",
    "    def __init__(self):\n",
    "        super(class_weights, self).__init__()\n",
    "        w_init = tf.random_normal_initializer()\n",
    "        self.w = tf.Variable(\n",
    "            initial_value=w_init(shape=(1, 4), dtype=\"float32\"),\n",
    "            trainable=True,\n",
    "        )\n",
    "\n",
    "    def call(self, inputs):\n",
    "        return (inputs * self.w)"
   ]
  },
  {
   "cell_type": "code",
   "execution_count": 60,
   "metadata": {
    "id": "epPDK5i9hOGH"
   },
   "outputs": [],
   "source": [
    "n_component = 18\n",
    "\n",
    "X = tf.keras.Input(shape=(n_component,), name='Input_Layer')\n",
    "\n",
    "\n",
    "# Quantum FC Layer, trainable params = 18*L*n_class + 2, output size = 2\n",
    "num_fc_layer = 5\n",
    "q_fc_layer_0 = qml.qnn.KerasLayer(q_fc, {\"params\": (2, num_fc_layer, n_component)}, output_dim=4)(X)\n",
    "\n",
    "# Alpha Layer\n",
    "alpha_layer_0 = class_weights()(q_fc_layer_0)\n",
    "\n",
    "model = tf.keras.Model(inputs=X, outputs=alpha_layer_0)"
   ]
  },
  {
   "cell_type": "code",
   "execution_count": 61,
   "metadata": {
    "id": "u1ozqS33W66k"
   },
   "outputs": [
    {
     "data": {
      "text/plain": [
       "<tf.Tensor: shape=(32, 4), dtype=float32, numpy=\n",
       "array([[-0.03269799, -0.0049948 , -0.00317884, -0.02083719],\n",
       "       [-0.03096591, -0.00404948, -0.00372119, -0.02107909],\n",
       "       [-0.0313696 , -0.00514707, -0.00323279, -0.02125254],\n",
       "       [-0.03068135, -0.00461393, -0.00351107, -0.02131253],\n",
       "       [-0.03544348, -0.00245122, -0.00416135, -0.01899268],\n",
       "       [-0.03995319, -0.00168156, -0.00479718, -0.01586739],\n",
       "       [-0.03295194, -0.004956  , -0.00317453, -0.02075064],\n",
       "       [-0.04368913, -0.00336435, -0.0042463 , -0.01416344],\n",
       "       [-0.03615635, -0.0031164 , -0.00379086, -0.0190424 ],\n",
       "       [-0.03387051, -0.0055308 , -0.00289721, -0.02054788],\n",
       "       [-0.0333972 , -0.00527587, -0.00302153, -0.02066674],\n",
       "       [-0.04260389, -0.002764  , -0.0044099 , -0.01472712],\n",
       "       [-0.03461572, -0.0041047 , -0.00340947, -0.01998828],\n",
       "       [-0.04149674, -0.00194359, -0.00488151, -0.01474264],\n",
       "       [-0.03888194, -0.00246304, -0.00414337, -0.0173567 ],\n",
       "       [-0.03758543, -0.00368908, -0.0034931 , -0.01864042],\n",
       "       [-0.03057559, -0.00497153, -0.00337791, -0.02142432],\n",
       "       [-0.04095993, -0.00390287, -0.00348957, -0.01686279],\n",
       "       [-0.03877722, -0.00489375, -0.00298594, -0.01840067],\n",
       "       [-0.03470259, -0.00445349, -0.00326029, -0.02004964],\n",
       "       [-0.0343524 , -0.00296592, -0.00394678, -0.01966225],\n",
       "       [-0.04165174, -0.00226394, -0.00460044, -0.01509481],\n",
       "       [-0.04383891, -0.00327635, -0.00437862, -0.01384614],\n",
       "       [-0.04159501, -0.00481888, -0.00312467, -0.01676427],\n",
       "       [-0.03868637, -0.00339137, -0.00363794, -0.01797719],\n",
       "       [-0.04378133, -0.00328872, -0.00434409, -0.01394525],\n",
       "       [-0.03746442, -0.004931  , -0.00297643, -0.01903424],\n",
       "       [-0.03930206, -0.00327638, -0.00371115, -0.01758873],\n",
       "       [-0.04217357, -0.00303097, -0.00411574, -0.01543051],\n",
       "       [-0.04422281, -0.00346051, -0.00437714, -0.01353611],\n",
       "       [-0.0406582 , -0.00396466, -0.00344013, -0.0170807 ],\n",
       "       [-0.04155521, -0.0024115 , -0.00445391, -0.01537794]],\n",
       "      dtype=float32)>"
      ]
     },
     "execution_count": 61,
     "metadata": {},
     "output_type": "execute_result"
    }
   ],
   "source": [
    "model(X_train[0:32])"
   ]
  },
  {
   "cell_type": "code",
   "execution_count": 32,
   "metadata": {
    "id": "YE2m-zLeNVWD"
   },
   "outputs": [],
   "source": [
    "opt = tf.keras.optimizers.Adam(learning_rate=0.1)\n",
    "model.compile(opt, loss='mse', metrics=[\"accuracy\"])"
   ]
  },
  {
   "cell_type": "code",
   "execution_count": 36,
   "metadata": {},
   "outputs": [
    {
     "name": "stdout",
     "output_type": "stream",
     "text": [
      "Epoch 11/11\n",
      "25/25 [==============================] - 7866s 315s/step - loss: 0.0264 - accuracy: 0.9388 - val_loss: 0.0324 - val_accuracy: 0.9000\n"
     ]
    }
   ],
   "source": [
    "H = model.fit(X_train, Y_train, epochs=11, batch_size=32, initial_epoch=10,\n",
    "              validation_data=(X_test, Y_test), verbose=1)"
   ]
  },
  {
   "cell_type": "code",
   "execution_count": 45,
   "metadata": {},
   "outputs": [
    {
     "name": "stdout",
     "output_type": "stream",
     "text": [
      "Model: \"model\"\n",
      "_________________________________________________________________\n",
      "Layer (type)                 Output Shape              Param #   \n",
      "=================================================================\n",
      "Input_Layer (InputLayer)     [(None, 18)]              0         \n",
      "_________________________________________________________________\n",
      "keras_layer (KerasLayer)     (None, 4)                 180       \n",
      "_________________________________________________________________\n",
      "class_weights (class_weights (None, 4)                 4         \n",
      "=================================================================\n",
      "Total params: 184\n",
      "Trainable params: 184\n",
      "Non-trainable params: 0\n",
      "_________________________________________________________________\n"
     ]
    }
   ],
   "source": [
    "model.summary()"
   ]
  },
  {
   "cell_type": "code",
   "execution_count": 63,
   "metadata": {},
   "outputs": [
    {
     "data": {
      "text/plain": [
       "((2, 5, 18), (1, 4), (2, 5, 18))"
      ]
     },
     "execution_count": 63,
     "metadata": {},
     "output_type": "execute_result"
    }
   ],
   "source": [
    "QFC_weights = np.array([[[-0.24794507,  0.31784198, -0.84436625, -1.1883082 ,\n",
    "          -0.7634019 ,  0.5219758 ,  0.1976731 , -0.06499895,\n",
    "          -0.0908122 , -0.21367463,  0.36914957,  0.8344203 ,\n",
    "          -0.8683266 , -1.3748152 , -1.2707427 ,  0.72362924,\n",
    "          -0.5218088 , -1.141733  ],\n",
    "         [ 0.28023252, -1.4568554 ,  1.1919973 ,  0.95526534,\n",
    "           0.6763064 , -1.2501957 , -0.25392818, -0.51355195,\n",
    "          -0.5743778 ,  0.03443891, -0.32394207, -0.50722027,\n",
    "          -0.1010123 ,  1.6800913 , -0.20726536,  0.09410696,\n",
    "           0.35715213,  0.93558955],\n",
    "         [ 1.3068962 ,  1.0741785 , -0.26494667, -0.87930703,\n",
    "          -1.6576172 , -0.05226917,  0.60002285, -0.03117862,\n",
    "          -0.6541664 ,  0.5198687 , -0.5183295 , -0.23373857,\n",
    "           0.21046656,  0.83765674, -0.8159693 ,  0.27976495,\n",
    "           0.3204563 ,  0.1849181 ],\n",
    "         [-1.5540495 , -0.8279865 ,  1.5622419 , -0.41232887,\n",
    "           0.5265447 , -0.8407992 , -0.2505865 , -1.5310311 ,\n",
    "          -0.5762857 ,  0.26670507,  0.30925843,  0.19047949,\n",
    "           1.4921657 ,  0.03055724, -0.88385344,  0.22408725,\n",
    "           0.29685184, -0.2952265 ],\n",
    "         [ 0.15627815, -0.54752415, -0.04468342, -1.3522485 ,\n",
    "          -0.48985276,  0.10767151,  1.2368381 , -0.5070927 ,\n",
    "          -1.4977047 ,  0.50521874,  0.5171645 ,  0.5567452 ,\n",
    "          -0.5166422 , -0.00310687, -0.37942237,  0.81982815,\n",
    "          -0.74149036,  0.6565688 ]],\n",
    " \n",
    "        [[-0.2609948 , -0.38150507, -0.65071046, -0.13585699,\n",
    "          -0.357049  , -0.50965524, -0.56098264, -1.2089188 ,\n",
    "          -0.27748486,  0.20019874, -1.2297689 ,  0.1892851 ,\n",
    "           0.33155286, -0.84930825,  0.42624596,  0.8912256 ,\n",
    "          -0.4064474 ,  0.9417156 ],\n",
    "         [ 0.5626757 , -0.10127709,  0.14564358,  0.3688126 ,\n",
    "          -0.16021737,  0.46522865,  0.5524775 , -0.30932057,\n",
    "           0.51160085,  0.5409226 , -0.29887158,  0.25838193,\n",
    "           0.21177538, -0.46760964,  0.512804  ,  0.36143306,\n",
    "          -0.4297975 ,  0.1940067 ],\n",
    "         [ 0.5272889 , -0.25206625,  0.03391184,  0.5019607 ,\n",
    "          -0.33839497, -0.04660035,  0.38688624, -0.29353273,\n",
    "           0.22680895,  0.2027986 , -0.01748817,  0.2132353 ,\n",
    "           0.07397417, -0.527892  ,  0.21246526,  0.5088591 ,\n",
    "          -0.49574885,  0.32320118],\n",
    "         [ 0.36846712, -1.3814771 ,  0.02950246,  0.04169217,\n",
    "          -0.19097951,  0.49078554,  0.22259521, -0.48360834,\n",
    "           0.44732705,  0.24283813, -0.30897924,  0.8293856 ,\n",
    "           0.57208365, -0.2657901 ,  0.22882256,  0.5956244 ,\n",
    "          -0.25040096,  0.60783666],\n",
    "         [ 0.11506801, -0.85853696,  0.13871562,  0.26290226,\n",
    "           0.1396487 ,  0.41412732,  0.55495775, -0.17918082,\n",
    "           0.1956458 ,  0.20722097, -0.4376773 ,  0.20676897,\n",
    "           0.14666991, -0.11038188,  0.5372865 ,  0.6356519 ,\n",
    "          -0.2815731 ,  0.05654705]]])\n",
    "\n",
    "alpha_weights = np.array([[0.95540386, 0.9578444 , 0.9244269 , 0.9786792 ]])\n",
    "\n",
    "\n",
    "random_weights = np.array([[[-0.36112985,  0.2111288 ,  0.1098108 ,  0.2544383 ,\n",
    "          -0.00469187,  0.23564419,  0.09462297, -0.10537443,\n",
    "          -0.1827577 ,  0.1888242 , -0.01841468, -0.3521782 ,\n",
    "           0.01429042,  0.16698363, -0.1126308 ,  0.04128608,\n",
    "           0.21461311,  0.21338132],\n",
    "         [ 0.3593494 ,  0.08668402,  0.15885702, -0.02335867,\n",
    "          -0.04869598,  0.275398  , -0.3137846 ,  0.08977276,\n",
    "           0.2253721 , -0.18542384, -0.3333074 ,  0.31376943,\n",
    "           0.12819389,  0.06190303,  0.17703393,  0.27163342,\n",
    "          -0.25187245, -0.26603517],\n",
    "         [ 0.16647735,  0.03004244, -0.3283678 ,  0.04993302,\n",
    "          -0.32206902,  0.02703008,  0.05270675, -0.09857991,\n",
    "           0.00324991, -0.28245538, -0.10020354,  0.29717395,\n",
    "           0.15914598, -0.15878536, -0.25371322,  0.03080389,\n",
    "          -0.06773141, -0.11743486],\n",
    "         [ 0.12210909,  0.07943538, -0.10011089, -0.04656166,\n",
    "          -0.119377  ,  0.33514777, -0.16245961, -0.32084054,\n",
    "           0.20315215, -0.05815163,  0.31756565,  0.24835989,\n",
    "          -0.3042428 ,  0.1538715 ,  0.25559852,  0.29601124,\n",
    "           0.00596908, -0.12077881],\n",
    "         [-0.24536519,  0.1744332 , -0.03993386, -0.3454345 ,\n",
    "           0.03591821, -0.0457353 ,  0.19012448,  0.02417549,\n",
    "          -0.20383422,  0.20029023,  0.1462051 ,  0.00287226,\n",
    "          -0.20076373, -0.09745416,  0.05462858, -0.1822384 ,\n",
    "          -0.28180847, -0.08870667]],\n",
    " \n",
    "        [[ 0.28420517,  0.18587604,  0.00432023,  0.25276604,\n",
    "           0.05588883, -0.00873002, -0.27388182,  0.3434634 ,\n",
    "          -0.06190786,  0.25342664, -0.19336648,  0.05619821,\n",
    "           0.07311618, -0.27361515, -0.31822798,  0.2828535 ,\n",
    "          -0.12242647,  0.04382321],\n",
    "         [-0.12123071,  0.32336965, -0.1337805 ,  0.288658  ,\n",
    "           0.07935324, -0.03748059,  0.13666189, -0.26198447,\n",
    "           0.35916874,  0.2469289 , -0.27585262,  0.07430342,\n",
    "           0.18836996, -0.20980959,  0.21768215, -0.22659385,\n",
    "           0.1150386 , -0.03592232],\n",
    "         [ 0.25624803,  0.05419984, -0.22457275, -0.03983879,\n",
    "          -0.01237604, -0.06241676,  0.03393343,  0.04649976,\n",
    "           0.17708406, -0.33100724,  0.11731407, -0.15705237,\n",
    "          -0.24502842,  0.13760579,  0.12690815,  0.18652782,\n",
    "           0.24556735, -0.31121215],\n",
    "         [-0.33468038, -0.32810587, -0.1602223 ,  0.0639796 ,\n",
    "          -0.3495075 ,  0.1994125 ,  0.30946454, -0.34355676,\n",
    "           0.1294198 , -0.071861  , -0.00135946,  0.35577133,\n",
    "          -0.1217315 , -0.19366252,  0.33390567, -0.29659882,\n",
    "          -0.13090186, -0.20641613],\n",
    "         [ 0.05562809,  0.06060928,  0.17894706,  0.2511054 ,\n",
    "           0.25008014,  0.33573475, -0.25808984,  0.0137409 ,\n",
    "           0.19059703, -0.00527525, -0.12321451, -0.16738267,\n",
    "           0.07972926, -0.24245685, -0.07204226,  0.35075697,\n",
    "          -0.05655339, -0.26262018]]])\n",
    "\n",
    "QFC_weights.shape, alpha_weights.shape, random_weights.shape"
   ]
  },
  {
   "cell_type": "markdown",
   "metadata": {},
   "source": [
    "# Exploring the results"
   ]
  },
  {
   "cell_type": "code",
   "execution_count": 68,
   "metadata": {},
   "outputs": [],
   "source": [
    "# sanity check\n",
    "\n",
    "pred = []\n",
    "random_pred = []\n",
    "for i in range(len(X_test)):\n",
    "    pred += [np.argmax(q_fc(QFC_weights, X_test[i]).numpy())]\n",
    "    random_pred += [np.argmax(q_fc(random_weights, X_test[i]).numpy())]"
   ]
  },
  {
   "cell_type": "code",
   "execution_count": 93,
   "metadata": {},
   "outputs": [],
   "source": [
    "n_qubits = 1\n",
    "dev_state = qml.device(\"default.qubit\", wires=n_qubits)\n",
    "\n",
    "\n",
    "@qml.qnode(dev_state)\n",
    "def q_fc_state(params, inputs):\n",
    "    \"\"\"A variational quantum circuit representing the DRC.\n",
    "\n",
    "    Args:\n",
    "        params (array[float]): array of parameters\n",
    "        inputs = [x, y]\n",
    "        x (array[float]): 1-d input vector\n",
    "        y (array[float]): single output state density matrix\n",
    "\n",
    "    Returns:\n",
    "        float: fidelity between output state and input\n",
    "    \"\"\"\n",
    "    \n",
    "    # layer iteration\n",
    "    for l in range(len(params[0])):\n",
    "        # qubit iteration\n",
    "        for q in range(n_qubits):\n",
    "            # gate iteration\n",
    "            for g in range(int(len(inputs)/3)):\n",
    "                qml.Rot(*(params[0][l][3*g:3*(g+1)] * inputs[3*g:3*(g+1)] + params[1][l][3*g:3*(g+1)]), wires=q)\n",
    "    \n",
    "    return qml.expval(qml.Hermitian(dm_labels[0], wires=[0]))\n"
   ]
  },
  {
   "cell_type": "code",
   "execution_count": 98,
   "metadata": {},
   "outputs": [
    {
     "data": {
      "text/plain": [
       "tensor(0.99983508, requires_grad=True)"
      ]
     },
     "execution_count": 98,
     "metadata": {},
     "output_type": "execute_result"
    }
   ],
   "source": [
    "q_fc_state(QFC_weights, X_test[0])"
   ]
  },
  {
   "cell_type": "code",
   "execution_count": 99,
   "metadata": {},
   "outputs": [
    {
     "data": {
      "text/plain": [
       "array([-0.01164988-0.00540416j,  0.71750379-0.69643621j])"
      ]
     },
     "execution_count": 99,
     "metadata": {},
     "output_type": "execute_result"
    }
   ],
   "source": [
    "dev_state._state"
   ]
  },
  {
   "cell_type": "code",
   "execution_count": 96,
   "metadata": {},
   "outputs": [],
   "source": [
    "train_state = np.zeros((len(X_train), 2), dtype=np.complex_)\n",
    "test_state = np.zeros((len(X_test), 2), dtype=np.complex_)\n",
    "\n",
    "for i in range(len(train_state)):\n",
    "    \n",
    "    q_fc_state(QFC_weights, X_train[i])\n",
    "    temp = np.flip(dev_state._state)\n",
    "    train_state[i, :] = temp\n",
    "\n",
    "for i in range(len(test_state)):\n",
    "    \n",
    "    q_fc_state(QFC_weights, X_test[i])\n",
    "    temp = np.flip(dev_state._state)\n",
    "    test_state[i, :] = temp"
   ]
  },
  {
   "cell_type": "code",
   "execution_count": 125,
   "metadata": {},
   "outputs": [
    {
     "data": {
      "text/plain": [
       "tensor(0.6960952+0.j, requires_grad=True)"
      ]
     },
     "execution_count": 125,
     "metadata": {},
     "output_type": "execute_result"
    }
   ],
   "source": [
    "np.conj(train_state[150]) @ dm_labels[0] @ train_state[150]"
   ]
  },
  {
   "cell_type": "code",
   "execution_count": 126,
   "metadata": {},
   "outputs": [
    {
     "data": {
      "text/plain": [
       "tensor(1.+0.j, requires_grad=True)"
      ]
     },
     "execution_count": 126,
     "metadata": {},
     "output_type": "execute_result"
    }
   ],
   "source": [
    "train_state[0] @ np.conj(train_state[0])"
   ]
  },
  {
   "cell_type": "code",
   "execution_count": 128,
   "metadata": {},
   "outputs": [
    {
     "data": {
      "text/plain": [
       "tensor(0.99983508+0.j, requires_grad=True)"
      ]
     },
     "execution_count": 128,
     "metadata": {},
     "output_type": "execute_result"
    }
   ],
   "source": [
    "np.conj(test_state[0]) @ dm_labels[0] @ test_state[0]"
   ]
  },
  {
   "cell_type": "code",
   "execution_count": 129,
   "metadata": {},
   "outputs": [],
   "source": [
    "np.savetxt('./4_PCA_QFC-State_Train.txt', train_state)\n",
    "np.savetxt('./4_PCA_QFC-State_Test.txt', test_state)"
   ]
  },
  {
   "cell_type": "code",
   "execution_count": 130,
   "metadata": {},
   "outputs": [],
   "source": [
    "train_state = np.zeros((len(X_train), 2), dtype=np.complex_)\n",
    "test_state = np.zeros((len(X_test), 2), dtype=np.complex_)\n",
    "\n",
    "for i in range(len(train_state)):\n",
    "    \n",
    "    q_fc_state(random_weights, X_train[i])\n",
    "    temp = np.flip(dev_state._state)\n",
    "    train_state[i, :] = temp\n",
    "\n",
    "for i in range(len(test_state)):\n",
    "    \n",
    "    q_fc_state(random_weights, X_test[i])\n",
    "    temp = np.flip(dev_state._state)\n",
    "    test_state[i, :] = temp"
   ]
  },
  {
   "cell_type": "code",
   "execution_count": 132,
   "metadata": {},
   "outputs": [
    {
     "data": {
      "text/plain": [
       "tensor(0.66848859+0.j, requires_grad=True)"
      ]
     },
     "execution_count": 132,
     "metadata": {},
     "output_type": "execute_result"
    }
   ],
   "source": [
    "np.conj(train_state[0]) @ dm_labels[0] @ train_state[0]"
   ]
  },
  {
   "cell_type": "code",
   "execution_count": 133,
   "metadata": {},
   "outputs": [
    {
     "data": {
      "text/plain": [
       "tensor(1.+0.j, requires_grad=True)"
      ]
     },
     "execution_count": 133,
     "metadata": {},
     "output_type": "execute_result"
    }
   ],
   "source": [
    "train_state[0] @ np.conj(train_state[0])"
   ]
  },
  {
   "cell_type": "code",
   "execution_count": 134,
   "metadata": {},
   "outputs": [],
   "source": [
    "np.savetxt('./4_PCA_QFC-RandomState_Train.txt', train_state)\n",
    "np.savetxt('./4_PCA_QFC-RandomState_Test.txt', test_state)"
   ]
  },
  {
   "cell_type": "code",
   "execution_count": null,
   "metadata": {},
   "outputs": [],
   "source": []
  },
  {
   "cell_type": "code",
   "execution_count": null,
   "metadata": {},
   "outputs": [],
   "source": []
  },
  {
   "cell_type": "code",
   "execution_count": null,
   "metadata": {},
   "outputs": [],
   "source": []
  },
  {
   "cell_type": "code",
   "execution_count": null,
   "metadata": {},
   "outputs": [],
   "source": []
  },
  {
   "cell_type": "code",
   "execution_count": null,
   "metadata": {},
   "outputs": [],
   "source": []
  },
  {
   "cell_type": "code",
   "execution_count": 35,
   "metadata": {},
   "outputs": [
    {
     "data": {
      "text/plain": [
       "[<tf.Variable 'model/keras_layer/params:0' shape=(2, 5, 18) dtype=float32, numpy=\n",
       " array([[[-0.24794507,  0.31784198, -0.84436625, -1.1883082 ,\n",
       "          -0.7634019 ,  0.5219758 ,  0.1976731 , -0.06499895,\n",
       "          -0.0908122 , -0.21367463,  0.36914957,  0.8344203 ,\n",
       "          -0.8683266 , -1.3748152 , -1.2707427 ,  0.72362924,\n",
       "          -0.5218088 , -1.141733  ],\n",
       "         [ 0.28023252, -1.4568554 ,  1.1919973 ,  0.95526534,\n",
       "           0.6763064 , -1.2501957 , -0.25392818, -0.51355195,\n",
       "          -0.5743778 ,  0.03443891, -0.32394207, -0.50722027,\n",
       "          -0.1010123 ,  1.6800913 , -0.20726536,  0.09410696,\n",
       "           0.35715213,  0.93558955],\n",
       "         [ 1.3068962 ,  1.0741785 , -0.26494667, -0.87930703,\n",
       "          -1.6576172 , -0.05226917,  0.60002285, -0.03117862,\n",
       "          -0.6541664 ,  0.5198687 , -0.5183295 , -0.23373857,\n",
       "           0.21046656,  0.83765674, -0.8159693 ,  0.27976495,\n",
       "           0.3204563 ,  0.1849181 ],\n",
       "         [-1.5540495 , -0.8279865 ,  1.5622419 , -0.41232887,\n",
       "           0.5265447 , -0.8407992 , -0.2505865 , -1.5310311 ,\n",
       "          -0.5762857 ,  0.26670507,  0.30925843,  0.19047949,\n",
       "           1.4921657 ,  0.03055724, -0.88385344,  0.22408725,\n",
       "           0.29685184, -0.2952265 ],\n",
       "         [ 0.15627815, -0.54752415, -0.04468342, -1.3522485 ,\n",
       "          -0.48985276,  0.10767151,  1.2368381 , -0.5070927 ,\n",
       "          -1.4977047 ,  0.50521874,  0.5171645 ,  0.5567452 ,\n",
       "          -0.5166422 , -0.00310687, -0.37942237,  0.81982815,\n",
       "          -0.74149036,  0.6565688 ]],\n",
       " \n",
       "        [[-0.2609948 , -0.38150507, -0.65071046, -0.13585699,\n",
       "          -0.357049  , -0.50965524, -0.56098264, -1.2089188 ,\n",
       "          -0.27748486,  0.20019874, -1.2297689 ,  0.1892851 ,\n",
       "           0.33155286, -0.84930825,  0.42624596,  0.8912256 ,\n",
       "          -0.4064474 ,  0.9417156 ],\n",
       "         [ 0.5626757 , -0.10127709,  0.14564358,  0.3688126 ,\n",
       "          -0.16021737,  0.46522865,  0.5524775 , -0.30932057,\n",
       "           0.51160085,  0.5409226 , -0.29887158,  0.25838193,\n",
       "           0.21177538, -0.46760964,  0.512804  ,  0.36143306,\n",
       "          -0.4297975 ,  0.1940067 ],\n",
       "         [ 0.5272889 , -0.25206625,  0.03391184,  0.5019607 ,\n",
       "          -0.33839497, -0.04660035,  0.38688624, -0.29353273,\n",
       "           0.22680895,  0.2027986 , -0.01748817,  0.2132353 ,\n",
       "           0.07397417, -0.527892  ,  0.21246526,  0.5088591 ,\n",
       "          -0.49574885,  0.32320118],\n",
       "         [ 0.36846712, -1.3814771 ,  0.02950246,  0.04169217,\n",
       "          -0.19097951,  0.49078554,  0.22259521, -0.48360834,\n",
       "           0.44732705,  0.24283813, -0.30897924,  0.8293856 ,\n",
       "           0.57208365, -0.2657901 ,  0.22882256,  0.5956244 ,\n",
       "          -0.25040096,  0.60783666],\n",
       "         [ 0.11506801, -0.85853696,  0.13871562,  0.26290226,\n",
       "           0.1396487 ,  0.41412732,  0.55495775, -0.17918082,\n",
       "           0.1956458 ,  0.20722097, -0.4376773 ,  0.20676897,\n",
       "           0.14666991, -0.11038188,  0.5372865 ,  0.6356519 ,\n",
       "          -0.2815731 ,  0.05654705]]], dtype=float32)>,\n",
       " <tf.Variable 'Variable:0' shape=(1, 4) dtype=float32, numpy=array([[0.95540386, 0.9578444 , 0.9244269 , 0.9786792 ]], dtype=float32)>]"
      ]
     },
     "execution_count": 35,
     "metadata": {},
     "output_type": "execute_result"
    }
   ],
   "source": [
    "# 5 layer, 18 components, 10 epochs\n",
    "model.weights"
   ]
  },
  {
   "cell_type": "code",
   "execution_count": 34,
   "metadata": {},
   "outputs": [
    {
     "data": {
      "text/plain": [
       "{'loss': [0.14004074037075043,\n",
       "  0.05522413179278374,\n",
       "  0.03952336683869362,\n",
       "  0.04450928047299385,\n",
       "  0.03839098662137985,\n",
       "  0.037699535489082336,\n",
       "  0.034766580909490585,\n",
       "  0.037691596895456314,\n",
       "  0.03146594017744064,\n",
       "  0.029572775587439537],\n",
       " 'accuracy': [0.4437499940395355,\n",
       "  0.7825000286102295,\n",
       "  0.8600000143051147,\n",
       "  0.8337500095367432,\n",
       "  0.8824999928474426,\n",
       "  0.875,\n",
       "  0.8924999833106995,\n",
       "  0.8762500286102295,\n",
       "  0.9200000166893005,\n",
       "  0.9212499856948853],\n",
       " 'val_loss': [0.08201470971107483,\n",
       "  0.04483689367771149,\n",
       "  0.04253430664539337,\n",
       "  0.0498894602060318,\n",
       "  0.041703686118125916,\n",
       "  0.03261994943022728,\n",
       "  0.04107118770480156,\n",
       "  0.0372273214161396,\n",
       "  0.03568176180124283,\n",
       "  0.030653884634375572],\n",
       " 'val_accuracy': [0.574999988079071,\n",
       "  0.8199999928474426,\n",
       "  0.824999988079071,\n",
       "  0.7850000262260437,\n",
       "  0.8650000095367432,\n",
       "  0.9049999713897705,\n",
       "  0.8650000095367432,\n",
       "  0.8450000286102295,\n",
       "  0.8799999952316284,\n",
       "  0.9100000262260437]}"
      ]
     },
     "execution_count": 34,
     "metadata": {},
     "output_type": "execute_result"
    }
   ],
   "source": [
    "# 5 layer, 18 components\n",
    "H.history"
   ]
  },
  {
   "cell_type": "code",
   "execution_count": 108,
   "metadata": {},
   "outputs": [
    {
     "data": {
      "text/plain": [
       "{'loss': [0.14965790510177612,\n",
       "  0.06293491274118423,\n",
       "  0.041618462651968,\n",
       "  0.03956618905067444,\n",
       "  0.03899632766842842,\n",
       "  0.03427314758300781,\n",
       "  0.039451390504837036,\n",
       "  0.03510699421167374,\n",
       "  0.03574090078473091,\n",
       "  0.03193996474146843],\n",
       " 'accuracy': [0.38374999165534973,\n",
       "  0.7174999713897705,\n",
       "  0.8537499904632568,\n",
       "  0.8575000166893005,\n",
       "  0.8650000095367432,\n",
       "  0.8849999904632568,\n",
       "  0.8612499833106995,\n",
       "  0.8787500262260437,\n",
       "  0.875,\n",
       "  0.8974999785423279],\n",
       " 'val_loss': [0.09772950410842896,\n",
       "  0.052542589604854584,\n",
       "  0.05176157504320145,\n",
       "  0.04925769940018654,\n",
       "  0.051739346235990524,\n",
       "  0.041836488991975784,\n",
       "  0.03665179759263992,\n",
       "  0.037846650928258896,\n",
       "  0.03608601167798042,\n",
       "  0.035815607756376266],\n",
       " 'val_accuracy': [0.45500001311302185,\n",
       "  0.7599999904632568,\n",
       "  0.7749999761581421,\n",
       "  0.7950000166893005,\n",
       "  0.8100000023841858,\n",
       "  0.8700000047683716,\n",
       "  0.8600000143051147,\n",
       "  0.8550000190734863,\n",
       "  0.8650000095367432,\n",
       "  0.8600000143051147]}"
      ]
     },
     "execution_count": 108,
     "metadata": {},
     "output_type": "execute_result"
    }
   ],
   "source": [
    "# 4 layer, 18 components\n",
    "H.history"
   ]
  },
  {
   "cell_type": "code",
   "execution_count": 100,
   "metadata": {},
   "outputs": [
    {
     "data": {
      "text/plain": [
       "{'loss': [0.13745282590389252,\n",
       "  0.05131209269165993,\n",
       "  0.03589293360710144,\n",
       "  0.032874345779418945,\n",
       "  0.028991425409913063,\n",
       "  0.03253480792045593,\n",
       "  0.029813989996910095,\n",
       "  0.02781929075717926,\n",
       "  0.02748541347682476,\n",
       "  0.026889458298683167],\n",
       " 'accuracy': [0.4749999940395355,\n",
       "  0.7862499952316284,\n",
       "  0.893750011920929,\n",
       "  0.8949999809265137,\n",
       "  0.9125000238418579,\n",
       "  0.9012500047683716,\n",
       "  0.9200000166893005,\n",
       "  0.9150000214576721,\n",
       "  0.9275000095367432,\n",
       "  0.9212499856948853],\n",
       " 'val_loss': [0.058537807315588,\n",
       "  0.04050622135400772,\n",
       "  0.036614879965782166,\n",
       "  0.04779515787959099,\n",
       "  0.03517121449112892,\n",
       "  0.0437895692884922,\n",
       "  0.032014112919569016,\n",
       "  0.03252008557319641,\n",
       "  0.033478476107120514,\n",
       "  0.037942081689834595],\n",
       " 'val_accuracy': [0.7350000143051147,\n",
       "  0.8450000286102295,\n",
       "  0.8700000047683716,\n",
       "  0.7850000262260437,\n",
       "  0.8799999952316284,\n",
       "  0.8349999785423279,\n",
       "  0.9100000262260437,\n",
       "  0.8700000047683716,\n",
       "  0.8849999904632568,\n",
       "  0.8349999785423279]}"
      ]
     },
     "execution_count": 100,
     "metadata": {},
     "output_type": "execute_result"
    }
   ],
   "source": [
    "# 3 layer, 18 components\n",
    "H.history"
   ]
  },
  {
   "cell_type": "code",
   "execution_count": 92,
   "metadata": {},
   "outputs": [
    {
     "data": {
      "text/plain": [
       "{'loss': [0.1329687535762787,\n",
       "  0.06058654934167862,\n",
       "  0.05182506516575813,\n",
       "  0.04403061419725418,\n",
       "  0.04736672714352608,\n",
       "  0.03878171741962433,\n",
       "  0.03751802816987038,\n",
       "  0.037651289254426956,\n",
       "  0.036634400486946106,\n",
       "  0.03962668031454086],\n",
       " 'accuracy': [0.4025000035762787,\n",
       "  0.7149999737739563,\n",
       "  0.7337499856948853,\n",
       "  0.8125,\n",
       "  0.7987499833106995,\n",
       "  0.862500011920929,\n",
       "  0.8725000023841858,\n",
       "  0.8650000095367432,\n",
       "  0.8662499785423279,\n",
       "  0.8387500047683716],\n",
       " 'val_loss': [0.09544865787029266,\n",
       "  0.07365934550762177,\n",
       "  0.046841029077768326,\n",
       "  0.04758092388510704,\n",
       "  0.049413274973630905,\n",
       "  0.046205077320337296,\n",
       "  0.04268807917833328,\n",
       "  0.04087353125214577,\n",
       "  0.054533470422029495,\n",
       "  0.04485756903886795],\n",
       " 'val_accuracy': [0.48500001430511475,\n",
       "  0.5550000071525574,\n",
       "  0.7900000214576721,\n",
       "  0.7799999713897705,\n",
       "  0.7799999713897705,\n",
       "  0.8100000023841858,\n",
       "  0.8399999737739563,\n",
       "  0.8500000238418579,\n",
       "  0.7649999856948853,\n",
       "  0.8100000023841858]}"
      ]
     },
     "execution_count": 92,
     "metadata": {},
     "output_type": "execute_result"
    }
   ],
   "source": [
    "# 2 layer, 18 components\n",
    "H.history"
   ]
  },
  {
   "cell_type": "code",
   "execution_count": 80,
   "metadata": {},
   "outputs": [
    {
     "data": {
      "text/plain": [
       "{'loss': [0.15565325319766998,\n",
       "  0.0779561772942543,\n",
       "  0.0634145587682724,\n",
       "  0.057463761419057846,\n",
       "  0.0546240359544754,\n",
       "  0.05556612089276314,\n",
       "  0.056894101202487946,\n",
       "  0.057889919728040695,\n",
       "  0.054981619119644165,\n",
       "  0.05449504777789116],\n",
       " 'accuracy': [0.29624998569488525,\n",
       "  0.45249998569488525,\n",
       "  0.5724999904632568,\n",
       "  0.6112499833106995,\n",
       "  0.6587499976158142,\n",
       "  0.6424999833106995,\n",
       "  0.6387500166893005,\n",
       "  0.6162499785423279,\n",
       "  0.6424999833106995,\n",
       "  0.6549999713897705],\n",
       " 'val_loss': [0.10166499018669128,\n",
       "  0.07094709575176239,\n",
       "  0.062104035168886185,\n",
       "  0.061460942029953,\n",
       "  0.06091909855604172,\n",
       "  0.05672275647521019,\n",
       "  0.060266174376010895,\n",
       "  0.06375996768474579,\n",
       "  0.055198684334754944,\n",
       "  0.05983636528253555],\n",
       " 'val_accuracy': [0.2750000059604645,\n",
       "  0.4449999928474426,\n",
       "  0.5249999761581421,\n",
       "  0.5550000071525574,\n",
       "  0.6200000047683716,\n",
       "  0.6399999856948853,\n",
       "  0.5799999833106995,\n",
       "  0.625,\n",
       "  0.6549999713897705,\n",
       "  0.6000000238418579]}"
      ]
     },
     "execution_count": 80,
     "metadata": {},
     "output_type": "execute_result"
    }
   ],
   "source": [
    "# 1 layer, 18 components\n",
    "H.history"
   ]
  },
  {
   "cell_type": "code",
   "execution_count": 45,
   "metadata": {},
   "outputs": [
    {
     "data": {
      "text/plain": [
       "{'loss': [0.11370027810335159,\n",
       "  0.04399509355425835,\n",
       "  0.03563285246491432,\n",
       "  0.03169321268796921,\n",
       "  0.031054861843585968,\n",
       "  0.034675970673561096,\n",
       "  0.030246417969465256,\n",
       "  0.029851999133825302,\n",
       "  0.028098903596401215,\n",
       "  0.027159545570611954],\n",
       " 'accuracy': [0.5737500190734863,\n",
       "  0.824999988079071,\n",
       "  0.875,\n",
       "  0.8912500143051147,\n",
       "  0.8962500095367432,\n",
       "  0.893750011920929,\n",
       "  0.9049999713897705,\n",
       "  0.8974999785423279,\n",
       "  0.918749988079071,\n",
       "  0.893750011920929],\n",
       " 'val_loss': [0.0626068189740181,\n",
       "  0.0421493761241436,\n",
       "  0.04692036285996437,\n",
       "  0.036422595381736755,\n",
       "  0.03751160576939583,\n",
       "  0.036833256483078,\n",
       "  0.03593224659562111,\n",
       "  0.03537501022219658,\n",
       "  0.031283389776945114,\n",
       "  0.030124645680189133],\n",
       " 'val_accuracy': [0.6800000071525574,\n",
       "  0.8600000143051147,\n",
       "  0.8149999976158142,\n",
       "  0.8799999952316284,\n",
       "  0.875,\n",
       "  0.8700000047683716,\n",
       "  0.875,\n",
       "  0.8650000095367432,\n",
       "  0.8650000095367432,\n",
       "  0.8949999809265137]}"
      ]
     },
     "execution_count": 45,
     "metadata": {},
     "output_type": "execute_result"
    }
   ],
   "source": [
    "# 4 layer, 6 components\n",
    "H.history"
   ]
  },
  {
   "cell_type": "code",
   "execution_count": 34,
   "metadata": {},
   "outputs": [
    {
     "data": {
      "text/plain": [
       "{'loss': [0.1385725736618042,\n",
       "  0.05911405384540558,\n",
       "  0.04729481041431427,\n",
       "  0.04572630301117897,\n",
       "  0.0444224551320076,\n",
       "  0.047881659120321274,\n",
       "  0.04405684024095535,\n",
       "  0.043680209666490555,\n",
       "  0.04244212061166763,\n",
       "  0.03997673839330673],\n",
       " 'accuracy': [0.42124998569488525,\n",
       "  0.668749988079071,\n",
       "  0.7275000214576721,\n",
       "  0.7337499856948853,\n",
       "  0.7437499761581421,\n",
       "  0.7275000214576721,\n",
       "  0.7450000047683716,\n",
       "  0.762499988079071,\n",
       "  0.7674999833106995,\n",
       "  0.7837499976158142],\n",
       " 'val_loss': [0.08122807741165161,\n",
       "  0.04580061510205269,\n",
       "  0.050898801535367966,\n",
       "  0.04730655252933502,\n",
       "  0.04789324849843979,\n",
       "  0.048768941313028336,\n",
       "  0.04815533012151718,\n",
       "  0.04701235890388489,\n",
       "  0.04669327661395073,\n",
       "  0.043803855776786804],\n",
       " 'val_accuracy': [0.5849999785423279,\n",
       "  0.7699999809265137,\n",
       "  0.7250000238418579,\n",
       "  0.7300000190734863,\n",
       "  0.7149999737739563,\n",
       "  0.7549999952316284,\n",
       "  0.7300000190734863,\n",
       "  0.7350000143051147,\n",
       "  0.75,\n",
       "  0.75]}"
      ]
     },
     "execution_count": 34,
     "metadata": {},
     "output_type": "execute_result"
    }
   ],
   "source": [
    "# 2 layer, 6 components\n",
    "H.history"
   ]
  },
  {
   "cell_type": "code",
   "execution_count": null,
   "metadata": {},
   "outputs": [],
   "source": []
  }
 ],
 "metadata": {
  "colab": {
   "authorship_tag": "ABX9TyNNN7AuWgekOgocJ/DE5q9Z",
   "collapsed_sections": [],
   "name": "DRC MNIST 2 Class.ipynb",
   "provenance": []
  },
  "kernelspec": {
   "display_name": "Python 3",
   "language": "python",
   "name": "python3"
  },
  "language_info": {
   "codemirror_mode": {
    "name": "ipython",
    "version": 3
   },
   "file_extension": ".py",
   "mimetype": "text/x-python",
   "name": "python",
   "nbconvert_exporter": "python",
   "pygments_lexer": "ipython3",
   "version": "3.8.6"
  }
 },
 "nbformat": 4,
 "nbformat_minor": 1
}
