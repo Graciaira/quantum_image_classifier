{
 "cells": [
  {
   "cell_type": "code",
   "execution_count": 1,
   "metadata": {
    "colab": {
     "base_uri": "https://localhost:8080/"
    },
    "executionInfo": {
     "elapsed": 21741,
     "status": "ok",
     "timestamp": 1609942401542,
     "user": {
      "displayName": "Eraraya Ricardo Muten",
      "photoUrl": "https://lh3.googleusercontent.com/a-/AOh14Ggpw7xw-lyk6u6l92QjpI7MlI7qjJuuciCpwrUd=s64",
      "userId": "03770692095188133952"
     },
     "user_tz": -420
    },
    "id": "e4abR9zSaWNk",
    "outputId": "94ee80ef-152f-452f-d852-06919b9942a4"
   },
   "outputs": [
    {
     "name": "stdout",
     "output_type": "stream",
     "text": [
      "/content/drive\n",
      "Mounted at /content/drive\n"
     ]
    }
   ],
   "source": [
    "# Mount Google Drive\n",
    "from google.colab import drive # import drive from google colab\n",
    " \n",
    "ROOT = \"/content/drive\"     # default location for the drive\n",
    "print(ROOT)                 # print content of ROOT (Optional)\n",
    " \n",
    "drive.mount(ROOT)           # we mount the google drive at /content/drive"
   ]
  },
  {
   "cell_type": "code",
   "execution_count": 1,
   "metadata": {
    "executionInfo": {
     "elapsed": 4192,
     "status": "ok",
     "timestamp": 1610025781584,
     "user": {
      "displayName": "Eraraya Ricardo Muten",
      "photoUrl": "https://lh3.googleusercontent.com/a-/AOh14Ggpw7xw-lyk6u6l92QjpI7MlI7qjJuuciCpwrUd=s64",
      "userId": "03770692095188133952"
     },
     "user_tz": -420
    },
    "id": "gk5AKGKcYGOo"
   },
   "outputs": [],
   "source": [
    "!pip install pennylane\n",
    "from IPython.display import clear_output\n",
    "clear_output()"
   ]
  },
  {
   "cell_type": "code",
   "execution_count": null,
   "metadata": {
    "id": "GigSJusGbx1b"
   },
   "outputs": [],
   "source": [
    "import os\n",
    "\n",
    "def restart_runtime():\n",
    "  os.kill(os.getpid(), 9)\n",
    "restart_runtime()"
   ]
  },
  {
   "cell_type": "code",
   "execution_count": 1,
   "metadata": {
    "executionInfo": {
     "elapsed": 857,
     "status": "ok",
     "timestamp": 1610025787385,
     "user": {
      "displayName": "Eraraya Ricardo Muten",
      "photoUrl": "https://lh3.googleusercontent.com/a-/AOh14Ggpw7xw-lyk6u6l92QjpI7MlI7qjJuuciCpwrUd=s64",
      "userId": "03770692095188133952"
     },
     "user_tz": -420
    },
    "id": "HoLmJLkIX810"
   },
   "outputs": [],
   "source": [
    "# %matplotlib inline\n",
    "import matplotlib.pyplot as plt\n",
    "from mpl_toolkits.axes_grid1 import make_axes_locatable\n",
    "\n",
    "import numpy as np"
   ]
  },
  {
   "cell_type": "markdown",
   "metadata": {
    "id": "vZFNOwFXoY8N"
   },
   "source": [
    "# Loading Raw Data"
   ]
  },
  {
   "cell_type": "code",
   "execution_count": 2,
   "metadata": {
    "colab": {
     "base_uri": "https://localhost:8080/"
    },
    "executionInfo": {
     "elapsed": 2726,
     "status": "ok",
     "timestamp": 1610025792089,
     "user": {
      "displayName": "Eraraya Ricardo Muten",
      "photoUrl": "https://lh3.googleusercontent.com/a-/AOh14Ggpw7xw-lyk6u6l92QjpI7MlI7qjJuuciCpwrUd=s64",
      "userId": "03770692095188133952"
     },
     "user_tz": -420
    },
    "id": "IvdFsGCVof9g",
    "outputId": "c1e94fa1-a11f-4bff-c7b7-975b8b1b79fb"
   },
   "outputs": [],
   "source": [
    "import tensorflow as tf\n",
    "\n",
    "(x_train, y_train), (x_test, y_test) = tf.keras.datasets.mnist.load_data()"
   ]
  },
  {
   "cell_type": "code",
   "execution_count": 3,
   "metadata": {
    "executionInfo": {
     "elapsed": 1251,
     "status": "ok",
     "timestamp": 1610025792677,
     "user": {
      "displayName": "Eraraya Ricardo Muten",
      "photoUrl": "https://lh3.googleusercontent.com/a-/AOh14Ggpw7xw-lyk6u6l92QjpI7MlI7qjJuuciCpwrUd=s64",
      "userId": "03770692095188133952"
     },
     "user_tz": -420
    },
    "id": "c6zvGFvIoxAN"
   },
   "outputs": [],
   "source": [
    "x_train_flatten = x_train.reshape(x_train.shape[0], x_train.shape[1]*x_train.shape[2])/255.0\n",
    "x_test_flatten = x_test.reshape(x_test.shape[0], x_test.shape[1]*x_test.shape[2])/255.0"
   ]
  },
  {
   "cell_type": "code",
   "execution_count": 4,
   "metadata": {
    "colab": {
     "base_uri": "https://localhost:8080/"
    },
    "executionInfo": {
     "elapsed": 948,
     "status": "ok",
     "timestamp": 1610025792678,
     "user": {
      "displayName": "Eraraya Ricardo Muten",
      "photoUrl": "https://lh3.googleusercontent.com/a-/AOh14Ggpw7xw-lyk6u6l92QjpI7MlI7qjJuuciCpwrUd=s64",
      "userId": "03770692095188133952"
     },
     "user_tz": -420
    },
    "id": "Rmj1dzaso00h",
    "outputId": "f59eea77-95bb-4b6a-b0ba-14a7e5760b11"
   },
   "outputs": [
    {
     "name": "stdout",
     "output_type": "stream",
     "text": [
      "(60000, 784) (60000,)\n",
      "(10000, 784) (10000,)\n"
     ]
    }
   ],
   "source": [
    "print(x_train_flatten.shape, y_train.shape)\n",
    "print(x_test_flatten.shape, y_test.shape)"
   ]
  },
  {
   "cell_type": "code",
   "execution_count": 5,
   "metadata": {
    "colab": {
     "base_uri": "https://localhost:8080/"
    },
    "executionInfo": {
     "elapsed": 945,
     "status": "ok",
     "timestamp": 1610025793507,
     "user": {
      "displayName": "Eraraya Ricardo Muten",
      "photoUrl": "https://lh3.googleusercontent.com/a-/AOh14Ggpw7xw-lyk6u6l92QjpI7MlI7qjJuuciCpwrUd=s64",
      "userId": "03770692095188133952"
     },
     "user_tz": -420
    },
    "id": "d10VoIC6o5_I",
    "outputId": "774bafb6-5cbe-42b3-98d0-643e7e943f91"
   },
   "outputs": [
    {
     "name": "stdout",
     "output_type": "stream",
     "text": [
      "(5923, 784)\n",
      "(6742, 784)\n",
      "(5958, 784)\n",
      "(6131, 784)\n",
      "(5842, 784)\n",
      "(5421, 784)\n",
      "(5918, 784)\n",
      "(6265, 784)\n",
      "(5851, 784)\n",
      "(5949, 784)\n"
     ]
    }
   ],
   "source": [
    "x_train_0 = x_train_flatten[y_train == 0]\n",
    "x_train_1 = x_train_flatten[y_train == 1]\n",
    "x_train_2 = x_train_flatten[y_train == 2]\n",
    "x_train_3 = x_train_flatten[y_train == 3]\n",
    "x_train_4 = x_train_flatten[y_train == 4]\n",
    "x_train_5 = x_train_flatten[y_train == 5]\n",
    "x_train_6 = x_train_flatten[y_train == 6]\n",
    "x_train_7 = x_train_flatten[y_train == 7]\n",
    "x_train_8 = x_train_flatten[y_train == 8]\n",
    "x_train_9 = x_train_flatten[y_train == 9]\n",
    "\n",
    "x_train_list = [x_train_0, x_train_1, x_train_2, x_train_3, x_train_4, x_train_5, x_train_6, x_train_7, x_train_8, x_train_9]\n",
    "\n",
    "print(x_train_0.shape)\n",
    "print(x_train_1.shape)\n",
    "print(x_train_2.shape)\n",
    "print(x_train_3.shape)\n",
    "print(x_train_4.shape)\n",
    "print(x_train_5.shape)\n",
    "print(x_train_6.shape)\n",
    "print(x_train_7.shape)\n",
    "print(x_train_8.shape)\n",
    "print(x_train_9.shape)"
   ]
  },
  {
   "cell_type": "code",
   "execution_count": 6,
   "metadata": {
    "colab": {
     "base_uri": "https://localhost:8080/"
    },
    "executionInfo": {
     "elapsed": 901,
     "status": "ok",
     "timestamp": 1610025796926,
     "user": {
      "displayName": "Eraraya Ricardo Muten",
      "photoUrl": "https://lh3.googleusercontent.com/a-/AOh14Ggpw7xw-lyk6u6l92QjpI7MlI7qjJuuciCpwrUd=s64",
      "userId": "03770692095188133952"
     },
     "user_tz": -420
    },
    "id": "snFw4LqepFOl",
    "outputId": "d62bdedd-8ad4-4da9-c7e8-75b8a0a9ba7b"
   },
   "outputs": [
    {
     "name": "stdout",
     "output_type": "stream",
     "text": [
      "(980, 784)\n",
      "(1135, 784)\n",
      "(1032, 784)\n",
      "(1010, 784)\n",
      "(982, 784)\n",
      "(892, 784)\n",
      "(958, 784)\n",
      "(1028, 784)\n",
      "(974, 784)\n",
      "(1009, 784)\n"
     ]
    }
   ],
   "source": [
    "x_test_0 = x_test_flatten[y_test == 0]\n",
    "x_test_1 = x_test_flatten[y_test == 1]\n",
    "x_test_2 = x_test_flatten[y_test == 2]\n",
    "x_test_3 = x_test_flatten[y_test == 3]\n",
    "x_test_4 = x_test_flatten[y_test == 4]\n",
    "x_test_5 = x_test_flatten[y_test == 5]\n",
    "x_test_6 = x_test_flatten[y_test == 6]\n",
    "x_test_7 = x_test_flatten[y_test == 7]\n",
    "x_test_8 = x_test_flatten[y_test == 8]\n",
    "x_test_9 = x_test_flatten[y_test == 9]\n",
    "\n",
    "x_test_list = [x_test_0, x_test_1, x_test_2, x_test_3, x_test_4, x_test_5, x_test_6, x_test_7, x_test_8, x_test_9]\n",
    "\n",
    "print(x_test_0.shape)\n",
    "print(x_test_1.shape)\n",
    "print(x_test_2.shape)\n",
    "print(x_test_3.shape)\n",
    "print(x_test_4.shape)\n",
    "print(x_test_5.shape)\n",
    "print(x_test_6.shape)\n",
    "print(x_test_7.shape)\n",
    "print(x_test_8.shape)\n",
    "print(x_test_9.shape)"
   ]
  },
  {
   "cell_type": "markdown",
   "metadata": {
    "id": "SAxUS6Lhp95g"
   },
   "source": [
    "# Selecting the dataset\n",
    "\n",
    "Output: X_train, Y_train, X_test, Y_test"
   ]
  },
  {
   "cell_type": "code",
   "execution_count": 72,
   "metadata": {
    "colab": {
     "base_uri": "https://localhost:8080/"
    },
    "executionInfo": {
     "elapsed": 881,
     "status": "ok",
     "timestamp": 1610032449016,
     "user": {
      "displayName": "Eraraya Ricardo Muten",
      "photoUrl": "https://lh3.googleusercontent.com/a-/AOh14Ggpw7xw-lyk6u6l92QjpI7MlI7qjJuuciCpwrUd=s64",
      "userId": "03770692095188133952"
     },
     "user_tz": -420
    },
    "id": "4Nr0gmM9DFd_",
    "outputId": "d4120711-a864-4d5a-aef1-2c9ab9e4078c"
   },
   "outputs": [
    {
     "name": "stdout",
     "output_type": "stream",
     "text": [
      "(1200, 784) (1200,)\n",
      "(300, 784) (300,)\n"
     ]
    }
   ],
   "source": [
    "num_sample = 300\n",
    "n_class = 4\n",
    "mult_test = 0.25\n",
    "\n",
    "X_train = x_train_list[0][:num_sample, :]\n",
    "X_test = x_test_list[0][:int(mult_test*num_sample), :]\n",
    "\n",
    "Y_train = np.zeros((n_class*X_train.shape[0],), dtype=int)\n",
    "Y_test = np.zeros((n_class*X_test.shape[0],), dtype=int)\n",
    "\n",
    "for i in range(n_class-1):\n",
    "  X_train = np.concatenate((X_train, x_train_list[i+1][:num_sample, :]), axis=0)\n",
    "  Y_train[num_sample*(i+1):num_sample*(i+2)] = int(i+1)\n",
    "\n",
    "  X_test = np.concatenate((X_test, x_test_list[i+1][:int(mult_test*num_sample), :]), axis=0)\n",
    "  Y_test[int(mult_test*num_sample*(i+1)):int(mult_test*num_sample*(i+2))] = int(i+1)\n",
    "\n",
    "print(X_train.shape, Y_train.shape)\n",
    "print(X_test.shape, Y_test.shape)"
   ]
  },
  {
   "cell_type": "markdown",
   "metadata": {
    "id": "F_4AcCtNsC8o"
   },
   "source": [
    "# Dataset Preprocessing (Standardization + PCA)"
   ]
  },
  {
   "cell_type": "markdown",
   "metadata": {
    "id": "QP-6XdVPsfxC"
   },
   "source": [
    "## Standardization"
   ]
  },
  {
   "cell_type": "code",
   "execution_count": 73,
   "metadata": {
    "executionInfo": {
     "elapsed": 997,
     "status": "ok",
     "timestamp": 1610032452310,
     "user": {
      "displayName": "Eraraya Ricardo Muten",
      "photoUrl": "https://lh3.googleusercontent.com/a-/AOh14Ggpw7xw-lyk6u6l92QjpI7MlI7qjJuuciCpwrUd=s64",
      "userId": "03770692095188133952"
     },
     "user_tz": -420
    },
    "id": "EDtzCvTur6BR"
   },
   "outputs": [],
   "source": [
    "def normalize(X, use_params=False, params=None):\n",
    "    \"\"\"Normalize the given dataset X\n",
    "    Args:\n",
    "        X: ndarray, dataset\n",
    "    \n",
    "    Returns:\n",
    "        (Xbar, mean, std): tuple of ndarray, Xbar is the normalized dataset\n",
    "        with mean 0 and standard deviation 1; mean and std are the \n",
    "        mean and standard deviation respectively.\n",
    "    \n",
    "    Note:\n",
    "        You will encounter dimensions where the standard deviation is\n",
    "        zero, for those when you do normalization the normalized data\n",
    "        will be NaN. Handle this by setting using `std = 1` for those \n",
    "        dimensions when doing normalization.\n",
    "    \"\"\"\n",
    "    if use_params:\n",
    "        mu = params[0]\n",
    "        std_filled = [1]\n",
    "    else:\n",
    "        mu = np.mean(X, axis=0)\n",
    "        std = np.std(X, axis=0)\n",
    "        #std_filled = std.copy()\n",
    "    #std_filled[std==0] = 1.\n",
    "    Xbar = (X - mu)/(std + 1e-8)\n",
    "    return Xbar, mu, std\n"
   ]
  },
  {
   "cell_type": "code",
   "execution_count": 74,
   "metadata": {
    "colab": {
     "base_uri": "https://localhost:8080/"
    },
    "executionInfo": {
     "elapsed": 1011,
     "status": "ok",
     "timestamp": 1610032453516,
     "user": {
      "displayName": "Eraraya Ricardo Muten",
      "photoUrl": "https://lh3.googleusercontent.com/a-/AOh14Ggpw7xw-lyk6u6l92QjpI7MlI7qjJuuciCpwrUd=s64",
      "userId": "03770692095188133952"
     },
     "user_tz": -420
    },
    "id": "Ma2r_EXQsHYJ",
    "outputId": "b3d76c69-3ad5-43e6-a310-1e5c02554fd4"
   },
   "outputs": [
    {
     "data": {
      "text/plain": [
       "((1200, 784), (1200,))"
      ]
     },
     "execution_count": 74,
     "metadata": {},
     "output_type": "execute_result"
    }
   ],
   "source": [
    "X_train, mu_train, std_train = normalize(X_train)\n",
    "X_train.shape, Y_train.shape"
   ]
  },
  {
   "cell_type": "code",
   "execution_count": 75,
   "metadata": {
    "colab": {
     "base_uri": "https://localhost:8080/"
    },
    "executionInfo": {
     "elapsed": 762,
     "status": "ok",
     "timestamp": 1610032453517,
     "user": {
      "displayName": "Eraraya Ricardo Muten",
      "photoUrl": "https://lh3.googleusercontent.com/a-/AOh14Ggpw7xw-lyk6u6l92QjpI7MlI7qjJuuciCpwrUd=s64",
      "userId": "03770692095188133952"
     },
     "user_tz": -420
    },
    "id": "p8DrXKvutdFL",
    "outputId": "2c6e20b3-c4a7-46e1-c92b-2e4d3fbecc91"
   },
   "outputs": [
    {
     "data": {
      "text/plain": [
       "((300, 784), (300,))"
      ]
     },
     "execution_count": 75,
     "metadata": {},
     "output_type": "execute_result"
    }
   ],
   "source": [
    "X_test = (X_test - mu_train)/(std_train + 1e-8)\n",
    "X_test.shape, Y_test.shape"
   ]
  },
  {
   "cell_type": "markdown",
   "metadata": {
    "id": "BwikC3mysh4L"
   },
   "source": [
    "## PCA"
   ]
  },
  {
   "cell_type": "code",
   "execution_count": 76,
   "metadata": {
    "executionInfo": {
     "elapsed": 781,
     "status": "ok",
     "timestamp": 1610032456319,
     "user": {
      "displayName": "Eraraya Ricardo Muten",
      "photoUrl": "https://lh3.googleusercontent.com/a-/AOh14Ggpw7xw-lyk6u6l92QjpI7MlI7qjJuuciCpwrUd=s64",
      "userId": "03770692095188133952"
     },
     "user_tz": -420
    },
    "id": "0AHFK0_lsdzh"
   },
   "outputs": [],
   "source": [
    "from sklearn.decomposition import PCA\n",
    "from matplotlib import pyplot as plt"
   ]
  },
  {
   "cell_type": "code",
   "execution_count": 80,
   "metadata": {
    "executionInfo": {
     "elapsed": 955,
     "status": "ok",
     "timestamp": 1610032457668,
     "user": {
      "displayName": "Eraraya Ricardo Muten",
      "photoUrl": "https://lh3.googleusercontent.com/a-/AOh14Ggpw7xw-lyk6u6l92QjpI7MlI7qjJuuciCpwrUd=s64",
      "userId": "03770692095188133952"
     },
     "user_tz": -420
    },
    "id": "CzdxRenYstM_"
   },
   "outputs": [],
   "source": [
    "num_component = 9\n",
    "pca = PCA(n_components=num_component, svd_solver='full')"
   ]
  },
  {
   "cell_type": "code",
   "execution_count": 81,
   "metadata": {
    "colab": {
     "base_uri": "https://localhost:8080/"
    },
    "executionInfo": {
     "elapsed": 1032,
     "status": "ok",
     "timestamp": 1610032458038,
     "user": {
      "displayName": "Eraraya Ricardo Muten",
      "photoUrl": "https://lh3.googleusercontent.com/a-/AOh14Ggpw7xw-lyk6u6l92QjpI7MlI7qjJuuciCpwrUd=s64",
      "userId": "03770692095188133952"
     },
     "user_tz": -420
    },
    "id": "qUHn6-Zvsz2X",
    "outputId": "7683cee8-5d52-490f-ad67-b0fda8c3dec3"
   },
   "outputs": [
    {
     "data": {
      "text/plain": [
       "PCA(n_components=9, svd_solver='full')"
      ]
     },
     "execution_count": 81,
     "metadata": {},
     "output_type": "execute_result"
    }
   ],
   "source": [
    "pca.fit(X_train)"
   ]
  },
  {
   "cell_type": "code",
   "execution_count": 82,
   "metadata": {
    "colab": {
     "base_uri": "https://localhost:8080/"
    },
    "executionInfo": {
     "elapsed": 705,
     "status": "ok",
     "timestamp": 1610032458857,
     "user": {
      "displayName": "Eraraya Ricardo Muten",
      "photoUrl": "https://lh3.googleusercontent.com/a-/AOh14Ggpw7xw-lyk6u6l92QjpI7MlI7qjJuuciCpwrUd=s64",
      "userId": "03770692095188133952"
     },
     "user_tz": -420
    },
    "id": "dyj975-ttIbe",
    "outputId": "99bd5a6a-53f0-4a1b-934d-0e397aff3d99"
   },
   "outputs": [
    {
     "data": {
      "text/plain": [
       "tensor([0.10802503, 0.16664691, 0.2159008 , 0.26238593, 0.29123447,\n",
       "        0.31855574, 0.34226016, 0.36450738, 0.38541856], requires_grad=True)"
      ]
     },
     "execution_count": 82,
     "metadata": {},
     "output_type": "execute_result"
    }
   ],
   "source": [
    "np.cumsum(pca.explained_variance_ratio_)"
   ]
  },
  {
   "cell_type": "code",
   "execution_count": 83,
   "metadata": {
    "executionInfo": {
     "elapsed": 836,
     "status": "ok",
     "timestamp": 1610032460743,
     "user": {
      "displayName": "Eraraya Ricardo Muten",
      "photoUrl": "https://lh3.googleusercontent.com/a-/AOh14Ggpw7xw-lyk6u6l92QjpI7MlI7qjJuuciCpwrUd=s64",
      "userId": "03770692095188133952"
     },
     "user_tz": -420
    },
    "id": "g2Cv6r9utNKg"
   },
   "outputs": [],
   "source": [
    "X_train = pca.transform(X_train)\n",
    "X_test = pca.transform(X_test)"
   ]
  },
  {
   "cell_type": "code",
   "execution_count": 84,
   "metadata": {
    "colab": {
     "base_uri": "https://localhost:8080/"
    },
    "executionInfo": {
     "elapsed": 1345,
     "status": "ok",
     "timestamp": 1610032461574,
     "user": {
      "displayName": "Eraraya Ricardo Muten",
      "photoUrl": "https://lh3.googleusercontent.com/a-/AOh14Ggpw7xw-lyk6u6l92QjpI7MlI7qjJuuciCpwrUd=s64",
      "userId": "03770692095188133952"
     },
     "user_tz": -420
    },
    "id": "ahC8V_QzuDzV",
    "outputId": "f386544f-fbaa-461e-f8de-161b1618e189"
   },
   "outputs": [
    {
     "name": "stdout",
     "output_type": "stream",
     "text": [
      "(1200, 9) (1200,)\n",
      "(300, 9) (300,)\n"
     ]
    }
   ],
   "source": [
    "print(X_train.shape, Y_train.shape)\n",
    "print(X_test.shape, Y_test.shape)"
   ]
  },
  {
   "cell_type": "markdown",
   "metadata": {
    "id": "CoGE5F_Gc7Bp"
   },
   "source": [
    "## Norm"
   ]
  },
  {
   "cell_type": "code",
   "execution_count": 85,
   "metadata": {
    "executionInfo": {
     "elapsed": 1222,
     "status": "ok",
     "timestamp": 1610032463633,
     "user": {
      "displayName": "Eraraya Ricardo Muten",
      "photoUrl": "https://lh3.googleusercontent.com/a-/AOh14Ggpw7xw-lyk6u6l92QjpI7MlI7qjJuuciCpwrUd=s64",
      "userId": "03770692095188133952"
     },
     "user_tz": -420
    },
    "id": "00-l6454QeXB"
   },
   "outputs": [],
   "source": [
    "X_train = (X_train.T / np.sqrt(np.sum(X_train ** 2, -1))).T\n",
    "X_test = (X_test.T / np.sqrt(np.sum(X_test ** 2, -1))).T"
   ]
  },
  {
   "cell_type": "code",
   "execution_count": 86,
   "metadata": {
    "colab": {
     "base_uri": "https://localhost:8080/",
     "height": 284
    },
    "executionInfo": {
     "elapsed": 1028,
     "status": "ok",
     "timestamp": 1610032463633,
     "user": {
      "displayName": "Eraraya Ricardo Muten",
      "photoUrl": "https://lh3.googleusercontent.com/a-/AOh14Ggpw7xw-lyk6u6l92QjpI7MlI7qjJuuciCpwrUd=s64",
      "userId": "03770692095188133952"
     },
     "user_tz": -420
    },
    "id": "voxkEj1BuJB6",
    "outputId": "c856385b-f64d-41c1-a0aa-402d1910420c"
   },
   "outputs": [
    {
     "data": {
      "text/plain": [
       "<matplotlib.collections.PathCollection at 0x7f8ab71c1ca0>"
      ]
     },
     "execution_count": 86,
     "metadata": {},
     "output_type": "execute_result"
    },
    {
     "data": {
      "image/png": "[encoded data removed]",
      "text/plain": [
       "<Figure size 432x288 with 1 Axes>"
      ]
     },
     "metadata": {
      "needs_background": "light"
     },
     "output_type": "display_data"
    }
   ],
   "source": [
    "plt.scatter(X_train[:100, 0], X_train[:100, 1])\n",
    "plt.scatter(X_train[100:200, 0], X_train[100:200, 1])\n",
    "plt.scatter(X_train[200:300, 0], X_train[200:300, 1])"
   ]
  },
  {
   "cell_type": "markdown",
   "metadata": {
    "id": "ytKzDR1JuKub"
   },
   "source": [
    "# Quantum"
   ]
  },
  {
   "cell_type": "code",
   "execution_count": 87,
   "metadata": {
    "executionInfo": {
     "elapsed": 885,
     "status": "ok",
     "timestamp": 1610032467269,
     "user": {
      "displayName": "Eraraya Ricardo Muten",
      "photoUrl": "https://lh3.googleusercontent.com/a-/AOh14Ggpw7xw-lyk6u6l92QjpI7MlI7qjJuuciCpwrUd=s64",
      "userId": "03770692095188133952"
     },
     "user_tz": -420
    },
    "id": "J8PDpZ5IuM0l"
   },
   "outputs": [],
   "source": [
    "import pennylane as qml\n",
    "from pennylane import numpy as np\n",
    "from pennylane.optimize import AdamOptimizer, GradientDescentOptimizer\n",
    "\n",
    "qml.enable_tape()\n",
    "\n",
    "\n",
    "# Set a random seed\n",
    "np.random.seed(42)"
   ]
  },
  {
   "cell_type": "code",
   "execution_count": 88,
   "metadata": {
    "executionInfo": {
     "elapsed": 846,
     "status": "ok",
     "timestamp": 1610047167021,
     "user": {
      "displayName": "Eraraya Ricardo Muten",
      "photoUrl": "https://lh3.googleusercontent.com/a-/AOh14Ggpw7xw-lyk6u6l92QjpI7MlI7qjJuuciCpwrUd=s64",
      "userId": "03770692095188133952"
     },
     "user_tz": -420
    },
    "id": "1CddZE42Ft7H"
   },
   "outputs": [],
   "source": [
    "def plot_data(x, y, fig=None, ax=None):\n",
    "    \"\"\"\n",
    "    Plot data with red/blue values for a binary classification.\n",
    "\n",
    "    Args:\n",
    "        x (array[tuple]): array of data points as tuples\n",
    "        y (array[int]): array of data points as tuples\n",
    "    \"\"\"\n",
    "    if fig == None:\n",
    "        fig, ax = plt.subplots(1, 1, figsize=(5, 5))\n",
    "    reds = y == 0\n",
    "    blues = y == 1\n",
    "    ax.scatter(x[reds, 0], x[reds, 1], c=\"red\", s=20, edgecolor=\"k\")\n",
    "    ax.scatter(x[blues, 0], x[blues, 1], c=\"blue\", s=20, edgecolor=\"k\")\n",
    "    ax.set_xlabel(\"$x_1$\")\n",
    "    ax.set_ylabel(\"$x_2$\")"
   ]
  },
  {
   "cell_type": "code",
   "execution_count": 89,
   "metadata": {
    "executionInfo": {
     "elapsed": 958,
     "status": "ok",
     "timestamp": 1610047167417,
     "user": {
      "displayName": "Eraraya Ricardo Muten",
      "photoUrl": "https://lh3.googleusercontent.com/a-/AOh14Ggpw7xw-lyk6u6l92QjpI7MlI7qjJuuciCpwrUd=s64",
      "userId": "03770692095188133952"
     },
     "user_tz": -420
    },
    "id": "UvNlkVfXFyHE"
   },
   "outputs": [],
   "source": [
    "# Define output labels as quantum state vectors\n",
    "\n",
    "# def density_matrix(state):\n",
    "#     \"\"\"Calculates the density matrix representation of a state.\n",
    "\n",
    "#     Args:\n",
    "#         state (array[complex]): array representing a quantum state vector\n",
    "\n",
    "#     Returns:\n",
    "#         dm: (array[complex]): array representing the density matrix\n",
    "#     \"\"\"\n",
    "#     return state * np.conj(state).T\n",
    "\n",
    "\n",
    "label_0 = [[1], [0]]\n",
    "label_1 = [[0], [1]]\n",
    "\n",
    "\n",
    "def density_matrix(state):\n",
    "    \"\"\"Calculates the density matrix representation of a state.\n",
    "\n",
    "    Args:\n",
    "        state (array[complex]): array representing a quantum state vector\n",
    "\n",
    "    Returns:\n",
    "        dm: (array[complex]): array representing the density matrix\n",
    "    \"\"\"\n",
    "    return np.outer(state,  np.conj(state))\n",
    "\n",
    "#state_labels = [label_0, label_1]\n",
    "state_labels = np.loadtxt('./tetra_states.txt', dtype=np.complex_)"
   ]
  },
  {
   "cell_type": "code",
   "execution_count": 90,
   "metadata": {
    "executionInfo": {
     "elapsed": 1193,
     "status": "ok",
     "timestamp": 1610047167914,
     "user": {
      "displayName": "Eraraya Ricardo Muten",
      "photoUrl": "https://lh3.googleusercontent.com/a-/AOh14Ggpw7xw-lyk6u6l92QjpI7MlI7qjJuuciCpwrUd=s64",
      "userId": "03770692095188133952"
     },
     "user_tz": -420
    },
    "id": "2WqqMVHbF2B8"
   },
   "outputs": [],
   "source": [
    "dev = qml.device(\"default.qubit\", wires=1)\n",
    "# Install any pennylane-plugin to run on some particular backend\n",
    "\n",
    "\n",
    "@qml.qnode(dev)\n",
    "def qcircuit(params, x=None, y=None):\n",
    "    \"\"\"A variational quantum circuit representing the Universal classifier.\n",
    "\n",
    "    Args:\n",
    "        params (array[float]): array of parameters\n",
    "        x (array[float]): single input vector\n",
    "        y (array[float]): single output state density matrix\n",
    "\n",
    "    Returns:\n",
    "        float: fidelity between output state and input\n",
    "    \"\"\"\n",
    "    for i in range(len(params[0])):\n",
    "      for j in range(int(len(x)/3)):\n",
    "        qml.Rot(*(params[0][i][3*j:3*(j+1)]*x[3*j:3*(j+1)] + params[1][i][3*j:3*(j+1)]), wires=0)\n",
    "        #qml.Rot(*params[1][i][3*j:3*(j+1)], wires=0)\n",
    "    return qml.expval(qml.Hermitian(y, wires=[0]))"
   ]
  },
  {
   "cell_type": "code",
   "execution_count": 91,
   "metadata": {},
   "outputs": [
    {
     "data": {
      "text/plain": [
       "(9,)"
      ]
     },
     "execution_count": 91,
     "metadata": {},
     "output_type": "execute_result"
    }
   ],
   "source": [
    "X_train[0].shape"
   ]
  },
  {
   "cell_type": "code",
   "execution_count": 92,
   "metadata": {},
   "outputs": [
    {
     "data": {
      "text/plain": [
       "tensor(0.1117395, requires_grad=True)"
      ]
     },
     "execution_count": 92,
     "metadata": {},
     "output_type": "execute_result"
    }
   ],
   "source": [
    "a = np.random.uniform(size=(2, 1, 9))\n",
    "\n",
    "qcircuit(a, X_train[0], density_matrix(state_labels[3]))"
   ]
  },
  {
   "cell_type": "code",
   "execution_count": 93,
   "metadata": {},
   "outputs": [
    {
     "data": {
      "text/plain": [
       "tensor([[1.        , 0.33333333, 0.33333333, 0.33333333],\n",
       "        [0.33333333, 1.        , 0.33333333, 0.33333333],\n",
       "        [0.33333333, 0.33333333, 1.        , 0.33333333],\n",
       "        [0.33333333, 0.33333333, 0.33333333, 1.        ]], requires_grad=True)"
      ]
     },
     "execution_count": 93,
     "metadata": {},
     "output_type": "execute_result"
    }
   ],
   "source": [
    "tetra_class = np.loadtxt('./tetra_class_label.txt')\n",
    "\n",
    "tetra_class"
   ]
  },
  {
   "cell_type": "code",
   "execution_count": 94,
   "metadata": {},
   "outputs": [
    {
     "data": {
      "text/plain": [
       "tensor([[1, 0],\n",
       "        [0, 1]], requires_grad=True)"
      ]
     },
     "execution_count": 94,
     "metadata": {},
     "output_type": "execute_result"
    }
   ],
   "source": [
    "binary_class = np.array([[1, 0], [0, 1]])\n",
    "binary_class"
   ]
  },
  {
   "cell_type": "code",
   "execution_count": 95,
   "metadata": {},
   "outputs": [],
   "source": [
    "class_labels = tetra_class"
   ]
  },
  {
   "cell_type": "code",
   "execution_count": 96,
   "metadata": {},
   "outputs": [
    {
     "data": {
      "text/plain": [
       "tensor(1., requires_grad=True)"
      ]
     },
     "execution_count": 96,
     "metadata": {},
     "output_type": "execute_result"
    }
   ],
   "source": [
    "class_labels[0][0]"
   ]
  },
  {
   "cell_type": "code",
   "execution_count": 97,
   "metadata": {
    "executionInfo": {
     "elapsed": 806,
     "status": "ok",
     "timestamp": 1610047168726,
     "user": {
      "displayName": "Eraraya Ricardo Muten",
      "photoUrl": "https://lh3.googleusercontent.com/a-/AOh14Ggpw7xw-lyk6u6l92QjpI7MlI7qjJuuciCpwrUd=s64",
      "userId": "03770692095188133952"
     },
     "user_tz": -420
    },
    "id": "QYa3gYG7GutO"
   },
   "outputs": [],
   "source": [
    "dm_labels = [density_matrix(s) for s in state_labels]\n",
    "\n",
    "def cost(params, x, y, state_labels=None):\n",
    "    \"\"\"Cost function to be minimized.\n",
    "\n",
    "    Args:\n",
    "        params (array[float]): array of parameters\n",
    "        x (array[float]): 2-d array of input vectors\n",
    "        y (array[float]): 1-d array of targets\n",
    "        state_labels (array[float]): array of state representations for labels\n",
    "\n",
    "    Returns:\n",
    "        float: loss value to be minimized\n",
    "    \"\"\"\n",
    "    # Compute prediction for each input in data batch\n",
    "    loss = 0.0\n",
    "    for i in range(len(x)):\n",
    "        f = qcircuit(params, x=x[i], y=dm_labels[y[i]])\n",
    "        loss = loss + (1 - f) ** 2\n",
    "    return loss / len(x)\n",
    "\n",
    "\n",
    "#     loss = 0.0\n",
    "#     for i in range(len(x)):\n",
    "#         f = 0.0\n",
    "#         for j in range(len(dm_labels)):\n",
    "#             f += (qcircuit(params, x=x[i], y=dm_labels[j]) - class_labels[y[i]][j])**2\n",
    "#         loss = loss + f\n",
    "#     return loss / len(x)"
   ]
  },
  {
   "cell_type": "code",
   "execution_count": 98,
   "metadata": {
    "executionInfo": {
     "elapsed": 858,
     "status": "ok",
     "timestamp": 1610047169730,
     "user": {
      "displayName": "Eraraya Ricardo Muten",
      "photoUrl": "https://lh3.googleusercontent.com/a-/AOh14Ggpw7xw-lyk6u6l92QjpI7MlI7qjJuuciCpwrUd=s64",
      "userId": "03770692095188133952"
     },
     "user_tz": -420
    },
    "id": "yM-CaUveGyA1"
   },
   "outputs": [],
   "source": [
    "def test(params, x, y, state_labels=None):\n",
    "    \"\"\"\n",
    "    Tests on a given set of data.\n",
    "\n",
    "    Args:\n",
    "        params (array[float]): array of parameters\n",
    "        x (array[float]): 2-d array of input vectors\n",
    "        y (array[float]): 1-d array of targets\n",
    "        state_labels (array[float]): 1-d array of state representations for labels\n",
    "\n",
    "    Returns:\n",
    "        predicted (array([int]): predicted labels for test data\n",
    "        output_states (array[float]): output quantum states from the circuit\n",
    "    \"\"\"\n",
    "    fidelity_values = []\n",
    "    dm_labels = [density_matrix(s) for s in state_labels]\n",
    "    predicted = []\n",
    "\n",
    "    for i in range(len(x)):\n",
    "        fidel_function = lambda y: qcircuit(params, x=x[i], y=y)\n",
    "        fidelities = [fidel_function(dm) for dm in dm_labels]\n",
    "        best_fidel = np.argmax(fidelities)\n",
    "\n",
    "        predicted.append(best_fidel)\n",
    "        fidelity_values.append(fidelities)\n",
    "\n",
    "    return np.array(predicted), np.array(fidelity_values)\n",
    "\n",
    "\n",
    "def accuracy_score(y_true, y_pred):\n",
    "    \"\"\"Accuracy score.\n",
    "\n",
    "    Args:\n",
    "        y_true (array[float]): 1-d array of targets\n",
    "        y_predicted (array[float]): 1-d array of predictions\n",
    "        state_labels (array[float]): 1-d array of state representations for labels\n",
    "\n",
    "    Returns:\n",
    "        score (float): the fraction of correctly classified samples\n",
    "    \"\"\"\n",
    "    score = y_true == y_pred\n",
    "    return score.sum() / len(y_true)\n",
    "\n",
    "\n",
    "def iterate_minibatches(inputs, targets, batch_size):\n",
    "    \"\"\"\n",
    "    A generator for batches of the input data\n",
    "\n",
    "    Args:\n",
    "        inputs (array[float]): input data\n",
    "        targets (array[float]): targets\n",
    "\n",
    "    Returns:\n",
    "        inputs (array[float]): one batch of input data of length `batch_size`\n",
    "        targets (array[float]): one batch of targets of length `batch_size`\n",
    "    \"\"\"\n",
    "    for start_idx in range(0, inputs.shape[0] - batch_size + 1, batch_size):\n",
    "        idxs = slice(start_idx, start_idx + batch_size)\n",
    "        yield inputs[idxs], targets[idxs]"
   ]
  },
  {
   "cell_type": "code",
   "execution_count": 99,
   "metadata": {
    "colab": {
     "base_uri": "https://localhost:8080/"
    },
    "executionInfo": {
     "elapsed": 4507308,
     "status": "ok",
     "timestamp": 1610053150318,
     "user": {
      "displayName": "Eraraya Ricardo Muten",
      "photoUrl": "https://lh3.googleusercontent.com/a-/AOh14Ggpw7xw-lyk6u6l92QjpI7MlI7qjJuuciCpwrUd=s64",
      "userId": "03770692095188133952"
     },
     "user_tz": -420
    },
    "id": "qAu_LcynG3i5",
    "outputId": "77d56630-b64e-4ba2-e206-915830f5d4a4"
   },
   "outputs": [
    {
     "name": "stdout",
     "output_type": "stream",
     "text": [
      "Epoch:  0 | Loss: 0.283926 | Train accuracy: 0.241667 | Test Accuracy: 0.226667\n"
     ]
    },
    {
     "name": "stderr",
     "output_type": "stream",
     "text": [
      "/home/ta/.local/lib/python3.8/site-packages/pennylane/tape/tapes/jacobian_tape.py:461: VisibleDeprecationWarning: Creating an ndarray from ragged nested sequences (which is a list-or-tuple of lists-or-tuples-or ndarrays with different lengths or shapes) is deprecated. If you meant to do this, you must specify 'dtype=object' when creating the ndarray\n",
      "  params = np.array(params)\n"
     ]
    },
    {
     "name": "stdout",
     "output_type": "stream",
     "text": [
      "Epoch:  1 | Loss: 0.345634 | Train accuracy: 0.100833 | Test accuracy: 0.190000\n",
      "Epoch:  2 | Loss: 0.396967 | Train accuracy: 0.167500 | Test accuracy: 0.173333\n",
      "Epoch:  3 | Loss: 0.393309 | Train accuracy: 0.174167 | Test accuracy: 0.196667\n",
      "Epoch:  4 | Loss: 0.381670 | Train accuracy: 0.186667 | Test accuracy: 0.233333\n",
      "Epoch:  5 | Loss: 0.371633 | Train accuracy: 0.160833 | Test accuracy: 0.186667\n",
      "Epoch:  6 | Loss: 0.320594 | Train accuracy: 0.080000 | Test accuracy: 0.146667\n",
      "Epoch:  7 | Loss: 0.351127 | Train accuracy: 0.122500 | Test accuracy: 0.143333\n",
      "Epoch:  8 | Loss: 0.298264 | Train accuracy: 0.367500 | Test accuracy: 0.370000\n",
      "Epoch:  9 | Loss: 0.266070 | Train accuracy: 0.277500 | Test accuracy: 0.290000\n",
      "Epoch: 10 | Loss: 0.346079 | Train accuracy: 0.276667 | Test accuracy: 0.296667\n",
      "Epoch: 11 | Loss: 0.395912 | Train accuracy: 0.177500 | Test accuracy: 0.213333\n",
      "Epoch: 12 | Loss: 0.354622 | Train accuracy: 0.161667 | Test accuracy: 0.236667\n",
      "Epoch: 13 | Loss: 0.379877 | Train accuracy: 0.130833 | Test accuracy: 0.243333\n",
      "Epoch: 14 | Loss: 0.228647 | Train accuracy: 0.351667 | Test accuracy: 0.290000\n",
      "Epoch: 15 | Loss: 0.376985 | Train accuracy: 0.080833 | Test accuracy: 0.133333\n",
      "Epoch: 16 | Loss: 0.314892 | Train accuracy: 0.295000 | Test accuracy: 0.300000\n",
      "Epoch: 17 | Loss: 0.364257 | Train accuracy: 0.202500 | Test accuracy: 0.233333\n",
      "Epoch: 18 | Loss: 0.354392 | Train accuracy: 0.190833 | Test accuracy: 0.230000\n",
      "Epoch: 19 | Loss: 0.465245 | Train accuracy: 0.160833 | Test accuracy: 0.200000\n",
      "Epoch: 20 | Loss: 0.261325 | Train accuracy: 0.287500 | Test accuracy: 0.316667\n",
      "Epoch: 21 | Loss: 0.427037 | Train accuracy: 0.134167 | Test accuracy: 0.193333\n",
      "Epoch: 22 | Loss: 0.369519 | Train accuracy: 0.274167 | Test accuracy: 0.283333\n",
      "Epoch: 23 | Loss: 0.321784 | Train accuracy: 0.249167 | Test accuracy: 0.246667\n",
      "Epoch: 24 | Loss: 0.313922 | Train accuracy: 0.108333 | Test accuracy: 0.170000\n",
      "Epoch: 25 | Loss: 0.316842 | Train accuracy: 0.220833 | Test accuracy: 0.260000\n",
      "Epoch: 26 | Loss: 0.325274 | Train accuracy: 0.255833 | Test accuracy: 0.290000\n",
      "Epoch: 27 | Loss: 0.260589 | Train accuracy: 0.435000 | Test accuracy: 0.483333\n",
      "Epoch: 28 | Loss: 0.383701 | Train accuracy: 0.326667 | Test accuracy: 0.260000\n",
      "Epoch: 29 | Loss: 0.437172 | Train accuracy: 0.236667 | Test accuracy: 0.196667\n",
      "Epoch: 30 | Loss: 0.291236 | Train accuracy: 0.270833 | Test accuracy: 0.353333\n",
      "Epoch: 31 | Loss: 0.288302 | Train accuracy: 0.288333 | Test accuracy: 0.260000\n",
      "Epoch: 32 | Loss: 0.211954 | Train accuracy: 0.432500 | Test accuracy: 0.446667\n",
      "Epoch: 33 | Loss: 0.338696 | Train accuracy: 0.198333 | Test accuracy: 0.283333\n",
      "Epoch: 34 | Loss: 0.265560 | Train accuracy: 0.417500 | Test accuracy: 0.376667\n",
      "Epoch: 35 | Loss: 0.459767 | Train accuracy: 0.120000 | Test accuracy: 0.100000\n",
      "Epoch: 36 | Loss: 0.257921 | Train accuracy: 0.205833 | Test accuracy: 0.323333\n",
      "Epoch: 37 | Loss: 0.281818 | Train accuracy: 0.250000 | Test accuracy: 0.250000\n",
      "Epoch: 38 | Loss: 0.308844 | Train accuracy: 0.244167 | Test accuracy: 0.246667\n",
      "Epoch: 39 | Loss: 0.391663 | Train accuracy: 0.226667 | Test accuracy: 0.250000\n",
      "Epoch: 40 | Loss: 0.330419 | Train accuracy: 0.290000 | Test accuracy: 0.246667\n",
      "Epoch: 41 | Loss: 0.351211 | Train accuracy: 0.247500 | Test accuracy: 0.263333\n",
      "Epoch: 42 | Loss: 0.376434 | Train accuracy: 0.243333 | Test accuracy: 0.270000\n",
      "Epoch: 43 | Loss: 0.334774 | Train accuracy: 0.270833 | Test accuracy: 0.276667\n",
      "Epoch: 44 | Loss: 0.424150 | Train accuracy: 0.200000 | Test accuracy: 0.206667\n",
      "Epoch: 45 | Loss: 0.388929 | Train accuracy: 0.166667 | Test accuracy: 0.213333\n",
      "Epoch: 46 | Loss: 0.293860 | Train accuracy: 0.347500 | Test accuracy: 0.386667\n",
      "Epoch: 47 | Loss: 0.335152 | Train accuracy: 0.231667 | Test accuracy: 0.190000\n",
      "Epoch: 48 | Loss: 0.407488 | Train accuracy: 0.241667 | Test accuracy: 0.226667\n",
      "Epoch: 49 | Loss: 0.364213 | Train accuracy: 0.293333 | Test accuracy: 0.270000\n",
      "Epoch: 50 | Loss: 0.316033 | Train accuracy: 0.225833 | Test accuracy: 0.233333\n",
      "Epoch: 51 | Loss: 0.448495 | Train accuracy: 0.102500 | Test accuracy: 0.156667\n",
      "Epoch: 52 | Loss: 0.360836 | Train accuracy: 0.195833 | Test accuracy: 0.193333\n",
      "Epoch: 53 | Loss: 0.261832 | Train accuracy: 0.268333 | Test accuracy: 0.270000\n",
      "Epoch: 54 | Loss: 0.296742 | Train accuracy: 0.342500 | Test accuracy: 0.356667\n",
      "Epoch: 55 | Loss: 0.344435 | Train accuracy: 0.187500 | Test accuracy: 0.210000\n",
      "Epoch: 56 | Loss: 0.249790 | Train accuracy: 0.222500 | Test accuracy: 0.333333\n",
      "Epoch: 57 | Loss: 0.466581 | Train accuracy: 0.257500 | Test accuracy: 0.253333\n",
      "Epoch: 58 | Loss: 0.372577 | Train accuracy: 0.182500 | Test accuracy: 0.130000\n",
      "Epoch: 59 | Loss: 0.315882 | Train accuracy: 0.183333 | Test accuracy: 0.263333\n",
      "Epoch: 60 | Loss: 0.256997 | Train accuracy: 0.218333 | Test accuracy: 0.250000\n",
      "Epoch: 61 | Loss: 0.473019 | Train accuracy: 0.158333 | Test accuracy: 0.120000\n",
      "Epoch: 62 | Loss: 0.487660 | Train accuracy: 0.252500 | Test accuracy: 0.290000\n",
      "Epoch: 63 | Loss: 0.320172 | Train accuracy: 0.248333 | Test accuracy: 0.290000\n",
      "Epoch: 64 | Loss: 0.363338 | Train accuracy: 0.232500 | Test accuracy: 0.230000\n",
      "Epoch: 65 | Loss: 0.323165 | Train accuracy: 0.287500 | Test accuracy: 0.296667\n",
      "Epoch: 66 | Loss: 0.310283 | Train accuracy: 0.283333 | Test accuracy: 0.226667\n",
      "Epoch: 67 | Loss: 0.328008 | Train accuracy: 0.284167 | Test accuracy: 0.300000\n",
      "Epoch: 68 | Loss: 0.328532 | Train accuracy: 0.298333 | Test accuracy: 0.203333\n",
      "Epoch: 69 | Loss: 0.266794 | Train accuracy: 0.320833 | Test accuracy: 0.370000\n",
      "Epoch: 70 | Loss: 0.343426 | Train accuracy: 0.245000 | Test accuracy: 0.296667\n",
      "Epoch: 71 | Loss: 0.329073 | Train accuracy: 0.275000 | Test accuracy: 0.193333\n",
      "Epoch: 72 | Loss: 0.300621 | Train accuracy: 0.245833 | Test accuracy: 0.263333\n",
      "Epoch: 73 | Loss: 0.265721 | Train accuracy: 0.327500 | Test accuracy: 0.380000\n",
      "Epoch: 74 | Loss: 0.320022 | Train accuracy: 0.245833 | Test accuracy: 0.213333\n",
      "Epoch: 75 | Loss: 0.292794 | Train accuracy: 0.296667 | Test accuracy: 0.200000\n",
      "Epoch: 76 | Loss: 0.273518 | Train accuracy: 0.335833 | Test accuracy: 0.243333\n",
      "Epoch: 77 | Loss: 0.296078 | Train accuracy: 0.308333 | Test accuracy: 0.226667\n",
      "Epoch: 78 | Loss: 0.247223 | Train accuracy: 0.360833 | Test accuracy: 0.323333\n",
      "Epoch: 79 | Loss: 0.334305 | Train accuracy: 0.229167 | Test accuracy: 0.263333\n",
      "Epoch: 80 | Loss: 0.256359 | Train accuracy: 0.319167 | Test accuracy: 0.290000\n",
      "Epoch: 81 | Loss: 0.234916 | Train accuracy: 0.338333 | Test accuracy: 0.363333\n",
      "Epoch: 82 | Loss: 0.188265 | Train accuracy: 0.485000 | Test accuracy: 0.370000\n",
      "Epoch: 83 | Loss: 0.275264 | Train accuracy: 0.326667 | Test accuracy: 0.316667\n",
      "Epoch: 84 | Loss: 0.298263 | Train accuracy: 0.282500 | Test accuracy: 0.293333\n",
      "Epoch: 85 | Loss: 0.278623 | Train accuracy: 0.274167 | Test accuracy: 0.253333\n",
      "Epoch: 86 | Loss: 0.390832 | Train accuracy: 0.189167 | Test accuracy: 0.223333\n",
      "Epoch: 87 | Loss: 0.319046 | Train accuracy: 0.277500 | Test accuracy: 0.233333\n",
      "Epoch: 88 | Loss: 0.284770 | Train accuracy: 0.293333 | Test accuracy: 0.236667\n",
      "Epoch: 89 | Loss: 0.313795 | Train accuracy: 0.266667 | Test accuracy: 0.276667\n",
      "Epoch: 90 | Loss: 0.316614 | Train accuracy: 0.262500 | Test accuracy: 0.223333\n",
      "Epoch: 91 | Loss: 0.319043 | Train accuracy: 0.279167 | Test accuracy: 0.276667\n",
      "Epoch: 92 | Loss: 0.325354 | Train accuracy: 0.275000 | Test accuracy: 0.176667\n",
      "Epoch: 93 | Loss: 0.318090 | Train accuracy: 0.241667 | Test accuracy: 0.253333\n",
      "Epoch: 94 | Loss: 0.295802 | Train accuracy: 0.289167 | Test accuracy: 0.240000\n",
      "Epoch: 95 | Loss: 0.366155 | Train accuracy: 0.214167 | Test accuracy: 0.166667\n",
      "Epoch: 96 | Loss: 0.285551 | Train accuracy: 0.295000 | Test accuracy: 0.253333\n",
      "Epoch: 97 | Loss: 0.248568 | Train accuracy: 0.340833 | Test accuracy: 0.313333\n",
      "Epoch: 98 | Loss: 0.229247 | Train accuracy: 0.380000 | Test accuracy: 0.283333\n",
      "Epoch: 99 | Loss: 0.361936 | Train accuracy: 0.190833 | Test accuracy: 0.200000\n",
      "Epoch: 100 | Loss: 0.291227 | Train accuracy: 0.275833 | Test accuracy: 0.220000\n"
     ]
    }
   ],
   "source": [
    "# Train using Adam optimizer and evaluate the classifier\n",
    "num_layers = 2\n",
    "learning_rate = 0.1\n",
    "epochs = 100\n",
    "batch_size = 32\n",
    "\n",
    "opt = AdamOptimizer(learning_rate)\n",
    "\n",
    "# initialize random weights\n",
    "theta = np.random.uniform(size=(num_layers, 18))\n",
    "w = np.random.uniform(size=(num_layers, 18))\n",
    "params = [w, theta]\n",
    "\n",
    "predicted_train, fidel_train = test(params, X_train, Y_train, state_labels)\n",
    "accuracy_train = accuracy_score(Y_train, predicted_train)\n",
    "\n",
    "predicted_test, fidel_test = test(params, X_test, Y_test, state_labels)\n",
    "accuracy_test = accuracy_score(Y_test, predicted_test)\n",
    "\n",
    "# save predictions with random weights for comparison\n",
    "initial_predictions = predicted_test\n",
    "\n",
    "loss = cost(params, X_test, Y_test, state_labels)\n",
    "\n",
    "print(\n",
    "    \"Epoch: {:2d} | Loss: {:3f} | Train accuracy: {:3f} | Test Accuracy: {:3f}\".format(\n",
    "        0, loss, accuracy_train, accuracy_test\n",
    "    )\n",
    ")\n",
    "\n",
    "for it in range(epochs):\n",
    "    for Xbatch, ybatch in iterate_minibatches(X_train, Y_train, batch_size=batch_size):\n",
    "        params = opt.step(lambda v: cost(v, Xbatch, ybatch, state_labels), params)\n",
    "\n",
    "    predicted_train, fidel_train = test(params, X_train, Y_train, state_labels)\n",
    "    accuracy_train = accuracy_score(Y_train, predicted_train)\n",
    "    loss = cost(params, X_train, Y_train, state_labels)\n",
    "\n",
    "    predicted_test, fidel_test = test(params, X_test, Y_test, state_labels)\n",
    "    accuracy_test = accuracy_score(Y_test, predicted_test)\n",
    "    res = [it + 1, loss, accuracy_train, accuracy_test]\n",
    "    print(\n",
    "        \"Epoch: {:2d} | Loss: {:3f} | Train accuracy: {:3f} | Test accuracy: {:3f}\".format(\n",
    "            *res\n",
    "        )\n",
    "    )"
   ]
  },
  {
   "cell_type": "code",
   "execution_count": null,
   "metadata": {
    "id": "epPDK5i9hOGH"
   },
   "outputs": [],
   "source": []
  },
  {
   "cell_type": "code",
   "execution_count": null,
   "metadata": {
    "id": "u1ozqS33W66k"
   },
   "outputs": [],
   "source": []
  },
  {
   "cell_type": "code",
   "execution_count": 146,
   "metadata": {
    "colab": {
     "base_uri": "https://localhost:8080/"
    },
    "executionInfo": {
     "elapsed": 832,
     "status": "ok",
     "timestamp": 1609947492893,
     "user": {
      "displayName": "Eraraya Ricardo Muten",
      "photoUrl": "https://lh3.googleusercontent.com/a-/AOh14Ggpw7xw-lyk6u6l92QjpI7MlI7qjJuuciCpwrUd=s64",
      "userId": "03770692095188133952"
     },
     "user_tz": -420
    },
    "id": "r4Aby1i9HgYi",
    "outputId": "675135a7-0eac-44f6-e20b-3a4f7455a4fc"
   },
   "outputs": [
    {
     "data": {
      "text/plain": [
       "Rot(tensor(0.49614069, requires_grad=True), tensor(-0.43716591, requires_grad=True), tensor(0.82577959, requires_grad=True), wires=[0])"
      ]
     },
     "execution_count": 146,
     "metadata": {
      "tags": []
     },
     "output_type": "execute_result"
    }
   ],
   "source": [
    "qml.Rot(*(params[0][0][0:3]*X_train[0, 0:3] + params[1][0][0:3]), wires=[0])"
   ]
  },
  {
   "cell_type": "code",
   "execution_count": 134,
   "metadata": {
    "colab": {
     "base_uri": "https://localhost:8080/"
    },
    "executionInfo": {
     "elapsed": 829,
     "status": "ok",
     "timestamp": 1609947206520,
     "user": {
      "displayName": "Eraraya Ricardo Muten",
      "photoUrl": "https://lh3.googleusercontent.com/a-/AOh14Ggpw7xw-lyk6u6l92QjpI7MlI7qjJuuciCpwrUd=s64",
      "userId": "03770692095188133952"
     },
     "user_tz": -420
    },
    "id": "HnYzweHeJqAe",
    "outputId": "b0cfcd45-3739-4f3a-e332-f7703d2e9218"
   },
   "outputs": [
    {
     "data": {
      "text/plain": [
       "tensor([0.37454012, 0.95071431, 0.73199394], requires_grad=True)"
      ]
     },
     "execution_count": 134,
     "metadata": {
      "tags": []
     },
     "output_type": "execute_result"
    }
   ],
   "source": [
    "params[1][0][0:3]"
   ]
  },
  {
   "cell_type": "code",
   "execution_count": null,
   "metadata": {
    "id": "YE2m-zLeNVWD"
   },
   "outputs": [],
   "source": []
  }
 ],
 "metadata": {
  "colab": {
   "authorship_tag": "ABX9TyNNN7AuWgekOgocJ/DE5q9Z",
   "collapsed_sections": [],
   "name": "DRC MNIST 2 Class.ipynb",
   "provenance": []
  },
  "kernelspec": {
   "display_name": "Python 3",
   "language": "python",
   "name": "python3"
  },
  "language_info": {
   "codemirror_mode": {
    "name": "ipython",
    "version": 3
   },
   "file_extension": ".py",
   "mimetype": "text/x-python",
   "name": "python",
   "nbconvert_exporter": "python",
   "pygments_lexer": "ipython3",
   "version": "3.8.6"
  }
 },
 "nbformat": 4,
 "nbformat_minor": 1
}
