{
 "cells": [
  {
   "cell_type": "code",
   "execution_count": 23,
   "metadata": {
    "colab": {
     "base_uri": "https://localhost:8080/"
    },
    "executionInfo": {
     "elapsed": 18659,
     "status": "ok",
     "timestamp": 1610382574744,
     "user": {
      "displayName": "Eraraya Ricardo Muten",
      "photoUrl": "https://lh3.googleusercontent.com/a-/AOh14Ggpw7xw-lyk6u6l92QjpI7MlI7qjJuuciCpwrUd=s64",
      "userId": "03770692095188133952"
     },
     "user_tz": -420
    },
    "id": "e4abR9zSaWNk",
    "outputId": "0c32d57f-a411-4648-8144-7db8ae862454"
   },
   "outputs": [
    {
     "name": "stdout",
     "output_type": "stream",
     "text": [
      "/content/drive\n",
      "Mounted at /content/drive\n"
     ]
    }
   ],
   "source": [
    "# Mount Google Drive\n",
    "from google.colab import drive # import drive from google colab\n",
    " \n",
    "ROOT = \"/content/drive\"     # default location for the drive\n",
    "print(ROOT)                 # print content of ROOT (Optional)\n",
    " \n",
    "drive.mount(ROOT)           # we mount the google drive at /content/drive"
   ]
  },
  {
   "cell_type": "code",
   "execution_count": 33,
   "metadata": {
    "colab": {
     "base_uri": "https://localhost:8080/"
    },
    "executionInfo": {
     "elapsed": 1573,
     "status": "ok",
     "timestamp": 1610382829592,
     "user": {
      "displayName": "Eraraya Ricardo Muten",
      "photoUrl": "https://lh3.googleusercontent.com/a-/AOh14Ggpw7xw-lyk6u6l92QjpI7MlI7qjJuuciCpwrUd=s64",
      "userId": "03770692095188133952"
     },
     "user_tz": -420
    },
    "id": "rYQ5KUgrSClH",
    "outputId": "a4f91034-cf58-4cbc-bd3b-9a68557f9591"
   },
   "outputs": [
    {
     "name": "stdout",
     "output_type": "stream",
     "text": [
      "/content/drive/My Drive/Projects/quantum_image_classifier/PennyLane/Data Reuploading Classifier\n"
     ]
    }
   ],
   "source": [
    "%cd \"/content/drive/My Drive/Projects/quantum_image_classifier/PennyLane/Data Reuploading Classifier\""
   ]
  },
  {
   "cell_type": "code",
   "execution_count": 1,
   "metadata": {
    "executionInfo": {
     "elapsed": 5512,
     "status": "ok",
     "timestamp": 1610357980284,
     "user": {
      "displayName": "Eraraya Ricardo Muten",
      "photoUrl": "https://lh3.googleusercontent.com/a-/AOh14Ggpw7xw-lyk6u6l92QjpI7MlI7qjJuuciCpwrUd=s64",
      "userId": "03770692095188133952"
     },
     "user_tz": -420
    },
    "id": "gk5AKGKcYGOo"
   },
   "outputs": [],
   "source": [
    "!pip install pennylane\n",
    "from IPython.display import clear_output\n",
    "clear_output()"
   ]
  },
  {
   "cell_type": "code",
   "execution_count": null,
   "metadata": {
    "id": "GigSJusGbx1b"
   },
   "outputs": [],
   "source": [
    "import os\n",
    "\n",
    "def restart_runtime():\n",
    "  os.kill(os.getpid(), 9)\n",
    "restart_runtime()"
   ]
  },
  {
   "cell_type": "code",
   "execution_count": 44,
   "metadata": {
    "executionInfo": {
     "elapsed": 855,
     "status": "ok",
     "timestamp": 1610357982999,
     "user": {
      "displayName": "Eraraya Ricardo Muten",
      "photoUrl": "https://lh3.googleusercontent.com/a-/AOh14Ggpw7xw-lyk6u6l92QjpI7MlI7qjJuuciCpwrUd=s64",
      "userId": "03770692095188133952"
     },
     "user_tz": -420
    },
    "id": "HoLmJLkIX810"
   },
   "outputs": [],
   "source": [
    "# %matplotlib inline\n",
    "import matplotlib.pyplot as plt\n",
    "from mpl_toolkits.axes_grid1 import make_axes_locatable\n",
    "\n",
    "import numpy as np"
   ]
  },
  {
   "cell_type": "markdown",
   "metadata": {
    "id": "vZFNOwFXoY8N"
   },
   "source": [
    "# Loading Raw Data"
   ]
  },
  {
   "cell_type": "code",
   "execution_count": 45,
   "metadata": {
    "colab": {
     "base_uri": "https://localhost:8080/"
    },
    "executionInfo": {
     "elapsed": 3065,
     "status": "ok",
     "timestamp": 1610357986720,
     "user": {
      "displayName": "Eraraya Ricardo Muten",
      "photoUrl": "https://lh3.googleusercontent.com/a-/AOh14Ggpw7xw-lyk6u6l92QjpI7MlI7qjJuuciCpwrUd=s64",
      "userId": "03770692095188133952"
     },
     "user_tz": -420
    },
    "id": "IvdFsGCVof9g",
    "outputId": "57b0c866-93c0-45e7-a833-90119b85cf6c"
   },
   "outputs": [],
   "source": [
    "import tensorflow as tf\n",
    "\n",
    "(x_train, y_train), (x_test, y_test) = tf.keras.datasets.mnist.load_data()\n",
    "\n",
    "x_train = x_train[:, 0:27, 0:27]\n",
    "x_test = x_test[:, 0:27, 0:27]"
   ]
  },
  {
   "cell_type": "code",
   "execution_count": 46,
   "metadata": {
    "executionInfo": {
     "elapsed": 1254,
     "status": "ok",
     "timestamp": 1610357989363,
     "user": {
      "displayName": "Eraraya Ricardo Muten",
      "photoUrl": "https://lh3.googleusercontent.com/a-/AOh14Ggpw7xw-lyk6u6l92QjpI7MlI7qjJuuciCpwrUd=s64",
      "userId": "03770692095188133952"
     },
     "user_tz": -420
    },
    "id": "c6zvGFvIoxAN"
   },
   "outputs": [],
   "source": [
    "x_train_flatten = x_train.reshape(x_train.shape[0], x_train.shape[1]*x_train.shape[2])/255.0\n",
    "x_test_flatten = x_test.reshape(x_test.shape[0], x_test.shape[1]*x_test.shape[2])/255.0"
   ]
  },
  {
   "cell_type": "code",
   "execution_count": 47,
   "metadata": {
    "colab": {
     "base_uri": "https://localhost:8080/"
    },
    "executionInfo": {
     "elapsed": 996,
     "status": "ok",
     "timestamp": 1610357989364,
     "user": {
      "displayName": "Eraraya Ricardo Muten",
      "photoUrl": "https://lh3.googleusercontent.com/a-/AOh14Ggpw7xw-lyk6u6l92QjpI7MlI7qjJuuciCpwrUd=s64",
      "userId": "03770692095188133952"
     },
     "user_tz": -420
    },
    "id": "Rmj1dzaso00h",
    "outputId": "e6c46dd3-4962-4412-8c06-7ccc3a10679a"
   },
   "outputs": [
    {
     "name": "stdout",
     "output_type": "stream",
     "text": [
      "(60000, 729) (60000,)\n",
      "(10000, 729) (10000,)\n"
     ]
    }
   ],
   "source": [
    "print(x_train_flatten.shape, y_train.shape)\n",
    "print(x_test_flatten.shape, y_test.shape)"
   ]
  },
  {
   "cell_type": "code",
   "execution_count": 48,
   "metadata": {
    "colab": {
     "base_uri": "https://localhost:8080/"
    },
    "executionInfo": {
     "elapsed": 932,
     "status": "ok",
     "timestamp": 1610357989714,
     "user": {
      "displayName": "Eraraya Ricardo Muten",
      "photoUrl": "https://lh3.googleusercontent.com/a-/AOh14Ggpw7xw-lyk6u6l92QjpI7MlI7qjJuuciCpwrUd=s64",
      "userId": "03770692095188133952"
     },
     "user_tz": -420
    },
    "id": "d10VoIC6o5_I",
    "outputId": "0732b267-d0a4-47cd-c1b4-28acd63e5bf8"
   },
   "outputs": [
    {
     "name": "stdout",
     "output_type": "stream",
     "text": [
      "(5923, 729)\n",
      "(6742, 729)\n",
      "(5958, 729)\n",
      "(6131, 729)\n",
      "(5842, 729)\n",
      "(5421, 729)\n",
      "(5918, 729)\n",
      "(6265, 729)\n",
      "(5851, 729)\n",
      "(5949, 729)\n"
     ]
    }
   ],
   "source": [
    "x_train_0 = x_train_flatten[y_train == 0]\n",
    "x_train_1 = x_train_flatten[y_train == 1]\n",
    "x_train_2 = x_train_flatten[y_train == 2]\n",
    "x_train_3 = x_train_flatten[y_train == 3]\n",
    "x_train_4 = x_train_flatten[y_train == 4]\n",
    "x_train_5 = x_train_flatten[y_train == 5]\n",
    "x_train_6 = x_train_flatten[y_train == 6]\n",
    "x_train_7 = x_train_flatten[y_train == 7]\n",
    "x_train_8 = x_train_flatten[y_train == 8]\n",
    "x_train_9 = x_train_flatten[y_train == 9]\n",
    "\n",
    "x_train_list = [x_train_0, x_train_1, x_train_2, x_train_3, x_train_4, x_train_5, x_train_6, x_train_7, x_train_8, x_train_9]\n",
    "\n",
    "print(x_train_0.shape)\n",
    "print(x_train_1.shape)\n",
    "print(x_train_2.shape)\n",
    "print(x_train_3.shape)\n",
    "print(x_train_4.shape)\n",
    "print(x_train_5.shape)\n",
    "print(x_train_6.shape)\n",
    "print(x_train_7.shape)\n",
    "print(x_train_8.shape)\n",
    "print(x_train_9.shape)"
   ]
  },
  {
   "cell_type": "code",
   "execution_count": 49,
   "metadata": {
    "colab": {
     "base_uri": "https://localhost:8080/"
    },
    "executionInfo": {
     "elapsed": 932,
     "status": "ok",
     "timestamp": 1610357990859,
     "user": {
      "displayName": "Eraraya Ricardo Muten",
      "photoUrl": "https://lh3.googleusercontent.com/a-/AOh14Ggpw7xw-lyk6u6l92QjpI7MlI7qjJuuciCpwrUd=s64",
      "userId": "03770692095188133952"
     },
     "user_tz": -420
    },
    "id": "snFw4LqepFOl",
    "outputId": "6fa81d41-9174-4053-b2db-c4933edfcab8"
   },
   "outputs": [
    {
     "name": "stdout",
     "output_type": "stream",
     "text": [
      "(980, 729)\n",
      "(1135, 729)\n",
      "(1032, 729)\n",
      "(1010, 729)\n",
      "(982, 729)\n",
      "(892, 729)\n",
      "(958, 729)\n",
      "(1028, 729)\n",
      "(974, 729)\n",
      "(1009, 729)\n"
     ]
    }
   ],
   "source": [
    "x_test_0 = x_test_flatten[y_test == 0]\n",
    "x_test_1 = x_test_flatten[y_test == 1]\n",
    "x_test_2 = x_test_flatten[y_test == 2]\n",
    "x_test_3 = x_test_flatten[y_test == 3]\n",
    "x_test_4 = x_test_flatten[y_test == 4]\n",
    "x_test_5 = x_test_flatten[y_test == 5]\n",
    "x_test_6 = x_test_flatten[y_test == 6]\n",
    "x_test_7 = x_test_flatten[y_test == 7]\n",
    "x_test_8 = x_test_flatten[y_test == 8]\n",
    "x_test_9 = x_test_flatten[y_test == 9]\n",
    "\n",
    "x_test_list = [x_test_0, x_test_1, x_test_2, x_test_3, x_test_4, x_test_5, x_test_6, x_test_7, x_test_8, x_test_9]\n",
    "\n",
    "print(x_test_0.shape)\n",
    "print(x_test_1.shape)\n",
    "print(x_test_2.shape)\n",
    "print(x_test_3.shape)\n",
    "print(x_test_4.shape)\n",
    "print(x_test_5.shape)\n",
    "print(x_test_6.shape)\n",
    "print(x_test_7.shape)\n",
    "print(x_test_8.shape)\n",
    "print(x_test_9.shape)"
   ]
  },
  {
   "cell_type": "markdown",
   "metadata": {
    "id": "SAxUS6Lhp95g"
   },
   "source": [
    "# Selecting the dataset\n",
    "\n",
    "Output: X_train, Y_train, X_test, Y_test"
   ]
  },
  {
   "cell_type": "code",
   "execution_count": 50,
   "metadata": {
    "colab": {
     "base_uri": "https://localhost:8080/"
    },
    "executionInfo": {
     "elapsed": 832,
     "status": "ok",
     "timestamp": 1610357995835,
     "user": {
      "displayName": "Eraraya Ricardo Muten",
      "photoUrl": "https://lh3.googleusercontent.com/a-/AOh14Ggpw7xw-lyk6u6l92QjpI7MlI7qjJuuciCpwrUd=s64",
      "userId": "03770692095188133952"
     },
     "user_tz": -420
    },
    "id": "f--pX5Oto_XB",
    "outputId": "3a0814dc-fa71-4a5b-cc07-701a022af134"
   },
   "outputs": [
    {
     "data": {
      "text/plain": [
       "((400, 729), (400,))"
      ]
     },
     "execution_count": 50,
     "metadata": {},
     "output_type": "execute_result"
    }
   ],
   "source": [
    "X_train = np.concatenate((x_train_list[0][:200, :], x_train_list[1][:200, :]), axis=0)\n",
    "Y_train = np.zeros((X_train.shape[0],), dtype=int)\n",
    "Y_train[200:] += 1\n",
    "\n",
    "X_train.shape, Y_train.shape"
   ]
  },
  {
   "cell_type": "code",
   "execution_count": 51,
   "metadata": {
    "colab": {
     "base_uri": "https://localhost:8080/"
    },
    "executionInfo": {
     "elapsed": 573,
     "status": "ok",
     "timestamp": 1610357996969,
     "user": {
      "displayName": "Eraraya Ricardo Muten",
      "photoUrl": "https://lh3.googleusercontent.com/a-/AOh14Ggpw7xw-lyk6u6l92QjpI7MlI7qjJuuciCpwrUd=s64",
      "userId": "03770692095188133952"
     },
     "user_tz": -420
    },
    "id": "W_SHH9e3rqwG",
    "outputId": "4f626106-a04f-4f44-d1f9-591c0fd1c96c"
   },
   "outputs": [
    {
     "data": {
      "text/plain": [
       "((1000, 729), (1000,))"
      ]
     },
     "execution_count": 51,
     "metadata": {},
     "output_type": "execute_result"
    }
   ],
   "source": [
    "X_test = np.concatenate((x_test_list[0][:500, :], x_test_list[1][:500, :]), axis=0)\n",
    "Y_test = np.zeros((X_test.shape[0],), dtype=int)\n",
    "Y_test[500:] += 1\n",
    "\n",
    "X_test.shape, Y_test.shape"
   ]
  },
  {
   "cell_type": "markdown",
   "metadata": {
    "id": "LrebzTO1z-or"
   },
   "source": [
    "# Dataset Preprocessing"
   ]
  },
  {
   "cell_type": "code",
   "execution_count": 52,
   "metadata": {
    "colab": {
     "base_uri": "https://localhost:8080/"
    },
    "executionInfo": {
     "elapsed": 788,
     "status": "ok",
     "timestamp": 1610358000137,
     "user": {
      "displayName": "Eraraya Ricardo Muten",
      "photoUrl": "https://lh3.googleusercontent.com/a-/AOh14Ggpw7xw-lyk6u6l92QjpI7MlI7qjJuuciCpwrUd=s64",
      "userId": "03770692095188133952"
     },
     "user_tz": -420
    },
    "id": "tpIJBmVAz-os",
    "outputId": "066f3c86-cdcf-48f7-cfe7-b4e203f6a139"
   },
   "outputs": [
    {
     "data": {
      "text/plain": [
       "((400, 27, 27), (1000, 27, 27))"
      ]
     },
     "execution_count": 52,
     "metadata": {},
     "output_type": "execute_result"
    }
   ],
   "source": [
    "X_train = X_train.reshape(X_train.shape[0], 27, 27)\n",
    "X_test = X_test.reshape(X_test.shape[0], 27, 27)\n",
    "\n",
    "X_train.shape, X_test.shape"
   ]
  },
  {
   "cell_type": "markdown",
   "metadata": {
    "id": "ockEle2Ez-os"
   },
   "source": [
    "# Quantum"
   ]
  },
  {
   "cell_type": "code",
   "execution_count": 53,
   "metadata": {
    "executionInfo": {
     "elapsed": 4679,
     "status": "ok",
     "timestamp": 1610358007092,
     "user": {
      "displayName": "Eraraya Ricardo Muten",
      "photoUrl": "https://lh3.googleusercontent.com/a-/AOh14Ggpw7xw-lyk6u6l92QjpI7MlI7qjJuuciCpwrUd=s64",
      "userId": "03770692095188133952"
     },
     "user_tz": -420
    },
    "id": "jP9aoKRGz-os"
   },
   "outputs": [],
   "source": [
    "import pennylane as qml\n",
    "from pennylane import numpy as np\n",
    "from pennylane.optimize import AdamOptimizer, GradientDescentOptimizer\n",
    "\n",
    "qml.enable_tape()\n",
    "\n",
    "from tensorflow.keras.utils import to_categorical\n",
    "\n",
    "# Set a random seed\n",
    "np.random.seed(2020)"
   ]
  },
  {
   "cell_type": "code",
   "execution_count": 54,
   "metadata": {
    "executionInfo": {
     "elapsed": 826,
     "status": "ok",
     "timestamp": 1610358054620,
     "user": {
      "displayName": "Eraraya Ricardo Muten",
      "photoUrl": "https://lh3.googleusercontent.com/a-/AOh14Ggpw7xw-lyk6u6l92QjpI7MlI7qjJuuciCpwrUd=s64",
      "userId": "03770692095188133952"
     },
     "user_tz": -420
    },
    "id": "BFo9kVhAz-ot"
   },
   "outputs": [],
   "source": [
    "# Define output labels as quantum state vectors\n",
    "def density_matrix(state):\n",
    "    \"\"\"Calculates the density matrix representation of a state.\n",
    "\n",
    "    Args:\n",
    "        state (array[complex]): array representing a quantum state vector\n",
    "\n",
    "    Returns:\n",
    "        dm: (array[complex]): array representing the density matrix\n",
    "    \"\"\"\n",
    "    return state * np.conj(state).T\n",
    "\n",
    "\n",
    "label_0 = [[1], [0]]\n",
    "label_1 = [[0], [1]]\n",
    "state_labels = [label_0, label_1]"
   ]
  },
  {
   "cell_type": "code",
   "execution_count": 55,
   "metadata": {
    "executionInfo": {
     "elapsed": 975,
     "status": "ok",
     "timestamp": 1610358057231,
     "user": {
      "displayName": "Eraraya Ricardo Muten",
      "photoUrl": "https://lh3.googleusercontent.com/a-/AOh14Ggpw7xw-lyk6u6l92QjpI7MlI7qjJuuciCpwrUd=s64",
      "userId": "03770692095188133952"
     },
     "user_tz": -420
    },
    "id": "fYmu1Jchz-ot"
   },
   "outputs": [],
   "source": [
    "n_qubits = 2  # number of class\n",
    "dev_fc = qml.device(\"default.qubit\", wires=n_qubits)\n",
    "\n",
    "\n",
    "@qml.qnode(dev_fc)\n",
    "def q_fc(params, inputs):\n",
    "    \"\"\"A variational quantum circuit representing the DRC.\n",
    "\n",
    "    Args:\n",
    "        params (array[float]): array of parameters\n",
    "        inputs = [x, y]\n",
    "        x (array[float]): 1-d input vector\n",
    "        y (array[float]): single output state density matrix\n",
    "\n",
    "    Returns:\n",
    "        float: fidelity between output state and input\n",
    "    \"\"\"\n",
    "    \n",
    "    # layer iteration\n",
    "    for l in range(len(params[0])):\n",
    "        # qubit iteration\n",
    "        for q in range(n_qubits):\n",
    "            # gate iteration\n",
    "            for g in range(int(len(inputs)/3)):\n",
    "                qml.Rot(*(params[0][l][3*g:3*(g+1)] * inputs[3*g:3*(g+1)] + params[1][l][3*g:3*(g+1)]), wires=q)\n",
    "    \n",
    "    return [qml.expval(qml.Hermitian(density_matrix(state_labels[i]), wires=[i])) for i in range(n_qubits)]\n"
   ]
  },
  {
   "cell_type": "code",
   "execution_count": 56,
   "metadata": {
    "executionInfo": {
     "elapsed": 859,
     "status": "ok",
     "timestamp": 1610358059994,
     "user": {
      "displayName": "Eraraya Ricardo Muten",
      "photoUrl": "https://lh3.googleusercontent.com/a-/AOh14Ggpw7xw-lyk6u6l92QjpI7MlI7qjJuuciCpwrUd=s64",
      "userId": "03770692095188133952"
     },
     "user_tz": -420
    },
    "id": "UNYRb5MCz-ot"
   },
   "outputs": [],
   "source": [
    "dev_conv = qml.device(\"default.qubit\", wires=9)\n",
    "\n",
    "\n",
    "@qml.qnode(dev_conv)\n",
    "def q_conv(conv_params, inputs):\n",
    "    \"\"\"A variational quantum circuit representing the Universal classifier + Conv.\n",
    "\n",
    "    Args:\n",
    "        params (array[float]): array of parameters\n",
    "        x (array[float]): 2-d input vector\n",
    "        y (array[float]): single output state density matrix\n",
    "\n",
    "    Returns:\n",
    "        float: fidelity between output state and input\n",
    "    \"\"\"\n",
    "    # layer iteration\n",
    "    for l in range(len(conv_params[0])):\n",
    "        # RY layer\n",
    "        # height iteration\n",
    "        for i in range(3):\n",
    "            # width iteration\n",
    "            for j in range(3):\n",
    "                qml.RY((conv_params[0][l][3*i+j] * inputs[i, j] + conv_params[1][l][3*i+j]), wires=(3*i+j))\n",
    "\n",
    "        # entangling layer\n",
    "        for i in range(9):\n",
    "            if i != (9-1):\n",
    "                qml.CNOT(wires=[i, i+1])\n",
    "                \n",
    "    return qml.expval(qml.PauliZ(0) @ qml.PauliZ(1) @ qml.PauliZ(2) @ qml.PauliZ(3) @ qml.PauliZ(4) @ qml.PauliZ(5) @ qml.PauliZ(6) @ qml.PauliZ(7) @ qml.PauliZ(8))"
   ]
  },
  {
   "cell_type": "code",
   "execution_count": 57,
   "metadata": {},
   "outputs": [
    {
     "data": {
      "text/plain": [
       "tensor(1., requires_grad=True)"
      ]
     },
     "execution_count": 57,
     "metadata": {},
     "output_type": "execute_result"
    }
   ],
   "source": [
    "a = np.zeros((2, 1, 9))\n",
    "q_conv(a, X_train[0, 0:3, 0:3])"
   ]
  },
  {
   "cell_type": "code",
   "execution_count": 58,
   "metadata": {},
   "outputs": [
    {
     "data": {
      "text/plain": [
       "tensor([1., 0.], requires_grad=True)"
      ]
     },
     "execution_count": 58,
     "metadata": {},
     "output_type": "execute_result"
    }
   ],
   "source": [
    "a = np.zeros((2, 1, 9))\n",
    "q_fc(a, X_train[0, 0, 0:9])"
   ]
  },
  {
   "cell_type": "code",
   "execution_count": 59,
   "metadata": {
    "executionInfo": {
     "elapsed": 811,
     "status": "ok",
     "timestamp": 1610358062091,
     "user": {
      "displayName": "Eraraya Ricardo Muten",
      "photoUrl": "https://lh3.googleusercontent.com/a-/AOh14Ggpw7xw-lyk6u6l92QjpI7MlI7qjJuuciCpwrUd=s64",
      "userId": "03770692095188133952"
     },
     "user_tz": -420
    },
    "id": "zzVunJV1z-ou"
   },
   "outputs": [],
   "source": [
    "from keras import backend as K\n",
    "\n",
    "\n",
    "# Alpha Custom Layer\n",
    "class class_weights(tf.keras.layers.Layer):\n",
    "    def __init__(self):\n",
    "        super(class_weights, self).__init__()\n",
    "        w_init = tf.random_normal_initializer()\n",
    "        self.w = tf.Variable(\n",
    "            initial_value=w_init(shape=(1, 2), dtype=\"float32\"),\n",
    "            trainable=True,\n",
    "        )\n",
    "\n",
    "    def call(self, inputs):\n",
    "        return (inputs * self.w)"
   ]
  },
  {
   "cell_type": "code",
   "execution_count": 60,
   "metadata": {
    "executionInfo": {
     "elapsed": 2804,
     "status": "ok",
     "timestamp": 1610358067284,
     "user": {
      "displayName": "Eraraya Ricardo Muten",
      "photoUrl": "https://lh3.googleusercontent.com/a-/AOh14Ggpw7xw-lyk6u6l92QjpI7MlI7qjJuuciCpwrUd=s64",
      "userId": "03770692095188133952"
     },
     "user_tz": -420
    },
    "id": "6IozHMJhz-ou"
   },
   "outputs": [],
   "source": [
    "# Input image, size = 27 x 27\n",
    "X = tf.keras.Input(shape=(27,27), name='Input_Layer')\n",
    "\n",
    "\n",
    "# Specs for Conv\n",
    "c_filter = 3\n",
    "c_strides = 2\n",
    "\n",
    "\n",
    "# First Quantum Conv Layer, trainable params = 18*L, output size = 13 x 13\n",
    "num_conv_layer_1 = 1\n",
    "q_conv_layer_1 = qml.qnn.KerasLayer(q_conv, {\"conv_params\": (2, num_conv_layer_1, 9)}, output_dim=(1), name='Quantum_Conv_Layer_1')\n",
    "size_1 = int(1+(X.shape[1]-c_filter)/c_strides)\n",
    "q_conv_layer_1_list = []\n",
    "# height iteration\n",
    "for i in range(size_1):\n",
    "    # width iteration\n",
    "    for j in range(size_1):\n",
    "        temp = q_conv_layer_1(X[:, 2*i:2*(i+1)+1, 2*j:2*(j+1)+1])\n",
    "        temp = tf.keras.layers.Reshape((1,))(temp)\n",
    "        q_conv_layer_1_list += [temp]\n",
    "concat_layer_1 = tf.keras.layers.Concatenate(axis=1)(q_conv_layer_1_list)\n",
    "reshape_layer_1 = tf.keras.layers.Reshape((size_1, size_1))(concat_layer_1)\n",
    "\n",
    "\n",
    "# Second Quantum Conv Layer, trainable params = 18*L, output size = 6 x 6\n",
    "num_conv_layer_2 = 1\n",
    "q_conv_layer_2 = qml.qnn.KerasLayer(q_conv, {\"conv_params\": (2, num_conv_layer_2, 9)}, output_dim=(1), name='Quantum_Conv_Layer_2')\n",
    "size_2 = int(1+(reshape_layer_1.shape[1]-c_filter)/c_strides)\n",
    "q_conv_layer_2_list = []\n",
    "# height iteration\n",
    "for i in range(size_2):\n",
    "    # width iteration\n",
    "    for j in range(size_2):\n",
    "        temp = q_conv_layer_2(reshape_layer_1[:, 2*i:2*(i+1)+1, 2*j:2*(j+1)+1])\n",
    "        temp = tf.keras.layers.Reshape((1,))(temp)\n",
    "        q_conv_layer_2_list += [temp]\n",
    "concat_layer_2 = tf.keras.layers.Concatenate(axis=1)(q_conv_layer_2_list)\n",
    "reshape_layer_2 = tf.keras.layers.Reshape((size_2, size_2, 1))(concat_layer_2)\n",
    "\n",
    "\n",
    "# Max Pooling Layer, output size = 9\n",
    "max_pool_layer = tf.keras.layers.MaxPooling2D(pool_size=(2, 2), strides=None, name='Max_Pool_Layer')(reshape_layer_2)\n",
    "reshape_layer_3 = tf.keras.layers.Reshape((9,))(max_pool_layer)\n",
    "\n",
    "\n",
    "# Quantum FC Layer, trainable params = 18*L*n_class + 2, output size = 2\n",
    "num_fc_layer = 1\n",
    "q_fc_layer_0 = qml.qnn.KerasLayer(q_fc, {\"params\": (2, num_fc_layer, 9)}, output_dim=2)(reshape_layer_3)\n",
    "\n",
    "# Alpha Layer\n",
    "alpha_layer_0 = class_weights()(q_fc_layer_0)\n",
    "\n",
    "model = tf.keras.Model(inputs=X, outputs=alpha_layer_0)"
   ]
  },
  {
   "cell_type": "code",
   "execution_count": 61,
   "metadata": {
    "colab": {
     "base_uri": "https://localhost:8080/"
    },
    "executionInfo": {
     "elapsed": 39184,
     "status": "ok",
     "timestamp": 1610358109156,
     "user": {
      "displayName": "Eraraya Ricardo Muten",
      "photoUrl": "https://lh3.googleusercontent.com/a-/AOh14Ggpw7xw-lyk6u6l92QjpI7MlI7qjJuuciCpwrUd=s64",
      "userId": "03770692095188133952"
     },
     "user_tz": -420
    },
    "id": "-kazExRcz-ov",
    "outputId": "11a34545-b4dd-425d-d246-8d0d260c9da8",
    "scrolled": false
   },
   "outputs": [
    {
     "data": {
      "text/plain": [
       "<tf.Tensor: shape=(32, 2), dtype=float32, numpy=\n",
       "array([[ 0.02659302, -0.00011611],\n",
       "       [ 0.02659543, -0.00011406],\n",
       "       [ 0.02659884, -0.00011116],\n",
       "       [ 0.02660321, -0.00010745],\n",
       "       [ 0.02659877, -0.00011122],\n",
       "       [ 0.02660063, -0.00010964],\n",
       "       [ 0.02659685, -0.00011285],\n",
       "       [ 0.02658659, -0.00012158],\n",
       "       [ 0.02659541, -0.00011408],\n",
       "       [ 0.0265973 , -0.00011247],\n",
       "       [ 0.0265956 , -0.00011392],\n",
       "       [ 0.02659197, -0.000117  ],\n",
       "       [ 0.02659618, -0.00011342],\n",
       "       [ 0.02659401, -0.00011527],\n",
       "       [ 0.02658885, -0.00011966],\n",
       "       [ 0.02659418, -0.00011512],\n",
       "       [ 0.02659674, -0.00011295],\n",
       "       [ 0.02660478, -0.00010611],\n",
       "       [ 0.02658274, -0.00012485],\n",
       "       [ 0.0265984 , -0.00011153],\n",
       "       [ 0.0265921 , -0.00011689],\n",
       "       [ 0.02659896, -0.00011106],\n",
       "       [ 0.02659572, -0.00011381],\n",
       "       [ 0.0266008 , -0.0001095 ],\n",
       "       [ 0.02660445, -0.0001064 ],\n",
       "       [ 0.02659565, -0.00011387],\n",
       "       [ 0.02659516, -0.00011429],\n",
       "       [ 0.02659176, -0.00011718],\n",
       "       [ 0.02660443, -0.00010641],\n",
       "       [ 0.02659762, -0.0001122 ],\n",
       "       [ 0.02659207, -0.00011691],\n",
       "       [ 0.02660369, -0.00010704]], dtype=float32)>"
      ]
     },
     "execution_count": 61,
     "metadata": {},
     "output_type": "execute_result"
    }
   ],
   "source": [
    "model(X_train[0:32, :, :])"
   ]
  },
  {
   "cell_type": "code",
   "execution_count": 62,
   "metadata": {},
   "outputs": [],
   "source": [
    "import keras.backend as K\n",
    "\n",
    "# def custom_loss(y_true, y_pred):\n",
    "#     return K.sum(((y_true.shape[1]-2)*y_true+1)*K.square(y_true-y_pred))/len(y_true)\n",
    "\n",
    "def custom_loss(y_true, y_pred):\n",
    "    loss = K.square(y_true-y_pred)\n",
    "    #class_weights = y_true*(weight_for_1-weight_for_0) + weight_for_0\n",
    "    #loss = loss * class_weights\n",
    "    \n",
    "    return K.sum(loss)/len(y_true)"
   ]
  },
  {
   "cell_type": "code",
   "execution_count": 63,
   "metadata": {
    "executionInfo": {
     "elapsed": 1168,
     "status": "ok",
     "timestamp": 1610358110335,
     "user": {
      "displayName": "Eraraya Ricardo Muten",
      "photoUrl": "https://lh3.googleusercontent.com/a-/AOh14Ggpw7xw-lyk6u6l92QjpI7MlI7qjJuuciCpwrUd=s64",
      "userId": "03770692095188133952"
     },
     "user_tz": -420
    },
    "id": "wZ2e6t93z-ow"
   },
   "outputs": [],
   "source": [
    "opt = tf.keras.optimizers.Adam(learning_rate=0.1)\n",
    "model.compile(opt, loss='mse', metrics=[\"accuracy\"])"
   ]
  },
  {
   "cell_type": "code",
   "execution_count": 21,
   "metadata": {},
   "outputs": [],
   "source": [
    "cp_val_acc = tf.keras.callbacks.ModelCheckpoint(filepath=\"./Model/2_QConv2ent_QFC_valacc.hdf5\",\n",
    "                monitor='val_accuracy', verbose=1, save_weights_only=True, save_best_only=True, mode='max')\n",
    "\n",
    "cp_val_loss = tf.keras.callbacks.ModelCheckpoint(filepath=\"./Model/2_QConv2ent_QFC_valloss.hdf5\",\n",
    "                monitor='val_loss', verbose=1, save_weights_only=True, save_best_only=True, mode='min')"
   ]
  },
  {
   "cell_type": "code",
   "execution_count": 22,
   "metadata": {
    "colab": {
     "base_uri": "https://localhost:8080/"
    },
    "executionInfo": {
     "elapsed": 23954180,
     "status": "ok",
     "timestamp": 1610382086131,
     "user": {
      "displayName": "Eraraya Ricardo Muten",
      "photoUrl": "https://lh3.googleusercontent.com/a-/AOh14Ggpw7xw-lyk6u6l92QjpI7MlI7qjJuuciCpwrUd=s64",
      "userId": "03770692095188133952"
     },
     "user_tz": -420
    },
    "id": "GKW8hv-9z-ow",
    "outputId": "a004b2f4-c3e3-4aa1-cef5-0d28d21a6d57",
    "scrolled": false
   },
   "outputs": [
    {
     "name": "stdout",
     "output_type": "stream",
     "text": [
      "Epoch 1/10\n",
      "13/13 [==============================] - 6571s 516s/step - loss: 0.4083 - accuracy: 0.4980 - val_loss: 0.2559 - val_accuracy: 0.5000\n",
      "\n",
      "Epoch 00001: val_accuracy improved from -inf to 0.50000, saving model to ./Model/2_QConv2ent_QFC_valacc.hdf5\n",
      "\n",
      "Epoch 00001: val_loss improved from inf to 0.25595, saving model to ./Model/2_QConv2ent_QFC_valloss.hdf5\n",
      "Epoch 2/10\n",
      "13/13 [==============================] - 6628s 522s/step - loss: 0.2677 - accuracy: 0.4488 - val_loss: 0.2473 - val_accuracy: 0.5020\n",
      "\n",
      "Epoch 00002: val_accuracy improved from 0.50000 to 0.50200, saving model to ./Model/2_QConv2ent_QFC_valacc.hdf5\n",
      "\n",
      "Epoch 00002: val_loss improved from 0.25595 to 0.24732, saving model to ./Model/2_QConv2ent_QFC_valloss.hdf5\n",
      "Epoch 3/10\n",
      "13/13 [==============================] - 6546s 515s/step - loss: 0.2054 - accuracy: 0.6613 - val_loss: 0.1075 - val_accuracy: 0.8790\n",
      "\n",
      "Epoch 00003: val_accuracy improved from 0.50200 to 0.87900, saving model to ./Model/2_QConv2ent_QFC_valacc.hdf5\n",
      "\n",
      "Epoch 00003: val_loss improved from 0.24732 to 0.10750, saving model to ./Model/2_QConv2ent_QFC_valloss.hdf5\n",
      "Epoch 4/10\n",
      "13/13 [==============================] - 6493s 511s/step - loss: 0.0626 - accuracy: 0.9337 - val_loss: 0.0367 - val_accuracy: 0.9710\n",
      "\n",
      "Epoch 00004: val_accuracy improved from 0.87900 to 0.97100, saving model to ./Model/2_QConv2ent_QFC_valacc.hdf5\n",
      "\n",
      "Epoch 00004: val_loss improved from 0.10750 to 0.03674, saving model to ./Model/2_QConv2ent_QFC_valloss.hdf5\n",
      "Epoch 5/10\n",
      "13/13 [==============================] - 6446s 507s/step - loss: 0.0333 - accuracy: 0.9735 - val_loss: 0.0193 - val_accuracy: 0.9850\n",
      "\n",
      "Epoch 00005: val_accuracy improved from 0.97100 to 0.98500, saving model to ./Model/2_QConv2ent_QFC_valacc.hdf5\n",
      "\n",
      "Epoch 00005: val_loss improved from 0.03674 to 0.01931, saving model to ./Model/2_QConv2ent_QFC_valloss.hdf5\n",
      "Epoch 6/10\n",
      "13/13 [==============================] - 6547s 516s/step - loss: 0.0271 - accuracy: 0.9832 - val_loss: 0.0176 - val_accuracy: 0.9850\n",
      "\n",
      "Epoch 00006: val_accuracy did not improve from 0.98500\n",
      "\n",
      "Epoch 00006: val_loss improved from 0.01931 to 0.01759, saving model to ./Model/2_QConv2ent_QFC_valloss.hdf5\n",
      "Epoch 7/10\n",
      "13/13 [==============================] - 6590s 519s/step - loss: 0.0208 - accuracy: 0.9679 - val_loss: 0.0133 - val_accuracy: 0.9850\n",
      "\n",
      "Epoch 00007: val_accuracy did not improve from 0.98500\n",
      "\n",
      "Epoch 00007: val_loss improved from 0.01759 to 0.01331, saving model to ./Model/2_QConv2ent_QFC_valloss.hdf5\n",
      "Epoch 8/10\n",
      "13/13 [==============================] - 6670s 525s/step - loss: 0.0125 - accuracy: 0.9870 - val_loss: 0.0123 - val_accuracy: 0.9870\n",
      "\n",
      "Epoch 00008: val_accuracy improved from 0.98500 to 0.98700, saving model to ./Model/2_QConv2ent_QFC_valacc.hdf5\n",
      "\n",
      "Epoch 00008: val_loss improved from 0.01331 to 0.01230, saving model to ./Model/2_QConv2ent_QFC_valloss.hdf5\n",
      "Epoch 9/10\n",
      "13/13 [==============================] - 6677s 526s/step - loss: 0.0145 - accuracy: 0.9868 - val_loss: 0.0152 - val_accuracy: 0.9820\n",
      "\n",
      "Epoch 00009: val_accuracy did not improve from 0.98700\n",
      "\n",
      "Epoch 00009: val_loss did not improve from 0.01230\n",
      "Epoch 10/10\n",
      "13/13 [==============================] - 6744s 531s/step - loss: 0.0084 - accuracy: 0.9928 - val_loss: 0.0167 - val_accuracy: 0.9840\n",
      "\n",
      "Epoch 00010: val_accuracy did not improve from 0.98700\n",
      "\n",
      "Epoch 00010: val_loss did not improve from 0.01230\n"
     ]
    }
   ],
   "source": [
    "H = model.fit(X_train, to_categorical(Y_train), epochs=10, batch_size=32, initial_epoch=0,\n",
    "              validation_data=(X_test, to_categorical(Y_test)), verbose=1,\n",
    "              callbacks=[cp_val_acc, cp_val_loss])"
   ]
  },
  {
   "cell_type": "code",
   "execution_count": 23,
   "metadata": {},
   "outputs": [
    {
     "name": "stdout",
     "output_type": "stream",
     "text": [
      "Model: \"model\"\n",
      "__________________________________________________________________________________________________\n",
      "Layer (type)                    Output Shape         Param #     Connected to                     \n",
      "==================================================================================================\n",
      "Input_Layer (InputLayer)        [(None, 27, 27)]     0                                            \n",
      "__________________________________________________________________________________________________\n",
      "tf.__operators__.getitem (Slici (None, 3, 3)         0           Input_Layer[0][0]                \n",
      "__________________________________________________________________________________________________\n",
      "tf.__operators__.getitem_1 (Sli (None, 3, 3)         0           Input_Layer[0][0]                \n",
      "__________________________________________________________________________________________________\n",
      "tf.__operators__.getitem_2 (Sli (None, 3, 3)         0           Input_Layer[0][0]                \n",
      "__________________________________________________________________________________________________\n",
      "tf.__operators__.getitem_3 (Sli (None, 3, 3)         0           Input_Layer[0][0]                \n",
      "__________________________________________________________________________________________________\n",
      "tf.__operators__.getitem_4 (Sli (None, 3, 3)         0           Input_Layer[0][0]                \n",
      "__________________________________________________________________________________________________\n",
      "tf.__operators__.getitem_5 (Sli (None, 3, 3)         0           Input_Layer[0][0]                \n",
      "__________________________________________________________________________________________________\n",
      "tf.__operators__.getitem_6 (Sli (None, 3, 3)         0           Input_Layer[0][0]                \n",
      "__________________________________________________________________________________________________\n",
      "tf.__operators__.getitem_7 (Sli (None, 3, 3)         0           Input_Layer[0][0]                \n",
      "__________________________________________________________________________________________________\n",
      "tf.__operators__.getitem_8 (Sli (None, 3, 3)         0           Input_Layer[0][0]                \n",
      "__________________________________________________________________________________________________\n",
      "tf.__operators__.getitem_9 (Sli (None, 3, 3)         0           Input_Layer[0][0]                \n",
      "__________________________________________________________________________________________________\n",
      "tf.__operators__.getitem_10 (Sl (None, 3, 3)         0           Input_Layer[0][0]                \n",
      "__________________________________________________________________________________________________\n",
      "tf.__operators__.getitem_11 (Sl (None, 3, 3)         0           Input_Layer[0][0]                \n",
      "__________________________________________________________________________________________________\n",
      "tf.__operators__.getitem_12 (Sl (None, 3, 3)         0           Input_Layer[0][0]                \n",
      "__________________________________________________________________________________________________\n",
      "tf.__operators__.getitem_13 (Sl (None, 3, 3)         0           Input_Layer[0][0]                \n",
      "__________________________________________________________________________________________________\n",
      "tf.__operators__.getitem_14 (Sl (None, 3, 3)         0           Input_Layer[0][0]                \n",
      "__________________________________________________________________________________________________\n",
      "tf.__operators__.getitem_15 (Sl (None, 3, 3)         0           Input_Layer[0][0]                \n",
      "__________________________________________________________________________________________________\n",
      "tf.__operators__.getitem_16 (Sl (None, 3, 3)         0           Input_Layer[0][0]                \n",
      "__________________________________________________________________________________________________\n",
      "tf.__operators__.getitem_17 (Sl (None, 3, 3)         0           Input_Layer[0][0]                \n",
      "__________________________________________________________________________________________________\n",
      "tf.__operators__.getitem_18 (Sl (None, 3, 3)         0           Input_Layer[0][0]                \n",
      "__________________________________________________________________________________________________\n",
      "tf.__operators__.getitem_19 (Sl (None, 3, 3)         0           Input_Layer[0][0]                \n",
      "__________________________________________________________________________________________________\n",
      "tf.__operators__.getitem_20 (Sl (None, 3, 3)         0           Input_Layer[0][0]                \n",
      "__________________________________________________________________________________________________\n",
      "tf.__operators__.getitem_21 (Sl (None, 3, 3)         0           Input_Layer[0][0]                \n",
      "__________________________________________________________________________________________________\n",
      "tf.__operators__.getitem_22 (Sl (None, 3, 3)         0           Input_Layer[0][0]                \n",
      "__________________________________________________________________________________________________\n",
      "tf.__operators__.getitem_23 (Sl (None, 3, 3)         0           Input_Layer[0][0]                \n",
      "__________________________________________________________________________________________________\n",
      "tf.__operators__.getitem_24 (Sl (None, 3, 3)         0           Input_Layer[0][0]                \n",
      "__________________________________________________________________________________________________\n",
      "tf.__operators__.getitem_25 (Sl (None, 3, 3)         0           Input_Layer[0][0]                \n",
      "__________________________________________________________________________________________________\n",
      "tf.__operators__.getitem_26 (Sl (None, 3, 3)         0           Input_Layer[0][0]                \n",
      "__________________________________________________________________________________________________\n",
      "tf.__operators__.getitem_27 (Sl (None, 3, 3)         0           Input_Layer[0][0]                \n",
      "__________________________________________________________________________________________________\n",
      "tf.__operators__.getitem_28 (Sl (None, 3, 3)         0           Input_Layer[0][0]                \n",
      "__________________________________________________________________________________________________\n",
      "tf.__operators__.getitem_29 (Sl (None, 3, 3)         0           Input_Layer[0][0]                \n",
      "__________________________________________________________________________________________________\n",
      "tf.__operators__.getitem_30 (Sl (None, 3, 3)         0           Input_Layer[0][0]                \n",
      "__________________________________________________________________________________________________\n",
      "tf.__operators__.getitem_31 (Sl (None, 3, 3)         0           Input_Layer[0][0]                \n",
      "__________________________________________________________________________________________________\n",
      "tf.__operators__.getitem_32 (Sl (None, 3, 3)         0           Input_Layer[0][0]                \n",
      "__________________________________________________________________________________________________\n",
      "tf.__operators__.getitem_33 (Sl (None, 3, 3)         0           Input_Layer[0][0]                \n",
      "__________________________________________________________________________________________________\n",
      "tf.__operators__.getitem_34 (Sl (None, 3, 3)         0           Input_Layer[0][0]                \n",
      "__________________________________________________________________________________________________\n",
      "tf.__operators__.getitem_35 (Sl (None, 3, 3)         0           Input_Layer[0][0]                \n",
      "__________________________________________________________________________________________________\n",
      "tf.__operators__.getitem_36 (Sl (None, 3, 3)         0           Input_Layer[0][0]                \n",
      "__________________________________________________________________________________________________\n",
      "tf.__operators__.getitem_37 (Sl (None, 3, 3)         0           Input_Layer[0][0]                \n",
      "__________________________________________________________________________________________________\n",
      "tf.__operators__.getitem_38 (Sl (None, 3, 3)         0           Input_Layer[0][0]                \n",
      "__________________________________________________________________________________________________\n",
      "tf.__operators__.getitem_39 (Sl (None, 3, 3)         0           Input_Layer[0][0]                \n",
      "__________________________________________________________________________________________________\n",
      "tf.__operators__.getitem_40 (Sl (None, 3, 3)         0           Input_Layer[0][0]                \n",
      "__________________________________________________________________________________________________\n",
      "tf.__operators__.getitem_41 (Sl (None, 3, 3)         0           Input_Layer[0][0]                \n",
      "__________________________________________________________________________________________________\n",
      "tf.__operators__.getitem_42 (Sl (None, 3, 3)         0           Input_Layer[0][0]                \n",
      "__________________________________________________________________________________________________\n",
      "tf.__operators__.getitem_43 (Sl (None, 3, 3)         0           Input_Layer[0][0]                \n",
      "__________________________________________________________________________________________________\n",
      "tf.__operators__.getitem_44 (Sl (None, 3, 3)         0           Input_Layer[0][0]                \n",
      "__________________________________________________________________________________________________\n",
      "tf.__operators__.getitem_45 (Sl (None, 3, 3)         0           Input_Layer[0][0]                \n",
      "__________________________________________________________________________________________________\n",
      "tf.__operators__.getitem_46 (Sl (None, 3, 3)         0           Input_Layer[0][0]                \n",
      "__________________________________________________________________________________________________\n",
      "tf.__operators__.getitem_47 (Sl (None, 3, 3)         0           Input_Layer[0][0]                \n",
      "__________________________________________________________________________________________________\n",
      "tf.__operators__.getitem_48 (Sl (None, 3, 3)         0           Input_Layer[0][0]                \n",
      "__________________________________________________________________________________________________\n",
      "tf.__operators__.getitem_49 (Sl (None, 3, 3)         0           Input_Layer[0][0]                \n",
      "__________________________________________________________________________________________________\n",
      "tf.__operators__.getitem_50 (Sl (None, 3, 3)         0           Input_Layer[0][0]                \n",
      "__________________________________________________________________________________________________\n",
      "tf.__operators__.getitem_51 (Sl (None, 3, 3)         0           Input_Layer[0][0]                \n",
      "__________________________________________________________________________________________________\n",
      "tf.__operators__.getitem_52 (Sl (None, 3, 3)         0           Input_Layer[0][0]                \n",
      "__________________________________________________________________________________________________\n",
      "tf.__operators__.getitem_53 (Sl (None, 3, 3)         0           Input_Layer[0][0]                \n",
      "__________________________________________________________________________________________________\n",
      "tf.__operators__.getitem_54 (Sl (None, 3, 3)         0           Input_Layer[0][0]                \n",
      "__________________________________________________________________________________________________\n",
      "tf.__operators__.getitem_55 (Sl (None, 3, 3)         0           Input_Layer[0][0]                \n",
      "__________________________________________________________________________________________________\n",
      "tf.__operators__.getitem_56 (Sl (None, 3, 3)         0           Input_Layer[0][0]                \n",
      "__________________________________________________________________________________________________\n",
      "tf.__operators__.getitem_57 (Sl (None, 3, 3)         0           Input_Layer[0][0]                \n",
      "__________________________________________________________________________________________________\n",
      "tf.__operators__.getitem_58 (Sl (None, 3, 3)         0           Input_Layer[0][0]                \n",
      "__________________________________________________________________________________________________\n",
      "tf.__operators__.getitem_59 (Sl (None, 3, 3)         0           Input_Layer[0][0]                \n",
      "__________________________________________________________________________________________________\n",
      "tf.__operators__.getitem_60 (Sl (None, 3, 3)         0           Input_Layer[0][0]                \n",
      "__________________________________________________________________________________________________\n",
      "tf.__operators__.getitem_61 (Sl (None, 3, 3)         0           Input_Layer[0][0]                \n",
      "__________________________________________________________________________________________________\n",
      "tf.__operators__.getitem_62 (Sl (None, 3, 3)         0           Input_Layer[0][0]                \n",
      "__________________________________________________________________________________________________\n",
      "tf.__operators__.getitem_63 (Sl (None, 3, 3)         0           Input_Layer[0][0]                \n",
      "__________________________________________________________________________________________________\n",
      "tf.__operators__.getitem_64 (Sl (None, 3, 3)         0           Input_Layer[0][0]                \n",
      "__________________________________________________________________________________________________\n",
      "tf.__operators__.getitem_65 (Sl (None, 3, 3)         0           Input_Layer[0][0]                \n",
      "__________________________________________________________________________________________________\n",
      "tf.__operators__.getitem_66 (Sl (None, 3, 3)         0           Input_Layer[0][0]                \n",
      "__________________________________________________________________________________________________\n",
      "tf.__operators__.getitem_67 (Sl (None, 3, 3)         0           Input_Layer[0][0]                \n",
      "__________________________________________________________________________________________________\n",
      "tf.__operators__.getitem_68 (Sl (None, 3, 3)         0           Input_Layer[0][0]                \n",
      "__________________________________________________________________________________________________\n",
      "tf.__operators__.getitem_69 (Sl (None, 3, 3)         0           Input_Layer[0][0]                \n",
      "__________________________________________________________________________________________________\n",
      "tf.__operators__.getitem_70 (Sl (None, 3, 3)         0           Input_Layer[0][0]                \n",
      "__________________________________________________________________________________________________\n",
      "tf.__operators__.getitem_71 (Sl (None, 3, 3)         0           Input_Layer[0][0]                \n",
      "__________________________________________________________________________________________________\n",
      "tf.__operators__.getitem_72 (Sl (None, 3, 3)         0           Input_Layer[0][0]                \n",
      "__________________________________________________________________________________________________\n",
      "tf.__operators__.getitem_73 (Sl (None, 3, 3)         0           Input_Layer[0][0]                \n",
      "__________________________________________________________________________________________________\n",
      "tf.__operators__.getitem_74 (Sl (None, 3, 3)         0           Input_Layer[0][0]                \n",
      "__________________________________________________________________________________________________\n",
      "tf.__operators__.getitem_75 (Sl (None, 3, 3)         0           Input_Layer[0][0]                \n",
      "__________________________________________________________________________________________________\n",
      "tf.__operators__.getitem_76 (Sl (None, 3, 3)         0           Input_Layer[0][0]                \n",
      "__________________________________________________________________________________________________\n",
      "tf.__operators__.getitem_77 (Sl (None, 3, 3)         0           Input_Layer[0][0]                \n",
      "__________________________________________________________________________________________________\n",
      "tf.__operators__.getitem_78 (Sl (None, 3, 3)         0           Input_Layer[0][0]                \n",
      "__________________________________________________________________________________________________\n",
      "tf.__operators__.getitem_79 (Sl (None, 3, 3)         0           Input_Layer[0][0]                \n",
      "__________________________________________________________________________________________________\n",
      "tf.__operators__.getitem_80 (Sl (None, 3, 3)         0           Input_Layer[0][0]                \n",
      "__________________________________________________________________________________________________\n",
      "tf.__operators__.getitem_81 (Sl (None, 3, 3)         0           Input_Layer[0][0]                \n",
      "__________________________________________________________________________________________________\n",
      "tf.__operators__.getitem_82 (Sl (None, 3, 3)         0           Input_Layer[0][0]                \n",
      "__________________________________________________________________________________________________\n",
      "tf.__operators__.getitem_83 (Sl (None, 3, 3)         0           Input_Layer[0][0]                \n",
      "__________________________________________________________________________________________________\n",
      "tf.__operators__.getitem_84 (Sl (None, 3, 3)         0           Input_Layer[0][0]                \n",
      "__________________________________________________________________________________________________\n",
      "tf.__operators__.getitem_85 (Sl (None, 3, 3)         0           Input_Layer[0][0]                \n",
      "__________________________________________________________________________________________________\n",
      "tf.__operators__.getitem_86 (Sl (None, 3, 3)         0           Input_Layer[0][0]                \n",
      "__________________________________________________________________________________________________\n",
      "tf.__operators__.getitem_87 (Sl (None, 3, 3)         0           Input_Layer[0][0]                \n",
      "__________________________________________________________________________________________________\n",
      "tf.__operators__.getitem_88 (Sl (None, 3, 3)         0           Input_Layer[0][0]                \n",
      "__________________________________________________________________________________________________\n",
      "tf.__operators__.getitem_89 (Sl (None, 3, 3)         0           Input_Layer[0][0]                \n",
      "__________________________________________________________________________________________________\n",
      "tf.__operators__.getitem_90 (Sl (None, 3, 3)         0           Input_Layer[0][0]                \n",
      "__________________________________________________________________________________________________\n",
      "tf.__operators__.getitem_91 (Sl (None, 3, 3)         0           Input_Layer[0][0]                \n",
      "__________________________________________________________________________________________________\n",
      "tf.__operators__.getitem_92 (Sl (None, 3, 3)         0           Input_Layer[0][0]                \n",
      "__________________________________________________________________________________________________\n",
      "tf.__operators__.getitem_93 (Sl (None, 3, 3)         0           Input_Layer[0][0]                \n",
      "__________________________________________________________________________________________________\n",
      "tf.__operators__.getitem_94 (Sl (None, 3, 3)         0           Input_Layer[0][0]                \n",
      "__________________________________________________________________________________________________\n",
      "tf.__operators__.getitem_95 (Sl (None, 3, 3)         0           Input_Layer[0][0]                \n",
      "__________________________________________________________________________________________________\n",
      "tf.__operators__.getitem_96 (Sl (None, 3, 3)         0           Input_Layer[0][0]                \n",
      "__________________________________________________________________________________________________\n",
      "tf.__operators__.getitem_97 (Sl (None, 3, 3)         0           Input_Layer[0][0]                \n",
      "__________________________________________________________________________________________________\n",
      "tf.__operators__.getitem_98 (Sl (None, 3, 3)         0           Input_Layer[0][0]                \n",
      "__________________________________________________________________________________________________\n",
      "tf.__operators__.getitem_99 (Sl (None, 3, 3)         0           Input_Layer[0][0]                \n",
      "__________________________________________________________________________________________________\n",
      "tf.__operators__.getitem_100 (S (None, 3, 3)         0           Input_Layer[0][0]                \n",
      "__________________________________________________________________________________________________\n",
      "tf.__operators__.getitem_101 (S (None, 3, 3)         0           Input_Layer[0][0]                \n",
      "__________________________________________________________________________________________________\n",
      "tf.__operators__.getitem_102 (S (None, 3, 3)         0           Input_Layer[0][0]                \n",
      "__________________________________________________________________________________________________\n",
      "tf.__operators__.getitem_103 (S (None, 3, 3)         0           Input_Layer[0][0]                \n",
      "__________________________________________________________________________________________________\n",
      "tf.__operators__.getitem_104 (S (None, 3, 3)         0           Input_Layer[0][0]                \n",
      "__________________________________________________________________________________________________\n",
      "tf.__operators__.getitem_105 (S (None, 3, 3)         0           Input_Layer[0][0]                \n",
      "__________________________________________________________________________________________________\n",
      "tf.__operators__.getitem_106 (S (None, 3, 3)         0           Input_Layer[0][0]                \n",
      "__________________________________________________________________________________________________\n",
      "tf.__operators__.getitem_107 (S (None, 3, 3)         0           Input_Layer[0][0]                \n",
      "__________________________________________________________________________________________________\n",
      "tf.__operators__.getitem_108 (S (None, 3, 3)         0           Input_Layer[0][0]                \n",
      "__________________________________________________________________________________________________\n",
      "tf.__operators__.getitem_109 (S (None, 3, 3)         0           Input_Layer[0][0]                \n",
      "__________________________________________________________________________________________________\n",
      "tf.__operators__.getitem_110 (S (None, 3, 3)         0           Input_Layer[0][0]                \n",
      "__________________________________________________________________________________________________\n",
      "tf.__operators__.getitem_111 (S (None, 3, 3)         0           Input_Layer[0][0]                \n",
      "__________________________________________________________________________________________________\n",
      "tf.__operators__.getitem_112 (S (None, 3, 3)         0           Input_Layer[0][0]                \n",
      "__________________________________________________________________________________________________\n",
      "tf.__operators__.getitem_113 (S (None, 3, 3)         0           Input_Layer[0][0]                \n",
      "__________________________________________________________________________________________________\n",
      "tf.__operators__.getitem_114 (S (None, 3, 3)         0           Input_Layer[0][0]                \n",
      "__________________________________________________________________________________________________\n",
      "tf.__operators__.getitem_115 (S (None, 3, 3)         0           Input_Layer[0][0]                \n",
      "__________________________________________________________________________________________________\n",
      "tf.__operators__.getitem_116 (S (None, 3, 3)         0           Input_Layer[0][0]                \n",
      "__________________________________________________________________________________________________\n",
      "tf.__operators__.getitem_117 (S (None, 3, 3)         0           Input_Layer[0][0]                \n",
      "__________________________________________________________________________________________________\n",
      "tf.__operators__.getitem_118 (S (None, 3, 3)         0           Input_Layer[0][0]                \n",
      "__________________________________________________________________________________________________\n",
      "tf.__operators__.getitem_119 (S (None, 3, 3)         0           Input_Layer[0][0]                \n",
      "__________________________________________________________________________________________________\n",
      "tf.__operators__.getitem_120 (S (None, 3, 3)         0           Input_Layer[0][0]                \n",
      "__________________________________________________________________________________________________\n",
      "tf.__operators__.getitem_121 (S (None, 3, 3)         0           Input_Layer[0][0]                \n",
      "__________________________________________________________________________________________________\n",
      "tf.__operators__.getitem_122 (S (None, 3, 3)         0           Input_Layer[0][0]                \n",
      "__________________________________________________________________________________________________\n",
      "tf.__operators__.getitem_123 (S (None, 3, 3)         0           Input_Layer[0][0]                \n",
      "__________________________________________________________________________________________________\n",
      "tf.__operators__.getitem_124 (S (None, 3, 3)         0           Input_Layer[0][0]                \n",
      "__________________________________________________________________________________________________\n",
      "tf.__operators__.getitem_125 (S (None, 3, 3)         0           Input_Layer[0][0]                \n",
      "__________________________________________________________________________________________________\n",
      "tf.__operators__.getitem_126 (S (None, 3, 3)         0           Input_Layer[0][0]                \n",
      "__________________________________________________________________________________________________\n",
      "tf.__operators__.getitem_127 (S (None, 3, 3)         0           Input_Layer[0][0]                \n",
      "__________________________________________________________________________________________________\n",
      "tf.__operators__.getitem_128 (S (None, 3, 3)         0           Input_Layer[0][0]                \n",
      "__________________________________________________________________________________________________\n",
      "tf.__operators__.getitem_129 (S (None, 3, 3)         0           Input_Layer[0][0]                \n",
      "__________________________________________________________________________________________________\n",
      "tf.__operators__.getitem_130 (S (None, 3, 3)         0           Input_Layer[0][0]                \n",
      "__________________________________________________________________________________________________\n",
      "tf.__operators__.getitem_131 (S (None, 3, 3)         0           Input_Layer[0][0]                \n",
      "__________________________________________________________________________________________________\n",
      "tf.__operators__.getitem_132 (S (None, 3, 3)         0           Input_Layer[0][0]                \n",
      "__________________________________________________________________________________________________\n",
      "tf.__operators__.getitem_133 (S (None, 3, 3)         0           Input_Layer[0][0]                \n",
      "__________________________________________________________________________________________________\n",
      "tf.__operators__.getitem_134 (S (None, 3, 3)         0           Input_Layer[0][0]                \n",
      "__________________________________________________________________________________________________\n",
      "tf.__operators__.getitem_135 (S (None, 3, 3)         0           Input_Layer[0][0]                \n",
      "__________________________________________________________________________________________________\n",
      "tf.__operators__.getitem_136 (S (None, 3, 3)         0           Input_Layer[0][0]                \n",
      "__________________________________________________________________________________________________\n",
      "tf.__operators__.getitem_137 (S (None, 3, 3)         0           Input_Layer[0][0]                \n",
      "__________________________________________________________________________________________________\n",
      "tf.__operators__.getitem_138 (S (None, 3, 3)         0           Input_Layer[0][0]                \n",
      "__________________________________________________________________________________________________\n",
      "tf.__operators__.getitem_139 (S (None, 3, 3)         0           Input_Layer[0][0]                \n",
      "__________________________________________________________________________________________________\n",
      "tf.__operators__.getitem_140 (S (None, 3, 3)         0           Input_Layer[0][0]                \n",
      "__________________________________________________________________________________________________\n",
      "tf.__operators__.getitem_141 (S (None, 3, 3)         0           Input_Layer[0][0]                \n",
      "__________________________________________________________________________________________________\n",
      "tf.__operators__.getitem_142 (S (None, 3, 3)         0           Input_Layer[0][0]                \n",
      "__________________________________________________________________________________________________\n",
      "tf.__operators__.getitem_143 (S (None, 3, 3)         0           Input_Layer[0][0]                \n",
      "__________________________________________________________________________________________________\n",
      "tf.__operators__.getitem_144 (S (None, 3, 3)         0           Input_Layer[0][0]                \n",
      "__________________________________________________________________________________________________\n",
      "tf.__operators__.getitem_145 (S (None, 3, 3)         0           Input_Layer[0][0]                \n",
      "__________________________________________________________________________________________________\n",
      "tf.__operators__.getitem_146 (S (None, 3, 3)         0           Input_Layer[0][0]                \n",
      "__________________________________________________________________________________________________\n",
      "tf.__operators__.getitem_147 (S (None, 3, 3)         0           Input_Layer[0][0]                \n",
      "__________________________________________________________________________________________________\n",
      "tf.__operators__.getitem_148 (S (None, 3, 3)         0           Input_Layer[0][0]                \n",
      "__________________________________________________________________________________________________\n",
      "tf.__operators__.getitem_149 (S (None, 3, 3)         0           Input_Layer[0][0]                \n",
      "__________________________________________________________________________________________________\n",
      "tf.__operators__.getitem_150 (S (None, 3, 3)         0           Input_Layer[0][0]                \n",
      "__________________________________________________________________________________________________\n",
      "tf.__operators__.getitem_151 (S (None, 3, 3)         0           Input_Layer[0][0]                \n",
      "__________________________________________________________________________________________________\n",
      "tf.__operators__.getitem_152 (S (None, 3, 3)         0           Input_Layer[0][0]                \n",
      "__________________________________________________________________________________________________\n",
      "tf.__operators__.getitem_153 (S (None, 3, 3)         0           Input_Layer[0][0]                \n",
      "__________________________________________________________________________________________________\n",
      "tf.__operators__.getitem_154 (S (None, 3, 3)         0           Input_Layer[0][0]                \n",
      "__________________________________________________________________________________________________\n",
      "tf.__operators__.getitem_155 (S (None, 3, 3)         0           Input_Layer[0][0]                \n",
      "__________________________________________________________________________________________________\n",
      "tf.__operators__.getitem_156 (S (None, 3, 3)         0           Input_Layer[0][0]                \n",
      "__________________________________________________________________________________________________\n",
      "tf.__operators__.getitem_157 (S (None, 3, 3)         0           Input_Layer[0][0]                \n",
      "__________________________________________________________________________________________________\n",
      "tf.__operators__.getitem_158 (S (None, 3, 3)         0           Input_Layer[0][0]                \n",
      "__________________________________________________________________________________________________\n",
      "tf.__operators__.getitem_159 (S (None, 3, 3)         0           Input_Layer[0][0]                \n",
      "__________________________________________________________________________________________________\n",
      "tf.__operators__.getitem_160 (S (None, 3, 3)         0           Input_Layer[0][0]                \n",
      "__________________________________________________________________________________________________\n",
      "tf.__operators__.getitem_161 (S (None, 3, 3)         0           Input_Layer[0][0]                \n",
      "__________________________________________________________________________________________________\n",
      "tf.__operators__.getitem_162 (S (None, 3, 3)         0           Input_Layer[0][0]                \n",
      "__________________________________________________________________________________________________\n",
      "tf.__operators__.getitem_163 (S (None, 3, 3)         0           Input_Layer[0][0]                \n",
      "__________________________________________________________________________________________________\n",
      "tf.__operators__.getitem_164 (S (None, 3, 3)         0           Input_Layer[0][0]                \n",
      "__________________________________________________________________________________________________\n",
      "tf.__operators__.getitem_165 (S (None, 3, 3)         0           Input_Layer[0][0]                \n",
      "__________________________________________________________________________________________________\n",
      "tf.__operators__.getitem_166 (S (None, 3, 3)         0           Input_Layer[0][0]                \n",
      "__________________________________________________________________________________________________\n",
      "tf.__operators__.getitem_167 (S (None, 3, 3)         0           Input_Layer[0][0]                \n",
      "__________________________________________________________________________________________________\n",
      "tf.__operators__.getitem_168 (S (None, 3, 3)         0           Input_Layer[0][0]                \n",
      "__________________________________________________________________________________________________\n",
      "Quantum_Conv_Layer_1 (KerasLaye (None, 1)            18          tf.__operators__.getitem[0][0]   \n",
      "                                                                 tf.__operators__.getitem_1[0][0] \n",
      "                                                                 tf.__operators__.getitem_2[0][0] \n",
      "                                                                 tf.__operators__.getitem_3[0][0] \n",
      "                                                                 tf.__operators__.getitem_4[0][0] \n",
      "                                                                 tf.__operators__.getitem_5[0][0] \n",
      "                                                                 tf.__operators__.getitem_6[0][0] \n",
      "                                                                 tf.__operators__.getitem_7[0][0] \n",
      "                                                                 tf.__operators__.getitem_8[0][0] \n",
      "                                                                 tf.__operators__.getitem_9[0][0] \n",
      "                                                                 tf.__operators__.getitem_10[0][0]\n",
      "                                                                 tf.__operators__.getitem_11[0][0]\n",
      "                                                                 tf.__operators__.getitem_12[0][0]\n",
      "                                                                 tf.__operators__.getitem_13[0][0]\n",
      "                                                                 tf.__operators__.getitem_14[0][0]\n",
      "                                                                 tf.__operators__.getitem_15[0][0]\n",
      "                                                                 tf.__operators__.getitem_16[0][0]\n",
      "                                                                 tf.__operators__.getitem_17[0][0]\n",
      "                                                                 tf.__operators__.getitem_18[0][0]\n",
      "                                                                 tf.__operators__.getitem_19[0][0]\n",
      "                                                                 tf.__operators__.getitem_20[0][0]\n",
      "                                                                 tf.__operators__.getitem_21[0][0]\n",
      "                                                                 tf.__operators__.getitem_22[0][0]\n",
      "                                                                 tf.__operators__.getitem_23[0][0]\n",
      "                                                                 tf.__operators__.getitem_24[0][0]\n",
      "                                                                 tf.__operators__.getitem_25[0][0]\n",
      "                                                                 tf.__operators__.getitem_26[0][0]\n",
      "                                                                 tf.__operators__.getitem_27[0][0]\n",
      "                                                                 tf.__operators__.getitem_28[0][0]\n",
      "                                                                 tf.__operators__.getitem_29[0][0]\n",
      "                                                                 tf.__operators__.getitem_30[0][0]\n",
      "                                                                 tf.__operators__.getitem_31[0][0]\n",
      "                                                                 tf.__operators__.getitem_32[0][0]\n",
      "                                                                 tf.__operators__.getitem_33[0][0]\n",
      "                                                                 tf.__operators__.getitem_34[0][0]\n",
      "                                                                 tf.__operators__.getitem_35[0][0]\n",
      "                                                                 tf.__operators__.getitem_36[0][0]\n",
      "                                                                 tf.__operators__.getitem_37[0][0]\n",
      "                                                                 tf.__operators__.getitem_38[0][0]\n",
      "                                                                 tf.__operators__.getitem_39[0][0]\n",
      "                                                                 tf.__operators__.getitem_40[0][0]\n",
      "                                                                 tf.__operators__.getitem_41[0][0]\n",
      "                                                                 tf.__operators__.getitem_42[0][0]\n",
      "                                                                 tf.__operators__.getitem_43[0][0]\n",
      "                                                                 tf.__operators__.getitem_44[0][0]\n",
      "                                                                 tf.__operators__.getitem_45[0][0]\n",
      "                                                                 tf.__operators__.getitem_46[0][0]\n",
      "                                                                 tf.__operators__.getitem_47[0][0]\n",
      "                                                                 tf.__operators__.getitem_48[0][0]\n",
      "                                                                 tf.__operators__.getitem_49[0][0]\n",
      "                                                                 tf.__operators__.getitem_50[0][0]\n",
      "                                                                 tf.__operators__.getitem_51[0][0]\n",
      "                                                                 tf.__operators__.getitem_52[0][0]\n",
      "                                                                 tf.__operators__.getitem_53[0][0]\n",
      "                                                                 tf.__operators__.getitem_54[0][0]\n",
      "                                                                 tf.__operators__.getitem_55[0][0]\n",
      "                                                                 tf.__operators__.getitem_56[0][0]\n",
      "                                                                 tf.__operators__.getitem_57[0][0]\n",
      "                                                                 tf.__operators__.getitem_58[0][0]\n",
      "                                                                 tf.__operators__.getitem_59[0][0]\n",
      "                                                                 tf.__operators__.getitem_60[0][0]\n",
      "                                                                 tf.__operators__.getitem_61[0][0]\n",
      "                                                                 tf.__operators__.getitem_62[0][0]\n",
      "                                                                 tf.__operators__.getitem_63[0][0]\n",
      "                                                                 tf.__operators__.getitem_64[0][0]\n",
      "                                                                 tf.__operators__.getitem_65[0][0]\n",
      "                                                                 tf.__operators__.getitem_66[0][0]\n",
      "                                                                 tf.__operators__.getitem_67[0][0]\n",
      "                                                                 tf.__operators__.getitem_68[0][0]\n",
      "                                                                 tf.__operators__.getitem_69[0][0]\n",
      "                                                                 tf.__operators__.getitem_70[0][0]\n",
      "                                                                 tf.__operators__.getitem_71[0][0]\n",
      "                                                                 tf.__operators__.getitem_72[0][0]\n",
      "                                                                 tf.__operators__.getitem_73[0][0]\n",
      "                                                                 tf.__operators__.getitem_74[0][0]\n",
      "                                                                 tf.__operators__.getitem_75[0][0]\n",
      "                                                                 tf.__operators__.getitem_76[0][0]\n",
      "                                                                 tf.__operators__.getitem_77[0][0]\n",
      "                                                                 tf.__operators__.getitem_78[0][0]\n",
      "                                                                 tf.__operators__.getitem_79[0][0]\n",
      "                                                                 tf.__operators__.getitem_80[0][0]\n",
      "                                                                 tf.__operators__.getitem_81[0][0]\n",
      "                                                                 tf.__operators__.getitem_82[0][0]\n",
      "                                                                 tf.__operators__.getitem_83[0][0]\n",
      "                                                                 tf.__operators__.getitem_84[0][0]\n",
      "                                                                 tf.__operators__.getitem_85[0][0]\n",
      "                                                                 tf.__operators__.getitem_86[0][0]\n",
      "                                                                 tf.__operators__.getitem_87[0][0]\n",
      "                                                                 tf.__operators__.getitem_88[0][0]\n",
      "                                                                 tf.__operators__.getitem_89[0][0]\n",
      "                                                                 tf.__operators__.getitem_90[0][0]\n",
      "                                                                 tf.__operators__.getitem_91[0][0]\n",
      "                                                                 tf.__operators__.getitem_92[0][0]\n",
      "                                                                 tf.__operators__.getitem_93[0][0]\n",
      "                                                                 tf.__operators__.getitem_94[0][0]\n",
      "                                                                 tf.__operators__.getitem_95[0][0]\n",
      "                                                                 tf.__operators__.getitem_96[0][0]\n",
      "                                                                 tf.__operators__.getitem_97[0][0]\n",
      "                                                                 tf.__operators__.getitem_98[0][0]\n",
      "                                                                 tf.__operators__.getitem_99[0][0]\n",
      "                                                                 tf.__operators__.getitem_100[0][0\n",
      "                                                                 tf.__operators__.getitem_101[0][0\n",
      "                                                                 tf.__operators__.getitem_102[0][0\n",
      "                                                                 tf.__operators__.getitem_103[0][0\n",
      "                                                                 tf.__operators__.getitem_104[0][0\n",
      "                                                                 tf.__operators__.getitem_105[0][0\n",
      "                                                                 tf.__operators__.getitem_106[0][0\n",
      "                                                                 tf.__operators__.getitem_107[0][0\n",
      "                                                                 tf.__operators__.getitem_108[0][0\n",
      "                                                                 tf.__operators__.getitem_109[0][0\n",
      "                                                                 tf.__operators__.getitem_110[0][0\n",
      "                                                                 tf.__operators__.getitem_111[0][0\n",
      "                                                                 tf.__operators__.getitem_112[0][0\n",
      "                                                                 tf.__operators__.getitem_113[0][0\n",
      "                                                                 tf.__operators__.getitem_114[0][0\n",
      "                                                                 tf.__operators__.getitem_115[0][0\n",
      "                                                                 tf.__operators__.getitem_116[0][0\n",
      "                                                                 tf.__operators__.getitem_117[0][0\n",
      "                                                                 tf.__operators__.getitem_118[0][0\n",
      "                                                                 tf.__operators__.getitem_119[0][0\n",
      "                                                                 tf.__operators__.getitem_120[0][0\n",
      "                                                                 tf.__operators__.getitem_121[0][0\n",
      "                                                                 tf.__operators__.getitem_122[0][0\n",
      "                                                                 tf.__operators__.getitem_123[0][0\n",
      "                                                                 tf.__operators__.getitem_124[0][0\n",
      "                                                                 tf.__operators__.getitem_125[0][0\n",
      "                                                                 tf.__operators__.getitem_126[0][0\n",
      "                                                                 tf.__operators__.getitem_127[0][0\n",
      "                                                                 tf.__operators__.getitem_128[0][0\n",
      "                                                                 tf.__operators__.getitem_129[0][0\n",
      "                                                                 tf.__operators__.getitem_130[0][0\n",
      "                                                                 tf.__operators__.getitem_131[0][0\n",
      "                                                                 tf.__operators__.getitem_132[0][0\n",
      "                                                                 tf.__operators__.getitem_133[0][0\n",
      "                                                                 tf.__operators__.getitem_134[0][0\n",
      "                                                                 tf.__operators__.getitem_135[0][0\n",
      "                                                                 tf.__operators__.getitem_136[0][0\n",
      "                                                                 tf.__operators__.getitem_137[0][0\n",
      "                                                                 tf.__operators__.getitem_138[0][0\n",
      "                                                                 tf.__operators__.getitem_139[0][0\n",
      "                                                                 tf.__operators__.getitem_140[0][0\n",
      "                                                                 tf.__operators__.getitem_141[0][0\n",
      "                                                                 tf.__operators__.getitem_142[0][0\n",
      "                                                                 tf.__operators__.getitem_143[0][0\n",
      "                                                                 tf.__operators__.getitem_144[0][0\n",
      "                                                                 tf.__operators__.getitem_145[0][0\n",
      "                                                                 tf.__operators__.getitem_146[0][0\n",
      "                                                                 tf.__operators__.getitem_147[0][0\n",
      "                                                                 tf.__operators__.getitem_148[0][0\n",
      "                                                                 tf.__operators__.getitem_149[0][0\n",
      "                                                                 tf.__operators__.getitem_150[0][0\n",
      "                                                                 tf.__operators__.getitem_151[0][0\n",
      "                                                                 tf.__operators__.getitem_152[0][0\n",
      "                                                                 tf.__operators__.getitem_153[0][0\n",
      "                                                                 tf.__operators__.getitem_154[0][0\n",
      "                                                                 tf.__operators__.getitem_155[0][0\n",
      "                                                                 tf.__operators__.getitem_156[0][0\n",
      "                                                                 tf.__operators__.getitem_157[0][0\n",
      "                                                                 tf.__operators__.getitem_158[0][0\n",
      "                                                                 tf.__operators__.getitem_159[0][0\n",
      "                                                                 tf.__operators__.getitem_160[0][0\n",
      "                                                                 tf.__operators__.getitem_161[0][0\n",
      "                                                                 tf.__operators__.getitem_162[0][0\n",
      "                                                                 tf.__operators__.getitem_163[0][0\n",
      "                                                                 tf.__operators__.getitem_164[0][0\n",
      "                                                                 tf.__operators__.getitem_165[0][0\n",
      "                                                                 tf.__operators__.getitem_166[0][0\n",
      "                                                                 tf.__operators__.getitem_167[0][0\n",
      "                                                                 tf.__operators__.getitem_168[0][0\n",
      "__________________________________________________________________________________________________\n",
      "reshape (Reshape)               (None, 1)            0           Quantum_Conv_Layer_1[0][0]       \n",
      "__________________________________________________________________________________________________\n",
      "reshape_1 (Reshape)             (None, 1)            0           Quantum_Conv_Layer_1[1][0]       \n",
      "__________________________________________________________________________________________________\n",
      "reshape_2 (Reshape)             (None, 1)            0           Quantum_Conv_Layer_1[2][0]       \n",
      "__________________________________________________________________________________________________\n",
      "reshape_3 (Reshape)             (None, 1)            0           Quantum_Conv_Layer_1[3][0]       \n",
      "__________________________________________________________________________________________________\n",
      "reshape_4 (Reshape)             (None, 1)            0           Quantum_Conv_Layer_1[4][0]       \n",
      "__________________________________________________________________________________________________\n",
      "reshape_5 (Reshape)             (None, 1)            0           Quantum_Conv_Layer_1[5][0]       \n",
      "__________________________________________________________________________________________________\n",
      "reshape_6 (Reshape)             (None, 1)            0           Quantum_Conv_Layer_1[6][0]       \n",
      "__________________________________________________________________________________________________\n",
      "reshape_7 (Reshape)             (None, 1)            0           Quantum_Conv_Layer_1[7][0]       \n",
      "__________________________________________________________________________________________________\n",
      "reshape_8 (Reshape)             (None, 1)            0           Quantum_Conv_Layer_1[8][0]       \n",
      "__________________________________________________________________________________________________\n",
      "reshape_9 (Reshape)             (None, 1)            0           Quantum_Conv_Layer_1[9][0]       \n",
      "__________________________________________________________________________________________________\n",
      "reshape_10 (Reshape)            (None, 1)            0           Quantum_Conv_Layer_1[10][0]      \n",
      "__________________________________________________________________________________________________\n",
      "reshape_11 (Reshape)            (None, 1)            0           Quantum_Conv_Layer_1[11][0]      \n",
      "__________________________________________________________________________________________________\n",
      "reshape_12 (Reshape)            (None, 1)            0           Quantum_Conv_Layer_1[12][0]      \n",
      "__________________________________________________________________________________________________\n",
      "reshape_13 (Reshape)            (None, 1)            0           Quantum_Conv_Layer_1[13][0]      \n",
      "__________________________________________________________________________________________________\n",
      "reshape_14 (Reshape)            (None, 1)            0           Quantum_Conv_Layer_1[14][0]      \n",
      "__________________________________________________________________________________________________\n",
      "reshape_15 (Reshape)            (None, 1)            0           Quantum_Conv_Layer_1[15][0]      \n",
      "__________________________________________________________________________________________________\n",
      "reshape_16 (Reshape)            (None, 1)            0           Quantum_Conv_Layer_1[16][0]      \n",
      "__________________________________________________________________________________________________\n",
      "reshape_17 (Reshape)            (None, 1)            0           Quantum_Conv_Layer_1[17][0]      \n",
      "__________________________________________________________________________________________________\n",
      "reshape_18 (Reshape)            (None, 1)            0           Quantum_Conv_Layer_1[18][0]      \n",
      "__________________________________________________________________________________________________\n",
      "reshape_19 (Reshape)            (None, 1)            0           Quantum_Conv_Layer_1[19][0]      \n",
      "__________________________________________________________________________________________________\n",
      "reshape_20 (Reshape)            (None, 1)            0           Quantum_Conv_Layer_1[20][0]      \n",
      "__________________________________________________________________________________________________\n",
      "reshape_21 (Reshape)            (None, 1)            0           Quantum_Conv_Layer_1[21][0]      \n",
      "__________________________________________________________________________________________________\n",
      "reshape_22 (Reshape)            (None, 1)            0           Quantum_Conv_Layer_1[22][0]      \n",
      "__________________________________________________________________________________________________\n",
      "reshape_23 (Reshape)            (None, 1)            0           Quantum_Conv_Layer_1[23][0]      \n",
      "__________________________________________________________________________________________________\n",
      "reshape_24 (Reshape)            (None, 1)            0           Quantum_Conv_Layer_1[24][0]      \n",
      "__________________________________________________________________________________________________\n",
      "reshape_25 (Reshape)            (None, 1)            0           Quantum_Conv_Layer_1[25][0]      \n",
      "__________________________________________________________________________________________________\n",
      "reshape_26 (Reshape)            (None, 1)            0           Quantum_Conv_Layer_1[26][0]      \n",
      "__________________________________________________________________________________________________\n",
      "reshape_27 (Reshape)            (None, 1)            0           Quantum_Conv_Layer_1[27][0]      \n",
      "__________________________________________________________________________________________________\n",
      "reshape_28 (Reshape)            (None, 1)            0           Quantum_Conv_Layer_1[28][0]      \n",
      "__________________________________________________________________________________________________\n",
      "reshape_29 (Reshape)            (None, 1)            0           Quantum_Conv_Layer_1[29][0]      \n",
      "__________________________________________________________________________________________________\n",
      "reshape_30 (Reshape)            (None, 1)            0           Quantum_Conv_Layer_1[30][0]      \n",
      "__________________________________________________________________________________________________\n",
      "reshape_31 (Reshape)            (None, 1)            0           Quantum_Conv_Layer_1[31][0]      \n",
      "__________________________________________________________________________________________________\n",
      "reshape_32 (Reshape)            (None, 1)            0           Quantum_Conv_Layer_1[32][0]      \n",
      "__________________________________________________________________________________________________\n",
      "reshape_33 (Reshape)            (None, 1)            0           Quantum_Conv_Layer_1[33][0]      \n",
      "__________________________________________________________________________________________________\n",
      "reshape_34 (Reshape)            (None, 1)            0           Quantum_Conv_Layer_1[34][0]      \n",
      "__________________________________________________________________________________________________\n",
      "reshape_35 (Reshape)            (None, 1)            0           Quantum_Conv_Layer_1[35][0]      \n",
      "__________________________________________________________________________________________________\n",
      "reshape_36 (Reshape)            (None, 1)            0           Quantum_Conv_Layer_1[36][0]      \n",
      "__________________________________________________________________________________________________\n",
      "reshape_37 (Reshape)            (None, 1)            0           Quantum_Conv_Layer_1[37][0]      \n",
      "__________________________________________________________________________________________________\n",
      "reshape_38 (Reshape)            (None, 1)            0           Quantum_Conv_Layer_1[38][0]      \n",
      "__________________________________________________________________________________________________\n",
      "reshape_39 (Reshape)            (None, 1)            0           Quantum_Conv_Layer_1[39][0]      \n",
      "__________________________________________________________________________________________________\n",
      "reshape_40 (Reshape)            (None, 1)            0           Quantum_Conv_Layer_1[40][0]      \n",
      "__________________________________________________________________________________________________\n",
      "reshape_41 (Reshape)            (None, 1)            0           Quantum_Conv_Layer_1[41][0]      \n",
      "__________________________________________________________________________________________________\n",
      "reshape_42 (Reshape)            (None, 1)            0           Quantum_Conv_Layer_1[42][0]      \n",
      "__________________________________________________________________________________________________\n",
      "reshape_43 (Reshape)            (None, 1)            0           Quantum_Conv_Layer_1[43][0]      \n",
      "__________________________________________________________________________________________________\n",
      "reshape_44 (Reshape)            (None, 1)            0           Quantum_Conv_Layer_1[44][0]      \n",
      "__________________________________________________________________________________________________\n",
      "reshape_45 (Reshape)            (None, 1)            0           Quantum_Conv_Layer_1[45][0]      \n",
      "__________________________________________________________________________________________________\n",
      "reshape_46 (Reshape)            (None, 1)            0           Quantum_Conv_Layer_1[46][0]      \n",
      "__________________________________________________________________________________________________\n",
      "reshape_47 (Reshape)            (None, 1)            0           Quantum_Conv_Layer_1[47][0]      \n",
      "__________________________________________________________________________________________________\n",
      "reshape_48 (Reshape)            (None, 1)            0           Quantum_Conv_Layer_1[48][0]      \n",
      "__________________________________________________________________________________________________\n",
      "reshape_49 (Reshape)            (None, 1)            0           Quantum_Conv_Layer_1[49][0]      \n",
      "__________________________________________________________________________________________________\n",
      "reshape_50 (Reshape)            (None, 1)            0           Quantum_Conv_Layer_1[50][0]      \n",
      "__________________________________________________________________________________________________\n",
      "reshape_51 (Reshape)            (None, 1)            0           Quantum_Conv_Layer_1[51][0]      \n",
      "__________________________________________________________________________________________________\n",
      "reshape_52 (Reshape)            (None, 1)            0           Quantum_Conv_Layer_1[52][0]      \n",
      "__________________________________________________________________________________________________\n",
      "reshape_53 (Reshape)            (None, 1)            0           Quantum_Conv_Layer_1[53][0]      \n",
      "__________________________________________________________________________________________________\n",
      "reshape_54 (Reshape)            (None, 1)            0           Quantum_Conv_Layer_1[54][0]      \n",
      "__________________________________________________________________________________________________\n",
      "reshape_55 (Reshape)            (None, 1)            0           Quantum_Conv_Layer_1[55][0]      \n",
      "__________________________________________________________________________________________________\n",
      "reshape_56 (Reshape)            (None, 1)            0           Quantum_Conv_Layer_1[56][0]      \n",
      "__________________________________________________________________________________________________\n",
      "reshape_57 (Reshape)            (None, 1)            0           Quantum_Conv_Layer_1[57][0]      \n",
      "__________________________________________________________________________________________________\n",
      "reshape_58 (Reshape)            (None, 1)            0           Quantum_Conv_Layer_1[58][0]      \n",
      "__________________________________________________________________________________________________\n",
      "reshape_59 (Reshape)            (None, 1)            0           Quantum_Conv_Layer_1[59][0]      \n",
      "__________________________________________________________________________________________________\n",
      "reshape_60 (Reshape)            (None, 1)            0           Quantum_Conv_Layer_1[60][0]      \n",
      "__________________________________________________________________________________________________\n",
      "reshape_61 (Reshape)            (None, 1)            0           Quantum_Conv_Layer_1[61][0]      \n",
      "__________________________________________________________________________________________________\n",
      "reshape_62 (Reshape)            (None, 1)            0           Quantum_Conv_Layer_1[62][0]      \n",
      "__________________________________________________________________________________________________\n",
      "reshape_63 (Reshape)            (None, 1)            0           Quantum_Conv_Layer_1[63][0]      \n",
      "__________________________________________________________________________________________________\n",
      "reshape_64 (Reshape)            (None, 1)            0           Quantum_Conv_Layer_1[64][0]      \n",
      "__________________________________________________________________________________________________\n",
      "reshape_65 (Reshape)            (None, 1)            0           Quantum_Conv_Layer_1[65][0]      \n",
      "__________________________________________________________________________________________________\n",
      "reshape_66 (Reshape)            (None, 1)            0           Quantum_Conv_Layer_1[66][0]      \n",
      "__________________________________________________________________________________________________\n",
      "reshape_67 (Reshape)            (None, 1)            0           Quantum_Conv_Layer_1[67][0]      \n",
      "__________________________________________________________________________________________________\n",
      "reshape_68 (Reshape)            (None, 1)            0           Quantum_Conv_Layer_1[68][0]      \n",
      "__________________________________________________________________________________________________\n",
      "reshape_69 (Reshape)            (None, 1)            0           Quantum_Conv_Layer_1[69][0]      \n",
      "__________________________________________________________________________________________________\n",
      "reshape_70 (Reshape)            (None, 1)            0           Quantum_Conv_Layer_1[70][0]      \n",
      "__________________________________________________________________________________________________\n",
      "reshape_71 (Reshape)            (None, 1)            0           Quantum_Conv_Layer_1[71][0]      \n",
      "__________________________________________________________________________________________________\n",
      "reshape_72 (Reshape)            (None, 1)            0           Quantum_Conv_Layer_1[72][0]      \n",
      "__________________________________________________________________________________________________\n",
      "reshape_73 (Reshape)            (None, 1)            0           Quantum_Conv_Layer_1[73][0]      \n",
      "__________________________________________________________________________________________________\n",
      "reshape_74 (Reshape)            (None, 1)            0           Quantum_Conv_Layer_1[74][0]      \n",
      "__________________________________________________________________________________________________\n",
      "reshape_75 (Reshape)            (None, 1)            0           Quantum_Conv_Layer_1[75][0]      \n",
      "__________________________________________________________________________________________________\n",
      "reshape_76 (Reshape)            (None, 1)            0           Quantum_Conv_Layer_1[76][0]      \n",
      "__________________________________________________________________________________________________\n",
      "reshape_77 (Reshape)            (None, 1)            0           Quantum_Conv_Layer_1[77][0]      \n",
      "__________________________________________________________________________________________________\n",
      "reshape_78 (Reshape)            (None, 1)            0           Quantum_Conv_Layer_1[78][0]      \n",
      "__________________________________________________________________________________________________\n",
      "reshape_79 (Reshape)            (None, 1)            0           Quantum_Conv_Layer_1[79][0]      \n",
      "__________________________________________________________________________________________________\n",
      "reshape_80 (Reshape)            (None, 1)            0           Quantum_Conv_Layer_1[80][0]      \n",
      "__________________________________________________________________________________________________\n",
      "reshape_81 (Reshape)            (None, 1)            0           Quantum_Conv_Layer_1[81][0]      \n",
      "__________________________________________________________________________________________________\n",
      "reshape_82 (Reshape)            (None, 1)            0           Quantum_Conv_Layer_1[82][0]      \n",
      "__________________________________________________________________________________________________\n",
      "reshape_83 (Reshape)            (None, 1)            0           Quantum_Conv_Layer_1[83][0]      \n",
      "__________________________________________________________________________________________________\n",
      "reshape_84 (Reshape)            (None, 1)            0           Quantum_Conv_Layer_1[84][0]      \n",
      "__________________________________________________________________________________________________\n",
      "reshape_85 (Reshape)            (None, 1)            0           Quantum_Conv_Layer_1[85][0]      \n",
      "__________________________________________________________________________________________________\n",
      "reshape_86 (Reshape)            (None, 1)            0           Quantum_Conv_Layer_1[86][0]      \n",
      "__________________________________________________________________________________________________\n",
      "reshape_87 (Reshape)            (None, 1)            0           Quantum_Conv_Layer_1[87][0]      \n",
      "__________________________________________________________________________________________________\n",
      "reshape_88 (Reshape)            (None, 1)            0           Quantum_Conv_Layer_1[88][0]      \n",
      "__________________________________________________________________________________________________\n",
      "reshape_89 (Reshape)            (None, 1)            0           Quantum_Conv_Layer_1[89][0]      \n",
      "__________________________________________________________________________________________________\n",
      "reshape_90 (Reshape)            (None, 1)            0           Quantum_Conv_Layer_1[90][0]      \n",
      "__________________________________________________________________________________________________\n",
      "reshape_91 (Reshape)            (None, 1)            0           Quantum_Conv_Layer_1[91][0]      \n",
      "__________________________________________________________________________________________________\n",
      "reshape_92 (Reshape)            (None, 1)            0           Quantum_Conv_Layer_1[92][0]      \n",
      "__________________________________________________________________________________________________\n",
      "reshape_93 (Reshape)            (None, 1)            0           Quantum_Conv_Layer_1[93][0]      \n",
      "__________________________________________________________________________________________________\n",
      "reshape_94 (Reshape)            (None, 1)            0           Quantum_Conv_Layer_1[94][0]      \n",
      "__________________________________________________________________________________________________\n",
      "reshape_95 (Reshape)            (None, 1)            0           Quantum_Conv_Layer_1[95][0]      \n",
      "__________________________________________________________________________________________________\n",
      "reshape_96 (Reshape)            (None, 1)            0           Quantum_Conv_Layer_1[96][0]      \n",
      "__________________________________________________________________________________________________\n",
      "reshape_97 (Reshape)            (None, 1)            0           Quantum_Conv_Layer_1[97][0]      \n",
      "__________________________________________________________________________________________________\n",
      "reshape_98 (Reshape)            (None, 1)            0           Quantum_Conv_Layer_1[98][0]      \n",
      "__________________________________________________________________________________________________\n",
      "reshape_99 (Reshape)            (None, 1)            0           Quantum_Conv_Layer_1[99][0]      \n",
      "__________________________________________________________________________________________________\n",
      "reshape_100 (Reshape)           (None, 1)            0           Quantum_Conv_Layer_1[100][0]     \n",
      "__________________________________________________________________________________________________\n",
      "reshape_101 (Reshape)           (None, 1)            0           Quantum_Conv_Layer_1[101][0]     \n",
      "__________________________________________________________________________________________________\n",
      "reshape_102 (Reshape)           (None, 1)            0           Quantum_Conv_Layer_1[102][0]     \n",
      "__________________________________________________________________________________________________\n",
      "reshape_103 (Reshape)           (None, 1)            0           Quantum_Conv_Layer_1[103][0]     \n",
      "__________________________________________________________________________________________________\n",
      "reshape_104 (Reshape)           (None, 1)            0           Quantum_Conv_Layer_1[104][0]     \n",
      "__________________________________________________________________________________________________\n",
      "reshape_105 (Reshape)           (None, 1)            0           Quantum_Conv_Layer_1[105][0]     \n",
      "__________________________________________________________________________________________________\n",
      "reshape_106 (Reshape)           (None, 1)            0           Quantum_Conv_Layer_1[106][0]     \n",
      "__________________________________________________________________________________________________\n",
      "reshape_107 (Reshape)           (None, 1)            0           Quantum_Conv_Layer_1[107][0]     \n",
      "__________________________________________________________________________________________________\n",
      "reshape_108 (Reshape)           (None, 1)            0           Quantum_Conv_Layer_1[108][0]     \n",
      "__________________________________________________________________________________________________\n",
      "reshape_109 (Reshape)           (None, 1)            0           Quantum_Conv_Layer_1[109][0]     \n",
      "__________________________________________________________________________________________________\n",
      "reshape_110 (Reshape)           (None, 1)            0           Quantum_Conv_Layer_1[110][0]     \n",
      "__________________________________________________________________________________________________\n",
      "reshape_111 (Reshape)           (None, 1)            0           Quantum_Conv_Layer_1[111][0]     \n",
      "__________________________________________________________________________________________________\n",
      "reshape_112 (Reshape)           (None, 1)            0           Quantum_Conv_Layer_1[112][0]     \n",
      "__________________________________________________________________________________________________\n",
      "reshape_113 (Reshape)           (None, 1)            0           Quantum_Conv_Layer_1[113][0]     \n",
      "__________________________________________________________________________________________________\n",
      "reshape_114 (Reshape)           (None, 1)            0           Quantum_Conv_Layer_1[114][0]     \n",
      "__________________________________________________________________________________________________\n",
      "reshape_115 (Reshape)           (None, 1)            0           Quantum_Conv_Layer_1[115][0]     \n",
      "__________________________________________________________________________________________________\n",
      "reshape_116 (Reshape)           (None, 1)            0           Quantum_Conv_Layer_1[116][0]     \n",
      "__________________________________________________________________________________________________\n",
      "reshape_117 (Reshape)           (None, 1)            0           Quantum_Conv_Layer_1[117][0]     \n",
      "__________________________________________________________________________________________________\n",
      "reshape_118 (Reshape)           (None, 1)            0           Quantum_Conv_Layer_1[118][0]     \n",
      "__________________________________________________________________________________________________\n",
      "reshape_119 (Reshape)           (None, 1)            0           Quantum_Conv_Layer_1[119][0]     \n",
      "__________________________________________________________________________________________________\n",
      "reshape_120 (Reshape)           (None, 1)            0           Quantum_Conv_Layer_1[120][0]     \n",
      "__________________________________________________________________________________________________\n",
      "reshape_121 (Reshape)           (None, 1)            0           Quantum_Conv_Layer_1[121][0]     \n",
      "__________________________________________________________________________________________________\n",
      "reshape_122 (Reshape)           (None, 1)            0           Quantum_Conv_Layer_1[122][0]     \n",
      "__________________________________________________________________________________________________\n",
      "reshape_123 (Reshape)           (None, 1)            0           Quantum_Conv_Layer_1[123][0]     \n",
      "__________________________________________________________________________________________________\n",
      "reshape_124 (Reshape)           (None, 1)            0           Quantum_Conv_Layer_1[124][0]     \n",
      "__________________________________________________________________________________________________\n",
      "reshape_125 (Reshape)           (None, 1)            0           Quantum_Conv_Layer_1[125][0]     \n",
      "__________________________________________________________________________________________________\n",
      "reshape_126 (Reshape)           (None, 1)            0           Quantum_Conv_Layer_1[126][0]     \n",
      "__________________________________________________________________________________________________\n",
      "reshape_127 (Reshape)           (None, 1)            0           Quantum_Conv_Layer_1[127][0]     \n",
      "__________________________________________________________________________________________________\n",
      "reshape_128 (Reshape)           (None, 1)            0           Quantum_Conv_Layer_1[128][0]     \n",
      "__________________________________________________________________________________________________\n",
      "reshape_129 (Reshape)           (None, 1)            0           Quantum_Conv_Layer_1[129][0]     \n",
      "__________________________________________________________________________________________________\n",
      "reshape_130 (Reshape)           (None, 1)            0           Quantum_Conv_Layer_1[130][0]     \n",
      "__________________________________________________________________________________________________\n",
      "reshape_131 (Reshape)           (None, 1)            0           Quantum_Conv_Layer_1[131][0]     \n",
      "__________________________________________________________________________________________________\n",
      "reshape_132 (Reshape)           (None, 1)            0           Quantum_Conv_Layer_1[132][0]     \n",
      "__________________________________________________________________________________________________\n",
      "reshape_133 (Reshape)           (None, 1)            0           Quantum_Conv_Layer_1[133][0]     \n",
      "__________________________________________________________________________________________________\n",
      "reshape_134 (Reshape)           (None, 1)            0           Quantum_Conv_Layer_1[134][0]     \n",
      "__________________________________________________________________________________________________\n",
      "reshape_135 (Reshape)           (None, 1)            0           Quantum_Conv_Layer_1[135][0]     \n",
      "__________________________________________________________________________________________________\n",
      "reshape_136 (Reshape)           (None, 1)            0           Quantum_Conv_Layer_1[136][0]     \n",
      "__________________________________________________________________________________________________\n",
      "reshape_137 (Reshape)           (None, 1)            0           Quantum_Conv_Layer_1[137][0]     \n",
      "__________________________________________________________________________________________________\n",
      "reshape_138 (Reshape)           (None, 1)            0           Quantum_Conv_Layer_1[138][0]     \n",
      "__________________________________________________________________________________________________\n",
      "reshape_139 (Reshape)           (None, 1)            0           Quantum_Conv_Layer_1[139][0]     \n",
      "__________________________________________________________________________________________________\n",
      "reshape_140 (Reshape)           (None, 1)            0           Quantum_Conv_Layer_1[140][0]     \n",
      "__________________________________________________________________________________________________\n",
      "reshape_141 (Reshape)           (None, 1)            0           Quantum_Conv_Layer_1[141][0]     \n",
      "__________________________________________________________________________________________________\n",
      "reshape_142 (Reshape)           (None, 1)            0           Quantum_Conv_Layer_1[142][0]     \n",
      "__________________________________________________________________________________________________\n",
      "reshape_143 (Reshape)           (None, 1)            0           Quantum_Conv_Layer_1[143][0]     \n",
      "__________________________________________________________________________________________________\n",
      "reshape_144 (Reshape)           (None, 1)            0           Quantum_Conv_Layer_1[144][0]     \n",
      "__________________________________________________________________________________________________\n",
      "reshape_145 (Reshape)           (None, 1)            0           Quantum_Conv_Layer_1[145][0]     \n",
      "__________________________________________________________________________________________________\n",
      "reshape_146 (Reshape)           (None, 1)            0           Quantum_Conv_Layer_1[146][0]     \n",
      "__________________________________________________________________________________________________\n",
      "reshape_147 (Reshape)           (None, 1)            0           Quantum_Conv_Layer_1[147][0]     \n",
      "__________________________________________________________________________________________________\n",
      "reshape_148 (Reshape)           (None, 1)            0           Quantum_Conv_Layer_1[148][0]     \n",
      "__________________________________________________________________________________________________\n",
      "reshape_149 (Reshape)           (None, 1)            0           Quantum_Conv_Layer_1[149][0]     \n",
      "__________________________________________________________________________________________________\n",
      "reshape_150 (Reshape)           (None, 1)            0           Quantum_Conv_Layer_1[150][0]     \n",
      "__________________________________________________________________________________________________\n",
      "reshape_151 (Reshape)           (None, 1)            0           Quantum_Conv_Layer_1[151][0]     \n",
      "__________________________________________________________________________________________________\n",
      "reshape_152 (Reshape)           (None, 1)            0           Quantum_Conv_Layer_1[152][0]     \n",
      "__________________________________________________________________________________________________\n",
      "reshape_153 (Reshape)           (None, 1)            0           Quantum_Conv_Layer_1[153][0]     \n",
      "__________________________________________________________________________________________________\n",
      "reshape_154 (Reshape)           (None, 1)            0           Quantum_Conv_Layer_1[154][0]     \n",
      "__________________________________________________________________________________________________\n",
      "reshape_155 (Reshape)           (None, 1)            0           Quantum_Conv_Layer_1[155][0]     \n",
      "__________________________________________________________________________________________________\n",
      "reshape_156 (Reshape)           (None, 1)            0           Quantum_Conv_Layer_1[156][0]     \n",
      "__________________________________________________________________________________________________\n",
      "reshape_157 (Reshape)           (None, 1)            0           Quantum_Conv_Layer_1[157][0]     \n",
      "__________________________________________________________________________________________________\n",
      "reshape_158 (Reshape)           (None, 1)            0           Quantum_Conv_Layer_1[158][0]     \n",
      "__________________________________________________________________________________________________\n",
      "reshape_159 (Reshape)           (None, 1)            0           Quantum_Conv_Layer_1[159][0]     \n",
      "__________________________________________________________________________________________________\n",
      "reshape_160 (Reshape)           (None, 1)            0           Quantum_Conv_Layer_1[160][0]     \n",
      "__________________________________________________________________________________________________\n",
      "reshape_161 (Reshape)           (None, 1)            0           Quantum_Conv_Layer_1[161][0]     \n",
      "__________________________________________________________________________________________________\n",
      "reshape_162 (Reshape)           (None, 1)            0           Quantum_Conv_Layer_1[162][0]     \n",
      "__________________________________________________________________________________________________\n",
      "reshape_163 (Reshape)           (None, 1)            0           Quantum_Conv_Layer_1[163][0]     \n",
      "__________________________________________________________________________________________________\n",
      "reshape_164 (Reshape)           (None, 1)            0           Quantum_Conv_Layer_1[164][0]     \n",
      "__________________________________________________________________________________________________\n",
      "reshape_165 (Reshape)           (None, 1)            0           Quantum_Conv_Layer_1[165][0]     \n",
      "__________________________________________________________________________________________________\n",
      "reshape_166 (Reshape)           (None, 1)            0           Quantum_Conv_Layer_1[166][0]     \n",
      "__________________________________________________________________________________________________\n",
      "reshape_167 (Reshape)           (None, 1)            0           Quantum_Conv_Layer_1[167][0]     \n",
      "__________________________________________________________________________________________________\n",
      "reshape_168 (Reshape)           (None, 1)            0           Quantum_Conv_Layer_1[168][0]     \n",
      "__________________________________________________________________________________________________\n",
      "concatenate (Concatenate)       (None, 169)          0           reshape[0][0]                    \n",
      "                                                                 reshape_1[0][0]                  \n",
      "                                                                 reshape_2[0][0]                  \n",
      "                                                                 reshape_3[0][0]                  \n",
      "                                                                 reshape_4[0][0]                  \n",
      "                                                                 reshape_5[0][0]                  \n",
      "                                                                 reshape_6[0][0]                  \n",
      "                                                                 reshape_7[0][0]                  \n",
      "                                                                 reshape_8[0][0]                  \n",
      "                                                                 reshape_9[0][0]                  \n",
      "                                                                 reshape_10[0][0]                 \n",
      "                                                                 reshape_11[0][0]                 \n",
      "                                                                 reshape_12[0][0]                 \n",
      "                                                                 reshape_13[0][0]                 \n",
      "                                                                 reshape_14[0][0]                 \n",
      "                                                                 reshape_15[0][0]                 \n",
      "                                                                 reshape_16[0][0]                 \n",
      "                                                                 reshape_17[0][0]                 \n",
      "                                                                 reshape_18[0][0]                 \n",
      "                                                                 reshape_19[0][0]                 \n",
      "                                                                 reshape_20[0][0]                 \n",
      "                                                                 reshape_21[0][0]                 \n",
      "                                                                 reshape_22[0][0]                 \n",
      "                                                                 reshape_23[0][0]                 \n",
      "                                                                 reshape_24[0][0]                 \n",
      "                                                                 reshape_25[0][0]                 \n",
      "                                                                 reshape_26[0][0]                 \n",
      "                                                                 reshape_27[0][0]                 \n",
      "                                                                 reshape_28[0][0]                 \n",
      "                                                                 reshape_29[0][0]                 \n",
      "                                                                 reshape_30[0][0]                 \n",
      "                                                                 reshape_31[0][0]                 \n",
      "                                                                 reshape_32[0][0]                 \n",
      "                                                                 reshape_33[0][0]                 \n",
      "                                                                 reshape_34[0][0]                 \n",
      "                                                                 reshape_35[0][0]                 \n",
      "                                                                 reshape_36[0][0]                 \n",
      "                                                                 reshape_37[0][0]                 \n",
      "                                                                 reshape_38[0][0]                 \n",
      "                                                                 reshape_39[0][0]                 \n",
      "                                                                 reshape_40[0][0]                 \n",
      "                                                                 reshape_41[0][0]                 \n",
      "                                                                 reshape_42[0][0]                 \n",
      "                                                                 reshape_43[0][0]                 \n",
      "                                                                 reshape_44[0][0]                 \n",
      "                                                                 reshape_45[0][0]                 \n",
      "                                                                 reshape_46[0][0]                 \n",
      "                                                                 reshape_47[0][0]                 \n",
      "                                                                 reshape_48[0][0]                 \n",
      "                                                                 reshape_49[0][0]                 \n",
      "                                                                 reshape_50[0][0]                 \n",
      "                                                                 reshape_51[0][0]                 \n",
      "                                                                 reshape_52[0][0]                 \n",
      "                                                                 reshape_53[0][0]                 \n",
      "                                                                 reshape_54[0][0]                 \n",
      "                                                                 reshape_55[0][0]                 \n",
      "                                                                 reshape_56[0][0]                 \n",
      "                                                                 reshape_57[0][0]                 \n",
      "                                                                 reshape_58[0][0]                 \n",
      "                                                                 reshape_59[0][0]                 \n",
      "                                                                 reshape_60[0][0]                 \n",
      "                                                                 reshape_61[0][0]                 \n",
      "                                                                 reshape_62[0][0]                 \n",
      "                                                                 reshape_63[0][0]                 \n",
      "                                                                 reshape_64[0][0]                 \n",
      "                                                                 reshape_65[0][0]                 \n",
      "                                                                 reshape_66[0][0]                 \n",
      "                                                                 reshape_67[0][0]                 \n",
      "                                                                 reshape_68[0][0]                 \n",
      "                                                                 reshape_69[0][0]                 \n",
      "                                                                 reshape_70[0][0]                 \n",
      "                                                                 reshape_71[0][0]                 \n",
      "                                                                 reshape_72[0][0]                 \n",
      "                                                                 reshape_73[0][0]                 \n",
      "                                                                 reshape_74[0][0]                 \n",
      "                                                                 reshape_75[0][0]                 \n",
      "                                                                 reshape_76[0][0]                 \n",
      "                                                                 reshape_77[0][0]                 \n",
      "                                                                 reshape_78[0][0]                 \n",
      "                                                                 reshape_79[0][0]                 \n",
      "                                                                 reshape_80[0][0]                 \n",
      "                                                                 reshape_81[0][0]                 \n",
      "                                                                 reshape_82[0][0]                 \n",
      "                                                                 reshape_83[0][0]                 \n",
      "                                                                 reshape_84[0][0]                 \n",
      "                                                                 reshape_85[0][0]                 \n",
      "                                                                 reshape_86[0][0]                 \n",
      "                                                                 reshape_87[0][0]                 \n",
      "                                                                 reshape_88[0][0]                 \n",
      "                                                                 reshape_89[0][0]                 \n",
      "                                                                 reshape_90[0][0]                 \n",
      "                                                                 reshape_91[0][0]                 \n",
      "                                                                 reshape_92[0][0]                 \n",
      "                                                                 reshape_93[0][0]                 \n",
      "                                                                 reshape_94[0][0]                 \n",
      "                                                                 reshape_95[0][0]                 \n",
      "                                                                 reshape_96[0][0]                 \n",
      "                                                                 reshape_97[0][0]                 \n",
      "                                                                 reshape_98[0][0]                 \n",
      "                                                                 reshape_99[0][0]                 \n",
      "                                                                 reshape_100[0][0]                \n",
      "                                                                 reshape_101[0][0]                \n",
      "                                                                 reshape_102[0][0]                \n",
      "                                                                 reshape_103[0][0]                \n",
      "                                                                 reshape_104[0][0]                \n",
      "                                                                 reshape_105[0][0]                \n",
      "                                                                 reshape_106[0][0]                \n",
      "                                                                 reshape_107[0][0]                \n",
      "                                                                 reshape_108[0][0]                \n",
      "                                                                 reshape_109[0][0]                \n",
      "                                                                 reshape_110[0][0]                \n",
      "                                                                 reshape_111[0][0]                \n",
      "                                                                 reshape_112[0][0]                \n",
      "                                                                 reshape_113[0][0]                \n",
      "                                                                 reshape_114[0][0]                \n",
      "                                                                 reshape_115[0][0]                \n",
      "                                                                 reshape_116[0][0]                \n",
      "                                                                 reshape_117[0][0]                \n",
      "                                                                 reshape_118[0][0]                \n",
      "                                                                 reshape_119[0][0]                \n",
      "                                                                 reshape_120[0][0]                \n",
      "                                                                 reshape_121[0][0]                \n",
      "                                                                 reshape_122[0][0]                \n",
      "                                                                 reshape_123[0][0]                \n",
      "                                                                 reshape_124[0][0]                \n",
      "                                                                 reshape_125[0][0]                \n",
      "                                                                 reshape_126[0][0]                \n",
      "                                                                 reshape_127[0][0]                \n",
      "                                                                 reshape_128[0][0]                \n",
      "                                                                 reshape_129[0][0]                \n",
      "                                                                 reshape_130[0][0]                \n",
      "                                                                 reshape_131[0][0]                \n",
      "                                                                 reshape_132[0][0]                \n",
      "                                                                 reshape_133[0][0]                \n",
      "                                                                 reshape_134[0][0]                \n",
      "                                                                 reshape_135[0][0]                \n",
      "                                                                 reshape_136[0][0]                \n",
      "                                                                 reshape_137[0][0]                \n",
      "                                                                 reshape_138[0][0]                \n",
      "                                                                 reshape_139[0][0]                \n",
      "                                                                 reshape_140[0][0]                \n",
      "                                                                 reshape_141[0][0]                \n",
      "                                                                 reshape_142[0][0]                \n",
      "                                                                 reshape_143[0][0]                \n",
      "                                                                 reshape_144[0][0]                \n",
      "                                                                 reshape_145[0][0]                \n",
      "                                                                 reshape_146[0][0]                \n",
      "                                                                 reshape_147[0][0]                \n",
      "                                                                 reshape_148[0][0]                \n",
      "                                                                 reshape_149[0][0]                \n",
      "                                                                 reshape_150[0][0]                \n",
      "                                                                 reshape_151[0][0]                \n",
      "                                                                 reshape_152[0][0]                \n",
      "                                                                 reshape_153[0][0]                \n",
      "                                                                 reshape_154[0][0]                \n",
      "                                                                 reshape_155[0][0]                \n",
      "                                                                 reshape_156[0][0]                \n",
      "                                                                 reshape_157[0][0]                \n",
      "                                                                 reshape_158[0][0]                \n",
      "                                                                 reshape_159[0][0]                \n",
      "                                                                 reshape_160[0][0]                \n",
      "                                                                 reshape_161[0][0]                \n",
      "                                                                 reshape_162[0][0]                \n",
      "                                                                 reshape_163[0][0]                \n",
      "                                                                 reshape_164[0][0]                \n",
      "                                                                 reshape_165[0][0]                \n",
      "                                                                 reshape_166[0][0]                \n",
      "                                                                 reshape_167[0][0]                \n",
      "                                                                 reshape_168[0][0]                \n",
      "__________________________________________________________________________________________________\n",
      "reshape_169 (Reshape)           (None, 13, 13)       0           concatenate[0][0]                \n",
      "__________________________________________________________________________________________________\n",
      "tf.__operators__.getitem_169 (S (None, 3, 3)         0           reshape_169[0][0]                \n",
      "__________________________________________________________________________________________________\n",
      "tf.__operators__.getitem_170 (S (None, 3, 3)         0           reshape_169[0][0]                \n",
      "__________________________________________________________________________________________________\n",
      "tf.__operators__.getitem_171 (S (None, 3, 3)         0           reshape_169[0][0]                \n",
      "__________________________________________________________________________________________________\n",
      "tf.__operators__.getitem_172 (S (None, 3, 3)         0           reshape_169[0][0]                \n",
      "__________________________________________________________________________________________________\n",
      "tf.__operators__.getitem_173 (S (None, 3, 3)         0           reshape_169[0][0]                \n",
      "__________________________________________________________________________________________________\n",
      "tf.__operators__.getitem_174 (S (None, 3, 3)         0           reshape_169[0][0]                \n",
      "__________________________________________________________________________________________________\n",
      "tf.__operators__.getitem_175 (S (None, 3, 3)         0           reshape_169[0][0]                \n",
      "__________________________________________________________________________________________________\n",
      "tf.__operators__.getitem_176 (S (None, 3, 3)         0           reshape_169[0][0]                \n",
      "__________________________________________________________________________________________________\n",
      "tf.__operators__.getitem_177 (S (None, 3, 3)         0           reshape_169[0][0]                \n",
      "__________________________________________________________________________________________________\n",
      "tf.__operators__.getitem_178 (S (None, 3, 3)         0           reshape_169[0][0]                \n",
      "__________________________________________________________________________________________________\n",
      "tf.__operators__.getitem_179 (S (None, 3, 3)         0           reshape_169[0][0]                \n",
      "__________________________________________________________________________________________________\n",
      "tf.__operators__.getitem_180 (S (None, 3, 3)         0           reshape_169[0][0]                \n",
      "__________________________________________________________________________________________________\n",
      "tf.__operators__.getitem_181 (S (None, 3, 3)         0           reshape_169[0][0]                \n",
      "__________________________________________________________________________________________________\n",
      "tf.__operators__.getitem_182 (S (None, 3, 3)         0           reshape_169[0][0]                \n",
      "__________________________________________________________________________________________________\n",
      "tf.__operators__.getitem_183 (S (None, 3, 3)         0           reshape_169[0][0]                \n",
      "__________________________________________________________________________________________________\n",
      "tf.__operators__.getitem_184 (S (None, 3, 3)         0           reshape_169[0][0]                \n",
      "__________________________________________________________________________________________________\n",
      "tf.__operators__.getitem_185 (S (None, 3, 3)         0           reshape_169[0][0]                \n",
      "__________________________________________________________________________________________________\n",
      "tf.__operators__.getitem_186 (S (None, 3, 3)         0           reshape_169[0][0]                \n",
      "__________________________________________________________________________________________________\n",
      "tf.__operators__.getitem_187 (S (None, 3, 3)         0           reshape_169[0][0]                \n",
      "__________________________________________________________________________________________________\n",
      "tf.__operators__.getitem_188 (S (None, 3, 3)         0           reshape_169[0][0]                \n",
      "__________________________________________________________________________________________________\n",
      "tf.__operators__.getitem_189 (S (None, 3, 3)         0           reshape_169[0][0]                \n",
      "__________________________________________________________________________________________________\n",
      "tf.__operators__.getitem_190 (S (None, 3, 3)         0           reshape_169[0][0]                \n",
      "__________________________________________________________________________________________________\n",
      "tf.__operators__.getitem_191 (S (None, 3, 3)         0           reshape_169[0][0]                \n",
      "__________________________________________________________________________________________________\n",
      "tf.__operators__.getitem_192 (S (None, 3, 3)         0           reshape_169[0][0]                \n",
      "__________________________________________________________________________________________________\n",
      "tf.__operators__.getitem_193 (S (None, 3, 3)         0           reshape_169[0][0]                \n",
      "__________________________________________________________________________________________________\n",
      "tf.__operators__.getitem_194 (S (None, 3, 3)         0           reshape_169[0][0]                \n",
      "__________________________________________________________________________________________________\n",
      "tf.__operators__.getitem_195 (S (None, 3, 3)         0           reshape_169[0][0]                \n",
      "__________________________________________________________________________________________________\n",
      "tf.__operators__.getitem_196 (S (None, 3, 3)         0           reshape_169[0][0]                \n",
      "__________________________________________________________________________________________________\n",
      "tf.__operators__.getitem_197 (S (None, 3, 3)         0           reshape_169[0][0]                \n",
      "__________________________________________________________________________________________________\n",
      "tf.__operators__.getitem_198 (S (None, 3, 3)         0           reshape_169[0][0]                \n",
      "__________________________________________________________________________________________________\n",
      "tf.__operators__.getitem_199 (S (None, 3, 3)         0           reshape_169[0][0]                \n",
      "__________________________________________________________________________________________________\n",
      "tf.__operators__.getitem_200 (S (None, 3, 3)         0           reshape_169[0][0]                \n",
      "__________________________________________________________________________________________________\n",
      "tf.__operators__.getitem_201 (S (None, 3, 3)         0           reshape_169[0][0]                \n",
      "__________________________________________________________________________________________________\n",
      "tf.__operators__.getitem_202 (S (None, 3, 3)         0           reshape_169[0][0]                \n",
      "__________________________________________________________________________________________________\n",
      "tf.__operators__.getitem_203 (S (None, 3, 3)         0           reshape_169[0][0]                \n",
      "__________________________________________________________________________________________________\n",
      "tf.__operators__.getitem_204 (S (None, 3, 3)         0           reshape_169[0][0]                \n",
      "__________________________________________________________________________________________________\n",
      "Quantum_Conv_Layer_2 (KerasLaye (None, 1)            18          tf.__operators__.getitem_169[0][0\n",
      "                                                                 tf.__operators__.getitem_170[0][0\n",
      "                                                                 tf.__operators__.getitem_171[0][0\n",
      "                                                                 tf.__operators__.getitem_172[0][0\n",
      "                                                                 tf.__operators__.getitem_173[0][0\n",
      "                                                                 tf.__operators__.getitem_174[0][0\n",
      "                                                                 tf.__operators__.getitem_175[0][0\n",
      "                                                                 tf.__operators__.getitem_176[0][0\n",
      "                                                                 tf.__operators__.getitem_177[0][0\n",
      "                                                                 tf.__operators__.getitem_178[0][0\n",
      "                                                                 tf.__operators__.getitem_179[0][0\n",
      "                                                                 tf.__operators__.getitem_180[0][0\n",
      "                                                                 tf.__operators__.getitem_181[0][0\n",
      "                                                                 tf.__operators__.getitem_182[0][0\n",
      "                                                                 tf.__operators__.getitem_183[0][0\n",
      "                                                                 tf.__operators__.getitem_184[0][0\n",
      "                                                                 tf.__operators__.getitem_185[0][0\n",
      "                                                                 tf.__operators__.getitem_186[0][0\n",
      "                                                                 tf.__operators__.getitem_187[0][0\n",
      "                                                                 tf.__operators__.getitem_188[0][0\n",
      "                                                                 tf.__operators__.getitem_189[0][0\n",
      "                                                                 tf.__operators__.getitem_190[0][0\n",
      "                                                                 tf.__operators__.getitem_191[0][0\n",
      "                                                                 tf.__operators__.getitem_192[0][0\n",
      "                                                                 tf.__operators__.getitem_193[0][0\n",
      "                                                                 tf.__operators__.getitem_194[0][0\n",
      "                                                                 tf.__operators__.getitem_195[0][0\n",
      "                                                                 tf.__operators__.getitem_196[0][0\n",
      "                                                                 tf.__operators__.getitem_197[0][0\n",
      "                                                                 tf.__operators__.getitem_198[0][0\n",
      "                                                                 tf.__operators__.getitem_199[0][0\n",
      "                                                                 tf.__operators__.getitem_200[0][0\n",
      "                                                                 tf.__operators__.getitem_201[0][0\n",
      "                                                                 tf.__operators__.getitem_202[0][0\n",
      "                                                                 tf.__operators__.getitem_203[0][0\n",
      "                                                                 tf.__operators__.getitem_204[0][0\n",
      "__________________________________________________________________________________________________\n",
      "reshape_170 (Reshape)           (None, 1)            0           Quantum_Conv_Layer_2[0][0]       \n",
      "__________________________________________________________________________________________________\n",
      "reshape_171 (Reshape)           (None, 1)            0           Quantum_Conv_Layer_2[1][0]       \n",
      "__________________________________________________________________________________________________\n",
      "reshape_172 (Reshape)           (None, 1)            0           Quantum_Conv_Layer_2[2][0]       \n",
      "__________________________________________________________________________________________________\n",
      "reshape_173 (Reshape)           (None, 1)            0           Quantum_Conv_Layer_2[3][0]       \n",
      "__________________________________________________________________________________________________\n",
      "reshape_174 (Reshape)           (None, 1)            0           Quantum_Conv_Layer_2[4][0]       \n",
      "__________________________________________________________________________________________________\n",
      "reshape_175 (Reshape)           (None, 1)            0           Quantum_Conv_Layer_2[5][0]       \n",
      "__________________________________________________________________________________________________\n",
      "reshape_176 (Reshape)           (None, 1)            0           Quantum_Conv_Layer_2[6][0]       \n",
      "__________________________________________________________________________________________________\n",
      "reshape_177 (Reshape)           (None, 1)            0           Quantum_Conv_Layer_2[7][0]       \n",
      "__________________________________________________________________________________________________\n",
      "reshape_178 (Reshape)           (None, 1)            0           Quantum_Conv_Layer_2[8][0]       \n",
      "__________________________________________________________________________________________________\n",
      "reshape_179 (Reshape)           (None, 1)            0           Quantum_Conv_Layer_2[9][0]       \n",
      "__________________________________________________________________________________________________\n",
      "reshape_180 (Reshape)           (None, 1)            0           Quantum_Conv_Layer_2[10][0]      \n",
      "__________________________________________________________________________________________________\n",
      "reshape_181 (Reshape)           (None, 1)            0           Quantum_Conv_Layer_2[11][0]      \n",
      "__________________________________________________________________________________________________\n",
      "reshape_182 (Reshape)           (None, 1)            0           Quantum_Conv_Layer_2[12][0]      \n",
      "__________________________________________________________________________________________________\n",
      "reshape_183 (Reshape)           (None, 1)            0           Quantum_Conv_Layer_2[13][0]      \n",
      "__________________________________________________________________________________________________\n",
      "reshape_184 (Reshape)           (None, 1)            0           Quantum_Conv_Layer_2[14][0]      \n",
      "__________________________________________________________________________________________________\n",
      "reshape_185 (Reshape)           (None, 1)            0           Quantum_Conv_Layer_2[15][0]      \n",
      "__________________________________________________________________________________________________\n",
      "reshape_186 (Reshape)           (None, 1)            0           Quantum_Conv_Layer_2[16][0]      \n",
      "__________________________________________________________________________________________________\n",
      "reshape_187 (Reshape)           (None, 1)            0           Quantum_Conv_Layer_2[17][0]      \n",
      "__________________________________________________________________________________________________\n",
      "reshape_188 (Reshape)           (None, 1)            0           Quantum_Conv_Layer_2[18][0]      \n",
      "__________________________________________________________________________________________________\n",
      "reshape_189 (Reshape)           (None, 1)            0           Quantum_Conv_Layer_2[19][0]      \n",
      "__________________________________________________________________________________________________\n",
      "reshape_190 (Reshape)           (None, 1)            0           Quantum_Conv_Layer_2[20][0]      \n",
      "__________________________________________________________________________________________________\n",
      "reshape_191 (Reshape)           (None, 1)            0           Quantum_Conv_Layer_2[21][0]      \n",
      "__________________________________________________________________________________________________\n",
      "reshape_192 (Reshape)           (None, 1)            0           Quantum_Conv_Layer_2[22][0]      \n",
      "__________________________________________________________________________________________________\n",
      "reshape_193 (Reshape)           (None, 1)            0           Quantum_Conv_Layer_2[23][0]      \n",
      "__________________________________________________________________________________________________\n",
      "reshape_194 (Reshape)           (None, 1)            0           Quantum_Conv_Layer_2[24][0]      \n",
      "__________________________________________________________________________________________________\n",
      "reshape_195 (Reshape)           (None, 1)            0           Quantum_Conv_Layer_2[25][0]      \n",
      "__________________________________________________________________________________________________\n",
      "reshape_196 (Reshape)           (None, 1)            0           Quantum_Conv_Layer_2[26][0]      \n",
      "__________________________________________________________________________________________________\n",
      "reshape_197 (Reshape)           (None, 1)            0           Quantum_Conv_Layer_2[27][0]      \n",
      "__________________________________________________________________________________________________\n",
      "reshape_198 (Reshape)           (None, 1)            0           Quantum_Conv_Layer_2[28][0]      \n",
      "__________________________________________________________________________________________________\n",
      "reshape_199 (Reshape)           (None, 1)            0           Quantum_Conv_Layer_2[29][0]      \n",
      "__________________________________________________________________________________________________\n",
      "reshape_200 (Reshape)           (None, 1)            0           Quantum_Conv_Layer_2[30][0]      \n",
      "__________________________________________________________________________________________________\n",
      "reshape_201 (Reshape)           (None, 1)            0           Quantum_Conv_Layer_2[31][0]      \n",
      "__________________________________________________________________________________________________\n",
      "reshape_202 (Reshape)           (None, 1)            0           Quantum_Conv_Layer_2[32][0]      \n",
      "__________________________________________________________________________________________________\n",
      "reshape_203 (Reshape)           (None, 1)            0           Quantum_Conv_Layer_2[33][0]      \n",
      "__________________________________________________________________________________________________\n",
      "reshape_204 (Reshape)           (None, 1)            0           Quantum_Conv_Layer_2[34][0]      \n",
      "__________________________________________________________________________________________________\n",
      "reshape_205 (Reshape)           (None, 1)            0           Quantum_Conv_Layer_2[35][0]      \n",
      "__________________________________________________________________________________________________\n",
      "concatenate_1 (Concatenate)     (None, 36)           0           reshape_170[0][0]                \n",
      "                                                                 reshape_171[0][0]                \n",
      "                                                                 reshape_172[0][0]                \n",
      "                                                                 reshape_173[0][0]                \n",
      "                                                                 reshape_174[0][0]                \n",
      "                                                                 reshape_175[0][0]                \n",
      "                                                                 reshape_176[0][0]                \n",
      "                                                                 reshape_177[0][0]                \n",
      "                                                                 reshape_178[0][0]                \n",
      "                                                                 reshape_179[0][0]                \n",
      "                                                                 reshape_180[0][0]                \n",
      "                                                                 reshape_181[0][0]                \n",
      "                                                                 reshape_182[0][0]                \n",
      "                                                                 reshape_183[0][0]                \n",
      "                                                                 reshape_184[0][0]                \n",
      "                                                                 reshape_185[0][0]                \n",
      "                                                                 reshape_186[0][0]                \n",
      "                                                                 reshape_187[0][0]                \n",
      "                                                                 reshape_188[0][0]                \n",
      "                                                                 reshape_189[0][0]                \n",
      "                                                                 reshape_190[0][0]                \n",
      "                                                                 reshape_191[0][0]                \n",
      "                                                                 reshape_192[0][0]                \n",
      "                                                                 reshape_193[0][0]                \n",
      "                                                                 reshape_194[0][0]                \n",
      "                                                                 reshape_195[0][0]                \n",
      "                                                                 reshape_196[0][0]                \n",
      "                                                                 reshape_197[0][0]                \n",
      "                                                                 reshape_198[0][0]                \n",
      "                                                                 reshape_199[0][0]                \n",
      "                                                                 reshape_200[0][0]                \n",
      "                                                                 reshape_201[0][0]                \n",
      "                                                                 reshape_202[0][0]                \n",
      "                                                                 reshape_203[0][0]                \n",
      "                                                                 reshape_204[0][0]                \n",
      "                                                                 reshape_205[0][0]                \n",
      "__________________________________________________________________________________________________\n",
      "reshape_206 (Reshape)           (None, 6, 6, 1)      0           concatenate_1[0][0]              \n",
      "__________________________________________________________________________________________________\n",
      "Max_Pool_Layer (MaxPooling2D)   (None, 3, 3, 1)      0           reshape_206[0][0]                \n",
      "__________________________________________________________________________________________________\n",
      "reshape_207 (Reshape)           (None, 9)            0           Max_Pool_Layer[0][0]             \n",
      "__________________________________________________________________________________________________\n",
      "keras_layer (KerasLayer)        (None, 2)            18          reshape_207[0][0]                \n",
      "__________________________________________________________________________________________________\n",
      "class_weights (class_weights)   (None, 2)            2           keras_layer[0][0]                \n",
      "==================================================================================================\n",
      "Total params: 56\n",
      "Trainable params: 56\n",
      "Non-trainable params: 0\n",
      "__________________________________________________________________________________________________\n"
     ]
    }
   ],
   "source": [
    "model.summary()"
   ]
  },
  {
   "cell_type": "code",
   "execution_count": 24,
   "metadata": {},
   "outputs": [
    {
     "data": {
      "text/plain": [
       "{'loss': [0.34813618659973145,\n",
       "  0.2664911150932312,\n",
       "  0.16182418167591095,\n",
       "  0.0643858015537262,\n",
       "  0.03387075290083885,\n",
       "  0.023905329406261444,\n",
       "  0.01728159189224243,\n",
       "  0.014526670798659325,\n",
       "  0.015740571543574333,\n",
       "  0.014256746508181095],\n",
       " 'accuracy': [0.48500001430511475,\n",
       "  0.4749999940395355,\n",
       "  0.8025000095367432,\n",
       "  0.9325000047683716,\n",
       "  0.9750000238418579,\n",
       "  0.9825000166893005,\n",
       "  0.9775000214576721,\n",
       "  0.9850000143051147,\n",
       "  0.9825000166893005,\n",
       "  0.9825000166893005],\n",
       " 'val_loss': [0.25594961643218994,\n",
       "  0.24731574952602386,\n",
       "  0.1074986532330513,\n",
       "  0.03673959895968437,\n",
       "  0.01930546946823597,\n",
       "  0.01758934184908867,\n",
       "  0.013311878778040409,\n",
       "  0.01229886058717966,\n",
       "  0.015210121870040894,\n",
       "  0.016688041388988495],\n",
       " 'val_accuracy': [0.5,\n",
       "  0.5019999742507935,\n",
       "  0.8790000081062317,\n",
       "  0.9710000157356262,\n",
       "  0.9850000143051147,\n",
       "  0.9850000143051147,\n",
       "  0.9850000143051147,\n",
       "  0.9869999885559082,\n",
       "  0.9819999933242798,\n",
       "  0.984000027179718]}"
      ]
     },
     "execution_count": 24,
     "metadata": {},
     "output_type": "execute_result"
    }
   ],
   "source": [
    "# fix ent\n",
    "H.history"
   ]
  },
  {
   "cell_type": "code",
   "execution_count": 25,
   "metadata": {},
   "outputs": [
    {
     "data": {
      "text/plain": [
       "[<tf.Variable 'model/Quantum_Conv_Layer_1/conv_params:0' shape=(2, 1, 9) dtype=float32, numpy=\n",
       " array([[[ 1.6704171 , -0.37210035, -1.4763509 , -0.09573141,\n",
       "          -1.4124248 , -0.5384489 , -1.5873678 , -0.4178921 ,\n",
       "           0.86764395]],\n",
       " \n",
       "        [[ 0.07841697,  0.06181896, -0.11658821,  0.08088297,\n",
       "          -0.22606611, -0.47507533,  0.20372277,  0.43287253,\n",
       "          -0.4662246 ]]], dtype=float32)>,\n",
       " <tf.Variable 'model/Quantum_Conv_Layer_2/conv_params:0' shape=(2, 1, 9) dtype=float32, numpy=\n",
       " array([[[ 2.531285  , -0.53907233,  1.2279214 , -0.04873934,\n",
       "          -1.9625113 , -0.31179625,  1.4537607 , -0.3272767 ,\n",
       "           1.5368826 ]],\n",
       " \n",
       "        [[ 0.8165296 ,  0.3640772 ,  1.7864715 ,  0.5245018 ,\n",
       "          -1.6975542 , -0.21682522,  2.097541  ,  0.49968052,\n",
       "           2.2059586 ]]], dtype=float32)>,\n",
       " <tf.Variable 'model/keras_layer/params:0' shape=(2, 1, 9) dtype=float32, numpy=\n",
       " array([[[ 0.3726357 , -1.0686979 ,  0.24734715,  2.5706375 ,\n",
       "           3.4816115 , -0.3167716 ,  1.2021828 ,  0.19082105,\n",
       "           0.0209959 ]],\n",
       " \n",
       "        [[-0.213224  ,  1.235254  ,  2.298314  ,  2.2815244 ,\n",
       "          -1.1340573 ,  0.8286312 ,  0.6926544 , -1.0297745 ,\n",
       "           0.14662777]]], dtype=float32)>,\n",
       " <tf.Variable 'Variable:0' shape=(1, 2) dtype=float32, numpy=array([[1.0300629, 1.0569185]], dtype=float32)>]"
      ]
     },
     "execution_count": 25,
     "metadata": {},
     "output_type": "execute_result"
    }
   ],
   "source": [
    "# fix ent\n",
    "model.weights"
   ]
  },
  {
   "cell_type": "markdown",
   "metadata": {},
   "source": [
    "# Exploring the results"
   ]
  },
  {
   "cell_type": "code",
   "execution_count": 26,
   "metadata": {},
   "outputs": [
    {
     "data": {
      "text/plain": [
       "((40, 729), (40,))"
      ]
     },
     "execution_count": 26,
     "metadata": {},
     "output_type": "execute_result"
    }
   ],
   "source": [
    "X_train = np.concatenate((x_train_list[0][:20, :], x_train_list[1][:20, :]), axis=0)\n",
    "Y_train = np.zeros((X_train.shape[0],), dtype=int)\n",
    "Y_train[20:] += 1\n",
    "\n",
    "X_train.shape, Y_train.shape"
   ]
  },
  {
   "cell_type": "code",
   "execution_count": 27,
   "metadata": {},
   "outputs": [
    {
     "data": {
      "text/plain": [
       "((40, 729), (40,))"
      ]
     },
     "execution_count": 27,
     "metadata": {},
     "output_type": "execute_result"
    }
   ],
   "source": [
    "X_test = np.concatenate((x_test_list[0][:20, :], x_test_list[1][:20, :]), axis=0)\n",
    "Y_test = np.zeros((X_test.shape[0],), dtype=int)\n",
    "Y_test[20:] += 1\n",
    "\n",
    "X_test.shape, Y_test.shape"
   ]
  },
  {
   "cell_type": "code",
   "execution_count": 28,
   "metadata": {},
   "outputs": [
    {
     "data": {
      "text/plain": [
       "((40, 27, 27), (40, 27, 27))"
      ]
     },
     "execution_count": 28,
     "metadata": {},
     "output_type": "execute_result"
    }
   ],
   "source": [
    "X_train = X_train.reshape(X_train.shape[0], 27, 27)\n",
    "X_test = X_test.reshape(X_test.shape[0], 27, 27)\n",
    "\n",
    "X_train.shape, X_test.shape"
   ]
  },
  {
   "cell_type": "markdown",
   "metadata": {},
   "source": [
    "## First Layer"
   ]
  },
  {
   "cell_type": "code",
   "execution_count": 64,
   "metadata": {},
   "outputs": [
    {
     "data": {
      "text/plain": [
       "(2, 1, 9)"
      ]
     },
     "execution_count": 64,
     "metadata": {},
     "output_type": "execute_result"
    }
   ],
   "source": [
    "qconv_1_weights = np.array([[[ 1.6704171 , -0.37210035, -1.4763509 , -0.09573141,\n",
    "          -1.4124248 , -0.5384489 , -1.5873678 , -0.4178921 ,\n",
    "           0.86764395]],\n",
    " \n",
    "        [[ 0.07841697,  0.06181896, -0.11658821,  0.08088297,\n",
    "          -0.22606611, -0.47507533,  0.20372277,  0.43287253,\n",
    "          -0.4662246 ]]])\n",
    "\n",
    "qconv_1_weights.shape"
   ]
  },
  {
   "cell_type": "code",
   "execution_count": 30,
   "metadata": {},
   "outputs": [],
   "source": [
    "# Input image, size = 27 x 27\n",
    "X = tf.keras.Input(shape=(27,27), name='Input_Layer')\n",
    "\n",
    "\n",
    "# Specs for Conv\n",
    "c_filter = 3\n",
    "c_strides = 2\n",
    "\n",
    "\n",
    "# First Quantum Conv Layer, trainable params = 18*L, output size = 13 x 13\n",
    "num_conv_layer_1 = 1\n",
    "q_conv_layer_1 = qml.qnn.KerasLayer(q_conv, {\"conv_params\": (2, num_conv_layer_1, 9)}, output_dim=(1), name='Quantum_Conv_Layer_1')\n",
    "size_1 = int(1+(X.shape[1]-c_filter)/c_strides)\n",
    "q_conv_layer_1_list = []\n",
    "# height iteration\n",
    "for i in range(size_1):\n",
    "    # width iteration\n",
    "    for j in range(size_1):\n",
    "        temp = q_conv_layer_1(X[:, 2*i:2*(i+1)+1, 2*j:2*(j+1)+1])\n",
    "        temp = tf.keras.layers.Reshape((1,))(temp)\n",
    "        q_conv_layer_1_list += [temp]\n",
    "concat_layer_1 = tf.keras.layers.Concatenate(axis=1)(q_conv_layer_1_list)\n",
    "reshape_layer_1 = tf.keras.layers.Reshape((size_1, size_1))(concat_layer_1)\n",
    "\n",
    "qconv1_model = tf.keras.Model(inputs=X, outputs=reshape_layer_1)\n"
   ]
  },
  {
   "cell_type": "code",
   "execution_count": 31,
   "metadata": {},
   "outputs": [],
   "source": [
    "qconv1_model(X_train[0:1])\n",
    "qconv1_model.get_layer('Quantum_Conv_Layer_1').set_weights([qconv_1_weights])"
   ]
  },
  {
   "cell_type": "code",
   "execution_count": 32,
   "metadata": {},
   "outputs": [
    {
     "data": {
      "text/plain": [
       "[<tf.Variable 'model_1/Quantum_Conv_Layer_1/conv_params:0' shape=(2, 1, 9) dtype=float32, numpy=\n",
       " array([[[ 1.6704171 , -0.37210035, -1.4763509 , -0.09573141,\n",
       "          -1.4124248 , -0.5384489 , -1.5873678 , -0.4178921 ,\n",
       "           0.86764395]],\n",
       " \n",
       "        [[ 0.07841697,  0.06181896, -0.11658821,  0.08088297,\n",
       "          -0.22606611, -0.47507533,  0.20372277,  0.43287253,\n",
       "          -0.4662246 ]]], dtype=float32)>]"
      ]
     },
     "execution_count": 32,
     "metadata": {},
     "output_type": "execute_result"
    }
   ],
   "source": [
    "qconv1_model.weights"
   ]
  },
  {
   "cell_type": "code",
   "execution_count": 33,
   "metadata": {},
   "outputs": [
    {
     "name": "stdout",
     "output_type": "stream",
     "text": [
      "(40, 169) (40, 169)\n"
     ]
    }
   ],
   "source": [
    "preprocessed_img_train = qconv1_model(X_train)\n",
    "\n",
    "preprocessed_img_test = qconv1_model(X_test)\n",
    "\n",
    "data_train = preprocessed_img_train.numpy().reshape(-1, 13*13)\n",
    "np.savetxt('./2_QConv2ent_QFC-Filter1_Image_Train.txt', data_train)\n",
    "\n",
    "data_test = preprocessed_img_test.numpy().reshape(-1, 13*13)\n",
    "np.savetxt('./2_QConv2ent_QFC-Filter1_Image_Test.txt', data_test)\n",
    "\n",
    "print(data_train.shape, data_test.shape)"
   ]
  },
  {
   "cell_type": "markdown",
   "metadata": {},
   "source": [
    "## Second Layer"
   ]
  },
  {
   "cell_type": "code",
   "execution_count": 65,
   "metadata": {},
   "outputs": [
    {
     "data": {
      "text/plain": [
       "(2, 1, 9)"
      ]
     },
     "execution_count": 65,
     "metadata": {},
     "output_type": "execute_result"
    }
   ],
   "source": [
    "qconv_2_weights = np.array([[[ 2.531285  , -0.53907233,  1.2279214 , -0.04873934,\n",
    "          -1.9625113 , -0.31179625,  1.4537607 , -0.3272767 ,\n",
    "           1.5368826 ]],\n",
    " \n",
    "        [[ 0.8165296 ,  0.3640772 ,  1.7864715 ,  0.5245018 ,\n",
    "          -1.6975542 , -0.21682522,  2.097541  ,  0.49968052,\n",
    "           2.2059586 ]]])\n",
    "\n",
    "qconv_2_weights.shape"
   ]
  },
  {
   "cell_type": "code",
   "execution_count": 35,
   "metadata": {},
   "outputs": [],
   "source": [
    "# Input image, size = 27 x 27\n",
    "X = tf.keras.Input(shape=(27,27), name='Input_Layer')\n",
    "\n",
    "\n",
    "# Specs for Conv\n",
    "c_filter = 3\n",
    "c_strides = 2\n",
    "\n",
    "\n",
    "# First Quantum Conv Layer, trainable params = 18*L, output size = 13 x 13\n",
    "num_conv_layer_1 = 1\n",
    "q_conv_layer_1 = qml.qnn.KerasLayer(q_conv, {\"conv_params\": (2, num_conv_layer_1, 9)}, output_dim=(1), name='Quantum_Conv_Layer_1')\n",
    "size_1 = int(1+(X.shape[1]-c_filter)/c_strides)\n",
    "q_conv_layer_1_list = []\n",
    "# height iteration\n",
    "for i in range(size_1):\n",
    "    # width iteration\n",
    "    for j in range(size_1):\n",
    "        temp = q_conv_layer_1(X[:, 2*i:2*(i+1)+1, 2*j:2*(j+1)+1])\n",
    "        temp = tf.keras.layers.Reshape((1,))(temp)\n",
    "        q_conv_layer_1_list += [temp]\n",
    "concat_layer_1 = tf.keras.layers.Concatenate(axis=1)(q_conv_layer_1_list)\n",
    "reshape_layer_1 = tf.keras.layers.Reshape((size_1, size_1))(concat_layer_1)\n",
    "\n",
    "\n",
    "# Second Quantum Conv Layer, trainable params = 18*L, output size = 6 x 6\n",
    "num_conv_layer_2 = 1\n",
    "q_conv_layer_2 = qml.qnn.KerasLayer(q_conv, {\"conv_params\": (2, num_conv_layer_2, 9)}, output_dim=(1), name='Quantum_Conv_Layer_2')\n",
    "size_2 = int(1+(reshape_layer_1.shape[1]-c_filter)/c_strides)\n",
    "q_conv_layer_2_list = []\n",
    "# height iteration\n",
    "for i in range(size_2):\n",
    "    # width iteration\n",
    "    for j in range(size_2):\n",
    "        temp = q_conv_layer_2(reshape_layer_1[:, 2*i:2*(i+1)+1, 2*j:2*(j+1)+1])\n",
    "        temp = tf.keras.layers.Reshape((1,))(temp)\n",
    "        q_conv_layer_2_list += [temp]\n",
    "concat_layer_2 = tf.keras.layers.Concatenate(axis=1)(q_conv_layer_2_list)\n",
    "reshape_layer_2 = tf.keras.layers.Reshape((size_2, size_2, 1))(concat_layer_2)\n",
    "\n",
    "qconv2_model = tf.keras.Model(inputs=X, outputs=reshape_layer_2)\n"
   ]
  },
  {
   "cell_type": "code",
   "execution_count": 36,
   "metadata": {},
   "outputs": [],
   "source": [
    "qconv2_model(X_train[0:1])\n",
    "qconv2_model.get_layer('Quantum_Conv_Layer_1').set_weights([qconv_1_weights])\n",
    "qconv2_model.get_layer('Quantum_Conv_Layer_2').set_weights([qconv_2_weights])"
   ]
  },
  {
   "cell_type": "code",
   "execution_count": 37,
   "metadata": {},
   "outputs": [
    {
     "data": {
      "text/plain": [
       "[<tf.Variable 'model_2/Quantum_Conv_Layer_1/conv_params:0' shape=(2, 1, 9) dtype=float32, numpy=\n",
       " array([[[ 1.6704171 , -0.37210035, -1.4763509 , -0.09573141,\n",
       "          -1.4124248 , -0.5384489 , -1.5873678 , -0.4178921 ,\n",
       "           0.86764395]],\n",
       " \n",
       "        [[ 0.07841697,  0.06181896, -0.11658821,  0.08088297,\n",
       "          -0.22606611, -0.47507533,  0.20372277,  0.43287253,\n",
       "          -0.4662246 ]]], dtype=float32)>,\n",
       " <tf.Variable 'model_2/Quantum_Conv_Layer_2/conv_params:0' shape=(2, 1, 9) dtype=float32, numpy=\n",
       " array([[[ 2.531285  , -0.53907233,  1.2279214 , -0.04873934,\n",
       "          -1.9625113 , -0.31179625,  1.4537607 , -0.3272767 ,\n",
       "           1.5368826 ]],\n",
       " \n",
       "        [[ 0.8165296 ,  0.3640772 ,  1.7864715 ,  0.5245018 ,\n",
       "          -1.6975542 , -0.21682522,  2.097541  ,  0.49968052,\n",
       "           2.2059586 ]]], dtype=float32)>]"
      ]
     },
     "execution_count": 37,
     "metadata": {},
     "output_type": "execute_result"
    }
   ],
   "source": [
    "qconv2_model.weights"
   ]
  },
  {
   "cell_type": "code",
   "execution_count": 38,
   "metadata": {},
   "outputs": [
    {
     "name": "stdout",
     "output_type": "stream",
     "text": [
      "(40, 36) (40, 36)\n"
     ]
    }
   ],
   "source": [
    "preprocessed_img_train = qconv2_model(X_train)\n",
    "\n",
    "preprocessed_img_test = qconv2_model(X_test)\n",
    "\n",
    "data_train = preprocessed_img_train.numpy().reshape(-1, 6*6)\n",
    "np.savetxt('./2_QConv2ent_QFC-Filter2_Image_Train.txt', data_train)\n",
    "\n",
    "data_test = preprocessed_img_test.numpy().reshape(-1, 6*6)\n",
    "np.savetxt('./2_QConv2ent_QFC-Filter2_Image_Test.txt', data_test)\n",
    "\n",
    "print(data_train.shape, data_test.shape)"
   ]
  },
  {
   "cell_type": "markdown",
   "metadata": {},
   "source": [
    "## Quantum States"
   ]
  },
  {
   "cell_type": "code",
   "execution_count": 66,
   "metadata": {},
   "outputs": [
    {
     "data": {
      "text/plain": [
       "((400, 27, 27), (1000, 27, 27))"
      ]
     },
     "execution_count": 66,
     "metadata": {},
     "output_type": "execute_result"
    }
   ],
   "source": [
    "X_train.shape, X_test.shape"
   ]
  },
  {
   "cell_type": "code",
   "execution_count": 68,
   "metadata": {},
   "outputs": [
    {
     "data": {
      "text/plain": [
       "(2, 1, 9)"
      ]
     },
     "execution_count": 68,
     "metadata": {},
     "output_type": "execute_result"
    }
   ],
   "source": [
    "q_fc_weights = np.array([[[ 0.3726357 , -1.0686979 ,  0.24734715,  2.5706375 ,\n",
    "           3.4816115 , -0.3167716 ,  1.2021828 ,  0.19082105,\n",
    "           0.0209959 ]],\n",
    " \n",
    "        [[-0.213224  ,  1.235254  ,  2.298314  ,  2.2815244 ,\n",
    "          -1.1340573 ,  0.8286312 ,  0.6926544 , -1.0297745 ,\n",
    "           0.14662777]]])\n",
    "\n",
    "q_fc_weights.shape"
   ]
  },
  {
   "cell_type": "code",
   "execution_count": 40,
   "metadata": {},
   "outputs": [],
   "source": [
    "pred_train = model.predict(X_train)\n",
    "pred_test = model.predict(X_test)"
   ]
  },
  {
   "cell_type": "code",
   "execution_count": 41,
   "metadata": {},
   "outputs": [
    {
     "data": {
      "text/plain": [
       "tensor([0, 0, 0, 0, 0, 0, 0, 0, 0, 0, 0, 0, 0, 0, 0, 0, 0, 0, 0, 0, 1, 1,\n",
       "        1, 1, 1, 0, 1, 1, 1, 1, 1, 1, 1, 1, 1, 1, 1, 1, 1, 1], requires_grad=True)"
      ]
     },
     "execution_count": 41,
     "metadata": {},
     "output_type": "execute_result"
    }
   ],
   "source": [
    "np.argmax(pred_train, axis=1)"
   ]
  },
  {
   "cell_type": "code",
   "execution_count": 42,
   "metadata": {},
   "outputs": [
    {
     "data": {
      "text/plain": [
       "tensor([0, 0, 0, 0, 0, 0, 0, 0, 0, 0, 0, 0, 0, 0, 0, 0, 0, 0, 0, 0, 1, 1,\n",
       "        1, 1, 1, 1, 1, 1, 1, 1, 1, 1, 1, 1, 1, 1, 1, 1, 1, 1], requires_grad=True)"
      ]
     },
     "execution_count": 42,
     "metadata": {},
     "output_type": "execute_result"
    }
   ],
   "source": [
    "np.argmax(pred_test, axis=1)"
   ]
  },
  {
   "cell_type": "code",
   "execution_count": 69,
   "metadata": {},
   "outputs": [],
   "source": [
    "# Input image, size = 27 x 27\n",
    "X = tf.keras.Input(shape=(27,27), name='Input_Layer')\n",
    "\n",
    "\n",
    "# Specs for Conv\n",
    "c_filter = 3\n",
    "c_strides = 2\n",
    "\n",
    "\n",
    "# First Quantum Conv Layer, trainable params = 18*L, output size = 13 x 13\n",
    "num_conv_layer_1 = 1\n",
    "q_conv_layer_1 = qml.qnn.KerasLayer(q_conv, {\"conv_params\": (2, num_conv_layer_1, 9)}, output_dim=(1), name='Quantum_Conv_Layer_1')\n",
    "size_1 = int(1+(X.shape[1]-c_filter)/c_strides)\n",
    "q_conv_layer_1_list = []\n",
    "# height iteration\n",
    "for i in range(size_1):\n",
    "    # width iteration\n",
    "    for j in range(size_1):\n",
    "        temp = q_conv_layer_1(X[:, 2*i:2*(i+1)+1, 2*j:2*(j+1)+1])\n",
    "        temp = tf.keras.layers.Reshape((1,))(temp)\n",
    "        q_conv_layer_1_list += [temp]\n",
    "concat_layer_1 = tf.keras.layers.Concatenate(axis=1)(q_conv_layer_1_list)\n",
    "reshape_layer_1 = tf.keras.layers.Reshape((size_1, size_1))(concat_layer_1)\n",
    "\n",
    "\n",
    "# Second Quantum Conv Layer, trainable params = 18*L, output size = 6 x 6\n",
    "num_conv_layer_2 = 1\n",
    "q_conv_layer_2 = qml.qnn.KerasLayer(q_conv, {\"conv_params\": (2, num_conv_layer_2, 9)}, output_dim=(1), name='Quantum_Conv_Layer_2')\n",
    "size_2 = int(1+(reshape_layer_1.shape[1]-c_filter)/c_strides)\n",
    "q_conv_layer_2_list = []\n",
    "# height iteration\n",
    "for i in range(size_2):\n",
    "    # width iteration\n",
    "    for j in range(size_2):\n",
    "        temp = q_conv_layer_2(reshape_layer_1[:, 2*i:2*(i+1)+1, 2*j:2*(j+1)+1])\n",
    "        temp = tf.keras.layers.Reshape((1,))(temp)\n",
    "        q_conv_layer_2_list += [temp]\n",
    "concat_layer_2 = tf.keras.layers.Concatenate(axis=1)(q_conv_layer_2_list)\n",
    "reshape_layer_2 = tf.keras.layers.Reshape((size_2, size_2, 1))(concat_layer_2)\n",
    "\n",
    "\n",
    "# Max Pooling Layer, output size = 9\n",
    "max_pool_layer = tf.keras.layers.MaxPooling2D(pool_size=(2, 2), strides=None, name='Max_Pool_Layer')(reshape_layer_2)\n",
    "reshape_layer_3 = tf.keras.layers.Reshape((9,))(max_pool_layer)\n",
    "\n",
    "maxpool_model = tf.keras.Model(inputs=X, outputs=reshape_layer_3)\n"
   ]
  },
  {
   "cell_type": "code",
   "execution_count": 70,
   "metadata": {},
   "outputs": [],
   "source": [
    "maxpool_model(X_train[0:1])\n",
    "maxpool_model.get_layer('Quantum_Conv_Layer_1').set_weights([qconv_1_weights])\n",
    "maxpool_model.get_layer('Quantum_Conv_Layer_2').set_weights([qconv_2_weights])"
   ]
  },
  {
   "cell_type": "code",
   "execution_count": 71,
   "metadata": {},
   "outputs": [
    {
     "data": {
      "text/plain": [
       "(TensorShape([400, 9]), TensorShape([1000, 9]))"
      ]
     },
     "execution_count": 71,
     "metadata": {},
     "output_type": "execute_result"
    }
   ],
   "source": [
    "maxpool_train = maxpool_model(X_train)\n",
    "maxpool_test = maxpool_model(X_test)\n",
    "\n",
    "maxpool_train.shape, maxpool_test.shape"
   ]
  },
  {
   "cell_type": "code",
   "execution_count": 72,
   "metadata": {},
   "outputs": [],
   "source": [
    "n_qubits = 1  # number of class\n",
    "dev_state = qml.device(\"default.qubit\", wires=n_qubits)\n",
    "\n",
    "\n",
    "@qml.qnode(dev_state)\n",
    "def q_fc_state(params, inputs):\n",
    "    \n",
    "    # layer iteration\n",
    "    for l in range(len(params[0])):\n",
    "        # qubit iteration\n",
    "        for q in range(n_qubits):\n",
    "            # gate iteration\n",
    "            for g in range(int(len(inputs)/3)):\n",
    "                qml.Rot(*(params[0][l][3*g:3*(g+1)] * inputs[3*g:3*(g+1)] + params[1][l][3*g:3*(g+1)]), wires=q)\n",
    "    \n",
    "    #return [qml.expval(qml.Hermitian(density_matrix(state_labels[i]), wires=[i])) for i in range(n_qubits)]\n",
    "    return qml.expval(qml.Hermitian(density_matrix(state_labels[0]), wires=[0]))"
   ]
  },
  {
   "cell_type": "code",
   "execution_count": 73,
   "metadata": {},
   "outputs": [
    {
     "data": {
      "text/plain": [
       "tensor(1., requires_grad=True)"
      ]
     },
     "execution_count": 73,
     "metadata": {},
     "output_type": "execute_result"
    }
   ],
   "source": [
    "q_fc_state(np.zeros((2,1,9)), maxpool_train[0])"
   ]
  },
  {
   "cell_type": "code",
   "execution_count": 74,
   "metadata": {},
   "outputs": [
    {
     "data": {
      "text/plain": [
       "tensor(0.95763762, requires_grad=True)"
      ]
     },
     "execution_count": 74,
     "metadata": {},
     "output_type": "execute_result"
    }
   ],
   "source": [
    "q_fc_state(q_fc_weights, maxpool_train[0])"
   ]
  },
  {
   "cell_type": "code",
   "execution_count": 75,
   "metadata": {},
   "outputs": [],
   "source": [
    "train_state = np.zeros((len(X_train), 2), dtype=np.complex_)\n",
    "test_state = np.zeros((len(X_test), 2), dtype=np.complex_)\n",
    "\n",
    "for i in range(len(train_state)):\n",
    "    \n",
    "    q_fc_state(q_fc_weights, maxpool_train[i])\n",
    "    temp = np.flip(dev_state._state)\n",
    "    train_state[i, :] = temp\n",
    "    \n",
    "for i in range(len(test_state)):\n",
    "    q_fc_state(q_fc_weights, maxpool_test[i])\n",
    "    temp = np.flip(dev_state._state)\n",
    "    test_state[i, :] = temp"
   ]
  },
  {
   "cell_type": "code",
   "execution_count": 77,
   "metadata": {},
   "outputs": [
    {
     "data": {
      "text/plain": [
       "((400, 2), (1000, 2))"
      ]
     },
     "execution_count": 77,
     "metadata": {},
     "output_type": "execute_result"
    }
   ],
   "source": [
    "train_state.shape, test_state.shape"
   ]
  },
  {
   "cell_type": "code",
   "execution_count": 78,
   "metadata": {},
   "outputs": [
    {
     "name": "stdout",
     "output_type": "stream",
     "text": [
      "[ True  True  True  True  True  True  True  True  True  True  True  True\n",
      "  True  True  True  True  True  True  True  True  True  True  True  True\n",
      "  True  True  True  True  True  True  True  True  True  True  True  True\n",
      "  True  True  True  True  True  True  True  True  True  True  True  True\n",
      "  True  True  True  True  True  True  True  True  True  True  True  True\n",
      "  True  True  True  True  True  True  True  True  True  True  True False\n",
      "  True  True  True  True  True  True  True  True  True  True  True  True\n",
      "  True  True  True  True  True False  True  True  True  True  True  True\n",
      "  True  True  True  True  True  True  True  True  True  True  True  True\n",
      "  True  True  True  True  True  True False  True  True  True  True  True\n",
      "  True  True  True  True  True  True  True  True  True  True  True  True\n",
      "  True  True  True  True  True  True  True  True  True  True False  True\n",
      "  True  True  True  True  True  True False  True  True  True  True  True\n",
      "  True  True  True  True  True  True  True  True  True  True  True  True\n",
      "  True  True  True  True  True  True  True  True  True  True  True  True\n",
      "  True  True  True  True  True  True  True  True  True  True  True  True\n",
      "  True  True  True  True  True  True  True  True False False False False\n",
      " False  True False False False False False False False False False False\n",
      " False False False False False False False False False False False False\n",
      " False False False  True False False False False False False False False\n",
      " False False False False False False False False False False False False\n",
      " False False False False False False False False False False False False\n",
      " False False False False False False False False False False False False\n",
      " False False False False False False False False False False False False\n",
      " False False False False False False False False False False False False\n",
      " False False False False False False False False False False False False\n",
      " False False False False False False False False False False False False\n",
      " False False False False False False False False False False False False\n",
      " False False False False False False False False False False False False\n",
      " False False False False False False False False False False False False\n",
      " False False False False False False False False False False False False\n",
      " False False False False False False False False False False False False\n",
      " False False False False False False False False False False False False\n",
      " False False False False]\n",
      "[ True  True  True  True  True  True  True  True  True  True  True  True\n",
      "  True  True  True  True  True  True  True  True  True  True  True  True\n",
      "  True  True  True  True  True False  True  True  True  True  True  True\n",
      "  True False  True  True  True  True  True  True  True  True  True  True\n",
      "  True  True  True  True  True  True  True  True  True  True  True False\n",
      "  True  True  True  True  True  True  True  True  True  True  True  True\n",
      "  True  True  True  True  True  True  True  True  True  True  True  True\n",
      "  True  True  True  True  True  True  True  True  True  True  True False\n",
      "  True  True  True  True  True  True  True  True  True  True  True  True\n",
      "  True  True  True  True  True  True  True  True False  True  True  True\n",
      "  True  True  True  True  True  True  True  True  True  True  True  True\n",
      "  True  True  True  True  True  True  True  True  True  True  True  True\n",
      "  True  True  True  True  True  True  True  True  True  True  True  True\n",
      "  True  True  True  True  True  True  True  True  True  True  True  True\n",
      "  True  True  True  True  True  True  True  True  True  True  True  True\n",
      "  True  True  True  True  True  True  True  True False  True  True  True\n",
      "  True  True  True  True  True  True  True  True  True  True  True  True\n",
      "  True  True  True  True  True  True  True  True  True False  True  True\n",
      "  True  True  True  True  True  True  True  True  True  True  True  True\n",
      "  True  True  True  True  True  True  True  True  True  True  True  True\n",
      "  True  True  True  True  True  True  True  True  True  True  True  True\n",
      "  True  True  True  True  True  True  True  True  True  True  True  True\n",
      "  True  True  True  True  True  True  True  True  True  True  True  True\n",
      "  True  True  True  True  True  True  True  True  True  True  True  True\n",
      "  True  True  True  True  True  True  True  True  True  True  True  True\n",
      "  True  True  True  True  True  True  True  True  True  True  True  True\n",
      "  True  True  True  True  True  True False  True  True  True  True  True\n",
      "  True  True  True  True  True  True  True  True  True  True  True  True\n",
      "  True  True  True  True  True  True  True  True  True  True  True  True\n",
      "  True  True  True  True  True  True  True  True  True  True  True  True\n",
      "  True  True  True  True  True  True  True  True  True False  True  True\n",
      "  True  True  True  True  True  True  True  True  True  True  True  True\n",
      "  True  True  True  True  True  True  True  True  True  True  True  True\n",
      "  True  True  True  True  True  True  True  True  True  True  True  True\n",
      "  True  True  True  True  True  True  True  True  True False  True  True\n",
      "  True  True  True  True  True  True  True  True  True  True  True  True\n",
      "  True  True  True  True  True  True  True  True  True  True  True  True\n",
      "  True  True  True False  True  True  True  True  True  True  True  True\n",
      "  True  True  True  True  True  True  True  True  True  True  True  True\n",
      "  True  True  True  True  True  True  True  True  True  True  True  True\n",
      "  True  True  True  True  True  True  True  True  True  True  True  True\n",
      "  True  True  True  True  True  True  True  True False False False False\n",
      " False False False False False False False False False False False False\n",
      " False False False False False False False False False False False False\n",
      " False False False False False False False False False False False False\n",
      " False False False False False False False False False False False False\n",
      " False False False False False False False False False False False False\n",
      " False False False False False False False False False False False False\n",
      " False False False False False False False False False False False False\n",
      " False False False False False False False False False False False False\n",
      " False False False False False False False False False False False False\n",
      " False False False False False False False False False False False False\n",
      " False False False False False False False False False False False False\n",
      " False False False False False False False False False False False False\n",
      " False False False False False False False False False False False False\n",
      " False False False False False False False False False False False False\n",
      " False False False False False False False False False False False False\n",
      " False False False False False False False False False False False False\n",
      " False False False False False False False False False False False False\n",
      " False False False False False False False False False False False False\n",
      " False False False False False False False False False False False False\n",
      " False False False False False False False False False False False False\n",
      " False False False False False False False  True False False False False\n",
      " False False False  True False False False False False False False False\n",
      " False False False False False False False False False False False False\n",
      " False False False False False False False False False False False False\n",
      " False False False False False False False False False False False False\n",
      " False False False False False False False False False False False False\n",
      " False False False False False False False False False False False False\n",
      " False False False False False False False False False False False False\n",
      " False False False False False False False False  True False False False\n",
      " False False  True False False False False False False False False False\n",
      " False False False False False False False False False False False False\n",
      " False False False False False False False False False False False False\n",
      " False False False False False False False False False False False False\n",
      " False False False False False False False False False False False False\n",
      " False False False False False False False False False False False False\n",
      " False False False False False False False False False False False False\n",
      " False False False False False  True False False False False False False\n",
      " False False False False False False False False False False False False\n",
      " False False False False False False False False False False False False\n",
      " False False False False False False False False False False False False\n",
      " False False False False False False False False False False False False\n",
      " False False False False]\n"
     ]
    }
   ],
   "source": [
    "# sanity check\n",
    "\n",
    "print(((np.conj(train_state) @ density_matrix(state_labels[0])) * train_state)[:, 0] > 0.5)\n",
    "\n",
    "print(((np.conj(test_state) @ density_matrix(state_labels[0])) * test_state)[:, 0] > 0.5)"
   ]
  },
  {
   "cell_type": "code",
   "execution_count": 79,
   "metadata": {},
   "outputs": [],
   "source": [
    "np.savetxt('./2_QConv2ent_QFC-State_Train_all_samples.txt', train_state)\n",
    "np.savetxt('./2_QConv2ent_QFC-State_Test_all_samples.txt', test_state)"
   ]
  },
  {
   "cell_type": "markdown",
   "metadata": {},
   "source": [
    "## Random Starting State"
   ]
  },
  {
   "cell_type": "code",
   "execution_count": 80,
   "metadata": {},
   "outputs": [],
   "source": [
    "# Input image, size = 27 x 27\n",
    "X = tf.keras.Input(shape=(27,27), name='Input_Layer')\n",
    "\n",
    "\n",
    "# Specs for Conv\n",
    "c_filter = 3\n",
    "c_strides = 2\n",
    "\n",
    "\n",
    "# First Quantum Conv Layer, trainable params = 18*L, output size = 13 x 13\n",
    "num_conv_layer_1 = 1\n",
    "q_conv_layer_1 = qml.qnn.KerasLayer(q_conv, {\"conv_params\": (2, num_conv_layer_1, 9)}, output_dim=(1), name='Quantum_Conv_Layer_1')\n",
    "size_1 = int(1+(X.shape[1]-c_filter)/c_strides)\n",
    "q_conv_layer_1_list = []\n",
    "# height iteration\n",
    "for i in range(size_1):\n",
    "    # width iteration\n",
    "    for j in range(size_1):\n",
    "        temp = q_conv_layer_1(X[:, 2*i:2*(i+1)+1, 2*j:2*(j+1)+1])\n",
    "        temp = tf.keras.layers.Reshape((1,))(temp)\n",
    "        q_conv_layer_1_list += [temp]\n",
    "concat_layer_1 = tf.keras.layers.Concatenate(axis=1)(q_conv_layer_1_list)\n",
    "reshape_layer_1 = tf.keras.layers.Reshape((size_1, size_1))(concat_layer_1)\n",
    "\n",
    "\n",
    "# Second Quantum Conv Layer, trainable params = 18*L, output size = 6 x 6\n",
    "num_conv_layer_2 = 1\n",
    "q_conv_layer_2 = qml.qnn.KerasLayer(q_conv, {\"conv_params\": (2, num_conv_layer_2, 9)}, output_dim=(1), name='Quantum_Conv_Layer_2')\n",
    "size_2 = int(1+(reshape_layer_1.shape[1]-c_filter)/c_strides)\n",
    "q_conv_layer_2_list = []\n",
    "# height iteration\n",
    "for i in range(size_2):\n",
    "    # width iteration\n",
    "    for j in range(size_2):\n",
    "        temp = q_conv_layer_2(reshape_layer_1[:, 2*i:2*(i+1)+1, 2*j:2*(j+1)+1])\n",
    "        temp = tf.keras.layers.Reshape((1,))(temp)\n",
    "        q_conv_layer_2_list += [temp]\n",
    "concat_layer_2 = tf.keras.layers.Concatenate(axis=1)(q_conv_layer_2_list)\n",
    "reshape_layer_2 = tf.keras.layers.Reshape((size_2, size_2, 1))(concat_layer_2)\n",
    "\n",
    "\n",
    "# Max Pooling Layer, output size = 9\n",
    "max_pool_layer = tf.keras.layers.MaxPooling2D(pool_size=(2, 2), strides=None, name='Max_Pool_Layer')(reshape_layer_2)\n",
    "reshape_layer_3 = tf.keras.layers.Reshape((9,))(max_pool_layer)\n",
    "\n",
    "\n",
    "# Quantum FC Layer, trainable params = 18*L*n_class + 2, output size = 2\n",
    "num_fc_layer = 1\n",
    "q_fc_layer_0 = qml.qnn.KerasLayer(q_fc, {\"params\": (2, num_fc_layer, 9)}, output_dim=2)(reshape_layer_3)\n",
    "\n",
    "# Alpha Layer\n",
    "alpha_layer_0 = class_weights()(q_fc_layer_0)\n",
    "\n",
    "model_random = tf.keras.Model(inputs=X, outputs=alpha_layer_0)\n",
    "model_maxpool_random = tf.keras.Model(inputs=X, outputs=reshape_layer_3)"
   ]
  },
  {
   "cell_type": "code",
   "execution_count": 81,
   "metadata": {},
   "outputs": [
    {
     "data": {
      "text/plain": [
       "[<tf.Variable 'model_6/Quantum_Conv_Layer_1/conv_params:0' shape=(2, 1, 9) dtype=float32, numpy=\n",
       " array([[[-0.09383321, -0.15872839,  0.40481728, -0.4808251 ,\n",
       "           0.0080896 , -0.213866  , -0.07416925, -0.11021015,\n",
       "          -0.36422676]],\n",
       " \n",
       "        [[ 0.46857107, -0.4836045 , -0.5114353 ,  0.00082922,\n",
       "          -0.4332028 ,  0.4042952 , -0.48786062, -0.03484303,\n",
       "           0.35927957]]], dtype=float32)>,\n",
       " <tf.Variable 'model_6/Quantum_Conv_Layer_2/conv_params:0' shape=(2, 1, 9) dtype=float32, numpy=\n",
       " array([[[ 0.42102844, -0.48002094, -0.33818322, -0.13231662,\n",
       "           0.34059566,  0.06579536, -0.42546484,  0.44662088,\n",
       "          -0.11891249]],\n",
       " \n",
       "        [[ 0.35543942,  0.18025482,  0.27855408,  0.22550434,\n",
       "          -0.36387637,  0.16426843, -0.21730787,  0.16378671,\n",
       "          -0.45715028]]], dtype=float32)>,\n",
       " <tf.Variable 'model_6/keras_layer_3/params:0' shape=(2, 1, 9) dtype=float32, numpy=\n",
       " array([[[-0.52412415,  0.31337726, -0.0668911 , -0.43626598,\n",
       "          -0.10543117, -0.11661649, -0.22867104,  0.26161313,\n",
       "           0.03067034]],\n",
       " \n",
       "        [[-0.3362496 ,  0.52573454, -0.12595582,  0.4650234 ,\n",
       "           0.10775095,  0.2522235 ,  0.06523472,  0.32300556,\n",
       "           0.42630672]]], dtype=float32)>,\n",
       " <tf.Variable 'Variable:0' shape=(1, 2) dtype=float32, numpy=array([[-0.02592193, -0.04835651]], dtype=float32)>]"
      ]
     },
     "execution_count": 81,
     "metadata": {},
     "output_type": "execute_result"
    }
   ],
   "source": [
    "model_random(X_train[0:1])\n",
    "model_random.weights"
   ]
  },
  {
   "cell_type": "code",
   "execution_count": 82,
   "metadata": {},
   "outputs": [],
   "source": [
    "random_weights = np.array([[[-0.52412415,  0.31337726, -0.0668911 , -0.43626598,\n",
    "          -0.10543117, -0.11661649, -0.22867104,  0.26161313,\n",
    "           0.03067034]],\n",
    " \n",
    "        [[-0.3362496 ,  0.52573454, -0.12595582,  0.4650234 ,\n",
    "           0.10775095,  0.2522235 ,  0.06523472,  0.32300556,\n",
    "           0.42630672]]])"
   ]
  },
  {
   "cell_type": "code",
   "execution_count": 83,
   "metadata": {},
   "outputs": [
    {
     "data": {
      "text/plain": [
       "(TensorShape([400, 9]), TensorShape([1000, 9]))"
      ]
     },
     "execution_count": 83,
     "metadata": {},
     "output_type": "execute_result"
    }
   ],
   "source": [
    "maxpool_train = model_maxpool_random(X_train)\n",
    "maxpool_test = model_maxpool_random(X_test)\n",
    "\n",
    "maxpool_train.shape, maxpool_test.shape"
   ]
  },
  {
   "cell_type": "code",
   "execution_count": 84,
   "metadata": {},
   "outputs": [],
   "source": [
    "n_qubits = 1  # number of class\n",
    "dev_state = qml.device(\"default.qubit\", wires=n_qubits)\n",
    "\n",
    "\n",
    "@qml.qnode(dev_state)\n",
    "def q_fc_state(params, inputs):\n",
    "    \n",
    "    # layer iteration\n",
    "    for l in range(len(params[0])):\n",
    "        # qubit iteration\n",
    "        for q in range(n_qubits):\n",
    "            # gate iteration\n",
    "            for g in range(int(len(inputs)/3)):\n",
    "                qml.Rot(*(params[0][l][3*g:3*(g+1)] * inputs[3*g:3*(g+1)] + params[1][l][3*g:3*(g+1)]), wires=q)\n",
    "    \n",
    "    #return [qml.expval(qml.Hermitian(density_matrix(state_labels[i]), wires=[i])) for i in range(n_qubits)]\n",
    "    return qml.expval(qml.Hermitian(density_matrix(state_labels[0]), wires=[0]))"
   ]
  },
  {
   "cell_type": "code",
   "execution_count": 85,
   "metadata": {},
   "outputs": [
    {
     "data": {
      "text/plain": [
       "tensor(1., requires_grad=True)"
      ]
     },
     "execution_count": 85,
     "metadata": {},
     "output_type": "execute_result"
    }
   ],
   "source": [
    "q_fc_state(np.zeros((2,1,9)), maxpool_train[0])"
   ]
  },
  {
   "cell_type": "code",
   "execution_count": 86,
   "metadata": {},
   "outputs": [
    {
     "data": {
      "text/plain": [
       "tensor(0.65946282, requires_grad=True)"
      ]
     },
     "execution_count": 86,
     "metadata": {},
     "output_type": "execute_result"
    }
   ],
   "source": [
    "q_fc_state(random_weights, maxpool_train[21])"
   ]
  },
  {
   "cell_type": "code",
   "execution_count": 89,
   "metadata": {},
   "outputs": [],
   "source": [
    "train_state = np.zeros((len(X_train), 2), dtype=np.complex_)\n",
    "test_state = np.zeros((len(X_test), 2), dtype=np.complex_)\n",
    "\n",
    "for i in range(len(train_state)):\n",
    "    \n",
    "    q_fc_state(random_weights, maxpool_train[i])\n",
    "    temp = np.flip(dev_state._state)\n",
    "    train_state[i, :] = temp\n",
    "    \n",
    "for i in range(len(test_state)):\n",
    "    \n",
    "    q_fc_state(random_weights, maxpool_test[i])\n",
    "    temp = np.flip(dev_state._state)\n",
    "    test_state[i, :] = temp"
   ]
  },
  {
   "cell_type": "code",
   "execution_count": 91,
   "metadata": {},
   "outputs": [
    {
     "data": {
      "text/plain": [
       "((400, 2), (1000, 2))"
      ]
     },
     "execution_count": 91,
     "metadata": {},
     "output_type": "execute_result"
    }
   ],
   "source": [
    "train_state.shape, test_state.shape"
   ]
  },
  {
   "cell_type": "code",
   "execution_count": 92,
   "metadata": {},
   "outputs": [
    {
     "name": "stdout",
     "output_type": "stream",
     "text": [
      "[ True  True  True  True  True  True  True  True  True  True  True  True\n",
      "  True  True  True  True  True  True  True  True  True  True  True  True\n",
      "  True  True  True  True  True  True  True  True  True  True  True  True\n",
      "  True  True  True  True  True  True  True  True  True  True  True  True\n",
      "  True  True  True  True  True  True  True  True  True  True  True  True\n",
      "  True  True  True  True  True  True  True  True  True  True  True  True\n",
      "  True  True  True  True  True  True  True  True  True  True  True  True\n",
      "  True  True  True  True  True  True  True  True  True  True  True  True\n",
      "  True  True  True  True  True  True  True  True  True  True  True  True\n",
      "  True  True  True  True  True  True  True  True  True  True  True  True\n",
      "  True  True  True  True  True  True  True  True  True  True  True  True\n",
      "  True  True  True  True  True  True  True  True  True  True  True  True\n",
      "  True  True  True  True  True  True  True  True  True  True  True  True\n",
      "  True  True  True  True  True  True  True  True  True  True  True  True\n",
      "  True  True  True  True  True  True  True  True  True  True  True  True\n",
      "  True  True  True  True  True  True  True  True  True  True  True  True\n",
      "  True  True  True  True  True  True  True  True  True  True  True  True\n",
      "  True  True  True  True  True  True  True  True  True  True  True  True\n",
      "  True  True  True  True  True  True  True  True  True  True  True  True\n",
      "  True  True  True  True  True  True  True  True  True  True  True  True\n",
      "  True  True  True  True  True  True  True  True  True  True  True  True\n",
      "  True  True  True  True  True  True  True  True  True  True  True  True\n",
      "  True  True  True  True  True  True  True  True  True  True  True  True\n",
      "  True  True  True  True  True  True  True  True  True  True  True  True\n",
      "  True  True  True  True  True  True  True  True  True  True  True  True\n",
      "  True  True  True  True  True  True  True  True  True  True  True  True\n",
      "  True  True  True  True  True  True  True  True  True  True  True  True\n",
      "  True  True  True  True  True  True  True  True  True  True  True  True\n",
      "  True  True  True  True  True  True  True  True  True  True  True  True\n",
      "  True  True  True  True  True  True  True  True  True  True  True  True\n",
      "  True  True  True  True  True  True  True  True  True  True  True  True\n",
      "  True  True  True  True  True  True  True  True  True  True  True  True\n",
      "  True  True  True  True  True  True  True  True  True  True  True  True\n",
      "  True  True  True  True]\n",
      "[ True  True  True  True  True  True  True  True  True  True  True  True\n",
      "  True  True  True  True  True  True  True  True  True  True  True  True\n",
      "  True  True  True  True  True  True  True  True  True  True  True  True\n",
      "  True  True  True  True  True  True  True  True  True  True  True  True\n",
      "  True  True  True  True  True  True  True  True  True  True  True  True\n",
      "  True  True  True  True  True  True  True  True  True  True  True  True\n",
      "  True  True  True  True  True  True  True  True  True  True  True  True\n",
      "  True  True  True  True  True  True  True  True  True  True  True  True\n",
      "  True  True  True  True  True  True  True  True  True  True  True  True\n",
      "  True  True  True  True  True  True  True  True  True  True  True  True\n",
      "  True  True  True  True  True  True  True  True  True  True  True  True\n",
      "  True  True  True  True  True  True  True  True  True  True  True  True\n",
      "  True  True  True  True  True  True  True  True  True  True  True  True\n",
      "  True  True  True  True  True  True  True  True  True  True  True  True\n",
      "  True  True  True  True  True  True  True  True  True  True  True  True\n",
      "  True  True  True  True  True  True  True  True  True  True  True  True\n",
      "  True  True  True  True  True  True  True  True  True  True  True  True\n",
      "  True  True  True  True  True  True  True  True  True  True  True  True\n",
      "  True  True  True  True  True  True  True  True  True  True  True  True\n",
      "  True  True  True  True  True  True  True  True  True  True  True  True\n",
      "  True  True  True  True  True  True  True  True  True  True  True  True\n",
      "  True  True  True  True  True  True  True  True  True  True  True  True\n",
      "  True  True  True  True  True  True  True  True  True  True  True  True\n",
      "  True  True  True  True  True  True  True  True  True  True  True  True\n",
      "  True  True  True  True  True  True  True  True  True  True  True  True\n",
      "  True  True  True  True  True  True  True  True  True  True  True  True\n",
      "  True  True  True  True  True  True  True  True  True  True  True  True\n",
      "  True  True  True  True  True  True  True  True  True  True  True  True\n",
      "  True  True  True  True  True  True  True  True  True  True  True  True\n",
      "  True  True  True  True  True  True  True  True  True  True  True  True\n",
      "  True  True  True  True  True  True  True  True  True  True  True  True\n",
      "  True  True  True  True  True  True  True  True  True  True  True  True\n",
      "  True  True  True  True  True  True  True  True  True  True  True  True\n",
      "  True  True  True  True  True  True  True  True  True  True  True  True\n",
      "  True  True  True  True  True  True  True  True  True  True  True  True\n",
      "  True  True  True  True  True  True  True  True  True  True  True  True\n",
      "  True  True  True  True  True  True  True  True  True  True  True  True\n",
      "  True  True  True  True  True  True  True  True  True  True  True  True\n",
      "  True  True  True  True  True  True  True  True  True  True  True  True\n",
      "  True  True  True  True  True  True  True  True  True  True  True  True\n",
      "  True  True  True  True  True  True  True  True  True  True  True  True\n",
      "  True  True  True  True  True  True  True  True  True  True  True  True\n",
      "  True  True  True  True  True  True  True  True  True  True  True  True\n",
      "  True  True  True  True  True  True  True  True  True  True  True  True\n",
      "  True  True  True  True  True  True  True  True  True  True  True  True\n",
      "  True  True  True  True  True  True  True  True  True  True  True  True\n",
      "  True  True  True  True  True  True  True  True  True  True  True  True\n",
      "  True  True  True  True  True  True  True  True  True  True  True  True\n",
      "  True  True  True  True  True  True  True  True  True  True  True  True\n",
      "  True  True  True  True  True  True  True  True  True  True  True  True\n",
      "  True  True  True  True  True  True  True  True  True  True  True  True\n",
      "  True  True  True  True  True  True  True  True  True  True  True  True\n",
      "  True  True  True  True  True  True  True  True  True  True  True  True\n",
      "  True  True  True  True  True  True  True  True  True  True  True  True\n",
      "  True  True  True  True  True  True  True  True  True  True  True  True\n",
      "  True  True  True  True  True  True  True  True  True  True  True  True\n",
      "  True  True  True  True  True  True  True  True  True  True  True  True\n",
      "  True  True  True  True  True  True  True  True  True  True  True  True\n",
      "  True  True  True  True  True  True  True  True  True  True  True  True\n",
      "  True  True  True  True  True  True  True  True  True  True  True  True\n",
      "  True  True  True  True  True  True  True  True  True  True  True  True\n",
      "  True  True  True  True  True  True  True  True  True  True  True  True\n",
      "  True  True  True  True  True  True  True  True  True  True  True  True\n",
      "  True  True  True  True  True  True  True  True  True  True  True  True\n",
      "  True  True  True  True  True  True  True  True  True  True  True  True\n",
      "  True  True  True  True  True  True  True  True  True  True  True  True\n",
      "  True  True  True  True  True  True  True  True  True  True  True  True\n",
      "  True  True  True  True  True  True  True  True  True  True  True  True\n",
      "  True  True  True  True  True  True  True  True  True  True  True  True\n",
      "  True  True  True  True  True  True  True  True  True  True  True  True\n",
      "  True  True  True  True  True  True  True  True  True  True  True  True\n",
      "  True  True  True  True  True  True  True  True  True  True  True  True\n",
      "  True  True  True  True  True  True  True  True  True  True  True  True\n",
      "  True  True  True  True  True  True  True  True  True  True  True  True\n",
      "  True  True  True  True  True  True  True  True  True  True  True  True\n",
      "  True  True  True  True  True  True  True  True  True  True  True  True\n",
      "  True  True  True  True  True  True  True  True  True  True  True  True\n",
      "  True  True  True  True  True  True  True  True  True  True  True  True\n",
      "  True  True  True  True  True  True  True  True  True  True  True  True\n",
      "  True  True  True  True  True  True  True  True  True  True  True  True\n",
      "  True  True  True  True  True  True  True  True  True  True  True  True\n",
      "  True  True  True  True  True  True  True  True  True  True  True  True\n",
      "  True  True  True  True  True  True  True  True  True  True  True  True\n",
      "  True  True  True  True]\n"
     ]
    }
   ],
   "source": [
    "# sanity check\n",
    "\n",
    "print(((np.conj(train_state) @ density_matrix(state_labels[0])) * train_state)[:, 0] > 0.5)\n",
    "\n",
    "print(((np.conj(test_state) @ density_matrix(state_labels[0])) * test_state)[:, 0] > 0.5)"
   ]
  },
  {
   "cell_type": "code",
   "execution_count": 93,
   "metadata": {},
   "outputs": [],
   "source": [
    "np.savetxt('./2_QConv2ent_QFC-RandomState_Train_all_samples.txt', train_state)\n",
    "np.savetxt('./2_QConv2ent_QFC-RandomState_Test_all_samples.txt', test_state)"
   ]
  },
  {
   "cell_type": "markdown",
   "metadata": {},
   "source": [
    "# Finish"
   ]
  },
  {
   "cell_type": "code",
   "execution_count": null,
   "metadata": {},
   "outputs": [],
   "source": []
  },
  {
   "cell_type": "code",
   "execution_count": null,
   "metadata": {},
   "outputs": [],
   "source": []
  },
  {
   "cell_type": "code",
   "execution_count": null,
   "metadata": {},
   "outputs": [],
   "source": []
  },
  {
   "cell_type": "code",
   "execution_count": null,
   "metadata": {},
   "outputs": [],
   "source": []
  },
  {
   "cell_type": "code",
   "execution_count": null,
   "metadata": {},
   "outputs": [],
   "source": []
  },
  {
   "cell_type": "code",
   "execution_count": null,
   "metadata": {},
   "outputs": [],
   "source": []
  },
  {
   "cell_type": "code",
   "execution_count": 76,
   "metadata": {},
   "outputs": [
    {
     "data": {
      "text/plain": [
       "{'loss': [0.7249730825424194,\n",
       "  0.485493928194046,\n",
       "  0.2910504639148712,\n",
       "  0.20750370621681213,\n",
       "  0.1200886219739914,\n",
       "  0.09333930909633636,\n",
       "  0.09352166950702667,\n",
       "  0.09991505742073059,\n",
       "  0.0711403489112854,\n",
       "  0.0675935298204422],\n",
       " 'accuracy': [0.5249999761581421,\n",
       "  0.6225000023841858,\n",
       "  0.7825000286102295,\n",
       "  0.8650000095367432,\n",
       "  0.9449999928474426,\n",
       "  0.9599999785423279,\n",
       "  0.9624999761581421,\n",
       "  0.9524999856948853,\n",
       "  0.9750000238418579,\n",
       "  0.9775000214576721],\n",
       " 'val_loss': [0.6175757646560669,\n",
       "  0.40504130721092224,\n",
       "  0.3411727547645569,\n",
       "  0.19497469067573547,\n",
       "  0.11362368613481522,\n",
       "  0.07933302223682404,\n",
       "  0.1450268030166626,\n",
       "  0.0960061326622963,\n",
       "  0.09231595695018768,\n",
       "  0.053687386214733124],\n",
       " 'val_accuracy': [0.5,\n",
       "  0.7300000190734863,\n",
       "  0.7400000095367432,\n",
       "  0.8700000047683716,\n",
       "  0.9449999928474426,\n",
       "  0.9800000190734863,\n",
       "  0.925000011920929,\n",
       "  0.9649999737739563,\n",
       "  0.9549999833106995,\n",
       "  0.9750000238418579]}"
      ]
     },
     "execution_count": 76,
     "metadata": {},
     "output_type": "execute_result"
    }
   ],
   "source": [
    "first_10_epoch = H.history\n",
    "first_10_epoch"
   ]
  },
  {
   "cell_type": "code",
   "execution_count": 77,
   "metadata": {},
   "outputs": [
    {
     "data": {
      "text/plain": [
       "[array([[[ 0.13920915, -0.7933977 ,  0.4931736 , -0.34984022,\n",
       "           0.41861725, -0.1258272 , -0.3323837 ,  1.4861933 ,\n",
       "           0.14679849]],\n",
       " \n",
       "        [[-0.48547882, -0.6672664 , -0.30831295,  0.31500554,\n",
       "           0.21519628, -0.09552038, -0.33133912,  0.8978053 ,\n",
       "          -0.38653338]]], dtype=float32),\n",
       " array([[[-0.04071528, -0.5614164 , -0.5472108 ,  0.32481748,\n",
       "          -0.1586527 ,  0.06802678, -0.04312551, -1.0716503 ,\n",
       "          -0.09168857]],\n",
       " \n",
       "        [[ 0.2695058 , -1.5634912 ,  0.20198631, -0.20597708,\n",
       "           0.06802317,  0.2522897 , -0.01191515,  0.5282674 ,\n",
       "          -0.3303873 ]]], dtype=float32),\n",
       " array([[[-0.1229878 ,  0.03982117, -0.29502654, -1.2658846 ,\n",
       "          -0.3401566 , -0.93464977,  1.1978221 , -0.24731389,\n",
       "          -0.51143396]],\n",
       " \n",
       "        [[-0.05537069, -1.3277841 , -0.7294856 , -0.740143  ,\n",
       "          -0.83612764,  0.6652604 ,  0.0570471 , -0.4578703 ,\n",
       "          -0.36179888]]], dtype=float32),\n",
       " array([[1.084761 , 1.0133266]], dtype=float32)]"
      ]
     },
     "execution_count": 77,
     "metadata": {},
     "output_type": "execute_result"
    }
   ],
   "source": [
    "# initial 10 epoch\n",
    "model.get_weights()"
   ]
  }
 ],
 "metadata": {
  "colab": {
   "collapsed_sections": [],
   "name": "Q Conv + DRC Keras MNIST (best).ipynb",
   "provenance": []
  },
  "kernelspec": {
   "display_name": "Python 3",
   "language": "python",
   "name": "python3"
  },
  "language_info": {
   "codemirror_mode": {
    "name": "ipython",
    "version": 3
   },
   "file_extension": ".py",
   "mimetype": "text/x-python",
   "name": "python",
   "nbconvert_exporter": "python",
   "pygments_lexer": "ipython3",
   "version": "3.8.6"
  }
 },
 "nbformat": 4,
 "nbformat_minor": 1
}
