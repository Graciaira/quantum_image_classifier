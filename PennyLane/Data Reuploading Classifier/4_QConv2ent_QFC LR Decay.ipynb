{
 "cells": [
  {
   "cell_type": "code",
   "execution_count": 23,
   "metadata": {
    "colab": {
     "base_uri": "https://localhost:8080/"
    },
    "executionInfo": {
     "elapsed": 18659,
     "status": "ok",
     "timestamp": 1610382574744,
     "user": {
      "displayName": "Eraraya Ricardo Muten",
      "photoUrl": "https://lh3.googleusercontent.com/a-/AOh14Ggpw7xw-lyk6u6l92QjpI7MlI7qjJuuciCpwrUd=s64",
      "userId": "03770692095188133952"
     },
     "user_tz": -420
    },
    "id": "e4abR9zSaWNk",
    "outputId": "0c32d57f-a411-4648-8144-7db8ae862454"
   },
   "outputs": [
    {
     "name": "stdout",
     "output_type": "stream",
     "text": [
      "/content/drive\n",
      "Mounted at /content/drive\n"
     ]
    }
   ],
   "source": [
    "# Mount Google Drive\n",
    "from google.colab import drive # import drive from google colab\n",
    " \n",
    "ROOT = \"/content/drive\"     # default location for the drive\n",
    "print(ROOT)                 # print content of ROOT (Optional)\n",
    " \n",
    "drive.mount(ROOT)           # we mount the google drive at /content/drive"
   ]
  },
  {
   "cell_type": "code",
   "execution_count": 33,
   "metadata": {
    "colab": {
     "base_uri": "https://localhost:8080/"
    },
    "executionInfo": {
     "elapsed": 1573,
     "status": "ok",
     "timestamp": 1610382829592,
     "user": {
      "displayName": "Eraraya Ricardo Muten",
      "photoUrl": "https://lh3.googleusercontent.com/a-/AOh14Ggpw7xw-lyk6u6l92QjpI7MlI7qjJuuciCpwrUd=s64",
      "userId": "03770692095188133952"
     },
     "user_tz": -420
    },
    "id": "rYQ5KUgrSClH",
    "outputId": "a4f91034-cf58-4cbc-bd3b-9a68557f9591"
   },
   "outputs": [
    {
     "name": "stdout",
     "output_type": "stream",
     "text": [
      "/content/drive/My Drive/Projects/quantum_image_classifier/PennyLane/Data Reuploading Classifier\n"
     ]
    }
   ],
   "source": [
    "%cd \"/content/drive/My Drive/Projects/quantum_image_classifier/PennyLane/Data Reuploading Classifier\""
   ]
  },
  {
   "cell_type": "code",
   "execution_count": 1,
   "metadata": {
    "executionInfo": {
     "elapsed": 5512,
     "status": "ok",
     "timestamp": 1610357980284,
     "user": {
      "displayName": "Eraraya Ricardo Muten",
      "photoUrl": "https://lh3.googleusercontent.com/a-/AOh14Ggpw7xw-lyk6u6l92QjpI7MlI7qjJuuciCpwrUd=s64",
      "userId": "03770692095188133952"
     },
     "user_tz": -420
    },
    "id": "gk5AKGKcYGOo"
   },
   "outputs": [],
   "source": [
    "!pip install pennylane\n",
    "from IPython.display import clear_output\n",
    "clear_output()"
   ]
  },
  {
   "cell_type": "code",
   "execution_count": null,
   "metadata": {
    "id": "GigSJusGbx1b"
   },
   "outputs": [],
   "source": [
    "import os\n",
    "\n",
    "def restart_runtime():\n",
    "  os.kill(os.getpid(), 9)\n",
    "restart_runtime()"
   ]
  },
  {
   "cell_type": "code",
   "execution_count": 1,
   "metadata": {
    "executionInfo": {
     "elapsed": 855,
     "status": "ok",
     "timestamp": 1610357982999,
     "user": {
      "displayName": "Eraraya Ricardo Muten",
      "photoUrl": "https://lh3.googleusercontent.com/a-/AOh14Ggpw7xw-lyk6u6l92QjpI7MlI7qjJuuciCpwrUd=s64",
      "userId": "03770692095188133952"
     },
     "user_tz": -420
    },
    "id": "HoLmJLkIX810"
   },
   "outputs": [],
   "source": [
    "# %matplotlib inline\n",
    "import matplotlib.pyplot as plt\n",
    "from mpl_toolkits.axes_grid1 import make_axes_locatable\n",
    "\n",
    "import numpy as np"
   ]
  },
  {
   "cell_type": "markdown",
   "metadata": {
    "id": "vZFNOwFXoY8N"
   },
   "source": [
    "# Loading Raw Data"
   ]
  },
  {
   "cell_type": "code",
   "execution_count": 2,
   "metadata": {
    "colab": {
     "base_uri": "https://localhost:8080/"
    },
    "executionInfo": {
     "elapsed": 3065,
     "status": "ok",
     "timestamp": 1610357986720,
     "user": {
      "displayName": "Eraraya Ricardo Muten",
      "photoUrl": "https://lh3.googleusercontent.com/a-/AOh14Ggpw7xw-lyk6u6l92QjpI7MlI7qjJuuciCpwrUd=s64",
      "userId": "03770692095188133952"
     },
     "user_tz": -420
    },
    "id": "IvdFsGCVof9g",
    "outputId": "57b0c866-93c0-45e7-a833-90119b85cf6c"
   },
   "outputs": [],
   "source": [
    "import tensorflow as tf\n",
    "\n",
    "(x_train, y_train), (x_test, y_test) = tf.keras.datasets.mnist.load_data()\n",
    "\n",
    "x_train = x_train[:, 0:27, 0:27]\n",
    "x_test = x_test[:, 0:27, 0:27]"
   ]
  },
  {
   "cell_type": "code",
   "execution_count": 3,
   "metadata": {
    "executionInfo": {
     "elapsed": 1254,
     "status": "ok",
     "timestamp": 1610357989363,
     "user": {
      "displayName": "Eraraya Ricardo Muten",
      "photoUrl": "https://lh3.googleusercontent.com/a-/AOh14Ggpw7xw-lyk6u6l92QjpI7MlI7qjJuuciCpwrUd=s64",
      "userId": "03770692095188133952"
     },
     "user_tz": -420
    },
    "id": "c6zvGFvIoxAN"
   },
   "outputs": [],
   "source": [
    "x_train_flatten = x_train.reshape(x_train.shape[0], x_train.shape[1]*x_train.shape[2])/255.0\n",
    "x_test_flatten = x_test.reshape(x_test.shape[0], x_test.shape[1]*x_test.shape[2])/255.0"
   ]
  },
  {
   "cell_type": "code",
   "execution_count": 4,
   "metadata": {
    "colab": {
     "base_uri": "https://localhost:8080/"
    },
    "executionInfo": {
     "elapsed": 996,
     "status": "ok",
     "timestamp": 1610357989364,
     "user": {
      "displayName": "Eraraya Ricardo Muten",
      "photoUrl": "https://lh3.googleusercontent.com/a-/AOh14Ggpw7xw-lyk6u6l92QjpI7MlI7qjJuuciCpwrUd=s64",
      "userId": "03770692095188133952"
     },
     "user_tz": -420
    },
    "id": "Rmj1dzaso00h",
    "outputId": "e6c46dd3-4962-4412-8c06-7ccc3a10679a"
   },
   "outputs": [
    {
     "name": "stdout",
     "output_type": "stream",
     "text": [
      "(60000, 729) (60000,)\n",
      "(10000, 729) (10000,)\n"
     ]
    }
   ],
   "source": [
    "print(x_train_flatten.shape, y_train.shape)\n",
    "print(x_test_flatten.shape, y_test.shape)"
   ]
  },
  {
   "cell_type": "code",
   "execution_count": 5,
   "metadata": {
    "colab": {
     "base_uri": "https://localhost:8080/"
    },
    "executionInfo": {
     "elapsed": 932,
     "status": "ok",
     "timestamp": 1610357989714,
     "user": {
      "displayName": "Eraraya Ricardo Muten",
      "photoUrl": "https://lh3.googleusercontent.com/a-/AOh14Ggpw7xw-lyk6u6l92QjpI7MlI7qjJuuciCpwrUd=s64",
      "userId": "03770692095188133952"
     },
     "user_tz": -420
    },
    "id": "d10VoIC6o5_I",
    "outputId": "0732b267-d0a4-47cd-c1b4-28acd63e5bf8"
   },
   "outputs": [
    {
     "name": "stdout",
     "output_type": "stream",
     "text": [
      "(5923, 729)\n",
      "(6742, 729)\n",
      "(5958, 729)\n",
      "(6131, 729)\n",
      "(5842, 729)\n",
      "(5421, 729)\n",
      "(5918, 729)\n",
      "(6265, 729)\n",
      "(5851, 729)\n",
      "(5949, 729)\n"
     ]
    }
   ],
   "source": [
    "x_train_0 = x_train_flatten[y_train == 0]\n",
    "x_train_1 = x_train_flatten[y_train == 1]\n",
    "x_train_2 = x_train_flatten[y_train == 2]\n",
    "x_train_3 = x_train_flatten[y_train == 3]\n",
    "x_train_4 = x_train_flatten[y_train == 4]\n",
    "x_train_5 = x_train_flatten[y_train == 5]\n",
    "x_train_6 = x_train_flatten[y_train == 6]\n",
    "x_train_7 = x_train_flatten[y_train == 7]\n",
    "x_train_8 = x_train_flatten[y_train == 8]\n",
    "x_train_9 = x_train_flatten[y_train == 9]\n",
    "\n",
    "x_train_list = [x_train_0, x_train_1, x_train_2, x_train_3, x_train_4, x_train_5, x_train_6, x_train_7, x_train_8, x_train_9]\n",
    "\n",
    "print(x_train_0.shape)\n",
    "print(x_train_1.shape)\n",
    "print(x_train_2.shape)\n",
    "print(x_train_3.shape)\n",
    "print(x_train_4.shape)\n",
    "print(x_train_5.shape)\n",
    "print(x_train_6.shape)\n",
    "print(x_train_7.shape)\n",
    "print(x_train_8.shape)\n",
    "print(x_train_9.shape)"
   ]
  },
  {
   "cell_type": "code",
   "execution_count": 6,
   "metadata": {
    "colab": {
     "base_uri": "https://localhost:8080/"
    },
    "executionInfo": {
     "elapsed": 932,
     "status": "ok",
     "timestamp": 1610357990859,
     "user": {
      "displayName": "Eraraya Ricardo Muten",
      "photoUrl": "https://lh3.googleusercontent.com/a-/AOh14Ggpw7xw-lyk6u6l92QjpI7MlI7qjJuuciCpwrUd=s64",
      "userId": "03770692095188133952"
     },
     "user_tz": -420
    },
    "id": "snFw4LqepFOl",
    "outputId": "6fa81d41-9174-4053-b2db-c4933edfcab8"
   },
   "outputs": [
    {
     "name": "stdout",
     "output_type": "stream",
     "text": [
      "(980, 729)\n",
      "(1135, 729)\n",
      "(1032, 729)\n",
      "(1010, 729)\n",
      "(982, 729)\n",
      "(892, 729)\n",
      "(958, 729)\n",
      "(1028, 729)\n",
      "(974, 729)\n",
      "(1009, 729)\n"
     ]
    }
   ],
   "source": [
    "x_test_0 = x_test_flatten[y_test == 0]\n",
    "x_test_1 = x_test_flatten[y_test == 1]\n",
    "x_test_2 = x_test_flatten[y_test == 2]\n",
    "x_test_3 = x_test_flatten[y_test == 3]\n",
    "x_test_4 = x_test_flatten[y_test == 4]\n",
    "x_test_5 = x_test_flatten[y_test == 5]\n",
    "x_test_6 = x_test_flatten[y_test == 6]\n",
    "x_test_7 = x_test_flatten[y_test == 7]\n",
    "x_test_8 = x_test_flatten[y_test == 8]\n",
    "x_test_9 = x_test_flatten[y_test == 9]\n",
    "\n",
    "x_test_list = [x_test_0, x_test_1, x_test_2, x_test_3, x_test_4, x_test_5, x_test_6, x_test_7, x_test_8, x_test_9]\n",
    "\n",
    "print(x_test_0.shape)\n",
    "print(x_test_1.shape)\n",
    "print(x_test_2.shape)\n",
    "print(x_test_3.shape)\n",
    "print(x_test_4.shape)\n",
    "print(x_test_5.shape)\n",
    "print(x_test_6.shape)\n",
    "print(x_test_7.shape)\n",
    "print(x_test_8.shape)\n",
    "print(x_test_9.shape)"
   ]
  },
  {
   "cell_type": "markdown",
   "metadata": {
    "id": "SAxUS6Lhp95g"
   },
   "source": [
    "# Selecting the dataset\n",
    "\n",
    "Output: X_train, Y_train, X_test, Y_test"
   ]
  },
  {
   "cell_type": "code",
   "execution_count": 7,
   "metadata": {
    "colab": {
     "base_uri": "https://localhost:8080/"
    },
    "executionInfo": {
     "elapsed": 832,
     "status": "ok",
     "timestamp": 1610357995835,
     "user": {
      "displayName": "Eraraya Ricardo Muten",
      "photoUrl": "https://lh3.googleusercontent.com/a-/AOh14Ggpw7xw-lyk6u6l92QjpI7MlI7qjJuuciCpwrUd=s64",
      "userId": "03770692095188133952"
     },
     "user_tz": -420
    },
    "id": "f--pX5Oto_XB",
    "outputId": "3a0814dc-fa71-4a5b-cc07-701a022af134"
   },
   "outputs": [
    {
     "name": "stdout",
     "output_type": "stream",
     "text": [
      "(800, 729) (800,)\n",
      "(200, 729) (200,)\n"
     ]
    }
   ],
   "source": [
    "num_sample = 200\n",
    "n_class = 4\n",
    "mult_test = 0.25\n",
    "\n",
    "X_train = x_train_list[0][:num_sample, :]\n",
    "X_test = x_test_list[0][:int(mult_test*num_sample), :]\n",
    "\n",
    "Y_train = np.zeros((n_class*X_train.shape[0],), dtype=int)\n",
    "Y_test = np.zeros((n_class*X_test.shape[0],), dtype=int)\n",
    "\n",
    "for i in range(n_class-1):\n",
    "  X_train = np.concatenate((X_train, x_train_list[i+1][:num_sample, :]), axis=0)\n",
    "  Y_train[num_sample*(i+1):num_sample*(i+2)] = int(i+1)\n",
    "\n",
    "  X_test = np.concatenate((X_test, x_test_list[i+1][:int(mult_test*num_sample), :]), axis=0)\n",
    "  Y_test[int(mult_test*num_sample*(i+1)):int(mult_test*num_sample*(i+2))] = int(i+1)\n",
    "\n",
    "print(X_train.shape, Y_train.shape)\n",
    "print(X_test.shape, Y_test.shape)"
   ]
  },
  {
   "cell_type": "markdown",
   "metadata": {
    "id": "LrebzTO1z-or"
   },
   "source": [
    "# Dataset Preprocessing"
   ]
  },
  {
   "cell_type": "code",
   "execution_count": 8,
   "metadata": {
    "colab": {
     "base_uri": "https://localhost:8080/"
    },
    "executionInfo": {
     "elapsed": 788,
     "status": "ok",
     "timestamp": 1610358000137,
     "user": {
      "displayName": "Eraraya Ricardo Muten",
      "photoUrl": "https://lh3.googleusercontent.com/a-/AOh14Ggpw7xw-lyk6u6l92QjpI7MlI7qjJuuciCpwrUd=s64",
      "userId": "03770692095188133952"
     },
     "user_tz": -420
    },
    "id": "tpIJBmVAz-os",
    "outputId": "066f3c86-cdcf-48f7-cfe7-b4e203f6a139"
   },
   "outputs": [
    {
     "data": {
      "text/plain": [
       "((800, 27, 27), (200, 27, 27))"
      ]
     },
     "execution_count": 8,
     "metadata": {},
     "output_type": "execute_result"
    }
   ],
   "source": [
    "X_train = X_train.reshape(X_train.shape[0], 27, 27)\n",
    "X_test = X_test.reshape(X_test.shape[0], 27, 27)\n",
    "\n",
    "X_train.shape, X_test.shape"
   ]
  },
  {
   "cell_type": "markdown",
   "metadata": {
    "id": "ockEle2Ez-os"
   },
   "source": [
    "# Quantum"
   ]
  },
  {
   "cell_type": "code",
   "execution_count": 9,
   "metadata": {
    "executionInfo": {
     "elapsed": 4679,
     "status": "ok",
     "timestamp": 1610358007092,
     "user": {
      "displayName": "Eraraya Ricardo Muten",
      "photoUrl": "https://lh3.googleusercontent.com/a-/AOh14Ggpw7xw-lyk6u6l92QjpI7MlI7qjJuuciCpwrUd=s64",
      "userId": "03770692095188133952"
     },
     "user_tz": -420
    },
    "id": "jP9aoKRGz-os"
   },
   "outputs": [],
   "source": [
    "import pennylane as qml\n",
    "from pennylane import numpy as np\n",
    "from pennylane.optimize import AdamOptimizer, GradientDescentOptimizer\n",
    "\n",
    "qml.enable_tape()\n",
    "\n",
    "from tensorflow.keras.utils import to_categorical\n",
    "\n",
    "# Set a random seed\n",
    "np.random.seed(2020)"
   ]
  },
  {
   "cell_type": "code",
   "execution_count": 10,
   "metadata": {
    "executionInfo": {
     "elapsed": 826,
     "status": "ok",
     "timestamp": 1610358054620,
     "user": {
      "displayName": "Eraraya Ricardo Muten",
      "photoUrl": "https://lh3.googleusercontent.com/a-/AOh14Ggpw7xw-lyk6u6l92QjpI7MlI7qjJuuciCpwrUd=s64",
      "userId": "03770692095188133952"
     },
     "user_tz": -420
    },
    "id": "BFo9kVhAz-ot"
   },
   "outputs": [],
   "source": [
    "# Define output labels as quantum state vectors\n",
    "\n",
    "# def density_matrix(state):\n",
    "#     \"\"\"Calculates the density matrix representation of a state.\n",
    "\n",
    "#     Args:\n",
    "#         state (array[complex]): array representing a quantum state vector\n",
    "\n",
    "#     Returns:\n",
    "#         dm: (array[complex]): array representing the density matrix\n",
    "#     \"\"\"\n",
    "#     return state * np.conj(state).T\n",
    "\n",
    "\n",
    "label_0 = [[1], [0]]\n",
    "label_1 = [[0], [1]]\n",
    "\n",
    "\n",
    "def density_matrix(state):\n",
    "    \"\"\"Calculates the density matrix representation of a state.\n",
    "\n",
    "    Args:\n",
    "        state (array[complex]): array representing a quantum state vector\n",
    "\n",
    "    Returns:\n",
    "        dm: (array[complex]): array representing the density matrix\n",
    "    \"\"\"\n",
    "    return np.outer(state,  np.conj(state))\n",
    "\n",
    "#state_labels = [label_0, label_1]\n",
    "state_labels = np.loadtxt('./tetra_states.txt', dtype=np.complex_)"
   ]
  },
  {
   "cell_type": "code",
   "execution_count": 11,
   "metadata": {},
   "outputs": [
    {
     "data": {
      "text/plain": [
       "4"
      ]
     },
     "execution_count": 11,
     "metadata": {},
     "output_type": "execute_result"
    }
   ],
   "source": [
    "dm_labels = [density_matrix(state_labels[i]) for i in range(4)]\n",
    "len(dm_labels)"
   ]
  },
  {
   "cell_type": "code",
   "execution_count": 12,
   "metadata": {},
   "outputs": [
    {
     "data": {
      "text/plain": [
       "[tensor([[1.+0.j, 0.+0.j],\n",
       "         [0.+0.j, 0.+0.j]], requires_grad=True),\n",
       " tensor([[0.33333333+0.j, 0.47140452+0.j],\n",
       "         [0.47140452+0.j, 0.66666667+0.j]], requires_grad=True),\n",
       " tensor([[ 0.33333333+0.j        , -0.23570226-0.40824829j],\n",
       "         [-0.23570226+0.40824829j,  0.66666667+0.j        ]], requires_grad=True),\n",
       " tensor([[ 0.33333333+0.j        , -0.23570226+0.40824829j],\n",
       "         [-0.23570226-0.40824829j,  0.66666667+0.j        ]], requires_grad=True)]"
      ]
     },
     "execution_count": 12,
     "metadata": {},
     "output_type": "execute_result"
    }
   ],
   "source": [
    "dm_labels"
   ]
  },
  {
   "cell_type": "code",
   "execution_count": 13,
   "metadata": {
    "executionInfo": {
     "elapsed": 975,
     "status": "ok",
     "timestamp": 1610358057231,
     "user": {
      "displayName": "Eraraya Ricardo Muten",
      "photoUrl": "https://lh3.googleusercontent.com/a-/AOh14Ggpw7xw-lyk6u6l92QjpI7MlI7qjJuuciCpwrUd=s64",
      "userId": "03770692095188133952"
     },
     "user_tz": -420
    },
    "id": "fYmu1Jchz-ot"
   },
   "outputs": [],
   "source": [
    "n_qubits = 4  # number of class\n",
    "dev_fc = qml.device(\"default.qubit\", wires=n_qubits)\n",
    "\n",
    "\n",
    "@qml.qnode(dev_fc)\n",
    "def q_fc(params, inputs):\n",
    "    \"\"\"A variational quantum circuit representing the DRC.\n",
    "\n",
    "    Args:\n",
    "        params (array[float]): array of parameters\n",
    "        inputs = [x, y]\n",
    "        x (array[float]): 1-d input vector\n",
    "        y (array[float]): single output state density matrix\n",
    "\n",
    "    Returns:\n",
    "        float: fidelity between output state and input\n",
    "    \"\"\"\n",
    "    \n",
    "    # layer iteration\n",
    "    for l in range(len(params[0])):\n",
    "        # qubit iteration\n",
    "        for q in range(n_qubits):\n",
    "            # gate iteration\n",
    "            for g in range(int(len(inputs)/3)):\n",
    "                qml.Rot(*(params[0][l][3*g:3*(g+1)] * inputs[3*g:3*(g+1)] + params[1][l][3*g:3*(g+1)]), wires=q)\n",
    "    \n",
    "    return [qml.expval(qml.Hermitian(dm_labels[i], wires=[i])) for i in range(n_qubits)]\n"
   ]
  },
  {
   "cell_type": "code",
   "execution_count": 14,
   "metadata": {
    "executionInfo": {
     "elapsed": 859,
     "status": "ok",
     "timestamp": 1610358059994,
     "user": {
      "displayName": "Eraraya Ricardo Muten",
      "photoUrl": "https://lh3.googleusercontent.com/a-/AOh14Ggpw7xw-lyk6u6l92QjpI7MlI7qjJuuciCpwrUd=s64",
      "userId": "03770692095188133952"
     },
     "user_tz": -420
    },
    "id": "UNYRb5MCz-ot"
   },
   "outputs": [],
   "source": [
    "dev_conv = qml.device(\"default.qubit\", wires=9)\n",
    "\n",
    "\n",
    "@qml.qnode(dev_conv)\n",
    "def q_conv(conv_params, inputs):\n",
    "    \"\"\"A variational quantum circuit representing the Universal classifier + Conv.\n",
    "\n",
    "    Args:\n",
    "        params (array[float]): array of parameters\n",
    "        x (array[float]): 2-d input vector\n",
    "        y (array[float]): single output state density matrix\n",
    "\n",
    "    Returns:\n",
    "        float: fidelity between output state and input\n",
    "    \"\"\"\n",
    "    # layer iteration\n",
    "    for l in range(len(conv_params[0])):\n",
    "        # RY layer\n",
    "        # height iteration\n",
    "        for i in range(3):\n",
    "            # width iteration\n",
    "            for j in range(3):\n",
    "                qml.RY((conv_params[0][l][3*i+j] * inputs[i, j] + conv_params[1][l][3*i+j]), wires=(3*i+j))\n",
    "\n",
    "        # entangling layer\n",
    "        for i in range(9):\n",
    "            if i != (9-1):\n",
    "                qml.CNOT(wires=[i, i+1])\n",
    "                \n",
    "    return qml.expval(qml.PauliZ(0) @ qml.PauliZ(1) @ qml.PauliZ(2) @ qml.PauliZ(3) @ qml.PauliZ(4) @ qml.PauliZ(5) @ qml.PauliZ(6) @ qml.PauliZ(7) @ qml.PauliZ(8))"
   ]
  },
  {
   "cell_type": "code",
   "execution_count": 15,
   "metadata": {},
   "outputs": [
    {
     "data": {
      "text/plain": [
       "tensor(1., requires_grad=True)"
      ]
     },
     "execution_count": 15,
     "metadata": {},
     "output_type": "execute_result"
    }
   ],
   "source": [
    "a = np.zeros((2, 1, 9))\n",
    "q_conv(a, X_train[0, 0:3, 0:3])"
   ]
  },
  {
   "cell_type": "code",
   "execution_count": 16,
   "metadata": {},
   "outputs": [
    {
     "data": {
      "text/plain": [
       "tensor([1.        , 0.33333333, 0.33333333, 0.33333333], requires_grad=True)"
      ]
     },
     "execution_count": 16,
     "metadata": {},
     "output_type": "execute_result"
    }
   ],
   "source": [
    "a = np.zeros((2, 1, 9))\n",
    "q_fc(a, X_train[0, 0, 0:9])"
   ]
  },
  {
   "cell_type": "code",
   "execution_count": 17,
   "metadata": {},
   "outputs": [
    {
     "name": "stderr",
     "output_type": "stream",
     "text": [
      "/home/ta-edo/.local/lib/python3.8/site-packages/autograd/numpy/numpy_wrapper.py:73: ComplexWarning: Casting complex values to real discards the imaginary part\n",
      "  return _np.array(scalar, *array_args, **array_kwargs)\n"
     ]
    }
   ],
   "source": [
    "tetra_class = np.loadtxt('./tetra_class_label.txt')\n",
    "binary_class = np.array([[1, 0], [0, 1]])\n",
    "\n",
    "square_class = np.array(np.loadtxt('./square_class_label.txt', dtype=np.complex_), dtype=float)"
   ]
  },
  {
   "cell_type": "code",
   "execution_count": 18,
   "metadata": {},
   "outputs": [],
   "source": [
    "class_labels = tetra_class"
   ]
  },
  {
   "cell_type": "code",
   "execution_count": 19,
   "metadata": {},
   "outputs": [
    {
     "data": {
      "text/plain": [
       "tensor([[1.        , 0.33333333, 0.33333333, 0.33333333],\n",
       "        [0.33333333, 1.        , 0.33333333, 0.33333333],\n",
       "        [0.33333333, 0.33333333, 1.        , 0.33333333],\n",
       "        [0.33333333, 0.33333333, 0.33333333, 1.        ]], requires_grad=True)"
      ]
     },
     "execution_count": 19,
     "metadata": {},
     "output_type": "execute_result"
    }
   ],
   "source": [
    "class_labels"
   ]
  },
  {
   "cell_type": "code",
   "execution_count": 20,
   "metadata": {},
   "outputs": [],
   "source": [
    "n_class = 4\n",
    "\n",
    "temp = np.zeros((len(Y_train), n_class))\n",
    "for i in range(len(Y_train)):\n",
    "    temp[i, :] = class_labels[Y_train[i]]\n",
    "Y_train = temp\n",
    "\n",
    "\n",
    "temp = np.zeros((len(Y_test), n_class))\n",
    "for i in range(len(Y_test)):\n",
    "    temp[i, :] = class_labels[Y_test[i]]\n",
    "Y_test = temp"
   ]
  },
  {
   "cell_type": "code",
   "execution_count": 21,
   "metadata": {},
   "outputs": [
    {
     "data": {
      "text/plain": [
       "tensor([[1.        , 0.33333333, 0.33333333, 0.33333333],\n",
       "        [1.        , 0.33333333, 0.33333333, 0.33333333],\n",
       "        [1.        , 0.33333333, 0.33333333, 0.33333333],\n",
       "        [1.        , 0.33333333, 0.33333333, 0.33333333],\n",
       "        [1.        , 0.33333333, 0.33333333, 0.33333333],\n",
       "        [1.        , 0.33333333, 0.33333333, 0.33333333],\n",
       "        [1.        , 0.33333333, 0.33333333, 0.33333333],\n",
       "        [1.        , 0.33333333, 0.33333333, 0.33333333],\n",
       "        [1.        , 0.33333333, 0.33333333, 0.33333333],\n",
       "        [1.        , 0.33333333, 0.33333333, 0.33333333],\n",
       "        [1.        , 0.33333333, 0.33333333, 0.33333333],\n",
       "        [1.        , 0.33333333, 0.33333333, 0.33333333],\n",
       "        [1.        , 0.33333333, 0.33333333, 0.33333333],\n",
       "        [1.        , 0.33333333, 0.33333333, 0.33333333],\n",
       "        [1.        , 0.33333333, 0.33333333, 0.33333333],\n",
       "        [1.        , 0.33333333, 0.33333333, 0.33333333],\n",
       "        [1.        , 0.33333333, 0.33333333, 0.33333333],\n",
       "        [1.        , 0.33333333, 0.33333333, 0.33333333],\n",
       "        [1.        , 0.33333333, 0.33333333, 0.33333333],\n",
       "        [1.        , 0.33333333, 0.33333333, 0.33333333],\n",
       "        [1.        , 0.33333333, 0.33333333, 0.33333333],\n",
       "        [1.        , 0.33333333, 0.33333333, 0.33333333],\n",
       "        [1.        , 0.33333333, 0.33333333, 0.33333333],\n",
       "        [1.        , 0.33333333, 0.33333333, 0.33333333],\n",
       "        [1.        , 0.33333333, 0.33333333, 0.33333333],\n",
       "        [1.        , 0.33333333, 0.33333333, 0.33333333],\n",
       "        [1.        , 0.33333333, 0.33333333, 0.33333333],\n",
       "        [1.        , 0.33333333, 0.33333333, 0.33333333],\n",
       "        [1.        , 0.33333333, 0.33333333, 0.33333333],\n",
       "        [1.        , 0.33333333, 0.33333333, 0.33333333],\n",
       "        [1.        , 0.33333333, 0.33333333, 0.33333333],\n",
       "        [1.        , 0.33333333, 0.33333333, 0.33333333],\n",
       "        [1.        , 0.33333333, 0.33333333, 0.33333333],\n",
       "        [1.        , 0.33333333, 0.33333333, 0.33333333],\n",
       "        [1.        , 0.33333333, 0.33333333, 0.33333333],\n",
       "        [1.        , 0.33333333, 0.33333333, 0.33333333],\n",
       "        [1.        , 0.33333333, 0.33333333, 0.33333333],\n",
       "        [1.        , 0.33333333, 0.33333333, 0.33333333],\n",
       "        [1.        , 0.33333333, 0.33333333, 0.33333333],\n",
       "        [1.        , 0.33333333, 0.33333333, 0.33333333],\n",
       "        [1.        , 0.33333333, 0.33333333, 0.33333333],\n",
       "        [1.        , 0.33333333, 0.33333333, 0.33333333],\n",
       "        [1.        , 0.33333333, 0.33333333, 0.33333333],\n",
       "        [1.        , 0.33333333, 0.33333333, 0.33333333],\n",
       "        [1.        , 0.33333333, 0.33333333, 0.33333333],\n",
       "        [1.        , 0.33333333, 0.33333333, 0.33333333],\n",
       "        [1.        , 0.33333333, 0.33333333, 0.33333333],\n",
       "        [1.        , 0.33333333, 0.33333333, 0.33333333],\n",
       "        [1.        , 0.33333333, 0.33333333, 0.33333333],\n",
       "        [1.        , 0.33333333, 0.33333333, 0.33333333],\n",
       "        [0.33333333, 1.        , 0.33333333, 0.33333333],\n",
       "        [0.33333333, 1.        , 0.33333333, 0.33333333],\n",
       "        [0.33333333, 1.        , 0.33333333, 0.33333333],\n",
       "        [0.33333333, 1.        , 0.33333333, 0.33333333],\n",
       "        [0.33333333, 1.        , 0.33333333, 0.33333333],\n",
       "        [0.33333333, 1.        , 0.33333333, 0.33333333],\n",
       "        [0.33333333, 1.        , 0.33333333, 0.33333333],\n",
       "        [0.33333333, 1.        , 0.33333333, 0.33333333],\n",
       "        [0.33333333, 1.        , 0.33333333, 0.33333333],\n",
       "        [0.33333333, 1.        , 0.33333333, 0.33333333],\n",
       "        [0.33333333, 1.        , 0.33333333, 0.33333333],\n",
       "        [0.33333333, 1.        , 0.33333333, 0.33333333],\n",
       "        [0.33333333, 1.        , 0.33333333, 0.33333333],\n",
       "        [0.33333333, 1.        , 0.33333333, 0.33333333],\n",
       "        [0.33333333, 1.        , 0.33333333, 0.33333333],\n",
       "        [0.33333333, 1.        , 0.33333333, 0.33333333],\n",
       "        [0.33333333, 1.        , 0.33333333, 0.33333333],\n",
       "        [0.33333333, 1.        , 0.33333333, 0.33333333],\n",
       "        [0.33333333, 1.        , 0.33333333, 0.33333333],\n",
       "        [0.33333333, 1.        , 0.33333333, 0.33333333],\n",
       "        [0.33333333, 1.        , 0.33333333, 0.33333333],\n",
       "        [0.33333333, 1.        , 0.33333333, 0.33333333],\n",
       "        [0.33333333, 1.        , 0.33333333, 0.33333333],\n",
       "        [0.33333333, 1.        , 0.33333333, 0.33333333],\n",
       "        [0.33333333, 1.        , 0.33333333, 0.33333333],\n",
       "        [0.33333333, 1.        , 0.33333333, 0.33333333],\n",
       "        [0.33333333, 1.        , 0.33333333, 0.33333333],\n",
       "        [0.33333333, 1.        , 0.33333333, 0.33333333],\n",
       "        [0.33333333, 1.        , 0.33333333, 0.33333333],\n",
       "        [0.33333333, 1.        , 0.33333333, 0.33333333],\n",
       "        [0.33333333, 1.        , 0.33333333, 0.33333333],\n",
       "        [0.33333333, 1.        , 0.33333333, 0.33333333],\n",
       "        [0.33333333, 1.        , 0.33333333, 0.33333333],\n",
       "        [0.33333333, 1.        , 0.33333333, 0.33333333],\n",
       "        [0.33333333, 1.        , 0.33333333, 0.33333333],\n",
       "        [0.33333333, 1.        , 0.33333333, 0.33333333],\n",
       "        [0.33333333, 1.        , 0.33333333, 0.33333333],\n",
       "        [0.33333333, 1.        , 0.33333333, 0.33333333],\n",
       "        [0.33333333, 1.        , 0.33333333, 0.33333333],\n",
       "        [0.33333333, 1.        , 0.33333333, 0.33333333],\n",
       "        [0.33333333, 1.        , 0.33333333, 0.33333333],\n",
       "        [0.33333333, 1.        , 0.33333333, 0.33333333],\n",
       "        [0.33333333, 1.        , 0.33333333, 0.33333333],\n",
       "        [0.33333333, 1.        , 0.33333333, 0.33333333],\n",
       "        [0.33333333, 1.        , 0.33333333, 0.33333333],\n",
       "        [0.33333333, 1.        , 0.33333333, 0.33333333],\n",
       "        [0.33333333, 1.        , 0.33333333, 0.33333333],\n",
       "        [0.33333333, 1.        , 0.33333333, 0.33333333],\n",
       "        [0.33333333, 1.        , 0.33333333, 0.33333333],\n",
       "        [0.33333333, 1.        , 0.33333333, 0.33333333],\n",
       "        [0.33333333, 0.33333333, 1.        , 0.33333333],\n",
       "        [0.33333333, 0.33333333, 1.        , 0.33333333],\n",
       "        [0.33333333, 0.33333333, 1.        , 0.33333333],\n",
       "        [0.33333333, 0.33333333, 1.        , 0.33333333],\n",
       "        [0.33333333, 0.33333333, 1.        , 0.33333333],\n",
       "        [0.33333333, 0.33333333, 1.        , 0.33333333],\n",
       "        [0.33333333, 0.33333333, 1.        , 0.33333333],\n",
       "        [0.33333333, 0.33333333, 1.        , 0.33333333],\n",
       "        [0.33333333, 0.33333333, 1.        , 0.33333333],\n",
       "        [0.33333333, 0.33333333, 1.        , 0.33333333],\n",
       "        [0.33333333, 0.33333333, 1.        , 0.33333333],\n",
       "        [0.33333333, 0.33333333, 1.        , 0.33333333],\n",
       "        [0.33333333, 0.33333333, 1.        , 0.33333333],\n",
       "        [0.33333333, 0.33333333, 1.        , 0.33333333],\n",
       "        [0.33333333, 0.33333333, 1.        , 0.33333333],\n",
       "        [0.33333333, 0.33333333, 1.        , 0.33333333],\n",
       "        [0.33333333, 0.33333333, 1.        , 0.33333333],\n",
       "        [0.33333333, 0.33333333, 1.        , 0.33333333],\n",
       "        [0.33333333, 0.33333333, 1.        , 0.33333333],\n",
       "        [0.33333333, 0.33333333, 1.        , 0.33333333],\n",
       "        [0.33333333, 0.33333333, 1.        , 0.33333333],\n",
       "        [0.33333333, 0.33333333, 1.        , 0.33333333],\n",
       "        [0.33333333, 0.33333333, 1.        , 0.33333333],\n",
       "        [0.33333333, 0.33333333, 1.        , 0.33333333],\n",
       "        [0.33333333, 0.33333333, 1.        , 0.33333333],\n",
       "        [0.33333333, 0.33333333, 1.        , 0.33333333],\n",
       "        [0.33333333, 0.33333333, 1.        , 0.33333333],\n",
       "        [0.33333333, 0.33333333, 1.        , 0.33333333],\n",
       "        [0.33333333, 0.33333333, 1.        , 0.33333333],\n",
       "        [0.33333333, 0.33333333, 1.        , 0.33333333],\n",
       "        [0.33333333, 0.33333333, 1.        , 0.33333333],\n",
       "        [0.33333333, 0.33333333, 1.        , 0.33333333],\n",
       "        [0.33333333, 0.33333333, 1.        , 0.33333333],\n",
       "        [0.33333333, 0.33333333, 1.        , 0.33333333],\n",
       "        [0.33333333, 0.33333333, 1.        , 0.33333333],\n",
       "        [0.33333333, 0.33333333, 1.        , 0.33333333],\n",
       "        [0.33333333, 0.33333333, 1.        , 0.33333333],\n",
       "        [0.33333333, 0.33333333, 1.        , 0.33333333],\n",
       "        [0.33333333, 0.33333333, 1.        , 0.33333333],\n",
       "        [0.33333333, 0.33333333, 1.        , 0.33333333],\n",
       "        [0.33333333, 0.33333333, 1.        , 0.33333333],\n",
       "        [0.33333333, 0.33333333, 1.        , 0.33333333],\n",
       "        [0.33333333, 0.33333333, 1.        , 0.33333333],\n",
       "        [0.33333333, 0.33333333, 1.        , 0.33333333],\n",
       "        [0.33333333, 0.33333333, 1.        , 0.33333333],\n",
       "        [0.33333333, 0.33333333, 1.        , 0.33333333],\n",
       "        [0.33333333, 0.33333333, 1.        , 0.33333333],\n",
       "        [0.33333333, 0.33333333, 1.        , 0.33333333],\n",
       "        [0.33333333, 0.33333333, 1.        , 0.33333333],\n",
       "        [0.33333333, 0.33333333, 1.        , 0.33333333],\n",
       "        [0.33333333, 0.33333333, 0.33333333, 1.        ],\n",
       "        [0.33333333, 0.33333333, 0.33333333, 1.        ],\n",
       "        [0.33333333, 0.33333333, 0.33333333, 1.        ],\n",
       "        [0.33333333, 0.33333333, 0.33333333, 1.        ],\n",
       "        [0.33333333, 0.33333333, 0.33333333, 1.        ],\n",
       "        [0.33333333, 0.33333333, 0.33333333, 1.        ],\n",
       "        [0.33333333, 0.33333333, 0.33333333, 1.        ],\n",
       "        [0.33333333, 0.33333333, 0.33333333, 1.        ],\n",
       "        [0.33333333, 0.33333333, 0.33333333, 1.        ],\n",
       "        [0.33333333, 0.33333333, 0.33333333, 1.        ],\n",
       "        [0.33333333, 0.33333333, 0.33333333, 1.        ],\n",
       "        [0.33333333, 0.33333333, 0.33333333, 1.        ],\n",
       "        [0.33333333, 0.33333333, 0.33333333, 1.        ],\n",
       "        [0.33333333, 0.33333333, 0.33333333, 1.        ],\n",
       "        [0.33333333, 0.33333333, 0.33333333, 1.        ],\n",
       "        [0.33333333, 0.33333333, 0.33333333, 1.        ],\n",
       "        [0.33333333, 0.33333333, 0.33333333, 1.        ],\n",
       "        [0.33333333, 0.33333333, 0.33333333, 1.        ],\n",
       "        [0.33333333, 0.33333333, 0.33333333, 1.        ],\n",
       "        [0.33333333, 0.33333333, 0.33333333, 1.        ],\n",
       "        [0.33333333, 0.33333333, 0.33333333, 1.        ],\n",
       "        [0.33333333, 0.33333333, 0.33333333, 1.        ],\n",
       "        [0.33333333, 0.33333333, 0.33333333, 1.        ],\n",
       "        [0.33333333, 0.33333333, 0.33333333, 1.        ],\n",
       "        [0.33333333, 0.33333333, 0.33333333, 1.        ],\n",
       "        [0.33333333, 0.33333333, 0.33333333, 1.        ],\n",
       "        [0.33333333, 0.33333333, 0.33333333, 1.        ],\n",
       "        [0.33333333, 0.33333333, 0.33333333, 1.        ],\n",
       "        [0.33333333, 0.33333333, 0.33333333, 1.        ],\n",
       "        [0.33333333, 0.33333333, 0.33333333, 1.        ],\n",
       "        [0.33333333, 0.33333333, 0.33333333, 1.        ],\n",
       "        [0.33333333, 0.33333333, 0.33333333, 1.        ],\n",
       "        [0.33333333, 0.33333333, 0.33333333, 1.        ],\n",
       "        [0.33333333, 0.33333333, 0.33333333, 1.        ],\n",
       "        [0.33333333, 0.33333333, 0.33333333, 1.        ],\n",
       "        [0.33333333, 0.33333333, 0.33333333, 1.        ],\n",
       "        [0.33333333, 0.33333333, 0.33333333, 1.        ],\n",
       "        [0.33333333, 0.33333333, 0.33333333, 1.        ],\n",
       "        [0.33333333, 0.33333333, 0.33333333, 1.        ],\n",
       "        [0.33333333, 0.33333333, 0.33333333, 1.        ],\n",
       "        [0.33333333, 0.33333333, 0.33333333, 1.        ],\n",
       "        [0.33333333, 0.33333333, 0.33333333, 1.        ],\n",
       "        [0.33333333, 0.33333333, 0.33333333, 1.        ],\n",
       "        [0.33333333, 0.33333333, 0.33333333, 1.        ],\n",
       "        [0.33333333, 0.33333333, 0.33333333, 1.        ],\n",
       "        [0.33333333, 0.33333333, 0.33333333, 1.        ],\n",
       "        [0.33333333, 0.33333333, 0.33333333, 1.        ],\n",
       "        [0.33333333, 0.33333333, 0.33333333, 1.        ],\n",
       "        [0.33333333, 0.33333333, 0.33333333, 1.        ],\n",
       "        [0.33333333, 0.33333333, 0.33333333, 1.        ]], requires_grad=True)"
      ]
     },
     "execution_count": 21,
     "metadata": {},
     "output_type": "execute_result"
    }
   ],
   "source": [
    "Y_test"
   ]
  },
  {
   "cell_type": "code",
   "execution_count": 22,
   "metadata": {
    "executionInfo": {
     "elapsed": 811,
     "status": "ok",
     "timestamp": 1610358062091,
     "user": {
      "displayName": "Eraraya Ricardo Muten",
      "photoUrl": "https://lh3.googleusercontent.com/a-/AOh14Ggpw7xw-lyk6u6l92QjpI7MlI7qjJuuciCpwrUd=s64",
      "userId": "03770692095188133952"
     },
     "user_tz": -420
    },
    "id": "zzVunJV1z-ou"
   },
   "outputs": [],
   "source": [
    "from keras import backend as K\n",
    "\n",
    "\n",
    "# Alpha Custom Layer\n",
    "class class_weights(tf.keras.layers.Layer):\n",
    "    def __init__(self):\n",
    "        super(class_weights, self).__init__()\n",
    "        w_init = tf.random_normal_initializer()\n",
    "        self.w = tf.Variable(\n",
    "            initial_value=w_init(shape=(1, n_class), dtype=\"float32\"),\n",
    "            trainable=True,\n",
    "        )\n",
    "\n",
    "    def call(self, inputs):\n",
    "        return (inputs * self.w)"
   ]
  },
  {
   "cell_type": "code",
   "execution_count": 23,
   "metadata": {
    "executionInfo": {
     "elapsed": 2804,
     "status": "ok",
     "timestamp": 1610358067284,
     "user": {
      "displayName": "Eraraya Ricardo Muten",
      "photoUrl": "https://lh3.googleusercontent.com/a-/AOh14Ggpw7xw-lyk6u6l92QjpI7MlI7qjJuuciCpwrUd=s64",
      "userId": "03770692095188133952"
     },
     "user_tz": -420
    },
    "id": "6IozHMJhz-ou"
   },
   "outputs": [],
   "source": [
    "# Input image, size = 27 x 27\n",
    "X = tf.keras.Input(shape=(27,27), name='Input_Layer')\n",
    "\n",
    "\n",
    "# Specs for Conv\n",
    "c_filter = 3\n",
    "c_strides = 2\n",
    "\n",
    "\n",
    "# First Quantum Conv Layer, trainable params = 18*L, output size = 13 x 13\n",
    "num_conv_layer_1 = 2\n",
    "q_conv_layer_1 = qml.qnn.KerasLayer(q_conv, {\"conv_params\": (2, num_conv_layer_1, 9)}, output_dim=(1), name='Quantum_Conv_Layer_1')\n",
    "size_1 = int(1+(X.shape[1]-c_filter)/c_strides)\n",
    "q_conv_layer_1_list = []\n",
    "# height iteration\n",
    "for i in range(size_1):\n",
    "    # width iteration\n",
    "    for j in range(size_1):\n",
    "        temp = q_conv_layer_1(X[:, 2*i:2*(i+1)+1, 2*j:2*(j+1)+1])\n",
    "        temp = tf.keras.layers.Reshape((1,))(temp)\n",
    "        q_conv_layer_1_list += [temp]\n",
    "concat_layer_1 = tf.keras.layers.Concatenate(axis=1)(q_conv_layer_1_list)\n",
    "reshape_layer_1 = tf.keras.layers.Reshape((size_1, size_1))(concat_layer_1)\n",
    "\n",
    "\n",
    "# Second Quantum Conv Layer, trainable params = 18*L, output size = 6 x 6\n",
    "num_conv_layer_2 = 2\n",
    "q_conv_layer_2 = qml.qnn.KerasLayer(q_conv, {\"conv_params\": (2, num_conv_layer_2, 9)}, output_dim=(1), name='Quantum_Conv_Layer_2')\n",
    "size_2 = int(1+(reshape_layer_1.shape[1]-c_filter)/c_strides)\n",
    "q_conv_layer_2_list = []\n",
    "# height iteration\n",
    "for i in range(size_2):\n",
    "    # width iteration\n",
    "    for j in range(size_2):\n",
    "        temp = q_conv_layer_2(reshape_layer_1[:, 2*i:2*(i+1)+1, 2*j:2*(j+1)+1])\n",
    "        temp = tf.keras.layers.Reshape((1,))(temp)\n",
    "        q_conv_layer_2_list += [temp]\n",
    "concat_layer_2 = tf.keras.layers.Concatenate(axis=1)(q_conv_layer_2_list)\n",
    "reshape_layer_2 = tf.keras.layers.Reshape((size_2, size_2, 1))(concat_layer_2)\n",
    "\n",
    "\n",
    "# Max Pooling Layer, output size = 9\n",
    "max_pool_layer = tf.keras.layers.MaxPooling2D(pool_size=(2, 2), strides=None, name='Max_Pool_Layer')(reshape_layer_2)\n",
    "reshape_layer_3 = tf.keras.layers.Reshape((9,))(max_pool_layer)\n",
    "\n",
    "\n",
    "# Quantum FC Layer, trainable params = 18*L*n_class + 2, output size = 2\n",
    "num_fc_layer = 2\n",
    "q_fc_layer_0 = qml.qnn.KerasLayer(q_fc, {\"params\": (2, num_fc_layer, 9)}, output_dim=n_class)(reshape_layer_3)\n",
    "\n",
    "# Alpha Layer\n",
    "alpha_layer_0 = class_weights()(q_fc_layer_0)\n",
    "\n",
    "model = tf.keras.Model(inputs=X, outputs=alpha_layer_0)"
   ]
  },
  {
   "cell_type": "code",
   "execution_count": 24,
   "metadata": {
    "colab": {
     "base_uri": "https://localhost:8080/"
    },
    "executionInfo": {
     "elapsed": 39184,
     "status": "ok",
     "timestamp": 1610358109156,
     "user": {
      "displayName": "Eraraya Ricardo Muten",
      "photoUrl": "https://lh3.googleusercontent.com/a-/AOh14Ggpw7xw-lyk6u6l92QjpI7MlI7qjJuuciCpwrUd=s64",
      "userId": "03770692095188133952"
     },
     "user_tz": -420
    },
    "id": "-kazExRcz-ov",
    "outputId": "11a34545-b4dd-425d-d246-8d0d260c9da8",
    "scrolled": false
   },
   "outputs": [
    {
     "data": {
      "text/plain": [
       "<tf.Tensor: shape=(32, 4), dtype=float32, numpy=\n",
       "array([[ 0.0247839 ,  0.01879054, -0.00123031, -0.01002374],\n",
       "       [ 0.02476473,  0.01873888, -0.00123847, -0.00994578],\n",
       "       [ 0.02472481,  0.018805  , -0.00124422, -0.00978129],\n",
       "       [ 0.02470079,  0.01880255, -0.0012503 , -0.00968586],\n",
       "       [ 0.02473471,  0.01882366, -0.00124057, -0.00982054],\n",
       "       [ 0.02475395,  0.01872398, -0.00124211, -0.00990245],\n",
       "       [ 0.02481924,  0.0186645 , -0.0012294 , -0.01017524],\n",
       "       [ 0.02474313,  0.01886819, -0.0012356 , -0.00985379],\n",
       "       [ 0.02477125,  0.01877953, -0.00123422, -0.00997135],\n",
       "       [ 0.02478937,  0.01873251, -0.00123265, -0.01004783],\n",
       "       [ 0.02476793,  0.01875675, -0.00123652, -0.0099583 ],\n",
       "       [ 0.02473665,  0.01890324, -0.00123496, -0.00982683],\n",
       "       [ 0.02476653,  0.01873967, -0.00123796, -0.00995314],\n",
       "       [ 0.02470708,  0.01884012, -0.00124637, -0.00970903],\n",
       "       [ 0.02477513,  0.01876597, -0.00123411, -0.00998775],\n",
       "       [ 0.02475806,  0.0189284 , -0.00122792, -0.00991531],\n",
       "       [ 0.02479828,  0.01864041, -0.00123626, -0.01008837],\n",
       "       [ 0.02469825,  0.01888091, -0.00124595, -0.00967241],\n",
       "       [ 0.02476607,  0.01889866, -0.00122783, -0.00994859],\n",
       "       [ 0.0247621 ,  0.01879307, -0.00123566, -0.00993323],\n",
       "       [ 0.02469503,  0.01891108, -0.00124481, -0.00965867],\n",
       "       [ 0.02477226,  0.01878268, -0.00123377, -0.00997546],\n",
       "       [ 0.02475927,  0.01873161, -0.0012403 , -0.00992378],\n",
       "       [ 0.02475277,  0.0190104 , -0.00122387, -0.00989465],\n",
       "       [ 0.02478495,  0.01887618, -0.00122448, -0.0100279 ],\n",
       "       [ 0.02477502,  0.01874727, -0.00123534, -0.00998783],\n",
       "       [ 0.02463743,  0.01904093, -0.00125059, -0.00942909],\n",
       "       [ 0.02472755,  0.01894888, -0.00123428, -0.00978932],\n",
       "       [ 0.02473155,  0.01900539, -0.00122959, -0.00980611],\n",
       "       [ 0.02472553,  0.01881528, -0.00124339, -0.00978379],\n",
       "       [ 0.02470895,  0.01897937, -0.00123695, -0.0097135 ],\n",
       "       [ 0.02472872,  0.01866814, -0.00125187, -0.00980472]],\n",
       "      dtype=float32)>"
      ]
     },
     "execution_count": 24,
     "metadata": {},
     "output_type": "execute_result"
    }
   ],
   "source": [
    "model(X_train[0:32, :, :])"
   ]
  },
  {
   "cell_type": "code",
   "execution_count": 25,
   "metadata": {},
   "outputs": [],
   "source": [
    "import keras.backend as K\n",
    "\n",
    "# def custom_loss(y_true, y_pred):\n",
    "#     return K.sum(((y_true.shape[1]-2)*y_true+1)*K.square(y_true-y_pred))/len(y_true)\n",
    "\n",
    "def custom_loss(y_true, y_pred):\n",
    "    loss = K.square(y_true-y_pred)\n",
    "    #class_weights = y_true*(weight_for_1-weight_for_0) + weight_for_0\n",
    "    #loss = loss * class_weights\n",
    "    \n",
    "    return K.sum(loss)/len(y_true)"
   ]
  },
  {
   "cell_type": "code",
   "execution_count": 26,
   "metadata": {},
   "outputs": [
    {
     "name": "stdout",
     "output_type": "stream",
     "text": [
      "0.1\n",
      "0.095\n",
      "0.09025\n",
      "0.0857375\n",
      "0.081450625\n",
      "0.07737809374999999\n",
      "0.07350918906249998\n",
      "0.06983372960937498\n",
      "0.06634204312890622\n",
      "0.0630249409724609\n"
     ]
    }
   ],
   "source": [
    "for i in range(10):\n",
    "    print(0.1* ((0.95)**i))"
   ]
  },
  {
   "cell_type": "code",
   "execution_count": 27,
   "metadata": {},
   "outputs": [],
   "source": [
    "lr_schedule = tf.keras.optimizers.schedules.ExponentialDecay(\n",
    "    initial_learning_rate=0.1,\n",
    "    decay_steps=int(len(X_train)/32),\n",
    "    decay_rate=0.95,\n",
    "    staircase=True)"
   ]
  },
  {
   "cell_type": "code",
   "execution_count": 28,
   "metadata": {
    "executionInfo": {
     "elapsed": 1168,
     "status": "ok",
     "timestamp": 1610358110335,
     "user": {
      "displayName": "Eraraya Ricardo Muten",
      "photoUrl": "https://lh3.googleusercontent.com/a-/AOh14Ggpw7xw-lyk6u6l92QjpI7MlI7qjJuuciCpwrUd=s64",
      "userId": "03770692095188133952"
     },
     "user_tz": -420
    },
    "id": "wZ2e6t93z-ow"
   },
   "outputs": [],
   "source": [
    "opt = tf.keras.optimizers.Adam(learning_rate=lr_schedule)\n",
    "model.compile(opt, loss='mse', metrics=[\"accuracy\"])"
   ]
  },
  {
   "cell_type": "code",
   "execution_count": 29,
   "metadata": {},
   "outputs": [],
   "source": [
    "cp_val_acc = tf.keras.callbacks.ModelCheckpoint(filepath=\"./Model/4_QConv2ent_QFC_LRDecay_valacc.hdf5\",\n",
    "                monitor='val_accuracy', verbose=1, save_weights_only=True, save_best_only=True, mode='max')\n",
    "\n",
    "cp_val_loss = tf.keras.callbacks.ModelCheckpoint(filepath=\"./Model/4_QConv2ent_QFC_LRDecay_valloss.hdf5\",\n",
    "                monitor='val_loss', verbose=1, save_weights_only=True, save_best_only=True, mode='min')"
   ]
  },
  {
   "cell_type": "code",
   "execution_count": null,
   "metadata": {
    "colab": {
     "base_uri": "https://localhost:8080/"
    },
    "executionInfo": {
     "elapsed": 23954180,
     "status": "ok",
     "timestamp": 1610382086131,
     "user": {
      "displayName": "Eraraya Ricardo Muten",
      "photoUrl": "https://lh3.googleusercontent.com/a-/AOh14Ggpw7xw-lyk6u6l92QjpI7MlI7qjJuuciCpwrUd=s64",
      "userId": "03770692095188133952"
     },
     "user_tz": -420
    },
    "id": "GKW8hv-9z-ow",
    "outputId": "a004b2f4-c3e3-4aa1-cef5-0d28d21a6d57",
    "scrolled": false
   },
   "outputs": [
    {
     "name": "stdout",
     "output_type": "stream",
     "text": [
      "Epoch 14/15\n",
      "25/25 [==============================] - 26759s 1071s/step - loss: 0.0365 - accuracy: 0.7900 - val_loss: 0.0419 - val_accuracy: 0.7750\n",
      "\n",
      "Epoch 00014: val_accuracy improved from 0.77000 to 0.77500, saving model to ./Model/4_QConv2ent_QFC_LRDecay_valacc.hdf5\n",
      "\n",
      "Epoch 00014: val_loss improved from 0.04191 to 0.04188, saving model to ./Model/4_QConv2ent_QFC_LRDecay_valloss.hdf5\n",
      "Epoch 15/15\n",
      " 4/25 [===>..........................] - ETA: 6:04:18 - loss: 0.0328 - accuracy: 0.8750"
     ]
    }
   ],
   "source": [
    "H = model.fit(X_train, Y_train, epochs=15, batch_size=32, initial_epoch=13,\n",
    "              validation_data=(X_test, Y_test), verbose=1,\n",
    "              callbacks=[cp_val_acc, cp_val_loss])"
   ]
  },
  {
   "cell_type": "code",
   "execution_count": null,
   "metadata": {},
   "outputs": [],
   "source": []
  },
  {
   "cell_type": "code",
   "execution_count": 31,
   "metadata": {},
   "outputs": [
    {
     "name": "stdout",
     "output_type": "stream",
     "text": [
      "Model: \"model\"\n",
      "__________________________________________________________________________________________________\n",
      "Layer (type)                    Output Shape         Param #     Connected to                     \n",
      "==================================================================================================\n",
      "Input_Layer (InputLayer)        [(None, 27, 27)]     0                                            \n",
      "__________________________________________________________________________________________________\n",
      "tf.__operators__.getitem (Slici (None, 3, 3)         0           Input_Layer[0][0]                \n",
      "__________________________________________________________________________________________________\n",
      "tf.__operators__.getitem_1 (Sli (None, 3, 3)         0           Input_Layer[0][0]                \n",
      "__________________________________________________________________________________________________\n",
      "tf.__operators__.getitem_2 (Sli (None, 3, 3)         0           Input_Layer[0][0]                \n",
      "__________________________________________________________________________________________________\n",
      "tf.__operators__.getitem_3 (Sli (None, 3, 3)         0           Input_Layer[0][0]                \n",
      "__________________________________________________________________________________________________\n",
      "tf.__operators__.getitem_4 (Sli (None, 3, 3)         0           Input_Layer[0][0]                \n",
      "__________________________________________________________________________________________________\n",
      "tf.__operators__.getitem_5 (Sli (None, 3, 3)         0           Input_Layer[0][0]                \n",
      "__________________________________________________________________________________________________\n",
      "tf.__operators__.getitem_6 (Sli (None, 3, 3)         0           Input_Layer[0][0]                \n",
      "__________________________________________________________________________________________________\n",
      "tf.__operators__.getitem_7 (Sli (None, 3, 3)         0           Input_Layer[0][0]                \n",
      "__________________________________________________________________________________________________\n",
      "tf.__operators__.getitem_8 (Sli (None, 3, 3)         0           Input_Layer[0][0]                \n",
      "__________________________________________________________________________________________________\n",
      "tf.__operators__.getitem_9 (Sli (None, 3, 3)         0           Input_Layer[0][0]                \n",
      "__________________________________________________________________________________________________\n",
      "tf.__operators__.getitem_10 (Sl (None, 3, 3)         0           Input_Layer[0][0]                \n",
      "__________________________________________________________________________________________________\n",
      "tf.__operators__.getitem_11 (Sl (None, 3, 3)         0           Input_Layer[0][0]                \n",
      "__________________________________________________________________________________________________\n",
      "tf.__operators__.getitem_12 (Sl (None, 3, 3)         0           Input_Layer[0][0]                \n",
      "__________________________________________________________________________________________________\n",
      "tf.__operators__.getitem_13 (Sl (None, 3, 3)         0           Input_Layer[0][0]                \n",
      "__________________________________________________________________________________________________\n",
      "tf.__operators__.getitem_14 (Sl (None, 3, 3)         0           Input_Layer[0][0]                \n",
      "__________________________________________________________________________________________________\n",
      "tf.__operators__.getitem_15 (Sl (None, 3, 3)         0           Input_Layer[0][0]                \n",
      "__________________________________________________________________________________________________\n",
      "tf.__operators__.getitem_16 (Sl (None, 3, 3)         0           Input_Layer[0][0]                \n",
      "__________________________________________________________________________________________________\n",
      "tf.__operators__.getitem_17 (Sl (None, 3, 3)         0           Input_Layer[0][0]                \n",
      "__________________________________________________________________________________________________\n",
      "tf.__operators__.getitem_18 (Sl (None, 3, 3)         0           Input_Layer[0][0]                \n",
      "__________________________________________________________________________________________________\n",
      "tf.__operators__.getitem_19 (Sl (None, 3, 3)         0           Input_Layer[0][0]                \n",
      "__________________________________________________________________________________________________\n",
      "tf.__operators__.getitem_20 (Sl (None, 3, 3)         0           Input_Layer[0][0]                \n",
      "__________________________________________________________________________________________________\n",
      "tf.__operators__.getitem_21 (Sl (None, 3, 3)         0           Input_Layer[0][0]                \n",
      "__________________________________________________________________________________________________\n",
      "tf.__operators__.getitem_22 (Sl (None, 3, 3)         0           Input_Layer[0][0]                \n",
      "__________________________________________________________________________________________________\n",
      "tf.__operators__.getitem_23 (Sl (None, 3, 3)         0           Input_Layer[0][0]                \n",
      "__________________________________________________________________________________________________\n",
      "tf.__operators__.getitem_24 (Sl (None, 3, 3)         0           Input_Layer[0][0]                \n",
      "__________________________________________________________________________________________________\n",
      "tf.__operators__.getitem_25 (Sl (None, 3, 3)         0           Input_Layer[0][0]                \n",
      "__________________________________________________________________________________________________\n",
      "tf.__operators__.getitem_26 (Sl (None, 3, 3)         0           Input_Layer[0][0]                \n",
      "__________________________________________________________________________________________________\n",
      "tf.__operators__.getitem_27 (Sl (None, 3, 3)         0           Input_Layer[0][0]                \n",
      "__________________________________________________________________________________________________\n",
      "tf.__operators__.getitem_28 (Sl (None, 3, 3)         0           Input_Layer[0][0]                \n",
      "__________________________________________________________________________________________________\n",
      "tf.__operators__.getitem_29 (Sl (None, 3, 3)         0           Input_Layer[0][0]                \n",
      "__________________________________________________________________________________________________\n",
      "tf.__operators__.getitem_30 (Sl (None, 3, 3)         0           Input_Layer[0][0]                \n",
      "__________________________________________________________________________________________________\n",
      "tf.__operators__.getitem_31 (Sl (None, 3, 3)         0           Input_Layer[0][0]                \n",
      "__________________________________________________________________________________________________\n",
      "tf.__operators__.getitem_32 (Sl (None, 3, 3)         0           Input_Layer[0][0]                \n",
      "__________________________________________________________________________________________________\n",
      "tf.__operators__.getitem_33 (Sl (None, 3, 3)         0           Input_Layer[0][0]                \n",
      "__________________________________________________________________________________________________\n",
      "tf.__operators__.getitem_34 (Sl (None, 3, 3)         0           Input_Layer[0][0]                \n",
      "__________________________________________________________________________________________________\n",
      "tf.__operators__.getitem_35 (Sl (None, 3, 3)         0           Input_Layer[0][0]                \n",
      "__________________________________________________________________________________________________\n",
      "tf.__operators__.getitem_36 (Sl (None, 3, 3)         0           Input_Layer[0][0]                \n",
      "__________________________________________________________________________________________________\n",
      "tf.__operators__.getitem_37 (Sl (None, 3, 3)         0           Input_Layer[0][0]                \n",
      "__________________________________________________________________________________________________\n",
      "tf.__operators__.getitem_38 (Sl (None, 3, 3)         0           Input_Layer[0][0]                \n",
      "__________________________________________________________________________________________________\n",
      "tf.__operators__.getitem_39 (Sl (None, 3, 3)         0           Input_Layer[0][0]                \n",
      "__________________________________________________________________________________________________\n",
      "tf.__operators__.getitem_40 (Sl (None, 3, 3)         0           Input_Layer[0][0]                \n",
      "__________________________________________________________________________________________________\n",
      "tf.__operators__.getitem_41 (Sl (None, 3, 3)         0           Input_Layer[0][0]                \n",
      "__________________________________________________________________________________________________\n",
      "tf.__operators__.getitem_42 (Sl (None, 3, 3)         0           Input_Layer[0][0]                \n",
      "__________________________________________________________________________________________________\n",
      "tf.__operators__.getitem_43 (Sl (None, 3, 3)         0           Input_Layer[0][0]                \n",
      "__________________________________________________________________________________________________\n",
      "tf.__operators__.getitem_44 (Sl (None, 3, 3)         0           Input_Layer[0][0]                \n",
      "__________________________________________________________________________________________________\n",
      "tf.__operators__.getitem_45 (Sl (None, 3, 3)         0           Input_Layer[0][0]                \n",
      "__________________________________________________________________________________________________\n",
      "tf.__operators__.getitem_46 (Sl (None, 3, 3)         0           Input_Layer[0][0]                \n",
      "__________________________________________________________________________________________________\n",
      "tf.__operators__.getitem_47 (Sl (None, 3, 3)         0           Input_Layer[0][0]                \n",
      "__________________________________________________________________________________________________\n",
      "tf.__operators__.getitem_48 (Sl (None, 3, 3)         0           Input_Layer[0][0]                \n",
      "__________________________________________________________________________________________________\n",
      "tf.__operators__.getitem_49 (Sl (None, 3, 3)         0           Input_Layer[0][0]                \n",
      "__________________________________________________________________________________________________\n",
      "tf.__operators__.getitem_50 (Sl (None, 3, 3)         0           Input_Layer[0][0]                \n",
      "__________________________________________________________________________________________________\n",
      "tf.__operators__.getitem_51 (Sl (None, 3, 3)         0           Input_Layer[0][0]                \n",
      "__________________________________________________________________________________________________\n",
      "tf.__operators__.getitem_52 (Sl (None, 3, 3)         0           Input_Layer[0][0]                \n",
      "__________________________________________________________________________________________________\n",
      "tf.__operators__.getitem_53 (Sl (None, 3, 3)         0           Input_Layer[0][0]                \n",
      "__________________________________________________________________________________________________\n",
      "tf.__operators__.getitem_54 (Sl (None, 3, 3)         0           Input_Layer[0][0]                \n",
      "__________________________________________________________________________________________________\n",
      "tf.__operators__.getitem_55 (Sl (None, 3, 3)         0           Input_Layer[0][0]                \n",
      "__________________________________________________________________________________________________\n",
      "tf.__operators__.getitem_56 (Sl (None, 3, 3)         0           Input_Layer[0][0]                \n",
      "__________________________________________________________________________________________________\n",
      "tf.__operators__.getitem_57 (Sl (None, 3, 3)         0           Input_Layer[0][0]                \n",
      "__________________________________________________________________________________________________\n",
      "tf.__operators__.getitem_58 (Sl (None, 3, 3)         0           Input_Layer[0][0]                \n",
      "__________________________________________________________________________________________________\n",
      "tf.__operators__.getitem_59 (Sl (None, 3, 3)         0           Input_Layer[0][0]                \n",
      "__________________________________________________________________________________________________\n",
      "tf.__operators__.getitem_60 (Sl (None, 3, 3)         0           Input_Layer[0][0]                \n",
      "__________________________________________________________________________________________________\n",
      "tf.__operators__.getitem_61 (Sl (None, 3, 3)         0           Input_Layer[0][0]                \n",
      "__________________________________________________________________________________________________\n",
      "tf.__operators__.getitem_62 (Sl (None, 3, 3)         0           Input_Layer[0][0]                \n",
      "__________________________________________________________________________________________________\n",
      "tf.__operators__.getitem_63 (Sl (None, 3, 3)         0           Input_Layer[0][0]                \n",
      "__________________________________________________________________________________________________\n",
      "tf.__operators__.getitem_64 (Sl (None, 3, 3)         0           Input_Layer[0][0]                \n",
      "__________________________________________________________________________________________________\n",
      "tf.__operators__.getitem_65 (Sl (None, 3, 3)         0           Input_Layer[0][0]                \n",
      "__________________________________________________________________________________________________\n",
      "tf.__operators__.getitem_66 (Sl (None, 3, 3)         0           Input_Layer[0][0]                \n",
      "__________________________________________________________________________________________________\n",
      "tf.__operators__.getitem_67 (Sl (None, 3, 3)         0           Input_Layer[0][0]                \n",
      "__________________________________________________________________________________________________\n",
      "tf.__operators__.getitem_68 (Sl (None, 3, 3)         0           Input_Layer[0][0]                \n",
      "__________________________________________________________________________________________________\n",
      "tf.__operators__.getitem_69 (Sl (None, 3, 3)         0           Input_Layer[0][0]                \n",
      "__________________________________________________________________________________________________\n",
      "tf.__operators__.getitem_70 (Sl (None, 3, 3)         0           Input_Layer[0][0]                \n",
      "__________________________________________________________________________________________________\n",
      "tf.__operators__.getitem_71 (Sl (None, 3, 3)         0           Input_Layer[0][0]                \n",
      "__________________________________________________________________________________________________\n",
      "tf.__operators__.getitem_72 (Sl (None, 3, 3)         0           Input_Layer[0][0]                \n",
      "__________________________________________________________________________________________________\n",
      "tf.__operators__.getitem_73 (Sl (None, 3, 3)         0           Input_Layer[0][0]                \n",
      "__________________________________________________________________________________________________\n",
      "tf.__operators__.getitem_74 (Sl (None, 3, 3)         0           Input_Layer[0][0]                \n",
      "__________________________________________________________________________________________________\n",
      "tf.__operators__.getitem_75 (Sl (None, 3, 3)         0           Input_Layer[0][0]                \n",
      "__________________________________________________________________________________________________\n",
      "tf.__operators__.getitem_76 (Sl (None, 3, 3)         0           Input_Layer[0][0]                \n",
      "__________________________________________________________________________________________________\n",
      "tf.__operators__.getitem_77 (Sl (None, 3, 3)         0           Input_Layer[0][0]                \n",
      "__________________________________________________________________________________________________\n",
      "tf.__operators__.getitem_78 (Sl (None, 3, 3)         0           Input_Layer[0][0]                \n",
      "__________________________________________________________________________________________________\n",
      "tf.__operators__.getitem_79 (Sl (None, 3, 3)         0           Input_Layer[0][0]                \n",
      "__________________________________________________________________________________________________\n",
      "tf.__operators__.getitem_80 (Sl (None, 3, 3)         0           Input_Layer[0][0]                \n",
      "__________________________________________________________________________________________________\n",
      "tf.__operators__.getitem_81 (Sl (None, 3, 3)         0           Input_Layer[0][0]                \n",
      "__________________________________________________________________________________________________\n",
      "tf.__operators__.getitem_82 (Sl (None, 3, 3)         0           Input_Layer[0][0]                \n",
      "__________________________________________________________________________________________________\n",
      "tf.__operators__.getitem_83 (Sl (None, 3, 3)         0           Input_Layer[0][0]                \n",
      "__________________________________________________________________________________________________\n",
      "tf.__operators__.getitem_84 (Sl (None, 3, 3)         0           Input_Layer[0][0]                \n",
      "__________________________________________________________________________________________________\n",
      "tf.__operators__.getitem_85 (Sl (None, 3, 3)         0           Input_Layer[0][0]                \n",
      "__________________________________________________________________________________________________\n",
      "tf.__operators__.getitem_86 (Sl (None, 3, 3)         0           Input_Layer[0][0]                \n",
      "__________________________________________________________________________________________________\n",
      "tf.__operators__.getitem_87 (Sl (None, 3, 3)         0           Input_Layer[0][0]                \n",
      "__________________________________________________________________________________________________\n",
      "tf.__operators__.getitem_88 (Sl (None, 3, 3)         0           Input_Layer[0][0]                \n",
      "__________________________________________________________________________________________________\n",
      "tf.__operators__.getitem_89 (Sl (None, 3, 3)         0           Input_Layer[0][0]                \n",
      "__________________________________________________________________________________________________\n",
      "tf.__operators__.getitem_90 (Sl (None, 3, 3)         0           Input_Layer[0][0]                \n",
      "__________________________________________________________________________________________________\n",
      "tf.__operators__.getitem_91 (Sl (None, 3, 3)         0           Input_Layer[0][0]                \n",
      "__________________________________________________________________________________________________\n",
      "tf.__operators__.getitem_92 (Sl (None, 3, 3)         0           Input_Layer[0][0]                \n",
      "__________________________________________________________________________________________________\n",
      "tf.__operators__.getitem_93 (Sl (None, 3, 3)         0           Input_Layer[0][0]                \n",
      "__________________________________________________________________________________________________\n",
      "tf.__operators__.getitem_94 (Sl (None, 3, 3)         0           Input_Layer[0][0]                \n",
      "__________________________________________________________________________________________________\n",
      "tf.__operators__.getitem_95 (Sl (None, 3, 3)         0           Input_Layer[0][0]                \n",
      "__________________________________________________________________________________________________\n",
      "tf.__operators__.getitem_96 (Sl (None, 3, 3)         0           Input_Layer[0][0]                \n",
      "__________________________________________________________________________________________________\n",
      "tf.__operators__.getitem_97 (Sl (None, 3, 3)         0           Input_Layer[0][0]                \n",
      "__________________________________________________________________________________________________\n",
      "tf.__operators__.getitem_98 (Sl (None, 3, 3)         0           Input_Layer[0][0]                \n",
      "__________________________________________________________________________________________________\n",
      "tf.__operators__.getitem_99 (Sl (None, 3, 3)         0           Input_Layer[0][0]                \n",
      "__________________________________________________________________________________________________\n",
      "tf.__operators__.getitem_100 (S (None, 3, 3)         0           Input_Layer[0][0]                \n",
      "__________________________________________________________________________________________________\n",
      "tf.__operators__.getitem_101 (S (None, 3, 3)         0           Input_Layer[0][0]                \n",
      "__________________________________________________________________________________________________\n",
      "tf.__operators__.getitem_102 (S (None, 3, 3)         0           Input_Layer[0][0]                \n",
      "__________________________________________________________________________________________________\n",
      "tf.__operators__.getitem_103 (S (None, 3, 3)         0           Input_Layer[0][0]                \n",
      "__________________________________________________________________________________________________\n",
      "tf.__operators__.getitem_104 (S (None, 3, 3)         0           Input_Layer[0][0]                \n",
      "__________________________________________________________________________________________________\n",
      "tf.__operators__.getitem_105 (S (None, 3, 3)         0           Input_Layer[0][0]                \n",
      "__________________________________________________________________________________________________\n",
      "tf.__operators__.getitem_106 (S (None, 3, 3)         0           Input_Layer[0][0]                \n",
      "__________________________________________________________________________________________________\n",
      "tf.__operators__.getitem_107 (S (None, 3, 3)         0           Input_Layer[0][0]                \n",
      "__________________________________________________________________________________________________\n",
      "tf.__operators__.getitem_108 (S (None, 3, 3)         0           Input_Layer[0][0]                \n",
      "__________________________________________________________________________________________________\n",
      "tf.__operators__.getitem_109 (S (None, 3, 3)         0           Input_Layer[0][0]                \n",
      "__________________________________________________________________________________________________\n",
      "tf.__operators__.getitem_110 (S (None, 3, 3)         0           Input_Layer[0][0]                \n",
      "__________________________________________________________________________________________________\n",
      "tf.__operators__.getitem_111 (S (None, 3, 3)         0           Input_Layer[0][0]                \n",
      "__________________________________________________________________________________________________\n",
      "tf.__operators__.getitem_112 (S (None, 3, 3)         0           Input_Layer[0][0]                \n",
      "__________________________________________________________________________________________________\n",
      "tf.__operators__.getitem_113 (S (None, 3, 3)         0           Input_Layer[0][0]                \n",
      "__________________________________________________________________________________________________\n",
      "tf.__operators__.getitem_114 (S (None, 3, 3)         0           Input_Layer[0][0]                \n",
      "__________________________________________________________________________________________________\n",
      "tf.__operators__.getitem_115 (S (None, 3, 3)         0           Input_Layer[0][0]                \n",
      "__________________________________________________________________________________________________\n",
      "tf.__operators__.getitem_116 (S (None, 3, 3)         0           Input_Layer[0][0]                \n",
      "__________________________________________________________________________________________________\n",
      "tf.__operators__.getitem_117 (S (None, 3, 3)         0           Input_Layer[0][0]                \n",
      "__________________________________________________________________________________________________\n",
      "tf.__operators__.getitem_118 (S (None, 3, 3)         0           Input_Layer[0][0]                \n",
      "__________________________________________________________________________________________________\n",
      "tf.__operators__.getitem_119 (S (None, 3, 3)         0           Input_Layer[0][0]                \n",
      "__________________________________________________________________________________________________\n",
      "tf.__operators__.getitem_120 (S (None, 3, 3)         0           Input_Layer[0][0]                \n",
      "__________________________________________________________________________________________________\n",
      "tf.__operators__.getitem_121 (S (None, 3, 3)         0           Input_Layer[0][0]                \n",
      "__________________________________________________________________________________________________\n",
      "tf.__operators__.getitem_122 (S (None, 3, 3)         0           Input_Layer[0][0]                \n",
      "__________________________________________________________________________________________________\n",
      "tf.__operators__.getitem_123 (S (None, 3, 3)         0           Input_Layer[0][0]                \n",
      "__________________________________________________________________________________________________\n",
      "tf.__operators__.getitem_124 (S (None, 3, 3)         0           Input_Layer[0][0]                \n",
      "__________________________________________________________________________________________________\n",
      "tf.__operators__.getitem_125 (S (None, 3, 3)         0           Input_Layer[0][0]                \n",
      "__________________________________________________________________________________________________\n",
      "tf.__operators__.getitem_126 (S (None, 3, 3)         0           Input_Layer[0][0]                \n",
      "__________________________________________________________________________________________________\n",
      "tf.__operators__.getitem_127 (S (None, 3, 3)         0           Input_Layer[0][0]                \n",
      "__________________________________________________________________________________________________\n",
      "tf.__operators__.getitem_128 (S (None, 3, 3)         0           Input_Layer[0][0]                \n",
      "__________________________________________________________________________________________________\n",
      "tf.__operators__.getitem_129 (S (None, 3, 3)         0           Input_Layer[0][0]                \n",
      "__________________________________________________________________________________________________\n",
      "tf.__operators__.getitem_130 (S (None, 3, 3)         0           Input_Layer[0][0]                \n",
      "__________________________________________________________________________________________________\n",
      "tf.__operators__.getitem_131 (S (None, 3, 3)         0           Input_Layer[0][0]                \n",
      "__________________________________________________________________________________________________\n",
      "tf.__operators__.getitem_132 (S (None, 3, 3)         0           Input_Layer[0][0]                \n",
      "__________________________________________________________________________________________________\n",
      "tf.__operators__.getitem_133 (S (None, 3, 3)         0           Input_Layer[0][0]                \n",
      "__________________________________________________________________________________________________\n",
      "tf.__operators__.getitem_134 (S (None, 3, 3)         0           Input_Layer[0][0]                \n",
      "__________________________________________________________________________________________________\n",
      "tf.__operators__.getitem_135 (S (None, 3, 3)         0           Input_Layer[0][0]                \n",
      "__________________________________________________________________________________________________\n",
      "tf.__operators__.getitem_136 (S (None, 3, 3)         0           Input_Layer[0][0]                \n",
      "__________________________________________________________________________________________________\n",
      "tf.__operators__.getitem_137 (S (None, 3, 3)         0           Input_Layer[0][0]                \n",
      "__________________________________________________________________________________________________\n",
      "tf.__operators__.getitem_138 (S (None, 3, 3)         0           Input_Layer[0][0]                \n",
      "__________________________________________________________________________________________________\n",
      "tf.__operators__.getitem_139 (S (None, 3, 3)         0           Input_Layer[0][0]                \n",
      "__________________________________________________________________________________________________\n",
      "tf.__operators__.getitem_140 (S (None, 3, 3)         0           Input_Layer[0][0]                \n",
      "__________________________________________________________________________________________________\n",
      "tf.__operators__.getitem_141 (S (None, 3, 3)         0           Input_Layer[0][0]                \n",
      "__________________________________________________________________________________________________\n",
      "tf.__operators__.getitem_142 (S (None, 3, 3)         0           Input_Layer[0][0]                \n",
      "__________________________________________________________________________________________________\n",
      "tf.__operators__.getitem_143 (S (None, 3, 3)         0           Input_Layer[0][0]                \n",
      "__________________________________________________________________________________________________\n",
      "tf.__operators__.getitem_144 (S (None, 3, 3)         0           Input_Layer[0][0]                \n",
      "__________________________________________________________________________________________________\n",
      "tf.__operators__.getitem_145 (S (None, 3, 3)         0           Input_Layer[0][0]                \n",
      "__________________________________________________________________________________________________\n",
      "tf.__operators__.getitem_146 (S (None, 3, 3)         0           Input_Layer[0][0]                \n",
      "__________________________________________________________________________________________________\n",
      "tf.__operators__.getitem_147 (S (None, 3, 3)         0           Input_Layer[0][0]                \n",
      "__________________________________________________________________________________________________\n",
      "tf.__operators__.getitem_148 (S (None, 3, 3)         0           Input_Layer[0][0]                \n",
      "__________________________________________________________________________________________________\n",
      "tf.__operators__.getitem_149 (S (None, 3, 3)         0           Input_Layer[0][0]                \n",
      "__________________________________________________________________________________________________\n",
      "tf.__operators__.getitem_150 (S (None, 3, 3)         0           Input_Layer[0][0]                \n",
      "__________________________________________________________________________________________________\n",
      "tf.__operators__.getitem_151 (S (None, 3, 3)         0           Input_Layer[0][0]                \n",
      "__________________________________________________________________________________________________\n",
      "tf.__operators__.getitem_152 (S (None, 3, 3)         0           Input_Layer[0][0]                \n",
      "__________________________________________________________________________________________________\n",
      "tf.__operators__.getitem_153 (S (None, 3, 3)         0           Input_Layer[0][0]                \n",
      "__________________________________________________________________________________________________\n",
      "tf.__operators__.getitem_154 (S (None, 3, 3)         0           Input_Layer[0][0]                \n",
      "__________________________________________________________________________________________________\n",
      "tf.__operators__.getitem_155 (S (None, 3, 3)         0           Input_Layer[0][0]                \n",
      "__________________________________________________________________________________________________\n",
      "tf.__operators__.getitem_156 (S (None, 3, 3)         0           Input_Layer[0][0]                \n",
      "__________________________________________________________________________________________________\n",
      "tf.__operators__.getitem_157 (S (None, 3, 3)         0           Input_Layer[0][0]                \n",
      "__________________________________________________________________________________________________\n",
      "tf.__operators__.getitem_158 (S (None, 3, 3)         0           Input_Layer[0][0]                \n",
      "__________________________________________________________________________________________________\n",
      "tf.__operators__.getitem_159 (S (None, 3, 3)         0           Input_Layer[0][0]                \n",
      "__________________________________________________________________________________________________\n",
      "tf.__operators__.getitem_160 (S (None, 3, 3)         0           Input_Layer[0][0]                \n",
      "__________________________________________________________________________________________________\n",
      "tf.__operators__.getitem_161 (S (None, 3, 3)         0           Input_Layer[0][0]                \n",
      "__________________________________________________________________________________________________\n",
      "tf.__operators__.getitem_162 (S (None, 3, 3)         0           Input_Layer[0][0]                \n",
      "__________________________________________________________________________________________________\n",
      "tf.__operators__.getitem_163 (S (None, 3, 3)         0           Input_Layer[0][0]                \n",
      "__________________________________________________________________________________________________\n",
      "tf.__operators__.getitem_164 (S (None, 3, 3)         0           Input_Layer[0][0]                \n",
      "__________________________________________________________________________________________________\n",
      "tf.__operators__.getitem_165 (S (None, 3, 3)         0           Input_Layer[0][0]                \n",
      "__________________________________________________________________________________________________\n",
      "tf.__operators__.getitem_166 (S (None, 3, 3)         0           Input_Layer[0][0]                \n",
      "__________________________________________________________________________________________________\n",
      "tf.__operators__.getitem_167 (S (None, 3, 3)         0           Input_Layer[0][0]                \n",
      "__________________________________________________________________________________________________\n",
      "tf.__operators__.getitem_168 (S (None, 3, 3)         0           Input_Layer[0][0]                \n",
      "__________________________________________________________________________________________________\n",
      "Quantum_Conv_Layer_1 (KerasLaye (None, 1)            36          tf.__operators__.getitem[0][0]   \n",
      "                                                                 tf.__operators__.getitem_1[0][0] \n",
      "                                                                 tf.__operators__.getitem_2[0][0] \n",
      "                                                                 tf.__operators__.getitem_3[0][0] \n",
      "                                                                 tf.__operators__.getitem_4[0][0] \n",
      "                                                                 tf.__operators__.getitem_5[0][0] \n",
      "                                                                 tf.__operators__.getitem_6[0][0] \n",
      "                                                                 tf.__operators__.getitem_7[0][0] \n",
      "                                                                 tf.__operators__.getitem_8[0][0] \n",
      "                                                                 tf.__operators__.getitem_9[0][0] \n",
      "                                                                 tf.__operators__.getitem_10[0][0]\n",
      "                                                                 tf.__operators__.getitem_11[0][0]\n",
      "                                                                 tf.__operators__.getitem_12[0][0]\n",
      "                                                                 tf.__operators__.getitem_13[0][0]\n",
      "                                                                 tf.__operators__.getitem_14[0][0]\n",
      "                                                                 tf.__operators__.getitem_15[0][0]\n",
      "                                                                 tf.__operators__.getitem_16[0][0]\n",
      "                                                                 tf.__operators__.getitem_17[0][0]\n",
      "                                                                 tf.__operators__.getitem_18[0][0]\n",
      "                                                                 tf.__operators__.getitem_19[0][0]\n",
      "                                                                 tf.__operators__.getitem_20[0][0]\n",
      "                                                                 tf.__operators__.getitem_21[0][0]\n",
      "                                                                 tf.__operators__.getitem_22[0][0]\n",
      "                                                                 tf.__operators__.getitem_23[0][0]\n",
      "                                                                 tf.__operators__.getitem_24[0][0]\n",
      "                                                                 tf.__operators__.getitem_25[0][0]\n",
      "                                                                 tf.__operators__.getitem_26[0][0]\n",
      "                                                                 tf.__operators__.getitem_27[0][0]\n",
      "                                                                 tf.__operators__.getitem_28[0][0]\n",
      "                                                                 tf.__operators__.getitem_29[0][0]\n",
      "                                                                 tf.__operators__.getitem_30[0][0]\n",
      "                                                                 tf.__operators__.getitem_31[0][0]\n",
      "                                                                 tf.__operators__.getitem_32[0][0]\n",
      "                                                                 tf.__operators__.getitem_33[0][0]\n",
      "                                                                 tf.__operators__.getitem_34[0][0]\n",
      "                                                                 tf.__operators__.getitem_35[0][0]\n",
      "                                                                 tf.__operators__.getitem_36[0][0]\n",
      "                                                                 tf.__operators__.getitem_37[0][0]\n",
      "                                                                 tf.__operators__.getitem_38[0][0]\n",
      "                                                                 tf.__operators__.getitem_39[0][0]\n",
      "                                                                 tf.__operators__.getitem_40[0][0]\n",
      "                                                                 tf.__operators__.getitem_41[0][0]\n",
      "                                                                 tf.__operators__.getitem_42[0][0]\n",
      "                                                                 tf.__operators__.getitem_43[0][0]\n",
      "                                                                 tf.__operators__.getitem_44[0][0]\n",
      "                                                                 tf.__operators__.getitem_45[0][0]\n",
      "                                                                 tf.__operators__.getitem_46[0][0]\n",
      "                                                                 tf.__operators__.getitem_47[0][0]\n",
      "                                                                 tf.__operators__.getitem_48[0][0]\n",
      "                                                                 tf.__operators__.getitem_49[0][0]\n",
      "                                                                 tf.__operators__.getitem_50[0][0]\n",
      "                                                                 tf.__operators__.getitem_51[0][0]\n",
      "                                                                 tf.__operators__.getitem_52[0][0]\n",
      "                                                                 tf.__operators__.getitem_53[0][0]\n",
      "                                                                 tf.__operators__.getitem_54[0][0]\n",
      "                                                                 tf.__operators__.getitem_55[0][0]\n",
      "                                                                 tf.__operators__.getitem_56[0][0]\n",
      "                                                                 tf.__operators__.getitem_57[0][0]\n",
      "                                                                 tf.__operators__.getitem_58[0][0]\n",
      "                                                                 tf.__operators__.getitem_59[0][0]\n",
      "                                                                 tf.__operators__.getitem_60[0][0]\n",
      "                                                                 tf.__operators__.getitem_61[0][0]\n",
      "                                                                 tf.__operators__.getitem_62[0][0]\n",
      "                                                                 tf.__operators__.getitem_63[0][0]\n",
      "                                                                 tf.__operators__.getitem_64[0][0]\n",
      "                                                                 tf.__operators__.getitem_65[0][0]\n",
      "                                                                 tf.__operators__.getitem_66[0][0]\n",
      "                                                                 tf.__operators__.getitem_67[0][0]\n",
      "                                                                 tf.__operators__.getitem_68[0][0]\n",
      "                                                                 tf.__operators__.getitem_69[0][0]\n",
      "                                                                 tf.__operators__.getitem_70[0][0]\n",
      "                                                                 tf.__operators__.getitem_71[0][0]\n",
      "                                                                 tf.__operators__.getitem_72[0][0]\n",
      "                                                                 tf.__operators__.getitem_73[0][0]\n",
      "                                                                 tf.__operators__.getitem_74[0][0]\n",
      "                                                                 tf.__operators__.getitem_75[0][0]\n",
      "                                                                 tf.__operators__.getitem_76[0][0]\n",
      "                                                                 tf.__operators__.getitem_77[0][0]\n",
      "                                                                 tf.__operators__.getitem_78[0][0]\n",
      "                                                                 tf.__operators__.getitem_79[0][0]\n",
      "                                                                 tf.__operators__.getitem_80[0][0]\n",
      "                                                                 tf.__operators__.getitem_81[0][0]\n",
      "                                                                 tf.__operators__.getitem_82[0][0]\n",
      "                                                                 tf.__operators__.getitem_83[0][0]\n",
      "                                                                 tf.__operators__.getitem_84[0][0]\n",
      "                                                                 tf.__operators__.getitem_85[0][0]\n",
      "                                                                 tf.__operators__.getitem_86[0][0]\n",
      "                                                                 tf.__operators__.getitem_87[0][0]\n",
      "                                                                 tf.__operators__.getitem_88[0][0]\n",
      "                                                                 tf.__operators__.getitem_89[0][0]\n",
      "                                                                 tf.__operators__.getitem_90[0][0]\n",
      "                                                                 tf.__operators__.getitem_91[0][0]\n",
      "                                                                 tf.__operators__.getitem_92[0][0]\n",
      "                                                                 tf.__operators__.getitem_93[0][0]\n",
      "                                                                 tf.__operators__.getitem_94[0][0]\n",
      "                                                                 tf.__operators__.getitem_95[0][0]\n",
      "                                                                 tf.__operators__.getitem_96[0][0]\n",
      "                                                                 tf.__operators__.getitem_97[0][0]\n",
      "                                                                 tf.__operators__.getitem_98[0][0]\n",
      "                                                                 tf.__operators__.getitem_99[0][0]\n",
      "                                                                 tf.__operators__.getitem_100[0][0\n",
      "                                                                 tf.__operators__.getitem_101[0][0\n",
      "                                                                 tf.__operators__.getitem_102[0][0\n",
      "                                                                 tf.__operators__.getitem_103[0][0\n",
      "                                                                 tf.__operators__.getitem_104[0][0\n",
      "                                                                 tf.__operators__.getitem_105[0][0\n",
      "                                                                 tf.__operators__.getitem_106[0][0\n",
      "                                                                 tf.__operators__.getitem_107[0][0\n",
      "                                                                 tf.__operators__.getitem_108[0][0\n",
      "                                                                 tf.__operators__.getitem_109[0][0\n",
      "                                                                 tf.__operators__.getitem_110[0][0\n",
      "                                                                 tf.__operators__.getitem_111[0][0\n",
      "                                                                 tf.__operators__.getitem_112[0][0\n",
      "                                                                 tf.__operators__.getitem_113[0][0\n",
      "                                                                 tf.__operators__.getitem_114[0][0\n",
      "                                                                 tf.__operators__.getitem_115[0][0\n",
      "                                                                 tf.__operators__.getitem_116[0][0\n",
      "                                                                 tf.__operators__.getitem_117[0][0\n",
      "                                                                 tf.__operators__.getitem_118[0][0\n",
      "                                                                 tf.__operators__.getitem_119[0][0\n",
      "                                                                 tf.__operators__.getitem_120[0][0\n",
      "                                                                 tf.__operators__.getitem_121[0][0\n",
      "                                                                 tf.__operators__.getitem_122[0][0\n",
      "                                                                 tf.__operators__.getitem_123[0][0\n",
      "                                                                 tf.__operators__.getitem_124[0][0\n",
      "                                                                 tf.__operators__.getitem_125[0][0\n",
      "                                                                 tf.__operators__.getitem_126[0][0\n",
      "                                                                 tf.__operators__.getitem_127[0][0\n",
      "                                                                 tf.__operators__.getitem_128[0][0\n",
      "                                                                 tf.__operators__.getitem_129[0][0\n",
      "                                                                 tf.__operators__.getitem_130[0][0\n",
      "                                                                 tf.__operators__.getitem_131[0][0\n",
      "                                                                 tf.__operators__.getitem_132[0][0\n",
      "                                                                 tf.__operators__.getitem_133[0][0\n",
      "                                                                 tf.__operators__.getitem_134[0][0\n",
      "                                                                 tf.__operators__.getitem_135[0][0\n",
      "                                                                 tf.__operators__.getitem_136[0][0\n",
      "                                                                 tf.__operators__.getitem_137[0][0\n",
      "                                                                 tf.__operators__.getitem_138[0][0\n",
      "                                                                 tf.__operators__.getitem_139[0][0\n",
      "                                                                 tf.__operators__.getitem_140[0][0\n",
      "                                                                 tf.__operators__.getitem_141[0][0\n",
      "                                                                 tf.__operators__.getitem_142[0][0\n",
      "                                                                 tf.__operators__.getitem_143[0][0\n",
      "                                                                 tf.__operators__.getitem_144[0][0\n",
      "                                                                 tf.__operators__.getitem_145[0][0\n",
      "                                                                 tf.__operators__.getitem_146[0][0\n",
      "                                                                 tf.__operators__.getitem_147[0][0\n",
      "                                                                 tf.__operators__.getitem_148[0][0\n",
      "                                                                 tf.__operators__.getitem_149[0][0\n",
      "                                                                 tf.__operators__.getitem_150[0][0\n",
      "                                                                 tf.__operators__.getitem_151[0][0\n",
      "                                                                 tf.__operators__.getitem_152[0][0\n",
      "                                                                 tf.__operators__.getitem_153[0][0\n",
      "                                                                 tf.__operators__.getitem_154[0][0\n",
      "                                                                 tf.__operators__.getitem_155[0][0\n",
      "                                                                 tf.__operators__.getitem_156[0][0\n",
      "                                                                 tf.__operators__.getitem_157[0][0\n",
      "                                                                 tf.__operators__.getitem_158[0][0\n",
      "                                                                 tf.__operators__.getitem_159[0][0\n",
      "                                                                 tf.__operators__.getitem_160[0][0\n",
      "                                                                 tf.__operators__.getitem_161[0][0\n",
      "                                                                 tf.__operators__.getitem_162[0][0\n",
      "                                                                 tf.__operators__.getitem_163[0][0\n",
      "                                                                 tf.__operators__.getitem_164[0][0\n",
      "                                                                 tf.__operators__.getitem_165[0][0\n",
      "                                                                 tf.__operators__.getitem_166[0][0\n",
      "                                                                 tf.__operators__.getitem_167[0][0\n",
      "                                                                 tf.__operators__.getitem_168[0][0\n",
      "__________________________________________________________________________________________________\n",
      "reshape (Reshape)               (None, 1)            0           Quantum_Conv_Layer_1[0][0]       \n",
      "__________________________________________________________________________________________________\n",
      "reshape_1 (Reshape)             (None, 1)            0           Quantum_Conv_Layer_1[1][0]       \n",
      "__________________________________________________________________________________________________\n",
      "reshape_2 (Reshape)             (None, 1)            0           Quantum_Conv_Layer_1[2][0]       \n",
      "__________________________________________________________________________________________________\n",
      "reshape_3 (Reshape)             (None, 1)            0           Quantum_Conv_Layer_1[3][0]       \n",
      "__________________________________________________________________________________________________\n",
      "reshape_4 (Reshape)             (None, 1)            0           Quantum_Conv_Layer_1[4][0]       \n",
      "__________________________________________________________________________________________________\n",
      "reshape_5 (Reshape)             (None, 1)            0           Quantum_Conv_Layer_1[5][0]       \n",
      "__________________________________________________________________________________________________\n",
      "reshape_6 (Reshape)             (None, 1)            0           Quantum_Conv_Layer_1[6][0]       \n",
      "__________________________________________________________________________________________________\n",
      "reshape_7 (Reshape)             (None, 1)            0           Quantum_Conv_Layer_1[7][0]       \n",
      "__________________________________________________________________________________________________\n",
      "reshape_8 (Reshape)             (None, 1)            0           Quantum_Conv_Layer_1[8][0]       \n",
      "__________________________________________________________________________________________________\n",
      "reshape_9 (Reshape)             (None, 1)            0           Quantum_Conv_Layer_1[9][0]       \n",
      "__________________________________________________________________________________________________\n",
      "reshape_10 (Reshape)            (None, 1)            0           Quantum_Conv_Layer_1[10][0]      \n",
      "__________________________________________________________________________________________________\n",
      "reshape_11 (Reshape)            (None, 1)            0           Quantum_Conv_Layer_1[11][0]      \n",
      "__________________________________________________________________________________________________\n",
      "reshape_12 (Reshape)            (None, 1)            0           Quantum_Conv_Layer_1[12][0]      \n",
      "__________________________________________________________________________________________________\n",
      "reshape_13 (Reshape)            (None, 1)            0           Quantum_Conv_Layer_1[13][0]      \n",
      "__________________________________________________________________________________________________\n",
      "reshape_14 (Reshape)            (None, 1)            0           Quantum_Conv_Layer_1[14][0]      \n",
      "__________________________________________________________________________________________________\n",
      "reshape_15 (Reshape)            (None, 1)            0           Quantum_Conv_Layer_1[15][0]      \n",
      "__________________________________________________________________________________________________\n",
      "reshape_16 (Reshape)            (None, 1)            0           Quantum_Conv_Layer_1[16][0]      \n",
      "__________________________________________________________________________________________________\n",
      "reshape_17 (Reshape)            (None, 1)            0           Quantum_Conv_Layer_1[17][0]      \n",
      "__________________________________________________________________________________________________\n",
      "reshape_18 (Reshape)            (None, 1)            0           Quantum_Conv_Layer_1[18][0]      \n",
      "__________________________________________________________________________________________________\n",
      "reshape_19 (Reshape)            (None, 1)            0           Quantum_Conv_Layer_1[19][0]      \n",
      "__________________________________________________________________________________________________\n",
      "reshape_20 (Reshape)            (None, 1)            0           Quantum_Conv_Layer_1[20][0]      \n",
      "__________________________________________________________________________________________________\n",
      "reshape_21 (Reshape)            (None, 1)            0           Quantum_Conv_Layer_1[21][0]      \n",
      "__________________________________________________________________________________________________\n",
      "reshape_22 (Reshape)            (None, 1)            0           Quantum_Conv_Layer_1[22][0]      \n",
      "__________________________________________________________________________________________________\n",
      "reshape_23 (Reshape)            (None, 1)            0           Quantum_Conv_Layer_1[23][0]      \n",
      "__________________________________________________________________________________________________\n",
      "reshape_24 (Reshape)            (None, 1)            0           Quantum_Conv_Layer_1[24][0]      \n",
      "__________________________________________________________________________________________________\n",
      "reshape_25 (Reshape)            (None, 1)            0           Quantum_Conv_Layer_1[25][0]      \n",
      "__________________________________________________________________________________________________\n",
      "reshape_26 (Reshape)            (None, 1)            0           Quantum_Conv_Layer_1[26][0]      \n",
      "__________________________________________________________________________________________________\n",
      "reshape_27 (Reshape)            (None, 1)            0           Quantum_Conv_Layer_1[27][0]      \n",
      "__________________________________________________________________________________________________\n",
      "reshape_28 (Reshape)            (None, 1)            0           Quantum_Conv_Layer_1[28][0]      \n",
      "__________________________________________________________________________________________________\n",
      "reshape_29 (Reshape)            (None, 1)            0           Quantum_Conv_Layer_1[29][0]      \n",
      "__________________________________________________________________________________________________\n",
      "reshape_30 (Reshape)            (None, 1)            0           Quantum_Conv_Layer_1[30][0]      \n",
      "__________________________________________________________________________________________________\n",
      "reshape_31 (Reshape)            (None, 1)            0           Quantum_Conv_Layer_1[31][0]      \n",
      "__________________________________________________________________________________________________\n",
      "reshape_32 (Reshape)            (None, 1)            0           Quantum_Conv_Layer_1[32][0]      \n",
      "__________________________________________________________________________________________________\n",
      "reshape_33 (Reshape)            (None, 1)            0           Quantum_Conv_Layer_1[33][0]      \n",
      "__________________________________________________________________________________________________\n",
      "reshape_34 (Reshape)            (None, 1)            0           Quantum_Conv_Layer_1[34][0]      \n",
      "__________________________________________________________________________________________________\n",
      "reshape_35 (Reshape)            (None, 1)            0           Quantum_Conv_Layer_1[35][0]      \n",
      "__________________________________________________________________________________________________\n",
      "reshape_36 (Reshape)            (None, 1)            0           Quantum_Conv_Layer_1[36][0]      \n",
      "__________________________________________________________________________________________________\n",
      "reshape_37 (Reshape)            (None, 1)            0           Quantum_Conv_Layer_1[37][0]      \n",
      "__________________________________________________________________________________________________\n",
      "reshape_38 (Reshape)            (None, 1)            0           Quantum_Conv_Layer_1[38][0]      \n",
      "__________________________________________________________________________________________________\n",
      "reshape_39 (Reshape)            (None, 1)            0           Quantum_Conv_Layer_1[39][0]      \n",
      "__________________________________________________________________________________________________\n",
      "reshape_40 (Reshape)            (None, 1)            0           Quantum_Conv_Layer_1[40][0]      \n",
      "__________________________________________________________________________________________________\n",
      "reshape_41 (Reshape)            (None, 1)            0           Quantum_Conv_Layer_1[41][0]      \n",
      "__________________________________________________________________________________________________\n",
      "reshape_42 (Reshape)            (None, 1)            0           Quantum_Conv_Layer_1[42][0]      \n",
      "__________________________________________________________________________________________________\n",
      "reshape_43 (Reshape)            (None, 1)            0           Quantum_Conv_Layer_1[43][0]      \n",
      "__________________________________________________________________________________________________\n",
      "reshape_44 (Reshape)            (None, 1)            0           Quantum_Conv_Layer_1[44][0]      \n",
      "__________________________________________________________________________________________________\n",
      "reshape_45 (Reshape)            (None, 1)            0           Quantum_Conv_Layer_1[45][0]      \n",
      "__________________________________________________________________________________________________\n",
      "reshape_46 (Reshape)            (None, 1)            0           Quantum_Conv_Layer_1[46][0]      \n",
      "__________________________________________________________________________________________________\n",
      "reshape_47 (Reshape)            (None, 1)            0           Quantum_Conv_Layer_1[47][0]      \n",
      "__________________________________________________________________________________________________\n",
      "reshape_48 (Reshape)            (None, 1)            0           Quantum_Conv_Layer_1[48][0]      \n",
      "__________________________________________________________________________________________________\n",
      "reshape_49 (Reshape)            (None, 1)            0           Quantum_Conv_Layer_1[49][0]      \n",
      "__________________________________________________________________________________________________\n",
      "reshape_50 (Reshape)            (None, 1)            0           Quantum_Conv_Layer_1[50][0]      \n",
      "__________________________________________________________________________________________________\n",
      "reshape_51 (Reshape)            (None, 1)            0           Quantum_Conv_Layer_1[51][0]      \n",
      "__________________________________________________________________________________________________\n",
      "reshape_52 (Reshape)            (None, 1)            0           Quantum_Conv_Layer_1[52][0]      \n",
      "__________________________________________________________________________________________________\n",
      "reshape_53 (Reshape)            (None, 1)            0           Quantum_Conv_Layer_1[53][0]      \n",
      "__________________________________________________________________________________________________\n",
      "reshape_54 (Reshape)            (None, 1)            0           Quantum_Conv_Layer_1[54][0]      \n",
      "__________________________________________________________________________________________________\n",
      "reshape_55 (Reshape)            (None, 1)            0           Quantum_Conv_Layer_1[55][0]      \n",
      "__________________________________________________________________________________________________\n",
      "reshape_56 (Reshape)            (None, 1)            0           Quantum_Conv_Layer_1[56][0]      \n",
      "__________________________________________________________________________________________________\n",
      "reshape_57 (Reshape)            (None, 1)            0           Quantum_Conv_Layer_1[57][0]      \n",
      "__________________________________________________________________________________________________\n",
      "reshape_58 (Reshape)            (None, 1)            0           Quantum_Conv_Layer_1[58][0]      \n",
      "__________________________________________________________________________________________________\n",
      "reshape_59 (Reshape)            (None, 1)            0           Quantum_Conv_Layer_1[59][0]      \n",
      "__________________________________________________________________________________________________\n",
      "reshape_60 (Reshape)            (None, 1)            0           Quantum_Conv_Layer_1[60][0]      \n",
      "__________________________________________________________________________________________________\n",
      "reshape_61 (Reshape)            (None, 1)            0           Quantum_Conv_Layer_1[61][0]      \n",
      "__________________________________________________________________________________________________\n",
      "reshape_62 (Reshape)            (None, 1)            0           Quantum_Conv_Layer_1[62][0]      \n",
      "__________________________________________________________________________________________________\n",
      "reshape_63 (Reshape)            (None, 1)            0           Quantum_Conv_Layer_1[63][0]      \n",
      "__________________________________________________________________________________________________\n",
      "reshape_64 (Reshape)            (None, 1)            0           Quantum_Conv_Layer_1[64][0]      \n",
      "__________________________________________________________________________________________________\n",
      "reshape_65 (Reshape)            (None, 1)            0           Quantum_Conv_Layer_1[65][0]      \n",
      "__________________________________________________________________________________________________\n",
      "reshape_66 (Reshape)            (None, 1)            0           Quantum_Conv_Layer_1[66][0]      \n",
      "__________________________________________________________________________________________________\n",
      "reshape_67 (Reshape)            (None, 1)            0           Quantum_Conv_Layer_1[67][0]      \n",
      "__________________________________________________________________________________________________\n",
      "reshape_68 (Reshape)            (None, 1)            0           Quantum_Conv_Layer_1[68][0]      \n",
      "__________________________________________________________________________________________________\n",
      "reshape_69 (Reshape)            (None, 1)            0           Quantum_Conv_Layer_1[69][0]      \n",
      "__________________________________________________________________________________________________\n",
      "reshape_70 (Reshape)            (None, 1)            0           Quantum_Conv_Layer_1[70][0]      \n",
      "__________________________________________________________________________________________________\n",
      "reshape_71 (Reshape)            (None, 1)            0           Quantum_Conv_Layer_1[71][0]      \n",
      "__________________________________________________________________________________________________\n",
      "reshape_72 (Reshape)            (None, 1)            0           Quantum_Conv_Layer_1[72][0]      \n",
      "__________________________________________________________________________________________________\n",
      "reshape_73 (Reshape)            (None, 1)            0           Quantum_Conv_Layer_1[73][0]      \n",
      "__________________________________________________________________________________________________\n",
      "reshape_74 (Reshape)            (None, 1)            0           Quantum_Conv_Layer_1[74][0]      \n",
      "__________________________________________________________________________________________________\n",
      "reshape_75 (Reshape)            (None, 1)            0           Quantum_Conv_Layer_1[75][0]      \n",
      "__________________________________________________________________________________________________\n",
      "reshape_76 (Reshape)            (None, 1)            0           Quantum_Conv_Layer_1[76][0]      \n",
      "__________________________________________________________________________________________________\n",
      "reshape_77 (Reshape)            (None, 1)            0           Quantum_Conv_Layer_1[77][0]      \n",
      "__________________________________________________________________________________________________\n",
      "reshape_78 (Reshape)            (None, 1)            0           Quantum_Conv_Layer_1[78][0]      \n",
      "__________________________________________________________________________________________________\n",
      "reshape_79 (Reshape)            (None, 1)            0           Quantum_Conv_Layer_1[79][0]      \n",
      "__________________________________________________________________________________________________\n",
      "reshape_80 (Reshape)            (None, 1)            0           Quantum_Conv_Layer_1[80][0]      \n",
      "__________________________________________________________________________________________________\n",
      "reshape_81 (Reshape)            (None, 1)            0           Quantum_Conv_Layer_1[81][0]      \n",
      "__________________________________________________________________________________________________\n",
      "reshape_82 (Reshape)            (None, 1)            0           Quantum_Conv_Layer_1[82][0]      \n",
      "__________________________________________________________________________________________________\n",
      "reshape_83 (Reshape)            (None, 1)            0           Quantum_Conv_Layer_1[83][0]      \n",
      "__________________________________________________________________________________________________\n",
      "reshape_84 (Reshape)            (None, 1)            0           Quantum_Conv_Layer_1[84][0]      \n",
      "__________________________________________________________________________________________________\n",
      "reshape_85 (Reshape)            (None, 1)            0           Quantum_Conv_Layer_1[85][0]      \n",
      "__________________________________________________________________________________________________\n",
      "reshape_86 (Reshape)            (None, 1)            0           Quantum_Conv_Layer_1[86][0]      \n",
      "__________________________________________________________________________________________________\n",
      "reshape_87 (Reshape)            (None, 1)            0           Quantum_Conv_Layer_1[87][0]      \n",
      "__________________________________________________________________________________________________\n",
      "reshape_88 (Reshape)            (None, 1)            0           Quantum_Conv_Layer_1[88][0]      \n",
      "__________________________________________________________________________________________________\n",
      "reshape_89 (Reshape)            (None, 1)            0           Quantum_Conv_Layer_1[89][0]      \n",
      "__________________________________________________________________________________________________\n",
      "reshape_90 (Reshape)            (None, 1)            0           Quantum_Conv_Layer_1[90][0]      \n",
      "__________________________________________________________________________________________________\n",
      "reshape_91 (Reshape)            (None, 1)            0           Quantum_Conv_Layer_1[91][0]      \n",
      "__________________________________________________________________________________________________\n",
      "reshape_92 (Reshape)            (None, 1)            0           Quantum_Conv_Layer_1[92][0]      \n",
      "__________________________________________________________________________________________________\n",
      "reshape_93 (Reshape)            (None, 1)            0           Quantum_Conv_Layer_1[93][0]      \n",
      "__________________________________________________________________________________________________\n",
      "reshape_94 (Reshape)            (None, 1)            0           Quantum_Conv_Layer_1[94][0]      \n",
      "__________________________________________________________________________________________________\n",
      "reshape_95 (Reshape)            (None, 1)            0           Quantum_Conv_Layer_1[95][0]      \n",
      "__________________________________________________________________________________________________\n",
      "reshape_96 (Reshape)            (None, 1)            0           Quantum_Conv_Layer_1[96][0]      \n",
      "__________________________________________________________________________________________________\n",
      "reshape_97 (Reshape)            (None, 1)            0           Quantum_Conv_Layer_1[97][0]      \n",
      "__________________________________________________________________________________________________\n",
      "reshape_98 (Reshape)            (None, 1)            0           Quantum_Conv_Layer_1[98][0]      \n",
      "__________________________________________________________________________________________________\n",
      "reshape_99 (Reshape)            (None, 1)            0           Quantum_Conv_Layer_1[99][0]      \n",
      "__________________________________________________________________________________________________\n",
      "reshape_100 (Reshape)           (None, 1)            0           Quantum_Conv_Layer_1[100][0]     \n",
      "__________________________________________________________________________________________________\n",
      "reshape_101 (Reshape)           (None, 1)            0           Quantum_Conv_Layer_1[101][0]     \n",
      "__________________________________________________________________________________________________\n",
      "reshape_102 (Reshape)           (None, 1)            0           Quantum_Conv_Layer_1[102][0]     \n",
      "__________________________________________________________________________________________________\n",
      "reshape_103 (Reshape)           (None, 1)            0           Quantum_Conv_Layer_1[103][0]     \n",
      "__________________________________________________________________________________________________\n",
      "reshape_104 (Reshape)           (None, 1)            0           Quantum_Conv_Layer_1[104][0]     \n",
      "__________________________________________________________________________________________________\n",
      "reshape_105 (Reshape)           (None, 1)            0           Quantum_Conv_Layer_1[105][0]     \n",
      "__________________________________________________________________________________________________\n",
      "reshape_106 (Reshape)           (None, 1)            0           Quantum_Conv_Layer_1[106][0]     \n",
      "__________________________________________________________________________________________________\n",
      "reshape_107 (Reshape)           (None, 1)            0           Quantum_Conv_Layer_1[107][0]     \n",
      "__________________________________________________________________________________________________\n",
      "reshape_108 (Reshape)           (None, 1)            0           Quantum_Conv_Layer_1[108][0]     \n",
      "__________________________________________________________________________________________________\n",
      "reshape_109 (Reshape)           (None, 1)            0           Quantum_Conv_Layer_1[109][0]     \n",
      "__________________________________________________________________________________________________\n",
      "reshape_110 (Reshape)           (None, 1)            0           Quantum_Conv_Layer_1[110][0]     \n",
      "__________________________________________________________________________________________________\n",
      "reshape_111 (Reshape)           (None, 1)            0           Quantum_Conv_Layer_1[111][0]     \n",
      "__________________________________________________________________________________________________\n",
      "reshape_112 (Reshape)           (None, 1)            0           Quantum_Conv_Layer_1[112][0]     \n",
      "__________________________________________________________________________________________________\n",
      "reshape_113 (Reshape)           (None, 1)            0           Quantum_Conv_Layer_1[113][0]     \n",
      "__________________________________________________________________________________________________\n",
      "reshape_114 (Reshape)           (None, 1)            0           Quantum_Conv_Layer_1[114][0]     \n",
      "__________________________________________________________________________________________________\n",
      "reshape_115 (Reshape)           (None, 1)            0           Quantum_Conv_Layer_1[115][0]     \n",
      "__________________________________________________________________________________________________\n",
      "reshape_116 (Reshape)           (None, 1)            0           Quantum_Conv_Layer_1[116][0]     \n",
      "__________________________________________________________________________________________________\n",
      "reshape_117 (Reshape)           (None, 1)            0           Quantum_Conv_Layer_1[117][0]     \n",
      "__________________________________________________________________________________________________\n",
      "reshape_118 (Reshape)           (None, 1)            0           Quantum_Conv_Layer_1[118][0]     \n",
      "__________________________________________________________________________________________________\n",
      "reshape_119 (Reshape)           (None, 1)            0           Quantum_Conv_Layer_1[119][0]     \n",
      "__________________________________________________________________________________________________\n",
      "reshape_120 (Reshape)           (None, 1)            0           Quantum_Conv_Layer_1[120][0]     \n",
      "__________________________________________________________________________________________________\n",
      "reshape_121 (Reshape)           (None, 1)            0           Quantum_Conv_Layer_1[121][0]     \n",
      "__________________________________________________________________________________________________\n",
      "reshape_122 (Reshape)           (None, 1)            0           Quantum_Conv_Layer_1[122][0]     \n",
      "__________________________________________________________________________________________________\n",
      "reshape_123 (Reshape)           (None, 1)            0           Quantum_Conv_Layer_1[123][0]     \n",
      "__________________________________________________________________________________________________\n",
      "reshape_124 (Reshape)           (None, 1)            0           Quantum_Conv_Layer_1[124][0]     \n",
      "__________________________________________________________________________________________________\n",
      "reshape_125 (Reshape)           (None, 1)            0           Quantum_Conv_Layer_1[125][0]     \n",
      "__________________________________________________________________________________________________\n",
      "reshape_126 (Reshape)           (None, 1)            0           Quantum_Conv_Layer_1[126][0]     \n",
      "__________________________________________________________________________________________________\n",
      "reshape_127 (Reshape)           (None, 1)            0           Quantum_Conv_Layer_1[127][0]     \n",
      "__________________________________________________________________________________________________\n",
      "reshape_128 (Reshape)           (None, 1)            0           Quantum_Conv_Layer_1[128][0]     \n",
      "__________________________________________________________________________________________________\n",
      "reshape_129 (Reshape)           (None, 1)            0           Quantum_Conv_Layer_1[129][0]     \n",
      "__________________________________________________________________________________________________\n",
      "reshape_130 (Reshape)           (None, 1)            0           Quantum_Conv_Layer_1[130][0]     \n",
      "__________________________________________________________________________________________________\n",
      "reshape_131 (Reshape)           (None, 1)            0           Quantum_Conv_Layer_1[131][0]     \n",
      "__________________________________________________________________________________________________\n",
      "reshape_132 (Reshape)           (None, 1)            0           Quantum_Conv_Layer_1[132][0]     \n",
      "__________________________________________________________________________________________________\n",
      "reshape_133 (Reshape)           (None, 1)            0           Quantum_Conv_Layer_1[133][0]     \n",
      "__________________________________________________________________________________________________\n",
      "reshape_134 (Reshape)           (None, 1)            0           Quantum_Conv_Layer_1[134][0]     \n",
      "__________________________________________________________________________________________________\n",
      "reshape_135 (Reshape)           (None, 1)            0           Quantum_Conv_Layer_1[135][0]     \n",
      "__________________________________________________________________________________________________\n",
      "reshape_136 (Reshape)           (None, 1)            0           Quantum_Conv_Layer_1[136][0]     \n",
      "__________________________________________________________________________________________________\n",
      "reshape_137 (Reshape)           (None, 1)            0           Quantum_Conv_Layer_1[137][0]     \n",
      "__________________________________________________________________________________________________\n",
      "reshape_138 (Reshape)           (None, 1)            0           Quantum_Conv_Layer_1[138][0]     \n",
      "__________________________________________________________________________________________________\n",
      "reshape_139 (Reshape)           (None, 1)            0           Quantum_Conv_Layer_1[139][0]     \n",
      "__________________________________________________________________________________________________\n",
      "reshape_140 (Reshape)           (None, 1)            0           Quantum_Conv_Layer_1[140][0]     \n",
      "__________________________________________________________________________________________________\n",
      "reshape_141 (Reshape)           (None, 1)            0           Quantum_Conv_Layer_1[141][0]     \n",
      "__________________________________________________________________________________________________\n",
      "reshape_142 (Reshape)           (None, 1)            0           Quantum_Conv_Layer_1[142][0]     \n",
      "__________________________________________________________________________________________________\n",
      "reshape_143 (Reshape)           (None, 1)            0           Quantum_Conv_Layer_1[143][0]     \n",
      "__________________________________________________________________________________________________\n",
      "reshape_144 (Reshape)           (None, 1)            0           Quantum_Conv_Layer_1[144][0]     \n",
      "__________________________________________________________________________________________________\n",
      "reshape_145 (Reshape)           (None, 1)            0           Quantum_Conv_Layer_1[145][0]     \n",
      "__________________________________________________________________________________________________\n",
      "reshape_146 (Reshape)           (None, 1)            0           Quantum_Conv_Layer_1[146][0]     \n",
      "__________________________________________________________________________________________________\n",
      "reshape_147 (Reshape)           (None, 1)            0           Quantum_Conv_Layer_1[147][0]     \n",
      "__________________________________________________________________________________________________\n",
      "reshape_148 (Reshape)           (None, 1)            0           Quantum_Conv_Layer_1[148][0]     \n",
      "__________________________________________________________________________________________________\n",
      "reshape_149 (Reshape)           (None, 1)            0           Quantum_Conv_Layer_1[149][0]     \n",
      "__________________________________________________________________________________________________\n",
      "reshape_150 (Reshape)           (None, 1)            0           Quantum_Conv_Layer_1[150][0]     \n",
      "__________________________________________________________________________________________________\n",
      "reshape_151 (Reshape)           (None, 1)            0           Quantum_Conv_Layer_1[151][0]     \n",
      "__________________________________________________________________________________________________\n",
      "reshape_152 (Reshape)           (None, 1)            0           Quantum_Conv_Layer_1[152][0]     \n",
      "__________________________________________________________________________________________________\n",
      "reshape_153 (Reshape)           (None, 1)            0           Quantum_Conv_Layer_1[153][0]     \n",
      "__________________________________________________________________________________________________\n",
      "reshape_154 (Reshape)           (None, 1)            0           Quantum_Conv_Layer_1[154][0]     \n",
      "__________________________________________________________________________________________________\n",
      "reshape_155 (Reshape)           (None, 1)            0           Quantum_Conv_Layer_1[155][0]     \n",
      "__________________________________________________________________________________________________\n",
      "reshape_156 (Reshape)           (None, 1)            0           Quantum_Conv_Layer_1[156][0]     \n",
      "__________________________________________________________________________________________________\n",
      "reshape_157 (Reshape)           (None, 1)            0           Quantum_Conv_Layer_1[157][0]     \n",
      "__________________________________________________________________________________________________\n",
      "reshape_158 (Reshape)           (None, 1)            0           Quantum_Conv_Layer_1[158][0]     \n",
      "__________________________________________________________________________________________________\n",
      "reshape_159 (Reshape)           (None, 1)            0           Quantum_Conv_Layer_1[159][0]     \n",
      "__________________________________________________________________________________________________\n",
      "reshape_160 (Reshape)           (None, 1)            0           Quantum_Conv_Layer_1[160][0]     \n",
      "__________________________________________________________________________________________________\n",
      "reshape_161 (Reshape)           (None, 1)            0           Quantum_Conv_Layer_1[161][0]     \n",
      "__________________________________________________________________________________________________\n",
      "reshape_162 (Reshape)           (None, 1)            0           Quantum_Conv_Layer_1[162][0]     \n",
      "__________________________________________________________________________________________________\n",
      "reshape_163 (Reshape)           (None, 1)            0           Quantum_Conv_Layer_1[163][0]     \n",
      "__________________________________________________________________________________________________\n",
      "reshape_164 (Reshape)           (None, 1)            0           Quantum_Conv_Layer_1[164][0]     \n",
      "__________________________________________________________________________________________________\n",
      "reshape_165 (Reshape)           (None, 1)            0           Quantum_Conv_Layer_1[165][0]     \n",
      "__________________________________________________________________________________________________\n",
      "reshape_166 (Reshape)           (None, 1)            0           Quantum_Conv_Layer_1[166][0]     \n",
      "__________________________________________________________________________________________________\n",
      "reshape_167 (Reshape)           (None, 1)            0           Quantum_Conv_Layer_1[167][0]     \n",
      "__________________________________________________________________________________________________\n",
      "reshape_168 (Reshape)           (None, 1)            0           Quantum_Conv_Layer_1[168][0]     \n",
      "__________________________________________________________________________________________________\n",
      "concatenate (Concatenate)       (None, 169)          0           reshape[0][0]                    \n",
      "                                                                 reshape_1[0][0]                  \n",
      "                                                                 reshape_2[0][0]                  \n",
      "                                                                 reshape_3[0][0]                  \n",
      "                                                                 reshape_4[0][0]                  \n",
      "                                                                 reshape_5[0][0]                  \n",
      "                                                                 reshape_6[0][0]                  \n",
      "                                                                 reshape_7[0][0]                  \n",
      "                                                                 reshape_8[0][0]                  \n",
      "                                                                 reshape_9[0][0]                  \n",
      "                                                                 reshape_10[0][0]                 \n",
      "                                                                 reshape_11[0][0]                 \n",
      "                                                                 reshape_12[0][0]                 \n",
      "                                                                 reshape_13[0][0]                 \n",
      "                                                                 reshape_14[0][0]                 \n",
      "                                                                 reshape_15[0][0]                 \n",
      "                                                                 reshape_16[0][0]                 \n",
      "                                                                 reshape_17[0][0]                 \n",
      "                                                                 reshape_18[0][0]                 \n",
      "                                                                 reshape_19[0][0]                 \n",
      "                                                                 reshape_20[0][0]                 \n",
      "                                                                 reshape_21[0][0]                 \n",
      "                                                                 reshape_22[0][0]                 \n",
      "                                                                 reshape_23[0][0]                 \n",
      "                                                                 reshape_24[0][0]                 \n",
      "                                                                 reshape_25[0][0]                 \n",
      "                                                                 reshape_26[0][0]                 \n",
      "                                                                 reshape_27[0][0]                 \n",
      "                                                                 reshape_28[0][0]                 \n",
      "                                                                 reshape_29[0][0]                 \n",
      "                                                                 reshape_30[0][0]                 \n",
      "                                                                 reshape_31[0][0]                 \n",
      "                                                                 reshape_32[0][0]                 \n",
      "                                                                 reshape_33[0][0]                 \n",
      "                                                                 reshape_34[0][0]                 \n",
      "                                                                 reshape_35[0][0]                 \n",
      "                                                                 reshape_36[0][0]                 \n",
      "                                                                 reshape_37[0][0]                 \n",
      "                                                                 reshape_38[0][0]                 \n",
      "                                                                 reshape_39[0][0]                 \n",
      "                                                                 reshape_40[0][0]                 \n",
      "                                                                 reshape_41[0][0]                 \n",
      "                                                                 reshape_42[0][0]                 \n",
      "                                                                 reshape_43[0][0]                 \n",
      "                                                                 reshape_44[0][0]                 \n",
      "                                                                 reshape_45[0][0]                 \n",
      "                                                                 reshape_46[0][0]                 \n",
      "                                                                 reshape_47[0][0]                 \n",
      "                                                                 reshape_48[0][0]                 \n",
      "                                                                 reshape_49[0][0]                 \n",
      "                                                                 reshape_50[0][0]                 \n",
      "                                                                 reshape_51[0][0]                 \n",
      "                                                                 reshape_52[0][0]                 \n",
      "                                                                 reshape_53[0][0]                 \n",
      "                                                                 reshape_54[0][0]                 \n",
      "                                                                 reshape_55[0][0]                 \n",
      "                                                                 reshape_56[0][0]                 \n",
      "                                                                 reshape_57[0][0]                 \n",
      "                                                                 reshape_58[0][0]                 \n",
      "                                                                 reshape_59[0][0]                 \n",
      "                                                                 reshape_60[0][0]                 \n",
      "                                                                 reshape_61[0][0]                 \n",
      "                                                                 reshape_62[0][0]                 \n",
      "                                                                 reshape_63[0][0]                 \n",
      "                                                                 reshape_64[0][0]                 \n",
      "                                                                 reshape_65[0][0]                 \n",
      "                                                                 reshape_66[0][0]                 \n",
      "                                                                 reshape_67[0][0]                 \n",
      "                                                                 reshape_68[0][0]                 \n",
      "                                                                 reshape_69[0][0]                 \n",
      "                                                                 reshape_70[0][0]                 \n",
      "                                                                 reshape_71[0][0]                 \n",
      "                                                                 reshape_72[0][0]                 \n",
      "                                                                 reshape_73[0][0]                 \n",
      "                                                                 reshape_74[0][0]                 \n",
      "                                                                 reshape_75[0][0]                 \n",
      "                                                                 reshape_76[0][0]                 \n",
      "                                                                 reshape_77[0][0]                 \n",
      "                                                                 reshape_78[0][0]                 \n",
      "                                                                 reshape_79[0][0]                 \n",
      "                                                                 reshape_80[0][0]                 \n",
      "                                                                 reshape_81[0][0]                 \n",
      "                                                                 reshape_82[0][0]                 \n",
      "                                                                 reshape_83[0][0]                 \n",
      "                                                                 reshape_84[0][0]                 \n",
      "                                                                 reshape_85[0][0]                 \n",
      "                                                                 reshape_86[0][0]                 \n",
      "                                                                 reshape_87[0][0]                 \n",
      "                                                                 reshape_88[0][0]                 \n",
      "                                                                 reshape_89[0][0]                 \n",
      "                                                                 reshape_90[0][0]                 \n",
      "                                                                 reshape_91[0][0]                 \n",
      "                                                                 reshape_92[0][0]                 \n",
      "                                                                 reshape_93[0][0]                 \n",
      "                                                                 reshape_94[0][0]                 \n",
      "                                                                 reshape_95[0][0]                 \n",
      "                                                                 reshape_96[0][0]                 \n",
      "                                                                 reshape_97[0][0]                 \n",
      "                                                                 reshape_98[0][0]                 \n",
      "                                                                 reshape_99[0][0]                 \n",
      "                                                                 reshape_100[0][0]                \n",
      "                                                                 reshape_101[0][0]                \n",
      "                                                                 reshape_102[0][0]                \n",
      "                                                                 reshape_103[0][0]                \n",
      "                                                                 reshape_104[0][0]                \n",
      "                                                                 reshape_105[0][0]                \n",
      "                                                                 reshape_106[0][0]                \n",
      "                                                                 reshape_107[0][0]                \n",
      "                                                                 reshape_108[0][0]                \n",
      "                                                                 reshape_109[0][0]                \n",
      "                                                                 reshape_110[0][0]                \n",
      "                                                                 reshape_111[0][0]                \n",
      "                                                                 reshape_112[0][0]                \n",
      "                                                                 reshape_113[0][0]                \n",
      "                                                                 reshape_114[0][0]                \n",
      "                                                                 reshape_115[0][0]                \n",
      "                                                                 reshape_116[0][0]                \n",
      "                                                                 reshape_117[0][0]                \n",
      "                                                                 reshape_118[0][0]                \n",
      "                                                                 reshape_119[0][0]                \n",
      "                                                                 reshape_120[0][0]                \n",
      "                                                                 reshape_121[0][0]                \n",
      "                                                                 reshape_122[0][0]                \n",
      "                                                                 reshape_123[0][0]                \n",
      "                                                                 reshape_124[0][0]                \n",
      "                                                                 reshape_125[0][0]                \n",
      "                                                                 reshape_126[0][0]                \n",
      "                                                                 reshape_127[0][0]                \n",
      "                                                                 reshape_128[0][0]                \n",
      "                                                                 reshape_129[0][0]                \n",
      "                                                                 reshape_130[0][0]                \n",
      "                                                                 reshape_131[0][0]                \n",
      "                                                                 reshape_132[0][0]                \n",
      "                                                                 reshape_133[0][0]                \n",
      "                                                                 reshape_134[0][0]                \n",
      "                                                                 reshape_135[0][0]                \n",
      "                                                                 reshape_136[0][0]                \n",
      "                                                                 reshape_137[0][0]                \n",
      "                                                                 reshape_138[0][0]                \n",
      "                                                                 reshape_139[0][0]                \n",
      "                                                                 reshape_140[0][0]                \n",
      "                                                                 reshape_141[0][0]                \n",
      "                                                                 reshape_142[0][0]                \n",
      "                                                                 reshape_143[0][0]                \n",
      "                                                                 reshape_144[0][0]                \n",
      "                                                                 reshape_145[0][0]                \n",
      "                                                                 reshape_146[0][0]                \n",
      "                                                                 reshape_147[0][0]                \n",
      "                                                                 reshape_148[0][0]                \n",
      "                                                                 reshape_149[0][0]                \n",
      "                                                                 reshape_150[0][0]                \n",
      "                                                                 reshape_151[0][0]                \n",
      "                                                                 reshape_152[0][0]                \n",
      "                                                                 reshape_153[0][0]                \n",
      "                                                                 reshape_154[0][0]                \n",
      "                                                                 reshape_155[0][0]                \n",
      "                                                                 reshape_156[0][0]                \n",
      "                                                                 reshape_157[0][0]                \n",
      "                                                                 reshape_158[0][0]                \n",
      "                                                                 reshape_159[0][0]                \n",
      "                                                                 reshape_160[0][0]                \n",
      "                                                                 reshape_161[0][0]                \n",
      "                                                                 reshape_162[0][0]                \n",
      "                                                                 reshape_163[0][0]                \n",
      "                                                                 reshape_164[0][0]                \n",
      "                                                                 reshape_165[0][0]                \n",
      "                                                                 reshape_166[0][0]                \n",
      "                                                                 reshape_167[0][0]                \n",
      "                                                                 reshape_168[0][0]                \n",
      "__________________________________________________________________________________________________\n",
      "reshape_169 (Reshape)           (None, 13, 13)       0           concatenate[0][0]                \n",
      "__________________________________________________________________________________________________\n",
      "tf.__operators__.getitem_169 (S (None, 3, 3)         0           reshape_169[0][0]                \n",
      "__________________________________________________________________________________________________\n",
      "tf.__operators__.getitem_170 (S (None, 3, 3)         0           reshape_169[0][0]                \n",
      "__________________________________________________________________________________________________\n",
      "tf.__operators__.getitem_171 (S (None, 3, 3)         0           reshape_169[0][0]                \n",
      "__________________________________________________________________________________________________\n",
      "tf.__operators__.getitem_172 (S (None, 3, 3)         0           reshape_169[0][0]                \n",
      "__________________________________________________________________________________________________\n",
      "tf.__operators__.getitem_173 (S (None, 3, 3)         0           reshape_169[0][0]                \n",
      "__________________________________________________________________________________________________\n",
      "tf.__operators__.getitem_174 (S (None, 3, 3)         0           reshape_169[0][0]                \n",
      "__________________________________________________________________________________________________\n",
      "tf.__operators__.getitem_175 (S (None, 3, 3)         0           reshape_169[0][0]                \n",
      "__________________________________________________________________________________________________\n",
      "tf.__operators__.getitem_176 (S (None, 3, 3)         0           reshape_169[0][0]                \n",
      "__________________________________________________________________________________________________\n",
      "tf.__operators__.getitem_177 (S (None, 3, 3)         0           reshape_169[0][0]                \n",
      "__________________________________________________________________________________________________\n",
      "tf.__operators__.getitem_178 (S (None, 3, 3)         0           reshape_169[0][0]                \n",
      "__________________________________________________________________________________________________\n",
      "tf.__operators__.getitem_179 (S (None, 3, 3)         0           reshape_169[0][0]                \n",
      "__________________________________________________________________________________________________\n",
      "tf.__operators__.getitem_180 (S (None, 3, 3)         0           reshape_169[0][0]                \n",
      "__________________________________________________________________________________________________\n",
      "tf.__operators__.getitem_181 (S (None, 3, 3)         0           reshape_169[0][0]                \n",
      "__________________________________________________________________________________________________\n",
      "tf.__operators__.getitem_182 (S (None, 3, 3)         0           reshape_169[0][0]                \n",
      "__________________________________________________________________________________________________\n",
      "tf.__operators__.getitem_183 (S (None, 3, 3)         0           reshape_169[0][0]                \n",
      "__________________________________________________________________________________________________\n",
      "tf.__operators__.getitem_184 (S (None, 3, 3)         0           reshape_169[0][0]                \n",
      "__________________________________________________________________________________________________\n",
      "tf.__operators__.getitem_185 (S (None, 3, 3)         0           reshape_169[0][0]                \n",
      "__________________________________________________________________________________________________\n",
      "tf.__operators__.getitem_186 (S (None, 3, 3)         0           reshape_169[0][0]                \n",
      "__________________________________________________________________________________________________\n",
      "tf.__operators__.getitem_187 (S (None, 3, 3)         0           reshape_169[0][0]                \n",
      "__________________________________________________________________________________________________\n",
      "tf.__operators__.getitem_188 (S (None, 3, 3)         0           reshape_169[0][0]                \n",
      "__________________________________________________________________________________________________\n",
      "tf.__operators__.getitem_189 (S (None, 3, 3)         0           reshape_169[0][0]                \n",
      "__________________________________________________________________________________________________\n",
      "tf.__operators__.getitem_190 (S (None, 3, 3)         0           reshape_169[0][0]                \n",
      "__________________________________________________________________________________________________\n",
      "tf.__operators__.getitem_191 (S (None, 3, 3)         0           reshape_169[0][0]                \n",
      "__________________________________________________________________________________________________\n",
      "tf.__operators__.getitem_192 (S (None, 3, 3)         0           reshape_169[0][0]                \n",
      "__________________________________________________________________________________________________\n",
      "tf.__operators__.getitem_193 (S (None, 3, 3)         0           reshape_169[0][0]                \n",
      "__________________________________________________________________________________________________\n",
      "tf.__operators__.getitem_194 (S (None, 3, 3)         0           reshape_169[0][0]                \n",
      "__________________________________________________________________________________________________\n",
      "tf.__operators__.getitem_195 (S (None, 3, 3)         0           reshape_169[0][0]                \n",
      "__________________________________________________________________________________________________\n",
      "tf.__operators__.getitem_196 (S (None, 3, 3)         0           reshape_169[0][0]                \n",
      "__________________________________________________________________________________________________\n",
      "tf.__operators__.getitem_197 (S (None, 3, 3)         0           reshape_169[0][0]                \n",
      "__________________________________________________________________________________________________\n",
      "tf.__operators__.getitem_198 (S (None, 3, 3)         0           reshape_169[0][0]                \n",
      "__________________________________________________________________________________________________\n",
      "tf.__operators__.getitem_199 (S (None, 3, 3)         0           reshape_169[0][0]                \n",
      "__________________________________________________________________________________________________\n",
      "tf.__operators__.getitem_200 (S (None, 3, 3)         0           reshape_169[0][0]                \n",
      "__________________________________________________________________________________________________\n",
      "tf.__operators__.getitem_201 (S (None, 3, 3)         0           reshape_169[0][0]                \n",
      "__________________________________________________________________________________________________\n",
      "tf.__operators__.getitem_202 (S (None, 3, 3)         0           reshape_169[0][0]                \n",
      "__________________________________________________________________________________________________\n",
      "tf.__operators__.getitem_203 (S (None, 3, 3)         0           reshape_169[0][0]                \n",
      "__________________________________________________________________________________________________\n",
      "tf.__operators__.getitem_204 (S (None, 3, 3)         0           reshape_169[0][0]                \n",
      "__________________________________________________________________________________________________\n",
      "Quantum_Conv_Layer_2 (KerasLaye (None, 1)            36          tf.__operators__.getitem_169[0][0\n",
      "                                                                 tf.__operators__.getitem_170[0][0\n",
      "                                                                 tf.__operators__.getitem_171[0][0\n",
      "                                                                 tf.__operators__.getitem_172[0][0\n",
      "                                                                 tf.__operators__.getitem_173[0][0\n",
      "                                                                 tf.__operators__.getitem_174[0][0\n",
      "                                                                 tf.__operators__.getitem_175[0][0\n",
      "                                                                 tf.__operators__.getitem_176[0][0\n",
      "                                                                 tf.__operators__.getitem_177[0][0\n",
      "                                                                 tf.__operators__.getitem_178[0][0\n",
      "                                                                 tf.__operators__.getitem_179[0][0\n",
      "                                                                 tf.__operators__.getitem_180[0][0\n",
      "                                                                 tf.__operators__.getitem_181[0][0\n",
      "                                                                 tf.__operators__.getitem_182[0][0\n",
      "                                                                 tf.__operators__.getitem_183[0][0\n",
      "                                                                 tf.__operators__.getitem_184[0][0\n",
      "                                                                 tf.__operators__.getitem_185[0][0\n",
      "                                                                 tf.__operators__.getitem_186[0][0\n",
      "                                                                 tf.__operators__.getitem_187[0][0\n",
      "                                                                 tf.__operators__.getitem_188[0][0\n",
      "                                                                 tf.__operators__.getitem_189[0][0\n",
      "                                                                 tf.__operators__.getitem_190[0][0\n",
      "                                                                 tf.__operators__.getitem_191[0][0\n",
      "                                                                 tf.__operators__.getitem_192[0][0\n",
      "                                                                 tf.__operators__.getitem_193[0][0\n",
      "                                                                 tf.__operators__.getitem_194[0][0\n",
      "                                                                 tf.__operators__.getitem_195[0][0\n",
      "                                                                 tf.__operators__.getitem_196[0][0\n",
      "                                                                 tf.__operators__.getitem_197[0][0\n",
      "                                                                 tf.__operators__.getitem_198[0][0\n",
      "                                                                 tf.__operators__.getitem_199[0][0\n",
      "                                                                 tf.__operators__.getitem_200[0][0\n",
      "                                                                 tf.__operators__.getitem_201[0][0\n",
      "                                                                 tf.__operators__.getitem_202[0][0\n",
      "                                                                 tf.__operators__.getitem_203[0][0\n",
      "                                                                 tf.__operators__.getitem_204[0][0\n",
      "__________________________________________________________________________________________________\n",
      "reshape_170 (Reshape)           (None, 1)            0           Quantum_Conv_Layer_2[0][0]       \n",
      "__________________________________________________________________________________________________\n",
      "reshape_171 (Reshape)           (None, 1)            0           Quantum_Conv_Layer_2[1][0]       \n",
      "__________________________________________________________________________________________________\n",
      "reshape_172 (Reshape)           (None, 1)            0           Quantum_Conv_Layer_2[2][0]       \n",
      "__________________________________________________________________________________________________\n",
      "reshape_173 (Reshape)           (None, 1)            0           Quantum_Conv_Layer_2[3][0]       \n",
      "__________________________________________________________________________________________________\n",
      "reshape_174 (Reshape)           (None, 1)            0           Quantum_Conv_Layer_2[4][0]       \n",
      "__________________________________________________________________________________________________\n",
      "reshape_175 (Reshape)           (None, 1)            0           Quantum_Conv_Layer_2[5][0]       \n",
      "__________________________________________________________________________________________________\n",
      "reshape_176 (Reshape)           (None, 1)            0           Quantum_Conv_Layer_2[6][0]       \n",
      "__________________________________________________________________________________________________\n",
      "reshape_177 (Reshape)           (None, 1)            0           Quantum_Conv_Layer_2[7][0]       \n",
      "__________________________________________________________________________________________________\n",
      "reshape_178 (Reshape)           (None, 1)            0           Quantum_Conv_Layer_2[8][0]       \n",
      "__________________________________________________________________________________________________\n",
      "reshape_179 (Reshape)           (None, 1)            0           Quantum_Conv_Layer_2[9][0]       \n",
      "__________________________________________________________________________________________________\n",
      "reshape_180 (Reshape)           (None, 1)            0           Quantum_Conv_Layer_2[10][0]      \n",
      "__________________________________________________________________________________________________\n",
      "reshape_181 (Reshape)           (None, 1)            0           Quantum_Conv_Layer_2[11][0]      \n",
      "__________________________________________________________________________________________________\n",
      "reshape_182 (Reshape)           (None, 1)            0           Quantum_Conv_Layer_2[12][0]      \n",
      "__________________________________________________________________________________________________\n",
      "reshape_183 (Reshape)           (None, 1)            0           Quantum_Conv_Layer_2[13][0]      \n",
      "__________________________________________________________________________________________________\n",
      "reshape_184 (Reshape)           (None, 1)            0           Quantum_Conv_Layer_2[14][0]      \n",
      "__________________________________________________________________________________________________\n",
      "reshape_185 (Reshape)           (None, 1)            0           Quantum_Conv_Layer_2[15][0]      \n",
      "__________________________________________________________________________________________________\n",
      "reshape_186 (Reshape)           (None, 1)            0           Quantum_Conv_Layer_2[16][0]      \n",
      "__________________________________________________________________________________________________\n",
      "reshape_187 (Reshape)           (None, 1)            0           Quantum_Conv_Layer_2[17][0]      \n",
      "__________________________________________________________________________________________________\n",
      "reshape_188 (Reshape)           (None, 1)            0           Quantum_Conv_Layer_2[18][0]      \n",
      "__________________________________________________________________________________________________\n",
      "reshape_189 (Reshape)           (None, 1)            0           Quantum_Conv_Layer_2[19][0]      \n",
      "__________________________________________________________________________________________________\n",
      "reshape_190 (Reshape)           (None, 1)            0           Quantum_Conv_Layer_2[20][0]      \n",
      "__________________________________________________________________________________________________\n",
      "reshape_191 (Reshape)           (None, 1)            0           Quantum_Conv_Layer_2[21][0]      \n",
      "__________________________________________________________________________________________________\n",
      "reshape_192 (Reshape)           (None, 1)            0           Quantum_Conv_Layer_2[22][0]      \n",
      "__________________________________________________________________________________________________\n",
      "reshape_193 (Reshape)           (None, 1)            0           Quantum_Conv_Layer_2[23][0]      \n",
      "__________________________________________________________________________________________________\n",
      "reshape_194 (Reshape)           (None, 1)            0           Quantum_Conv_Layer_2[24][0]      \n",
      "__________________________________________________________________________________________________\n",
      "reshape_195 (Reshape)           (None, 1)            0           Quantum_Conv_Layer_2[25][0]      \n",
      "__________________________________________________________________________________________________\n",
      "reshape_196 (Reshape)           (None, 1)            0           Quantum_Conv_Layer_2[26][0]      \n",
      "__________________________________________________________________________________________________\n",
      "reshape_197 (Reshape)           (None, 1)            0           Quantum_Conv_Layer_2[27][0]      \n",
      "__________________________________________________________________________________________________\n",
      "reshape_198 (Reshape)           (None, 1)            0           Quantum_Conv_Layer_2[28][0]      \n",
      "__________________________________________________________________________________________________\n",
      "reshape_199 (Reshape)           (None, 1)            0           Quantum_Conv_Layer_2[29][0]      \n",
      "__________________________________________________________________________________________________\n",
      "reshape_200 (Reshape)           (None, 1)            0           Quantum_Conv_Layer_2[30][0]      \n",
      "__________________________________________________________________________________________________\n",
      "reshape_201 (Reshape)           (None, 1)            0           Quantum_Conv_Layer_2[31][0]      \n",
      "__________________________________________________________________________________________________\n",
      "reshape_202 (Reshape)           (None, 1)            0           Quantum_Conv_Layer_2[32][0]      \n",
      "__________________________________________________________________________________________________\n",
      "reshape_203 (Reshape)           (None, 1)            0           Quantum_Conv_Layer_2[33][0]      \n",
      "__________________________________________________________________________________________________\n",
      "reshape_204 (Reshape)           (None, 1)            0           Quantum_Conv_Layer_2[34][0]      \n",
      "__________________________________________________________________________________________________\n",
      "reshape_205 (Reshape)           (None, 1)            0           Quantum_Conv_Layer_2[35][0]      \n",
      "__________________________________________________________________________________________________\n",
      "concatenate_1 (Concatenate)     (None, 36)           0           reshape_170[0][0]                \n",
      "                                                                 reshape_171[0][0]                \n",
      "                                                                 reshape_172[0][0]                \n",
      "                                                                 reshape_173[0][0]                \n",
      "                                                                 reshape_174[0][0]                \n",
      "                                                                 reshape_175[0][0]                \n",
      "                                                                 reshape_176[0][0]                \n",
      "                                                                 reshape_177[0][0]                \n",
      "                                                                 reshape_178[0][0]                \n",
      "                                                                 reshape_179[0][0]                \n",
      "                                                                 reshape_180[0][0]                \n",
      "                                                                 reshape_181[0][0]                \n",
      "                                                                 reshape_182[0][0]                \n",
      "                                                                 reshape_183[0][0]                \n",
      "                                                                 reshape_184[0][0]                \n",
      "                                                                 reshape_185[0][0]                \n",
      "                                                                 reshape_186[0][0]                \n",
      "                                                                 reshape_187[0][0]                \n",
      "                                                                 reshape_188[0][0]                \n",
      "                                                                 reshape_189[0][0]                \n",
      "                                                                 reshape_190[0][0]                \n",
      "                                                                 reshape_191[0][0]                \n",
      "                                                                 reshape_192[0][0]                \n",
      "                                                                 reshape_193[0][0]                \n",
      "                                                                 reshape_194[0][0]                \n",
      "                                                                 reshape_195[0][0]                \n",
      "                                                                 reshape_196[0][0]                \n",
      "                                                                 reshape_197[0][0]                \n",
      "                                                                 reshape_198[0][0]                \n",
      "                                                                 reshape_199[0][0]                \n",
      "                                                                 reshape_200[0][0]                \n",
      "                                                                 reshape_201[0][0]                \n",
      "                                                                 reshape_202[0][0]                \n",
      "                                                                 reshape_203[0][0]                \n",
      "                                                                 reshape_204[0][0]                \n",
      "                                                                 reshape_205[0][0]                \n",
      "__________________________________________________________________________________________________\n",
      "reshape_206 (Reshape)           (None, 6, 6, 1)      0           concatenate_1[0][0]              \n",
      "__________________________________________________________________________________________________\n",
      "Max_Pool_Layer (MaxPooling2D)   (None, 3, 3, 1)      0           reshape_206[0][0]                \n",
      "__________________________________________________________________________________________________\n",
      "reshape_207 (Reshape)           (None, 9)            0           Max_Pool_Layer[0][0]             \n",
      "__________________________________________________________________________________________________\n",
      "keras_layer (KerasLayer)        (None, 4)            36          reshape_207[0][0]                \n",
      "__________________________________________________________________________________________________\n",
      "class_weights (class_weights)   (None, 4)            4           keras_layer[0][0]                \n",
      "==================================================================================================\n",
      "Total params: 112\n",
      "Trainable params: 112\n",
      "Non-trainable params: 0\n",
      "__________________________________________________________________________________________________\n"
     ]
    }
   ],
   "source": [
    "model.summary()"
   ]
  },
  {
   "cell_type": "code",
   "execution_count": 32,
   "metadata": {},
   "outputs": [
    {
     "data": {
      "text/plain": [
       "{'loss': [0.15218332409858704,\n",
       "  0.0771825984120369,\n",
       "  0.06443765759468079,\n",
       "  0.055341072380542755,\n",
       "  0.04958663508296013,\n",
       "  0.049124058336019516,\n",
       "  0.043934889137744904,\n",
       "  0.046720340847969055,\n",
       "  0.04242421314120293,\n",
       "  0.03936174511909485],\n",
       " 'accuracy': [0.28999999165534973,\n",
       "  0.46875,\n",
       "  0.5950000286102295,\n",
       "  0.6462500095367432,\n",
       "  0.7087500095367432,\n",
       "  0.7237499952316284,\n",
       "  0.7637500166893005,\n",
       "  0.7325000166893005,\n",
       "  0.7737500071525574,\n",
       "  0.7950000166893005],\n",
       " 'val_loss': [0.08642026036977768,\n",
       "  0.07997884601354599,\n",
       "  0.056794241070747375,\n",
       "  0.05375337228178978,\n",
       "  0.0515001118183136,\n",
       "  0.05256782844662666,\n",
       "  0.06304561346769333,\n",
       "  0.05081057548522949,\n",
       "  0.048174671828746796,\n",
       "  0.041906096041202545],\n",
       " 'val_accuracy': [0.49000000953674316,\n",
       "  0.4950000047683716,\n",
       "  0.6050000190734863,\n",
       "  0.6700000166893005,\n",
       "  0.6850000023841858,\n",
       "  0.7149999737739563,\n",
       "  0.6549999713897705,\n",
       "  0.7049999833106995,\n",
       "  0.675000011920929,\n",
       "  0.7699999809265137]}"
      ]
     },
     "execution_count": 32,
     "metadata": {},
     "output_type": "execute_result"
    }
   ],
   "source": [
    "# best first 10 epochs\n",
    "H.history"
   ]
  },
  {
   "cell_type": "code",
   "execution_count": 36,
   "metadata": {},
   "outputs": [
    {
     "data": {
      "text/plain": [
       "{'loss': [0.03849232941865921, 0.03880036994814873, 0.03897182643413544],\n",
       " 'accuracy': [0.8125, 0.7975000143051147, 0.8125],\n",
       " 'val_loss': [0.0439734011888504, 0.045246705412864685, 0.042141810059547424],\n",
       " 'val_accuracy': [0.7149999737739563, 0.7049999833106995, 0.7450000047683716]}"
      ]
     },
     "execution_count": 36,
     "metadata": {},
     "output_type": "execute_result"
    }
   ],
   "source": [
    "# epoch 11-13\n",
    "H.history"
   ]
  },
  {
   "cell_type": "code",
   "execution_count": 33,
   "metadata": {},
   "outputs": [
    {
     "data": {
      "text/plain": [
       "[<tf.Variable 'model/Quantum_Conv_Layer_1/conv_params:0' shape=(2, 2, 9) dtype=float32, numpy=\n",
       " array([[[ 2.4900079 ,  1.4090514 , -1.5159504 , -0.4848129 ,\n",
       "          -0.07513718,  0.41361067,  0.32082155, -0.02647311,\n",
       "           1.4427327 ],\n",
       "         [ 1.4590902 , -0.20396537, -1.3288578 ,  0.51830167,\n",
       "          -0.36024192,  0.43985152, -0.46546036, -0.09139597,\n",
       "          -1.601005  ]],\n",
       " \n",
       "        [[ 0.07628264,  0.8245568 , -0.7381987 ,  0.6701282 ,\n",
       "           0.02025853, -0.16835278, -0.4134181 , -0.14421725,\n",
       "           0.49609786],\n",
       "         [-0.07567957,  0.0277558 , -0.3067742 , -0.46371996,\n",
       "          -0.05226158, -0.3737983 ,  0.4056428 , -0.26080084,\n",
       "          -0.5278124 ]]], dtype=float32)>,\n",
       " <tf.Variable 'model/Quantum_Conv_Layer_2/conv_params:0' shape=(2, 2, 9) dtype=float32, numpy=\n",
       " array([[[-0.05883733,  0.34953204,  1.0755701 ,  1.6524311 ,\n",
       "           0.54020005, -0.16705374, -2.5600445 ,  1.1857815 ,\n",
       "           0.44120708],\n",
       "         [ 0.05490269,  0.35323524,  1.09177   , -0.4841309 ,\n",
       "          -0.8816    , -0.4052239 , -1.9650213 , -0.25532886,\n",
       "          -0.3831675 ]],\n",
       " \n",
       "        [[-0.05373876,  0.77179974,  0.70988154, -0.3699589 ,\n",
       "           0.6043408 , -0.42444378, -0.88803643, -0.19063474,\n",
       "          -1.517226  ],\n",
       "         [ 0.06488298, -0.20065814,  0.3484879 , -0.01827842,\n",
       "          -0.60227245,  0.2689767 , -1.0589604 , -0.09035283,\n",
       "           1.6185688 ]]], dtype=float32)>,\n",
       " <tf.Variable 'model/keras_layer/params:0' shape=(2, 2, 9) dtype=float32, numpy=\n",
       " array([[[-0.374984  ,  0.2859886 ,  0.6757297 ,  2.514767  ,\n",
       "          -0.05708712,  0.20622064, -0.56137365, -0.29103556,\n",
       "           1.8567868 ],\n",
       "         [-0.19927545, -0.52639806, -0.2016307 ,  2.1172292 ,\n",
       "          -0.5470413 ,  0.5529365 ,  0.543287  ,  0.03548557,\n",
       "           1.3572156 ]],\n",
       " \n",
       "        [[ 0.27854747,  0.27457643, -0.3570254 , -0.90043324,\n",
       "          -0.19733746,  0.09074354, -0.14109437,  0.43952397,\n",
       "          -0.31848302],\n",
       "         [-0.01988925,  0.6074255 ,  0.2332362 ,  0.7946073 ,\n",
       "           0.4044618 ,  0.16013853,  0.1777127 ,  1.4930186 ,\n",
       "           0.925361  ]]], dtype=float32)>,\n",
       " <tf.Variable 'Variable:0' shape=(1, 4) dtype=float32, numpy=array([[1.109213 , 1.153915 , 0.5885281, 1.7437023]], dtype=float32)>]"
      ]
     },
     "execution_count": 33,
     "metadata": {},
     "output_type": "execute_result"
    }
   ],
   "source": [
    "# best first 10 epochs weights\n",
    "model.weights"
   ]
  },
  {
   "cell_type": "code",
   "execution_count": null,
   "metadata": {},
   "outputs": [],
   "source": []
  },
  {
   "cell_type": "code",
   "execution_count": null,
   "metadata": {},
   "outputs": [],
   "source": []
  },
  {
   "cell_type": "code",
   "execution_count": null,
   "metadata": {},
   "outputs": [],
   "source": []
  },
  {
   "cell_type": "code",
   "execution_count": null,
   "metadata": {},
   "outputs": [],
   "source": []
  },
  {
   "cell_type": "markdown",
   "metadata": {},
   "source": [
    "# Exploring the results"
   ]
  },
  {
   "cell_type": "code",
   "execution_count": 26,
   "metadata": {},
   "outputs": [
    {
     "data": {
      "text/plain": [
       "((40, 729), (40,))"
      ]
     },
     "execution_count": 26,
     "metadata": {},
     "output_type": "execute_result"
    }
   ],
   "source": [
    "X_train = np.concatenate((x_train_list[0][:20, :], x_train_list[1][:20, :]), axis=0)\n",
    "Y_train = np.zeros((X_train.shape[0],), dtype=int)\n",
    "Y_train[20:] += 1\n",
    "\n",
    "X_train.shape, Y_train.shape"
   ]
  },
  {
   "cell_type": "code",
   "execution_count": 27,
   "metadata": {},
   "outputs": [
    {
     "data": {
      "text/plain": [
       "((40, 729), (40,))"
      ]
     },
     "execution_count": 27,
     "metadata": {},
     "output_type": "execute_result"
    }
   ],
   "source": [
    "X_test = np.concatenate((x_test_list[0][:20, :], x_test_list[1][:20, :]), axis=0)\n",
    "Y_test = np.zeros((X_test.shape[0],), dtype=int)\n",
    "Y_test[20:] += 1\n",
    "\n",
    "X_test.shape, Y_test.shape"
   ]
  },
  {
   "cell_type": "code",
   "execution_count": 28,
   "metadata": {},
   "outputs": [
    {
     "data": {
      "text/plain": [
       "((40, 27, 27), (40, 27, 27))"
      ]
     },
     "execution_count": 28,
     "metadata": {},
     "output_type": "execute_result"
    }
   ],
   "source": [
    "X_train = X_train.reshape(X_train.shape[0], 27, 27)\n",
    "X_test = X_test.reshape(X_test.shape[0], 27, 27)\n",
    "\n",
    "X_train.shape, X_test.shape"
   ]
  },
  {
   "cell_type": "markdown",
   "metadata": {},
   "source": [
    "## First Layer"
   ]
  },
  {
   "cell_type": "code",
   "execution_count": 29,
   "metadata": {},
   "outputs": [
    {
     "data": {
      "text/plain": [
       "(2, 1, 9)"
      ]
     },
     "execution_count": 29,
     "metadata": {},
     "output_type": "execute_result"
    }
   ],
   "source": [
    "qconv_1_weights = np.array([[[ 1.6704171 , -0.37210035, -1.4763509 , -0.09573141,\n",
    "          -1.4124248 , -0.5384489 , -1.5873678 , -0.4178921 ,\n",
    "           0.86764395]],\n",
    " \n",
    "        [[ 0.07841697,  0.06181896, -0.11658821,  0.08088297,\n",
    "          -0.22606611, -0.47507533,  0.20372277,  0.43287253,\n",
    "          -0.4662246 ]]])\n",
    "\n",
    "qconv_1_weights.shape"
   ]
  },
  {
   "cell_type": "code",
   "execution_count": 30,
   "metadata": {},
   "outputs": [],
   "source": [
    "# Input image, size = 27 x 27\n",
    "X = tf.keras.Input(shape=(27,27), name='Input_Layer')\n",
    "\n",
    "\n",
    "# Specs for Conv\n",
    "c_filter = 3\n",
    "c_strides = 2\n",
    "\n",
    "\n",
    "# First Quantum Conv Layer, trainable params = 18*L, output size = 13 x 13\n",
    "num_conv_layer_1 = 1\n",
    "q_conv_layer_1 = qml.qnn.KerasLayer(q_conv, {\"conv_params\": (2, num_conv_layer_1, 9)}, output_dim=(1), name='Quantum_Conv_Layer_1')\n",
    "size_1 = int(1+(X.shape[1]-c_filter)/c_strides)\n",
    "q_conv_layer_1_list = []\n",
    "# height iteration\n",
    "for i in range(size_1):\n",
    "    # width iteration\n",
    "    for j in range(size_1):\n",
    "        temp = q_conv_layer_1(X[:, 2*i:2*(i+1)+1, 2*j:2*(j+1)+1])\n",
    "        temp = tf.keras.layers.Reshape((1,))(temp)\n",
    "        q_conv_layer_1_list += [temp]\n",
    "concat_layer_1 = tf.keras.layers.Concatenate(axis=1)(q_conv_layer_1_list)\n",
    "reshape_layer_1 = tf.keras.layers.Reshape((size_1, size_1))(concat_layer_1)\n",
    "\n",
    "qconv1_model = tf.keras.Model(inputs=X, outputs=reshape_layer_1)\n"
   ]
  },
  {
   "cell_type": "code",
   "execution_count": 31,
   "metadata": {},
   "outputs": [],
   "source": [
    "qconv1_model(X_train[0:1])\n",
    "qconv1_model.get_layer('Quantum_Conv_Layer_1').set_weights([qconv_1_weights])"
   ]
  },
  {
   "cell_type": "code",
   "execution_count": 32,
   "metadata": {},
   "outputs": [
    {
     "data": {
      "text/plain": [
       "[<tf.Variable 'model_1/Quantum_Conv_Layer_1/conv_params:0' shape=(2, 1, 9) dtype=float32, numpy=\n",
       " array([[[ 1.6704171 , -0.37210035, -1.4763509 , -0.09573141,\n",
       "          -1.4124248 , -0.5384489 , -1.5873678 , -0.4178921 ,\n",
       "           0.86764395]],\n",
       " \n",
       "        [[ 0.07841697,  0.06181896, -0.11658821,  0.08088297,\n",
       "          -0.22606611, -0.47507533,  0.20372277,  0.43287253,\n",
       "          -0.4662246 ]]], dtype=float32)>]"
      ]
     },
     "execution_count": 32,
     "metadata": {},
     "output_type": "execute_result"
    }
   ],
   "source": [
    "qconv1_model.weights"
   ]
  },
  {
   "cell_type": "code",
   "execution_count": 33,
   "metadata": {},
   "outputs": [
    {
     "name": "stdout",
     "output_type": "stream",
     "text": [
      "(40, 169) (40, 169)\n"
     ]
    }
   ],
   "source": [
    "preprocessed_img_train = qconv1_model(X_train)\n",
    "\n",
    "preprocessed_img_test = qconv1_model(X_test)\n",
    "\n",
    "data_train = preprocessed_img_train.numpy().reshape(-1, 13*13)\n",
    "np.savetxt('./2_QConv2ent_QFC-Filter1_Image_Train.txt', data_train)\n",
    "\n",
    "data_test = preprocessed_img_test.numpy().reshape(-1, 13*13)\n",
    "np.savetxt('./2_QConv2ent_QFC-Filter1_Image_Test.txt', data_test)\n",
    "\n",
    "print(data_train.shape, data_test.shape)"
   ]
  },
  {
   "cell_type": "markdown",
   "metadata": {},
   "source": [
    "## Second Layer"
   ]
  },
  {
   "cell_type": "code",
   "execution_count": 34,
   "metadata": {},
   "outputs": [
    {
     "data": {
      "text/plain": [
       "(2, 1, 9)"
      ]
     },
     "execution_count": 34,
     "metadata": {},
     "output_type": "execute_result"
    }
   ],
   "source": [
    "qconv_2_weights = np.array([[[ 2.531285  , -0.53907233,  1.2279214 , -0.04873934,\n",
    "          -1.9625113 , -0.31179625,  1.4537607 , -0.3272767 ,\n",
    "           1.5368826 ]],\n",
    " \n",
    "        [[ 0.8165296 ,  0.3640772 ,  1.7864715 ,  0.5245018 ,\n",
    "          -1.6975542 , -0.21682522,  2.097541  ,  0.49968052,\n",
    "           2.2059586 ]]])\n",
    "\n",
    "qconv_2_weights.shape"
   ]
  },
  {
   "cell_type": "code",
   "execution_count": 35,
   "metadata": {},
   "outputs": [],
   "source": [
    "# Input image, size = 27 x 27\n",
    "X = tf.keras.Input(shape=(27,27), name='Input_Layer')\n",
    "\n",
    "\n",
    "# Specs for Conv\n",
    "c_filter = 3\n",
    "c_strides = 2\n",
    "\n",
    "\n",
    "# First Quantum Conv Layer, trainable params = 18*L, output size = 13 x 13\n",
    "num_conv_layer_1 = 1\n",
    "q_conv_layer_1 = qml.qnn.KerasLayer(q_conv, {\"conv_params\": (2, num_conv_layer_1, 9)}, output_dim=(1), name='Quantum_Conv_Layer_1')\n",
    "size_1 = int(1+(X.shape[1]-c_filter)/c_strides)\n",
    "q_conv_layer_1_list = []\n",
    "# height iteration\n",
    "for i in range(size_1):\n",
    "    # width iteration\n",
    "    for j in range(size_1):\n",
    "        temp = q_conv_layer_1(X[:, 2*i:2*(i+1)+1, 2*j:2*(j+1)+1])\n",
    "        temp = tf.keras.layers.Reshape((1,))(temp)\n",
    "        q_conv_layer_1_list += [temp]\n",
    "concat_layer_1 = tf.keras.layers.Concatenate(axis=1)(q_conv_layer_1_list)\n",
    "reshape_layer_1 = tf.keras.layers.Reshape((size_1, size_1))(concat_layer_1)\n",
    "\n",
    "\n",
    "# Second Quantum Conv Layer, trainable params = 18*L, output size = 6 x 6\n",
    "num_conv_layer_2 = 1\n",
    "q_conv_layer_2 = qml.qnn.KerasLayer(q_conv, {\"conv_params\": (2, num_conv_layer_2, 9)}, output_dim=(1), name='Quantum_Conv_Layer_2')\n",
    "size_2 = int(1+(reshape_layer_1.shape[1]-c_filter)/c_strides)\n",
    "q_conv_layer_2_list = []\n",
    "# height iteration\n",
    "for i in range(size_2):\n",
    "    # width iteration\n",
    "    for j in range(size_2):\n",
    "        temp = q_conv_layer_2(reshape_layer_1[:, 2*i:2*(i+1)+1, 2*j:2*(j+1)+1])\n",
    "        temp = tf.keras.layers.Reshape((1,))(temp)\n",
    "        q_conv_layer_2_list += [temp]\n",
    "concat_layer_2 = tf.keras.layers.Concatenate(axis=1)(q_conv_layer_2_list)\n",
    "reshape_layer_2 = tf.keras.layers.Reshape((size_2, size_2, 1))(concat_layer_2)\n",
    "\n",
    "qconv2_model = tf.keras.Model(inputs=X, outputs=reshape_layer_2)\n"
   ]
  },
  {
   "cell_type": "code",
   "execution_count": 36,
   "metadata": {},
   "outputs": [],
   "source": [
    "qconv2_model(X_train[0:1])\n",
    "qconv2_model.get_layer('Quantum_Conv_Layer_1').set_weights([qconv_1_weights])\n",
    "qconv2_model.get_layer('Quantum_Conv_Layer_2').set_weights([qconv_2_weights])"
   ]
  },
  {
   "cell_type": "code",
   "execution_count": 37,
   "metadata": {},
   "outputs": [
    {
     "data": {
      "text/plain": [
       "[<tf.Variable 'model_2/Quantum_Conv_Layer_1/conv_params:0' shape=(2, 1, 9) dtype=float32, numpy=\n",
       " array([[[ 1.6704171 , -0.37210035, -1.4763509 , -0.09573141,\n",
       "          -1.4124248 , -0.5384489 , -1.5873678 , -0.4178921 ,\n",
       "           0.86764395]],\n",
       " \n",
       "        [[ 0.07841697,  0.06181896, -0.11658821,  0.08088297,\n",
       "          -0.22606611, -0.47507533,  0.20372277,  0.43287253,\n",
       "          -0.4662246 ]]], dtype=float32)>,\n",
       " <tf.Variable 'model_2/Quantum_Conv_Layer_2/conv_params:0' shape=(2, 1, 9) dtype=float32, numpy=\n",
       " array([[[ 2.531285  , -0.53907233,  1.2279214 , -0.04873934,\n",
       "          -1.9625113 , -0.31179625,  1.4537607 , -0.3272767 ,\n",
       "           1.5368826 ]],\n",
       " \n",
       "        [[ 0.8165296 ,  0.3640772 ,  1.7864715 ,  0.5245018 ,\n",
       "          -1.6975542 , -0.21682522,  2.097541  ,  0.49968052,\n",
       "           2.2059586 ]]], dtype=float32)>]"
      ]
     },
     "execution_count": 37,
     "metadata": {},
     "output_type": "execute_result"
    }
   ],
   "source": [
    "qconv2_model.weights"
   ]
  },
  {
   "cell_type": "code",
   "execution_count": 38,
   "metadata": {},
   "outputs": [
    {
     "name": "stdout",
     "output_type": "stream",
     "text": [
      "(40, 36) (40, 36)\n"
     ]
    }
   ],
   "source": [
    "preprocessed_img_train = qconv2_model(X_train)\n",
    "\n",
    "preprocessed_img_test = qconv2_model(X_test)\n",
    "\n",
    "data_train = preprocessed_img_train.numpy().reshape(-1, 6*6)\n",
    "np.savetxt('./2_QConv2ent_QFC-Filter2_Image_Train.txt', data_train)\n",
    "\n",
    "data_test = preprocessed_img_test.numpy().reshape(-1, 6*6)\n",
    "np.savetxt('./2_QConv2ent_QFC-Filter2_Image_Test.txt', data_test)\n",
    "\n",
    "print(data_train.shape, data_test.shape)"
   ]
  },
  {
   "cell_type": "markdown",
   "metadata": {},
   "source": [
    "## Quantum States"
   ]
  },
  {
   "cell_type": "code",
   "execution_count": 39,
   "metadata": {},
   "outputs": [
    {
     "data": {
      "text/plain": [
       "(2, 1, 9)"
      ]
     },
     "execution_count": 39,
     "metadata": {},
     "output_type": "execute_result"
    }
   ],
   "source": [
    "q_fc_weights = np.array([[[ 0.3726357 , -1.0686979 ,  0.24734715,  2.5706375 ,\n",
    "           3.4816115 , -0.3167716 ,  1.2021828 ,  0.19082105,\n",
    "           0.0209959 ]],\n",
    " \n",
    "        [[-0.213224  ,  1.235254  ,  2.298314  ,  2.2815244 ,\n",
    "          -1.1340573 ,  0.8286312 ,  0.6926544 , -1.0297745 ,\n",
    "           0.14662777]]])\n",
    "\n",
    "q_fc_weights.shape"
   ]
  },
  {
   "cell_type": "code",
   "execution_count": 40,
   "metadata": {},
   "outputs": [],
   "source": [
    "pred_train = model.predict(X_train)\n",
    "pred_test = model.predict(X_test)"
   ]
  },
  {
   "cell_type": "code",
   "execution_count": 41,
   "metadata": {},
   "outputs": [
    {
     "data": {
      "text/plain": [
       "tensor([0, 0, 0, 0, 0, 0, 0, 0, 0, 0, 0, 0, 0, 0, 0, 0, 0, 0, 0, 0, 1, 1,\n",
       "        1, 1, 1, 0, 1, 1, 1, 1, 1, 1, 1, 1, 1, 1, 1, 1, 1, 1], requires_grad=True)"
      ]
     },
     "execution_count": 41,
     "metadata": {},
     "output_type": "execute_result"
    }
   ],
   "source": [
    "np.argmax(pred_train, axis=1)"
   ]
  },
  {
   "cell_type": "code",
   "execution_count": 42,
   "metadata": {},
   "outputs": [
    {
     "data": {
      "text/plain": [
       "tensor([0, 0, 0, 0, 0, 0, 0, 0, 0, 0, 0, 0, 0, 0, 0, 0, 0, 0, 0, 0, 1, 1,\n",
       "        1, 1, 1, 1, 1, 1, 1, 1, 1, 1, 1, 1, 1, 1, 1, 1, 1, 1], requires_grad=True)"
      ]
     },
     "execution_count": 42,
     "metadata": {},
     "output_type": "execute_result"
    }
   ],
   "source": [
    "np.argmax(pred_test, axis=1)"
   ]
  },
  {
   "cell_type": "code",
   "execution_count": 43,
   "metadata": {},
   "outputs": [],
   "source": [
    "# Input image, size = 27 x 27\n",
    "X = tf.keras.Input(shape=(27,27), name='Input_Layer')\n",
    "\n",
    "\n",
    "# Specs for Conv\n",
    "c_filter = 3\n",
    "c_strides = 2\n",
    "\n",
    "\n",
    "# First Quantum Conv Layer, trainable params = 18*L, output size = 13 x 13\n",
    "num_conv_layer_1 = 1\n",
    "q_conv_layer_1 = qml.qnn.KerasLayer(q_conv, {\"conv_params\": (2, num_conv_layer_1, 9)}, output_dim=(1), name='Quantum_Conv_Layer_1')\n",
    "size_1 = int(1+(X.shape[1]-c_filter)/c_strides)\n",
    "q_conv_layer_1_list = []\n",
    "# height iteration\n",
    "for i in range(size_1):\n",
    "    # width iteration\n",
    "    for j in range(size_1):\n",
    "        temp = q_conv_layer_1(X[:, 2*i:2*(i+1)+1, 2*j:2*(j+1)+1])\n",
    "        temp = tf.keras.layers.Reshape((1,))(temp)\n",
    "        q_conv_layer_1_list += [temp]\n",
    "concat_layer_1 = tf.keras.layers.Concatenate(axis=1)(q_conv_layer_1_list)\n",
    "reshape_layer_1 = tf.keras.layers.Reshape((size_1, size_1))(concat_layer_1)\n",
    "\n",
    "\n",
    "# Second Quantum Conv Layer, trainable params = 18*L, output size = 6 x 6\n",
    "num_conv_layer_2 = 1\n",
    "q_conv_layer_2 = qml.qnn.KerasLayer(q_conv, {\"conv_params\": (2, num_conv_layer_2, 9)}, output_dim=(1), name='Quantum_Conv_Layer_2')\n",
    "size_2 = int(1+(reshape_layer_1.shape[1]-c_filter)/c_strides)\n",
    "q_conv_layer_2_list = []\n",
    "# height iteration\n",
    "for i in range(size_2):\n",
    "    # width iteration\n",
    "    for j in range(size_2):\n",
    "        temp = q_conv_layer_2(reshape_layer_1[:, 2*i:2*(i+1)+1, 2*j:2*(j+1)+1])\n",
    "        temp = tf.keras.layers.Reshape((1,))(temp)\n",
    "        q_conv_layer_2_list += [temp]\n",
    "concat_layer_2 = tf.keras.layers.Concatenate(axis=1)(q_conv_layer_2_list)\n",
    "reshape_layer_2 = tf.keras.layers.Reshape((size_2, size_2, 1))(concat_layer_2)\n",
    "\n",
    "\n",
    "# Max Pooling Layer, output size = 9\n",
    "max_pool_layer = tf.keras.layers.MaxPooling2D(pool_size=(2, 2), strides=None, name='Max_Pool_Layer')(reshape_layer_2)\n",
    "reshape_layer_3 = tf.keras.layers.Reshape((9,))(max_pool_layer)\n",
    "\n",
    "maxpool_model = tf.keras.Model(inputs=X, outputs=reshape_layer_3)\n"
   ]
  },
  {
   "cell_type": "code",
   "execution_count": 44,
   "metadata": {},
   "outputs": [],
   "source": [
    "maxpool_model(X_train[0:1])\n",
    "maxpool_model.get_layer('Quantum_Conv_Layer_1').set_weights([qconv_1_weights])\n",
    "maxpool_model.get_layer('Quantum_Conv_Layer_2').set_weights([qconv_2_weights])"
   ]
  },
  {
   "cell_type": "code",
   "execution_count": 45,
   "metadata": {},
   "outputs": [
    {
     "data": {
      "text/plain": [
       "(TensorShape([40, 9]), TensorShape([40, 9]))"
      ]
     },
     "execution_count": 45,
     "metadata": {},
     "output_type": "execute_result"
    }
   ],
   "source": [
    "maxpool_train = maxpool_model(X_train)\n",
    "maxpool_test = maxpool_model(X_test)\n",
    "\n",
    "maxpool_train.shape, maxpool_test.shape"
   ]
  },
  {
   "cell_type": "code",
   "execution_count": 46,
   "metadata": {},
   "outputs": [],
   "source": [
    "n_qubits = 1  # number of class\n",
    "dev_state = qml.device(\"default.qubit\", wires=n_qubits)\n",
    "\n",
    "\n",
    "@qml.qnode(dev_state)\n",
    "def q_fc_state(params, inputs):\n",
    "    \n",
    "    # layer iteration\n",
    "    for l in range(len(params[0])):\n",
    "        # qubit iteration\n",
    "        for q in range(n_qubits):\n",
    "            # gate iteration\n",
    "            for g in range(int(len(inputs)/3)):\n",
    "                qml.Rot(*(params[0][l][3*g:3*(g+1)] * inputs[3*g:3*(g+1)] + params[1][l][3*g:3*(g+1)]), wires=q)\n",
    "    \n",
    "    #return [qml.expval(qml.Hermitian(density_matrix(state_labels[i]), wires=[i])) for i in range(n_qubits)]\n",
    "    return qml.expval(qml.Hermitian(density_matrix(state_labels[0]), wires=[0]))"
   ]
  },
  {
   "cell_type": "code",
   "execution_count": 47,
   "metadata": {},
   "outputs": [
    {
     "data": {
      "text/plain": [
       "tensor(1., requires_grad=True)"
      ]
     },
     "execution_count": 47,
     "metadata": {},
     "output_type": "execute_result"
    }
   ],
   "source": [
    "q_fc_state(np.zeros((2,1,9)), maxpool_train[0])"
   ]
  },
  {
   "cell_type": "code",
   "execution_count": 48,
   "metadata": {},
   "outputs": [
    {
     "data": {
      "text/plain": [
       "tensor(0.95763762, requires_grad=True)"
      ]
     },
     "execution_count": 48,
     "metadata": {},
     "output_type": "execute_result"
    }
   ],
   "source": [
    "q_fc_state(q_fc_weights, maxpool_train[0])"
   ]
  },
  {
   "cell_type": "code",
   "execution_count": 49,
   "metadata": {},
   "outputs": [],
   "source": [
    "train_state = np.zeros((len(X_train), 2), dtype=np.complex_)\n",
    "test_state = np.zeros((len(X_test), 2), dtype=np.complex_)\n",
    "\n",
    "for i in range(len(train_state)):\n",
    "    \n",
    "    q_fc_state(q_fc_weights, maxpool_train[i])\n",
    "    temp = np.flip(dev_state._state)\n",
    "    train_state[i, :] = temp\n",
    "    \n",
    "    q_fc_state(q_fc_weights, maxpool_test[i])\n",
    "    temp = np.flip(dev_state._state)\n",
    "    test_state[i, :] = temp"
   ]
  },
  {
   "cell_type": "code",
   "execution_count": 50,
   "metadata": {},
   "outputs": [
    {
     "name": "stdout",
     "output_type": "stream",
     "text": [
      "[ True  True  True  True  True  True  True  True  True  True  True  True\n",
      "  True  True  True  True  True  True  True  True False False False False\n",
      " False  True False False False False False False False False False False\n",
      " False False False False]\n",
      "[ True  True  True  True  True  True  True  True  True  True  True  True\n",
      "  True  True  True  True  True  True  True  True False False False False\n",
      " False False False False False False False False False False False False\n",
      " False False False False]\n"
     ]
    }
   ],
   "source": [
    "# sanity check\n",
    "\n",
    "print(((np.conj(train_state) @ density_matrix(state_labels[0])) * train_state)[:, 0] > 0.5)\n",
    "\n",
    "print(((np.conj(test_state) @ density_matrix(state_labels[0])) * test_state)[:, 0] > 0.5)"
   ]
  },
  {
   "cell_type": "code",
   "execution_count": 51,
   "metadata": {},
   "outputs": [],
   "source": [
    "np.savetxt('./2_QConv2ent_QFC-State_Train.txt', train_state)\n",
    "np.savetxt('./2_QConv2ent_QFC-State_Test.txt', test_state)"
   ]
  },
  {
   "cell_type": "markdown",
   "metadata": {},
   "source": [
    "## Random Starting State"
   ]
  },
  {
   "cell_type": "code",
   "execution_count": 84,
   "metadata": {},
   "outputs": [],
   "source": [
    "# Input image, size = 27 x 27\n",
    "X = tf.keras.Input(shape=(27,27), name='Input_Layer')\n",
    "\n",
    "\n",
    "# Specs for Conv\n",
    "c_filter = 3\n",
    "c_strides = 2\n",
    "\n",
    "\n",
    "# First Quantum Conv Layer, trainable params = 18*L, output size = 13 x 13\n",
    "num_conv_layer_1 = 1\n",
    "q_conv_layer_1 = qml.qnn.KerasLayer(q_conv, {\"conv_params\": (2, num_conv_layer_1, 9)}, output_dim=(1), name='Quantum_Conv_Layer_1')\n",
    "size_1 = int(1+(X.shape[1]-c_filter)/c_strides)\n",
    "q_conv_layer_1_list = []\n",
    "# height iteration\n",
    "for i in range(size_1):\n",
    "    # width iteration\n",
    "    for j in range(size_1):\n",
    "        temp = q_conv_layer_1(X[:, 2*i:2*(i+1)+1, 2*j:2*(j+1)+1])\n",
    "        temp = tf.keras.layers.Reshape((1,))(temp)\n",
    "        q_conv_layer_1_list += [temp]\n",
    "concat_layer_1 = tf.keras.layers.Concatenate(axis=1)(q_conv_layer_1_list)\n",
    "reshape_layer_1 = tf.keras.layers.Reshape((size_1, size_1))(concat_layer_1)\n",
    "\n",
    "\n",
    "# Second Quantum Conv Layer, trainable params = 18*L, output size = 6 x 6\n",
    "num_conv_layer_2 = 1\n",
    "q_conv_layer_2 = qml.qnn.KerasLayer(q_conv, {\"conv_params\": (2, num_conv_layer_2, 9)}, output_dim=(1), name='Quantum_Conv_Layer_2')\n",
    "size_2 = int(1+(reshape_layer_1.shape[1]-c_filter)/c_strides)\n",
    "q_conv_layer_2_list = []\n",
    "# height iteration\n",
    "for i in range(size_2):\n",
    "    # width iteration\n",
    "    for j in range(size_2):\n",
    "        temp = q_conv_layer_2(reshape_layer_1[:, 2*i:2*(i+1)+1, 2*j:2*(j+1)+1])\n",
    "        temp = tf.keras.layers.Reshape((1,))(temp)\n",
    "        q_conv_layer_2_list += [temp]\n",
    "concat_layer_2 = tf.keras.layers.Concatenate(axis=1)(q_conv_layer_2_list)\n",
    "reshape_layer_2 = tf.keras.layers.Reshape((size_2, size_2, 1))(concat_layer_2)\n",
    "\n",
    "\n",
    "# Max Pooling Layer, output size = 9\n",
    "max_pool_layer = tf.keras.layers.MaxPooling2D(pool_size=(2, 2), strides=None, name='Max_Pool_Layer')(reshape_layer_2)\n",
    "reshape_layer_3 = tf.keras.layers.Reshape((9,))(max_pool_layer)\n",
    "\n",
    "\n",
    "# Quantum FC Layer, trainable params = 18*L*n_class + 2, output size = 2\n",
    "num_fc_layer = 1\n",
    "q_fc_layer_0 = qml.qnn.KerasLayer(q_fc, {\"params\": (2, num_fc_layer, 9)}, output_dim=2)(reshape_layer_3)\n",
    "\n",
    "# Alpha Layer\n",
    "alpha_layer_0 = class_weights()(q_fc_layer_0)\n",
    "\n",
    "model_random = tf.keras.Model(inputs=X, outputs=alpha_layer_0)\n",
    "model_maxpool_random = tf.keras.Model(inputs=X, outputs=reshape_layer_3)"
   ]
  },
  {
   "cell_type": "code",
   "execution_count": 85,
   "metadata": {},
   "outputs": [
    {
     "data": {
      "text/plain": [
       "[<tf.Variable 'model_8/Quantum_Conv_Layer_1/conv_params:0' shape=(2, 1, 9) dtype=float32, numpy=\n",
       " array([[[-0.4889698 ,  0.2380408 ,  0.09439629, -0.26716974,\n",
       "           0.02344316, -0.06644684, -0.3357206 ,  0.3326074 ,\n",
       "          -0.06934038]],\n",
       " \n",
       "        [[ 0.3830526 ,  0.23494643,  0.41627997,  0.35118043,\n",
       "          -0.42000604,  0.25128657,  0.5226568 , -0.27474615,\n",
       "          -0.485173  ]]], dtype=float32)>,\n",
       " <tf.Variable 'model_8/Quantum_Conv_Layer_2/conv_params:0' shape=(2, 1, 9) dtype=float32, numpy=\n",
       " array([[[-0.12407106,  0.4605006 , -0.05004978, -0.00949878,\n",
       "          -0.4083493 ,  0.18536532, -0.2448183 , -0.32981884,\n",
       "          -0.38940096]],\n",
       " \n",
       "        [[-0.45641547, -0.41075683,  0.4251256 , -0.17653632,\n",
       "           0.01394123,  0.12382543, -0.23449615,  0.47272468,\n",
       "           0.31813556]]], dtype=float32)>,\n",
       " <tf.Variable 'model_8/keras_layer_4/params:0' shape=(2, 1, 9) dtype=float32, numpy=\n",
       " array([[[-0.4163184 ,  0.29198825,  0.49920654,  0.33594978,\n",
       "          -0.49212807,  0.00343066,  0.30105686, -0.15320912,\n",
       "          -0.5011647 ]],\n",
       " \n",
       "        [[ 0.41882396,  0.17975801,  0.3508029 ,  0.37545007,\n",
       "          -0.37378743,  0.39107925, -0.3128681 , -0.22416279,\n",
       "          -0.00185567]]], dtype=float32)>,\n",
       " <tf.Variable 'Variable:0' shape=(1, 2) dtype=float32, numpy=array([[-0.02376454,  0.01928946]], dtype=float32)>]"
      ]
     },
     "execution_count": 85,
     "metadata": {},
     "output_type": "execute_result"
    }
   ],
   "source": [
    "model_random(X_train[0:1])\n",
    "model_random.weights"
   ]
  },
  {
   "cell_type": "code",
   "execution_count": 86,
   "metadata": {},
   "outputs": [],
   "source": [
    "random_weights = np.array([[[-0.4163184 ,  0.29198825,  0.49920654,  0.33594978,\n",
    "          -0.49212807,  0.00343066,  0.30105686, -0.15320912,\n",
    "          -0.5011647 ]],\n",
    " \n",
    "        [[ 0.41882396,  0.17975801,  0.3508029 ,  0.37545007,\n",
    "          -0.37378743,  0.39107925, -0.3128681 , -0.22416279,\n",
    "          -0.00185567]]])"
   ]
  },
  {
   "cell_type": "code",
   "execution_count": 87,
   "metadata": {},
   "outputs": [
    {
     "data": {
      "text/plain": [
       "(TensorShape([40, 9]), TensorShape([40, 9]))"
      ]
     },
     "execution_count": 87,
     "metadata": {},
     "output_type": "execute_result"
    }
   ],
   "source": [
    "maxpool_train = model_maxpool_random(X_train)\n",
    "maxpool_test = model_maxpool_random(X_test)\n",
    "\n",
    "maxpool_train.shape, maxpool_test.shape"
   ]
  },
  {
   "cell_type": "code",
   "execution_count": 88,
   "metadata": {},
   "outputs": [],
   "source": [
    "n_qubits = 1  # number of class\n",
    "dev_state = qml.device(\"default.qubit\", wires=n_qubits)\n",
    "\n",
    "\n",
    "@qml.qnode(dev_state)\n",
    "def q_fc_state(params, inputs):\n",
    "    \n",
    "    # layer iteration\n",
    "    for l in range(len(params[0])):\n",
    "        # qubit iteration\n",
    "        for q in range(n_qubits):\n",
    "            # gate iteration\n",
    "            for g in range(int(len(inputs)/3)):\n",
    "                qml.Rot(*(params[0][l][3*g:3*(g+1)] * inputs[3*g:3*(g+1)] + params[1][l][3*g:3*(g+1)]), wires=q)\n",
    "    \n",
    "    #return [qml.expval(qml.Hermitian(density_matrix(state_labels[i]), wires=[i])) for i in range(n_qubits)]\n",
    "    return qml.expval(qml.Hermitian(density_matrix(state_labels[0]), wires=[0]))"
   ]
  },
  {
   "cell_type": "code",
   "execution_count": 89,
   "metadata": {},
   "outputs": [
    {
     "data": {
      "text/plain": [
       "tensor(1., requires_grad=True)"
      ]
     },
     "execution_count": 89,
     "metadata": {},
     "output_type": "execute_result"
    }
   ],
   "source": [
    "q_fc_state(np.zeros((2,1,9)), maxpool_train[0])"
   ]
  },
  {
   "cell_type": "code",
   "execution_count": 92,
   "metadata": {},
   "outputs": [
    {
     "data": {
      "text/plain": [
       "tensor(0.75178797, requires_grad=True)"
      ]
     },
     "execution_count": 92,
     "metadata": {},
     "output_type": "execute_result"
    }
   ],
   "source": [
    "q_fc_state(random_weights, maxpool_train[21])"
   ]
  },
  {
   "cell_type": "code",
   "execution_count": 93,
   "metadata": {},
   "outputs": [],
   "source": [
    "train_state = np.zeros((len(X_train), 2), dtype=np.complex_)\n",
    "test_state = np.zeros((len(X_test), 2), dtype=np.complex_)\n",
    "\n",
    "for i in range(len(train_state)):\n",
    "    \n",
    "    q_fc_state(random_weights, maxpool_train[i])\n",
    "    temp = np.flip(dev_state._state)\n",
    "    train_state[i, :] = temp\n",
    "    \n",
    "    q_fc_state(random_weights, maxpool_test[i])\n",
    "    temp = np.flip(dev_state._state)\n",
    "    test_state[i, :] = temp"
   ]
  },
  {
   "cell_type": "code",
   "execution_count": 94,
   "metadata": {},
   "outputs": [
    {
     "name": "stdout",
     "output_type": "stream",
     "text": [
      "[ True  True  True  True  True  True  True  True  True  True  True  True\n",
      "  True  True  True  True  True  True  True  True  True  True  True  True\n",
      "  True  True  True  True  True  True  True  True  True  True  True  True\n",
      "  True  True  True  True]\n",
      "[ True  True  True  True  True  True  True  True  True  True  True  True\n",
      "  True  True  True  True  True  True  True  True  True  True  True  True\n",
      "  True  True  True  True  True  True  True  True  True  True  True  True\n",
      "  True  True  True  True]\n"
     ]
    }
   ],
   "source": [
    "# sanity check\n",
    "\n",
    "print(((np.conj(train_state) @ density_matrix(state_labels[0])) * train_state)[:, 0] > 0.5)\n",
    "\n",
    "print(((np.conj(test_state) @ density_matrix(state_labels[0])) * test_state)[:, 0] > 0.5)"
   ]
  },
  {
   "cell_type": "code",
   "execution_count": 95,
   "metadata": {},
   "outputs": [],
   "source": [
    "np.savetxt('./2_QConv2ent_QFC-RandomState_Train.txt', train_state)\n",
    "np.savetxt('./2_QConv2ent_QFC-RandomState_Test.txt', test_state)"
   ]
  },
  {
   "cell_type": "markdown",
   "metadata": {},
   "source": [
    "# Finish"
   ]
  },
  {
   "cell_type": "code",
   "execution_count": null,
   "metadata": {},
   "outputs": [],
   "source": []
  },
  {
   "cell_type": "code",
   "execution_count": null,
   "metadata": {},
   "outputs": [],
   "source": []
  },
  {
   "cell_type": "code",
   "execution_count": null,
   "metadata": {},
   "outputs": [],
   "source": []
  },
  {
   "cell_type": "code",
   "execution_count": null,
   "metadata": {},
   "outputs": [],
   "source": []
  },
  {
   "cell_type": "code",
   "execution_count": null,
   "metadata": {},
   "outputs": [],
   "source": []
  },
  {
   "cell_type": "code",
   "execution_count": null,
   "metadata": {},
   "outputs": [],
   "source": []
  },
  {
   "cell_type": "code",
   "execution_count": 76,
   "metadata": {},
   "outputs": [
    {
     "data": {
      "text/plain": [
       "{'loss': [0.7249730825424194,\n",
       "  0.485493928194046,\n",
       "  0.2910504639148712,\n",
       "  0.20750370621681213,\n",
       "  0.1200886219739914,\n",
       "  0.09333930909633636,\n",
       "  0.09352166950702667,\n",
       "  0.09991505742073059,\n",
       "  0.0711403489112854,\n",
       "  0.0675935298204422],\n",
       " 'accuracy': [0.5249999761581421,\n",
       "  0.6225000023841858,\n",
       "  0.7825000286102295,\n",
       "  0.8650000095367432,\n",
       "  0.9449999928474426,\n",
       "  0.9599999785423279,\n",
       "  0.9624999761581421,\n",
       "  0.9524999856948853,\n",
       "  0.9750000238418579,\n",
       "  0.9775000214576721],\n",
       " 'val_loss': [0.6175757646560669,\n",
       "  0.40504130721092224,\n",
       "  0.3411727547645569,\n",
       "  0.19497469067573547,\n",
       "  0.11362368613481522,\n",
       "  0.07933302223682404,\n",
       "  0.1450268030166626,\n",
       "  0.0960061326622963,\n",
       "  0.09231595695018768,\n",
       "  0.053687386214733124],\n",
       " 'val_accuracy': [0.5,\n",
       "  0.7300000190734863,\n",
       "  0.7400000095367432,\n",
       "  0.8700000047683716,\n",
       "  0.9449999928474426,\n",
       "  0.9800000190734863,\n",
       "  0.925000011920929,\n",
       "  0.9649999737739563,\n",
       "  0.9549999833106995,\n",
       "  0.9750000238418579]}"
      ]
     },
     "execution_count": 76,
     "metadata": {},
     "output_type": "execute_result"
    }
   ],
   "source": [
    "first_10_epoch = H.history\n",
    "first_10_epoch"
   ]
  },
  {
   "cell_type": "code",
   "execution_count": 77,
   "metadata": {},
   "outputs": [
    {
     "data": {
      "text/plain": [
       "[array([[[ 0.13920915, -0.7933977 ,  0.4931736 , -0.34984022,\n",
       "           0.41861725, -0.1258272 , -0.3323837 ,  1.4861933 ,\n",
       "           0.14679849]],\n",
       " \n",
       "        [[-0.48547882, -0.6672664 , -0.30831295,  0.31500554,\n",
       "           0.21519628, -0.09552038, -0.33133912,  0.8978053 ,\n",
       "          -0.38653338]]], dtype=float32),\n",
       " array([[[-0.04071528, -0.5614164 , -0.5472108 ,  0.32481748,\n",
       "          -0.1586527 ,  0.06802678, -0.04312551, -1.0716503 ,\n",
       "          -0.09168857]],\n",
       " \n",
       "        [[ 0.2695058 , -1.5634912 ,  0.20198631, -0.20597708,\n",
       "           0.06802317,  0.2522897 , -0.01191515,  0.5282674 ,\n",
       "          -0.3303873 ]]], dtype=float32),\n",
       " array([[[-0.1229878 ,  0.03982117, -0.29502654, -1.2658846 ,\n",
       "          -0.3401566 , -0.93464977,  1.1978221 , -0.24731389,\n",
       "          -0.51143396]],\n",
       " \n",
       "        [[-0.05537069, -1.3277841 , -0.7294856 , -0.740143  ,\n",
       "          -0.83612764,  0.6652604 ,  0.0570471 , -0.4578703 ,\n",
       "          -0.36179888]]], dtype=float32),\n",
       " array([[1.084761 , 1.0133266]], dtype=float32)]"
      ]
     },
     "execution_count": 77,
     "metadata": {},
     "output_type": "execute_result"
    }
   ],
   "source": [
    "# initial 10 epoch\n",
    "model.get_weights()"
   ]
  }
 ],
 "metadata": {
  "colab": {
   "collapsed_sections": [],
   "name": "Q Conv + DRC Keras MNIST (best).ipynb",
   "provenance": []
  },
  "kernelspec": {
   "display_name": "Python 3",
   "language": "python",
   "name": "python3"
  },
  "language_info": {
   "codemirror_mode": {
    "name": "ipython",
    "version": 3
   },
   "file_extension": ".py",
   "mimetype": "text/x-python",
   "name": "python",
   "nbconvert_exporter": "python",
   "pygments_lexer": "ipython3",
   "version": "3.8.6"
  }
 },
 "nbformat": 4,
 "nbformat_minor": 1
}
